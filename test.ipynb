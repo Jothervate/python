{
 "cells": [
  {
   "cell_type": "code",
   "execution_count": 1,
   "metadata": {},
   "outputs": [],
   "source": [
    "import re\n",
    "emailRegex = re.compile(r'''\n",
    "        [a-zA-Z0-9._%+-]+ #username\n",
    "        @                 #symbol\n",
    "        [a-zA-Z0-9.-]+    #domain name\n",
    "        (\\.[a-zA-Z]{2,4}){:3}\n",
    "\n",
    "''',re.VERBOSE)"
   ]
  },
  {
   "cell_type": "code",
   "execution_count": 13,
   "metadata": {},
   "outputs": [
    {
     "name": "stdout",
     "output_type": "stream",
     "text": [
      "文字最前面搜尋到Hello\n"
     ]
    }
   ],
   "source": [
    "import re\n",
    "\n",
    "strText = \"Hello Python Programming\"\n",
    "helloRegex = re.compile(r\"hello\",re.I)\n",
    "matchObjec = helloRegex.match(strText)\n",
    "if matchObjec is None:\n",
    "    print(\"文字最前面沒有搜尋到\")\n",
    "else:\n",
    "    print(\"文字最前面搜尋到%s\" % matchObjec.group())"
   ]
  },
  {
   "cell_type": "code",
   "execution_count": 15,
   "metadata": {},
   "outputs": [
    {
     "name": "stdout",
     "output_type": "stream",
     "text": [
      "matchObj.group() :  Cats are smarter than dogs\n",
      "matchObj.group(1) :  Cats\n",
      "matchObj.group(2) :  smarter\n"
     ]
    }
   ],
   "source": [
    "import re\n",
    "\n",
    "line = \"Cats are smarter than dogs\"\n",
    "catsRegex = re.compile(r'(.*) are (.*?) .*',re.M|re.I)\n",
    "\n",
    "matchObj = catsRegex.match(line)\n",
    "\n",
    "if matchObj:\n",
    "    print(\"matchObj.group() : \", matchObj.group())\n",
    "    print(\"matchObj.group(1) : \", matchObj.group(1))\n",
    "    print(\"matchObj.group(2) : \", matchObj.group(2))\n",
    "else:\n",
    "    print(\"No match!!\")\n",
    "\n"
   ]
  },
  {
   "cell_type": "code",
   "execution_count": 19,
   "metadata": {},
   "outputs": [
    {
     "name": "stdout",
     "output_type": "stream",
     "text": [
      "文字內搜尋到Programming\n",
      "文字內搜尋到的位置是 (13, 24)\n",
      "Programming\n"
     ]
    }
   ],
   "source": [
    "import re\n",
    "str = \"Hello Python Programming\"\n",
    "programRegex = re.compile(r\"programming\",re.I)\n",
    "searchObject = programRegex.search(str)\n",
    "if not searchObject:\n",
    "    print(\"文字內沒有搜尋到任何相同內容\")\n",
    "else:\n",
    "    print(\"文字內搜尋到%s\" % searchObject.group())\n",
    "    print(\"文字內搜尋到的位置是\",searchObject.span())\n",
    "    print(str[13:24])\n"
   ]
  },
  {
   "cell_type": "code",
   "execution_count": 20,
   "metadata": {},
   "outputs": [
    {
     "name": "stdout",
     "output_type": "stream",
     "text": [
      "None\n",
      "Hello\n"
     ]
    }
   ],
   "source": [
    "import re\n",
    "str = \"Hello Python Programming\"\n",
    "pRegex=re.compile(r\"^programming\",re.I)\n",
    "sobj = pRegex.search(str)\n",
    "print(sobj) #no match is found\n",
    "\n",
    "hRegex = re.compile(r\"^hello\",re.I)\n",
    "sobj = hRegex.search(str)\n",
    "print(sobj.group()) #matching: Hello"
   ]
  },
  {
   "cell_type": "code",
   "execution_count": 22,
   "metadata": {},
   "outputs": [
    {
     "name": "stdout",
     "output_type": "stream",
     "text": [
      "Programming\n",
      "None\n"
     ]
    }
   ],
   "source": [
    "import re\n",
    "str = \"Hello Python Programming\"\n",
    "pRegex=re.compile(r\"programming$\",re.I)\n",
    "sobj = pRegex.search(str)\n",
    "print(sobj.group()) #matching: Programming\n",
    "\n",
    "hRegex = re.compile(r\"^hello$\",re.I)\n",
    "sobj = hRegex.search(str)\n",
    "print(sobj) #no match found"
   ]
  },
  {
   "cell_type": "code",
   "execution_count": 23,
   "metadata": {},
   "outputs": [
    {
     "name": "stdout",
     "output_type": "stream",
     "text": [
      "1\n",
      "2\n"
     ]
    }
   ],
   "source": [
    "import re\n",
    "compPat = re.compile(r\"\\d\")\n",
    "sobj = compPat.search(\"Lalalala 123\")\n",
    "print(sobj.group())\n",
    "\n",
    "mobj = compPat.match(\"234Lalalala 123456789\")\n",
    "print(mobj.group())"
   ]
  },
  {
   "cell_type": "code",
   "execution_count": 27,
   "metadata": {},
   "outputs": [
    {
     "name": "stdout",
     "output_type": "stream",
     "text": [
      "None\n",
      "<re.Match object; span=(2, 3), match='l'>\n",
      "None\n"
     ]
    }
   ],
   "source": [
    "import re\n",
    "lRegx= re.compile(r\"L\")\n",
    "s = lRegx.search(\"Hello\")\n",
    "print(s)\t\t#Output: None, L is there but in small letter and we didn't use flags\n",
    "\n",
    "lRegx= re.compile(r\"L\",re.I)\n",
    "s = lRegx.search(\"Hello\")\n",
    "print(s)\t\t#Output: 1\n",
    "\n",
    "lRegx= re.compile(r\"^L\",re.I)\n",
    "s = lRegx.search(\"Hello\")\n",
    "print(s)  #Output:None\n",
    "\n"
   ]
  },
  {
   "cell_type": "code",
   "execution_count": 29,
   "metadata": {},
   "outputs": [
    {
     "name": "stdout",
     "output_type": "stream",
     "text": [
      "Working\n"
     ]
    }
   ],
   "source": [
    "import re\n",
    "s = \"Playing 4 hours a day\"\n",
    "regex = re.compile(r'^.*$')\n",
    "obj = regex.sub(\"Working\",s)\n",
    "print(obj)"
   ]
  },
  {
   "cell_type": "code",
   "execution_count": 31,
   "metadata": {},
   "outputs": [
    {
     "name": "stdout",
     "output_type": "stream",
     "text": [
      "<class 'str'>\n",
      "Playing 4 Working a day\n"
     ]
    }
   ],
   "source": [
    "import re\n",
    "s = \"Playing 4 hours a day\"\n",
    "regex = re.compile(r'hours')\n",
    "matchStr = regex.sub(\"Working\",s)\n",
    "print(matchStr.__class__)\n",
    "print(matchStr)"
   ]
  },
  {
   "cell_type": "code",
   "execution_count": 32,
   "metadata": {},
   "outputs": [
    {
     "name": "stdout",
     "output_type": "stream",
     "text": [
      " Working   five   hours   a  day\n"
     ]
    }
   ],
   "source": [
    "import re\n",
    "s = \"768 Working 2343 789 five 234 656 hours 324 4646 a 345 day\"\n",
    "regex =  re.compile(r'\\d')\n",
    "obj = regex.sub(\"\",s)\n",
    "print(obj)"
   ]
  }
 ],
 "metadata": {
  "kernelspec": {
   "display_name": "venv05",
   "language": "python",
   "name": "python3"
  },
  "language_info": {
   "codemirror_mode": {
    "name": "ipython",
    "version": 3
   },
   "file_extension": ".py",
   "mimetype": "text/x-python",
   "name": "python",
   "nbconvert_exporter": "python",
   "pygments_lexer": "ipython3",
   "version": "3.10.6"
  },
  "orig_nbformat": 4,
  "vscode": {
   "interpreter": {
    "hash": "85c44cad9f5d14724dda7a6d7f0e4971d2a809ed59c2c40b9225ea77a670a3d5"
   }
  }
 },
 "nbformat": 4,
 "nbformat_minor": 2
}
