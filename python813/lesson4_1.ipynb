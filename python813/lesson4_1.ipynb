{
 "cells": [
  {
   "cell_type": "code",
   "execution_count": 1,
   "id": "77963d03",
   "metadata": {},
   "outputs": [
    {
     "name": "stdout",
     "output_type": "stream",
     "text": [
      "請輸入第1位學生的成績:78\n",
      "請輸入第2位學生的成績:86\n",
      "請輸入第3位學生的成績:75\n",
      "請輸入第4位學生的成績:92\n",
      "請輸入第5位學生的成績:64\n",
      "全班的總成績:395,平均是:79.00\n"
     ]
    }
   ],
   "source": [
    "#小王班上有五位學生，請您為小王設計一個輸入成績的程式，並且在輸入成績後顯示班上總成績及平均成績。\n",
    "scores = 0\n",
    "score = int(input(\"請輸入第1位學生的成績:\"))\n",
    "scores += score\n",
    "\n",
    "score = int(input(\"請輸入第2位學生的成績:\"))\n",
    "scores += score\n",
    "\n",
    "score = int(input(\"請輸入第3位學生的成績:\"))\n",
    "scores += score\n",
    "\n",
    "score = int(input(\"請輸入第4位學生的成績:\"))\n",
    "scores += score\n",
    "\n",
    "score = int(input(\"請輸入第5位學生的成績:\"))\n",
    "scores += score\n",
    "\n",
    "print(f\"全班的總成績:{scores},平均是:{scores/5:.2f}\")"
   ]
  },
  {
   "cell_type": "code",
   "execution_count": 3,
   "id": "dfdeaef0",
   "metadata": {},
   "outputs": [
    {
     "name": "stdout",
     "output_type": "stream",
     "text": [
      "請輸入第1位學生的成績:78\n",
      "請輸入第2位學生的成績:68\n",
      "請輸入第3位學生的成績:54\n",
      "請輸入第4位學生的成績:76\n",
      "請輸入第5位學生的成績:75\n",
      "全班的總成績:351,平均是:70.20\n"
     ]
    }
   ],
   "source": [
    "#小王班上有五位學生，請您為小王設計一個輸入成績的程式，並且在輸入成績後顯示班上總成績及平均成績。\n",
    "scores = 0\n",
    "for i in range(1,6):\n",
    "    score = int(input(f\"請輸入第{i}位學生的成績:\"))\n",
    "    scores += score\n",
    "\n",
    "print(f\"全班的總成績:{scores},平均是:{scores/5:.2f}\")"
   ]
  },
  {
   "cell_type": "code",
   "execution_count": null,
   "id": "e9a056de",
   "metadata": {},
   "outputs": [],
   "source": []
  }
 ],
 "metadata": {
  "kernelspec": {
   "display_name": "Python 3 (ipykernel)",
   "language": "python",
   "name": "python3"
  },
  "language_info": {
   "codemirror_mode": {
    "name": "ipython",
    "version": 3
   },
   "file_extension": ".py",
   "mimetype": "text/x-python",
   "name": "python",
   "nbconvert_exporter": "python",
   "pygments_lexer": "ipython3",
   "version": "3.10.6"
  }
 },
 "nbformat": 4,
 "nbformat_minor": 5
}
