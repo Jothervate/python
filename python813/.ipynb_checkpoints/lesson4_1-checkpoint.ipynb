{
 "cells": [
  {
   "cell_type": "code",
   "execution_count": 1,
   "id": "da917d37",
   "metadata": {},
   "outputs": [
    {
     "name": "stdout",
     "output_type": "stream",
     "text": [
      "請輸入第1位學生的成績:78\n",
      "請輸入第2位學生的成績:86\n",
      "請輸入第3位學生的成績:75\n",
      "請輸入第4位學生的成績:92\n",
      "請輸入第5位學生的成績:64\n",
      "全班的總成績:395,平均是:79.00\n"
     ]
    }
   ],
   "source": [
    "#小王班上有五位學生，請您為小王設計一個輸入成績的程式，並且在輸入成績後顯示班上總成績及平均成績。\n",
    "scores = 0\n",
    "score = int(input(\"請輸入第1位學生的成績:\"))\n",
    "scores += score\n",
    "\n",
    "score = int(input(\"請輸入第2位學生的成績:\"))\n",
    "scores += score\n",
    "\n",
    "score = int(input(\"請輸入第3位學生的成績:\"))\n",
    "scores += score\n",
    "\n",
    "score = int(input(\"請輸入第4位學生的成績:\"))\n",
    "scores += score\n",
    "\n",
    "score = int(input(\"請輸入第5位學生的成績:\"))\n",
    "scores += score\n",
    "\n",
    "print(f\"全班的總成績:{scores},平均是:{scores/5:.2f}\")"
   ]
  },
  {
   "cell_type": "code",
   "execution_count": 3,
   "id": "872ecb4d",
   "metadata": {},
   "outputs": [
    {
     "name": "stdout",
     "output_type": "stream",
     "text": [
      "請輸入第1位學生的成績:78\n",
      "請輸入第2位學生的成績:68\n",
      "請輸入第3位學生的成績:54\n",
      "請輸入第4位學生的成績:76\n",
      "請輸入第5位學生的成績:75\n",
      "全班的總成績:351,平均是:70.20\n"
     ]
    }
   ],
   "source": [
    "#小王班上有五位學生，請您為小王設計一個輸入成績的程式，並且在輸入成績後顯示班上總成績及平均成績。\n",
    "scores = 0\n",
    "for i in range(1,6):\n",
    "    score = int(input(f\"請輸入第{i}位學生的成績:\"))\n",
    "    scores += score\n",
    "\n",
    "print(f\"全班的總成績:{scores},平均是:{scores/5:.2f}\")"
   ]
  },
  {
   "cell_type": "code",
   "execution_count": 6,
   "id": "58e04f90",
   "metadata": {},
   "outputs": [
    {
     "name": "stdout",
     "output_type": "stream",
     "text": [
      " 1 * 1= 1  1 * 2= 2  1 * 3= 3  1 * 4= 4  1 * 5= 5  1 * 6= 6  1 * 7= 7  1 * 8= 8  1 * 9= 9 \n",
      " 2 * 1= 2  2 * 2= 4  2 * 3= 6  2 * 4= 8  2 * 5=10  2 * 6=12  2 * 7=14  2 * 8=16  2 * 9=18 \n",
      " 3 * 1= 3  3 * 2= 6  3 * 3= 9  3 * 4=12  3 * 5=15  3 * 6=18  3 * 7=21  3 * 8=24  3 * 9=27 \n",
      " 4 * 1= 4  4 * 2= 8  4 * 3=12  4 * 4=16  4 * 5=20  4 * 6=24  4 * 7=28  4 * 8=32  4 * 9=36 \n",
      " 5 * 1= 5  5 * 2=10  5 * 3=15  5 * 4=20  5 * 5=25  5 * 6=30  5 * 7=35  5 * 8=40  5 * 9=45 \n",
      " 6 * 1= 6  6 * 2=12  6 * 3=18  6 * 4=24  6 * 5=30  6 * 6=36  6 * 7=42  6 * 8=48  6 * 9=54 \n",
      " 7 * 1= 7  7 * 2=14  7 * 3=21  7 * 4=28  7 * 5=35  7 * 6=42  7 * 7=49  7 * 8=56  7 * 9=63 \n",
      " 8 * 1= 8  8 * 2=16  8 * 3=24  8 * 4=32  8 * 5=40  8 * 6=48  8 * 7=56  8 * 8=64  8 * 9=72 \n",
      " 9 * 1= 9  9 * 2=18  9 * 3=27  9 * 4=36  9 * 5=45  9 * 6=54  9 * 7=63  9 * 8=72  9 * 9=81 \n"
     ]
    }
   ],
   "source": [
    "#巢狀迴圈\n",
    "for i in range(1,10):\n",
    "    for j in range(1,10):\n",
    "        print(f\"{i:2d} *{j:2d}={i*j:2d}\",end=' ')\n",
    "    print()"
   ]
  },
  {
   "cell_type": "code",
   "execution_count": 9,
   "id": "ba48b444",
   "metadata": {},
   "outputs": [
    {
     "name": "stdout",
     "output_type": "stream",
     "text": [
      "請輸入整數,求所有因數:1000\n",
      "1000的因數有:\n",
      "1 2 4 5 8 10 20 25 40 50 100 125 200 250 500 1000 "
     ]
    }
   ],
   "source": [
    "#求因數\n",
    "num = int(input(\"請輸入整數,求所有因數:\"))\n",
    "print(f\"{num}的因數有:\")\n",
    "for i in range(1,num+1):\n",
    "    if num % i == 0:\n",
    "        print(i,end=\" \")"
   ]
  },
  {
   "cell_type": "code",
   "execution_count": 12,
   "id": "dccac2fa",
   "metadata": {},
   "outputs": [
    {
     "name": "stdout",
     "output_type": "stream",
     "text": [
      "請輸入第1月份存款:4567\n",
      "請輸入第2月份存款:4567\n",
      "請輸入第3月份存款:5678\n",
      "請輸入第4月份存款:6789\n",
      "請輸入第5月份存款:7890\n",
      "請輸入第6月份存款:4567\n",
      "恭喜! 已經存夠了,存了6個月,總存款為:34058\n"
     ]
    }
   ],
   "source": [
    "#小明想要存錢買一輛機車,機車每輛30000元，他將每月存的錢輸入，當存款足夠買機車時，就顯示提示訊息告知。\n",
    "deposit = 0\n",
    "months = 0\n",
    "while deposit < 30000:\n",
    "    value = int(input(f'請輸入第{months+1}月份存款:'))\n",
    "    months += 1\n",
    "    deposit += value\n",
    "\n",
    "print(f\"恭喜! 已經存夠了,存了{months}個月,總存款為:{deposit}\")"
   ]
  },
  {
   "cell_type": "code",
   "execution_count": null,
   "id": "9ff2b356",
   "metadata": {},
   "outputs": [],
   "source": []
  }
 ],
 "metadata": {
  "kernelspec": {
   "display_name": "Python 3 (ipykernel)",
   "language": "python",
   "name": "python3"
  },
  "language_info": {
   "codemirror_mode": {
    "name": "ipython",
    "version": 3
   },
   "file_extension": ".py",
   "mimetype": "text/x-python",
   "name": "python",
   "nbconvert_exporter": "python",
   "pygments_lexer": "ipython3",
   "version": "3.10.6"
  }
 },
 "nbformat": 4,
 "nbformat_minor": 5
}
