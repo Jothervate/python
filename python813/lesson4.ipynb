{
 "cells": [
  {
   "cell_type": "code",
   "execution_count": 5,
   "id": "fda96283",
   "metadata": {},
   "outputs": [
    {
     "name": "stdout",
     "output_type": "stream",
     "text": [
      "Python 3.10.6\r\n"
     ]
    }
   ],
   "source": [
    "!python3 --version"
   ]
  },
  {
   "cell_type": "code",
   "execution_count": null,
   "id": "1f79934f",
   "metadata": {},
   "outputs": [],
   "source": [
    "#梯形面積\n",
    "top = int(input(\"請輸入上底:\"))\n",
    "bottom = int(input(\"請輸入下底:\"))\n",
    "height = int(input(\"請輸入高:\"))\n",
    "area = (top + bottom) * height / 2\n",
    "print(f\"上底:{top},下底:{bottom},高:{height},面積:{area}\")"
   ]
  },
  {
   "cell_type": "code",
   "execution_count": 2,
   "id": "465106bf",
   "metadata": {},
   "outputs": [
    {
     "name": "stdout",
     "output_type": "stream",
     "text": [
      "請輸入上底:12.4\n",
      "請輸入下底:34.5\n",
      "請輸入高:10\n",
      "上底:12.4,下底:34.5,高:10.0,面積:234.5\n"
     ]
    }
   ],
   "source": [
    "#梯形面積\n",
    "top = float(input(\"請輸入上底:\"))\n",
    "bottom = float(input(\"請輸入下底:\"))\n",
    "height = float(input(\"請輸入高:\"))\n",
    "area = (top + bottom) * height / 2\n",
    "print(f\"上底:{top},下底:{bottom},高:{height},面積:{area}\")"
   ]
  },
  {
   "cell_type": "code",
   "execution_count": 5,
   "id": "fca676b3",
   "metadata": {},
   "outputs": [
    {
     "name": "stdout",
     "output_type": "stream",
     "text": [
      "3+4\n",
      "7\n",
      "7\n"
     ]
    }
   ],
   "source": [
    "#eval()\n",
    "print(\"3+4\")\n",
    "print(3+4)\n",
    "print(eval(\"3+4\"))"
   ]
  },
  {
   "cell_type": "code",
   "execution_count": 6,
   "id": "f417d2a4",
   "metadata": {},
   "outputs": [
    {
     "name": "stdout",
     "output_type": "stream",
     "text": [
      "請輸入上底:5.7\n",
      "請輸入下底:3.7\n",
      "請輸入高:5\n",
      "上底:5.7,下底:3.7,高:5,面積:23.5\n"
     ]
    }
   ],
   "source": [
    "#梯形面積\n",
    "top = eval(input(\"請輸入上底:\"))\n",
    "bottom = eval(input(\"請輸入下底:\"))\n",
    "height = eval(input(\"請輸入高:\"))\n",
    "area = (top + bottom) * height / 2\n",
    "print(f\"上底:{top},下底:{bottom},高:{height},面積:{area}\")"
   ]
  },
  {
   "cell_type": "code",
   "execution_count": 8,
   "id": "ec7d8abe",
   "metadata": {},
   "outputs": [
    {
     "name": "stdout",
     "output_type": "stream",
     "text": [
      "3.141592654\n"
     ]
    }
   ],
   "source": [
    "import math\n",
    "print(f\"{math.pi:.9f}\") #字串插補,限定格式"
   ]
  },
  {
   "cell_type": "code",
   "execution_count": null,
   "id": "0c747b57",
   "metadata": {},
   "outputs": [],
   "source": []
  }
 ],
 "metadata": {
  "kernelspec": {
   "display_name": "Python 3 (ipykernel)",
   "language": "python",
   "name": "python3"
  },
  "language_info": {
   "codemirror_mode": {
    "name": "ipython",
    "version": 3
   },
   "file_extension": ".py",
   "mimetype": "text/x-python",
   "name": "python",
   "nbconvert_exporter": "python",
   "pygments_lexer": "ipython3",
   "version": "3.10.6"
  }
 },
 "nbformat": 4,
 "nbformat_minor": 5
}
