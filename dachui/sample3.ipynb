{
 "cells": [
  {
   "cell_type": "code",
   "execution_count": 1,
   "metadata": {},
   "outputs": [
    {
     "name": "stdout",
     "output_type": "stream",
     "text": [
      "6\n",
      "5\n",
      "4\n",
      "3\n",
      "2\n",
      "1\n",
      "程式結束\n"
     ]
    }
   ],
   "source": [
    "a = 6\n",
    "while a > 0:\n",
    "    print(a)\n",
    "    a -= 1\n",
    "print(\"程式結束\")"
   ]
  },
  {
   "cell_type": "code",
   "execution_count": 2,
   "metadata": {},
   "outputs": [
    {
     "name": "stdout",
     "output_type": "stream",
     "text": [
      "第1次迴圈的i=2,總和為2\n",
      "第2次迴圈的i=4,總和為6\n",
      "第3次迴圈的i=6,總和為12\n",
      "第4次迴圈的i=8,總和為20\n",
      "第5次迴圈的i=10,總和為30\n"
     ]
    }
   ],
   "source": [
    "#計算2 - 10所有偶數的總和\n",
    "i = 2\n",
    "sum = 0\n",
    "while(i <= 10):\n",
    "    sum += i\n",
    "    print(\"第%d次迴圈的i=%d,總和為%d\" % (i//2, i, sum))\n",
    "    i += 2"
   ]
  },
  {
   "cell_type": "code",
   "execution_count": null,
   "metadata": {},
   "outputs": [],
   "source": []
  }
 ],
 "metadata": {
  "kernelspec": {
   "display_name": "Python 3",
   "language": "python",
   "name": "python3"
  },
  "language_info": {
   "codemirror_mode": {
    "name": "ipython",
    "version": 3
   },
   "file_extension": ".py",
   "mimetype": "text/x-python",
   "name": "python",
   "nbconvert_exporter": "python",
   "pygments_lexer": "ipython3",
   "version": "3.8.5"
  }
 },
 "nbformat": 4,
 "nbformat_minor": 4
}
