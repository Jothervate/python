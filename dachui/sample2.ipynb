{
 "cells": [
  {
   "cell_type": "code",
   "execution_count": null,
   "metadata": {},
   "outputs": [],
   "source": [
    "a = 100\n",
    "type(a)"
   ]
  },
  {
   "cell_type": "code",
   "execution_count": null,
   "metadata": {},
   "outputs": [],
   "source": [
    "a = '100'\n",
    "type(a)"
   ]
  },
  {
   "cell_type": "code",
   "execution_count": null,
   "metadata": {},
   "outputs": [],
   "source": [
    "a = True\n",
    "type(a)"
   ]
  },
  {
   "cell_type": "code",
   "execution_count": null,
   "metadata": {},
   "outputs": [],
   "source": [
    "a = 3.14159\n",
    "type(a)"
   ]
  },
  {
   "cell_type": "code",
   "execution_count": null,
   "metadata": {},
   "outputs": [],
   "source": [
    "say1 = \"Hello! \"\n",
    "say2 = \"Robert\"\n",
    "say1 + say2"
   ]
  },
  {
   "cell_type": "code",
   "execution_count": null,
   "metadata": {},
   "outputs": [],
   "source": [
    "var1 = 20\n",
    "var2 = 3.14159\n",
    "print(\"var1=\" + str(var1) + \",var2=\" + str(var2)) #一個參數\n",
    "print(\"var1=\",var1, \",var2=\", var2, sep='') #多個參數\n",
    "print(\"var1=%d,var2=%.2f\" % (var1, var2)) #一個參數\n",
    "print(\"var1={:d},var2={:.2f}\".format(var1, var2)) #一個參數"
   ]
  },
  {
   "cell_type": "code",
   "execution_count": null,
   "metadata": {},
   "outputs": [],
   "source": [
    "a = 5\n",
    "b = \"5\"\n",
    "c = 3.14159\n",
    "print(a, b, c)\n"
   ]
  },
  {
   "cell_type": "code",
   "execution_count": null,
   "metadata": {},
   "outputs": [],
   "source": [
    "5+9+3"
   ]
  },
  {
   "cell_type": "code",
   "execution_count": null,
   "metadata": {},
   "outputs": [],
   "source": [
    "6*7"
   ]
  },
  {
   "cell_type": "code",
   "execution_count": null,
   "metadata": {},
   "outputs": [],
   "source": [
    "8/2"
   ]
  },
  {
   "cell_type": "code",
   "execution_count": null,
   "metadata": {},
   "outputs": [],
   "source": [
    "9//2"
   ]
  },
  {
   "cell_type": "code",
   "execution_count": null,
   "metadata": {},
   "outputs": [],
   "source": [
    "5/0"
   ]
  },
  {
   "cell_type": "code",
   "execution_count": null,
   "metadata": {},
   "outputs": [],
   "source": [
    "9%5"
   ]
  },
  {
   "cell_type": "code",
   "execution_count": null,
   "metadata": {},
   "outputs": [],
   "source": [
    "2+3*4"
   ]
  },
  {
   "cell_type": "code",
   "execution_count": null,
   "metadata": {},
   "outputs": [],
   "source": [
    "2 * (1+2) ** 2 - 2 ** 2 * 2"
   ]
  },
  {
   "cell_type": "code",
   "execution_count": null,
   "metadata": {},
   "outputs": [],
   "source": [
    "googol = 10**100\n",
    "googol * googol"
   ]
  },
  {
   "cell_type": "code",
   "execution_count": null,
   "metadata": {},
   "outputs": [],
   "source": [
    "'Snap'"
   ]
  },
  {
   "cell_type": "code",
   "execution_count": null,
   "metadata": {},
   "outputs": [],
   "source": [
    "\"Crackle\""
   ]
  },
  {
   "cell_type": "code",
   "execution_count": null,
   "metadata": {},
   "outputs": [],
   "source": [
    "print(\"'Nay', said the naysayer.\")"
   ]
  },
  {
   "cell_type": "code",
   "execution_count": null,
   "metadata": {},
   "outputs": [],
   "source": [
    "print(\"'Nay', said \\\"the\\\" naysayer.\")"
   ]
  },
  {
   "cell_type": "code",
   "execution_count": null,
   "metadata": {},
   "outputs": [],
   "source": [
    "print(\"'Nay', said3\\\\5 naysayer.\")"
   ]
  },
  {
   "cell_type": "code",
   "execution_count": null,
   "metadata": {},
   "outputs": [],
   "source": [
    "poem = \"Apple Arcade 推出的最新遊\\\n",
    "戲《Next Stop Nowhere》，由位於洛杉磯的開\\\n",
    "發商 Night School Studio 出品。這款遊戲是\\\n",
    "太空公路之旅的夥伴冒險，其中不同角色間展開了\\\n",
    "一些精彩的劇情。在銀河系的外圍，每個人和所有\\\n",
    "事物之間都有充分的空間，Night School 希\\\n",
    "望這款遊戲可為近來可能感到孤立的玩家提供一些慰藉。\"\n",
    "poem"
   ]
  },
  {
   "cell_type": "code",
   "execution_count": null,
   "metadata": {},
   "outputs": [],
   "source": [
    "poem = '''Apple Arcade 推出的最新遊戲\n",
    "《Next Stop Nowhere》，由位於洛杉磯\n",
    "的開發商 Night School Studio 出品。\n",
    "這款遊戲是太空公路之旅的夥伴冒險，其\n",
    "中不同角色間展開了一些精彩的劇情。在銀\n",
    "河系的外圍，每個人和所有事物之間都有充\n",
    "分的空間，Night School 希望這款遊戲可\n",
    "為近來可能感到孤立的玩家提供一些慰藉。'''\n",
    "\n",
    "print(poem)"
   ]
  },
  {
   "cell_type": "code",
   "execution_count": null,
   "metadata": {},
   "outputs": [],
   "source": [
    "a=input(\"輸入整數1a:\")\n",
    "b=input(\"輸入整數1b:\")\n",
    "a+b"
   ]
  },
  {
   "cell_type": "code",
   "execution_count": null,
   "metadata": {},
   "outputs": [],
   "source": [
    "a=int(input(\"輸入整數1a:\"))\n",
    "b=int(input(\"輸入整數1b:\"))\n",
    "a+b"
   ]
  },
  {
   "cell_type": "code",
   "execution_count": null,
   "metadata": {},
   "outputs": [],
   "source": [
    "x = 0\n",
    "#x = x+2\n",
    "#複合指定運算子\n",
    "x += 2\n",
    "x *= 5\n",
    "x *= 10\n",
    "x\n",
    "\n"
   ]
  },
  {
   "cell_type": "code",
   "execution_count": null,
   "metadata": {},
   "outputs": [],
   "source": [
    "money = 50000\n",
    "cell=int(input(\"請輸入手機金額:\"))\n",
    "money -= cell\n",
    "print(\"剩餘款為:%d\" % money)"
   ]
  },
  {
   "cell_type": "code",
   "execution_count": null,
   "metadata": {},
   "outputs": [],
   "source": [
    "#請以(複合指定運算子)設計程式,讓用者輸入三個任意數，程式會顯示3數相加的總和(float)\n",
    "sum = 0\n",
    "inputValue = float(input(\"請輸入第一個數:\"))\n",
    "sum += inputValue\n",
    "\n",
    "inputValue = float(input(\"請輸入第二個數:\"))\n",
    "sum += inputValue\n",
    "\n",
    "inputValue = float(input(\"請輸入第三個數:\"))\n",
    "sum += inputValue\n",
    "sum"
   ]
  },
  {
   "cell_type": "code",
   "execution_count": null,
   "metadata": {},
   "outputs": [],
   "source": [
    "#讓使用者輸入梯形的上底、下底及高，程式會計算梯形的面積(上底加下底乘以高除以2)\n",
    "top = float(input(\"請輸入梯形的上底(公分):\"))\n",
    "bottom = float(input(\"請輸入梯形的下底(公分):\"))\n",
    "height = float(input(\"請輸入梯形的高(公分):\"))\n",
    "\n",
    "area = (top + bottom) * height / 2\n",
    "print(\"梯形的面積:{:.2f}平方公分\".format(area))"
   ]
  },
  {
   "cell_type": "code",
   "execution_count": null,
   "metadata": {},
   "outputs": [],
   "source": [
    "import numpy"
   ]
  },
  {
   "cell_type": "code",
   "execution_count": null,
   "metadata": {},
   "outputs": [],
   "source": [
    "from decimal import Decimal\n",
    "top = Decimal(input(\"請輸入梯形的上底(公分):\"))\n",
    "bottom = Decimal(input(\"請輸入梯形的下底(公分):\"))\n",
    "height = Decimal(input(\"請輸入梯形的高(公分):\"))\n",
    "\n",
    "area = (top + bottom) * height / 2\n",
    "print(\"梯形的面積:{:.2f}平方公分\".format(area))"
   ]
  },
  {
   "cell_type": "code",
   "execution_count": 1,
   "metadata": {
    "scrolled": true
   },
   "outputs": [
    {
     "name": "stdout",
     "output_type": "stream",
     "text": [
      "請輸入第一個數:21.1\n",
      "請輸入第二個數:21.1\n",
      "請輸入第三個數:21.1\n",
      "63.3\n"
     ]
    }
   ],
   "source": [
    "from decimal import Decimal\n",
    "#請以(複合指定運算子)設計程式,讓用者輸入三個任意數，程式會顯示3數相加的總和(float)\n",
    "sum = 0\n",
    "inputValue = Decimal(input(\"請輸入第一個數:\"))\n",
    "sum += inputValue\n",
    "\n",
    "inputValue = Decimal(input(\"請輸入第二個數:\"))\n",
    "sum += inputValue\n",
    "\n",
    "inputValue = Decimal(input(\"請輸入第三個數:\"))\n",
    "sum += inputValue\n",
    "print(sum)"
   ]
  },
  {
   "cell_type": "code",
   "execution_count": null,
   "metadata": {},
   "outputs": [],
   "source": [
    "a = 21\n",
    "if a>18:\n",
    "    print(\"大於18\")\n",
    "else:\n",
    "    print(\"小於等於18\")\n",
    "print()"
   ]
  }
 ],
 "metadata": {
  "kernelspec": {
   "display_name": "Python 3",
   "language": "python",
   "name": "python3"
  },
  "language_info": {
   "codemirror_mode": {
    "name": "ipython",
    "version": 3
   },
   "file_extension": ".py",
   "mimetype": "text/x-python",
   "name": "python",
   "nbconvert_exporter": "python",
   "pygments_lexer": "ipython3",
   "version": "3.8.5"
  }
 },
 "nbformat": 4,
 "nbformat_minor": 4
}
