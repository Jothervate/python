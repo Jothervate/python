{
 "cells": [
  {
   "cell_type": "code",
   "execution_count": 1,
   "metadata": {},
   "outputs": [
    {
     "data": {
      "text/plain": [
       "[]"
      ]
     },
     "execution_count": 1,
     "metadata": {},
     "output_type": "execute_result"
    }
   ],
   "source": [
    "empty_list = []\n",
    "empty_list"
   ]
  },
  {
   "cell_type": "code",
   "execution_count": 2,
   "metadata": {},
   "outputs": [
    {
     "data": {
      "text/plain": [
       "[]"
      ]
     },
     "execution_count": 2,
     "metadata": {},
     "output_type": "execute_result"
    }
   ],
   "source": [
    "empty_list = list()\n",
    "empty_list"
   ]
  },
  {
   "cell_type": "code",
   "execution_count": 3,
   "metadata": {},
   "outputs": [
    {
     "data": {
      "text/plain": [
       "[1, 2, 3]"
      ]
     },
     "execution_count": 3,
     "metadata": {},
     "output_type": "execute_result"
    }
   ],
   "source": [
    "empty_list = [1, 2, 3]\n",
    "empty_list"
   ]
  },
  {
   "cell_type": "code",
   "execution_count": 5,
   "metadata": {},
   "outputs": [
    {
     "data": {
      "text/plain": [
       "[1,\n",
       " 2,\n",
       " 3,\n",
       " 4,\n",
       " 5,\n",
       " 6,\n",
       " 7,\n",
       " 8,\n",
       " 9,\n",
       " 10,\n",
       " 11,\n",
       " 12,\n",
       " 13,\n",
       " 14,\n",
       " 15,\n",
       " 16,\n",
       " 17,\n",
       " 18,\n",
       " 19,\n",
       " 20,\n",
       " 21,\n",
       " 22,\n",
       " 23,\n",
       " 24,\n",
       " 25,\n",
       " 26,\n",
       " 27,\n",
       " 28,\n",
       " 29,\n",
       " 30,\n",
       " 31,\n",
       " 32,\n",
       " 33,\n",
       " 34,\n",
       " 35,\n",
       " 36,\n",
       " 37,\n",
       " 38,\n",
       " 39,\n",
       " 40,\n",
       " 41,\n",
       " 42,\n",
       " 43,\n",
       " 44,\n",
       " 45,\n",
       " 46,\n",
       " 47,\n",
       " 48,\n",
       " 49,\n",
       " 50,\n",
       " 51,\n",
       " 52,\n",
       " 53,\n",
       " 54,\n",
       " 55,\n",
       " 56,\n",
       " 57,\n",
       " 58,\n",
       " 59,\n",
       " 60,\n",
       " 61,\n",
       " 62,\n",
       " 63,\n",
       " 64,\n",
       " 65,\n",
       " 66,\n",
       " 67,\n",
       " 68,\n",
       " 69,\n",
       " 70,\n",
       " 71,\n",
       " 72,\n",
       " 73,\n",
       " 74,\n",
       " 75,\n",
       " 76,\n",
       " 77,\n",
       " 78,\n",
       " 79,\n",
       " 80,\n",
       " 81,\n",
       " 82,\n",
       " 83,\n",
       " 84,\n",
       " 85,\n",
       " 86,\n",
       " 87,\n",
       " 88,\n",
       " 89,\n",
       " 90,\n",
       " 91,\n",
       " 92,\n",
       " 93,\n",
       " 94,\n",
       " 95,\n",
       " 96,\n",
       " 97,\n",
       " 98,\n",
       " 99]"
      ]
     },
     "execution_count": 5,
     "metadata": {},
     "output_type": "execute_result"
    }
   ],
   "source": [
    "a99 = list(range(1,100))\n",
    "a99"
   ]
  },
  {
   "cell_type": "code",
   "execution_count": 7,
   "metadata": {},
   "outputs": [
    {
     "data": {
      "text/plain": [
       "[81,\n",
       " 52,\n",
       " 64,\n",
       " 92,\n",
       " 91,\n",
       " 80,\n",
       " 75,\n",
       " 80,\n",
       " 83,\n",
       " 97,\n",
       " 75,\n",
       " 64,\n",
       " 56,\n",
       " 57,\n",
       " 59,\n",
       " 98,\n",
       " 95,\n",
       " 73,\n",
       " 99,\n",
       " 61,\n",
       " 63,\n",
       " 64,\n",
       " 56,\n",
       " 96,\n",
       " 67,\n",
       " 89,\n",
       " 73,\n",
       " 97,\n",
       " 90,\n",
       " 78,\n",
       " 72,\n",
       " 89,\n",
       " 68,\n",
       " 73,\n",
       " 69,\n",
       " 74,\n",
       " 95,\n",
       " 80,\n",
       " 92,\n",
       " 60,\n",
       " 96,\n",
       " 60,\n",
       " 81,\n",
       " 91,\n",
       " 58,\n",
       " 87,\n",
       " 85,\n",
       " 76,\n",
       " 82,\n",
       " 91,\n",
       " 63,\n",
       " 67,\n",
       " 96,\n",
       " 53,\n",
       " 61,\n",
       " 98,\n",
       " 80,\n",
       " 50,\n",
       " 72,\n",
       " 58,\n",
       " 94,\n",
       " 62,\n",
       " 91,\n",
       " 87,\n",
       " 81,\n",
       " 86,\n",
       " 62,\n",
       " 50,\n",
       " 88,\n",
       " 83,\n",
       " 63,\n",
       " 85,\n",
       " 92,\n",
       " 80,\n",
       " 92,\n",
       " 81,\n",
       " 66,\n",
       " 89,\n",
       " 84,\n",
       " 69,\n",
       " 85,\n",
       " 77,\n",
       " 96,\n",
       " 55,\n",
       " 89,\n",
       " 73,\n",
       " 66,\n",
       " 76,\n",
       " 52,\n",
       " 89,\n",
       " 73,\n",
       " 75,\n",
       " 83,\n",
       " 68,\n",
       " 67,\n",
       " 61,\n",
       " 52,\n",
       " 61,\n",
       " 66,\n",
       " 62]"
      ]
     },
     "execution_count": 7,
     "metadata": {},
     "output_type": "execute_result"
    }
   ],
   "source": [
    "import random\n",
    "scores = []\n",
    "for i in range(100):\n",
    "    scores += [random.randint(50,100)]\n",
    "scores"
   ]
  },
  {
   "cell_type": "code",
   "execution_count": null,
   "metadata": {},
   "outputs": [],
   "source": []
  }
 ],
 "metadata": {
  "kernelspec": {
   "display_name": "Python 3",
   "language": "python",
   "name": "python3"
  },
  "language_info": {
   "codemirror_mode": {
    "name": "ipython",
    "version": 3
   },
   "file_extension": ".py",
   "mimetype": "text/x-python",
   "name": "python",
   "nbconvert_exporter": "python",
   "pygments_lexer": "ipython3",
   "version": "3.8.5"
  }
 },
 "nbformat": 4,
 "nbformat_minor": 4
}
