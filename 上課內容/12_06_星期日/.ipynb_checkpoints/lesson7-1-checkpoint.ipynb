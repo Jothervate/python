{
 "cells": [
  {
   "cell_type": "code",
   "execution_count": 1,
   "metadata": {},
   "outputs": [
    {
     "name": "stdout",
     "output_type": "stream",
     "text": [
      "{}\n"
     ]
    }
   ],
   "source": [
    "#空的Dictionary\n",
    "\n",
    "empty_dict = {}\n",
    "print(empty_dict)"
   ]
  },
  {
   "cell_type": "code",
   "execution_count": 2,
   "metadata": {},
   "outputs": [
    {
     "data": {
      "text/plain": [
       "3"
      ]
     },
     "execution_count": 2,
     "metadata": {},
     "output_type": "execute_result"
    }
   ],
   "source": [
    "#使用純值表示法建立\n",
    "codes = {\"tw\": \"Taiwan\", \"jp\":\"Japan\", \"hk\":\"Hong Kong\"}\n",
    "len(codes)"
   ]
  },
  {
   "cell_type": "code",
   "execution_count": 3,
   "metadata": {},
   "outputs": [
    {
     "data": {
      "text/plain": [
       "'Taiwan'"
      ]
     },
     "execution_count": 3,
     "metadata": {},
     "output_type": "execute_result"
    }
   ],
   "source": [
    "codes[\"tw\"]"
   ]
  },
  {
   "cell_type": "code",
   "execution_count": 4,
   "metadata": {},
   "outputs": [
    {
     "data": {
      "text/plain": [
       "{'a': 'b', 'c': 'd', 'e': 'f'}"
      ]
     },
     "execution_count": 4,
     "metadata": {},
     "output_type": "execute_result"
    }
   ],
   "source": [
    "#使用dict()建立\n",
    "lot=[('a', 'b'), ('c', 'd'), ('e', 'f')]\n",
    "tol=dict(lot)\n",
    "tol"
   ]
  },
  {
   "cell_type": "code",
   "execution_count": 7,
   "metadata": {},
   "outputs": [
    {
     "name": "stdout",
     "output_type": "stream",
     "text": [
      "{'國文': 93, '英文': 57, '數學': 82, '社會': 51, '自然': 74}\n",
      "{'國文': 79, '英文': 77, '數學': 50, '社會': 76, '自然': 51}\n",
      "{'國文': 62, '英文': 71, '數學': 84, '社會': 62, '自然': 83}\n",
      "{'國文': 69, '英文': 60, '數學': 65, '社會': 53, '自然': 70}\n",
      "{'國文': 58, '英文': 94, '數學': 96, '社會': 59, '自然': 84}\n",
      "{'國文': 55, '英文': 82, '數學': 85, '社會': 62, '自然': 93}\n",
      "{'國文': 86, '英文': 93, '數學': 100, '社會': 95, '自然': 81}\n",
      "{'國文': 57, '英文': 85, '數學': 76, '社會': 75, '自然': 70}\n",
      "{'國文': 95, '英文': 61, '數學': 80, '社會': 72, '自然': 60}\n",
      "{'國文': 92, '英文': 72, '數學': 98, '社會': 67, '自然': 53}\n",
      "{'國文': 64, '英文': 67, '數學': 62, '社會': 94, '自然': 73}\n",
      "{'國文': 66, '英文': 94, '數學': 62, '社會': 82, '自然': 95}\n",
      "{'國文': 75, '英文': 71, '數學': 79, '社會': 52, '自然': 68}\n",
      "{'國文': 68, '英文': 68, '數學': 51, '社會': 50, '自然': 63}\n",
      "{'國文': 99, '英文': 77, '數學': 71, '社會': 70, '自然': 67}\n",
      "{'國文': 74, '英文': 94, '數學': 79, '社會': 54, '自然': 72}\n",
      "{'國文': 84, '英文': 85, '數學': 90, '社會': 84, '自然': 75}\n",
      "{'國文': 97, '英文': 57, '數學': 98, '社會': 50, '自然': 71}\n",
      "{'國文': 82, '英文': 70, '數學': 94, '社會': 92, '自然': 63}\n",
      "{'國文': 84, '英文': 59, '數學': 83, '社會': 54, '自然': 65}\n",
      "{'國文': 89, '英文': 60, '數學': 85, '社會': 67, '自然': 96}\n",
      "{'國文': 83, '英文': 68, '數學': 90, '社會': 88, '自然': 94}\n",
      "{'國文': 66, '英文': 82, '數學': 55, '社會': 83, '自然': 97}\n",
      "{'國文': 56, '英文': 74, '數學': 63, '社會': 56, '自然': 55}\n",
      "{'國文': 81, '英文': 70, '數學': 59, '社會': 84, '自然': 65}\n",
      "{'國文': 76, '英文': 90, '數學': 81, '社會': 65, '自然': 90}\n",
      "{'國文': 66, '英文': 78, '數學': 81, '社會': 96, '自然': 69}\n",
      "{'國文': 100, '英文': 93, '數學': 69, '社會': 58, '自然': 95}\n",
      "{'國文': 74, '英文': 77, '數學': 98, '社會': 97, '自然': 62}\n",
      "{'國文': 90, '英文': 83, '數學': 91, '社會': 50, '自然': 50}\n",
      "{'國文': 63, '英文': 74, '數學': 55, '社會': 51, '自然': 97}\n",
      "{'國文': 50, '英文': 95, '數學': 89, '社會': 71, '自然': 81}\n",
      "{'國文': 100, '英文': 99, '數學': 74, '社會': 51, '自然': 57}\n",
      "{'國文': 53, '英文': 93, '數學': 99, '社會': 99, '自然': 90}\n",
      "{'國文': 79, '英文': 63, '數學': 90, '社會': 79, '自然': 60}\n",
      "{'國文': 77, '英文': 58, '數學': 89, '社會': 63, '自然': 96}\n",
      "{'國文': 83, '英文': 87, '數學': 75, '社會': 57, '自然': 85}\n",
      "{'國文': 89, '英文': 98, '數學': 59, '社會': 100, '自然': 96}\n",
      "{'國文': 62, '英文': 96, '數學': 52, '社會': 82, '自然': 59}\n",
      "{'國文': 89, '英文': 60, '數學': 77, '社會': 56, '自然': 52}\n",
      "{'國文': 58, '英文': 88, '數學': 61, '社會': 74, '自然': 68}\n",
      "{'國文': 89, '英文': 53, '數學': 66, '社會': 82, '自然': 80}\n",
      "{'國文': 94, '英文': 68, '數學': 63, '社會': 94, '自然': 72}\n",
      "{'國文': 74, '英文': 72, '數學': 52, '社會': 93, '自然': 90}\n",
      "{'國文': 73, '英文': 92, '數學': 90, '社會': 61, '自然': 85}\n",
      "{'國文': 56, '英文': 75, '數學': 71, '社會': 56, '自然': 90}\n",
      "{'國文': 89, '英文': 97, '數學': 97, '社會': 98, '自然': 69}\n",
      "{'國文': 80, '英文': 70, '數學': 63, '社會': 78, '自然': 71}\n",
      "{'國文': 70, '英文': 76, '數學': 99, '社會': 53, '自然': 54}\n",
      "{'國文': 56, '英文': 71, '數學': 57, '社會': 90, '自然': 87}\n"
     ]
    }
   ],
   "source": [
    "import random\n",
    "\n",
    "#建立空的list\n",
    "students = list()\n",
    "\n",
    "for _ in range(50):\n",
    "    #建立一個dictionary\n",
    "    scores = dict()\n",
    "    subjects = [\"國文\",\"英文\",\"數學\",\"社會\",\"自然\"]\n",
    "    for subject in subjects:\n",
    "        scores[subject] = random.randint(50, 100)\n",
    "    \n",
    "    #加入到list內\n",
    "    students.append(scores)\n",
    "\n",
    "for stu in students:\n",
    "    print(stu)\n",
    "    \n",
    "    \n",
    "    "
   ]
  },
  {
   "cell_type": "code",
   "execution_count": 11,
   "metadata": {},
   "outputs": [
    {
     "name": "stdout",
     "output_type": "stream",
     "text": [
      "綠燈\n",
      "黃燈\n",
      "紅燈\n"
     ]
    }
   ],
   "source": [
    "signals = {'綠燈': '走', '黃燈': '走快些', '紅燈': '停等'}\n",
    "#print(signals.keys())\n",
    "for key in signals.keys():\n",
    "    print(key)"
   ]
  },
  {
   "cell_type": "code",
   "execution_count": 12,
   "metadata": {},
   "outputs": [
    {
     "name": "stdout",
     "output_type": "stream",
     "text": [
      "走\n",
      "走快些\n",
      "停等\n"
     ]
    }
   ],
   "source": [
    "for value in signals.values():\n",
    "    print(value)"
   ]
  },
  {
   "cell_type": "code",
   "execution_count": 14,
   "metadata": {},
   "outputs": [
    {
     "name": "stdout",
     "output_type": "stream",
     "text": [
      "綠燈 走\n",
      "黃燈 走快些\n",
      "紅燈 停等\n"
     ]
    }
   ],
   "source": [
    "for key,value in signals.items():\n",
    "    print(key,value)"
   ]
  },
  {
   "cell_type": "code",
   "execution_count": 17,
   "metadata": {},
   "outputs": [
    {
     "data": {
      "text/plain": [
       "[5, 6, 7, 8, 9]"
      ]
     },
     "execution_count": 17,
     "metadata": {},
     "output_type": "execute_result"
    }
   ],
   "source": [
    "mySet = {5, 6, 7, 8, 9, 5, 6, 7, 8, 9}\n",
    "mylist = list(mySet)\n",
    "mylist"
   ]
  },
  {
   "cell_type": "code",
   "execution_count": null,
   "metadata": {},
   "outputs": [],
   "source": []
  }
 ],
 "metadata": {
  "kernelspec": {
   "display_name": "Python 3",
   "language": "python",
   "name": "python3"
  },
  "language_info": {
   "codemirror_mode": {
    "name": "ipython",
    "version": 3
   },
   "file_extension": ".py",
   "mimetype": "text/x-python",
   "name": "python",
   "nbconvert_exporter": "python",
   "pygments_lexer": "ipython3",
   "version": "3.8.3"
  }
 },
 "nbformat": 4,
 "nbformat_minor": 4
}
