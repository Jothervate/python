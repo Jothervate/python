{
 "cells": [
  {
   "cell_type": "code",
   "execution_count": 2,
   "metadata": {},
   "outputs": [
    {
     "name": "stdout",
     "output_type": "stream",
     "text": [
      "請輸入小寫英文字[按q會離開]:taipei\n",
      "Taipei\n",
      "請輸入小寫英文字[按q會離開]:hello\n",
      "Hello\n",
      "請輸入小寫英文字[按q會離開]:q\n",
      "程式結束\n"
     ]
    }
   ],
   "source": [
    "stuff = input(\"請輸入小寫英文字[按q會離開]:\")\n",
    "#利用while後的boolean\n",
    "while(stuff != 'q'):\n",
    "    print(stuff.capitalize())\n",
    "    stuff = input(\"請輸入小寫英文字[按q會離開]:\")\n",
    "    \n",
    "\n",
    "print(\"程式結束\")"
   ]
  },
  {
   "cell_type": "code",
   "execution_count": 3,
   "metadata": {},
   "outputs": [
    {
     "name": "stdout",
     "output_type": "stream",
     "text": [
      "請輸入小寫英文字[按q會離開]:taipei\n",
      "Taipei\n",
      "請輸入小寫英文字[按q會離開]:hello\n",
      "Hello\n",
      "請輸入小寫英文字[按q會離開]:q\n"
     ]
    }
   ],
   "source": [
    "#利用break\n",
    "\n",
    "while(True):\n",
    "    stuff = input(\"請輸入小寫英文字[按q會離開]:\")\n",
    "    if(stuff == 'q'):\n",
    "        break\n",
    "    print(stuff.capitalize())\n",
    "print(\"程式結束\")"
   ]
  },
  {
   "cell_type": "code",
   "execution_count": 5,
   "metadata": {},
   "outputs": [
    {
     "name": "stdout",
     "output_type": "stream",
     "text": [
      "請輸入第1個數值:2\n",
      "請輸入第2個數值:3\n",
      "請輸入第3個數值:4\n",
      "請輸入第4個數值:5\n",
      "請輸入第5個數值:6\n",
      "請輸入第6個數值:-1\n",
      "所有輸入的正偶數的加總是:12\n"
     ]
    }
   ],
   "source": [
    "num = 0\n",
    "sum = 0\n",
    "\n",
    "while(True):\n",
    "    num += 1\n",
    "    inputNum = int(input(\"請輸入第\" + str(num) +\"個數值:\"))\n",
    "    if(inputNum < 0):\n",
    "        break\n",
    "    elif (inputNum % 2 == 1):\n",
    "        continue\n",
    "    else:\n",
    "        sum += inputNum\n",
    "\n",
    "print(\"所有輸入的正偶數的加總是:{:d}\".format(sum))  "
   ]
  },
  {
   "cell_type": "code",
   "execution_count": null,
   "metadata": {},
   "outputs": [],
   "source": []
  }
 ],
 "metadata": {
  "kernelspec": {
   "display_name": "Python 3",
   "language": "python",
   "name": "python3"
  },
  "language_info": {
   "codemirror_mode": {
    "name": "ipython",
    "version": 3
   },
   "file_extension": ".py",
   "mimetype": "text/x-python",
   "name": "python",
   "nbconvert_exporter": "python",
   "pygments_lexer": "ipython3",
   "version": "3.8.3"
  }
 },
 "nbformat": 4,
 "nbformat_minor": 4
}
