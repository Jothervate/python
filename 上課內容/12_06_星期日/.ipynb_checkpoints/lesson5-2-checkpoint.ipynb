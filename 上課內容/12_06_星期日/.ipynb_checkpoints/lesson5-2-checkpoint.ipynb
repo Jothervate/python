{
 "cells": [
  {
   "cell_type": "code",
   "execution_count": 4,
   "metadata": {},
   "outputs": [
    {
     "name": "stdout",
     "output_type": "stream",
     "text": [
      "<class 'list'>\n",
      "['星期一', '星期二', '星期三', '星期四', '星期五', '星期六', '星期日']\n"
     ]
    }
   ],
   "source": [
    "#建立list\n",
    "empty_list = [] #建立空的list\n",
    "\n",
    "weekdays = ['星期一', '星期二', '星期三', '星期四', '星期五', '星期六', '星期日'] \n",
    "print(type(weekdays))\n",
    "print(weekdays)\n",
    "another_empty_list = list() #建立空的list"
   ]
  },
  {
   "cell_type": "code",
   "execution_count": 9,
   "metadata": {},
   "outputs": [
    {
     "name": "stdout",
     "output_type": "stream",
     "text": [
      "星期一\n",
      "星期二\n",
      "星期三\n",
      "星期四\n",
      "星期五\n",
      "星期六\n",
      "星期日\n"
     ]
    }
   ],
   "source": [
    "#使用索引編號取出值\n",
    "for index in range(0,len(weekdays)):\n",
    "    print(weekdays[index])"
   ]
  },
  {
   "cell_type": "code",
   "execution_count": 10,
   "metadata": {},
   "outputs": [
    {
     "name": "stdout",
     "output_type": "stream",
     "text": [
      "星期一\n",
      "星期二\n",
      "星期三\n",
      "星期四\n",
      "星期五\n",
      "星期六\n",
      "星期日\n"
     ]
    }
   ],
   "source": [
    "#利用(for in list)直接取出內容\n",
    "\n",
    "for item in weekdays:\n",
    "    print(item)"
   ]
  },
  {
   "cell_type": "code",
   "execution_count": 13,
   "metadata": {},
   "outputs": [
    {
     "data": {
      "text/plain": [
       "[1, 3, 5, 7, 9]"
      ]
     },
     "execution_count": 13,
     "metadata": {},
     "output_type": "execute_result"
    }
   ],
   "source": [
    "list(range(1,10,2))"
   ]
  },
  {
   "cell_type": "code",
   "execution_count": 14,
   "metadata": {},
   "outputs": [
    {
     "name": "stdout",
     "output_type": "stream",
     "text": [
      "ready\n",
      "fire\n",
      "aim\n"
     ]
    }
   ],
   "source": [
    "#tuple 拆解\n",
    "a_tuple = (\"ready\", \"fire\", \"aim\")\n",
    "\n",
    "(b1, b2, b3) = a_tuple\n",
    "print(b1)\n",
    "print(b2)\n",
    "print(b3)"
   ]
  },
  {
   "cell_type": "code",
   "execution_count": 15,
   "metadata": {},
   "outputs": [
    {
     "name": "stdout",
     "output_type": "stream",
     "text": [
      "['r', 'o', 'b', 'e', 'r', 't']\n"
     ]
    }
   ],
   "source": [
    "nameList=list(\"robert\")\n",
    "print(nameList)"
   ]
  },
  {
   "cell_type": "code",
   "execution_count": 18,
   "metadata": {},
   "outputs": [
    {
     "name": "stdout",
     "output_type": "stream",
     "text": [
      "高雄\n",
      "高雄\n"
     ]
    }
   ],
   "source": [
    "citys = ['台北', '台中', '高雄']\n",
    "print(citys[2])\n",
    "print(citys[-1])"
   ]
  },
  {
   "cell_type": "code",
   "execution_count": 19,
   "metadata": {},
   "outputs": [
    {
     "ename": "IndexError",
     "evalue": "list index out of range",
     "output_type": "error",
     "traceback": [
      "\u001b[0;31m---------------------------------------------------------------------------\u001b[0m",
      "\u001b[0;31mIndexError\u001b[0m                                Traceback (most recent call last)",
      "\u001b[0;32m<ipython-input-19-73d59aebae96>\u001b[0m in \u001b[0;36m<module>\u001b[0;34m\u001b[0m\n\u001b[0;32m----> 1\u001b[0;31m \u001b[0mcitys\u001b[0m\u001b[0;34m[\u001b[0m\u001b[0;36m3\u001b[0m\u001b[0;34m]\u001b[0m\u001b[0;34m\u001b[0m\u001b[0;34m\u001b[0m\u001b[0m\n\u001b[0m",
      "\u001b[0;31mIndexError\u001b[0m: list index out of range"
     ]
    }
   ],
   "source": [
    "citys[3]"
   ]
  },
  {
   "cell_type": "code",
   "execution_count": 21,
   "metadata": {},
   "outputs": [
    {
     "data": {
      "text/plain": [
       "['l', 'l', 'o', 'W', 'o', 'r', 'l']"
      ]
     },
     "execution_count": 21,
     "metadata": {},
     "output_type": "execute_result"
    }
   ],
   "source": [
    "list1=['H','e','l','l','o', 'W','o','r','l','d']\n",
    "list1[2:-1]"
   ]
  },
  {
   "cell_type": "code",
   "execution_count": 22,
   "metadata": {},
   "outputs": [
    {
     "data": {
      "text/plain": [
       "['l', 'l', 'o', 'W', 'o', 'r', 'l', 'd']"
      ]
     },
     "execution_count": 22,
     "metadata": {},
     "output_type": "execute_result"
    }
   ],
   "source": [
    "#2~最後\n",
    "list1[2:]"
   ]
  },
  {
   "cell_type": "code",
   "execution_count": 23,
   "metadata": {},
   "outputs": [
    {
     "data": {
      "text/plain": [
       "['H', 'e', 'l', 'l', 'o']"
      ]
     },
     "execution_count": 23,
     "metadata": {},
     "output_type": "execute_result"
    }
   ],
   "source": [
    "#前5個\n",
    "list1[:5]"
   ]
  },
  {
   "cell_type": "code",
   "execution_count": 24,
   "metadata": {},
   "outputs": [
    {
     "data": {
      "text/plain": [
       "['W', 'o', 'r', 'l', 'd']"
      ]
     },
     "execution_count": 24,
     "metadata": {},
     "output_type": "execute_result"
    }
   ],
   "source": [
    "#後5個\n",
    "list1[-5:]"
   ]
  },
  {
   "cell_type": "code",
   "execution_count": 25,
   "metadata": {},
   "outputs": [
    {
     "name": "stdout",
     "output_type": "stream",
     "text": [
      "['a', 'b', 'dd']\n"
     ]
    }
   ],
   "source": [
    "#更新資料\n",
    "list1=['a','b','c'] \n",
    "list1[2] = 'dd'\n",
    "print(list1)"
   ]
  },
  {
   "cell_type": "code",
   "execution_count": 26,
   "metadata": {},
   "outputs": [
    {
     "data": {
      "text/plain": [
       "[['筆記電腦', '商用筆電'], ['APPLE', 'ASUS', 'HTC'], [3, '冰箱', 2, '洗衣機']]"
      ]
     },
     "execution_count": 26,
     "metadata": {},
     "output_type": "execute_result"
    }
   ],
   "source": [
    "#2維list\n",
    "nb = ['筆記電腦', '商用筆電']\n",
    "mobile = ['APPLE', 'ASUS', 'HTC']\n",
    "home = [3, '冰箱', 2, '洗衣機']\n",
    "all3c = [nb, mobile, home]\n",
    "all3c"
   ]
  },
  {
   "cell_type": "code",
   "execution_count": 27,
   "metadata": {},
   "outputs": [
    {
     "data": {
      "text/plain": [
       "['筆記電腦', '商用筆電']"
      ]
     },
     "execution_count": 27,
     "metadata": {},
     "output_type": "execute_result"
    }
   ],
   "source": [
    "all3c[0]"
   ]
  },
  {
   "cell_type": "code",
   "execution_count": 28,
   "metadata": {},
   "outputs": [
    {
     "data": {
      "text/plain": [
       "['APPLE', 'ASUS', 'HTC']"
      ]
     },
     "execution_count": 28,
     "metadata": {},
     "output_type": "execute_result"
    }
   ],
   "source": [
    "all3c[1]"
   ]
  },
  {
   "cell_type": "code",
   "execution_count": 29,
   "metadata": {},
   "outputs": [
    {
     "data": {
      "text/plain": [
       "[3, '冰箱', 2, '洗衣機']"
      ]
     },
     "execution_count": 29,
     "metadata": {},
     "output_type": "execute_result"
    }
   ],
   "source": [
    "all3c[2]"
   ]
  },
  {
   "cell_type": "code",
   "execution_count": 30,
   "metadata": {},
   "outputs": [
    {
     "data": {
      "text/plain": [
       "'商用筆電'"
      ]
     },
     "execution_count": 30,
     "metadata": {},
     "output_type": "execute_result"
    }
   ],
   "source": [
    "all3c[0][1]"
   ]
  },
  {
   "cell_type": "code",
   "execution_count": 31,
   "metadata": {},
   "outputs": [
    {
     "data": {
      "text/plain": [
       "'HTC'"
      ]
     },
     "execution_count": 31,
     "metadata": {},
     "output_type": "execute_result"
    }
   ],
   "source": [
    "all3c[1][2]"
   ]
  },
  {
   "cell_type": "code",
   "execution_count": 32,
   "metadata": {},
   "outputs": [
    {
     "data": {
      "text/plain": [
       "'洗衣機'"
      ]
     },
     "execution_count": 32,
     "metadata": {},
     "output_type": "execute_result"
    }
   ],
   "source": [
    "all3c[2][3]"
   ]
  },
  {
   "cell_type": "code",
   "execution_count": 33,
   "metadata": {
    "scrolled": true
   },
   "outputs": [
    {
     "name": "stdout",
     "output_type": "stream",
     "text": [
      "['筆記電腦', '商用筆電']\n",
      "['APPLE', 'ASUS', 'HTC']\n",
      "[3, '冰箱', 2, '洗衣機']\n"
     ]
    }
   ],
   "source": [
    "for items in all3c:\n",
    "    print(items)"
   ]
  },
  {
   "cell_type": "code",
   "execution_count": 34,
   "metadata": {},
   "outputs": [
    {
     "name": "stdout",
     "output_type": "stream",
     "text": [
      "筆記電腦\n",
      "商用筆電\n",
      "APPLE\n",
      "ASUS\n",
      "HTC\n",
      "3\n",
      "冰箱\n",
      "2\n",
      "洗衣機\n"
     ]
    }
   ],
   "source": [
    "for items in all3c:\n",
    "    for item in items:\n",
    "        print(item)"
   ]
  },
  {
   "cell_type": "code",
   "execution_count": 36,
   "metadata": {},
   "outputs": [
    {
     "data": {
      "text/plain": [
       "['robert', 'jenny', 'alice', 'alan']"
      ]
     },
     "execution_count": 36,
     "metadata": {},
     "output_type": "execute_result"
    }
   ],
   "source": [
    "names  = []\n",
    "names.append(\"robert\")\n",
    "names.append(\"jenny\")\n",
    "names.append(\"alice\")\n",
    "names.append(\"alan\")\n",
    "names"
   ]
  },
  {
   "cell_type": "code",
   "execution_count": 37,
   "metadata": {},
   "outputs": [
    {
     "data": {
      "text/plain": [
       "['stu0',\n",
       " 'stu1',\n",
       " 'stu2',\n",
       " 'stu3',\n",
       " 'stu4',\n",
       " 'stu5',\n",
       " 'stu6',\n",
       " 'stu7',\n",
       " 'stu8',\n",
       " 'stu9',\n",
       " 'stu10',\n",
       " 'stu11',\n",
       " 'stu12',\n",
       " 'stu13',\n",
       " 'stu14',\n",
       " 'stu15',\n",
       " 'stu16',\n",
       " 'stu17',\n",
       " 'stu18',\n",
       " 'stu19',\n",
       " 'stu20',\n",
       " 'stu21',\n",
       " 'stu22',\n",
       " 'stu23',\n",
       " 'stu24',\n",
       " 'stu25',\n",
       " 'stu26',\n",
       " 'stu27',\n",
       " 'stu28',\n",
       " 'stu29',\n",
       " 'stu30',\n",
       " 'stu31',\n",
       " 'stu32',\n",
       " 'stu33',\n",
       " 'stu34',\n",
       " 'stu35',\n",
       " 'stu36',\n",
       " 'stu37',\n",
       " 'stu38',\n",
       " 'stu39',\n",
       " 'stu40',\n",
       " 'stu41',\n",
       " 'stu42',\n",
       " 'stu43',\n",
       " 'stu44',\n",
       " 'stu45',\n",
       " 'stu46',\n",
       " 'stu47',\n",
       " 'stu48',\n",
       " 'stu49',\n",
       " 'stu50',\n",
       " 'stu51',\n",
       " 'stu52',\n",
       " 'stu53',\n",
       " 'stu54',\n",
       " 'stu55',\n",
       " 'stu56',\n",
       " 'stu57',\n",
       " 'stu58',\n",
       " 'stu59',\n",
       " 'stu60',\n",
       " 'stu61',\n",
       " 'stu62',\n",
       " 'stu63',\n",
       " 'stu64',\n",
       " 'stu65',\n",
       " 'stu66',\n",
       " 'stu67',\n",
       " 'stu68',\n",
       " 'stu69',\n",
       " 'stu70',\n",
       " 'stu71',\n",
       " 'stu72',\n",
       " 'stu73',\n",
       " 'stu74',\n",
       " 'stu75',\n",
       " 'stu76',\n",
       " 'stu77',\n",
       " 'stu78',\n",
       " 'stu79',\n",
       " 'stu80',\n",
       " 'stu81',\n",
       " 'stu82',\n",
       " 'stu83',\n",
       " 'stu84',\n",
       " 'stu85',\n",
       " 'stu86',\n",
       " 'stu87',\n",
       " 'stu88',\n",
       " 'stu89',\n",
       " 'stu90',\n",
       " 'stu91',\n",
       " 'stu92',\n",
       " 'stu93',\n",
       " 'stu94',\n",
       " 'stu95',\n",
       " 'stu96',\n",
       " 'stu97',\n",
       " 'stu98',\n",
       " 'stu99']"
      ]
     },
     "execution_count": 37,
     "metadata": {},
     "output_type": "execute_result"
    }
   ],
   "source": [
    "names = []\n",
    "for index in range(10):\n",
    "    names.append(\"stu\" + str(index))\n",
    "names\n"
   ]
  },
  {
   "cell_type": "code",
   "execution_count": null,
   "metadata": {},
   "outputs": [],
   "source": []
  }
 ],
 "metadata": {
  "kernelspec": {
   "display_name": "Python 3",
   "language": "python",
   "name": "python3"
  },
  "language_info": {
   "codemirror_mode": {
    "name": "ipython",
    "version": 3
   },
   "file_extension": ".py",
   "mimetype": "text/x-python",
   "name": "python",
   "nbconvert_exporter": "python",
   "pygments_lexer": "ipython3",
   "version": "3.8.3"
  }
 },
 "nbformat": 4,
 "nbformat_minor": 4
}
