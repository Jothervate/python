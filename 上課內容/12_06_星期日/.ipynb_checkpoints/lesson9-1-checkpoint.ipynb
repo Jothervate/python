{
 "cells": [
  {
   "cell_type": "code",
   "execution_count": 1,
   "metadata": {},
   "outputs": [],
   "source": [
    "class Person():\n",
    "    #自訂的初始化\n",
    "    def __init__(self,n):\n",
    "        #建立一個name屬性\n",
    "        self.name = n"
   ]
  },
  {
   "cell_type": "code",
   "execution_count": 2,
   "metadata": {},
   "outputs": [
    {
     "name": "stdout",
     "output_type": "stream",
     "text": [
      "這個hunter的name是:Elmer Fudd\n",
      "這個teacher的name是:Robert\n"
     ]
    }
   ],
   "source": [
    "hunter = Person(\"Elmer Fudd\")\n",
    "print(\"這個hunter的name是:{:s}\".format(hunter.name))\n",
    "\n",
    "teacher = Person(\"Robert\")\n",
    "print(\"這個teacher的name是:{:s}\".format(teacher.name))"
   ]
  },
  {
   "cell_type": "code",
   "execution_count": 3,
   "metadata": {},
   "outputs": [],
   "source": [
    "class Student():\n",
    "    \n",
    "    def __init__(self,n,id,chin,egn,ma):\n",
    "        self.name = n\n",
    "        self.id = id\n",
    "        self.chinese = chin\n",
    "        self.english = egn\n",
    "        self.math = ma\n",
    "        \n",
    "    def sum(self):\n",
    "        return self.chinese + self.english + self.math\n",
    "    \n",
    "    def average(self):\n",
    "        return self.sum() / 3.0\n",
    "\n",
    "       \n",
    "    \n",
    "    "
   ]
  },
  {
   "cell_type": "code",
   "execution_count": 4,
   "metadata": {},
   "outputs": [
    {
     "name": "stdout",
     "output_type": "stream",
     "text": [
      "stu1\n",
      "A1001\n",
      "87\n",
      "68\n",
      "74\n",
      "總分是:229\n",
      "平均是:76.33\n"
     ]
    }
   ],
   "source": [
    "stu1 = Student(\"stu1\", \"A1001\", 87, 68, 74)\n",
    "print(stu1.name)\n",
    "print(stu1.id)\n",
    "print(stu1.chinese)\n",
    "print(stu1.english)\n",
    "print(stu1.math)\n",
    "print(\"總分是:{:d}\".format(stu1.sum()))\n",
    "print(\"平均是:{:.2f}\".format(stu1.average()))"
   ]
  },
  {
   "cell_type": "code",
   "execution_count": 5,
   "metadata": {},
   "outputs": [
    {
     "name": "stdout",
     "output_type": "stream",
     "text": [
      "stu2\n",
      "A1002\n",
      "97\n",
      "78\n",
      "78\n",
      "總分是:253\n",
      "平均是:84.33\n"
     ]
    }
   ],
   "source": [
    "stu2 = Student(\"stu2\", \"A1002\", 97, 78, 78)\n",
    "print(stu2.name)\n",
    "print(stu2.id)\n",
    "print(stu2.chinese)\n",
    "print(stu2.english)\n",
    "print(stu2.math)\n",
    "print(\"總分是:{:d}\".format(stu2.sum()))\n",
    "print(\"平均是:{:.2f}\".format(stu2.average()))"
   ]
  },
  {
   "cell_type": "code",
   "execution_count": 6,
   "metadata": {},
   "outputs": [],
   "source": [
    "#繼承\n",
    "class Car():\n",
    "    def exclaim(self):\n",
    "        print(\"I'm a Car\")\n",
    "\n",
    "class Yugo(Car):\n",
    "    #覆寫父類別exclaim()的方法\n",
    "     def exclaim(self):\n",
    "        super().exclaim()\n",
    "        print(\"I'm a Yugo\")\n",
    "\n"
   ]
  },
  {
   "cell_type": "code",
   "execution_count": 7,
   "metadata": {},
   "outputs": [
    {
     "name": "stdout",
     "output_type": "stream",
     "text": [
      "<class '__main__.Car'>\n",
      "<class '__main__.Yugo'>\n"
     ]
    }
   ],
   "source": [
    "a_car = Car()\n",
    "a_yugo = Yugo()\n",
    "print(type(a_car))\n",
    "print(type(a_yugo))"
   ]
  },
  {
   "cell_type": "code",
   "execution_count": 8,
   "metadata": {},
   "outputs": [
    {
     "name": "stdout",
     "output_type": "stream",
     "text": [
      "I'm a Car\n"
     ]
    }
   ],
   "source": [
    "a_car.exclaim()"
   ]
  },
  {
   "cell_type": "code",
   "execution_count": 9,
   "metadata": {},
   "outputs": [
    {
     "name": "stdout",
     "output_type": "stream",
     "text": [
      "I'm a Car\n",
      "I'm a Yugo\n"
     ]
    }
   ],
   "source": [
    "a_yugo.exclaim()"
   ]
  },
  {
   "cell_type": "code",
   "execution_count": null,
   "metadata": {},
   "outputs": [],
   "source": []
  }
 ],
 "metadata": {
  "kernelspec": {
   "display_name": "Python 3",
   "language": "python",
   "name": "python3"
  },
  "language_info": {
   "codemirror_mode": {
    "name": "ipython",
    "version": 3
   },
   "file_extension": ".py",
   "mimetype": "text/x-python",
   "name": "python",
   "nbconvert_exporter": "python",
   "pygments_lexer": "ipython3",
   "version": "3.8.3"
  }
 },
 "nbformat": 4,
 "nbformat_minor": 4
}
