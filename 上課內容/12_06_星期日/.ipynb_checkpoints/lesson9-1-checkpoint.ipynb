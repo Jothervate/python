{
 "cells": [
  {
   "cell_type": "code",
   "execution_count": 8,
   "metadata": {},
   "outputs": [],
   "source": [
    "class Person():\n",
    "    #自訂的初始化\n",
    "    def __init__(self,n):\n",
    "        #建立一個name屬性\n",
    "        self.name = n"
   ]
  },
  {
   "cell_type": "code",
   "execution_count": 10,
   "metadata": {},
   "outputs": [
    {
     "name": "stdout",
     "output_type": "stream",
     "text": [
      "這個hunter的name是:Elmer Fudd\n",
      "這個teacher的name是:Robert\n"
     ]
    }
   ],
   "source": [
    "hunter = Person(\"Elmer Fudd\")\n",
    "print(\"這個hunter的name是:{:s}\".format(hunter.name))\n",
    "\n",
    "teacher = Person(\"Robert\")\n",
    "print(\"這個teacher的name是:{:s}\".format(teacher.name))"
   ]
  },
  {
   "cell_type": "code",
   "execution_count": 11,
   "metadata": {},
   "outputs": [],
   "source": [
    "class Student():\n",
    "    \n",
    "    def __init__(self,n,id,chin,egn,ma):\n",
    "        self.name = n\n",
    "        self.id = id\n",
    "        self.chinese = chin\n",
    "        self.english = egn\n",
    "        self.math = ma\n",
    "\n",
    "       \n",
    "    \n",
    "    "
   ]
  },
  {
   "cell_type": "code",
   "execution_count": 13,
   "metadata": {},
   "outputs": [
    {
     "name": "stdout",
     "output_type": "stream",
     "text": [
      "stu1\n",
      "A1001\n",
      "87\n",
      "68\n",
      "74\n"
     ]
    }
   ],
   "source": [
    "stu1 = Student(\"stu1\", \"A1001\", 87, 68, 74)\n",
    "print(stu1.name)\n",
    "print(stu1.id)\n",
    "print(stu1.chinese)\n",
    "print(stu1.english)\n",
    "print(stu1.math)"
   ]
  },
  {
   "cell_type": "code",
   "execution_count": null,
   "metadata": {},
   "outputs": [],
   "source": []
  }
 ],
 "metadata": {
  "kernelspec": {
   "display_name": "Python 3",
   "language": "python",
   "name": "python3"
  },
  "language_info": {
   "codemirror_mode": {
    "name": "ipython",
    "version": 3
   },
   "file_extension": ".py",
   "mimetype": "text/x-python",
   "name": "python",
   "nbconvert_exporter": "python",
   "pygments_lexer": "ipython3",
   "version": "3.8.3"
  }
 },
 "nbformat": 4,
 "nbformat_minor": 4
}
