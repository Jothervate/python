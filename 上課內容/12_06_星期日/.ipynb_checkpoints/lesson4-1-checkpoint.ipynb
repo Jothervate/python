{
 "cells": [
  {
   "cell_type": "code",
   "execution_count": 3,
   "metadata": {},
   "outputs": [
    {
     "name": "stdout",
     "output_type": "stream",
     "text": [
      "請輸入第一個數:34.5\n",
      "請輸入第二個數:23.7\n",
      "請輸入第三個數:98.8\n",
      "三個數的總和為:157.000000\n"
     ]
    }
   ],
   "source": [
    "sum = 0\n",
    "x = float(input('請輸入第一個數:'))\n",
    "sum += x\n",
    "x = float(input('請輸入第二個數:'))\n",
    "sum += x\n",
    "x = float(input('請輸入第三個數:'))\n",
    "sum += x\n",
    "print(\"三個數的總和為:%.3f\" % sum)"
   ]
  },
  {
   "cell_type": "code",
   "execution_count": 15,
   "metadata": {},
   "outputs": [
    {
     "name": "stdout",
     "output_type": "stream",
     "text": [
      "等於12\n"
     ]
    }
   ],
   "source": [
    "a = 12\n",
    "if a != 12:\n",
    "    print(\"不等於12\")\n",
    "    print(\"程式結束\")\n",
    "else:\n",
    "    print(\"等於12\")"
   ]
  },
  {
   "cell_type": "code",
   "execution_count": 21,
   "metadata": {},
   "outputs": [
    {
     "name": "stdout",
     "output_type": "stream",
     "text": [
      "請輸入年紀?8\n",
      "少年\n",
      "程式結束\n"
     ]
    }
   ],
   "source": [
    "age = int(input(\"請輸入年紀?\"))\n",
    "if age > 18:\n",
    "    print(\"青年\")\n",
    "elif age >= 12:\n",
    "    print(\"青少年\")\n",
    "else:\n",
    "    print(\"少年\")\n",
    "\n",
    "print(\"程式結束\")"
   ]
  },
  {
   "cell_type": "code",
   "execution_count": 29,
   "metadata": {},
   "outputs": [
    {
     "name": "stdout",
     "output_type": "stream",
     "text": [
      "請輸入分數87\n",
      "成績等級為:甲\n"
     ]
    }
   ],
   "source": [
    "score = int(input(\"請輸入分數\"))\n",
    "\n",
    "if score >= 90:  grade = \"優\"\n",
    "elif score >= 80: grade = \"甲\"\n",
    "elif score >= 70: grade = \"乙\"\n",
    "elif score >= 60:  grade = \"丙\"\n",
    "else: grade = \"丁\"\n",
    "    \n",
    "print(\"成績等級為:%s\" % grade)"
   ]
  },
  {
   "cell_type": "code",
   "execution_count": 37,
   "metadata": {},
   "outputs": [
    {
     "name": "stdout",
     "output_type": "stream",
     "text": [
      "它是小蜥蜴\n"
     ]
    }
   ],
   "source": [
    "#2個條件判斷使用邏輯運算子\n",
    "furry = False\n",
    "small = True\n",
    "if furry == True and small == False:\n",
    "    print(\"它是熊\")\n",
    "elif furry == True and small == True:\n",
    "    print(\"它是貓\")\n",
    "elif furry == False and small == False:\n",
    "    print(\"它是人\")\n",
    "elif furry == False and small == True:\n",
    "    print(\"它是小蜥蜴\")"
   ]
  },
  {
   "cell_type": "code",
   "execution_count": 38,
   "metadata": {},
   "outputs": [
    {
     "name": "stdout",
     "output_type": "stream",
     "text": [
      "它是小蜥蜴\n"
     ]
    }
   ],
   "source": [
    "#2個條件判斷使用邏輯運算子\n",
    "furry = False\n",
    "small = True\n",
    "if furry and not small:\n",
    "    print(\"它是熊\")\n",
    "elif furry and small:\n",
    "    print(\"它是貓\")\n",
    "elif not furry and not small:\n",
    "    print(\"它是人\")\n",
    "elif not furry and small:\n",
    "    print(\"它是小蜥蜴\")"
   ]
  },
  {
   "cell_type": "code",
   "execution_count": 40,
   "metadata": {},
   "outputs": [
    {
     "name": "stdout",
     "output_type": "stream",
     "text": [
      "它是貓\n"
     ]
    }
   ],
   "source": [
    "#2個條件判斷使用巢狀判斷\n",
    "furry = True\n",
    "small = True\n",
    "\n",
    "if furry:\n",
    "    #有毛的\n",
    "    if small:\n",
    "        #小的\n",
    "        print(\"它是貓\")\n",
    "    else:\n",
    "        #大的\n",
    "        print(\"它是熊\")\n",
    "else:\n",
    "    #沒有毛的\n",
    "    if small:\n",
    "        #小的\n",
    "        print(\"它是小蜥蜴\")\n",
    "    else:\n",
    "        #大的\n",
    "        print(\"它是人\")\n"
   ]
  },
  {
   "cell_type": "code",
   "execution_count": 42,
   "metadata": {},
   "outputs": [
    {
     "name": "stdout",
     "output_type": "stream",
     "text": [
      "請輸入身高,單位為公分:177\n",
      "請輸入體重,單位為公斤:80\n",
      "您的BMI是25.54\n",
      "您的體重是過重\n"
     ]
    }
   ],
   "source": [
    "'''\n",
    "請依據 BMI 值分析他人的身體狀況。\n",
    "BMI值\t< 18.5\t18.5-25\t25-30\t>30\n",
    "身體狀態\t 太輕\t 正常\t過重 \t肥胖\n",
    "'''\n",
    "\n",
    "height = float(input('請輸入身高,單位為公分:'))\n",
    "weight = float(input('請輸入體重,單位為公斤:'))\n",
    "bmi = weight / (height / 100) ** 2\n",
    "\n",
    "if bmi < 18.5:\n",
    "    state = '太輕'\n",
    "elif bmi <= 25:\n",
    "    state = '正常'\n",
    "elif bmi <= 30:\n",
    "    state = '過重'\n",
    "else:\n",
    "    state = '肥胖'\n",
    "print(\"您的BMI是%.2f\" % bmi)\n",
    "print(\"您的體重是%s\" % state)"
   ]
  },
  {
   "cell_type": "code",
   "execution_count": 44,
   "metadata": {},
   "outputs": [
    {
     "name": "stdout",
     "output_type": "stream",
     "text": [
      "0\n",
      "1\n",
      "2\n",
      "3\n",
      "4\n"
     ]
    }
   ],
   "source": [
    "for item in range(5):\n",
    "    print(item)"
   ]
  },
  {
   "cell_type": "code",
   "execution_count": 45,
   "metadata": {},
   "outputs": [
    {
     "name": "stdout",
     "output_type": "stream",
     "text": [
      "10\n",
      "11\n",
      "12\n",
      "13\n",
      "14\n"
     ]
    }
   ],
   "source": [
    "for item in range(10,15):\n",
    "    print(item)"
   ]
  },
  {
   "cell_type": "code",
   "execution_count": 48,
   "metadata": {},
   "outputs": [
    {
     "name": "stdout",
     "output_type": "stream",
     "text": [
      "1\n",
      "3\n",
      "5\n",
      "7\n",
      "9\n"
     ]
    }
   ],
   "source": [
    "for item in range(1,11,2):\n",
    "    print(item)"
   ]
  },
  {
   "cell_type": "code",
   "execution_count": 50,
   "metadata": {},
   "outputs": [
    {
     "name": "stdout",
     "output_type": "stream",
     "text": [
      "9765625\n"
     ]
    }
   ],
   "source": [
    "num = 1\n",
    "for _ in range(10):\n",
    "    num *= 5\n",
    "print(num)"
   ]
  },
  {
   "cell_type": "code",
   "execution_count": null,
   "metadata": {},
   "outputs": [],
   "source": []
  }
 ],
 "metadata": {
  "kernelspec": {
   "display_name": "Python 3",
   "language": "python",
   "name": "python3"
  },
  "language_info": {
   "codemirror_mode": {
    "name": "ipython",
    "version": 3
   },
   "file_extension": ".py",
   "mimetype": "text/x-python",
   "name": "python",
   "nbconvert_exporter": "python",
   "pygments_lexer": "ipython3",
   "version": "3.8.3"
  }
 },
 "nbformat": 4,
 "nbformat_minor": 4
}
