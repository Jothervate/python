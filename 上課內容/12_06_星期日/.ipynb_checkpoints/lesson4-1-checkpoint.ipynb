{
 "cells": [
  {
   "cell_type": "code",
   "execution_count": 3,
   "metadata": {},
   "outputs": [
    {
     "name": "stdout",
     "output_type": "stream",
     "text": [
      "請輸入第一個數:34.5\n",
      "請輸入第二個數:23.7\n",
      "請輸入第三個數:98.8\n",
      "三個數的總和為:157.000000\n"
     ]
    }
   ],
   "source": [
    "sum = 0\n",
    "x = float(input('請輸入第一個數:'))\n",
    "sum += x\n",
    "x = float(input('請輸入第二個數:'))\n",
    "sum += x\n",
    "x = float(input('請輸入第三個數:'))\n",
    "sum += x\n",
    "print(\"三個數的總和為:%.3f\" % sum)"
   ]
  },
  {
   "cell_type": "code",
   "execution_count": null,
   "metadata": {},
   "outputs": [],
   "source": []
  }
 ],
 "metadata": {
  "kernelspec": {
   "display_name": "Python 3",
   "language": "python",
   "name": "python3"
  },
  "language_info": {
   "codemirror_mode": {
    "name": "ipython",
    "version": 3
   },
   "file_extension": ".py",
   "mimetype": "text/x-python",
   "name": "python",
   "nbconvert_exporter": "python",
   "pygments_lexer": "ipython3",
   "version": "3.8.3"
  }
 },
 "nbformat": 4,
 "nbformat_minor": 4
}
