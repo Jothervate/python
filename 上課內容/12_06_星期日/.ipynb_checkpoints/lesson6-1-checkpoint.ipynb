{
 "cells": [
  {
   "cell_type": "code",
   "execution_count": 3,
   "metadata": {},
   "outputs": [
    {
     "name": "stdout",
     "output_type": "stream",
     "text": [
      "請輸入第1位學生的資料:\n",
      "78\n",
      "請輸入第2位學生的資料:\n",
      "90\n",
      "請輸入第3位學生的資料:\n",
      "89\n",
      "請輸入第4位學生的資料:\n",
      "90\n",
      "請輸入第5位學生的資料:\n",
      "89\n",
      "[78, 90, 89, 90, 89]\n",
      "全班總成績為:436分,平均為 87.20分\n"
     ]
    }
   ],
   "source": [
    "nums = 5\n",
    "scores = []\n",
    "sum = 0\n",
    "for i in range(nums):\n",
    "    i += 1\n",
    "    print(\"請輸入第{0:d}位學生的資料:\".format(i)) \n",
    "    scores.append(int(input()))\n",
    "\n",
    "print(scores)\n",
    "\n",
    "for score in scores:\n",
    "    sum += score\n",
    "\n",
    "ave = sum / nums\n",
    "print(\"全班總成績為:{:d}分,平均為{:6.2f}分\".format(sum,ave))"
   ]
  },
  {
   "cell_type": "code",
   "execution_count": 5,
   "metadata": {},
   "outputs": [
    {
     "name": "stdout",
     "output_type": "stream",
     "text": [
      "請輸入第1位學生的資料\n",
      "67\n",
      "請輸入第2位學生的資料\n",
      "87\n",
      "請輸入第3位學生的資料\n",
      "78\n",
      "請輸入第4位學生的資料\n",
      "98\n",
      "請輸入第5位學生的資料\n",
      "87\n",
      "[67, 87, 78, 98, 87]\n",
      "全班總成績為:417分,平均為 83.40分\n"
     ]
    }
   ],
   "source": [
    "nums = 5\n",
    "scores = []\n",
    "sum = 0\n",
    "\n",
    "for i in range(nums):\n",
    "    i += 1\n",
    "    print(\"請輸入第{0:d}位學生的資料\".format(i))\n",
    "    scores.append(int(input()))\n",
    "    \n",
    "print(scores)\n",
    "\n",
    "for score in scores:\n",
    "    sum += score\n",
    "\n",
    "ave = sum / nums #浮點數的除法!\n",
    "print(\"全班總成績為:{:d}分,平均為{:6.2f}分\".format(sum, ave)) #{0:d}可簡化為{:d}"
   ]
  },
  {
   "cell_type": "code",
   "execution_count": 6,
   "metadata": {},
   "outputs": [
    {
     "data": {
      "text/plain": [
       "['台北', '台中', '高雄', '台南', '花蓮', '台東']"
      ]
     },
     "execution_count": 6,
     "metadata": {},
     "output_type": "execute_result"
    }
   ],
   "source": [
    "#extend(), +=\n",
    "citys = ['台北', '台中', '高雄', '台南']\n",
    "others = ['花蓮', '台東']\n",
    "citys.extend(others)\n",
    "citys"
   ]
  },
  {
   "cell_type": "code",
   "execution_count": 7,
   "metadata": {},
   "outputs": [
    {
     "data": {
      "text/plain": [
       "['台北', '台中', '高雄', '台南', '花蓮', '台東']"
      ]
     },
     "execution_count": 7,
     "metadata": {},
     "output_type": "execute_result"
    }
   ],
   "source": [
    "#extend(), +=\n",
    "citys = ['台北', '台中', '高雄', '台南']\n",
    "others = ['花蓮', '台東']\n",
    "citys += others\n",
    "citys"
   ]
  },
  {
   "cell_type": "code",
   "execution_count": null,
   "metadata": {},
   "outputs": [],
   "source": []
  }
 ],
 "metadata": {
  "kernelspec": {
   "display_name": "Python 3",
   "language": "python",
   "name": "python3"
  },
  "language_info": {
   "codemirror_mode": {
    "name": "ipython",
    "version": 3
   },
   "file_extension": ".py",
   "mimetype": "text/x-python",
   "name": "python",
   "nbconvert_exporter": "python",
   "pygments_lexer": "ipython3",
   "version": "3.8.3"
  }
 },
 "nbformat": 4,
 "nbformat_minor": 4
}
