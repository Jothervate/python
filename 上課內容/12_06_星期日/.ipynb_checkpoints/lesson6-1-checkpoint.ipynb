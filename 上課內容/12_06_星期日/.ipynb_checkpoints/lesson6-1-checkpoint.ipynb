{
 "cells": [
  {
   "cell_type": "code",
   "execution_count": 3,
   "metadata": {},
   "outputs": [
    {
     "name": "stdout",
     "output_type": "stream",
     "text": [
      "請輸入第1位學生的資料:\n",
      "78\n",
      "請輸入第2位學生的資料:\n",
      "90\n",
      "請輸入第3位學生的資料:\n",
      "89\n",
      "請輸入第4位學生的資料:\n",
      "90\n",
      "請輸入第5位學生的資料:\n",
      "89\n",
      "[78, 90, 89, 90, 89]\n",
      "全班總成績為:436分,平均為 87.20分\n"
     ]
    }
   ],
   "source": [
    "nums = 5\n",
    "scores = []\n",
    "sum = 0\n",
    "for i in range(nums):\n",
    "    i += 1\n",
    "    print(\"請輸入第{0:d}位學生的資料:\".format(i)) \n",
    "    scores.append(int(input()))\n",
    "\n",
    "print(scores)\n",
    "\n",
    "for score in scores:\n",
    "    sum += score\n",
    "\n",
    "ave = sum / nums\n",
    "print(\"全班總成績為:{:d}分,平均為{:6.2f}分\".format(sum,ave))"
   ]
  },
  {
   "cell_type": "code",
   "execution_count": 5,
   "metadata": {},
   "outputs": [
    {
     "name": "stdout",
     "output_type": "stream",
     "text": [
      "請輸入第1位學生的資料\n",
      "67\n",
      "請輸入第2位學生的資料\n",
      "87\n",
      "請輸入第3位學生的資料\n",
      "78\n",
      "請輸入第4位學生的資料\n",
      "98\n",
      "請輸入第5位學生的資料\n",
      "87\n",
      "[67, 87, 78, 98, 87]\n",
      "全班總成績為:417分,平均為 83.40分\n"
     ]
    }
   ],
   "source": [
    "nums = 5\n",
    "scores = []\n",
    "sum = 0\n",
    "\n",
    "for i in range(nums):\n",
    "    i += 1\n",
    "    print(\"請輸入第{0:d}位學生的資料\".format(i))\n",
    "    scores.append(int(input()))\n",
    "    \n",
    "print(scores)\n",
    "\n",
    "for score in scores:\n",
    "    sum += score\n",
    "\n",
    "ave = sum / nums #浮點數的除法!\n",
    "print(\"全班總成績為:{:d}分,平均為{:6.2f}分\".format(sum, ave)) #{0:d}可簡化為{:d}"
   ]
  },
  {
   "cell_type": "code",
   "execution_count": 6,
   "metadata": {},
   "outputs": [
    {
     "data": {
      "text/plain": [
       "['台北', '台中', '高雄', '台南', '花蓮', '台東']"
      ]
     },
     "execution_count": 6,
     "metadata": {},
     "output_type": "execute_result"
    }
   ],
   "source": [
    "#extend(), +=\n",
    "citys = ['台北', '台中', '高雄', '台南']\n",
    "others = ['花蓮', '台東']\n",
    "citys.extend(others)\n",
    "citys"
   ]
  },
  {
   "cell_type": "code",
   "execution_count": 7,
   "metadata": {},
   "outputs": [
    {
     "data": {
      "text/plain": [
       "['台北', '台中', '高雄', '台南', '花蓮', '台東']"
      ]
     },
     "execution_count": 7,
     "metadata": {},
     "output_type": "execute_result"
    }
   ],
   "source": [
    "#extend(), +=\n",
    "citys = ['台北', '台中', '高雄', '台南']\n",
    "others = ['花蓮', '台東']\n",
    "citys += others\n",
    "citys"
   ]
  },
  {
   "cell_type": "code",
   "execution_count": 19,
   "metadata": {},
   "outputs": [
    {
     "data": {
      "text/plain": [
       "[['stu1', 74, 86, 81, 67, 59],\n",
       " ['stu2', 84, 50, 94, 64, 85],\n",
       " ['stu3', 94, 59, 97, 67, 67],\n",
       " ['stu4', 81, 62, 98, 67, 53],\n",
       " ['stu5', 60, 90, 90, 96, 87],\n",
       " ['stu6', 66, 54, 65, 57, 64],\n",
       " ['stu7', 75, 78, 82, 84, 53],\n",
       " ['stu8', 55, 80, 63, 84, 53],\n",
       " ['stu9', 56, 65, 98, 62, 57],\n",
       " ['stu10', 90, 58, 62, 50, 87],\n",
       " ['stu11', 80, 99, 62, 79, 58],\n",
       " ['stu12', 83, 81, 54, 96, 56],\n",
       " ['stu13', 55, 97, 66, 84, 66],\n",
       " ['stu14', 76, 98, 57, 100, 93],\n",
       " ['stu15', 75, 65, 62, 56, 89],\n",
       " ['stu16', 79, 97, 80, 88, 87],\n",
       " ['stu17', 61, 56, 68, 90, 75],\n",
       " ['stu18', 77, 68, 59, 62, 67],\n",
       " ['stu19', 76, 84, 87, 57, 69],\n",
       " ['stu20', 76, 77, 80, 73, 96],\n",
       " ['stu21', 61, 53, 97, 63, 92],\n",
       " ['stu22', 68, 63, 93, 58, 81],\n",
       " ['stu23', 59, 86, 64, 84, 74],\n",
       " ['stu24', 80, 51, 82, 65, 84],\n",
       " ['stu25', 97, 94, 76, 74, 74],\n",
       " ['stu26', 90, 82, 65, 92, 74],\n",
       " ['stu27', 54, 95, 99, 77, 86],\n",
       " ['stu28', 64, 54, 72, 65, 86],\n",
       " ['stu29', 67, 89, 62, 71, 53],\n",
       " ['stu30', 84, 56, 93, 55, 86],\n",
       " ['stu31', 72, 88, 51, 52, 81],\n",
       " ['stu32', 77, 53, 82, 55, 74],\n",
       " ['stu33', 78, 63, 86, 94, 97],\n",
       " ['stu34', 54, 87, 65, 91, 75],\n",
       " ['stu35', 84, 93, 82, 96, 95],\n",
       " ['stu36', 57, 67, 74, 70, 98],\n",
       " ['stu37', 69, 77, 90, 82, 82],\n",
       " ['stu38', 97, 85, 95, 75, 83],\n",
       " ['stu39', 88, 61, 81, 73, 54],\n",
       " ['stu40', 69, 52, 95, 61, 99],\n",
       " ['stu41', 86, 63, 77, 74, 69],\n",
       " ['stu42', 55, 74, 95, 96, 99],\n",
       " ['stu43', 97, 82, 85, 99, 75],\n",
       " ['stu44', 65, 99, 71, 95, 82],\n",
       " ['stu45', 91, 66, 67, 64, 87],\n",
       " ['stu46', 72, 88, 94, 96, 60],\n",
       " ['stu47', 94, 89, 52, 60, 84],\n",
       " ['stu48', 53, 60, 76, 92, 60],\n",
       " ['stu49', 79, 97, 71, 53, 60],\n",
       " ['stu50', 79, 69, 64, 70, 69]]"
      ]
     },
     "execution_count": 19,
     "metadata": {},
     "output_type": "execute_result"
    }
   ],
   "source": [
    "import random\n",
    "\n",
    "students = []\n",
    "for i in range(50):\n",
    "    scores = [\"stu{:d}\".format(i+1)]\n",
    "    for _ in range(5):\n",
    "        scores.append(random.randint(50,100))\n",
    "    students.append(scores)\n",
    "students"
   ]
  },
  {
   "cell_type": "code",
   "execution_count": 21,
   "metadata": {},
   "outputs": [
    {
     "data": {
      "text/plain": [
       "[['stu1', 79, 67, 52, 85, 64],\n",
       " ['stu2', 93, 85, 90, 79, 76],\n",
       " ['stu3', 91, 74, 91, 55, 100],\n",
       " ['stu4', 96, 62, 91, 99, 60],\n",
       " ['stu5', 94, 70, 78, 69, 88],\n",
       " ['stu6', 77, 68, 56, 70, 58],\n",
       " ['stu7', 78, 67, 54, 52, 51],\n",
       " ['stu8', 74, 66, 62, 70, 99],\n",
       " ['stu9', 90, 77, 69, 86, 91],\n",
       " ['stu10', 60, 81, 94, 82, 51],\n",
       " ['stu11', 73, 85, 95, 50, 91],\n",
       " ['stu12', 53, 59, 72, 79, 79],\n",
       " ['stu13', 85, 97, 98, 65, 53],\n",
       " ['stu14', 72, 66, 86, 92, 57],\n",
       " ['stu15', 82, 79, 64, 69, 92],\n",
       " ['stu16', 57, 83, 58, 76, 94],\n",
       " ['stu17', 60, 94, 97, 91, 90],\n",
       " ['stu18', 93, 100, 81, 52, 66],\n",
       " ['stu19', 99, 81, 89, 87, 80],\n",
       " ['stu20', 60, 83, 74, 80, 90],\n",
       " ['stu21', 74, 87, 59, 81, 73],\n",
       " ['stu22', 61, 99, 53, 87, 50],\n",
       " ['stu23', 95, 85, 71, 81, 79],\n",
       " ['stu24', 53, 80, 76, 76, 61],\n",
       " ['stu25', 68, 93, 98, 57, 94],\n",
       " ['stu26', 89, 72, 94, 72, 88],\n",
       " ['stu27', 74, 98, 98, 64, 99],\n",
       " ['stu28', 89, 97, 65, 64, 51],\n",
       " ['stu29', 79, 80, 96, 71, 99],\n",
       " ['stu30', 79, 52, 83, 95, 97],\n",
       " ['stu31', 92, 69, 68, 82, 81],\n",
       " ['stu32', 72, 77, 80, 51, 50],\n",
       " ['stu33', 75, 57, 79, 98, 92],\n",
       " ['stu34', 65, 91, 84, 86, 88],\n",
       " ['stu35', 84, 91, 56, 90, 67],\n",
       " ['stu36', 87, 50, 95, 93, 72],\n",
       " ['stu37', 61, 98, 76, 72, 100],\n",
       " ['stu38', 54, 83, 89, 98, 66],\n",
       " ['stu39', 98, 74, 64, 51, 57],\n",
       " ['stu40', 52, 50, 76, 73, 66],\n",
       " ['stu41', 67, 76, 55, 87, 75],\n",
       " ['stu42', 53, 89, 72, 58, 93],\n",
       " ['stu43', 66, 71, 65, 71, 85],\n",
       " ['stu44', 91, 50, 79, 72, 91],\n",
       " ['stu45', 90, 88, 62, 78, 59],\n",
       " ['stu46', 62, 92, 88, 93, 58],\n",
       " ['stu47', 99, 75, 97, 65, 92],\n",
       " ['stu48', 69, 92, 99, 63, 99],\n",
       " ['stu49', 60, 77, 75, 58, 69],\n",
       " ['stu50', 56, 89, 95, 82, 73]]"
      ]
     },
     "execution_count": 21,
     "metadata": {},
     "output_type": "execute_result"
    }
   ],
   "source": [
    "import random as rd\n",
    "\n",
    "students = []\n",
    "for i in range(50):\n",
    "    scores = [\"stu{:d}\".format(i+1)]\n",
    "    for _ in range(5):\n",
    "        scores.append(rd.randrange(50,101))\n",
    "    students.append(scores)\n",
    "students"
   ]
  },
  {
   "cell_type": "code",
   "execution_count": null,
   "metadata": {},
   "outputs": [],
   "source": []
  }
 ],
 "metadata": {
  "kernelspec": {
   "display_name": "Python 3",
   "language": "python",
   "name": "python3"
  },
  "language_info": {
   "codemirror_mode": {
    "name": "ipython",
    "version": 3
   },
   "file_extension": ".py",
   "mimetype": "text/x-python",
   "name": "python",
   "nbconvert_exporter": "python",
   "pygments_lexer": "ipython3",
   "version": "3.8.3"
  }
 },
 "nbformat": 4,
 "nbformat_minor": 4
}
