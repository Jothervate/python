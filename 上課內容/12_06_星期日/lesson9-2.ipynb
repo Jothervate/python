{
 "cells": [
  {
   "cell_type": "code",
   "execution_count": 4,
   "metadata": {},
   "outputs": [],
   "source": [
    "text = \"\"\"python與中文\n",
    "1. 我們來試試看中文儲存能力。\n",
    "2. 許這個字會有編碼衝突風險。\n",
    "3. 犇這個字必須是utf8編碼才有。\n",
    "\"\"\"\n",
    "print(text,file=open('data.txt','w',encoding='utf-8'))"
   ]
  },
  {
   "cell_type": "code",
   "execution_count": 5,
   "metadata": {},
   "outputs": [],
   "source": [
    "text = \"\"\"python與中文\n",
    "1. 我們來試試看中文儲存能力。\n",
    "2. 許這個字會有編碼衝突風險。\n",
    "3. 犇這個字必須是utf8編碼才有。\n",
    "\"\"\"\n",
    "\n",
    "file = open('sample1.txt', 'w', encoding='utf-8')\n",
    "file.write(text) #write()實體方法\n",
    "file.close()#close()關閉文字"
   ]
  },
  {
   "cell_type": "code",
   "execution_count": 9,
   "metadata": {},
   "outputs": [],
   "source": [
    "import random\n",
    "\n",
    "students = list()\n",
    "for _ in range(50):\n",
    "    scores = []\n",
    "    for _ in range(5):\n",
    "        scores.append(random.randint(50,100))\n",
    "    students.append(scores)\n",
    "file = open('students.txt','w', encoding='utf-8')\n",
    "file.write(str(students))\n",
    "file.close()"
   ]
  },
  {
   "cell_type": "code",
   "execution_count": 12,
   "metadata": {},
   "outputs": [
    {
     "name": "stdout",
     "output_type": "stream",
     "text": [
      "[[98, 68, \n"
     ]
    }
   ],
   "source": [
    "#讀取檔案\n",
    "file = open('students.txt', 'r', encoding='utf-8')\n",
    "#content = file.read()\n",
    "#print(content)\n",
    "content1 = file.read(10)\n",
    "print(content1)\n",
    "file.close()"
   ]
  },
  {
   "cell_type": "code",
   "execution_count": 15,
   "metadata": {},
   "outputs": [
    {
     "name": "stdout",
     "output_type": "stream",
     "text": [
      "程式結束\n"
     ]
    }
   ],
   "source": [
    "import csv\n",
    "'''\n",
    "編號, 國文, 英文, 數學, 自然, 社會\n",
    "01, 87, 90, 56, 87, 89\n",
    "02, 98, 56, 78, 90, 49\n",
    "'''\n",
    "\n",
    "file = open('students.csv','w', newline='', encoding='utf-8')\n",
    "csvWriter = csv.writer(file)\n",
    "csvWriter.writerow(['編號', '國文', '英文', '數學', '自然', '社會'])\n",
    "csvWriter.writerow(['01', 87, 90, 56, 87, 89])\n",
    "csvWriter.writerow(['02', 98, 56, 78, 90, 49])\n",
    "file.close()\n",
    "print(\"程式結束\")"
   ]
  },
  {
   "cell_type": "code",
   "execution_count": 16,
   "metadata": {},
   "outputs": [
    {
     "name": "stdout",
     "output_type": "stream",
     "text": [
      "程式結束\n"
     ]
    }
   ],
   "source": [
    "import csv\n",
    "with open('students1.csv', 'w', newline='', encoding='utf-8') as file:\n",
    "    csvWriter=csv.writer(file)\n",
    "    csvWriter.writerow(['編號', '國文', '英文', '數學', '自然', '社會'])\n",
    "    csvWriter.writerow(['01', 87, 90, 56, 87, 89])\n",
    "    csvWriter.writerow(['02', 98, 56, 78, 90, 49])\n",
    "    \n",
    "print(\"程式結束\")   \n"
   ]
  },
  {
   "cell_type": "code",
   "execution_count": 17,
   "metadata": {},
   "outputs": [
    {
     "name": "stdout",
     "output_type": "stream",
     "text": [
      "程式結束\n"
     ]
    }
   ],
   "source": [
    "import csv\n",
    "import random\n",
    "\n",
    "with open('students2.csv', 'w', newline='', encoding='utf-8') as file:\n",
    "    csvWriter=csv.writer(file)\n",
    "    csvWriter.writerow(['編號', '國文', '英文', '數學', '自然', '社會'])\n",
    "    for i in range(50):\n",
    "        scores = ['A000%i' % (i+1)]\n",
    "        for _ in range(5):\n",
    "            scores.append(random.randint(50,100))\n",
    "        csvWriter.writerow(scores)\n",
    "print(\"程式結束\")"
   ]
  },
  {
   "cell_type": "code",
   "execution_count": null,
   "metadata": {},
   "outputs": [],
   "source": []
  }
 ],
 "metadata": {
  "kernelspec": {
   "display_name": "Python 3",
   "language": "python",
   "name": "python3"
  },
  "language_info": {
   "codemirror_mode": {
    "name": "ipython",
    "version": 3
   },
   "file_extension": ".py",
   "mimetype": "text/x-python",
   "name": "python",
   "nbconvert_exporter": "python",
   "pygments_lexer": "ipython3",
   "version": "3.8.3"
  }
 },
 "nbformat": 4,
 "nbformat_minor": 4
}
