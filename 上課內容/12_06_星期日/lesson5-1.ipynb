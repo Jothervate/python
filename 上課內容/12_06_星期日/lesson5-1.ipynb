{
 "cells": [
  {
   "cell_type": "code",
   "execution_count": 2,
   "metadata": {},
   "outputs": [
    {
     "name": "stdout",
     "output_type": "stream",
     "text": [
      "請輸入小寫英文字[按q會離開]:taipei\n",
      "Taipei\n",
      "請輸入小寫英文字[按q會離開]:hello\n",
      "Hello\n",
      "請輸入小寫英文字[按q會離開]:q\n",
      "程式結束\n"
     ]
    }
   ],
   "source": [
    "stuff = input(\"請輸入小寫英文字[按q會離開]:\")\n",
    "#利用while後的boolean\n",
    "while(stuff != 'q'):\n",
    "    print(stuff.capitalize())\n",
    "    stuff = input(\"請輸入小寫英文字[按q會離開]:\")\n",
    "    \n",
    "\n",
    "print(\"程式結束\")"
   ]
  },
  {
   "cell_type": "code",
   "execution_count": 3,
   "metadata": {},
   "outputs": [
    {
     "name": "stdout",
     "output_type": "stream",
     "text": [
      "請輸入小寫英文字[按q會離開]:taipei\n",
      "Taipei\n",
      "請輸入小寫英文字[按q會離開]:hello\n",
      "Hello\n",
      "請輸入小寫英文字[按q會離開]:q\n"
     ]
    }
   ],
   "source": [
    "#利用break\n",
    "\n",
    "while(True):\n",
    "    stuff = input(\"請輸入小寫英文字[按q會離開]:\")\n",
    "    if(stuff == 'q'):\n",
    "        break\n",
    "    print(stuff.capitalize())\n",
    "print(\"程式結束\")"
   ]
  },
  {
   "cell_type": "code",
   "execution_count": null,
   "metadata": {},
   "outputs": [],
   "source": []
  }
 ],
 "metadata": {
  "kernelspec": {
   "display_name": "Python 3",
   "language": "python",
   "name": "python3"
  },
  "language_info": {
   "codemirror_mode": {
    "name": "ipython",
    "version": 3
   },
   "file_extension": ".py",
   "mimetype": "text/x-python",
   "name": "python",
   "nbconvert_exporter": "python",
   "pygments_lexer": "ipython3",
   "version": "3.8.3"
  }
 },
 "nbformat": 4,
 "nbformat_minor": 4
}
