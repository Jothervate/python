{
 "cells": [
  {
   "cell_type": "code",
   "execution_count": 1,
   "metadata": {},
   "outputs": [
    {
     "name": "stdout",
     "output_type": "stream",
     "text": [
      "Hello! pythone\n"
     ]
    }
   ],
   "source": [
    "print(\"Hello! pythone\")"
   ]
  },
  {
   "cell_type": "code",
   "execution_count": 2,
   "metadata": {},
   "outputs": [
    {
     "name": "stdout",
     "output_type": "stream",
     "text": [
      "100\n"
     ]
    },
    {
     "data": {
      "text/plain": [
       "int"
      ]
     },
     "execution_count": 2,
     "metadata": {},
     "output_type": "execute_result"
    }
   ],
   "source": [
    "#建立變數\n",
    "openedx = 100\n",
    "print(openedx)\n",
    "type(openedx)"
   ]
  },
  {
   "cell_type": "code",
   "execution_count": 3,
   "metadata": {},
   "outputs": [
    {
     "name": "stdout",
     "output_type": "stream",
     "text": [
      "100.0\n"
     ]
    },
    {
     "data": {
      "text/plain": [
       "float"
      ]
     },
     "execution_count": 3,
     "metadata": {},
     "output_type": "execute_result"
    }
   ],
   "source": [
    "open1 = 100.0\n",
    "print(open1)\n",
    "type(open1)"
   ]
  },
  {
   "cell_type": "code",
   "execution_count": 4,
   "metadata": {},
   "outputs": [
    {
     "name": "stdout",
     "output_type": "stream",
     "text": [
      "robert\n"
     ]
    },
    {
     "data": {
      "text/plain": [
       "str"
      ]
     },
     "execution_count": 4,
     "metadata": {},
     "output_type": "execute_result"
    }
   ],
   "source": [
    "open2 = \"robert\"\n",
    "print(open2)\n",
    "type(open2)"
   ]
  },
  {
   "cell_type": "code",
   "execution_count": 5,
   "metadata": {},
   "outputs": [
    {
     "name": "stdout",
     "output_type": "stream",
     "text": [
      "True\n"
     ]
    },
    {
     "data": {
      "text/plain": [
       "bool"
      ]
     },
     "execution_count": 5,
     "metadata": {},
     "output_type": "execute_result"
    }
   ],
   "source": [
    "open3 = True\n",
    "print(open3)\n",
    "type(open3)"
   ]
  },
  {
   "cell_type": "code",
   "execution_count": 6,
   "metadata": {},
   "outputs": [
    {
     "name": "stdout",
     "output_type": "stream",
     "text": [
      "台灣\n",
      "2020\n"
     ]
    }
   ],
   "source": [
    "#一次建立2個變數\n",
    "taiwan, years = '台灣', 2020\n",
    "print(taiwan)\n",
    "print(years)"
   ]
  },
  {
   "cell_type": "code",
   "execution_count": 7,
   "metadata": {},
   "outputs": [
    {
     "ename": "NameError",
     "evalue": "name 'taiwan' is not defined",
     "output_type": "error",
     "traceback": [
      "\u001b[0;31m---------------------------------------------------------------------------\u001b[0m",
      "\u001b[0;31mNameError\u001b[0m                                 Traceback (most recent call last)",
      "\u001b[0;32m<ipython-input-7-dfc945a26984>\u001b[0m in \u001b[0;36m<module>\u001b[0;34m\u001b[0m\n\u001b[1;32m      1\u001b[0m \u001b[0;32mdel\u001b[0m \u001b[0mtaiwan\u001b[0m\u001b[0;34m\u001b[0m\u001b[0;34m\u001b[0m\u001b[0m\n\u001b[0;32m----> 2\u001b[0;31m \u001b[0mprint\u001b[0m\u001b[0;34m(\u001b[0m\u001b[0mtaiwan\u001b[0m\u001b[0;34m)\u001b[0m\u001b[0;34m\u001b[0m\u001b[0;34m\u001b[0m\u001b[0m\n\u001b[0m",
      "\u001b[0;31mNameError\u001b[0m: name 'taiwan' is not defined"
     ]
    }
   ],
   "source": [
    "del taiwan\n",
    "print(taiwan)"
   ]
  },
  {
   "cell_type": "code",
   "execution_count": null,
   "metadata": {},
   "outputs": [],
   "source": [
    "print(3)\n",
    "print(3, 3.24, \"Hello\", False, years)"
   ]
  },
  {
   "cell_type": "code",
   "execution_count": null,
   "metadata": {},
   "outputs": [],
   "source": [
    "a = 100\n",
    "print(\"a=\", a)\n",
    "b = 50\n",
    "print(\"b=\", b)\n",
    "print(\"a+b=\", a + b)"
   ]
  },
  {
   "cell_type": "code",
   "execution_count": null,
   "metadata": {},
   "outputs": [],
   "source": [
    "var1 = 20\n",
    "print(var1)\n",
    "print(type(var1))\n",
    "var2 = 123.45\n",
    "var2"
   ]
  },
  {
   "cell_type": "code",
   "execution_count": null,
   "metadata": {},
   "outputs": [],
   "source": [
    "name = \"robert\"\n",
    "chinese = 87\n",
    "english = 76\n",
    "math = 100\n",
    "\n",
    "#print(name, \":中文=\", chinese, \",英文=\", english, \",數學=\", math)\n",
    "\n",
    "#字串格式化的語法\n",
    "#舊的\n",
    "\n",
    "print(\"%s:\\n中文=%d,英文=%d,數學=%d\" % (name,chinese,english,math))\n",
    "\n",
    "sum = chinese + english + math\n",
    "print(\"總分為%d\" % sum)\n",
    "\n",
    "average = sum/3\n",
    "print(\"平均為%-8.2f\" % average)"
   ]
  },
  {
   "cell_type": "code",
   "execution_count": 14,
   "metadata": {},
   "outputs": [
    {
     "name": "stdout",
     "output_type": "stream",
     "text": [
      "robert:\n",
      "中文=87,英文=76,數學=100%\n",
      "總分為263\n",
      "平均為87.67   \n"
     ]
    }
   ],
   "source": [
    "name = \"robert\"\n",
    "chinese = 87\n",
    "english = 76\n",
    "math = 100\n",
    "\n",
    "#字串格式化的語法\n",
    "#新的.format\n",
    "print(\"{:s}:\\n中文={:d},英文={:d},數學={:d}%\".format(name,chinese,english,math))\n",
    "\n",
    "sum = chinese + english + math\n",
    "print(\"總分為{:d}\".format(sum))\n",
    "\n",
    "average = sum/3\n",
    "print(\"平均為{:<8.2f}\".format(average))"
   ]
  },
  {
   "cell_type": "code",
   "execution_count": null,
   "metadata": {},
   "outputs": [],
   "source": [
    "name='Derrick'\n",
    "chinese=100\n",
    "english=100\n",
    "math=100\n",
    "\n",
    "\n",
    "#print(name,':中文=',chiness,',英文=',english,',數學=',math,',總分=',chiness+english+math)\n",
    "\n",
    "#字串格式化的語法\n",
    "#舊的\n",
    "print('%s:\\n\\n中文=%d\\n英文=%d\\n數學=%d\\n' % (name,chinese,english,math))\n",
    "\n",
    "sum=chiness+english+math\n",
    "print('總分為%d'%sum)\n",
    "\n",
    "average=sum/3\n",
    "print('平均為%.2f'%average)"
   ]
  },
  {
   "cell_type": "code",
   "execution_count": null,
   "metadata": {},
   "outputs": [],
   "source": []
  }
 ],
 "metadata": {
  "kernelspec": {
   "display_name": "Python 3",
   "language": "python",
   "name": "python3"
  },
  "language_info": {
   "codemirror_mode": {
    "name": "ipython",
    "version": 3
   },
   "file_extension": ".py",
   "mimetype": "text/x-python",
   "name": "python",
   "nbconvert_exporter": "python",
   "pygments_lexer": "ipython3",
   "version": "3.8.3"
  }
 },
 "nbformat": 4,
 "nbformat_minor": 4
}
