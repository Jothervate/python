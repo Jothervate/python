{
 "cells": [
  {
   "cell_type": "code",
   "execution_count": 3,
   "metadata": {},
   "outputs": [
    {
     "name": "stdout",
     "output_type": "stream",
     "text": [
      "請輸入第1位學生的資料:\n",
      "78\n",
      "請輸入第2位學生的資料:\n",
      "90\n",
      "請輸入第3位學生的資料:\n",
      "89\n",
      "請輸入第4位學生的資料:\n",
      "90\n",
      "請輸入第5位學生的資料:\n",
      "89\n",
      "[78, 90, 89, 90, 89]\n",
      "全班總成績為:436分,平均為 87.20分\n"
     ]
    }
   ],
   "source": [
    "nums = 5\n",
    "scores = []\n",
    "sum = 0\n",
    "for i in range(nums):\n",
    "    i += 1\n",
    "    print(\"請輸入第{0:d}位學生的資料:\".format(i)) \n",
    "    scores.append(int(input()))\n",
    "\n",
    "print(scores)\n",
    "\n",
    "for score in scores:\n",
    "    sum += score\n",
    "\n",
    "ave = sum / nums\n",
    "print(\"全班總成績為:{:d}分,平均為{:6.2f}分\".format(sum,ave))"
   ]
  },
  {
   "cell_type": "code",
   "execution_count": 5,
   "metadata": {},
   "outputs": [
    {
     "name": "stdout",
     "output_type": "stream",
     "text": [
      "請輸入第1位學生的資料\n",
      "67\n",
      "請輸入第2位學生的資料\n",
      "87\n",
      "請輸入第3位學生的資料\n",
      "78\n",
      "請輸入第4位學生的資料\n",
      "98\n",
      "請輸入第5位學生的資料\n",
      "87\n",
      "[67, 87, 78, 98, 87]\n",
      "全班總成績為:417分,平均為 83.40分\n"
     ]
    }
   ],
   "source": [
    "nums = 5\n",
    "scores = []\n",
    "sum = 0\n",
    "\n",
    "for i in range(nums):\n",
    "    i += 1\n",
    "    print(\"請輸入第{0:d}位學生的資料\".format(i))\n",
    "    scores.append(int(input()))\n",
    "    \n",
    "print(scores)\n",
    "\n",
    "for score in scores:\n",
    "    sum += score\n",
    "\n",
    "ave = sum / nums #浮點數的除法!\n",
    "print(\"全班總成績為:{:d}分,平均為{:6.2f}分\".format(sum, ave)) #{0:d}可簡化為{:d}"
   ]
  },
  {
   "cell_type": "code",
   "execution_count": 6,
   "metadata": {},
   "outputs": [
    {
     "data": {
      "text/plain": [
       "['台北', '台中', '高雄', '台南', '花蓮', '台東']"
      ]
     },
     "execution_count": 6,
     "metadata": {},
     "output_type": "execute_result"
    }
   ],
   "source": [
    "#extend(), +=\n",
    "citys = ['台北', '台中', '高雄', '台南']\n",
    "others = ['花蓮', '台東']\n",
    "citys.extend(others)\n",
    "citys"
   ]
  },
  {
   "cell_type": "code",
   "execution_count": 7,
   "metadata": {},
   "outputs": [
    {
     "data": {
      "text/plain": [
       "['台北', '台中', '高雄', '台南', '花蓮', '台東']"
      ]
     },
     "execution_count": 7,
     "metadata": {},
     "output_type": "execute_result"
    }
   ],
   "source": [
    "#extend(), +=\n",
    "citys = ['台北', '台中', '高雄', '台南']\n",
    "others = ['花蓮', '台東']\n",
    "citys += others\n",
    "citys"
   ]
  },
  {
   "cell_type": "code",
   "execution_count": 17,
   "metadata": {},
   "outputs": [
    {
     "data": {
      "text/plain": [
       "[['stu1', 23, 13, 32, 83, 12],\n",
       " ['stu2', 49, 61, 30, 83, 91],\n",
       " ['stu3', 77, 8, 97, 83, 47],\n",
       " ['stu4', 47, 55, 1, 26, 45],\n",
       " ['stu5', 46, 8, 53, 84, 9],\n",
       " ['stu6', 76, 66, 3, 94, 20],\n",
       " ['stu7', 22, 77, 9, 5, 80],\n",
       " ['stu8', 81, 58, 62, 6, 67],\n",
       " ['stu9', 17, 37, 79, 84, 67],\n",
       " ['stu10', 90, 38, 62, 22, 22],\n",
       " ['stu11', 24, 35, 69, 41, 91],\n",
       " ['stu12', 64, 94, 78, 96, 85],\n",
       " ['stu13', 6, 15, 10, 33, 92],\n",
       " ['stu14', 58, 16, 14, 75, 12],\n",
       " ['stu15', 88, 17, 31, 33, 27],\n",
       " ['stu16', 21, 72, 22, 50, 19],\n",
       " ['stu17', 68, 11, 87, 7, 99],\n",
       " ['stu18', 86, 54, 78, 84, 13],\n",
       " ['stu19', 39, 93, 68, 78, 15],\n",
       " ['stu20', 20, 42, 69, 5, 54],\n",
       " ['stu21', 74, 30, 35, 1, 36],\n",
       " ['stu22', 55, 54, 73, 97, 24],\n",
       " ['stu23', 77, 97, 33, 47, 99],\n",
       " ['stu24', 99, 68, 76, 12, 37],\n",
       " ['stu25', 26, 31, 13, 60, 23],\n",
       " ['stu26', 85, 96, 97, 78, 68],\n",
       " ['stu27', 20, 35, 24, 56, 68],\n",
       " ['stu28', 56, 3, 73, 24, 14],\n",
       " ['stu29', 49, 88, 79, 61, 11],\n",
       " ['stu30', 74, 11, 48, 6, 59],\n",
       " ['stu31', 86, 59, 88, 45, 2],\n",
       " ['stu32', 32, 57, 32, 27, 23],\n",
       " ['stu33', 60, 32, 60, 23, 17],\n",
       " ['stu34', 21, 37, 44, 34, 4],\n",
       " ['stu35', 54, 13, 23, 75, 73],\n",
       " ['stu36', 11, 84, 35, 96, 21],\n",
       " ['stu37', 10, 37, 48, 74, 94],\n",
       " ['stu38', 35, 23, 28, 84, 46],\n",
       " ['stu39', 69, 80, 42, 98, 17],\n",
       " ['stu40', 59, 13, 83, 57, 31],\n",
       " ['stu41', 84, 84, 49, 94, 23],\n",
       " ['stu42', 10, 13, 93, 82, 17],\n",
       " ['stu43', 86, 40, 51, 87, 13],\n",
       " ['stu44', 9, 94, 30, 93, 26],\n",
       " ['stu45', 59, 16, 36, 98, 44],\n",
       " ['stu46', 74, 54, 55, 7, 2],\n",
       " ['stu47', 41, 29, 58, 16, 83],\n",
       " ['stu48', 49, 15, 71, 76, 49],\n",
       " ['stu49', 93, 80, 6, 39, 53],\n",
       " ['stu50', 8, 26, 19, 59, 93]]"
      ]
     },
     "execution_count": 17,
     "metadata": {},
     "output_type": "execute_result"
    }
   ],
   "source": [
    "import random\n",
    "\n",
    "students = []\n",
    "for i in range(50):\n",
    "    scores = [\"stu{:d}\".format(i+1)]\n",
    "    for _ in range(5):\n",
    "        scores.append(int(random.random()*100))\n",
    "    students.append(scores)\n",
    "students"
   ]
  },
  {
   "cell_type": "code",
   "execution_count": null,
   "metadata": {},
   "outputs": [],
   "source": []
  }
 ],
 "metadata": {
  "kernelspec": {
   "display_name": "Python 3",
   "language": "python",
   "name": "python3"
  },
  "language_info": {
   "codemirror_mode": {
    "name": "ipython",
    "version": 3
   },
   "file_extension": ".py",
   "mimetype": "text/x-python",
   "name": "python",
   "nbconvert_exporter": "python",
   "pygments_lexer": "ipython3",
   "version": "3.8.3"
  }
 },
 "nbformat": 4,
 "nbformat_minor": 4
}
