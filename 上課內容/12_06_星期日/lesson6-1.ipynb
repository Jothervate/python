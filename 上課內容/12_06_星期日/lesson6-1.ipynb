{
 "cells": [
  {
   "cell_type": "code",
   "execution_count": 3,
   "metadata": {},
   "outputs": [
    {
     "name": "stdout",
     "output_type": "stream",
     "text": [
      "請輸入第1位學生的資料:\n",
      "78\n",
      "請輸入第2位學生的資料:\n",
      "90\n",
      "請輸入第3位學生的資料:\n",
      "89\n",
      "請輸入第4位學生的資料:\n",
      "90\n",
      "請輸入第5位學生的資料:\n",
      "89\n",
      "[78, 90, 89, 90, 89]\n",
      "全班總成績為:436分,平均為 87.20分\n"
     ]
    }
   ],
   "source": [
    "nums = 5\n",
    "scores = []\n",
    "sum = 0\n",
    "for i in range(nums):\n",
    "    i += 1\n",
    "    print(\"請輸入第{0:d}位學生的資料:\".format(i)) \n",
    "    scores.append(int(input()))\n",
    "\n",
    "print(scores)\n",
    "\n",
    "for score in scores:\n",
    "    sum += score\n",
    "\n",
    "ave = sum / nums\n",
    "print(\"全班總成績為:{:d}分,平均為{:6.2f}分\".format(sum,ave))"
   ]
  },
  {
   "cell_type": "code",
   "execution_count": 5,
   "metadata": {},
   "outputs": [
    {
     "name": "stdout",
     "output_type": "stream",
     "text": [
      "請輸入第1位學生的資料\n",
      "67\n",
      "請輸入第2位學生的資料\n",
      "87\n",
      "請輸入第3位學生的資料\n",
      "78\n",
      "請輸入第4位學生的資料\n",
      "98\n",
      "請輸入第5位學生的資料\n",
      "87\n",
      "[67, 87, 78, 98, 87]\n",
      "全班總成績為:417分,平均為 83.40分\n"
     ]
    }
   ],
   "source": [
    "nums = 5\n",
    "scores = []\n",
    "sum = 0\n",
    "\n",
    "for i in range(nums):\n",
    "    i += 1\n",
    "    print(\"請輸入第{0:d}位學生的資料\".format(i))\n",
    "    scores.append(int(input()))\n",
    "    \n",
    "print(scores)\n",
    "\n",
    "for score in scores:\n",
    "    sum += score\n",
    "\n",
    "ave = sum / nums #浮點數的除法!\n",
    "print(\"全班總成績為:{:d}分,平均為{:6.2f}分\".format(sum, ave)) #{0:d}可簡化為{:d}"
   ]
  },
  {
   "cell_type": "code",
   "execution_count": 6,
   "metadata": {},
   "outputs": [
    {
     "data": {
      "text/plain": [
       "['台北', '台中', '高雄', '台南', '花蓮', '台東']"
      ]
     },
     "execution_count": 6,
     "metadata": {},
     "output_type": "execute_result"
    }
   ],
   "source": [
    "#extend(), +=\n",
    "citys = ['台北', '台中', '高雄', '台南']\n",
    "others = ['花蓮', '台東']\n",
    "citys.extend(others)\n",
    "citys"
   ]
  },
  {
   "cell_type": "code",
   "execution_count": 7,
   "metadata": {},
   "outputs": [
    {
     "data": {
      "text/plain": [
       "['台北', '台中', '高雄', '台南', '花蓮', '台東']"
      ]
     },
     "execution_count": 7,
     "metadata": {},
     "output_type": "execute_result"
    }
   ],
   "source": [
    "#extend(), +=\n",
    "citys = ['台北', '台中', '高雄', '台南']\n",
    "others = ['花蓮', '台東']\n",
    "citys += others\n",
    "citys"
   ]
  },
  {
   "cell_type": "code",
   "execution_count": 10,
   "metadata": {},
   "outputs": [
    {
     "data": {
      "text/plain": [
       "[['stu1', 100, 100, 100, 100, 100],\n",
       " ['stu2', 100, 100, 100, 100, 100],\n",
       " ['stu3', 100, 100, 100, 100, 100],\n",
       " ['stu4', 100, 100, 100, 100, 100],\n",
       " ['stu5', 100, 100, 100, 100, 100],\n",
       " ['stu6', 100, 100, 100, 100, 100],\n",
       " ['stu7', 100, 100, 100, 100, 100],\n",
       " ['stu8', 100, 100, 100, 100, 100],\n",
       " ['stu9', 100, 100, 100, 100, 100],\n",
       " ['stu10', 100, 100, 100, 100, 100],\n",
       " ['stu11', 100, 100, 100, 100, 100],\n",
       " ['stu12', 100, 100, 100, 100, 100],\n",
       " ['stu13', 100, 100, 100, 100, 100],\n",
       " ['stu14', 100, 100, 100, 100, 100],\n",
       " ['stu15', 100, 100, 100, 100, 100],\n",
       " ['stu16', 100, 100, 100, 100, 100],\n",
       " ['stu17', 100, 100, 100, 100, 100],\n",
       " ['stu18', 100, 100, 100, 100, 100],\n",
       " ['stu19', 100, 100, 100, 100, 100],\n",
       " ['stu20', 100, 100, 100, 100, 100],\n",
       " ['stu21', 100, 100, 100, 100, 100],\n",
       " ['stu22', 100, 100, 100, 100, 100],\n",
       " ['stu23', 100, 100, 100, 100, 100],\n",
       " ['stu24', 100, 100, 100, 100, 100],\n",
       " ['stu25', 100, 100, 100, 100, 100],\n",
       " ['stu26', 100, 100, 100, 100, 100],\n",
       " ['stu27', 100, 100, 100, 100, 100],\n",
       " ['stu28', 100, 100, 100, 100, 100],\n",
       " ['stu29', 100, 100, 100, 100, 100],\n",
       " ['stu30', 100, 100, 100, 100, 100],\n",
       " ['stu31', 100, 100, 100, 100, 100],\n",
       " ['stu32', 100, 100, 100, 100, 100],\n",
       " ['stu33', 100, 100, 100, 100, 100],\n",
       " ['stu34', 100, 100, 100, 100, 100],\n",
       " ['stu35', 100, 100, 100, 100, 100],\n",
       " ['stu36', 100, 100, 100, 100, 100],\n",
       " ['stu37', 100, 100, 100, 100, 100],\n",
       " ['stu38', 100, 100, 100, 100, 100],\n",
       " ['stu39', 100, 100, 100, 100, 100],\n",
       " ['stu40', 100, 100, 100, 100, 100],\n",
       " ['stu41', 100, 100, 100, 100, 100],\n",
       " ['stu42', 100, 100, 100, 100, 100],\n",
       " ['stu43', 100, 100, 100, 100, 100],\n",
       " ['stu44', 100, 100, 100, 100, 100],\n",
       " ['stu45', 100, 100, 100, 100, 100],\n",
       " ['stu46', 100, 100, 100, 100, 100],\n",
       " ['stu47', 100, 100, 100, 100, 100],\n",
       " ['stu48', 100, 100, 100, 100, 100],\n",
       " ['stu49', 100, 100, 100, 100, 100],\n",
       " ['stu50', 100, 100, 100, 100, 100]]"
      ]
     },
     "execution_count": 10,
     "metadata": {},
     "output_type": "execute_result"
    }
   ],
   "source": [
    "students = []\n",
    "for i in range(50):\n",
    "    scores = [\"stu{:d}\".format(i+1)]\n",
    "    for _ in range(5):\n",
    "        scores.append(100)\n",
    "    students.append(scores)\n",
    "students"
   ]
  },
  {
   "cell_type": "code",
   "execution_count": null,
   "metadata": {},
   "outputs": [],
   "source": []
  }
 ],
 "metadata": {
  "kernelspec": {
   "display_name": "Python 3",
   "language": "python",
   "name": "python3"
  },
  "language_info": {
   "codemirror_mode": {
    "name": "ipython",
    "version": 3
   },
   "file_extension": ".py",
   "mimetype": "text/x-python",
   "name": "python",
   "nbconvert_exporter": "python",
   "pygments_lexer": "ipython3",
   "version": "3.8.3"
  }
 },
 "nbformat": 4,
 "nbformat_minor": 4
}
