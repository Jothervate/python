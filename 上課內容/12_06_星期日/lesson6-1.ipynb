{
 "cells": [
  {
   "cell_type": "code",
   "execution_count": 2,
   "metadata": {},
   "outputs": [
    {
     "name": "stdout",
     "output_type": "stream",
     "text": [
      "請輸入第1位學生的資料:\n",
      "89\n",
      "請輸入第2位學生的資料:\n",
      "90\n",
      "請輸入第3位學生的資料:\n",
      "78\n",
      "請輸入第4位學生的資料:\n",
      "89\n",
      "請輸入第5位學生的資料:\n",
      "78\n",
      "[89, 90, 78, 89, 78]\n",
      "全班總成績為:424分,平均為84.80分\n"
     ]
    }
   ],
   "source": [
    "nums = 5\n",
    "scores = []\n",
    "sum = 0\n",
    "for i in range(nums):\n",
    "    i += 1\n",
    "    print(\"請輸入第{0:d}位學生的資料:\".format(i)) \n",
    "    scores.append(int(input()))\n",
    "\n",
    "print(scores)\n",
    "\n",
    "for score in scores:\n",
    "    sum += score\n",
    "\n",
    "ave = sum / nums\n",
    "print(\"全班總成績為:{:d}分,平均為{:.2f}分\".format(sum,ave))"
   ]
  },
  {
   "cell_type": "code",
   "execution_count": null,
   "metadata": {},
   "outputs": [],
   "source": []
  }
 ],
 "metadata": {
  "kernelspec": {
   "display_name": "Python 3",
   "language": "python",
   "name": "python3"
  },
  "language_info": {
   "codemirror_mode": {
    "name": "ipython",
    "version": 3
   },
   "file_extension": ".py",
   "mimetype": "text/x-python",
   "name": "python",
   "nbconvert_exporter": "python",
   "pygments_lexer": "ipython3",
   "version": "3.8.3"
  }
 },
 "nbformat": 4,
 "nbformat_minor": 4
}
