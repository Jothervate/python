{
 "cells": [
  {
   "cell_type": "code",
   "execution_count": 3,
   "metadata": {},
   "outputs": [
    {
     "name": "stdout",
     "output_type": "stream",
     "text": [
      "呼叫函式\n",
      "程式結束\n"
     ]
    }
   ],
   "source": [
    "def func_sum():\n",
    "    print(\"呼叫函式\")\n",
    "    \n",
    "\n",
    "func_sum()\n",
    "print(\"程式結束\")"
   ]
  },
  {
   "cell_type": "code",
   "execution_count": 4,
   "metadata": {},
   "outputs": [
    {
     "name": "stdout",
     "output_type": "stream",
     "text": [
      "12\n"
     ]
    }
   ],
   "source": [
    "#沒有傳出值\n",
    "def func_sum(a, b):\n",
    "    c = a + b\n",
    "    print(c)\n",
    "\n",
    "func_sum(5, 7)"
   ]
  },
  {
   "cell_type": "code",
   "execution_count": 7,
   "metadata": {},
   "outputs": [
    {
     "name": "stdout",
     "output_type": "stream",
     "text": [
      "90.7\n"
     ]
    }
   ],
   "source": [
    "#有傳出值\n",
    "def func_sum(a, b):\n",
    "    c = a + b\n",
    "    return c\n",
    "\n",
    "sum = func_sum(56.7, 34)\n",
    "print(sum)"
   ]
  },
  {
   "cell_type": "code",
   "execution_count": 8,
   "metadata": {},
   "outputs": [
    {
     "name": "stdout",
     "output_type": "stream",
     "text": [
      "3 7 20\n"
     ]
    }
   ],
   "source": [
    "#傳出多個值\n",
    "def manyvalue(a,b):\n",
    "    c = a * b\n",
    "    return (a-2, b+3 , c)\n",
    "\n",
    "x, y, z = manyvalue(5, 4)\n",
    "print(x, y, z)"
   ]
  },
  {
   "cell_type": "code",
   "execution_count": null,
   "metadata": {},
   "outputs": [],
   "source": []
  }
 ],
 "metadata": {
  "kernelspec": {
   "display_name": "Python 3",
   "language": "python",
   "name": "python3"
  },
  "language_info": {
   "codemirror_mode": {
    "name": "ipython",
    "version": 3
   },
   "file_extension": ".py",
   "mimetype": "text/x-python",
   "name": "python",
   "nbconvert_exporter": "python",
   "pygments_lexer": "ipython3",
   "version": "3.8.3"
  }
 },
 "nbformat": 4,
 "nbformat_minor": 4
}
