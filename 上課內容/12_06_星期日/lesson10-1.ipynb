{
 "cells": [
  {
   "cell_type": "code",
   "execution_count": 7,
   "metadata": {},
   "outputs": [
    {
     "name": "stdout",
     "output_type": "stream",
     "text": [
      "<class '_csv.reader'>\n",
      "81\n",
      "87\n",
      "87\n",
      "65\n",
      "81\n"
     ]
    }
   ],
   "source": [
    "#讀取csv檔\n",
    "import csv\n",
    "\n",
    "with open('students2.csv', 'r', encoding='utf-8') as file:\n",
    "    csvReader = csv.reader(file)\n",
    "    print(type(csvReader))\n",
    "    studentsList = list(csvReader)\n",
    "    for item in studentsList:\n",
    "        if item[0] == 'A00012':\n",
    "             for score in item[1:]:\n",
    "                    print(score)"
   ]
  },
  {
   "cell_type": "code",
   "execution_count": null,
   "metadata": {},
   "outputs": [],
   "source": []
  }
 ],
 "metadata": {
  "kernelspec": {
   "display_name": "Python 3",
   "language": "python",
   "name": "python3"
  },
  "language_info": {
   "codemirror_mode": {
    "name": "ipython",
    "version": 3
   },
   "file_extension": ".py",
   "mimetype": "text/x-python",
   "name": "python",
   "nbconvert_exporter": "python",
   "pygments_lexer": "ipython3",
   "version": "3.8.3"
  }
 },
 "nbformat": 4,
 "nbformat_minor": 4
}
