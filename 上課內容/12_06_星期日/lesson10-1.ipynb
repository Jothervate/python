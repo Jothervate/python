{
 "cells": [
  {
   "cell_type": "code",
   "execution_count": 8,
   "metadata": {},
   "outputs": [
    {
     "name": "stdout",
     "output_type": "stream",
     "text": [
      "<class '_csv.reader'>\n",
      "['編號', '國文', '英文', '數學', '自然', '社會']\n",
      "['A0001', '59', '89', '75', '94', '93']\n",
      "['A0002', '72', '88', '71', '85', '55']\n",
      "['A0003', '59', '98', '51', '96', '62']\n",
      "['A0004', '67', '95', '94', '90', '76']\n",
      "['A0005', '54', '67', '94', '86', '61']\n",
      "['A0006', '97', '60', '65', '68', '93']\n",
      "['A0007', '57', '57', '61', '62', '57']\n",
      "['A0008', '93', '73', '71', '66', '80']\n",
      "['A0009', '52', '92', '93', '74', '99']\n",
      "['A00010', '60', '96', '58', '81', '60']\n",
      "['A00011', '85', '83', '89', '80', '81']\n",
      "['A00012', '81', '87', '87', '65', '81']\n",
      "81\n",
      "87\n",
      "87\n",
      "65\n",
      "81\n",
      "['A00013', '67', '75', '86', '54', '83']\n",
      "['A00014', '84', '72', '83', '71', '75']\n",
      "['A00015', '61', '79', '78', '75', '54']\n",
      "['A00016', '92', '56', '100', '51', '63']\n",
      "['A00017', '67', '56', '58', '53', '71']\n",
      "['A00018', '97', '68', '73', '82', '50']\n",
      "['A00019', '95', '62', '74', '66', '58']\n",
      "['A00020', '90', '60', '91', '64', '77']\n",
      "['A00021', '96', '64', '93', '89', '76']\n",
      "['A00022', '90', '67', '67', '55', '51']\n",
      "['A00023', '91', '59', '73', '55', '75']\n",
      "['A00024', '54', '84', '76', '67', '87']\n",
      "['A00025', '87', '64', '96', '50', '65']\n",
      "['A00026', '75', '67', '60', '52', '62']\n",
      "['A00027', '85', '68', '60', '71', '89']\n",
      "['A00028', '99', '70', '74', '64', '53']\n",
      "['A00029', '84', '100', '90', '72', '71']\n",
      "['A00030', '52', '71', '69', '60', '97']\n",
      "['A00031', '55', '61', '60', '57', '65']\n",
      "['A00032', '78', '97', '79', '64', '89']\n",
      "['A00033', '57', '61', '60', '53', '53']\n",
      "['A00034', '77', '98', '60', '51', '95']\n",
      "['A00035', '70', '72', '93', '84', '60']\n",
      "['A00036', '98', '88', '98', '94', '78']\n",
      "['A00037', '66', '92', '70', '81', '57']\n",
      "['A00038', '75', '71', '52', '86', '64']\n",
      "['A00039', '67', '51', '74', '81', '57']\n",
      "['A00040', '77', '87', '87', '78', '80']\n",
      "['A00041', '73', '53', '98', '85', '52']\n",
      "['A00042', '57', '75', '78', '76', '57']\n",
      "['A00043', '58', '58', '76', '69', '91']\n",
      "['A00044', '74', '66', '96', '77', '96']\n",
      "['A00045', '100', '79', '83', '51', '99']\n",
      "['A00046', '68', '89', '67', '62', '75']\n",
      "['A00047', '70', '71', '70', '55', '64']\n",
      "['A00048', '66', '86', '83', '68', '75']\n",
      "['A00049', '94', '62', '75', '83', '73']\n",
      "['A00050', '62', '98', '57', '91', '84']\n"
     ]
    }
   ],
   "source": [
    "#讀取csv檔\n",
    "import csv\n",
    "\n",
    "with open('students2.csv', 'r', encoding='utf-8') as file:\n",
    "    csvReader = csv.reader(file)\n",
    "    print(type(csvReader))\n",
    "    studentsList = list(csvReader)\n",
    "    for item in studentsList:\n",
    "        print(item)\n",
    "        if item[0] == 'A00012':\n",
    "             for score in item[1:]:\n",
    "                    print(score)"
   ]
  },
  {
   "cell_type": "code",
   "execution_count": 15,
   "metadata": {},
   "outputs": [
    {
     "name": "stdout",
     "output_type": "stream",
     "text": [
      "['106', '新北市永和區', '222585', '5.7138', '38956']\n"
     ]
    }
   ],
   "source": [
    "import csv\n",
    "with open('各鄉鎮市區人口密度.csv', 'r', encoding='utf8') as file:\n",
    "    csvReader = csv.reader(file)\n",
    "    poplist = []\n",
    "    for one in csvReader:\n",
    "        if one[0] == '106':\n",
    "            poplist.append(one)\n",
    "    \n",
    "    for one in poplist:\n",
    "        if '永和區' in one[1]:\n",
    "            print(one)"
   ]
  },
  {
   "cell_type": "code",
   "execution_count": 3,
   "metadata": {},
   "outputs": [
    {
     "name": "stdout",
     "output_type": "stream",
     "text": [
      "{\"tw\": \"Taiwan\", \"jp\": \"japan\", \"hk\": \"HongKong\", \"us\": \"美國\"}\n",
      "json檔案存檔完成\n"
     ]
    }
   ],
   "source": [
    "#儲存為json文件\n",
    "\n",
    "import json\n",
    "codes = {'tw':'Taiwan', 'jp':'japan', 'hk':'HongKong','us':'美國'}\n",
    "jsonStr=json.dumps(codes, ensure_ascii=False)\n",
    "print(jsonStr)\n",
    "\n",
    "with open('codes.json','w',encoding='utf-8') as file:\n",
    "    file.write(jsonStr)\n",
    "print('json檔案存檔完成')"
   ]
  },
  {
   "cell_type": "code",
   "execution_count": null,
   "metadata": {},
   "outputs": [],
   "source": []
  }
 ],
 "metadata": {
  "kernelspec": {
   "display_name": "Python 3",
   "language": "python",
   "name": "python3"
  },
  "language_info": {
   "codemirror_mode": {
    "name": "ipython",
    "version": 3
   },
   "file_extension": ".py",
   "mimetype": "text/x-python",
   "name": "python",
   "nbconvert_exporter": "python",
   "pygments_lexer": "ipython3",
   "version": "3.8.3"
  }
 },
 "nbformat": 4,
 "nbformat_minor": 4
}
