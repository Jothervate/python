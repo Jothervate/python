{
 "cells": [
  {
   "cell_type": "code",
   "execution_count": 1,
   "id": "resident-gauge",
   "metadata": {},
   "outputs": [
    {
     "name": "stdout",
     "output_type": "stream",
     "text": [
      "say Hello age=25 float=45.3\n"
     ]
    }
   ],
   "source": [
    "v1 = 'Hello'\n",
    "v2 = 25\n",
    "v3 = 45.34\n",
    "print('say %s age=%i float=%.1f' % (v1,v2,v3))"
   ]
  },
  {
   "cell_type": "code",
   "execution_count": 3,
   "id": "inappropriate-quarter",
   "metadata": {},
   "outputs": [
    {
     "name": "stdout",
     "output_type": "stream",
     "text": [
      "say Hello age=25 float=45.3\n"
     ]
    }
   ],
   "source": [
    "v1 = 'Hello'\n",
    "v2 = 25\n",
    "v3 = 45.34\n",
    "print('say {0:s} age={1:d} float={2:.1f}'.format(v1,v2,v3))"
   ]
  },
  {
   "cell_type": "code",
   "execution_count": 5,
   "id": "least-values",
   "metadata": {},
   "outputs": [
    {
     "name": "stdout",
     "output_type": "stream",
     "text": [
      "say Hello age=25 float=45.34\n"
     ]
    }
   ],
   "source": [
    "v1 = 'Hello'\n",
    "v2 = 25\n",
    "v3 = 45.34\n",
    "print(f'say {v1} age={v2} float={v3}')"
   ]
  },
  {
   "cell_type": "code",
   "execution_count": 13,
   "id": "junior-kazakhstan",
   "metadata": {},
   "outputs": [
    {
     "name": "stdout",
     "output_type": "stream",
     "text": [
      "3.3\n"
     ]
    }
   ],
   "source": [
    "from decimal import Decimal\n",
    "print(Decimal('1.1') + Decimal('2.2'))"
   ]
  },
  {
   "cell_type": "code",
   "execution_count": 16,
   "id": "solar-custom",
   "metadata": {},
   "outputs": [
    {
     "name": "stdout",
     "output_type": "stream",
     "text": [
      "3.300000\n"
     ]
    }
   ],
   "source": [
    "value=1.1 + 2.2\n",
    "print('{:f}'.format(value))"
   ]
  },
  {
   "cell_type": "code",
   "execution_count": 17,
   "id": "pretty-review",
   "metadata": {},
   "outputs": [],
   "source": [
    "container = 10\n",
    "container = 20"
   ]
  },
  {
   "cell_type": "code",
   "execution_count": 18,
   "id": "metric-question",
   "metadata": {},
   "outputs": [
    {
     "data": {
      "text/plain": [
       "50"
      ]
     },
     "execution_count": 18,
     "metadata": {},
     "output_type": "execute_result"
    }
   ],
   "source": [
    "def changeValue(value):\n",
    "    value = 10\n",
    "    \n",
    "    \n",
    "a = 50\n",
    "changeValue(a)\n",
    "a"
   ]
  },
  {
   "cell_type": "code",
   "execution_count": 22,
   "id": "mounted-gambling",
   "metadata": {},
   "outputs": [
    {
     "data": {
      "text/plain": [
       "10"
      ]
     },
     "execution_count": 22,
     "metadata": {},
     "output_type": "execute_result"
    }
   ],
   "source": [
    "#value type\n",
    "def changeValue(value):\n",
    "    value = 10\n",
    "    return value\n",
    "    \n",
    "    \n",
    "a = 50\n",
    "\n",
    "a = changeValue(a)\n",
    "a"
   ]
  },
  {
   "cell_type": "code",
   "execution_count": 25,
   "id": "capital-summary",
   "metadata": {},
   "outputs": [
    {
     "data": {
      "text/plain": [
       "'Penny'"
      ]
     },
     "execution_count": 25,
     "metadata": {},
     "output_type": "execute_result"
    }
   ],
   "source": [
    "#value type\n",
    "name = \"Henny\"\n",
    "name=name.replace(\"H\",\"P\")\n",
    "name"
   ]
  },
  {
   "cell_type": "code",
   "execution_count": 26,
   "id": "similar-income",
   "metadata": {},
   "outputs": [
    {
     "name": "stdout",
     "output_type": "stream",
     "text": [
      "['susan', 'alice', 'jenny']\n"
     ]
    }
   ],
   "source": [
    "#reference type\n",
    "def changeList(reference):\n",
    "    reference[0] = 'susan'\n",
    "\n",
    "\n",
    "nameList = ['robert','alice','jenny']\n",
    "changeList(nameList)\n",
    "print(t)\n"
   ]
  },
  {
   "cell_type": "code",
   "execution_count": 29,
   "id": "entitled-manchester",
   "metadata": {},
   "outputs": [
    {
     "data": {
      "text/plain": [
       "{'wine': '紅酒', 'entree': '牛排', 'dessert': '蛋糕'}"
      ]
     },
     "execution_count": 29,
     "metadata": {},
     "output_type": "execute_result"
    }
   ],
   "source": [
    "#position呼叫\n",
    "def menu(wine, entree, dessert):\n",
    "    return {'wine':wine, 'entree':entree, 'dessert':dessert}\n",
    "\n",
    "menu('紅酒', '牛排', '蛋糕')"
   ]
  },
  {
   "cell_type": "code",
   "execution_count": 30,
   "id": "cardiovascular-parks",
   "metadata": {},
   "outputs": [
    {
     "data": {
      "text/plain": [
       "{'wine': '紅酒', 'entree': '牛排', 'dessert': '蛋糕'}"
      ]
     },
     "execution_count": 30,
     "metadata": {},
     "output_type": "execute_result"
    }
   ],
   "source": [
    "#引數名稱呼叫\n",
    "menu(wine='紅酒', entree='牛排', dessert='蛋糕')"
   ]
  },
  {
   "cell_type": "code",
   "execution_count": 31,
   "id": "conservative-vertex",
   "metadata": {},
   "outputs": [
    {
     "data": {
      "text/plain": [
       "{'wine': '紅酒', 'entree': '牛排', 'dessert': '蛋糕'}"
      ]
     },
     "execution_count": 31,
     "metadata": {},
     "output_type": "execute_result"
    }
   ],
   "source": [
    "#引數名稱呼叫\n",
    "menu(wine='紅酒', dessert='蛋糕' ,entree='牛排')"
   ]
  },
  {
   "cell_type": "code",
   "execution_count": null,
   "id": "economic-ferry",
   "metadata": {},
   "outputs": [],
   "source": []
  }
 ],
 "metadata": {
  "kernelspec": {
   "display_name": "Python 3",
   "language": "python",
   "name": "python3"
  },
  "language_info": {
   "codemirror_mode": {
    "name": "ipython",
    "version": 3
   },
   "file_extension": ".py",
   "mimetype": "text/x-python",
   "name": "python",
   "nbconvert_exporter": "python",
   "pygments_lexer": "ipython3",
   "version": "3.8.7"
  }
 },
 "nbformat": 4,
 "nbformat_minor": 5
}
