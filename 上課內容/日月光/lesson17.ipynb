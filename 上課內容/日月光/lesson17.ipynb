{
 "cells": [
  {
   "cell_type": "code",
   "execution_count": 1,
   "id": "portable-feature",
   "metadata": {},
   "outputs": [
    {
     "name": "stdout",
     "output_type": "stream",
     "text": [
      "不限數量的引數名稱呼叫,引數名稱和值有 {'a1': 'one', 'a2': 'two', 'a3': 'three', 'a4': 'four'}\n"
     ]
    }
   ],
   "source": [
    "#呼叫時,使用不限數量的引數名稱呼叫\n",
    "def print_kwargs(**kwargs):\n",
    "    print('不限數量的引數名稱呼叫,引數名稱和值有',kwargs)\n",
    "\n",
    "print_kwargs(a1='one', a2='two', a3='three', a4='four')"
   ]
  },
  {
   "cell_type": "code",
   "execution_count": 2,
   "id": "qualified-december",
   "metadata": {},
   "outputs": [
    {
     "ename": "NameError",
     "evalue": "name 'name' is not defined",
     "output_type": "error",
     "traceback": [
      "\u001b[0;31m---------------------------------------------------------------------------\u001b[0m",
      "\u001b[0;31mNameError\u001b[0m                                 Traceback (most recent call last)",
      "\u001b[0;32m<ipython-input-2-d19952ea62da>\u001b[0m in \u001b[0;36m<module>\u001b[0;34m\u001b[0m\n\u001b[0;32m----> 1\u001b[0;31m \u001b[0mmyDict\u001b[0m \u001b[0;34m=\u001b[0m \u001b[0;34m{\u001b[0m\u001b[0mname\u001b[0m\u001b[0;34m:\u001b[0m\u001b[0;34m'robert'\u001b[0m\u001b[0;34m,\u001b[0m\u001b[0mage1\u001b[0m\u001b[0;34m:\u001b[0m\u001b[0;34m'30'\u001b[0m\u001b[0;34m,\u001b[0m\u001b[0mheight\u001b[0m\u001b[0;34m:\u001b[0m\u001b[0;34m'170'\u001b[0m\u001b[0;34m,\u001b[0m\u001b[0mweight\u001b[0m\u001b[0;34m:\u001b[0m\u001b[0;34m'79'\u001b[0m\u001b[0;34m}\u001b[0m\u001b[0;34m\u001b[0m\u001b[0;34m\u001b[0m\u001b[0m\n\u001b[0m",
      "\u001b[0;31mNameError\u001b[0m: name 'name' is not defined"
     ]
    }
   ],
   "source": [
    "myDict = {'name':'robert','age1':'30','height:'170',weight:'79'}"
   ]
  },
  {
   "cell_type": "code",
   "execution_count": null,
   "id": "fossil-booking",
   "metadata": {},
   "outputs": [],
   "source": []
  }
 ],
 "metadata": {
  "kernelspec": {
   "display_name": "Python 3",
   "language": "python",
   "name": "python3"
  },
  "language_info": {
   "codemirror_mode": {
    "name": "ipython",
    "version": 3
   },
   "file_extension": ".py",
   "mimetype": "text/x-python",
   "name": "python",
   "nbconvert_exporter": "python",
   "pygments_lexer": "ipython3",
   "version": "3.8.7"
  }
 },
 "nbformat": 4,
 "nbformat_minor": 5
}
