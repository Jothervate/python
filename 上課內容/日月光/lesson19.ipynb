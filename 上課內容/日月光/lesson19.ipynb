{
 "cells": [
  {
   "cell_type": "code",
   "execution_count": 1,
   "id": "bored-consultancy",
   "metadata": {},
   "outputs": [
    {
     "name": "stdout",
     "output_type": "stream",
     "text": [
      "/Users/roberthsu2003/Documents/GitHub/python/上課內容/日月光\n",
      "/Library/Frameworks/Python.framework/Versions/3.8/lib/python38.zip\n",
      "/Library/Frameworks/Python.framework/Versions/3.8/lib/python3.8\n",
      "/Library/Frameworks/Python.framework/Versions/3.8/lib/python3.8/lib-dynload\n",
      "\n",
      "/Users/roberthsu2003/Documents/virtualenv01/env01/lib/python3.8/site-packages\n",
      "/Users/roberthsu2003/Documents/virtualenv01/env01/lib/python3.8/site-packages/IPython/extensions\n",
      "/Users/roberthsu2003/.ipython\n"
     ]
    }
   ],
   "source": [
    "import sys\n",
    "for place in sys.path:\n",
    "    print(place)"
   ]
  },
  {
   "cell_type": "code",
   "execution_count": 3,
   "id": "acknowledged-relationship",
   "metadata": {},
   "outputs": [
    {
     "data": {
      "text/plain": [
       "{'__name__': '__main__',\n",
       " '__doc__': 'Automatically created module for IPython interactive environment',\n",
       " '__package__': None,\n",
       " '__loader__': None,\n",
       " '__spec__': None,\n",
       " '__builtin__': <module 'builtins' (built-in)>,\n",
       " '__builtins__': <module 'builtins' (built-in)>,\n",
       " '_ih': ['',\n",
       "  'import sys\\nfor place in sys.path:\\n    print(place)',\n",
       "  'print(globals())',\n",
       "  'globals()'],\n",
       " '_oh': {},\n",
       " '_dh': ['/Users/roberthsu2003/Documents/GitHub/python/上課內容/日月光'],\n",
       " 'In': ['',\n",
       "  'import sys\\nfor place in sys.path:\\n    print(place)',\n",
       "  'print(globals())',\n",
       "  'globals()'],\n",
       " 'Out': {},\n",
       " 'get_ipython': <bound method InteractiveShell.get_ipython of <ipykernel.zmqshell.ZMQInteractiveShell object at 0x7fdda29c70d0>>,\n",
       " 'exit': <IPython.core.autocall.ZMQExitAutocall at 0x7fdda29ebfa0>,\n",
       " 'quit': <IPython.core.autocall.ZMQExitAutocall at 0x7fdda29ebfa0>,\n",
       " '_': '',\n",
       " '__': '',\n",
       " '___': '',\n",
       " '_i': 'print(globals())',\n",
       " '_ii': 'import sys\\nfor place in sys.path:\\n    print(place)',\n",
       " '_iii': '',\n",
       " '_i1': 'import sys\\nfor place in sys.path:\\n    print(place)',\n",
       " 'sys': <module 'sys' (built-in)>,\n",
       " 'place': '/Users/roberthsu2003/.ipython',\n",
       " '_i2': 'print(globals())',\n",
       " '_i3': 'globals()'}"
      ]
     },
     "execution_count": 3,
     "metadata": {},
     "output_type": "execute_result"
    }
   ],
   "source": [
    "globals()\n"
   ]
  },
  {
   "cell_type": "code",
   "execution_count": 5,
   "id": "hawaiian-hampton",
   "metadata": {},
   "outputs": [
    {
     "name": "stdout",
     "output_type": "stream",
     "text": [
      "{'a': 10, 'b': 20}\n"
     ]
    }
   ],
   "source": [
    "def myfunction():\n",
    "    a = 10\n",
    "    b = 20\n",
    "    print(locals())\n",
    "\n",
    "myfunction()"
   ]
  },
  {
   "cell_type": "code",
   "execution_count": null,
   "id": "corresponding-dealing",
   "metadata": {},
   "outputs": [],
   "source": []
  },
  {
   "cell_type": "code",
   "execution_count": null,
   "id": "august-raising",
   "metadata": {},
   "outputs": [],
   "source": []
  },
  {
   "cell_type": "code",
   "execution_count": null,
   "id": "killing-princess",
   "metadata": {},
   "outputs": [],
   "source": []
  },
  {
   "cell_type": "code",
   "execution_count": null,
   "id": "cathedral-southwest",
   "metadata": {},
   "outputs": [],
   "source": []
  }
 ],
 "metadata": {
  "kernelspec": {
   "display_name": "Python 3",
   "language": "python",
   "name": "python3"
  },
  "language_info": {
   "codemirror_mode": {
    "name": "ipython",
    "version": 3
   },
   "file_extension": ".py",
   "mimetype": "text/x-python",
   "name": "python",
   "nbconvert_exporter": "python",
   "pygments_lexer": "ipython3",
   "version": "3.8.7"
  }
 },
 "nbformat": 4,
 "nbformat_minor": 5
}
