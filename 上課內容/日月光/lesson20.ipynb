{
 "cells": [
  {
   "cell_type": "code",
   "execution_count": 4,
   "id": "approximate-appeal",
   "metadata": {},
   "outputs": [
    {
     "name": "stdout",
     "output_type": "stream",
     "text": [
      "hunter attribute name is susan\n",
      "teacher attribute name is john\n"
     ]
    }
   ],
   "source": [
    "class Person:\n",
    "    def __init__(self,n):\n",
    "        self.name = n\n",
    "\n",
    "hunter = Person(\"susan\")\n",
    "print(\"hunter attribute name is\",hunter.name)\n",
    "\n",
    "teacher = Person(\"john\")\n",
    "teacher.name\n",
    "print(\"teacher attribute name is\",teacher.name)"
   ]
  },
  {
   "cell_type": "code",
   "execution_count": null,
   "id": "canadian-layout",
   "metadata": {},
   "outputs": [],
   "source": []
  }
 ],
 "metadata": {
  "kernelspec": {
   "display_name": "Python 3",
   "language": "python",
   "name": "python3"
  },
  "language_info": {
   "codemirror_mode": {
    "name": "ipython",
    "version": 3
   },
   "file_extension": ".py",
   "mimetype": "text/x-python",
   "name": "python",
   "nbconvert_exporter": "python",
   "pygments_lexer": "ipython3",
   "version": "3.8.7"
  }
 },
 "nbformat": 4,
 "nbformat_minor": 5
}
