{
 "cells": [
  {
   "cell_type": "code",
   "execution_count": 5,
   "id": "final-southeast",
   "metadata": {},
   "outputs": [
    {
     "name": "stdout",
     "output_type": "stream",
     "text": [
      "hunter attribute name is susan\n",
      "teacher attribute name is john\n"
     ]
    }
   ],
   "source": [
    "class Person():\n",
    "    def __init__(self,n):\n",
    "        self.name = n\n",
    "\n",
    "hunter = Person(\"susan\")\n",
    "print(\"hunter attribute name is\",hunter.name)\n",
    "\n",
    "teacher = Person(\"john\")\n",
    "teacher.name\n",
    "print(\"teacher attribute name is\",teacher.name)"
   ]
  },
  {
   "cell_type": "code",
   "execution_count": 10,
   "id": "unnecessary-productivity",
   "metadata": {},
   "outputs": [
    {
     "name": "stdout",
     "output_type": "stream",
     "text": [
      "car <class '__main__.Car'>\n",
      "ford <class '__main__.Ford'>\n",
      "我是Car\n",
      "我是Ford,但我也是Car\n"
     ]
    }
   ],
   "source": [
    "class Car:\n",
    "    def exclaim(self):\n",
    "        print(\"我是Car\")\n",
    "\n",
    "class Ford(Car):\n",
    "    def exclaim(self):\n",
    "        print(\"我是Ford,但我也是Car\")\n",
    "\n",
    "car = Car()\n",
    "ford = Ford()\n",
    "print(\"car\",car.__class__)\n",
    "print(\"ford\",ford.__class__)\n",
    "car.exclaim()\n",
    "ford.exclaim()"
   ]
  },
  {
   "cell_type": "code",
   "execution_count": 13,
   "id": "geological-present",
   "metadata": {},
   "outputs": [
    {
     "name": "stdout",
     "output_type": "stream",
     "text": [
      "person robert\n",
      "doctor Doctor: susan\n",
      "teacher Teacher: alice\n"
     ]
    }
   ],
   "source": [
    "class Person():\n",
    "    def __init__(self,name):\n",
    "        self.name = name\n",
    "\n",
    "class MDPerson(Person):\n",
    "    def __init__(self,name):\n",
    "        super().__init__(name)\n",
    "        self.name = \"Doctor: \" + self.name\n",
    "\n",
    "class JDPerson(Person):\n",
    "    def __init__(self,name):\n",
    "        super().__init__(name)\n",
    "        self.name = \"Teacher: \" + self.name\n",
    "        \n",
    "person = Person(\"robert\")\n",
    "doctor = MDPerson(\"susan\")\n",
    "teacher = JDPerson(\"alice\")\n",
    "\n",
    "print(\"person\",person.name)\n",
    "print(\"doctor\",doctor.name)\n",
    "print(\"teacher\",teacher.name)"
   ]
  },
  {
   "cell_type": "code",
   "execution_count": null,
   "id": "noble-morocco",
   "metadata": {},
   "outputs": [],
   "source": []
  },
  {
   "cell_type": "code",
   "execution_count": null,
   "id": "complimentary-operation",
   "metadata": {},
   "outputs": [],
   "source": []
  },
  {
   "cell_type": "code",
   "execution_count": null,
   "id": "printable-diana",
   "metadata": {},
   "outputs": [],
   "source": []
  },
  {
   "cell_type": "code",
   "execution_count": null,
   "id": "sound-status",
   "metadata": {},
   "outputs": [],
   "source": []
  },
  {
   "cell_type": "code",
   "execution_count": null,
   "id": "successful-humidity",
   "metadata": {},
   "outputs": [],
   "source": []
  }
 ],
 "metadata": {
  "kernelspec": {
   "display_name": "Python 3",
   "language": "python",
   "name": "python3"
  },
  "language_info": {
   "codemirror_mode": {
    "name": "ipython",
    "version": 3
   },
   "file_extension": ".py",
   "mimetype": "text/x-python",
   "name": "python",
   "nbconvert_exporter": "python",
   "pygments_lexer": "ipython3",
   "version": "3.8.7"
  }
 },
 "nbformat": 4,
 "nbformat_minor": 5
}
