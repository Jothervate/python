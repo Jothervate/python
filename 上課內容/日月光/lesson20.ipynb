{
 "cells": [
  {
   "cell_type": "code",
   "execution_count": 5,
   "id": "virtual-toronto",
   "metadata": {},
   "outputs": [
    {
     "name": "stdout",
     "output_type": "stream",
     "text": [
      "hunter attribute name is susan\n",
      "teacher attribute name is john\n"
     ]
    }
   ],
   "source": [
    "class Person():\n",
    "    def __init__(self,n):\n",
    "        self.name = n\n",
    "\n",
    "hunter = Person(\"susan\")\n",
    "print(\"hunter attribute name is\",hunter.name)\n",
    "\n",
    "teacher = Person(\"john\")\n",
    "teacher.name\n",
    "print(\"teacher attribute name is\",teacher.name)"
   ]
  },
  {
   "cell_type": "code",
   "execution_count": 10,
   "id": "necessary-behavior",
   "metadata": {},
   "outputs": [
    {
     "name": "stdout",
     "output_type": "stream",
     "text": [
      "car <class '__main__.Car'>\n",
      "ford <class '__main__.Ford'>\n",
      "我是Car\n",
      "我是Ford,但我也是Car\n"
     ]
    }
   ],
   "source": [
    "class Car:\n",
    "    def exclaim(self):\n",
    "        print(\"我是Car\")\n",
    "\n",
    "class Ford(Car):\n",
    "    def exclaim(self):\n",
    "        print(\"我是Ford,但我也是Car\")\n",
    "\n",
    "car = Car()\n",
    "ford = Ford()\n",
    "print(\"car\",car.__class__)\n",
    "print(\"ford\",ford.__class__)\n",
    "car.exclaim()\n",
    "ford.exclaim()"
   ]
  },
  {
   "cell_type": "code",
   "execution_count": 13,
   "id": "specified-entity",
   "metadata": {},
   "outputs": [
    {
     "name": "stdout",
     "output_type": "stream",
     "text": [
      "person robert\n",
      "doctor Doctor: susan\n",
      "teacher Teacher: alice\n"
     ]
    }
   ],
   "source": [
    "class Person():\n",
    "    def __init__(self,name):\n",
    "        self.name = name\n",
    "\n",
    "class MDPerson(Person):\n",
    "    def __init__(self,name):\n",
    "        super().__init__(name)\n",
    "        self.name = \"Doctor: \" + self.name\n",
    "\n",
    "class JDPerson(Person):\n",
    "    def __init__(self,name):\n",
    "        super().__init__(name)\n",
    "        self.name = \"Teacher: \" + self.name\n",
    "        \n",
    "person = Person(\"robert\")\n",
    "doctor = MDPerson(\"susan\")\n",
    "teacher = JDPerson(\"alice\")\n",
    "\n",
    "print(\"person\",person.name)\n",
    "print(\"doctor\",doctor.name)\n",
    "print(\"teacher\",teacher.name)"
   ]
  },
  {
   "cell_type": "code",
   "execution_count": 15,
   "id": "afraid-harbor",
   "metadata": {},
   "outputs": [
    {
     "name": "stdout",
     "output_type": "stream",
     "text": [
      "john\n",
      "john@gmail.com\n"
     ]
    }
   ],
   "source": [
    "class Person():\n",
    "    def __init__(self,name):\n",
    "        self.name = name\n",
    "        \n",
    "class EmailPerson(Person):\n",
    "    def __init__(self,name,email):\n",
    "        super().__init__(name)\n",
    "        self.email = email\n",
    "        \n",
    "person = Person(\"robert\")\n",
    "emailPerson = EmailPerson(\"john\", \"john@gmail.com\")\n",
    "print(emailPerson.name)\n",
    "print(emailPerson.email)"
   ]
  },
  {
   "cell_type": "code",
   "execution_count": null,
   "id": "suffering-secret",
   "metadata": {},
   "outputs": [],
   "source": []
  },
  {
   "cell_type": "code",
   "execution_count": null,
   "id": "civic-tampa",
   "metadata": {},
   "outputs": [],
   "source": []
  },
  {
   "cell_type": "code",
   "execution_count": null,
   "id": "animal-empty",
   "metadata": {},
   "outputs": [],
   "source": []
  },
  {
   "cell_type": "code",
   "execution_count": null,
   "id": "pediatric-hungarian",
   "metadata": {},
   "outputs": [],
   "source": []
  }
 ],
 "metadata": {
  "kernelspec": {
   "display_name": "Python 3",
   "language": "python",
   "name": "python3"
  },
  "language_info": {
   "codemirror_mode": {
    "name": "ipython",
    "version": 3
   },
   "file_extension": ".py",
   "mimetype": "text/x-python",
   "name": "python",
   "nbconvert_exporter": "python",
   "pygments_lexer": "ipython3",
   "version": "3.8.7"
  }
 },
 "nbformat": 4,
 "nbformat_minor": 5
}
