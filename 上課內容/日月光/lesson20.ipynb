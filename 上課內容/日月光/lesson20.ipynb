{
 "cells": [
  {
   "cell_type": "code",
   "execution_count": 5,
   "id": "opposed-editor",
   "metadata": {},
   "outputs": [
    {
     "name": "stdout",
     "output_type": "stream",
     "text": [
      "hunter attribute name is susan\n",
      "teacher attribute name is john\n"
     ]
    }
   ],
   "source": [
    "class Person():\n",
    "    def __init__(self,n):\n",
    "        self.name = n\n",
    "\n",
    "hunter = Person(\"susan\")\n",
    "print(\"hunter attribute name is\",hunter.name)\n",
    "\n",
    "teacher = Person(\"john\")\n",
    "teacher.name\n",
    "print(\"teacher attribute name is\",teacher.name)"
   ]
  },
  {
   "cell_type": "code",
   "execution_count": 6,
   "id": "worth-rachel",
   "metadata": {},
   "outputs": [
    {
     "name": "stdout",
     "output_type": "stream",
     "text": [
      "car <class '__main__.Car'>\n",
      "ford <class '__main__.Ford'>\n"
     ]
    }
   ],
   "source": [
    "class Car:\n",
    "    pass\n",
    "\n",
    "class Ford(Car):\n",
    "    pass\n",
    "\n",
    "car = Car()\n",
    "ford = Ford()\n",
    "print(\"car\",car.__class__)\n",
    "print(\"ford\",ford.__class__)"
   ]
  },
  {
   "cell_type": "code",
   "execution_count": null,
   "id": "reduced-eating",
   "metadata": {},
   "outputs": [],
   "source": []
  }
 ],
 "metadata": {
  "kernelspec": {
   "display_name": "Python 3",
   "language": "python",
   "name": "python3"
  },
  "language_info": {
   "codemirror_mode": {
    "name": "ipython",
    "version": 3
   },
   "file_extension": ".py",
   "mimetype": "text/x-python",
   "name": "python",
   "nbconvert_exporter": "python",
   "pygments_lexer": "ipython3",
   "version": "3.8.7"
  }
 },
 "nbformat": 4,
 "nbformat_minor": 5
}
