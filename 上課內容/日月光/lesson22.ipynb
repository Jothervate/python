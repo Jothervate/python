{
 "cells": [
  {
   "cell_type": "code",
   "execution_count": 3,
   "id": "arabic-mainland",
   "metadata": {},
   "outputs": [],
   "source": [
    "#class attribute\n",
    "class Bicycle():\n",
    "    count = 0\n",
    "    \n",
    "    def __init__(self):\n",
    "        Bicycle.count += 1\n",
    "\n"
   ]
  },
  {
   "cell_type": "code",
   "execution_count": 4,
   "id": "legitimate-making",
   "metadata": {},
   "outputs": [
    {
     "name": "stdout",
     "output_type": "stream",
     "text": [
      "已經建立 3\n"
     ]
    }
   ],
   "source": [
    "bicycle1 = Bicycle()\n",
    "bicycle2 = Bicycle()\n",
    "bicycle3 = Bicycle()\n",
    "print(\"已經建立\",Bicycle.count)"
   ]
  },
  {
   "cell_type": "code",
   "execution_count": null,
   "id": "honest-liabilities",
   "metadata": {},
   "outputs": [],
   "source": []
  }
 ],
 "metadata": {
  "kernelspec": {
   "display_name": "Python 3",
   "language": "python",
   "name": "python3"
  },
  "language_info": {
   "codemirror_mode": {
    "name": "ipython",
    "version": 3
   },
   "file_extension": ".py",
   "mimetype": "text/x-python",
   "name": "python",
   "nbconvert_exporter": "python",
   "pygments_lexer": "ipython3",
   "version": "3.8.7"
  }
 },
 "nbformat": 4,
 "nbformat_minor": 5
}
