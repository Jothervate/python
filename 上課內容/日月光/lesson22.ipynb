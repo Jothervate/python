{
 "cells": [
  {
   "cell_type": "code",
   "execution_count": 19,
   "id": "italic-complex",
   "metadata": {},
   "outputs": [],
   "source": [
    "#class attribute\n",
    "class Bicycle():\n",
    "    count = 0\n",
    "    \n",
    "    def __init__(self):\n",
    "        Bicycle.count += 1\n",
    "\n",
    "    @classmethod\n",
    "    def getCount(cls):\n",
    "        print(f'已經建立{cls.count}台腳踏車')\n",
    "        \n",
    "    @staticmethod\n",
    "    def sayHello(n):\n",
    "        print(\"Hello \", n)\n",
    "        \n",
    "    @staticmethod\n",
    "    def addition(a, b):\n",
    "        return a + b\n",
    "    \n",
    "    @staticmethod\n",
    "    def multiple(a, b):\n",
    "        return a * b\n",
    "    \n",
    "  "
   ]
  },
  {
   "cell_type": "code",
   "execution_count": 12,
   "id": "close-scoop",
   "metadata": {},
   "outputs": [
    {
     "name": "stdout",
     "output_type": "stream",
     "text": [
      "已經建立3台腳踏車\n"
     ]
    }
   ],
   "source": [
    "bicycle1 = Bicycle()\n",
    "bicycle2 = Bicycle()\n",
    "bicycle3 = Bicycle()\n",
    "Bicycle.getCount()"
   ]
  },
  {
   "cell_type": "code",
   "execution_count": 15,
   "id": "healthy-maximum",
   "metadata": {},
   "outputs": [
    {
     "name": "stdout",
     "output_type": "stream",
     "text": [
      "Hello  robert\n"
     ]
    }
   ],
   "source": [
    "Bicycle.sayHello(\"robert\")"
   ]
  },
  {
   "cell_type": "code",
   "execution_count": 17,
   "id": "august-bracelet",
   "metadata": {},
   "outputs": [
    {
     "data": {
      "text/plain": [
       "30"
      ]
     },
     "execution_count": 17,
     "metadata": {},
     "output_type": "execute_result"
    }
   ],
   "source": [
    "Bicycle.addition(10, 20)"
   ]
  },
  {
   "cell_type": "code",
   "execution_count": 20,
   "id": "broadband-corporation",
   "metadata": {},
   "outputs": [
    {
     "data": {
      "text/plain": [
       "200"
      ]
     },
     "execution_count": 20,
     "metadata": {},
     "output_type": "execute_result"
    }
   ],
   "source": [
    "Bicycle.multiple(10, 20)"
   ]
  },
  {
   "cell_type": "code",
   "execution_count": null,
   "id": "aquatic-handy",
   "metadata": {},
   "outputs": [],
   "source": []
  }
 ],
 "metadata": {
  "kernelspec": {
   "display_name": "Python 3",
   "language": "python",
   "name": "python3"
  },
  "language_info": {
   "codemirror_mode": {
    "name": "ipython",
    "version": 3
   },
   "file_extension": ".py",
   "mimetype": "text/x-python",
   "name": "python",
   "nbconvert_exporter": "python",
   "pygments_lexer": "ipython3",
   "version": "3.8.7"
  }
 },
 "nbformat": 4,
 "nbformat_minor": 5
}
