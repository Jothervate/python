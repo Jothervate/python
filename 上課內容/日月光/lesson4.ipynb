{
 "cells": [
  {
   "cell_type": "code",
   "execution_count": 1,
   "id": "legislative-links",
   "metadata": {},
   "outputs": [
    {
     "data": {
      "text/plain": [
       "True"
      ]
     },
     "execution_count": 1,
     "metadata": {},
     "output_type": "execute_result"
    }
   ],
   "source": [
    "5 > 3"
   ]
  },
  {
   "cell_type": "code",
   "execution_count": 4,
   "id": "simple-paste",
   "metadata": {},
   "outputs": [
    {
     "name": "stdout",
     "output_type": "stream",
     "text": [
      "小於等於18\n",
      "執行結束\n"
     ]
    }
   ],
   "source": [
    "a = 0\n",
    "if a>18:\n",
    "    print(\"大於18\")\n",
    "else:\n",
    "    print(\"小於等於18\")\n",
    "print(\"執行結束\")"
   ]
  },
  {
   "cell_type": "code",
   "execution_count": 6,
   "id": "accredited-texture",
   "metadata": {},
   "outputs": [
    {
     "name": "stdout",
     "output_type": "stream",
     "text": [
      "請輸入年紀?50\n"
     ]
    }
   ],
   "source": [
    "age = int(input(\"請輸入年紀\" + \"?\"))\n",
    "\n",
    "if age > 18:\n",
    "    print(\"青年\")\n",
    "elif age >= 12:\n",
    "    print(\"青少年\")\n",
    "else:\n",
    "    print(\"少年\")"
   ]
  },
  {
   "cell_type": "code",
   "execution_count": null,
   "id": "complete-graphics",
   "metadata": {},
   "outputs": [],
   "source": [
    "ageString = input(\"請輸入年紀?\")\n",
    "age = int(ageString)"
   ]
  },
  {
   "cell_type": "code",
   "execution_count": null,
   "id": "suitable-kazakhstan",
   "metadata": {},
   "outputs": [],
   "source": []
  },
  {
   "cell_type": "code",
   "execution_count": null,
   "id": "frequent-vietnamese",
   "metadata": {},
   "outputs": [],
   "source": []
  },
  {
   "cell_type": "code",
   "execution_count": null,
   "id": "periodic-video",
   "metadata": {},
   "outputs": [],
   "source": []
  },
  {
   "cell_type": "code",
   "execution_count": null,
   "id": "optional-tours",
   "metadata": {},
   "outputs": [],
   "source": []
  }
 ],
 "metadata": {
  "kernelspec": {
   "display_name": "Python 3",
   "language": "python",
   "name": "python3"
  },
  "language_info": {
   "codemirror_mode": {
    "name": "ipython",
    "version": 3
   },
   "file_extension": ".py",
   "mimetype": "text/x-python",
   "name": "python",
   "nbconvert_exporter": "python",
   "pygments_lexer": "ipython3",
   "version": "3.8.7"
  }
 },
 "nbformat": 4,
 "nbformat_minor": 5
}
