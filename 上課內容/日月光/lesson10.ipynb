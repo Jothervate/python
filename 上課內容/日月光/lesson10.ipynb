{
 "cells": [
  {
   "cell_type": "code",
   "execution_count": 1,
   "id": "sporting-exhibit",
   "metadata": {},
   "outputs": [
    {
     "name": "stdout",
     "output_type": "stream",
     "text": [
      "H\n",
      "e\n",
      "l\n",
      "l\n",
      "o\n",
      "!\n",
      "P\n",
      "y\n",
      "t\n",
      "h\n",
      "o\n",
      "n\n"
     ]
    }
   ],
   "source": [
    "str1 = \"Hello!Python\"\n",
    "for word in str1:\n",
    "    print(word)"
   ]
  },
  {
   "cell_type": "code",
   "execution_count": 2,
   "id": "concrete-generator",
   "metadata": {},
   "outputs": [
    {
     "name": "stdout",
     "output_type": "stream",
     "text": [
      "<class 'list'>\n"
     ]
    }
   ],
   "source": [
    "emptyList = list()\n",
    "print(emptyList.__class__)"
   ]
  },
  {
   "cell_type": "code",
   "execution_count": 3,
   "id": "naughty-stuart",
   "metadata": {},
   "outputs": [
    {
     "data": {
      "text/plain": [
       "['c', 'a', 't']"
      ]
     },
     "execution_count": 3,
     "metadata": {},
     "output_type": "execute_result"
    }
   ],
   "source": [
    "list('cat')"
   ]
  },
  {
   "cell_type": "code",
   "execution_count": null,
   "id": "static-documentation",
   "metadata": {},
   "outputs": [],
   "source": [
    "list(range(10000))"
   ]
  },
  {
   "cell_type": "code",
   "execution_count": 5,
   "id": "tamil-priest",
   "metadata": {},
   "outputs": [
    {
     "data": {
      "text/plain": [
       "['1', '6', '1980']"
      ]
     },
     "execution_count": 5,
     "metadata": {},
     "output_type": "execute_result"
    }
   ],
   "source": [
    "birthday = '1/6/1980'\n",
    "birthday.split('/')"
   ]
  },
  {
   "cell_type": "code",
   "execution_count": 9,
   "id": "behind-expense",
   "metadata": {},
   "outputs": [
    {
     "data": {
      "text/plain": [
       "['1980']"
      ]
     },
     "execution_count": 9,
     "metadata": {},
     "output_type": "execute_result"
    }
   ],
   "source": [
    "import re\n",
    "birthdayList=re.split('/',birthday)\n",
    "birthdayList[len(birthdayList)-1]\n",
    "birthdayList[-1:]"
   ]
  },
  {
   "cell_type": "code",
   "execution_count": 11,
   "id": "allied-emphasis",
   "metadata": {},
   "outputs": [
    {
     "name": "stdout",
     "output_type": "stream",
     "text": [
      "不可預期的錯誤\n"
     ]
    }
   ],
   "source": [
    "citys = ['台北', '台中', '高雄']\n",
    "try:\n",
    "    citys[3]\n",
    "except:\n",
    "    print(\"不可預期的錯誤\")"
   ]
  },
  {
   "cell_type": "code",
   "execution_count": 16,
   "id": "arranged-unknown",
   "metadata": {},
   "outputs": [
    {
     "name": "stdout",
     "output_type": "stream",
     "text": [
      "['H', 'i']\n",
      "('H', 'i')\n",
      "H\n",
      "H\n"
     ]
    }
   ],
   "source": [
    "#list,tuple\n",
    "list1 = ['H','i']\n",
    "tuple1 = ('H', 'i')\n",
    "print(list1)\n",
    "print(tuple1)\n",
    "print(list1[0])\n",
    "print(tuple1[0])\n",
    "list1[0] = 'P'\n",
    "#tuple1[0] = 'P'"
   ]
  },
  {
   "cell_type": "code",
   "execution_count": 18,
   "id": "blind-advance",
   "metadata": {},
   "outputs": [
    {
     "name": "stdout",
     "output_type": "stream",
     "text": [
      "H\n",
      "i\n"
     ]
    }
   ],
   "source": [
    "(first, second) = tuple1\n",
    "print(first)\n",
    "print(second)"
   ]
  },
  {
   "cell_type": "code",
   "execution_count": 19,
   "id": "opened-scenario",
   "metadata": {},
   "outputs": [
    {
     "data": {
      "text/plain": [
       "[['筆記電腦', '商用筆電'], ['APPLE', 'ASUS', 'HTC'], [3, '冰箱', 2, '洗衣機']]"
      ]
     },
     "execution_count": 19,
     "metadata": {},
     "output_type": "execute_result"
    }
   ],
   "source": [
    "#2維list\n",
    "nb = ['筆記電腦', '商用筆電']\n",
    "mobile = ['APPLE', 'ASUS', 'HTC'] \n",
    "home = [3, '冰箱', 2, '洗衣機']\n",
    "\n",
    "all3c = [nb, mobile, home]\n",
    "all3c"
   ]
  },
  {
   "cell_type": "code",
   "execution_count": 20,
   "id": "floating-father",
   "metadata": {},
   "outputs": [
    {
     "data": {
      "text/plain": [
       "'筆記電腦'"
      ]
     },
     "execution_count": 20,
     "metadata": {},
     "output_type": "execute_result"
    }
   ],
   "source": [
    "all3c[0][0]"
   ]
  },
  {
   "cell_type": "code",
   "execution_count": 21,
   "id": "roman-bathroom",
   "metadata": {},
   "outputs": [
    {
     "data": {
      "text/plain": [
       "'商用筆電'"
      ]
     },
     "execution_count": 21,
     "metadata": {},
     "output_type": "execute_result"
    }
   ],
   "source": [
    "all3c[0][1]"
   ]
  },
  {
   "cell_type": "code",
   "execution_count": 22,
   "id": "emotional-variance",
   "metadata": {},
   "outputs": [
    {
     "name": "stdout",
     "output_type": "stream",
     "text": [
      "筆記電腦\n",
      "商用筆電\n",
      "APPLE\n",
      "ASUS\n",
      "HTC\n",
      "3\n",
      "冰箱\n",
      "2\n",
      "洗衣機\n"
     ]
    }
   ],
   "source": [
    "for items in all3c:\n",
    "    for item in items:\n",
    "        print(item)"
   ]
  },
  {
   "cell_type": "code",
   "execution_count": null,
   "id": "grave-reader",
   "metadata": {},
   "outputs": [],
   "source": []
  }
 ],
 "metadata": {
  "kernelspec": {
   "display_name": "Python 3",
   "language": "python",
   "name": "python3"
  },
  "language_info": {
   "codemirror_mode": {
    "name": "ipython",
    "version": 3
   },
   "file_extension": ".py",
   "mimetype": "text/x-python",
   "name": "python",
   "nbconvert_exporter": "python",
   "pygments_lexer": "ipython3",
   "version": "3.8.7"
  }
 },
 "nbformat": 4,
 "nbformat_minor": 5
}
