{
 "cells": [
  {
   "cell_type": "code",
   "execution_count": 1,
   "id": "severe-wound",
   "metadata": {},
   "outputs": [
    {
     "name": "stdout",
     "output_type": "stream",
     "text": [
      "H\n",
      "e\n",
      "l\n",
      "l\n",
      "o\n",
      "!\n",
      "P\n",
      "y\n",
      "t\n",
      "h\n",
      "o\n",
      "n\n"
     ]
    }
   ],
   "source": [
    "str1 = \"Hello!Python\"\n",
    "for word in str1:\n",
    "    print(word)"
   ]
  },
  {
   "cell_type": "code",
   "execution_count": 2,
   "id": "approximate-verification",
   "metadata": {},
   "outputs": [
    {
     "name": "stdout",
     "output_type": "stream",
     "text": [
      "<class 'list'>\n"
     ]
    }
   ],
   "source": [
    "emptyList = list()\n",
    "print(emptyList.__class__)"
   ]
  },
  {
   "cell_type": "code",
   "execution_count": 3,
   "id": "constant-insurance",
   "metadata": {},
   "outputs": [
    {
     "data": {
      "text/plain": [
       "['c', 'a', 't']"
      ]
     },
     "execution_count": 3,
     "metadata": {},
     "output_type": "execute_result"
    }
   ],
   "source": [
    "list('cat')"
   ]
  },
  {
   "cell_type": "code",
   "execution_count": null,
   "id": "forced-commander",
   "metadata": {},
   "outputs": [],
   "source": [
    "list(range(10000))"
   ]
  },
  {
   "cell_type": "code",
   "execution_count": 5,
   "id": "independent-airfare",
   "metadata": {},
   "outputs": [
    {
     "data": {
      "text/plain": [
       "['1', '6', '1980']"
      ]
     },
     "execution_count": 5,
     "metadata": {},
     "output_type": "execute_result"
    }
   ],
   "source": [
    "birthday = '1/6/1980'\n",
    "birthday.split('/')"
   ]
  },
  {
   "cell_type": "code",
   "execution_count": 9,
   "id": "sweet-occasions",
   "metadata": {},
   "outputs": [
    {
     "data": {
      "text/plain": [
       "['1980']"
      ]
     },
     "execution_count": 9,
     "metadata": {},
     "output_type": "execute_result"
    }
   ],
   "source": [
    "import re\n",
    "birthdayList=re.split('/',birthday)\n",
    "birthdayList[len(birthdayList)-1]\n",
    "birthdayList[-1:]"
   ]
  },
  {
   "cell_type": "code",
   "execution_count": 11,
   "id": "facial-aaron",
   "metadata": {},
   "outputs": [
    {
     "name": "stdout",
     "output_type": "stream",
     "text": [
      "不可預期的錯誤\n"
     ]
    }
   ],
   "source": [
    "citys = ['台北', '台中', '高雄']\n",
    "try:\n",
    "    citys[3]\n",
    "except:\n",
    "    print(\"不可預期的錯誤\")"
   ]
  },
  {
   "cell_type": "code",
   "execution_count": 16,
   "id": "endless-border",
   "metadata": {},
   "outputs": [
    {
     "name": "stdout",
     "output_type": "stream",
     "text": [
      "['H', 'i']\n",
      "('H', 'i')\n",
      "H\n",
      "H\n"
     ]
    }
   ],
   "source": [
    "#list,tuple\n",
    "list1 = ['H','i']\n",
    "tuple1 = ('H', 'i')\n",
    "print(list1)\n",
    "print(tuple1)\n",
    "print(list1[0])\n",
    "print(tuple1[0])\n",
    "list1[0] = 'P'\n",
    "#tuple1[0] = 'P'"
   ]
  },
  {
   "cell_type": "code",
   "execution_count": 18,
   "id": "motivated-jurisdiction",
   "metadata": {},
   "outputs": [
    {
     "name": "stdout",
     "output_type": "stream",
     "text": [
      "H\n",
      "i\n"
     ]
    }
   ],
   "source": [
    "(first, second) = tuple1\n",
    "print(first)\n",
    "print(second)"
   ]
  },
  {
   "cell_type": "code",
   "execution_count": 19,
   "id": "equipped-standard",
   "metadata": {},
   "outputs": [
    {
     "data": {
      "text/plain": [
       "[['筆記電腦', '商用筆電'], ['APPLE', 'ASUS', 'HTC'], [3, '冰箱', 2, '洗衣機']]"
      ]
     },
     "execution_count": 19,
     "metadata": {},
     "output_type": "execute_result"
    }
   ],
   "source": [
    "#2維list\n",
    "nb = ['筆記電腦', '商用筆電']\n",
    "mobile = ['APPLE', 'ASUS', 'HTC'] \n",
    "home = [3, '冰箱', 2, '洗衣機']\n",
    "\n",
    "all3c = [nb, mobile, home]\n",
    "all3c"
   ]
  },
  {
   "cell_type": "code",
   "execution_count": 20,
   "id": "living-dublin",
   "metadata": {},
   "outputs": [
    {
     "data": {
      "text/plain": [
       "'筆記電腦'"
      ]
     },
     "execution_count": 20,
     "metadata": {},
     "output_type": "execute_result"
    }
   ],
   "source": [
    "all3c[0][0]"
   ]
  },
  {
   "cell_type": "code",
   "execution_count": 21,
   "id": "greek-veteran",
   "metadata": {},
   "outputs": [
    {
     "data": {
      "text/plain": [
       "'商用筆電'"
      ]
     },
     "execution_count": 21,
     "metadata": {},
     "output_type": "execute_result"
    }
   ],
   "source": [
    "all3c[0][1]"
   ]
  },
  {
   "cell_type": "code",
   "execution_count": 22,
   "id": "ecological-newfoundland",
   "metadata": {},
   "outputs": [
    {
     "name": "stdout",
     "output_type": "stream",
     "text": [
      "筆記電腦\n",
      "商用筆電\n",
      "APPLE\n",
      "ASUS\n",
      "HTC\n",
      "3\n",
      "冰箱\n",
      "2\n",
      "洗衣機\n"
     ]
    }
   ],
   "source": [
    "for items in all3c:\n",
    "    for item in items:\n",
    "        print(item)"
   ]
  },
  {
   "cell_type": "code",
   "execution_count": 28,
   "id": "played-thickness",
   "metadata": {},
   "outputs": [
    {
     "data": {
      "text/plain": [
       "[70, 83, 97]"
      ]
     },
     "execution_count": 28,
     "metadata": {},
     "output_type": "execute_result"
    }
   ],
   "source": [
    "scores = [65, 78, 92]\n",
    "newScores = []\n",
    "for score in scores:\n",
    "    newScores.append(score+5)\n",
    "\n",
    "scores = newScores\n",
    "scores"
   ]
  },
  {
   "cell_type": "code",
   "execution_count": 29,
   "id": "sweet-reserve",
   "metadata": {},
   "outputs": [
    {
     "data": {
      "text/plain": [
       "[70, 83, 97]"
      ]
     },
     "execution_count": 29,
     "metadata": {},
     "output_type": "execute_result"
    }
   ],
   "source": [
    "scores = [65, 78, 92]\n",
    "for i in range(len(scores)):\n",
    "    scores[i] += 5\n",
    "scores"
   ]
  },
  {
   "cell_type": "code",
   "execution_count": 35,
   "id": "fantastic-librarian",
   "metadata": {},
   "outputs": [
    {
     "data": {
      "text/plain": [
       "array([70, 83, 97])"
      ]
     },
     "execution_count": 35,
     "metadata": {},
     "output_type": "execute_result"
    }
   ],
   "source": [
    "import numpy as np\n",
    "scores = [65, 78, 92]\n",
    "scoresNp = np.array(scores)\n",
    "scoresNp += 5\n",
    "scoresNp"
   ]
  },
  {
   "cell_type": "code",
   "execution_count": 41,
   "id": "exact-strike",
   "metadata": {},
   "outputs": [
    {
     "name": "stdout",
     "output_type": "stream",
     "text": [
      "學號\t國文\t英文\t數學\t地理\t化學\t總分\t平均\n",
      "A1\t98\t54\t85\t95\t72\t404\t80.8\n",
      "A2\t88\t53\t99\t84\t51\t375\t75.0\n",
      "A3\t98\t58\t65\t99\t51\t371\t74.2\n",
      "A4\t99\t53\t93\t64\t71\t380\t76.0\n",
      "A5\t75\t94\t75\t68\t50\t362\t72.4\n",
      "A6\t53\t90\t99\t73\t81\t396\t79.2\n",
      "A7\t94\t73\t55\t96\t65\t383\t76.6\n",
      "A8\t64\t70\t80\t72\t72\t358\t71.6\n",
      "A9\t77\t82\t91\t56\t99\t405\t81.0\n",
      "A10\t59\t57\t58\t89\t80\t343\t68.6\n",
      "A11\t93\t78\t74\t58\t74\t377\t75.4\n",
      "A12\t64\t64\t98\t95\t62\t383\t76.6\n",
      "A13\t83\t51\t60\t92\t94\t380\t76.0\n",
      "A14\t89\t92\t82\t84\t89\t436\t87.2\n",
      "A15\t64\t77\t100\t91\t92\t424\t84.8\n",
      "A16\t95\t58\t65\t86\t80\t384\t76.8\n",
      "A17\t59\t71\t99\t68\t67\t364\t72.8\n",
      "A18\t85\t91\t69\t98\t50\t393\t78.6\n",
      "A19\t73\t82\t76\t63\t62\t356\t71.2\n",
      "A20\t68\t70\t68\t71\t77\t354\t70.8\n",
      "A21\t69\t75\t97\t76\t56\t373\t74.6\n",
      "A22\t92\t93\t78\t69\t79\t411\t82.2\n",
      "A23\t60\t89\t77\t93\t57\t376\t75.2\n",
      "A24\t60\t55\t51\t95\t66\t327\t65.4\n",
      "A25\t78\t56\t67\t92\t55\t348\t69.6\n",
      "A26\t56\t80\t60\t67\t85\t348\t69.6\n",
      "A27\t93\t55\t57\t82\t66\t353\t70.6\n",
      "A28\t56\t75\t84\t80\t71\t366\t73.2\n",
      "A29\t98\t80\t100\t89\t75\t442\t88.4\n",
      "A30\t93\t74\t52\t70\t68\t357\t71.4\n",
      "A31\t99\t99\t81\t89\t59\t427\t85.4\n",
      "A32\t58\t95\t66\t59\t77\t355\t71.0\n",
      "A33\t98\t72\t50\t99\t97\t416\t83.2\n",
      "A34\t78\t89\t88\t64\t61\t380\t76.0\n",
      "A35\t78\t51\t65\t86\t85\t365\t73.0\n",
      "A36\t84\t81\t58\t80\t95\t398\t79.6\n",
      "A37\t71\t84\t64\t78\t92\t389\t77.8\n",
      "A38\t60\t84\t83\t65\t56\t348\t69.6\n",
      "A39\t63\t69\t91\t61\t90\t374\t74.8\n",
      "A40\t68\t74\t50\t56\t68\t316\t63.2\n",
      "A41\t94\t62\t85\t91\t69\t401\t80.2\n",
      "A42\t68\t57\t80\t97\t92\t394\t78.8\n",
      "A43\t85\t57\t90\t67\t55\t354\t70.8\n",
      "A44\t67\t78\t86\t84\t63\t378\t75.6\n",
      "A45\t88\t51\t73\t78\t57\t347\t69.4\n",
      "A46\t76\t71\t51\t62\t85\t345\t69.0\n",
      "A47\t74\t78\t54\t76\t95\t377\t75.4\n",
      "A48\t87\t99\t93\t82\t68\t429\t85.8\n",
      "A49\t53\t63\t73\t95\t61\t345\t69.0\n",
      "A50\t93\t100\t97\t63\t86\t439\t87.8\n"
     ]
    }
   ],
   "source": [
    "import random\n",
    "\n",
    "students = []\n",
    "for _ in range(50):\n",
    "    scores = []\n",
    "    for _ in range(5):\n",
    "        scores += [random.randint(50,100)]\n",
    "    students.append(scores)\n",
    "students\n",
    "\n",
    "print(\"學號\\t國文\\t英文\\t數學\\t地理\\t化學\\t總分\\t平均\")\n",
    "\n",
    "for index, student in enumerate(students):\n",
    "    print(f'A{index+1}',end='\\t')\n",
    "    totals = 0\n",
    "    for score in student:\n",
    "        print(score,end='\\t')\n",
    "        totals += score\n",
    "    print(totals,end='\\t')\n",
    "    print(totals/5)\n",
    "    \n",
    "    "
   ]
  },
  {
   "cell_type": "code",
   "execution_count": null,
   "id": "equivalent-evidence",
   "metadata": {},
   "outputs": [],
   "source": []
  }
 ],
 "metadata": {
  "kernelspec": {
   "display_name": "Python 3",
   "language": "python",
   "name": "python3"
  },
  "language_info": {
   "codemirror_mode": {
    "name": "ipython",
    "version": 3
   },
   "file_extension": ".py",
   "mimetype": "text/x-python",
   "name": "python",
   "nbconvert_exporter": "python",
   "pygments_lexer": "ipython3",
   "version": "3.8.7"
  }
 },
 "nbformat": 4,
 "nbformat_minor": 5
}
