{
 "cells": [
  {
   "cell_type": "code",
   "execution_count": 15,
   "id": "objective-mitchell",
   "metadata": {},
   "outputs": [],
   "source": [
    "import requests\n",
    "urlString = \"https://flask-robert.herokuapp.com/youbike/\"\n",
    "response = requests.get(urlString)"
   ]
  },
  {
   "cell_type": "code",
   "execution_count": null,
   "id": "fallen-consciousness",
   "metadata": {},
   "outputs": [],
   "source": [
    "help(response)"
   ]
  },
  {
   "cell_type": "code",
   "execution_count": 19,
   "id": "interpreted-earthquake",
   "metadata": {},
   "outputs": [
    {
     "name": "stdout",
     "output_type": "stream",
     "text": [
      "{\"areas\":[\"南港區\",\"文山區\",\"大同區\",\"內湖區\",\"信義區\",\"中山區\",\"中正區\",\"萬華區\",\"大安區\",\"松山區\",\"北投區\",\"士林區\"]}\n",
      "\n"
     ]
    }
   ],
   "source": [
    "if response.ok:\n",
    "    print(response.text)\n",
    "else:\n",
    "    print('下載失敗')"
   ]
  },
  {
   "cell_type": "code",
   "execution_count": 9,
   "id": "retired-headquarters",
   "metadata": {},
   "outputs": [
    {
     "data": {
      "text/plain": [
       "True"
      ]
     },
     "execution_count": 9,
     "metadata": {},
     "output_type": "execute_result"
    }
   ],
   "source": [
    "response.ok"
   ]
  },
  {
   "cell_type": "code",
   "execution_count": 10,
   "id": "english-japanese",
   "metadata": {},
   "outputs": [
    {
     "data": {
      "text/plain": [
       "b'{\"areas\":[\"\\xe5\\x8d\\x97\\xe6\\xb8\\xaf\\xe5\\x8d\\x80\",\"\\xe6\\x96\\x87\\xe5\\xb1\\xb1\\xe5\\x8d\\x80\",\"\\xe5\\xa4\\xa7\\xe5\\x90\\x8c\\xe5\\x8d\\x80\",\"\\xe5\\x85\\xa7\\xe6\\xb9\\x96\\xe5\\x8d\\x80\",\"\\xe4\\xbf\\xa1\\xe7\\xbe\\xa9\\xe5\\x8d\\x80\",\"\\xe4\\xb8\\xad\\xe5\\xb1\\xb1\\xe5\\x8d\\x80\",\"\\xe4\\xb8\\xad\\xe6\\xad\\xa3\\xe5\\x8d\\x80\",\"\\xe8\\x90\\xac\\xe8\\x8f\\xaf\\xe5\\x8d\\x80\",\"\\xe5\\xa4\\xa7\\xe5\\xae\\x89\\xe5\\x8d\\x80\",\"\\xe6\\x9d\\xbe\\xe5\\xb1\\xb1\\xe5\\x8d\\x80\",\"\\xe5\\x8c\\x97\\xe6\\x8a\\x95\\xe5\\x8d\\x80\",\"\\xe5\\xa3\\xab\\xe6\\x9e\\x97\\xe5\\x8d\\x80\"]}\\n'"
      ]
     },
     "execution_count": 10,
     "metadata": {},
     "output_type": "execute_result"
    }
   ],
   "source": [
    "response.content"
   ]
  },
  {
   "cell_type": "code",
   "execution_count": 21,
   "id": "appreciated-cowboy",
   "metadata": {},
   "outputs": [
    {
     "name": "stdout",
     "output_type": "stream",
     "text": [
      "南港區\n",
      "文山區\n",
      "大同區\n",
      "內湖區\n",
      "信義區\n",
      "中山區\n",
      "中正區\n",
      "萬華區\n",
      "大安區\n",
      "松山區\n",
      "北投區\n",
      "士林區\n"
     ]
    }
   ],
   "source": [
    "import json\n",
    "areas = json.loads(response.text)\n",
    "areaList = areas['areas']\n",
    "for area in areaList:\n",
    "    print(area)"
   ]
  },
  {
   "cell_type": "code",
   "execution_count": 23,
   "id": "respective-blond",
   "metadata": {},
   "outputs": [
    {
     "name": "stdout",
     "output_type": "stream",
     "text": [
      "請輸入行政區域名稱[南港區,文山區,大同區,內湖區,信義區,中山區,中正區,萬華區,大安區,松山區,北投區,士林區]:文山區\n"
     ]
    },
    {
     "data": {
      "text/plain": [
       "'文山區'"
      ]
     },
     "execution_count": 23,
     "metadata": {},
     "output_type": "execute_result"
    }
   ],
   "source": [
    "listString = ','.join(areaList) \n",
    "input(f'請輸入行政區域名稱[{listString}]:')"
   ]
  },
  {
   "cell_type": "code",
   "execution_count": null,
   "id": "wanted-support",
   "metadata": {},
   "outputs": [],
   "source": []
  }
 ],
 "metadata": {
  "kernelspec": {
   "display_name": "Python 3",
   "language": "python",
   "name": "python3"
  },
  "language_info": {
   "codemirror_mode": {
    "name": "ipython",
    "version": 3
   },
   "file_extension": ".py",
   "mimetype": "text/x-python",
   "name": "python",
   "nbconvert_exporter": "python",
   "pygments_lexer": "ipython3",
   "version": "3.8.7"
  }
 },
 "nbformat": 4,
 "nbformat_minor": 5
}
