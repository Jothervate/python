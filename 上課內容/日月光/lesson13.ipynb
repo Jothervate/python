{
 "cells": [
  {
   "cell_type": "code",
   "execution_count": 2,
   "id": "abstract-blank",
   "metadata": {},
   "outputs": [],
   "source": [
    "import requests\n",
    "response = requests.post('https://httpbin.org/post',{'id':'A007','auth':'1234567890'})\n"
   ]
  },
  {
   "cell_type": "code",
   "execution_count": 3,
   "id": "exterior-directory",
   "metadata": {},
   "outputs": [
    {
     "data": {
      "text/plain": [
       "'https://httpbin.org/post'"
      ]
     },
     "execution_count": 3,
     "metadata": {},
     "output_type": "execute_result"
    }
   ],
   "source": [
    "response.url"
   ]
  },
  {
   "cell_type": "code",
   "execution_count": 6,
   "id": "graduate-conclusion",
   "metadata": {},
   "outputs": [
    {
     "data": {
      "text/plain": [
       "'https://httpbin.org/get?id=A007&auth=1234567890'"
      ]
     },
     "execution_count": 6,
     "metadata": {},
     "output_type": "execute_result"
    }
   ],
   "source": [
    "responseGet = requests.get('https://httpbin.org/get',{'id':'A007','auth':'1234567890'})\n",
    "responseGet.url"
   ]
  },
  {
   "cell_type": "code",
   "execution_count": null,
   "id": "floating-ideal",
   "metadata": {},
   "outputs": [],
   "source": []
  }
 ],
 "metadata": {
  "kernelspec": {
   "display_name": "Python 3",
   "language": "python",
   "name": "python3"
  },
  "language_info": {
   "codemirror_mode": {
    "name": "ipython",
    "version": 3
   },
   "file_extension": ".py",
   "mimetype": "text/x-python",
   "name": "python",
   "nbconvert_exporter": "python",
   "pygments_lexer": "ipython3",
   "version": "3.8.7"
  }
 },
 "nbformat": 4,
 "nbformat_minor": 5
}
