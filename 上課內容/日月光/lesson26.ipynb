{
 "cells": [
  {
   "cell_type": "code",
   "execution_count": 3,
   "id": "noted-causing",
   "metadata": {},
   "outputs": [
    {
     "data": {
      "text/plain": [
       "'1970-03-01'"
      ]
     },
     "execution_count": 3,
     "metadata": {},
     "output_type": "execute_result"
    }
   ],
   "source": [
    "from datetime import date\n",
    "birthday = date(1970,3,1)\n",
    "birthday.isoformat()"
   ]
  },
  {
   "cell_type": "code",
   "execution_count": 5,
   "id": "supreme-extension",
   "metadata": {},
   "outputs": [
    {
     "name": "stdout",
     "output_type": "stream",
     "text": [
      "1970\n",
      "3\n",
      "1\n",
      "西元1970,3月,1日\n"
     ]
    }
   ],
   "source": [
    "print(birthday.year)\n",
    "print(birthday.month)\n",
    "print(birthday.day)\n",
    "print(f'西元{birthday.year},{birthday.month}月,{birthday.day}日')"
   ]
  },
  {
   "cell_type": "code",
   "execution_count": 6,
   "id": "brilliant-schedule",
   "metadata": {},
   "outputs": [
    {
     "name": "stdout",
     "output_type": "stream",
     "text": [
      "2021-04-14\n",
      "2021\n",
      "4\n",
      "14\n",
      "西元2021,4月,14日\n"
     ]
    }
   ],
   "source": [
    "today = date.today()\n",
    "print(today.isoformat())\n",
    "print(today.year)\n",
    "print(today.month)\n",
    "print(today.day)\n",
    "print(f'西元{today.year},{today.month}月,{today.day}日')"
   ]
  },
  {
   "cell_type": "code",
   "execution_count": null,
   "id": "applied-database",
   "metadata": {},
   "outputs": [],
   "source": []
  }
 ],
 "metadata": {
  "kernelspec": {
   "display_name": "Python 3",
   "language": "python",
   "name": "python3"
  },
  "language_info": {
   "codemirror_mode": {
    "name": "ipython",
    "version": 3
   },
   "file_extension": ".py",
   "mimetype": "text/x-python",
   "name": "python",
   "nbconvert_exporter": "python",
   "pygments_lexer": "ipython3",
   "version": "3.8.7"
  }
 },
 "nbformat": 4,
 "nbformat_minor": 5
}
