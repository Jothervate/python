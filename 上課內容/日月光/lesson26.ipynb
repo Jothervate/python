{
 "cells": [
  {
   "cell_type": "code",
   "execution_count": 3,
   "id": "certified-breast",
   "metadata": {},
   "outputs": [
    {
     "data": {
      "text/plain": [
       "'1970-03-01'"
      ]
     },
     "execution_count": 3,
     "metadata": {},
     "output_type": "execute_result"
    }
   ],
   "source": [
    "from datetime import date\n",
    "birthday = date(1970,3,1)\n",
    "birthday.isoformat()"
   ]
  },
  {
   "cell_type": "code",
   "execution_count": 5,
   "id": "lonely-setting",
   "metadata": {},
   "outputs": [
    {
     "name": "stdout",
     "output_type": "stream",
     "text": [
      "1970\n",
      "3\n",
      "1\n",
      "西元1970,3月,1日\n"
     ]
    }
   ],
   "source": [
    "print(birthday.year)\n",
    "print(birthday.month)\n",
    "print(birthday.day)\n",
    "print(f'西元{birthday.year},{birthday.month}月,{birthday.day}日')"
   ]
  },
  {
   "cell_type": "code",
   "execution_count": 6,
   "id": "taken-ranking",
   "metadata": {},
   "outputs": [
    {
     "name": "stdout",
     "output_type": "stream",
     "text": [
      "2021-04-14\n",
      "2021\n",
      "4\n",
      "14\n",
      "西元2021,4月,14日\n"
     ]
    }
   ],
   "source": [
    "today = date.today()\n",
    "print(today.isoformat())\n",
    "print(today.year)\n",
    "print(today.month)\n",
    "print(today.day)\n",
    "print(f'西元{today.year},{today.month}月,{today.day}日')"
   ]
  },
  {
   "cell_type": "code",
   "execution_count": 9,
   "id": "broad-typing",
   "metadata": {},
   "outputs": [
    {
     "data": {
      "text/plain": [
       "datetime.date(2021, 4, 15)"
      ]
     },
     "execution_count": 9,
     "metadata": {},
     "output_type": "execute_result"
    }
   ],
   "source": [
    "from datetime import date\n",
    "from datetime import timedelta\n",
    "now = date.today()\n",
    "one_day = timedelta(days=1)\n",
    "tomorrow = now + one_day\n",
    "tomorrow"
   ]
  },
  {
   "cell_type": "code",
   "execution_count": 10,
   "id": "processed-turning",
   "metadata": {},
   "outputs": [
    {
     "data": {
      "text/plain": [
       "datetime.date(2021, 4, 13)"
      ]
     },
     "execution_count": 10,
     "metadata": {},
     "output_type": "execute_result"
    }
   ],
   "source": [
    "yesterday=now - one_day\n",
    "yesterday"
   ]
  },
  {
   "cell_type": "code",
   "execution_count": 12,
   "id": "chinese-courage",
   "metadata": {},
   "outputs": [],
   "source": [
    "from datetime import time\n",
    "noon = time(hour=12)"
   ]
  },
  {
   "cell_type": "code",
   "execution_count": 13,
   "id": "sensitive-forty",
   "metadata": {},
   "outputs": [
    {
     "data": {
      "text/plain": [
       "12"
      ]
     },
     "execution_count": 13,
     "metadata": {},
     "output_type": "execute_result"
    }
   ],
   "source": [
    "noon.hour"
   ]
  },
  {
   "cell_type": "code",
   "execution_count": 14,
   "id": "anonymous-nicaragua",
   "metadata": {},
   "outputs": [
    {
     "data": {
      "text/plain": [
       "0"
      ]
     },
     "execution_count": 14,
     "metadata": {},
     "output_type": "execute_result"
    }
   ],
   "source": [
    "noon.minute\n"
   ]
  },
  {
   "cell_type": "code",
   "execution_count": 15,
   "id": "appreciated-confidentiality",
   "metadata": {},
   "outputs": [
    {
     "data": {
      "text/plain": [
       "0"
      ]
     },
     "execution_count": 15,
     "metadata": {},
     "output_type": "execute_result"
    }
   ],
   "source": [
    "noon.second"
   ]
  },
  {
   "cell_type": "code",
   "execution_count": 16,
   "id": "theoretical-customs",
   "metadata": {},
   "outputs": [
    {
     "data": {
      "text/plain": [
       "0"
      ]
     },
     "execution_count": 16,
     "metadata": {},
     "output_type": "execute_result"
    }
   ],
   "source": [
    "noon.microsecond"
   ]
  },
  {
   "cell_type": "code",
   "execution_count": 20,
   "id": "musical-authority",
   "metadata": {},
   "outputs": [
    {
     "name": "stdout",
     "output_type": "stream",
     "text": [
      "2021\n",
      "1\n",
      "2\n",
      "3\n",
      "4\n",
      "5\n"
     ]
    }
   ],
   "source": [
    "from datetime import datetime\n",
    "some_day = datetime(2021,1,2,3,4,5,6)\n",
    "some_day\n",
    "print(some_day.year)\n",
    "print(some_day.month)\n",
    "print(some_day.day)\n",
    "print(some_day.hour)\n",
    "print(some_day.minute)\n",
    "print(some_day.second)"
   ]
  },
  {
   "cell_type": "code",
   "execution_count": 23,
   "id": "altered-secretary",
   "metadata": {},
   "outputs": [
    {
     "name": "stdout",
     "output_type": "stream",
     "text": [
      "2021\n",
      "4\n",
      "14\n",
      "16\n",
      "46\n",
      "55\n"
     ]
    }
   ],
   "source": [
    "from datetime import datetime\n",
    "now = datetime.now()\n",
    "now\n",
    "print(now.year)\n",
    "print(now.month)\n",
    "print(now.day)\n",
    "print(now.hour)\n",
    "print(now.minute)\n",
    "print(now.second)"
   ]
  },
  {
   "cell_type": "code",
   "execution_count": 24,
   "id": "streaming-tracker",
   "metadata": {},
   "outputs": [
    {
     "data": {
      "text/plain": [
       "datetime.datetime(2021, 4, 15, 17, 56, 55, 250382)"
      ]
     },
     "execution_count": 24,
     "metadata": {},
     "output_type": "execute_result"
    }
   ],
   "source": [
    "interval = timedelta(days=1, hours=1, minutes=10)\n",
    "now+interval"
   ]
  },
  {
   "cell_type": "code",
   "execution_count": 25,
   "id": "played-ranch",
   "metadata": {},
   "outputs": [
    {
     "data": {
      "text/plain": [
       "1618390638.56839"
      ]
     },
     "execution_count": 25,
     "metadata": {},
     "output_type": "execute_result"
    }
   ],
   "source": [
    "import time\n",
    "now = time.time()\n",
    "now"
   ]
  },
  {
   "cell_type": "code",
   "execution_count": 26,
   "id": "christian-typing",
   "metadata": {},
   "outputs": [
    {
     "data": {
      "text/plain": [
       "'Wed Apr 14 16:57:18 2021'"
      ]
     },
     "execution_count": 26,
     "metadata": {},
     "output_type": "execute_result"
    }
   ],
   "source": [
    "time.ctime(now)"
   ]
  },
  {
   "cell_type": "code",
   "execution_count": 27,
   "id": "whole-bundle",
   "metadata": {},
   "outputs": [
    {
     "data": {
      "text/plain": [
       "time.struct_time(tm_year=2021, tm_mon=4, tm_mday=14, tm_hour=16, tm_min=57, tm_sec=18, tm_wday=2, tm_yday=104, tm_isdst=0)"
      ]
     },
     "execution_count": 27,
     "metadata": {},
     "output_type": "execute_result"
    }
   ],
   "source": [
    "time.localtime(now)"
   ]
  },
  {
   "cell_type": "code",
   "execution_count": 28,
   "id": "identical-permit",
   "metadata": {},
   "outputs": [
    {
     "data": {
      "text/plain": [
       "time.struct_time(tm_year=2021, tm_mon=4, tm_mday=14, tm_hour=8, tm_min=57, tm_sec=18, tm_wday=2, tm_yday=104, tm_isdst=0)"
      ]
     },
     "execution_count": 28,
     "metadata": {},
     "output_type": "execute_result"
    }
   ],
   "source": [
    "time.gmtime(now)"
   ]
  },
  {
   "cell_type": "code",
   "execution_count": 29,
   "id": "talented-holmes",
   "metadata": {},
   "outputs": [
    {
     "data": {
      "text/plain": [
       "time.struct_time(tm_year=2021, tm_mon=4, tm_mday=14, tm_hour=17, tm_min=11, tm_sec=5, tm_wday=2, tm_yday=104, tm_isdst=0)"
      ]
     },
     "execution_count": 29,
     "metadata": {},
     "output_type": "execute_result"
    }
   ],
   "source": [
    "import time\n",
    "t = time.localtime()\n",
    "t"
   ]
  },
  {
   "cell_type": "code",
   "execution_count": 30,
   "id": "expensive-declaration",
   "metadata": {},
   "outputs": [
    {
     "data": {
      "text/plain": [
       "'現在日期是 Wednesday, April, 14, 2021,時間是 05:11:05P'"
      ]
     },
     "execution_count": 30,
     "metadata": {},
     "output_type": "execute_result"
    }
   ],
   "source": [
    "fmt = \"現在日期是 %A, %B, %d, %Y,時間是 %I:%M:%S%P\"\n",
    "time.strftime(fmt,t)"
   ]
  },
  {
   "cell_type": "code",
   "execution_count": 32,
   "id": "stunning-tamil",
   "metadata": {},
   "outputs": [
    {
     "data": {
      "text/plain": [
       "'現在日期是 Wednesday, July, 04, 2018,時間是 12:00:00P'"
      ]
     },
     "execution_count": 32,
     "metadata": {},
     "output_type": "execute_result"
    }
   ],
   "source": [
    "from datetime import date\n",
    "some_day = date(2018, 7, 4)\n",
    "fmt =  \"現在日期是 %A, %B, %d, %Y,時間是 %I:%M:%S%P\"\n",
    "some_day.strftime(fmt)"
   ]
  },
  {
   "cell_type": "code",
   "execution_count": 35,
   "id": "sacred-introduction",
   "metadata": {},
   "outputs": [
    {
     "data": {
      "text/plain": [
       "time.struct_time(tm_year=2012, tm_mon=1, tm_mday=29, tm_hour=0, tm_min=0, tm_sec=0, tm_wday=6, tm_yday=29, tm_isdst=-1)"
      ]
     },
     "execution_count": 35,
     "metadata": {},
     "output_type": "execute_result"
    }
   ],
   "source": [
    "#字串轉為時間物件\n",
    "import time\n",
    "fmt = \"%Y-%m-%d\"\n",
    "structTime = time.strptime(\"2012-01-29\",fmt)\n",
    "structTime"
   ]
  },
  {
   "cell_type": "code",
   "execution_count": 36,
   "id": "industrial-dover",
   "metadata": {},
   "outputs": [
    {
     "data": {
      "text/plain": [
       "2012"
      ]
     },
     "execution_count": 36,
     "metadata": {},
     "output_type": "execute_result"
    }
   ],
   "source": [
    "structTime.tm_year"
   ]
  },
  {
   "cell_type": "code",
   "execution_count": null,
   "id": "ceramic-crossing",
   "metadata": {},
   "outputs": [],
   "source": []
  },
  {
   "cell_type": "code",
   "execution_count": null,
   "id": "described-technique",
   "metadata": {},
   "outputs": [],
   "source": []
  },
  {
   "cell_type": "code",
   "execution_count": null,
   "id": "quick-diamond",
   "metadata": {},
   "outputs": [],
   "source": []
  },
  {
   "cell_type": "code",
   "execution_count": null,
   "id": "accomplished-variable",
   "metadata": {},
   "outputs": [],
   "source": []
  },
  {
   "cell_type": "code",
   "execution_count": null,
   "id": "bored-copyright",
   "metadata": {},
   "outputs": [],
   "source": []
  }
 ],
 "metadata": {
  "kernelspec": {
   "display_name": "Python 3",
   "language": "python",
   "name": "python3"
  },
  "language_info": {
   "codemirror_mode": {
    "name": "ipython",
    "version": 3
   },
   "file_extension": ".py",
   "mimetype": "text/x-python",
   "name": "python",
   "nbconvert_exporter": "python",
   "pygments_lexer": "ipython3",
   "version": "3.8.7"
  }
 },
 "nbformat": 4,
 "nbformat_minor": 5
}
