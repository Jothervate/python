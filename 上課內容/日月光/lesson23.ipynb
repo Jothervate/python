{
 "cells": [
  {
   "cell_type": "code",
   "execution_count": 4,
   "id": "filled-boulder",
   "metadata": {},
   "outputs": [],
   "source": [
    "text = '''\n",
    "台股今 (8) 日開低走高，在大量買盤湧入下，聯電、聯發科、大立光等電子權值股強勢出頭，中小型股也表現活蹦亂跳，90 檔個股噴出漲停，帶動加權指數終場上漲 111.08 點，收在 16926.44 點，續創收盤歷史新高，逐步邁向萬七大關，成交值放大至 3849.23 億元。\n",
    "\n",
    "台積電早盤走弱，一度跌至 603 元，但尾盤吸引低接買盤進場後，股價強勢翻紅收 613 元，小漲 0.49%；聯電 3 月營收首破 160 億元，首季營收達 470.9 億元，年增 11.4%，改寫單月、單季營收新高，帶動漲勢放大，終場收 54 元，漲幅 4.85%；聯發科勁揚逾 2%，收在 1020 元，正式躋身千金股。\n",
    "\n",
    "大立光線上法說會盤後登場，雖受缺料及鏡頭市場競爭加劇影響，早盤跌至 2945 元，但在買盤護航下，股價強勢翻紅漲逾 3%，站回 3000 元大關，收 3100 元。中低價光學股也表現活潑，中揚光、邑錡連袂攻上漲停價位，分別收 97.2 元、43.05 元。\n",
    "'''\n",
    "\n",
    "print(text,file=open('data.txt','a',encoding='utf-8'))"
   ]
  },
  {
   "cell_type": "code",
   "execution_count": 5,
   "id": "average-plant",
   "metadata": {},
   "outputs": [],
   "source": [
    "text = '''\n",
    "台股今 (8) 日開低走高，在大量買盤湧入下，聯電、聯發科、大立光等電子權值股強勢出頭，中小型股也表現活蹦亂跳，90 檔個股噴出漲停，帶動加權指數終場上漲 111.08 點，收在 16926.44 點，續創收盤歷史新高，逐步邁向萬七大關，成交值放大至 3849.23 億元。\n",
    "\n",
    "台積電早盤走弱，一度跌至 603 元，但尾盤吸引低接買盤進場後，股價強勢翻紅收 613 元，小漲 0.49%；聯電 3 月營收首破 160 億元，首季營收達 470.9 億元，年增 11.4%，改寫單月、單季營收新高，帶動漲勢放大，終場收 54 元，漲幅 4.85%；聯發科勁揚逾 2%，收在 1020 元，正式躋身千金股。\n",
    "\n",
    "大立光線上法說會盤後登場，雖受缺料及鏡頭市場競爭加劇影響，早盤跌至 2945 元，但在買盤護航下，股價強勢翻紅漲逾 3%，站回 3000 元大關，收 3100 元。中低價光學股也表現活潑，中揚光、邑錡連袂攻上漲停價位，分別收 97.2 元、43.05 元。\n",
    "'''\n",
    "\n",
    "file = open('sample1.txt','w+', encoding='utf-8')\n",
    "file.write(text)\n",
    "file.close()"
   ]
  },
  {
   "cell_type": "code",
   "execution_count": 10,
   "id": "excellent-basket",
   "metadata": {},
   "outputs": [],
   "source": [
    "import random\n",
    "students = [[random.randint(50,100) for _ in range(5)] for _ in range(50)]\n",
    "\n",
    "file = open('student.txt','w+', encoding='utf-8')\n",
    "file.write(str(students))\n",
    "file.close()"
   ]
  },
  {
   "cell_type": "code",
   "execution_count": null,
   "id": "lined-burns",
   "metadata": {},
   "outputs": [],
   "source": []
  }
 ],
 "metadata": {
  "kernelspec": {
   "display_name": "Python 3",
   "language": "python",
   "name": "python3"
  },
  "language_info": {
   "codemirror_mode": {
    "name": "ipython",
    "version": 3
   },
   "file_extension": ".py",
   "mimetype": "text/x-python",
   "name": "python",
   "nbconvert_exporter": "python",
   "pygments_lexer": "ipython3",
   "version": "3.8.7"
  }
 },
 "nbformat": 4,
 "nbformat_minor": 5
}
