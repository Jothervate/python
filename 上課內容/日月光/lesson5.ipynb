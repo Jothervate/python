{
 "cells": [
  {
   "cell_type": "code",
   "execution_count": 1,
   "id": "noted-people",
   "metadata": {},
   "outputs": [
    {
     "name": "stdout",
     "output_type": "stream",
     "text": [
      "6\n",
      "5\n",
      "4\n",
      "3\n",
      "2\n",
      "1\n"
     ]
    }
   ],
   "source": [
    "a = 6\n",
    "while a > 0:\n",
    "    print(a)\n",
    "    a -= 1"
   ]
  },
  {
   "cell_type": "code",
   "execution_count": 4,
   "id": "binary-stevens",
   "metadata": {},
   "outputs": [
    {
     "name": "stdout",
     "output_type": "stream",
     "text": [
      "總合為30\n"
     ]
    }
   ],
   "source": [
    "sum=0\n",
    "i = 2\n",
    "while i<=10:\n",
    "    sum += i\n",
    "    i += 2\n",
    "print(f'總合為{sum}')"
   ]
  },
  {
   "cell_type": "code",
   "execution_count": 5,
   "id": "other-providence",
   "metadata": {},
   "outputs": [
    {
     "name": "stdout",
     "output_type": "stream",
     "text": [
      "請輸入小寫英文字[按q會離開]:taipei\n",
      "Taipei\n",
      "請輸入小寫英文字[按q會離開]:taiwan\n",
      "Taiwan\n",
      "請輸入小寫英文字[按q會離開]:japan\n",
      "Japan\n",
      "請輸入小寫英文字[按q會離開]:q\n",
      "程式結束\n"
     ]
    }
   ],
   "source": [
    "while True:\n",
    "    stuff = input('請輸入小寫英文字[按q會離開]:')\n",
    "    if stuff == 'q':\n",
    "        break\n",
    "    print(stuff.capitalize())\n",
    "print(\"程式結束\")\n",
    "    "
   ]
  },
  {
   "cell_type": "code",
   "execution_count": 6,
   "id": "reliable-american",
   "metadata": {},
   "outputs": [
    {
     "name": "stdout",
     "output_type": "stream",
     "text": [
      "請輸入整數,輸入q離開:2\n",
      "請輸入整數,輸入q離開:4\n",
      "請輸入整數,輸入q離開:3\n",
      "3的平方是9\n",
      "請輸入整數,輸入q離開:4\n",
      "請輸入整數,輸入q離開:6\n",
      "請輸入整數,輸入q離開:7\n",
      "7的平方是49\n",
      "請輸入整數,輸入q離開:q\n"
     ]
    }
   ],
   "source": [
    "while True:\n",
    "    value = input('請輸入整數,輸入q離開:')\n",
    "    if value == 'q':\n",
    "        break\n",
    "    number = int(value)\n",
    "    if number % 2 == 0:\n",
    "        continue\n",
    "    else:\n",
    "        print(f'{number}的平方是{number ** 2}')\n",
    "    "
   ]
  },
  {
   "cell_type": "code",
   "execution_count": 7,
   "id": "verified-basics",
   "metadata": {},
   "outputs": [
    {
     "name": "stdout",
     "output_type": "stream",
     "text": [
      "請輸入第1個月份的存款:567\n",
      "請輸入第2個月份的存款:456\n",
      "請輸入第3個月份的存款:345\n",
      "請輸入第4個月份的存款:7654\n",
      "請輸入第5個月份的存款:921\n",
      "請輸入第6個月份的存款:7432\n",
      "請輸入第7個月份的存款:9732\n",
      "請輸入第8個月份的存款:5432\n",
      "存了8個月的總存款為32539元\n"
     ]
    }
   ],
   "source": [
    "deposit = 0\n",
    "num = 0\n",
    "while deposit < 30000:\n",
    "    num += 1\n",
    "    inputNum = int(input('請輸入第' + str(num) +  \"個月份的存款:\"))\n",
    "    deposit += inputNum\n",
    "print(f'存了{num}個月的總存款為{deposit}元')"
   ]
  },
  {
   "cell_type": "code",
   "execution_count": 11,
   "id": "introductory-magazine",
   "metadata": {},
   "outputs": [
    {
     "data": {
      "text/plain": [
       "54"
      ]
     },
     "execution_count": 11,
     "metadata": {},
     "output_type": "execute_result"
    }
   ],
   "source": [
    "import random\n",
    "random.random()\n",
    "random.randint(10,100)"
   ]
  },
  {
   "cell_type": "code",
   "execution_count": 12,
   "id": "threaded-concert",
   "metadata": {},
   "outputs": [
    {
     "data": {
      "text/plain": [
       "59"
      ]
     },
     "execution_count": 12,
     "metadata": {},
     "output_type": "execute_result"
    }
   ],
   "source": [
    "from random import random\n",
    "from random import randint\n",
    "random()\n",
    "randint(10,100)"
   ]
  },
  {
   "cell_type": "code",
   "execution_count": null,
   "id": "forbidden-winter",
   "metadata": {},
   "outputs": [],
   "source": []
  },
  {
   "cell_type": "code",
   "execution_count": null,
   "id": "stupid-subdivision",
   "metadata": {},
   "outputs": [],
   "source": []
  },
  {
   "cell_type": "code",
   "execution_count": null,
   "id": "peaceful-percentage",
   "metadata": {},
   "outputs": [],
   "source": []
  },
  {
   "cell_type": "code",
   "execution_count": null,
   "id": "whole-dutch",
   "metadata": {},
   "outputs": [],
   "source": []
  }
 ],
 "metadata": {
  "kernelspec": {
   "display_name": "Python 3",
   "language": "python",
   "name": "python3"
  },
  "language_info": {
   "codemirror_mode": {
    "name": "ipython",
    "version": 3
   },
   "file_extension": ".py",
   "mimetype": "text/x-python",
   "name": "python",
   "nbconvert_exporter": "python",
   "pygments_lexer": "ipython3",
   "version": "3.8.7"
  }
 },
 "nbformat": 4,
 "nbformat_minor": 5
}
