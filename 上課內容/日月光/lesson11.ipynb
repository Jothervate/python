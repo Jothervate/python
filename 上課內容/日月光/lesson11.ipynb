{
 "cells": [
  {
   "cell_type": "code",
   "execution_count": 3,
   "id": "mighty-culture",
   "metadata": {},
   "outputs": [
    {
     "data": {
      "text/plain": [
       "['台北', '台中', '高雄', '台南']"
      ]
     },
     "execution_count": 3,
     "metadata": {},
     "output_type": "execute_result"
    }
   ],
   "source": [
    "#remove()\n",
    "#pop()\n",
    "#del\n",
    "citys = ['台北', '台中', '高雄', '台南', '花蓮']\n",
    "del citys[-1]\n",
    "citys"
   ]
  },
  {
   "cell_type": "code",
   "execution_count": 6,
   "id": "capital-playing",
   "metadata": {},
   "outputs": [
    {
     "data": {
      "text/plain": [
       "['台北', '台中', '高雄', '台南']"
      ]
     },
     "execution_count": 6,
     "metadata": {},
     "output_type": "execute_result"
    }
   ],
   "source": [
    "citys = ['台北', '台中', '高雄', '台南', '花蓮']\n",
    "if '花蓮' in citys:\n",
    "    citys.remove('花蓮')\n",
    "citys"
   ]
  },
  {
   "cell_type": "code",
   "execution_count": 7,
   "id": "coastal-diana",
   "metadata": {},
   "outputs": [
    {
     "data": {
      "text/plain": [
       "['台北', '台中', '高雄', '台南']"
      ]
     },
     "execution_count": 7,
     "metadata": {},
     "output_type": "execute_result"
    }
   ],
   "source": [
    "citys = ['台北', '台中', '高雄', '台南', '花蓮']\n",
    "citys.pop()\n",
    "citys"
   ]
  },
  {
   "cell_type": "code",
   "execution_count": 8,
   "id": "supposed-sport",
   "metadata": {},
   "outputs": [
    {
     "data": {
      "text/plain": [
       "['Chico', 'Groucho', 'Harpo']"
      ]
     },
     "execution_count": 8,
     "metadata": {},
     "output_type": "execute_result"
    }
   ],
   "source": [
    "marxes = ['Groucho', 'Chico', 'Harpo']\n",
    "sort_marxes=sorted(marxes)\n",
    "sort_marxes"
   ]
  },
  {
   "cell_type": "code",
   "execution_count": 10,
   "id": "demographic-episode",
   "metadata": {},
   "outputs": [
    {
     "data": {
      "text/plain": [
       "['Harpo', 'Groucho', 'Chico']"
      ]
     },
     "execution_count": 10,
     "metadata": {},
     "output_type": "execute_result"
    }
   ],
   "source": [
    "marxes = ['Groucho', 'Chico', 'Harpo']\n",
    "marxes.sort(reverse=True)\n",
    "marxes"
   ]
  },
  {
   "cell_type": "code",
   "execution_count": 11,
   "id": "looking-likelihood",
   "metadata": {},
   "outputs": [
    {
     "data": {
      "text/plain": [
       "['In',\n",
       " 'Out',\n",
       " '_',\n",
       " '_10',\n",
       " '_2',\n",
       " '_3',\n",
       " '_4',\n",
       " '_6',\n",
       " '_7',\n",
       " '_8',\n",
       " '_9',\n",
       " '__',\n",
       " '___',\n",
       " '__builtin__',\n",
       " '__builtins__',\n",
       " '__doc__',\n",
       " '__loader__',\n",
       " '__name__',\n",
       " '__package__',\n",
       " '__spec__',\n",
       " '_dh',\n",
       " '_i',\n",
       " '_i1',\n",
       " '_i10',\n",
       " '_i11',\n",
       " '_i2',\n",
       " '_i3',\n",
       " '_i4',\n",
       " '_i5',\n",
       " '_i6',\n",
       " '_i7',\n",
       " '_i8',\n",
       " '_i9',\n",
       " '_ih',\n",
       " '_ii',\n",
       " '_iii',\n",
       " '_oh',\n",
       " 'citys',\n",
       " 'exit',\n",
       " 'get_ipython',\n",
       " 'marxes',\n",
       " 'quit',\n",
       " 'sort_marxes']"
      ]
     },
     "execution_count": 11,
     "metadata": {},
     "output_type": "execute_result"
    }
   ],
   "source": [
    "dir()"
   ]
  },
  {
   "cell_type": "code",
   "execution_count": 2,
   "id": "heard-sunrise",
   "metadata": {},
   "outputs": [
    {
     "name": "stdout",
     "output_type": "stream",
     "text": [
      "a=10\n",
      "b=10\n",
      "a=10\n",
      "b=9\n"
     ]
    }
   ],
   "source": [
    "#value type\n",
    "a = 10\n",
    "b = a\n",
    "print(f'a={a}')\n",
    "print(f'b={b}')\n",
    "b -= 1\n",
    "print(f'a={a}')\n",
    "print(f'b={b}')"
   ]
  },
  {
   "cell_type": "code",
   "execution_count": 3,
   "id": "toxic-piano",
   "metadata": {},
   "outputs": [
    {
     "data": {
      "text/plain": [
       "[10, 2, 3]"
      ]
     },
     "execution_count": 3,
     "metadata": {},
     "output_type": "execute_result"
    }
   ],
   "source": [
    "#reference type\n",
    "a = [1, 2, 3]\n",
    "b = a\n",
    "b[0]=10\n",
    "a"
   ]
  },
  {
   "cell_type": "code",
   "execution_count": 5,
   "id": "textile-evening",
   "metadata": {},
   "outputs": [
    {
     "data": {
      "text/plain": [
       "140640695029504"
      ]
     },
     "execution_count": 5,
     "metadata": {},
     "output_type": "execute_result"
    }
   ],
   "source": [
    "id(a)"
   ]
  },
  {
   "cell_type": "code",
   "execution_count": 6,
   "id": "level-reggae",
   "metadata": {},
   "outputs": [
    {
     "data": {
      "text/plain": [
       "140640695029504"
      ]
     },
     "execution_count": 6,
     "metadata": {},
     "output_type": "execute_result"
    }
   ],
   "source": [
    "id(b)"
   ]
  },
  {
   "cell_type": "code",
   "execution_count": 7,
   "id": "obvious-cincinnati",
   "metadata": {},
   "outputs": [
    {
     "data": {
      "text/plain": [
       "True"
      ]
     },
     "execution_count": 7,
     "metadata": {},
     "output_type": "execute_result"
    }
   ],
   "source": [
    "a is b"
   ]
  },
  {
   "cell_type": "code",
   "execution_count": 8,
   "id": "amber-dining",
   "metadata": {},
   "outputs": [],
   "source": [
    "a = [1, 2, 3]\n",
    "b = a.copy()"
   ]
  },
  {
   "cell_type": "code",
   "execution_count": 9,
   "id": "voluntary-potter",
   "metadata": {},
   "outputs": [
    {
     "data": {
      "text/plain": [
       "140640694987264"
      ]
     },
     "execution_count": 9,
     "metadata": {},
     "output_type": "execute_result"
    }
   ],
   "source": [
    "id(a)"
   ]
  },
  {
   "cell_type": "code",
   "execution_count": 10,
   "id": "adjustable-collapse",
   "metadata": {},
   "outputs": [
    {
     "data": {
      "text/plain": [
       "140640694473920"
      ]
     },
     "execution_count": 10,
     "metadata": {},
     "output_type": "execute_result"
    }
   ],
   "source": [
    "id(b)"
   ]
  },
  {
   "cell_type": "code",
   "execution_count": 11,
   "id": "emerging-sullivan",
   "metadata": {},
   "outputs": [
    {
     "data": {
      "text/plain": [
       "False"
      ]
     },
     "execution_count": 11,
     "metadata": {},
     "output_type": "execute_result"
    }
   ],
   "source": [
    "a is b"
   ]
  },
  {
   "cell_type": "code",
   "execution_count": 12,
   "id": "favorite-assembly",
   "metadata": {},
   "outputs": [
    {
     "name": "stdout",
     "output_type": "stream",
     "text": [
      "c是None\n"
     ]
    }
   ],
   "source": [
    "c = None\n",
    "if c is None:\n",
    "    print(\"c是None\")"
   ]
  },
  {
   "cell_type": "code",
   "execution_count": 13,
   "id": "color-aruba",
   "metadata": {},
   "outputs": [
    {
     "data": {
      "text/plain": [
       "{}"
      ]
     },
     "execution_count": 13,
     "metadata": {},
     "output_type": "execute_result"
    }
   ],
   "source": [
    "#dictionary\n",
    "#建立空dict\n",
    "empty_dict = dict()\n",
    "empty_dict"
   ]
  },
  {
   "cell_type": "code",
   "execution_count": 14,
   "id": "prostate-survivor",
   "metadata": {},
   "outputs": [
    {
     "data": {
      "text/plain": [
       "{}"
      ]
     },
     "execution_count": 14,
     "metadata": {},
     "output_type": "execute_result"
    }
   ],
   "source": [
    "\n",
    "#建立空dict\n",
    "anotherEmptyDict = {}\n",
    "anotherEmptyDict"
   ]
  },
  {
   "cell_type": "code",
   "execution_count": 15,
   "id": "surrounded-niger",
   "metadata": {},
   "outputs": [
    {
     "data": {
      "text/plain": [
       "{'tw': 'Taiwan', 'jp': 'japan', 'hk': 'Hong Kong'}"
      ]
     },
     "execution_count": 15,
     "metadata": {},
     "output_type": "execute_result"
    }
   ],
   "source": [
    "#有值的dictionary\n",
    "\n",
    "codes = {\"tw\":\"Taiwan\",\n",
    "         \"jp\":\"japan\",\n",
    "         \"hk\": \"Hong Kong\"}\n",
    "codes"
   ]
  },
  {
   "cell_type": "code",
   "execution_count": 16,
   "id": "monetary-freeware",
   "metadata": {},
   "outputs": [
    {
     "data": {
      "text/plain": [
       "'Taiwan'"
      ]
     },
     "execution_count": 16,
     "metadata": {},
     "output_type": "execute_result"
    }
   ],
   "source": [
    "codes['tw']"
   ]
  },
  {
   "cell_type": "code",
   "execution_count": 17,
   "id": "digital-harvard",
   "metadata": {},
   "outputs": [
    {
     "data": {
      "text/plain": [
       "{'tw': 'Taiwan', 'jp': 'japan', 'hk': 'china'}"
      ]
     },
     "execution_count": 17,
     "metadata": {},
     "output_type": "execute_result"
    }
   ],
   "source": [
    "codes['hk'] = \"china\"\n",
    "codes"
   ]
  },
  {
   "cell_type": "code",
   "execution_count": 18,
   "id": "honey-grounds",
   "metadata": {},
   "outputs": [
    {
     "name": "stdout",
     "output_type": "stream",
     "text": [
      "tw\n",
      "jp\n",
      "hk\n"
     ]
    }
   ],
   "source": [
    "for item in codes:\n",
    "    print(item)"
   ]
  },
  {
   "cell_type": "code",
   "execution_count": 19,
   "id": "behavioral-acrylic",
   "metadata": {},
   "outputs": [
    {
     "name": "stdout",
     "output_type": "stream",
     "text": [
      "Taiwan\n",
      "japan\n",
      "china\n"
     ]
    }
   ],
   "source": [
    "for item in codes:\n",
    "    print(codes[item])"
   ]
  },
  {
   "cell_type": "code",
   "execution_count": null,
   "id": "absolute-september",
   "metadata": {},
   "outputs": [],
   "source": []
  },
  {
   "cell_type": "code",
   "execution_count": null,
   "id": "tribal-candy",
   "metadata": {},
   "outputs": [],
   "source": []
  },
  {
   "cell_type": "code",
   "execution_count": null,
   "id": "floating-carrier",
   "metadata": {},
   "outputs": [],
   "source": []
  },
  {
   "cell_type": "code",
   "execution_count": null,
   "id": "manufactured-highland",
   "metadata": {},
   "outputs": [],
   "source": []
  },
  {
   "cell_type": "code",
   "execution_count": null,
   "id": "broadband-doctrine",
   "metadata": {},
   "outputs": [],
   "source": []
  },
  {
   "cell_type": "code",
   "execution_count": null,
   "id": "deluxe-service",
   "metadata": {},
   "outputs": [],
   "source": []
  }
 ],
 "metadata": {
  "kernelspec": {
   "display_name": "Python 3",
   "language": "python",
   "name": "python3"
  },
  "language_info": {
   "codemirror_mode": {
    "name": "ipython",
    "version": 3
   },
   "file_extension": ".py",
   "mimetype": "text/x-python",
   "name": "python",
   "nbconvert_exporter": "python",
   "pygments_lexer": "ipython3",
   "version": "3.8.7"
  }
 },
 "nbformat": 4,
 "nbformat_minor": 5
}
