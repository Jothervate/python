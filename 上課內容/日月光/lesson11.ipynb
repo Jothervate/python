{
 "cells": [
  {
   "cell_type": "code",
   "execution_count": 3,
   "id": "mighty-culture",
   "metadata": {},
   "outputs": [
    {
     "data": {
      "text/plain": [
       "['台北', '台中', '高雄', '台南']"
      ]
     },
     "execution_count": 3,
     "metadata": {},
     "output_type": "execute_result"
    }
   ],
   "source": [
    "#remove()\n",
    "#pop()\n",
    "#del\n",
    "citys = ['台北', '台中', '高雄', '台南', '花蓮']\n",
    "del citys[-1]\n",
    "citys"
   ]
  },
  {
   "cell_type": "code",
   "execution_count": 6,
   "id": "capital-playing",
   "metadata": {},
   "outputs": [
    {
     "data": {
      "text/plain": [
       "['台北', '台中', '高雄', '台南']"
      ]
     },
     "execution_count": 6,
     "metadata": {},
     "output_type": "execute_result"
    }
   ],
   "source": [
    "citys = ['台北', '台中', '高雄', '台南', '花蓮']\n",
    "if '花蓮' in citys:\n",
    "    citys.remove('花蓮')\n",
    "citys"
   ]
  },
  {
   "cell_type": "code",
   "execution_count": 7,
   "id": "coastal-diana",
   "metadata": {},
   "outputs": [
    {
     "data": {
      "text/plain": [
       "['台北', '台中', '高雄', '台南']"
      ]
     },
     "execution_count": 7,
     "metadata": {},
     "output_type": "execute_result"
    }
   ],
   "source": [
    "citys = ['台北', '台中', '高雄', '台南', '花蓮']\n",
    "citys.pop()\n",
    "citys"
   ]
  },
  {
   "cell_type": "code",
   "execution_count": 8,
   "id": "supposed-sport",
   "metadata": {},
   "outputs": [
    {
     "data": {
      "text/plain": [
       "['Chico', 'Groucho', 'Harpo']"
      ]
     },
     "execution_count": 8,
     "metadata": {},
     "output_type": "execute_result"
    }
   ],
   "source": [
    "marxes = ['Groucho', 'Chico', 'Harpo']\n",
    "sort_marxes=sorted(marxes)\n",
    "sort_marxes"
   ]
  },
  {
   "cell_type": "code",
   "execution_count": 10,
   "id": "demographic-episode",
   "metadata": {},
   "outputs": [
    {
     "data": {
      "text/plain": [
       "['Harpo', 'Groucho', 'Chico']"
      ]
     },
     "execution_count": 10,
     "metadata": {},
     "output_type": "execute_result"
    }
   ],
   "source": [
    "marxes = ['Groucho', 'Chico', 'Harpo']\n",
    "marxes.sort(reverse=True)\n",
    "marxes"
   ]
  },
  {
   "cell_type": "code",
   "execution_count": 11,
   "id": "looking-likelihood",
   "metadata": {},
   "outputs": [
    {
     "data": {
      "text/plain": [
       "['In',\n",
       " 'Out',\n",
       " '_',\n",
       " '_10',\n",
       " '_2',\n",
       " '_3',\n",
       " '_4',\n",
       " '_6',\n",
       " '_7',\n",
       " '_8',\n",
       " '_9',\n",
       " '__',\n",
       " '___',\n",
       " '__builtin__',\n",
       " '__builtins__',\n",
       " '__doc__',\n",
       " '__loader__',\n",
       " '__name__',\n",
       " '__package__',\n",
       " '__spec__',\n",
       " '_dh',\n",
       " '_i',\n",
       " '_i1',\n",
       " '_i10',\n",
       " '_i11',\n",
       " '_i2',\n",
       " '_i3',\n",
       " '_i4',\n",
       " '_i5',\n",
       " '_i6',\n",
       " '_i7',\n",
       " '_i8',\n",
       " '_i9',\n",
       " '_ih',\n",
       " '_ii',\n",
       " '_iii',\n",
       " '_oh',\n",
       " 'citys',\n",
       " 'exit',\n",
       " 'get_ipython',\n",
       " 'marxes',\n",
       " 'quit',\n",
       " 'sort_marxes']"
      ]
     },
     "execution_count": 11,
     "metadata": {},
     "output_type": "execute_result"
    }
   ],
   "source": [
    "dir()"
   ]
  },
  {
   "cell_type": "code",
   "execution_count": null,
   "id": "heard-sunrise",
   "metadata": {},
   "outputs": [],
   "source": []
  },
  {
   "cell_type": "code",
   "execution_count": null,
   "id": "toxic-piano",
   "metadata": {},
   "outputs": [],
   "source": []
  },
  {
   "cell_type": "code",
   "execution_count": null,
   "id": "textile-evening",
   "metadata": {},
   "outputs": [],
   "source": []
  },
  {
   "cell_type": "code",
   "execution_count": null,
   "id": "level-reggae",
   "metadata": {},
   "outputs": [],
   "source": []
  }
 ],
 "metadata": {
  "kernelspec": {
   "display_name": "Python 3",
   "language": "python",
   "name": "python3"
  },
  "language_info": {
   "codemirror_mode": {
    "name": "ipython",
    "version": 3
   },
   "file_extension": ".py",
   "mimetype": "text/x-python",
   "name": "python",
   "nbconvert_exporter": "python",
   "pygments_lexer": "ipython3",
   "version": "3.8.7"
  }
 },
 "nbformat": 4,
 "nbformat_minor": 5
}
