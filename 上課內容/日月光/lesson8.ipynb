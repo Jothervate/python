{
 "cells": [
  {
   "cell_type": "code",
   "execution_count": 2,
   "id": "opponent-college",
   "metadata": {},
   "outputs": [
    {
     "data": {
      "text/plain": [
       "'abcdefghijklmnopqrstuvwxyz'"
      ]
     },
     "execution_count": 2,
     "metadata": {},
     "output_type": "execute_result"
    }
   ],
   "source": [
    "letters = 'abcdefghijklmnopqrstuvwxyz'\n",
    "letters[:]"
   ]
  },
  {
   "cell_type": "code",
   "execution_count": 3,
   "id": "imperial-hours",
   "metadata": {},
   "outputs": [
    {
     "data": {
      "text/plain": [
       "'abcdefghij'"
      ]
     },
     "execution_count": 3,
     "metadata": {},
     "output_type": "execute_result"
    }
   ],
   "source": [
    "letters[:10]"
   ]
  },
  {
   "cell_type": "code",
   "execution_count": 4,
   "id": "urban-assistant",
   "metadata": {},
   "outputs": [
    {
     "data": {
      "text/plain": [
       "'qrstuvwxyz'"
      ]
     },
     "execution_count": 4,
     "metadata": {},
     "output_type": "execute_result"
    }
   ],
   "source": [
    "letters[-10:]"
   ]
  },
  {
   "cell_type": "code",
   "execution_count": 9,
   "id": "prescription-intersection",
   "metadata": {},
   "outputs": [],
   "source": [
    "name = 'henny'\n",
    "name = name.capitalize()"
   ]
  },
  {
   "cell_type": "code",
   "execution_count": 10,
   "id": "nutritional-dependence",
   "metadata": {},
   "outputs": [
    {
     "data": {
      "text/plain": [
       "'Henny'"
      ]
     },
     "execution_count": 10,
     "metadata": {},
     "output_type": "execute_result"
    }
   ],
   "source": [
    "name"
   ]
  },
  {
   "cell_type": "code",
   "execution_count": 11,
   "id": "durable-luxury",
   "metadata": {},
   "outputs": [
    {
     "data": {
      "text/plain": [
       "'Pelly'"
      ]
     },
     "execution_count": 11,
     "metadata": {},
     "output_type": "execute_result"
    }
   ],
   "source": [
    "name = \"Helly\"\n",
    "name = name.replace('H',\"P\")\n",
    "name"
   ]
  },
  {
   "cell_type": "code",
   "execution_count": 19,
   "id": "excited-metabolism",
   "metadata": {},
   "outputs": [
    {
     "data": {
      "text/plain": [
       "5"
      ]
     },
     "execution_count": 19,
     "metadata": {},
     "output_type": "execute_result"
    }
   ],
   "source": [
    "str1 = 'this is Python Tutorial, there'\n",
    "str1.find('i', 4)"
   ]
  },
  {
   "cell_type": "code",
   "execution_count": 22,
   "id": "french-dependence",
   "metadata": {},
   "outputs": [
    {
     "data": {
      "text/plain": [
       "'a,b,c'"
      ]
     },
     "execution_count": 22,
     "metadata": {},
     "output_type": "execute_result"
    }
   ],
   "source": [
    "str1 = \",\"\n",
    "str2 = (\"a\", \"b\", \"c\")\n",
    "str1.join(str2)"
   ]
  },
  {
   "cell_type": "code",
   "execution_count": 24,
   "id": "abstract-morocco",
   "metadata": {},
   "outputs": [
    {
     "name": "stdout",
     "output_type": "stream",
     "text": [
      "python\n",
      "java\n",
      "c++\n",
      "buby\n"
     ]
    }
   ],
   "source": [
    "str3 = 'python-java-c++-buby'\n",
    "for item in str3.split(\"-\"):\n",
    "    print(item)"
   ]
  },
  {
   "cell_type": "code",
   "execution_count": 27,
   "id": "detected-study",
   "metadata": {},
   "outputs": [
    {
     "name": "stdout",
     "output_type": "stream",
     "text": [
      "有搜尋到\n"
     ]
    }
   ],
   "source": [
    "import re\n",
    "strText = \"Hello Python Programming\"\n",
    "matchObject = re.match('hellO',strText,re.I)\n",
    "if matchObject:\n",
    "    print(\"有搜尋到\")\n",
    "else:\n",
    "    print(\"沒有\")"
   ]
  },
  {
   "cell_type": "code",
   "execution_count": 42,
   "id": "tamil-lighter",
   "metadata": {},
   "outputs": [
    {
     "name": "stdout",
     "output_type": "stream",
     "text": [
      "有搜尋到\n",
      "<class 're.Match'>\n",
      "Programming\n",
      "()\n",
      "(13, 24)\n"
     ]
    }
   ],
   "source": [
    "strText = \"Hello Python Programming Hello Python Programming\"\n",
    "matchObject = re.search('programming',strText,re.I)\n",
    "if matchObject is None:\n",
    "    print(\"沒有搜尋到\")\n",
    "else:    \n",
    "    print(\"有搜尋到\")\n",
    "    print(matchObject.__class__)\n",
    "    print(matchObject.group())\n",
    "    print(matchObject.groups())\n",
    "    #print(help(matchObject))\n",
    "    print(matchObject.span())\n",
    "    start,end = matchObject.span()\n",
    "#strText[start:end] = 'developer'"
   ]
  },
  {
   "cell_type": "code",
   "execution_count": 45,
   "id": "defined-square",
   "metadata": {},
   "outputs": [
    {
     "name": "stdout",
     "output_type": "stream",
     "text": [
      "有搜尋到\n",
      "<class 're.Match'>\n",
      "Programming\n",
      "()\n",
      "(38, 49)\n"
     ]
    },
    {
     "data": {
      "text/plain": [
       "'Programming'"
      ]
     },
     "execution_count": 45,
     "metadata": {},
     "output_type": "execute_result"
    }
   ],
   "source": [
    "strText = \"Hello Python Programming Hello Python Programming\"\n",
    "matchObject = re.search('programming$',strText,re.I)\n",
    "if matchObject is None:\n",
    "    print(\"沒有搜尋到\")\n",
    "else:    \n",
    "    print(\"有搜尋到\")\n",
    "    print(matchObject.__class__)\n",
    "    print(matchObject.group())\n",
    "    print(matchObject.groups())\n",
    "    #print(help(matchObject))\n",
    "    print(matchObject.span())\n",
    "    start,end = matchObject.span()\n",
    "strText[start:end]"
   ]
  },
  {
   "cell_type": "code",
   "execution_count": 49,
   "id": "unauthorized-vertex",
   "metadata": {},
   "outputs": [
    {
     "name": "stdout",
     "output_type": "stream",
     "text": [
      "<class 're.Pattern'>\n",
      "有發現:5\n"
     ]
    }
   ],
   "source": [
    "import re\n",
    "comPat=re.compile('\\d')\n",
    "print(comPat.__class__)\n",
    "matchObject=comPat.search(\"Lalalala 535\")\n",
    "if matchObject is None:\n",
    "    print(\"沒有發現\")\n",
    "else:\n",
    "    print(f\"有發現:{matchObject.group()}\")"
   ]
  },
  {
   "cell_type": "code",
   "execution_count": 55,
   "id": "comprehensive-bicycle",
   "metadata": {},
   "outputs": [
    {
     "name": "stdout",
     "output_type": "stream",
     "text": [
      "<class 're.Pattern'>\n",
      "<class 'list'>\n",
      "5\n",
      "5\n"
     ]
    }
   ],
   "source": [
    "import re\n",
    "comPat=re.compile('[0-9]')\n",
    "print(comPat.__class__)\n",
    "listObject=comPat.findall(\"Lalalala 535\")\n",
    "if listObject is None:\n",
    "    print(\"沒有發現\")\n",
    "else:\n",
    "    print(listObject.__class__)\n",
    "    for item in listObject:\n",
    "        print(item)"
   ]
  },
  {
   "cell_type": "code",
   "execution_count": 60,
   "id": "passive-struggle",
   "metadata": {},
   "outputs": [
    {
     "data": {
      "text/plain": [
       "'Playing 4 working a day'"
      ]
     },
     "execution_count": 60,
     "metadata": {},
     "output_type": "execute_result"
    }
   ],
   "source": [
    "import re\n",
    "s = \"Playing 4 hours a day\"\n",
    "matchStr=re.sub('hours','working',s)\n",
    "matchStr"
   ]
  },
  {
   "cell_type": "code",
   "execution_count": 61,
   "id": "distinguished-funeral",
   "metadata": {},
   "outputs": [
    {
     "data": {
      "text/plain": [
       "' Working   five   hours   a  day'"
      ]
     },
     "execution_count": 61,
     "metadata": {},
     "output_type": "execute_result"
    }
   ],
   "source": [
    "import re\n",
    "s = \"768 Working 2343 789 five 234 656 hours 324 4646 a 345 day\"\n",
    "matchStr=re.sub('\\d','',s)\n",
    "matchStr"
   ]
  },
  {
   "cell_type": "code",
   "execution_count": 62,
   "id": "lovely-horizon",
   "metadata": {},
   "outputs": [
    {
     "data": {
      "text/plain": [
       "'76823437892346563244646345'"
      ]
     },
     "execution_count": 62,
     "metadata": {},
     "output_type": "execute_result"
    }
   ],
   "source": [
    "import re\n",
    "s = \"768 Working 2343 789 five 234 656 hours 324 4646 a 345 day\"\n",
    "matchStr=re.sub('\\D','',s)\n",
    "matchStr"
   ]
  },
  {
   "cell_type": "code",
   "execution_count": 63,
   "id": "compact-maximum",
   "metadata": {},
   "outputs": [
    {
     "name": "stdout",
     "output_type": "stream",
     "text": [
      "Birds\n",
      "fly\n",
      "high\n",
      "in\n",
      "the\n",
      "sky\n",
      "for\n",
      "ever\n"
     ]
    }
   ],
   "source": [
    "import re \n",
    "str1 = \"Birds   fly  high in    the   sky for ever\"\n",
    "splitList=re.split('\\s+',str1)\n",
    "for item in splitList:\n",
    "    print(item)"
   ]
  },
  {
   "cell_type": "code",
   "execution_count": 66,
   "id": "functional-object",
   "metadata": {},
   "outputs": [
    {
     "name": "stdout",
     "output_type": "stream",
     "text": [
      "請輸入身份證字號:A123456789\n",
      "A123456789是正確的格式\n"
     ]
    }
   ],
   "source": [
    "import re\n",
    "taiwanId = input('請輸入身份證字號:')\n",
    "matchObject = re.match('^[A-Z]\\d{9}$',taiwanId,re.I)\n",
    "if matchObject:\n",
    "    print(f\"{matchObject.group()}是正確的格式\")\n",
    "else:\n",
    "    print(f\"{taiwanId}不是正確的格式\")"
   ]
  },
  {
   "cell_type": "code",
   "execution_count": null,
   "id": "successful-color",
   "metadata": {},
   "outputs": [],
   "source": []
  },
  {
   "cell_type": "code",
   "execution_count": null,
   "id": "banned-scottish",
   "metadata": {},
   "outputs": [],
   "source": []
  },
  {
   "cell_type": "code",
   "execution_count": null,
   "id": "apparent-numbers",
   "metadata": {},
   "outputs": [],
   "source": []
  }
 ],
 "metadata": {
  "kernelspec": {
   "display_name": "Python 3",
   "language": "python",
   "name": "python3"
  },
  "language_info": {
   "codemirror_mode": {
    "name": "ipython",
    "version": 3
   },
   "file_extension": ".py",
   "mimetype": "text/x-python",
   "name": "python",
   "nbconvert_exporter": "python",
   "pygments_lexer": "ipython3",
   "version": "3.8.7"
  }
 },
 "nbformat": 4,
 "nbformat_minor": 5
}
