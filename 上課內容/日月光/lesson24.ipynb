{
 "cells": [
  {
   "cell_type": "code",
   "execution_count": 6,
   "id": "bright-boutique",
   "metadata": {},
   "outputs": [
    {
     "name": "stdout",
     "output_type": "stream",
     "text": [
      "<class 'str'>\n",
      "b'{\"python\": \"good\", \"gjun\": 100, \"python-class\": true, \"ICQ\": null}'\n"
     ]
    }
   ],
   "source": [
    "import json\n",
    "pyDic = {'python':'good',\n",
    "         'gjun':100,\n",
    "         'python-class':True,\n",
    "         'ICQ':None}\n",
    "\n",
    "#json.dumps(),python資料結構轉成json字串格式\n",
    "jsonStr = json.dumps(pyDic, ensure_ascii=False)\n",
    "print(jsonStr.__class__)\n",
    "jsonByte = jsonStr.encode('utf8')\n",
    "print(jsonByte)\n",
    "\n",
    "#json.dump(),python資料結構轉成json字串格式的文件\n",
    "with open('codes1.json','w',encoding='utf8') as file:\n",
    "    json.dump(pyDic,file,ensure_ascii=False)\n",
    "print('json檔案存檔完成')"
   ]
  },
  {
   "cell_type": "code",
   "execution_count": null,
   "id": "pediatric-crawford",
   "metadata": {},
   "outputs": [],
   "source": []
  },
  {
   "cell_type": "code",
   "execution_count": null,
   "id": "official-database",
   "metadata": {},
   "outputs": [],
   "source": []
  },
  {
   "cell_type": "code",
   "execution_count": null,
   "id": "floral-cleveland",
   "metadata": {},
   "outputs": [],
   "source": []
  },
  {
   "cell_type": "code",
   "execution_count": null,
   "id": "facial-response",
   "metadata": {},
   "outputs": [],
   "source": []
  },
  {
   "cell_type": "code",
   "execution_count": null,
   "id": "cutting-friendship",
   "metadata": {},
   "outputs": [],
   "source": []
  },
  {
   "cell_type": "code",
   "execution_count": null,
   "id": "excellent-installation",
   "metadata": {},
   "outputs": [],
   "source": []
  },
  {
   "cell_type": "code",
   "execution_count": null,
   "id": "banner-verse",
   "metadata": {},
   "outputs": [],
   "source": []
  },
  {
   "cell_type": "code",
   "execution_count": null,
   "id": "rural-adolescent",
   "metadata": {},
   "outputs": [],
   "source": []
  },
  {
   "cell_type": "code",
   "execution_count": null,
   "id": "modern-processing",
   "metadata": {},
   "outputs": [],
   "source": []
  }
 ],
 "metadata": {
  "kernelspec": {
   "display_name": "Python 3",
   "language": "python",
   "name": "python3"
  },
  "language_info": {
   "codemirror_mode": {
    "name": "ipython",
    "version": 3
   },
   "file_extension": ".py",
   "mimetype": "text/x-python",
   "name": "python",
   "nbconvert_exporter": "python",
   "pygments_lexer": "ipython3",
   "version": "3.8.7"
  }
 },
 "nbformat": 4,
 "nbformat_minor": 5
}
