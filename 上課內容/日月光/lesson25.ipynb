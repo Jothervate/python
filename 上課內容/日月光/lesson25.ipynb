{
 "cells": [
  {
   "cell_type": "code",
   "execution_count": 2,
   "id": "comprehensive-stewart",
   "metadata": {},
   "outputs": [
    {
     "data": {
      "text/plain": [
       "True"
      ]
     },
     "execution_count": 2,
     "metadata": {},
     "output_type": "execute_result"
    }
   ],
   "source": [
    "import os\n",
    "os.path.exists('codes1.json')"
   ]
  },
  {
   "cell_type": "code",
   "execution_count": 3,
   "id": "bright-constitution",
   "metadata": {},
   "outputs": [
    {
     "data": {
      "text/plain": [
       "True"
      ]
     },
     "execution_count": 3,
     "metadata": {},
     "output_type": "execute_result"
    }
   ],
   "source": [
    "os.path.exists('./codes1.json')"
   ]
  },
  {
   "cell_type": "code",
   "execution_count": 4,
   "id": "laughing-safety",
   "metadata": {},
   "outputs": [
    {
     "data": {
      "text/plain": [
       "True"
      ]
     },
     "execution_count": 4,
     "metadata": {},
     "output_type": "execute_result"
    }
   ],
   "source": [
    "os.path.exists('.')"
   ]
  },
  {
   "cell_type": "code",
   "execution_count": 7,
   "id": "nervous-garden",
   "metadata": {},
   "outputs": [
    {
     "data": {
      "text/plain": [
       "True"
      ]
     },
     "execution_count": 7,
     "metadata": {},
     "output_type": "execute_result"
    }
   ],
   "source": [
    "os.path.exists('..')"
   ]
  },
  {
   "cell_type": "code",
   "execution_count": 8,
   "id": "wrong-hours",
   "metadata": {},
   "outputs": [
    {
     "data": {
      "text/plain": [
       "True"
      ]
     },
     "execution_count": 8,
     "metadata": {},
     "output_type": "execute_result"
    }
   ],
   "source": [
    "os.path.isfile('codes1.json')"
   ]
  },
  {
   "cell_type": "code",
   "execution_count": 9,
   "id": "previous-relationship",
   "metadata": {},
   "outputs": [
    {
     "data": {
      "text/plain": [
       "True"
      ]
     },
     "execution_count": 9,
     "metadata": {},
     "output_type": "execute_result"
    }
   ],
   "source": [
    "os.path.isdir('project1')"
   ]
  },
  {
   "cell_type": "code",
   "execution_count": 10,
   "id": "minor-sydney",
   "metadata": {},
   "outputs": [
    {
     "data": {
      "text/plain": [
       "'codes2.json'"
      ]
     },
     "execution_count": 10,
     "metadata": {},
     "output_type": "execute_result"
    }
   ],
   "source": [
    "import shutil\n",
    "shutil.copy('codes1.json','codes2.json')"
   ]
  },
  {
   "cell_type": "code",
   "execution_count": 11,
   "id": "preceding-density",
   "metadata": {},
   "outputs": [],
   "source": [
    "#變更檔案名稱\n",
    "import os\n",
    "os.rename('codes2.json', 'codes3.json')"
   ]
  },
  {
   "cell_type": "code",
   "execution_count": 15,
   "id": "narrow-diving",
   "metadata": {},
   "outputs": [],
   "source": [
    "os.remove('happyGirs.jpg')"
   ]
  },
  {
   "cell_type": "code",
   "execution_count": 16,
   "id": "actual-summary",
   "metadata": {},
   "outputs": [
    {
     "data": {
      "text/plain": [
       "'/Users/roberthsu2003/Documents/GitHub/python/上課內容/日月光/codes1.json'"
      ]
     },
     "execution_count": 16,
     "metadata": {},
     "output_type": "execute_result"
    }
   ],
   "source": [
    "os.path.abspath('codes1.json')"
   ]
  },
  {
   "cell_type": "code",
   "execution_count": 29,
   "id": "leading-inspector",
   "metadata": {},
   "outputs": [
    {
     "data": {
      "text/plain": [
       "'/Users/roberthsu2003/Documents/GitHub/python/上課內容/日月光/abc.text'"
      ]
     },
     "execution_count": 29,
     "metadata": {},
     "output_type": "execute_result"
    }
   ],
   "source": [
    "os.path.realpath('abc.text')"
   ]
  },
  {
   "cell_type": "code",
   "execution_count": 27,
   "id": "julian-moisture",
   "metadata": {},
   "outputs": [],
   "source": [
    "currentDir=os.path.abspath('')"
   ]
  },
  {
   "cell_type": "code",
   "execution_count": 28,
   "id": "corporate-saudi",
   "metadata": {},
   "outputs": [
    {
     "data": {
      "text/plain": [
       "'/Users/roberthsu2003/Documents/GitHub/python/上課內容/日月光/abc.text'"
      ]
     },
     "execution_count": 28,
     "metadata": {},
     "output_type": "execute_result"
    }
   ],
   "source": [
    "os.path.join(currentDir,'abc.text')"
   ]
  },
  {
   "cell_type": "code",
   "execution_count": null,
   "id": "dated-black",
   "metadata": {},
   "outputs": [],
   "source": []
  }
 ],
 "metadata": {
  "kernelspec": {
   "display_name": "Python 3",
   "language": "python",
   "name": "python3"
  },
  "language_info": {
   "codemirror_mode": {
    "name": "ipython",
    "version": 3
   },
   "file_extension": ".py",
   "mimetype": "text/x-python",
   "name": "python",
   "nbconvert_exporter": "python",
   "pygments_lexer": "ipython3",
   "version": "3.8.7"
  }
 },
 "nbformat": 4,
 "nbformat_minor": 5
}
