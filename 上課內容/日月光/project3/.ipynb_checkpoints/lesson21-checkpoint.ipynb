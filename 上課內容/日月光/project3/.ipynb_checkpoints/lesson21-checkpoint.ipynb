{
 "cells": [
  {
   "cell_type": "code",
   "execution_count": 1,
   "id": "surprising-india",
   "metadata": {},
   "outputs": [
    {
     "name": "stdout",
     "output_type": "stream",
     "text": [
      "78\n",
      "67\n",
      "87\n",
      "總分 232\n",
      "平均 77.33333333333333\n"
     ]
    }
   ],
   "source": [
    "from tools import Student\n",
    "\n",
    "stu1 = Student(\"robert\")\n",
    "stu1.chinese = 78\n",
    "stu1.english = 67\n",
    "stu1.math = 87\n",
    "print(stu1.chinese)\n",
    "print(stu1.english)\n",
    "print(stu1.math)\n",
    "print(\"總分\",stu1.sum)\n",
    "print(\"平均\",stu1.average)"
   ]
  },
  {
   "cell_type": "code",
   "execution_count": null,
   "id": "coral-hearts",
   "metadata": {},
   "outputs": [],
   "source": []
  }
 ],
 "metadata": {
  "kernelspec": {
   "display_name": "Python 3",
   "language": "python",
   "name": "python3"
  },
  "language_info": {
   "codemirror_mode": {
    "name": "ipython",
    "version": 3
   },
   "file_extension": ".py",
   "mimetype": "text/x-python",
   "name": "python",
   "nbconvert_exporter": "python",
   "pygments_lexer": "ipython3",
   "version": "3.8.7"
  }
 },
 "nbformat": 4,
 "nbformat_minor": 5
}
