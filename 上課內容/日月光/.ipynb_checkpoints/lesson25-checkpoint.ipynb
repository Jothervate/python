{
 "cells": [
  {
   "cell_type": "code",
   "execution_count": 2,
   "id": "joint-christianity",
   "metadata": {},
   "outputs": [
    {
     "data": {
      "text/plain": [
       "True"
      ]
     },
     "execution_count": 2,
     "metadata": {},
     "output_type": "execute_result"
    }
   ],
   "source": [
    "import os\n",
    "os.path.exists('codes1.json')"
   ]
  },
  {
   "cell_type": "code",
   "execution_count": 3,
   "id": "organizational-syracuse",
   "metadata": {},
   "outputs": [
    {
     "data": {
      "text/plain": [
       "True"
      ]
     },
     "execution_count": 3,
     "metadata": {},
     "output_type": "execute_result"
    }
   ],
   "source": [
    "os.path.exists('./codes1.json')"
   ]
  },
  {
   "cell_type": "code",
   "execution_count": 4,
   "id": "eleven-grove",
   "metadata": {},
   "outputs": [
    {
     "data": {
      "text/plain": [
       "True"
      ]
     },
     "execution_count": 4,
     "metadata": {},
     "output_type": "execute_result"
    }
   ],
   "source": [
    "os.path.exists('.')"
   ]
  },
  {
   "cell_type": "code",
   "execution_count": 7,
   "id": "operating-conjunction",
   "metadata": {},
   "outputs": [
    {
     "data": {
      "text/plain": [
       "True"
      ]
     },
     "execution_count": 7,
     "metadata": {},
     "output_type": "execute_result"
    }
   ],
   "source": [
    "os.path.exists('..')"
   ]
  },
  {
   "cell_type": "code",
   "execution_count": 8,
   "id": "short-texas",
   "metadata": {},
   "outputs": [
    {
     "data": {
      "text/plain": [
       "True"
      ]
     },
     "execution_count": 8,
     "metadata": {},
     "output_type": "execute_result"
    }
   ],
   "source": [
    "os.path.isfile('codes1.json')"
   ]
  },
  {
   "cell_type": "code",
   "execution_count": 9,
   "id": "relative-equilibrium",
   "metadata": {},
   "outputs": [
    {
     "data": {
      "text/plain": [
       "True"
      ]
     },
     "execution_count": 9,
     "metadata": {},
     "output_type": "execute_result"
    }
   ],
   "source": [
    "os.path.isdir('project1')"
   ]
  },
  {
   "cell_type": "code",
   "execution_count": 10,
   "id": "mental-success",
   "metadata": {},
   "outputs": [
    {
     "data": {
      "text/plain": [
       "'codes2.json'"
      ]
     },
     "execution_count": 10,
     "metadata": {},
     "output_type": "execute_result"
    }
   ],
   "source": [
    "import shutil\n",
    "shutil.copy('codes1.json','codes2.json')"
   ]
  },
  {
   "cell_type": "code",
   "execution_count": 11,
   "id": "strange-biology",
   "metadata": {},
   "outputs": [],
   "source": [
    "#變更檔案名稱\n",
    "import os\n",
    "os.rename('codes2.json', 'codes3.json')"
   ]
  },
  {
   "cell_type": "code",
   "execution_count": 15,
   "id": "sharing-session",
   "metadata": {},
   "outputs": [],
   "source": [
    "os.remove('happyGirs.jpg')"
   ]
  },
  {
   "cell_type": "code",
   "execution_count": 16,
   "id": "formal-tours",
   "metadata": {},
   "outputs": [
    {
     "data": {
      "text/plain": [
       "'/Users/roberthsu2003/Documents/GitHub/python/上課內容/日月光/codes1.json'"
      ]
     },
     "execution_count": 16,
     "metadata": {},
     "output_type": "execute_result"
    }
   ],
   "source": [
    "os.path.abspath('codes1.json')"
   ]
  },
  {
   "cell_type": "code",
   "execution_count": 29,
   "id": "atomic-corps",
   "metadata": {},
   "outputs": [
    {
     "data": {
      "text/plain": [
       "'/Users/roberthsu2003/Documents/GitHub/python/上課內容/日月光/abc.text'"
      ]
     },
     "execution_count": 29,
     "metadata": {},
     "output_type": "execute_result"
    }
   ],
   "source": [
    "os.path.realpath('abc.text')"
   ]
  },
  {
   "cell_type": "code",
   "execution_count": 27,
   "id": "little-veteran",
   "metadata": {},
   "outputs": [],
   "source": [
    "currentDir=os.path.abspath('')"
   ]
  },
  {
   "cell_type": "code",
   "execution_count": 28,
   "id": "facial-essex",
   "metadata": {},
   "outputs": [
    {
     "data": {
      "text/plain": [
       "'/Users/roberthsu2003/Documents/GitHub/python/上課內容/日月光/abc.text'"
      ]
     },
     "execution_count": 28,
     "metadata": {},
     "output_type": "execute_result"
    }
   ],
   "source": [
    "os.path.join(currentDir,'abc.text')"
   ]
  },
  {
   "cell_type": "code",
   "execution_count": 31,
   "id": "hindu-examination",
   "metadata": {},
   "outputs": [],
   "source": [
    "#建立目錄\n",
    "os.mkdir('poems1')"
   ]
  },
  {
   "cell_type": "code",
   "execution_count": 32,
   "id": "animated-mobility",
   "metadata": {},
   "outputs": [
    {
     "data": {
      "text/plain": [
       "True"
      ]
     },
     "execution_count": 32,
     "metadata": {},
     "output_type": "execute_result"
    }
   ],
   "source": [
    "os.path.exists('poems1')"
   ]
  },
  {
   "cell_type": "code",
   "execution_count": 33,
   "id": "acceptable-breast",
   "metadata": {},
   "outputs": [
    {
     "data": {
      "text/plain": [
       "False"
      ]
     },
     "execution_count": 33,
     "metadata": {},
     "output_type": "execute_result"
    }
   ],
   "source": [
    "os.rmdir('poems1')\n",
    "os.path.exists('poems1')"
   ]
  },
  {
   "cell_type": "code",
   "execution_count": 35,
   "id": "protected-tract",
   "metadata": {},
   "outputs": [
    {
     "name": "stdout",
     "output_type": "stream",
     "text": [
      "tools\n",
      ".DS_Store\n",
      "__pycache__\n",
      "weatherman.py\n"
     ]
    }
   ],
   "source": [
    "for name in os.listdir('project1'):\n",
    "    print(name)\n"
   ]
  },
  {
   "cell_type": "code",
   "execution_count": null,
   "id": "marked-demand",
   "metadata": {},
   "outputs": [],
   "source": []
  },
  {
   "cell_type": "code",
   "execution_count": null,
   "id": "fifth-maria",
   "metadata": {},
   "outputs": [],
   "source": []
  },
  {
   "cell_type": "code",
   "execution_count": null,
   "id": "royal-therapist",
   "metadata": {},
   "outputs": [],
   "source": []
  },
  {
   "cell_type": "code",
   "execution_count": null,
   "id": "driving-canon",
   "metadata": {},
   "outputs": [],
   "source": []
  }
 ],
 "metadata": {
  "kernelspec": {
   "display_name": "Python 3",
   "language": "python",
   "name": "python3"
  },
  "language_info": {
   "codemirror_mode": {
    "name": "ipython",
    "version": 3
   },
   "file_extension": ".py",
   "mimetype": "text/x-python",
   "name": "python",
   "nbconvert_exporter": "python",
   "pygments_lexer": "ipython3",
   "version": "3.8.7"
  }
 },
 "nbformat": 4,
 "nbformat_minor": 5
}
