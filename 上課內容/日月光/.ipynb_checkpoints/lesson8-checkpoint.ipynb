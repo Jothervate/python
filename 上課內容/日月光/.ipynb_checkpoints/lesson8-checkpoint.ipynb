{
 "cells": [
  {
   "cell_type": "code",
   "execution_count": 2,
   "id": "operational-ground",
   "metadata": {},
   "outputs": [
    {
     "data": {
      "text/plain": [
       "'abcdefghijklmnopqrstuvwxyz'"
      ]
     },
     "execution_count": 2,
     "metadata": {},
     "output_type": "execute_result"
    }
   ],
   "source": [
    "letters = 'abcdefghijklmnopqrstuvwxyz'\n",
    "letters[:]"
   ]
  },
  {
   "cell_type": "code",
   "execution_count": 3,
   "id": "academic-cocktail",
   "metadata": {},
   "outputs": [
    {
     "data": {
      "text/plain": [
       "'abcdefghij'"
      ]
     },
     "execution_count": 3,
     "metadata": {},
     "output_type": "execute_result"
    }
   ],
   "source": [
    "letters[:10]"
   ]
  },
  {
   "cell_type": "code",
   "execution_count": 4,
   "id": "together-water",
   "metadata": {},
   "outputs": [
    {
     "data": {
      "text/plain": [
       "'qrstuvwxyz'"
      ]
     },
     "execution_count": 4,
     "metadata": {},
     "output_type": "execute_result"
    }
   ],
   "source": [
    "letters[-10:]"
   ]
  },
  {
   "cell_type": "code",
   "execution_count": 9,
   "id": "consolidated-theta",
   "metadata": {},
   "outputs": [],
   "source": [
    "name = 'henny'\n",
    "name = name.capitalize()"
   ]
  },
  {
   "cell_type": "code",
   "execution_count": 10,
   "id": "supposed-respect",
   "metadata": {},
   "outputs": [
    {
     "data": {
      "text/plain": [
       "'Henny'"
      ]
     },
     "execution_count": 10,
     "metadata": {},
     "output_type": "execute_result"
    }
   ],
   "source": [
    "name"
   ]
  },
  {
   "cell_type": "code",
   "execution_count": 11,
   "id": "interested-camcorder",
   "metadata": {},
   "outputs": [
    {
     "data": {
      "text/plain": [
       "'Pelly'"
      ]
     },
     "execution_count": 11,
     "metadata": {},
     "output_type": "execute_result"
    }
   ],
   "source": [
    "name = \"Helly\"\n",
    "name = name.replace('H',\"P\")\n",
    "name"
   ]
  },
  {
   "cell_type": "code",
   "execution_count": 19,
   "id": "honest-radius",
   "metadata": {},
   "outputs": [
    {
     "data": {
      "text/plain": [
       "5"
      ]
     },
     "execution_count": 19,
     "metadata": {},
     "output_type": "execute_result"
    }
   ],
   "source": [
    "str1 = 'this is Python Tutorial, there'\n",
    "str1.find('i', 4)"
   ]
  },
  {
   "cell_type": "code",
   "execution_count": 22,
   "id": "flying-effort",
   "metadata": {},
   "outputs": [
    {
     "data": {
      "text/plain": [
       "'a,b,c'"
      ]
     },
     "execution_count": 22,
     "metadata": {},
     "output_type": "execute_result"
    }
   ],
   "source": [
    "str1 = \",\"\n",
    "str2 = (\"a\", \"b\", \"c\")\n",
    "str1.join(str2)"
   ]
  },
  {
   "cell_type": "code",
   "execution_count": 24,
   "id": "absolute-cause",
   "metadata": {},
   "outputs": [
    {
     "name": "stdout",
     "output_type": "stream",
     "text": [
      "python\n",
      "java\n",
      "c++\n",
      "buby\n"
     ]
    }
   ],
   "source": [
    "str3 = 'python-java-c++-buby'\n",
    "for item in str3.split(\"-\"):\n",
    "    print(item)"
   ]
  },
  {
   "cell_type": "code",
   "execution_count": 27,
   "id": "hollywood-bankruptcy",
   "metadata": {},
   "outputs": [
    {
     "name": "stdout",
     "output_type": "stream",
     "text": [
      "有搜尋到\n"
     ]
    }
   ],
   "source": [
    "import re\n",
    "strText = \"Hello Python Programming\"\n",
    "matchObject = re.match('hellO',strText,re.I)\n",
    "if matchObject:\n",
    "    print(\"有搜尋到\")\n",
    "else:\n",
    "    print(\"沒有\")"
   ]
  },
  {
   "cell_type": "code",
   "execution_count": 42,
   "id": "expected-louisiana",
   "metadata": {},
   "outputs": [
    {
     "name": "stdout",
     "output_type": "stream",
     "text": [
      "有搜尋到\n",
      "<class 're.Match'>\n",
      "Programming\n",
      "()\n",
      "(13, 24)\n"
     ]
    }
   ],
   "source": [
    "strText = \"Hello Python Programming Hello Python Programming\"\n",
    "matchObject = re.search('programming',strText,re.I)\n",
    "if matchObject is None:\n",
    "    print(\"沒有搜尋到\")\n",
    "else:    \n",
    "    print(\"有搜尋到\")\n",
    "    print(matchObject.__class__)\n",
    "    print(matchObject.group())\n",
    "    print(matchObject.groups())\n",
    "    #print(help(matchObject))\n",
    "    print(matchObject.span())\n",
    "    start,end = matchObject.span()\n",
    "#strText[start:end] = 'developer'"
   ]
  },
  {
   "cell_type": "code",
   "execution_count": null,
   "id": "recognized-excerpt",
   "metadata": {},
   "outputs": [],
   "source": []
  },
  {
   "cell_type": "code",
   "execution_count": null,
   "id": "greek-festival",
   "metadata": {},
   "outputs": [],
   "source": []
  }
 ],
 "metadata": {
  "kernelspec": {
   "display_name": "Python 3",
   "language": "python",
   "name": "python3"
  },
  "language_info": {
   "codemirror_mode": {
    "name": "ipython",
    "version": 3
   },
   "file_extension": ".py",
   "mimetype": "text/x-python",
   "name": "python",
   "nbconvert_exporter": "python",
   "pygments_lexer": "ipython3",
   "version": "3.8.7"
  }
 },
 "nbformat": 4,
 "nbformat_minor": 5
}
