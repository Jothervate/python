{
 "cells": [
  {
   "cell_type": "code",
   "execution_count": 10,
   "id": "permanent-shadow",
   "metadata": {},
   "outputs": [],
   "source": [
    "class Person(object):\n",
    "    def __init__(self,n):\n",
    "        self.name = n # attribute\n",
    "        age = 20 #區域變數"
   ]
  },
  {
   "cell_type": "code",
   "execution_count": 11,
   "id": "accepting-inventory",
   "metadata": {},
   "outputs": [
    {
     "name": "stdout",
     "output_type": "stream",
     "text": [
      "susan\n",
      "robert\n"
     ]
    },
    {
     "ename": "AttributeError",
     "evalue": "'Person' object has no attribute 'age'",
     "output_type": "error",
     "traceback": [
      "\u001b[0;31m---------------------------------------------------------------------------\u001b[0m",
      "\u001b[0;31mAttributeError\u001b[0m                            Traceback (most recent call last)",
      "\u001b[0;32m<ipython-input-11-fa15267ee612>\u001b[0m in \u001b[0;36m<module>\u001b[0;34m\u001b[0m\n\u001b[1;32m      3\u001b[0m \u001b[0mhunter\u001b[0m\u001b[0;34m.\u001b[0m\u001b[0mname\u001b[0m \u001b[0;34m=\u001b[0m \u001b[0;34m\"robert\"\u001b[0m\u001b[0;34m\u001b[0m\u001b[0;34m\u001b[0m\u001b[0m\n\u001b[1;32m      4\u001b[0m \u001b[0mprint\u001b[0m\u001b[0;34m(\u001b[0m\u001b[0mhunter\u001b[0m\u001b[0;34m.\u001b[0m\u001b[0mname\u001b[0m\u001b[0;34m)\u001b[0m\u001b[0;34m\u001b[0m\u001b[0;34m\u001b[0m\u001b[0m\n\u001b[0;32m----> 5\u001b[0;31m \u001b[0mhunter\u001b[0m\u001b[0;34m.\u001b[0m\u001b[0mage\u001b[0m\u001b[0;34m\u001b[0m\u001b[0;34m\u001b[0m\u001b[0m\n\u001b[0m",
      "\u001b[0;31mAttributeError\u001b[0m: 'Person' object has no attribute 'age'"
     ]
    }
   ],
   "source": [
    "hunter = Person(\"susan\")\n",
    "print(hunter.name)\n",
    "hunter.name = \"robert\"\n",
    "print(hunter.name)\n",
    "hunter.age #age是區域變數，無法使用實體的參考取出值"
   ]
  },
  {
   "cell_type": "code",
   "execution_count": 16,
   "id": "funky-superior",
   "metadata": {},
   "outputs": [],
   "source": [
    "class Car():\n",
    "    def exclaim(self):\n",
    "        print(\"I'm a Car!\")\n",
    "\n",
    "class Yugo(Car):\n",
    "    def exclaim(self): #覆寫父類別的方法\n",
    "        print(\"I'm a Yugo!\")"
   ]
  },
  {
   "cell_type": "code",
   "execution_count": 17,
   "id": "loaded-invitation",
   "metadata": {},
   "outputs": [
    {
     "name": "stdout",
     "output_type": "stream",
     "text": [
      "I'm a Car!\n"
     ]
    }
   ],
   "source": [
    "aCar = Car()\n",
    "aCar.exclaim()"
   ]
  },
  {
   "cell_type": "code",
   "execution_count": 18,
   "id": "scheduled-chase",
   "metadata": {},
   "outputs": [
    {
     "name": "stdout",
     "output_type": "stream",
     "text": [
      "I'm a Yugo!\n"
     ]
    }
   ],
   "source": [
    "aYugo = Yugo()\n",
    "aYugo.exclaim()"
   ]
  },
  {
   "cell_type": "code",
   "execution_count": 19,
   "id": "genetic-entrepreneur",
   "metadata": {},
   "outputs": [
    {
     "name": "stdout",
     "output_type": "stream",
     "text": [
      "robert\n",
      "Doctor robert\n",
      "Teacher robert\n"
     ]
    }
   ],
   "source": [
    "#__init()__也可以覆寫\n",
    "class Person():\n",
    "    def __init__(self,n):\n",
    "        self.name = n\n",
    "\n",
    "class MDPerson(Person):\n",
    "    def __init__(self,n):\n",
    "        self.name = \"Doctor \" + n\n",
    "        \n",
    "class JDPerson(Person):\n",
    "    def __init__(self,n):\n",
    "        self.name = \"Teacher \" + n\n",
    "        \n",
    "aPerson = Person(\"robert\")\n",
    "print(aPerson.name)\n",
    "\n",
    "aMDPerson = MDPerson(\"robert\")\n",
    "print(aMDPerson.name)\n",
    "\n",
    "aJDPerson = JDPerson(\"robert\")\n",
    "print(aJDPerson.name)"
   ]
  },
  {
   "cell_type": "code",
   "execution_count": 25,
   "id": "logical-package",
   "metadata": {},
   "outputs": [],
   "source": [
    "#super()呼叫父類別\n",
    "class Person():\n",
    "    def __init__(self,name):\n",
    "        self.name = name\n",
    "        \n",
    "class EmailPerson(Person):\n",
    "    #當建立自訂的__init__,就不會繼承父類別__init__\n",
    "    def __init__(self, name, email):\n",
    "        super().__init__(name)\n",
    "        self.email = email"
   ]
  },
  {
   "cell_type": "code",
   "execution_count": 28,
   "id": "afraid-beads",
   "metadata": {},
   "outputs": [
    {
     "name": "stdout",
     "output_type": "stream",
     "text": [
      "robert\n",
      "robert@gmail.com\n"
     ]
    }
   ],
   "source": [
    "aEmailPerson = EmailPerson(\"robert\",\"robert@gmail.com\")\n",
    "print(aEmailPerson.name)\n",
    "print(aEmailPerson.email)"
   ]
  },
  {
   "cell_type": "code",
   "execution_count": 35,
   "id": "geographic-aside",
   "metadata": {},
   "outputs": [
    {
     "name": "stdout",
     "output_type": "stream",
     "text": [
      "執行age getter\n",
      "25\n",
      "執行age的setter\n",
      "執行age getter\n",
      "45\n"
     ]
    }
   ],
   "source": [
    "#實現getter 和 setter\n",
    "class Person():\n",
    "    def __init__(self,name,age):\n",
    "        self.name = name\n",
    "        self.__age = age\n",
    "    \n",
    "    @property\n",
    "    def age(self):\n",
    "        print('執行age getter')\n",
    "        return self.__age\n",
    "    \n",
    "    @age.setter\n",
    "    def age(self, input_value):\n",
    "        print('執行age的setter')\n",
    "        if input_value >= 45:\n",
    "            self.__age = 45\n",
    "        else:\n",
    "            self.__age = input_value\n",
    "\n",
    "aPerson = Person(\"robert\", 25)\n",
    "print(aPerson.age)\n",
    "aPerson.age = 500\n",
    "print(aPerson.age)"
   ]
  },
  {
   "cell_type": "code",
   "execution_count": 37,
   "id": "ecological-newark",
   "metadata": {},
   "outputs": [
    {
     "name": "stdout",
     "output_type": "stream",
     "text": [
      "執行age getter\n",
      "34\n"
     ]
    },
    {
     "ename": "AttributeError",
     "evalue": "can't set attribute",
     "output_type": "error",
     "traceback": [
      "\u001b[0;31m---------------------------------------------------------------------------\u001b[0m",
      "\u001b[0;31mAttributeError\u001b[0m                            Traceback (most recent call last)",
      "\u001b[0;32m<ipython-input-37-44613abdcdbe>\u001b[0m in \u001b[0;36m<module>\u001b[0;34m\u001b[0m\n\u001b[1;32m     13\u001b[0m \u001b[0mprint\u001b[0m\u001b[0;34m(\u001b[0m\u001b[0maPerson\u001b[0m\u001b[0;34m.\u001b[0m\u001b[0mage\u001b[0m\u001b[0;34m)\u001b[0m\u001b[0;34m\u001b[0m\u001b[0;34m\u001b[0m\u001b[0m\n\u001b[1;32m     14\u001b[0m \u001b[0;34m\u001b[0m\u001b[0m\n\u001b[0;32m---> 15\u001b[0;31m \u001b[0maPerson\u001b[0m\u001b[0;34m.\u001b[0m\u001b[0mage\u001b[0m \u001b[0;34m=\u001b[0m \u001b[0;36m80\u001b[0m\u001b[0;34m\u001b[0m\u001b[0;34m\u001b[0m\u001b[0m\n\u001b[0m",
      "\u001b[0;31mAttributeError\u001b[0m: can't set attribute"
     ]
    }
   ],
   "source": [
    "#只有getter\n",
    "class Person():\n",
    "    def __init__(self,name,age):\n",
    "        self.name = name\n",
    "        self.__age = age\n",
    "    \n",
    "    @property\n",
    "    def age(self):\n",
    "        print('執行age getter')\n",
    "        return self.__age\n",
    "    \n",
    "\n",
    "aPerson = Person(\"susan\", 34)\n",
    "print(aPerson.age)\n",
    "\n",
    "aPerson.age = 80"
   ]
  },
  {
   "cell_type": "code",
   "execution_count": null,
   "id": "personal-chick",
   "metadata": {},
   "outputs": [],
   "source": []
  },
  {
   "cell_type": "code",
   "execution_count": null,
   "id": "color-cigarette",
   "metadata": {},
   "outputs": [],
   "source": []
  },
  {
   "cell_type": "code",
   "execution_count": null,
   "id": "italian-delay",
   "metadata": {},
   "outputs": [],
   "source": []
  }
 ],
 "metadata": {
  "kernelspec": {
   "display_name": "Python 3",
   "language": "python",
   "name": "python3"
  },
  "language_info": {
   "codemirror_mode": {
    "name": "ipython",
    "version": 3
   },
   "file_extension": ".py",
   "mimetype": "text/x-python",
   "name": "python",
   "nbconvert_exporter": "python",
   "pygments_lexer": "ipython3",
   "version": "3.8.7"
  }
 },
 "nbformat": 4,
 "nbformat_minor": 5
}
