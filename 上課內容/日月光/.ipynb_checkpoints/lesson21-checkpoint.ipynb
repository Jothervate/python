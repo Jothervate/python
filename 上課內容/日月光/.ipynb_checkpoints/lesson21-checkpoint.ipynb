{
 "cells": [
  {
   "cell_type": "code",
   "execution_count": 10,
   "id": "growing-blank",
   "metadata": {},
   "outputs": [],
   "source": [
    "class Person(object):\n",
    "    def __init__(self,n):\n",
    "        self.name = n # attribute\n",
    "        age = 20 #區域變數"
   ]
  },
  {
   "cell_type": "code",
   "execution_count": 11,
   "id": "threatened-dominant",
   "metadata": {},
   "outputs": [
    {
     "name": "stdout",
     "output_type": "stream",
     "text": [
      "susan\n",
      "robert\n"
     ]
    },
    {
     "ename": "AttributeError",
     "evalue": "'Person' object has no attribute 'age'",
     "output_type": "error",
     "traceback": [
      "\u001b[0;31m---------------------------------------------------------------------------\u001b[0m",
      "\u001b[0;31mAttributeError\u001b[0m                            Traceback (most recent call last)",
      "\u001b[0;32m<ipython-input-11-fa15267ee612>\u001b[0m in \u001b[0;36m<module>\u001b[0;34m\u001b[0m\n\u001b[1;32m      3\u001b[0m \u001b[0mhunter\u001b[0m\u001b[0;34m.\u001b[0m\u001b[0mname\u001b[0m \u001b[0;34m=\u001b[0m \u001b[0;34m\"robert\"\u001b[0m\u001b[0;34m\u001b[0m\u001b[0;34m\u001b[0m\u001b[0m\n\u001b[1;32m      4\u001b[0m \u001b[0mprint\u001b[0m\u001b[0;34m(\u001b[0m\u001b[0mhunter\u001b[0m\u001b[0;34m.\u001b[0m\u001b[0mname\u001b[0m\u001b[0;34m)\u001b[0m\u001b[0;34m\u001b[0m\u001b[0;34m\u001b[0m\u001b[0m\n\u001b[0;32m----> 5\u001b[0;31m \u001b[0mhunter\u001b[0m\u001b[0;34m.\u001b[0m\u001b[0mage\u001b[0m\u001b[0;34m\u001b[0m\u001b[0;34m\u001b[0m\u001b[0m\n\u001b[0m",
      "\u001b[0;31mAttributeError\u001b[0m: 'Person' object has no attribute 'age'"
     ]
    }
   ],
   "source": [
    "hunter = Person(\"susan\")\n",
    "print(hunter.name)\n",
    "hunter.name = \"robert\"\n",
    "print(hunter.name)\n",
    "hunter.age #age是區域變數，無法使用實體的參考取出值"
   ]
  },
  {
   "cell_type": "code",
   "execution_count": 16,
   "id": "extraordinary-discount",
   "metadata": {},
   "outputs": [],
   "source": [
    "class Car():\n",
    "    def exclaim(self):\n",
    "        print(\"I'm a Car!\")\n",
    "\n",
    "class Yugo(Car):\n",
    "    def exclaim(self): #覆寫父類別的方法\n",
    "        print(\"I'm a Yugo!\")"
   ]
  },
  {
   "cell_type": "code",
   "execution_count": 17,
   "id": "apart-museum",
   "metadata": {},
   "outputs": [
    {
     "name": "stdout",
     "output_type": "stream",
     "text": [
      "I'm a Car!\n"
     ]
    }
   ],
   "source": [
    "aCar = Car()\n",
    "aCar.exclaim()"
   ]
  },
  {
   "cell_type": "code",
   "execution_count": 18,
   "id": "heard-spencer",
   "metadata": {},
   "outputs": [
    {
     "name": "stdout",
     "output_type": "stream",
     "text": [
      "I'm a Yugo!\n"
     ]
    }
   ],
   "source": [
    "aYugo = Yugo()\n",
    "aYugo.exclaim()"
   ]
  },
  {
   "cell_type": "code",
   "execution_count": 19,
   "id": "environmental-opening",
   "metadata": {},
   "outputs": [
    {
     "name": "stdout",
     "output_type": "stream",
     "text": [
      "robert\n",
      "Doctor robert\n",
      "Teacher robert\n"
     ]
    }
   ],
   "source": [
    "#__init()__也可以覆寫\n",
    "class Person():\n",
    "    def __init__(self,n):\n",
    "        self.name = n\n",
    "\n",
    "class MDPerson(Person):\n",
    "    def __init__(self,n):\n",
    "        self.name = \"Doctor \" + n\n",
    "        \n",
    "class JDPerson(Person):\n",
    "    def __init__(self,n):\n",
    "        self.name = \"Teacher \" + n\n",
    "        \n",
    "aPerson = Person(\"robert\")\n",
    "print(aPerson.name)\n",
    "\n",
    "aMDPerson = MDPerson(\"robert\")\n",
    "print(aMDPerson.name)\n",
    "\n",
    "aJDPerson = JDPerson(\"robert\")\n",
    "print(aJDPerson.name)"
   ]
  },
  {
   "cell_type": "code",
   "execution_count": null,
   "id": "driving-bangladesh",
   "metadata": {},
   "outputs": [],
   "source": []
  },
  {
   "cell_type": "code",
   "execution_count": null,
   "id": "helpful-subscriber",
   "metadata": {},
   "outputs": [],
   "source": []
  },
  {
   "cell_type": "code",
   "execution_count": null,
   "id": "traditional-humanitarian",
   "metadata": {},
   "outputs": [],
   "source": []
  },
  {
   "cell_type": "code",
   "execution_count": null,
   "id": "synthetic-punch",
   "metadata": {},
   "outputs": [],
   "source": []
  },
  {
   "cell_type": "code",
   "execution_count": null,
   "id": "roman-acquisition",
   "metadata": {},
   "outputs": [],
   "source": []
  },
  {
   "cell_type": "code",
   "execution_count": null,
   "id": "abstract-tsunami",
   "metadata": {},
   "outputs": [],
   "source": []
  },
  {
   "cell_type": "code",
   "execution_count": null,
   "id": "raising-measurement",
   "metadata": {},
   "outputs": [],
   "source": []
  }
 ],
 "metadata": {
  "kernelspec": {
   "display_name": "Python 3",
   "language": "python",
   "name": "python3"
  },
  "language_info": {
   "codemirror_mode": {
    "name": "ipython",
    "version": 3
   },
   "file_extension": ".py",
   "mimetype": "text/x-python",
   "name": "python",
   "nbconvert_exporter": "python",
   "pygments_lexer": "ipython3",
   "version": "3.8.7"
  }
 },
 "nbformat": 4,
 "nbformat_minor": 5
}
