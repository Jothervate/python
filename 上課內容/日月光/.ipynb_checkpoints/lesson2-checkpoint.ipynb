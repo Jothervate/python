{
 "cells": [
  {
   "cell_type": "code",
   "execution_count": 5,
   "id": "retained-agency",
   "metadata": {},
   "outputs": [
    {
     "name": "stdout",
     "output_type": "stream",
     "text": [
      "請輸入數字:(必需是整數)80\n",
      "score的值是80,score的資料型別是<class 'str'>\n"
     ]
    }
   ],
   "source": [
    "score = input(\"請輸入數字:(必需是整數)\")\n",
    "print(f\"score的值是{score},score的資料型別是{score.__class__}\")"
   ]
  },
  {
   "cell_type": "code",
   "execution_count": 6,
   "id": "explicit-aaron",
   "metadata": {},
   "outputs": [
    {
     "data": {
      "text/plain": [
       "3.0"
      ]
     },
     "execution_count": 6,
     "metadata": {},
     "output_type": "execute_result"
    }
   ],
   "source": [
    "9/3"
   ]
  },
  {
   "cell_type": "code",
   "execution_count": 7,
   "id": "external-flash",
   "metadata": {},
   "outputs": [
    {
     "data": {
      "text/plain": [
       "1"
      ]
     },
     "execution_count": 7,
     "metadata": {},
     "output_type": "execute_result"
    }
   ],
   "source": [
    "9//5"
   ]
  },
  {
   "cell_type": "code",
   "execution_count": 8,
   "id": "advised-judge",
   "metadata": {},
   "outputs": [
    {
     "ename": "ZeroDivisionError",
     "evalue": "division by zero",
     "output_type": "error",
     "traceback": [
      "\u001b[0;31m---------------------------------------------------------------------------\u001b[0m",
      "\u001b[0;31mZeroDivisionError\u001b[0m                         Traceback (most recent call last)",
      "\u001b[0;32m<ipython-input-8-0106664d39e8>\u001b[0m in \u001b[0;36m<module>\u001b[0;34m\u001b[0m\n\u001b[0;32m----> 1\u001b[0;31m \u001b[0;36m5\u001b[0m\u001b[0;34m/\u001b[0m\u001b[0;36m0\u001b[0m\u001b[0;34m\u001b[0m\u001b[0;34m\u001b[0m\u001b[0m\n\u001b[0m",
      "\u001b[0;31mZeroDivisionError\u001b[0m: division by zero"
     ]
    }
   ],
   "source": [
    "5/0"
   ]
  },
  {
   "cell_type": "code",
   "execution_count": 9,
   "id": "persistent-rover",
   "metadata": {},
   "outputs": [],
   "source": [
    "a = 95"
   ]
  },
  {
   "cell_type": "code",
   "execution_count": 10,
   "id": "other-license",
   "metadata": {},
   "outputs": [
    {
     "data": {
      "text/plain": [
       "92"
      ]
     },
     "execution_count": 10,
     "metadata": {},
     "output_type": "execute_result"
    }
   ],
   "source": [
    "a-3"
   ]
  },
  {
   "cell_type": "code",
   "execution_count": 12,
   "id": "hollywood-study",
   "metadata": {},
   "outputs": [
    {
     "data": {
      "text/plain": [
       "51.0"
      ]
     },
     "execution_count": 12,
     "metadata": {},
     "output_type": "execute_result"
    }
   ],
   "source": [
    "a = 95\n",
    "a -= 3\n",
    "a += 10\n",
    "a /= 2\n",
    "a"
   ]
  },
  {
   "cell_type": "code",
   "execution_count": 13,
   "id": "intense-browser",
   "metadata": {},
   "outputs": [
    {
     "data": {
      "text/plain": [
       "10"
      ]
     },
     "execution_count": 13,
     "metadata": {},
     "output_type": "execute_result"
    }
   ],
   "source": [
    "2 * (1+2) ** 2 - 2 ** 2 * 2"
   ]
  },
  {
   "cell_type": "code",
   "execution_count": 14,
   "id": "younger-cancer",
   "metadata": {},
   "outputs": [
    {
     "data": {
      "text/plain": [
       "1"
      ]
     },
     "execution_count": 14,
     "metadata": {},
     "output_type": "execute_result"
    }
   ],
   "source": [
    "int(True)"
   ]
  },
  {
   "cell_type": "code",
   "execution_count": 15,
   "id": "tired-madonna",
   "metadata": {},
   "outputs": [
    {
     "data": {
      "text/plain": [
       "0"
      ]
     },
     "execution_count": 15,
     "metadata": {},
     "output_type": "execute_result"
    }
   ],
   "source": [
    "int(False)"
   ]
  },
  {
   "cell_type": "code",
   "execution_count": 16,
   "id": "norman-whole",
   "metadata": {},
   "outputs": [
    {
     "data": {
      "text/plain": [
       "98"
      ]
     },
     "execution_count": 16,
     "metadata": {},
     "output_type": "execute_result"
    }
   ],
   "source": [
    "int(98.6)"
   ]
  },
  {
   "cell_type": "code",
   "execution_count": 17,
   "id": "bibliographic-salon",
   "metadata": {},
   "outputs": [
    {
     "data": {
      "text/plain": [
       "99"
      ]
     },
     "execution_count": 17,
     "metadata": {},
     "output_type": "execute_result"
    }
   ],
   "source": [
    "int('99')"
   ]
  },
  {
   "cell_type": "code",
   "execution_count": 20,
   "id": "noted-strip",
   "metadata": {},
   "outputs": [],
   "source": [
    "v1 = None\n",
    "v1"
   ]
  },
  {
   "cell_type": "code",
   "execution_count": 22,
   "id": "violent-retail",
   "metadata": {},
   "outputs": [
    {
     "data": {
      "text/plain": [
       "'abcdefghijklmnopqrstuvwxyz'"
      ]
     },
     "execution_count": 22,
     "metadata": {},
     "output_type": "execute_result"
    }
   ],
   "source": [
    "alphabet = ''\n",
    "alphabet += 'abcdefg'\n",
    "alphabet += 'hijklmnop'\n",
    "alphabet += 'qrstuv'\n",
    "alphabet += 'wxyz'\n",
    "alphabet"
   ]
  },
  {
   "cell_type": "code",
   "execution_count": 25,
   "id": "robust-fiber",
   "metadata": {},
   "outputs": [
    {
     "data": {
      "text/plain": [
       "'abcdefghijklmnqrstuvwxyz'"
      ]
     },
     "execution_count": 25,
     "metadata": {},
     "output_type": "execute_result"
    }
   ],
   "source": [
    "alphabet = ('abcdefg' +\n",
    "            'hijklmn' +\n",
    "            'qrstuv' +\n",
    "            'wxyz')\n",
    "alphabet"
   ]
  },
  {
   "cell_type": "code",
   "execution_count": 27,
   "id": "warming-jackson",
   "metadata": {},
   "outputs": [
    {
     "data": {
      "text/plain": [
       "'abcdefghijklmnqrstuvwxyz'"
      ]
     },
     "execution_count": 27,
     "metadata": {},
     "output_type": "execute_result"
    }
   ],
   "source": [
    "alphabet = 'abcdefg' + \\\n",
    "'hijklmn' + \\\n",
    "'qrstuv' + \\\n",
    "'wxyz'\n",
    "\n",
    "alphabet"
   ]
  },
  {
   "cell_type": "code",
   "execution_count": 28,
   "id": "honest-latvia",
   "metadata": {},
   "outputs": [
    {
     "name": "stdout",
     "output_type": "stream",
     "text": [
      "輸入整數1a:56\n",
      "輸入整數1b:78\n",
      "輸入整數c:26\n",
      "輸入整數d:345\n",
      "5678\n",
      "26345\n"
     ]
    }
   ],
   "source": [
    "a = input('輸入整數1a:')\n",
    "b = input('輸入整數1b:')\n",
    "c = input('輸入整數c:')\n",
    "d = input('輸入整數d:')\n",
    "\n",
    "f = a + b\n",
    "g = c + d\n",
    "print(f)\n",
    "print(g)"
   ]
  },
  {
   "cell_type": "code",
   "execution_count": 29,
   "id": "photographic-pathology",
   "metadata": {},
   "outputs": [
    {
     "name": "stdout",
     "output_type": "stream",
     "text": [
      "輸入整數1a:56\n",
      "輸入整數1b:46\n",
      "輸入整數c:27\n",
      "輸入整數d:73\n",
      "102\n",
      "100\n"
     ]
    }
   ],
   "source": [
    "a = int(input('輸入整數1a:'))\n",
    "b = int(input('輸入整數1b:'))\n",
    "c = int(input('輸入整數c:'))\n",
    "d = int(input('輸入整數d:'))\n",
    "\n",
    "f = a + b\n",
    "g = c + d\n",
    "print(f)\n",
    "print(g)"
   ]
  },
  {
   "cell_type": "code",
   "execution_count": null,
   "id": "substantial-generator",
   "metadata": {},
   "outputs": [],
   "source": []
  }
 ],
 "metadata": {
  "kernelspec": {
   "display_name": "Python 3",
   "language": "python",
   "name": "python3"
  },
  "language_info": {
   "codemirror_mode": {
    "name": "ipython",
    "version": 3
   },
   "file_extension": ".py",
   "mimetype": "text/x-python",
   "name": "python",
   "nbconvert_exporter": "python",
   "pygments_lexer": "ipython3",
   "version": "3.8.7"
  }
 },
 "nbformat": 4,
 "nbformat_minor": 5
}
