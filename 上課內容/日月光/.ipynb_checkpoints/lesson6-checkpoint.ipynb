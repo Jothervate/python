{
 "cells": [
  {
   "cell_type": "code",
   "execution_count": 10,
   "id": "constant-worcester",
   "metadata": {},
   "outputs": [
    {
     "name": "stdout",
     "output_type": "stream",
     "text": [
      "===============猜數字遊戲================\n",
      "猜數字的範圍1~100:50\n",
      "再小一點\n",
      "您猜了1次\n",
      "猜數字的範圍1~50:25\n",
      "再小一點\n",
      "您猜了2次\n",
      "猜數字的範圍1~25:13\n",
      "再小一點\n",
      "您猜了3次\n",
      "猜數字的範圍1~13:6\n",
      "再大一點\n",
      "您猜了4次\n",
      "猜數字的範圍6~13:10\n",
      "再大一點\n",
      "您猜了5次\n",
      "猜數字的範圍10~13:12\n",
      "再小一點\n",
      "您猜了6次\n",
      "猜數字的範圍10~12:11\n",
      "賓果!猜對了,答案是:11\n",
      "您猜了7次\n",
      "程式結束\n"
     ]
    }
   ],
   "source": [
    "from random import randint\n",
    "min = 1\n",
    "max = 100\n",
    "target = randint(min, max)\n",
    "count = 0\n",
    "print(\"===============猜數字遊戲================\")\n",
    "while(True):\n",
    "    count+=1\n",
    "    keyin=int(input(\"猜數字的範圍{0}~{1}:\".format(min,max)))\n",
    "    if min <= keyin <= max:\n",
    "        if(keyin == target):\n",
    "            print(f\"賓果!猜對了,答案是:{target}\")\n",
    "            print(f\"您猜了{count}次\")\n",
    "            break\n",
    "        elif keyin > target:\n",
    "            max = keyin\n",
    "            print(\"再小一點\")\n",
    "        elif keyin < target:\n",
    "            min = keyin\n",
    "            print(\"再大一點\")\n",
    "        print(f\"您猜了{count}次\")\n",
    "    else:\n",
    "        print(\"請輸入提示範圍內的數字\")\n",
    "        \n",
    "        \n",
    "print(\"程式結束\")    "
   ]
  },
  {
   "cell_type": "code",
   "execution_count": 15,
   "id": "alien-washington",
   "metadata": {},
   "outputs": [
    {
     "name": "stdout",
     "output_type": "stream",
     "text": [
      "range(0, 5)\n"
     ]
    }
   ],
   "source": [
    "range(5)"
   ]
  },
  {
   "cell_type": "code",
   "execution_count": 13,
   "id": "ancient-blink",
   "metadata": {},
   "outputs": [
    {
     "data": {
      "text/plain": [
       "range(1, 5)"
      ]
     },
     "execution_count": 13,
     "metadata": {},
     "output_type": "execute_result"
    }
   ],
   "source": [
    "range(1,5)"
   ]
  },
  {
   "cell_type": "code",
   "execution_count": 14,
   "id": "attempted-miniature",
   "metadata": {},
   "outputs": [
    {
     "data": {
      "text/plain": [
       "range(1, 10, 2)"
      ]
     },
     "execution_count": 14,
     "metadata": {},
     "output_type": "execute_result"
    }
   ],
   "source": [
    "range(1,10,2)"
   ]
  },
  {
   "cell_type": "code",
   "execution_count": 16,
   "id": "appropriate-crossing",
   "metadata": {},
   "outputs": [
    {
     "name": "stdout",
     "output_type": "stream",
     "text": [
      "0\n",
      "1\n",
      "2\n",
      "3\n",
      "4\n"
     ]
    }
   ],
   "source": [
    "for i in range(5):\n",
    "    print(i)"
   ]
  },
  {
   "cell_type": "code",
   "execution_count": 17,
   "id": "cleared-applicant",
   "metadata": {},
   "outputs": [
    {
     "name": "stdout",
     "output_type": "stream",
     "text": [
      "1\n",
      "2\n",
      "3\n",
      "4\n"
     ]
    }
   ],
   "source": [
    "for i in range(1,5):\n",
    "    print(i)"
   ]
  },
  {
   "cell_type": "code",
   "execution_count": 18,
   "id": "mature-abortion",
   "metadata": {},
   "outputs": [
    {
     "name": "stdout",
     "output_type": "stream",
     "text": [
      "1\n",
      "3\n",
      "5\n",
      "7\n",
      "9\n"
     ]
    }
   ],
   "source": [
    "for i in range(1,10,2):\n",
    "    print(i)"
   ]
  },
  {
   "cell_type": "code",
   "execution_count": null,
   "id": "experienced-jones",
   "metadata": {},
   "outputs": [],
   "source": []
  }
 ],
 "metadata": {
  "kernelspec": {
   "display_name": "Python 3",
   "language": "python",
   "name": "python3"
  },
  "language_info": {
   "codemirror_mode": {
    "name": "ipython",
    "version": 3
   },
   "file_extension": ".py",
   "mimetype": "text/x-python",
   "name": "python",
   "nbconvert_exporter": "python",
   "pygments_lexer": "ipython3",
   "version": "3.8.7"
  }
 },
 "nbformat": 4,
 "nbformat_minor": 5
}
