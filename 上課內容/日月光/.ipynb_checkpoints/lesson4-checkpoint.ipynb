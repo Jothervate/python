{
 "cells": [
  {
   "cell_type": "code",
   "execution_count": 1,
   "id": "original-restoration",
   "metadata": {},
   "outputs": [
    {
     "data": {
      "text/plain": [
       "True"
      ]
     },
     "execution_count": 1,
     "metadata": {},
     "output_type": "execute_result"
    }
   ],
   "source": [
    "5 > 3"
   ]
  },
  {
   "cell_type": "code",
   "execution_count": 4,
   "id": "ambient-knock",
   "metadata": {},
   "outputs": [
    {
     "name": "stdout",
     "output_type": "stream",
     "text": [
      "小於等於18\n",
      "執行結束\n"
     ]
    }
   ],
   "source": [
    "a = 0\n",
    "if a>18:\n",
    "    print(\"大於18\")\n",
    "else:\n",
    "    print(\"小於等於18\")\n",
    "print(\"執行結束\")"
   ]
  },
  {
   "cell_type": "code",
   "execution_count": 6,
   "id": "demanding-chain",
   "metadata": {},
   "outputs": [
    {
     "name": "stdout",
     "output_type": "stream",
     "text": [
      "請輸入年紀?50\n"
     ]
    }
   ],
   "source": [
    "age = int(input(\"請輸入年紀\" + \"?\"))\n",
    "\n",
    "if age > 18:\n",
    "    print(\"青年\")\n",
    "elif age >= 12:\n",
    "    print(\"青少年\")\n",
    "else:\n",
    "    print(\"少年\")"
   ]
  },
  {
   "cell_type": "code",
   "execution_count": null,
   "id": "threaded-efficiency",
   "metadata": {},
   "outputs": [],
   "source": [
    "ageString = input(\"請輸入年紀?\")\n",
    "age = int(ageString)"
   ]
  },
  {
   "cell_type": "code",
   "execution_count": 9,
   "id": "stopped-exclusive",
   "metadata": {},
   "outputs": [
    {
     "name": "stdout",
     "output_type": "stream",
     "text": [
      "請輸入分數:75\n",
      "成績等級為:乙\n",
      "成績等級為:乙\n",
      "成績等級為:乙\n",
      "成績等級為:乙\n"
     ]
    }
   ],
   "source": [
    "score = int(input('請輸入分數:'))\n",
    "if score >= 90:\n",
    "    grade = '優'\n",
    "elif score >= 80:\n",
    "    grade = '甲'\n",
    "elif score >= 70:\n",
    "    grade = '乙'\n",
    "elif score >= 60:\n",
    "    grade = '丙'\n",
    "else:\n",
    "    grade = '丁'\n",
    "print(\"成績等級為:\",grade,sep='')\n",
    "print(f\"成績等級為:{grade}\")\n",
    "print(\"成績等級為:%s\" % grade)\n",
    "print(\"成績等級為:{:s}\".format(grade))"
   ]
  },
  {
   "cell_type": "code",
   "execution_count": null,
   "id": "sweet-juvenile",
   "metadata": {},
   "outputs": [],
   "source": [
    "furry = True\n",
    "small = True\n",
    "\n",
    "if furry:\n",
    "    if small:\n",
    "        print(\"它是貓!\")\n",
    "    else:\n",
    "        print(\"它是熊!\")\n",
    "else:\n",
    "    if small:\n",
    "        print(\"它是小蜥蜴!\")\n",
    "    else:\n",
    "        print(\"它是人類!\")"
   ]
  },
  {
   "cell_type": "code",
   "execution_count": 10,
   "id": "offensive-appraisal",
   "metadata": {},
   "outputs": [
    {
     "name": "stdout",
     "output_type": "stream",
     "text": [
      "1\n"
     ]
    }
   ],
   "source": [
    "a = 14\n",
    "if a>=12 and a<18:\n",
    "    print(\"1\")\n",
    "else:\n",
    "    print(\"2\")"
   ]
  },
  {
   "cell_type": "code",
   "execution_count": 12,
   "id": "opening-drilling",
   "metadata": {},
   "outputs": [
    {
     "name": "stdout",
     "output_type": "stream",
     "text": [
      "1\n"
     ]
    }
   ],
   "source": [
    "a = 14\n",
    "if 12 <= a < 18:\n",
    "    print(\"1\")\n",
    "else:\n",
    "    print(\"2\")"
   ]
  },
  {
   "cell_type": "code",
   "execution_count": 15,
   "id": "stable-costume",
   "metadata": {},
   "outputs": [
    {
     "name": "stdout",
     "output_type": "stream",
     "text": [
      "2位數\n"
     ]
    }
   ],
   "source": [
    "n = 89\n",
    "if n > -10 and n < 10:\n",
    "    digit=\"1位數\"\n",
    "elif n > -100 and n < 100:\n",
    "    digit=\"2位數\"\n",
    "else:\n",
    "    digit=\"大於2位數\"\n",
    "print(digit)"
   ]
  },
  {
   "cell_type": "code",
   "execution_count": null,
   "id": "professional-rebel",
   "metadata": {},
   "outputs": [],
   "source": []
  },
  {
   "cell_type": "code",
   "execution_count": null,
   "id": "accepting-offering",
   "metadata": {},
   "outputs": [],
   "source": []
  },
  {
   "cell_type": "code",
   "execution_count": null,
   "id": "arctic-honey",
   "metadata": {},
   "outputs": [],
   "source": []
  },
  {
   "cell_type": "code",
   "execution_count": null,
   "id": "seeing-cardiff",
   "metadata": {},
   "outputs": [],
   "source": []
  },
  {
   "cell_type": "code",
   "execution_count": null,
   "id": "premier-tobacco",
   "metadata": {},
   "outputs": [],
   "source": []
  }
 ],
 "metadata": {
  "kernelspec": {
   "display_name": "Python 3",
   "language": "python",
   "name": "python3"
  },
  "language_info": {
   "codemirror_mode": {
    "name": "ipython",
    "version": 3
   },
   "file_extension": ".py",
   "mimetype": "text/x-python",
   "name": "python",
   "nbconvert_exporter": "python",
   "pygments_lexer": "ipython3",
   "version": "3.8.7"
  }
 },
 "nbformat": 4,
 "nbformat_minor": 5
}
