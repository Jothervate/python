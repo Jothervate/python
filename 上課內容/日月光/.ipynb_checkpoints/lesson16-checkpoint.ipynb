{
 "cells": [
  {
   "cell_type": "code",
   "execution_count": null,
   "id": "cathedral-geography",
   "metadata": {},
   "outputs": [],
   "source": [
    "v1 = 'Hello'\n",
    "v2 = 25\n",
    "v3 = 45.34\n",
    "print('say %s age=%i float=%.1f' % (v1,v2,v3))"
   ]
  },
  {
   "cell_type": "code",
   "execution_count": null,
   "id": "northern-imagination",
   "metadata": {},
   "outputs": [],
   "source": [
    "v1 = 'Hello'\n",
    "v2 = 25\n",
    "v3 = 45.34\n",
    "print('say {0:s} age={1:d} float={2:.1f}'.format(v1,v2,v3))"
   ]
  },
  {
   "cell_type": "code",
   "execution_count": null,
   "id": "banner-blocking",
   "metadata": {},
   "outputs": [],
   "source": [
    "v1 = 'Hello'\n",
    "v2 = 25\n",
    "v3 = 45.34\n",
    "print(f'say {v1} age={v2} float={v3}')"
   ]
  },
  {
   "cell_type": "code",
   "execution_count": null,
   "id": "pointed-walter",
   "metadata": {},
   "outputs": [],
   "source": [
    "from decimal import Decimal\n",
    "print(Decimal('1.1') + Decimal('2.2'))"
   ]
  },
  {
   "cell_type": "code",
   "execution_count": null,
   "id": "confused-hello",
   "metadata": {},
   "outputs": [],
   "source": [
    "value=1.1 + 2.2\n",
    "print('{:f}'.format(value))"
   ]
  },
  {
   "cell_type": "code",
   "execution_count": null,
   "id": "sorted-chapter",
   "metadata": {},
   "outputs": [],
   "source": [
    "container = 10\n",
    "container = 20"
   ]
  },
  {
   "cell_type": "code",
   "execution_count": null,
   "id": "adequate-western",
   "metadata": {},
   "outputs": [],
   "source": [
    "def changeValue(value):\n",
    "    value = 10\n",
    "    \n",
    "    \n",
    "a = 50\n",
    "changeValue(a)\n",
    "a"
   ]
  },
  {
   "cell_type": "code",
   "execution_count": null,
   "id": "surgical-auditor",
   "metadata": {},
   "outputs": [],
   "source": [
    "#value type\n",
    "def changeValue(value):\n",
    "    value = 10\n",
    "    return value\n",
    "    \n",
    "    \n",
    "a = 50\n",
    "\n",
    "a = changeValue(a)\n",
    "a"
   ]
  },
  {
   "cell_type": "code",
   "execution_count": null,
   "id": "western-tooth",
   "metadata": {},
   "outputs": [],
   "source": [
    "#value type\n",
    "name = \"Henny\"\n",
    "name=name.replace(\"H\",\"P\")\n",
    "name"
   ]
  },
  {
   "cell_type": "code",
   "execution_count": null,
   "id": "third-december",
   "metadata": {},
   "outputs": [],
   "source": [
    "#reference type\n",
    "def changeList(reference):\n",
    "    reference[0] = 'susan'\n",
    "\n",
    "\n",
    "nameList = ['robert','alice','jenny']\n",
    "changeList(nameList)\n",
    "print(t)\n"
   ]
  },
  {
   "cell_type": "code",
   "execution_count": null,
   "id": "compatible-counter",
   "metadata": {},
   "outputs": [],
   "source": [
    "#position呼叫\n",
    "def menu(wine, entree, dessert):\n",
    "    return {'wine':wine, 'entree':entree, 'dessert':dessert}\n",
    "\n",
    "menu('紅酒', '牛排', '蛋糕')"
   ]
  },
  {
   "cell_type": "code",
   "execution_count": null,
   "id": "identified-authority",
   "metadata": {},
   "outputs": [],
   "source": [
    "#引數名稱呼叫\n",
    "menu(wine='紅酒', entree='牛排', dessert='蛋糕')"
   ]
  },
  {
   "cell_type": "code",
   "execution_count": null,
   "id": "typical-swedish",
   "metadata": {},
   "outputs": [],
   "source": [
    "#引數名稱呼叫\n",
    "menu(wine='紅酒', dessert='蛋糕' ,entree='牛排')"
   ]
  },
  {
   "cell_type": "code",
   "execution_count": null,
   "id": "boxed-feeling",
   "metadata": {},
   "outputs": [],
   "source": [
    "#混合式呼叫\n",
    "#前面要用position,引數名稱\n",
    "#使用引數名稱呼叫後，後面全部引數名稱呼叫\n",
    "menu('紅酒',dessert='蛋糕', entree='牛排')"
   ]
  },
  {
   "cell_type": "code",
   "execution_count": null,
   "id": "romance-listing",
   "metadata": {},
   "outputs": [],
   "source": [
    "print(\"Hello\",'alice', 'jenny',end='結束',sep='-')"
   ]
  },
  {
   "cell_type": "code",
   "execution_count": null,
   "id": "tropical-custom",
   "metadata": {},
   "outputs": [],
   "source": [
    "#定義function時，有預設的參數值\n",
    "#有預設參數值的參數，必需放在最後面\n",
    "def menu(wine, entree, dessert='奶昔'):\n",
    "    return {'wine':wine, 'entree':entree, 'dessert':dessert}\n",
    "\n",
    "menu('紅酒','雞排')"
   ]
  },
  {
   "cell_type": "code",
   "execution_count": null,
   "id": "thirty-bulletin",
   "metadata": {},
   "outputs": [],
   "source": [
    "menu('紅酒','雞排',dessert='蛋糕')"
   ]
  },
  {
   "cell_type": "code",
   "execution_count": null,
   "id": "cordless-beads",
   "metadata": {},
   "outputs": [],
   "source": [
    "def menu(wine, entree='牛排', dessert='奶昔'):\n",
    "    return {'wine':wine, 'entree':entree, 'dessert':dessert}\n",
    "\n",
    "menu('紅酒')"
   ]
  },
  {
   "cell_type": "code",
   "execution_count": null,
   "id": "demanding-cyprus",
   "metadata": {},
   "outputs": [],
   "source": [
    "menu('紅酒',entree='雞排')"
   ]
  },
  {
   "cell_type": "code",
   "execution_count": null,
   "id": "average-hudson",
   "metadata": {},
   "outputs": [],
   "source": [
    "menu('紅酒',entree='雞排',dessert='蛋糕')"
   ]
  },
  {
   "cell_type": "code",
   "execution_count": null,
   "id": "super-expansion",
   "metadata": {},
   "outputs": [],
   "source": [
    "def menu(wine='紅酒', entree='牛排', dessert='奶昔'):\n",
    "    return {'wine':wine, 'entree':entree, 'dessert':dessert}\n",
    "\n",
    "menu()"
   ]
  },
  {
   "cell_type": "code",
   "execution_count": null,
   "id": "exciting-basement",
   "metadata": {},
   "outputs": [],
   "source": [
    "#呼叫時,使用不限數量的引數位置呼叫\n",
    "def print_args(*args):\n",
    "    print('引數位置的呼叫,引數有:',args)"
   ]
  },
  {
   "cell_type": "code",
   "execution_count": null,
   "id": "everyday-acoustic",
   "metadata": {},
   "outputs": [],
   "source": [
    "print_args(3, 5, 7, 9, 11, 53, 98)\n",
    "myTuple = (2, 4, 6, 8, 10, 12)\n",
    "print_args(1,3,5,7,9,*myTuple)"
   ]
  },
  {
   "cell_type": "code",
   "execution_count": null,
   "id": "coordinate-customer",
   "metadata": {},
   "outputs": [],
   "source": [
    "#呼叫時,使用不限數量的引數名稱呼叫\n",
    "def print_kwargs(**kwargs):\n",
    "    print('不限數量的引數名稱呼叫,引數名稱和值有',kwargs)\n",
    "\n",
    "print_kwargs(a1='one', a2='two', a3='three', a4='four')\n"
   ]
  },
  {
   "cell_type": "code",
   "execution_count": null,
   "id": "fitting-design",
   "metadata": {},
   "outputs": [],
   "source": [
    "myDict = {'name':'robert','age1':30,'height':170,'weight':70}\n",
    "print_kwargs(**myDict)"
   ]
  },
  {
   "cell_type": "code",
   "execution_count": null,
   "id": "resistant-offset",
   "metadata": {},
   "outputs": [],
   "source": []
  },
  {
   "cell_type": "code",
   "execution_count": null,
   "id": "waiting-format",
   "metadata": {},
   "outputs": [],
   "source": []
  },
  {
   "cell_type": "code",
   "execution_count": null,
   "id": "beginning-antenna",
   "metadata": {},
   "outputs": [],
   "source": []
  },
  {
   "cell_type": "code",
   "execution_count": null,
   "id": "incident-prescription",
   "metadata": {},
   "outputs": [],
   "source": []
  },
  {
   "cell_type": "code",
   "execution_count": null,
   "id": "analyzed-anthropology",
   "metadata": {},
   "outputs": [],
   "source": []
  },
  {
   "cell_type": "code",
   "execution_count": null,
   "id": "horizontal-planner",
   "metadata": {},
   "outputs": [],
   "source": []
  }
 ],
 "metadata": {
  "kernelspec": {
   "display_name": "Python 3",
   "language": "python",
   "name": "python3"
  },
  "language_info": {
   "codemirror_mode": {
    "name": "ipython",
    "version": 3
   },
   "file_extension": ".py",
   "mimetype": "text/x-python",
   "name": "python",
   "nbconvert_exporter": "python",
   "pygments_lexer": "ipython3",
   "version": "3.8.7"
  }
 },
 "nbformat": 4,
 "nbformat_minor": 5
}
