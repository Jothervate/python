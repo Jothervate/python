{
 "cells": [
  {
   "cell_type": "code",
   "execution_count": 1,
   "id": "painted-butler",
   "metadata": {},
   "outputs": [
    {
     "name": "stdout",
     "output_type": "stream",
     "text": [
      "say Hello age=25 float=45.3\n"
     ]
    }
   ],
   "source": [
    "v1 = 'Hello'\n",
    "v2 = 25\n",
    "v3 = 45.34\n",
    "print('say %s age=%i float=%.1f' % (v1,v2,v3))"
   ]
  },
  {
   "cell_type": "code",
   "execution_count": 3,
   "id": "limiting-corpus",
   "metadata": {},
   "outputs": [
    {
     "name": "stdout",
     "output_type": "stream",
     "text": [
      "say Hello age=25 float=45.3\n"
     ]
    }
   ],
   "source": [
    "v1 = 'Hello'\n",
    "v2 = 25\n",
    "v3 = 45.34\n",
    "print('say {0:s} age={1:d} float={2:.1f}'.format(v1,v2,v3))"
   ]
  },
  {
   "cell_type": "code",
   "execution_count": 5,
   "id": "laughing-plenty",
   "metadata": {},
   "outputs": [
    {
     "name": "stdout",
     "output_type": "stream",
     "text": [
      "say Hello age=25 float=45.34\n"
     ]
    }
   ],
   "source": [
    "v1 = 'Hello'\n",
    "v2 = 25\n",
    "v3 = 45.34\n",
    "print(f'say {v1} age={v2} float={v3}')"
   ]
  },
  {
   "cell_type": "code",
   "execution_count": null,
   "id": "unexpected-hospital",
   "metadata": {},
   "outputs": [],
   "source": []
  }
 ],
 "metadata": {
  "kernelspec": {
   "display_name": "Python 3",
   "language": "python",
   "name": "python3"
  },
  "language_info": {
   "codemirror_mode": {
    "name": "ipython",
    "version": 3
   },
   "file_extension": ".py",
   "mimetype": "text/x-python",
   "name": "python",
   "nbconvert_exporter": "python",
   "pygments_lexer": "ipython3",
   "version": "3.8.7"
  }
 },
 "nbformat": 4,
 "nbformat_minor": 5
}
