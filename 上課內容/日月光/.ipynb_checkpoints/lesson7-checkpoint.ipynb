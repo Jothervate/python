{
 "cells": [
  {
   "cell_type": "code",
   "execution_count": 1,
   "id": "infrared-germany",
   "metadata": {},
   "outputs": [
    {
     "data": {
      "text/plain": [
       "26"
      ]
     },
     "execution_count": 1,
     "metadata": {},
     "output_type": "execute_result"
    }
   ],
   "source": [
    "#len()\n",
    "letters = 'abcdefghijklmnopqrstuvwxyz'\n",
    "len(letters)"
   ]
  },
  {
   "cell_type": "code",
   "execution_count": 2,
   "id": "utility-panel",
   "metadata": {},
   "outputs": [
    {
     "data": {
      "text/plain": [
       "12"
      ]
     },
     "execution_count": 2,
     "metadata": {},
     "output_type": "execute_result"
    }
   ],
   "source": [
    "chineseLetters = \"输出是否被缓存通常决定于\"\n",
    "len(chineseLetters)"
   ]
  },
  {
   "cell_type": "code",
   "execution_count": 3,
   "id": "enclosed-mexican",
   "metadata": {},
   "outputs": [
    {
     "data": {
      "text/plain": [
       "'a'"
      ]
     },
     "execution_count": 3,
     "metadata": {},
     "output_type": "execute_result"
    }
   ],
   "source": [
    "letters = 'abcdefghijklmnopqrstuvwxyz'\n",
    "letters[0]"
   ]
  },
  {
   "cell_type": "code",
   "execution_count": 4,
   "id": "speaking-correlation",
   "metadata": {},
   "outputs": [
    {
     "data": {
      "text/plain": [
       "'输'"
      ]
     },
     "execution_count": 4,
     "metadata": {},
     "output_type": "execute_result"
    }
   ],
   "source": [
    "chineseLetters[0]"
   ]
  },
  {
   "cell_type": "code",
   "execution_count": 5,
   "id": "covered-liberty",
   "metadata": {},
   "outputs": [
    {
     "data": {
      "text/plain": [
       "'于'"
      ]
     },
     "execution_count": 5,
     "metadata": {},
     "output_type": "execute_result"
    }
   ],
   "source": [
    "chineseLetters[-1]"
   ]
  },
  {
   "cell_type": "code",
   "execution_count": 7,
   "id": "hydraulic-facing",
   "metadata": {},
   "outputs": [
    {
     "data": {
      "text/plain": [
       "'abcde'"
      ]
     },
     "execution_count": 7,
     "metadata": {},
     "output_type": "execute_result"
    }
   ],
   "source": [
    "letters = 'abcdefghijklmnopqrstuvwxyz'\n",
    "letters[0:5]"
   ]
  },
  {
   "cell_type": "code",
   "execution_count": 8,
   "id": "public-pride",
   "metadata": {},
   "outputs": [
    {
     "data": {
      "text/plain": [
       "'abcdefghijklmnopqrstuvwxyz'"
      ]
     },
     "execution_count": 8,
     "metadata": {},
     "output_type": "execute_result"
    }
   ],
   "source": [
    "letters[:]"
   ]
  },
  {
   "cell_type": "code",
   "execution_count": 9,
   "id": "interpreted-weather",
   "metadata": {},
   "outputs": [
    {
     "data": {
      "text/plain": [
       "'abcdefghij'"
      ]
     },
     "execution_count": 9,
     "metadata": {},
     "output_type": "execute_result"
    }
   ],
   "source": [
    "letters[:10]"
   ]
  },
  {
   "cell_type": "code",
   "execution_count": 10,
   "id": "marked-fitness",
   "metadata": {},
   "outputs": [
    {
     "data": {
      "text/plain": [
       "'输出是'"
      ]
     },
     "execution_count": 10,
     "metadata": {},
     "output_type": "execute_result"
    }
   ],
   "source": [
    "chineseLetters = \"输出是否被缓存通常决定于\"\n",
    "chineseLetters[:3]"
   ]
  },
  {
   "cell_type": "code",
   "execution_count": 11,
   "id": "accessible-insert",
   "metadata": {},
   "outputs": [
    {
     "data": {
      "text/plain": [
       "'vwxyz'"
      ]
     },
     "execution_count": 11,
     "metadata": {},
     "output_type": "execute_result"
    }
   ],
   "source": [
    "letters = 'abcdefghijklmnopqrstuvwxyz'\n",
    "letters[-5:]"
   ]
  },
  {
   "cell_type": "code",
   "execution_count": 12,
   "id": "central-sunset",
   "metadata": {},
   "outputs": [
    {
     "data": {
      "text/plain": [
       "'通常决定于'"
      ]
     },
     "execution_count": 12,
     "metadata": {},
     "output_type": "execute_result"
    }
   ],
   "source": [
    "chineseLetters = \"输出是否被缓存通常决定于\"\n",
    "chineseLetters[-5:]"
   ]
  },
  {
   "cell_type": "code",
   "execution_count": 14,
   "id": "lonely-booth",
   "metadata": {},
   "outputs": [
    {
     "data": {
      "text/plain": [
       "'acegikmoqsuwy'"
      ]
     },
     "execution_count": 14,
     "metadata": {},
     "output_type": "execute_result"
    }
   ],
   "source": [
    "letters = 'abcdefghijklmnopqrstuvwxyz'\n",
    "letters[::2]"
   ]
  },
  {
   "cell_type": "code",
   "execution_count": null,
   "id": "suffering-third",
   "metadata": {},
   "outputs": [],
   "source": []
  }
 ],
 "metadata": {
  "kernelspec": {
   "display_name": "Python 3",
   "language": "python",
   "name": "python3"
  },
  "language_info": {
   "codemirror_mode": {
    "name": "ipython",
    "version": 3
   },
   "file_extension": ".py",
   "mimetype": "text/x-python",
   "name": "python",
   "nbconvert_exporter": "python",
   "pygments_lexer": "ipython3",
   "version": "3.8.7"
  }
 },
 "nbformat": 4,
 "nbformat_minor": 5
}
