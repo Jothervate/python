{
 "cells": [
  {
   "cell_type": "code",
   "execution_count": 3,
   "id": "retained-receiver",
   "metadata": {},
   "outputs": [
    {
     "data": {
      "text/plain": [
       "[1, 2, 3, 4, 5]"
      ]
     },
     "execution_count": 3,
     "metadata": {},
     "output_type": "execute_result"
    }
   ],
   "source": [
    "number_list = []\n",
    "number_list.append(1)\n",
    "number_list.append(2)\n",
    "number_list.append(3)\n",
    "number_list.append(4)\n",
    "number_list.append(5)\n",
    "number_list    "
   ]
  },
  {
   "cell_type": "code",
   "execution_count": 5,
   "id": "documentary-product",
   "metadata": {},
   "outputs": [
    {
     "data": {
      "text/plain": [
       "[1, 2, 3, 4, 5]"
      ]
     },
     "execution_count": 5,
     "metadata": {},
     "output_type": "execute_result"
    }
   ],
   "source": [
    "number_list = []\n",
    "for i in range(1,6):\n",
    "    number_list.append(i)\n",
    "number_list"
   ]
  },
  {
   "cell_type": "code",
   "execution_count": null,
   "id": "engaged-nebraska",
   "metadata": {},
   "outputs": [],
   "source": [
    "#comprehension建立list\n",
    "[i for i in range(100)]"
   ]
  },
  {
   "cell_type": "code",
   "execution_count": 10,
   "id": "accepting-strike",
   "metadata": {},
   "outputs": [
    {
     "data": {
      "text/plain": [
       "[0, 5, 10, 15, 20, 25, 30, 35, 40, 45, 50, 55, 60, 65, 70, 75, 80, 85, 90, 95]"
      ]
     },
     "execution_count": 10,
     "metadata": {},
     "output_type": "execute_result"
    }
   ],
   "source": [
    "[i for i in range(100) if i % 5 == 0]"
   ]
  },
  {
   "cell_type": "code",
   "execution_count": 11,
   "id": "oriented-cutting",
   "metadata": {},
   "outputs": [
    {
     "data": {
      "text/plain": [
       "[0.0,\n",
       " 0.5,\n",
       " 1.0,\n",
       " 1.5,\n",
       " 2.0,\n",
       " 2.5,\n",
       " 3.0,\n",
       " 3.5,\n",
       " 4.0,\n",
       " 4.5,\n",
       " 5.0,\n",
       " 5.5,\n",
       " 6.0,\n",
       " 6.5,\n",
       " 7.0,\n",
       " 7.5,\n",
       " 8.0,\n",
       " 8.5,\n",
       " 9.0,\n",
       " 9.5]"
      ]
     },
     "execution_count": 11,
     "metadata": {},
     "output_type": "execute_result"
    }
   ],
   "source": [
    "[i/10 for i in range(100) if i % 5 == 0]"
   ]
  },
  {
   "cell_type": "code",
   "execution_count": 12,
   "id": "foster-occurrence",
   "metadata": {},
   "outputs": [
    {
     "data": {
      "text/plain": [
       "['numer:0',\n",
       " 'numer:5',\n",
       " 'numer:10',\n",
       " 'numer:15',\n",
       " 'numer:20',\n",
       " 'numer:25',\n",
       " 'numer:30',\n",
       " 'numer:35',\n",
       " 'numer:40',\n",
       " 'numer:45',\n",
       " 'numer:50',\n",
       " 'numer:55',\n",
       " 'numer:60',\n",
       " 'numer:65',\n",
       " 'numer:70',\n",
       " 'numer:75',\n",
       " 'numer:80',\n",
       " 'numer:85',\n",
       " 'numer:90',\n",
       " 'numer:95']"
      ]
     },
     "execution_count": 12,
     "metadata": {},
     "output_type": "execute_result"
    }
   ],
   "source": [
    "[f\"numer:{i}\" for i in range(100) if i % 5 == 0]"
   ]
  },
  {
   "cell_type": "code",
   "execution_count": 15,
   "id": "employed-viking",
   "metadata": {},
   "outputs": [
    {
     "data": {
      "text/plain": [
       "{'r': 2, 'o': 1, 'b': 1, 'e': 1, 't': 1, ' ': 1, 'h': 1, 's': 1, 'u': 1}"
      ]
     },
     "execution_count": 15,
     "metadata": {},
     "output_type": "execute_result"
    }
   ],
   "source": [
    "word = 'robert hsu'\n",
    "{letter:word.count(letter) for letter in word}"
   ]
  },
  {
   "cell_type": "code",
   "execution_count": 16,
   "id": "assured-surgery",
   "metadata": {},
   "outputs": [
    {
     "data": {
      "text/plain": [
       "{1, 4}"
      ]
     },
     "execution_count": 16,
     "metadata": {},
     "output_type": "execute_result"
    }
   ],
   "source": [
    "{number for number in range(1,6) if number % 3 == 1}"
   ]
  },
  {
   "cell_type": "code",
   "execution_count": 20,
   "id": "continuing-closure",
   "metadata": {},
   "outputs": [
    {
     "data": {
      "text/plain": [
       "range(0, 1000000000000000000000000000)"
      ]
     },
     "execution_count": 20,
     "metadata": {},
     "output_type": "execute_result"
    }
   ],
   "source": [
    "range(1000000000000000000000000000)"
   ]
  },
  {
   "cell_type": "code",
   "execution_count": 21,
   "id": "quarterly-zealand",
   "metadata": {},
   "outputs": [
    {
     "data": {
      "text/plain": [
       "generator"
      ]
     },
     "execution_count": 21,
     "metadata": {},
     "output_type": "execute_result"
    }
   ],
   "source": [
    "number_thing=(number for number in range(1,6))\n",
    "number_thing.__class__"
   ]
  },
  {
   "cell_type": "code",
   "execution_count": 22,
   "id": "elder-theta",
   "metadata": {},
   "outputs": [
    {
     "name": "stdout",
     "output_type": "stream",
     "text": [
      "1\n",
      "2\n",
      "3\n",
      "4\n",
      "5\n"
     ]
    }
   ],
   "source": [
    "for number in number_thing:\n",
    "    print(number)"
   ]
  },
  {
   "cell_type": "code",
   "execution_count": 24,
   "id": "further-tamil",
   "metadata": {},
   "outputs": [],
   "source": [
    "for number in number_thing:\n",
    "    print(number)"
   ]
  },
  {
   "cell_type": "code",
   "execution_count": null,
   "id": "separated-occasions",
   "metadata": {},
   "outputs": [],
   "source": []
  }
 ],
 "metadata": {
  "kernelspec": {
   "display_name": "Python 3",
   "language": "python",
   "name": "python3"
  },
  "language_info": {
   "codemirror_mode": {
    "name": "ipython",
    "version": 3
   },
   "file_extension": ".py",
   "mimetype": "text/x-python",
   "name": "python",
   "nbconvert_exporter": "python",
   "pygments_lexer": "ipython3",
   "version": "3.8.7"
  }
 },
 "nbformat": 4,
 "nbformat_minor": 5
}
