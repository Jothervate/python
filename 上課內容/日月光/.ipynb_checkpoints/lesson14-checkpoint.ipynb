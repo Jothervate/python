{
 "cells": [
  {
   "cell_type": "code",
   "execution_count": 2,
   "id": "recovered-dietary",
   "metadata": {},
   "outputs": [
    {
     "name": "stdout",
     "output_type": "stream",
     "text": [
      "呼叫函式\n"
     ]
    }
   ],
   "source": [
    "#沒有參數,沒有傳出值\n",
    "def func_sum():\n",
    "    print('呼叫函式')\n",
    "    \n",
    "\n",
    "func_sum()\n"
   ]
  },
  {
   "cell_type": "code",
   "execution_count": 7,
   "id": "agreed-flood",
   "metadata": {},
   "outputs": [],
   "source": [
    "def do_nothing():\n",
    "    pass\n",
    "\n",
    "do_nothing()"
   ]
  },
  {
   "cell_type": "code",
   "execution_count": 8,
   "id": "earned-latino",
   "metadata": {},
   "outputs": [
    {
     "name": "stdout",
     "output_type": "stream",
     "text": [
      "1356\n"
     ]
    }
   ],
   "source": [
    "#有參數沒有傳出值\n",
    "def func_sum(a,b):\n",
    "    c = a + b\n",
    "    print(c)\n",
    "    \n",
    "func_sum(567,789)"
   ]
  },
  {
   "cell_type": "code",
   "execution_count": 11,
   "id": "silent-smith",
   "metadata": {},
   "outputs": [
    {
     "data": {
      "text/plain": [
       "1356"
      ]
     },
     "execution_count": 11,
     "metadata": {},
     "output_type": "execute_result"
    }
   ],
   "source": [
    "#有參數有傳出值\n",
    "def func_sum(a,b):\n",
    "    c = a + b\n",
    "    return c\n",
    "    \n",
    "sum = func_sum(567,789)\n",
    "sum"
   ]
  },
  {
   "cell_type": "code",
   "execution_count": 18,
   "id": "periodic-emperor",
   "metadata": {},
   "outputs": [],
   "source": [
    "import random\n",
    "\n",
    "def lot(num):\n",
    "    lot = set()\n",
    "    while(len(lot) <= num-1):\n",
    "        lot.add(random.randint(1, 49))\n",
    "    print('本期大樂透電腦選號號碼如下:')\n",
    "    lotList = list(lot)\n",
    "    specialNum = lotList.pop()\n",
    "    for item in lotList:\n",
    "        print(item, end=' ')\n",
    "\n",
    "    print(f'特別號:{specialNum}')\n"
   ]
  },
  {
   "cell_type": "code",
   "execution_count": 20,
   "id": "considerable-palmer",
   "metadata": {},
   "outputs": [
    {
     "name": "stdout",
     "output_type": "stream",
     "text": [
      "本期大樂透電腦選號號碼如下:\n",
      "1 36 11 16 18 19 22 特別號:29\n"
     ]
    }
   ],
   "source": [
    "lot(8)"
   ]
  },
  {
   "cell_type": "code",
   "execution_count": 21,
   "id": "sunrise-japan",
   "metadata": {},
   "outputs": [
    {
     "name": "stdout",
     "output_type": "stream",
     "text": [
      "本期大樂透電腦選號號碼如下:\n",
      "35 3 6 39 12 45 15 20 27 特別號:29\n"
     ]
    }
   ],
   "source": [
    "lot(10)"
   ]
  },
  {
   "cell_type": "code",
   "execution_count": 24,
   "id": "general-exemption",
   "metadata": {},
   "outputs": [],
   "source": [
    "import random\n",
    "\n",
    "def lot(num):\n",
    "    lot = set()\n",
    "    while(len(lot) <= num-1):\n",
    "        lot.add(random.randint(1, 49))\n",
    "    lotList = list(lot)\n",
    "    specialNum = lotList.pop()    \n",
    "    return lotList,specialNum\n"
   ]
  },
  {
   "cell_type": "code",
   "execution_count": 25,
   "id": "optional-newfoundland",
   "metadata": {},
   "outputs": [
    {
     "name": "stdout",
     "output_type": "stream",
     "text": [
      "本期大樂透電腦選號號碼如下:\n",
      "3 43 14 48 49 22 25 特別號:30\n"
     ]
    }
   ],
   "source": [
    "lotNumbers, specialNum = lot(8)\n",
    "\n",
    "print(\"本期大樂透電腦選號號碼如下:\")\n",
    "for num in lotNumbers:\n",
    "    print(num, end=' ')\n",
    "print(f\"特別號:{specialNum}\")"
   ]
  },
  {
   "cell_type": "code",
   "execution_count": 26,
   "id": "southwest-radiation",
   "metadata": {},
   "outputs": [],
   "source": [
    "import random\n",
    "\n",
    "def lot(num):\n",
    "    lot = set()\n",
    "    while(len(lot) <= num-1):\n",
    "        lot.add(random.randint(1, 49))\n",
    "    print('本期大樂透電腦選號號碼如下:')\n",
    "    lotList = list(lot)\n",
    "    specialNum = lotList.pop()\n",
    "    for item in lotList:\n",
    "        print(item, end=' ')\n",
    "\n",
    "    print(f'特別號:{specialNum}')\n",
    "\n"
   ]
  },
  {
   "cell_type": "code",
   "execution_count": 31,
   "id": "relative-transcript",
   "metadata": {},
   "outputs": [
    {
     "name": "stdout",
     "output_type": "stream",
     "text": [
      "要幾組:3\n",
      "本期大樂透電腦選號號碼如下:\n",
      "32 33 4 41 42 49 21 特別號:22\n",
      "本期大樂透電腦選號號碼如下:\n",
      "2 4 6 8 11 45 19 特別號:20\n",
      "本期大樂透電腦選號號碼如下:\n",
      "1 3 36 38 7 14 15 特別號:21\n"
     ]
    }
   ],
   "source": [
    "sets = int(input('要幾組:'))\n",
    "for _ in range(sets):\n",
    "    lot(8)"
   ]
  },
  {
   "cell_type": "code",
   "execution_count": 33,
   "id": "certain-satisfaction",
   "metadata": {},
   "outputs": [],
   "source": [
    "def temperature(value):\n",
    "    return 1.8 * value + 32"
   ]
  },
  {
   "cell_type": "code",
   "execution_count": 34,
   "id": "alternative-moisture",
   "metadata": {},
   "outputs": [
    {
     "name": "stdout",
     "output_type": "stream",
     "text": [
      "請輸入攝氏溫度:18\n",
      "華氏溫度= 64.4\n",
      "程式還要繼續嗎?(輸入N...結束):a\n",
      "請輸入攝氏溫度:38\n",
      "華氏溫度= 100.4\n",
      "程式還要繼續嗎?(輸入N...結束):n\n",
      "程式結束\n"
     ]
    }
   ],
   "source": [
    "runAgain = True\n",
    "while(runAgain):\n",
    "    value = int(input('請輸入攝氏溫度:'))\n",
    "    result = temperature(value)\n",
    "    print('華氏溫度=', result)\n",
    "    inputValue = input('程式還要繼續嗎?(輸入N...結束):')\n",
    "    if inputValue.lower() == 'n':\n",
    "        runAgain = False\n",
    "print(\"程式結束\")"
   ]
  },
  {
   "cell_type": "code",
   "execution_count": null,
   "id": "auburn-father",
   "metadata": {},
   "outputs": [],
   "source": []
  },
  {
   "cell_type": "code",
   "execution_count": null,
   "id": "atmospheric-alabama",
   "metadata": {},
   "outputs": [],
   "source": []
  },
  {
   "cell_type": "code",
   "execution_count": null,
   "id": "brazilian-rogers",
   "metadata": {},
   "outputs": [],
   "source": []
  },
  {
   "cell_type": "code",
   "execution_count": null,
   "id": "public-johnson",
   "metadata": {},
   "outputs": [],
   "source": []
  }
 ],
 "metadata": {
  "kernelspec": {
   "display_name": "Python 3",
   "language": "python",
   "name": "python3"
  },
  "language_info": {
   "codemirror_mode": {
    "name": "ipython",
    "version": 3
   },
   "file_extension": ".py",
   "mimetype": "text/x-python",
   "name": "python",
   "nbconvert_exporter": "python",
   "pygments_lexer": "ipython3",
   "version": "3.8.7"
  }
 },
 "nbformat": 4,
 "nbformat_minor": 5
}
