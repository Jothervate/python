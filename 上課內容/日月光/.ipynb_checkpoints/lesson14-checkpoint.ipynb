{
 "cells": [
  {
   "cell_type": "code",
   "execution_count": 2,
   "id": "outstanding-frequency",
   "metadata": {},
   "outputs": [
    {
     "name": "stdout",
     "output_type": "stream",
     "text": [
      "呼叫函式\n"
     ]
    }
   ],
   "source": [
    "#沒有參數,沒有傳出值\n",
    "def func_sum():\n",
    "    print('呼叫函式')\n",
    "    \n",
    "\n",
    "func_sum()\n"
   ]
  },
  {
   "cell_type": "code",
   "execution_count": 7,
   "id": "settled-knife",
   "metadata": {},
   "outputs": [],
   "source": [
    "def do_nothing():\n",
    "    pass\n",
    "\n",
    "do_nothing()"
   ]
  },
  {
   "cell_type": "code",
   "execution_count": 8,
   "id": "patient-morrison",
   "metadata": {},
   "outputs": [
    {
     "name": "stdout",
     "output_type": "stream",
     "text": [
      "1356\n"
     ]
    }
   ],
   "source": [
    "#有參數沒有傳出值\n",
    "def func_sum(a,b):\n",
    "    c = a + b\n",
    "    print(c)\n",
    "    \n",
    "func_sum(567,789)"
   ]
  },
  {
   "cell_type": "code",
   "execution_count": 11,
   "id": "capable-miniature",
   "metadata": {},
   "outputs": [
    {
     "data": {
      "text/plain": [
       "1356"
      ]
     },
     "execution_count": 11,
     "metadata": {},
     "output_type": "execute_result"
    }
   ],
   "source": [
    "#有參數有傳出值\n",
    "def func_sum(a,b):\n",
    "    c = a + b\n",
    "    return c\n",
    "    \n",
    "sum = func_sum(567,789)\n",
    "sum"
   ]
  },
  {
   "cell_type": "code",
   "execution_count": 16,
   "id": "adjustable-intranet",
   "metadata": {},
   "outputs": [],
   "source": [
    "import random\n",
    "\n",
    "def lot():\n",
    "    lot = set()\n",
    "    while(len(lot) <= 7):\n",
    "        lot.add(random.randint(1, 49))\n",
    "    print('本期大樂透電腦選號號碼如下:')\n",
    "    lotList = list(lot)\n",
    "    specialNum = lotList.pop()\n",
    "    for item in lotList:\n",
    "        print(item, end=' ')\n",
    "\n",
    "    print(f'特別號:{specialNum}')\n"
   ]
  },
  {
   "cell_type": "code",
   "execution_count": 17,
   "id": "pending-hampshire",
   "metadata": {},
   "outputs": [
    {
     "name": "stdout",
     "output_type": "stream",
     "text": [
      "本期大樂透電腦選號號碼如下:\n",
      "34 39 41 43 12 23 30 特別號:31\n"
     ]
    }
   ],
   "source": [
    "lot()"
   ]
  },
  {
   "cell_type": "code",
   "execution_count": null,
   "id": "organic-shareware",
   "metadata": {},
   "outputs": [],
   "source": []
  },
  {
   "cell_type": "code",
   "execution_count": null,
   "id": "interracial-purpose",
   "metadata": {},
   "outputs": [],
   "source": []
  },
  {
   "cell_type": "code",
   "execution_count": null,
   "id": "bright-specific",
   "metadata": {},
   "outputs": [],
   "source": []
  },
  {
   "cell_type": "code",
   "execution_count": null,
   "id": "metric-louisville",
   "metadata": {},
   "outputs": [],
   "source": []
  },
  {
   "cell_type": "code",
   "execution_count": null,
   "id": "hungarian-figure",
   "metadata": {},
   "outputs": [],
   "source": []
  }
 ],
 "metadata": {
  "kernelspec": {
   "display_name": "Python 3",
   "language": "python",
   "name": "python3"
  },
  "language_info": {
   "codemirror_mode": {
    "name": "ipython",
    "version": 3
   },
   "file_extension": ".py",
   "mimetype": "text/x-python",
   "name": "python",
   "nbconvert_exporter": "python",
   "pygments_lexer": "ipython3",
   "version": "3.8.7"
  }
 },
 "nbformat": 4,
 "nbformat_minor": 5
}
