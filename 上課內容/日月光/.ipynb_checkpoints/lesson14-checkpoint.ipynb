{
 "cells": [
  {
   "cell_type": "code",
   "execution_count": 2,
   "id": "black-castle",
   "metadata": {},
   "outputs": [
    {
     "name": "stdout",
     "output_type": "stream",
     "text": [
      "呼叫函式\n"
     ]
    }
   ],
   "source": [
    "#沒有參數,沒有傳出值\n",
    "def func_sum():\n",
    "    print('呼叫函式')\n",
    "    \n",
    "\n",
    "func_sum()\n"
   ]
  },
  {
   "cell_type": "code",
   "execution_count": 7,
   "id": "ecological-australia",
   "metadata": {},
   "outputs": [],
   "source": [
    "def do_nothing():\n",
    "    pass\n",
    "\n",
    "do_nothing()"
   ]
  },
  {
   "cell_type": "code",
   "execution_count": 8,
   "id": "spoken-subscriber",
   "metadata": {},
   "outputs": [
    {
     "name": "stdout",
     "output_type": "stream",
     "text": [
      "1356\n"
     ]
    }
   ],
   "source": [
    "#有參數沒有傳出值\n",
    "def func_sum(a,b):\n",
    "    c = a + b\n",
    "    print(c)\n",
    "    \n",
    "func_sum(567,789)"
   ]
  },
  {
   "cell_type": "code",
   "execution_count": 11,
   "id": "danish-thirty",
   "metadata": {},
   "outputs": [
    {
     "data": {
      "text/plain": [
       "1356"
      ]
     },
     "execution_count": 11,
     "metadata": {},
     "output_type": "execute_result"
    }
   ],
   "source": [
    "#有參數有傳出值\n",
    "def func_sum(a,b):\n",
    "    c = a + b\n",
    "    return c\n",
    "    \n",
    "sum = func_sum(567,789)\n",
    "sum"
   ]
  },
  {
   "cell_type": "code",
   "execution_count": 18,
   "id": "intelligent-silly",
   "metadata": {},
   "outputs": [],
   "source": [
    "import random\n",
    "\n",
    "def lot(num):\n",
    "    lot = set()\n",
    "    while(len(lot) <= num-1):\n",
    "        lot.add(random.randint(1, 49))\n",
    "    print('本期大樂透電腦選號號碼如下:')\n",
    "    lotList = list(lot)\n",
    "    specialNum = lotList.pop()\n",
    "    for item in lotList:\n",
    "        print(item, end=' ')\n",
    "\n",
    "    print(f'特別號:{specialNum}')\n"
   ]
  },
  {
   "cell_type": "code",
   "execution_count": 20,
   "id": "remarkable-assist",
   "metadata": {},
   "outputs": [
    {
     "name": "stdout",
     "output_type": "stream",
     "text": [
      "本期大樂透電腦選號號碼如下:\n",
      "1 36 11 16 18 19 22 特別號:29\n"
     ]
    }
   ],
   "source": [
    "lot(8)"
   ]
  },
  {
   "cell_type": "code",
   "execution_count": 21,
   "id": "horizontal-franklin",
   "metadata": {},
   "outputs": [
    {
     "name": "stdout",
     "output_type": "stream",
     "text": [
      "本期大樂透電腦選號號碼如下:\n",
      "35 3 6 39 12 45 15 20 27 特別號:29\n"
     ]
    }
   ],
   "source": [
    "lot(10)"
   ]
  },
  {
   "cell_type": "code",
   "execution_count": 24,
   "id": "sticky-lingerie",
   "metadata": {},
   "outputs": [],
   "source": [
    "import random\n",
    "\n",
    "def lot(num):\n",
    "    lot = set()\n",
    "    while(len(lot) <= num-1):\n",
    "        lot.add(random.randint(1, 49))\n",
    "    lotList = list(lot)\n",
    "    specialNum = lotList.pop()    \n",
    "    return lotList,specialNum\n"
   ]
  },
  {
   "cell_type": "code",
   "execution_count": 25,
   "id": "african-ottawa",
   "metadata": {},
   "outputs": [
    {
     "name": "stdout",
     "output_type": "stream",
     "text": [
      "本期大樂透電腦選號號碼如下:\n",
      "3 43 14 48 49 22 25 特別號:30\n"
     ]
    }
   ],
   "source": [
    "lotNumbers, specialNum = lot(8)\n",
    "\n",
    "print(\"本期大樂透電腦選號號碼如下:\")\n",
    "for num in lotNumbers:\n",
    "    print(num, end=' ')\n",
    "print(f\"特別號:{specialNum}\")"
   ]
  },
  {
   "cell_type": "code",
   "execution_count": null,
   "id": "german-hollywood",
   "metadata": {},
   "outputs": [],
   "source": []
  },
  {
   "cell_type": "code",
   "execution_count": null,
   "id": "usual-issue",
   "metadata": {},
   "outputs": [],
   "source": []
  }
 ],
 "metadata": {
  "kernelspec": {
   "display_name": "Python 3",
   "language": "python",
   "name": "python3"
  },
  "language_info": {
   "codemirror_mode": {
    "name": "ipython",
    "version": 3
   },
   "file_extension": ".py",
   "mimetype": "text/x-python",
   "name": "python",
   "nbconvert_exporter": "python",
   "pygments_lexer": "ipython3",
   "version": "3.8.7"
  }
 },
 "nbformat": 4,
 "nbformat_minor": 5
}
