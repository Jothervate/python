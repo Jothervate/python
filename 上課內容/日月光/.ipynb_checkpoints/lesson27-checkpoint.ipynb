{
 "cells": [
  {
   "cell_type": "code",
   "execution_count": 2,
   "id": "honey-charge",
   "metadata": {},
   "outputs": [
    {
     "name": "stdout",
     "output_type": "stream",
     "text": [
      "傳送成功\n"
     ]
    }
   ],
   "source": [
    "import lineTool\n",
    "token = \"KDkQLircjHImzJKTPcXKChQo0LlC5W1s3UVl9V3R9K6\"\n",
    "message = \"python 語言整合通訊軟體11111\"\n",
    "response = lineTool.lineNotify(token, message)\n",
    "if response == 200:\n",
    "    print(\"傳送成功\")\n",
    "else:\n",
    "    print(\"傳送失敗\")"
   ]
  },
  {
   "cell_type": "code",
   "execution_count": null,
   "id": "forced-farmer",
   "metadata": {},
   "outputs": [],
   "source": []
  }
 ],
 "metadata": {
  "kernelspec": {
   "display_name": "Python 3",
   "language": "python",
   "name": "python3"
  },
  "language_info": {
   "codemirror_mode": {
    "name": "ipython",
    "version": 3
   },
   "file_extension": ".py",
   "mimetype": "text/x-python",
   "name": "python",
   "nbconvert_exporter": "python",
   "pygments_lexer": "ipython3",
   "version": "3.8.7"
  }
 },
 "nbformat": 4,
 "nbformat_minor": 5
}
