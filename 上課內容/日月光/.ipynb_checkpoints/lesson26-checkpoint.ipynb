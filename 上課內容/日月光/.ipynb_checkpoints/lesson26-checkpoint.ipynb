{
 "cells": [
  {
   "cell_type": "code",
   "execution_count": 3,
   "id": "quantitative-stopping",
   "metadata": {},
   "outputs": [
    {
     "data": {
      "text/plain": [
       "'1970-03-01'"
      ]
     },
     "execution_count": 3,
     "metadata": {},
     "output_type": "execute_result"
    }
   ],
   "source": [
    "from datetime import date\n",
    "birthday = date(1970,3,1)\n",
    "birthday.isoformat()"
   ]
  },
  {
   "cell_type": "code",
   "execution_count": 5,
   "id": "finite-today",
   "metadata": {},
   "outputs": [
    {
     "name": "stdout",
     "output_type": "stream",
     "text": [
      "1970\n",
      "3\n",
      "1\n",
      "西元1970,3月,1日\n"
     ]
    }
   ],
   "source": [
    "print(birthday.year)\n",
    "print(birthday.month)\n",
    "print(birthday.day)\n",
    "print(f'西元{birthday.year},{birthday.month}月,{birthday.day}日')"
   ]
  },
  {
   "cell_type": "code",
   "execution_count": 6,
   "id": "serious-municipality",
   "metadata": {},
   "outputs": [
    {
     "name": "stdout",
     "output_type": "stream",
     "text": [
      "2021-04-14\n",
      "2021\n",
      "4\n",
      "14\n",
      "西元2021,4月,14日\n"
     ]
    }
   ],
   "source": [
    "today = date.today()\n",
    "print(today.isoformat())\n",
    "print(today.year)\n",
    "print(today.month)\n",
    "print(today.day)\n",
    "print(f'西元{today.year},{today.month}月,{today.day}日')"
   ]
  },
  {
   "cell_type": "code",
   "execution_count": 9,
   "id": "atmospheric-philadelphia",
   "metadata": {},
   "outputs": [
    {
     "data": {
      "text/plain": [
       "datetime.date(2021, 4, 15)"
      ]
     },
     "execution_count": 9,
     "metadata": {},
     "output_type": "execute_result"
    }
   ],
   "source": [
    "from datetime import date\n",
    "from datetime import timedelta\n",
    "now = date.today()\n",
    "one_day = timedelta(days=1)\n",
    "tomorrow = now + one_day\n",
    "tomorrow"
   ]
  },
  {
   "cell_type": "code",
   "execution_count": 10,
   "id": "ancient-assets",
   "metadata": {},
   "outputs": [
    {
     "data": {
      "text/plain": [
       "datetime.date(2021, 4, 13)"
      ]
     },
     "execution_count": 10,
     "metadata": {},
     "output_type": "execute_result"
    }
   ],
   "source": [
    "yesterday=now - one_day\n",
    "yesterday"
   ]
  },
  {
   "cell_type": "code",
   "execution_count": 12,
   "id": "functional-architecture",
   "metadata": {},
   "outputs": [],
   "source": [
    "from datetime import time\n",
    "noon = time(hour=12)"
   ]
  },
  {
   "cell_type": "code",
   "execution_count": 13,
   "id": "weekly-bacteria",
   "metadata": {},
   "outputs": [
    {
     "data": {
      "text/plain": [
       "12"
      ]
     },
     "execution_count": 13,
     "metadata": {},
     "output_type": "execute_result"
    }
   ],
   "source": [
    "noon.hour"
   ]
  },
  {
   "cell_type": "code",
   "execution_count": 14,
   "id": "conscious-myrtle",
   "metadata": {},
   "outputs": [
    {
     "data": {
      "text/plain": [
       "0"
      ]
     },
     "execution_count": 14,
     "metadata": {},
     "output_type": "execute_result"
    }
   ],
   "source": [
    "noon.minute\n"
   ]
  },
  {
   "cell_type": "code",
   "execution_count": 15,
   "id": "dressed-representative",
   "metadata": {},
   "outputs": [
    {
     "data": {
      "text/plain": [
       "0"
      ]
     },
     "execution_count": 15,
     "metadata": {},
     "output_type": "execute_result"
    }
   ],
   "source": [
    "noon.second"
   ]
  },
  {
   "cell_type": "code",
   "execution_count": 16,
   "id": "metric-presentation",
   "metadata": {},
   "outputs": [
    {
     "data": {
      "text/plain": [
       "0"
      ]
     },
     "execution_count": 16,
     "metadata": {},
     "output_type": "execute_result"
    }
   ],
   "source": [
    "noon.microsecond"
   ]
  },
  {
   "cell_type": "code",
   "execution_count": 20,
   "id": "august-relationship",
   "metadata": {},
   "outputs": [
    {
     "name": "stdout",
     "output_type": "stream",
     "text": [
      "2021\n",
      "1\n",
      "2\n",
      "3\n",
      "4\n",
      "5\n"
     ]
    }
   ],
   "source": [
    "from datetime import datetime\n",
    "some_day = datetime(2021,1,2,3,4,5,6)\n",
    "some_day\n",
    "print(some_day.year)\n",
    "print(some_day.month)\n",
    "print(some_day.day)\n",
    "print(some_day.hour)\n",
    "print(some_day.minute)\n",
    "print(some_day.second)"
   ]
  },
  {
   "cell_type": "code",
   "execution_count": 23,
   "id": "beginning-bedroom",
   "metadata": {},
   "outputs": [
    {
     "name": "stdout",
     "output_type": "stream",
     "text": [
      "2021\n",
      "4\n",
      "14\n",
      "16\n",
      "46\n",
      "55\n"
     ]
    }
   ],
   "source": [
    "from datetime import datetime\n",
    "now = datetime.now()\n",
    "now\n",
    "print(now.year)\n",
    "print(now.month)\n",
    "print(now.day)\n",
    "print(now.hour)\n",
    "print(now.minute)\n",
    "print(now.second)"
   ]
  },
  {
   "cell_type": "code",
   "execution_count": null,
   "id": "divine-material",
   "metadata": {},
   "outputs": [],
   "source": [
    "interval = timedelta(days=1, hours=1, minutes=10)"
   ]
  },
  {
   "cell_type": "code",
   "execution_count": null,
   "id": "adjustable-houston",
   "metadata": {},
   "outputs": [],
   "source": []
  },
  {
   "cell_type": "code",
   "execution_count": null,
   "id": "understanding-restriction",
   "metadata": {},
   "outputs": [],
   "source": []
  },
  {
   "cell_type": "code",
   "execution_count": null,
   "id": "weighted-quest",
   "metadata": {},
   "outputs": [],
   "source": []
  },
  {
   "cell_type": "code",
   "execution_count": null,
   "id": "reverse-ministry",
   "metadata": {},
   "outputs": [],
   "source": []
  }
 ],
 "metadata": {
  "kernelspec": {
   "display_name": "Python 3",
   "language": "python",
   "name": "python3"
  },
  "language_info": {
   "codemirror_mode": {
    "name": "ipython",
    "version": 3
   },
   "file_extension": ".py",
   "mimetype": "text/x-python",
   "name": "python",
   "nbconvert_exporter": "python",
   "pygments_lexer": "ipython3",
   "version": "3.8.7"
  }
 },
 "nbformat": 4,
 "nbformat_minor": 5
}
