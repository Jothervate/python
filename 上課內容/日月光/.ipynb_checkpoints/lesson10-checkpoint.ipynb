{
 "cells": [
  {
   "cell_type": "code",
   "execution_count": 1,
   "id": "turkish-paint",
   "metadata": {},
   "outputs": [
    {
     "name": "stdout",
     "output_type": "stream",
     "text": [
      "H\n",
      "e\n",
      "l\n",
      "l\n",
      "o\n",
      "!\n",
      "P\n",
      "y\n",
      "t\n",
      "h\n",
      "o\n",
      "n\n"
     ]
    }
   ],
   "source": [
    "str1 = \"Hello!Python\"\n",
    "for word in str1:\n",
    "    print(word)"
   ]
  },
  {
   "cell_type": "code",
   "execution_count": 2,
   "id": "conceptual-acquisition",
   "metadata": {},
   "outputs": [
    {
     "name": "stdout",
     "output_type": "stream",
     "text": [
      "<class 'list'>\n"
     ]
    }
   ],
   "source": [
    "emptyList = list()\n",
    "print(emptyList.__class__)"
   ]
  },
  {
   "cell_type": "code",
   "execution_count": 3,
   "id": "south-ecology",
   "metadata": {},
   "outputs": [
    {
     "data": {
      "text/plain": [
       "['c', 'a', 't']"
      ]
     },
     "execution_count": 3,
     "metadata": {},
     "output_type": "execute_result"
    }
   ],
   "source": [
    "list('cat')"
   ]
  },
  {
   "cell_type": "code",
   "execution_count": null,
   "id": "adjusted-establishment",
   "metadata": {},
   "outputs": [],
   "source": [
    "list(range(10000))"
   ]
  },
  {
   "cell_type": "code",
   "execution_count": 5,
   "id": "associate-diesel",
   "metadata": {},
   "outputs": [
    {
     "data": {
      "text/plain": [
       "['1', '6', '1980']"
      ]
     },
     "execution_count": 5,
     "metadata": {},
     "output_type": "execute_result"
    }
   ],
   "source": [
    "birthday = '1/6/1980'\n",
    "birthday.split('/')"
   ]
  },
  {
   "cell_type": "code",
   "execution_count": 9,
   "id": "collect-circulation",
   "metadata": {},
   "outputs": [
    {
     "data": {
      "text/plain": [
       "['1980']"
      ]
     },
     "execution_count": 9,
     "metadata": {},
     "output_type": "execute_result"
    }
   ],
   "source": [
    "import re\n",
    "birthdayList=re.split('/',birthday)\n",
    "birthdayList[len(birthdayList)-1]\n",
    "birthdayList[-1:]"
   ]
  },
  {
   "cell_type": "code",
   "execution_count": 11,
   "id": "suffering-sociology",
   "metadata": {},
   "outputs": [
    {
     "name": "stdout",
     "output_type": "stream",
     "text": [
      "不可預期的錯誤\n"
     ]
    }
   ],
   "source": [
    "citys = ['台北', '台中', '高雄']\n",
    "try:\n",
    "    citys[3]\n",
    "except:\n",
    "    print(\"不可預期的錯誤\")"
   ]
  },
  {
   "cell_type": "code",
   "execution_count": 16,
   "id": "virgin-adaptation",
   "metadata": {},
   "outputs": [
    {
     "name": "stdout",
     "output_type": "stream",
     "text": [
      "['H', 'i']\n",
      "('H', 'i')\n",
      "H\n",
      "H\n"
     ]
    }
   ],
   "source": [
    "#list,tuple\n",
    "list1 = ['H','i']\n",
    "tuple1 = ('H', 'i')\n",
    "print(list1)\n",
    "print(tuple1)\n",
    "print(list1[0])\n",
    "print(tuple1[0])\n",
    "list1[0] = 'P'\n",
    "#tuple1[0] = 'P'"
   ]
  },
  {
   "cell_type": "code",
   "execution_count": 18,
   "id": "preliminary-senior",
   "metadata": {},
   "outputs": [
    {
     "name": "stdout",
     "output_type": "stream",
     "text": [
      "H\n",
      "i\n"
     ]
    }
   ],
   "source": [
    "(first, second) = tuple1\n",
    "print(first)\n",
    "print(second)"
   ]
  },
  {
   "cell_type": "code",
   "execution_count": 19,
   "id": "induced-button",
   "metadata": {},
   "outputs": [
    {
     "data": {
      "text/plain": [
       "[['筆記電腦', '商用筆電'], ['APPLE', 'ASUS', 'HTC'], [3, '冰箱', 2, '洗衣機']]"
      ]
     },
     "execution_count": 19,
     "metadata": {},
     "output_type": "execute_result"
    }
   ],
   "source": [
    "#2維list\n",
    "nb = ['筆記電腦', '商用筆電']\n",
    "mobile = ['APPLE', 'ASUS', 'HTC'] \n",
    "home = [3, '冰箱', 2, '洗衣機']\n",
    "\n",
    "all3c = [nb, mobile, home]\n",
    "all3c"
   ]
  },
  {
   "cell_type": "code",
   "execution_count": 20,
   "id": "attempted-wallpaper",
   "metadata": {},
   "outputs": [
    {
     "data": {
      "text/plain": [
       "'筆記電腦'"
      ]
     },
     "execution_count": 20,
     "metadata": {},
     "output_type": "execute_result"
    }
   ],
   "source": [
    "all3c[0][0]"
   ]
  },
  {
   "cell_type": "code",
   "execution_count": 21,
   "id": "coordinated-heating",
   "metadata": {},
   "outputs": [
    {
     "data": {
      "text/plain": [
       "'商用筆電'"
      ]
     },
     "execution_count": 21,
     "metadata": {},
     "output_type": "execute_result"
    }
   ],
   "source": [
    "all3c[0][1]"
   ]
  },
  {
   "cell_type": "code",
   "execution_count": 22,
   "id": "attended-claim",
   "metadata": {},
   "outputs": [
    {
     "name": "stdout",
     "output_type": "stream",
     "text": [
      "筆記電腦\n",
      "商用筆電\n",
      "APPLE\n",
      "ASUS\n",
      "HTC\n",
      "3\n",
      "冰箱\n",
      "2\n",
      "洗衣機\n"
     ]
    }
   ],
   "source": [
    "for items in all3c:\n",
    "    for item in items:\n",
    "        print(item)"
   ]
  },
  {
   "cell_type": "code",
   "execution_count": 28,
   "id": "average-oasis",
   "metadata": {},
   "outputs": [
    {
     "data": {
      "text/plain": [
       "[70, 83, 97]"
      ]
     },
     "execution_count": 28,
     "metadata": {},
     "output_type": "execute_result"
    }
   ],
   "source": [
    "scores = [65, 78, 92]\n",
    "newScores = []\n",
    "for score in scores:\n",
    "    newScores.append(score+5)\n",
    "\n",
    "scores = newScores\n",
    "scores"
   ]
  },
  {
   "cell_type": "code",
   "execution_count": 29,
   "id": "impossible-atmosphere",
   "metadata": {},
   "outputs": [
    {
     "data": {
      "text/plain": [
       "[70, 83, 97]"
      ]
     },
     "execution_count": 29,
     "metadata": {},
     "output_type": "execute_result"
    }
   ],
   "source": [
    "scores = [65, 78, 92]\n",
    "for i in range(len(scores)):\n",
    "    scores[i] += 5\n",
    "scores"
   ]
  },
  {
   "cell_type": "code",
   "execution_count": 35,
   "id": "future-message",
   "metadata": {},
   "outputs": [
    {
     "data": {
      "text/plain": [
       "array([70, 83, 97])"
      ]
     },
     "execution_count": 35,
     "metadata": {},
     "output_type": "execute_result"
    }
   ],
   "source": [
    "import numpy as np\n",
    "scores = [65, 78, 92]\n",
    "scoresNp = np.array(scores)\n",
    "scoresNp += 5\n",
    "scoresNp"
   ]
  },
  {
   "cell_type": "code",
   "execution_count": 36,
   "id": "artificial-florence",
   "metadata": {},
   "outputs": [
    {
     "data": {
      "text/plain": [
       "[[65, 70, 82, 80, 65],\n",
       " [64, 66, 96, 97, 77],\n",
       " [76, 66, 59, 59, 95],\n",
       " [97, 71, 84, 58, 82],\n",
       " [90, 95, 55, 99, 59],\n",
       " [80, 61, 99, 92, 52],\n",
       " [96, 64, 97, 72, 71],\n",
       " [62, 51, 67, 56, 70],\n",
       " [75, 61, 67, 54, 51],\n",
       " [85, 73, 60, 57, 86],\n",
       " [83, 69, 79, 64, 78],\n",
       " [80, 76, 97, 90, 62],\n",
       " [65, 95, 78, 57, 68],\n",
       " [99, 79, 83, 58, 100],\n",
       " [50, 78, 76, 73, 94],\n",
       " [73, 67, 67, 64, 52],\n",
       " [62, 65, 80, 95, 84],\n",
       " [60, 78, 55, 81, 63],\n",
       " [50, 63, 86, 97, 68],\n",
       " [96, 100, 87, 63, 60],\n",
       " [80, 85, 76, 60, 68],\n",
       " [84, 100, 100, 73, 63],\n",
       " [67, 97, 95, 73, 91],\n",
       " [83, 58, 84, 95, 56],\n",
       " [59, 66, 98, 76, 82],\n",
       " [64, 57, 83, 92, 50],\n",
       " [50, 86, 54, 52, 72],\n",
       " [62, 61, 81, 57, 55],\n",
       " [79, 100, 89, 98, 95],\n",
       " [74, 63, 72, 80, 76],\n",
       " [96, 58, 85, 69, 50],\n",
       " [62, 65, 73, 55, 72],\n",
       " [87, 55, 71, 68, 84],\n",
       " [65, 59, 90, 87, 56],\n",
       " [95, 53, 86, 71, 70],\n",
       " [99, 89, 87, 90, 50],\n",
       " [100, 84, 67, 57, 83],\n",
       " [85, 59, 62, 73, 82],\n",
       " [54, 91, 56, 75, 57],\n",
       " [60, 77, 72, 90, 53],\n",
       " [64, 98, 94, 88, 69],\n",
       " [87, 89, 70, 59, 71],\n",
       " [77, 65, 97, 61, 71],\n",
       " [65, 69, 80, 73, 66],\n",
       " [87, 68, 80, 59, 59],\n",
       " [96, 85, 70, 66, 90],\n",
       " [91, 72, 59, 50, 76],\n",
       " [90, 94, 89, 84, 55],\n",
       " [92, 70, 65, 75, 73],\n",
       " [75, 59, 71, 66, 66]]"
      ]
     },
     "execution_count": 36,
     "metadata": {},
     "output_type": "execute_result"
    }
   ],
   "source": [
    "import random\n",
    "\n",
    "students = []\n",
    "for _ in range(50):\n",
    "    scores = []\n",
    "    for _ in range(5):\n",
    "        scores += [random.randint(50,100)]\n",
    "    students.append(scores)\n",
    "students"
   ]
  },
  {
   "cell_type": "code",
   "execution_count": null,
   "id": "intense-printing",
   "metadata": {},
   "outputs": [],
   "source": []
  }
 ],
 "metadata": {
  "kernelspec": {
   "display_name": "Python 3",
   "language": "python",
   "name": "python3"
  },
  "language_info": {
   "codemirror_mode": {
    "name": "ipython",
    "version": 3
   },
   "file_extension": ".py",
   "mimetype": "text/x-python",
   "name": "python",
   "nbconvert_exporter": "python",
   "pygments_lexer": "ipython3",
   "version": "3.8.7"
  }
 },
 "nbformat": 4,
 "nbformat_minor": 5
}
