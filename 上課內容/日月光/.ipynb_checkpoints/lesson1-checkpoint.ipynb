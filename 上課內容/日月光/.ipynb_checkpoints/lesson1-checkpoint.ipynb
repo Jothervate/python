{
 "cells": [
  {
   "cell_type": "code",
   "execution_count": 2,
   "id": "located-monkey",
   "metadata": {},
   "outputs": [
    {
     "name": "stdout",
     "output_type": "stream",
     "text": [
      "Hello! Python!\n"
     ]
    }
   ],
   "source": [
    "print(\"Hello! Python!\")"
   ]
  },
  {
   "cell_type": "code",
   "execution_count": 3,
   "id": "honey-chain",
   "metadata": {},
   "outputs": [
    {
     "data": {
      "text/plain": [
       "'\\n這是\\n多行\\n文字\\n'"
      ]
     },
     "execution_count": 3,
     "metadata": {},
     "output_type": "execute_result"
    }
   ],
   "source": [
    "#這是註解\n",
    "\n",
    "'''\n",
    "這是\n",
    "多行\n",
    "文字\n",
    "'''"
   ]
  },
  {
   "cell_type": "code",
   "execution_count": 6,
   "id": "behavioral-third",
   "metadata": {},
   "outputs": [
    {
     "name": "stdout",
     "output_type": "stream",
     "text": [
      "<class 'int'>\n",
      "<class 'int'>\n"
     ]
    }
   ],
   "source": [
    "a = 100\n",
    "print(type(a))\n",
    "print(a.__class__)"
   ]
  },
  {
   "cell_type": "code",
   "execution_count": 7,
   "id": "certain-stanford",
   "metadata": {},
   "outputs": [
    {
     "name": "stdout",
     "output_type": "stream",
     "text": [
      "<class 'float'>\n"
     ]
    }
   ],
   "source": [
    "a = 100.0\n",
    "print(a.__class__)"
   ]
  },
  {
   "cell_type": "code",
   "execution_count": 8,
   "id": "statutory-object",
   "metadata": {},
   "outputs": [
    {
     "name": "stdout",
     "output_type": "stream",
     "text": [
      "<class 'str'>\n"
     ]
    }
   ],
   "source": [
    "a = \"100\"\n",
    "print(a.__class__)"
   ]
  },
  {
   "cell_type": "code",
   "execution_count": 9,
   "id": "french-magnet",
   "metadata": {},
   "outputs": [
    {
     "name": "stdout",
     "output_type": "stream",
     "text": [
      "<class 'bool'>\n"
     ]
    }
   ],
   "source": [
    "a = True\n",
    "print(a.__class__)"
   ]
  },
  {
   "cell_type": "code",
   "execution_count": 11,
   "id": "undefined-radius",
   "metadata": {},
   "outputs": [
    {
     "name": "stdout",
     "output_type": "stream",
     "text": [
      "<class 'int'>\n"
     ]
    }
   ],
   "source": [
    "a = 3 + 5\n",
    "print(a.__class__)"
   ]
  },
  {
   "cell_type": "code",
   "execution_count": 13,
   "id": "economic-thing",
   "metadata": {},
   "outputs": [
    {
     "name": "stdout",
     "output_type": "stream",
     "text": [
      "8.0\n",
      "<class 'float'>\n"
     ]
    }
   ],
   "source": [
    "a = 3.0 + 5\n",
    "print(a)\n",
    "print(a.__class__)"
   ]
  },
  {
   "cell_type": "code",
   "execution_count": 15,
   "id": "existing-maximum",
   "metadata": {},
   "outputs": [
    {
     "ename": "TypeError",
     "evalue": "can only concatenate str (not \"int\") to str",
     "output_type": "error",
     "traceback": [
      "\u001b[0;31m---------------------------------------------------------------------------\u001b[0m",
      "\u001b[0;31mTypeError\u001b[0m                                 Traceback (most recent call last)",
      "\u001b[0;32m<ipython-input-15-e55ef2f1ddf6>\u001b[0m in \u001b[0;36m<module>\u001b[0;34m\u001b[0m\n\u001b[0;32m----> 1\u001b[0;31m \u001b[0ma\u001b[0m \u001b[0;34m=\u001b[0m \u001b[0;34m'3.0'\u001b[0m \u001b[0;34m+\u001b[0m \u001b[0;36m5\u001b[0m\u001b[0;34m\u001b[0m\u001b[0;34m\u001b[0m\u001b[0m\n\u001b[0m",
      "\u001b[0;31mTypeError\u001b[0m: can only concatenate str (not \"int\") to str"
     ]
    }
   ],
   "source": [
    "a = '3.0' + 5"
   ]
  },
  {
   "cell_type": "code",
   "execution_count": 22,
   "id": "interior-campus",
   "metadata": {},
   "outputs": [
    {
     "name": "stdout",
     "output_type": "stream",
     "text": [
      "example:19\n"
     ]
    }
   ],
   "source": [
    "print(\"example:%.0f\" % 19.234)"
   ]
  },
  {
   "cell_type": "code",
   "execution_count": 24,
   "id": "crucial-florence",
   "metadata": {},
   "outputs": [
    {
     "name": "stdout",
     "output_type": "stream",
     "text": [
      "name=robert,age=18,bim=24.00\n"
     ]
    }
   ],
   "source": [
    "name = \"robert\"\n",
    "age = 18\n",
    "bmi = 24.0\n",
    "print(\"name=%s,age=%d,bim=%.2f\" % (name,age,bmi))"
   ]
  },
  {
   "cell_type": "code",
   "execution_count": 25,
   "id": "quality-habitat",
   "metadata": {},
   "outputs": [
    {
     "name": "stdout",
     "output_type": "stream",
     "text": [
      "nanme=robert,age=18,bim=24.0\n"
     ]
    }
   ],
   "source": [
    "name = \"robert\"\n",
    "age = 18\n",
    "bmi = 24.0\n",
    "print(\"nanme={},age={},bim={}\".format(name, age, bmi))"
   ]
  },
  {
   "cell_type": "code",
   "execution_count": 26,
   "id": "sophisticated-hardwood",
   "metadata": {},
   "outputs": [
    {
     "name": "stdout",
     "output_type": "stream",
     "text": [
      "nanme=robert,age=18,bim=24.0\n"
     ]
    }
   ],
   "source": [
    "name = \"robert\"\n",
    "age = 18\n",
    "bmi = 24.0\n",
    "print(\"nanme={1},age={2},bim={0}\".format(bmi, name, age))"
   ]
  },
  {
   "cell_type": "code",
   "execution_count": 27,
   "id": "capital-sessions",
   "metadata": {},
   "outputs": [
    {
     "name": "stdout",
     "output_type": "stream",
     "text": [
      "nanme=robert,age=18,bim=24.00\n"
     ]
    }
   ],
   "source": [
    "name = \"robert\"\n",
    "age = 18\n",
    "bmi = 24.0\n",
    "print(\"nanme={1},age={2},bim={0:.2f}\".format(bmi, name, age))"
   ]
  },
  {
   "cell_type": "code",
   "execution_count": 31,
   "id": "under-prefix",
   "metadata": {},
   "outputs": [
    {
     "name": "stdout",
     "output_type": "stream",
     "text": [
      "name=robert, age=18, bmi=24.00\n"
     ]
    }
   ],
   "source": [
    "name = \"robert\"\n",
    "age = 18\n",
    "bmi = 24.0\n",
    "print(f\"name={name}, age={age}, bmi={bmi:.2f}\")"
   ]
  },
  {
   "cell_type": "code",
   "execution_count": null,
   "id": "charming-singing",
   "metadata": {},
   "outputs": [],
   "source": []
  }
 ],
 "metadata": {
  "kernelspec": {
   "display_name": "Python 3",
   "language": "python",
   "name": "python3"
  },
  "language_info": {
   "codemirror_mode": {
    "name": "ipython",
    "version": 3
   },
   "file_extension": ".py",
   "mimetype": "text/x-python",
   "name": "python",
   "nbconvert_exporter": "python",
   "pygments_lexer": "ipython3",
   "version": "3.8.7"
  }
 },
 "nbformat": 4,
 "nbformat_minor": 5
}
