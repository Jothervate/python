{
 "cells": [
  {
   "cell_type": "code",
   "execution_count": 11,
   "id": "protected-macro",
   "metadata": {},
   "outputs": [],
   "source": [
    "#class attribute\n",
    "class Bicycle():\n",
    "    count = 0\n",
    "    \n",
    "    def __init__(self):\n",
    "        Bicycle.count += 1\n",
    "\n",
    "    @classmethod\n",
    "    def getCount(cls):\n",
    "        print(f'已經建立{cls.count}台腳踏車')"
   ]
  },
  {
   "cell_type": "code",
   "execution_count": 12,
   "id": "ready-valley",
   "metadata": {},
   "outputs": [
    {
     "name": "stdout",
     "output_type": "stream",
     "text": [
      "已經建立3台腳踏車\n"
     ]
    }
   ],
   "source": [
    "bicycle1 = Bicycle()\n",
    "bicycle2 = Bicycle()\n",
    "bicycle3 = Bicycle()\n",
    "Bicycle.getCount()"
   ]
  },
  {
   "cell_type": "code",
   "execution_count": null,
   "id": "every-bosnia",
   "metadata": {},
   "outputs": [],
   "source": []
  }
 ],
 "metadata": {
  "kernelspec": {
   "display_name": "Python 3",
   "language": "python",
   "name": "python3"
  },
  "language_info": {
   "codemirror_mode": {
    "name": "ipython",
    "version": 3
   },
   "file_extension": ".py",
   "mimetype": "text/x-python",
   "name": "python",
   "nbconvert_exporter": "python",
   "pygments_lexer": "ipython3",
   "version": "3.8.7"
  }
 },
 "nbformat": 4,
 "nbformat_minor": 5
}
