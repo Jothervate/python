{
 "cells": [
  {
   "cell_type": "code",
   "execution_count": 1,
   "id": "seventh-locking",
   "metadata": {},
   "outputs": [
    {
     "name": "stdout",
     "output_type": "stream",
     "text": [
      "42\n"
     ]
    }
   ],
   "source": [
    "#建立一個一般function\n",
    "def answer():\n",
    "    print(42)\n",
    "\n",
    "answer()"
   ]
  },
  {
   "cell_type": "code",
   "execution_count": 3,
   "id": "neural-river",
   "metadata": {},
   "outputs": [
    {
     "name": "stdout",
     "output_type": "stream",
     "text": [
      "42\n"
     ]
    }
   ],
   "source": [
    "#建立一個一般function,要求參數要傳入一個function\n",
    "def run_something(func):\n",
    "    func()\n",
    "    \n",
    "run_something(answer)"
   ]
  },
  {
   "cell_type": "code",
   "execution_count": 7,
   "id": "conservative-twist",
   "metadata": {},
   "outputs": [
    {
     "data": {
      "text/plain": [
       "[3, 6, 9, 12, 15]"
      ]
     },
     "execution_count": 7,
     "metadata": {},
     "output_type": "execute_result"
    }
   ],
   "source": [
    "#建立一個一般function\n",
    "def multiply2(x):\n",
    "    return x * 3\n",
    "\n",
    "#map(function,iterable)\n",
    "\n",
    "newList = map(multiply2,[1, 2, 3, 4, 5])\n",
    "list(newList)"
   ]
  },
  {
   "cell_type": "code",
   "execution_count": 9,
   "id": "stock-causing",
   "metadata": {},
   "outputs": [
    {
     "data": {
      "text/plain": [
       "[2, 4, 6, 8, 10]"
      ]
     },
     "execution_count": 9,
     "metadata": {},
     "output_type": "execute_result"
    }
   ],
   "source": [
    "newList = map(lambda x: x*2 ,[1, 2, 3, 4, 5])\n",
    "list(newList)"
   ]
  },
  {
   "cell_type": "code",
   "execution_count": 10,
   "id": "entitled-sugar",
   "metadata": {},
   "outputs": [
    {
     "data": {
      "text/plain": [
       "[2, 4, 6]"
      ]
     },
     "execution_count": 10,
     "metadata": {},
     "output_type": "execute_result"
    }
   ],
   "source": [
    "newList=filter(lambda x:x % 2==0,[1,2,3,4,5,6])\n",
    "list(newList)"
   ]
  },
  {
   "cell_type": "code",
   "execution_count": 12,
   "id": "mighty-congo",
   "metadata": {},
   "outputs": [
    {
     "data": {
      "text/plain": [
       "9996"
      ]
     },
     "execution_count": 12,
     "metadata": {},
     "output_type": "execute_result"
    }
   ],
   "source": [
    "findmin = lambda x,y:x if x < y else y\n",
    "findmin(101*99, 102*98)"
   ]
  },
  {
   "cell_type": "code",
   "execution_count": null,
   "id": "olympic-wales",
   "metadata": {},
   "outputs": [],
   "source": []
  },
  {
   "cell_type": "code",
   "execution_count": null,
   "id": "grateful-murray",
   "metadata": {},
   "outputs": [],
   "source": []
  },
  {
   "cell_type": "code",
   "execution_count": null,
   "id": "laden-bhutan",
   "metadata": {},
   "outputs": [],
   "source": []
  },
  {
   "cell_type": "code",
   "execution_count": null,
   "id": "official-russian",
   "metadata": {},
   "outputs": [],
   "source": []
  },
  {
   "cell_type": "code",
   "execution_count": null,
   "id": "dense-porter",
   "metadata": {},
   "outputs": [],
   "source": []
  }
 ],
 "metadata": {
  "kernelspec": {
   "display_name": "Python 3",
   "language": "python",
   "name": "python3"
  },
  "language_info": {
   "codemirror_mode": {
    "name": "ipython",
    "version": 3
   },
   "file_extension": ".py",
   "mimetype": "text/x-python",
   "name": "python",
   "nbconvert_exporter": "python",
   "pygments_lexer": "ipython3",
   "version": "3.8.7"
  }
 },
 "nbformat": 4,
 "nbformat_minor": 5
}
