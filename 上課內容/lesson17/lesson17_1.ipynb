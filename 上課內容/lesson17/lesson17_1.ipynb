{
 "cells": [
  {
   "cell_type": "code",
   "execution_count": 2,
   "id": "5cf814d2",
   "metadata": {},
   "outputs": [
    {
     "data": {
      "text/plain": [
       "a    1.604259\n",
       "a   -0.175801\n",
       "a    0.557749\n",
       "b   -1.021131\n",
       "b    0.675761\n",
       "c    1.199113\n",
       "c   -1.704290\n",
       "d   -0.941752\n",
       "d   -0.773789\n",
       "dtype: float64"
      ]
     },
     "execution_count": 2,
     "metadata": {},
     "output_type": "execute_result"
    }
   ],
   "source": [
    "import numpy as np\n",
    "import pandas as pd \n",
    "data = pd.Series(np.random.randn(9),index=['a','a','a','b','b','c','c','d','d'])\n",
    "data"
   ]
  },
  {
   "cell_type": "code",
   "execution_count": 3,
   "id": "3b7104e7",
   "metadata": {},
   "outputs": [
    {
     "data": {
      "text/plain": [
       "a    1.604259\n",
       "a   -0.175801\n",
       "a    0.557749\n",
       "dtype: float64"
      ]
     },
     "execution_count": 3,
     "metadata": {},
     "output_type": "execute_result"
    }
   ],
   "source": [
    "data['a']"
   ]
  }
 ],
 "metadata": {
  "kernelspec": {
   "display_name": "Python 3",
   "language": "python",
   "name": "python3"
  },
  "language_info": {
   "codemirror_mode": {
    "name": "ipython",
    "version": 3
   },
   "file_extension": ".py",
   "mimetype": "text/x-python",
   "name": "python",
   "nbconvert_exporter": "python",
   "pygments_lexer": "ipython3",
   "version": "3.8.7"
  }
 },
 "nbformat": 4,
 "nbformat_minor": 5
}
