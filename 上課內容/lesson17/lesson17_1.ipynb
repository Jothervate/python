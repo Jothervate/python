{
 "cells": [
  {
   "cell_type": "code",
   "execution_count": 9,
   "id": "b6fb2586",
   "metadata": {},
   "outputs": [
    {
     "data": {
      "text/plain": [
       "a  1    1.215157\n",
       "   2    0.963813\n",
       "   3    0.069255\n",
       "b  1   -0.173785\n",
       "   2    1.256191\n",
       "c  3    0.267833\n",
       "   1   -1.484521\n",
       "d  2    0.945278\n",
       "   3   -0.097657\n",
       "dtype: float64"
      ]
     },
     "execution_count": 9,
     "metadata": {},
     "output_type": "execute_result"
    }
   ],
   "source": [
    "import numpy as np\n",
    "import pandas as pd \n",
    "data = pd.Series(np.random.randn(9),index=[['a','a','a','b','b','c','c','d','d'],[1,2,3,1,2,3,1,2,3]])\n",
    "data"
   ]
  },
  {
   "cell_type": "code",
   "execution_count": 6,
   "id": "c6d318b0",
   "metadata": {},
   "outputs": [
    {
     "data": {
      "text/plain": [
       "1    0.155103\n",
       "2   -1.187751\n",
       "3    0.797345\n",
       "dtype: float64"
      ]
     },
     "execution_count": 6,
     "metadata": {},
     "output_type": "execute_result"
    }
   ],
   "source": [
    "data['a'] #標籤名稱"
   ]
  },
  {
   "cell_type": "code",
   "execution_count": 7,
   "id": "042f1994",
   "metadata": {},
   "outputs": [
    {
     "data": {
      "text/plain": [
       "a  1    0.155103\n",
       "   2   -1.187751\n",
       "   3    0.797345\n",
       "b  1   -0.383136\n",
       "   2    0.409899\n",
       "dtype: float64"
      ]
     },
     "execution_count": 7,
     "metadata": {},
     "output_type": "execute_result"
    }
   ],
   "source": [
    "data[['a','b']] #list"
   ]
  },
  {
   "cell_type": "code",
   "execution_count": 8,
   "id": "e2fa343f",
   "metadata": {},
   "outputs": [
    {
     "data": {
      "text/plain": [
       "b  1   -0.383136\n",
       "   2    0.409899\n",
       "c  3    0.511487\n",
       "   1   -0.216522\n",
       "dtype: float64"
      ]
     },
     "execution_count": 8,
     "metadata": {},
     "output_type": "execute_result"
    }
   ],
   "source": [
    "data['b':'c'] #slice"
   ]
  },
  {
   "cell_type": "code",
   "execution_count": 11,
   "id": "5819fe5f",
   "metadata": {},
   "outputs": [
    {
     "data": {
      "text/plain": [
       "a  1    1.215157\n",
       "   2    0.963813\n",
       "   3    0.069255\n",
       "b  1   -0.173785\n",
       "   2    1.256191\n",
       "c  3    0.267833\n",
       "   1   -1.484521\n",
       "d  2    0.945278\n",
       "   3   -0.097657\n",
       "dtype: float64"
      ]
     },
     "execution_count": 11,
     "metadata": {},
     "output_type": "execute_result"
    }
   ],
   "source": [
    "data"
   ]
  },
  {
   "cell_type": "code",
   "execution_count": 12,
   "id": "a16e274f",
   "metadata": {},
   "outputs": [
    {
     "data": {
      "text/html": [
       "<div>\n",
       "<style scoped>\n",
       "    .dataframe tbody tr th:only-of-type {\n",
       "        vertical-align: middle;\n",
       "    }\n",
       "\n",
       "    .dataframe tbody tr th {\n",
       "        vertical-align: top;\n",
       "    }\n",
       "\n",
       "    .dataframe thead th {\n",
       "        text-align: right;\n",
       "    }\n",
       "</style>\n",
       "<table border=\"1\" class=\"dataframe\">\n",
       "  <thead>\n",
       "    <tr style=\"text-align: right;\">\n",
       "      <th></th>\n",
       "      <th>1</th>\n",
       "      <th>2</th>\n",
       "      <th>3</th>\n",
       "    </tr>\n",
       "  </thead>\n",
       "  <tbody>\n",
       "    <tr>\n",
       "      <th>a</th>\n",
       "      <td>1.215157</td>\n",
       "      <td>0.963813</td>\n",
       "      <td>0.069255</td>\n",
       "    </tr>\n",
       "    <tr>\n",
       "      <th>b</th>\n",
       "      <td>-0.173785</td>\n",
       "      <td>1.256191</td>\n",
       "      <td>NaN</td>\n",
       "    </tr>\n",
       "    <tr>\n",
       "      <th>c</th>\n",
       "      <td>-1.484521</td>\n",
       "      <td>NaN</td>\n",
       "      <td>0.267833</td>\n",
       "    </tr>\n",
       "    <tr>\n",
       "      <th>d</th>\n",
       "      <td>NaN</td>\n",
       "      <td>0.945278</td>\n",
       "      <td>-0.097657</td>\n",
       "    </tr>\n",
       "  </tbody>\n",
       "</table>\n",
       "</div>"
      ],
      "text/plain": [
       "          1         2         3\n",
       "a  1.215157  0.963813  0.069255\n",
       "b -0.173785  1.256191       NaN\n",
       "c -1.484521       NaN  0.267833\n",
       "d       NaN  0.945278 -0.097657"
      ]
     },
     "execution_count": 12,
     "metadata": {},
     "output_type": "execute_result"
    }
   ],
   "source": [
    "data.unstack()"
   ]
  }
 ],
 "metadata": {
  "kernelspec": {
   "display_name": "Python 3",
   "language": "python",
   "name": "python3"
  },
  "language_info": {
   "codemirror_mode": {
    "name": "ipython",
    "version": 3
   },
   "file_extension": ".py",
   "mimetype": "text/x-python",
   "name": "python",
   "nbconvert_exporter": "python",
   "pygments_lexer": "ipython3",
   "version": "3.8.7"
  }
 },
 "nbformat": 4,
 "nbformat_minor": 5
}
