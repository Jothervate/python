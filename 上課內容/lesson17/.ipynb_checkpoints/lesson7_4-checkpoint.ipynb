{
 "cells": [
  {
   "cell_type": "code",
   "execution_count": 4,
   "id": "506e91e8",
   "metadata": {},
   "outputs": [
    {
     "data": {
      "text/plain": [
       "{'城市': ['Taipei', 'Taichung', 'Pingtung City'],\n",
       " '緯度': [25.0478, 24.1469, 22.6714],\n",
       " '經度': [121.5319, 120.6839, 120.4881],\n",
       " '攝氏': [31.94, 29.7, 31.63],\n",
       " '溼度': [67, 74, 70]}"
      ]
     },
     "execution_count": 4,
     "metadata": {},
     "output_type": "execute_result"
    }
   ],
   "source": [
    "#Taipei:1668341\n",
    "#Taichung:1668399\n",
    "#Pingtung:16704818\n",
    "\n",
    "import pandas as pd\n",
    "import requests\n",
    "\n",
    "url = 'http://api.openweathermap.org/data/2.5/group?id=1668341,1668399,1670481&units=metric&appid=29c4f184354b9889e87f7b494ac86aed'\n",
    "resp=requests.get(url)\n",
    "weatherData = resp.json()\n",
    "weatherData\n",
    "weatherDict= {}\n",
    "lon = []\n",
    "lat = []\n",
    "temp = []\n",
    "humidity = []\n",
    "name = []\n",
    "for item in weatherData['list']:\n",
    "    lon.append(item['coord']['lon'])\n",
    "    lat.append(item['coord']['lat'])\n",
    "    temp.append(item['main']['temp'])\n",
    "    humidity.append(item['main']['humidity'])\n",
    "    name.append(item['name'])\n",
    "\n",
    "weatherDict['城市'] = name\n",
    "weatherDict['緯度'] = lat\n",
    "weatherDict['經度'] = lon\n",
    "weatherDict['攝氏'] = temp\n",
    "weatherDict['溼度'] = humidity\n",
    "weatherDict"
   ]
  },
  {
   "cell_type": "code",
   "execution_count": 8,
   "id": "5a794bd6",
   "metadata": {},
   "outputs": [
    {
     "data": {
      "text/html": [
       "<div>\n",
       "<style scoped>\n",
       "    .dataframe tbody tr th:only-of-type {\n",
       "        vertical-align: middle;\n",
       "    }\n",
       "\n",
       "    .dataframe tbody tr th {\n",
       "        vertical-align: top;\n",
       "    }\n",
       "\n",
       "    .dataframe thead th {\n",
       "        text-align: right;\n",
       "    }\n",
       "</style>\n",
       "<table border=\"1\" class=\"dataframe\">\n",
       "  <thead>\n",
       "    <tr style=\"text-align: right;\">\n",
       "      <th></th>\n",
       "      <th>攝氏</th>\n",
       "      <th>溼度</th>\n",
       "    </tr>\n",
       "  </thead>\n",
       "  <tbody>\n",
       "    <tr>\n",
       "      <th>Taipei</th>\n",
       "      <td>31.94</td>\n",
       "      <td>67</td>\n",
       "    </tr>\n",
       "    <tr>\n",
       "      <th>Taichung</th>\n",
       "      <td>29.70</td>\n",
       "      <td>74</td>\n",
       "    </tr>\n",
       "    <tr>\n",
       "      <th>Pingtung City</th>\n",
       "      <td>31.63</td>\n",
       "      <td>70</td>\n",
       "    </tr>\n",
       "  </tbody>\n",
       "</table>\n",
       "</div>"
      ],
      "text/plain": [
       "                  攝氏  溼度\n",
       "Taipei         31.94  67\n",
       "Taichung       29.70  74\n",
       "Pingtung City  31.63  70"
      ]
     },
     "execution_count": 8,
     "metadata": {},
     "output_type": "execute_result"
    }
   ],
   "source": [
    "\n",
    "weatherDataFrame1 = pd.DataFrame(weatherDict, columns=['攝氏', '溼度'],index=weatherDict['城市'])\n",
    "weatherDataFrame1"
   ]
  },
  {
   "cell_type": "code",
   "execution_count": 9,
   "id": "b0def1c7",
   "metadata": {},
   "outputs": [
    {
     "data": {
      "text/html": [
       "<div>\n",
       "<style scoped>\n",
       "    .dataframe tbody tr th:only-of-type {\n",
       "        vertical-align: middle;\n",
       "    }\n",
       "\n",
       "    .dataframe tbody tr th {\n",
       "        vertical-align: top;\n",
       "    }\n",
       "\n",
       "    .dataframe thead th {\n",
       "        text-align: right;\n",
       "    }\n",
       "</style>\n",
       "<table border=\"1\" class=\"dataframe\">\n",
       "  <thead>\n",
       "    <tr style=\"text-align: right;\">\n",
       "      <th></th>\n",
       "      <th>緯度</th>\n",
       "      <th>經度</th>\n",
       "    </tr>\n",
       "  </thead>\n",
       "  <tbody>\n",
       "    <tr>\n",
       "      <th>Taipei</th>\n",
       "      <td>25.0478</td>\n",
       "      <td>121.5319</td>\n",
       "    </tr>\n",
       "    <tr>\n",
       "      <th>Taichung</th>\n",
       "      <td>24.1469</td>\n",
       "      <td>120.6839</td>\n",
       "    </tr>\n",
       "    <tr>\n",
       "      <th>Pingtung City</th>\n",
       "      <td>22.6714</td>\n",
       "      <td>120.4881</td>\n",
       "    </tr>\n",
       "  </tbody>\n",
       "</table>\n",
       "</div>"
      ],
      "text/plain": [
       "                    緯度        經度\n",
       "Taipei         25.0478  121.5319\n",
       "Taichung       24.1469  120.6839\n",
       "Pingtung City  22.6714  120.4881"
      ]
     },
     "execution_count": 9,
     "metadata": {},
     "output_type": "execute_result"
    }
   ],
   "source": [
    "weatherDataFrame2 = pd.DataFrame(weatherDict, columns=['緯度', '經度'],index=weatherDict['城市'])\n",
    "weatherDataFrame2"
   ]
  },
  {
   "cell_type": "code",
   "execution_count": 10,
   "id": "9690a26a",
   "metadata": {},
   "outputs": [
    {
     "data": {
      "text/html": [
       "<div>\n",
       "<style scoped>\n",
       "    .dataframe tbody tr th:only-of-type {\n",
       "        vertical-align: middle;\n",
       "    }\n",
       "\n",
       "    .dataframe tbody tr th {\n",
       "        vertical-align: top;\n",
       "    }\n",
       "\n",
       "    .dataframe thead th {\n",
       "        text-align: right;\n",
       "    }\n",
       "</style>\n",
       "<table border=\"1\" class=\"dataframe\">\n",
       "  <thead>\n",
       "    <tr style=\"text-align: right;\">\n",
       "      <th></th>\n",
       "      <th>攝氏</th>\n",
       "      <th>溼度</th>\n",
       "      <th>緯度</th>\n",
       "      <th>經度</th>\n",
       "    </tr>\n",
       "  </thead>\n",
       "  <tbody>\n",
       "    <tr>\n",
       "      <th>Taipei</th>\n",
       "      <td>31.94</td>\n",
       "      <td>67</td>\n",
       "      <td>25.0478</td>\n",
       "      <td>121.5319</td>\n",
       "    </tr>\n",
       "    <tr>\n",
       "      <th>Taichung</th>\n",
       "      <td>29.70</td>\n",
       "      <td>74</td>\n",
       "      <td>24.1469</td>\n",
       "      <td>120.6839</td>\n",
       "    </tr>\n",
       "    <tr>\n",
       "      <th>Pingtung City</th>\n",
       "      <td>31.63</td>\n",
       "      <td>70</td>\n",
       "      <td>22.6714</td>\n",
       "      <td>120.4881</td>\n",
       "    </tr>\n",
       "  </tbody>\n",
       "</table>\n",
       "</div>"
      ],
      "text/plain": [
       "                  攝氏  溼度       緯度        經度\n",
       "Taipei         31.94  67  25.0478  121.5319\n",
       "Taichung       29.70  74  24.1469  120.6839\n",
       "Pingtung City  31.63  70  22.6714  120.4881"
      ]
     },
     "execution_count": 10,
     "metadata": {},
     "output_type": "execute_result"
    }
   ],
   "source": [
    "pd.concat([weatherDataFrame1,weatherDataFrame2],axis=1)"
   ]
  },
  {
   "cell_type": "code",
   "execution_count": null,
   "id": "5c72d0a7",
   "metadata": {},
   "outputs": [],
   "source": []
  }
 ],
 "metadata": {
  "kernelspec": {
   "display_name": "Python 3",
   "language": "python",
   "name": "python3"
  },
  "language_info": {
   "codemirror_mode": {
    "name": "ipython",
    "version": 3
   },
   "file_extension": ".py",
   "mimetype": "text/x-python",
   "name": "python",
   "nbconvert_exporter": "python",
   "pygments_lexer": "ipython3",
   "version": "3.8.7"
  }
 },
 "nbformat": 4,
 "nbformat_minor": 5
}
