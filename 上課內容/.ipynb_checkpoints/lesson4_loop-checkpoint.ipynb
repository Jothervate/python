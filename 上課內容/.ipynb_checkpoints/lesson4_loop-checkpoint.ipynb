{
 "cells": [
  {
   "cell_type": "code",
   "execution_count": null,
   "id": "115f18bd",
   "metadata": {},
   "outputs": [],
   "source": [
    "while(True):\n",
    "    stuff = input(\"請輸入小寫英文字[按q會離開]:\")\n",
    "    if stuff == 'q':\n",
    "        break\n",
    "    print(stuff.capitalize())\n",
    "print(\"程式結束\")"
   ]
  }
 ],
 "metadata": {
  "kernelspec": {
   "display_name": "Python 3",
   "language": "python",
   "name": "python3"
  },
  "language_info": {
   "codemirror_mode": {
    "name": "ipython",
    "version": 3
   },
   "file_extension": ".py",
   "mimetype": "text/x-python",
   "name": "python",
   "nbconvert_exporter": "python",
   "pygments_lexer": "ipython3",
   "version": "3.8.7"
  }
 },
 "nbformat": 4,
 "nbformat_minor": 5
}
