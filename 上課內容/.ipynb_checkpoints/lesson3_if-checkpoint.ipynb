{
 "cells": [
  {
   "cell_type": "code",
   "execution_count": 2,
   "id": "27a36f40",
   "metadata": {},
   "outputs": [
    {
     "data": {
      "text/plain": [
       "True"
      ]
     },
     "execution_count": 2,
     "metadata": {},
     "output_type": "execute_result"
    }
   ],
   "source": [
    "x = 7\n",
    "x == 5\n",
    "x == 7"
   ]
  },
  {
   "cell_type": "code",
   "execution_count": 4,
   "id": "616f9e67",
   "metadata": {},
   "outputs": [
    {
     "name": "stdout",
     "output_type": "stream",
     "text": [
      "程式結束\n"
     ]
    }
   ],
   "source": [
    "a = 15\n",
    "if a > 18:\n",
    "    print(\"大於18\")\n",
    "print(\"程式結束\")"
   ]
  },
  {
   "cell_type": "code",
   "execution_count": 6,
   "id": "3ad78ce2",
   "metadata": {},
   "outputs": [
    {
     "name": "stdout",
     "output_type": "stream",
     "text": [
      "請輸入密碼:1234\n",
      "密碼正確!歡迎光臨\n"
     ]
    }
   ],
   "source": [
    "password = input(\"請輸入密碼:\")\n",
    "if password == \"1234\":\n",
    "    print(\"密碼正確!歡迎光臨\")\n",
    "else:\n",
    "    print(\"密碼錯誤\\n請重新輸入\")"
   ]
  },
  {
   "cell_type": "code",
   "execution_count": 9,
   "id": "d99af9af",
   "metadata": {},
   "outputs": [
    {
     "name": "stdout",
     "output_type": "stream",
     "text": [
      "請輸入年紀?11\n",
      "少年\n"
     ]
    }
   ],
   "source": [
    "age = int(input(\"請輸入年紀?\"))\n",
    "if age > 18:\n",
    "    print(\"青年\")\n",
    "elif age >= 12:\n",
    "    print(\"青少年\")\n",
    "else:\n",
    "    print(\"少年\")"
   ]
  },
  {
   "cell_type": "code",
   "execution_count": null,
   "id": "b9d4e542",
   "metadata": {},
   "outputs": [],
   "source": []
  }
 ],
 "metadata": {
  "kernelspec": {
   "display_name": "Python 3",
   "language": "python",
   "name": "python3"
  },
  "language_info": {
   "codemirror_mode": {
    "name": "ipython",
    "version": 3
   },
   "file_extension": ".py",
   "mimetype": "text/x-python",
   "name": "python",
   "nbconvert_exporter": "python",
   "pygments_lexer": "ipython3",
   "version": "3.8.7"
  }
 },
 "nbformat": 4,
 "nbformat_minor": 5
}
