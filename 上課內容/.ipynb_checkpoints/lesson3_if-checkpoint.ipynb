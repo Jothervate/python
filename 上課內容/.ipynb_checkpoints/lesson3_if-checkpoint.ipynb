{
 "cells": [
  {
   "cell_type": "code",
   "execution_count": null,
   "id": "7972d26a",
   "metadata": {},
   "outputs": [],
   "source": [
    "x = 7\n",
    "x == 5\n",
    "x == 7"
   ]
  },
  {
   "cell_type": "code",
   "execution_count": null,
   "id": "b2bc73cd",
   "metadata": {},
   "outputs": [],
   "source": [
    "a = 15\n",
    "if a > 18:\n",
    "    print(\"大於18\")\n",
    "print(\"程式結束\")"
   ]
  },
  {
   "cell_type": "code",
   "execution_count": null,
   "id": "4eb2b076",
   "metadata": {},
   "outputs": [],
   "source": [
    "password = input(\"請輸入密碼:\")\n",
    "if password == \"1234\":\n",
    "    print(\"密碼正確!歡迎光臨\")\n",
    "else:\n",
    "    print(\"密碼錯誤\\n請重新輸入\")"
   ]
  },
  {
   "cell_type": "code",
   "execution_count": null,
   "id": "4c1bfeed",
   "metadata": {},
   "outputs": [],
   "source": [
    "age = int(input(\"請輸入年紀?\"))\n",
    "if age > 18:\n",
    "    print(\"青年\")\n",
    "elif age >= 12:\n",
    "    print(\"青少年\")\n",
    "else:\n",
    "    print(\"少年\")"
   ]
  },
  {
   "cell_type": "code",
   "execution_count": null,
   "id": "3534fd89",
   "metadata": {},
   "outputs": [],
   "source": [
    "score = int(input(\"請輸入學生分數:\"))\n",
    "if score >= 90:\n",
    "    grade = '優'\n",
    "elif score >= 80:\n",
    "    grade = '甲'\n",
    "elif score >= 70:\n",
    "    grade = '乙'\n",
    "elif score >= 60:\n",
    "    grade = '丙'\n",
    "else:\n",
    "    grade = '丁'\n",
    "print(\"成績等級為:\",grade)"
   ]
  },
  {
   "cell_type": "code",
   "execution_count": null,
   "id": "500368e5",
   "metadata": {},
   "outputs": [],
   "source": [
    "furry = True\n",
    "small = False\n",
    "if furry:\n",
    "    if small:\n",
    "        print(\"它是貓\")\n",
    "    else:\n",
    "        print(\"它是熊\")\n",
    "else:\n",
    "    if small:\n",
    "        print(\"它是小蜥蜴\")\n",
    "    else:\n",
    "        print(\"它是人類\")\n",
    "    "
   ]
  },
  {
   "cell_type": "code",
   "execution_count": null,
   "id": "b5d9bc4e",
   "metadata": {},
   "outputs": [],
   "source": [
    "chinese = 100\n",
    "math =100\n",
    "if chinese == 100 and math == 100:\n",
    "    print(\"獎金1000元\")\n",
    "elif chinese == 100 or math == 100:\n",
    "    print(\"獎金500元\")\n",
    "else:\n",
    "    print(\"沒有獎金\")"
   ]
  },
  {
   "cell_type": "code",
   "execution_count": null,
   "id": "5e4fc1a1",
   "metadata": {},
   "outputs": [],
   "source": [
    "furry = True\n",
    "if not furry:\n",
    "    print(\"沒有毛的\")\n",
    "else:\n",
    "    print(\"有毛的\")\n",
    "    "
   ]
  },
  {
   "cell_type": "code",
   "execution_count": 3,
   "id": "f3f96494",
   "metadata": {},
   "outputs": [
    {
     "name": "stdout",
     "output_type": "stream",
     "text": [
      "請輸入第1月份的存款:6789\n",
      "請輸入第2月份的存款:7890\n",
      "請輸入第3月份的存款:5678\n",
      "請輸入第4月份的存款:7890\n",
      "請輸入第5月份的存款:5678\n",
      "恭喜!已經存夠了，存了5個月的總存款為:33925\n"
     ]
    }
   ],
   "source": [
    "#舊的字串格式化輸出語法\n",
    "\n",
    "deposit = 0\n",
    "num = 0\n",
    "while deposit < 30000:    \n",
    "    num += 1\n",
    "    inputNum = int(input(\"請輸入第%d月份的存款:\" % num))\n",
    "    deposit += inputNum\n",
    "print(\"恭喜!已經存夠了，存了%d個月的總存款為:%d\" % (num,deposit))"
   ]
  },
  {
   "cell_type": "code",
   "execution_count": null,
   "id": "120ec3e3",
   "metadata": {},
   "outputs": [],
   "source": []
  }
 ],
 "metadata": {
  "kernelspec": {
   "display_name": "Python 3",
   "language": "python",
   "name": "python3"
  },
  "language_info": {
   "codemirror_mode": {
    "name": "ipython",
    "version": 3
   },
   "file_extension": ".py",
   "mimetype": "text/x-python",
   "name": "python",
   "nbconvert_exporter": "python",
   "pygments_lexer": "ipython3",
   "version": "3.8.7"
  }
 },
 "nbformat": 4,
 "nbformat_minor": 5
}
