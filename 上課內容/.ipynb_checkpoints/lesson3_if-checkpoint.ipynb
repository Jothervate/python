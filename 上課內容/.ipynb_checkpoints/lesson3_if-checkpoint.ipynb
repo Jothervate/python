{
 "cells": [
  {
   "cell_type": "code",
   "execution_count": 2,
   "id": "946ee1d0",
   "metadata": {},
   "outputs": [
    {
     "data": {
      "text/plain": [
       "True"
      ]
     },
     "execution_count": 2,
     "metadata": {},
     "output_type": "execute_result"
    }
   ],
   "source": [
    "x = 7\n",
    "x == 5\n",
    "x == 7"
   ]
  },
  {
   "cell_type": "code",
   "execution_count": 4,
   "id": "d58b0c46",
   "metadata": {},
   "outputs": [
    {
     "name": "stdout",
     "output_type": "stream",
     "text": [
      "程式結束\n"
     ]
    }
   ],
   "source": [
    "a = 15\n",
    "if a > 18:\n",
    "    print(\"大於18\")\n",
    "print(\"程式結束\")"
   ]
  },
  {
   "cell_type": "code",
   "execution_count": 6,
   "id": "3276378e",
   "metadata": {},
   "outputs": [
    {
     "name": "stdout",
     "output_type": "stream",
     "text": [
      "請輸入密碼:1234\n",
      "密碼正確!歡迎光臨\n"
     ]
    }
   ],
   "source": [
    "password = input(\"請輸入密碼:\")\n",
    "if password == \"1234\":\n",
    "    print(\"密碼正確!歡迎光臨\")\n",
    "else:\n",
    "    print(\"密碼錯誤\\n請重新輸入\")"
   ]
  },
  {
   "cell_type": "code",
   "execution_count": 9,
   "id": "1328e30c",
   "metadata": {},
   "outputs": [
    {
     "name": "stdout",
     "output_type": "stream",
     "text": [
      "請輸入年紀?11\n",
      "少年\n"
     ]
    }
   ],
   "source": [
    "age = int(input(\"請輸入年紀?\"))\n",
    "if age > 18:\n",
    "    print(\"青年\")\n",
    "elif age >= 12:\n",
    "    print(\"青少年\")\n",
    "else:\n",
    "    print(\"少年\")"
   ]
  },
  {
   "cell_type": "code",
   "execution_count": 14,
   "id": "4e3cd507",
   "metadata": {},
   "outputs": [
    {
     "name": "stdout",
     "output_type": "stream",
     "text": [
      "請輸入學生分數:59\n",
      "成績等級為: 丁\n"
     ]
    }
   ],
   "source": [
    "score = int(input(\"請輸入學生分數:\"))\n",
    "if score >= 90:\n",
    "    grade = '優'\n",
    "elif score >= 80:\n",
    "    grade = '甲'\n",
    "elif score >= 70:\n",
    "    grade = '乙'\n",
    "elif score >= 60:\n",
    "    grade = '丙'\n",
    "else:\n",
    "    grade = '丁'\n",
    "print(\"成績等級為:\",grade)"
   ]
  },
  {
   "cell_type": "code",
   "execution_count": 16,
   "id": "f7f3facb",
   "metadata": {},
   "outputs": [
    {
     "name": "stdout",
     "output_type": "stream",
     "text": [
      "它是熊\n"
     ]
    }
   ],
   "source": [
    "furry = True\n",
    "small = False\n",
    "if furry:\n",
    "    if small:\n",
    "        print(\"它是貓\")\n",
    "    else:\n",
    "        print(\"它是熊\")\n",
    "else:\n",
    "    if small:\n",
    "        print(\"它是小蜥蜴\")\n",
    "    else:\n",
    "        print(\"它是人類\")\n",
    "    "
   ]
  },
  {
   "cell_type": "code",
   "execution_count": 19,
   "id": "d4bea11b",
   "metadata": {},
   "outputs": [
    {
     "name": "stdout",
     "output_type": "stream",
     "text": [
      "沒有獎金\n"
     ]
    }
   ],
   "source": [
    "chinese = 100\n",
    "math =100\n",
    "if chinese == 100 and math == 100:\n",
    "    print(\"獎金1000元\")\n",
    "elif chinese == 100 or math == 100:\n",
    "    print(\"獎金500元\")\n",
    "else:\n",
    "    print(\"沒有獎金\")"
   ]
  },
  {
   "cell_type": "code",
   "execution_count": 21,
   "id": "9b120910",
   "metadata": {},
   "outputs": [
    {
     "name": "stdout",
     "output_type": "stream",
     "text": [
      "有毛的\n"
     ]
    }
   ],
   "source": [
    "furry = True\n",
    "if not furry:\n",
    "    print(\"沒有毛的\")\n",
    "else:\n",
    "    print(\"有毛的\")\n",
    "    "
   ]
  },
  {
   "cell_type": "code",
   "execution_count": null,
   "id": "bea4df46",
   "metadata": {},
   "outputs": [],
   "source": [
    "deposit = 0\n",
    "while deposit < 30000:\n",
    "    inputNum = int(input(\"請輸入這個月份的存款:\"))\n",
    "    deposit = deposit + inputNum\n",
    "print(\"恭喜!已經存夠了，總存款為:\", deposit)"
   ]
  }
 ],
 "metadata": {
  "kernelspec": {
   "display_name": "Python 3",
   "language": "python",
   "name": "python3"
  },
  "language_info": {
   "codemirror_mode": {
    "name": "ipython",
    "version": 3
   },
   "file_extension": ".py",
   "mimetype": "text/x-python",
   "name": "python",
   "nbconvert_exporter": "python",
   "pygments_lexer": "ipython3",
   "version": "3.8.7"
  }
 },
 "nbformat": 4,
 "nbformat_minor": 5
}
