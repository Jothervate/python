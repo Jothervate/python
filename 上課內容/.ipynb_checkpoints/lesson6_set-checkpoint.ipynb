{
 "cells": [
  {
   "cell_type": "code",
   "execution_count": 2,
   "id": "9f099e1d",
   "metadata": {},
   "outputs": [
    {
     "data": {
      "text/plain": [
       "{0, 2, 4, 6, 8}"
      ]
     },
     "execution_count": 2,
     "metadata": {},
     "output_type": "execute_result"
    }
   ],
   "source": [
    "#set不可以有重複的值\n",
    "empty_set = set()\n",
    "even_numbers = {0, 2, 4, 6, 8, 8, 8}\n",
    "even_numbers"
   ]
  },
  {
   "cell_type": "code",
   "execution_count": 6,
   "id": "0bae8784",
   "metadata": {},
   "outputs": [
    {
     "data": {
      "text/plain": [
       "{1, 3, 5, 7}"
      ]
     },
     "execution_count": 6,
     "metadata": {},
     "output_type": "execute_result"
    }
   ],
   "source": [
    "odd_numbers = {1, 3}\n",
    "odd_numbers.add(5)\n",
    "odd_numbers.add(7)\n",
    "odd_numbers"
   ]
  },
  {
   "cell_type": "code",
   "execution_count": 14,
   "id": "b3d3cf81",
   "metadata": {},
   "outputs": [
    {
     "name": "stdout",
     "output_type": "stream",
     "text": [
      "本期大樂透電腦選號號碼如下:\n",
      "5\t9\t13\t17\t20\t46\t\n",
      "特別號是:29\n"
     ]
    }
   ],
   "source": [
    "import random\n",
    "lot = set()\n",
    "while len(lot) != 7:\n",
    "    lot.add(random.randint(1,49))\n",
    "\n",
    "print(\"本期大樂透電腦選號號碼如下:\")\n",
    "lotList = list(lot)\n",
    "specialNum = lotList.pop()\n",
    "for item in sorted(lotList):\n",
    "    print(item,end=\"  \")\n",
    "print()\n",
    "print(f\"特別號是:{specialNum}\")"
   ]
  },
  {
   "cell_type": "code",
   "execution_count": null,
   "id": "b6f21976",
   "metadata": {},
   "outputs": [],
   "source": []
  }
 ],
 "metadata": {
  "kernelspec": {
   "display_name": "Python 3",
   "language": "python",
   "name": "python3"
  },
  "language_info": {
   "codemirror_mode": {
    "name": "ipython",
    "version": 3
   },
   "file_extension": ".py",
   "mimetype": "text/x-python",
   "name": "python",
   "nbconvert_exporter": "python",
   "pygments_lexer": "ipython3",
   "version": "3.8.7"
  }
 },
 "nbformat": 4,
 "nbformat_minor": 5
}
