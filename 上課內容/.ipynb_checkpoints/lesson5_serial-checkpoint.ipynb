{
 "cells": [
  {
   "cell_type": "code",
   "execution_count": 1,
   "id": "e0bc91ca",
   "metadata": {},
   "outputs": [
    {
     "name": "stdout",
     "output_type": "stream",
     "text": [
      "[]\n",
      "[]\n"
     ]
    }
   ],
   "source": [
    "#python資料結構\n",
    "#建立空陣列\n",
    "empty_list = []\n",
    "print(empty_list)\n",
    "another_empty_list = list()\n",
    "print(another_empty_list)"
   ]
  },
  {
   "cell_type": "code",
   "execution_count": 2,
   "id": "91a80777",
   "metadata": {},
   "outputs": [
    {
     "name": "stdout",
     "output_type": "stream",
     "text": [
      "星期一\n",
      "星期六\n",
      "['星期一', '星期二', '星期三', '星期四', '星期五', '星期六', '星期日']\n"
     ]
    }
   ],
   "source": [
    "weekdays = ['星期一', '星期二', '星期三', '星期四', '星期五', '星期六', '星期日'] \n",
    "print(weekdays[0])\n",
    "print(weekdays[5])\n",
    "#print(weekdays[9])\n",
    "print(weekdays)"
   ]
  },
  {
   "cell_type": "code",
   "execution_count": 3,
   "id": "ef0b4db0",
   "metadata": {},
   "outputs": [
    {
     "data": {
      "text/plain": [
       "['c', 'a', 't']"
      ]
     },
     "execution_count": 3,
     "metadata": {},
     "output_type": "execute_result"
    }
   ],
   "source": [
    "list('cat')"
   ]
  },
  {
   "cell_type": "code",
   "execution_count": 4,
   "id": "4d0b3391",
   "metadata": {},
   "outputs": [
    {
     "data": {
      "text/plain": [
       "[20, 21, 22, 23, 24, 25, 26, 27, 28, 29, 30]"
      ]
     },
     "execution_count": 4,
     "metadata": {},
     "output_type": "execute_result"
    }
   ],
   "source": [
    "list(range(20,31))"
   ]
  },
  {
   "cell_type": "code",
   "execution_count": 5,
   "id": "8b0432e5",
   "metadata": {},
   "outputs": [
    {
     "name": "stdout",
     "output_type": "stream",
     "text": [
      "['H', 'i']\n",
      "('H', 'i')\n",
      "['P', 'i']\n"
     ]
    }
   ],
   "source": [
    "#tuple,list\n",
    "list1 = ['H','i']\n",
    "tuple1 = ('H','i')\n",
    "\n",
    "print(list1)\n",
    "print(tuple1)\n",
    "\n",
    "list1[0] = 'P'\n",
    "#tuple1[0] = 'p'\n",
    "\n",
    "print(list1)"
   ]
  },
  {
   "cell_type": "code",
   "execution_count": 6,
   "id": "f5d37b41",
   "metadata": {},
   "outputs": [
    {
     "data": {
      "text/plain": [
       "['H', 'e', 'l', 'l', 'o', 'W', 'o', 'r', 'l', 'd']"
      ]
     },
     "execution_count": 6,
     "metadata": {},
     "output_type": "execute_result"
    }
   ],
   "source": [
    "list1 = list(\"HelloWorld\")\n",
    "list1"
   ]
  },
  {
   "cell_type": "code",
   "execution_count": 7,
   "id": "4d1b7de8",
   "metadata": {},
   "outputs": [
    {
     "data": {
      "text/plain": [
       "'l'"
      ]
     },
     "execution_count": 7,
     "metadata": {},
     "output_type": "execute_result"
    }
   ],
   "source": [
    "list1[2]"
   ]
  },
  {
   "cell_type": "code",
   "execution_count": 8,
   "id": "04f7d5d3",
   "metadata": {},
   "outputs": [
    {
     "data": {
      "text/plain": [
       "['l']"
      ]
     },
     "execution_count": 8,
     "metadata": {},
     "output_type": "execute_result"
    }
   ],
   "source": [
    "list1[2:3]"
   ]
  },
  {
   "cell_type": "code",
   "execution_count": 9,
   "id": "8fcdf062",
   "metadata": {},
   "outputs": [
    {
     "data": {
      "text/plain": [
       "['l', 'l']"
      ]
     },
     "execution_count": 9,
     "metadata": {},
     "output_type": "execute_result"
    }
   ],
   "source": [
    "list1[2:4]"
   ]
  },
  {
   "cell_type": "code",
   "execution_count": 10,
   "id": "0fddc412",
   "metadata": {},
   "outputs": [
    {
     "data": {
      "text/plain": [
       "['l', 'l', 'o', 'W', 'o', 'r', 'l', 'd']"
      ]
     },
     "execution_count": 10,
     "metadata": {},
     "output_type": "execute_result"
    }
   ],
   "source": [
    "list1[2:]"
   ]
  },
  {
   "cell_type": "code",
   "execution_count": 11,
   "id": "20bc5bcf",
   "metadata": {},
   "outputs": [
    {
     "data": {
      "text/plain": [
       "['H', 'e', 'l']"
      ]
     },
     "execution_count": 11,
     "metadata": {},
     "output_type": "execute_result"
    }
   ],
   "source": [
    "list1[:3]"
   ]
  },
  {
   "cell_type": "code",
   "execution_count": 12,
   "id": "47e93c71",
   "metadata": {},
   "outputs": [
    {
     "data": {
      "text/plain": [
       "['H', 'e', 'l', 'l', 'o']"
      ]
     },
     "execution_count": 12,
     "metadata": {},
     "output_type": "execute_result"
    }
   ],
   "source": [
    "#取前5個\n",
    "list1[:5]"
   ]
  },
  {
   "cell_type": "code",
   "execution_count": 13,
   "id": "87530a6b",
   "metadata": {},
   "outputs": [
    {
     "data": {
      "text/plain": [
       "['W', 'o', 'r', 'l', 'd']"
      ]
     },
     "execution_count": 13,
     "metadata": {},
     "output_type": "execute_result"
    }
   ],
   "source": [
    "#取最後5個\n",
    "list1[-5:]"
   ]
  },
  {
   "cell_type": "code",
   "execution_count": 14,
   "id": "1985f36b",
   "metadata": {},
   "outputs": [
    {
     "data": {
      "text/plain": [
       "[['筆記電腦', '商用筆電'], ['APPLE', 'ASUS', 'HTC'], [3, '冰箱', 2, '洗衣機']]"
      ]
     },
     "execution_count": 14,
     "metadata": {},
     "output_type": "execute_result"
    }
   ],
   "source": [
    "#2維list\n",
    "nb = ['筆記電腦', '商用筆電']\n",
    "mobile = ['APPLE', 'ASUS', 'HTC']\n",
    "home = [3, '冰箱', 2, '洗衣機']\n",
    "all3c = [nb, mobile, home]\n",
    "all3c"
   ]
  },
  {
   "cell_type": "code",
   "execution_count": 15,
   "id": "12cf99bf",
   "metadata": {},
   "outputs": [
    {
     "data": {
      "text/plain": [
       "['筆記電腦', '商用筆電']"
      ]
     },
     "execution_count": 15,
     "metadata": {},
     "output_type": "execute_result"
    }
   ],
   "source": [
    "all3c[0]"
   ]
  },
  {
   "cell_type": "code",
   "execution_count": 16,
   "id": "825697c5",
   "metadata": {},
   "outputs": [
    {
     "data": {
      "text/plain": [
       "'冰箱'"
      ]
     },
     "execution_count": 16,
     "metadata": {},
     "output_type": "execute_result"
    }
   ],
   "source": [
    "all3c[2][1]"
   ]
  },
  {
   "cell_type": "code",
   "execution_count": 18,
   "id": "6f043b89",
   "metadata": {},
   "outputs": [
    {
     "name": "stdout",
     "output_type": "stream",
     "text": [
      "['H', 'e', 'l', 'l', 'o', 'W', 'o', 'r', 'l', 'd']\n",
      "10\n"
     ]
    }
   ],
   "source": [
    "list1 = list(\"HelloWorld\")\n",
    "print(list1)\n",
    "print(len(list1))"
   ]
  },
  {
   "cell_type": "code",
   "execution_count": 23,
   "id": "93ae5d21",
   "metadata": {},
   "outputs": [
    {
     "name": "stdout",
     "output_type": "stream",
     "text": [
      "第0元素是H\n",
      "第1元素是e\n",
      "第2元素是l\n",
      "第3元素是l\n",
      "第4元素是o\n",
      "第5元素是W\n",
      "第6元素是o\n",
      "第7元素是r\n",
      "第8元素是l\n",
      "第9元素是d\n"
     ]
    }
   ],
   "source": [
    "for index in range(0,len(list1)):\n",
    "    print(f\"第{index}元素是{list1[index]}\")"
   ]
  },
  {
   "cell_type": "code",
   "execution_count": 22,
   "id": "eeb31bce",
   "metadata": {},
   "outputs": [
    {
     "name": "stdout",
     "output_type": "stream",
     "text": [
      "H\n",
      "e\n",
      "l\n",
      "l\n",
      "o\n",
      "W\n",
      "o\n",
      "r\n",
      "l\n",
      "d\n"
     ]
    }
   ],
   "source": [
    "for word in list1:\n",
    "    print(word)"
   ]
  },
  {
   "cell_type": "code",
   "execution_count": 25,
   "id": "d86a8e94",
   "metadata": {},
   "outputs": [
    {
     "name": "stdout",
     "output_type": "stream",
     "text": [
      "第0元素是H\n",
      "第1元素是e\n",
      "第2元素是l\n",
      "第3元素是l\n",
      "第4元素是o\n",
      "第5元素是W\n",
      "第6元素是o\n",
      "第7元素是r\n",
      "第8元素是l\n",
      "第9元素是d\n"
     ]
    }
   ],
   "source": [
    "for tupleItem in enumerate(list1):\n",
    "    index,item = tupleItem\n",
    "    print(f\"第{index}元素是{item}\")"
   ]
  },
  {
   "cell_type": "code",
   "execution_count": 26,
   "id": "b6fe0d53",
   "metadata": {},
   "outputs": [
    {
     "name": "stdout",
     "output_type": "stream",
     "text": [
      "第0元素是H\n",
      "第1元素是e\n",
      "第2元素是l\n",
      "第3元素是l\n",
      "第4元素是o\n",
      "第5元素是W\n",
      "第6元素是o\n",
      "第7元素是r\n",
      "第8元素是l\n",
      "第9元素是d\n"
     ]
    }
   ],
   "source": [
    "for index,item in enumerate(list1):\n",
    "    print(f\"第{index}元素是{item}\")"
   ]
  },
  {
   "cell_type": "code",
   "execution_count": null,
   "id": "25f74336",
   "metadata": {},
   "outputs": [],
   "source": []
  }
 ],
 "metadata": {
  "kernelspec": {
   "display_name": "Python 3",
   "language": "python",
   "name": "python3"
  },
  "language_info": {
   "codemirror_mode": {
    "name": "ipython",
    "version": 3
   },
   "file_extension": ".py",
   "mimetype": "text/x-python",
   "name": "python",
   "nbconvert_exporter": "python",
   "pygments_lexer": "ipython3",
   "version": "3.8.7"
  }
 },
 "nbformat": 4,
 "nbformat_minor": 5
}
