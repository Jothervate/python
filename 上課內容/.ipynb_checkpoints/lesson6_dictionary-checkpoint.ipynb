{
 "cells": [
  {
   "cell_type": "code",
   "execution_count": 2,
   "id": "9e04b6da",
   "metadata": {},
   "outputs": [
    {
     "name": "stdout",
     "output_type": "stream",
     "text": [
      "Taiwan\n",
      "Japan\n",
      "Hong Kong\n"
     ]
    },
    {
     "ename": "KeyError",
     "evalue": "'us'",
     "output_type": "error",
     "traceback": [
      "\u001b[0;31m---------------------------------------------------------------------------\u001b[0m",
      "\u001b[0;31mKeyError\u001b[0m                                  Traceback (most recent call last)",
      "\u001b[0;32m<ipython-input-2-aff2a6a4e092>\u001b[0m in \u001b[0;36m<module>\u001b[0;34m\u001b[0m\n\u001b[1;32m      3\u001b[0m \u001b[0mprint\u001b[0m\u001b[0;34m(\u001b[0m\u001b[0mcodes\u001b[0m\u001b[0;34m[\u001b[0m\u001b[0;34m\"jp\"\u001b[0m\u001b[0;34m]\u001b[0m\u001b[0;34m)\u001b[0m\u001b[0;34m\u001b[0m\u001b[0;34m\u001b[0m\u001b[0m\n\u001b[1;32m      4\u001b[0m \u001b[0mprint\u001b[0m\u001b[0;34m(\u001b[0m\u001b[0mcodes\u001b[0m\u001b[0;34m[\u001b[0m\u001b[0;34m\"hk\"\u001b[0m\u001b[0;34m]\u001b[0m\u001b[0;34m)\u001b[0m\u001b[0;34m\u001b[0m\u001b[0;34m\u001b[0m\u001b[0m\n\u001b[0;32m----> 5\u001b[0;31m \u001b[0mprint\u001b[0m\u001b[0;34m(\u001b[0m\u001b[0mcodes\u001b[0m\u001b[0;34m[\u001b[0m\u001b[0;34m\"us\"\u001b[0m\u001b[0;34m]\u001b[0m\u001b[0;34m)\u001b[0m\u001b[0;34m\u001b[0m\u001b[0;34m\u001b[0m\u001b[0m\n\u001b[0m",
      "\u001b[0;31mKeyError\u001b[0m: 'us'"
     ]
    }
   ],
   "source": [
    "codes = {\"tw\":\"Taiwan\", \"jp\":\"Japan\", \"hk\":\"Hong Kong\"}\n",
    "print(codes[\"tw\"])\n",
    "print(codes[\"jp\"])\n",
    "print(codes[\"hk\"])\n",
    "#print(codes[\"us\"])"
   ]
  },
  {
   "cell_type": "code",
   "execution_count": 3,
   "id": "ea1737bc",
   "metadata": {},
   "outputs": [
    {
     "data": {
      "text/plain": [
       "{1: 'one', 2: 'two', 3: 'three', 4: 'four', 5: 'five'}"
      ]
     },
     "execution_count": 3,
     "metadata": {},
     "output_type": "execute_result"
    }
   ],
   "source": [
    "nums = {\n",
    "    1:\"one\",\n",
    "    2:\"two\",\n",
    "    3:\"three\",\n",
    "    4:\"four\",\n",
    "    5:\"five\"\n",
    "}\n",
    "nums"
   ]
  },
  {
   "cell_type": "code",
   "execution_count": 5,
   "id": "5a05caa7",
   "metadata": {},
   "outputs": [
    {
     "data": {
      "text/plain": [
       "{1: 'one', 2: 'two', 3: 'three', 4: 'four', 5: 'five', 6: 'six'}"
      ]
     },
     "execution_count": 5,
     "metadata": {},
     "output_type": "execute_result"
    }
   ],
   "source": [
    "#新增\n",
    "nums[6] = \"six\"\n",
    "nums"
   ]
  },
  {
   "cell_type": "code",
   "execution_count": 6,
   "id": "ae2ef495",
   "metadata": {},
   "outputs": [
    {
     "data": {
      "text/plain": [
       "{1: 'one', 2: 'two', 3: 'three', 4: 'four', 5: 'five', 6: 'SIX'}"
      ]
     },
     "execution_count": 6,
     "metadata": {},
     "output_type": "execute_result"
    }
   ],
   "source": [
    "#更新\n",
    "nums[6] = \"SIX\"\n",
    "nums"
   ]
  },
  {
   "cell_type": "code",
   "execution_count": 7,
   "id": "e7d81fd1",
   "metadata": {},
   "outputs": [
    {
     "data": {
      "text/plain": [
       "dict"
      ]
     },
     "execution_count": 7,
     "metadata": {},
     "output_type": "execute_result"
    }
   ],
   "source": [
    "type(nums)"
   ]
  },
  {
   "cell_type": "code",
   "execution_count": 9,
   "id": "def4b2c7",
   "metadata": {},
   "outputs": [
    {
     "data": {
      "text/plain": [
       "{}"
      ]
     },
     "execution_count": 9,
     "metadata": {},
     "output_type": "execute_result"
    }
   ],
   "source": [
    "empty=dict()\n",
    "empty"
   ]
  },
  {
   "cell_type": "code",
   "execution_count": 10,
   "id": "15f87a39",
   "metadata": {},
   "outputs": [
    {
     "data": {
      "text/plain": [
       "{}"
      ]
     },
     "execution_count": 10,
     "metadata": {},
     "output_type": "execute_result"
    }
   ],
   "source": [
    "another_empty = {}\n",
    "another_empty"
   ]
  },
  {
   "cell_type": "code",
   "execution_count": 12,
   "id": "046780e9",
   "metadata": {},
   "outputs": [
    {
     "data": {
      "text/plain": [
       "[{'chinese': 54, 'english': 87, 'math': 95, 'history': 72, 'nature': 74},\n",
       " {'chinese': 62, 'english': 85, 'math': 63, 'history': 66, 'nature': 85},\n",
       " {'chinese': 63, 'english': 61, 'math': 81, 'history': 85, 'nature': 74},\n",
       " {'chinese': 93, 'english': 68, 'math': 92, 'history': 68, 'nature': 92},\n",
       " {'chinese': 73, 'english': 62, 'math': 69, 'history': 63, 'nature': 85},\n",
       " {'chinese': 88, 'english': 82, 'math': 67, 'history': 60, 'nature': 64},\n",
       " {'chinese': 61, 'english': 59, 'math': 97, 'history': 78, 'nature': 59},\n",
       " {'chinese': 52, 'english': 86, 'math': 80, 'history': 84, 'nature': 52},\n",
       " {'chinese': 64, 'english': 95, 'math': 66, 'history': 82, 'nature': 94},\n",
       " {'chinese': 86, 'english': 76, 'math': 83, 'history': 62, 'nature': 83},\n",
       " {'chinese': 96, 'english': 98, 'math': 87, 'history': 88, 'nature': 79},\n",
       " {'chinese': 64, 'english': 99, 'math': 96, 'history': 71, 'nature': 73},\n",
       " {'chinese': 78, 'english': 61, 'math': 91, 'history': 83, 'nature': 97},\n",
       " {'chinese': 86, 'english': 64, 'math': 92, 'history': 53, 'nature': 83},\n",
       " {'chinese': 75, 'english': 89, 'math': 80, 'history': 63, 'nature': 53},\n",
       " {'chinese': 82, 'english': 98, 'math': 80, 'history': 96, 'nature': 83},\n",
       " {'chinese': 79, 'english': 54, 'math': 69, 'history': 53, 'nature': 58},\n",
       " {'chinese': 70, 'english': 63, 'math': 91, 'history': 59, 'nature': 100},\n",
       " {'chinese': 54, 'english': 77, 'math': 92, 'history': 97, 'nature': 54},\n",
       " {'chinese': 94, 'english': 59, 'math': 75, 'history': 56, 'nature': 55},\n",
       " {'chinese': 84, 'english': 54, 'math': 70, 'history': 63, 'nature': 65},\n",
       " {'chinese': 52, 'english': 76, 'math': 82, 'history': 65, 'nature': 97},\n",
       " {'chinese': 88, 'english': 54, 'math': 58, 'history': 88, 'nature': 79},\n",
       " {'chinese': 79, 'english': 93, 'math': 65, 'history': 53, 'nature': 66},\n",
       " {'chinese': 85, 'english': 96, 'math': 68, 'history': 73, 'nature': 88},\n",
       " {'chinese': 85, 'english': 96, 'math': 82, 'history': 72, 'nature': 56},\n",
       " {'chinese': 80, 'english': 82, 'math': 77, 'history': 89, 'nature': 98},\n",
       " {'chinese': 78, 'english': 64, 'math': 82, 'history': 92, 'nature': 80},\n",
       " {'chinese': 98, 'english': 100, 'math': 60, 'history': 88, 'nature': 74},\n",
       " {'chinese': 50, 'english': 58, 'math': 67, 'history': 57, 'nature': 68},\n",
       " {'chinese': 75, 'english': 66, 'math': 53, 'history': 66, 'nature': 92},\n",
       " {'chinese': 60, 'english': 53, 'math': 93, 'history': 75, 'nature': 54},\n",
       " {'chinese': 82, 'english': 97, 'math': 85, 'history': 87, 'nature': 70},\n",
       " {'chinese': 57, 'english': 70, 'math': 50, 'history': 90, 'nature': 64},\n",
       " {'chinese': 78, 'english': 80, 'math': 86, 'history': 73, 'nature': 72},\n",
       " {'chinese': 88, 'english': 90, 'math': 73, 'history': 72, 'nature': 90},\n",
       " {'chinese': 62, 'english': 84, 'math': 90, 'history': 93, 'nature': 76},\n",
       " {'chinese': 97, 'english': 84, 'math': 91, 'history': 97, 'nature': 97},\n",
       " {'chinese': 50, 'english': 78, 'math': 63, 'history': 89, 'nature': 83},\n",
       " {'chinese': 54, 'english': 51, 'math': 64, 'history': 63, 'nature': 90},\n",
       " {'chinese': 64, 'english': 93, 'math': 77, 'history': 63, 'nature': 69},\n",
       " {'chinese': 96, 'english': 55, 'math': 59, 'history': 53, 'nature': 76},\n",
       " {'chinese': 54, 'english': 69, 'math': 98, 'history': 65, 'nature': 55},\n",
       " {'chinese': 69, 'english': 99, 'math': 89, 'history': 76, 'nature': 82},\n",
       " {'chinese': 70, 'english': 95, 'math': 81, 'history': 100, 'nature': 90},\n",
       " {'chinese': 66, 'english': 71, 'math': 89, 'history': 80, 'nature': 95},\n",
       " {'chinese': 70, 'english': 59, 'math': 76, 'history': 96, 'nature': 98},\n",
       " {'chinese': 100, 'english': 87, 'math': 97, 'history': 79, 'nature': 89},\n",
       " {'chinese': 52, 'english': 59, 'math': 53, 'history': 56, 'nature': 88},\n",
       " {'chinese': 93, 'english': 81, 'math': 72, 'history': 71, 'nature': 90}]"
      ]
     },
     "execution_count": 12,
     "metadata": {},
     "output_type": "execute_result"
    }
   ],
   "source": [
    "import random\n",
    "students = []\n",
    "for _ in range(50):\n",
    "    scores = dict()\n",
    "    subjects = [\"chinese\", \"english\", \"math\", \"history\", \"nature\"]\n",
    "    for subject in subjects:\n",
    "        scores[subject] = random.randint(50,100)\n",
    "    students.append(scores)\n",
    "students"
   ]
  },
  {
   "cell_type": "code",
   "execution_count": 13,
   "id": "02ccfafb",
   "metadata": {},
   "outputs": [],
   "source": [
    "signals = {'綠燈': '走', '黃燈': '走快些', '紅燈': '停等'}"
   ]
  },
  {
   "cell_type": "code",
   "execution_count": 16,
   "id": "b58fbfd4",
   "metadata": {},
   "outputs": [
    {
     "name": "stdout",
     "output_type": "stream",
     "text": [
      "key:綠燈\n",
      "key:黃燈\n",
      "key:紅燈\n"
     ]
    }
   ],
   "source": [
    "for key in signals.keys():\n",
    "    print(f\"key:{key}\")"
   ]
  },
  {
   "cell_type": "code",
   "execution_count": 17,
   "id": "3b483f97",
   "metadata": {},
   "outputs": [
    {
     "name": "stdout",
     "output_type": "stream",
     "text": [
      "values:走\n",
      "values:走快些\n",
      "values:停等\n"
     ]
    }
   ],
   "source": [
    "for value in signals.values():\n",
    "    print(f\"values:{value}\")"
   ]
  },
  {
   "cell_type": "code",
   "execution_count": 18,
   "id": "9c2df68a",
   "metadata": {},
   "outputs": [
    {
     "name": "stdout",
     "output_type": "stream",
     "text": [
      "key:綠燈,value:走\n",
      "key:黃燈,value:走快些\n",
      "key:紅燈,value:停等\n"
     ]
    }
   ],
   "source": [
    "for key,value in signals.items():\n",
    "    print(f\"key:{key},value:{value}\")"
   ]
  },
  {
   "cell_type": "code",
   "execution_count": 25,
   "id": "21bd4d3b",
   "metadata": {},
   "outputs": [
    {
     "name": "stdout",
     "output_type": "stream",
     "text": [
      "chinese\t\tenglish\t\tmath\t\thistory\t\tnature\t\t\n",
      "54\t\t87\t\t95\t\t72\t\t95\n",
      "62\t\t85\t\t63\t\t66\t\t63\n",
      "63\t\t61\t\t81\t\t85\t\t81\n",
      "93\t\t68\t\t92\t\t68\t\t92\n",
      "73\t\t62\t\t69\t\t63\t\t69\n",
      "88\t\t82\t\t67\t\t60\t\t67\n",
      "61\t\t59\t\t97\t\t78\t\t97\n",
      "52\t\t86\t\t80\t\t84\t\t80\n",
      "64\t\t95\t\t66\t\t82\t\t66\n",
      "86\t\t76\t\t83\t\t62\t\t83\n",
      "96\t\t98\t\t87\t\t88\t\t87\n",
      "64\t\t99\t\t96\t\t71\t\t96\n",
      "78\t\t61\t\t91\t\t83\t\t91\n",
      "86\t\t64\t\t92\t\t53\t\t92\n",
      "75\t\t89\t\t80\t\t63\t\t80\n",
      "82\t\t98\t\t80\t\t96\t\t80\n",
      "79\t\t54\t\t69\t\t53\t\t69\n",
      "70\t\t63\t\t91\t\t59\t\t91\n",
      "54\t\t77\t\t92\t\t97\t\t92\n",
      "94\t\t59\t\t75\t\t56\t\t75\n",
      "84\t\t54\t\t70\t\t63\t\t70\n",
      "52\t\t76\t\t82\t\t65\t\t82\n",
      "88\t\t54\t\t58\t\t88\t\t58\n",
      "79\t\t93\t\t65\t\t53\t\t65\n",
      "85\t\t96\t\t68\t\t73\t\t68\n",
      "85\t\t96\t\t82\t\t72\t\t82\n",
      "80\t\t82\t\t77\t\t89\t\t77\n",
      "78\t\t64\t\t82\t\t92\t\t82\n",
      "98\t\t100\t\t60\t\t88\t\t60\n",
      "50\t\t58\t\t67\t\t57\t\t67\n",
      "75\t\t66\t\t53\t\t66\t\t53\n",
      "60\t\t53\t\t93\t\t75\t\t93\n",
      "82\t\t97\t\t85\t\t87\t\t85\n",
      "57\t\t70\t\t50\t\t90\t\t50\n",
      "78\t\t80\t\t86\t\t73\t\t86\n",
      "88\t\t90\t\t73\t\t72\t\t73\n",
      "62\t\t84\t\t90\t\t93\t\t90\n",
      "97\t\t84\t\t91\t\t97\t\t91\n",
      "50\t\t78\t\t63\t\t89\t\t63\n",
      "54\t\t51\t\t64\t\t63\t\t64\n",
      "64\t\t93\t\t77\t\t63\t\t77\n",
      "96\t\t55\t\t59\t\t53\t\t59\n",
      "54\t\t69\t\t98\t\t65\t\t98\n",
      "69\t\t99\t\t89\t\t76\t\t89\n",
      "70\t\t95\t\t81\t\t100\t\t81\n",
      "66\t\t71\t\t89\t\t80\t\t89\n",
      "70\t\t59\t\t76\t\t96\t\t76\n",
      "100\t\t87\t\t97\t\t79\t\t97\n",
      "52\t\t59\t\t53\t\t56\t\t53\n",
      "93\t\t81\t\t72\t\t71\t\t72\n"
     ]
    }
   ],
   "source": [
    "students\n",
    "subjects = students[0].keys()\n",
    "for name in subjects:\n",
    "    print(name,end='\\t\\t')\n",
    "print()\n",
    "for student in students:\n",
    "    print(f'{student[\"chinese\"]}\\t\\t{student[\"english\"]}\\t\\t{student[\"math\"]}\\t\\t{student[\"history\"]}\\t\\t{student[\"math\"]}')"
   ]
  },
  {
   "cell_type": "code",
   "execution_count": null,
   "id": "d7b219f4",
   "metadata": {},
   "outputs": [],
   "source": []
  }
 ],
 "metadata": {
  "kernelspec": {
   "display_name": "Python 3",
   "language": "python",
   "name": "python3"
  },
  "language_info": {
   "codemirror_mode": {
    "name": "ipython",
    "version": 3
   },
   "file_extension": ".py",
   "mimetype": "text/x-python",
   "name": "python",
   "nbconvert_exporter": "python",
   "pygments_lexer": "ipython3",
   "version": "3.8.7"
  }
 },
 "nbformat": 4,
 "nbformat_minor": 5
}
