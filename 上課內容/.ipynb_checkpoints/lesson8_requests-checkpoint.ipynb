{
 "cells": [
  {
   "cell_type": "code",
   "execution_count": null,
   "id": "4af89e5c",
   "metadata": {},
   "outputs": [],
   "source": [
    "import requests\n",
    "\n",
    "response = requests.get('https://shopping.pchome.com.tw/')\n",
    "print(type(response))\n",
    "if response.ok :\n",
    "    print(\"下載成功\")\n",
    "    print(\"內容是\")\n",
    "    print(response.text)\n",
    "else:\n",
    "    print(\"下載失敗\")\n",
    "    "
   ]
  },
  {
   "cell_type": "code",
   "execution_count": null,
   "id": "76391622",
   "metadata": {},
   "outputs": [],
   "source": [
    "help(response)"
   ]
  },
  {
   "cell_type": "code",
   "execution_count": 13,
   "id": "b43ed19d",
   "metadata": {},
   "outputs": [
    {
     "name": "stdout",
     "output_type": "stream",
     "text": [
      "60\n"
     ]
    }
   ],
   "source": [
    "#傳統函數 \n",
    "\n",
    "def f(x, y, z):\n",
    "    return x+y+z;\n",
    "\n",
    "print(f(10,20,30))"
   ]
  },
  {
   "cell_type": "code",
   "execution_count": 14,
   "id": "69eef1c1",
   "metadata": {},
   "outputs": [
    {
     "name": "stdout",
     "output_type": "stream",
     "text": [
      "60\n"
     ]
    }
   ],
   "source": [
    "#匿名函數\n",
    "noNameFunction = lambda x,y,z:x+y+z\n",
    "print(noNameFunction(10,20,30))"
   ]
  },
  {
   "cell_type": "code",
   "execution_count": 15,
   "id": "261a218c",
   "metadata": {},
   "outputs": [
    {
     "data": {
      "text/plain": [
       "[1, 4, 9, 16, 25]"
      ]
     },
     "execution_count": 15,
     "metadata": {},
     "output_type": "execute_result"
    }
   ],
   "source": [
    "#傳統函數 \n",
    "\n",
    "def square(x):\n",
    "    return x ** 2\n",
    "\n",
    "newList = list(map(square,[1,2,3,4,5]))\n",
    "newList"
   ]
  },
  {
   "cell_type": "code",
   "execution_count": 16,
   "id": "dc7c7f08",
   "metadata": {},
   "outputs": [
    {
     "data": {
      "text/plain": [
       "[1, 4, 9, 16, 25]"
      ]
     },
     "execution_count": 16,
     "metadata": {},
     "output_type": "execute_result"
    }
   ],
   "source": [
    "#匿名函數\n",
    "newList = list(map(lambda x:x ** 2,[1,2,3,4,5]))\n",
    "newList"
   ]
  },
  {
   "cell_type": "code",
   "execution_count": null,
   "id": "bdb6664b",
   "metadata": {},
   "outputs": [],
   "source": []
  }
 ],
 "metadata": {
  "kernelspec": {
   "display_name": "Python 3",
   "language": "python",
   "name": "python3"
  },
  "language_info": {
   "codemirror_mode": {
    "name": "ipython",
    "version": 3
   },
   "file_extension": ".py",
   "mimetype": "text/x-python",
   "name": "python",
   "nbconvert_exporter": "python",
   "pygments_lexer": "ipython3",
   "version": "3.8.7"
  }
 },
 "nbformat": 4,
 "nbformat_minor": 5
}
