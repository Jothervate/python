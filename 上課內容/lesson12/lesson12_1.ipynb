{
 "cells": [
  {
   "cell_type": "code",
   "execution_count": 2,
   "id": "facc401b",
   "metadata": {},
   "outputs": [
    {
     "data": {
      "text/plain": [
       "array([0, 1, 2, 3, 4, 5, 6, 7, 8, 9])"
      ]
     },
     "execution_count": 2,
     "metadata": {},
     "output_type": "execute_result"
    }
   ],
   "source": [
    "import numpy as np\n",
    "arr = np.arange(10)\n",
    "arr"
   ]
  },
  {
   "cell_type": "code",
   "execution_count": 3,
   "id": "7d2f629c",
   "metadata": {},
   "outputs": [
    {
     "data": {
      "text/plain": [
       "5"
      ]
     },
     "execution_count": 3,
     "metadata": {},
     "output_type": "execute_result"
    }
   ],
   "source": [
    "arr[5]"
   ]
  },
  {
   "cell_type": "code",
   "execution_count": 4,
   "id": "fab3f4f7",
   "metadata": {},
   "outputs": [
    {
     "data": {
      "text/plain": [
       "array([5, 6, 7])"
      ]
     },
     "execution_count": 4,
     "metadata": {},
     "output_type": "execute_result"
    }
   ],
   "source": [
    "arr[5:8]"
   ]
  },
  {
   "cell_type": "code",
   "execution_count": 6,
   "id": "fc202425",
   "metadata": {},
   "outputs": [
    {
     "data": {
      "text/plain": [
       "array([ 0,  1,  2,  3,  4, 12, 12, 12,  8,  9])"
      ]
     },
     "execution_count": 6,
     "metadata": {},
     "output_type": "execute_result"
    }
   ],
   "source": [
    "arr[5:8] = 12\n",
    "arr"
   ]
  },
  {
   "cell_type": "code",
   "execution_count": 7,
   "id": "f5cd0424",
   "metadata": {},
   "outputs": [
    {
     "data": {
      "text/plain": [
       "array([[1, 2, 3],\n",
       "       [4, 5, 6],\n",
       "       [7, 8, 9]])"
      ]
     },
     "execution_count": 7,
     "metadata": {},
     "output_type": "execute_result"
    }
   ],
   "source": [
    "arr2d = np.array([[1, 2, 3],[4, 5, 6],[7, 8, 9]])\n",
    "arr2d"
   ]
  },
  {
   "cell_type": "code",
   "execution_count": 8,
   "id": "f0d18d6a",
   "metadata": {},
   "outputs": [
    {
     "data": {
      "text/plain": [
       "3"
      ]
     },
     "execution_count": 8,
     "metadata": {},
     "output_type": "execute_result"
    }
   ],
   "source": [
    "arr2d[0][2]"
   ]
  },
  {
   "cell_type": "code",
   "execution_count": 9,
   "id": "b7bc7816",
   "metadata": {},
   "outputs": [
    {
     "data": {
      "text/plain": [
       "3"
      ]
     },
     "execution_count": 9,
     "metadata": {},
     "output_type": "execute_result"
    }
   ],
   "source": [
    "arr2d[0,2]"
   ]
  },
  {
   "cell_type": "code",
   "execution_count": 10,
   "id": "b18fd53d",
   "metadata": {},
   "outputs": [
    {
     "data": {
      "text/plain": [
       "array([[1, 2, 3],\n",
       "       [4, 5, 6]])"
      ]
     },
     "execution_count": 10,
     "metadata": {},
     "output_type": "execute_result"
    }
   ],
   "source": [
    "arr2d[:2]"
   ]
  },
  {
   "cell_type": "code",
   "execution_count": 11,
   "id": "37fd9d5c",
   "metadata": {},
   "outputs": [
    {
     "data": {
      "text/plain": [
       "array([[2, 3],\n",
       "       [5, 6]])"
      ]
     },
     "execution_count": 11,
     "metadata": {},
     "output_type": "execute_result"
    }
   ],
   "source": [
    "arr2d[:2,1:]"
   ]
  },
  {
   "cell_type": "code",
   "execution_count": 14,
   "id": "5c74e5a2",
   "metadata": {},
   "outputs": [
    {
     "name": "stdout",
     "output_type": "stream",
     "text": [
      "[ 0  1  2  3  4  5  6  7  8  9 10 11]\n",
      "(12,)\n"
     ]
    }
   ],
   "source": [
    "a = np.arange(12)\n",
    "print(a)\n",
    "print(a.shape)\n"
   ]
  },
  {
   "cell_type": "code",
   "execution_count": 15,
   "id": "c0e3d123",
   "metadata": {},
   "outputs": [
    {
     "name": "stdout",
     "output_type": "stream",
     "text": [
      "[[ 0  1  2  3]\n",
      " [ 4  5  6  7]\n",
      " [ 8  9 10 11]]\n",
      "(3, 4)\n"
     ]
    }
   ],
   "source": [
    "b = a.reshape((3,4))\n",
    "print(b)\n",
    "print(b.shape)"
   ]
  },
  {
   "cell_type": "code",
   "execution_count": 17,
   "id": "1e54b942",
   "metadata": {},
   "outputs": [
    {
     "name": "stdout",
     "output_type": "stream",
     "text": [
      "[ 0  1  2  3  4  5  6  7  8  9 10 11]\n",
      "(12,)\n"
     ]
    }
   ],
   "source": [
    "c = b.reshape((12,))\n",
    "print(c)\n",
    "print(c.shape)"
   ]
  },
  {
   "cell_type": "code",
   "execution_count": 19,
   "id": "e9d4db4e",
   "metadata": {},
   "outputs": [
    {
     "data": {
      "text/plain": [
       "array([[ 0,  1,  2],\n",
       "       [ 3,  4,  5],\n",
       "       [ 6,  7,  8],\n",
       "       [ 9, 10, 11],\n",
       "       [12, 13, 14],\n",
       "       [15, 16, 17],\n",
       "       [18, 19, 20],\n",
       "       [21, 22, 23]])"
      ]
     },
     "execution_count": 19,
     "metadata": {},
     "output_type": "execute_result"
    }
   ],
   "source": [
    "x = np.arange(24).reshape((8,3))\n",
    "x"
   ]
  },
  {
   "cell_type": "code",
   "execution_count": 23,
   "id": "57df8a40",
   "metadata": {},
   "outputs": [
    {
     "data": {
      "text/plain": [
       "array([[ 1. ,  2.8],\n",
       "       [ 4.6,  6.4],\n",
       "       [ 8.2, 10. ]])"
      ]
     },
     "execution_count": 23,
     "metadata": {},
     "output_type": "execute_result"
    }
   ],
   "source": [
    "x = np.linspace(1,10,6).reshape((3,2))\n",
    "x"
   ]
  },
  {
   "cell_type": "code",
   "execution_count": 25,
   "id": "aa319d4a",
   "metadata": {},
   "outputs": [
    {
     "name": "stdout",
     "output_type": "stream",
     "text": [
      "[[ 0  1  2]\n",
      " [ 3  4  5]\n",
      " [ 6  7  8]\n",
      " [ 9 10 11]\n",
      " [12 13 14]\n",
      " [15 16 17]\n",
      " [18 19 20]\n",
      " [21 22 23]]\n"
     ]
    },
    {
     "data": {
      "text/plain": [
       "array([[ 0,  3,  6,  9, 12, 15, 18, 21],\n",
       "       [ 1,  4,  7, 10, 13, 16, 19, 22],\n",
       "       [ 2,  5,  8, 11, 14, 17, 20, 23]])"
      ]
     },
     "execution_count": 25,
     "metadata": {},
     "output_type": "execute_result"
    }
   ],
   "source": [
    "x = np.arange(24).reshape((8,3))\n",
    "print(x)\n",
    "x.T"
   ]
  },
  {
   "cell_type": "code",
   "execution_count": 27,
   "id": "09e6c61b",
   "metadata": {},
   "outputs": [
    {
     "data": {
      "text/plain": [
       "array([ 1.        ,  1.47368421,  1.94736842,  2.42105263,  2.89473684,\n",
       "        3.36842105,  3.84210526,  4.31578947,  4.78947368,  5.26315789,\n",
       "        5.73684211,  6.21052632,  6.68421053,  7.15789474,  7.63157895,\n",
       "        8.10526316,  8.57894737,  9.05263158,  9.52631579, 10.        ])"
      ]
     },
     "execution_count": 27,
     "metadata": {},
     "output_type": "execute_result"
    }
   ],
   "source": [
    "np.linspace(1,10,20)"
   ]
  },
  {
   "cell_type": "code",
   "execution_count": 29,
   "id": "67b7b3d0",
   "metadata": {},
   "outputs": [
    {
     "data": {
      "text/plain": [
       "array([[ 0.801087  , -0.10161775,  0.49144853,  1.52943518],\n",
       "       [ 2.43392468, -0.0846231 , -0.45146157, -1.12536164],\n",
       "       [-0.79964362,  1.19368811, -0.24480946, -0.50737916],\n",
       "       [ 1.58709495,  0.01645074, -0.62292845, -1.66035277],\n",
       "       [-1.11336355,  0.9553983 ,  0.54353781, -0.10886824],\n",
       "       [-0.74697139, -1.08763764, -1.5340989 , -1.62146476],\n",
       "       [ 0.1326989 ,  0.87447927,  0.77003659,  0.56967585]])"
      ]
     },
     "execution_count": 29,
     "metadata": {},
     "output_type": "execute_result"
    }
   ],
   "source": [
    "data = np.random.randn(7,4)\n",
    "data"
   ]
  },
  {
   "cell_type": "code",
   "execution_count": 31,
   "id": "b50c1242",
   "metadata": {},
   "outputs": [
    {
     "data": {
      "text/plain": [
       "array([[ 0.801087  , -0.10161775,  0.49144853,  1.52943518],\n",
       "       [-0.79964362,  1.19368811, -0.24480946, -0.50737916],\n",
       "       [-0.74697139, -1.08763764, -1.5340989 , -1.62146476]])"
      ]
     },
     "execution_count": 31,
     "metadata": {},
     "output_type": "execute_result"
    }
   ],
   "source": [
    "data[[True,False,True,False,False,True,False]]"
   ]
  },
  {
   "cell_type": "code",
   "execution_count": 32,
   "id": "6f1705e8",
   "metadata": {},
   "outputs": [
    {
     "data": {
      "text/plain": [
       "array([[False,  True, False, False],\n",
       "       [False,  True,  True,  True],\n",
       "       [ True, False,  True,  True],\n",
       "       [False, False,  True,  True],\n",
       "       [ True, False, False,  True],\n",
       "       [ True,  True,  True,  True],\n",
       "       [False, False, False, False]])"
      ]
     },
     "execution_count": 32,
     "metadata": {},
     "output_type": "execute_result"
    }
   ],
   "source": [
    "data < 0"
   ]
  },
  {
   "cell_type": "code",
   "execution_count": 36,
   "id": "91fcdcc8",
   "metadata": {},
   "outputs": [
    {
     "data": {
      "text/plain": [
       "array([[0.801087  , 0.        , 0.49144853, 1.52943518],\n",
       "       [2.43392468, 0.        , 0.        , 0.        ],\n",
       "       [0.        , 1.19368811, 0.        , 0.        ],\n",
       "       [1.58709495, 0.01645074, 0.        , 0.        ],\n",
       "       [0.        , 0.9553983 , 0.54353781, 0.        ],\n",
       "       [0.        , 0.        , 0.        , 0.        ],\n",
       "       [0.1326989 , 0.87447927, 0.77003659, 0.56967585]])"
      ]
     },
     "execution_count": 36,
     "metadata": {},
     "output_type": "execute_result"
    }
   ],
   "source": [
    "data[data<0] = 0\n",
    "data"
   ]
  },
  {
   "cell_type": "code",
   "execution_count": 37,
   "id": "111ddced",
   "metadata": {},
   "outputs": [
    {
     "data": {
      "text/plain": [
       "array([[ 57,  50,  57,  55,  81],\n",
       "       [ 73,  70,  69,  84,  76],\n",
       "       [ 86,  79,  78,  96,  56],\n",
       "       [ 50,  63,  88,  93,  89],\n",
       "       [ 53, 100,  62,  60,  99],\n",
       "       [ 82,  84,  51,  51,  82],\n",
       "       [ 75,  64,  77,  74, 100],\n",
       "       [ 81,  65,  76,  57,  59],\n",
       "       [ 64,  58,  70,  70,  84],\n",
       "       [ 84,  63,  86,  77,  97]])"
      ]
     },
     "execution_count": 37,
     "metadata": {},
     "output_type": "execute_result"
    }
   ],
   "source": [
    "arr = np.random.randint(50,101,size=(10, 5))\n",
    "arr"
   ]
  },
  {
   "cell_type": "code",
   "execution_count": 40,
   "id": "328119d4",
   "metadata": {},
   "outputs": [
    {
     "name": "stdout",
     "output_type": "stream",
     "text": [
      "3655\n",
      "73.1\n"
     ]
    }
   ],
   "source": [
    "print(arr.sum())\n",
    "print(arr.mean())"
   ]
  },
  {
   "cell_type": "code",
   "execution_count": 42,
   "id": "891f9a1a",
   "metadata": {},
   "outputs": [
    {
     "name": "stdout",
     "output_type": "stream",
     "text": [
      "300\n",
      "372\n",
      "395\n",
      "383\n",
      "374\n",
      "350\n",
      "390\n",
      "338\n",
      "346\n",
      "407\n"
     ]
    }
   ],
   "source": [
    "for ar in arr:\n",
    "    print(ar.sum())"
   ]
  },
  {
   "cell_type": "code",
   "execution_count": 43,
   "id": "c66ba33d",
   "metadata": {},
   "outputs": [
    {
     "name": "stdout",
     "output_type": "stream",
     "text": [
      "60.0\n",
      "74.4\n",
      "79.0\n",
      "76.6\n",
      "74.8\n",
      "70.0\n",
      "78.0\n",
      "67.6\n",
      "69.2\n",
      "81.4\n"
     ]
    }
   ],
   "source": [
    "for ar in arr:\n",
    "    print(ar.mean())"
   ]
  },
  {
   "cell_type": "code",
   "execution_count": 46,
   "id": "f555a83c",
   "metadata": {},
   "outputs": [
    {
     "data": {
      "text/plain": [
       "array([300, 372, 395, 383, 374, 350, 390, 338, 346, 407])"
      ]
     },
     "execution_count": 46,
     "metadata": {},
     "output_type": "execute_result"
    }
   ],
   "source": [
    "arr.sum(axis=1)"
   ]
  },
  {
   "cell_type": "code",
   "execution_count": 47,
   "id": "a7a3aa0e",
   "metadata": {},
   "outputs": [
    {
     "data": {
      "text/plain": [
       "array([60. , 74.4, 79. , 76.6, 74.8, 70. , 78. , 67.6, 69.2, 81.4])"
      ]
     },
     "execution_count": 47,
     "metadata": {},
     "output_type": "execute_result"
    }
   ],
   "source": [
    "arr.mean(axis=1)"
   ]
  },
  {
   "cell_type": "code",
   "execution_count": 48,
   "id": "885ce54a",
   "metadata": {},
   "outputs": [
    {
     "data": {
      "text/plain": [
       "array([ True,  True, False, False,  True,  True, False,  True,  True,\n",
       "       False])"
      ]
     },
     "execution_count": 48,
     "metadata": {},
     "output_type": "execute_result"
    }
   ],
   "source": [
    "boolindex=arr.mean(axis=1) < 75\n",
    "boolindex"
   ]
  },
  {
   "cell_type": "code",
   "execution_count": 49,
   "id": "5fc258f4",
   "metadata": {},
   "outputs": [
    {
     "data": {
      "text/plain": [
       "array([[ 57,  50,  57,  55,  81],\n",
       "       [ 73,  70,  69,  84,  76],\n",
       "       [ 53, 100,  62,  60,  99],\n",
       "       [ 82,  84,  51,  51,  82],\n",
       "       [ 81,  65,  76,  57,  59],\n",
       "       [ 64,  58,  70,  70,  84]])"
      ]
     },
     "execution_count": 49,
     "metadata": {},
     "output_type": "execute_result"
    }
   ],
   "source": [
    "arr[boolindex]"
   ]
  },
  {
   "cell_type": "code",
   "execution_count": 50,
   "id": "6b372d39",
   "metadata": {},
   "outputs": [
    {
     "data": {
      "text/plain": [
       "array([ 0,  1,  3,  6, 10, 15, 21, 28])"
      ]
     },
     "execution_count": 50,
     "metadata": {},
     "output_type": "execute_result"
    }
   ],
   "source": [
    "arr = np.array([0, 1, 2, 3, 4, 5, 6, 7])\n",
    "arr.cumsum()"
   ]
  },
  {
   "cell_type": "code",
   "execution_count": 51,
   "id": "95234a73",
   "metadata": {},
   "outputs": [
    {
     "data": {
      "text/plain": [
       "array([ 4560,  8960,  2780,  8320,  9400, 12650,  6890])"
      ]
     },
     "execution_count": 51,
     "metadata": {},
     "output_type": "execute_result"
    }
   ],
   "source": [
    "incomeOfWeek = [456, 896, 278, 832, 940, 1265, 689]\n",
    "weekArr = np.array(incomeOfWeek) * 10\n",
    "weekArr"
   ]
  },
  {
   "cell_type": "code",
   "execution_count": 54,
   "id": "2ada771d",
   "metadata": {},
   "outputs": [],
   "source": [
    "result = weekArr.cumsum()"
   ]
  },
  {
   "cell_type": "code",
   "execution_count": 63,
   "id": "b4672896",
   "metadata": {},
   "outputs": [
    {
     "data": {
      "text/plain": [
       "<Figure size 576x360 with 0 Axes>"
      ]
     },
     "metadata": {},
     "output_type": "display_data"
    },
    {
     "data": {
      "image/png": "[encoded data removed]",
      "text/plain": [
       "<Figure size 432x288 with 1 Axes>"
      ]
     },
     "metadata": {
      "needs_background": "light"
     },
     "output_type": "display_data"
    }
   ],
   "source": [
    "import matplotlib.pyplot as plt\n",
    "plt.figure(figsize=(8,5))\n",
    "figure, ax1= plt.subplots()\n",
    "plt.title('Income of Week')\n",
    "plt.xlabel('day')\n",
    "plt.ylabel('income')\n",
    "plt.plot(range(1,8), result,'o-')\n",
    "plt.show()"
   ]
  },
  {
   "cell_type": "code",
   "execution_count": 73,
   "id": "58f7f832",
   "metadata": {},
   "outputs": [
    {
     "name": "stdout",
     "output_type": "stream",
     "text": [
      "[]\n"
     ]
    },
    {
     "data": {
      "image/png": "[encoded data removed]",
      "text/plain": [
       "<Figure size 576x360 with 1 Axes>"
      ]
     },
     "metadata": {
      "needs_background": "light"
     },
     "output_type": "display_data"
    }
   ],
   "source": [
    "index = ['apple', 'banana', 'orange', 'tomato', 'guava']\n",
    "values = [500, 700, 300, 400, 600]\n",
    "plt.figure(figsize=(8,5))\n",
    "plt.bar(index,values)\n",
    "plt.show()"
   ]
  },
  {
   "cell_type": "code",
   "execution_count": 89,
   "id": "7632ccc3",
   "metadata": {},
   "outputs": [
    {
     "name": "stdout",
     "output_type": "stream",
     "text": [
      "5000\n",
      "7000\n",
      "3000\n",
      "4000\n",
      "6000\n"
     ]
    },
    {
     "data": {
      "image/png": "[encoded data removed]",
      "text/plain": [
       "<Figure size 432x288 with 1 Axes>"
      ]
     },
     "metadata": {
      "needs_background": "light"
     },
     "output_type": "display_data"
    }
   ],
   "source": [
    "import numpy as np\n",
    "index = np.arange(5)\n",
    "values1 = np.array([5,7,3,4,6]) * 1000\n",
    "plt.axis([-1,5,0,8000])\n",
    "plt.bar(index, values1)\n",
    "plt.xticks(index,['apple', 'banana', 'orange', 'tomato', 'guava'])\n",
    "for i in index:\n",
    "    print(values1[i])\n",
    "    plt.text(i-0.2,values1[i]+200,values1[i])"
   ]
  },
  {
   "cell_type": "code",
   "execution_count": 95,
   "id": "86e33e5f",
   "metadata": {},
   "outputs": [
    {
     "data": {
      "text/plain": [
       "([<matplotlib.axis.YTick at 0x7fcf37a61b50>,\n",
       "  <matplotlib.axis.YTick at 0x7fcf39804a60>,\n",
       "  <matplotlib.axis.YTick at 0x7fcf3936df10>,\n",
       "  <matplotlib.axis.YTick at 0x7fcf392773a0>,\n",
       "  <matplotlib.axis.YTick at 0x7fcf39277280>],\n",
       " [Text(0, 0, 'apple'),\n",
       "  Text(0, 1, 'banana'),\n",
       "  Text(0, 2, 'orange'),\n",
       "  Text(0, 3, 'tomato'),\n",
       "  Text(0, 4, 'guava')])"
      ]
     },
     "execution_count": 95,
     "metadata": {},
     "output_type": "execute_result"
    },
    {
     "data": {
      "image/png": "[encoded data removed]",
      "text/plain": [
       "<Figure size 432x288 with 1 Axes>"
      ]
     },
     "metadata": {
      "needs_background": "light"
     },
     "output_type": "display_data"
    }
   ],
   "source": [
    "import numpy as np\n",
    "index = np.arange(5)\n",
    "values1=[5, 7, 3, 4, 6]\n",
    "plt.barh(index,values1)\n",
    "plt.yticks(index,['apple', 'banana', 'orange', 'tomato', 'guava'])"
   ]
  },
  {
   "cell_type": "code",
   "execution_count": null,
   "id": "91ec971e",
   "metadata": {},
   "outputs": [],
   "source": []
  }
 ],
 "metadata": {
  "kernelspec": {
   "display_name": "Python 3",
   "language": "python",
   "name": "python3"
  },
  "language_info": {
   "codemirror_mode": {
    "name": "ipython",
    "version": 3
   },
   "file_extension": ".py",
   "mimetype": "text/x-python",
   "name": "python",
   "nbconvert_exporter": "python",
   "pygments_lexer": "ipython3",
   "version": "3.8.7"
  }
 },
 "nbformat": 4,
 "nbformat_minor": 5
}
