{
 "cells": [
  {
   "cell_type": "code",
   "execution_count": 2,
   "id": "72f1e001",
   "metadata": {},
   "outputs": [
    {
     "data": {
      "text/plain": [
       "True"
      ]
     },
     "execution_count": 2,
     "metadata": {},
     "output_type": "execute_result"
    }
   ],
   "source": [
    "x = 7\n",
    "x == 5\n",
    "x == 7"
   ]
  },
  {
   "cell_type": "code",
   "execution_count": 4,
   "id": "127bf204",
   "metadata": {},
   "outputs": [
    {
     "name": "stdout",
     "output_type": "stream",
     "text": [
      "程式結束\n"
     ]
    }
   ],
   "source": [
    "a = 15\n",
    "if a > 18:\n",
    "    print(\"大於18\")\n",
    "print(\"程式結束\")"
   ]
  },
  {
   "cell_type": "code",
   "execution_count": 6,
   "id": "80159aed",
   "metadata": {},
   "outputs": [
    {
     "name": "stdout",
     "output_type": "stream",
     "text": [
      "請輸入密碼:1234\n",
      "密碼正確!歡迎光臨\n"
     ]
    }
   ],
   "source": [
    "password = input(\"請輸入密碼:\")\n",
    "if password == \"1234\":\n",
    "    print(\"密碼正確!歡迎光臨\")\n",
    "else:\n",
    "    print(\"密碼錯誤\\n請重新輸入\")"
   ]
  },
  {
   "cell_type": "code",
   "execution_count": 9,
   "id": "5266a1c1",
   "metadata": {},
   "outputs": [
    {
     "name": "stdout",
     "output_type": "stream",
     "text": [
      "請輸入年紀?11\n",
      "少年\n"
     ]
    }
   ],
   "source": [
    "age = int(input(\"請輸入年紀?\"))\n",
    "if age > 18:\n",
    "    print(\"青年\")\n",
    "elif age >= 12:\n",
    "    print(\"青少年\")\n",
    "else:\n",
    "    print(\"少年\")"
   ]
  },
  {
   "cell_type": "code",
   "execution_count": 14,
   "id": "739b365f",
   "metadata": {},
   "outputs": [
    {
     "name": "stdout",
     "output_type": "stream",
     "text": [
      "請輸入學生分數:59\n",
      "成績等級為: 丁\n"
     ]
    }
   ],
   "source": [
    "score = int(input(\"請輸入學生分數:\"))\n",
    "if score >= 90:\n",
    "    grade = '優'\n",
    "elif score >= 80:\n",
    "    grade = '甲'\n",
    "elif score >= 70:\n",
    "    grade = '乙'\n",
    "elif score >= 60:\n",
    "    grade = '丙'\n",
    "else:\n",
    "    grade = '丁'\n",
    "print(\"成績等級為:\",grade)"
   ]
  },
  {
   "cell_type": "code",
   "execution_count": 16,
   "id": "12a1e9d2",
   "metadata": {},
   "outputs": [
    {
     "name": "stdout",
     "output_type": "stream",
     "text": [
      "它是熊\n"
     ]
    }
   ],
   "source": [
    "furry = True\n",
    "small = False\n",
    "if furry:\n",
    "    if small:\n",
    "        print(\"它是貓\")\n",
    "    else:\n",
    "        print(\"它是熊\")\n",
    "else:\n",
    "    if small:\n",
    "        print(\"它是小蜥蜴\")\n",
    "    else:\n",
    "        print(\"它是人類\")\n",
    "    "
   ]
  },
  {
   "cell_type": "code",
   "execution_count": 19,
   "id": "04fcb0da",
   "metadata": {},
   "outputs": [
    {
     "name": "stdout",
     "output_type": "stream",
     "text": [
      "沒有獎金\n"
     ]
    }
   ],
   "source": [
    "chinese = 100\n",
    "math =100\n",
    "if chinese == 100 and math == 100:\n",
    "    print(\"獎金1000元\")\n",
    "elif chinese == 100 or math == 100:\n",
    "    print(\"獎金500元\")\n",
    "else:\n",
    "    print(\"沒有獎金\")"
   ]
  },
  {
   "cell_type": "code",
   "execution_count": 21,
   "id": "a35b635c",
   "metadata": {},
   "outputs": [
    {
     "name": "stdout",
     "output_type": "stream",
     "text": [
      "有毛的\n"
     ]
    }
   ],
   "source": [
    "furry = True\n",
    "if not furry:\n",
    "    print(\"沒有毛的\")\n",
    "else:\n",
    "    print(\"有毛的\")\n",
    "    "
   ]
  },
  {
   "cell_type": "code",
   "execution_count": 23,
   "id": "182d0a0c",
   "metadata": {},
   "outputs": [
    {
     "name": "stdout",
     "output_type": "stream",
     "text": [
      "請輸入第1月份的存款:4567\n",
      "請輸入第2月份的存款:3456\n",
      "請輸入第3月份的存款:4567\n",
      "請輸入第4月份的存款:3456\n",
      "請輸入第5月份的存款:4567\n",
      "請輸入第6月份的存款:5678\n",
      "請輸入第7月份的存款:4567\n",
      "恭喜!已經存夠了，存了 7 總存款為: 30858\n"
     ]
    }
   ],
   "source": [
    "deposit = 0\n",
    "num = 0\n",
    "while deposit < 30000:    \n",
    "    num += 1\n",
    "    inputNum = int(input(\"請輸入第\"+ str(num) +\"月份的存款:\"))\n",
    "    deposit += inputNum\n",
    "print(\"恭喜!已經存夠了，存了\",num,\"個月的總存款為:\", deposit)"
   ]
  },
  {
   "cell_type": "code",
   "execution_count": null,
   "id": "8abd3b31",
   "metadata": {},
   "outputs": [],
   "source": []
  }
 ],
 "metadata": {
  "kernelspec": {
   "display_name": "Python 3",
   "language": "python",
   "name": "python3"
  },
  "language_info": {
   "codemirror_mode": {
    "name": "ipython",
    "version": 3
   },
   "file_extension": ".py",
   "mimetype": "text/x-python",
   "name": "python",
   "nbconvert_exporter": "python",
   "pygments_lexer": "ipython3",
   "version": "3.8.7"
  }
 },
 "nbformat": 4,
 "nbformat_minor": 5
}
