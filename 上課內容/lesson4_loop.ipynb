{
 "cells": [
  {
   "cell_type": "code",
   "execution_count": 2,
   "id": "44ecf52a",
   "metadata": {},
   "outputs": [
    {
     "name": "stdout",
     "output_type": "stream",
     "text": [
      "請輸入小寫英文字[按q會離開]:taipei\n",
      "TAIPEI\n",
      "請輸入小寫英文字[按q會離開]:taiwan\n",
      "TAIWAN\n",
      "請輸入小寫英文字[按q會離開]:q\n",
      "程式結束\n"
     ]
    }
   ],
   "source": [
    "while(True):\n",
    "    stuff = input(\"請輸入小寫英文字[按q會離開]:\")\n",
    "    if stuff == 'q':\n",
    "        break\n",
    "    print(stuff.upper())\n",
    "print(\"程式結束\")"
   ]
  },
  {
   "cell_type": "code",
   "execution_count": 4,
   "id": "d0b1778d",
   "metadata": {},
   "outputs": [
    {
     "name": "stdout",
     "output_type": "stream",
     "text": [
      "請輸入第1個數值1\n",
      "請輸入第2個數值1\n",
      "請輸入第3個數值1\n",
      "請輸入第4個數值1\n",
      "請輸入第5個數值1\n",
      "請輸入第6個數值2\n",
      "請輸入第7個數值2\n",
      "請輸入第8個數值2\n",
      "請輸入第9個數值2\n",
      "請輸入第10個數值2\n",
      "請輸入第11個數值-2\n",
      "所有輸入的正偶是的加總是:10\n"
     ]
    }
   ],
   "source": [
    "sum = 0\n",
    "num = 0\n",
    "while True:\n",
    "    num += 1\n",
    "    inputNum = int(input(f\"請輸入第{num}個數值\"))\n",
    "    if inputNum < 0:\n",
    "        break\n",
    "    elif inputNum % 2 == 1:\n",
    "        continue\n",
    "    else:\n",
    "        sum += inputNum\n",
    "print(f\"所有輸入的正偶是的加總是:{sum}\")"
   ]
  },
  {
   "cell_type": "code",
   "execution_count": 5,
   "id": "365716d1",
   "metadata": {},
   "outputs": [
    {
     "name": "stdout",
     "output_type": "stream",
     "text": [
      "===================猜數字遊戲========================\n",
      "\n",
      "猜數字的範圍1~100:50\n",
      "再大一點\n",
      "猜數字的範圍50~100:75\n",
      "再小一點\n",
      "猜數字的範圍50~75:67\n",
      "再小一點\n",
      "猜數字的範圍50~67:55\n",
      "再大一點\n",
      "猜數字的範圍55~67:63\n",
      "再小一點\n",
      "猜數字的範圍55~63:58\n",
      "賓果!猜對了,答案是:58\n",
      "您猜了6次\n",
      "Game over\n"
     ]
    }
   ],
   "source": [
    "import random\n",
    "min = 1\n",
    "max = 100\n",
    "count = 0\n",
    "target = random.randint(min,max)\n",
    "print(\"===================猜數字遊戲========================\\n\")\n",
    "while(True):\n",
    "    count += 1\n",
    "    keyin = int(input(f\"猜數字的範圍{min}~{max}:\"))\n",
    "    if( min <= keyin <= max):\n",
    "        if(keyin == target):\n",
    "            print(f\"賓果!猜對了,答案是:{target}\")\n",
    "            print(f\"您猜了{count}次\")\n",
    "            break\n",
    "        elif (keyin > target):\n",
    "            max = keyin\n",
    "            print(\"再小一點\")\n",
    "        elif (keyin < target):\n",
    "            min = keyin\n",
    "            print(\"再大一點\")\n",
    "    else:\n",
    "        print(\"請輸入提示範圍內的數字\")\n",
    "print(\"Game over\")"
   ]
  },
  {
   "cell_type": "code",
   "execution_count": null,
   "id": "06d62497",
   "metadata": {},
   "outputs": [],
   "source": []
  }
 ],
 "metadata": {
  "kernelspec": {
   "display_name": "Python 3",
   "language": "python",
   "name": "python3"
  },
  "language_info": {
   "codemirror_mode": {
    "name": "ipython",
    "version": 3
   },
   "file_extension": ".py",
   "mimetype": "text/x-python",
   "name": "python",
   "nbconvert_exporter": "python",
   "pygments_lexer": "ipython3",
   "version": "3.8.7"
  }
 },
 "nbformat": 4,
 "nbformat_minor": 5
}
