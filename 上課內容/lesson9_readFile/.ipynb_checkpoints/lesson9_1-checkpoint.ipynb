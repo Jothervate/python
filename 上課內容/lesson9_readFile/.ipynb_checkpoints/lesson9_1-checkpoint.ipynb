{
 "cells": [
  {
   "cell_type": "code",
   "execution_count": 1,
   "id": "2c462bfc",
   "metadata": {},
   "outputs": [],
   "source": [
    "text = '''python與中文\n",
    "1. 我們來試試看中文儲存能力。\n",
    "2. 許這個字會有編碼衝突風險。\n",
    "3. 犇這個字必須是utf8編碼才有。'''\n",
    "\n",
    "try:\n",
    "    file=open('newFile.txt','w',encoding='utf-8')\n",
    "    file.write(text)\n",
    "except:\n",
    "    print(\"寫入發生錯誤\")\n",
    "file.close()"
   ]
  },
  {
   "cell_type": "code",
   "execution_count": 4,
   "id": "13825149",
   "metadata": {},
   "outputs": [
    {
     "name": "stdout",
     "output_type": "stream",
     "text": [
      "請輸入第1號的成績:(按-1結束)87\n",
      "請輸入第2號的成績:(按-1結束)92\n",
      "請輸入第3號的成績:(按-1結束)63\n",
      "請輸入第4號的成績:(按-1結束)75\n",
      "請輸入第5號的成績:(按-1結束)68\n",
      "請輸入第6號的成績:(按-1結束)-1\n"
     ]
    }
   ],
   "source": [
    "scores = dict()\n",
    "no = 1\n",
    "while True:\n",
    "    score = int(input(f'請輸入第{no}號的成績:(按-1結束)'))\n",
    "    if score == -1:\n",
    "        break\n",
    "    scores[no] = score\n",
    "    no += 1\n",
    "try:\n",
    "    file=open('scores.txt','w',encoding=\"utf-8\")\n",
    "    file.write(str(scores))\n",
    "except:\n",
    "    print(\"寫入發生錯誤\")\n",
    "file.close()"
   ]
  },
  {
   "cell_type": "code",
   "execution_count": null,
   "id": "75d9f077",
   "metadata": {},
   "outputs": [],
   "source": []
  }
 ],
 "metadata": {
  "kernelspec": {
   "display_name": "Python 3",
   "language": "python",
   "name": "python3"
  },
  "language_info": {
   "codemirror_mode": {
    "name": "ipython",
    "version": 3
   },
   "file_extension": ".py",
   "mimetype": "text/x-python",
   "name": "python",
   "nbconvert_exporter": "python",
   "pygments_lexer": "ipython3",
   "version": "3.8.7"
  }
 },
 "nbformat": 4,
 "nbformat_minor": 5
}
