{
 "cells": [
  {
   "cell_type": "code",
   "execution_count": 1,
   "id": "0a507d1b",
   "metadata": {},
   "outputs": [],
   "source": [
    "import csv\n",
    "subjects = ['國文','英文','數學','自然','地理']\n",
    "with open('students.csv','w',encoding='utf-8') as file:\n",
    "    writer = csv.writer(file)\n",
    "    writer.writerow(subjects)\n"
   ]
  },
  {
   "cell_type": "code",
   "execution_count": 2,
   "id": "a4c55448",
   "metadata": {},
   "outputs": [
    {
     "name": "stdout",
     "output_type": "stream",
     "text": [
      "第1位學生:[84, 69, 57, 92, 92]\n",
      "第2位學生:[76, 67, 92, 69, 64]\n",
      "第3位學生:[74, 60, 66, 82, 57]\n",
      "第4位學生:[88, 79, 97, 80, 89]\n",
      "第5位學生:[81, 70, 54, 96, 100]\n",
      "第6位學生:[88, 89, 90, 73, 98]\n",
      "第7位學生:[52, 69, 71, 84, 99]\n",
      "第8位學生:[55, 59, 55, 85, 59]\n",
      "第9位學生:[72, 63, 78, 57, 63]\n",
      "第10位學生:[97, 52, 50, 98, 77]\n",
      "第11位學生:[86, 51, 65, 90, 51]\n",
      "第12位學生:[70, 55, 84, 59, 99]\n",
      "第13位學生:[83, 90, 72, 95, 61]\n",
      "第14位學生:[60, 68, 56, 86, 64]\n",
      "第15位學生:[66, 92, 71, 59, 52]\n",
      "第16位學生:[83, 68, 55, 53, 56]\n",
      "第17位學生:[59, 97, 96, 60, 51]\n",
      "第18位學生:[61, 82, 54, 76, 58]\n",
      "第19位學生:[96, 97, 55, 51, 82]\n",
      "第20位學生:[100, 98, 67, 82, 54]\n",
      "第21位學生:[77, 97, 59, 77, 56]\n",
      "第22位學生:[75, 95, 70, 55, 59]\n",
      "第23位學生:[61, 60, 69, 74, 99]\n",
      "第24位學生:[59, 53, 57, 73, 82]\n",
      "第25位學生:[81, 58, 59, 57, 92]\n",
      "第26位學生:[82, 61, 70, 87, 99]\n",
      "第27位學生:[89, 76, 97, 92, 55]\n",
      "第28位學生:[66, 87, 98, 67, 53]\n",
      "第29位學生:[95, 71, 72, 64, 68]\n",
      "第30位學生:[54, 83, 83, 52, 59]\n",
      "第31位學生:[86, 98, 58, 61, 60]\n",
      "第32位學生:[77, 50, 75, 76, 97]\n",
      "第33位學生:[57, 62, 91, 69, 57]\n",
      "第34位學生:[73, 78, 60, 89, 72]\n",
      "第35位學生:[75, 58, 61, 92, 86]\n",
      "第36位學生:[95, 79, 67, 53, 88]\n",
      "第37位學生:[59, 73, 96, 64, 55]\n",
      "第38位學生:[80, 88, 54, 54, 83]\n",
      "第39位學生:[63, 71, 86, 69, 100]\n",
      "第40位學生:[78, 60, 80, 97, 53]\n",
      "第41位學生:[75, 95, 98, 57, 94]\n",
      "第42位學生:[51, 58, 71, 58, 68]\n",
      "第43位學生:[76, 89, 83, 71, 50]\n",
      "第44位學生:[65, 73, 98, 50, 100]\n",
      "第45位學生:[91, 75, 51, 77, 53]\n",
      "第46位學生:[63, 76, 85, 74, 91]\n",
      "第47位學生:[82, 63, 92, 99, 62]\n",
      "第48位學生:[74, 84, 65, 83, 64]\n",
      "第49位學生:[81, 73, 54, 73, 81]\n",
      "第50位學生:[70, 96, 51, 52, 69]\n"
     ]
    }
   ],
   "source": [
    "import random\n",
    "\n",
    "students = []\n",
    "for _ in range(50):\n",
    "    score = []\n",
    "    for _ in range(5):\n",
    "        score.append(random.randint(50,100))\n",
    "    \n",
    "    students.append(score)\n",
    "\n",
    "\n",
    "for i,s in  enumerate(students):\n",
    "    print(f\"第{i+1}位學生:{s}\")"
   ]
  },
  {
   "cell_type": "code",
   "execution_count": 3,
   "id": "8a91ad15",
   "metadata": {},
   "outputs": [
    {
     "name": "stdout",
     "output_type": "stream",
     "text": [
      "覆寫完畢\n"
     ]
    }
   ],
   "source": [
    "import csv\n",
    "import random\n",
    "\n",
    "students = [] #建立50個學生\n",
    "for _ in range(50):\n",
    "    score = [] #建立每個學生的5個分數\n",
    "    for _ in range(5):\n",
    "        score.append(random.randint(50,100))\n",
    "    \n",
    "    students.append(score)\n",
    "\n",
    "    \n",
    "subjects = ['國文','英文','數學','自然','地理']\n",
    "\n",
    "with open('students.csv','w',encoding='utf-8') as file:\n",
    "    writer = csv.writer(file)\n",
    "    writer.writerow(subjects) #寫入標題\n",
    "    \n",
    "    for student in students:\n",
    "        writer.writerow(student) #寫入學生的5個分數\n",
    "print(\"覆寫完畢\")       "
   ]
  },
  {
   "cell_type": "code",
   "execution_count": null,
   "id": "286fc91e",
   "metadata": {},
   "outputs": [],
   "source": []
  }
 ],
 "metadata": {
  "kernelspec": {
   "display_name": "Python 3",
   "language": "python",
   "name": "python3"
  },
  "language_info": {
   "codemirror_mode": {
    "name": "ipython",
    "version": 3
   },
   "file_extension": ".py",
   "mimetype": "text/x-python",
   "name": "python",
   "nbconvert_exporter": "python",
   "pygments_lexer": "ipython3",
   "version": "3.8.7"
  }
 },
 "nbformat": 4,
 "nbformat_minor": 5
}
