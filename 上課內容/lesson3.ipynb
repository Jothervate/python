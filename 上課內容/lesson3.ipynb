{
 "cells": [
  {
   "cell_type": "code",
   "execution_count": 5,
   "id": "3f5ccf1d",
   "metadata": {},
   "outputs": [
    {
     "name": "stdout",
     "output_type": "stream",
     "text": [
      "請輸入整數a:50\n",
      "請輸入整數b:30\n"
     ]
    },
    {
     "data": {
      "text/plain": [
       "80"
      ]
     },
     "execution_count": 5,
     "metadata": {},
     "output_type": "execute_result"
    }
   ],
   "source": [
    "a = int(input(\"請輸入整數a:\"))\n",
    "b = int(input(\"請輸入整數b:\"))\n",
    "c = a+b\n",
    "c"
   ]
  },
  {
   "cell_type": "code",
   "execution_count": 7,
   "id": "a019bf59",
   "metadata": {},
   "outputs": [
    {
     "name": "stdout",
     "output_type": "stream",
     "text": [
      "請輸入被除數(整數)45\n",
      "請輸入除數(整數,不可以為0)4\n",
      "商: 11 餘數為: 1\n"
     ]
    }
   ],
   "source": [
    "value1 = int(input(\"請輸入被除數(整數)\"))\n",
    "value2 = int(input(\"請輸入除數(整數,不可以為0)\"))\n",
    "print(\"商:\",value1 // value2, \"餘數為:\", value1 % value2)"
   ]
  },
  {
   "cell_type": "code",
   "execution_count": 8,
   "id": "f21be75f",
   "metadata": {},
   "outputs": [
    {
     "name": "stdout",
     "output_type": "stream",
     "text": [
      "請輸入任意數:3\n",
      "此數的平方是: 9.0\n",
      "此數的立方是: 27.0\n"
     ]
    }
   ],
   "source": [
    "num = float(input('請輸入任意數:'))\n",
    "result = num ** 2\n",
    "print('此數的平方是:',result)\n",
    "result = num ** 3\n",
    "print('此數的立方是:',result)"
   ]
  },
  {
   "cell_type": "code",
   "execution_count": null,
   "id": "63c51014",
   "metadata": {},
   "outputs": [],
   "source": []
  }
 ],
 "metadata": {
  "kernelspec": {
   "display_name": "Python 3",
   "language": "python",
   "name": "python3"
  },
  "language_info": {
   "codemirror_mode": {
    "name": "ipython",
    "version": 3
   },
   "file_extension": ".py",
   "mimetype": "text/x-python",
   "name": "python",
   "nbconvert_exporter": "python",
   "pygments_lexer": "ipython3",
   "version": "3.8.7"
  }
 },
 "nbformat": 4,
 "nbformat_minor": 5
}
