{
 "cells": [
  {
   "cell_type": "code",
   "execution_count": 4,
   "id": "3ae7ccf1",
   "metadata": {},
   "outputs": [
    {
     "ename": "IndexError",
     "evalue": "list index out of range",
     "output_type": "error",
     "traceback": [
      "\u001b[0;31m---------------------------------------------------------------------------\u001b[0m",
      "\u001b[0;31mIndexError\u001b[0m                                Traceback (most recent call last)",
      "\u001b[0;32m<ipython-input-4-4390149f89a9>\u001b[0m in \u001b[0;36m<module>\u001b[0;34m\u001b[0m\n\u001b[1;32m      1\u001b[0m \u001b[0mshort_list\u001b[0m \u001b[0;34m=\u001b[0m \u001b[0;34m[\u001b[0m\u001b[0;36m10\u001b[0m\u001b[0;34m,\u001b[0m\u001b[0;36m20\u001b[0m\u001b[0;34m,\u001b[0m\u001b[0;36m30\u001b[0m\u001b[0;34m]\u001b[0m\u001b[0;34m\u001b[0m\u001b[0;34m\u001b[0m\u001b[0m\n\u001b[1;32m      2\u001b[0m \u001b[0mposition\u001b[0m \u001b[0;34m=\u001b[0m \u001b[0;36m3\u001b[0m\u001b[0;34m\u001b[0m\u001b[0;34m\u001b[0m\u001b[0m\n\u001b[0;32m----> 3\u001b[0;31m \u001b[0mshort_list\u001b[0m\u001b[0;34m[\u001b[0m\u001b[0mposition\u001b[0m\u001b[0;34m]\u001b[0m\u001b[0;34m\u001b[0m\u001b[0;34m\u001b[0m\u001b[0m\n\u001b[0m",
      "\u001b[0;31mIndexError\u001b[0m: list index out of range"
     ]
    }
   ],
   "source": [
    "short_list = [10,20,30]\n",
    "position = 3\n",
    "short_list[position]"
   ]
  },
  {
   "cell_type": "code",
   "execution_count": 8,
   "id": "617235a2",
   "metadata": {},
   "outputs": [
    {
     "name": "stdout",
     "output_type": "stream",
     "text": [
      "發生無法預期的錯誤\n",
      "程式結束\n"
     ]
    }
   ],
   "source": [
    "short_list = [10,20,30]\n",
    "position = 3\n",
    "try:\n",
    "    print(short_list[position])\n",
    "except:\n",
    "    print(\"發生無法預期的錯誤\")\n",
    "print(\"程式結束\")"
   ]
  },
  {
   "cell_type": "code",
   "execution_count": 10,
   "id": "204c4aa2",
   "metadata": {},
   "outputs": [
    {
     "name": "stdout",
     "output_type": "stream",
     "text": [
      "請輸入索引值[按q離開]1\n",
      "20\n",
      "請輸入索引值[按q離開]2\n",
      "30\n",
      "請輸入索引值[按q離開]0\n",
      "10\n",
      "請輸入索引值[按q離開]3\n",
      "錯誤的索引值:3\n",
      "list index out of range\n",
      "請輸入索引值[按q離開]a\n",
      "無法預期的錯誤\n",
      "invalid literal for int() with base 10: 'a'\n",
      "請輸入索引值[按q離開]q\n",
      "程式結束\n"
     ]
    }
   ],
   "source": [
    "short_list = [10, 20, 30]\n",
    "\n",
    "while True:\n",
    "    value = input(\"請輸入索引值[按q離開]\")\n",
    "    if value == 'q':\n",
    "        break;\n",
    "    try:\n",
    "        position = int(value)\n",
    "        print(short_list[position])\n",
    "    except IndexError as err:\n",
    "        print(f\"錯誤的索引值:{position}\")\n",
    "        print(err)\n",
    "    except Exception as err:\n",
    "        print(\"無法預期的錯誤\")\n",
    "        print(err)\n",
    "        \n",
    "\n",
    "print(\"程式結束\")"
   ]
  },
  {
   "cell_type": "code",
   "execution_count": 12,
   "id": "858f89cc",
   "metadata": {},
   "outputs": [
    {
     "name": "stdout",
     "output_type": "stream",
     "text": [
      "發生錯誤\n"
     ]
    }
   ],
   "source": [
    "#建立自己的Exception\n",
    "def make_exception():\n",
    "    raise Exception(\"發生錯誤\")\n",
    "try:\n",
    "    make_exception()\n",
    "except Exception as err:\n",
    "    print(err)"
   ]
  },
  {
   "cell_type": "code",
   "execution_count": 15,
   "id": "cf55d827",
   "metadata": {},
   "outputs": [
    {
     "name": "stdout",
     "output_type": "stream",
     "text": [
      "1,2,3結束"
     ]
    }
   ],
   "source": [
    "a=1\n",
    "b=2\n",
    "c=3\n",
    "print(a,b,c,sep=',',end='結束')"
   ]
  },
  {
   "cell_type": "code",
   "execution_count": 16,
   "id": "2930bad9",
   "metadata": {},
   "outputs": [
    {
     "data": {
      "text/plain": [
       "{'酒類': '白酒', '主食': '牛排', '甜點': '蛋糕'}"
      ]
     },
     "execution_count": 16,
     "metadata": {},
     "output_type": "execute_result"
    }
   ],
   "source": [
    "def menu(wine, entree, dessert):\n",
    "    return {'酒類':wine,'主食':entree,'甜點':dessert}\n",
    "\n",
    "#任劇參數的位置\n",
    "#引數位置的呼叫\n",
    "menu('白酒','牛排','蛋糕')"
   ]
  },
  {
   "cell_type": "code",
   "execution_count": 17,
   "id": "ca74f45e",
   "metadata": {},
   "outputs": [
    {
     "data": {
      "text/plain": [
       "{'酒類': '紅酒', '主食': '雞排', '甜點': '冰淇淋'}"
      ]
     },
     "execution_count": 17,
     "metadata": {},
     "output_type": "execute_result"
    }
   ],
   "source": [
    "#引數位置的呼叫\n",
    "menu('紅酒','雞排','冰淇淋')"
   ]
  },
  {
   "cell_type": "code",
   "execution_count": 19,
   "id": "7c325c04",
   "metadata": {},
   "outputs": [
    {
     "data": {
      "text/plain": [
       "{'酒類': '白酒', '主食': '牛排', '甜點': '蛋糕'}"
      ]
     },
     "execution_count": 19,
     "metadata": {},
     "output_type": "execute_result"
    }
   ],
   "source": [
    "#引數名稱的呼叫\n",
    "#可以不依照順序\n",
    "menu(entree='牛排',dessert='蛋糕',wine='白酒')"
   ]
  },
  {
   "cell_type": "code",
   "execution_count": 20,
   "id": "b7426340",
   "metadata": {},
   "outputs": [
    {
     "data": {
      "text/plain": [
       "{'酒類': '白酒', '主食': '牛排', '甜點': '蛋糕'}"
      ]
     },
     "execution_count": 20,
     "metadata": {},
     "output_type": "execute_result"
    }
   ],
   "source": [
    "#引數位置和引數名稱混合呼叫\n",
    "#前面一定先用引數位置,後面使用引數名稱\n",
    "#使用引數名稱後,就不可以再使用引數位置\n",
    "menu('白酒',dessert='蛋糕',entree='牛排')"
   ]
  },
  {
   "cell_type": "code",
   "execution_count": 21,
   "id": "c066d856",
   "metadata": {},
   "outputs": [
    {
     "data": {
      "text/plain": [
       "{'酒類': '紅酒', '主食': '雞排', '甜點': '奶昔'}"
      ]
     },
     "execution_count": 21,
     "metadata": {},
     "output_type": "execute_result"
    }
   ],
   "source": [
    "#指定預設參數的值\n",
    "def menu(wine, entree, dessert='奶昔'):\n",
    "    return {'酒類':wine,'主食':entree,'甜點':dessert}\n",
    "\n",
    "menu('紅酒','雞排')"
   ]
  },
  {
   "cell_type": "code",
   "execution_count": 22,
   "id": "4f0a0c54",
   "metadata": {},
   "outputs": [
    {
     "data": {
      "text/plain": [
       "{'酒類': '紅酒', '主食': '雞排', '甜點': '蛋糕'}"
      ]
     },
     "execution_count": 22,
     "metadata": {},
     "output_type": "execute_result"
    }
   ],
   "source": [
    "menu('紅酒','雞排','蛋糕')"
   ]
  },
  {
   "cell_type": "code",
   "execution_count": 23,
   "id": "00a9e2c2",
   "metadata": {},
   "outputs": [
    {
     "data": {
      "text/plain": [
       "{'酒類': '紅酒', '主食': '雞排', '甜點': '蛋糕'}"
      ]
     },
     "execution_count": 23,
     "metadata": {},
     "output_type": "execute_result"
    }
   ],
   "source": [
    "menu('紅酒','雞排',dessert='蛋糕')"
   ]
  },
  {
   "cell_type": "code",
   "execution_count": null,
   "id": "aab4ddb8",
   "metadata": {},
   "outputs": [],
   "source": []
  }
 ],
 "metadata": {
  "kernelspec": {
   "display_name": "Python 3",
   "language": "python",
   "name": "python3"
  },
  "language_info": {
   "codemirror_mode": {
    "name": "ipython",
    "version": 3
   },
   "file_extension": ".py",
   "mimetype": "text/x-python",
   "name": "python",
   "nbconvert_exporter": "python",
   "pygments_lexer": "ipython3",
   "version": "3.8.7"
  }
 },
 "nbformat": 4,
 "nbformat_minor": 5
}
