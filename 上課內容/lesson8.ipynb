{
 "cells": [
  {
   "cell_type": "code",
   "execution_count": 4,
   "id": "b5060d16",
   "metadata": {},
   "outputs": [
    {
     "ename": "IndexError",
     "evalue": "list index out of range",
     "output_type": "error",
     "traceback": [
      "\u001b[0;31m---------------------------------------------------------------------------\u001b[0m",
      "\u001b[0;31mIndexError\u001b[0m                                Traceback (most recent call last)",
      "\u001b[0;32m<ipython-input-4-4390149f89a9>\u001b[0m in \u001b[0;36m<module>\u001b[0;34m\u001b[0m\n\u001b[1;32m      1\u001b[0m \u001b[0mshort_list\u001b[0m \u001b[0;34m=\u001b[0m \u001b[0;34m[\u001b[0m\u001b[0;36m10\u001b[0m\u001b[0;34m,\u001b[0m\u001b[0;36m20\u001b[0m\u001b[0;34m,\u001b[0m\u001b[0;36m30\u001b[0m\u001b[0;34m]\u001b[0m\u001b[0;34m\u001b[0m\u001b[0;34m\u001b[0m\u001b[0m\n\u001b[1;32m      2\u001b[0m \u001b[0mposition\u001b[0m \u001b[0;34m=\u001b[0m \u001b[0;36m3\u001b[0m\u001b[0;34m\u001b[0m\u001b[0;34m\u001b[0m\u001b[0m\n\u001b[0;32m----> 3\u001b[0;31m \u001b[0mshort_list\u001b[0m\u001b[0;34m[\u001b[0m\u001b[0mposition\u001b[0m\u001b[0;34m]\u001b[0m\u001b[0;34m\u001b[0m\u001b[0;34m\u001b[0m\u001b[0m\n\u001b[0m",
      "\u001b[0;31mIndexError\u001b[0m: list index out of range"
     ]
    }
   ],
   "source": [
    "short_list = [10,20,30]\n",
    "position = 3\n",
    "short_list[position]"
   ]
  },
  {
   "cell_type": "code",
   "execution_count": 8,
   "id": "db243b8c",
   "metadata": {},
   "outputs": [
    {
     "name": "stdout",
     "output_type": "stream",
     "text": [
      "發生無法預期的錯誤\n",
      "程式結束\n"
     ]
    }
   ],
   "source": [
    "short_list = [10,20,30]\n",
    "position = 3\n",
    "try:\n",
    "    print(short_list[position])\n",
    "except:\n",
    "    print(\"發生無法預期的錯誤\")\n",
    "print(\"程式結束\")"
   ]
  },
  {
   "cell_type": "code",
   "execution_count": 10,
   "id": "a98de44d",
   "metadata": {},
   "outputs": [
    {
     "name": "stdout",
     "output_type": "stream",
     "text": [
      "請輸入索引值[按q離開]1\n",
      "20\n",
      "請輸入索引值[按q離開]2\n",
      "30\n",
      "請輸入索引值[按q離開]0\n",
      "10\n",
      "請輸入索引值[按q離開]3\n",
      "錯誤的索引值:3\n",
      "list index out of range\n",
      "請輸入索引值[按q離開]a\n",
      "無法預期的錯誤\n",
      "invalid literal for int() with base 10: 'a'\n",
      "請輸入索引值[按q離開]q\n",
      "程式結束\n"
     ]
    }
   ],
   "source": [
    "short_list = [10, 20, 30]\n",
    "\n",
    "while True:\n",
    "    value = input(\"請輸入索引值[按q離開]\")\n",
    "    if value == 'q':\n",
    "        break;\n",
    "    try:\n",
    "        position = int(value)\n",
    "        print(short_list[position])\n",
    "    except IndexError as err:\n",
    "        print(f\"錯誤的索引值:{position}\")\n",
    "        print(err)\n",
    "    except Exception as err:\n",
    "        print(\"無法預期的錯誤\")\n",
    "        print(err)\n",
    "        \n",
    "\n",
    "print(\"程式結束\")"
   ]
  },
  {
   "cell_type": "code",
   "execution_count": null,
   "id": "02b3f4e7",
   "metadata": {},
   "outputs": [],
   "source": []
  }
 ],
 "metadata": {
  "kernelspec": {
   "display_name": "Python 3",
   "language": "python",
   "name": "python3"
  },
  "language_info": {
   "codemirror_mode": {
    "name": "ipython",
    "version": 3
   },
   "file_extension": ".py",
   "mimetype": "text/x-python",
   "name": "python",
   "nbconvert_exporter": "python",
   "pygments_lexer": "ipython3",
   "version": "3.8.7"
  }
 },
 "nbformat": 4,
 "nbformat_minor": 5
}
