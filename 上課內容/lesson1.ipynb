{
 "cells": [
  {
   "cell_type": "code",
   "execution_count": 1,
   "id": "5c4a9b0e",
   "metadata": {},
   "outputs": [
    {
     "name": "stdout",
     "output_type": "stream",
     "text": [
      "Hello! python\n"
     ]
    }
   ],
   "source": [
    "print(\"Hello! python\")"
   ]
  },
  {
   "cell_type": "code",
   "execution_count": 5,
   "id": "de804c8b",
   "metadata": {},
   "outputs": [
    {
     "name": "stdout",
     "output_type": "stream",
     "text": [
      "1970\n"
     ]
    },
    {
     "data": {
      "text/plain": [
       "2021"
      ]
     },
     "execution_count": 5,
     "metadata": {},
     "output_type": "execute_result"
    }
   ],
   "source": [
    "#建立變數，更改變數，取出變數內的值\n",
    "year = 1970\n",
    "print(year)\n",
    "year = 2021\n",
    "year"
   ]
  },
  {
   "cell_type": "code",
   "execution_count": 9,
   "id": "b3815ccd",
   "metadata": {},
   "outputs": [
    {
     "name": "stdout",
     "output_type": "stream",
     "text": [
      "3\n",
      "3.12\n",
      "Hello!World!\n",
      "5\n"
     ]
    }
   ],
   "source": [
    "#print(),使用一個參數\n",
    "print(3)\n",
    "print(3.12)\n",
    "print(\"Hello!World!\")\n",
    "print(3+2)"
   ]
  },
  {
   "cell_type": "code",
   "execution_count": 12,
   "id": "115f4bba",
   "metadata": {},
   "outputs": [
    {
     "name": "stdout",
     "output_type": "stream",
     "text": [
      "a= 100\n",
      "b= 50\n",
      "a+b= 150\n"
     ]
    }
   ],
   "source": [
    "#print()使用多個參數\n",
    "a = 100\n",
    "print(\"a=\", a)\n",
    "b = 50\n",
    "print(\"b=\", b)\n",
    "print(\"a+b=\", a+b)"
   ]
  },
  {
   "cell_type": "code",
   "execution_count": null,
   "id": "9274503c",
   "metadata": {},
   "outputs": [],
   "source": []
  }
 ],
 "metadata": {
  "kernelspec": {
   "display_name": "Python 3",
   "language": "python",
   "name": "python3"
  },
  "language_info": {
   "codemirror_mode": {
    "name": "ipython",
    "version": 3
   },
   "file_extension": ".py",
   "mimetype": "text/x-python",
   "name": "python",
   "nbconvert_exporter": "python",
   "pygments_lexer": "ipython3",
   "version": "3.8.7"
  }
 },
 "nbformat": 4,
 "nbformat_minor": 5
}
