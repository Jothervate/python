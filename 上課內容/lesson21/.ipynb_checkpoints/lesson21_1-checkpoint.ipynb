{
 "cells": [
  {
   "cell_type": "code",
   "execution_count": 1,
   "id": "ad44c5ed",
   "metadata": {},
   "outputs": [],
   "source": [
    "import numpy as np\n",
    "import pandas as pd\n",
    "import matplotlib.pyplot as plt\n",
    "from matplotlib.font_manager import FontProperties\n",
    "\n",
    "font = FontProperties(fname='/Library/Fonts/Arial Unicode.ttf',size=8) #forMac\n",
    "#font = FontProperties(fname='\"c:\\windows\\fonts\\simsun.ttc\"',size=8) #forWindow"
   ]
  },
  {
   "cell_type": "code",
   "execution_count": null,
   "id": "c642b7a1",
   "metadata": {},
   "outputs": [],
   "source": [
    "xlsx = pd.ExcelFile('總統.xls')\n",
    "pd.read_excel(xlsx,'中　央')"
   ]
  }
 ],
 "metadata": {
  "kernelspec": {
   "display_name": "Python 3",
   "language": "python",
   "name": "python3"
  },
  "language_info": {
   "codemirror_mode": {
    "name": "ipython",
    "version": 3
   },
   "file_extension": ".py",
   "mimetype": "text/x-python",
   "name": "python",
   "nbconvert_exporter": "python",
   "pygments_lexer": "ipython3",
   "version": "3.8.7"
  }
 },
 "nbformat": 4,
 "nbformat_minor": 5
}
