{
 "cells": [
  {
   "cell_type": "code",
   "execution_count": 1,
   "id": "31da5f3c",
   "metadata": {},
   "outputs": [
    {
     "name": "stdout",
     "output_type": "stream",
     "text": [
      "沒有發生錯誤\n"
     ]
    }
   ],
   "source": [
    "import requests\n",
    "from requests import ConnectionError,HTTPError,Timeout\n",
    "\n",
    "url = 'https://data.ntpc.gov.tw/api/datasets/71CD1490-A2DF-4198-BEF1-318479775E8A/json?page=0&size=1000'\n",
    "try:\n",
    "    response = requests.get(url)\n",
    "    response.raise_for_status()\n",
    "except ConnectionError:\n",
    "    print('找不到伺服器')\n",
    "except HTTPError:\n",
    "    print('網頁找不到')\n",
    "except Timeout:\n",
    "    print('超過時間沒有回應')\n",
    "else:\n",
    "    print('沒有發生錯誤')"
   ]
  },
  {
   "cell_type": "code",
   "execution_count": 9,
   "id": "355b92d5",
   "metadata": {},
   "outputs": [
    {
     "data": {
      "text/html": [
       "<div>\n",
       "<style scoped>\n",
       "    .dataframe tbody tr th:only-of-type {\n",
       "        vertical-align: middle;\n",
       "    }\n",
       "\n",
       "    .dataframe tbody tr th {\n",
       "        vertical-align: top;\n",
       "    }\n",
       "\n",
       "    .dataframe thead th {\n",
       "        text-align: right;\n",
       "    }\n",
       "</style>\n",
       "<table border=\"1\" class=\"dataframe\">\n",
       "  <thead>\n",
       "    <tr style=\"text-align: right;\">\n",
       "      <th></th>\n",
       "      <th>站名</th>\n",
       "      <th>數量</th>\n",
       "      <th>可借</th>\n",
       "      <th>區域</th>\n",
       "      <th>地址</th>\n",
       "      <th>可還</th>\n",
       "    </tr>\n",
       "  </thead>\n",
       "  <tbody>\n",
       "    <tr>\n",
       "      <th>0</th>\n",
       "      <td>大鵬華城</td>\n",
       "      <td>38</td>\n",
       "      <td>14</td>\n",
       "      <td>新店區</td>\n",
       "      <td>新北市新店區中正路700巷3號</td>\n",
       "      <td>24</td>\n",
       "    </tr>\n",
       "    <tr>\n",
       "      <th>1</th>\n",
       "      <td>汐止火車站</td>\n",
       "      <td>56</td>\n",
       "      <td>48</td>\n",
       "      <td>汐止區</td>\n",
       "      <td>南昌街/新昌路口(西側廣場)</td>\n",
       "      <td>6</td>\n",
       "    </tr>\n",
       "    <tr>\n",
       "      <th>2</th>\n",
       "      <td>汐止區公所</td>\n",
       "      <td>46</td>\n",
       "      <td>12</td>\n",
       "      <td>汐止區</td>\n",
       "      <td>新台五路一段/仁愛路口(新台五路側汐止地政事務所前機車停車場)</td>\n",
       "      <td>34</td>\n",
       "    </tr>\n",
       "    <tr>\n",
       "      <th>3</th>\n",
       "      <td>國泰綜合醫院</td>\n",
       "      <td>56</td>\n",
       "      <td>21</td>\n",
       "      <td>汐止區</td>\n",
       "      <td>建成路78號對面停車場</td>\n",
       "      <td>34</td>\n",
       "    </tr>\n",
       "    <tr>\n",
       "      <th>4</th>\n",
       "      <td>裕隆公園</td>\n",
       "      <td>40</td>\n",
       "      <td>22</td>\n",
       "      <td>新店區</td>\n",
       "      <td>寶中路/品牌路口(東南側)</td>\n",
       "      <td>18</td>\n",
       "    </tr>\n",
       "    <tr>\n",
       "      <th>...</th>\n",
       "      <td>...</td>\n",
       "      <td>...</td>\n",
       "      <td>...</td>\n",
       "      <td>...</td>\n",
       "      <td>...</td>\n",
       "      <td>...</td>\n",
       "    </tr>\n",
       "    <tr>\n",
       "      <th>662</th>\n",
       "      <td>中山溫泉公園</td>\n",
       "      <td>50</td>\n",
       "      <td>0</td>\n",
       "      <td>金山區</td>\n",
       "      <td>民生路204號(旁)</td>\n",
       "      <td>0</td>\n",
       "    </tr>\n",
       "    <tr>\n",
       "      <th>663</th>\n",
       "      <td>學士學府路口(大苑社區)</td>\n",
       "      <td>40</td>\n",
       "      <td>0</td>\n",
       "      <td>土城區</td>\n",
       "      <td>學士路/學府路(西北側建案基地)</td>\n",
       "      <td>0</td>\n",
       "    </tr>\n",
       "    <tr>\n",
       "      <th>664</th>\n",
       "      <td>龍米停車場</td>\n",
       "      <td>36</td>\n",
       "      <td>1</td>\n",
       "      <td>八里區</td>\n",
       "      <td>龍米路二段150號(旁)</td>\n",
       "      <td>34</td>\n",
       "    </tr>\n",
       "    <tr>\n",
       "      <th>665</th>\n",
       "      <td>雙和醫院</td>\n",
       "      <td>30</td>\n",
       "      <td>14</td>\n",
       "      <td>中和區</td>\n",
       "      <td>中正路281號(公車亭旁)</td>\n",
       "      <td>15</td>\n",
       "    </tr>\n",
       "    <tr>\n",
       "      <th>666</th>\n",
       "      <td>捷運三重站(1號出口)</td>\n",
       "      <td>40</td>\n",
       "      <td>8</td>\n",
       "      <td>三重區</td>\n",
       "      <td>捷運路36號(旁)</td>\n",
       "      <td>30</td>\n",
       "    </tr>\n",
       "  </tbody>\n",
       "</table>\n",
       "<p>667 rows × 6 columns</p>\n",
       "</div>"
      ],
      "text/plain": [
       "               站名  數量  可借   區域                               地址  可還\n",
       "0            大鵬華城  38  14  新店區                  新北市新店區中正路700巷3號  24\n",
       "1           汐止火車站  56  48  汐止區                   南昌街/新昌路口(西側廣場)   6\n",
       "2           汐止區公所  46  12  汐止區  新台五路一段/仁愛路口(新台五路側汐止地政事務所前機車停車場)  34\n",
       "3          國泰綜合醫院  56  21  汐止區                      建成路78號對面停車場  34\n",
       "4            裕隆公園  40  22  新店區                    寶中路/品牌路口(東南側)  18\n",
       "..            ...  ..  ..  ...                              ...  ..\n",
       "662        中山溫泉公園  50   0  金山區                       民生路204號(旁)   0\n",
       "663  學士學府路口(大苑社區)  40   0  土城區                 學士路/學府路(西北側建案基地)   0\n",
       "664         龍米停車場  36   1  八里區                     龍米路二段150號(旁)  34\n",
       "665          雙和醫院  30  14  中和區                    中正路281號(公車亭旁)  15\n",
       "666   捷運三重站(1號出口)  40   8  三重區                        捷運路36號(旁)  30\n",
       "\n",
       "[667 rows x 6 columns]"
      ]
     },
     "execution_count": 9,
     "metadata": {},
     "output_type": "execute_result"
    }
   ],
   "source": [
    "import numpy as np\n",
    "import pandas as pd\n",
    "records=response.json()\n",
    "dataFrame=pd.DataFrame(records,columns=['sna', 'tot', 'sbi', 'sarea', 'ar', 'bemp'])\n",
    "dataFrame=dataFrame.rename(columns={'sna':'站名', 'tot':'數量', 'sbi':'可借', 'sarea':'區域','ar':'地址', 'bemp':'可還'})\n",
    "dataFrame"
   ]
  },
  {
   "cell_type": "code",
   "execution_count": 10,
   "id": "b4502b35",
   "metadata": {},
   "outputs": [
    {
     "data": {
      "text/plain": [
       "站名    object\n",
       "數量    object\n",
       "可借    object\n",
       "區域    object\n",
       "地址    object\n",
       "可還    object\n",
       "dtype: object"
      ]
     },
     "execution_count": 10,
     "metadata": {},
     "output_type": "execute_result"
    }
   ],
   "source": [
    "dataFrame.dtypes"
   ]
  },
  {
   "cell_type": "code",
   "execution_count": 13,
   "id": "4ce02fe9",
   "metadata": {},
   "outputs": [
    {
     "data": {
      "text/plain": [
       "站名    object\n",
       "數量     int64\n",
       "可借     int64\n",
       "區域    object\n",
       "地址    object\n",
       "可還     int64\n",
       "dtype: object"
      ]
     },
     "execution_count": 13,
     "metadata": {},
     "output_type": "execute_result"
    }
   ],
   "source": [
    "dataFrame[['數量','可借','可還']] = dataFrame[['數量','可借','可還']].astype(int)\n",
    "dataFrame.dtypes"
   ]
  },
  {
   "cell_type": "code",
   "execution_count": null,
   "id": "27d3c51b",
   "metadata": {},
   "outputs": [],
   "source": []
  }
 ],
 "metadata": {
  "kernelspec": {
   "display_name": "Python 3",
   "language": "python",
   "name": "python3"
  },
  "language_info": {
   "codemirror_mode": {
    "name": "ipython",
    "version": 3
   },
   "file_extension": ".py",
   "mimetype": "text/x-python",
   "name": "python",
   "nbconvert_exporter": "python",
   "pygments_lexer": "ipython3",
   "version": "3.8.7"
  }
 },
 "nbformat": 4,
 "nbformat_minor": 5
}
