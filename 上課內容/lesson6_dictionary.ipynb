{
 "cells": [
  {
   "cell_type": "code",
   "execution_count": 2,
   "id": "2f168a4a",
   "metadata": {},
   "outputs": [
    {
     "name": "stdout",
     "output_type": "stream",
     "text": [
      "Taiwan\n",
      "Japan\n",
      "Hong Kong\n"
     ]
    },
    {
     "ename": "KeyError",
     "evalue": "'us'",
     "output_type": "error",
     "traceback": [
      "\u001b[0;31m---------------------------------------------------------------------------\u001b[0m",
      "\u001b[0;31mKeyError\u001b[0m                                  Traceback (most recent call last)",
      "\u001b[0;32m<ipython-input-2-aff2a6a4e092>\u001b[0m in \u001b[0;36m<module>\u001b[0;34m\u001b[0m\n\u001b[1;32m      3\u001b[0m \u001b[0mprint\u001b[0m\u001b[0;34m(\u001b[0m\u001b[0mcodes\u001b[0m\u001b[0;34m[\u001b[0m\u001b[0;34m\"jp\"\u001b[0m\u001b[0;34m]\u001b[0m\u001b[0;34m)\u001b[0m\u001b[0;34m\u001b[0m\u001b[0;34m\u001b[0m\u001b[0m\n\u001b[1;32m      4\u001b[0m \u001b[0mprint\u001b[0m\u001b[0;34m(\u001b[0m\u001b[0mcodes\u001b[0m\u001b[0;34m[\u001b[0m\u001b[0;34m\"hk\"\u001b[0m\u001b[0;34m]\u001b[0m\u001b[0;34m)\u001b[0m\u001b[0;34m\u001b[0m\u001b[0;34m\u001b[0m\u001b[0m\n\u001b[0;32m----> 5\u001b[0;31m \u001b[0mprint\u001b[0m\u001b[0;34m(\u001b[0m\u001b[0mcodes\u001b[0m\u001b[0;34m[\u001b[0m\u001b[0;34m\"us\"\u001b[0m\u001b[0;34m]\u001b[0m\u001b[0;34m)\u001b[0m\u001b[0;34m\u001b[0m\u001b[0;34m\u001b[0m\u001b[0m\n\u001b[0m",
      "\u001b[0;31mKeyError\u001b[0m: 'us'"
     ]
    }
   ],
   "source": [
    "codes = {\"tw\":\"Taiwan\", \"jp\":\"Japan\", \"hk\":\"Hong Kong\"}\n",
    "print(codes[\"tw\"])\n",
    "print(codes[\"jp\"])\n",
    "print(codes[\"hk\"])\n",
    "#print(codes[\"us\"])"
   ]
  },
  {
   "cell_type": "code",
   "execution_count": 3,
   "id": "de6a8193",
   "metadata": {},
   "outputs": [
    {
     "data": {
      "text/plain": [
       "{1: 'one', 2: 'two', 3: 'three', 4: 'four', 5: 'five'}"
      ]
     },
     "execution_count": 3,
     "metadata": {},
     "output_type": "execute_result"
    }
   ],
   "source": [
    "nums = {\n",
    "    1:\"one\",\n",
    "    2:\"two\",\n",
    "    3:\"three\",\n",
    "    4:\"four\",\n",
    "    5:\"five\"\n",
    "}\n",
    "nums"
   ]
  },
  {
   "cell_type": "code",
   "execution_count": 5,
   "id": "9ef3d1bf",
   "metadata": {},
   "outputs": [
    {
     "data": {
      "text/plain": [
       "{1: 'one', 2: 'two', 3: 'three', 4: 'four', 5: 'five', 6: 'six'}"
      ]
     },
     "execution_count": 5,
     "metadata": {},
     "output_type": "execute_result"
    }
   ],
   "source": [
    "#新增\n",
    "nums[6] = \"six\"\n",
    "nums"
   ]
  },
  {
   "cell_type": "code",
   "execution_count": 6,
   "id": "279f69a3",
   "metadata": {},
   "outputs": [
    {
     "data": {
      "text/plain": [
       "{1: 'one', 2: 'two', 3: 'three', 4: 'four', 5: 'five', 6: 'SIX'}"
      ]
     },
     "execution_count": 6,
     "metadata": {},
     "output_type": "execute_result"
    }
   ],
   "source": [
    "#更新\n",
    "nums[6] = \"SIX\"\n",
    "nums"
   ]
  },
  {
   "cell_type": "code",
   "execution_count": 7,
   "id": "dc71abd5",
   "metadata": {},
   "outputs": [
    {
     "data": {
      "text/plain": [
       "dict"
      ]
     },
     "execution_count": 7,
     "metadata": {},
     "output_type": "execute_result"
    }
   ],
   "source": [
    "type(nums)"
   ]
  },
  {
   "cell_type": "code",
   "execution_count": 9,
   "id": "bfc91457",
   "metadata": {},
   "outputs": [
    {
     "data": {
      "text/plain": [
       "{}"
      ]
     },
     "execution_count": 9,
     "metadata": {},
     "output_type": "execute_result"
    }
   ],
   "source": [
    "empty=dict()\n",
    "empty"
   ]
  },
  {
   "cell_type": "code",
   "execution_count": 10,
   "id": "4ea57f45",
   "metadata": {},
   "outputs": [
    {
     "data": {
      "text/plain": [
       "{}"
      ]
     },
     "execution_count": 10,
     "metadata": {},
     "output_type": "execute_result"
    }
   ],
   "source": [
    "another_empty = {}\n",
    "another_empty"
   ]
  },
  {
   "cell_type": "code",
   "execution_count": 12,
   "id": "0623ba92",
   "metadata": {},
   "outputs": [
    {
     "data": {
      "text/plain": [
       "[{'chinese': 54, 'english': 87, 'math': 95, 'history': 72, 'nature': 74},\n",
       " {'chinese': 62, 'english': 85, 'math': 63, 'history': 66, 'nature': 85},\n",
       " {'chinese': 63, 'english': 61, 'math': 81, 'history': 85, 'nature': 74},\n",
       " {'chinese': 93, 'english': 68, 'math': 92, 'history': 68, 'nature': 92},\n",
       " {'chinese': 73, 'english': 62, 'math': 69, 'history': 63, 'nature': 85},\n",
       " {'chinese': 88, 'english': 82, 'math': 67, 'history': 60, 'nature': 64},\n",
       " {'chinese': 61, 'english': 59, 'math': 97, 'history': 78, 'nature': 59},\n",
       " {'chinese': 52, 'english': 86, 'math': 80, 'history': 84, 'nature': 52},\n",
       " {'chinese': 64, 'english': 95, 'math': 66, 'history': 82, 'nature': 94},\n",
       " {'chinese': 86, 'english': 76, 'math': 83, 'history': 62, 'nature': 83},\n",
       " {'chinese': 96, 'english': 98, 'math': 87, 'history': 88, 'nature': 79},\n",
       " {'chinese': 64, 'english': 99, 'math': 96, 'history': 71, 'nature': 73},\n",
       " {'chinese': 78, 'english': 61, 'math': 91, 'history': 83, 'nature': 97},\n",
       " {'chinese': 86, 'english': 64, 'math': 92, 'history': 53, 'nature': 83},\n",
       " {'chinese': 75, 'english': 89, 'math': 80, 'history': 63, 'nature': 53},\n",
       " {'chinese': 82, 'english': 98, 'math': 80, 'history': 96, 'nature': 83},\n",
       " {'chinese': 79, 'english': 54, 'math': 69, 'history': 53, 'nature': 58},\n",
       " {'chinese': 70, 'english': 63, 'math': 91, 'history': 59, 'nature': 100},\n",
       " {'chinese': 54, 'english': 77, 'math': 92, 'history': 97, 'nature': 54},\n",
       " {'chinese': 94, 'english': 59, 'math': 75, 'history': 56, 'nature': 55},\n",
       " {'chinese': 84, 'english': 54, 'math': 70, 'history': 63, 'nature': 65},\n",
       " {'chinese': 52, 'english': 76, 'math': 82, 'history': 65, 'nature': 97},\n",
       " {'chinese': 88, 'english': 54, 'math': 58, 'history': 88, 'nature': 79},\n",
       " {'chinese': 79, 'english': 93, 'math': 65, 'history': 53, 'nature': 66},\n",
       " {'chinese': 85, 'english': 96, 'math': 68, 'history': 73, 'nature': 88},\n",
       " {'chinese': 85, 'english': 96, 'math': 82, 'history': 72, 'nature': 56},\n",
       " {'chinese': 80, 'english': 82, 'math': 77, 'history': 89, 'nature': 98},\n",
       " {'chinese': 78, 'english': 64, 'math': 82, 'history': 92, 'nature': 80},\n",
       " {'chinese': 98, 'english': 100, 'math': 60, 'history': 88, 'nature': 74},\n",
       " {'chinese': 50, 'english': 58, 'math': 67, 'history': 57, 'nature': 68},\n",
       " {'chinese': 75, 'english': 66, 'math': 53, 'history': 66, 'nature': 92},\n",
       " {'chinese': 60, 'english': 53, 'math': 93, 'history': 75, 'nature': 54},\n",
       " {'chinese': 82, 'english': 97, 'math': 85, 'history': 87, 'nature': 70},\n",
       " {'chinese': 57, 'english': 70, 'math': 50, 'history': 90, 'nature': 64},\n",
       " {'chinese': 78, 'english': 80, 'math': 86, 'history': 73, 'nature': 72},\n",
       " {'chinese': 88, 'english': 90, 'math': 73, 'history': 72, 'nature': 90},\n",
       " {'chinese': 62, 'english': 84, 'math': 90, 'history': 93, 'nature': 76},\n",
       " {'chinese': 97, 'english': 84, 'math': 91, 'history': 97, 'nature': 97},\n",
       " {'chinese': 50, 'english': 78, 'math': 63, 'history': 89, 'nature': 83},\n",
       " {'chinese': 54, 'english': 51, 'math': 64, 'history': 63, 'nature': 90},\n",
       " {'chinese': 64, 'english': 93, 'math': 77, 'history': 63, 'nature': 69},\n",
       " {'chinese': 96, 'english': 55, 'math': 59, 'history': 53, 'nature': 76},\n",
       " {'chinese': 54, 'english': 69, 'math': 98, 'history': 65, 'nature': 55},\n",
       " {'chinese': 69, 'english': 99, 'math': 89, 'history': 76, 'nature': 82},\n",
       " {'chinese': 70, 'english': 95, 'math': 81, 'history': 100, 'nature': 90},\n",
       " {'chinese': 66, 'english': 71, 'math': 89, 'history': 80, 'nature': 95},\n",
       " {'chinese': 70, 'english': 59, 'math': 76, 'history': 96, 'nature': 98},\n",
       " {'chinese': 100, 'english': 87, 'math': 97, 'history': 79, 'nature': 89},\n",
       " {'chinese': 52, 'english': 59, 'math': 53, 'history': 56, 'nature': 88},\n",
       " {'chinese': 93, 'english': 81, 'math': 72, 'history': 71, 'nature': 90}]"
      ]
     },
     "execution_count": 12,
     "metadata": {},
     "output_type": "execute_result"
    }
   ],
   "source": [
    "import random\n",
    "students = []\n",
    "for _ in range(50):\n",
    "    scores = dict()\n",
    "    subjects = [\"chinese\", \"english\", \"math\", \"history\", \"nature\"]\n",
    "    for subject in subjects:\n",
    "        scores[subject] = random.randint(50,100)\n",
    "    students.append(scores)\n",
    "students"
   ]
  },
  {
   "cell_type": "code",
   "execution_count": null,
   "id": "7b78da5f",
   "metadata": {},
   "outputs": [],
   "source": []
  }
 ],
 "metadata": {
  "kernelspec": {
   "display_name": "Python 3",
   "language": "python",
   "name": "python3"
  },
  "language_info": {
   "codemirror_mode": {
    "name": "ipython",
    "version": 3
   },
   "file_extension": ".py",
   "mimetype": "text/x-python",
   "name": "python",
   "nbconvert_exporter": "python",
   "pygments_lexer": "ipython3",
   "version": "3.8.7"
  }
 },
 "nbformat": 4,
 "nbformat_minor": 5
}
