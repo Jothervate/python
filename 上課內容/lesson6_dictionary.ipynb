{
 "cells": [
  {
   "cell_type": "code",
   "execution_count": 2,
   "id": "9e04b6da",
   "metadata": {},
   "outputs": [
    {
     "name": "stdout",
     "output_type": "stream",
     "text": [
      "Taiwan\n",
      "Japan\n",
      "Hong Kong\n"
     ]
    },
    {
     "ename": "KeyError",
     "evalue": "'us'",
     "output_type": "error",
     "traceback": [
      "\u001b[0;31m---------------------------------------------------------------------------\u001b[0m",
      "\u001b[0;31mKeyError\u001b[0m                                  Traceback (most recent call last)",
      "\u001b[0;32m<ipython-input-2-aff2a6a4e092>\u001b[0m in \u001b[0;36m<module>\u001b[0;34m\u001b[0m\n\u001b[1;32m      3\u001b[0m \u001b[0mprint\u001b[0m\u001b[0;34m(\u001b[0m\u001b[0mcodes\u001b[0m\u001b[0;34m[\u001b[0m\u001b[0;34m\"jp\"\u001b[0m\u001b[0;34m]\u001b[0m\u001b[0;34m)\u001b[0m\u001b[0;34m\u001b[0m\u001b[0;34m\u001b[0m\u001b[0m\n\u001b[1;32m      4\u001b[0m \u001b[0mprint\u001b[0m\u001b[0;34m(\u001b[0m\u001b[0mcodes\u001b[0m\u001b[0;34m[\u001b[0m\u001b[0;34m\"hk\"\u001b[0m\u001b[0;34m]\u001b[0m\u001b[0;34m)\u001b[0m\u001b[0;34m\u001b[0m\u001b[0;34m\u001b[0m\u001b[0m\n\u001b[0;32m----> 5\u001b[0;31m \u001b[0mprint\u001b[0m\u001b[0;34m(\u001b[0m\u001b[0mcodes\u001b[0m\u001b[0;34m[\u001b[0m\u001b[0;34m\"us\"\u001b[0m\u001b[0;34m]\u001b[0m\u001b[0;34m)\u001b[0m\u001b[0;34m\u001b[0m\u001b[0;34m\u001b[0m\u001b[0m\n\u001b[0m",
      "\u001b[0;31mKeyError\u001b[0m: 'us'"
     ]
    }
   ],
   "source": [
    "codes = {\"tw\":\"Taiwan\", \"jp\":\"Japan\", \"hk\":\"Hong Kong\"}\n",
    "print(codes[\"tw\"])\n",
    "print(codes[\"jp\"])\n",
    "print(codes[\"hk\"])\n",
    "#print(codes[\"us\"])"
   ]
  },
  {
   "cell_type": "code",
   "execution_count": 3,
   "id": "ea1737bc",
   "metadata": {},
   "outputs": [
    {
     "data": {
      "text/plain": [
       "{1: 'one', 2: 'two', 3: 'three', 4: 'four', 5: 'five'}"
      ]
     },
     "execution_count": 3,
     "metadata": {},
     "output_type": "execute_result"
    }
   ],
   "source": [
    "nums = {\n",
    "    1:\"one\",\n",
    "    2:\"two\",\n",
    "    3:\"three\",\n",
    "    4:\"four\",\n",
    "    5:\"five\"\n",
    "}\n",
    "nums"
   ]
  },
  {
   "cell_type": "code",
   "execution_count": 5,
   "id": "5a05caa7",
   "metadata": {},
   "outputs": [
    {
     "data": {
      "text/plain": [
       "{1: 'one', 2: 'two', 3: 'three', 4: 'four', 5: 'five', 6: 'six'}"
      ]
     },
     "execution_count": 5,
     "metadata": {},
     "output_type": "execute_result"
    }
   ],
   "source": [
    "#新增\n",
    "nums[6] = \"six\"\n",
    "nums"
   ]
  },
  {
   "cell_type": "code",
   "execution_count": 6,
   "id": "ae2ef495",
   "metadata": {},
   "outputs": [
    {
     "data": {
      "text/plain": [
       "{1: 'one', 2: 'two', 3: 'three', 4: 'four', 5: 'five', 6: 'SIX'}"
      ]
     },
     "execution_count": 6,
     "metadata": {},
     "output_type": "execute_result"
    }
   ],
   "source": [
    "#更新\n",
    "nums[6] = \"SIX\"\n",
    "nums"
   ]
  },
  {
   "cell_type": "code",
   "execution_count": 7,
   "id": "e7d81fd1",
   "metadata": {},
   "outputs": [
    {
     "data": {
      "text/plain": [
       "dict"
      ]
     },
     "execution_count": 7,
     "metadata": {},
     "output_type": "execute_result"
    }
   ],
   "source": [
    "type(nums)"
   ]
  },
  {
   "cell_type": "code",
   "execution_count": 9,
   "id": "def4b2c7",
   "metadata": {},
   "outputs": [
    {
     "data": {
      "text/plain": [
       "{}"
      ]
     },
     "execution_count": 9,
     "metadata": {},
     "output_type": "execute_result"
    }
   ],
   "source": [
    "empty=dict()\n",
    "empty"
   ]
  },
  {
   "cell_type": "code",
   "execution_count": 10,
   "id": "15f87a39",
   "metadata": {},
   "outputs": [
    {
     "data": {
      "text/plain": [
       "{}"
      ]
     },
     "execution_count": 10,
     "metadata": {},
     "output_type": "execute_result"
    }
   ],
   "source": [
    "another_empty = {}\n",
    "another_empty"
   ]
  },
  {
   "cell_type": "code",
   "execution_count": 12,
   "id": "046780e9",
   "metadata": {},
   "outputs": [
    {
     "data": {
      "text/plain": [
       "[{'chinese': 54, 'english': 87, 'math': 95, 'history': 72, 'nature': 74},\n",
       " {'chinese': 62, 'english': 85, 'math': 63, 'history': 66, 'nature': 85},\n",
       " {'chinese': 63, 'english': 61, 'math': 81, 'history': 85, 'nature': 74},\n",
       " {'chinese': 93, 'english': 68, 'math': 92, 'history': 68, 'nature': 92},\n",
       " {'chinese': 73, 'english': 62, 'math': 69, 'history': 63, 'nature': 85},\n",
       " {'chinese': 88, 'english': 82, 'math': 67, 'history': 60, 'nature': 64},\n",
       " {'chinese': 61, 'english': 59, 'math': 97, 'history': 78, 'nature': 59},\n",
       " {'chinese': 52, 'english': 86, 'math': 80, 'history': 84, 'nature': 52},\n",
       " {'chinese': 64, 'english': 95, 'math': 66, 'history': 82, 'nature': 94},\n",
       " {'chinese': 86, 'english': 76, 'math': 83, 'history': 62, 'nature': 83},\n",
       " {'chinese': 96, 'english': 98, 'math': 87, 'history': 88, 'nature': 79},\n",
       " {'chinese': 64, 'english': 99, 'math': 96, 'history': 71, 'nature': 73},\n",
       " {'chinese': 78, 'english': 61, 'math': 91, 'history': 83, 'nature': 97},\n",
       " {'chinese': 86, 'english': 64, 'math': 92, 'history': 53, 'nature': 83},\n",
       " {'chinese': 75, 'english': 89, 'math': 80, 'history': 63, 'nature': 53},\n",
       " {'chinese': 82, 'english': 98, 'math': 80, 'history': 96, 'nature': 83},\n",
       " {'chinese': 79, 'english': 54, 'math': 69, 'history': 53, 'nature': 58},\n",
       " {'chinese': 70, 'english': 63, 'math': 91, 'history': 59, 'nature': 100},\n",
       " {'chinese': 54, 'english': 77, 'math': 92, 'history': 97, 'nature': 54},\n",
       " {'chinese': 94, 'english': 59, 'math': 75, 'history': 56, 'nature': 55},\n",
       " {'chinese': 84, 'english': 54, 'math': 70, 'history': 63, 'nature': 65},\n",
       " {'chinese': 52, 'english': 76, 'math': 82, 'history': 65, 'nature': 97},\n",
       " {'chinese': 88, 'english': 54, 'math': 58, 'history': 88, 'nature': 79},\n",
       " {'chinese': 79, 'english': 93, 'math': 65, 'history': 53, 'nature': 66},\n",
       " {'chinese': 85, 'english': 96, 'math': 68, 'history': 73, 'nature': 88},\n",
       " {'chinese': 85, 'english': 96, 'math': 82, 'history': 72, 'nature': 56},\n",
       " {'chinese': 80, 'english': 82, 'math': 77, 'history': 89, 'nature': 98},\n",
       " {'chinese': 78, 'english': 64, 'math': 82, 'history': 92, 'nature': 80},\n",
       " {'chinese': 98, 'english': 100, 'math': 60, 'history': 88, 'nature': 74},\n",
       " {'chinese': 50, 'english': 58, 'math': 67, 'history': 57, 'nature': 68},\n",
       " {'chinese': 75, 'english': 66, 'math': 53, 'history': 66, 'nature': 92},\n",
       " {'chinese': 60, 'english': 53, 'math': 93, 'history': 75, 'nature': 54},\n",
       " {'chinese': 82, 'english': 97, 'math': 85, 'history': 87, 'nature': 70},\n",
       " {'chinese': 57, 'english': 70, 'math': 50, 'history': 90, 'nature': 64},\n",
       " {'chinese': 78, 'english': 80, 'math': 86, 'history': 73, 'nature': 72},\n",
       " {'chinese': 88, 'english': 90, 'math': 73, 'history': 72, 'nature': 90},\n",
       " {'chinese': 62, 'english': 84, 'math': 90, 'history': 93, 'nature': 76},\n",
       " {'chinese': 97, 'english': 84, 'math': 91, 'history': 97, 'nature': 97},\n",
       " {'chinese': 50, 'english': 78, 'math': 63, 'history': 89, 'nature': 83},\n",
       " {'chinese': 54, 'english': 51, 'math': 64, 'history': 63, 'nature': 90},\n",
       " {'chinese': 64, 'english': 93, 'math': 77, 'history': 63, 'nature': 69},\n",
       " {'chinese': 96, 'english': 55, 'math': 59, 'history': 53, 'nature': 76},\n",
       " {'chinese': 54, 'english': 69, 'math': 98, 'history': 65, 'nature': 55},\n",
       " {'chinese': 69, 'english': 99, 'math': 89, 'history': 76, 'nature': 82},\n",
       " {'chinese': 70, 'english': 95, 'math': 81, 'history': 100, 'nature': 90},\n",
       " {'chinese': 66, 'english': 71, 'math': 89, 'history': 80, 'nature': 95},\n",
       " {'chinese': 70, 'english': 59, 'math': 76, 'history': 96, 'nature': 98},\n",
       " {'chinese': 100, 'english': 87, 'math': 97, 'history': 79, 'nature': 89},\n",
       " {'chinese': 52, 'english': 59, 'math': 53, 'history': 56, 'nature': 88},\n",
       " {'chinese': 93, 'english': 81, 'math': 72, 'history': 71, 'nature': 90}]"
      ]
     },
     "execution_count": 12,
     "metadata": {},
     "output_type": "execute_result"
    }
   ],
   "source": [
    "import random\n",
    "students = []\n",
    "for _ in range(50):\n",
    "    scores = dict()\n",
    "    subjects = [\"chinese\", \"english\", \"math\", \"history\", \"nature\"]\n",
    "    for subject in subjects:\n",
    "        scores[subject] = random.randint(50,100)\n",
    "    students.append(scores)\n",
    "students"
   ]
  },
  {
   "cell_type": "code",
   "execution_count": 13,
   "id": "02ccfafb",
   "metadata": {},
   "outputs": [],
   "source": [
    "signals = {'綠燈': '走', '黃燈': '走快些', '紅燈': '停等'}"
   ]
  },
  {
   "cell_type": "code",
   "execution_count": 16,
   "id": "b58fbfd4",
   "metadata": {},
   "outputs": [
    {
     "name": "stdout",
     "output_type": "stream",
     "text": [
      "key:綠燈\n",
      "key:黃燈\n",
      "key:紅燈\n"
     ]
    }
   ],
   "source": [
    "for key in signals.keys():\n",
    "    print(f\"key:{key}\")"
   ]
  },
  {
   "cell_type": "code",
   "execution_count": 17,
   "id": "3b483f97",
   "metadata": {},
   "outputs": [
    {
     "name": "stdout",
     "output_type": "stream",
     "text": [
      "values:走\n",
      "values:走快些\n",
      "values:停等\n"
     ]
    }
   ],
   "source": [
    "for value in signals.values():\n",
    "    print(f\"values:{value}\")"
   ]
  },
  {
   "cell_type": "code",
   "execution_count": 18,
   "id": "9c2df68a",
   "metadata": {},
   "outputs": [
    {
     "name": "stdout",
     "output_type": "stream",
     "text": [
      "key:綠燈,value:走\n",
      "key:黃燈,value:走快些\n",
      "key:紅燈,value:停等\n"
     ]
    }
   ],
   "source": [
    "for key,value in signals.items():\n",
    "    print(f\"key:{key},value:{value}\")"
   ]
  },
  {
   "cell_type": "code",
   "execution_count": 36,
   "id": "21bd4d3b",
   "metadata": {},
   "outputs": [
    {
     "name": "stdout",
     "output_type": "stream",
     "text": [
      "chinese\tenglish\tmath\thistory\tnature\t總分\t平均\n",
      "54\t87\t95\t72\t95\t382\t76.4\n",
      "62\t85\t63\t66\t63\t361\t72.2\n",
      "63\t61\t81\t85\t81\t364\t72.8\n",
      "93\t68\t92\t68\t92\t413\t82.6\n",
      "73\t62\t69\t63\t69\t352\t70.4\n",
      "88\t82\t67\t60\t67\t361\t72.2\n",
      "61\t59\t97\t78\t97\t354\t70.8\n",
      "52\t86\t80\t84\t80\t354\t70.8\n",
      "64\t95\t66\t82\t66\t401\t80.2\n",
      "86\t76\t83\t62\t83\t390\t78.0\n",
      "96\t98\t87\t88\t87\t448\t89.6\n",
      "64\t99\t96\t71\t96\t403\t80.6\n",
      "78\t61\t91\t83\t91\t410\t82.0\n",
      "86\t64\t92\t53\t92\t378\t75.6\n",
      "75\t89\t80\t63\t80\t360\t72.0\n",
      "82\t98\t80\t96\t80\t439\t87.8\n",
      "79\t54\t69\t53\t69\t313\t62.6\n",
      "70\t63\t91\t59\t91\t383\t76.6\n",
      "54\t77\t92\t97\t92\t374\t74.8\n",
      "94\t59\t75\t56\t75\t339\t67.8\n",
      "84\t54\t70\t63\t70\t336\t67.2\n",
      "52\t76\t82\t65\t82\t372\t74.4\n",
      "88\t54\t58\t88\t58\t367\t73.4\n",
      "79\t93\t65\t53\t65\t356\t71.2\n",
      "85\t96\t68\t73\t68\t410\t82.0\n",
      "85\t96\t82\t72\t82\t391\t78.2\n",
      "80\t82\t77\t89\t77\t426\t85.2\n",
      "78\t64\t82\t92\t82\t396\t79.2\n",
      "98\t100\t60\t88\t60\t420\t84.0\n",
      "50\t58\t67\t57\t67\t300\t60.0\n",
      "75\t66\t53\t66\t53\t352\t70.4\n",
      "60\t53\t93\t75\t93\t335\t67.0\n",
      "82\t97\t85\t87\t85\t421\t84.2\n",
      "57\t70\t50\t90\t50\t331\t66.2\n",
      "78\t80\t86\t73\t86\t389\t77.8\n",
      "88\t90\t73\t72\t73\t413\t82.6\n",
      "62\t84\t90\t93\t90\t405\t81.0\n",
      "97\t84\t91\t97\t91\t466\t93.2\n",
      "50\t78\t63\t89\t63\t363\t72.6\n",
      "54\t51\t64\t63\t64\t322\t64.4\n",
      "64\t93\t77\t63\t77\t366\t73.2\n",
      "96\t55\t59\t53\t59\t339\t67.8\n",
      "54\t69\t98\t65\t98\t341\t68.2\n",
      "69\t99\t89\t76\t89\t415\t83.0\n",
      "70\t95\t81\t100\t81\t436\t87.2\n",
      "66\t71\t89\t80\t89\t401\t80.2\n",
      "70\t59\t76\t96\t76\t399\t79.8\n",
      "100\t87\t97\t79\t97\t452\t90.4\n",
      "52\t59\t53\t56\t53\t308\t61.6\n",
      "93\t81\t72\t71\t72\t407\t81.4\n"
     ]
    }
   ],
   "source": [
    "students\n",
    "subjects = students[0].keys()\n",
    "for name in subjects:\n",
    "    print(name,end='\\t')\n",
    "print(\"總分\",end='\\t')\n",
    "print(\"平均\")\n",
    "\n",
    "for student in students:\n",
    "    print(f'{student[\"chinese\"]}\\t{student[\"english\"]}\\t{student[\"math\"]}\\t{student[\"history\"]}\\t{student[\"math\"]}',end=\"\\t\")\n",
    "    sum = 0\n",
    "    for item in student.values():\n",
    "        sum += item   \n",
    "    print(sum,end=\"\\t\")\n",
    "    print(sum/5.0)"
   ]
  },
  {
   "cell_type": "code",
   "execution_count": 34,
   "id": "d7b219f4",
   "metadata": {},
   "outputs": [
    {
     "ename": "TypeError",
     "evalue": "'int' object is not callable",
     "output_type": "error",
     "traceback": [
      "\u001b[0;31m---------------------------------------------------------------------------\u001b[0m",
      "\u001b[0;31mTypeError\u001b[0m                                 Traceback (most recent call last)",
      "\u001b[0;32m<ipython-input-34-5b30f1e835bd>\u001b[0m in \u001b[0;36m<module>\u001b[0;34m\u001b[0m\n\u001b[0;32m----> 1\u001b[0;31m \u001b[0msum\u001b[0m\u001b[0;34m(\u001b[0m\u001b[0;34m[\u001b[0m\u001b[0;36m1\u001b[0m\u001b[0;34m,\u001b[0m \u001b[0;36m2\u001b[0m\u001b[0;34m,\u001b[0m \u001b[0;36m3\u001b[0m\u001b[0;34m]\u001b[0m\u001b[0;34m)\u001b[0m\u001b[0;34m\u001b[0m\u001b[0;34m\u001b[0m\u001b[0m\n\u001b[0m",
      "\u001b[0;31mTypeError\u001b[0m: 'int' object is not callable"
     ]
    }
   ],
   "source": []
  },
  {
   "cell_type": "code",
   "execution_count": null,
   "id": "8f78c83d",
   "metadata": {},
   "outputs": [],
   "source": []
  }
 ],
 "metadata": {
  "kernelspec": {
   "display_name": "Python 3",
   "language": "python",
   "name": "python3"
  },
  "language_info": {
   "codemirror_mode": {
    "name": "ipython",
    "version": 3
   },
   "file_extension": ".py",
   "mimetype": "text/x-python",
   "name": "python",
   "nbconvert_exporter": "python",
   "pygments_lexer": "ipython3",
   "version": "3.8.7"
  }
 },
 "nbformat": 4,
 "nbformat_minor": 5
}
