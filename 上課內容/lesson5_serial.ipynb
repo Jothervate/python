{
 "cells": [
  {
   "cell_type": "code",
   "execution_count": 1,
   "id": "e0dc0ff9",
   "metadata": {},
   "outputs": [
    {
     "name": "stdout",
     "output_type": "stream",
     "text": [
      "[]\n",
      "[]\n"
     ]
    }
   ],
   "source": [
    "#python資料結構\n",
    "#建立空陣列\n",
    "empty_list = []\n",
    "print(empty_list)\n",
    "another_empty_list = list()\n",
    "print(another_empty_list)"
   ]
  },
  {
   "cell_type": "code",
   "execution_count": 2,
   "id": "b8962ec0",
   "metadata": {},
   "outputs": [
    {
     "name": "stdout",
     "output_type": "stream",
     "text": [
      "星期一\n",
      "星期六\n",
      "['星期一', '星期二', '星期三', '星期四', '星期五', '星期六', '星期日']\n"
     ]
    }
   ],
   "source": [
    "weekdays = ['星期一', '星期二', '星期三', '星期四', '星期五', '星期六', '星期日'] \n",
    "print(weekdays[0])\n",
    "print(weekdays[5])\n",
    "#print(weekdays[9])\n",
    "print(weekdays)"
   ]
  },
  {
   "cell_type": "code",
   "execution_count": 3,
   "id": "a20a46da",
   "metadata": {},
   "outputs": [
    {
     "data": {
      "text/plain": [
       "['c', 'a', 't']"
      ]
     },
     "execution_count": 3,
     "metadata": {},
     "output_type": "execute_result"
    }
   ],
   "source": [
    "list('cat')"
   ]
  },
  {
   "cell_type": "code",
   "execution_count": 4,
   "id": "0e34931e",
   "metadata": {},
   "outputs": [
    {
     "data": {
      "text/plain": [
       "[20, 21, 22, 23, 24, 25, 26, 27, 28, 29, 30]"
      ]
     },
     "execution_count": 4,
     "metadata": {},
     "output_type": "execute_result"
    }
   ],
   "source": [
    "list(range(20,31))"
   ]
  },
  {
   "cell_type": "code",
   "execution_count": 5,
   "id": "5aa1b6e3",
   "metadata": {},
   "outputs": [
    {
     "name": "stdout",
     "output_type": "stream",
     "text": [
      "['H', 'i']\n",
      "('H', 'i')\n",
      "['P', 'i']\n"
     ]
    }
   ],
   "source": [
    "#tuple,list\n",
    "list1 = ['H','i']\n",
    "tuple1 = ('H','i')\n",
    "\n",
    "print(list1)\n",
    "print(tuple1)\n",
    "\n",
    "list1[0] = 'P'\n",
    "#tuple1[0] = 'p'\n",
    "\n",
    "print(list1)"
   ]
  },
  {
   "cell_type": "code",
   "execution_count": 6,
   "id": "33a4b290",
   "metadata": {},
   "outputs": [
    {
     "data": {
      "text/plain": [
       "['H', 'e', 'l', 'l', 'o', 'W', 'o', 'r', 'l', 'd']"
      ]
     },
     "execution_count": 6,
     "metadata": {},
     "output_type": "execute_result"
    }
   ],
   "source": [
    "list1 = list(\"HelloWorld\")\n",
    "list1"
   ]
  },
  {
   "cell_type": "code",
   "execution_count": 7,
   "id": "6fb76568",
   "metadata": {},
   "outputs": [
    {
     "data": {
      "text/plain": [
       "'l'"
      ]
     },
     "execution_count": 7,
     "metadata": {},
     "output_type": "execute_result"
    }
   ],
   "source": [
    "list1[2]"
   ]
  },
  {
   "cell_type": "code",
   "execution_count": 8,
   "id": "dd1345ad",
   "metadata": {},
   "outputs": [
    {
     "data": {
      "text/plain": [
       "['l']"
      ]
     },
     "execution_count": 8,
     "metadata": {},
     "output_type": "execute_result"
    }
   ],
   "source": [
    "list1[2:3]"
   ]
  },
  {
   "cell_type": "code",
   "execution_count": 9,
   "id": "cbe38e80",
   "metadata": {},
   "outputs": [
    {
     "data": {
      "text/plain": [
       "['l', 'l']"
      ]
     },
     "execution_count": 9,
     "metadata": {},
     "output_type": "execute_result"
    }
   ],
   "source": [
    "list1[2:4]"
   ]
  },
  {
   "cell_type": "code",
   "execution_count": 10,
   "id": "5ef4cc5f",
   "metadata": {},
   "outputs": [
    {
     "data": {
      "text/plain": [
       "['l', 'l', 'o', 'W', 'o', 'r', 'l', 'd']"
      ]
     },
     "execution_count": 10,
     "metadata": {},
     "output_type": "execute_result"
    }
   ],
   "source": [
    "list1[2:]"
   ]
  },
  {
   "cell_type": "code",
   "execution_count": 11,
   "id": "e29e092d",
   "metadata": {},
   "outputs": [
    {
     "data": {
      "text/plain": [
       "['H', 'e', 'l']"
      ]
     },
     "execution_count": 11,
     "metadata": {},
     "output_type": "execute_result"
    }
   ],
   "source": [
    "list1[:3]"
   ]
  },
  {
   "cell_type": "code",
   "execution_count": 12,
   "id": "79455055",
   "metadata": {},
   "outputs": [
    {
     "data": {
      "text/plain": [
       "['H', 'e', 'l', 'l', 'o']"
      ]
     },
     "execution_count": 12,
     "metadata": {},
     "output_type": "execute_result"
    }
   ],
   "source": [
    "#取前5個\n",
    "list1[:5]"
   ]
  },
  {
   "cell_type": "code",
   "execution_count": 13,
   "id": "23331e46",
   "metadata": {},
   "outputs": [
    {
     "data": {
      "text/plain": [
       "['W', 'o', 'r', 'l', 'd']"
      ]
     },
     "execution_count": 13,
     "metadata": {},
     "output_type": "execute_result"
    }
   ],
   "source": [
    "#取最後5個\n",
    "list1[-5:]"
   ]
  },
  {
   "cell_type": "code",
   "execution_count": 14,
   "id": "95cd8270",
   "metadata": {},
   "outputs": [
    {
     "data": {
      "text/plain": [
       "[['筆記電腦', '商用筆電'], ['APPLE', 'ASUS', 'HTC'], [3, '冰箱', 2, '洗衣機']]"
      ]
     },
     "execution_count": 14,
     "metadata": {},
     "output_type": "execute_result"
    }
   ],
   "source": [
    "#2維list\n",
    "nb = ['筆記電腦', '商用筆電']\n",
    "mobile = ['APPLE', 'ASUS', 'HTC']\n",
    "home = [3, '冰箱', 2, '洗衣機']\n",
    "all3c = [nb, mobile, home]\n",
    "all3c"
   ]
  },
  {
   "cell_type": "code",
   "execution_count": 15,
   "id": "9bf8f44f",
   "metadata": {},
   "outputs": [
    {
     "data": {
      "text/plain": [
       "['筆記電腦', '商用筆電']"
      ]
     },
     "execution_count": 15,
     "metadata": {},
     "output_type": "execute_result"
    }
   ],
   "source": [
    "all3c[0]"
   ]
  },
  {
   "cell_type": "code",
   "execution_count": 16,
   "id": "d1130563",
   "metadata": {},
   "outputs": [
    {
     "data": {
      "text/plain": [
       "'冰箱'"
      ]
     },
     "execution_count": 16,
     "metadata": {},
     "output_type": "execute_result"
    }
   ],
   "source": [
    "all3c[2][1]"
   ]
  },
  {
   "cell_type": "code",
   "execution_count": 18,
   "id": "fb75bcd2",
   "metadata": {},
   "outputs": [
    {
     "name": "stdout",
     "output_type": "stream",
     "text": [
      "['H', 'e', 'l', 'l', 'o', 'W', 'o', 'r', 'l', 'd']\n",
      "10\n"
     ]
    }
   ],
   "source": [
    "list1 = list(\"HelloWorld\")\n",
    "print(list1)\n",
    "print(len(list1))"
   ]
  },
  {
   "cell_type": "code",
   "execution_count": 23,
   "id": "8d2f1496",
   "metadata": {},
   "outputs": [
    {
     "name": "stdout",
     "output_type": "stream",
     "text": [
      "第0元素是H\n",
      "第1元素是e\n",
      "第2元素是l\n",
      "第3元素是l\n",
      "第4元素是o\n",
      "第5元素是W\n",
      "第6元素是o\n",
      "第7元素是r\n",
      "第8元素是l\n",
      "第9元素是d\n"
     ]
    }
   ],
   "source": [
    "for index in range(0,len(list1)):\n",
    "    print(f\"第{index}元素是{list1[index]}\")"
   ]
  },
  {
   "cell_type": "code",
   "execution_count": 22,
   "id": "37879db7",
   "metadata": {},
   "outputs": [
    {
     "name": "stdout",
     "output_type": "stream",
     "text": [
      "H\n",
      "e\n",
      "l\n",
      "l\n",
      "o\n",
      "W\n",
      "o\n",
      "r\n",
      "l\n",
      "d\n"
     ]
    }
   ],
   "source": [
    "for word in list1:\n",
    "    print(word)"
   ]
  },
  {
   "cell_type": "code",
   "execution_count": 25,
   "id": "631973df",
   "metadata": {},
   "outputs": [
    {
     "name": "stdout",
     "output_type": "stream",
     "text": [
      "第0元素是H\n",
      "第1元素是e\n",
      "第2元素是l\n",
      "第3元素是l\n",
      "第4元素是o\n",
      "第5元素是W\n",
      "第6元素是o\n",
      "第7元素是r\n",
      "第8元素是l\n",
      "第9元素是d\n"
     ]
    }
   ],
   "source": [
    "for tupleItem in enumerate(list1):\n",
    "    index,item = tupleItem\n",
    "    print(f\"第{index}元素是{item}\")"
   ]
  },
  {
   "cell_type": "code",
   "execution_count": 26,
   "id": "689dd573",
   "metadata": {},
   "outputs": [
    {
     "name": "stdout",
     "output_type": "stream",
     "text": [
      "第0元素是H\n",
      "第1元素是e\n",
      "第2元素是l\n",
      "第3元素是l\n",
      "第4元素是o\n",
      "第5元素是W\n",
      "第6元素是o\n",
      "第7元素是r\n",
      "第8元素是l\n",
      "第9元素是d\n"
     ]
    }
   ],
   "source": [
    "for index,item in enumerate(list1):\n",
    "    print(f\"第{index}元素是{item}\")"
   ]
  },
  {
   "cell_type": "code",
   "execution_count": 37,
   "id": "41cebaf2",
   "metadata": {},
   "outputs": [
    {
     "name": "stdout",
     "output_type": "stream",
     "text": [
      "第1位學生:[80, 62, 77, 73, 100]\n",
      "第2位學生:[75, 67, 79, 95, 96]\n",
      "第3位學生:[77, 62, 100, 66, 77]\n",
      "第4位學生:[76, 70, 90, 91, 63]\n",
      "第5位學生:[79, 87, 68, 62, 55]\n",
      "第6位學生:[56, 76, 76, 67, 54]\n",
      "第7位學生:[50, 70, 77, 98, 70]\n",
      "第8位學生:[100, 74, 52, 94, 61]\n",
      "第9位學生:[52, 54, 69, 90, 54]\n",
      "第10位學生:[79, 78, 79, 83, 67]\n",
      "第11位學生:[60, 88, 86, 59, 76]\n",
      "第12位學生:[66, 52, 95, 83, 95]\n",
      "第13位學生:[72, 58, 94, 82, 79]\n",
      "第14位學生:[85, 67, 84, 94, 67]\n",
      "第15位學生:[65, 59, 73, 91, 94]\n",
      "第16位學生:[83, 85, 58, 56, 55]\n",
      "第17位學生:[56, 76, 62, 71, 54]\n",
      "第18位學生:[68, 60, 65, 93, 79]\n",
      "第19位學生:[84, 79, 94, 64, 75]\n",
      "第20位學生:[64, 74, 91, 95, 58]\n",
      "第21位學生:[80, 87, 52, 84, 67]\n",
      "第22位學生:[89, 52, 86, 92, 73]\n",
      "第23位學生:[52, 70, 57, 67, 100]\n",
      "第24位學生:[64, 54, 59, 71, 68]\n",
      "第25位學生:[60, 65, 54, 72, 57]\n",
      "第26位學生:[93, 79, 70, 54, 64]\n",
      "第27位學生:[57, 97, 95, 57, 91]\n",
      "第28位學生:[91, 64, 68, 100, 99]\n",
      "第29位學生:[68, 95, 64, 84, 62]\n",
      "第30位學生:[58, 70, 51, 91, 66]\n",
      "第31位學生:[65, 79, 72, 55, 99]\n",
      "第32位學生:[51, 84, 64, 97, 80]\n",
      "第33位學生:[79, 80, 87, 58, 100]\n",
      "第34位學生:[73, 100, 68, 74, 93]\n",
      "第35位學生:[75, 95, 69, 96, 56]\n",
      "第36位學生:[83, 74, 60, 89, 98]\n",
      "第37位學生:[86, 66, 60, 64, 52]\n",
      "第38位學生:[66, 90, 51, 88, 73]\n",
      "第39位學生:[61, 93, 90, 91, 62]\n",
      "第40位學生:[75, 51, 84, 77, 81]\n",
      "第41位學生:[78, 93, 51, 83, 82]\n",
      "第42位學生:[67, 85, 72, 69, 90]\n",
      "第43位學生:[82, 62, 94, 99, 77]\n",
      "第44位學生:[60, 93, 51, 63, 82]\n",
      "第45位學生:[56, 100, 85, 77, 52]\n",
      "第46位學生:[68, 90, 74, 95, 60]\n",
      "第47位學生:[81, 91, 79, 90, 50]\n",
      "第48位學生:[74, 64, 83, 91, 100]\n",
      "第49位學生:[88, 58, 58, 88, 74]\n",
      "第50位學生:[95, 97, 65, 53, 55]\n"
     ]
    }
   ],
   "source": [
    "#建立50位學生,每位學生5個分數\n",
    "import random\n",
    "\n",
    "students = []\n",
    "for _ in range(50):\n",
    "    score = []\n",
    "    for _ in range(5):\n",
    "        score.append(random.randint(50,100))\n",
    "    \n",
    "    students.append(score)\n",
    "\n",
    "\n",
    "for index,student in  enumerate(students):\n",
    "    print(f\"第{index+1}位學生:{student}\")"
   ]
  },
  {
   "cell_type": "code",
   "execution_count": null,
   "id": "d48e3f95",
   "metadata": {},
   "outputs": [],
   "source": []
  }
 ],
 "metadata": {
  "kernelspec": {
   "display_name": "Python 3",
   "language": "python",
   "name": "python3"
  },
  "language_info": {
   "codemirror_mode": {
    "name": "ipython",
    "version": 3
   },
   "file_extension": ".py",
   "mimetype": "text/x-python",
   "name": "python",
   "nbconvert_exporter": "python",
   "pygments_lexer": "ipython3",
   "version": "3.8.7"
  }
 },
 "nbformat": 4,
 "nbformat_minor": 5
}
