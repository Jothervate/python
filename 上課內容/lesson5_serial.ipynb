{
 "cells": [
  {
   "cell_type": "code",
   "execution_count": 1,
   "id": "f253f6fa",
   "metadata": {},
   "outputs": [
    {
     "name": "stdout",
     "output_type": "stream",
     "text": [
      "[]\n",
      "[]\n"
     ]
    }
   ],
   "source": [
    "#python資料結構\n",
    "#建立空陣列\n",
    "empty_list = []\n",
    "print(empty_list)\n",
    "another_empty_list = list()\n",
    "print(another_empty_list)"
   ]
  },
  {
   "cell_type": "code",
   "execution_count": 2,
   "id": "4fa9ef06",
   "metadata": {},
   "outputs": [
    {
     "name": "stdout",
     "output_type": "stream",
     "text": [
      "星期一\n",
      "星期六\n",
      "['星期一', '星期二', '星期三', '星期四', '星期五', '星期六', '星期日']\n"
     ]
    }
   ],
   "source": [
    "weekdays = ['星期一', '星期二', '星期三', '星期四', '星期五', '星期六', '星期日'] \n",
    "print(weekdays[0])\n",
    "print(weekdays[5])\n",
    "#print(weekdays[9])\n",
    "print(weekdays)"
   ]
  },
  {
   "cell_type": "code",
   "execution_count": 3,
   "id": "424bd768",
   "metadata": {},
   "outputs": [
    {
     "data": {
      "text/plain": [
       "['c', 'a', 't']"
      ]
     },
     "execution_count": 3,
     "metadata": {},
     "output_type": "execute_result"
    }
   ],
   "source": [
    "list('cat')"
   ]
  },
  {
   "cell_type": "code",
   "execution_count": 4,
   "id": "f70dfcf3",
   "metadata": {},
   "outputs": [
    {
     "data": {
      "text/plain": [
       "[20, 21, 22, 23, 24, 25, 26, 27, 28, 29, 30]"
      ]
     },
     "execution_count": 4,
     "metadata": {},
     "output_type": "execute_result"
    }
   ],
   "source": [
    "list(range(20,31))"
   ]
  },
  {
   "cell_type": "code",
   "execution_count": 5,
   "id": "f5206d83",
   "metadata": {},
   "outputs": [
    {
     "name": "stdout",
     "output_type": "stream",
     "text": [
      "['H', 'i']\n",
      "('H', 'i')\n",
      "['P', 'i']\n"
     ]
    }
   ],
   "source": [
    "#tuple,list\n",
    "list1 = ['H','i']\n",
    "tuple1 = ('H','i')\n",
    "\n",
    "print(list1)\n",
    "print(tuple1)\n",
    "\n",
    "list1[0] = 'P'\n",
    "#tuple1[0] = 'p'\n",
    "\n",
    "print(list1)"
   ]
  },
  {
   "cell_type": "code",
   "execution_count": 6,
   "id": "22adb284",
   "metadata": {},
   "outputs": [
    {
     "data": {
      "text/plain": [
       "['H', 'e', 'l', 'l', 'o', 'W', 'o', 'r', 'l', 'd']"
      ]
     },
     "execution_count": 6,
     "metadata": {},
     "output_type": "execute_result"
    }
   ],
   "source": [
    "list1 = list(\"HelloWorld\")\n",
    "list1"
   ]
  },
  {
   "cell_type": "code",
   "execution_count": 7,
   "id": "1c669d68",
   "metadata": {},
   "outputs": [
    {
     "data": {
      "text/plain": [
       "'l'"
      ]
     },
     "execution_count": 7,
     "metadata": {},
     "output_type": "execute_result"
    }
   ],
   "source": [
    "list1[2]"
   ]
  },
  {
   "cell_type": "code",
   "execution_count": 8,
   "id": "663035be",
   "metadata": {},
   "outputs": [
    {
     "data": {
      "text/plain": [
       "['l']"
      ]
     },
     "execution_count": 8,
     "metadata": {},
     "output_type": "execute_result"
    }
   ],
   "source": [
    "list1[2:3]"
   ]
  },
  {
   "cell_type": "code",
   "execution_count": 9,
   "id": "7716b609",
   "metadata": {},
   "outputs": [
    {
     "data": {
      "text/plain": [
       "['l', 'l']"
      ]
     },
     "execution_count": 9,
     "metadata": {},
     "output_type": "execute_result"
    }
   ],
   "source": [
    "list1[2:4]"
   ]
  },
  {
   "cell_type": "code",
   "execution_count": 10,
   "id": "759e9fd2",
   "metadata": {},
   "outputs": [
    {
     "data": {
      "text/plain": [
       "['l', 'l', 'o', 'W', 'o', 'r', 'l', 'd']"
      ]
     },
     "execution_count": 10,
     "metadata": {},
     "output_type": "execute_result"
    }
   ],
   "source": [
    "list1[2:]"
   ]
  },
  {
   "cell_type": "code",
   "execution_count": 11,
   "id": "12fa9e76",
   "metadata": {},
   "outputs": [
    {
     "data": {
      "text/plain": [
       "['H', 'e', 'l']"
      ]
     },
     "execution_count": 11,
     "metadata": {},
     "output_type": "execute_result"
    }
   ],
   "source": [
    "list1[:3]"
   ]
  },
  {
   "cell_type": "code",
   "execution_count": 12,
   "id": "1e9d338a",
   "metadata": {},
   "outputs": [
    {
     "data": {
      "text/plain": [
       "['H', 'e', 'l', 'l', 'o']"
      ]
     },
     "execution_count": 12,
     "metadata": {},
     "output_type": "execute_result"
    }
   ],
   "source": [
    "#取前5個\n",
    "list1[:5]"
   ]
  },
  {
   "cell_type": "code",
   "execution_count": 13,
   "id": "837f96fc",
   "metadata": {},
   "outputs": [
    {
     "data": {
      "text/plain": [
       "['W', 'o', 'r', 'l', 'd']"
      ]
     },
     "execution_count": 13,
     "metadata": {},
     "output_type": "execute_result"
    }
   ],
   "source": [
    "#取最後5個\n",
    "list1[-5:]"
   ]
  },
  {
   "cell_type": "code",
   "execution_count": 14,
   "id": "6ebb8da2",
   "metadata": {},
   "outputs": [
    {
     "data": {
      "text/plain": [
       "[['筆記電腦', '商用筆電'], ['APPLE', 'ASUS', 'HTC'], [3, '冰箱', 2, '洗衣機']]"
      ]
     },
     "execution_count": 14,
     "metadata": {},
     "output_type": "execute_result"
    }
   ],
   "source": [
    "#2維list\n",
    "nb = ['筆記電腦', '商用筆電']\n",
    "mobile = ['APPLE', 'ASUS', 'HTC']\n",
    "home = [3, '冰箱', 2, '洗衣機']\n",
    "all3c = [nb, mobile, home]\n",
    "all3c"
   ]
  },
  {
   "cell_type": "code",
   "execution_count": 15,
   "id": "f11141ad",
   "metadata": {},
   "outputs": [
    {
     "data": {
      "text/plain": [
       "['筆記電腦', '商用筆電']"
      ]
     },
     "execution_count": 15,
     "metadata": {},
     "output_type": "execute_result"
    }
   ],
   "source": [
    "all3c[0]"
   ]
  },
  {
   "cell_type": "code",
   "execution_count": 16,
   "id": "9ed72a4c",
   "metadata": {},
   "outputs": [
    {
     "data": {
      "text/plain": [
       "'冰箱'"
      ]
     },
     "execution_count": 16,
     "metadata": {},
     "output_type": "execute_result"
    }
   ],
   "source": [
    "all3c[2][1]"
   ]
  },
  {
   "cell_type": "code",
   "execution_count": 18,
   "id": "827ea50e",
   "metadata": {},
   "outputs": [
    {
     "name": "stdout",
     "output_type": "stream",
     "text": [
      "['H', 'e', 'l', 'l', 'o', 'W', 'o', 'r', 'l', 'd']\n",
      "10\n"
     ]
    }
   ],
   "source": [
    "list1 = list(\"HelloWorld\")\n",
    "print(list1)\n",
    "print(len(list1))"
   ]
  },
  {
   "cell_type": "code",
   "execution_count": 23,
   "id": "bd68f933",
   "metadata": {},
   "outputs": [
    {
     "name": "stdout",
     "output_type": "stream",
     "text": [
      "第0元素是H\n",
      "第1元素是e\n",
      "第2元素是l\n",
      "第3元素是l\n",
      "第4元素是o\n",
      "第5元素是W\n",
      "第6元素是o\n",
      "第7元素是r\n",
      "第8元素是l\n",
      "第9元素是d\n"
     ]
    }
   ],
   "source": [
    "for index in range(0,len(list1)):\n",
    "    print(f\"第{index}元素是{list1[index]}\")"
   ]
  },
  {
   "cell_type": "code",
   "execution_count": 22,
   "id": "4b7b90be",
   "metadata": {},
   "outputs": [
    {
     "name": "stdout",
     "output_type": "stream",
     "text": [
      "H\n",
      "e\n",
      "l\n",
      "l\n",
      "o\n",
      "W\n",
      "o\n",
      "r\n",
      "l\n",
      "d\n"
     ]
    }
   ],
   "source": [
    "for word in list1:\n",
    "    print(word)"
   ]
  },
  {
   "cell_type": "code",
   "execution_count": 25,
   "id": "0cd02070",
   "metadata": {},
   "outputs": [
    {
     "name": "stdout",
     "output_type": "stream",
     "text": [
      "第0元素是H\n",
      "第1元素是e\n",
      "第2元素是l\n",
      "第3元素是l\n",
      "第4元素是o\n",
      "第5元素是W\n",
      "第6元素是o\n",
      "第7元素是r\n",
      "第8元素是l\n",
      "第9元素是d\n"
     ]
    }
   ],
   "source": [
    "for tupleItem in enumerate(list1):\n",
    "    index,item = tupleItem\n",
    "    print(f\"第{index}元素是{item}\")"
   ]
  },
  {
   "cell_type": "code",
   "execution_count": 26,
   "id": "765264ab",
   "metadata": {},
   "outputs": [
    {
     "name": "stdout",
     "output_type": "stream",
     "text": [
      "第0元素是H\n",
      "第1元素是e\n",
      "第2元素是l\n",
      "第3元素是l\n",
      "第4元素是o\n",
      "第5元素是W\n",
      "第6元素是o\n",
      "第7元素是r\n",
      "第8元素是l\n",
      "第9元素是d\n"
     ]
    }
   ],
   "source": [
    "for index,item in enumerate(list1):\n",
    "    print(f\"第{index}元素是{item}\")"
   ]
  },
  {
   "cell_type": "code",
   "execution_count": 38,
   "id": "2f7d27ba",
   "metadata": {},
   "outputs": [
    {
     "name": "stdout",
     "output_type": "stream",
     "text": [
      "第1位學生:[93, 52, 62, 82, 82]\n",
      "第2位學生:[98, 58, 90, 100, 77]\n",
      "第3位學生:[92, 93, 86, 57, 73]\n",
      "第4位學生:[58, 71, 53, 56, 73]\n",
      "第5位學生:[77, 58, 60, 52, 90]\n",
      "第6位學生:[83, 59, 79, 62, 90]\n",
      "第7位學生:[72, 62, 98, 65, 76]\n",
      "第8位學生:[53, 63, 58, 73, 84]\n",
      "第9位學生:[94, 78, 55, 69, 89]\n",
      "第10位學生:[88, 58, 50, 69, 93]\n",
      "第11位學生:[56, 91, 97, 84, 83]\n",
      "第12位學生:[63, 95, 81, 90, 81]\n",
      "第13位學生:[80, 59, 58, 71, 70]\n",
      "第14位學生:[56, 55, 97, 69, 66]\n",
      "第15位學生:[92, 56, 97, 71, 61]\n",
      "第16位學生:[86, 73, 76, 75, 98]\n",
      "第17位學生:[91, 86, 70, 92, 84]\n",
      "第18位學生:[73, 57, 59, 98, 58]\n",
      "第19位學生:[94, 87, 83, 95, 54]\n",
      "第20位學生:[73, 82, 72, 69, 77]\n",
      "第21位學生:[60, 57, 77, 58, 85]\n",
      "第22位學生:[67, 90, 71, 92, 61]\n",
      "第23位學生:[62, 63, 63, 52, 82]\n",
      "第24位學生:[77, 71, 56, 50, 97]\n",
      "第25位學生:[62, 55, 80, 87, 90]\n",
      "第26位學生:[74, 75, 96, 72, 56]\n",
      "第27位學生:[62, 67, 73, 77, 82]\n",
      "第28位學生:[62, 75, 99, 59, 60]\n",
      "第29位學生:[60, 93, 56, 76, 63]\n",
      "第30位學生:[62, 77, 100, 100, 67]\n",
      "第31位學生:[77, 56, 78, 66, 78]\n",
      "第32位學生:[61, 89, 98, 75, 85]\n",
      "第33位學生:[84, 64, 83, 79, 75]\n",
      "第34位學生:[55, 63, 64, 59, 90]\n",
      "第35位學生:[76, 74, 82, 75, 92]\n",
      "第36位學生:[69, 81, 62, 65, 66]\n",
      "第37位學生:[100, 56, 84, 99, 84]\n",
      "第38位學生:[60, 65, 76, 65, 93]\n",
      "第39位學生:[77, 61, 67, 57, 67]\n",
      "第40位學生:[57, 99, 55, 67, 73]\n",
      "第41位學生:[78, 65, 68, 67, 91]\n",
      "第42位學生:[82, 72, 56, 73, 79]\n",
      "第43位學生:[96, 94, 65, 83, 53]\n",
      "第44位學生:[63, 86, 92, 70, 87]\n",
      "第45位學生:[60, 52, 81, 83, 52]\n",
      "第46位學生:[60, 55, 63, 60, 79]\n",
      "第47位學生:[58, 81, 91, 88, 50]\n",
      "第48位學生:[84, 93, 58, 83, 85]\n",
      "第49位學生:[86, 91, 69, 97, 59]\n",
      "第50位學生:[62, 67, 57, 66, 87]\n"
     ]
    }
   ],
   "source": [
    "#建立50位學生,每位學生5個分數\n",
    "import random\n",
    "\n",
    "students = []\n",
    "for _ in range(50):\n",
    "    score = []\n",
    "    for _ in range(5):\n",
    "        score.append(random.randint(50,100))\n",
    "    \n",
    "    students.append(score)\n",
    "\n",
    "\n",
    "for i,s in  enumerate(students):\n",
    "    print(f\"第{i+1}位學生:{s}\")"
   ]
  },
  {
   "cell_type": "code",
   "execution_count": null,
   "id": "8abbfb2a",
   "metadata": {},
   "outputs": [],
   "source": []
  }
 ],
 "metadata": {
  "kernelspec": {
   "display_name": "Python 3",
   "language": "python",
   "name": "python3"
  },
  "language_info": {
   "codemirror_mode": {
    "name": "ipython",
    "version": 3
   },
   "file_extension": ".py",
   "mimetype": "text/x-python",
   "name": "python",
   "nbconvert_exporter": "python",
   "pygments_lexer": "ipython3",
   "version": "3.8.7"
  }
 },
 "nbformat": 4,
 "nbformat_minor": 5
}
