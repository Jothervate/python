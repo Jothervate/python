{
 "cells": [
  {
   "cell_type": "code",
   "execution_count": 1,
   "id": "850b2ccb",
   "metadata": {},
   "outputs": [
    {
     "name": "stdout",
     "output_type": "stream",
     "text": [
      "[]\n",
      "[]\n"
     ]
    }
   ],
   "source": [
    "#python資料結構\n",
    "#建立空陣列\n",
    "empty_list = []\n",
    "print(empty_list)\n",
    "another_empty_list = list()\n",
    "print(another_empty_list)"
   ]
  },
  {
   "cell_type": "code",
   "execution_count": 2,
   "id": "5f029930",
   "metadata": {},
   "outputs": [
    {
     "name": "stdout",
     "output_type": "stream",
     "text": [
      "星期一\n",
      "星期六\n",
      "['星期一', '星期二', '星期三', '星期四', '星期五', '星期六', '星期日']\n"
     ]
    }
   ],
   "source": [
    "weekdays = ['星期一', '星期二', '星期三', '星期四', '星期五', '星期六', '星期日'] \n",
    "print(weekdays[0])\n",
    "print(weekdays[5])\n",
    "#print(weekdays[9])\n",
    "print(weekdays)"
   ]
  },
  {
   "cell_type": "code",
   "execution_count": 3,
   "id": "c39204f2",
   "metadata": {},
   "outputs": [
    {
     "data": {
      "text/plain": [
       "['c', 'a', 't']"
      ]
     },
     "execution_count": 3,
     "metadata": {},
     "output_type": "execute_result"
    }
   ],
   "source": [
    "list('cat')"
   ]
  },
  {
   "cell_type": "code",
   "execution_count": 4,
   "id": "7717e77d",
   "metadata": {},
   "outputs": [
    {
     "data": {
      "text/plain": [
       "[20, 21, 22, 23, 24, 25, 26, 27, 28, 29, 30]"
      ]
     },
     "execution_count": 4,
     "metadata": {},
     "output_type": "execute_result"
    }
   ],
   "source": [
    "list(range(20,31))"
   ]
  },
  {
   "cell_type": "code",
   "execution_count": 5,
   "id": "3ffd0116",
   "metadata": {},
   "outputs": [
    {
     "name": "stdout",
     "output_type": "stream",
     "text": [
      "['H', 'i']\n",
      "('H', 'i')\n",
      "['P', 'i']\n"
     ]
    }
   ],
   "source": [
    "#tuple,list\n",
    "list1 = ['H','i']\n",
    "tuple1 = ('H','i')\n",
    "\n",
    "print(list1)\n",
    "print(tuple1)\n",
    "\n",
    "list1[0] = 'P'\n",
    "#tuple1[0] = 'p'\n",
    "\n",
    "print(list1)"
   ]
  },
  {
   "cell_type": "code",
   "execution_count": 6,
   "id": "5925977b",
   "metadata": {},
   "outputs": [
    {
     "data": {
      "text/plain": [
       "['H', 'e', 'l', 'l', 'o', 'W', 'o', 'r', 'l', 'd']"
      ]
     },
     "execution_count": 6,
     "metadata": {},
     "output_type": "execute_result"
    }
   ],
   "source": [
    "list1 = list(\"HelloWorld\")\n",
    "list1"
   ]
  },
  {
   "cell_type": "code",
   "execution_count": 7,
   "id": "508e948d",
   "metadata": {},
   "outputs": [
    {
     "data": {
      "text/plain": [
       "'l'"
      ]
     },
     "execution_count": 7,
     "metadata": {},
     "output_type": "execute_result"
    }
   ],
   "source": [
    "list1[2]"
   ]
  },
  {
   "cell_type": "code",
   "execution_count": 8,
   "id": "2b8cd26a",
   "metadata": {},
   "outputs": [
    {
     "data": {
      "text/plain": [
       "['l']"
      ]
     },
     "execution_count": 8,
     "metadata": {},
     "output_type": "execute_result"
    }
   ],
   "source": [
    "list1[2:3]"
   ]
  },
  {
   "cell_type": "code",
   "execution_count": 9,
   "id": "61f19dcd",
   "metadata": {},
   "outputs": [
    {
     "data": {
      "text/plain": [
       "['l', 'l']"
      ]
     },
     "execution_count": 9,
     "metadata": {},
     "output_type": "execute_result"
    }
   ],
   "source": [
    "list1[2:4]"
   ]
  },
  {
   "cell_type": "code",
   "execution_count": 10,
   "id": "4cbef548",
   "metadata": {},
   "outputs": [
    {
     "data": {
      "text/plain": [
       "['l', 'l', 'o', 'W', 'o', 'r', 'l', 'd']"
      ]
     },
     "execution_count": 10,
     "metadata": {},
     "output_type": "execute_result"
    }
   ],
   "source": [
    "list1[2:]"
   ]
  },
  {
   "cell_type": "code",
   "execution_count": 11,
   "id": "b9707767",
   "metadata": {},
   "outputs": [
    {
     "data": {
      "text/plain": [
       "['H', 'e', 'l']"
      ]
     },
     "execution_count": 11,
     "metadata": {},
     "output_type": "execute_result"
    }
   ],
   "source": [
    "list1[:3]"
   ]
  },
  {
   "cell_type": "code",
   "execution_count": 12,
   "id": "fd749fa6",
   "metadata": {},
   "outputs": [
    {
     "data": {
      "text/plain": [
       "['H', 'e', 'l', 'l', 'o']"
      ]
     },
     "execution_count": 12,
     "metadata": {},
     "output_type": "execute_result"
    }
   ],
   "source": [
    "#取前5個\n",
    "list1[:5]"
   ]
  },
  {
   "cell_type": "code",
   "execution_count": 13,
   "id": "5fb3d944",
   "metadata": {},
   "outputs": [
    {
     "data": {
      "text/plain": [
       "['W', 'o', 'r', 'l', 'd']"
      ]
     },
     "execution_count": 13,
     "metadata": {},
     "output_type": "execute_result"
    }
   ],
   "source": [
    "#取最後5個\n",
    "list1[-5:]"
   ]
  },
  {
   "cell_type": "code",
   "execution_count": 14,
   "id": "e6237c64",
   "metadata": {},
   "outputs": [
    {
     "data": {
      "text/plain": [
       "[['筆記電腦', '商用筆電'], ['APPLE', 'ASUS', 'HTC'], [3, '冰箱', 2, '洗衣機']]"
      ]
     },
     "execution_count": 14,
     "metadata": {},
     "output_type": "execute_result"
    }
   ],
   "source": [
    "#2維list\n",
    "nb = ['筆記電腦', '商用筆電']\n",
    "mobile = ['APPLE', 'ASUS', 'HTC']\n",
    "home = [3, '冰箱', 2, '洗衣機']\n",
    "all3c = [nb, mobile, home]\n",
    "all3c"
   ]
  },
  {
   "cell_type": "code",
   "execution_count": 15,
   "id": "de725294",
   "metadata": {},
   "outputs": [
    {
     "data": {
      "text/plain": [
       "['筆記電腦', '商用筆電']"
      ]
     },
     "execution_count": 15,
     "metadata": {},
     "output_type": "execute_result"
    }
   ],
   "source": [
    "all3c[0]"
   ]
  },
  {
   "cell_type": "code",
   "execution_count": 16,
   "id": "72d22514",
   "metadata": {},
   "outputs": [
    {
     "data": {
      "text/plain": [
       "'冰箱'"
      ]
     },
     "execution_count": 16,
     "metadata": {},
     "output_type": "execute_result"
    }
   ],
   "source": [
    "all3c[2][1]"
   ]
  },
  {
   "cell_type": "code",
   "execution_count": 18,
   "id": "346fc55c",
   "metadata": {},
   "outputs": [
    {
     "name": "stdout",
     "output_type": "stream",
     "text": [
      "['H', 'e', 'l', 'l', 'o', 'W', 'o', 'r', 'l', 'd']\n",
      "10\n"
     ]
    }
   ],
   "source": [
    "list1 = list(\"HelloWorld\")\n",
    "print(list1)\n",
    "print(len(list1))"
   ]
  },
  {
   "cell_type": "code",
   "execution_count": 23,
   "id": "1b184896",
   "metadata": {},
   "outputs": [
    {
     "name": "stdout",
     "output_type": "stream",
     "text": [
      "第0元素是H\n",
      "第1元素是e\n",
      "第2元素是l\n",
      "第3元素是l\n",
      "第4元素是o\n",
      "第5元素是W\n",
      "第6元素是o\n",
      "第7元素是r\n",
      "第8元素是l\n",
      "第9元素是d\n"
     ]
    }
   ],
   "source": [
    "for index in range(0,len(list1)):\n",
    "    print(f\"第{index}元素是{list1[index]}\")"
   ]
  },
  {
   "cell_type": "code",
   "execution_count": 22,
   "id": "0c5acf5d",
   "metadata": {},
   "outputs": [
    {
     "name": "stdout",
     "output_type": "stream",
     "text": [
      "H\n",
      "e\n",
      "l\n",
      "l\n",
      "o\n",
      "W\n",
      "o\n",
      "r\n",
      "l\n",
      "d\n"
     ]
    }
   ],
   "source": [
    "for word in list1:\n",
    "    print(word)"
   ]
  },
  {
   "cell_type": "code",
   "execution_count": 25,
   "id": "8601c055",
   "metadata": {},
   "outputs": [
    {
     "name": "stdout",
     "output_type": "stream",
     "text": [
      "第0元素是H\n",
      "第1元素是e\n",
      "第2元素是l\n",
      "第3元素是l\n",
      "第4元素是o\n",
      "第5元素是W\n",
      "第6元素是o\n",
      "第7元素是r\n",
      "第8元素是l\n",
      "第9元素是d\n"
     ]
    }
   ],
   "source": [
    "for tupleItem in enumerate(list1):\n",
    "    index,item = tupleItem\n",
    "    print(f\"第{index}元素是{item}\")"
   ]
  },
  {
   "cell_type": "code",
   "execution_count": 26,
   "id": "041c7e73",
   "metadata": {},
   "outputs": [
    {
     "name": "stdout",
     "output_type": "stream",
     "text": [
      "第0元素是H\n",
      "第1元素是e\n",
      "第2元素是l\n",
      "第3元素是l\n",
      "第4元素是o\n",
      "第5元素是W\n",
      "第6元素是o\n",
      "第7元素是r\n",
      "第8元素是l\n",
      "第9元素是d\n"
     ]
    }
   ],
   "source": [
    "for index,item in enumerate(list1):\n",
    "    print(f\"第{index}元素是{item}\")"
   ]
  },
  {
   "cell_type": "code",
   "execution_count": 36,
   "id": "cd52054c",
   "metadata": {},
   "outputs": [
    {
     "name": "stdout",
     "output_type": "stream",
     "text": [
      "[71, 84, 65, 79, 61]\n",
      "[64, 74, 80, 51, 82]\n",
      "[89, 86, 74, 65, 52]\n",
      "[74, 77, 69, 91, 82]\n",
      "[87, 89, 98, 57, 67]\n",
      "[59, 60, 98, 98, 50]\n",
      "[90, 66, 63, 97, 54]\n",
      "[53, 78, 94, 66, 92]\n",
      "[68, 63, 62, 78, 65]\n",
      "[68, 58, 95, 55, 53]\n",
      "[96, 68, 54, 76, 50]\n",
      "[60, 97, 66, 87, 60]\n",
      "[65, 99, 74, 50, 56]\n",
      "[88, 76, 94, 99, 85]\n",
      "[80, 95, 73, 88, 67]\n",
      "[92, 53, 77, 94, 97]\n",
      "[84, 88, 74, 83, 83]\n",
      "[53, 67, 80, 82, 50]\n",
      "[83, 90, 99, 66, 76]\n",
      "[76, 77, 88, 64, 97]\n",
      "[57, 79, 64, 60, 89]\n",
      "[65, 89, 50, 66, 58]\n",
      "[67, 70, 78, 65, 60]\n",
      "[57, 83, 96, 91, 89]\n",
      "[66, 97, 62, 92, 88]\n",
      "[80, 92, 83, 52, 82]\n",
      "[97, 63, 72, 93, 72]\n",
      "[65, 55, 55, 74, 75]\n",
      "[69, 93, 88, 94, 65]\n",
      "[86, 50, 74, 51, 91]\n",
      "[76, 74, 66, 51, 89]\n",
      "[95, 62, 65, 76, 63]\n",
      "[93, 75, 65, 81, 89]\n",
      "[57, 97, 83, 68, 79]\n",
      "[61, 75, 61, 65, 60]\n",
      "[80, 60, 61, 63, 95]\n",
      "[90, 89, 90, 73, 55]\n",
      "[100, 78, 55, 94, 66]\n",
      "[66, 99, 57, 92, 70]\n",
      "[50, 80, 75, 80, 86]\n",
      "[94, 79, 92, 80, 50]\n",
      "[54, 99, 63, 79, 96]\n",
      "[100, 75, 51, 54, 88]\n",
      "[62, 76, 83, 59, 74]\n",
      "[68, 76, 59, 91, 52]\n",
      "[91, 62, 68, 84, 93]\n",
      "[63, 79, 58, 75, 89]\n",
      "[69, 99, 58, 63, 77]\n",
      "[88, 80, 84, 95, 70]\n",
      "[74, 100, 95, 76, 70]\n"
     ]
    }
   ],
   "source": [
    "import random\n",
    "\n",
    "students = []\n",
    "for _ in range(50):\n",
    "    score = []\n",
    "    for _ in range(5):\n",
    "        score.append(random.randint(50,100))\n",
    "    \n",
    "    students.append(score)\n",
    "\n",
    "\n",
    "for student in  students:\n",
    "    print(student)"
   ]
  },
  {
   "cell_type": "code",
   "execution_count": null,
   "id": "06425253",
   "metadata": {},
   "outputs": [],
   "source": []
  }
 ],
 "metadata": {
  "kernelspec": {
   "display_name": "Python 3",
   "language": "python",
   "name": "python3"
  },
  "language_info": {
   "codemirror_mode": {
    "name": "ipython",
    "version": 3
   },
   "file_extension": ".py",
   "mimetype": "text/x-python",
   "name": "python",
   "nbconvert_exporter": "python",
   "pygments_lexer": "ipython3",
   "version": "3.8.7"
  }
 },
 "nbformat": 4,
 "nbformat_minor": 5
}
