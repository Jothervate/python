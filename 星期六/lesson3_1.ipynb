{
 "cells": [
  {
   "cell_type": "code",
   "execution_count": 18,
   "id": "07b797c4",
   "metadata": {},
   "outputs": [],
   "source": [
    "age = 17"
   ]
  },
  {
   "cell_type": "code",
   "execution_count": 15,
   "id": "c300ecd7",
   "metadata": {},
   "outputs": [
    {
     "name": "stdout",
     "output_type": "stream",
     "text": [
      "大於18\n",
      "成年了\n",
      "程式結束\n"
     ]
    }
   ],
   "source": [
    "#單項選擇\n",
    "if age >= 18:\n",
    "    print(\"大於18\")\n",
    "    print(\"成年了\")\n",
    "print('程式結束')"
   ]
  },
  {
   "cell_type": "code",
   "execution_count": 21,
   "id": "c1380694",
   "metadata": {},
   "outputs": [
    {
     "name": "stdout",
     "output_type": "stream",
     "text": [
      "請輸入age:17\n",
      "小於18\n",
      "未成年\n",
      "程式結束\n"
     ]
    }
   ],
   "source": [
    "#雙向選擇\n",
    "age = int(input('請輸入age:'))\n",
    "if age >= 18:\n",
    "    print(\"大於等於18\")\n",
    "    print(\"成年了\")\n",
    "else:\n",
    "    print(\"小於18\")\n",
    "    print(\"未成年\")\n",
    "print('程式結束')"
   ]
  },
  {
   "cell_type": "code",
   "execution_count": 25,
   "id": "814dc170",
   "metadata": {},
   "outputs": [
    {
     "name": "stdout",
     "output_type": "stream",
     "text": [
      "請輸入age:20\n",
      "大於等於18\n",
      "成年了\n",
      "程式結束\n"
     ]
    }
   ],
   "source": [
    "#多向選擇\n",
    "age = int(input('請輸入age:'))\n",
    "if age >= 18:\n",
    "    print(\"大於等於18\")\n",
    "    print(\"成年了\")\n",
    "elif age >= 12:\n",
    "    print(\"小於18,大於等於12\")\n",
    "    print(\"未成年\")\n",
    "else:\n",
    "    print('小於12')\n",
    "    \n",
    "print('程式結束')"
   ]
  },
  {
   "cell_type": "code",
   "execution_count": 28,
   "id": "be3fe939",
   "metadata": {},
   "outputs": [
    {
     "name": "stdout",
     "output_type": "stream",
     "text": [
      "請輸入age:8\n",
      "小於12\n",
      "程式結束\n"
     ]
    }
   ],
   "source": [
    "#多向選擇\n",
    "age = int(input('請輸入age:'))\n",
    "if age < 12:\n",
    "    print('小於12')    \n",
    "elif age < 18:\n",
    "    print(\"小於18,大於等於12\")\n",
    "    print(\"未成年\")\n",
    "else:\n",
    "    print(\"大於等於18\")\n",
    "    print(\"成年了\")\n",
    "    \n",
    "    \n",
    "print('程式結束')"
   ]
  },
  {
   "cell_type": "code",
   "execution_count": null,
   "id": "8a2532e5",
   "metadata": {},
   "outputs": [],
   "source": [
    "#多向選擇\n",
    "#有問題的程式設計\n",
    "age = int(input('請輸入age:'))\n",
    "if age >= 12:\n",
    "    print(\"小於18,大於等於12\")\n",
    "    print(\"未成年\")        \n",
    "elif age >= 18:\n",
    "    print(\"大於等於18\")\n",
    "    print(\"成年了\")\n",
    "else:\n",
    "    print('小於12')\n",
    "    \n",
    "    \n",
    "print('程式結束')"
   ]
  },
  {
   "cell_type": "code",
   "execution_count": 32,
   "id": "bd5be744",
   "metadata": {},
   "outputs": [
    {
     "name": "stdout",
     "output_type": "stream",
     "text": [
      "請輸入分數73\n",
      "成績等級為:乙\n"
     ]
    }
   ],
   "source": [
    "score = int(input(\"請輸入分數\"))\n",
    "if score >= 90:\n",
    "    grade = '優'\n",
    "elif score >= 80:\n",
    "    grade = '甲'\n",
    "elif score >= 70:\n",
    "    grade = '乙'\n",
    "elif score >= 60:\n",
    "    grade = '丙'\n",
    "else:\n",
    "    grade = '丁'\n",
    "\n",
    "print(f'成績等級為:{grade}')"
   ]
  },
  {
   "cell_type": "code",
   "execution_count": 33,
   "id": "004a78e1",
   "metadata": {},
   "outputs": [
    {
     "name": "stdout",
     "output_type": "stream",
     "text": [
      "請輸入購買金額:130000\n",
      "實付金額是: 104000.0 元\n"
     ]
    }
   ],
   "source": [
    "money = int(input(\"請輸入購買金額:\"))\n",
    "if money >= 100000:\n",
    "    payMoney = money * 0.8\n",
    "elif money >= 50000:\n",
    "    payMoney = money * 0.85\n",
    "elif money >= 30000:\n",
    "    payMoney = money * 0.9\n",
    "elif money >= 10000:\n",
    "    payMoney = money * 0.95\n",
    "else:\n",
    "    payMoney = money\n",
    "\n",
    "print('實付金額是:', payMoney, '元')"
   ]
  },
  {
   "cell_type": "code",
   "execution_count": 36,
   "id": "55e68c53",
   "metadata": {},
   "outputs": [
    {
     "name": "stdout",
     "output_type": "stream",
     "text": [
      "請輸入國文成績99\n",
      "請輸入英文成績99\n",
      "獎金是0\n"
     ]
    }
   ],
   "source": [
    "#巢狀判斷\n",
    "#2個條件\n",
    "chinese = int(input(\"請輸入國文成績\"))\n",
    "english = int(input(\"請輸入英文成績\"))\n",
    "\n",
    "if chinese == 100:\n",
    "    if english == 100:\n",
    "        bonus = 1000\n",
    "    else:\n",
    "        bonus = 500\n",
    "else:\n",
    "    if english == 100:\n",
    "        bonus = 500\n",
    "    else:\n",
    "        bonus = 0\n",
    "\n",
    "print(f\"獎金是{bonus}\")"
   ]
  },
  {
   "cell_type": "code",
   "execution_count": 40,
   "id": "d13025a8",
   "metadata": {},
   "outputs": [
    {
     "name": "stdout",
     "output_type": "stream",
     "text": [
      "a1是None\n"
     ]
    }
   ],
   "source": [
    "a1 = None\n",
    "if a1 == None:\n",
    "    print(\"a1是None\")"
   ]
  },
  {
   "cell_type": "code",
   "execution_count": 41,
   "id": "87536709",
   "metadata": {},
   "outputs": [
    {
     "name": "stdout",
     "output_type": "stream",
     "text": [
      "a1是None\n"
     ]
    }
   ],
   "source": [
    "#is 運算子\n",
    "if a1 is None:\n",
    "    print(\"a1是None\")"
   ]
  },
  {
   "cell_type": "code",
   "execution_count": 42,
   "id": "ccf64987",
   "metadata": {},
   "outputs": [
    {
     "name": "stdout",
     "output_type": "stream",
     "text": [
      "a1是None\n"
     ]
    }
   ],
   "source": [
    "# is not\n",
    "\n",
    "if a1 is not None:\n",
    "    print(\"a1不是None\")\n",
    "else:\n",
    "    print(\"a1是None\")"
   ]
  },
  {
   "cell_type": "code",
   "execution_count": 45,
   "id": "afe958ee",
   "metadata": {},
   "outputs": [
    {
     "name": "stdout",
     "output_type": "stream",
     "text": [
      "請輸入國文成績99\n",
      "請輸入英文成績99\n",
      "獎金是0\n"
     ]
    }
   ],
   "source": [
    "#邏輯運算子\n",
    "#2個條件\n",
    "\n",
    "chinese = int(input(\"請輸入國文成績\"))\n",
    "english = int(input(\"請輸入英文成績\"))\n",
    "\n",
    "if chinese==100 and english==100:\n",
    "    bonus = 1000\n",
    "elif chinese==100 or english==100:\n",
    "    bonus = 500\n",
    "else:\n",
    "    bonus = 0\n",
    "\n",
    "print(f\"獎金是{bonus}\")"
   ]
  },
  {
   "cell_type": "code",
   "execution_count": 47,
   "id": "feb0b2a8",
   "metadata": {},
   "outputs": [
    {
     "name": "stdout",
     "output_type": "stream",
     "text": [
      "hello!\n",
      "hello!\n",
      "hello!\n",
      "hello!\n",
      "hello!\n",
      "hello!\n",
      "hello!\n",
      "hello!\n",
      "hello!\n",
      "hello!\n"
     ]
    }
   ],
   "source": [
    "for _ in range(10):\n",
    "    print(\"hello!\")"
   ]
  },
  {
   "cell_type": "code",
   "execution_count": null,
   "id": "187bde27",
   "metadata": {},
   "outputs": [],
   "source": []
  }
 ],
 "metadata": {
  "kernelspec": {
   "display_name": "Python 3 (ipykernel)",
   "language": "python",
   "name": "python3"
  },
  "language_info": {
   "codemirror_mode": {
    "name": "ipython",
    "version": 3
   },
   "file_extension": ".py",
   "mimetype": "text/x-python",
   "name": "python",
   "nbconvert_exporter": "python",
   "pygments_lexer": "ipython3",
   "version": "3.8.9"
  }
 },
 "nbformat": 4,
 "nbformat_minor": 5
}
