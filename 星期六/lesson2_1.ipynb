{
 "cells": [
  {
   "cell_type": "code",
   "execution_count": 4,
   "id": "ca671d75",
   "metadata": {},
   "outputs": [
    {
     "name": "stdout",
     "output_type": "stream",
     "text": [
      "170\n"
     ]
    }
   ],
   "source": [
    "chinese = 80\n",
    "english = 90\n",
    "sum = chinese + english\n",
    "print(sum)"
   ]
  },
  {
   "cell_type": "code",
   "execution_count": 5,
   "id": "f5df4fd3",
   "metadata": {},
   "outputs": [],
   "source": [
    "#這是註解\n",
    "#註解就是程式的說明文字\n",
    "#可於註解區塊前後加"
   ]
  },
  {
   "cell_type": "code",
   "execution_count": 8,
   "id": "00aafb04",
   "metadata": {},
   "outputs": [
    {
     "name": "stdout",
     "output_type": "stream",
     "text": [
      "3\n",
      "3.12\n",
      "Hello! \n",
      "world!\n",
      "Hello! world!\n",
      "5\n"
     ]
    }
   ],
   "source": [
    "#print()\n",
    "print(3)\n",
    "print(3.12)\n",
    "print(\"Hello! \\nworld!\")\n",
    "print('Hello! world!')\n",
    "print(3+2)"
   ]
  },
  {
   "cell_type": "code",
   "execution_count": 9,
   "id": "9238d9e6",
   "metadata": {},
   "outputs": [
    {
     "name": "stdout",
     "output_type": "stream",
     "text": [
      "a的內容是 100\n"
     ]
    }
   ],
   "source": [
    "a = 100\n",
    "print(\"a的內容是\", a)"
   ]
  },
  {
   "cell_type": "code",
   "execution_count": null,
   "id": "71de86fc",
   "metadata": {},
   "outputs": [],
   "source": []
  }
 ],
 "metadata": {
  "kernelspec": {
   "display_name": "Python 3 (ipykernel)",
   "language": "python",
   "name": "python3"
  },
  "language_info": {
   "codemirror_mode": {
    "name": "ipython",
    "version": 3
   },
   "file_extension": ".py",
   "mimetype": "text/x-python",
   "name": "python",
   "nbconvert_exporter": "python",
   "pygments_lexer": "ipython3",
   "version": "3.8.9"
  }
 },
 "nbformat": 4,
 "nbformat_minor": 5
}
