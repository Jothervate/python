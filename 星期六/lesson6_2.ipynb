{
 "cells": [
  {
   "cell_type": "code",
   "execution_count": 1,
   "id": "43d09888",
   "metadata": {},
   "outputs": [
    {
     "data": {
      "text/plain": [
       "set()"
      ]
     },
     "execution_count": 1,
     "metadata": {},
     "output_type": "execute_result"
    }
   ],
   "source": [
    "#建立空set\n",
    "empty_set = set()\n",
    "empty_set"
   ]
  },
  {
   "cell_type": "code",
   "execution_count": 2,
   "id": "36ba7a9a",
   "metadata": {},
   "outputs": [
    {
     "data": {
      "text/plain": [
       "{0, 2, 4, 6, 8, 10}"
      ]
     },
     "execution_count": 2,
     "metadata": {},
     "output_type": "execute_result"
    }
   ],
   "source": [
    "even_numbers = {0, 2, 4, 6, 8, 10, 2, 4, 6, 8, 10}\n",
    "even_numbers"
   ]
  },
  {
   "cell_type": "code",
   "execution_count": 3,
   "id": "d866b8e0",
   "metadata": {},
   "outputs": [
    {
     "data": {
      "text/plain": [
       "{0, 2, 4, 6, 8, 10, 12}"
      ]
     },
     "execution_count": 3,
     "metadata": {},
     "output_type": "execute_result"
    }
   ],
   "source": [
    "even_numbers.add(12)\n",
    "even_numbers"
   ]
  },
  {
   "cell_type": "code",
   "execution_count": 4,
   "id": "b629a296",
   "metadata": {},
   "outputs": [
    {
     "data": {
      "text/plain": [
       "[0, 2, 4, 6, 8, 10, 12]"
      ]
     },
     "execution_count": 4,
     "metadata": {},
     "output_type": "execute_result"
    }
   ],
   "source": [
    "list(even_numbers)"
   ]
  },
  {
   "cell_type": "code",
   "execution_count": 5,
   "id": "ed36cfe1",
   "metadata": {},
   "outputs": [
    {
     "name": "stdout",
     "output_type": "stream",
     "text": [
      "1 43 12 13 14 47 特別號:27\n"
     ]
    }
   ],
   "source": [
    "import random\n",
    "lot = set()\n",
    "while(len(lot) < 7):\n",
    "    lot.add(random.randint(1,49))\n",
    "lot_list = list(lot)\n",
    "specialNum = lot_list.pop()\n",
    "\n",
    "for item in lot_list:\n",
    "    print(item, end=' ')\n",
    "print(f'特別號:{specialNum}')"
   ]
  },
  {
   "cell_type": "code",
   "execution_count": 10,
   "id": "d790a49b",
   "metadata": {},
   "outputs": [
    {
     "name": "stdout",
     "output_type": "stream",
     "text": [
      "請輸入大樂透電腦選號組數:5\n",
      "32 36 8 11 22 24 特別號:27\n",
      "============\n",
      "4 37 9 43 44 14 特別號:28\n",
      "============\n",
      "32 36 5 8 15 19 特別號:29\n",
      "============\n",
      "37 38 7 42 15 49 特別號:26\n",
      "============\n",
      "2 3 36 37 12 19 特別號:26\n",
      "============\n"
     ]
    }
   ],
   "source": [
    "#自訂的function\n",
    "def big_lot():\n",
    "    lot = set()\n",
    "    \n",
    "    while(len(lot) < 7):\n",
    "        lot.add(random.randint(1,49))\n",
    "    lot_list = list(lot)\n",
    "    specialNum = lot_list.pop()\n",
    "\n",
    "    for item in lot_list:\n",
    "        print(item, end=' ')\n",
    "    print(f'特別號:{specialNum}')\n",
    "    print(\"============\")\n",
    "    \n",
    "    \n",
    "group = int(input('請輸入大樂透電腦選號組數:'))\n",
    "for _ in range(group):\n",
    "    big_lot()\n",
    "    \n",
    "    "
   ]
  },
  {
   "cell_type": "code",
   "execution_count": 13,
   "id": "b825f45a",
   "metadata": {},
   "outputs": [
    {
     "data": {
      "text/plain": [
       "[99, 95, 74, 98, 9, 94, 16, 3, 42, 54, 56, 64, 40, 45, 25, 39, 70, 8, 29, 58]"
      ]
     },
     "execution_count": 13,
     "metadata": {},
     "output_type": "execute_result"
    }
   ],
   "source": [
    "import random\n",
    "list1 = [random.randint(1,100) for _ in range(20)]\n",
    "list1"
   ]
  },
  {
   "cell_type": "code",
   "execution_count": 14,
   "id": "62ff425c",
   "metadata": {},
   "outputs": [
    {
     "data": {
      "text/plain": [
       "[[63, 79, 72, 78, 88],\n",
       " [69, 69, 92, 98, 94],\n",
       " [90, 67, 96, 94, 68],\n",
       " [69, 84, 68, 60, 81],\n",
       " [69, 69, 87, 78, 89],\n",
       " [96, 78, 93, 80, 95],\n",
       " [94, 81, 99, 100, 79],\n",
       " [69, 65, 76, 92, 71],\n",
       " [97, 100, 62, 67, 94],\n",
       " [69, 87, 84, 63, 85],\n",
       " [67, 98, 90, 88, 81],\n",
       " [73, 89, 72, 74, 94],\n",
       " [77, 89, 81, 71, 78],\n",
       " [98, 74, 85, 77, 73],\n",
       " [87, 93, 69, 69, 71],\n",
       " [84, 79, 85, 93, 70],\n",
       " [68, 93, 83, 71, 99],\n",
       " [100, 66, 90, 76, 96],\n",
       " [70, 99, 100, 91, 90],\n",
       " [69, 97, 86, 75, 65],\n",
       " [98, 88, 79, 68, 78],\n",
       " [82, 96, 69, 84, 60],\n",
       " [79, 90, 70, 65, 98],\n",
       " [61, 60, 72, 69, 73],\n",
       " [76, 92, 100, 99, 75],\n",
       " [76, 93, 92, 92, 61],\n",
       " [79, 97, 99, 92, 73],\n",
       " [63, 85, 63, 90, 98],\n",
       " [91, 77, 92, 76, 97],\n",
       " [94, 98, 66, 83, 78],\n",
       " [75, 91, 89, 67, 82],\n",
       " [60, 66, 96, 78, 85],\n",
       " [83, 75, 61, 97, 89],\n",
       " [83, 64, 77, 76, 82],\n",
       " [68, 66, 77, 75, 60],\n",
       " [97, 87, 71, 69, 87],\n",
       " [67, 76, 68, 65, 76],\n",
       " [80, 67, 60, 65, 96],\n",
       " [60, 82, 66, 82, 92],\n",
       " [81, 75, 89, 90, 80],\n",
       " [100, 67, 81, 76, 77],\n",
       " [95, 96, 86, 100, 69],\n",
       " [84, 69, 94, 88, 98],\n",
       " [98, 60, 65, 88, 74],\n",
       " [86, 92, 68, 85, 69],\n",
       " [72, 72, 93, 63, 63],\n",
       " [96, 88, 81, 69, 66],\n",
       " [73, 60, 73, 100, 88],\n",
       " [100, 66, 95, 71, 69],\n",
       " [84, 83, 68, 73, 67]]"
      ]
     },
     "execution_count": 14,
     "metadata": {},
     "output_type": "execute_result"
    }
   ],
   "source": [
    "list2 = [[random.randint(60,100) for _ in range(5)] for _ in range(50)]\n",
    "list2"
   ]
  },
  {
   "cell_type": "code",
   "execution_count": null,
   "id": "6449d01e",
   "metadata": {},
   "outputs": [],
   "source": []
  }
 ],
 "metadata": {
  "kernelspec": {
   "display_name": "Python 3 (ipykernel)",
   "language": "python",
   "name": "python3"
  },
  "language_info": {
   "codemirror_mode": {
    "name": "ipython",
    "version": 3
   },
   "file_extension": ".py",
   "mimetype": "text/x-python",
   "name": "python",
   "nbconvert_exporter": "python",
   "pygments_lexer": "ipython3",
   "version": "3.8.9"
  }
 },
 "nbformat": 4,
 "nbformat_minor": 5
}
