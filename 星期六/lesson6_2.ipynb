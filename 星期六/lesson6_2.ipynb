{
 "cells": [
  {
   "cell_type": "code",
   "execution_count": 1,
   "id": "43d09888",
   "metadata": {},
   "outputs": [
    {
     "data": {
      "text/plain": [
       "set()"
      ]
     },
     "execution_count": 1,
     "metadata": {},
     "output_type": "execute_result"
    }
   ],
   "source": [
    "#建立空set\n",
    "empty_set = set()\n",
    "empty_set"
   ]
  },
  {
   "cell_type": "code",
   "execution_count": 2,
   "id": "36ba7a9a",
   "metadata": {},
   "outputs": [
    {
     "data": {
      "text/plain": [
       "{0, 2, 4, 6, 8, 10}"
      ]
     },
     "execution_count": 2,
     "metadata": {},
     "output_type": "execute_result"
    }
   ],
   "source": [
    "even_numbers = {0, 2, 4, 6, 8, 10, 2, 4, 6, 8, 10}\n",
    "even_numbers"
   ]
  },
  {
   "cell_type": "code",
   "execution_count": 3,
   "id": "d866b8e0",
   "metadata": {},
   "outputs": [
    {
     "data": {
      "text/plain": [
       "{0, 2, 4, 6, 8, 10, 12}"
      ]
     },
     "execution_count": 3,
     "metadata": {},
     "output_type": "execute_result"
    }
   ],
   "source": [
    "even_numbers.add(12)\n",
    "even_numbers"
   ]
  },
  {
   "cell_type": "code",
   "execution_count": 4,
   "id": "b629a296",
   "metadata": {},
   "outputs": [
    {
     "data": {
      "text/plain": [
       "[0, 2, 4, 6, 8, 10, 12]"
      ]
     },
     "execution_count": 4,
     "metadata": {},
     "output_type": "execute_result"
    }
   ],
   "source": [
    "list(even_numbers)"
   ]
  },
  {
   "cell_type": "code",
   "execution_count": 5,
   "id": "ed36cfe1",
   "metadata": {},
   "outputs": [
    {
     "name": "stdout",
     "output_type": "stream",
     "text": [
      "1 43 12 13 14 47 特別號:27\n"
     ]
    }
   ],
   "source": [
    "import random\n",
    "lot = set()\n",
    "while(len(lot) < 7):\n",
    "    lot.add(random.randint(1,49))\n",
    "lot_list = list(lot)\n",
    "specialNum = lot_list.pop()\n",
    "\n",
    "for item in lot_list:\n",
    "    print(item, end=' ')\n",
    "print(f'特別號:{specialNum}')"
   ]
  },
  {
   "cell_type": "code",
   "execution_count": 9,
   "id": "d790a49b",
   "metadata": {},
   "outputs": [
    {
     "name": "stdout",
     "output_type": "stream",
     "text": [
      "請輸入大樂透電腦選號組數:10\n",
      "32 33 3 37 13 46 特別號:18\n",
      "============\n",
      "40 41 44 45 15 25 特別號:30\n",
      "============\n",
      "1 4 36 5 46 14 特別號:48\n",
      "============\n",
      "33 35 5 6 41 27 特別號:29\n",
      "============\n",
      "33 42 43 12 46 20 特別號:21\n",
      "============\n",
      "32 7 45 13 15 19 特別號:20\n",
      "============\n",
      "32 35 3 16 48 24 特別號:30\n",
      "============\n",
      "32 34 2 6 48 21 特別號:26\n",
      "============\n",
      "34 41 43 13 17 28 特別號:30\n",
      "============\n",
      "32 36 39 11 43 17 特別號:20\n",
      "============\n"
     ]
    }
   ],
   "source": [
    "group = int(input('請輸入大樂透電腦選號組數:'))\n",
    "for _ in range(group):\n",
    "    lot = set()\n",
    "    \n",
    "    while(len(lot) < 7):\n",
    "        lot.add(random.randint(1,49))\n",
    "    lot_list = list(lot)\n",
    "    specialNum = lot_list.pop()\n",
    "\n",
    "    for item in lot_list:\n",
    "        print(item, end=' ')\n",
    "    print(f'特別號:{specialNum}')\n",
    "    print(\"============\")\n",
    "    "
   ]
  },
  {
   "cell_type": "code",
   "execution_count": null,
   "id": "e4bd778d",
   "metadata": {},
   "outputs": [],
   "source": []
  }
 ],
 "metadata": {
  "kernelspec": {
   "display_name": "Python 3 (ipykernel)",
   "language": "python",
   "name": "python3"
  },
  "language_info": {
   "codemirror_mode": {
    "name": "ipython",
    "version": 3
   },
   "file_extension": ".py",
   "mimetype": "text/x-python",
   "name": "python",
   "nbconvert_exporter": "python",
   "pygments_lexer": "ipython3",
   "version": "3.8.9"
  }
 },
 "nbformat": 4,
 "nbformat_minor": 5
}
