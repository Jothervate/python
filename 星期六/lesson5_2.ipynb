{
 "cells": [
  {
   "cell_type": "code",
   "execution_count": 1,
   "id": "59f0e0f6",
   "metadata": {},
   "outputs": [
    {
     "data": {
      "text/plain": [
       "[]"
      ]
     },
     "execution_count": 1,
     "metadata": {},
     "output_type": "execute_result"
    }
   ],
   "source": [
    "#建立一個空的list\n",
    "empty_list = []\n",
    "empty_list"
   ]
  },
  {
   "cell_type": "code",
   "execution_count": 2,
   "id": "3709796b",
   "metadata": {},
   "outputs": [
    {
     "data": {
      "text/plain": [
       "['星期一', '星期二', '星期三', '星期四', '星期五', '星期六', '星期日']"
      ]
     },
     "execution_count": 2,
     "metadata": {},
     "output_type": "execute_result"
    }
   ],
   "source": [
    "weekdays = ['星期一', '星期二', '星期三', '星期四', '星期五', '星期六', '星期日']\n",
    "weekdays"
   ]
  },
  {
   "cell_type": "code",
   "execution_count": 3,
   "id": "27ce3bf5",
   "metadata": {},
   "outputs": [
    {
     "name": "stdout",
     "output_type": "stream",
     "text": [
      "星期一\n",
      "星期日\n"
     ]
    }
   ],
   "source": [
    "print(weekdays[0])\n",
    "print(weekdays[6])"
   ]
  },
  {
   "cell_type": "code",
   "execution_count": 5,
   "id": "355a1b1c",
   "metadata": {},
   "outputs": [
    {
     "name": "stdout",
     "output_type": "stream",
     "text": [
      "星期一\n",
      "星期二\n",
      "星期三\n",
      "星期四\n",
      "星期五\n",
      "星期六\n",
      "星期日\n"
     ]
    }
   ],
   "source": [
    "for day in weekdays:\n",
    "    print(day)"
   ]
  },
  {
   "cell_type": "code",
   "execution_count": 7,
   "id": "3f432ff2",
   "metadata": {},
   "outputs": [
    {
     "name": "stdout",
     "output_type": "stream",
     "text": [
      "星期一\n",
      "星期日\n"
     ]
    }
   ],
   "source": [
    "weekdays_tuple = ('星期一', '星期二', '星期三', '星期四', '星期五', '星期六', '星期日')\n",
    "print(weekdays_tuple[0])\n",
    "print(weekdays_tuple[6])"
   ]
  },
  {
   "cell_type": "code",
   "execution_count": 8,
   "id": "81d518d9",
   "metadata": {},
   "outputs": [
    {
     "name": "stdout",
     "output_type": "stream",
     "text": [
      "星期一\n",
      "星期二\n",
      "星期三\n",
      "星期四\n",
      "星期五\n",
      "星期六\n",
      "星期日\n"
     ]
    }
   ],
   "source": [
    "for day in weekdays_tuple:\n",
    "    print(day)"
   ]
  },
  {
   "cell_type": "code",
   "execution_count": 9,
   "id": "ac60e8c7",
   "metadata": {},
   "outputs": [
    {
     "data": {
      "text/plain": [
       "('星期一', '星期二', '星期三', '星期四', '星期五', '星期六', '星期日')"
      ]
     },
     "execution_count": 9,
     "metadata": {},
     "output_type": "execute_result"
    }
   ],
   "source": [
    "weekdays_tuple"
   ]
  },
  {
   "cell_type": "code",
   "execution_count": 11,
   "id": "14954e1f",
   "metadata": {},
   "outputs": [
    {
     "data": {
      "text/plain": [
       "[0, 1, 2, 3, 4, 5, 6, 7, 8, 9]"
      ]
     },
     "execution_count": 11,
     "metadata": {},
     "output_type": "execute_result"
    }
   ],
   "source": [
    "#list()\n",
    "list(range(0,10))"
   ]
  },
  {
   "cell_type": "code",
   "execution_count": 12,
   "id": "d8aedc2a",
   "metadata": {},
   "outputs": [
    {
     "data": {
      "text/plain": [
       "'H'"
      ]
     },
     "execution_count": 12,
     "metadata": {},
     "output_type": "execute_result"
    }
   ],
   "source": [
    "list1 = ['H','e','l','l','o', 'W','o','r','l','d']\n",
    "list1[-10]"
   ]
  },
  {
   "cell_type": "code",
   "execution_count": 16,
   "id": "99f1ad0d",
   "metadata": {},
   "outputs": [
    {
     "name": "stdout",
     "output_type": "stream",
     "text": [
      "['H', 'e', 'l', 'l', 'o']\n",
      "['H', 'e', 'l', 'l', 'o']\n"
     ]
    }
   ],
   "source": [
    "#slice->取出局部的\n",
    "#取出前面5個\n",
    "print(list1[0:5])\n",
    "print(list1[:5])"
   ]
  },
  {
   "cell_type": "code",
   "execution_count": 19,
   "id": "c8054a21",
   "metadata": {},
   "outputs": [
    {
     "name": "stdout",
     "output_type": "stream",
     "text": [
      "['W', 'o', 'r', 'l', 'd']\n"
     ]
    }
   ],
   "source": [
    "#取出後面5個\n",
    "print(list1[-5:])"
   ]
  },
  {
   "cell_type": "code",
   "execution_count": 20,
   "id": "e4afcb50",
   "metadata": {},
   "outputs": [
    {
     "name": "stdout",
     "output_type": "stream",
     "text": [
      "[10, 20, 30]\n"
     ]
    }
   ],
   "source": [
    "#更新資料\n",
    "nums = [1, 2, 3]\n",
    "nums[0] *= 10\n",
    "nums[1] *= 10\n",
    "nums[2] *= 10\n",
    "print(nums)"
   ]
  },
  {
   "cell_type": "code",
   "execution_count": 23,
   "id": "207f007b",
   "metadata": {},
   "outputs": [
    {
     "name": "stdout",
     "output_type": "stream",
     "text": [
      "[10, 20, 30]\n"
     ]
    }
   ],
   "source": [
    "#len()\n",
    "#傳出元素數量\n",
    "nums = [1, 2, 3]\n",
    "for i in range(len(nums)):\n",
    "    nums[i] *= 10\n",
    "print(nums)"
   ]
  },
  {
   "cell_type": "code",
   "execution_count": 24,
   "id": "ff4aa263",
   "metadata": {},
   "outputs": [
    {
     "ename": "TypeError",
     "evalue": "'tuple' object does not support item assignment",
     "output_type": "error",
     "traceback": [
      "\u001b[0;31m---------------------------------------------------------------------------\u001b[0m",
      "\u001b[0;31mTypeError\u001b[0m                                 Traceback (most recent call last)",
      "Input \u001b[0;32mIn [24]\u001b[0m, in \u001b[0;36m<module>\u001b[0;34m\u001b[0m\n\u001b[1;32m      1\u001b[0m nums_tuple \u001b[38;5;241m=\u001b[39m (\u001b[38;5;241m1\u001b[39m, \u001b[38;5;241m2\u001b[39m, \u001b[38;5;241m3\u001b[39m)\n\u001b[0;32m----> 2\u001b[0m nums_tuple[\u001b[38;5;241m0\u001b[39m] \u001b[38;5;241m*\u001b[39m\u001b[38;5;241m=\u001b[39m \u001b[38;5;241m10\u001b[39m\n",
      "\u001b[0;31mTypeError\u001b[0m: 'tuple' object does not support item assignment"
     ]
    }
   ],
   "source": [
    "nums_tuple = (1, 2, 3)\n",
    "nums_tuple[0] *= 10"
   ]
  },
  {
   "cell_type": "code",
   "execution_count": 29,
   "id": "49203ab9",
   "metadata": {},
   "outputs": [
    {
     "data": {
      "text/plain": [
       "list"
      ]
     },
     "execution_count": 29,
     "metadata": {},
     "output_type": "execute_result"
    }
   ],
   "source": [
    "#新增元素\n",
    "data = list(range(10,1000,10))\n",
    "receiveData = []\n",
    "\n",
    "for item in data:\n",
    "    if item % 25 == 0:\n",
    "        receiveData.append(item)\n",
    "receiveData.__class__"
   ]
  },
  {
   "cell_type": "code",
   "execution_count": 32,
   "id": "aa689c02",
   "metadata": {},
   "outputs": [
    {
     "data": {
      "text/plain": [
       "'洗衣機'"
      ]
     },
     "execution_count": 32,
     "metadata": {},
     "output_type": "execute_result"
    }
   ],
   "source": [
    "#2維list\n",
    "nb = ['筆記電腦', '商用筆電']\n",
    "mobile = ['APPLE', 'ASUS', 'HTC'] \n",
    "home = [3, '冰箱', 2, '洗衣機']\n",
    "all3c = [nb, mobile, home]\n",
    "\n",
    "all3c[1][2]\n",
    "all3c[2][3]"
   ]
  },
  {
   "cell_type": "code",
   "execution_count": 35,
   "id": "ec6ffe02",
   "metadata": {},
   "outputs": [
    {
     "name": "stdout",
     "output_type": "stream",
     "text": [
      "筆記電腦\n",
      "商用筆電\n",
      "=====\n",
      "APPLE\n",
      "ASUS\n",
      "HTC\n",
      "=====\n",
      "3\n",
      "冰箱\n",
      "2\n",
      "洗衣機\n",
      "=====\n"
     ]
    }
   ],
   "source": [
    "for items in all3c:\n",
    "    for item in items:\n",
    "        print(item)\n",
    "    print(\"=====\")"
   ]
  },
  {
   "cell_type": "code",
   "execution_count": null,
   "id": "b6cd5053",
   "metadata": {},
   "outputs": [],
   "source": []
  }
 ],
 "metadata": {
  "kernelspec": {
   "display_name": "Python 3 (ipykernel)",
   "language": "python",
   "name": "python3"
  },
  "language_info": {
   "codemirror_mode": {
    "name": "ipython",
    "version": 3
   },
   "file_extension": ".py",
   "mimetype": "text/x-python",
   "name": "python",
   "nbconvert_exporter": "python",
   "pygments_lexer": "ipython3",
   "version": "3.8.9"
  }
 },
 "nbformat": 4,
 "nbformat_minor": 5
}
