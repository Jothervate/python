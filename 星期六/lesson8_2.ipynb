{
 "cells": [
  {
   "cell_type": "code",
   "execution_count": 3,
   "id": "b530c65d",
   "metadata": {},
   "outputs": [
    {
     "name": "stdout",
     "output_type": "stream",
     "text": [
      "<class '__main__.Person'>\n",
      "<class '__main__.Person'>\n",
      "<class '__main__.Person'>\n"
     ]
    }
   ],
   "source": [
    "class Person():\n",
    "    pass\n",
    "p1 = Person()\n",
    "print(type(p1))\n",
    "p2 = Person()\n",
    "print(type(p2))\n",
    "p3 = Person()\n",
    "print(type(p3))"
   ]
  },
  {
   "cell_type": "code",
   "execution_count": 7,
   "id": "5163bb11",
   "metadata": {},
   "outputs": [
    {
     "name": "stdout",
     "output_type": "stream",
     "text": [
      "p1的name:robert\n",
      "p2的name:robert\n",
      "p3的name:robert\n"
     ]
    }
   ],
   "source": [
    "class Person():\n",
    "    #自訂的init\n",
    "    def __init__(self):\n",
    "        self.name = \"robert\"\n",
    "p1 = Person()\n",
    "print(f\"p1的name:{p1.name}\")\n",
    "p2 = Person()\n",
    "print(f\"p2的name:{p2.name}\")\n",
    "p3 = Person()\n",
    "print(f\"p3的name:{p3.name}\")"
   ]
  },
  {
   "cell_type": "code",
   "execution_count": 9,
   "id": "d8fb87e9",
   "metadata": {},
   "outputs": [
    {
     "name": "stdout",
     "output_type": "stream",
     "text": [
      "p1的name:robert\n",
      "p3的name:jenny\n",
      "p3的name:alice\n"
     ]
    }
   ],
   "source": [
    "class Person():\n",
    "    #自訂的init\n",
    "    def __init__(self,name):\n",
    "        self.name = name\n",
    "\n",
    "p1 = Person('robert')\n",
    "print(f\"p1的name:{p1.name}\")\n",
    "p2 = Person('jenny')\n",
    "print(f\"p3的name:{p2.name}\")\n",
    "p3 = Person('alice')\n",
    "print(f\"p3的name:{p3.name}\")"
   ]
  },
  {
   "cell_type": "code",
   "execution_count": null,
   "id": "e18b7f86",
   "metadata": {},
   "outputs": [],
   "source": []
  }
 ],
 "metadata": {
  "kernelspec": {
   "display_name": "Python 3 (ipykernel)",
   "language": "python",
   "name": "python3"
  },
  "language_info": {
   "codemirror_mode": {
    "name": "ipython",
    "version": 3
   },
   "file_extension": ".py",
   "mimetype": "text/x-python",
   "name": "python",
   "nbconvert_exporter": "python",
   "pygments_lexer": "ipython3",
   "version": "3.8.9"
  }
 },
 "nbformat": 4,
 "nbformat_minor": 5
}
