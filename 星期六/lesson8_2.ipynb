{
 "cells": [
  {
   "cell_type": "code",
   "execution_count": 3,
   "id": "17412afe",
   "metadata": {},
   "outputs": [
    {
     "name": "stdout",
     "output_type": "stream",
     "text": [
      "<class '__main__.Person'>\n",
      "<class '__main__.Person'>\n",
      "<class '__main__.Person'>\n"
     ]
    }
   ],
   "source": [
    "class Person():\n",
    "    pass\n",
    "p1 = Person()\n",
    "print(type(p1))\n",
    "p2 = Person()\n",
    "print(type(p2))\n",
    "p3 = Person()\n",
    "print(type(p3))"
   ]
  },
  {
   "cell_type": "code",
   "execution_count": 7,
   "id": "6bec7c51",
   "metadata": {},
   "outputs": [
    {
     "name": "stdout",
     "output_type": "stream",
     "text": [
      "p1的name:robert\n",
      "p2的name:robert\n",
      "p3的name:robert\n"
     ]
    }
   ],
   "source": [
    "class Person():\n",
    "    #自訂的init\n",
    "    def __init__(self):\n",
    "        self.name = \"robert\"\n",
    "p1 = Person()\n",
    "print(f\"p1的name:{p1.name}\")\n",
    "p2 = Person()\n",
    "print(f\"p2的name:{p2.name}\")\n",
    "p3 = Person()\n",
    "print(f\"p3的name:{p3.name}\")"
   ]
  },
  {
   "cell_type": "code",
   "execution_count": 9,
   "id": "8285d730",
   "metadata": {},
   "outputs": [
    {
     "name": "stdout",
     "output_type": "stream",
     "text": [
      "p1的name:robert\n",
      "p3的name:jenny\n",
      "p3的name:alice\n"
     ]
    }
   ],
   "source": [
    "class Person():\n",
    "    #自訂的init\n",
    "    def __init__(self,name):\n",
    "        self.name = name\n",
    "\n",
    "p1 = Person('robert')\n",
    "print(f\"p1的name:{p1.name}\")\n",
    "p2 = Person('jenny')\n",
    "print(f\"p3的name:{p2.name}\")\n",
    "p3 = Person('alice')\n",
    "print(f\"p3的name:{p3.name}\")"
   ]
  },
  {
   "cell_type": "code",
   "execution_count": 12,
   "id": "44852bcd",
   "metadata": {},
   "outputs": [
    {
     "name": "stdout",
     "output_type": "stream",
     "text": [
      "我的名字叫robert\n",
      "我的名字叫jenny\n",
      "我的名字叫alice\n"
     ]
    }
   ],
   "source": [
    "class Person():\n",
    "    #自訂的init\n",
    "    def __init__(self,name): #自訂的init\n",
    "        self.name = name #建立attribut name\n",
    "    \n",
    "    def exclaim(self): #實體方法\n",
    "        print(f\"我的名字叫{self.name}\")\n",
    "\n",
    "p1 = Person('robert')\n",
    "p1.exclaim();\n",
    "\n",
    "p2 = Person('jenny')\n",
    "p2.exclaim();\n",
    "\n",
    "p3 = Person('alice')\n",
    "p3.exclaim();"
   ]
  },
  {
   "cell_type": "code",
   "execution_count": null,
   "id": "cb52ef31",
   "metadata": {},
   "outputs": [],
   "source": []
  }
 ],
 "metadata": {
  "kernelspec": {
   "display_name": "Python 3 (ipykernel)",
   "language": "python",
   "name": "python3"
  },
  "language_info": {
   "codemirror_mode": {
    "name": "ipython",
    "version": 3
   },
   "file_extension": ".py",
   "mimetype": "text/x-python",
   "name": "python",
   "nbconvert_exporter": "python",
   "pygments_lexer": "ipython3",
   "version": "3.8.9"
  }
 },
 "nbformat": 4,
 "nbformat_minor": 5
}
