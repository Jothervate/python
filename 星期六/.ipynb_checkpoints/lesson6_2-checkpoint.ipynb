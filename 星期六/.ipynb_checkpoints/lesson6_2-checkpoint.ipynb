{
 "cells": [
  {
   "cell_type": "code",
   "execution_count": 1,
   "id": "43d09888",
   "metadata": {},
   "outputs": [
    {
     "data": {
      "text/plain": [
       "set()"
      ]
     },
     "execution_count": 1,
     "metadata": {},
     "output_type": "execute_result"
    }
   ],
   "source": [
    "#建立空set\n",
    "empty_set = set()\n",
    "empty_set"
   ]
  },
  {
   "cell_type": "code",
   "execution_count": 2,
   "id": "36ba7a9a",
   "metadata": {},
   "outputs": [
    {
     "data": {
      "text/plain": [
       "{0, 2, 4, 6, 8, 10}"
      ]
     },
     "execution_count": 2,
     "metadata": {},
     "output_type": "execute_result"
    }
   ],
   "source": [
    "even_numbers = {0, 2, 4, 6, 8, 10, 2, 4, 6, 8, 10}\n",
    "even_numbers"
   ]
  },
  {
   "cell_type": "code",
   "execution_count": 3,
   "id": "d866b8e0",
   "metadata": {},
   "outputs": [
    {
     "data": {
      "text/plain": [
       "{0, 2, 4, 6, 8, 10, 12}"
      ]
     },
     "execution_count": 3,
     "metadata": {},
     "output_type": "execute_result"
    }
   ],
   "source": [
    "even_numbers.add(12)\n",
    "even_numbers"
   ]
  },
  {
   "cell_type": "code",
   "execution_count": 4,
   "id": "b629a296",
   "metadata": {},
   "outputs": [
    {
     "data": {
      "text/plain": [
       "[0, 2, 4, 6, 8, 10, 12]"
      ]
     },
     "execution_count": 4,
     "metadata": {},
     "output_type": "execute_result"
    }
   ],
   "source": [
    "list(even_numbers)"
   ]
  },
  {
   "cell_type": "code",
   "execution_count": 5,
   "id": "ed36cfe1",
   "metadata": {},
   "outputs": [
    {
     "name": "stdout",
     "output_type": "stream",
     "text": [
      "1 43 12 13 14 47 特別號:27\n"
     ]
    }
   ],
   "source": [
    "import random\n",
    "lot = set()\n",
    "while(len(lot) < 7):\n",
    "    lot.add(random.randint(1,49))\n",
    "lot_list = list(lot)\n",
    "specialNum = lot_list.pop()\n",
    "\n",
    "for item in lot_list:\n",
    "    print(item, end=' ')\n",
    "print(f'特別號:{specialNum}')"
   ]
  },
  {
   "cell_type": "code",
   "execution_count": 10,
   "id": "d790a49b",
   "metadata": {},
   "outputs": [
    {
     "name": "stdout",
     "output_type": "stream",
     "text": [
      "請輸入大樂透電腦選號組數:5\n",
      "32 36 8 11 22 24 特別號:27\n",
      "============\n",
      "4 37 9 43 44 14 特別號:28\n",
      "============\n",
      "32 36 5 8 15 19 特別號:29\n",
      "============\n",
      "37 38 7 42 15 49 特別號:26\n",
      "============\n",
      "2 3 36 37 12 19 特別號:26\n",
      "============\n"
     ]
    }
   ],
   "source": [
    "#自訂的function\n",
    "def big_lot():\n",
    "    lot = set()\n",
    "    \n",
    "    while(len(lot) < 7):\n",
    "        lot.add(random.randint(1,49))\n",
    "    lot_list = list(lot)\n",
    "    specialNum = lot_list.pop()\n",
    "\n",
    "    for item in lot_list:\n",
    "        print(item, end=' ')\n",
    "    print(f'特別號:{specialNum}')\n",
    "    print(\"============\")\n",
    "    \n",
    "    \n",
    "group = int(input('請輸入大樂透電腦選號組數:'))\n",
    "for _ in range(group):\n",
    "    big_lot()\n",
    "    \n",
    "    "
   ]
  },
  {
   "cell_type": "code",
   "execution_count": null,
   "id": "d9481959",
   "metadata": {},
   "outputs": [],
   "source": []
  }
 ],
 "metadata": {
  "kernelspec": {
   "display_name": "Python 3 (ipykernel)",
   "language": "python",
   "name": "python3"
  },
  "language_info": {
   "codemirror_mode": {
    "name": "ipython",
    "version": 3
   },
   "file_extension": ".py",
   "mimetype": "text/x-python",
   "name": "python",
   "nbconvert_exporter": "python",
   "pygments_lexer": "ipython3",
   "version": "3.8.9"
  }
 },
 "nbformat": 4,
 "nbformat_minor": 5
}
