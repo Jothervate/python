{
 "cells": [
  {
   "cell_type": "code",
   "execution_count": 1,
   "id": "53efdea0",
   "metadata": {},
   "outputs": [
    {
     "data": {
      "text/plain": [
       "{'wine': '白酒', 'entree': '牛排', 'dessert': '蛋糕'}"
      ]
     },
     "execution_count": 1,
     "metadata": {},
     "output_type": "execute_result"
    }
   ],
   "source": [
    "def menu(wine, entree, dessert):\n",
    "    return {\n",
    "        'wine':wine,\n",
    "        'entree':entree,\n",
    "        'dessert':dessert\n",
    "    }\n",
    "#引數位置的呼叫\n",
    "menu(\"白酒\",\"牛排\",\"蛋糕\")"
   ]
  },
  {
   "cell_type": "code",
   "execution_count": 2,
   "id": "98a8f0f8",
   "metadata": {},
   "outputs": [
    {
     "data": {
      "text/plain": [
       "{'wine': '白酒', 'entree': '蛋糕', 'dessert': '牛排'}"
      ]
     },
     "execution_count": 2,
     "metadata": {},
     "output_type": "execute_result"
    }
   ],
   "source": [
    "#引數位置的呼叫必需要依照參數的順序呼叫\n",
    "menu(\"白酒\",\"蛋糕\",\"牛排\") #不依順序是錯誤的"
   ]
  },
  {
   "cell_type": "code",
   "execution_count": 3,
   "id": "243a6fab",
   "metadata": {},
   "outputs": [
    {
     "data": {
      "text/plain": [
       "{'wine': '白酒', 'entree': '牛排', 'dessert': '蛋糕'}"
      ]
     },
     "execution_count": 3,
     "metadata": {},
     "output_type": "execute_result"
    }
   ],
   "source": [
    "def menu(wine, entree, dessert):\n",
    "    return {\n",
    "        'wine':wine,\n",
    "        'entree':entree,\n",
    "        'dessert':dessert\n",
    "    }\n",
    "\n",
    "#引數名稱的呼叫\n",
    "menu(wine=\"白酒\",entree=\"牛排\",dessert=\"蛋糕\")"
   ]
  },
  {
   "cell_type": "code",
   "execution_count": 4,
   "id": "a07d758b",
   "metadata": {},
   "outputs": [
    {
     "data": {
      "text/plain": [
       "{'wine': '白酒', 'entree': '牛排', 'dessert': '蛋糕'}"
      ]
     },
     "execution_count": 4,
     "metadata": {},
     "output_type": "execute_result"
    }
   ],
   "source": [
    "#引數名稱的呼叫,可以不依照順序\n",
    "menu(wine=\"白酒\",dessert=\"蛋糕\",entree=\"牛排\")"
   ]
  },
  {
   "cell_type": "code",
   "execution_count": 5,
   "id": "cacc8ed9",
   "metadata": {},
   "outputs": [
    {
     "data": {
      "text/plain": [
       "{'wine': '白酒', 'entree': '牛排', 'dessert': '蛋糕'}"
      ]
     },
     "execution_count": 5,
     "metadata": {},
     "output_type": "execute_result"
    }
   ],
   "source": [
    "#引數名稱的呼叫,可以不依照順序\n",
    "menu(dessert=\"蛋糕\",entree=\"牛排\",wine=\"白酒\")"
   ]
  },
  {
   "cell_type": "code",
   "execution_count": 6,
   "id": "dccf9416",
   "metadata": {},
   "outputs": [
    {
     "data": {
      "text/plain": [
       "{'wine': '白酒', 'entree': '牛排', 'dessert': '蛋糕'}"
      ]
     },
     "execution_count": 6,
     "metadata": {},
     "output_type": "execute_result"
    }
   ],
   "source": [
    "def menu(wine, entree, dessert):\n",
    "    return {\n",
    "        'wine':wine,\n",
    "        'entree':entree,\n",
    "        'dessert':dessert\n",
    "    }\n",
    "\n",
    "#混合呼叫\n",
    "#前面要用引數位置\n",
    "#後面要用引數名稱\n",
    "#使用了引數名稱後,就不可以再用引數位置\n",
    "menu('白酒',dessert='蛋糕',entree='牛排')"
   ]
  },
  {
   "cell_type": "code",
   "execution_count": 9,
   "id": "e720eca6",
   "metadata": {},
   "outputs": [
    {
     "data": {
      "text/plain": [
       "{'wine': '白酒', 'entree': '牛排', 'dessert': '蛋糕'}"
      ]
     },
     "execution_count": 9,
     "metadata": {},
     "output_type": "execute_result"
    }
   ],
   "source": [
    "#指定預設參數的值\n",
    "def menu(wine='白酒', entree='牛排', dessert='蛋糕'):\n",
    "    return {\n",
    "        'wine':wine,\n",
    "        'entree':entree,\n",
    "        'dessert':dessert\n",
    "    }\n",
    "#有預設參數的值時,呼叫的方式變多了\n",
    "menu()"
   ]
  },
  {
   "cell_type": "code",
   "execution_count": 10,
   "id": "246049f8",
   "metadata": {},
   "outputs": [
    {
     "data": {
      "text/plain": [
       "{'wine': '紅酒', 'entree': '牛排', 'dessert': '蛋糕'}"
      ]
     },
     "execution_count": 10,
     "metadata": {},
     "output_type": "execute_result"
    }
   ],
   "source": [
    "menu('紅酒')"
   ]
  },
  {
   "cell_type": "code",
   "execution_count": 11,
   "id": "23410928",
   "metadata": {},
   "outputs": [
    {
     "data": {
      "text/plain": [
       "{'wine': '紅酒', 'entree': '雞排', 'dessert': '蛋糕'}"
      ]
     },
     "execution_count": 11,
     "metadata": {},
     "output_type": "execute_result"
    }
   ],
   "source": [
    "menu('紅酒','雞排')"
   ]
  },
  {
   "cell_type": "code",
   "execution_count": 12,
   "id": "648dcc85",
   "metadata": {},
   "outputs": [
    {
     "data": {
      "text/plain": [
       "{'wine': '紅酒', 'entree': '雞排', 'dessert': '奶昔'}"
      ]
     },
     "execution_count": 12,
     "metadata": {},
     "output_type": "execute_result"
    }
   ],
   "source": [
    "menu('紅酒','雞排','奶昔')"
   ]
  },
  {
   "cell_type": "code",
   "execution_count": 13,
   "id": "2f5cac15",
   "metadata": {},
   "outputs": [
    {
     "data": {
      "text/plain": [
       "{'wine': '紅酒', 'entree': '牛排', 'dessert': '奶昔'}"
      ]
     },
     "execution_count": 13,
     "metadata": {},
     "output_type": "execute_result"
    }
   ],
   "source": [
    "menu('紅酒', dessert='奶昔')"
   ]
  },
  {
   "cell_type": "code",
   "execution_count": 14,
   "id": "b383e071",
   "metadata": {},
   "outputs": [
    {
     "data": {
      "text/plain": [
       "{'wine': '紅酒', 'entree': '雞排', 'dessert': '奶昔'}"
      ]
     },
     "execution_count": 14,
     "metadata": {},
     "output_type": "execute_result"
    }
   ],
   "source": [
    "menu(wine='紅酒', entree='雞排', dessert='奶昔')"
   ]
  },
  {
   "cell_type": "code",
   "execution_count": 16,
   "id": "5f34e765",
   "metadata": {},
   "outputs": [
    {
     "name": "stdout",
     "output_type": "stream",
     "text": [
      "2-紅酒-雞排-8.\n"
     ]
    }
   ],
   "source": [
    "print(2, '紅酒', '雞排', 8,sep='-',end='.\\n')"
   ]
  },
  {
   "cell_type": "code",
   "execution_count": null,
   "id": "a4ac2c1f",
   "metadata": {},
   "outputs": [],
   "source": [
    "#*args **kwargs"
   ]
  }
 ],
 "metadata": {
  "kernelspec": {
   "display_name": "Python 3 (ipykernel)",
   "language": "python",
   "name": "python3"
  },
  "language_info": {
   "codemirror_mode": {
    "name": "ipython",
    "version": 3
   },
   "file_extension": ".py",
   "mimetype": "text/x-python",
   "name": "python",
   "nbconvert_exporter": "python",
   "pygments_lexer": "ipython3",
   "version": "3.8.9"
  }
 },
 "nbformat": 4,
 "nbformat_minor": 5
}
