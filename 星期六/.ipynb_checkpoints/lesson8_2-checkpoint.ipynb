{
 "cells": [
  {
   "cell_type": "code",
   "execution_count": 3,
   "id": "0c89ad39",
   "metadata": {},
   "outputs": [
    {
     "name": "stdout",
     "output_type": "stream",
     "text": [
      "<class '__main__.Person'>\n",
      "<class '__main__.Person'>\n",
      "<class '__main__.Person'>\n"
     ]
    }
   ],
   "source": [
    "class Person():\n",
    "    pass\n",
    "p1 = Person()\n",
    "print(type(p1))\n",
    "p2 = Person()\n",
    "print(type(p2))\n",
    "p3 = Person()\n",
    "print(type(p3))"
   ]
  },
  {
   "cell_type": "code",
   "execution_count": 7,
   "id": "0b72e120",
   "metadata": {},
   "outputs": [
    {
     "name": "stdout",
     "output_type": "stream",
     "text": [
      "p1的name:robert\n",
      "p2的name:robert\n",
      "p3的name:robert\n"
     ]
    }
   ],
   "source": [
    "class Person():\n",
    "    #自訂的init\n",
    "    def __init__(self):\n",
    "        self.name = \"robert\"\n",
    "p1 = Person()\n",
    "print(f\"p1的name:{p1.name}\")\n",
    "p2 = Person()\n",
    "print(f\"p2的name:{p2.name}\")\n",
    "p3 = Person()\n",
    "print(f\"p3的name:{p3.name}\")"
   ]
  },
  {
   "cell_type": "code",
   "execution_count": 9,
   "id": "d01c991c",
   "metadata": {},
   "outputs": [
    {
     "name": "stdout",
     "output_type": "stream",
     "text": [
      "p1的name:robert\n",
      "p3的name:jenny\n",
      "p3的name:alice\n"
     ]
    }
   ],
   "source": [
    "class Person():\n",
    "    #自訂的init\n",
    "    def __init__(self,name):\n",
    "        self.name = name\n",
    "\n",
    "p1 = Person('robert')\n",
    "print(f\"p1的name:{p1.name}\")\n",
    "p2 = Person('jenny')\n",
    "print(f\"p3的name:{p2.name}\")\n",
    "p3 = Person('alice')\n",
    "print(f\"p3的name:{p3.name}\")"
   ]
  },
  {
   "cell_type": "code",
   "execution_count": 12,
   "id": "7f33553e",
   "metadata": {},
   "outputs": [
    {
     "name": "stdout",
     "output_type": "stream",
     "text": [
      "我的名字叫robert\n",
      "我的名字叫jenny\n",
      "我的名字叫alice\n"
     ]
    }
   ],
   "source": [
    "class Person():\n",
    "    #自訂的init\n",
    "    def __init__(self,name): #自訂的init\n",
    "        self.name = name #建立attribut name\n",
    "    \n",
    "    def exclaim(self): #實體方法\n",
    "        print(f\"我的名字叫{self.name}\")\n",
    "\n",
    "p1 = Person('robert')\n",
    "p1.exclaim();\n",
    "\n",
    "p2 = Person('jenny')\n",
    "p2.exclaim();\n",
    "\n",
    "p3 = Person('alice')\n",
    "p3.exclaim();"
   ]
  },
  {
   "cell_type": "code",
   "execution_count": 19,
   "id": "4057e26d",
   "metadata": {},
   "outputs": [
    {
     "name": "stdout",
     "output_type": "stream",
     "text": [
      "我的名字叫李同學\n",
      "我的國文是:90\n",
      "我的英文是:90\n",
      "我的數學是:90\n",
      "總分是270\n",
      "平均是90.0\n",
      "我的名字叫張同學\n",
      "我的國文是:80\n",
      "我的英文是:80\n",
      "我的數學是:80\n",
      "總分是240\n",
      "平均是80.0\n",
      "我的名字叫徐同學\n",
      "我的國文是:70\n",
      "我的英文是:70\n",
      "我的數學是:70\n",
      "總分是210\n",
      "平均是70.0\n"
     ]
    }
   ],
   "source": [
    "class Student(Person):\n",
    "    def __init__(self,name,chinese,english,math):\n",
    "        super().__init__(name)\n",
    "        self.chinese = chinese\n",
    "        self.english = english\n",
    "        self.math = math\n",
    "        \n",
    "    def exclaim(self):\n",
    "        super().exclaim()\n",
    "        print(f\"我的國文是:{self.chinese}\")\n",
    "        print(f\"我的英文是:{self.english}\")\n",
    "        print(f\"我的數學是:{self.math}\")\n",
    "        \n",
    "    def sum(self):\n",
    "        return self.chinese + self.english + self.math\n",
    "    \n",
    "    def average(self):\n",
    "        return self.sum() / 3.0\n",
    "\n",
    "s1 = Student(\"李同學\",90,90,90)\n",
    "s1.exclaim()\n",
    "print(f\"總分是{s1.sum()}\")\n",
    "print(f\"平均是{s1.average()}\")\n",
    "\n",
    "s2 = Student(\"張同學\",80,80,80)\n",
    "s2.exclaim()\n",
    "print(f\"總分是{s2.sum()}\")\n",
    "print(f\"平均是{s2.average()}\")\n",
    "\n",
    "s3 = Student(\"徐同學\",70,70,70)\n",
    "s3.exclaim()\n",
    "print(f\"總分是{s3.sum()}\")\n",
    "print(f\"平均是{s3.average()}\")"
   ]
  },
  {
   "cell_type": "code",
   "execution_count": null,
   "id": "31c6e51c",
   "metadata": {},
   "outputs": [],
   "source": []
  }
 ],
 "metadata": {
  "kernelspec": {
   "display_name": "Python 3 (ipykernel)",
   "language": "python",
   "name": "python3"
  },
  "language_info": {
   "codemirror_mode": {
    "name": "ipython",
    "version": 3
   },
   "file_extension": ".py",
   "mimetype": "text/x-python",
   "name": "python",
   "nbconvert_exporter": "python",
   "pygments_lexer": "ipython3",
   "version": "3.8.9"
  }
 },
 "nbformat": 4,
 "nbformat_minor": 5
}
