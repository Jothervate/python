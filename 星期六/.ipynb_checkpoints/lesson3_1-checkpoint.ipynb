{
 "cells": [
  {
   "cell_type": "code",
   "execution_count": 18,
   "id": "85ec873f",
   "metadata": {},
   "outputs": [],
   "source": [
    "age = 17"
   ]
  },
  {
   "cell_type": "code",
   "execution_count": 15,
   "id": "32067c84",
   "metadata": {},
   "outputs": [
    {
     "name": "stdout",
     "output_type": "stream",
     "text": [
      "大於18\n",
      "成年了\n",
      "程式結束\n"
     ]
    }
   ],
   "source": [
    "#單項選擇\n",
    "if age >= 18:\n",
    "    print(\"大於18\")\n",
    "    print(\"成年了\")\n",
    "print('程式結束')"
   ]
  },
  {
   "cell_type": "code",
   "execution_count": 21,
   "id": "2147edf0",
   "metadata": {},
   "outputs": [
    {
     "name": "stdout",
     "output_type": "stream",
     "text": [
      "請輸入age:17\n",
      "小於18\n",
      "未成年\n",
      "程式結束\n"
     ]
    }
   ],
   "source": [
    "#雙向選擇\n",
    "age = int(input('請輸入age:'))\n",
    "if age >= 18:\n",
    "    print(\"大於等於18\")\n",
    "    print(\"成年了\")\n",
    "else:\n",
    "    print(\"小於18\")\n",
    "    print(\"未成年\")\n",
    "print('程式結束')"
   ]
  },
  {
   "cell_type": "code",
   "execution_count": 25,
   "id": "9b88b063",
   "metadata": {},
   "outputs": [
    {
     "name": "stdout",
     "output_type": "stream",
     "text": [
      "請輸入age:20\n",
      "大於等於18\n",
      "成年了\n",
      "程式結束\n"
     ]
    }
   ],
   "source": [
    "#多向選擇\n",
    "age = int(input('請輸入age:'))\n",
    "if age >= 18:\n",
    "    print(\"大於等於18\")\n",
    "    print(\"成年了\")\n",
    "elif age >= 12:\n",
    "    print(\"小於18,大於等於12\")\n",
    "    print(\"未成年\")\n",
    "else:\n",
    "    print('小於12')\n",
    "    \n",
    "print('程式結束')"
   ]
  },
  {
   "cell_type": "code",
   "execution_count": 28,
   "id": "b0830611",
   "metadata": {},
   "outputs": [
    {
     "name": "stdout",
     "output_type": "stream",
     "text": [
      "請輸入age:8\n",
      "小於12\n",
      "程式結束\n"
     ]
    }
   ],
   "source": [
    "#多向選擇\n",
    "age = int(input('請輸入age:'))\n",
    "if age < 12:\n",
    "    print('小於12')    \n",
    "elif age < 18:\n",
    "    print(\"小於18,大於等於12\")\n",
    "    print(\"未成年\")\n",
    "else:\n",
    "    print(\"大於等於18\")\n",
    "    print(\"成年了\")\n",
    "    \n",
    "    \n",
    "print('程式結束')"
   ]
  },
  {
   "cell_type": "code",
   "execution_count": null,
   "id": "9b26f602",
   "metadata": {},
   "outputs": [],
   "source": [
    "#多向選擇\n",
    "#有問題的程式設計\n",
    "age = int(input('請輸入age:'))\n",
    "if age >= 12:\n",
    "    print(\"小於18,大於等於12\")\n",
    "    print(\"未成年\")        \n",
    "elif age >= 18:\n",
    "    print(\"大於等於18\")\n",
    "    print(\"成年了\")\n",
    "else:\n",
    "    print('小於12')\n",
    "    \n",
    "    \n",
    "print('程式結束')"
   ]
  },
  {
   "cell_type": "code",
   "execution_count": 32,
   "id": "bfb15cc1",
   "metadata": {},
   "outputs": [
    {
     "name": "stdout",
     "output_type": "stream",
     "text": [
      "請輸入分數73\n",
      "成績等級為:乙\n"
     ]
    }
   ],
   "source": [
    "score = int(input(\"請輸入分數\"))\n",
    "if score >= 90:\n",
    "    grade = '優'\n",
    "elif score >= 80:\n",
    "    grade = '甲'\n",
    "elif score >= 70:\n",
    "    grade = '乙'\n",
    "elif score >= 60:\n",
    "    grade = '丙'\n",
    "else:\n",
    "    grade = '丁'\n",
    "\n",
    "print(f'成績等級為:{grade}')"
   ]
  },
  {
   "cell_type": "code",
   "execution_count": null,
   "id": "9f55b43f",
   "metadata": {},
   "outputs": [],
   "source": []
  }
 ],
 "metadata": {
  "kernelspec": {
   "display_name": "Python 3 (ipykernel)",
   "language": "python",
   "name": "python3"
  },
  "language_info": {
   "codemirror_mode": {
    "name": "ipython",
    "version": 3
   },
   "file_extension": ".py",
   "mimetype": "text/x-python",
   "name": "python",
   "nbconvert_exporter": "python",
   "pygments_lexer": "ipython3",
   "version": "3.8.9"
  }
 },
 "nbformat": 4,
 "nbformat_minor": 5
}
