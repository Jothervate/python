{
 "cells": [
  {
   "cell_type": "code",
   "execution_count": 3,
   "id": "166428f6",
   "metadata": {},
   "outputs": [
    {
     "name": "stdout",
     "output_type": "stream",
     "text": [
      "呼叫函式\n"
     ]
    }
   ],
   "source": [
    "def func_sum(): #自訂的function,沒有參數,沒有傳出值的function\n",
    "    print(\"呼叫函式\")\n",
    "    return\n",
    "\n",
    "func_sum()"
   ]
  },
  {
   "cell_type": "code",
   "execution_count": 4,
   "id": "f41cfd3b",
   "metadata": {},
   "outputs": [
    {
     "data": {
      "text/plain": [
       "15"
      ]
     },
     "execution_count": 4,
     "metadata": {},
     "output_type": "execute_result"
    }
   ],
   "source": [
    "def func_add(a, b):\n",
    "    return a+b\n",
    "\n",
    "result = func_add(10, 5)\n",
    "result"
   ]
  },
  {
   "cell_type": "code",
   "execution_count": 10,
   "id": "52dfad46",
   "metadata": {},
   "outputs": [
    {
     "name": "stdout",
     "output_type": "stream",
     "text": [
      "相加的值:13\n",
      "餘數的值:1\n",
      "相乘的值:30\n"
     ]
    }
   ],
   "source": [
    "add = 0\n",
    "remain = 0\n",
    "mul = 0\n",
    "def func_many(a, b): #2個參數,傳出3個元素的tuple    \n",
    "    add = a + b\n",
    "    remain = a % b\n",
    "    mul = a * b\n",
    "    return (add, remain, mul)\n",
    "\n",
    "(add, remain, mul) = func_many(10, 3) #tuple的折解法\n",
    "print(f\"相加的值:{add}\")\n",
    "print(f\"餘數的值:{remain}\")\n",
    "print(f\"相乘的值:{mul}\")"
   ]
  },
  {
   "cell_type": "code",
   "execution_count": null,
   "id": "38f617e1",
   "metadata": {},
   "outputs": [],
   "source": []
  },
  {
   "cell_type": "code",
   "execution_count": null,
   "id": "997c9027",
   "metadata": {},
   "outputs": [],
   "source": []
  }
 ],
 "metadata": {
  "kernelspec": {
   "display_name": "Python 3 (ipykernel)",
   "language": "python",
   "name": "python3"
  },
  "language_info": {
   "codemirror_mode": {
    "name": "ipython",
    "version": 3
   },
   "file_extension": ".py",
   "mimetype": "text/x-python",
   "name": "python",
   "nbconvert_exporter": "python",
   "pygments_lexer": "ipython3",
   "version": "3.8.9"
  }
 },
 "nbformat": 4,
 "nbformat_minor": 5
}
