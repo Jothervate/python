{
 "cells": [
  {
   "cell_type": "code",
   "execution_count": 4,
   "id": "4e2ac4d1",
   "metadata": {
    "scrolled": true
   },
   "outputs": [
    {
     "name": "stdout",
     "output_type": "stream",
     "text": [
      "新竹不在裏面\n"
     ]
    }
   ],
   "source": [
    "citys = ['台北', '台中', '高雄', '台南', '花蓮']\n",
    "city = '新竹'\n",
    "if city in citys:\n",
    "    print(f'{city}有在裏面')\n",
    "else:\n",
    "    print(f'{city}不在裏面')"
   ]
  },
  {
   "cell_type": "code",
   "execution_count": 5,
   "id": "0bc97e47",
   "metadata": {},
   "outputs": [
    {
     "data": {
      "text/plain": [
       "{}"
      ]
     },
     "execution_count": 5,
     "metadata": {},
     "output_type": "execute_result"
    }
   ],
   "source": [
    "#dictionary 建立\n",
    "#符號建立空的dictionary\n",
    "empty_dict = {}\n",
    "empty_dict"
   ]
  },
  {
   "cell_type": "code",
   "execution_count": 7,
   "id": "14052ae4",
   "metadata": {},
   "outputs": [
    {
     "data": {
      "text/plain": [
       "'Taiwan'"
      ]
     },
     "execution_count": 7,
     "metadata": {},
     "output_type": "execute_result"
    }
   ],
   "source": [
    "codes = {'tw':'Taiwan',\n",
    "         'jp':'Japan',\n",
    "         'hk':'Hong kong'}\n",
    "\n",
    "codes['tw']"
   ]
  },
  {
   "cell_type": "code",
   "execution_count": 8,
   "id": "f64011f9",
   "metadata": {},
   "outputs": [
    {
     "data": {
      "text/plain": [
       "'Japan'"
      ]
     },
     "execution_count": 8,
     "metadata": {},
     "output_type": "execute_result"
    }
   ],
   "source": [
    "codes['jp']"
   ]
  },
  {
   "cell_type": "code",
   "execution_count": 9,
   "id": "853b6a61",
   "metadata": {},
   "outputs": [
    {
     "data": {
      "text/plain": [
       "'Hong kong'"
      ]
     },
     "execution_count": 9,
     "metadata": {},
     "output_type": "execute_result"
    }
   ],
   "source": [
    "codes['hk']"
   ]
  },
  {
   "cell_type": "code",
   "execution_count": 10,
   "id": "ce4739e5",
   "metadata": {},
   "outputs": [
    {
     "data": {
      "text/plain": [
       "{}"
      ]
     },
     "execution_count": 10,
     "metadata": {},
     "output_type": "execute_result"
    }
   ],
   "source": [
    "#dict建立空的dictionary\n",
    "empty_dict = dict()\n",
    "empty_dict"
   ]
  },
  {
   "cell_type": "code",
   "execution_count": 11,
   "id": "a93dad7a",
   "metadata": {},
   "outputs": [
    {
     "data": {
      "text/plain": [
       "{'tw': 'Taiwan', 'jp': 'Japan', 'hk': 'Hong kong'}"
      ]
     },
     "execution_count": 11,
     "metadata": {},
     "output_type": "execute_result"
    }
   ],
   "source": [
    "codes = dict([('tw','Taiwan'), ('jp','Japan'), ('hk', 'Hong kong')])\n",
    "codes"
   ]
  },
  {
   "cell_type": "code",
   "execution_count": 14,
   "id": "b102573d",
   "metadata": {},
   "outputs": [],
   "source": [
    "#新增\n",
    "codes['us'] = '美國'"
   ]
  },
  {
   "cell_type": "code",
   "execution_count": 15,
   "id": "3055581e",
   "metadata": {},
   "outputs": [
    {
     "data": {
      "text/plain": [
       "{'tw': 'Taiwan', 'jp': 'Japan', 'hk': 'Hong kong', 'us': '美國'}"
      ]
     },
     "execution_count": 15,
     "metadata": {},
     "output_type": "execute_result"
    }
   ],
   "source": [
    "codes"
   ]
  },
  {
   "cell_type": "code",
   "execution_count": 16,
   "id": "fdfd3531",
   "metadata": {},
   "outputs": [
    {
     "data": {
      "text/plain": [
       "{'tw': 'Taiwan', 'jp': 'Japan', 'hk': 'Hong kong', 'us': 'US'}"
      ]
     },
     "execution_count": 16,
     "metadata": {},
     "output_type": "execute_result"
    }
   ],
   "source": [
    "#更改\n",
    "codes['us'] = 'US'\n",
    "codes"
   ]
  },
  {
   "cell_type": "code",
   "execution_count": 18,
   "id": "cebb27c5",
   "metadata": {},
   "outputs": [
    {
     "data": {
      "text/plain": [
       "{'tw': 'Taiwan', 'jp': 'Japan', 'hk': 'Hong kong'}"
      ]
     },
     "execution_count": 18,
     "metadata": {},
     "output_type": "execute_result"
    }
   ],
   "source": [
    "#刪除\n",
    "del codes['us']\n",
    "codes"
   ]
  },
  {
   "cell_type": "code",
   "execution_count": 19,
   "id": "745af29b",
   "metadata": {},
   "outputs": [
    {
     "data": {
      "text/plain": [
       "{'tw': 'Taiwan', 'jp': 'Japan', 'hk': 'Hong kong'}"
      ]
     },
     "execution_count": 19,
     "metadata": {},
     "output_type": "execute_result"
    }
   ],
   "source": [
    "codes"
   ]
  },
  {
   "cell_type": "code",
   "execution_count": 21,
   "id": "6677fd01",
   "metadata": {},
   "outputs": [
    {
     "data": {
      "text/plain": [
       "['tw', 'jp', 'hk']"
      ]
     },
     "execution_count": 21,
     "metadata": {},
     "output_type": "execute_result"
    }
   ],
   "source": [
    "list(codes.keys())"
   ]
  },
  {
   "cell_type": "code",
   "execution_count": 22,
   "id": "0ea422d4",
   "metadata": {},
   "outputs": [
    {
     "name": "stdout",
     "output_type": "stream",
     "text": [
      "tw\n",
      "jp\n",
      "hk\n"
     ]
    }
   ],
   "source": [
    "for key in codes.keys():\n",
    "    print(key)"
   ]
  },
  {
   "cell_type": "code",
   "execution_count": 23,
   "id": "a5d8741f",
   "metadata": {},
   "outputs": [
    {
     "name": "stdout",
     "output_type": "stream",
     "text": [
      "Taiwan\n",
      "Japan\n",
      "Hong kong\n"
     ]
    }
   ],
   "source": [
    "for value in codes.values():\n",
    "    print(value)"
   ]
  },
  {
   "cell_type": "code",
   "execution_count": 24,
   "id": "f1630ed5",
   "metadata": {},
   "outputs": [
    {
     "data": {
      "text/plain": [
       "['Taiwan', 'Japan', 'Hong kong']"
      ]
     },
     "execution_count": 24,
     "metadata": {},
     "output_type": "execute_result"
    }
   ],
   "source": [
    "list(codes.values())"
   ]
  },
  {
   "cell_type": "code",
   "execution_count": 25,
   "id": "c4ad20a7",
   "metadata": {},
   "outputs": [
    {
     "data": {
      "text/plain": [
       "dict_items([('tw', 'Taiwan'), ('jp', 'Japan'), ('hk', 'Hong kong')])"
      ]
     },
     "execution_count": 25,
     "metadata": {},
     "output_type": "execute_result"
    }
   ],
   "source": [
    "codes.items()"
   ]
  },
  {
   "cell_type": "code",
   "execution_count": 27,
   "id": "cb2506c6",
   "metadata": {},
   "outputs": [
    {
     "name": "stdout",
     "output_type": "stream",
     "text": [
      "tw -> Taiwan\n",
      "jp -> Japan\n",
      "hk -> Hong kong\n"
     ]
    }
   ],
   "source": [
    "for t in codes.items():\n",
    "    print(f\"{t[0]} -> {t[1]}\")\n",
    "    "
   ]
  },
  {
   "cell_type": "code",
   "execution_count": 30,
   "id": "f842f23b",
   "metadata": {},
   "outputs": [
    {
     "name": "stdout",
     "output_type": "stream",
     "text": [
      "tw->Taiwan\n",
      "jp->Japan\n",
      "hk->Hong kong\n"
     ]
    }
   ],
   "source": [
    "#tuple的拆解法\n",
    "\n",
    "for k,v in codes.items():\n",
    "    print(f\"{k}->{v}\")"
   ]
  },
  {
   "cell_type": "code",
   "execution_count": 32,
   "id": "43234d73",
   "metadata": {},
   "outputs": [
    {
     "data": {
      "text/plain": [
       "[{'國文': 97, '英文': 78, '數學': 72, '社會': 66, '自然': 73},\n",
       " {'國文': 85, '英文': 63, '數學': 75, '社會': 73, '自然': 78},\n",
       " {'國文': 60, '英文': 99, '數學': 98, '社會': 85, '自然': 70},\n",
       " {'國文': 79, '英文': 86, '數學': 80, '社會': 73, '自然': 88},\n",
       " {'國文': 89, '英文': 69, '數學': 95, '社會': 62, '自然': 85},\n",
       " {'國文': 77, '英文': 72, '數學': 66, '社會': 92, '自然': 80},\n",
       " {'國文': 65, '英文': 79, '數學': 73, '社會': 73, '自然': 62},\n",
       " {'國文': 95, '英文': 96, '數學': 95, '社會': 85, '自然': 88},\n",
       " {'國文': 60, '英文': 83, '數學': 67, '社會': 69, '自然': 86},\n",
       " {'國文': 76, '英文': 92, '數學': 61, '社會': 74, '自然': 94},\n",
       " {'國文': 62, '英文': 88, '數學': 75, '社會': 96, '自然': 81},\n",
       " {'國文': 73, '英文': 66, '數學': 69, '社會': 61, '自然': 81},\n",
       " {'國文': 68, '英文': 86, '數學': 60, '社會': 79, '自然': 83},\n",
       " {'國文': 78, '英文': 75, '數學': 66, '社會': 75, '自然': 97},\n",
       " {'國文': 63, '英文': 97, '數學': 70, '社會': 72, '自然': 66},\n",
       " {'國文': 60, '英文': 97, '數學': 89, '社會': 94, '自然': 94},\n",
       " {'國文': 80, '英文': 98, '數學': 89, '社會': 61, '自然': 99},\n",
       " {'國文': 62, '英文': 65, '數學': 97, '社會': 93, '自然': 94},\n",
       " {'國文': 85, '英文': 80, '數學': 93, '社會': 86, '自然': 84},\n",
       " {'國文': 69, '英文': 61, '數學': 73, '社會': 98, '自然': 83},\n",
       " {'國文': 97, '英文': 67, '數學': 96, '社會': 66, '自然': 75},\n",
       " {'國文': 85, '英文': 65, '數學': 93, '社會': 69, '自然': 80},\n",
       " {'國文': 73, '英文': 93, '數學': 70, '社會': 99, '自然': 89},\n",
       " {'國文': 80, '英文': 95, '數學': 100, '社會': 68, '自然': 68},\n",
       " {'國文': 83, '英文': 88, '數學': 96, '社會': 74, '自然': 73},\n",
       " {'國文': 86, '英文': 83, '數學': 75, '社會': 66, '自然': 81},\n",
       " {'國文': 84, '英文': 100, '數學': 89, '社會': 81, '自然': 88},\n",
       " {'國文': 80, '英文': 97, '數學': 98, '社會': 95, '自然': 80},\n",
       " {'國文': 91, '英文': 94, '數學': 79, '社會': 92, '自然': 70},\n",
       " {'國文': 74, '英文': 67, '數學': 72, '社會': 75, '自然': 100},\n",
       " {'國文': 68, '英文': 87, '數學': 61, '社會': 63, '自然': 61},\n",
       " {'國文': 63, '英文': 99, '數學': 77, '社會': 89, '自然': 60},\n",
       " {'國文': 90, '英文': 60, '數學': 99, '社會': 93, '自然': 98},\n",
       " {'國文': 81, '英文': 88, '數學': 81, '社會': 85, '自然': 72},\n",
       " {'國文': 64, '英文': 87, '數學': 81, '社會': 88, '自然': 73},\n",
       " {'國文': 85, '英文': 71, '數學': 65, '社會': 83, '自然': 85},\n",
       " {'國文': 66, '英文': 65, '數學': 67, '社會': 91, '自然': 90},\n",
       " {'國文': 92, '英文': 100, '數學': 74, '社會': 70, '自然': 85},\n",
       " {'國文': 75, '英文': 84, '數學': 94, '社會': 85, '自然': 62},\n",
       " {'國文': 82, '英文': 99, '數學': 74, '社會': 91, '自然': 60},\n",
       " {'國文': 98, '英文': 66, '數學': 81, '社會': 94, '自然': 66},\n",
       " {'國文': 78, '英文': 70, '數學': 63, '社會': 98, '自然': 98},\n",
       " {'國文': 60, '英文': 79, '數學': 88, '社會': 94, '自然': 70},\n",
       " {'國文': 96, '英文': 100, '數學': 77, '社會': 62, '自然': 78},\n",
       " {'國文': 60, '英文': 63, '數學': 100, '社會': 91, '自然': 93},\n",
       " {'國文': 67, '英文': 70, '數學': 94, '社會': 79, '自然': 94},\n",
       " {'國文': 88, '英文': 83, '數學': 100, '社會': 100, '自然': 75},\n",
       " {'國文': 93, '英文': 78, '數學': 88, '社會': 71, '自然': 95},\n",
       " {'國文': 79, '英文': 89, '數學': 94, '社會': 74, '自然': 83},\n",
       " {'國文': 92, '英文': 87, '數學': 66, '社會': 63, '自然': 65}]"
      ]
     },
     "execution_count": 32,
     "metadata": {},
     "output_type": "execute_result"
    }
   ],
   "source": [
    "import random\n",
    "\n",
    "students = []\n",
    "for _ in range(50):\n",
    "    scores = {}\n",
    "    subjects = ['國文','英文','數學','社會','自然']\n",
    "    for subject in subjects:\n",
    "        scores[subject] = random.randint(60,100)\n",
    "    students.append(scores)\n",
    "students"
   ]
  },
  {
   "cell_type": "code",
   "execution_count": null,
   "id": "8fef45aa",
   "metadata": {},
   "outputs": [],
   "source": []
  }
 ],
 "metadata": {
  "kernelspec": {
   "display_name": "Python 3 (ipykernel)",
   "language": "python",
   "name": "python3"
  },
  "language_info": {
   "codemirror_mode": {
    "name": "ipython",
    "version": 3
   },
   "file_extension": ".py",
   "mimetype": "text/x-python",
   "name": "python",
   "nbconvert_exporter": "python",
   "pygments_lexer": "ipython3",
   "version": "3.8.9"
  }
 },
 "nbformat": 4,
 "nbformat_minor": 5
}
