{
 "cells": [
  {
   "cell_type": "code",
   "execution_count": 4,
   "id": "45cf82df",
   "metadata": {
    "scrolled": true
   },
   "outputs": [
    {
     "name": "stdout",
     "output_type": "stream",
     "text": [
      "新竹不在裏面\n"
     ]
    }
   ],
   "source": [
    "citys = ['台北', '台中', '高雄', '台南', '花蓮']\n",
    "city = '新竹'\n",
    "if city in citys:\n",
    "    print(f'{city}有在裏面')\n",
    "else:\n",
    "    print(f'{city}不在裏面')"
   ]
  },
  {
   "cell_type": "code",
   "execution_count": null,
   "id": "0c041097",
   "metadata": {},
   "outputs": [],
   "source": []
  }
 ],
 "metadata": {
  "kernelspec": {
   "display_name": "Python 3 (ipykernel)",
   "language": "python",
   "name": "python3"
  },
  "language_info": {
   "codemirror_mode": {
    "name": "ipython",
    "version": 3
   },
   "file_extension": ".py",
   "mimetype": "text/x-python",
   "name": "python",
   "nbconvert_exporter": "python",
   "pygments_lexer": "ipython3",
   "version": "3.8.9"
  }
 },
 "nbformat": 4,
 "nbformat_minor": 5
}
