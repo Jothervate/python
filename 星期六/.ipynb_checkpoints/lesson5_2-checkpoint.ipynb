{
 "cells": [
  {
   "cell_type": "code",
   "execution_count": 1,
   "id": "03791193",
   "metadata": {},
   "outputs": [
    {
     "data": {
      "text/plain": [
       "[]"
      ]
     },
     "execution_count": 1,
     "metadata": {},
     "output_type": "execute_result"
    }
   ],
   "source": [
    "#建立一個空的list\n",
    "empty_list = []\n",
    "empty_list"
   ]
  },
  {
   "cell_type": "code",
   "execution_count": 2,
   "id": "e3952c40",
   "metadata": {},
   "outputs": [
    {
     "data": {
      "text/plain": [
       "['星期一', '星期二', '星期三', '星期四', '星期五', '星期六', '星期日']"
      ]
     },
     "execution_count": 2,
     "metadata": {},
     "output_type": "execute_result"
    }
   ],
   "source": [
    "weekdays = ['星期一', '星期二', '星期三', '星期四', '星期五', '星期六', '星期日']\n",
    "weekdays"
   ]
  },
  {
   "cell_type": "code",
   "execution_count": 3,
   "id": "11244378",
   "metadata": {},
   "outputs": [
    {
     "name": "stdout",
     "output_type": "stream",
     "text": [
      "星期一\n",
      "星期日\n"
     ]
    }
   ],
   "source": [
    "print(weekdays[0])\n",
    "print(weekdays[6])"
   ]
  },
  {
   "cell_type": "code",
   "execution_count": 5,
   "id": "fcf77610",
   "metadata": {},
   "outputs": [
    {
     "name": "stdout",
     "output_type": "stream",
     "text": [
      "星期一\n",
      "星期二\n",
      "星期三\n",
      "星期四\n",
      "星期五\n",
      "星期六\n",
      "星期日\n"
     ]
    }
   ],
   "source": [
    "for day in weekdays:\n",
    "    print(day)"
   ]
  },
  {
   "cell_type": "code",
   "execution_count": 7,
   "id": "bbac887a",
   "metadata": {},
   "outputs": [
    {
     "name": "stdout",
     "output_type": "stream",
     "text": [
      "星期一\n",
      "星期日\n"
     ]
    }
   ],
   "source": [
    "weekdays_tuple = ('星期一', '星期二', '星期三', '星期四', '星期五', '星期六', '星期日')\n",
    "print(weekdays_tuple[0])\n",
    "print(weekdays_tuple[6])"
   ]
  },
  {
   "cell_type": "code",
   "execution_count": 8,
   "id": "800e1abe",
   "metadata": {},
   "outputs": [
    {
     "name": "stdout",
     "output_type": "stream",
     "text": [
      "星期一\n",
      "星期二\n",
      "星期三\n",
      "星期四\n",
      "星期五\n",
      "星期六\n",
      "星期日\n"
     ]
    }
   ],
   "source": [
    "for day in weekdays_tuple:\n",
    "    print(day)"
   ]
  },
  {
   "cell_type": "code",
   "execution_count": 9,
   "id": "333244a1",
   "metadata": {},
   "outputs": [
    {
     "data": {
      "text/plain": [
       "('星期一', '星期二', '星期三', '星期四', '星期五', '星期六', '星期日')"
      ]
     },
     "execution_count": 9,
     "metadata": {},
     "output_type": "execute_result"
    }
   ],
   "source": [
    "weekdays_tuple"
   ]
  },
  {
   "cell_type": "code",
   "execution_count": 11,
   "id": "484c7a0e",
   "metadata": {},
   "outputs": [
    {
     "data": {
      "text/plain": [
       "[0, 1, 2, 3, 4, 5, 6, 7, 8, 9]"
      ]
     },
     "execution_count": 11,
     "metadata": {},
     "output_type": "execute_result"
    }
   ],
   "source": [
    "#list()\n",
    "list(range(0,10))"
   ]
  },
  {
   "cell_type": "code",
   "execution_count": 12,
   "id": "9b3c20d7",
   "metadata": {},
   "outputs": [
    {
     "data": {
      "text/plain": [
       "'H'"
      ]
     },
     "execution_count": 12,
     "metadata": {},
     "output_type": "execute_result"
    }
   ],
   "source": [
    "list1 = ['H','e','l','l','o', 'W','o','r','l','d']\n",
    "list1[-10]"
   ]
  },
  {
   "cell_type": "code",
   "execution_count": 16,
   "id": "a9708607",
   "metadata": {},
   "outputs": [
    {
     "name": "stdout",
     "output_type": "stream",
     "text": [
      "['H', 'e', 'l', 'l', 'o']\n",
      "['H', 'e', 'l', 'l', 'o']\n"
     ]
    }
   ],
   "source": [
    "#slice->取出局部的\n",
    "#取出前面5個\n",
    "print(list1[0:5])\n",
    "print(list1[:5])"
   ]
  },
  {
   "cell_type": "code",
   "execution_count": 19,
   "id": "a0575e39",
   "metadata": {},
   "outputs": [
    {
     "name": "stdout",
     "output_type": "stream",
     "text": [
      "['W', 'o', 'r', 'l', 'd']\n"
     ]
    }
   ],
   "source": [
    "#取出後面5個\n",
    "print(list1[-5:])"
   ]
  },
  {
   "cell_type": "code",
   "execution_count": 20,
   "id": "73a3c54b",
   "metadata": {},
   "outputs": [
    {
     "name": "stdout",
     "output_type": "stream",
     "text": [
      "[10, 20, 30]\n"
     ]
    }
   ],
   "source": [
    "#更新資料\n",
    "nums = [1, 2, 3]\n",
    "nums[0] *= 10\n",
    "nums[1] *= 10\n",
    "nums[2] *= 10\n",
    "print(nums)"
   ]
  },
  {
   "cell_type": "code",
   "execution_count": 23,
   "id": "bd7d100b",
   "metadata": {},
   "outputs": [
    {
     "name": "stdout",
     "output_type": "stream",
     "text": [
      "[10, 20, 30]\n"
     ]
    }
   ],
   "source": [
    "#len()\n",
    "#傳出元素數量\n",
    "nums = [1, 2, 3]\n",
    "for i in range(len(nums)):\n",
    "    nums[i] *= 10\n",
    "print(nums)"
   ]
  },
  {
   "cell_type": "code",
   "execution_count": 24,
   "id": "636ffa29",
   "metadata": {},
   "outputs": [
    {
     "ename": "TypeError",
     "evalue": "'tuple' object does not support item assignment",
     "output_type": "error",
     "traceback": [
      "\u001b[0;31m---------------------------------------------------------------------------\u001b[0m",
      "\u001b[0;31mTypeError\u001b[0m                                 Traceback (most recent call last)",
      "Input \u001b[0;32mIn [24]\u001b[0m, in \u001b[0;36m<module>\u001b[0;34m\u001b[0m\n\u001b[1;32m      1\u001b[0m nums_tuple \u001b[38;5;241m=\u001b[39m (\u001b[38;5;241m1\u001b[39m, \u001b[38;5;241m2\u001b[39m, \u001b[38;5;241m3\u001b[39m)\n\u001b[0;32m----> 2\u001b[0m nums_tuple[\u001b[38;5;241m0\u001b[39m] \u001b[38;5;241m*\u001b[39m\u001b[38;5;241m=\u001b[39m \u001b[38;5;241m10\u001b[39m\n",
      "\u001b[0;31mTypeError\u001b[0m: 'tuple' object does not support item assignment"
     ]
    }
   ],
   "source": [
    "nums_tuple = (1, 2, 3)\n",
    "nums_tuple[0] *= 10"
   ]
  },
  {
   "cell_type": "code",
   "execution_count": 29,
   "id": "07b961ac",
   "metadata": {},
   "outputs": [
    {
     "data": {
      "text/plain": [
       "list"
      ]
     },
     "execution_count": 29,
     "metadata": {},
     "output_type": "execute_result"
    }
   ],
   "source": [
    "#新增元素\n",
    "data = list(range(10,1000,10))\n",
    "receiveData = []\n",
    "\n",
    "for item in data:\n",
    "    if item % 25 == 0:\n",
    "        receiveData.append(item)\n",
    "receiveData.__class__"
   ]
  },
  {
   "cell_type": "code",
   "execution_count": 32,
   "id": "bc14ee37",
   "metadata": {},
   "outputs": [
    {
     "data": {
      "text/plain": [
       "'洗衣機'"
      ]
     },
     "execution_count": 32,
     "metadata": {},
     "output_type": "execute_result"
    }
   ],
   "source": [
    "#2維list\n",
    "nb = ['筆記電腦', '商用筆電']\n",
    "mobile = ['APPLE', 'ASUS', 'HTC'] \n",
    "home = [3, '冰箱', 2, '洗衣機']\n",
    "all3c = [nb, mobile, home]\n",
    "\n",
    "all3c[1][2]\n",
    "all3c[2][3]"
   ]
  },
  {
   "cell_type": "code",
   "execution_count": 35,
   "id": "0e29c410",
   "metadata": {},
   "outputs": [
    {
     "name": "stdout",
     "output_type": "stream",
     "text": [
      "筆記電腦\n",
      "商用筆電\n",
      "=====\n",
      "APPLE\n",
      "ASUS\n",
      "HTC\n",
      "=====\n",
      "3\n",
      "冰箱\n",
      "2\n",
      "洗衣機\n",
      "=====\n"
     ]
    }
   ],
   "source": [
    "for items in all3c:\n",
    "    for item in items:\n",
    "        print(item)\n",
    "    print(\"=====\")"
   ]
  },
  {
   "cell_type": "code",
   "execution_count": 36,
   "id": "19d245f8",
   "metadata": {},
   "outputs": [
    {
     "data": {
      "text/plain": [
       "[[92, 62, 82, 92, 96],\n",
       " [91, 67, 81, 96, 61],\n",
       " [98, 61, 75, 99, 90],\n",
       " [80, 64, 86, 63, 84],\n",
       " [85, 75, 92, 96, 83],\n",
       " [73, 93, 91, 89, 99],\n",
       " [80, 62, 70, 72, 66],\n",
       " [93, 95, 91, 76, 96],\n",
       " [65, 84, 76, 96, 98],\n",
       " [85, 98, 96, 73, 70],\n",
       " [77, 81, 66, 83, 84],\n",
       " [84, 78, 73, 76, 85],\n",
       " [86, 99, 64, 90, 72],\n",
       " [93, 77, 70, 70, 78],\n",
       " [74, 94, 80, 94, 87],\n",
       " [84, 86, 77, 94, 97],\n",
       " [95, 88, 83, 99, 74],\n",
       " [86, 85, 65, 94, 91],\n",
       " [77, 75, 70, 60, 70],\n",
       " [80, 91, 70, 84, 96],\n",
       " [100, 89, 73, 69, 82],\n",
       " [97, 60, 78, 89, 67],\n",
       " [81, 67, 99, 90, 96],\n",
       " [83, 61, 99, 99, 76],\n",
       " [62, 82, 70, 71, 78],\n",
       " [81, 83, 94, 60, 72],\n",
       " [80, 97, 68, 73, 89],\n",
       " [88, 64, 66, 64, 82],\n",
       " [80, 87, 79, 62, 63],\n",
       " [86, 79, 90, 87, 79],\n",
       " [70, 82, 76, 99, 81],\n",
       " [98, 99, 88, 66, 87],\n",
       " [87, 75, 73, 82, 77],\n",
       " [85, 74, 80, 95, 99],\n",
       " [89, 76, 95, 95, 79],\n",
       " [82, 90, 72, 76, 66],\n",
       " [78, 77, 75, 100, 95],\n",
       " [69, 73, 100, 67, 88],\n",
       " [69, 72, 79, 86, 61],\n",
       " [78, 76, 74, 65, 82],\n",
       " [82, 89, 68, 62, 92],\n",
       " [73, 74, 100, 90, 80],\n",
       " [91, 92, 84, 78, 60],\n",
       " [89, 70, 81, 100, 86],\n",
       " [75, 77, 71, 62, 86],\n",
       " [63, 63, 88, 75, 91],\n",
       " [89, 91, 64, 75, 97],\n",
       " [79, 98, 89, 89, 76],\n",
       " [80, 90, 85, 85, 97],\n",
       " [81, 85, 86, 94, 68]]"
      ]
     },
     "execution_count": 36,
     "metadata": {},
     "output_type": "execute_result"
    }
   ],
   "source": [
    "#50個學生,5個分數\n",
    "import random\n",
    "\n",
    "students = []\n",
    "for i in range(50):\n",
    "    scores =[]\n",
    "    for j in range(5):\n",
    "        scores.append(random.randint(60,100))\n",
    "    students.append(scores)\n",
    "\n",
    "students"
   ]
  },
  {
   "cell_type": "code",
   "execution_count": null,
   "id": "62e1e975",
   "metadata": {},
   "outputs": [],
   "source": []
  }
 ],
 "metadata": {
  "kernelspec": {
   "display_name": "Python 3 (ipykernel)",
   "language": "python",
   "name": "python3"
  },
  "language_info": {
   "codemirror_mode": {
    "name": "ipython",
    "version": 3
   },
   "file_extension": ".py",
   "mimetype": "text/x-python",
   "name": "python",
   "nbconvert_exporter": "python",
   "pygments_lexer": "ipython3",
   "version": "3.8.9"
  }
 },
 "nbformat": 4,
 "nbformat_minor": 5
}
