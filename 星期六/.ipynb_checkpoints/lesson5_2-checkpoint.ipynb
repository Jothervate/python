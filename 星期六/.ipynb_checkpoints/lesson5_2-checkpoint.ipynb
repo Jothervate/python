{
 "cells": [
  {
   "cell_type": "code",
   "execution_count": 1,
   "id": "2719e357",
   "metadata": {},
   "outputs": [
    {
     "data": {
      "text/plain": [
       "[]"
      ]
     },
     "execution_count": 1,
     "metadata": {},
     "output_type": "execute_result"
    }
   ],
   "source": [
    "#建立一個空的list\n",
    "empty_list = []\n",
    "empty_list"
   ]
  },
  {
   "cell_type": "code",
   "execution_count": 2,
   "id": "bd07ec16",
   "metadata": {},
   "outputs": [
    {
     "data": {
      "text/plain": [
       "['星期一', '星期二', '星期三', '星期四', '星期五', '星期六', '星期日']"
      ]
     },
     "execution_count": 2,
     "metadata": {},
     "output_type": "execute_result"
    }
   ],
   "source": [
    "weekdays = ['星期一', '星期二', '星期三', '星期四', '星期五', '星期六', '星期日']\n",
    "weekdays"
   ]
  },
  {
   "cell_type": "code",
   "execution_count": 3,
   "id": "8362b5cb",
   "metadata": {},
   "outputs": [
    {
     "name": "stdout",
     "output_type": "stream",
     "text": [
      "星期一\n",
      "星期日\n"
     ]
    }
   ],
   "source": [
    "print(weekdays[0])\n",
    "print(weekdays[6])"
   ]
  },
  {
   "cell_type": "code",
   "execution_count": 5,
   "id": "39c23c9f",
   "metadata": {},
   "outputs": [
    {
     "name": "stdout",
     "output_type": "stream",
     "text": [
      "星期一\n",
      "星期二\n",
      "星期三\n",
      "星期四\n",
      "星期五\n",
      "星期六\n",
      "星期日\n"
     ]
    }
   ],
   "source": [
    "for day in weekdays:\n",
    "    print(day)"
   ]
  },
  {
   "cell_type": "code",
   "execution_count": 7,
   "id": "6d287147",
   "metadata": {},
   "outputs": [
    {
     "name": "stdout",
     "output_type": "stream",
     "text": [
      "星期一\n",
      "星期日\n"
     ]
    }
   ],
   "source": [
    "weekdays_tuple = ('星期一', '星期二', '星期三', '星期四', '星期五', '星期六', '星期日')\n",
    "print(weekdays_tuple[0])\n",
    "print(weekdays_tuple[6])"
   ]
  },
  {
   "cell_type": "code",
   "execution_count": 8,
   "id": "9a39b34e",
   "metadata": {},
   "outputs": [
    {
     "name": "stdout",
     "output_type": "stream",
     "text": [
      "星期一\n",
      "星期二\n",
      "星期三\n",
      "星期四\n",
      "星期五\n",
      "星期六\n",
      "星期日\n"
     ]
    }
   ],
   "source": [
    "for day in weekdays_tuple:\n",
    "    print(day)"
   ]
  },
  {
   "cell_type": "code",
   "execution_count": 9,
   "id": "7787e449",
   "metadata": {},
   "outputs": [
    {
     "data": {
      "text/plain": [
       "('星期一', '星期二', '星期三', '星期四', '星期五', '星期六', '星期日')"
      ]
     },
     "execution_count": 9,
     "metadata": {},
     "output_type": "execute_result"
    }
   ],
   "source": [
    "weekdays_tuple"
   ]
  },
  {
   "cell_type": "code",
   "execution_count": 11,
   "id": "53679da6",
   "metadata": {},
   "outputs": [
    {
     "data": {
      "text/plain": [
       "[0, 1, 2, 3, 4, 5, 6, 7, 8, 9]"
      ]
     },
     "execution_count": 11,
     "metadata": {},
     "output_type": "execute_result"
    }
   ],
   "source": [
    "#list()\n",
    "list(range(0,10))"
   ]
  },
  {
   "cell_type": "code",
   "execution_count": 12,
   "id": "2bc3c3cf",
   "metadata": {},
   "outputs": [
    {
     "data": {
      "text/plain": [
       "'H'"
      ]
     },
     "execution_count": 12,
     "metadata": {},
     "output_type": "execute_result"
    }
   ],
   "source": [
    "list1 = ['H','e','l','l','o', 'W','o','r','l','d']\n",
    "list1[-10]"
   ]
  },
  {
   "cell_type": "code",
   "execution_count": 16,
   "id": "2cecb1d1",
   "metadata": {},
   "outputs": [
    {
     "name": "stdout",
     "output_type": "stream",
     "text": [
      "['H', 'e', 'l', 'l', 'o']\n",
      "['H', 'e', 'l', 'l', 'o']\n"
     ]
    }
   ],
   "source": [
    "#slice->取出局部的\n",
    "#取出前面5個\n",
    "print(list1[0:5])\n",
    "print(list1[:5])"
   ]
  },
  {
   "cell_type": "code",
   "execution_count": 19,
   "id": "49d7988e",
   "metadata": {},
   "outputs": [
    {
     "name": "stdout",
     "output_type": "stream",
     "text": [
      "['W', 'o', 'r', 'l', 'd']\n"
     ]
    }
   ],
   "source": [
    "#取出後面5個\n",
    "print(list1[-5:])"
   ]
  },
  {
   "cell_type": "code",
   "execution_count": 20,
   "id": "5819e24e",
   "metadata": {},
   "outputs": [
    {
     "name": "stdout",
     "output_type": "stream",
     "text": [
      "[10, 20, 30]\n"
     ]
    }
   ],
   "source": [
    "#更新資料\n",
    "nums = [1, 2, 3]\n",
    "nums[0] *= 10\n",
    "nums[1] *= 10\n",
    "nums[2] *= 10\n",
    "print(nums)"
   ]
  },
  {
   "cell_type": "code",
   "execution_count": 23,
   "id": "c535601a",
   "metadata": {},
   "outputs": [
    {
     "name": "stdout",
     "output_type": "stream",
     "text": [
      "[10, 20, 30]\n"
     ]
    }
   ],
   "source": [
    "#len()\n",
    "#傳出元素數量\n",
    "nums = [1, 2, 3]\n",
    "for i in range(len(nums)):\n",
    "    nums[i] *= 10\n",
    "print(nums)"
   ]
  },
  {
   "cell_type": "code",
   "execution_count": 24,
   "id": "385f8225",
   "metadata": {},
   "outputs": [
    {
     "ename": "TypeError",
     "evalue": "'tuple' object does not support item assignment",
     "output_type": "error",
     "traceback": [
      "\u001b[0;31m---------------------------------------------------------------------------\u001b[0m",
      "\u001b[0;31mTypeError\u001b[0m                                 Traceback (most recent call last)",
      "Input \u001b[0;32mIn [24]\u001b[0m, in \u001b[0;36m<module>\u001b[0;34m\u001b[0m\n\u001b[1;32m      1\u001b[0m nums_tuple \u001b[38;5;241m=\u001b[39m (\u001b[38;5;241m1\u001b[39m, \u001b[38;5;241m2\u001b[39m, \u001b[38;5;241m3\u001b[39m)\n\u001b[0;32m----> 2\u001b[0m nums_tuple[\u001b[38;5;241m0\u001b[39m] \u001b[38;5;241m*\u001b[39m\u001b[38;5;241m=\u001b[39m \u001b[38;5;241m10\u001b[39m\n",
      "\u001b[0;31mTypeError\u001b[0m: 'tuple' object does not support item assignment"
     ]
    }
   ],
   "source": [
    "nums_tuple = (1, 2, 3)\n",
    "nums_tuple[0] *= 10"
   ]
  },
  {
   "cell_type": "code",
   "execution_count": 29,
   "id": "f7808d71",
   "metadata": {},
   "outputs": [
    {
     "data": {
      "text/plain": [
       "list"
      ]
     },
     "execution_count": 29,
     "metadata": {},
     "output_type": "execute_result"
    }
   ],
   "source": [
    "#新增元素\n",
    "data = list(range(10,1000,10))\n",
    "receiveData = []\n",
    "\n",
    "for item in data:\n",
    "    if item % 25 == 0:\n",
    "        receiveData.append(item)\n",
    "receiveData.__class__"
   ]
  },
  {
   "cell_type": "code",
   "execution_count": 32,
   "id": "85621639",
   "metadata": {},
   "outputs": [
    {
     "data": {
      "text/plain": [
       "'洗衣機'"
      ]
     },
     "execution_count": 32,
     "metadata": {},
     "output_type": "execute_result"
    }
   ],
   "source": [
    "#2維list\n",
    "nb = ['筆記電腦', '商用筆電']\n",
    "mobile = ['APPLE', 'ASUS', 'HTC'] \n",
    "home = [3, '冰箱', 2, '洗衣機']\n",
    "all3c = [nb, mobile, home]\n",
    "\n",
    "all3c[1][2]\n",
    "all3c[2][3]"
   ]
  },
  {
   "cell_type": "code",
   "execution_count": 35,
   "id": "e27618df",
   "metadata": {},
   "outputs": [
    {
     "name": "stdout",
     "output_type": "stream",
     "text": [
      "筆記電腦\n",
      "商用筆電\n",
      "=====\n",
      "APPLE\n",
      "ASUS\n",
      "HTC\n",
      "=====\n",
      "3\n",
      "冰箱\n",
      "2\n",
      "洗衣機\n",
      "=====\n"
     ]
    }
   ],
   "source": [
    "for items in all3c:\n",
    "    for item in items:\n",
    "        print(item)\n",
    "    print(\"=====\")"
   ]
  },
  {
   "cell_type": "code",
   "execution_count": 37,
   "id": "0f571d5b",
   "metadata": {},
   "outputs": [
    {
     "data": {
      "text/plain": [
       "[[95, 92, 91, 78, 94],\n",
       " [97, 80, 67, 63, 66],\n",
       " [74, 73, 74, 81, 85],\n",
       " [79, 85, 88, 78, 86],\n",
       " [98, 73, 90, 71, 97],\n",
       " [99, 61, 61, 92, 72],\n",
       " [79, 78, 60, 60, 77],\n",
       " [98, 77, 88, 61, 92],\n",
       " [88, 86, 60, 81, 66],\n",
       " [63, 70, 93, 99, 85],\n",
       " [81, 93, 84, 74, 69],\n",
       " [68, 90, 79, 91, 67],\n",
       " [60, 66, 98, 77, 68],\n",
       " [74, 70, 60, 90, 75],\n",
       " [92, 99, 76, 82, 89],\n",
       " [82, 67, 99, 79, 71],\n",
       " [98, 99, 66, 60, 67],\n",
       " [72, 85, 75, 80, 86],\n",
       " [78, 93, 83, 91, 92],\n",
       " [68, 65, 65, 96, 81],\n",
       " [100, 65, 67, 64, 65],\n",
       " [64, 97, 64, 97, 83],\n",
       " [91, 60, 71, 63, 67],\n",
       " [69, 73, 73, 70, 60],\n",
       " [81, 60, 63, 92, 67],\n",
       " [64, 72, 76, 95, 67],\n",
       " [87, 67, 73, 87, 60],\n",
       " [62, 86, 67, 95, 91],\n",
       " [69, 60, 84, 98, 91],\n",
       " [78, 64, 77, 89, 80],\n",
       " [62, 86, 62, 61, 85],\n",
       " [65, 96, 67, 93, 96],\n",
       " [99, 87, 60, 80, 96],\n",
       " [90, 66, 86, 64, 85],\n",
       " [94, 85, 92, 80, 87],\n",
       " [92, 72, 71, 98, 71],\n",
       " [80, 68, 90, 65, 85],\n",
       " [91, 85, 63, 60, 67],\n",
       " [74, 63, 60, 60, 66],\n",
       " [84, 78, 79, 95, 61],\n",
       " [80, 62, 87, 61, 79],\n",
       " [99, 76, 78, 80, 92],\n",
       " [84, 64, 64, 70, 92],\n",
       " [94, 66, 60, 77, 77],\n",
       " [60, 92, 77, 68, 100],\n",
       " [79, 70, 79, 89, 81],\n",
       " [65, 77, 76, 72, 62],\n",
       " [81, 69, 71, 97, 78],\n",
       " [86, 83, 66, 60, 94],\n",
       " [68, 75, 65, 93, 98]]"
      ]
     },
     "execution_count": 37,
     "metadata": {},
     "output_type": "execute_result"
    }
   ],
   "source": [
    "#50個學生,5個分數\n",
    "import random\n",
    "\n",
    "students = []\n",
    "for _ in range(50):\n",
    "    scores =[]\n",
    "    for _ in range(5):\n",
    "        scores.append(random.randint(60,100))\n",
    "    students.append(scores)\n",
    "\n",
    "students"
   ]
  },
  {
   "cell_type": "code",
   "execution_count": 40,
   "id": "623ec302",
   "metadata": {},
   "outputs": [
    {
     "name": "stdout",
     "output_type": "stream",
     "text": [
      "學生1\n",
      "總分為:450,平均:90.0\n",
      "=========\n",
      "學生2\n",
      "總分為:373,平均:74.6\n",
      "=========\n",
      "學生3\n",
      "總分為:387,平均:77.4\n",
      "=========\n",
      "學生4\n",
      "總分為:416,平均:83.2\n",
      "=========\n",
      "學生5\n",
      "總分為:429,平均:85.8\n",
      "=========\n",
      "學生6\n",
      "總分為:385,平均:77.0\n",
      "=========\n",
      "學生7\n",
      "總分為:354,平均:70.8\n",
      "=========\n",
      "學生8\n",
      "總分為:416,平均:83.2\n",
      "=========\n",
      "學生9\n",
      "總分為:381,平均:76.2\n",
      "=========\n",
      "學生10\n",
      "總分為:410,平均:82.0\n",
      "=========\n",
      "學生11\n",
      "總分為:401,平均:80.2\n",
      "=========\n",
      "學生12\n",
      "總分為:395,平均:79.0\n",
      "=========\n",
      "學生13\n",
      "總分為:369,平均:73.8\n",
      "=========\n",
      "學生14\n",
      "總分為:369,平均:73.8\n",
      "=========\n",
      "學生15\n",
      "總分為:438,平均:87.6\n",
      "=========\n",
      "學生16\n",
      "總分為:398,平均:79.6\n",
      "=========\n",
      "學生17\n",
      "總分為:390,平均:78.0\n",
      "=========\n",
      "學生18\n",
      "總分為:398,平均:79.6\n",
      "=========\n",
      "學生19\n",
      "總分為:437,平均:87.4\n",
      "=========\n",
      "學生20\n",
      "總分為:375,平均:75.0\n",
      "=========\n",
      "學生21\n",
      "總分為:361,平均:72.2\n",
      "=========\n",
      "學生22\n",
      "總分為:405,平均:81.0\n",
      "=========\n",
      "學生23\n",
      "總分為:352,平均:70.4\n",
      "=========\n",
      "學生24\n",
      "總分為:345,平均:69.0\n",
      "=========\n",
      "學生25\n",
      "總分為:363,平均:72.6\n",
      "=========\n",
      "學生26\n",
      "總分為:374,平均:74.8\n",
      "=========\n",
      "學生27\n",
      "總分為:374,平均:74.8\n",
      "=========\n",
      "學生28\n",
      "總分為:401,平均:80.2\n",
      "=========\n",
      "學生29\n",
      "總分為:402,平均:80.4\n",
      "=========\n",
      "學生30\n",
      "總分為:388,平均:77.6\n",
      "=========\n",
      "學生31\n",
      "總分為:356,平均:71.2\n",
      "=========\n",
      "學生32\n",
      "總分為:417,平均:83.4\n",
      "=========\n",
      "學生33\n",
      "總分為:422,平均:84.4\n",
      "=========\n",
      "學生34\n",
      "總分為:391,平均:78.2\n",
      "=========\n",
      "學生35\n",
      "總分為:438,平均:87.6\n",
      "=========\n",
      "學生36\n",
      "總分為:404,平均:80.8\n",
      "=========\n",
      "學生37\n",
      "總分為:388,平均:77.6\n",
      "=========\n",
      "學生38\n",
      "總分為:366,平均:73.2\n",
      "=========\n",
      "學生39\n",
      "總分為:323,平均:64.6\n",
      "=========\n",
      "學生40\n",
      "總分為:397,平均:79.4\n",
      "=========\n",
      "學生41\n",
      "總分為:369,平均:73.8\n",
      "=========\n",
      "學生42\n",
      "總分為:425,平均:85.0\n",
      "=========\n",
      "學生43\n",
      "總分為:374,平均:74.8\n",
      "=========\n",
      "學生44\n",
      "總分為:374,平均:74.8\n",
      "=========\n",
      "學生45\n",
      "總分為:397,平均:79.4\n",
      "=========\n",
      "學生46\n",
      "總分為:398,平均:79.6\n",
      "=========\n",
      "學生47\n",
      "總分為:352,平均:70.4\n",
      "=========\n",
      "學生48\n",
      "總分為:396,平均:79.2\n",
      "=========\n",
      "學生49\n",
      "總分為:389,平均:77.8\n",
      "=========\n",
      "學生50\n",
      "總分為:399,平均:79.8\n",
      "=========\n"
     ]
    }
   ],
   "source": [
    "studentId = 0\n",
    "for stu in students:\n",
    "    sum = 0\n",
    "    studentId += 1\n",
    "    print(f\"學生{studentId}\")\n",
    "    for score in stu:\n",
    "        sum += score\n",
    "    print(f\"總分為:{sum},平均:{sum/5}\")\n",
    "    print(\"=========\")"
   ]
  },
  {
   "cell_type": "code",
   "execution_count": null,
   "id": "1b6eeaed",
   "metadata": {},
   "outputs": [],
   "source": []
  }
 ],
 "metadata": {
  "kernelspec": {
   "display_name": "Python 3 (ipykernel)",
   "language": "python",
   "name": "python3"
  },
  "language_info": {
   "codemirror_mode": {
    "name": "ipython",
    "version": 3
   },
   "file_extension": ".py",
   "mimetype": "text/x-python",
   "name": "python",
   "nbconvert_exporter": "python",
   "pygments_lexer": "ipython3",
   "version": "3.8.9"
  }
 },
 "nbformat": 4,
 "nbformat_minor": 5
}
