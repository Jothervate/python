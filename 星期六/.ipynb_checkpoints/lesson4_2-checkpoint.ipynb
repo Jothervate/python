{
 "cells": [
  {
   "cell_type": "code",
   "execution_count": 2,
   "id": "6352e323",
   "metadata": {},
   "outputs": [
    {
     "name": "stdout",
     "output_type": "stream",
     "text": [
      "請輸入第1個月份的存款:5678\n",
      "請輸入第2個月份的存款:5678\n",
      "請輸入第3個月份的存款:5678\n",
      "請輸入第4個月份的存款:5678\n",
      "請輸入第5個月份的存款:5678\n",
      "請輸入第6個月份的存款:5678\n",
      "恭喜!已經存夠了,存了6個月的存款為:34068\n"
     ]
    }
   ],
   "source": [
    "deposit = 0\n",
    "num = 0\n",
    "while(deposit < 30000):\n",
    "    num += 1\n",
    "    inputNum = int(input(f'請輸入第{num}個月份的存款:'))\n",
    "    deposit += inputNum\n",
    "    \n",
    "print(f\"恭喜!已經存夠了,存了{num}個月的存款為:{deposit}\")\n"
   ]
  },
  {
   "cell_type": "code",
   "execution_count": 3,
   "id": "f5711155",
   "metadata": {},
   "outputs": [
    {
     "name": "stdout",
     "output_type": "stream",
     "text": [
      "請輸入第1個月份的存款:5678\n",
      "請輸入第2個月份的存款:5678\n",
      "請輸入第3個月份的存款:5678\n",
      "請輸入第4個月份的存款:5678\n",
      "請輸入第5個月份的存款:5678\n",
      "請輸入第6個月份的存款:5678\n",
      "恭喜!已經存夠了,存了6個月的存款為:34068\n"
     ]
    }
   ],
   "source": [
    "deposit = 0\n",
    "num = 0\n",
    "while(True):\n",
    "    if deposit >= 30000:\n",
    "        break\n",
    "    num += 1\n",
    "    inputNum = int(input(f'請輸入第{num}個月份的存款:'))\n",
    "    deposit += inputNum\n",
    "    \n",
    "print(f\"恭喜!已經存夠了,存了{num}個月的存款為:{deposit}\")"
   ]
  },
  {
   "cell_type": "code",
   "execution_count": null,
   "id": "51019687",
   "metadata": {},
   "outputs": [],
   "source": []
  }
 ],
 "metadata": {
  "kernelspec": {
   "display_name": "Python 3 (ipykernel)",
   "language": "python",
   "name": "python3"
  },
  "language_info": {
   "codemirror_mode": {
    "name": "ipython",
    "version": 3
   },
   "file_extension": ".py",
   "mimetype": "text/x-python",
   "name": "python",
   "nbconvert_exporter": "python",
   "pygments_lexer": "ipython3",
   "version": "3.8.9"
  }
 },
 "nbformat": 4,
 "nbformat_minor": 5
}
