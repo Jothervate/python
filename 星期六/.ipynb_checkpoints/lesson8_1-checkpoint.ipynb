{
 "cells": [
  {
   "cell_type": "code",
   "execution_count": 2,
   "id": "3c3931a4",
   "metadata": {},
   "outputs": [
    {
     "name": "stdout",
     "output_type": "stream",
     "text": [
      "位置引數的tuple:()\n",
      "位置引數的tuple:(3, 2, 1, 'wait!', 'uh.....')\n"
     ]
    }
   ],
   "source": [
    "def print_args(*args):\n",
    "    print(f\"位置引數的tuple:{args}\")\n",
    "\n",
    "print_args()\n",
    "print_args(3, 2, 1, 'wait!', 'uh.....')"
   ]
  },
  {
   "cell_type": "code",
   "execution_count": 3,
   "id": "28639540",
   "metadata": {},
   "outputs": [
    {
     "name": "stdout",
     "output_type": "stream",
     "text": [
      "第一個參數:cap\n",
      "第二個參數:gloves\n",
      "第3個參數:('scarf', 'monocle', 'mustache wax')\n"
     ]
    }
   ],
   "source": [
    "def print_more(required1, required2, *args):\n",
    "    print(f\"第一個參數:{required1}\")\n",
    "    print(f\"第二個參數:{required2}\")\n",
    "    print(f\"第3個參數:{args}\")\n",
    "\n",
    "print_more('cap', 'gloves', 'scarf', 'monocle', 'mustache wax')"
   ]
  },
  {
   "cell_type": "code",
   "execution_count": null,
   "id": "11366348",
   "metadata": {},
   "outputs": [],
   "source": []
  }
 ],
 "metadata": {
  "kernelspec": {
   "display_name": "Python 3 (ipykernel)",
   "language": "python",
   "name": "python3"
  },
  "language_info": {
   "codemirror_mode": {
    "name": "ipython",
    "version": 3
   },
   "file_extension": ".py",
   "mimetype": "text/x-python",
   "name": "python",
   "nbconvert_exporter": "python",
   "pygments_lexer": "ipython3",
   "version": "3.8.9"
  }
 },
 "nbformat": 4,
 "nbformat_minor": 5
}
