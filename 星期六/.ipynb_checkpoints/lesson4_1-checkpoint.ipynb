{
 "cells": [
  {
   "cell_type": "code",
   "execution_count": 1,
   "id": "3a830cc3",
   "metadata": {},
   "outputs": [
    {
     "name": "stdout",
     "output_type": "stream",
     "text": [
      "0 1 2 3 4 5 6 7 8 9 "
     ]
    }
   ],
   "source": [
    "for i in range(10):\n",
    "    print(i,end=' ')"
   ]
  },
  {
   "cell_type": "code",
   "execution_count": 3,
   "id": "1dae0414",
   "metadata": {},
   "outputs": [
    {
     "name": "stdout",
     "output_type": "stream",
     "text": [
      "5 6 7 8 9 "
     ]
    }
   ],
   "source": [
    "for i in range(5,10):\n",
    "    print(i, end=' ')"
   ]
  },
  {
   "cell_type": "code",
   "execution_count": 4,
   "id": "58119677",
   "metadata": {},
   "outputs": [
    {
     "name": "stdout",
     "output_type": "stream",
     "text": [
      "0 2 4 6 8 "
     ]
    }
   ],
   "source": [
    "for i in range(0,10,2):\n",
    "    print(i, end=' ')"
   ]
  },
  {
   "cell_type": "code",
   "execution_count": 6,
   "id": "c496fd9d",
   "metadata": {},
   "outputs": [
    {
     "name": "stdout",
     "output_type": "stream",
     "text": [
      "1-2-3-4-5-6-7-"
     ]
    }
   ],
   "source": [
    "for i in range(1,8):\n",
    "    print(i, end='-')"
   ]
  },
  {
   "cell_type": "code",
   "execution_count": 11,
   "id": "967ba8c2",
   "metadata": {},
   "outputs": [
    {
     "name": "stdout",
     "output_type": "stream",
     "text": [
      "請輸入第1位學生的成績:67\n",
      "請輸入第2位學生的成績:85\n",
      "請輸入第3位學生的成績:90\n",
      "請輸入第4位學生的成績:79\n",
      "請輸入第5位學生的成績:69\n",
      "全班總成績為:390,平均為78.0\n",
      "全班總成績為:390,平均為:78.00\n",
      "全班總成績為:390.0,平均為:78.00\n"
     ]
    }
   ],
   "source": [
    "students = 5\n",
    "sum = 0\n",
    "\n",
    "for i in range(students):\n",
    "    score = int(input(f'請輸入第{i+1}位學生的成績:'))\n",
    "    sum += score\n",
    "\n",
    "print(f\"全班總成績為:{sum},平均為{sum/students}\") #字串插補\n",
    "print(\"全班總成績為:%d,平均為:%.2f\" % (sum, sum/students)) #格式化字串(舊的寫法)\n",
    "print(\"全班總成績為:{:.1f},平均為:{:.2f}\".format(sum, sum/students)) #格式化字串(新的寫法)"
   ]
  },
  {
   "cell_type": "code",
   "execution_count": null,
   "id": "ad765652",
   "metadata": {},
   "outputs": [],
   "source": []
  }
 ],
 "metadata": {
  "kernelspec": {
   "display_name": "Python 3 (ipykernel)",
   "language": "python",
   "name": "python3"
  },
  "language_info": {
   "codemirror_mode": {
    "name": "ipython",
    "version": 3
   },
   "file_extension": ".py",
   "mimetype": "text/x-python",
   "name": "python",
   "nbconvert_exporter": "python",
   "pygments_lexer": "ipython3",
   "version": "3.8.9"
  }
 },
 "nbformat": 4,
 "nbformat_minor": 5
}
