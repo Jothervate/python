{
 "cells": [
  {
   "cell_type": "code",
   "execution_count": 9,
   "id": "5c22bc22",
   "metadata": {},
   "outputs": [
    {
     "name": "stdout",
     "output_type": "stream",
     "text": [
      "請輸入國文分數:87\n",
      "請輸入英文分數:92\n",
      "請輸入數學分數:73\n",
      "國文:87,英文:92,數學:73\n",
      "總分:252,平均:84.00\n"
     ]
    }
   ],
   "source": [
    "chinese = int(input(\"請輸入國文分數:\"))\n",
    "english = int(input(\"請輸入英文分數:\"))\n",
    "math = int(input(\"請輸入數學分數:\"))\n",
    "\n",
    "sum = chinese + english + math\n",
    "average = sum / 3\n",
    "\n",
    "print(f\"國文:{chinese},英文:{english},數學:{math}\")\n",
    "#print(f\"總分:{sum},平均:{average}\")\n",
    "print(\"總分:%d,平均:%.2f\" % (sum,average))"
   ]
  },
  {
   "cell_type": "code",
   "execution_count": 10,
   "id": "86354a76",
   "metadata": {},
   "outputs": [
    {
     "name": "stdout",
     "output_type": "stream",
     "text": [
      "請輸入被除數(整數):10\n",
      "請輸入除數(整數,不可以為0):3\n",
      "商:3,餘數:1\n"
     ]
    }
   ],
   "source": [
    "'''\n",
    "讓使用者輸入被除數(整數)及除數(整數，不可以是零)\n",
    "程式會顯示兩數相除的商及餘數\n",
    "'''\n",
    "\n",
    "n = int(input('請輸入被除數(整數):'))\n",
    "m = int(input('請輸入除數(整數,不可以為0):'))\n",
    "\n",
    "print(f\"商:{ n//m },餘數:{n%m}\")\n",
    "\n"
   ]
  },
  {
   "cell_type": "code",
   "execution_count": 13,
   "id": "7731495f",
   "metadata": {},
   "outputs": [
    {
     "data": {
      "text/plain": [
       "900"
      ]
     },
     "execution_count": 13,
     "metadata": {},
     "output_type": "execute_result"
    }
   ],
   "source": [
    "n = 1000\n",
    "n = n - 100\n"
   ]
  },
  {
   "cell_type": "code",
   "execution_count": 14,
   "id": "11e459b5",
   "metadata": {},
   "outputs": [
    {
     "data": {
      "text/plain": [
       "900"
      ]
     },
     "execution_count": 14,
     "metadata": {},
     "output_type": "execute_result"
    }
   ],
   "source": [
    "n = 1000\n",
    "n -= 100\n",
    "n"
   ]
  },
  {
   "cell_type": "code",
   "execution_count": 15,
   "id": "36091439",
   "metadata": {},
   "outputs": [
    {
     "name": "stdout",
     "output_type": "stream",
     "text": [
      "請輸入手機金額:23456\n",
      "剩餘款為:26544\n"
     ]
    }
   ],
   "source": [
    "#複合指定運算子\n",
    "\n",
    "money = 50000\n",
    "cell = int(input('請輸入手機金額:'))\n",
    "money -= cell\n",
    "print(f'剩餘款為:{money}')"
   ]
  },
  {
   "cell_type": "code",
   "execution_count": null,
   "id": "e102c159",
   "metadata": {},
   "outputs": [],
   "source": []
  }
 ],
 "metadata": {
  "kernelspec": {
   "display_name": "Python 3 (ipykernel)",
   "language": "python",
   "name": "python3"
  },
  "language_info": {
   "codemirror_mode": {
    "name": "ipython",
    "version": 3
   },
   "file_extension": ".py",
   "mimetype": "text/x-python",
   "name": "python",
   "nbconvert_exporter": "python",
   "pygments_lexer": "ipython3",
   "version": "3.8.9"
  }
 },
 "nbformat": 4,
 "nbformat_minor": 5
}
