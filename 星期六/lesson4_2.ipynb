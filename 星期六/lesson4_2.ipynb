{
 "cells": [
  {
   "cell_type": "code",
   "execution_count": 2,
   "id": "b556a781",
   "metadata": {},
   "outputs": [
    {
     "name": "stdout",
     "output_type": "stream",
     "text": [
      "請輸入第1個月份的存款:5678\n",
      "請輸入第2個月份的存款:5678\n",
      "請輸入第3個月份的存款:5678\n",
      "請輸入第4個月份的存款:5678\n",
      "請輸入第5個月份的存款:5678\n",
      "請輸入第6個月份的存款:5678\n",
      "恭喜!已經存夠了,存了6個月的存款為:34068\n"
     ]
    }
   ],
   "source": [
    "deposit = 0\n",
    "num = 0\n",
    "while(deposit < 30000):\n",
    "    num += 1\n",
    "    inputNum = int(input(f'請輸入第{num}個月份的存款:'))\n",
    "    deposit += inputNum\n",
    "    \n",
    "print(f\"恭喜!已經存夠了,存了{num}個月的存款為:{deposit}\")\n"
   ]
  },
  {
   "cell_type": "code",
   "execution_count": 3,
   "id": "9afd3573",
   "metadata": {},
   "outputs": [
    {
     "name": "stdout",
     "output_type": "stream",
     "text": [
      "請輸入第1個月份的存款:5678\n",
      "請輸入第2個月份的存款:5678\n",
      "請輸入第3個月份的存款:5678\n",
      "請輸入第4個月份的存款:5678\n",
      "請輸入第5個月份的存款:5678\n",
      "請輸入第6個月份的存款:5678\n",
      "恭喜!已經存夠了,存了6個月的存款為:34068\n"
     ]
    }
   ],
   "source": [
    "deposit = 0\n",
    "num = 0\n",
    "while(True):\n",
    "    if deposit >= 30000:\n",
    "        break\n",
    "    num += 1\n",
    "    inputNum = int(input(f'請輸入第{num}個月份的存款:'))\n",
    "    deposit += inputNum\n",
    "    \n",
    "print(f\"恭喜!已經存夠了,存了{num}個月的存款為:{deposit}\")"
   ]
  },
  {
   "cell_type": "code",
   "execution_count": 5,
   "id": "dcf6b9d3",
   "metadata": {},
   "outputs": [
    {
     "name": "stdout",
     "output_type": "stream",
     "text": [
      "請輸入整數,輸入[q]離開:2\n",
      "2的平方是4\n",
      "請輸入整數,輸入[q]離開:4\n",
      "4的平方是16\n",
      "請輸入整數,輸入[q]離開:6\n",
      "6的平方是36\n",
      "請輸入整數,輸入[q]離開:8\n",
      "8的平方是64\n",
      "請輸入整數,輸入[q]離開:10\n",
      "10的平方是100\n",
      "請輸入整數,輸入[q]離開:1\n",
      "請輸入整數,輸入[q]離開:3\n",
      "請輸入整數,輸入[q]離開:5\n",
      "請輸入整數,輸入[q]離開:7\n",
      "請輸入整數,輸入[q]離開:9\n",
      "請輸入整數,輸入[q]離開:q\n",
      "程式結束\n"
     ]
    }
   ],
   "source": [
    "while(True):\n",
    "    value = input(\"請輸入整數,輸入[q]離開:\")\n",
    "    if value == 'q':\n",
    "        break;\n",
    "    number = int(value)\n",
    "    if number % 2 == 1:\n",
    "        continue\n",
    "    print(f\"{number}的平方是{number ** 2}\")\n",
    "print(\"程式結束\")"
   ]
  },
  {
   "cell_type": "code",
   "execution_count": null,
   "id": "f2a67143",
   "metadata": {},
   "outputs": [],
   "source": []
  }
 ],
 "metadata": {
  "kernelspec": {
   "display_name": "Python 3 (ipykernel)",
   "language": "python",
   "name": "python3"
  },
  "language_info": {
   "codemirror_mode": {
    "name": "ipython",
    "version": 3
   },
   "file_extension": ".py",
   "mimetype": "text/x-python",
   "name": "python",
   "nbconvert_exporter": "python",
   "pygments_lexer": "ipython3",
   "version": "3.8.9"
  }
 },
 "nbformat": 4,
 "nbformat_minor": 5
}
