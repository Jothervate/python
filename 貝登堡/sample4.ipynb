{
 "cells": [
  {
   "cell_type": "code",
   "execution_count": 2,
   "metadata": {},
   "outputs": [
    {
     "name": "stdout",
     "output_type": "stream",
     "text": [
      "呼叫函式\n",
      "程式結束\n"
     ]
    }
   ],
   "source": [
    "#沒有參數,也沒傳出值的function\n",
    "def func_sum():\n",
    "    print(\"呼叫函式\")\n",
    "    \n",
    "func_sum()\n",
    "print(\"程式結束\")"
   ]
  },
  {
   "cell_type": "code",
   "execution_count": 3,
   "metadata": {},
   "outputs": [
    {
     "data": {
      "text/plain": [
       "4011.5"
      ]
     },
     "execution_count": 3,
     "metadata": {},
     "output_type": "execute_result"
    }
   ],
   "source": [
    "def average(a, b):\n",
    "    return (a+b)/2\n",
    "\n",
    "average(5678, 2345)"
   ]
  },
  {
   "cell_type": "code",
   "execution_count": 5,
   "metadata": {},
   "outputs": [
    {
     "name": "stdout",
     "output_type": "stream",
     "text": [
      "請輸入攝氏溫度:32\n",
      "攝氏32度等於華氏89度\n"
     ]
    }
   ],
   "source": [
    "def temperature(cel):\n",
    "    return cel * 1.8 + 32\n",
    "\n",
    "celValue = float(input(\"請輸入攝氏溫度:\"))\n",
    "fValue = temperature(celValue)\n",
    "print(\"攝氏%d度等於華氏%d度\" % (celValue,fValue))"
   ]
  },
  {
   "cell_type": "code",
   "execution_count": null,
   "metadata": {},
   "outputs": [],
   "source": []
  }
 ],
 "metadata": {
  "kernelspec": {
   "display_name": "Python 3",
   "language": "python",
   "name": "python3"
  },
  "language_info": {
   "codemirror_mode": {
    "name": "ipython",
    "version": 3
   },
   "file_extension": ".py",
   "mimetype": "text/x-python",
   "name": "python",
   "nbconvert_exporter": "python",
   "pygments_lexer": "ipython3",
   "version": "3.7.3"
  }
 },
 "nbformat": 4,
 "nbformat_minor": 4
}
