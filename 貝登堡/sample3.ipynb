{
 "cells": [
  {
   "cell_type": "code",
   "execution_count": null,
   "metadata": {},
   "outputs": [],
   "source": [
    "a = 6\n",
    "while a > 0:\n",
    "    print(a)\n",
    "    a -= 1\n",
    "print(\"程式結束a=\",a)\n",
    "print(\"程式結束a=%d\" % a)"
   ]
  },
  {
   "cell_type": "code",
   "execution_count": null,
   "metadata": {},
   "outputs": [],
   "source": [
    "#明確知道執行的次數\n",
    "count = 1\n",
    "while count <= 5:\n",
    "    print(count)\n",
    "    count += 1\n",
    "print(\"程式結束cout=%d\" % count)"
   ]
  },
  {
   "cell_type": "code",
   "execution_count": null,
   "metadata": {},
   "outputs": [],
   "source": [
    "#計算2 - 10所有偶數的總和\n",
    "i=2\n",
    "sum = 0\n",
    "while i<=10:\n",
    "    sum += i\n",
    "    #print(\"第\",i/2,\"次迴圈的i=\",i,\"總和為\", sum)\n",
    "    print(\"第%d次迴圈的i=%d總和為%d\" % (i/2,i,sum))\n",
    "    i += 2\n",
    "  "
   ]
  },
  {
   "cell_type": "code",
   "execution_count": null,
   "metadata": {},
   "outputs": [],
   "source": [
    "#使用時機,不明確知道要執行幾次迴圈\n",
    "#配合條件式if,並使用break停止迴圈\n",
    "while True:\n",
    "    stuff = input(\"請輸入小寫英文字[按q會離開]\")\n",
    "    if stuff == 'q':\n",
    "        break\n",
    "    print(stuff.capitalize())\n",
    "print(\"程式結束\")"
   ]
  },
  {
   "cell_type": "code",
   "execution_count": null,
   "metadata": {},
   "outputs": [],
   "source": [
    "while True:\n",
    "    f = input(\"輸入英文字[按q會離開]\")\n",
    "    if f == \"q\":\n",
    "        break;\n",
    "    print(f.capitalize());\n",
    "print(\"程式結束\");"
   ]
  },
  {
   "cell_type": "code",
   "execution_count": null,
   "metadata": {},
   "outputs": [],
   "source": [
    "\n",
    "#請設計一個程式，讓使用者輸入數值，只有加總正偶數值，不加總正奇數值，如果輸入負數，結束程式。\n",
    "num = 0\n",
    "sum = 0\n",
    "while(True):\n",
    "    num += 1\n",
    "    inputNum = int(input(\"請輸入第%d個數值\" % num))\n",
    "    if(inputNum < 0):\n",
    "        break\n",
    "    elif inputNum % 2 == 1:\n",
    "        continue\n",
    "    else:\n",
    "        sum += inputNum\n",
    "print(\"所有輸入的正偶數的加總是:\", sum)\n",
    "        "
   ]
  },
  {
   "cell_type": "code",
   "execution_count": null,
   "metadata": {},
   "outputs": [],
   "source": [
    "import random\n",
    "random.randint(1,100)"
   ]
  },
  {
   "cell_type": "code",
   "execution_count": null,
   "metadata": {},
   "outputs": [],
   "source": [
    "from random import randint,random\n",
    "randint(1,100)\n",
    "random()"
   ]
  },
  {
   "cell_type": "code",
   "execution_count": null,
   "metadata": {},
   "outputs": [],
   "source": [
    "from random import *\n",
    "randint(1,100)\n",
    "random()"
   ]
  },
  {
   "cell_type": "code",
   "execution_count": 3,
   "metadata": {},
   "outputs": [
    {
     "name": "stdout",
     "output_type": "stream",
     "text": [
      "==============猜數字遊戲=================\n",
      "\n",
      "\n",
      "猜數字範圍1~100:50\n",
      "再小一點\n",
      "您猜了1次\n",
      "猜數字範圍1~50:25\n",
      "再小一點\n",
      "您猜了2次\n",
      "猜數字範圍1~25:12\n",
      "再大一點\n",
      "您猜了3次\n",
      "猜數字範圍12~25:20\n",
      "再小一點\n",
      "您猜了4次\n",
      "猜數字範圍12~20:15\n",
      "再大一點\n",
      "您猜了5次\n",
      "猜數字範圍15~20:18\n",
      "再小一點\n",
      "您猜了6次\n",
      "猜數字範圍15~18:17\n",
      "再小一點\n",
      "您猜了7次\n",
      "猜數字範圍15~17:16\n",
      "賓果!猜對了, 答案是: 16\n",
      "您猜了8次\n",
      "Game over\n"
     ]
    }
   ],
   "source": [
    "from random import randint\n",
    "min = 1\n",
    "max = 100\n",
    "count = 0\n",
    "target = randint(min, max)\n",
    "print(\"==============猜數字遊戲=================\\n\\n\")\n",
    "while(True):\n",
    "    count += 1\n",
    "    keyin = int(input(\"猜數字範圍%d~%d:\" % (min,max)))\n",
    "    if (keyin >= min and keyin <= max):\n",
    "        if(keyin == target):\n",
    "            print(\"賓果!猜對了, 答案是:\",target)\n",
    "            print(\"您猜了%d次\" % count)\n",
    "            break\n",
    "        elif keyin > target:\n",
    "            print(\"再小一點\")\n",
    "            max = keyin\n",
    "        elif keyin < target:\n",
    "            print(\"再大一點\")\n",
    "            min = keyin\n",
    "        print(\"您猜了%d次\" % count)\n",
    "            \n",
    "    else:\n",
    "        print(\"請輸入提示範圍內的數字\")\n",
    "print(\"Game over\")"
   ]
  },
  {
   "cell_type": "code",
   "execution_count": null,
   "metadata": {},
   "outputs": [],
   "source": []
  }
 ],
 "metadata": {
  "kernelspec": {
   "display_name": "Python 3",
   "language": "python",
   "name": "python3"
  },
  "language_info": {
   "codemirror_mode": {
    "name": "ipython",
    "version": 3
   },
   "file_extension": ".py",
   "mimetype": "text/x-python",
   "name": "python",
   "nbconvert_exporter": "python",
   "pygments_lexer": "ipython3",
   "version": "3.7.3"
  }
 },
 "nbformat": 4,
 "nbformat_minor": 4
}
