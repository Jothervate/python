{
 "cells": [
  {
   "cell_type": "code",
   "execution_count": 1,
   "metadata": {},
   "outputs": [
    {
     "name": "stdout",
     "output_type": "stream",
     "text": [
      "6\n",
      "5\n",
      "4\n",
      "3\n",
      "2\n",
      "1\n",
      "程式結束a= 0\n",
      "程式結束a=0\n"
     ]
    }
   ],
   "source": [
    "a = 6\n",
    "while a > 0:\n",
    "    print(a)\n",
    "    a -= 1\n",
    "print(\"程式結束a=\",a)\n",
    "print(\"程式結束a=%d\" % a)"
   ]
  },
  {
   "cell_type": "code",
   "execution_count": 2,
   "metadata": {},
   "outputs": [
    {
     "name": "stdout",
     "output_type": "stream",
     "text": [
      "1\n",
      "2\n",
      "3\n",
      "4\n",
      "5\n",
      "程式結束cout=6\n"
     ]
    }
   ],
   "source": [
    "#明確知道執行的次數\n",
    "count = 1\n",
    "while count <= 5:\n",
    "    print(count)\n",
    "    count += 1\n",
    "print(\"程式結束cout=%d\" % count)"
   ]
  },
  {
   "cell_type": "code",
   "execution_count": 5,
   "metadata": {},
   "outputs": [
    {
     "name": "stdout",
     "output_type": "stream",
     "text": [
      "第1次迴圈的i=2總和為2\n",
      "第2次迴圈的i=4總和為6\n",
      "第3次迴圈的i=6總和為12\n",
      "第4次迴圈的i=8總和為20\n",
      "第5次迴圈的i=10總和為30\n"
     ]
    }
   ],
   "source": [
    "#計算2 - 10所有偶數的總和\n",
    "i=2\n",
    "sum = 0\n",
    "while i<=10:\n",
    "    sum += i\n",
    "    #print(\"第\",i/2,\"次迴圈的i=\",i,\"總和為\", sum)\n",
    "    print(\"第%d次迴圈的i=%d總和為%d\" % (i/2,i,sum))\n",
    "    i += 2\n",
    "  "
   ]
  },
  {
   "cell_type": "code",
   "execution_count": 8,
   "metadata": {},
   "outputs": [
    {
     "name": "stdout",
     "output_type": "stream",
     "text": [
      "請輸入小寫英文字[按q會離開]a\n",
      "A\n",
      "請輸入小寫英文字[按q會離開]q\n",
      "程式結束\n"
     ]
    }
   ],
   "source": [
    "#使用時機,不明確知道要執行幾次迴圈\n",
    "#配合條件式if,並使用break停止迴圈\n",
    "while True:\n",
    "    stuff = input(\"請輸入小寫英文字[按q會離開]\")\n",
    "    if stuff == 'q':\n",
    "        break\n",
    "    print(stuff.capitalize())\n",
    "print(\"程式結束\")"
   ]
  },
  {
   "cell_type": "code",
   "execution_count": 9,
   "metadata": {},
   "outputs": [
    {
     "name": "stdout",
     "output_type": "stream",
     "text": [
      "輸入英文字[按q會離開]ql\n",
      "Ql\n",
      "輸入英文字[按q會離開]q\n",
      "程式結束\n"
     ]
    }
   ],
   "source": [
    "while True:\n",
    "    f = input(\"輸入英文字[按q會離開]\")\n",
    "    if f == \"q\":\n",
    "        break;\n",
    "    print(f.capitalize());\n",
    "print(\"程式結束\");"
   ]
  },
  {
   "cell_type": "code",
   "execution_count": 11,
   "metadata": {},
   "outputs": [
    {
     "name": "stdout",
     "output_type": "stream",
     "text": [
      "請輸入第1個數值67\n",
      "請輸入第2個數值2\n",
      "請輸入第3個數值57\n",
      "請輸入第4個數值4\n",
      "請輸入第5個數值37\n",
      "請輸入第6個數值6\n",
      "請輸入第7個數值-1\n",
      "所有輸入的正偶數的加總是: 12\n"
     ]
    }
   ],
   "source": [
    "\n",
    "#請設計一個程式，讓使用者輸入數值，只有加總正偶數值，不加總正奇數值，如果輸入負數，結束程式。\n",
    "num = 0\n",
    "sum = 0\n",
    "while(True):\n",
    "    num += 1\n",
    "    inputNum = int(input(\"請輸入第%d個數值\" % num))\n",
    "    if(inputNum < 0):\n",
    "        break\n",
    "    elif inputNum % 2 == 1:\n",
    "        continue\n",
    "    else:\n",
    "        sum += inputNum\n",
    "print(\"所有輸入的正偶數的加總是:\", sum)\n",
    "        "
   ]
  },
  {
   "cell_type": "code",
   "execution_count": null,
   "metadata": {},
   "outputs": [],
   "source": []
  }
 ],
 "metadata": {
  "kernelspec": {
   "display_name": "Python 3",
   "language": "python",
   "name": "python3"
  },
  "language_info": {
   "codemirror_mode": {
    "name": "ipython",
    "version": 3
   },
   "file_extension": ".py",
   "mimetype": "text/x-python",
   "name": "python",
   "nbconvert_exporter": "python",
   "pygments_lexer": "ipython3",
   "version": "3.7.3"
  }
 },
 "nbformat": 4,
 "nbformat_minor": 4
}
