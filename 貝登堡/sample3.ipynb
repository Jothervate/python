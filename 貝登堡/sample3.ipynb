{
 "cells": [
  {
   "cell_type": "code",
   "execution_count": 1,
   "metadata": {},
   "outputs": [
    {
     "name": "stdout",
     "output_type": "stream",
     "text": [
      "6\n",
      "5\n",
      "4\n",
      "3\n",
      "2\n",
      "1\n",
      "程式結束a= 0\n",
      "程式結束a=0\n"
     ]
    }
   ],
   "source": [
    "a = 6\n",
    "while a > 0:\n",
    "    print(a)\n",
    "    a -= 1\n",
    "print(\"程式結束a=\",a)\n",
    "print(\"程式結束a=%d\" % a)"
   ]
  },
  {
   "cell_type": "code",
   "execution_count": 2,
   "metadata": {},
   "outputs": [
    {
     "name": "stdout",
     "output_type": "stream",
     "text": [
      "1\n",
      "2\n",
      "3\n",
      "4\n",
      "5\n",
      "程式結束cout=6\n"
     ]
    }
   ],
   "source": [
    "#明確知道執行的次數\n",
    "count = 1\n",
    "while count <= 5:\n",
    "    print(count)\n",
    "    count += 1\n",
    "print(\"程式結束cout=%d\" % count)"
   ]
  },
  {
   "cell_type": "code",
   "execution_count": 5,
   "metadata": {},
   "outputs": [
    {
     "name": "stdout",
     "output_type": "stream",
     "text": [
      "第1次迴圈的i=2總和為2\n",
      "第2次迴圈的i=4總和為6\n",
      "第3次迴圈的i=6總和為12\n",
      "第4次迴圈的i=8總和為20\n",
      "第5次迴圈的i=10總和為30\n"
     ]
    }
   ],
   "source": [
    "#計算2 - 10所有偶數的總和\n",
    "i=2\n",
    "sum = 0\n",
    "while i<=10:\n",
    "    sum += i\n",
    "    #print(\"第\",i/2,\"次迴圈的i=\",i,\"總和為\", sum)\n",
    "    print(\"第%d次迴圈的i=%d總和為%d\" % (i/2,i,sum))\n",
    "    i += 2\n",
    "  "
   ]
  },
  {
   "cell_type": "code",
   "execution_count": 7,
   "metadata": {},
   "outputs": [
    {
     "name": "stdout",
     "output_type": "stream",
     "text": [
      "請輸入小寫英文字[按q會離開]a\n",
      "A\n",
      "請輸入小寫英文字[按q會離開]b\n",
      "B\n",
      "請輸入小寫英文字[按q會離開]c\n",
      "C\n",
      "請輸入小寫英文字[按q會離開]d\n",
      "D\n",
      "請輸入小寫英文字[按q會離開]e\n",
      "E\n",
      "請輸入小寫英文字[按q會離開]f\n",
      "F\n",
      "請輸入小寫英文字[按q會離開]g\n",
      "G\n",
      "請輸入小寫英文字[按q會離開]h\n",
      "H\n",
      "請輸入小寫英文字[按q會離開]i\n",
      "I\n",
      "請輸入小寫英文字[按q會離開]j\n",
      "J\n",
      "請輸入小寫英文字[按q會離開]k\n",
      "K\n",
      "請輸入小寫英文字[按q會離開]l\n",
      "L\n",
      "請輸入小寫英文字[按q會離開]m\n",
      "M\n",
      "請輸入小寫英文字[按q會離開]n\n",
      "N\n",
      "請輸入小寫英文字[按q會離開]o\n",
      "O\n",
      "請輸入小寫英文字[按q會離開]p\n",
      "P\n",
      "請輸入小寫英文字[按q會離開]q\n",
      "程式結束\n"
     ]
    }
   ],
   "source": [
    "#使用時機,不明確知道要執行幾次迴圈\n",
    "#配合條件式if,並使用break停止迴圈\n",
    "while True:\n",
    "    stuff = input(\"請輸入小寫英文字[按q會離開]\")\n",
    "    if stuff == 'q':\n",
    "        break;\n",
    "    print(stuff.capitalize())\n",
    "print(\"程式結束\")"
   ]
  },
  {
   "cell_type": "code",
   "execution_count": null,
   "metadata": {},
   "outputs": [],
   "source": []
  }
 ],
 "metadata": {
  "kernelspec": {
   "display_name": "Python 3",
   "language": "python",
   "name": "python3"
  },
  "language_info": {
   "codemirror_mode": {
    "name": "ipython",
    "version": 3
   },
   "file_extension": ".py",
   "mimetype": "text/x-python",
   "name": "python",
   "nbconvert_exporter": "python",
   "pygments_lexer": "ipython3",
   "version": "3.7.3"
  }
 },
 "nbformat": 4,
 "nbformat_minor": 4
}
