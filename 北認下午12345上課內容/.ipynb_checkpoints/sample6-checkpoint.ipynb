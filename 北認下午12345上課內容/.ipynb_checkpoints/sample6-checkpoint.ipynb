{
 "cells": [
  {
   "cell_type": "code",
   "execution_count": 4,
   "metadata": {},
   "outputs": [
    {
     "name": "stdout",
     "output_type": "stream",
     "text": [
      "['one', 'two', 'three', 'four', 'five']\n",
      "('one', 'two', 'three', 'four', 'five')\n"
     ]
    }
   ],
   "source": [
    "#tuple 是用小括號()將元素包起來。\n",
    "#list 是用中括號[]將元素包起來。\n",
    "\n",
    "list_name = ['one', 'two', 'three', 'four', 'five']\n",
    "print(list_name)\n",
    "tuple_name = ('one', 'two', 'three', 'four', 'five')\n",
    "print(tuple_name)"
   ]
  },
  {
   "cell_type": "code",
   "execution_count": 8,
   "metadata": {},
   "outputs": [
    {
     "data": {
      "text/plain": [
       "'five'"
      ]
     },
     "execution_count": 8,
     "metadata": {},
     "output_type": "execute_result"
    }
   ],
   "source": [
    "list_name = ['one', 'two', 'three', 'four', 'five']\n",
    "list_name[4]"
   ]
  },
  {
   "cell_type": "code",
   "execution_count": 9,
   "metadata": {},
   "outputs": [
    {
     "name": "stdout",
     "output_type": "stream",
     "text": [
      "1\n",
      "2\n",
      "3\n",
      "4\n"
     ]
    }
   ],
   "source": [
    "for item in range(1,5):\n",
    "    print(item)"
   ]
  },
  {
   "cell_type": "code",
   "execution_count": 10,
   "metadata": {},
   "outputs": [
    {
     "name": "stdout",
     "output_type": "stream",
     "text": [
      "one\n",
      "two\n",
      "three\n",
      "four\n",
      "five\n"
     ]
    }
   ],
   "source": [
    "for item in list_name:\n",
    "    print(item)"
   ]
  },
  {
   "cell_type": "code",
   "execution_count": 11,
   "metadata": {},
   "outputs": [
    {
     "name": "stdout",
     "output_type": "stream",
     "text": [
      "a\n",
      "b\n",
      "c\n",
      "d\n",
      "e\n",
      "f\n",
      "g\n"
     ]
    }
   ],
   "source": [
    "for item in \"abcdefg\":\n",
    "    print(item)"
   ]
  },
  {
   "cell_type": "code",
   "execution_count": 12,
   "metadata": {},
   "outputs": [
    {
     "name": "stdout",
     "output_type": "stream",
     "text": [
      "one\n",
      "two\n",
      "three\n",
      "four\n",
      "five\n"
     ]
    }
   ],
   "source": [
    "for item in tuple_name:\n",
    "    print(item)"
   ]
  },
  {
   "cell_type": "code",
   "execution_count": 23,
   "metadata": {},
   "outputs": [
    {
     "name": "stdout",
     "output_type": "stream",
     "text": [
      "學生: 1\n",
      "[50, 72, 85, 76, 96]\n",
      "\n",
      "學生: 2\n",
      "[55, 77, 87, 75, 69]\n",
      "\n",
      "學生: 3\n",
      "[87, 96, 76, 74, 100]\n",
      "\n",
      "學生: 4\n",
      "[62, 63, 68, 75, 92]\n",
      "\n",
      "學生: 5\n",
      "[78, 61, 64, 53, 53]\n",
      "\n",
      "學生: 6\n",
      "[51, 64, 51, 68, 50]\n",
      "\n",
      "學生: 7\n",
      "[66, 57, 93, 97, 78]\n",
      "\n",
      "學生: 8\n",
      "[58, 68, 67, 80, 97]\n",
      "\n",
      "學生: 9\n",
      "[94, 84, 92, 80, 52]\n",
      "\n",
      "學生: 10\n",
      "[84, 55, 54, 97, 80]\n",
      "\n",
      "學生: 11\n",
      "[59, 61, 89, 91, 82]\n",
      "\n",
      "學生: 12\n",
      "[98, 68, 95, 52, 50]\n",
      "\n",
      "學生: 13\n",
      "[71, 62, 94, 58, 57]\n",
      "\n",
      "學生: 14\n",
      "[56, 83, 55, 83, 55]\n",
      "\n",
      "學生: 15\n",
      "[96, 65, 69, 73, 62]\n",
      "\n",
      "學生: 16\n",
      "[69, 80, 93, 52, 62]\n",
      "\n",
      "學生: 17\n",
      "[86, 85, 52, 60, 70]\n",
      "\n",
      "學生: 18\n",
      "[100, 64, 64, 67, 95]\n",
      "\n",
      "學生: 19\n",
      "[76, 74, 94, 96, 91]\n",
      "\n",
      "學生: 20\n",
      "[66, 76, 81, 71, 75]\n",
      "\n",
      "學生: 21\n",
      "[59, 84, 78, 78, 72]\n",
      "\n",
      "學生: 22\n",
      "[79, 92, 56, 89, 51]\n",
      "\n",
      "學生: 23\n",
      "[66, 95, 53, 54, 67]\n",
      "\n",
      "學生: 24\n",
      "[86, 54, 96, 84, 73]\n",
      "\n",
      "學生: 25\n",
      "[78, 67, 96, 62, 55]\n",
      "\n",
      "學生: 26\n",
      "[90, 63, 61, 90, 66]\n",
      "\n",
      "學生: 27\n",
      "[81, 66, 69, 77, 78]\n",
      "\n",
      "學生: 28\n",
      "[82, 58, 90, 72, 60]\n",
      "\n",
      "學生: 29\n",
      "[80, 95, 77, 82, 66]\n",
      "\n",
      "學生: 30\n",
      "[80, 61, 98, 73, 55]\n",
      "\n",
      "學生: 31\n",
      "[76, 71, 90, 97, 90]\n",
      "\n",
      "學生: 32\n",
      "[84, 90, 57, 97, 87]\n",
      "\n",
      "學生: 33\n",
      "[77, 93, 88, 86, 62]\n",
      "\n",
      "學生: 34\n",
      "[73, 54, 80, 61, 67]\n",
      "\n",
      "學生: 35\n",
      "[51, 98, 69, 65, 64]\n",
      "\n",
      "學生: 36\n",
      "[58, 63, 88, 61, 61]\n",
      "\n",
      "學生: 37\n",
      "[94, 67, 99, 83, 93]\n",
      "\n",
      "學生: 38\n",
      "[89, 54, 65, 100, 57]\n",
      "\n",
      "學生: 39\n",
      "[75, 85, 62, 85, 55]\n",
      "\n",
      "學生: 40\n",
      "[83, 59, 54, 94, 65]\n",
      "\n",
      "學生: 41\n",
      "[82, 73, 81, 63, 63]\n",
      "\n",
      "學生: 42\n",
      "[89, 88, 86, 80, 80]\n",
      "\n",
      "學生: 43\n",
      "[87, 59, 50, 59, 55]\n",
      "\n",
      "學生: 44\n",
      "[62, 87, 91, 80, 73]\n",
      "\n",
      "學生: 45\n",
      "[92, 56, 66, 53, 75]\n",
      "\n",
      "學生: 46\n",
      "[66, 85, 84, 66, 67]\n",
      "\n",
      "學生: 47\n",
      "[67, 55, 88, 61, 89]\n",
      "\n",
      "學生: 48\n",
      "[74, 53, 58, 50, 81]\n",
      "\n",
      "學生: 49\n",
      "[58, 90, 87, 50, 96]\n",
      "\n",
      "學生: 50\n",
      "[58, 95, 77, 53, 98]\n",
      "\n"
     ]
    }
   ],
   "source": [
    "import random\n",
    "\n",
    "students = []\n",
    "for _ in range(50):\n",
    "    scores = [] #建立一個0元素的list\n",
    "    for _ in range(5):\n",
    "        scores += [random.randint(50,100)]\n",
    "    students.append(scores)\n",
    "\n",
    "studentId=0\n",
    "for stu in students:\n",
    "    studentId += 1\n",
    "    print(\"學生:\",studentId)\n",
    "    print(stu)\n",
    "    print()"
   ]
  },
  {
   "cell_type": "code",
   "execution_count": null,
   "metadata": {},
   "outputs": [],
   "source": []
  }
 ],
 "metadata": {
  "kernelspec": {
   "display_name": "Python 3",
   "language": "python",
   "name": "python3"
  },
  "language_info": {
   "codemirror_mode": {
    "name": "ipython",
    "version": 3
   },
   "file_extension": ".py",
   "mimetype": "text/x-python",
   "name": "python",
   "nbconvert_exporter": "python",
   "pygments_lexer": "ipython3",
   "version": "3.7.3"
  }
 },
 "nbformat": 4,
 "nbformat_minor": 4
}
