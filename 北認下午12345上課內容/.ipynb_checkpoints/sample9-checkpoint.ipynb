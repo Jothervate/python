{
 "cells": [
  {
   "cell_type": "code",
   "execution_count": 13,
   "metadata": {},
   "outputs": [
    {
     "name": "stdout",
     "output_type": "stream",
     "text": [
      "<class 'str'>\n",
      "[[93, 51, 52, 50, 68], [52, 76, 90, 79, 82], [82, 72, 79, 76, 80], [70, 67, 88, 54, 69], [52, 61, 54, 66, 91], [92, 90, 53, 62, 60], [83, 55, 88, 80, 81], [50, 66, 71, 89, 78], [95, 94, 54, 52, 98], [91, 81, 76, 79, 66], [97, 65, 100, 95, 81], [69, 91, 93, 82, 73], [98, 80, 61, 63, 52], [82, 54, 99, 69, 66], [59, 98, 86, 89, 55], [78, 69, 62, 74, 85], [66, 73, 55, 88, 81], [86, 78, 53, 75, 58], [87, 76, 77, 100, 99], [56, 53, 99, 98, 73], [50, 63, 69, 62, 78], [82, 72, 78, 63, 52], [92, 87, 59, 61, 90], [50, 54, 67, 58, 71], [99, 73, 63, 51, 95], [64, 75, 71, 74, 92], [57, 57, 65, 94, 88], [97, 61, 62, 84, 96], [78, 90, 52, 81, 74], [63, 72, 64, 56, 97], [91, 63, 63, 68, 83], [52, 90, 79, 76, 76], [54, 92, 78, 64, 56], [81, 85, 92, 59, 82], [52, 56, 61, 88, 84], [89, 85, 99, 92, 77], [52, 75, 52, 53, 62], [68, 87, 62, 56, 81], [75, 57, 89, 59, 77], [51, 78, 79, 96, 93], [84, 76, 71, 74, 59], [56, 93, 51, 54, 93], [51, 77, 73, 76, 93], [73, 71, 92, 70, 80], [55, 52, 84, 66, 100], [85, 86, 82, 69, 67], [53, 70, 89, 96, 91], [71, 86, 95, 52, 52], [96, 91, 53, 78, 54], [93, 84, 87, 68, 87]]\n"
     ]
    }
   ],
   "source": [
    "#with as\n",
    "with open('students.txt', 'r', encoding='UTF-8') as file:\n",
    "    content = file.read()\n",
    "    print(content.__class__)\n",
    "    print(content)    \n"
   ]
  },
  {
   "cell_type": "code",
   "execution_count": 15,
   "metadata": {},
   "outputs": [
    {
     "name": "stdout",
     "output_type": "stream",
     "text": [
      "程式結束\n"
     ]
    }
   ],
   "source": [
    "#csv寫入檔案\n",
    "import csv\n",
    "'''\n",
    "編號, 國文, 英文, 數學, 自然, 社會\n",
    "01, 87, 90, 56, 87, 89\n",
    "02, 98, 56, 78, 90, 49\n",
    "'''\n",
    "with open('students.csv','w', newline='') as file:\n",
    "    csvWriter = csv.writer(file)\n",
    "    csvWriter.writerow(['編號', '國文', '英文', '數學', '自然', '社會'])\n",
    "    csvWriter.writerow(['01', 87, 90, 56, 87, 89])\n",
    "    csvWriter.writerow(['02', 98, 56, 78, 90, 49])\n",
    "print(\"程式結束\")\n",
    "    \n"
   ]
  },
  {
   "cell_type": "code",
   "execution_count": 17,
   "metadata": {},
   "outputs": [
    {
     "data": {
      "text/plain": [
       "[1, 2, 3, 4, 5]"
      ]
     },
     "execution_count": 17,
     "metadata": {},
     "output_type": "execute_result"
    }
   ],
   "source": [
    "myList = [1,2,3, 4, 5]\n",
    "myList"
   ]
  },
  {
   "cell_type": "code",
   "execution_count": 18,
   "metadata": {},
   "outputs": [
    {
     "name": "stdout",
     "output_type": "stream",
     "text": [
      "程式結束\n"
     ]
    }
   ],
   "source": [
    "#csv寫人檔案\n",
    "#建立50位學生,每位學生5個分數\n",
    "import random\n",
    "import csv\n",
    "\n",
    "with open('students.csv','w', newline='', encoding='UTF-8') as file:\n",
    "    csvWriter = csv.writer(file)\n",
    "    csvWriter.writerow(['編號', '國文', '英文', '數學', '自然', '社會'])\n",
    "    for i in range(50):\n",
    "        scores = [str(i+1)] #建立一個1元素的list\n",
    "        for _ in range(5):\n",
    "            scores += [random.randint(50,100)]\n",
    "        csvWriter.writerow(scores)\n",
    "print(\"程式結束\")\n",
    "\n",
    "\n"
   ]
  },
  {
   "cell_type": "code",
   "execution_count": null,
   "metadata": {},
   "outputs": [],
   "source": []
  }
 ],
 "metadata": {
  "kernelspec": {
   "display_name": "Python 3",
   "language": "python",
   "name": "python3"
  },
  "language_info": {
   "codemirror_mode": {
    "name": "ipython",
    "version": 3
   },
   "file_extension": ".py",
   "mimetype": "text/x-python",
   "name": "python",
   "nbconvert_exporter": "python",
   "pygments_lexer": "ipython3",
   "version": "3.8.3"
  }
 },
 "nbformat": 4,
 "nbformat_minor": 4
}
