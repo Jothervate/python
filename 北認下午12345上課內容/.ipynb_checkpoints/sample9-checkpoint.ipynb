{
 "cells": [
  {
   "cell_type": "code",
   "execution_count": 13,
   "metadata": {},
   "outputs": [
    {
     "name": "stdout",
     "output_type": "stream",
     "text": [
      "<class 'str'>\n",
      "[[93, 51, 52, 50, 68], [52, 76, 90, 79, 82], [82, 72, 79, 76, 80], [70, 67, 88, 54, 69], [52, 61, 54, 66, 91], [92, 90, 53, 62, 60], [83, 55, 88, 80, 81], [50, 66, 71, 89, 78], [95, 94, 54, 52, 98], [91, 81, 76, 79, 66], [97, 65, 100, 95, 81], [69, 91, 93, 82, 73], [98, 80, 61, 63, 52], [82, 54, 99, 69, 66], [59, 98, 86, 89, 55], [78, 69, 62, 74, 85], [66, 73, 55, 88, 81], [86, 78, 53, 75, 58], [87, 76, 77, 100, 99], [56, 53, 99, 98, 73], [50, 63, 69, 62, 78], [82, 72, 78, 63, 52], [92, 87, 59, 61, 90], [50, 54, 67, 58, 71], [99, 73, 63, 51, 95], [64, 75, 71, 74, 92], [57, 57, 65, 94, 88], [97, 61, 62, 84, 96], [78, 90, 52, 81, 74], [63, 72, 64, 56, 97], [91, 63, 63, 68, 83], [52, 90, 79, 76, 76], [54, 92, 78, 64, 56], [81, 85, 92, 59, 82], [52, 56, 61, 88, 84], [89, 85, 99, 92, 77], [52, 75, 52, 53, 62], [68, 87, 62, 56, 81], [75, 57, 89, 59, 77], [51, 78, 79, 96, 93], [84, 76, 71, 74, 59], [56, 93, 51, 54, 93], [51, 77, 73, 76, 93], [73, 71, 92, 70, 80], [55, 52, 84, 66, 100], [85, 86, 82, 69, 67], [53, 70, 89, 96, 91], [71, 86, 95, 52, 52], [96, 91, 53, 78, 54], [93, 84, 87, 68, 87]]\n"
     ]
    }
   ],
   "source": [
    "#with as\n",
    "with open('students.txt', 'r', encoding='UTF-8') as file:\n",
    "    content = file.read()\n",
    "    print(content.__class__)\n",
    "    print(content)    \n"
   ]
  },
  {
   "cell_type": "code",
   "execution_count": 15,
   "metadata": {},
   "outputs": [
    {
     "name": "stdout",
     "output_type": "stream",
     "text": [
      "程式結束\n"
     ]
    }
   ],
   "source": [
    "#csv寫入檔案\n",
    "import csv\n",
    "'''\n",
    "編號, 國文, 英文, 數學, 自然, 社會\n",
    "01, 87, 90, 56, 87, 89\n",
    "02, 98, 56, 78, 90, 49\n",
    "'''\n",
    "with open('students.csv','w', newline='') as file:\n",
    "    csvWriter = csv.writer(file)\n",
    "    csvWriter.writerow(['編號', '國文', '英文', '數學', '自然', '社會'])\n",
    "    csvWriter.writerow(['01', 87, 90, 56, 87, 89])\n",
    "    csvWriter.writerow(['02', 98, 56, 78, 90, 49])\n",
    "print(\"程式結束\")\n",
    "    \n"
   ]
  },
  {
   "cell_type": "code",
   "execution_count": 17,
   "metadata": {},
   "outputs": [
    {
     "data": {
      "text/plain": [
       "[1, 2, 3, 4, 5]"
      ]
     },
     "execution_count": 17,
     "metadata": {},
     "output_type": "execute_result"
    }
   ],
   "source": [
    "myList = [1,2,3, 4, 5]\n",
    "myList"
   ]
  },
  {
   "cell_type": "code",
   "execution_count": 18,
   "metadata": {},
   "outputs": [
    {
     "name": "stdout",
     "output_type": "stream",
     "text": [
      "程式結束\n"
     ]
    }
   ],
   "source": [
    "#csv寫人檔案\n",
    "#建立50位學生,每位學生5個分數\n",
    "import random\n",
    "import csv\n",
    "\n",
    "with open('students.csv','w', newline='', encoding='UTF-8') as file:\n",
    "    csvWriter = csv.writer(file)\n",
    "    csvWriter.writerow(['編號', '國文', '英文', '數學', '自然', '社會'])\n",
    "    for i in range(50):\n",
    "        scores = [str(i+1)] #建立一個1元素的list\n",
    "        for _ in range(5):\n",
    "            scores += [random.randint(50,100)]\n",
    "        csvWriter.writerow(scores)\n",
    "print(\"程式結束\")\n",
    "\n",
    "\n"
   ]
  },
  {
   "cell_type": "code",
   "execution_count": 38,
   "metadata": {},
   "outputs": [
    {
     "name": "stdout",
     "output_type": "stream",
     "text": [
      "<class '_csv.reader'>\n",
      "[[1, 90, 63, 86, 98, 72], [2, 62, 76, 50, 87, 97], [3, 63, 79, 76, 66, 64], [4, 94, 68, 51, 98, 66], [5, 72, 92, 87, 67, 57], [6, 50, 63, 94, 70, 57], [7, 64, 83, 70, 53, 75], [8, 56, 96, 88, 99, 67], [9, 75, 84, 66, 64, 57], [10, 81, 90, 77, 90, 71], [11, 86, 85, 75, 93, 67], [12, 92, 85, 71, 57, 62], [13, 57, 84, 66, 68, 68], [14, 100, 60, 72, 87, 87], [15, 81, 68, 96, 80, 56], [16, 73, 55, 60, 88, 63], [17, 89, 52, 54, 87, 75], [18, 92, 86, 77, 66, 91], [19, 81, 82, 60, 81, 89], [20, 100, 89, 60, 57, 80], [21, 78, 87, 70, 94, 91], [22, 56, 51, 75, 90, 78], [23, 67, 97, 68, 55, 76], [24, 56, 78, 96, 89, 75], [25, 69, 67, 95, 75, 52], [26, 88, 59, 64, 87, 65], [27, 86, 64, 97, 81, 67], [28, 92, 91, 87, 58, 99], [29, 99, 99, 93, 69, 96], [30, 54, 97, 58, 98, 100], [31, 64, 55, 83, 73, 59], [32, 58, 72, 69, 91, 61], [33, 76, 96, 76, 80, 95], [34, 85, 53, 85, 80, 77], [35, 96, 56, 100, 61, 96], [36, 96, 88, 65, 81, 53], [37, 100, 72, 57, 86, 88], [38, 50, 98, 79, 96, 86], [39, 92, 52, 63, 98, 85], [40, 76, 91, 58, 74, 91], [41, 98, 96, 84, 61, 62], [42, 59, 82, 96, 77, 94], [43, 54, 52, 56, 70, 93], [44, 53, 85, 92, 69, 50], [45, 53, 63, 75, 77, 90], [46, 82, 51, 95, 64, 80], [47, 63, 71, 81, 90, 95], [48, 57, 99, 68, 96, 87], [49, 65, 96, 59, 68, 89], [50, 95, 100, 99, 65, 94]]\n",
      "請輸入學生編號(1-50):5\n",
      "[5, 72, 92, 87, 67, 57]\n",
      "程式結束\n"
     ]
    }
   ],
   "source": [
    "import csv\n",
    "with open('students.csv','r',encoding='UTF-8') as file:\n",
    "    rows = csv.reader(file) #rows是一個generator\n",
    "    print(rows.__class__)\n",
    "    \n",
    "    #for row in rows:\n",
    "    #   print(row.__class__) #取出的是list物件\n",
    "    studentsList = list(rows)\n",
    "    #print(studentsList)\n",
    "    studentsList.pop(0)\n",
    "    #print(studentsList)\n",
    "    #list(map(int, ['1','2','3'])) #map的使用方法\n",
    "    for index in range(len(studentsList)):\n",
    "        student = studentsList[index]\n",
    "        student = list(map(int, student))\n",
    "        studentsList[index] = student\n",
    "print(studentsList)    \n",
    "studentIndex = int(input('請輸入學生編號(1-50):'))\n",
    "for student in studentsList:\n",
    "    if studentIndex == student[0]:\n",
    "        print(student)\n",
    "        break\n",
    "print(\"程式結束\")\n",
    "    \n",
    "    "
   ]
  },
  {
   "cell_type": "code",
   "execution_count": null,
   "metadata": {},
   "outputs": [],
   "source": []
  }
 ],
 "metadata": {
  "kernelspec": {
   "display_name": "Python 3",
   "language": "python",
   "name": "python3"
  },
  "language_info": {
   "codemirror_mode": {
    "name": "ipython",
    "version": 3
   },
   "file_extension": ".py",
   "mimetype": "text/x-python",
   "name": "python",
   "nbconvert_exporter": "python",
   "pygments_lexer": "ipython3",
   "version": "3.8.3"
  }
 },
 "nbformat": 4,
 "nbformat_minor": 4
}
