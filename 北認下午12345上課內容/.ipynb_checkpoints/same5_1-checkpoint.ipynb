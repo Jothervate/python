{
 "cells": [
  {
   "cell_type": "code",
   "execution_count": null,
   "metadata": {},
   "outputs": [],
   "source": [
    "#請設計一個程式，讓使用者輸入數值，只有加總正偶數值，不加總正奇數值，如果輸入負數，結束程式。\n",
    "num = 0\n",
    "sum = 0\n",
    "whiel(True):\n",
    "    num += 1\n",
    "    inputNum = int(input(\"請輸入第\" + str(num) + \"個數值\"))\n",
    "    if inputNum < 0:\n",
    "        break\n",
    "    elif(inputNum % 2 == 1):\n",
    "        continue\n",
    "    else:\n",
    "        sum += inputNum\n",
    "\n",
    "print(\"所有輸入的正偶數的加總是:\", sum)"
   ]
  }
 ],
 "metadata": {
  "kernelspec": {
   "display_name": "Python 3",
   "language": "python",
   "name": "python3"
  },
  "language_info": {
   "codemirror_mode": {
    "name": "ipython",
    "version": 3
   },
   "file_extension": ".py",
   "mimetype": "text/x-python",
   "name": "python",
   "nbconvert_exporter": "python",
   "pygments_lexer": "ipython3",
   "version": "3.7.3"
  }
 },
 "nbformat": 4,
 "nbformat_minor": 4
}
