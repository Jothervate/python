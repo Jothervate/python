{
 "cells": [
  {
   "cell_type": "code",
   "execution_count": 1,
   "metadata": {},
   "outputs": [
    {
     "data": {
      "text/plain": [
       "{'國文': 89, '英文': 78, '數學': 68, '社會': 98, '自然': 85}"
      ]
     },
     "execution_count": 1,
     "metadata": {},
     "output_type": "execute_result"
    }
   ],
   "source": [
    "scores = {\"國文\":89, \"英文\":78, \"數學\": 68,\"社會\":98,\"自然\":85}\n",
    "scores"
   ]
  },
  {
   "cell_type": "code",
   "execution_count": 2,
   "metadata": {},
   "outputs": [
    {
     "data": {
      "text/plain": [
       "['國文', '英文', '數學', '社會', '自然']"
      ]
     },
     "execution_count": 2,
     "metadata": {},
     "output_type": "execute_result"
    }
   ],
   "source": [
    "subjects = [\"國文\",\"英文\",\"數學\",\"社會\",\"自然\"]\n",
    "subjects"
   ]
  },
  {
   "cell_type": "code",
   "execution_count": 4,
   "metadata": {},
   "outputs": [
    {
     "data": {
      "text/plain": [
       "{'國文': 75, '英文': 86, '數學': 100, '社會': 65, '自然': 90}"
      ]
     },
     "execution_count": 4,
     "metadata": {},
     "output_type": "execute_result"
    }
   ],
   "source": [
    "#先建一個空元素的dictionary\n",
    "import random\n",
    "scores = dict()\n",
    "subjects = [\"國文\",\"英文\",\"數學\",\"社會\",\"自然\"]\n",
    "for subject in subjects:\n",
    "    scores[subject] = random.randint(50, 100)\n",
    "scores"
   ]
  },
  {
   "cell_type": "code",
   "execution_count": 7,
   "metadata": {},
   "outputs": [
    {
     "name": "stdout",
     "output_type": "stream",
     "text": [
      "國文\n",
      "英文\n",
      "數學\n",
      "社會\n",
      "自然\n"
     ]
    }
   ],
   "source": [
    "for key in scores.keys():\n",
    "    print(key)"
   ]
  },
  {
   "cell_type": "code",
   "execution_count": 8,
   "metadata": {},
   "outputs": [
    {
     "data": {
      "text/plain": [
       "dict_values([75, 86, 100, 65, 90])"
      ]
     },
     "execution_count": 8,
     "metadata": {},
     "output_type": "execute_result"
    }
   ],
   "source": [
    "scores.values()"
   ]
  },
  {
   "cell_type": "code",
   "execution_count": 11,
   "metadata": {},
   "outputs": [
    {
     "name": "stdout",
     "output_type": "stream",
     "text": [
      "75\n",
      "86\n",
      "100\n",
      "65\n",
      "90\n"
     ]
    }
   ],
   "source": [
    "for value in scores.values():\n",
    "    print(value)"
   ]
  },
  {
   "cell_type": "code",
   "execution_count": 12,
   "metadata": {},
   "outputs": [
    {
     "data": {
      "text/plain": [
       "dict_items([('國文', 75), ('英文', 86), ('數學', 100), ('社會', 65), ('自然', 90)])"
      ]
     },
     "execution_count": 12,
     "metadata": {},
     "output_type": "execute_result"
    }
   ],
   "source": [
    "scores.items()"
   ]
  },
  {
   "cell_type": "code",
   "execution_count": 13,
   "metadata": {},
   "outputs": [
    {
     "name": "stdout",
     "output_type": "stream",
     "text": [
      "國文 75\n",
      "英文 86\n",
      "數學 100\n",
      "社會 65\n",
      "自然 90\n"
     ]
    }
   ],
   "source": [
    "for (key,value) in scores.items():\n",
    "    print(key, value)"
   ]
  },
  {
   "cell_type": "code",
   "execution_count": 14,
   "metadata": {},
   "outputs": [
    {
     "data": {
      "text/plain": [
       "{'國文': 77, '英文': 70, '數學': 95, '社會': 85, '自然': 88}"
      ]
     },
     "execution_count": 14,
     "metadata": {},
     "output_type": "execute_result"
    }
   ],
   "source": [
    "#建立學生各科的分數的dictionay\n",
    "import random\n",
    "scores = dict()\n",
    "subjects = [\"國文\",\"英文\",\"數學\",\"社會\",\"自然\"]\n",
    "for subject in subjects:\n",
    "    scores[subject] = random.randint(50, 100)\n",
    "scores\n"
   ]
  },
  {
   "cell_type": "code",
   "execution_count": 15,
   "metadata": {},
   "outputs": [
    {
     "data": {
      "text/plain": [
       "[{'國文': 57, '英文': 100, '數學': 84, '社會': 74, '自然': 91},\n",
       " {'國文': 95, '英文': 98, '數學': 75, '社會': 66, '自然': 90},\n",
       " {'國文': 58, '英文': 71, '數學': 96, '社會': 58, '自然': 96},\n",
       " {'國文': 60, '英文': 99, '數學': 61, '社會': 71, '自然': 82},\n",
       " {'國文': 99, '英文': 50, '數學': 84, '社會': 59, '自然': 97},\n",
       " {'國文': 57, '英文': 91, '數學': 86, '社會': 90, '自然': 65},\n",
       " {'國文': 58, '英文': 90, '數學': 73, '社會': 73, '自然': 89},\n",
       " {'國文': 94, '英文': 65, '數學': 55, '社會': 65, '自然': 54},\n",
       " {'國文': 65, '英文': 75, '數學': 55, '社會': 53, '自然': 81},\n",
       " {'國文': 75, '英文': 57, '數學': 100, '社會': 72, '自然': 70},\n",
       " {'國文': 93, '英文': 65, '數學': 56, '社會': 85, '自然': 88},\n",
       " {'國文': 59, '英文': 71, '數學': 66, '社會': 66, '自然': 79},\n",
       " {'國文': 70, '英文': 73, '數學': 81, '社會': 98, '自然': 78},\n",
       " {'國文': 87, '英文': 95, '數學': 88, '社會': 72, '自然': 65},\n",
       " {'國文': 69, '英文': 81, '數學': 70, '社會': 93, '自然': 60},\n",
       " {'國文': 74, '英文': 86, '數學': 63, '社會': 87, '自然': 87},\n",
       " {'國文': 89, '英文': 72, '數學': 88, '社會': 96, '自然': 63},\n",
       " {'國文': 69, '英文': 50, '數學': 67, '社會': 67, '自然': 90},\n",
       " {'國文': 58, '英文': 69, '數學': 64, '社會': 70, '自然': 74},\n",
       " {'國文': 58, '英文': 93, '數學': 81, '社會': 65, '自然': 69},\n",
       " {'國文': 75, '英文': 51, '數學': 54, '社會': 84, '自然': 74},\n",
       " {'國文': 97, '英文': 99, '數學': 95, '社會': 56, '自然': 56},\n",
       " {'國文': 93, '英文': 72, '數學': 72, '社會': 58, '自然': 53},\n",
       " {'國文': 56, '英文': 77, '數學': 74, '社會': 79, '自然': 84},\n",
       " {'國文': 88, '英文': 92, '數學': 55, '社會': 85, '自然': 76},\n",
       " {'國文': 88, '英文': 77, '數學': 76, '社會': 77, '自然': 57},\n",
       " {'國文': 62, '英文': 97, '數學': 77, '社會': 100, '自然': 57},\n",
       " {'國文': 61, '英文': 84, '數學': 98, '社會': 91, '自然': 95},\n",
       " {'國文': 73, '英文': 68, '數學': 98, '社會': 67, '自然': 50},\n",
       " {'國文': 66, '英文': 100, '數學': 71, '社會': 72, '自然': 51},\n",
       " {'國文': 99, '英文': 52, '數學': 83, '社會': 90, '自然': 53},\n",
       " {'國文': 69, '英文': 69, '數學': 54, '社會': 74, '自然': 80},\n",
       " {'國文': 62, '英文': 52, '數學': 56, '社會': 83, '自然': 79},\n",
       " {'國文': 93, '英文': 52, '數學': 93, '社會': 93, '自然': 82},\n",
       " {'國文': 50, '英文': 64, '數學': 77, '社會': 73, '自然': 90},\n",
       " {'國文': 74, '英文': 63, '數學': 53, '社會': 62, '自然': 52},\n",
       " {'國文': 79, '英文': 89, '數學': 51, '社會': 56, '自然': 75},\n",
       " {'國文': 66, '英文': 88, '數學': 61, '社會': 57, '自然': 80},\n",
       " {'國文': 56, '英文': 61, '數學': 69, '社會': 74, '自然': 63},\n",
       " {'國文': 52, '英文': 68, '數學': 62, '社會': 82, '自然': 89},\n",
       " {'國文': 90, '英文': 68, '數學': 59, '社會': 79, '自然': 53},\n",
       " {'國文': 81, '英文': 96, '數學': 66, '社會': 56, '自然': 64},\n",
       " {'國文': 98, '英文': 89, '數學': 93, '社會': 74, '自然': 90},\n",
       " {'國文': 63, '英文': 62, '數學': 82, '社會': 60, '自然': 70},\n",
       " {'國文': 59, '英文': 95, '數學': 78, '社會': 67, '自然': 83},\n",
       " {'國文': 78, '英文': 88, '數學': 66, '社會': 58, '自然': 65},\n",
       " {'國文': 99, '英文': 53, '數學': 52, '社會': 64, '自然': 80},\n",
       " {'國文': 70, '英文': 94, '數學': 95, '社會': 75, '自然': 69},\n",
       " {'國文': 98, '英文': 78, '數學': 96, '社會': 53, '自然': 87},\n",
       " {'國文': 61, '英文': 95, '數學': 80, '社會': 53, '自然': 93}]"
      ]
     },
     "execution_count": 15,
     "metadata": {},
     "output_type": "execute_result"
    }
   ],
   "source": [
    "import random\n",
    "students = list()\n",
    "for _ in range(50):\n",
    "    scores = dict()\n",
    "    subjects = [\"國文\",\"英文\",\"數學\",\"社會\",\"自然\"]\n",
    "    for subject in subjects:\n",
    "        scores[subject] = random.randint(50, 100)\n",
    "    students.append(scores)\n",
    "students"
   ]
  },
  {
   "cell_type": "code",
   "execution_count": null,
   "metadata": {},
   "outputs": [],
   "source": []
  }
 ],
 "metadata": {
  "kernelspec": {
   "display_name": "Python 3",
   "language": "python",
   "name": "python3"
  },
  "language_info": {
   "codemirror_mode": {
    "name": "ipython",
    "version": 3
   },
   "file_extension": ".py",
   "mimetype": "text/x-python",
   "name": "python",
   "nbconvert_exporter": "python",
   "pygments_lexer": "ipython3",
   "version": "3.7.3"
  }
 },
 "nbformat": 4,
 "nbformat_minor": 4
}
