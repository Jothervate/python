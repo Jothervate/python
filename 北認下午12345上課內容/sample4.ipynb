{
 "cells": [
  {
   "cell_type": "code",
   "execution_count": 1,
   "metadata": {},
   "outputs": [
    {
     "name": "stdout",
     "output_type": "stream",
     "text": [
      "Hello! World\n"
     ]
    }
   ],
   "source": [
    "print('Hello! World')"
   ]
  },
  {
   "cell_type": "code",
   "execution_count": 2,
   "metadata": {},
   "outputs": [
    {
     "name": "stdout",
     "output_type": "stream",
     "text": [
      "請輸入購買金額:140000\n",
      "實付金額是: 112000.0 元\n"
     ]
    }
   ],
   "source": [
    "money = int(input(\"請輸入購買金額:\"))\n",
    "if money >= 100000:\n",
    "    payMoney = money * 0.8\n",
    "elif money >= 50000:\n",
    "    payMoney = money * 0.85\n",
    "elif money >= 30000:\n",
    "    payMoney = money * 0.9\n",
    "elif money >= 10000:\n",
    "    payMoney = money * 0.95\n",
    "else:\n",
    "    payMoney = money\n",
    "\n",
    "print(\"實付金額是:\", payMoney, \"元\")"
   ]
  },
  {
   "cell_type": "code",
   "execution_count": 7,
   "metadata": {},
   "outputs": [
    {
     "name": "stdout",
     "output_type": "stream",
     "text": [
      "它是人類\n"
     ]
    }
   ],
   "source": [
    "#巢狀判斷\n",
    "\n",
    "furry = False\n",
    "small = False\n",
    "if furry:\n",
    "    if small:\n",
    "        print(\"它是貓!\")\n",
    "    else:\n",
    "        print(\"它是熊!\")\n",
    "else:\n",
    "    if small:\n",
    "        print(\"它是小蜥蜴\")\n",
    "    else:\n",
    "        print(\"它是人類\")"
   ]
  },
  {
   "cell_type": "code",
   "execution_count": 8,
   "metadata": {},
   "outputs": [
    {
     "name": "stdout",
     "output_type": "stream",
     "text": [
      "它是人類\n"
     ]
    }
   ],
   "source": [
    "#使用邏輯運算子and\n",
    "furry = False\n",
    "small = False\n",
    "if furry==True and small == True:\n",
    "     print(\"它是貓!\")\n",
    "elif furry==True and small == False:\n",
    "    print(\"它是熊!\")\n",
    "elif furry == False and small == True:\n",
    "    print(\"它是小蜥蜴\")\n",
    "else:\n",
    "    print(\"它是人類\")"
   ]
  },
  {
   "cell_type": "code",
   "execution_count": 9,
   "metadata": {},
   "outputs": [
    {
     "name": "stdout",
     "output_type": "stream",
     "text": [
      "ok-1\n"
     ]
    }
   ],
   "source": [
    "#邏輯運算子\n",
    "a = 14\n",
    "if a >=12 and a < 18:\n",
    "    print(\"ok-1\")\n",
    "else:\n",
    "    print(\"cancel-1\")"
   ]
  },
  {
   "cell_type": "code",
   "execution_count": 10,
   "metadata": {},
   "outputs": [
    {
     "name": "stdout",
     "output_type": "stream",
     "text": [
      "ok-1\n"
     ]
    }
   ],
   "source": [
    "a = 14\n",
    "if 12<= a < 18:\n",
    "    print(\"ok-1\")\n",
    "else:\n",
    "    print(\"cancel-1\")"
   ]
  },
  {
   "cell_type": "code",
   "execution_count": 11,
   "metadata": {},
   "outputs": [
    {
     "name": "stdout",
     "output_type": "stream",
     "text": [
      "ok-1\n"
     ]
    }
   ],
   "source": [
    "a = 14\n",
    "if a < 12 or a >= 18:\n",
    "    print(\"cancel-1\")\n",
    "else:\n",
    "    print(\"ok-1\")"
   ]
  },
  {
   "cell_type": "code",
   "execution_count": 14,
   "metadata": {},
   "outputs": [
    {
     "name": "stdout",
     "output_type": "stream",
     "text": [
      "請輸入整數:123\n",
      "3位數以上\n"
     ]
    }
   ],
   "source": [
    "n=int(input(\"請輸入整數:\"))\n",
    "if n > -10 and n < 10:\n",
    "    digit = \"1位數\"\n",
    "elif n > -100 and n < 100:\n",
    "    digit = \"2位數\"\n",
    "else:\n",
    "    digit = \"3位數以上\"\n",
    "print(digit)"
   ]
  },
  {
   "cell_type": "code",
   "execution_count": null,
   "metadata": {},
   "outputs": [],
   "source": []
  }
 ],
 "metadata": {
  "kernelspec": {
   "display_name": "Python 3",
   "language": "python",
   "name": "python3"
  },
  "language_info": {
   "codemirror_mode": {
    "name": "ipython",
    "version": 3
   },
   "file_extension": ".py",
   "mimetype": "text/x-python",
   "name": "python",
   "nbconvert_exporter": "python",
   "pygments_lexer": "ipython3",
   "version": "3.7.3"
  }
 },
 "nbformat": 4,
 "nbformat_minor": 4
}
