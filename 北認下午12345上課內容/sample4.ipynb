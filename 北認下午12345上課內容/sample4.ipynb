{
 "cells": [
  {
   "cell_type": "code",
   "execution_count": 1,
   "metadata": {},
   "outputs": [
    {
     "name": "stdout",
     "output_type": "stream",
     "text": [
      "Hello! World\n"
     ]
    }
   ],
   "source": [
    "print('Hello! World')"
   ]
  },
  {
   "cell_type": "code",
   "execution_count": 2,
   "metadata": {},
   "outputs": [
    {
     "name": "stdout",
     "output_type": "stream",
     "text": [
      "請輸入購買金額:140000\n",
      "實付金額是: 112000.0 元\n"
     ]
    }
   ],
   "source": [
    "money = int(input(\"請輸入購買金額:\"))\n",
    "if money >= 100000:\n",
    "    payMoney = money * 0.8\n",
    "elif money >= 50000:\n",
    "    payMoney = money * 0.85\n",
    "elif money >= 30000:\n",
    "    payMoney = money * 0.9\n",
    "elif money >= 10000:\n",
    "    payMoney = money * 0.95\n",
    "else:\n",
    "    payMoney = money\n",
    "\n",
    "print(\"實付金額是:\", payMoney, \"元\")"
   ]
  },
  {
   "cell_type": "code",
   "execution_count": 7,
   "metadata": {},
   "outputs": [
    {
     "name": "stdout",
     "output_type": "stream",
     "text": [
      "它是人類\n"
     ]
    }
   ],
   "source": [
    "#巢狀判斷\n",
    "\n",
    "furry = False\n",
    "small = False\n",
    "if furry:\n",
    "    if small:\n",
    "        print(\"它是貓!\")\n",
    "    else:\n",
    "        print(\"它是熊!\")\n",
    "else:\n",
    "    if small:\n",
    "        print(\"它是小蜥蜴\")\n",
    "    else:\n",
    "        print(\"它是人類\")"
   ]
  },
  {
   "cell_type": "code",
   "execution_count": 8,
   "metadata": {},
   "outputs": [
    {
     "name": "stdout",
     "output_type": "stream",
     "text": [
      "它是人類\n"
     ]
    }
   ],
   "source": [
    "#使用邏輯運算子and\n",
    "furry = False\n",
    "small = False\n",
    "if furry==True and small == True:\n",
    "     print(\"它是貓!\")\n",
    "elif furry==True and small == False:\n",
    "    print(\"它是熊!\")\n",
    "elif furry == False and small == True:\n",
    "    print(\"它是小蜥蜴\")\n",
    "else:\n",
    "    print(\"它是人類\")"
   ]
  },
  {
   "cell_type": "code",
   "execution_count": 9,
   "metadata": {},
   "outputs": [
    {
     "name": "stdout",
     "output_type": "stream",
     "text": [
      "ok-1\n"
     ]
    }
   ],
   "source": [
    "#邏輯運算子\n",
    "a = 14\n",
    "if a >=12 and a < 18:\n",
    "    print(\"ok-1\")\n",
    "else:\n",
    "    print(\"cancel-1\")"
   ]
  },
  {
   "cell_type": "code",
   "execution_count": 10,
   "metadata": {},
   "outputs": [
    {
     "name": "stdout",
     "output_type": "stream",
     "text": [
      "ok-1\n"
     ]
    }
   ],
   "source": [
    "a = 14\n",
    "if 12<= a < 18:\n",
    "    print(\"ok-1\")\n",
    "else:\n",
    "    print(\"cancel-1\")"
   ]
  },
  {
   "cell_type": "code",
   "execution_count": 11,
   "metadata": {},
   "outputs": [
    {
     "name": "stdout",
     "output_type": "stream",
     "text": [
      "ok-1\n"
     ]
    }
   ],
   "source": [
    "a = 14\n",
    "if a < 12 or a >= 18:\n",
    "    print(\"cancel-1\")\n",
    "else:\n",
    "    print(\"ok-1\")"
   ]
  },
  {
   "cell_type": "code",
   "execution_count": 14,
   "metadata": {},
   "outputs": [
    {
     "name": "stdout",
     "output_type": "stream",
     "text": [
      "請輸入整數:123\n",
      "3位數以上\n"
     ]
    }
   ],
   "source": [
    "n=int(input(\"請輸入整數:\"))\n",
    "if n > -10 and n < 10:\n",
    "    digit = \"1位數\"\n",
    "elif n > -100 and n < 100:\n",
    "    digit = \"2位數\"\n",
    "else:\n",
    "    digit = \"3位數以上\"\n",
    "print(digit)"
   ]
  },
  {
   "cell_type": "code",
   "execution_count": 15,
   "metadata": {},
   "outputs": [
    {
     "name": "stdout",
     "output_type": "stream",
     "text": [
      "6\n",
      "5\n",
      "4\n",
      "3\n",
      "2\n",
      "1\n",
      "離開後a為 0\n"
     ]
    }
   ],
   "source": [
    "a = 6\n",
    "while a > 0:\n",
    "    print(a)\n",
    "    a -= 1\n",
    "print(\"離開後a為\",a)"
   ]
  },
  {
   "cell_type": "code",
   "execution_count": 16,
   "metadata": {},
   "outputs": [
    {
     "name": "stdout",
     "output_type": "stream",
     "text": [
      "第 1.0 次迴圈的i= 2 總合為 2\n",
      "第 2.0 次迴圈的i= 4 總合為 6\n",
      "第 3.0 次迴圈的i= 6 總合為 12\n",
      "第 4.0 次迴圈的i= 8 總合為 20\n",
      "第 5.0 次迴圈的i= 10 總合為 30\n"
     ]
    }
   ],
   "source": [
    "i = 2\n",
    "sum = 0\n",
    "while i <= 10:\n",
    "    sum += i\n",
    "    print(\"第\", i/2, \"次迴圈的i=\",i,\"總合為\", sum)\n",
    "    i += 2\n"
   ]
  },
  {
   "cell_type": "code",
   "execution_count": 18,
   "metadata": {},
   "outputs": [
    {
     "name": "stdout",
     "output_type": "stream",
     "text": [
      "請輸入星期1的支出:657\n",
      "請輸入星期2的支出:456\n",
      "請輸入星期3的支出:789\n",
      "請輸入星期4的支出:456\n",
      "請輸入星期5的支出:345\n",
      "請輸入星期6的支出:234\n",
      "請輸入星期日的支出:987\n",
      "本星期的支出為:3924元\n"
     ]
    }
   ],
   "source": [
    "i = 1\n",
    "sum = 0\n",
    "while(i<=7):\n",
    "    if i == 7:\n",
    "        output = \"請輸入星期日的支出:\"\n",
    "    else:\n",
    "        output = \"請輸入星期\" + str(i) + \"的支出:\"\n",
    "        \n",
    "    n = int(input(output))\n",
    "    sum += n\n",
    "    i += 1\n",
    "print(\"本星期的支出為:\"+str(sum)+\"元\")"
   ]
  },
  {
   "cell_type": "code",
   "execution_count": 19,
   "metadata": {},
   "outputs": [
    {
     "name": "stdout",
     "output_type": "stream",
     "text": [
      "請輸入小寫英文字[按q會離開]:a\n",
      "A\n",
      "請輸入小寫英文字[按q會離開]:b\n",
      "B\n",
      "請輸入小寫英文字[按q會離開]:c\n",
      "C\n",
      "請輸入小寫英文字[按q會離開]:d\n",
      "D\n",
      "請輸入小寫英文字[按q會離開]:e\n",
      "E\n",
      "請輸入小寫英文字[按q會離開]:q\n",
      "程式結束\n"
     ]
    }
   ],
   "source": [
    "while(True):\n",
    "    stuff = input(\"請輸入小寫英文字[按q會離開]:\")\n",
    "    if stuff == 'q':\n",
    "        break\n",
    "    print(stuff.capitalize())\n",
    "print(\"程式結束\")"
   ]
  },
  {
   "cell_type": "code",
   "execution_count": 21,
   "metadata": {},
   "outputs": [
    {
     "name": "stdout",
     "output_type": "stream",
     "text": [
      "請輸入第1學生的成績:78\n",
      "請輸入第2學生的成績:78\n",
      "請輸入第3學生的成績:35\n",
      "請輸入第4學生的成績:98\n",
      "請輸入第5學生的成績:75\n",
      "請輸入第6學生的成績:89\n",
      "請輸入第7學生的成績:38\n",
      "請輸入第8學生的成績:95\n",
      "請輸入第9學生的成績:87\n",
      "請輸入第10學生的成績:89\n",
      "請輸入第11學生的成績:-1\n",
      "全班總成績為: 762 平均分數為: 76.20\n"
     ]
    }
   ],
   "source": [
    "num = 0\n",
    "sum = 0\n",
    "while(True):\n",
    "    num += 1\n",
    "    score = int(input('請輸入第' + str(num) + '學生的成績:'))\n",
    "    if(score < 0):\n",
    "        break\n",
    "    sum += score\n",
    "print(\"全班總成績為:\", sum, \"平均分數為:\", format(sum/(num-1),'.2f'))"
   ]
  },
  {
   "cell_type": "code",
   "execution_count": null,
   "metadata": {},
   "outputs": [],
   "source": []
  }
 ],
 "metadata": {
  "kernelspec": {
   "display_name": "Python 3",
   "language": "python",
   "name": "python3"
  },
  "language_info": {
   "codemirror_mode": {
    "name": "ipython",
    "version": 3
   },
   "file_extension": ".py",
   "mimetype": "text/x-python",
   "name": "python",
   "nbconvert_exporter": "python",
   "pygments_lexer": "ipython3",
   "version": "3.7.3"
  }
 },
 "nbformat": 4,
 "nbformat_minor": 4
}
