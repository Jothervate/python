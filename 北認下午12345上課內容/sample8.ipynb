{
 "cells": [
  {
   "cell_type": "code",
   "execution_count": 2,
   "metadata": {},
   "outputs": [],
   "source": [
    "text = '''\n",
    "python與中文\n",
    "1. 我們來試試看中文儲存能力。\n",
    "2. 許這個字會有編碼衝突風險。\n",
    "3. 犇這個字必須是utf8編碼才有。\n",
    "'''\n",
    "file = open('sample1.txt','w',encoding='utf-8')\n",
    "file.write(text)\n",
    "file.close()"
   ]
  },
  {
   "cell_type": "code",
   "execution_count": 6,
   "metadata": {},
   "outputs": [],
   "source": [
    "#建立50位學生,每位學生5個分數\n",
    "import random\n",
    "\n",
    "students = []\n",
    "for _ in range(50):\n",
    "    scores = [] #建立一個0元素的list\n",
    "    for _ in range(5):\n",
    "        scores += [random.randint(50,100)]\n",
    "    students.append(scores)\n",
    "\n",
    "file = open('students.txt','w',encoding='utf-8')\n",
    "file.write(str(students))\n",
    "file.close()"
   ]
  },
  {
   "cell_type": "code",
   "execution_count": null,
   "metadata": {},
   "outputs": [],
   "source": []
  }
 ],
 "metadata": {
  "kernelspec": {
   "display_name": "Python 3",
   "language": "python",
   "name": "python3"
  },
  "language_info": {
   "codemirror_mode": {
    "name": "ipython",
    "version": 3
   },
   "file_extension": ".py",
   "mimetype": "text/x-python",
   "name": "python",
   "nbconvert_exporter": "python",
   "pygments_lexer": "ipython3",
   "version": "3.7.3"
  }
 },
 "nbformat": 4,
 "nbformat_minor": 4
}
