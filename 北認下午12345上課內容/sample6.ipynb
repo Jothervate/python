{
 "cells": [
  {
   "cell_type": "code",
   "execution_count": 4,
   "metadata": {},
   "outputs": [
    {
     "name": "stdout",
     "output_type": "stream",
     "text": [
      "['one', 'two', 'three', 'four', 'five']\n",
      "('one', 'two', 'three', 'four', 'five')\n"
     ]
    }
   ],
   "source": [
    "#tuple 是用小括號()將元素包起來。\n",
    "#list 是用中括號[]將元素包起來。\n",
    "\n",
    "list_name = ['one', 'two', 'three', 'four', 'five']\n",
    "print(list_name)\n",
    "tuple_name = ('one', 'two', 'three', 'four', 'five')\n",
    "print(tuple_name)"
   ]
  },
  {
   "cell_type": "code",
   "execution_count": 8,
   "metadata": {},
   "outputs": [
    {
     "data": {
      "text/plain": [
       "'five'"
      ]
     },
     "execution_count": 8,
     "metadata": {},
     "output_type": "execute_result"
    }
   ],
   "source": [
    "list_name = ['one', 'two', 'three', 'four', 'five']\n",
    "list_name[4]"
   ]
  },
  {
   "cell_type": "code",
   "execution_count": 9,
   "metadata": {},
   "outputs": [
    {
     "name": "stdout",
     "output_type": "stream",
     "text": [
      "1\n",
      "2\n",
      "3\n",
      "4\n"
     ]
    }
   ],
   "source": [
    "for item in range(1,5):\n",
    "    print(item)"
   ]
  },
  {
   "cell_type": "code",
   "execution_count": 10,
   "metadata": {},
   "outputs": [
    {
     "name": "stdout",
     "output_type": "stream",
     "text": [
      "one\n",
      "two\n",
      "three\n",
      "four\n",
      "five\n"
     ]
    }
   ],
   "source": [
    "for item in list_name:\n",
    "    print(item)"
   ]
  },
  {
   "cell_type": "code",
   "execution_count": 11,
   "metadata": {},
   "outputs": [
    {
     "name": "stdout",
     "output_type": "stream",
     "text": [
      "a\n",
      "b\n",
      "c\n",
      "d\n",
      "e\n",
      "f\n",
      "g\n"
     ]
    }
   ],
   "source": [
    "for item in \"abcdefg\":\n",
    "    print(item)"
   ]
  },
  {
   "cell_type": "code",
   "execution_count": 12,
   "metadata": {},
   "outputs": [
    {
     "name": "stdout",
     "output_type": "stream",
     "text": [
      "one\n",
      "two\n",
      "three\n",
      "four\n",
      "five\n"
     ]
    }
   ],
   "source": [
    "for item in tuple_name:\n",
    "    print(item)"
   ]
  },
  {
   "cell_type": "code",
   "execution_count": 24,
   "metadata": {},
   "outputs": [
    {
     "name": "stdout",
     "output_type": "stream",
     "text": [
      "學生: 1\n",
      "[65, 83, 89, 77, 60]\n",
      "總分為: 374 平均為: 74.8\n",
      "\n",
      "學生: 2\n",
      "[62, 54, 65, 81, 94]\n",
      "總分為: 356 平均為: 71.2\n",
      "\n",
      "學生: 3\n",
      "[70, 64, 97, 80, 98]\n",
      "總分為: 409 平均為: 81.8\n",
      "\n",
      "學生: 4\n",
      "[86, 76, 56, 64, 51]\n",
      "總分為: 333 平均為: 66.6\n",
      "\n",
      "學生: 5\n",
      "[53, 77, 77, 72, 97]\n",
      "總分為: 376 平均為: 75.2\n",
      "\n",
      "學生: 6\n",
      "[86, 82, 89, 56, 86]\n",
      "總分為: 399 平均為: 79.8\n",
      "\n",
      "學生: 7\n",
      "[81, 60, 59, 98, 63]\n",
      "總分為: 361 平均為: 72.2\n",
      "\n",
      "學生: 8\n",
      "[80, 98, 75, 73, 55]\n",
      "總分為: 381 平均為: 76.2\n",
      "\n",
      "學生: 9\n",
      "[54, 83, 95, 71, 51]\n",
      "總分為: 354 平均為: 70.8\n",
      "\n",
      "學生: 10\n",
      "[99, 52, 60, 60, 61]\n",
      "總分為: 332 平均為: 66.4\n",
      "\n",
      "學生: 11\n",
      "[77, 80, 50, 97, 56]\n",
      "總分為: 360 平均為: 72.0\n",
      "\n",
      "學生: 12\n",
      "[53, 80, 93, 72, 51]\n",
      "總分為: 349 平均為: 69.8\n",
      "\n",
      "學生: 13\n",
      "[100, 72, 79, 72, 86]\n",
      "總分為: 409 平均為: 81.8\n",
      "\n",
      "學生: 14\n",
      "[76, 60, 98, 64, 99]\n",
      "總分為: 397 平均為: 79.4\n",
      "\n",
      "學生: 15\n",
      "[51, 96, 70, 69, 89]\n",
      "總分為: 375 平均為: 75.0\n",
      "\n",
      "學生: 16\n",
      "[91, 67, 69, 73, 60]\n",
      "總分為: 360 平均為: 72.0\n",
      "\n",
      "學生: 17\n",
      "[74, 100, 56, 70, 57]\n",
      "總分為: 357 平均為: 71.4\n",
      "\n",
      "學生: 18\n",
      "[70, 62, 61, 97, 79]\n",
      "總分為: 369 平均為: 73.8\n",
      "\n",
      "學生: 19\n",
      "[72, 54, 86, 67, 81]\n",
      "總分為: 360 平均為: 72.0\n",
      "\n",
      "學生: 20\n",
      "[93, 67, 100, 67, 79]\n",
      "總分為: 406 平均為: 81.2\n",
      "\n",
      "學生: 21\n",
      "[84, 84, 75, 54, 81]\n",
      "總分為: 378 平均為: 75.6\n",
      "\n",
      "學生: 22\n",
      "[84, 98, 90, 71, 54]\n",
      "總分為: 397 平均為: 79.4\n",
      "\n",
      "學生: 23\n",
      "[82, 50, 81, 74, 65]\n",
      "總分為: 352 平均為: 70.4\n",
      "\n",
      "學生: 24\n",
      "[93, 100, 86, 58, 51]\n",
      "總分為: 388 平均為: 77.6\n",
      "\n",
      "學生: 25\n",
      "[92, 84, 61, 66, 62]\n",
      "總分為: 365 平均為: 73.0\n",
      "\n",
      "學生: 26\n",
      "[62, 60, 94, 84, 60]\n",
      "總分為: 360 平均為: 72.0\n",
      "\n",
      "學生: 27\n",
      "[60, 76, 79, 52, 53]\n",
      "總分為: 320 平均為: 64.0\n",
      "\n",
      "學生: 28\n",
      "[58, 96, 60, 76, 59]\n",
      "總分為: 349 平均為: 69.8\n",
      "\n",
      "學生: 29\n",
      "[79, 69, 93, 57, 89]\n",
      "總分為: 387 平均為: 77.4\n",
      "\n",
      "學生: 30\n",
      "[91, 68, 77, 54, 69]\n",
      "總分為: 359 平均為: 71.8\n",
      "\n",
      "學生: 31\n",
      "[70, 98, 57, 69, 86]\n",
      "總分為: 380 平均為: 76.0\n",
      "\n",
      "學生: 32\n",
      "[98, 91, 67, 77, 78]\n",
      "總分為: 411 平均為: 82.2\n",
      "\n",
      "學生: 33\n",
      "[67, 78, 58, 53, 89]\n",
      "總分為: 345 平均為: 69.0\n",
      "\n",
      "學生: 34\n",
      "[57, 63, 67, 67, 58]\n",
      "總分為: 312 平均為: 62.4\n",
      "\n",
      "學生: 35\n",
      "[62, 55, 80, 96, 95]\n",
      "總分為: 388 平均為: 77.6\n",
      "\n",
      "學生: 36\n",
      "[58, 89, 64, 79, 75]\n",
      "總分為: 365 平均為: 73.0\n",
      "\n",
      "學生: 37\n",
      "[56, 72, 68, 79, 88]\n",
      "總分為: 363 平均為: 72.6\n",
      "\n",
      "學生: 38\n",
      "[78, 52, 56, 96, 70]\n",
      "總分為: 352 平均為: 70.4\n",
      "\n",
      "學生: 39\n",
      "[77, 76, 60, 60, 52]\n",
      "總分為: 325 平均為: 65.0\n",
      "\n",
      "學生: 40\n",
      "[83, 65, 52, 56, 67]\n",
      "總分為: 323 平均為: 64.6\n",
      "\n",
      "學生: 41\n",
      "[70, 78, 66, 58, 99]\n",
      "總分為: 371 平均為: 74.2\n",
      "\n",
      "學生: 42\n",
      "[61, 57, 54, 62, 50]\n",
      "總分為: 284 平均為: 56.8\n",
      "\n",
      "學生: 43\n",
      "[67, 71, 88, 79, 60]\n",
      "總分為: 365 平均為: 73.0\n",
      "\n",
      "學生: 44\n",
      "[67, 90, 56, 66, 71]\n",
      "總分為: 350 平均為: 70.0\n",
      "\n",
      "學生: 45\n",
      "[100, 52, 71, 56, 73]\n",
      "總分為: 352 平均為: 70.4\n",
      "\n",
      "學生: 46\n",
      "[70, 63, 72, 60, 62]\n",
      "總分為: 327 平均為: 65.4\n",
      "\n",
      "學生: 47\n",
      "[76, 57, 95, 81, 95]\n",
      "總分為: 404 平均為: 80.8\n",
      "\n",
      "學生: 48\n",
      "[91, 93, 64, 58, 67]\n",
      "總分為: 373 平均為: 74.6\n",
      "\n",
      "學生: 49\n",
      "[66, 61, 99, 87, 81]\n",
      "總分為: 394 平均為: 78.8\n",
      "\n",
      "學生: 50\n",
      "[64, 52, 75, 95, 51]\n",
      "總分為: 337 平均為: 67.4\n",
      "\n"
     ]
    }
   ],
   "source": [
    "import random\n",
    "\n",
    "students = []\n",
    "for _ in range(50):\n",
    "    scores = [] #建立一個0元素的list\n",
    "    for _ in range(5):\n",
    "        scores += [random.randint(50,100)]\n",
    "    students.append(scores)\n",
    "\n",
    "studentId=0\n",
    "for stu in students:\n",
    "    studentId += 1\n",
    "    print(\"學生:\",studentId)\n",
    "    print(stu)\n",
    "    sum = 0\n",
    "    for score in stu:\n",
    "        sum += score\n",
    "    print(\"總分為:\", sum,\"平均為:\",sum/5)\n",
    "    print()"
   ]
  },
  {
   "cell_type": "code",
   "execution_count": null,
   "metadata": {},
   "outputs": [],
   "source": []
  }
 ],
 "metadata": {
  "kernelspec": {
   "display_name": "Python 3",
   "language": "python",
   "name": "python3"
  },
  "language_info": {
   "codemirror_mode": {
    "name": "ipython",
    "version": 3
   },
   "file_extension": ".py",
   "mimetype": "text/x-python",
   "name": "python",
   "nbconvert_exporter": "python",
   "pygments_lexer": "ipython3",
   "version": "3.7.3"
  }
 },
 "nbformat": 4,
 "nbformat_minor": 4
}
