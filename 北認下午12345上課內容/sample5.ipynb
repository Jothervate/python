{
 "cells": [
  {
   "cell_type": "code",
   "execution_count": 2,
   "metadata": {},
   "outputs": [
    {
     "name": "stdout",
     "output_type": "stream",
     "text": [
      "請輸入整數,輸入[q]離開:q\n",
      "程式結束\n"
     ]
    }
   ],
   "source": [
    "while True:\n",
    "    value = input(\"請輸入整數,輸入[q]離開:\")\n",
    "    if value == 'q':\n",
    "        break\n",
    "    number = int(value)\n",
    "    if number % 2 == 0:\n",
    "        continue\n",
    "    print(number, \"平方是\", number ** 2)\n",
    "print(\"程式結束\")"
   ]
  },
  {
   "cell_type": "code",
   "execution_count": 3,
   "metadata": {},
   "outputs": [
    {
     "name": "stdout",
     "output_type": "stream",
     "text": [
      "請輸入第1個月份的存款:5678\n",
      "請輸入第2個月份的存款:3456\n",
      "請輸入第3個月份的存款:2345\n",
      "請輸入第4個月份的存款:5678\n",
      "請輸入第5個月份的存款:2345\n",
      "請輸入第6個月份的存款:5678\n",
      "請輸入第7個月份的存款:4567\n",
      "請輸入第8個月份的存款:9876\n",
      "恭喜!已經存夠了，存了 8 個月的總存款為: 39623 元。\n"
     ]
    }
   ],
   "source": [
    "#小明想要存錢買一輛機車,機車每輛30000元，他將每月存的錢輸入，當存款足夠買機車時，就顯示提示訊息告知。\n",
    "deposit = 0\n",
    "num = 0\n",
    "while(deposit < 30000):\n",
    "    num += 1\n",
    "    inputNum = int(input(\"請輸入第\" + str(num) + \"個月份的存款:\"))\n",
    "    deposit += inputNum\n",
    "\n",
    "print(\"恭喜!已經存夠了，存了\", num , \"個月的總存款為:\",deposit, \"元。\")"
   ]
  },
  {
   "cell_type": "code",
   "execution_count": 12,
   "metadata": {},
   "outputs": [
    {
     "name": "stdout",
     "output_type": "stream",
     "text": [
      "=============猜數字遊戲==================\n",
      "\n",
      "猜數字範圍1~100:50\n",
      "再小一點\n",
      "您猜了1次\n",
      "\n",
      "猜數字範圍1~50:25\n",
      "再小一點\n",
      "您猜了2次\n",
      "\n",
      "猜數字範圍1~25:12\n",
      "再大一點\n",
      "您猜了3次\n",
      "\n",
      "猜數字範圍12~25:20\n",
      "再大一點\n",
      "您猜了4次\n",
      "\n",
      "猜數字範圍20~25:24\n",
      "賓果!猜對了, 答案是:24\n",
      "妳猜了5次\n"
     ]
    }
   ],
   "source": [
    "import random\n",
    "\n",
    "min = 1\n",
    "max = 100\n",
    "count = 0\n",
    "target = random.randint(min,max)\n",
    "print(\"=============猜數字遊戲==================\\n\")\n",
    "while(True):\n",
    "    count += 1\n",
    "    keyin = int(input(\"猜數字範圍{0:d}~{1:d}:\".format(min,max)))\n",
    "    if keyin >= min and keyin <= max:\n",
    "        if(keyin == target):\n",
    "            print(\"賓果!猜對了, 答案是:%d\" % target)\n",
    "            print(\"妳猜了%d次\" % count)\n",
    "            break\n",
    "        elif(keyin > target):\n",
    "            max = keyin\n",
    "            print(\"再小一點\")\n",
    "        elif(keyin < target):\n",
    "            min = keyin\n",
    "            print(\"再大一點\")\n",
    "        print(\"您猜了%d次\\n\" % count)\n",
    "    else:\n",
    "        print(\"請輸入提示範圍內的數字\")"
   ]
  },
  {
   "cell_type": "code",
   "execution_count": 16,
   "metadata": {},
   "outputs": [
    {
     "name": "stdout",
     "output_type": "stream",
     "text": [
      "2\n",
      "4\n",
      "6\n",
      "8\n"
     ]
    }
   ],
   "source": [
    "for x in range(2,10,2):\n",
    "    print(x)"
   ]
  },
  {
   "cell_type": "code",
   "execution_count": null,
   "metadata": {},
   "outputs": [],
   "source": [
    "sum = 0\n",
    "students = 5\n",
    "for i in range(students):\n",
    "    studentScore=int(input('請輸入第{:d}位學生的成績:'.format(i+1)))\n",
    "    sum += studentScore\n",
    "avg = sum/students\n",
    "print(\"全班總成績為:{0:d}分,平均分數為{0:.2f}分\".format(sum, avg))"
   ]
  },
  {
   "cell_type": "code",
   "execution_count": null,
   "metadata": {},
   "outputs": [],
   "source": []
  }
 ],
 "metadata": {
  "kernelspec": {
   "display_name": "Python 3",
   "language": "python",
   "name": "python3"
  },
  "language_info": {
   "codemirror_mode": {
    "name": "ipython",
    "version": 3
   },
   "file_extension": ".py",
   "mimetype": "text/x-python",
   "name": "python",
   "nbconvert_exporter": "python",
   "pygments_lexer": "ipython3",
   "version": "3.7.3"
  }
 },
 "nbformat": 4,
 "nbformat_minor": 4
}
