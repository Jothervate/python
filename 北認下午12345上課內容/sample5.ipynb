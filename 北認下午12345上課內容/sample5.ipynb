{
 "cells": [
  {
   "cell_type": "code",
   "execution_count": 2,
   "metadata": {},
   "outputs": [
    {
     "name": "stdout",
     "output_type": "stream",
     "text": [
      "請輸入整數,輸入[q]離開:q\n",
      "程式結束\n"
     ]
    }
   ],
   "source": [
    "while True:\n",
    "    value = input(\"請輸入整數,輸入[q]離開:\")\n",
    "    if value == 'q':\n",
    "        break\n",
    "    number = int(value)\n",
    "    if number % 2 == 0:\n",
    "        continue\n",
    "    print(number, \"平方是\", number ** 2)\n",
    "print(\"程式結束\")"
   ]
  },
  {
   "cell_type": "code",
   "execution_count": 3,
   "metadata": {},
   "outputs": [
    {
     "name": "stdout",
     "output_type": "stream",
     "text": [
      "請輸入第1個月份的存款:5678\n",
      "請輸入第2個月份的存款:3456\n",
      "請輸入第3個月份的存款:2345\n",
      "請輸入第4個月份的存款:5678\n",
      "請輸入第5個月份的存款:2345\n",
      "請輸入第6個月份的存款:5678\n",
      "請輸入第7個月份的存款:4567\n",
      "請輸入第8個月份的存款:9876\n",
      "恭喜!已經存夠了，存了 8 個月的總存款為: 39623 元。\n"
     ]
    }
   ],
   "source": [
    "#小明想要存錢買一輛機車,機車每輛30000元，他將每月存的錢輸入，當存款足夠買機車時，就顯示提示訊息告知。\n",
    "deposit = 0\n",
    "num = 0\n",
    "while(deposit < 30000):\n",
    "    num += 1\n",
    "    inputNum = int(input(\"請輸入第\" + str(num) + \"個月份的存款:\"))\n",
    "    deposit += inputNum\n",
    "\n",
    "print(\"恭喜!已經存夠了，存了\", num , \"個月的總存款為:\",deposit, \"元。\")"
   ]
  },
  {
   "cell_type": "code",
   "execution_count": 11,
   "metadata": {},
   "outputs": [
    {
     "name": "stdout",
     "output_type": "stream",
     "text": [
      "=============猜數字遊戲==================\n",
      "\n",
      "猜數字範圍1~100:50\n",
      "再大一點\n",
      "您猜了 1 次\n",
      "\n",
      "猜數字範圍50~100:75\n",
      "再大一點\n",
      "您猜了 2 次\n",
      "\n",
      "猜數字範圍75~100:89\n",
      "再小一點\n",
      "您猜了 3 次\n",
      "\n",
      "猜數字範圍75~89:84\n",
      "再大一點\n",
      "您猜了 4 次\n",
      "\n",
      "猜數字範圍84~89:86\n",
      "再大一點\n",
      "您猜了 5 次\n",
      "\n",
      "猜數字範圍86~89:87\n",
      "賓果!猜對了, 答案是:87\n",
      "妳猜了 6 次\n"
     ]
    }
   ],
   "source": [
    "import random\n",
    "\n",
    "min = 1\n",
    "max = 100\n",
    "count = 0\n",
    "target = random.randint(min,max)\n",
    "print(\"=============猜數字遊戲==================\\n\")\n",
    "while(True):\n",
    "    count += 1\n",
    "    keyin = int(input(\"猜數字範圍\" + str(min) + \"~\" + str(max) + \":\"))\n",
    "    if keyin >= min and keyin <= max:\n",
    "        if(keyin == target):\n",
    "            print(\"賓果!猜對了, 答案是:\" + str(target))\n",
    "            print(\"妳猜了\",count,\"次\")\n",
    "            break\n",
    "        elif(keyin > target):\n",
    "            max = keyin\n",
    "            print(\"再小一點\")\n",
    "        elif(keyin < target):\n",
    "            min = keyin\n",
    "            print(\"再大一點\")\n",
    "        print(\"您猜了\", count, \"次\\n\")\n",
    "    else:\n",
    "        print(\"請輸入提示範圍內的數字\")"
   ]
  },
  {
   "cell_type": "code",
   "execution_count": null,
   "metadata": {},
   "outputs": [],
   "source": []
  }
 ],
 "metadata": {
  "kernelspec": {
   "display_name": "Python 3",
   "language": "python",
   "name": "python3"
  },
  "language_info": {
   "codemirror_mode": {
    "name": "ipython",
    "version": 3
   },
   "file_extension": ".py",
   "mimetype": "text/x-python",
   "name": "python",
   "nbconvert_exporter": "python",
   "pygments_lexer": "ipython3",
   "version": "3.7.3"
  }
 },
 "nbformat": 4,
 "nbformat_minor": 4
}
