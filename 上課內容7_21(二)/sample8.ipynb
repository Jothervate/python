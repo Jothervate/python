{
 "cells": [
  {
   "cell_type": "code",
   "execution_count": 1,
   "metadata": {},
   "outputs": [
    {
     "data": {
      "text/plain": [
       "'snap'"
      ]
     },
     "execution_count": 1,
     "metadata": {},
     "output_type": "execute_result"
    }
   ],
   "source": [
    "'snap'"
   ]
  },
  {
   "cell_type": "code",
   "execution_count": 2,
   "metadata": {},
   "outputs": [
    {
     "data": {
      "text/plain": [
       "'Crackle'"
      ]
     },
     "execution_count": 2,
     "metadata": {},
     "output_type": "execute_result"
    }
   ],
   "source": [
    "\"Crackle\""
   ]
  },
  {
   "cell_type": "code",
   "execution_count": 6,
   "metadata": {},
   "outputs": [
    {
     "name": "stdout",
     "output_type": "stream",
     "text": [
      "美國認定字節跳動旗下的TikTok對國家構成資安威脅，\n",
      "總統川普稍早也向記者表示，最快能在明（美國時間1日）禁止平台\n",
      "在美國營運，不過根據最新消息，微軟正在洽談收購TikTok的相關事宜\n",
      "，若能順利買下，就可能扭轉局勢，讓全美手機用戶都能繼續使用TikTok。\n",
      "綜合外媒報導，川普稍早在空軍一號上向記\n",
      "者說：「就TikTok而言，我們將會禁止它在美國營運。」他也\n",
      "表示，自己有權利動用行政命令，最快能在週六禁止這家中資公司在美國運作。\n"
     ]
    }
   ],
   "source": [
    "words = \"\"\"美國認定字節跳動旗下的TikTok對國家構成資安威脅，\n",
    "總統川普稍早也向記者表示，最快能在明（美國時間1日）禁止平台\n",
    "在美國營運，不過根據最新消息，微軟正在洽談收購TikTok的相關事宜\n",
    "，若能順利買下，就可能扭轉局勢，讓全美手機用戶都能繼續使用TikTok。\n",
    "綜合外媒報導，川普稍早在空軍一號上向記\n",
    "者說：「就TikTok而言，我們將會禁止它在美國營運。」他也\n",
    "表示，自己有權利動用行政命令，最快能在週六禁止這家中資公司在美國運作。\"\"\"\n",
    "print(words)"
   ]
  },
  {
   "cell_type": "code",
   "execution_count": 7,
   "metadata": {},
   "outputs": [
    {
     "name": "stdout",
     "output_type": "stream",
     "text": [
      "美國認定字節跳動旗下的TikTok對國家構成資安威脅，\n",
      "總統川普稍早也向記者表示，最快能在明（美國時間1日）禁止平台\n",
      "在美國營運，不過根據最新消息，微軟正在洽談收購TikTok的相關事宜\n",
      "，若能順利買下，就可能扭轉局勢，讓全美手機用戶都能繼續使用TikTok。\n",
      "綜合外媒報導，川普稍早在空軍一號上向記\n",
      "者說：「就TikTok而言，我們將會禁止它在美國營運。」他也\n",
      "表示，自己有權利動用行政命令，最快能在週六禁止這家中資公司在美國運作。\n"
     ]
    }
   ],
   "source": [
    "words = '''美國認定字節跳動旗下的TikTok對國家構成資安威脅，\n",
    "總統川普稍早也向記者表示，最快能在明（美國時間1日）禁止平台\n",
    "在美國營運，不過根據最新消息，微軟正在洽談收購TikTok的相關事宜\n",
    "，若能順利買下，就可能扭轉局勢，讓全美手機用戶都能繼續使用TikTok。\n",
    "綜合外媒報導，川普稍早在空軍一號上向記\n",
    "者說：「就TikTok而言，我們將會禁止它在美國營運。」他也\n",
    "表示，自己有權利動用行政命令，最快能在週六禁止這家中資公司在美國運作。'''\n",
    "print(words)"
   ]
  },
  {
   "cell_type": "code",
   "execution_count": 8,
   "metadata": {},
   "outputs": [
    {
     "name": "stdout",
     "output_type": "stream",
     "text": [
      "美國認定字節跳動旗下的TikTok對國家構成資安威脅，總統川普稍早也向記者表示，最快能在明（美國時間1日）禁止平台在美國營運，不過根據最新消息，微軟正在洽談收購TikTok的相關事宜，若能順利買下，就可能扭轉局勢，讓全美手機用戶都能繼續使用TikTok。綜合外媒報導，川普稍早在空軍一號上向記者說：「就TikTok而言，我們將會禁止它在美國營運。」他也表示，自己有權利動用行政命令，最快能在週六禁止這家中資公司在美國運作。\n"
     ]
    }
   ],
   "source": [
    "#連結字串\n",
    "line = \"美國認定字節跳動旗下的TikTok對國家構成資安威脅，\\\n",
    "總統川普稍早也向記者表示，最快能在明（美國時間1日）禁止平台\\\n",
    "在美國營運，不過根據最新消息，微軟正在洽談收購TikTok的相關事宜\\\n",
    "，若能順利買下，就可能扭轉局勢，讓全美手機用戶都能繼續使用TikTok。\\\n",
    "綜合外媒報導，川普稍早在空軍一號上向記\\\n",
    "者說：「就TikTok而言，我們將會禁止它在美國營運。」他也\\\n",
    "表示，自己有權利動用行政命令，最快能在週六禁止這家中資公司在美國運作。\"\n",
    "print(line)"
   ]
  },
  {
   "cell_type": "code",
   "execution_count": 9,
   "metadata": {},
   "outputs": [
    {
     "data": {
      "text/plain": [
       "'現在剩餘的瓶數:99'"
      ]
     },
     "execution_count": 9,
     "metadata": {},
     "output_type": "execute_result"
    }
   ],
   "source": [
    "#字串利用加法的串接\n",
    "bottles = 99\n",
    "base = ''\n",
    "base += '現在剩餘的瓶數:'\n",
    "base = base + str(bottles)\n",
    "base"
   ]
  },
  {
   "cell_type": "code",
   "execution_count": 10,
   "metadata": {},
   "outputs": [
    {
     "data": {
      "text/plain": [
       "'98.6'"
      ]
     },
     "execution_count": 10,
     "metadata": {},
     "output_type": "execute_result"
    }
   ],
   "source": [
    "#使用str()轉換為字串型別\n",
    "str(98.6)"
   ]
  },
  {
   "cell_type": "code",
   "execution_count": 11,
   "metadata": {},
   "outputs": [
    {
     "data": {
      "text/plain": [
       "'10000.0'"
      ]
     },
     "execution_count": 11,
     "metadata": {},
     "output_type": "execute_result"
    }
   ],
   "source": [
    "str(1.0e4)"
   ]
  },
  {
   "cell_type": "code",
   "execution_count": 12,
   "metadata": {},
   "outputs": [
    {
     "data": {
      "text/plain": [
       "'True'"
      ]
     },
     "execution_count": 12,
     "metadata": {},
     "output_type": "execute_result"
    }
   ],
   "source": [
    "str(True)"
   ]
  },
  {
   "cell_type": "code",
   "execution_count": 15,
   "metadata": {},
   "outputs": [
    {
     "name": "stdout",
     "output_type": "stream",
     "text": [
      "A man,\n",
      "A play\tA canal:\n",
      "Panama.\n"
     ]
    }
   ],
   "source": [
    "palindrome = 'A man,\\nA play\\tA canal:\\nPanama.'\n",
    "print(palindrome)"
   ]
  },
  {
   "cell_type": "code",
   "execution_count": 18,
   "metadata": {},
   "outputs": [
    {
     "name": "stdout",
     "output_type": "stream",
     "text": [
      "Hello \"python\"\n"
     ]
    }
   ],
   "source": [
    "testimony = \"Hello \\\"python\\\"\"\n",
    "print(testimony)"
   ]
  },
  {
   "cell_type": "code",
   "execution_count": 19,
   "metadata": {},
   "outputs": [
    {
     "name": "stdout",
     "output_type": "stream",
     "text": [
      "Hello 'python'\n"
     ]
    }
   ],
   "source": [
    "testimony = \"Hello 'python'\"\n",
    "print(testimony)"
   ]
  },
  {
   "cell_type": "code",
   "execution_count": 20,
   "metadata": {},
   "outputs": [
    {
     "data": {
      "text/plain": [
       "26"
      ]
     },
     "execution_count": 20,
     "metadata": {},
     "output_type": "execute_result"
    }
   ],
   "source": [
    "letters = 'abcdefghijklmnopqrstuvwxyz'\n",
    "len(letters)"
   ]
  },
  {
   "cell_type": "code",
   "execution_count": null,
   "metadata": {},
   "outputs": [],
   "source": []
  }
 ],
 "metadata": {
  "kernelspec": {
   "display_name": "Python 3",
   "language": "python",
   "name": "python3"
  },
  "language_info": {
   "codemirror_mode": {
    "name": "ipython",
    "version": 3
   },
   "file_extension": ".py",
   "mimetype": "text/x-python",
   "name": "python",
   "nbconvert_exporter": "python",
   "pygments_lexer": "ipython3",
   "version": "3.7.4"
  }
 },
 "nbformat": 4,
 "nbformat_minor": 2
}
