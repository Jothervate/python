{
 "cells": [
  {
   "cell_type": "code",
   "execution_count": 1,
   "metadata": {},
   "outputs": [
    {
     "name": "stdout",
     "output_type": "stream",
     "text": [
      "False\n"
     ]
    }
   ],
   "source": [
    "datas = [0, 1, 2, 3, 4, 5, 6]\n",
    "print(7 in datas)"
   ]
  },
  {
   "cell_type": "code",
   "execution_count": 2,
   "metadata": {},
   "outputs": [
    {
     "name": "stdout",
     "output_type": "stream",
     "text": [
      "False\n",
      "False\n",
      "True\n",
      "True\n"
     ]
    }
   ],
   "source": [
    "#請問下列程式碼執行的結果為何？\n",
    "list1 = ['a', 'b', 'c', 'd']\n",
    "list2 = ['A', 'B', 'C', 'D']\n",
    "print(list1 is list2)\n",
    "print(list1 == list2)\n",
    "list1 = list2\n",
    "print(list1 is list2)\n",
    "print(list1 == list2)"
   ]
  },
  {
   "cell_type": "code",
   "execution_count": 4,
   "metadata": {},
   "outputs": [
    {
     "name": "stdout",
     "output_type": "stream",
     "text": [
      "請輸入第一個數字：45\n",
      "請輸入第二個數字：45\n",
      "二個數字相等\n",
      "第一個數字較小\n"
     ]
    }
   ],
   "source": [
    "num1 = eval(input(\"請輸入第一個數字：\"))\n",
    "num2 = eval(input(\"請輸入第二個數字：\"))\n",
    "\n",
    "if num1 == num2:\n",
    "    print(\"二個數字相等\")\n",
    "    \n",
    "if num1 <= num2:\n",
    "    print(\"第一個數字較小\")\n",
    "    \n",
    "if num1 > num2:\n",
    "    print(\"第一個數字較大\")\n",
    "    \n",
    "#if num2 = num1:\n",
    "#    print(\"二個數字相等\")\n"
   ]
  },
  {
   "cell_type": "code",
   "execution_count": 9,
   "metadata": {},
   "outputs": [
    {
     "name": "stdout",
     "output_type": "stream",
     "text": [
      "請輸入分數55\n",
      "成績等級為： 丁\n"
     ]
    }
   ],
   "source": [
    "score = int(input(\"請輸入分數\"))\n",
    "if score >= 90:\n",
    "    grade = '優'\n",
    "elif score >= 80:\n",
    "    grade = '甲'\n",
    "elif score >= 70:\n",
    "    grade = '乙'\n",
    "elif score >= 60:\n",
    "    grade = '丙'\n",
    "else:\n",
    "    grade = '丁'\n",
    "    \n",
    "print(\"成績等級為：\", grade)\n"
   ]
  },
  {
   "cell_type": "code",
   "execution_count": 13,
   "metadata": {},
   "outputs": [
    {
     "name": "stdout",
     "output_type": "stream",
     "text": [
      "普遍級\n",
      "普遍級\n",
      "輔導級\n",
      "限制級\n"
     ]
    }
   ],
   "source": [
    "def movie(age=None):\n",
    "    rating = \"\"\n",
    "    if age == None: rating = \"普遍級\"\n",
    "    elif age < 13: rating = \"普遍級\"\n",
    "    elif age < 18: rating = \"輔導級\"\n",
    "    else: rating = \"限制級\"\n",
    "    return rating\n",
    "    \n",
    "print(movie())\n",
    "print(movie(12))\n",
    "print(movie(16))\n",
    "print(movie(19))"
   ]
  },
  {
   "cell_type": "code",
   "execution_count": 16,
   "metadata": {},
   "outputs": [
    {
     "name": "stdout",
     "output_type": "stream",
     "text": [
      "1.174618943088019\n",
      "-1.174618943088019\n",
      "虛數\n"
     ]
    }
   ],
   "source": [
    "def get_root(x, y):\n",
    "    if x >= 0:\n",
    "        root = x ** (1 / y)\n",
    "    else:\n",
    "        if x % 2 == 0:\n",
    "            root = \"虛數\"\n",
    "        else:\n",
    "            root = -(-x) ** (1 / y)\n",
    "    \n",
    "    return root\n",
    "\n",
    "print(get_root(5, 10))\n",
    "print(get_root(-5,10))\n",
    "print(get_root(-6,10))"
   ]
  },
  {
   "cell_type": "code",
   "execution_count": 22,
   "metadata": {},
   "outputs": [
    {
     "name": "stdout",
     "output_type": "stream",
     "text": [
      "0\n",
      "100\n",
      "200\n",
      "300\n"
     ]
    }
   ],
   "source": [
    "def price(age, locate):\n",
    "    money = 0\n",
    "    if age >= 5 and locate == True:\n",
    "        money = 100\n",
    "    elif age >= 5 and locate == False:\n",
    "        if age <= 17:\n",
    "            money = 200\n",
    "        else:\n",
    "            money = 300\n",
    "    \n",
    "    return money\n",
    "\n",
    "print(price(3, False))\n",
    "print(price(10, True))\n",
    "print(price(5, False))\n",
    "print(price(18, False))"
   ]
  },
  {
   "cell_type": "code",
   "execution_count": 23,
   "metadata": {},
   "outputs": [
    {
     "name": "stdout",
     "output_type": "stream",
     "text": [
      "請輸入整數：45\n",
      "45 是 二位數\n"
     ]
    }
   ],
   "source": [
    "#下列為檢查輸入整數位數的程式碼，請回答以下問題來完成程式：\n",
    "\n",
    "n = int(input(\"請輸入整數：\"))\n",
    "\n",
    "if n > -10 and n < 10:\n",
    "    digit = \"一\"\n",
    "elif n > -100 and n < 100:\n",
    "    digit = \"二\"\n",
    "else:\n",
    "    digit = \"大於二\"\n",
    "\n",
    "print(n,\"是\" ,digit + \"位數\")"
   ]
  },
  {
   "cell_type": "code",
   "execution_count": 26,
   "metadata": {},
   "outputs": [
    {
     "name": "stdout",
     "output_type": "stream",
     "text": [
      "猜 1 到 20 的整數，猜錯4次結束程式！\n",
      "請輸入1 ~ 20的整數：10\n",
      "太小了！\n",
      "請輸入1 ~ 20的整數：5\n",
      "太小了！\n",
      "請輸入1 ~ 20的整數：3\n",
      "太小了！\n",
      "請輸入1 ~ 20的整數：15\n",
      "太大了！\n"
     ]
    }
   ],
   "source": [
    "#下列為猜1到20亂數整數的程式碼，猜對就結束程式, 猜錯就顯示訊息最多可以猜4次。\n",
    "#請用代碼填入以下問題來完成程式：\n",
    "\n",
    "from random import randint\n",
    "\n",
    "ans = randint(1, 20)\n",
    "times = 1\n",
    "print(\"猜 1 到 20 的整數，猜錯4次結束程式！\")\n",
    "while times <= 4:\n",
    "    guess = int(input(\"請輸入1 ~ 20的整數：\"))\n",
    "    if guess > ans:\n",
    "        print(\"太大了！\")\n",
    "    elif guess < ans:\n",
    "        print(\"太小了！\")\n",
    "    else:\n",
    "        print(\"答對了！\")\n",
    "        break\n",
    "\n",
    "    times +=1\n",
    "print('程式結束')"
   ]
  },
  {
   "cell_type": "code",
   "execution_count": null,
   "metadata": {},
   "outputs": [],
   "source": [
    "#7.請用代碼填入以下問題來完成程式：\n",
    "list1 = [1, 2, 3, 4]\n",
    "list2 = [\"1\", \"2\", \"3\", \"4\"]\n",
    "if list1 == list2:\n",
    "    print(\"兩個串列的值相同\")\n",
    "else:\n",
    "    print(\"兩個串列的值不相同\")"
   ]
  }
 ],
 "metadata": {
  "kernelspec": {
   "display_name": "Python 3",
   "language": "python",
   "name": "python3"
  },
  "language_info": {
   "codemirror_mode": {
    "name": "ipython",
    "version": 3
   },
   "file_extension": ".py",
   "mimetype": "text/x-python",
   "name": "python",
   "nbconvert_exporter": "python",
   "pygments_lexer": "ipython3",
   "version": "3.7.4"
  }
 },
 "nbformat": 4,
 "nbformat_minor": 2
}
