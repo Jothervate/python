{
 "cells": [
  {
   "cell_type": "code",
   "execution_count": 4,
   "metadata": {},
   "outputs": [
    {
     "name": "stdout",
     "output_type": "stream",
     "text": [
      "2,3,5,7,11,13,17,19,23,29,31,37,41,43,47,53,59,61,67,71,73,79,83,89,97,"
     ]
    }
   ],
   "source": [
    "num = 2\n",
    "while num < 51:\n",
    "    flag = True    \n",
    "    for i in range(2, num):\n",
    "        #i除數\n",
    "        if num % i == 0:\n",
    "            flag = False\n",
    "            break\n",
    "        \n",
    "    if flag == True:\n",
    "        print(num, end=',')\n",
    "    num = num + 1"
   ]
  },
  {
   "cell_type": "code",
   "execution_count": 5,
   "metadata": {},
   "outputs": [],
   "source": [
    "def find_book(books, title):\n",
    "    for i in range(len(books)):\n",
    "        if books[i] == title:\n",
    "            print(\"{0}在書庫中!\".format(title))\n",
    "            break;\n",
    "        else:\n",
    "            print(\"{0}不在書庫中!\".format(title))"
   ]
  },
  {
   "cell_type": "code",
   "execution_count": null,
   "metadata": {},
   "outputs": [],
   "source": [
    "tel = \"0000-000-000\"\n",
    "s = \"\"\n",
    "while tel != \"\":\n",
    "    flag = False\n",
    "    tel = input(\"請輸入行動電話號碼(格式為 0000-000-000)：\")\n",
    "    s = tel.split('-')"
   ]
  }
 ],
 "metadata": {
  "kernelspec": {
   "display_name": "Python 3",
   "language": "python",
   "name": "python3"
  },
  "language_info": {
   "codemirror_mode": {
    "name": "ipython",
    "version": 3
   },
   "file_extension": ".py",
   "mimetype": "text/x-python",
   "name": "python",
   "nbconvert_exporter": "python",
   "pygments_lexer": "ipython3",
   "version": "3.7.4"
  }
 },
 "nbformat": 4,
 "nbformat_minor": 2
}
