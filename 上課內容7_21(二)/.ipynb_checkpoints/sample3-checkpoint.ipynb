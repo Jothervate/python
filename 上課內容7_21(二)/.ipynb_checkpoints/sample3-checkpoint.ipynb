{
 "cells": [
  {
   "cell_type": "code",
   "execution_count": 13,
   "metadata": {},
   "outputs": [
    {
     "name": "stdout",
     "output_type": "stream",
     "text": [
      "徐國堂:國文分數是87,英文分數是67,數學分數是98\n"
     ]
    }
   ],
   "source": [
    "name = '徐國堂'\n",
    "chinese = 87\n",
    "english = 67\n",
    "math = 98\n",
    "summary = ''\n",
    "print(summary + name + ':國文分數是' + str(chinese) + ',英文分數是' + str(english) + ',數學分數是' + str(math))"
   ]
  },
  {
   "cell_type": "code",
   "execution_count": null,
   "metadata": {},
   "outputs": [],
   "source": []
  }
 ],
 "metadata": {
  "kernelspec": {
   "display_name": "Python 3",
   "language": "python",
   "name": "python3"
  },
  "language_info": {
   "codemirror_mode": {
    "name": "ipython",
    "version": 3
   },
   "file_extension": ".py",
   "mimetype": "text/x-python",
   "name": "python",
   "nbconvert_exporter": "python",
   "pygments_lexer": "ipython3",
   "version": "3.7.4"
  }
 },
 "nbformat": 4,
 "nbformat_minor": 2
}
