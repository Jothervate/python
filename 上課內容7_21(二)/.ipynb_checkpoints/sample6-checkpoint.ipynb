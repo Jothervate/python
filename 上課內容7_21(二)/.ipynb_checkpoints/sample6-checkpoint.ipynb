{
 "cells": [
  {
   "cell_type": "code",
   "execution_count": null,
   "metadata": {},
   "outputs": [],
   "source": [
    "for i in range(5):\n",
    "    print(i)\n",
    "print('程式結束')"
   ]
  },
  {
   "cell_type": "code",
   "execution_count": null,
   "metadata": {},
   "outputs": [],
   "source": [
    "a = 0\n",
    "while a<5:\n",
    "    print(a)\n",
    "    a += 1\n",
    "print('程式結束')"
   ]
  },
  {
   "cell_type": "code",
   "execution_count": null,
   "metadata": {},
   "outputs": [],
   "source": [
    "a = 15 \n",
    "while a > 0:\n",
    "    print(a) \n",
    "    a -= 2"
   ]
  },
  {
   "cell_type": "code",
   "execution_count": null,
   "metadata": {},
   "outputs": [],
   "source": [
    "#while\n",
    "i = 2\n",
    "sum = 0\n",
    "while(i <= 10):\n",
    "    sum += i\n",
    "    print(\"第%d次迴圈的i=%d,總和為%d\" % (i//2,i,sum))\n",
    "    i += 2\n"
   ]
  },
  {
   "cell_type": "code",
   "execution_count": null,
   "metadata": {},
   "outputs": [],
   "source": [
    "while(True):\n",
    "    stuff = input('請輸入小寫英文字[按q會離開]:')\n",
    "    if stuff == 'q':\n",
    "        break\n",
    "    print(stuff.capitalize())\n",
    "    \n",
    "print('程式結束')"
   ]
  },
  {
   "cell_type": "code",
   "execution_count": null,
   "metadata": {},
   "outputs": [],
   "source": [
    "#break\n",
    "#contiune\n",
    "\n",
    "while True:\n",
    "    value = input('請輸入整數,輸入[q]離開:')\n",
    "    if value == 'q':\n",
    "        break\n",
    "    number = int(value)\n",
    "    if number % 2 == 0:\n",
    "        continue\n",
    "    print(\"%d的平方是%d\" % (number,number**2))\n",
    "print(\"程式結束\")   "
   ]
  },
  {
   "cell_type": "code",
   "execution_count": 19,
   "metadata": {},
   "outputs": [
    {
     "name": "stdout",
     "output_type": "stream",
     "text": [
      "91\n",
      "92\n",
      "99\n",
      "95\n",
      "100\n",
      "92\n",
      "92\n",
      "96\n",
      "92\n",
      "97\n",
      "95\n",
      "99\n",
      "91\n",
      "98\n",
      "92\n",
      "92\n",
      "99\n",
      "95\n",
      "98\n",
      "97\n",
      "94\n",
      "98\n",
      "99\n",
      "92\n",
      "99\n",
      "94\n",
      "99\n",
      "94\n",
      "97\n",
      "93\n",
      "100\n",
      "94\n",
      "92\n",
      "91\n",
      "97\n",
      "93\n",
      "98\n",
      "93\n",
      "92\n",
      "100\n",
      "100\n",
      "98\n",
      "99\n",
      "93\n",
      "95\n",
      "100\n",
      "98\n",
      "100\n",
      "99\n",
      "95\n",
      "100\n",
      "95\n",
      "93\n",
      "99\n",
      "97\n",
      "100\n",
      "94\n",
      "99\n",
      "100\n",
      "93\n",
      "94\n",
      "91\n",
      "97\n",
      "100\n",
      "97\n",
      "91\n",
      "95\n",
      "97\n",
      "94\n",
      "90\n",
      "90\n",
      "93\n",
      "94\n",
      "100\n",
      "90\n",
      "97\n",
      "100\n",
      "100\n",
      "95\n",
      "96\n",
      "90\n",
      "99\n",
      "92\n",
      "93\n",
      "90\n",
      "98\n",
      "97\n",
      "96\n",
      "97\n",
      "93\n",
      "97\n",
      "98\n",
      "90\n",
      "90\n",
      "99\n",
      "100\n",
      "96\n",
      "91\n",
      "96\n",
      "100\n"
     ]
    }
   ],
   "source": [
    "import random\n",
    "\n",
    "for i in range(100):\n",
    "    print(random.randint(1,100))"
   ]
  },
  {
   "cell_type": "code",
   "execution_count": null,
   "metadata": {},
   "outputs": [],
   "source": []
  }
 ],
 "metadata": {
  "kernelspec": {
   "display_name": "Python 3",
   "language": "python",
   "name": "python3"
  },
  "language_info": {
   "codemirror_mode": {
    "name": "ipython",
    "version": 3
   },
   "file_extension": ".py",
   "mimetype": "text/x-python",
   "name": "python",
   "nbconvert_exporter": "python",
   "pygments_lexer": "ipython3",
   "version": "3.7.4"
  }
 },
 "nbformat": 4,
 "nbformat_minor": 2
}
