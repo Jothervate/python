{
 "cells": [
  {
   "cell_type": "code",
   "execution_count": 12,
   "metadata": {},
   "outputs": [
    {
     "name": "stdout",
     "output_type": "stream",
     "text": [
      "ABCDEFGHIJKLMNOPQRSTUVWXYZ\n",
      "ZYXWVUTSRQPONMLKJIHGFEDCBA\n",
      "DEFGHIJKLMNO\n",
      "DGJM\n",
      "\n",
      "PMJG\n",
      "\n",
      "ZWTQNKHEB\n"
     ]
    }
   ],
   "source": [
    "#如果word = 'ABCDEFGHIJKLMNOPQRSTUVWXYZ' 時，請用代碼填入下列分割操作的結果：\n",
    "\n",
    "word = 'ABCDEFGHIJKLMNOPQRSTUVWXYZ'\n",
    "print(word[:])\n",
    "print(word[::-1])\n",
    "print(word[3:15])\n",
    "print(word[3:15:3])\n",
    "print(word[3:15:-3])\n",
    "print(word[15:3:-3])\n",
    "print(word[15:3])\n",
    "print(word[::-3])"
   ]
  },
  {
   "cell_type": "code",
   "execution_count": 15,
   "metadata": {},
   "outputs": [
    {
     "data": {
      "text/plain": [
       "['student1',\n",
       " 'student2',\n",
       " 'student3',\n",
       " 'student4',\n",
       " 'student5',\n",
       " 'student6',\n",
       " 'student7',\n",
       " 'student8',\n",
       " 'student9',\n",
       " 'student10',\n",
       " 'student11',\n",
       " 'student12',\n",
       " 'student13',\n",
       " 'student14',\n",
       " 'student15',\n",
       " 'student16',\n",
       " 'student17',\n",
       " 'student18',\n",
       " 'student19',\n",
       " 'student20',\n",
       " 'student21',\n",
       " 'student22',\n",
       " 'student23',\n",
       " 'student24',\n",
       " 'student25',\n",
       " 'student26',\n",
       " 'student27',\n",
       " 'student28',\n",
       " 'student29',\n",
       " 'student30',\n",
       " 'student31',\n",
       " 'student32',\n",
       " 'student33',\n",
       " 'student34',\n",
       " 'student35',\n",
       " 'student36',\n",
       " 'student37',\n",
       " 'student38',\n",
       " 'student39',\n",
       " 'student40',\n",
       " 'student41',\n",
       " 'student42',\n",
       " 'student43',\n",
       " 'student44',\n",
       " 'student45',\n",
       " 'student46',\n",
       " 'student47',\n",
       " 'student48',\n",
       " 'student49',\n",
       " 'student50',\n",
       " 'student51',\n",
       " 'student52',\n",
       " 'student53',\n",
       " 'student54',\n",
       " 'student55',\n",
       " 'student56',\n",
       " 'student57',\n",
       " 'student58',\n",
       " 'student59',\n",
       " 'student60',\n",
       " 'student61',\n",
       " 'student62',\n",
       " 'student63',\n",
       " 'student64',\n",
       " 'student65',\n",
       " 'student66',\n",
       " 'student67',\n",
       " 'student68',\n",
       " 'student69',\n",
       " 'student70',\n",
       " 'student71',\n",
       " 'student72',\n",
       " 'student73',\n",
       " 'student74',\n",
       " 'student75',\n",
       " 'student76',\n",
       " 'student77',\n",
       " 'student78',\n",
       " 'student79',\n",
       " 'student80',\n",
       " 'student81',\n",
       " 'student82',\n",
       " 'student83',\n",
       " 'student84',\n",
       " 'student85',\n",
       " 'student86',\n",
       " 'student87',\n",
       " 'student88',\n",
       " 'student89',\n",
       " 'student90',\n",
       " 'student91',\n",
       " 'student92',\n",
       " 'student93',\n",
       " 'student94',\n",
       " 'student95',\n",
       " 'student96',\n",
       " 'student97',\n",
       " 'student98',\n",
       " 'student99',\n",
       " 'student100']"
      ]
     },
     "execution_count": 15,
     "metadata": {},
     "output_type": "execute_result"
    }
   ],
   "source": [
    "#14.students 串列(清單)包含 100 位學生的姓名，最後15位為轉出學生。如果要分割串列顯示目前在校學生，請問可以使用下列哪兩個指令？\n",
    "students = []\n",
    "for i in range(1,101):\n",
    "    students.append('student'+str(i))\n",
    "students"
   ]
  },
  {
   "cell_type": "code",
   "execution_count": null,
   "metadata": {},
   "outputs": [],
   "source": []
  }
 ],
 "metadata": {
  "kernelspec": {
   "display_name": "Python 3",
   "language": "python",
   "name": "python3"
  },
  "language_info": {
   "codemirror_mode": {
    "name": "ipython",
    "version": 3
   },
   "file_extension": ".py",
   "mimetype": "text/x-python",
   "name": "python",
   "nbconvert_exporter": "python",
   "pygments_lexer": "ipython3",
   "version": "3.7.4"
  }
 },
 "nbformat": 4,
 "nbformat_minor": 2
}
