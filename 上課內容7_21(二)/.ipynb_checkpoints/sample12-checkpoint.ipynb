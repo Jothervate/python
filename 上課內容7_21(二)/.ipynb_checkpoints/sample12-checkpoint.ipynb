{
 "cells": [
  {
   "cell_type": "code",
   "execution_count": 2,
   "metadata": {},
   "outputs": [
    {
     "name": "stdout",
     "output_type": "stream",
     "text": [
      "請輸入攝氏溫度:29\n",
      "華氏溫度= 84.2\n"
     ]
    }
   ],
   "source": [
    "def temperature(value):\n",
    "    return 1.8 * value + 32\n",
    "\n",
    "inputNum = int(input('請輸入攝氏溫度:'))\n",
    "result = temperature(inputNum)\n",
    "print('華氏溫度=',result)"
   ]
  },
  {
   "cell_type": "code",
   "execution_count": 3,
   "metadata": {},
   "outputs": [
    {
     "name": "stdout",
     "output_type": "stream",
     "text": [
      "呼叫function\n"
     ]
    }
   ],
   "source": [
    "#自訂函數沒有參數也沒有傳回值\n",
    "def func_sum():\n",
    "    print('呼叫function')\n",
    "\n",
    "func_sum()"
   ]
  },
  {
   "cell_type": "code",
   "execution_count": 4,
   "metadata": {},
   "outputs": [],
   "source": [
    "def do_nothing():\n",
    "  pass\n",
    "\n",
    "do_nothing()"
   ]
  },
  {
   "cell_type": "code",
   "execution_count": 6,
   "metadata": {},
   "outputs": [
    {
     "name": "stdout",
     "output_type": "stream",
     "text": [
      "8\n"
     ]
    }
   ],
   "source": [
    "#自訂函數有接收沒傳回\n",
    "def func_sum(a, b):\n",
    "    c = a + b\n",
    "    print(c)\n",
    "\n",
    "func_sum(3, 5)"
   ]
  },
  {
   "cell_type": "code",
   "execution_count": 8,
   "metadata": {},
   "outputs": [
    {
     "data": {
      "text/plain": [
       "8"
      ]
     },
     "execution_count": 8,
     "metadata": {},
     "output_type": "execute_result"
    }
   ],
   "source": [
    "#自訂函數有接收有傳回\n",
    "def func_sum(a, b):\n",
    "    c = a + b\n",
    "    return c\n",
    "\n",
    "result=func_sum(3, 5)\n",
    "result"
   ]
  },
  {
   "cell_type": "code",
   "execution_count": 11,
   "metadata": {},
   "outputs": [
    {
     "name": "stdout",
     "output_type": "stream",
     "text": [
      "1\n",
      "2\n",
      "3\n",
      "4\n"
     ]
    }
   ],
   "source": [
    "def func_a():\n",
    "    return (1, 2, 3, 4)\n",
    "#temp = func_a()\n",
    "\n",
    "(a, b, c, d) = func_a()\n",
    "print(a)\n",
    "print(b)\n",
    "print(c)\n",
    "print(d)"
   ]
  },
  {
   "cell_type": "code",
   "execution_count": 14,
   "metadata": {},
   "outputs": [
    {
     "name": "stdout",
     "output_type": "stream",
     "text": [
      "函數外1: 5\n",
      "函數內1: 10\n"
     ]
    }
   ],
   "source": [
    "a = 5\n",
    "def func_sum():\n",
    "    a = 10\n",
    "    print(\"函數內1:\",a)\n",
    "    return()\n",
    "\n",
    "print(\"函數外1:\", a)\n",
    "func_sum()"
   ]
  },
  {
   "cell_type": "code",
   "execution_count": 16,
   "metadata": {},
   "outputs": [
    {
     "name": "stdout",
     "output_type": "stream",
     "text": [
      "9\n"
     ]
    }
   ],
   "source": [
    "a=3\n",
    "def func_sum( ):\n",
    "\ta=7 \n",
    "\ta=a+6 \n",
    "\t \n",
    "\treturn( )\n",
    "\t\n",
    "a += 6 \n",
    "func_sum( )\n",
    "print(a)"
   ]
  },
  {
   "cell_type": "code",
   "execution_count": 20,
   "metadata": {},
   "outputs": [
    {
     "name": "stdout",
     "output_type": "stream",
     "text": [
      "出錯了\n",
      "程式結束\n"
     ]
    }
   ],
   "source": [
    "#try....except\n",
    "try:\n",
    "    short_list = [1, 2, 3]\n",
    "    short_list[5]\n",
    "except:\n",
    "    print(\"出錯了\")\n",
    "print(\"程式結束\")"
   ]
  },
  {
   "cell_type": "code",
   "execution_count": null,
   "metadata": {},
   "outputs": [],
   "source": []
  }
 ],
 "metadata": {
  "kernelspec": {
   "display_name": "Python 3",
   "language": "python",
   "name": "python3"
  },
  "language_info": {
   "codemirror_mode": {
    "name": "ipython",
    "version": 3
   },
   "file_extension": ".py",
   "mimetype": "text/x-python",
   "name": "python",
   "nbconvert_exporter": "python",
   "pygments_lexer": "ipython3",
   "version": "3.7.4"
  }
 },
 "nbformat": 4,
 "nbformat_minor": 2
}
