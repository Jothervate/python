{
 "cells": [
  {
   "cell_type": "code",
   "execution_count": 2,
   "metadata": {},
   "outputs": [
    {
     "name": "stdout",
     "output_type": "stream",
     "text": [
      "請輸入攝氏溫度:29\n",
      "華氏溫度= 84.2\n"
     ]
    }
   ],
   "source": [
    "def temperature(value):\n",
    "    return 1.8 * value + 32\n",
    "\n",
    "inputNum = int(input('請輸入攝氏溫度:'))\n",
    "result = temperature(inputNum)\n",
    "print('華氏溫度=',result)"
   ]
  },
  {
   "cell_type": "code",
   "execution_count": 3,
   "metadata": {},
   "outputs": [
    {
     "name": "stdout",
     "output_type": "stream",
     "text": [
      "呼叫function\n"
     ]
    }
   ],
   "source": [
    "#自訂函數沒有參數也沒有傳回值\n",
    "def func_sum():\n",
    "    print('呼叫function')\n",
    "\n",
    "func_sum()"
   ]
  },
  {
   "cell_type": "code",
   "execution_count": 4,
   "metadata": {},
   "outputs": [],
   "source": [
    "def do_nothing():\n",
    "  pass\n",
    "\n",
    "do_nothing()"
   ]
  },
  {
   "cell_type": "code",
   "execution_count": 6,
   "metadata": {},
   "outputs": [
    {
     "name": "stdout",
     "output_type": "stream",
     "text": [
      "8\n"
     ]
    }
   ],
   "source": [
    "#自訂函數有接收沒傳回\n",
    "def func_sum(a, b):\n",
    "    c = a + b\n",
    "    print(c)\n",
    "\n",
    "func_sum(3, 5)"
   ]
  },
  {
   "cell_type": "code",
   "execution_count": 8,
   "metadata": {},
   "outputs": [
    {
     "data": {
      "text/plain": [
       "8"
      ]
     },
     "execution_count": 8,
     "metadata": {},
     "output_type": "execute_result"
    }
   ],
   "source": [
    "#自訂函數有接收有傳回\n",
    "def func_sum(a, b):\n",
    "    c = a + b\n",
    "    return c\n",
    "\n",
    "result=func_sum(3, 5)\n",
    "result"
   ]
  },
  {
   "cell_type": "code",
   "execution_count": 11,
   "metadata": {},
   "outputs": [
    {
     "name": "stdout",
     "output_type": "stream",
     "text": [
      "1\n",
      "2\n",
      "3\n",
      "4\n"
     ]
    }
   ],
   "source": [
    "def func_a():\n",
    "    return (1, 2, 3, 4)\n",
    "#temp = func_a()\n",
    "\n",
    "(a, b, c, d) = func_a()\n",
    "print(a)\n",
    "print(b)\n",
    "print(c)\n",
    "print(d)"
   ]
  },
  {
   "cell_type": "code",
   "execution_count": null,
   "metadata": {},
   "outputs": [],
   "source": []
  }
 ],
 "metadata": {
  "kernelspec": {
   "display_name": "Python 3",
   "language": "python",
   "name": "python3"
  },
  "language_info": {
   "codemirror_mode": {
    "name": "ipython",
    "version": 3
   },
   "file_extension": ".py",
   "mimetype": "text/x-python",
   "name": "python",
   "nbconvert_exporter": "python",
   "pygments_lexer": "ipython3",
   "version": "3.7.4"
  }
 },
 "nbformat": 4,
 "nbformat_minor": 2
}
