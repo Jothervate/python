{
 "cells": [
  {
   "cell_type": "code",
   "execution_count": 18,
   "metadata": {},
   "outputs": [
    {
     "name": "stdout",
     "output_type": "stream",
     "text": [
      "徐國堂:\n",
      "國文分數是87\n",
      "英文分數是67\n",
      "數學分數是98\n"
     ]
    }
   ],
   "source": [
    "name = '徐國堂'\n",
    "chinese = 87\n",
    "english = 67\n",
    "math = 98\n",
    "summary = name + ':\\n國文分數是' + str(chinese) + \"\\n英文分數是\" + str(english) + '\\n數學分數是' + str(math)\n",
    "print(summary)"
   ]
  },
  {
   "cell_type": "code",
   "execution_count": 3,
   "metadata": {},
   "outputs": [
    {
     "name": "stdout",
     "output_type": "stream",
     "text": [
      "請輸入整數a:6789\n",
      "請輸入整數b:4567\n",
      "a+b= 11356\n"
     ]
    }
   ],
   "source": [
    "a = int(input(\"請輸入整數a:\"))\n",
    "b = int(input('請輸入整數b:'))\n",
    "print(\"a+b=\", a+b)"
   ]
  },
  {
   "cell_type": "code",
   "execution_count": 5,
   "metadata": {},
   "outputs": [
    {
     "name": "stdout",
     "output_type": "stream",
     "text": [
      "請輸入正方形的邊長:45\n",
      "正方形的面積是 2025\n"
     ]
    }
   ],
   "source": [
    "size = int(input(\"請輸入正方形的邊長:\"))\n",
    "print(\"正方形的面積是\", size * size)"
   ]
  },
  {
   "cell_type": "code",
   "execution_count": null,
   "metadata": {},
   "outputs": [],
   "source": []
  }
 ],
 "metadata": {
  "kernelspec": {
   "display_name": "Python 3",
   "language": "python",
   "name": "python3"
  },
  "language_info": {
   "codemirror_mode": {
    "name": "ipython",
    "version": 3
   },
   "file_extension": ".py",
   "mimetype": "text/x-python",
   "name": "python",
   "nbconvert_exporter": "python",
   "pygments_lexer": "ipython3",
   "version": "3.7.4"
  }
 },
 "nbformat": 4,
 "nbformat_minor": 2
}
