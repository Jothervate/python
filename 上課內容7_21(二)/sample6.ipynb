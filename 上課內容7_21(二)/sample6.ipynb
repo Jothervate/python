{
 "cells": [
  {
   "cell_type": "code",
   "execution_count": null,
   "metadata": {},
   "outputs": [],
   "source": [
    "for i in range(5):\n",
    "    print(i)\n",
    "print('程式結束')"
   ]
  },
  {
   "cell_type": "code",
   "execution_count": null,
   "metadata": {},
   "outputs": [],
   "source": [
    "a = 0\n",
    "while a<5:\n",
    "    print(a)\n",
    "    a += 1\n",
    "print('程式結束')"
   ]
  },
  {
   "cell_type": "code",
   "execution_count": null,
   "metadata": {},
   "outputs": [],
   "source": [
    "a = 15 \n",
    "while a > 0:\n",
    "    print(a) \n",
    "    a -= 2"
   ]
  },
  {
   "cell_type": "code",
   "execution_count": null,
   "metadata": {},
   "outputs": [],
   "source": [
    "#while\n",
    "i = 2\n",
    "sum = 0\n",
    "while(i <= 10):\n",
    "    sum += i\n",
    "    print(\"第%d次迴圈的i=%d,總和為%d\" % (i//2,i,sum))\n",
    "    i += 2\n"
   ]
  },
  {
   "cell_type": "code",
   "execution_count": null,
   "metadata": {},
   "outputs": [],
   "source": [
    "while(True):\n",
    "    stuff = input('請輸入小寫英文字[按q會離開]:')\n",
    "    if stuff == 'q':\n",
    "        break\n",
    "    print(stuff.capitalize())\n",
    "    \n",
    "print('程式結束')"
   ]
  },
  {
   "cell_type": "code",
   "execution_count": null,
   "metadata": {},
   "outputs": [],
   "source": [
    "#break\n",
    "#contiune\n",
    "\n",
    "while True:\n",
    "    value = input('請輸入整數,輸入[q]離開:')\n",
    "    if value == 'q':\n",
    "        break\n",
    "    number = int(value)\n",
    "    if number % 2 == 0:\n",
    "        continue\n",
    "    print(\"%d的平方是%d\" % (number,number**2))\n",
    "print(\"程式結束\")   "
   ]
  },
  {
   "cell_type": "code",
   "execution_count": 2,
   "metadata": {},
   "outputs": [
    {
     "name": "stdout",
     "output_type": "stream",
     "text": [
      "===============猜數字遊戲=================:\n",
      "\n",
      "猜數字的範圍1~100:50\n",
      "再大一點\n",
      "您猜了1幾次\n",
      "猜數字的範圍50~100:75\n",
      "再大一點\n",
      "您猜了2幾次\n",
      "猜數字的範圍75~100:95\n",
      "再小一點\n",
      "您猜了3幾次\n",
      "猜數字的範圍75~95:80\n",
      "再大一點\n",
      "您猜了4幾次\n",
      "猜數字的範圍80~95:90\n",
      "再大一點\n",
      "您猜了5幾次\n",
      "猜數字的範圍90~95:93\n",
      "再小一點\n",
      "您猜了6幾次\n",
      "猜數字的範圍90~93:92\n",
      "再小一點\n",
      "您猜了7幾次\n",
      "猜數字的範圍90~92:91\n",
      "賓果!猜對了, 答案是:91\n",
      "您猜了8幾次\n",
      "遊戲結束\n"
     ]
    }
   ],
   "source": [
    "import random\n",
    "min=1\n",
    "max=100\n",
    "target = random.randint(min, max)\n",
    "count = 0\n",
    "print(\"===============猜數字遊戲=================:\\n\")\n",
    "while(True):\n",
    "    count += 1\n",
    "    keyin = int(input(\"猜數字的範圍%d~%d:\" % (min, max)))\n",
    "    if keyin == target:\n",
    "        print(\"賓果!猜對了, 答案是:%d\" % target)\n",
    "        print(\"您猜了%d幾次\" % count)\n",
    "        break\n",
    "    elif (keyin > target):\n",
    "        max = keyin\n",
    "        print(\"再小一點\")\n",
    "    elif (keyin < target):\n",
    "        min = keyin\n",
    "        print(\"再大一點\")\n",
    "    print(\"您猜了%d幾次\" % count)\n",
    "    \n",
    "print(\"遊戲結束\")       "
   ]
  },
  {
   "cell_type": "code",
   "execution_count": null,
   "metadata": {},
   "outputs": [],
   "source": []
  }
 ],
 "metadata": {
  "kernelspec": {
   "display_name": "Python 3",
   "language": "python",
   "name": "python3"
  },
  "language_info": {
   "codemirror_mode": {
    "name": "ipython",
    "version": 3
   },
   "file_extension": ".py",
   "mimetype": "text/x-python",
   "name": "python",
   "nbconvert_exporter": "python",
   "pygments_lexer": "ipython3",
   "version": "3.7.4"
  }
 },
 "nbformat": 4,
 "nbformat_minor": 2
}
