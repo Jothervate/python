{
 "cells": [
  {
   "cell_type": "code",
   "execution_count": 7,
   "metadata": {},
   "outputs": [
    {
     "name": "stdout",
     "output_type": "stream",
     "text": [
      "請輸入整數a:10\n",
      "10\n",
      "請輸入整數b:20\n",
      "20\n"
     ]
    },
    {
     "data": {
      "text/plain": [
       "30"
      ]
     },
     "execution_count": 7,
     "metadata": {},
     "output_type": "execute_result"
    }
   ],
   "source": [
    "a = input(\"請輸入整數a:\")\n",
    "print(a)\n",
    "b = input(\"請輸入整數b:\")\n",
    "print(b)\n",
    "c = int(a) + int(b)\n",
    "c"
   ]
  },
  {
   "cell_type": "code",
   "execution_count": 8,
   "metadata": {},
   "outputs": [
    {
     "name": "stdout",
     "output_type": "stream",
     "text": [
      "請輸入整數a:10\n",
      "請輸入整數b:20\n"
     ]
    },
    {
     "data": {
      "text/plain": [
       "30"
      ]
     },
     "execution_count": 8,
     "metadata": {},
     "output_type": "execute_result"
    }
   ],
   "source": [
    "a = int(input(\"請輸入整數a:\"))\n",
    "b = int(input(\"請輸入整數b:\"))\n",
    "c = a + b\n",
    "c"
   ]
  },
  {
   "cell_type": "code",
   "execution_count": 10,
   "metadata": {},
   "outputs": [
    {
     "name": "stdout",
     "output_type": "stream",
     "text": [
      "8\n",
      "16\n",
      "1\n",
      "6\n",
      "1\n",
      "1.25\n"
     ]
    }
   ],
   "source": [
    "a = 4\n",
    "b = 2\n",
    "c = 5\n",
    "\n",
    "a, b, c = 4, 2, 5\n",
    "print(a*b)\n",
    "print(a**b)\n",
    "print(a % 3)\n",
    "print(a + b)\n",
    "print(c // a)\n",
    "print(c / a)"
   ]
  },
  {
   "cell_type": "code",
   "execution_count": 13,
   "metadata": {},
   "outputs": [
    {
     "name": "stdout",
     "output_type": "stream",
     "text": [
      "請輸入被除數(整數):10\n",
      "請輸入除數(整數,不可以為0):3\n",
      "3 1\n",
      "2 3 4 5\n"
     ]
    }
   ],
   "source": [
    "n = int(input('請輸入被除數(整數):'))\n",
    "m = int(input('請輸入除數(整數,不可以為0):'))\n",
    "print( str(n//m)+ str(n%m))\n",
    "\n"
   ]
  },
  {
   "cell_type": "code",
   "execution_count": 16,
   "metadata": {},
   "outputs": [
    {
     "name": "stdout",
     "output_type": "stream",
     "text": [
      "請輸入手機金額:3000\n",
      "剩餘款為: 2000\n"
     ]
    }
   ],
   "source": [
    "money = 5000\n",
    "cell=int(input(\"請輸入手機金額:\"))\n",
    "#money = money - cell\n",
    "money -= cell\n",
    "print(\"剩餘款為:\", money)"
   ]
  },
  {
   "cell_type": "code",
   "execution_count": 17,
   "metadata": {},
   "outputs": [
    {
     "name": "stdout",
     "output_type": "stream",
     "text": [
      "請輸入第一個數:34.5\n",
      "請輸入第二個數:27.9\n",
      "請輸入第一個數:78.2\n",
      "三個數的總和為 140.6\n"
     ]
    }
   ],
   "source": [
    "sum = 0\n",
    "x = float(input('請輸入第一個數:'))\n",
    "sum += x\n",
    "x = float(input('請輸入第二個數:'))\n",
    "sum += x\n",
    "x = float(input('請輸入第三個數:'))\n",
    "sum += x\n",
    "\n",
    "print('三個數的總和為',sum)"
   ]
  },
  {
   "cell_type": "code",
   "execution_count": null,
   "metadata": {},
   "outputs": [],
   "source": []
  }
 ],
 "metadata": {
  "kernelspec": {
   "display_name": "Python 3",
   "language": "python",
   "name": "python3"
  },
  "language_info": {
   "codemirror_mode": {
    "name": "ipython",
    "version": 3
   },
   "file_extension": ".py",
   "mimetype": "text/x-python",
   "name": "python",
   "nbconvert_exporter": "python",
   "pygments_lexer": "ipython3",
   "version": "3.7.4"
  }
 },
 "nbformat": 4,
 "nbformat_minor": 2
}
