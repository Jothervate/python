{
 "cells": [
  {
   "cell_type": "code",
   "execution_count": 1,
   "metadata": {},
   "outputs": [],
   "source": [
    "def save_money(money, save):\n",
    "    money += save\n",
    "    return money\n"
   ]
  },
  {
   "cell_type": "code",
   "execution_count": 2,
   "metadata": {},
   "outputs": [
    {
     "name": "stdout",
     "output_type": "stream",
     "text": [
      "test61.txt檔案無法開啟!\n"
     ]
    }
   ],
   "source": [
    "import sys\n",
    "try:\n",
    "    fName = 'test61.txt'\n",
    "    file = open(fName, 'r')\n",
    "except IOError:\n",
    "    print(fName + '檔案無法開啟!')\n",
    "else:\n",
    "    i = 1\n",
    "    for data in file:\n",
    "        print(data.rstrip())\n",
    "        i += 1\n",
    "    file.close()    \n"
   ]
  },
  {
   "cell_type": "code",
   "execution_count": null,
   "metadata": {},
   "outputs": [],
   "source": []
  }
 ],
 "metadata": {
  "kernelspec": {
   "display_name": "Python 3",
   "language": "python",
   "name": "python3"
  },
  "language_info": {
   "codemirror_mode": {
    "name": "ipython",
    "version": 3
   },
   "file_extension": ".py",
   "mimetype": "text/x-python",
   "name": "python",
   "nbconvert_exporter": "python",
   "pygments_lexer": "ipython3",
   "version": "3.7.4"
  }
 },
 "nbformat": 4,
 "nbformat_minor": 2
}
