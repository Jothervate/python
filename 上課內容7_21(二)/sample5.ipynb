{
 "cells": [
  {
   "cell_type": "code",
   "execution_count": 9,
   "metadata": {},
   "outputs": [
    {
     "name": "stdout",
     "output_type": "stream",
     "text": [
      "大於12小於等於18\n",
      "程式結束\n"
     ]
    }
   ],
   "source": [
    "a = 17\n",
    "if a > 18:\n",
    "    print(\"大於18\")\n",
    "elif a > 12:\n",
    "    print(\"大於12小於等於18\")\n",
    "else:\n",
    "    print(\"小於等於12\")\n",
    "    \n",
    "print(\"程式結束\")"
   ]
  },
  {
   "cell_type": "code",
   "execution_count": 10,
   "metadata": {},
   "outputs": [
    {
     "name": "stdout",
     "output_type": "stream",
     "text": [
      "請輸入購買金額:130000\n",
      "實付金額是:104000.0元\n"
     ]
    }
   ],
   "source": [
    "#多向選擇\n",
    "money = int(input('請輸入購買金額:'))\n",
    "if money >= 100000:\n",
    "    payMoney = money * 0.8\n",
    "elif money >= 50000:\n",
    "    payMoney = money * 0.85\n",
    "elif money >= 30000:\n",
    "    payMoney = money * 0.9\n",
    "elif money >= 10000:\n",
    "    payMoney = money * 0.95\n",
    "else:\n",
    "    payMoney = money\n",
    "#print('實付金額是:', payMoney, '元');\n",
    "print('實付金額是:' + str(payMoney) + '元')"
   ]
  },
  {
   "cell_type": "code",
   "execution_count": 13,
   "metadata": {},
   "outputs": [
    {
     "name": "stdout",
     "output_type": "stream",
     "text": [
      "它是熊!\n"
     ]
    }
   ],
   "source": [
    "furry = True\n",
    "small = False\n",
    "if furry:\n",
    "    #有毛的\n",
    "    if small:\n",
    "        print(\"它是貓!\")\n",
    "    else:\n",
    "        print(\"它是熊!\")\n",
    "else:\n",
    "    #沒有毛\n",
    "    if small:\n",
    "        print(\"它是小蜥蜴\")\n",
    "    else:\n",
    "        print(\"它是人類或是沒毛的熊\")\n",
    "    "
   ]
  },
  {
   "cell_type": "code",
   "execution_count": 14,
   "metadata": {},
   "outputs": [
    {
     "name": "stdout",
     "output_type": "stream",
     "text": [
      "12~18\n",
      "12~18\n"
     ]
    }
   ],
   "source": [
    "a = 14\n",
    "if a>12 and a<18:\n",
    "    print(\"12~18\")\n",
    "\n",
    "if 12<a<18:\n",
    "    print(\"12~18\")"
   ]
  },
  {
   "cell_type": "code",
   "execution_count": 25,
   "metadata": {},
   "outputs": [
    {
     "name": "stdout",
     "output_type": "stream",
     "text": [
      "請輸入身高,單位為公分:170\n",
      "請輸入體重,單位為公斤:57\n",
      "您的BMI是19.72,您的體重正常\n"
     ]
    }
   ],
   "source": [
    "height = float(input('請輸入身高,單位為公分:'))\n",
    "weight = float(input('請輸入體重,單位為公斤:'))\n",
    "bmi = weight / ((height/100) ** 2)\n",
    "\n",
    "if bmi < 18.5:\n",
    "    state = '太輕'\n",
    "elif bmi <= 25:\n",
    "    state = '正常'\n",
    "elif bmi <=30:\n",
    "    state = '過重'\n",
    "else:\n",
    "    state = '肥胖'\n",
    "\n",
    "#print('您的BMI是',bmi)\n",
    "#print('您的體重'+state)\n",
    "print('您的BMI是%.2f,您的體重%s' % (bmi, state))"
   ]
  },
  {
   "cell_type": "code",
   "execution_count": 24,
   "metadata": {},
   "outputs": [
    {
     "data": {
      "text/plain": [
       "'15,13,21.67,abc'"
      ]
     },
     "execution_count": 24,
     "metadata": {},
     "output_type": "execute_result"
    }
   ],
   "source": [
    "a = 15\n",
    "b = 13\n",
    "c = 21.667890\n",
    "d = 'abc'\n",
    "summary = str(a) + ',' + str(b) + ',' + str(c) + ',' + d\n",
    "summary\n",
    "#字串格式化,就是字串和變數整合成為一個字串\n",
    "\"%d,%d,%.2f,%s\" % (a, b, c, d)"
   ]
  },
  {
   "cell_type": "code",
   "execution_count": null,
   "metadata": {},
   "outputs": [],
   "source": []
  }
 ],
 "metadata": {
  "kernelspec": {
   "display_name": "Python 3",
   "language": "python",
   "name": "python3"
  },
  "language_info": {
   "codemirror_mode": {
    "name": "ipython",
    "version": 3
   },
   "file_extension": ".py",
   "mimetype": "text/x-python",
   "name": "python",
   "nbconvert_exporter": "python",
   "pygments_lexer": "ipython3",
   "version": "3.7.4"
  }
 },
 "nbformat": 4,
 "nbformat_minor": 2
}
