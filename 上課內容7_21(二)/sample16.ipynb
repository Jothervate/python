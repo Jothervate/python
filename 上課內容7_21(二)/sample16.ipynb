{
 "cells": [
  {
   "cell_type": "code",
   "execution_count": 1,
   "metadata": {},
   "outputs": [
    {
     "name": "stdout",
     "output_type": "stream",
     "text": [
      "False\n"
     ]
    }
   ],
   "source": [
    "datas = [0, 1, 2, 3, 4, 5, 6]\n",
    "print(7 in datas)"
   ]
  },
  {
   "cell_type": "code",
   "execution_count": 2,
   "metadata": {},
   "outputs": [
    {
     "name": "stdout",
     "output_type": "stream",
     "text": [
      "False\n",
      "False\n",
      "True\n",
      "True\n"
     ]
    }
   ],
   "source": [
    "#請問下列程式碼執行的結果為何？\n",
    "list1 = ['a', 'b', 'c', 'd']\n",
    "list2 = ['A', 'B', 'C', 'D']\n",
    "print(list1 is list2)\n",
    "print(list1 == list2)\n",
    "list1 = list2\n",
    "print(list1 is list2)\n",
    "print(list1 == list2)"
   ]
  },
  {
   "cell_type": "code",
   "execution_count": 4,
   "metadata": {},
   "outputs": [
    {
     "name": "stdout",
     "output_type": "stream",
     "text": [
      "請輸入第一個數字：45\n",
      "請輸入第二個數字：45\n",
      "二個數字相等\n",
      "第一個數字較小\n"
     ]
    }
   ],
   "source": [
    "num1 = eval(input(\"請輸入第一個數字：\"))\n",
    "num2 = eval(input(\"請輸入第二個數字：\"))\n",
    "\n",
    "if num1 == num2:\n",
    "    print(\"二個數字相等\")\n",
    "    \n",
    "if num1 <= num2:\n",
    "    print(\"第一個數字較小\")\n",
    "    \n",
    "if num1 > num2:\n",
    "    print(\"第一個數字較大\")\n",
    "    \n",
    "#if num2 = num1:\n",
    "#    print(\"二個數字相等\")\n"
   ]
  },
  {
   "cell_type": "code",
   "execution_count": null,
   "metadata": {},
   "outputs": [],
   "source": [
    "score = int(input(\"請輸入分數\"))\n",
    "if score >= 90:\n",
    "    grade = '優'\n",
    "elif score >= 80:\n",
    "    grade = '甲'\n",
    "elif score >= 70:\n",
    "    grade = '乙'\n",
    "elif score >= 60:\n",
    "    grade = '丙'\n",
    "else:\n",
    "    grade = '丁'\n",
    "    \n",
    "print(\"成績等級為：\", grade)\n"
   ]
  }
 ],
 "metadata": {
  "kernelspec": {
   "display_name": "Python 3",
   "language": "python",
   "name": "python3"
  },
  "language_info": {
   "codemirror_mode": {
    "name": "ipython",
    "version": 3
   },
   "file_extension": ".py",
   "mimetype": "text/x-python",
   "name": "python",
   "nbconvert_exporter": "python",
   "pygments_lexer": "ipython3",
   "version": "3.7.4"
  }
 },
 "nbformat": 4,
 "nbformat_minor": 2
}
