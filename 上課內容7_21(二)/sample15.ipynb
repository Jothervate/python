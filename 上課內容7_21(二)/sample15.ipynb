{
 "cells": [
  {
   "cell_type": "code",
   "execution_count": 12,
   "metadata": {},
   "outputs": [
    {
     "name": "stdout",
     "output_type": "stream",
     "text": [
      "ABCDEFGHIJKLMNOPQRSTUVWXYZ\n",
      "ZYXWVUTSRQPONMLKJIHGFEDCBA\n",
      "DEFGHIJKLMNO\n",
      "DGJM\n",
      "\n",
      "PMJG\n",
      "\n",
      "ZWTQNKHEB\n"
     ]
    }
   ],
   "source": [
    "word = 'ABCDEFGHIJKLMNOPQRSTUVWXYZ'\n",
    "print(word[:])\n",
    "print(word[::-1])\n",
    "print(word[3:15])\n",
    "print(word[3:15:3])\n",
    "print(word[3:15:-3])\n",
    "print(word[15:3:-3])\n",
    "print(word[15:3])\n",
    "print(word[::-3])"
   ]
  },
  {
   "cell_type": "code",
   "execution_count": null,
   "metadata": {},
   "outputs": [],
   "source": []
  }
 ],
 "metadata": {
  "kernelspec": {
   "display_name": "Python 3",
   "language": "python",
   "name": "python3"
  },
  "language_info": {
   "codemirror_mode": {
    "name": "ipython",
    "version": 3
   },
   "file_extension": ".py",
   "mimetype": "text/x-python",
   "name": "python",
   "nbconvert_exporter": "python",
   "pygments_lexer": "ipython3",
   "version": "3.7.4"
  }
 },
 "nbformat": 4,
 "nbformat_minor": 2
}
