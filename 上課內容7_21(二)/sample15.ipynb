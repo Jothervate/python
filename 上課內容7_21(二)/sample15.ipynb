{
 "cells": [
  {
   "cell_type": "code",
   "execution_count": 12,
   "metadata": {},
   "outputs": [
    {
     "name": "stdout",
     "output_type": "stream",
     "text": [
      "ABCDEFGHIJKLMNOPQRSTUVWXYZ\n",
      "ZYXWVUTSRQPONMLKJIHGFEDCBA\n",
      "DEFGHIJKLMNO\n",
      "DGJM\n",
      "\n",
      "PMJG\n",
      "\n",
      "ZWTQNKHEB\n"
     ]
    }
   ],
   "source": [
    "#如果word = 'ABCDEFGHIJKLMNOPQRSTUVWXYZ' 時，請用代碼填入下列分割操作的結果：\n",
    "\n",
    "word = 'ABCDEFGHIJKLMNOPQRSTUVWXYZ'\n",
    "print(word[:])\n",
    "print(word[::-1])\n",
    "print(word[3:15])\n",
    "print(word[3:15:3])\n",
    "print(word[3:15:-3])\n",
    "print(word[15:3:-3])\n",
    "print(word[15:3])\n",
    "print(word[::-3])"
   ]
  },
  {
   "cell_type": "code",
   "execution_count": 18,
   "metadata": {},
   "outputs": [
    {
     "name": "stdout",
     "output_type": "stream",
     "text": [
      "['student1', 'student2', 'student3', 'student4', 'student5', 'student6', 'student7', 'student8', 'student9', 'student10', 'student11', 'student12', 'student13', 'student14', 'student15', 'student16', 'student17', 'student18', 'student19', 'student20', 'student21', 'student22', 'student23', 'student24', 'student25', 'student26', 'student27', 'student28', 'student29', 'student30', 'student31', 'student32', 'student33', 'student34', 'student35', 'student36', 'student37', 'student38', 'student39', 'student40', 'student41', 'student42', 'student43', 'student44', 'student45', 'student46', 'student47', 'student48', 'student49', 'student50', 'student51', 'student52', 'student53', 'student54', 'student55', 'student56', 'student57', 'student58', 'student59', 'student60', 'student61', 'student62', 'student63', 'student64', 'student65', 'student66', 'student67', 'student68', 'student69', 'student70', 'student71', 'student72', 'student73', 'student74', 'student75', 'student76', 'student77', 'student78', 'student79', 'student80', 'student81', 'student82', 'student83', 'student84', 'student85']\n",
      "['student1', 'student2', 'student3', 'student4', 'student5', 'student6', 'student7', 'student8', 'student9', 'student10', 'student11', 'student12', 'student13', 'student14', 'student15', 'student16', 'student17', 'student18', 'student19', 'student20', 'student21', 'student22', 'student23', 'student24', 'student25', 'student26', 'student27', 'student28', 'student29', 'student30', 'student31', 'student32', 'student33', 'student34', 'student35', 'student36', 'student37', 'student38', 'student39', 'student40', 'student41', 'student42', 'student43', 'student44', 'student45', 'student46', 'student47', 'student48', 'student49', 'student50', 'student51', 'student52', 'student53', 'student54', 'student55', 'student56', 'student57', 'student58', 'student59', 'student60', 'student61', 'student62', 'student63', 'student64', 'student65', 'student66', 'student67', 'student68', 'student69', 'student70', 'student71', 'student72', 'student73', 'student74', 'student75', 'student76', 'student77', 'student78', 'student79', 'student80', 'student81', 'student82', 'student83', 'student84', 'student85']\n"
     ]
    }
   ],
   "source": [
    "#14.students 串列(清單)包含 100 位學生的姓名，最後15位為轉出學生。如果要分割串列顯示目前在校學生，請問可以使用下列哪兩個指令？\n",
    "students = []\n",
    "for i in range(1,101):\n",
    "    students.append('student'+str(i))\n",
    "print(students[0:-15])\n",
    "print(students[:-15])"
   ]
  },
  {
   "cell_type": "code",
   "execution_count": 21,
   "metadata": {},
   "outputs": [
    {
     "name": "stdout",
     "output_type": "stream",
     "text": [
      "請輸入一個整數5.234\n"
     ]
    },
    {
     "data": {
      "text/plain": [
       "5.234"
      ]
     },
     "execution_count": 21,
     "metadata": {},
     "output_type": "execute_result"
    }
   ],
   "source": [
    "eval(input(\"請輸入一個整數\"))"
   ]
  },
  {
   "cell_type": "code",
   "execution_count": 24,
   "metadata": {},
   "outputs": [
    {
     "name": "stdout",
     "output_type": "stream",
     "text": [
      "請輸入一個整數:2\n",
      "4\n"
     ]
    }
   ],
   "source": [
    "x = eval(input('請輸入一個整數:'))\n",
    "y = (-x) ** 2\n",
    "print(y)"
   ]
  },
  {
   "cell_type": "code",
   "execution_count": null,
   "metadata": {},
   "outputs": [],
   "source": []
  }
 ],
 "metadata": {
  "kernelspec": {
   "display_name": "Python 3",
   "language": "python",
   "name": "python3"
  },
  "language_info": {
   "codemirror_mode": {
    "name": "ipython",
    "version": 3
   },
   "file_extension": ".py",
   "mimetype": "text/x-python",
   "name": "python",
   "nbconvert_exporter": "python",
   "pygments_lexer": "ipython3",
   "version": "3.7.4"
  }
 },
 "nbformat": 4,
 "nbformat_minor": 2
}
