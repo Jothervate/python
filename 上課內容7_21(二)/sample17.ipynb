{
 "cells": [
  {
   "cell_type": "code",
   "execution_count": null,
   "metadata": {},
   "outputs": [],
   "source": [
    "num = 2\n",
    "while num < 51:\n",
    "    flag = True    \n",
    "    for i in range(2, num):\n",
    "        #i除數\n",
    "        if num % i == 0:\n",
    "            flag = False\n",
    "            break\n",
    "        \n",
    "    if flag == True:\n",
    "        print(num, end=',')\n",
    "    num = num + 1"
   ]
  },
  {
   "cell_type": "code",
   "execution_count": null,
   "metadata": {},
   "outputs": [],
   "source": [
    "def find_book(books, title):\n",
    "    for i in range(len(books)):\n",
    "        if books[i] == title:\n",
    "            print(\"{0}在書庫中!\".format(title))\n",
    "            break;\n",
    "        else:\n",
    "            print(\"{0}不在書庫中!\".format(title))"
   ]
  },
  {
   "cell_type": "code",
   "execution_count": 3,
   "metadata": {},
   "outputs": [
    {
     "name": "stdout",
     "output_type": "stream",
     "text": [
      "請輸入行動電話號碼(格式為 0000-000-000)：4444-333-222\n",
      "True\n"
     ]
    }
   ],
   "source": [
    "tel = \"0000-000-000\"\n",
    "s = \"\"\n",
    "while tel != \"\":\n",
    "    flag = False\n",
    "    tel = input(\"請輸入行動電話號碼(格式為 0000-000-000)：\")\n",
    "    s = tel.split('-')\n",
    "    if len(s) == 3:\n",
    "        if len(s[0]) == 4 and len(s[1]) == 3 and len(s[2]) == 3:\n",
    "            if s[0].isdigit() and s[1].isdigit() and s[2].isdigit():\n",
    "                flag = True\n",
    "    \n",
    "    print(flag)\n",
    "    break;"
   ]
  },
  {
   "cell_type": "code",
   "execution_count": 9,
   "metadata": {},
   "outputs": [
    {
     "name": "stdout",
     "output_type": "stream",
     "text": [
      "A\n",
      "B\n",
      "C\n",
      "D\n",
      "E\n"
     ]
    }
   ],
   "source": [
    "datas = ['A','B','C','D','E','F','G','H','I']\n",
    "index = 0\n",
    "while(index < len(datas)):\n",
    "    print(datas[index])\n",
    "    if datas[index] == 'E':\n",
    "        break;\n",
    "    else:\n",
    "        index += 1"
   ]
  },
  {
   "cell_type": "code",
   "execution_count": 12,
   "metadata": {},
   "outputs": [
    {
     "name": "stdout",
     "output_type": "stream",
     "text": [
      "endend\n"
     ]
    }
   ],
   "source": [
    "import os\n",
    "if os.path.isfile('test45.txt'):\n",
    "    file=open('test45.txt')\n",
    "    print(file.read())\n",
    "    file.close()\n",
    "\n",
    "file = open('test45.txt','a+')\n",
    "file.write('end')\n",
    "file.close()"
   ]
  },
  {
   "cell_type": "code",
   "execution_count": null,
   "metadata": {},
   "outputs": [],
   "source": []
  }
 ],
 "metadata": {
  "kernelspec": {
   "display_name": "Python 3",
   "language": "python",
   "name": "python3"
  },
  "language_info": {
   "codemirror_mode": {
    "name": "ipython",
    "version": 3
   },
   "file_extension": ".py",
   "mimetype": "text/x-python",
   "name": "python",
   "nbconvert_exporter": "python",
   "pygments_lexer": "ipython3",
   "version": "3.7.4"
  }
 },
 "nbformat": 4,
 "nbformat_minor": 2
}
