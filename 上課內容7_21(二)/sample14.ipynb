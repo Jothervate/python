{
 "cells": [
  {
   "cell_type": "code",
   "execution_count": null,
   "metadata": {},
   "outputs": [],
   "source": [
    "#1.以下程式碼，執行時輸出值為何?\n",
    "lst_1=[1, 2]\n",
    "lst_2=[3, 4]\n",
    "lst_3 = lst_1 + lst_2\n",
    "print(lst_3)\n",
    "lst_4 = lst_3 * 2\n",
    "print(lst_4)"
   ]
  },
  {
   "cell_type": "code",
   "execution_count": null,
   "metadata": {},
   "outputs": [],
   "source": [
    "'''\n",
    "2.以下是計算跑步平均時速的程式碼，輸出結果要盡可能精準。\n",
    "請問A、B處的程式碼應該為何？\n",
    "'''\n",
    "distance = float(input('請輸入距離(單位：公尺)：'))\n",
    "time = float(input('請輸入時間(單位：秒)'))\n",
    "avg = (distance/1000) / (time / 60 / 60)\n",
    "print('平均時速 = ', avg, ' 公里/小時')"
   ]
  },
  {
   "cell_type": "code",
   "execution_count": null,
   "metadata": {},
   "outputs": [],
   "source": [
    "#3.已知商店營業額(total)和顧客人數(num)，要顯示顧客的平均消費金額，輸出時必須去除小數部分，請問下列哪兩個程式碼正確？\n",
    "total = 4500\n",
    "num = 8\n",
    "#avg = total//num\n",
    "avg = int(total/num)\n",
    "avg"
   ]
  },
  {
   "cell_type": "code",
   "execution_count": null,
   "metadata": {},
   "outputs": [],
   "source": [
    "#5.下列是年齡計算程式，請問程式中變數的資料型別為何？請填入下列型別 bool、float、int、str：\n",
    "born = input(\"請輸入出生的民國年： \")\n",
    "print('born',type(born))\n",
    "year = input(\"請輸入現在的民國年： \")\n",
    "age = eval(year) - eval(born)\n",
    "print('age',type(age))\n",
    "msg = \"你的年齡是： \" + str(age)\n",
    "print('msg',type(msg))\n",
    "print(msg)"
   ]
  },
  {
   "cell_type": "code",
   "execution_count": null,
   "metadata": {},
   "outputs": [],
   "source": [
    "x1 = '5'\n",
    "print('x1', type(x1))\n",
    "y1 = 4\n",
    "print('y1', type(y1))\n",
    "a = x1 * y1\n",
    "print('a', type(a))\n",
    "x2, y2 = 6, 3\n",
    "b = x2 / y2\n",
    "print('b', type(b))\n",
    "x3,y3 = 1.0, 2\n",
    "c = x3 + y3\n",
    "print('c', type(c))"
   ]
  },
  {
   "cell_type": "code",
   "execution_count": null,
   "metadata": {},
   "outputs": [],
   "source": [
    "#7.下列常值請用bool、float、int、str填入正確的資料型別：\n",
    "print(type(+5e10))\n",
    "print(type(4.0))\n",
    "print(type(\"False\"))\n",
    "print(type(True))"
   ]
  },
  {
   "cell_type": "code",
   "execution_count": 1,
   "metadata": {},
   "outputs": [
    {
     "name": "stdout",
     "output_type": "stream",
     "text": [
      "請輸入座號:1\n",
      "學生姓名為：張三\n"
     ]
    },
    {
     "data": {
      "text/plain": [
       "'\\nif num in datas:\\n    print(\"學生姓名為：\" + datas[num])\\nelse:\\n    print(\\'該座號不存在\\')\\n'"
      ]
     },
     "execution_count": 1,
     "metadata": {},
     "output_type": "execute_result"
    }
   ],
   "source": [
    "#8.下列程式碼是用來以座號查詢學生姓名，但執行結果並不正確，請回答下列問題，來找出可能的錯誤。\n",
    "datas = {1: '張三', 2: '李四', 3: '王五'}\n",
    "num = int(input(\"請輸入座號:\"))\n",
    "\n",
    "if not num in datas:\n",
    "    print('該座號不存在')\n",
    "else:\n",
    "    print(\"學生姓名為：\" + datas[num])\n",
    "\n",
    "'''\n",
    "if num in datas:\n",
    "    print(\"學生姓名為：\" + datas[num])\n",
    "else:\n",
    "    print('該座號不存在')\n",
    "'''  "
   ]
  },
  {
   "cell_type": "code",
   "execution_count": 2,
   "metadata": {},
   "outputs": [
    {
     "name": "stdout",
     "output_type": "stream",
     "text": [
      "<class 'bool'>\n",
      "<class 'float'>\n",
      "<class 'int'>\n",
      "<class 'str'>\n"
     ]
    }
   ],
   "source": [
    "def dataType(val):\n",
    "    return type(val)\n",
    "\n",
    "print(dataType(False))\n",
    "print(dataType(3.0))\n",
    "print(dataType(3))\n",
    "print(dataType(\"False\"))"
   ]
  },
  {
   "cell_type": "code",
   "execution_count": null,
   "metadata": {},
   "outputs": [],
   "source": [
    "num = int(float(input(\"請輸入整數:\")))"
   ]
  },
  {
   "cell_type": "code",
   "execution_count": null,
   "metadata": {},
   "outputs": [],
   "source": []
  }
 ],
 "metadata": {
  "kernelspec": {
   "display_name": "Python 3",
   "language": "python",
   "name": "python3"
  },
  "language_info": {
   "codemirror_mode": {
    "name": "ipython",
    "version": 3
   },
   "file_extension": ".py",
   "mimetype": "text/x-python",
   "name": "python",
   "nbconvert_exporter": "python",
   "pygments_lexer": "ipython3",
   "version": "3.7.4"
  }
 },
 "nbformat": 4,
 "nbformat_minor": 2
}
