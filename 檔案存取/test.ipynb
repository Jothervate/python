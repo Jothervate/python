{
 "cells": [
  {
   "cell_type": "code",
   "execution_count": 2,
   "metadata": {},
   "outputs": [
    {
     "name": "stdout",
     "output_type": "stream",
     "text": [
      "Dear Alice,Eve's cat has been arrested for catnapping, cat burglary, and extortion.Sincerely,Bob\n"
     ]
    }
   ],
   "source": [
    "sentens = \"Dear Alice,\\\n",
    "Eve's cat has been arrested for catnapping, cat burglary, and\\\n",
    " extortion.\\\n",
    "Sincerely,\\\n",
    "Bob\"\n",
    "\n",
    "print(sentens)"
   ]
  },
  {
   "cell_type": "code",
   "execution_count": 3,
   "metadata": {},
   "outputs": [
    {
     "name": "stdout",
     "output_type": "stream",
     "text": [
      "Dear Alice,\n",
      "Eve's cat has been arrested for catnapping, cat burglary, and extortion.\n",
      "Sincerely,\n",
      "Bob\n"
     ]
    }
   ],
   "source": [
    "sentens = '''Dear Alice,\n",
    "Eve's cat has been arrested for catnapping, cat burglary, and extortion.\n",
    "Sincerely,\n",
    "Bob'''\n",
    "\n",
    "print(sentens)\n"
   ]
  },
  {
   "cell_type": "code",
   "execution_count": 9,
   "metadata": {},
   "outputs": [
    {
     "name": "stdout",
     "output_type": "stream",
     "text": [
      "8\n",
      "-1\n",
      "0\n",
      "10\n",
      "17\n"
     ]
    }
   ],
   "source": [
    "str1 = \"this is Python Tutorial, there\"\n",
    "search1 = \"Python\" \n",
    "print(str1.find(search1))\n",
    "\n",
    "search2= \"not\" \n",
    "print(str1.find(search2))\n",
    "\n",
    "search3 = \"t\"\n",
    "print(str1.find(search3))\n",
    "\n",
    "print(str1.find(search3,4))\n",
    "\n",
    "print(str1.find(search3,11,20))"
   ]
  },
  {
   "cell_type": "code",
   "execution_count": 10,
   "metadata": {},
   "outputs": [
    {
     "name": "stdout",
     "output_type": "stream",
     "text": [
      "原本的字串: This is Python, That is Java; This is SQLite, That is MySQL\n",
      "\n",
      "is 替換為 - :Th- - Python, That - Java; Th- - SQLite, That - MySQL\n",
      "\n"
     ]
    }
   ],
   "source": [
    "str1 = \"This is Python, That is Java; This is SQLite, That is MySQL\"\n",
    "print(\"原本的字串:\", str1)\n",
    "print()\n",
    "print(\"is 替換為 - :\" + str1.replace(\"is\", \"-\"))\n",
    "print()"
   ]
  },
  {
   "cell_type": "code",
   "execution_count": 13,
   "metadata": {},
   "outputs": [
    {
     "name": "stdout",
     "output_type": "stream",
     "text": [
      "原本的字串: This is Python, That is Java; This is SQLite, That is MySQL\n",
      "\n",
      "加上參數值2:Th- - Python, That is Java; This is SQLite, That is MySQL\n",
      "Hello there!\n",
      "How are you?\n",
      "I'm doing fine.\n"
     ]
    }
   ],
   "source": [
    "str1 = \"This is Python, That is Java; This is SQLite, That is MySQL\"\n",
    "print(\"原本的字串:\", str1)\n",
    "print()\n",
    "print(\"加上參數值2:\" + str1.replace(\"is\", \"-\", 2))\n",
    "print(\"Hello there!\\nHow are you?\\nI\\'m doing fine.\")"
   ]
  },
  {
   "cell_type": "code",
   "execution_count": 14,
   "metadata": {},
   "outputs": [
    {
     "name": "stdout",
     "output_type": "stream",
     "text": [
      "That is Carol\\'s cat.\n"
     ]
    }
   ],
   "source": [
    "print(r'That is Carol\\'s cat.')\n"
   ]
  },
  {
   "cell_type": "code",
   "execution_count": 17,
   "metadata": {},
   "outputs": [
    {
     "data": {
      "text/plain": [
       "'Hello, my name is  Robert. I am  40 years old.'"
      ]
     },
     "execution_count": 17,
     "metadata": {},
     "output_type": "execute_result"
    }
   ],
   "source": [
    "name = 'Robert'\n",
    "age = 40\n",
    "'Hello, my name is  %s. I am  %d years old.' % (name,age)"
   ]
  },
  {
   "cell_type": "code",
   "execution_count": 19,
   "metadata": {},
   "outputs": [
    {
     "data": {
      "text/plain": [
       "'Hello, my name is  Robert. I am  40 years old.'"
      ]
     },
     "execution_count": 19,
     "metadata": {},
     "output_type": "execute_result"
    }
   ],
   "source": [
    "name = 'Robert'\n",
    "age = 40\n",
    "f'Hello, my name is  {name:s}. I am  {age:d} years old.'"
   ]
  }
 ],
 "metadata": {
  "kernelspec": {
   "display_name": "venv05",
   "language": "python",
   "name": "python3"
  },
  "language_info": {
   "codemirror_mode": {
    "name": "ipython",
    "version": 3
   },
   "file_extension": ".py",
   "mimetype": "text/x-python",
   "name": "python",
   "nbconvert_exporter": "python",
   "pygments_lexer": "ipython3",
   "version": "3.10.6"
  },
  "orig_nbformat": 4,
  "vscode": {
   "interpreter": {
    "hash": "85c44cad9f5d14724dda7a6d7f0e4971d2a809ed59c2c40b9225ea77a670a3d5"
   }
  }
 },
 "nbformat": 4,
 "nbformat_minor": 2
}
