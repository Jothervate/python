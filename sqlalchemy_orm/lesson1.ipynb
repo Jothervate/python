{
 "cells": [
  {
   "cell_type": "code",
   "execution_count": 3,
   "metadata": {},
   "outputs": [
    {
     "name": "stdout",
     "output_type": "stream",
     "text": [
      "2023-01-02 12:39:28,765 INFO sqlalchemy.engine.Engine BEGIN (implicit)\n",
      "2023-01-02 12:39:28,767 INFO sqlalchemy.engine.Engine PRAGMA main.table_info(\"student\")\n",
      "2023-01-02 12:39:28,768 INFO sqlalchemy.engine.Engine [raw sql] ()\n",
      "2023-01-02 12:39:28,769 INFO sqlalchemy.engine.Engine COMMIT\n"
     ]
    }
   ],
   "source": [
    "from sqlalchemy import create_engine,Column,Integer,String\n",
    "from sqlalchemy.orm import sessionmaker\n",
    "from sqlalchemy.ext.declarative import declarative_base\n",
    "\n",
    "#建立engine\n",
    "engine = create_engine('sqlite:///student.db',echo=True, future=True)\n",
    "\n",
    "#建立session\n",
    "Session = sessionmaker(bind=engine)\n",
    "session = Session()\n",
    "\n",
    "#建立要繼承的base\n",
    "Base = declarative_base()\n",
    "\n",
    "#建立自訂表格的class\n",
    "class Student(Base):\n",
    "    __tablename__ = 'student'\n",
    "    \n",
    "    id =  Column(Integer,primary_key=True)\n",
    "    name = Column(String(50))\n",
    "    age  =  Column(Integer)\n",
    "    grade =  Column(String(50))\n",
    "\n",
    "#執行matadata內資訊,table的建立(Migrate)\n",
    "Base.metadata.create_all(engine)\n"
   ]
  },
  {
   "cell_type": "code",
   "execution_count": 4,
   "metadata": {},
   "outputs": [
    {
     "name": "stdout",
     "output_type": "stream",
     "text": [
      "2023-01-02 13:48:40,527 INFO sqlalchemy.engine.Engine BEGIN (implicit)\n",
      "2023-01-02 13:48:40,530 INFO sqlalchemy.engine.Engine INSERT INTO student (name, age, grade) VALUES (?, ?, ?)\n",
      "2023-01-02 13:48:40,531 INFO sqlalchemy.engine.Engine [generated in 0.00112s] ('Jerin', 27, 'Fifth')\n",
      "2023-01-02 13:48:40,533 INFO sqlalchemy.engine.Engine INSERT INTO student (name, age, grade) VALUES (?, ?, ?)\n",
      "2023-01-02 13:48:40,534 INFO sqlalchemy.engine.Engine [cached since 0.003666s ago] ('Anita', 24, 'Fourth')\n",
      "2023-01-02 13:48:40,534 INFO sqlalchemy.engine.Engine INSERT INTO student (name, age, grade) VALUES (?, ?, ?)\n",
      "2023-01-02 13:48:40,535 INFO sqlalchemy.engine.Engine [cached since 0.00506s ago] ('Jefin', 21, 'Third')\n",
      "2023-01-02 13:48:40,536 INFO sqlalchemy.engine.Engine COMMIT\n"
     ]
    }
   ],
   "source": [
    "student1 = Student(name=\"Jerin\", age=27, grade=\"Fifth\")\n",
    "session.add(student1)\n",
    "\n",
    "student2 = Student(name=\"Anita\", age=24, grade=\"Fourth\")\n",
    "student3 = Student(name=\"Jefin\", age=21, grade=\"Third\")\n",
    "session.add_all([student2, student3])\n",
    "session.commit()"
   ]
  },
  {
   "cell_type": "code",
   "execution_count": 11,
   "metadata": {},
   "outputs": [
    {
     "name": "stdout",
     "output_type": "stream",
     "text": [
      "2023-01-02 14:13:43,643 INFO sqlalchemy.engine.Engine SELECT student.id AS student_id, student.name AS student_name, student.age AS student_age, student.grade AS student_grade \n",
      "FROM student\n",
      "2023-01-02 14:13:43,645 INFO sqlalchemy.engine.Engine [cached since 1070s ago] ()\n",
      "Jerin 27 Fifth\n",
      "Anita 24 Fourth\n",
      "Jefin 21 Third\n",
      "2023-01-02 14:13:43,647 INFO sqlalchemy.engine.Engine SELECT student.id AS student_id, student.name AS student_name, student.age AS student_age, student.grade AS student_grade \n",
      "FROM student ORDER BY student.name\n",
      "2023-01-02 14:13:43,648 INFO sqlalchemy.engine.Engine [cached since 967.8s ago] ()\n",
      "Anita 24 Fourth\n",
      "Jefin 21 Third\n",
      "Jerin 27 Fifth\n",
      "2023-01-02 14:13:43,650 INFO sqlalchemy.engine.Engine SELECT student.id AS student_id, student.name AS student_name, student.age AS student_age, student.grade AS student_grade \n",
      "FROM student \n",
      "WHERE student.name = ?\n",
      " LIMIT ? OFFSET ?\n",
      "2023-01-02 14:13:43,651 INFO sqlalchemy.engine.Engine [cached since 830.9s ago] ('Jerin', 1, 0)\n",
      "Jerin 27 Fifth\n",
      "2023-01-02 14:13:43,653 INFO sqlalchemy.engine.Engine SELECT student.id AS student_id, student.name AS student_name, student.age AS student_age, student.grade AS student_grade \n",
      "FROM student \n",
      "WHERE student.name = ? OR student.name = ?\n",
      "2023-01-02 14:13:43,654 INFO sqlalchemy.engine.Engine [cached since 353.7s ago] ('Jerin', 'Anita')\n",
      "Jerin 27 Fifth\n",
      "Anita 24 Fourth\n",
      "2023-01-02 14:13:43,658 INFO sqlalchemy.engine.Engine SELECT count(*) AS count_1 \n",
      "FROM (SELECT student.id AS student_id, student.name AS student_name, student.age AS student_age, student.grade AS student_grade \n",
      "FROM student \n",
      "WHERE student.name = ? OR student.name = ?) AS anon_1\n",
      "2023-01-02 14:13:43,659 INFO sqlalchemy.engine.Engine [generated in 0.00092s] ('Jerin', 'Anita')\n",
      "2\n"
     ]
    }
   ],
   "source": [
    "#get all data\n",
    "students = session.query(Student)\n",
    "\n",
    "for student in students:\n",
    "    print(student.name, student.age, student.grade)\n",
    "\n",
    "#get data in order\n",
    "\n",
    "students = session.query(Student).order_by(Student.name)\n",
    "for student in students:\n",
    "    print(student.name, student.age, student.grade)\n",
    "\n",
    "#get data by filtering\n",
    "\n",
    "student = session.query(Student).filter(Student.name==\"Jerin\").first()\n",
    "print(student.name, student.age, student.grade)\n",
    "\n",
    "from sqlalchemy import or_\n",
    "\n",
    "students = session.query(Student).filter(or_(Student.name==\"Jerin\",Student.name==\"Anita\"))\n",
    "for student in students:\n",
    "    print(student.name, student.age, student.grade)\n",
    "\n",
    "#count the number of results\n",
    "students_count = session.query(Student).filter(or_(Student.name==\"Jerin\",Student.name==\"Anita\")).count()\n",
    "\n",
    "print(students_count)\n",
    "\n",
    "\n"
   ]
  },
  {
   "cell_type": "code",
   "execution_count": 12,
   "metadata": {},
   "outputs": [
    {
     "name": "stdout",
     "output_type": "stream",
     "text": [
      "2023-01-02 14:24:28,674 INFO sqlalchemy.engine.Engine SELECT student.id AS student_id, student.name AS student_name, student.age AS student_age, student.grade AS student_grade \n",
      "FROM student \n",
      "WHERE student.name = ?\n",
      " LIMIT ? OFFSET ?\n",
      "2023-01-02 14:24:28,675 INFO sqlalchemy.engine.Engine [cached since 1476s ago] ('Jerin', 1, 0)\n",
      "2023-01-02 14:24:28,678 INFO sqlalchemy.engine.Engine UPDATE student SET name=? WHERE student.id = ?\n",
      "2023-01-02 14:24:28,678 INFO sqlalchemy.engine.Engine [generated in 0.00078s] ('Kevin', 1)\n",
      "2023-01-02 14:24:28,680 INFO sqlalchemy.engine.Engine COMMIT\n",
      "2023-01-02 14:24:28,682 INFO sqlalchemy.engine.Engine BEGIN (implicit)\n",
      "2023-01-02 14:24:28,683 INFO sqlalchemy.engine.Engine SELECT student.id AS student_id, student.name AS student_name, student.age AS student_age, student.grade AS student_grade \n",
      "FROM student \n",
      "WHERE student.name = ?\n",
      " LIMIT ? OFFSET ?\n",
      "2023-01-02 14:24:28,684 INFO sqlalchemy.engine.Engine [cached since 1476s ago] ('Kevin', 1, 0)\n",
      "Kevin\n"
     ]
    }
   ],
   "source": [
    "student = session.query(Student).filter(Student.name == 'Jerin').first()\n",
    "student.name = \"Kevin\"\n",
    "session.commit()\n",
    "\n",
    "student = session.query(Student).filter(Student.name == 'Kevin').first()\n",
    "print(student.name)"
   ]
  },
  {
   "cell_type": "code",
   "execution_count": 13,
   "metadata": {},
   "outputs": [
    {
     "name": "stdout",
     "output_type": "stream",
     "text": [
      "2023-01-02 14:28:21,655 INFO sqlalchemy.engine.Engine SELECT student.id AS student_id, student.name AS student_name, student.age AS student_age, student.grade AS student_grade \n",
      "FROM student \n",
      "WHERE student.name = ?\n",
      " LIMIT ? OFFSET ?\n",
      "2023-01-02 14:28:21,656 INFO sqlalchemy.engine.Engine [cached since 1709s ago] ('Kevin', 1, 0)\n",
      "2023-01-02 14:28:21,658 INFO sqlalchemy.engine.Engine DELETE FROM student WHERE student.id = ?\n",
      "2023-01-02 14:28:21,659 INFO sqlalchemy.engine.Engine [generated in 0.00082s] (1,)\n",
      "2023-01-02 14:28:21,660 INFO sqlalchemy.engine.Engine COMMIT\n"
     ]
    }
   ],
   "source": [
    "student = session.query(Student).filter(Student.name==\"Kevin\").first()\n",
    "session.delete(student)\n",
    "session.commit()"
   ]
  }
 ],
 "metadata": {
  "kernelspec": {
   "display_name": "venv05",
   "language": "python",
   "name": "python3"
  },
  "language_info": {
   "codemirror_mode": {
    "name": "ipython",
    "version": 3
   },
   "file_extension": ".py",
   "mimetype": "text/x-python",
   "name": "python",
   "nbconvert_exporter": "python",
   "pygments_lexer": "ipython3",
   "version": "3.10.6 (v3.10.6:9c7b4bd164, Aug  1 2022, 17:13:48) [Clang 13.0.0 (clang-1300.0.29.30)]"
  },
  "orig_nbformat": 4,
  "vscode": {
   "interpreter": {
    "hash": "85c44cad9f5d14724dda7a6d7f0e4971d2a809ed59c2c40b9225ea77a670a3d5"
   }
  }
 },
 "nbformat": 4,
 "nbformat_minor": 2
}
