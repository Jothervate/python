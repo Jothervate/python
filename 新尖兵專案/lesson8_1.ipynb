{
 "cells": [
  {
   "cell_type": "code",
   "execution_count": 3,
   "id": "558985c9",
   "metadata": {},
   "outputs": [],
   "source": [
    "file = open('oop.txt',mode='w')\n",
    "print('建立一個文字檔',file=file)\n",
    "file.close()"
   ]
  },
  {
   "cell_type": "code",
   "execution_count": 4,
   "id": "6ea63eeb",
   "metadata": {},
   "outputs": [
    {
     "name": "stdout",
     "output_type": "stream",
     "text": [
      "建立一個文字檔\n",
      "\n"
     ]
    }
   ],
   "source": [
    "file = open('oop.txt')\n",
    "print(file.read())\n",
    "file.close()"
   ]
  },
  {
   "cell_type": "code",
   "execution_count": 5,
   "id": "2a749891",
   "metadata": {},
   "outputs": [
    {
     "data": {
      "text/plain": [
       "True"
      ]
     },
     "execution_count": 5,
     "metadata": {},
     "output_type": "execute_result"
    }
   ],
   "source": [
    "#使用exists()檢查檔案是否存在\n",
    "import os\n",
    "os.path.exists('oop.txt')"
   ]
  },
  {
   "cell_type": "code",
   "execution_count": 6,
   "id": "fb7ce9d5",
   "metadata": {},
   "outputs": [
    {
     "data": {
      "text/plain": [
       "True"
      ]
     },
     "execution_count": 6,
     "metadata": {},
     "output_type": "execute_result"
    }
   ],
   "source": [
    "os.path.exists('./oop.txt')"
   ]
  },
  {
   "cell_type": "code",
   "execution_count": 7,
   "id": "42a368d1",
   "metadata": {},
   "outputs": [
    {
     "data": {
      "text/plain": [
       "False"
      ]
     },
     "execution_count": 7,
     "metadata": {},
     "output_type": "execute_result"
    }
   ],
   "source": [
    "os.path.exists('./.gitignore')"
   ]
  },
  {
   "cell_type": "code",
   "execution_count": 8,
   "id": "ce49d7b6",
   "metadata": {},
   "outputs": [
    {
     "data": {
      "text/plain": [
       "True"
      ]
     },
     "execution_count": 8,
     "metadata": {},
     "output_type": "execute_result"
    }
   ],
   "source": [
    "os.path.exists('../')"
   ]
  },
  {
   "cell_type": "code",
   "execution_count": 9,
   "id": "f4ea5bde",
   "metadata": {},
   "outputs": [
    {
     "data": {
      "text/plain": [
       "True"
      ]
     },
     "execution_count": 9,
     "metadata": {},
     "output_type": "execute_result"
    }
   ],
   "source": [
    "#isfile()\n",
    "os.path.isfile('oop.txt')"
   ]
  },
  {
   "cell_type": "code",
   "execution_count": 10,
   "id": "dbb18d89",
   "metadata": {},
   "outputs": [
    {
     "data": {
      "text/plain": [
       "'/Users/roberthsu/Documents/GitHub/python/新尖兵專案/oop.txt'"
      ]
     },
     "execution_count": 10,
     "metadata": {},
     "output_type": "execute_result"
    }
   ],
   "source": [
    "#取得檔案絕對路徑abspath()\n",
    "os.path.abspath('./oop.txt')"
   ]
  },
  {
   "cell_type": "code",
   "execution_count": 11,
   "id": "4d7a3e9e",
   "metadata": {},
   "outputs": [
    {
     "data": {
      "text/plain": [
       "'/Users/roberthsu/Documents/GitHub/python/新尖兵專案'"
      ]
     },
     "execution_count": 11,
     "metadata": {},
     "output_type": "execute_result"
    }
   ],
   "source": [
    "#取得當前目錄路徑\n",
    "os.path.abspath('.')"
   ]
  },
  {
   "cell_type": "code",
   "execution_count": 12,
   "id": "5ec08bca",
   "metadata": {},
   "outputs": [
    {
     "data": {
      "text/plain": [
       "'/Users/roberthsu/Documents/GitHub/python'"
      ]
     },
     "execution_count": 12,
     "metadata": {},
     "output_type": "execute_result"
    }
   ],
   "source": [
    "os.path.abspath('../')"
   ]
  },
  {
   "cell_type": "code",
   "execution_count": 13,
   "id": "f419c50a",
   "metadata": {},
   "outputs": [
    {
     "data": {
      "text/plain": [
       "'/Users/roberthsu/Documents/GitHub'"
      ]
     },
     "execution_count": 13,
     "metadata": {},
     "output_type": "execute_result"
    }
   ],
   "source": [
    "os.path.abspath('../../')"
   ]
  },
  {
   "cell_type": "code",
   "execution_count": 14,
   "id": "4374a3cc",
   "metadata": {},
   "outputs": [
    {
     "data": {
      "text/plain": [
       "True"
      ]
     },
     "execution_count": 14,
     "metadata": {},
     "output_type": "execute_result"
    }
   ],
   "source": [
    "os.path.isdir('.')"
   ]
  },
  {
   "cell_type": "code",
   "execution_count": 15,
   "id": "6523aebb",
   "metadata": {},
   "outputs": [
    {
     "data": {
      "text/plain": [
       "False"
      ]
     },
     "execution_count": 15,
     "metadata": {},
     "output_type": "execute_result"
    }
   ],
   "source": [
    "os.path.isdir('./abc')"
   ]
  },
  {
   "cell_type": "code",
   "execution_count": 16,
   "id": "8ecbd879",
   "metadata": {},
   "outputs": [
    {
     "data": {
      "text/plain": [
       "False"
      ]
     },
     "execution_count": 16,
     "metadata": {},
     "output_type": "execute_result"
    }
   ],
   "source": [
    "os.path.exists('./abc')"
   ]
  },
  {
   "cell_type": "code",
   "execution_count": 18,
   "id": "c04d7183",
   "metadata": {},
   "outputs": [
    {
     "data": {
      "text/plain": [
       "False"
      ]
     },
     "execution_count": 18,
     "metadata": {},
     "output_type": "execute_result"
    }
   ],
   "source": [
    "os.remove('oop.txt')\n",
    "os.path.exists('oop.txt')"
   ]
  },
  {
   "cell_type": "code",
   "execution_count": 19,
   "id": "4a97943b",
   "metadata": {},
   "outputs": [],
   "source": [
    "if not os.path.isdir('abc'):\n",
    "    os.mkdir('abc')"
   ]
  },
  {
   "cell_type": "code",
   "execution_count": 21,
   "id": "fa428b02",
   "metadata": {},
   "outputs": [],
   "source": [
    "if not os.path.exists('./abc/a.txt'):\n",
    "    file = open('./abc/a.txt',mode='w')\n",
    "    print('hello! World!',file=file)\n"
   ]
  },
  {
   "cell_type": "code",
   "execution_count": 23,
   "id": "76f9ee8e",
   "metadata": {},
   "outputs": [
    {
     "data": {
      "text/plain": [
       "['a.txt']"
      ]
     },
     "execution_count": 23,
     "metadata": {},
     "output_type": "execute_result"
    }
   ],
   "source": [
    "os.listdir('./abc')"
   ]
  },
  {
   "cell_type": "code",
   "execution_count": null,
   "id": "55ba66a6",
   "metadata": {},
   "outputs": [],
   "source": []
  }
 ],
 "metadata": {
  "kernelspec": {
   "display_name": "Python 3 (ipykernel)",
   "language": "python",
   "name": "python3"
  },
  "language_info": {
   "codemirror_mode": {
    "name": "ipython",
    "version": 3
   },
   "file_extension": ".py",
   "mimetype": "text/x-python",
   "name": "python",
   "nbconvert_exporter": "python",
   "pygments_lexer": "ipython3",
   "version": "3.9.9"
  }
 },
 "nbformat": 4,
 "nbformat_minor": 5
}
