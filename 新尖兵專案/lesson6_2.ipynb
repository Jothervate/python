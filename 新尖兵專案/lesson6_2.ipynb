{
 "cells": [
  {
   "cell_type": "code",
   "execution_count": 1,
   "id": "999c6d4a",
   "metadata": {},
   "outputs": [],
   "source": [
    "class Person():\n",
    "    pass\n",
    "\n",
    "someone = Person()"
   ]
  },
  {
   "cell_type": "code",
   "execution_count": 2,
   "id": "f656fc1a",
   "metadata": {},
   "outputs": [
    {
     "data": {
      "text/plain": [
       "'Robert'"
      ]
     },
     "execution_count": 2,
     "metadata": {},
     "output_type": "execute_result"
    }
   ],
   "source": [
    "class Person():\n",
    "    def __init__(self):\n",
    "        self.name  = \"Robert\"\n",
    "        \n",
    "someone = Person()\n",
    "someone.name"
   ]
  },
  {
   "cell_type": "code",
   "execution_count": 3,
   "id": "27dda6ab",
   "metadata": {},
   "outputs": [
    {
     "data": {
      "text/plain": [
       "'Jenny'"
      ]
     },
     "execution_count": 3,
     "metadata": {},
     "output_type": "execute_result"
    }
   ],
   "source": [
    "class Person():\n",
    "    #自訂的初始化\n",
    "    def __init__(self,name):\n",
    "        self.name  = name\n",
    "        \n",
    "someone = Person(\"Jenny\")\n",
    "someone.name"
   ]
  },
  {
   "cell_type": "code",
   "execution_count": 6,
   "id": "650c3ff3",
   "metadata": {},
   "outputs": [
    {
     "name": "stdout",
     "output_type": "stream",
     "text": [
      "此人的姓名是:Jenny\n"
     ]
    }
   ],
   "source": [
    "class Person():\n",
    "    #自訂的初始化\n",
    "    def __init__(self,name):\n",
    "        self.name  = name\n",
    "        \n",
    "    def __repr__(self):\n",
    "        return f\"此人的姓名是:{self.name}\"\n",
    "        \n",
    "someone = Person(\"Jenny\")\n",
    "print(someone)"
   ]
  },
  {
   "cell_type": "code",
   "execution_count": 7,
   "id": "e756df60",
   "metadata": {},
   "outputs": [],
   "source": [
    "class Car():\n",
    "    pass\n",
    "\n",
    "class Yugo(Car):\n",
    "    pass\n",
    "\n",
    "give_me_a_car = Car()\n",
    "give_me_a_yugo = Yugo()"
   ]
  },
  {
   "cell_type": "code",
   "execution_count": 11,
   "id": "24074019",
   "metadata": {},
   "outputs": [
    {
     "name": "stdout",
     "output_type": "stream",
     "text": [
      "我是car\n",
      "我是Yugo\n",
      "只有子類別有這個method\n"
     ]
    }
   ],
   "source": [
    "class Car():\n",
    "    def exclaim(self):\n",
    "        print(\"我是car\")\n",
    "\n",
    "class Yugo(Car):\n",
    "    #覆寫父類別的method\n",
    "    def exclaim(self):\n",
    "        print(\"我是Yugo\")\n",
    "        \n",
    "    def need_a_push(self):\n",
    "        print(\"只有子類別有這個method\")\n",
    "\n",
    "give_me_a_car = Car()\n",
    "give_me_a_yugo = Yugo()\n",
    "\n",
    "#Car的實體\n",
    "give_me_a_car.exclaim()\n",
    "\n",
    "#Yugo的實體\n",
    "give_me_a_yugo.exclaim()\n",
    "\n",
    "#只有子類別有的實體方法\n",
    "give_me_a_yugo.need_a_push()"
   ]
  },
  {
   "cell_type": "code",
   "execution_count": 15,
   "id": "47e88bd0",
   "metadata": {},
   "outputs": [
    {
     "name": "stdout",
     "output_type": "stream",
     "text": [
      "所有子類別必需執行\n",
      "所有子類別必需執行\n",
      "所有子類別必需執行\n"
     ]
    }
   ],
   "source": [
    "class Person():\n",
    "    def __init__(self,name):\n",
    "        print(\"所有子類別必需執行\")\n",
    "        self.name = name        \n",
    "        \n",
    "\n",
    "class MDPerson(Person):\n",
    "    #覆寫\n",
    "    def __init__(self,name):\n",
    "        super().__init__(name)\n",
    "        self.name = \"醫生:\" + name\n",
    "\n",
    "class JDPerson(Person):\n",
    "    #覆寫\n",
    "    def __init__(self,name):\n",
    "        super().__init__(name);\n",
    "        self.name = \"律師:\" + name\n",
    "\n",
    "person = Person('Fudd')\n",
    "doctor = MDPerson('robert')\n",
    "lawyer = JDPerson(\"Alice\")"
   ]
  },
  {
   "cell_type": "code",
   "execution_count": 16,
   "id": "a347ff7b",
   "metadata": {},
   "outputs": [
    {
     "name": "stdout",
     "output_type": "stream",
     "text": [
      "robert\n",
      "robert@gmail.com\n"
     ]
    }
   ],
   "source": [
    "class Person():\n",
    "    def __init__(self,name):\n",
    "        self.name = name\n",
    "    \n",
    "class EmailPerson(Person):\n",
    "    def __init__(self,name,email):\n",
    "        super().__init__(name)\n",
    "        self.email = email\n",
    "        \n",
    "bob = EmailPerson(\"robert\",\"robert@gmail.com\")\n",
    "print(bob.name)\n",
    "print(bob.email)"
   ]
  },
  {
   "cell_type": "code",
   "execution_count": 18,
   "id": "acce271f",
   "metadata": {},
   "outputs": [
    {
     "data": {
      "text/plain": [
       "'Doc John'"
      ]
     },
     "execution_count": 18,
     "metadata": {},
     "output_type": "execute_result"
    }
   ],
   "source": [
    "class Person():\n",
    "    def __init__(self,name):\n",
    "        self.name = name\n",
    "john = Person('John')\n",
    "john.name = 'Doc John'\n",
    "john.name\n"
   ]
  },
  {
   "cell_type": "code",
   "execution_count": 19,
   "id": "05826969",
   "metadata": {},
   "outputs": [],
   "source": [
    "#property的目的，就是保護attribute\n",
    "class Person():\n",
    "    def __init__(self,name,hight,weight):\n",
    "        self.name = name\n",
    "        self.hight = hight\n",
    "        self.weight = weight"
   ]
  },
  {
   "cell_type": "code",
   "execution_count": 37,
   "id": "8cf998df",
   "metadata": {},
   "outputs": [
    {
     "name": "stdout",
     "output_type": "stream",
     "text": [
      "John\n",
      "178\n",
      "80\n",
      "78\n"
     ]
    }
   ],
   "source": [
    "#__attribut,代表private,不讓使用者知道有這個attribute\n",
    "class Person():\n",
    "    def __init__(self,name,hight,weight):\n",
    "        self.name = name\n",
    "        self.__hight = hight\n",
    "        self.__weight = weight\n",
    "    \n",
    "    @property\n",
    "    def hight(self):\n",
    "        return self.__hight\n",
    "    \n",
    "    @hight.setter\n",
    "    def hight(self, input_hight):\n",
    "        if(input_hight > 250):\n",
    "            self.__hight = 250\n",
    "        elif(input_hight < 80):\n",
    "            self.__hight = 80\n",
    "        else:\n",
    "            self.__hight = input_height\n",
    "            \n",
    "    @property\n",
    "    def weight(self):\n",
    "        return self.__weight\n",
    "    \n",
    "    \n",
    "       \n",
    "john = Person('John', 178, 78)\n",
    "print(john.name)\n",
    "print(john.hight)  #getter       \n",
    "john.hight = 50 #setter\n",
    "print(john.hight)\n",
    "# john.weight = 90 沒有實作property weight setter\n",
    "print(john.weight)"
   ]
  },
  {
   "cell_type": "code",
   "execution_count": null,
   "id": "a4703ae9",
   "metadata": {},
   "outputs": [],
   "source": []
  }
 ],
 "metadata": {
  "kernelspec": {
   "display_name": "Python 3 (ipykernel)",
   "language": "python",
   "name": "python3"
  },
  "language_info": {
   "codemirror_mode": {
    "name": "ipython",
    "version": 3
   },
   "file_extension": ".py",
   "mimetype": "text/x-python",
   "name": "python",
   "nbconvert_exporter": "python",
   "pygments_lexer": "ipython3",
   "version": "3.9.9"
  }
 },
 "nbformat": 4,
 "nbformat_minor": 5
}
