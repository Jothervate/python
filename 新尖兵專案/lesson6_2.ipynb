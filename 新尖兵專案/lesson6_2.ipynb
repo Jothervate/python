{
 "cells": [
  {
   "cell_type": "code",
   "execution_count": 1,
   "id": "04bba379",
   "metadata": {},
   "outputs": [],
   "source": [
    "class Person():\n",
    "    pass\n",
    "\n",
    "someone = Person()"
   ]
  },
  {
   "cell_type": "code",
   "execution_count": 2,
   "id": "671bc161",
   "metadata": {},
   "outputs": [
    {
     "data": {
      "text/plain": [
       "'Robert'"
      ]
     },
     "execution_count": 2,
     "metadata": {},
     "output_type": "execute_result"
    }
   ],
   "source": [
    "class Person():\n",
    "    def __init__(self):\n",
    "        self.name  = \"Robert\"\n",
    "        \n",
    "someone = Person()\n",
    "someone.name"
   ]
  },
  {
   "cell_type": "code",
   "execution_count": 3,
   "id": "16c8f002",
   "metadata": {},
   "outputs": [
    {
     "data": {
      "text/plain": [
       "'Jenny'"
      ]
     },
     "execution_count": 3,
     "metadata": {},
     "output_type": "execute_result"
    }
   ],
   "source": [
    "class Person():\n",
    "    #自訂的初始化\n",
    "    def __init__(self,name):\n",
    "        self.name  = name\n",
    "        \n",
    "someone = Person(\"Jenny\")\n",
    "someone.name"
   ]
  },
  {
   "cell_type": "code",
   "execution_count": 6,
   "id": "60b9da35",
   "metadata": {},
   "outputs": [
    {
     "name": "stdout",
     "output_type": "stream",
     "text": [
      "此人的姓名是:Jenny\n"
     ]
    }
   ],
   "source": [
    "class Person():\n",
    "    #自訂的初始化\n",
    "    def __init__(self,name):\n",
    "        self.name  = name\n",
    "        \n",
    "    def __repr__(self):\n",
    "        return f\"此人的姓名是:{self.name}\"\n",
    "        \n",
    "someone = Person(\"Jenny\")\n",
    "print(someone)"
   ]
  },
  {
   "cell_type": "code",
   "execution_count": 7,
   "id": "2937517c",
   "metadata": {},
   "outputs": [],
   "source": [
    "class Car():\n",
    "    pass\n",
    "\n",
    "class Yugo(Car):\n",
    "    pass\n",
    "\n",
    "give_me_a_car = Car()\n",
    "give_me_a_yugo = Yugo()"
   ]
  },
  {
   "cell_type": "code",
   "execution_count": 10,
   "id": "4932cbee",
   "metadata": {},
   "outputs": [
    {
     "name": "stdout",
     "output_type": "stream",
     "text": [
      "我是car\n",
      "我是Yugo\n"
     ]
    }
   ],
   "source": [
    "class Car():\n",
    "    def exclaim(self):\n",
    "        print(\"我是car\")\n",
    "\n",
    "class Yugo(Car):\n",
    "    #覆寫父類別的method\n",
    "    def exclaim(self):\n",
    "        print(\"我是Yugo\")\n",
    "\n",
    "give_me_a_car = Car()\n",
    "give_me_a_yugo = Yugo()\n",
    "\n",
    "#Car的實體\n",
    "give_me_a_car.exclaim()\n",
    "\n",
    "#Yugo的實體\n",
    "give_me_a_yugo.exclaim()"
   ]
  },
  {
   "cell_type": "code",
   "execution_count": null,
   "id": "ae957c81",
   "metadata": {},
   "outputs": [],
   "source": []
  }
 ],
 "metadata": {
  "kernelspec": {
   "display_name": "Python 3 (ipykernel)",
   "language": "python",
   "name": "python3"
  },
  "language_info": {
   "codemirror_mode": {
    "name": "ipython",
    "version": 3
   },
   "file_extension": ".py",
   "mimetype": "text/x-python",
   "name": "python",
   "nbconvert_exporter": "python",
   "pygments_lexer": "ipython3",
   "version": "3.9.9"
  }
 },
 "nbformat": 4,
 "nbformat_minor": 5
}
