{
 "cells": [
  {
   "cell_type": "code",
   "execution_count": 1,
   "id": "4dfb671d",
   "metadata": {},
   "outputs": [],
   "source": [
    "class Person():\n",
    "    pass\n",
    "\n",
    "someone = Person()"
   ]
  },
  {
   "cell_type": "code",
   "execution_count": 2,
   "id": "7716e8b8",
   "metadata": {},
   "outputs": [
    {
     "data": {
      "text/plain": [
       "'Robert'"
      ]
     },
     "execution_count": 2,
     "metadata": {},
     "output_type": "execute_result"
    }
   ],
   "source": [
    "class Person():\n",
    "    def __init__(self):\n",
    "        self.name  = \"Robert\"\n",
    "        \n",
    "someone = Person()\n",
    "someone.name"
   ]
  },
  {
   "cell_type": "code",
   "execution_count": 3,
   "id": "040111ec",
   "metadata": {},
   "outputs": [
    {
     "data": {
      "text/plain": [
       "'Jenny'"
      ]
     },
     "execution_count": 3,
     "metadata": {},
     "output_type": "execute_result"
    }
   ],
   "source": [
    "class Person():\n",
    "    #自訂的初始化\n",
    "    def __init__(self,name):\n",
    "        self.name  = name\n",
    "        \n",
    "someone = Person(\"Jenny\")\n",
    "someone.name"
   ]
  },
  {
   "cell_type": "code",
   "execution_count": 6,
   "id": "aa4a1589",
   "metadata": {},
   "outputs": [
    {
     "name": "stdout",
     "output_type": "stream",
     "text": [
      "此人的姓名是:Jenny\n"
     ]
    }
   ],
   "source": [
    "class Person():\n",
    "    #自訂的初始化\n",
    "    def __init__(self,name):\n",
    "        self.name  = name\n",
    "        \n",
    "    def __repr__(self):\n",
    "        return f\"此人的姓名是:{self.name}\"\n",
    "        \n",
    "someone = Person(\"Jenny\")\n",
    "print(someone)"
   ]
  },
  {
   "cell_type": "code",
   "execution_count": 7,
   "id": "a6c3c49b",
   "metadata": {},
   "outputs": [],
   "source": [
    "class Car():\n",
    "    pass\n",
    "\n",
    "class Yugo(Car):\n",
    "    pass\n",
    "\n",
    "give_me_a_car = Car()\n",
    "give_me_a_yugo = Yugo()"
   ]
  },
  {
   "cell_type": "code",
   "execution_count": 11,
   "id": "857ac516",
   "metadata": {},
   "outputs": [
    {
     "name": "stdout",
     "output_type": "stream",
     "text": [
      "我是car\n",
      "我是Yugo\n",
      "只有子類別有這個method\n"
     ]
    }
   ],
   "source": [
    "class Car():\n",
    "    def exclaim(self):\n",
    "        print(\"我是car\")\n",
    "\n",
    "class Yugo(Car):\n",
    "    #覆寫父類別的method\n",
    "    def exclaim(self):\n",
    "        print(\"我是Yugo\")\n",
    "        \n",
    "    def need_a_push(self):\n",
    "        print(\"只有子類別有這個method\")\n",
    "\n",
    "give_me_a_car = Car()\n",
    "give_me_a_yugo = Yugo()\n",
    "\n",
    "#Car的實體\n",
    "give_me_a_car.exclaim()\n",
    "\n",
    "#Yugo的實體\n",
    "give_me_a_yugo.exclaim()\n",
    "\n",
    "#只有子類別有的實體方法\n",
    "give_me_a_yugo.need_a_push()"
   ]
  },
  {
   "cell_type": "code",
   "execution_count": 15,
   "id": "744cbebc",
   "metadata": {},
   "outputs": [
    {
     "name": "stdout",
     "output_type": "stream",
     "text": [
      "所有子類別必需執行\n",
      "所有子類別必需執行\n",
      "所有子類別必需執行\n"
     ]
    }
   ],
   "source": [
    "class Person():\n",
    "    def __init__(self,name):\n",
    "        print(\"所有子類別必需執行\")\n",
    "        self.name = name        \n",
    "        \n",
    "\n",
    "class MDPerson(Person):\n",
    "    #覆寫\n",
    "    def __init__(self,name):\n",
    "        super().__init__(name)\n",
    "        self.name = \"醫生:\" + name\n",
    "\n",
    "class JDPerson(Person):\n",
    "    #覆寫\n",
    "    def __init__(self,name):\n",
    "        super().__init__(name);\n",
    "        self.name = \"律師:\" + name\n",
    "\n",
    "person = Person('Fudd')\n",
    "doctor = MDPerson('robert')\n",
    "lawyer = JDPerson(\"Alice\")"
   ]
  },
  {
   "cell_type": "code",
   "execution_count": 16,
   "id": "f1cf99e6",
   "metadata": {},
   "outputs": [
    {
     "name": "stdout",
     "output_type": "stream",
     "text": [
      "robert\n",
      "robert@gmail.com\n"
     ]
    }
   ],
   "source": [
    "class Person():\n",
    "    def __init__(self,name):\n",
    "        self.name = name\n",
    "    \n",
    "class EmailPerson(Person):\n",
    "    def __init__(self,name,email):\n",
    "        super().__init__(name)\n",
    "        self.email = email\n",
    "        \n",
    "bob = EmailPerson(\"robert\",\"robert@gmail.com\")\n",
    "print(bob.name)\n",
    "print(bob.email)"
   ]
  },
  {
   "cell_type": "code",
   "execution_count": null,
   "id": "eb8c1cb3",
   "metadata": {},
   "outputs": [],
   "source": []
  }
 ],
 "metadata": {
  "kernelspec": {
   "display_name": "Python 3 (ipykernel)",
   "language": "python",
   "name": "python3"
  },
  "language_info": {
   "codemirror_mode": {
    "name": "ipython",
    "version": 3
   },
   "file_extension": ".py",
   "mimetype": "text/x-python",
   "name": "python",
   "nbconvert_exporter": "python",
   "pygments_lexer": "ipython3",
   "version": "3.9.9"
  }
 },
 "nbformat": 4,
 "nbformat_minor": 5
}
