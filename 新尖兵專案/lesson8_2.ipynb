{
 "cells": [
  {
   "cell_type": "code",
   "execution_count": 5,
   "id": "1340cdf2",
   "metadata": {},
   "outputs": [],
   "source": [
    "#檢查檔案\n",
    "#檢查目錄\n",
    "#建立目錄\n",
    "#建立檔案\n",
    "\n",
    "import os\n",
    "\n",
    "text = '''python與中文\n",
    "1. 我們來試試看中文儲存能力。\n",
    "2. 許這個字會有編碼衝突風險。\n",
    "3. 犇這個字必須是utf8編碼才有。'''\n",
    "\n",
    "filename = 'test1.txt'\n",
    "if not os.path.exists('./save/'+filename):\n",
    "    if not os.path.isdir('./save'):\n",
    "        os.mkdir('./save')\n",
    "        file = open('./save/'+filename,mode='w')\n",
    "        file.write(text)\n",
    "        file.close()\n",
    "        \n"
   ]
  },
  {
   "cell_type": "code",
   "execution_count": 7,
   "id": "77892d45",
   "metadata": {},
   "outputs": [
    {
     "data": {
      "text/plain": [
       "[[89, 54, 54, 59, 79],\n",
       " [83, 96, 75, 81, 53],\n",
       " [94, 58, 96, 58, 91],\n",
       " [96, 90, 71, 78, 87],\n",
       " [62, 73, 55, 54, 59],\n",
       " [73, 95, 95, 83, 66],\n",
       " [51, 77, 80, 87, 88],\n",
       " [72, 69, 94, 72, 65],\n",
       " [81, 65, 84, 85, 93],\n",
       " [99, 81, 95, 80, 80],\n",
       " [63, 87, 66, 100, 53],\n",
       " [83, 80, 67, 77, 79],\n",
       " [69, 94, 52, 63, 71],\n",
       " [100, 62, 61, 74, 100],\n",
       " [84, 62, 95, 69, 58],\n",
       " [88, 82, 61, 65, 87],\n",
       " [83, 89, 78, 78, 72],\n",
       " [52, 89, 79, 88, 98],\n",
       " [83, 89, 65, 78, 98],\n",
       " [86, 54, 100, 57, 87],\n",
       " [51, 57, 75, 99, 66],\n",
       " [72, 72, 92, 66, 80],\n",
       " [77, 76, 52, 100, 51],\n",
       " [100, 83, 83, 54, 51],\n",
       " [83, 73, 80, 98, 64],\n",
       " [89, 50, 99, 64, 65],\n",
       " [53, 92, 63, 64, 80],\n",
       " [66, 53, 54, 64, 59],\n",
       " [79, 54, 61, 65, 68],\n",
       " [85, 70, 87, 67, 59],\n",
       " [87, 97, 97, 69, 92],\n",
       " [65, 67, 67, 96, 88],\n",
       " [58, 74, 57, 99, 69],\n",
       " [77, 82, 57, 50, 56],\n",
       " [76, 94, 70, 51, 51],\n",
       " [64, 65, 84, 90, 80],\n",
       " [79, 72, 93, 73, 60],\n",
       " [68, 77, 90, 68, 67],\n",
       " [56, 91, 61, 80, 56],\n",
       " [66, 52, 94, 58, 83],\n",
       " [74, 79, 65, 88, 86],\n",
       " [93, 55, 92, 76, 81],\n",
       " [94, 100, 94, 63, 65],\n",
       " [79, 58, 96, 71, 93],\n",
       " [74, 80, 81, 78, 89],\n",
       " [58, 83, 62, 58, 94],\n",
       " [70, 53, 54, 82, 52],\n",
       " [91, 68, 97, 78, 76],\n",
       " [64, 57, 73, 59, 65],\n",
       " [50, 95, 87, 61, 99]]"
      ]
     },
     "execution_count": 7,
     "metadata": {},
     "output_type": "execute_result"
    }
   ],
   "source": [
    "#建立50位學生,每位學生5個分數\n",
    "import random\n",
    "\n",
    "students = []\n",
    "for i in range(50):\n",
    "    scores = []\n",
    "    for j in range(5):\n",
    "        scores.append(random.randint(50,100))\n",
    "    students.append(scores)\n",
    "students"
   ]
  },
  {
   "cell_type": "code",
   "execution_count": null,
   "id": "6cdf1e23",
   "metadata": {},
   "outputs": [],
   "source": []
  }
 ],
 "metadata": {
  "kernelspec": {
   "display_name": "Python 3 (ipykernel)",
   "language": "python",
   "name": "python3"
  },
  "language_info": {
   "codemirror_mode": {
    "name": "ipython",
    "version": 3
   },
   "file_extension": ".py",
   "mimetype": "text/x-python",
   "name": "python",
   "nbconvert_exporter": "python",
   "pygments_lexer": "ipython3",
   "version": "3.9.9"
  }
 },
 "nbformat": 4,
 "nbformat_minor": 5
}
