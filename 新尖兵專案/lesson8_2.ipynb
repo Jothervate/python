{
 "cells": [
  {
   "cell_type": "code",
   "execution_count": 5,
   "id": "a7a259fa",
   "metadata": {},
   "outputs": [],
   "source": [
    "#檢查檔案\n",
    "#檢查目錄\n",
    "#建立目錄\n",
    "#建立檔案\n",
    "\n",
    "import os\n",
    "\n",
    "text = '''python與中文\n",
    "1. 我們來試試看中文儲存能力。\n",
    "2. 許這個字會有編碼衝突風險。\n",
    "3. 犇這個字必須是utf8編碼才有。'''\n",
    "\n",
    "filename = 'test1.txt'\n",
    "if not os.path.exists('./save/'+filename):\n",
    "    if not os.path.isdir('./save'):\n",
    "        os.mkdir('./save')\n",
    "        file = open('./save/'+filename,mode='w')\n",
    "        file.write(text)\n",
    "        file.close()\n",
    "        \n"
   ]
  },
  {
   "cell_type": "code",
   "execution_count": 7,
   "id": "bbf26d04",
   "metadata": {},
   "outputs": [
    {
     "data": {
      "text/plain": [
       "[[89, 54, 54, 59, 79],\n",
       " [83, 96, 75, 81, 53],\n",
       " [94, 58, 96, 58, 91],\n",
       " [96, 90, 71, 78, 87],\n",
       " [62, 73, 55, 54, 59],\n",
       " [73, 95, 95, 83, 66],\n",
       " [51, 77, 80, 87, 88],\n",
       " [72, 69, 94, 72, 65],\n",
       " [81, 65, 84, 85, 93],\n",
       " [99, 81, 95, 80, 80],\n",
       " [63, 87, 66, 100, 53],\n",
       " [83, 80, 67, 77, 79],\n",
       " [69, 94, 52, 63, 71],\n",
       " [100, 62, 61, 74, 100],\n",
       " [84, 62, 95, 69, 58],\n",
       " [88, 82, 61, 65, 87],\n",
       " [83, 89, 78, 78, 72],\n",
       " [52, 89, 79, 88, 98],\n",
       " [83, 89, 65, 78, 98],\n",
       " [86, 54, 100, 57, 87],\n",
       " [51, 57, 75, 99, 66],\n",
       " [72, 72, 92, 66, 80],\n",
       " [77, 76, 52, 100, 51],\n",
       " [100, 83, 83, 54, 51],\n",
       " [83, 73, 80, 98, 64],\n",
       " [89, 50, 99, 64, 65],\n",
       " [53, 92, 63, 64, 80],\n",
       " [66, 53, 54, 64, 59],\n",
       " [79, 54, 61, 65, 68],\n",
       " [85, 70, 87, 67, 59],\n",
       " [87, 97, 97, 69, 92],\n",
       " [65, 67, 67, 96, 88],\n",
       " [58, 74, 57, 99, 69],\n",
       " [77, 82, 57, 50, 56],\n",
       " [76, 94, 70, 51, 51],\n",
       " [64, 65, 84, 90, 80],\n",
       " [79, 72, 93, 73, 60],\n",
       " [68, 77, 90, 68, 67],\n",
       " [56, 91, 61, 80, 56],\n",
       " [66, 52, 94, 58, 83],\n",
       " [74, 79, 65, 88, 86],\n",
       " [93, 55, 92, 76, 81],\n",
       " [94, 100, 94, 63, 65],\n",
       " [79, 58, 96, 71, 93],\n",
       " [74, 80, 81, 78, 89],\n",
       " [58, 83, 62, 58, 94],\n",
       " [70, 53, 54, 82, 52],\n",
       " [91, 68, 97, 78, 76],\n",
       " [64, 57, 73, 59, 65],\n",
       " [50, 95, 87, 61, 99]]"
      ]
     },
     "execution_count": 7,
     "metadata": {},
     "output_type": "execute_result"
    }
   ],
   "source": [
    "#建立50位學生,每位學生5個分數\n",
    "import random\n",
    "\n",
    "students = []\n",
    "for i in range(50):\n",
    "    scores = []\n",
    "    for j in range(5):\n",
    "        scores.append(random.randint(50,100))\n",
    "    students.append(scores)\n",
    "students"
   ]
  },
  {
   "cell_type": "code",
   "execution_count": 10,
   "id": "dc7eefe4",
   "metadata": {},
   "outputs": [],
   "source": [
    "import os\n",
    "\n",
    "students = [[random.randint(50,100) for _ in range(5)] for _ in range(50)]\n",
    "str(students)\n",
    "\n",
    "if not os.path.isdir('./save'):\n",
    "    os.mkdir('./save')\n",
    "else:\n",
    "    if not os.path.exists('./save/students.txt'):\n",
    "        file = open('./save/students.txt',mode='w')\n",
    "        file.write(str(students))\n",
    "        file.close()"
   ]
  },
  {
   "cell_type": "code",
   "execution_count": 11,
   "id": "3a997e20",
   "metadata": {},
   "outputs": [
    {
     "name": "stdout",
     "output_type": "stream",
     "text": [
      "robert  __enter__\n",
      "robert\n",
      "robert  __exit__\n"
     ]
    }
   ],
   "source": [
    "class Resource:\n",
    "    def __init__(self, name):\n",
    "        self.name = name\n",
    "\n",
    "    def __enter__(self):\n",
    "        print(self.name, ' __enter__')\n",
    "        return self\n",
    "\n",
    "    def __exit__(self, type, value, traceback):\n",
    "        print(self.name, ' __exit__')\n",
    "        return False\n",
    "\n",
    "with Resource('robert') as res:\n",
    "    print(res.name)\n"
   ]
  },
  {
   "cell_type": "code",
   "execution_count": 12,
   "id": "6e328d3a",
   "metadata": {},
   "outputs": [
    {
     "name": "stdout",
     "output_type": "stream",
     "text": [
      "寫入完畢\n",
      "關閉檔案\n"
     ]
    }
   ],
   "source": [
    "#建立csv檔案\n",
    "import os\n",
    "import csv\n",
    "filename = 'students.csv'\n",
    "if os.path.isdir('./save') and not os.path.exists('./save/'+filename):    \n",
    "    with open('./save/'+filename,mode='w',newline='',encoding='utf-8') as file:\n",
    "        writerObj = csv.writer(file)\n",
    "        writerObj.writerow(['國文','英文','數學','地理','自然'])\n",
    "        for student in students:\n",
    "            writerObj.writerow(student)\n",
    "        print('寫入完畢')\n",
    "    print('關閉檔案')\n"
   ]
  },
  {
   "cell_type": "code",
   "execution_count": 15,
   "id": "316c8074",
   "metadata": {},
   "outputs": [
    {
     "data": {
      "text/plain": [
       "[['國文', '英文', '數學', '地理', '自然'],\n",
       " ['79', '59', '64', '73', '78'],\n",
       " ['51', '79', '59', '74', '73'],\n",
       " ['83', '67', '88', '77', '80'],\n",
       " ['99', '89', '56', '95', '62'],\n",
       " ['80', '59', '75', '59', '59'],\n",
       " ['88', '81', '90', '59', '77'],\n",
       " ['56', '71', '91', '98', '60'],\n",
       " ['65', '83', '75', '75', '70'],\n",
       " ['63', '80', '89', '90', '87'],\n",
       " ['79', '65', '50', '94', '68'],\n",
       " ['75', '66', '74', '51', '87'],\n",
       " ['59', '100', '51', '75', '98'],\n",
       " ['70', '89', '70', '64', '91'],\n",
       " ['58', '68', '79', '95', '89'],\n",
       " ['62', '95', '100', '83', '89'],\n",
       " ['64', '98', '84', '97', '61'],\n",
       " ['81', '99', '72', '55', '71'],\n",
       " ['51', '84', '90', '54', '94'],\n",
       " ['87', '61', '96', '64', '52'],\n",
       " ['61', '77', '95', '87', '97'],\n",
       " ['81', '60', '55', '64', '81'],\n",
       " ['95', '100', '93', '94', '60'],\n",
       " ['60', '57', '82', '63', '86'],\n",
       " ['55', '64', '79', '67', '85'],\n",
       " ['92', '63', '73', '90', '70'],\n",
       " ['78', '73', '54', '94', '56'],\n",
       " ['76', '72', '100', '86', '83'],\n",
       " ['89', '52', '98', '81', '94'],\n",
       " ['98', '92', '100', '54', '63'],\n",
       " ['83', '69', '85', '94', '67'],\n",
       " ['96', '51', '54', '89', '92'],\n",
       " ['94', '71', '97', '86', '60'],\n",
       " ['82', '51', '51', '78', '56'],\n",
       " ['50', '90', '71', '83', '96'],\n",
       " ['50', '99', '94', '96', '54'],\n",
       " ['97', '96', '91', '73', '80'],\n",
       " ['65', '87', '71', '78', '59'],\n",
       " ['64', '61', '78', '64', '90'],\n",
       " ['96', '52', '83', '69', '87'],\n",
       " ['54', '53', '54', '82', '52'],\n",
       " ['55', '92', '78', '87', '82'],\n",
       " ['83', '61', '85', '84', '80'],\n",
       " ['95', '89', '94', '64', '92'],\n",
       " ['90', '67', '51', '83', '74'],\n",
       " ['100', '80', '91', '86', '61'],\n",
       " ['62', '71', '90', '78', '68'],\n",
       " ['61', '74', '67', '82', '74'],\n",
       " ['72', '57', '90', '85', '93'],\n",
       " ['98', '50', '51', '64', '88'],\n",
       " ['76', '86', '97', '76', '80']]"
      ]
     },
     "execution_count": 15,
     "metadata": {},
     "output_type": "execute_result"
    }
   ],
   "source": [
    "#讀取csv檔案\n",
    "filename='students.csv'\n",
    "if os.path.exists('./save/'+filename):\n",
    "    with open('./save/'+filename,newline='',encoding='utf-8') as file:\n",
    "        csvReader = csv.reader(file)\n",
    "        #for line in csvReader:\n",
    "            #print(line)\n",
    "        csvlist = list(csvReader)\n",
    "csvlist"
   ]
  },
  {
   "cell_type": "code",
   "execution_count": null,
   "id": "4ddc6c7a",
   "metadata": {},
   "outputs": [],
   "source": []
  }
 ],
 "metadata": {
  "kernelspec": {
   "display_name": "Python 3 (ipykernel)",
   "language": "python",
   "name": "python3"
  },
  "language_info": {
   "codemirror_mode": {
    "name": "ipython",
    "version": 3
   },
   "file_extension": ".py",
   "mimetype": "text/x-python",
   "name": "python",
   "nbconvert_exporter": "python",
   "pygments_lexer": "ipython3",
   "version": "3.9.9"
  }
 },
 "nbformat": 4,
 "nbformat_minor": 5
}
