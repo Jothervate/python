{
 "cells": [
  {
   "cell_type": "code",
   "execution_count": 5,
   "id": "8dbb1f43",
   "metadata": {},
   "outputs": [],
   "source": [
    "#檢查檔案\n",
    "#檢查目錄\n",
    "#建立目錄\n",
    "#建立檔案\n",
    "\n",
    "import os\n",
    "\n",
    "text = '''python與中文\n",
    "1. 我們來試試看中文儲存能力。\n",
    "2. 許這個字會有編碼衝突風險。\n",
    "3. 犇這個字必須是utf8編碼才有。'''\n",
    "\n",
    "filename = 'test1.txt'\n",
    "if not os.path.exists('./save/'+filename):\n",
    "    if not os.path.isdir('./save'):\n",
    "        os.mkdir('./save')\n",
    "        file = open('./save/'+filename,mode='w')\n",
    "        file.write(text)\n",
    "        file.close()\n",
    "        \n"
   ]
  },
  {
   "cell_type": "code",
   "execution_count": null,
   "id": "e9c2862a",
   "metadata": {},
   "outputs": [],
   "source": []
  }
 ],
 "metadata": {
  "kernelspec": {
   "display_name": "Python 3 (ipykernel)",
   "language": "python",
   "name": "python3"
  },
  "language_info": {
   "codemirror_mode": {
    "name": "ipython",
    "version": 3
   },
   "file_extension": ".py",
   "mimetype": "text/x-python",
   "name": "python",
   "nbconvert_exporter": "python",
   "pygments_lexer": "ipython3",
   "version": "3.9.9"
  }
 },
 "nbformat": 4,
 "nbformat_minor": 5
}
