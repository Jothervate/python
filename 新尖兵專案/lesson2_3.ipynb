{
 "cells": [
  {
   "cell_type": "code",
   "execution_count": 2,
   "id": "561c19a0",
   "metadata": {},
   "outputs": [
    {
     "data": {
      "text/plain": [
       "list"
      ]
     },
     "execution_count": 2,
     "metadata": {},
     "output_type": "execute_result"
    }
   ],
   "source": [
    "empty_list = []\n",
    "empty_list\n",
    "empty_list.__class__"
   ]
  },
  {
   "cell_type": "code",
   "execution_count": 4,
   "id": "08dd9b6a",
   "metadata": {},
   "outputs": [
    {
     "data": {
      "text/plain": [
       "['星期一', '星期二', '星期三', '星期四', '星期五', '星期六', '星期日']"
      ]
     },
     "execution_count": 4,
     "metadata": {},
     "output_type": "execute_result"
    }
   ],
   "source": [
    "weekdays = ['星期一', '星期二', '星期三', '星期四', '星期五', '星期六', '星期日']\n",
    "weekdays"
   ]
  },
  {
   "cell_type": "code",
   "execution_count": 5,
   "id": "6a8a317b",
   "metadata": {},
   "outputs": [
    {
     "name": "stdout",
     "output_type": "stream",
     "text": [
      "星期一\n",
      "星期二\n",
      "星期三\n",
      "星期四\n",
      "星期五\n",
      "星期六\n",
      "星期日\n"
     ]
    }
   ],
   "source": [
    "for week in weekdays:\n",
    "    print(week)"
   ]
  },
  {
   "cell_type": "code",
   "execution_count": 6,
   "id": "2c1edaeb",
   "metadata": {},
   "outputs": [
    {
     "data": {
      "text/plain": [
       "[]"
      ]
     },
     "execution_count": 6,
     "metadata": {},
     "output_type": "execute_result"
    }
   ],
   "source": [
    "another_empty = list()\n",
    "another_empty"
   ]
  },
  {
   "cell_type": "code",
   "execution_count": 7,
   "id": "651eefd3",
   "metadata": {},
   "outputs": [
    {
     "data": {
      "text/plain": [
       "['c', 'a', 't']"
      ]
     },
     "execution_count": 7,
     "metadata": {},
     "output_type": "execute_result"
    }
   ],
   "source": [
    "#使用list()建立list\n",
    "list('cat')"
   ]
  },
  {
   "cell_type": "code",
   "execution_count": 9,
   "id": "f8888e80",
   "metadata": {},
   "outputs": [
    {
     "data": {
      "text/plain": [
       "[1, 2, 3, 4, 5, 6, 7, 8, 9]"
      ]
     },
     "execution_count": 9,
     "metadata": {},
     "output_type": "execute_result"
    }
   ],
   "source": [
    "list(range(1,10))"
   ]
  },
  {
   "cell_type": "code",
   "execution_count": 10,
   "id": "7231713c",
   "metadata": {},
   "outputs": [
    {
     "data": {
      "text/plain": [
       "['ready', 'fire', 'aim']"
      ]
     },
     "execution_count": 10,
     "metadata": {},
     "output_type": "execute_result"
    }
   ],
   "source": [
    "list(('ready', 'fire', 'aim'))"
   ]
  },
  {
   "cell_type": "code",
   "execution_count": 12,
   "id": "0066a200",
   "metadata": {},
   "outputs": [
    {
     "data": {
      "text/plain": [
       "'台北'"
      ]
     },
     "execution_count": 12,
     "metadata": {},
     "output_type": "execute_result"
    }
   ],
   "source": [
    "citys = ['台北', '台中', '高雄']\n",
    "citys[0]\n",
    "citys[-3]"
   ]
  },
  {
   "cell_type": "code",
   "execution_count": 13,
   "id": "79be762b",
   "metadata": {},
   "outputs": [
    {
     "ename": "IndexError",
     "evalue": "list index out of range",
     "output_type": "error",
     "traceback": [
      "\u001b[0;31m---------------------------------------------------------------------------\u001b[0m",
      "\u001b[0;31mIndexError\u001b[0m                                Traceback (most recent call last)",
      "\u001b[0;32m/var/folders/by/68nnsq553f59kbs1v470m4k40000gp/T/ipykernel_1650/667851545.py\u001b[0m in \u001b[0;36m<module>\u001b[0;34m\u001b[0m\n\u001b[0;32m----> 1\u001b[0;31m \u001b[0mcitys\u001b[0m\u001b[0;34m[\u001b[0m\u001b[0;36m3\u001b[0m\u001b[0;34m]\u001b[0m\u001b[0;34m\u001b[0m\u001b[0;34m\u001b[0m\u001b[0m\n\u001b[0m",
      "\u001b[0;31mIndexError\u001b[0m: list index out of range"
     ]
    }
   ],
   "source": [
    "citys[3]"
   ]
  },
  {
   "cell_type": "code",
   "execution_count": 14,
   "id": "0b81f0f9",
   "metadata": {},
   "outputs": [
    {
     "data": {
      "text/plain": [
       "['H', 'e', 'l', 'l', 'o', 'W', 'o', 'r', 'l', 'd']"
      ]
     },
     "execution_count": 14,
     "metadata": {},
     "output_type": "execute_result"
    }
   ],
   "source": [
    "list1=['H','e','l','l','o', 'W','o','r','l','d']\n",
    "list1"
   ]
  },
  {
   "cell_type": "code",
   "execution_count": 19,
   "id": "51a8bdab",
   "metadata": {},
   "outputs": [
    {
     "data": {
      "text/plain": [
       "['e', 'l']"
      ]
     },
     "execution_count": 19,
     "metadata": {},
     "output_type": "execute_result"
    }
   ],
   "source": [
    "#list slice\n",
    "list1[1:3]"
   ]
  },
  {
   "cell_type": "code",
   "execution_count": 20,
   "id": "6a658763",
   "metadata": {},
   "outputs": [
    {
     "data": {
      "text/plain": [
       "['H', 'e', 'l', 'l', 'o']"
      ]
     },
     "execution_count": 20,
     "metadata": {},
     "output_type": "execute_result"
    }
   ],
   "source": [
    "list1[:5]"
   ]
  },
  {
   "cell_type": "code",
   "execution_count": 21,
   "id": "88dfed3c",
   "metadata": {},
   "outputs": [
    {
     "data": {
      "text/plain": [
       "['W', 'o', 'r', 'l', 'd']"
      ]
     },
     "execution_count": 21,
     "metadata": {},
     "output_type": "execute_result"
    }
   ],
   "source": [
    "list1[-5:]"
   ]
  },
  {
   "cell_type": "code",
   "execution_count": 22,
   "id": "f40f6cbf",
   "metadata": {},
   "outputs": [
    {
     "data": {
      "text/plain": [
       "[['筆記電腦', '商用筆電'], ['APPLE', 'ASUS', 'HTC'], [3, '冰箱', 2, '洗衣機']]"
      ]
     },
     "execution_count": 22,
     "metadata": {},
     "output_type": "execute_result"
    }
   ],
   "source": [
    "nb = ['筆記電腦', '商用筆電']\n",
    "mobile = ['APPLE', 'ASUS', 'HTC'] \n",
    "home = [3, '冰箱', 2, '洗衣機']\n",
    "\n",
    "#2維的list\n",
    "all3c = [nb, mobile, home]\n",
    "all3c"
   ]
  },
  {
   "cell_type": "code",
   "execution_count": 23,
   "id": "e8be4ef5",
   "metadata": {},
   "outputs": [
    {
     "data": {
      "text/plain": [
       "'冰箱'"
      ]
     },
     "execution_count": 23,
     "metadata": {},
     "output_type": "execute_result"
    }
   ],
   "source": [
    "all3c[2][1]"
   ]
  },
  {
   "cell_type": "code",
   "execution_count": 24,
   "id": "3f66eebf",
   "metadata": {},
   "outputs": [
    {
     "data": {
      "text/plain": [
       "3"
      ]
     },
     "execution_count": 24,
     "metadata": {},
     "output_type": "execute_result"
    }
   ],
   "source": [
    "list1 = ['a', 'b', 'c']\n",
    "len(list1)"
   ]
  },
  {
   "cell_type": "code",
   "execution_count": 25,
   "id": "a7ddc4e5",
   "metadata": {},
   "outputs": [
    {
     "data": {
      "text/plain": [
       "['a', 'b', 'c', 'd']"
      ]
     },
     "execution_count": 25,
     "metadata": {},
     "output_type": "execute_result"
    }
   ],
   "source": [
    "list1.append('d')\n",
    "list1"
   ]
  },
  {
   "cell_type": "code",
   "execution_count": 28,
   "id": "aeabc537",
   "metadata": {},
   "outputs": [
    {
     "data": {
      "text/plain": [
       "[[86, 99, 92, 94, 70],\n",
       " [73, 91, 87, 74, 81],\n",
       " [86, 87, 66, 87, 90],\n",
       " [65, 65, 71, 99, 69],\n",
       " [83, 89, 79, 72, 73],\n",
       " [62, 65, 69, 92, 89],\n",
       " [90, 78, 83, 69, 81],\n",
       " [72, 93, 65, 85, 77],\n",
       " [64, 72, 93, 79, 63],\n",
       " [62, 60, 96, 86, 61],\n",
       " [94, 83, 81, 80, 64],\n",
       " [83, 93, 94, 81, 72],\n",
       " [79, 98, 70, 99, 72],\n",
       " [67, 86, 82, 64, 85],\n",
       " [62, 88, 99, 87, 66],\n",
       " [97, 99, 73, 71, 75],\n",
       " [79, 62, 62, 97, 80],\n",
       " [75, 88, 94, 92, 86],\n",
       " [84, 78, 62, 93, 96],\n",
       " [99, 63, 78, 93, 89],\n",
       " [68, 81, 73, 99, 64],\n",
       " [91, 87, 65, 91, 83],\n",
       " [78, 80, 86, 100, 100],\n",
       " [92, 85, 81, 61, 93],\n",
       " [79, 98, 80, 96, 86],\n",
       " [85, 75, 69, 95, 76],\n",
       " [82, 79, 74, 81, 70],\n",
       " [100, 72, 100, 79, 92],\n",
       " [66, 79, 60, 98, 83],\n",
       " [70, 76, 98, 91, 70],\n",
       " [80, 85, 83, 82, 70],\n",
       " [92, 100, 78, 80, 69],\n",
       " [69, 82, 78, 94, 96],\n",
       " [82, 73, 67, 63, 87],\n",
       " [74, 95, 82, 76, 78],\n",
       " [80, 77, 75, 90, 62],\n",
       " [67, 88, 99, 74, 62],\n",
       " [69, 94, 61, 98, 73],\n",
       " [78, 60, 82, 94, 80],\n",
       " [87, 98, 70, 74, 99],\n",
       " [63, 81, 92, 67, 83],\n",
       " [74, 69, 77, 71, 97],\n",
       " [66, 72, 61, 83, 66],\n",
       " [66, 82, 98, 71, 64],\n",
       " [84, 66, 89, 95, 91],\n",
       " [92, 80, 62, 66, 87],\n",
       " [100, 67, 67, 74, 72],\n",
       " [87, 86, 65, 65, 93],\n",
       " [66, 66, 99, 80, 95],\n",
       " [91, 97, 63, 63, 62]]"
      ]
     },
     "execution_count": 28,
     "metadata": {},
     "output_type": "execute_result"
    }
   ],
   "source": [
    "import random as rd\n",
    "student_nums = 50\n",
    "students = []\n",
    "for i in range(student_nums):\n",
    "    scores = [0,0,0,0,0]\n",
    "    for j in range(5):\n",
    "        scores[j] = rd.randint(60,100)\n",
    "    students.append(scores)\n",
    "students"
   ]
  },
  {
   "cell_type": "code",
   "execution_count": null,
   "id": "39153aab",
   "metadata": {},
   "outputs": [],
   "source": []
  }
 ],
 "metadata": {
  "kernelspec": {
   "display_name": "Python 3 (ipykernel)",
   "language": "python",
   "name": "python3"
  },
  "language_info": {
   "codemirror_mode": {
    "name": "ipython",
    "version": 3
   },
   "file_extension": ".py",
   "mimetype": "text/x-python",
   "name": "python",
   "nbconvert_exporter": "python",
   "pygments_lexer": "ipython3",
   "version": "3.9.9"
  }
 },
 "nbformat": 4,
 "nbformat_minor": 5
}
