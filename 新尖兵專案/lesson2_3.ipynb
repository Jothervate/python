{
 "cells": [
  {
   "cell_type": "code",
   "execution_count": 2,
   "id": "bc7d9fa0",
   "metadata": {},
   "outputs": [
    {
     "data": {
      "text/plain": [
       "list"
      ]
     },
     "execution_count": 2,
     "metadata": {},
     "output_type": "execute_result"
    }
   ],
   "source": [
    "empty_list = []\n",
    "empty_list\n",
    "empty_list.__class__"
   ]
  },
  {
   "cell_type": "code",
   "execution_count": 4,
   "id": "54286c9d",
   "metadata": {},
   "outputs": [
    {
     "data": {
      "text/plain": [
       "['星期一', '星期二', '星期三', '星期四', '星期五', '星期六', '星期日']"
      ]
     },
     "execution_count": 4,
     "metadata": {},
     "output_type": "execute_result"
    }
   ],
   "source": [
    "weekdays = ['星期一', '星期二', '星期三', '星期四', '星期五', '星期六', '星期日']\n",
    "weekdays"
   ]
  },
  {
   "cell_type": "code",
   "execution_count": 5,
   "id": "20c8c29e",
   "metadata": {},
   "outputs": [
    {
     "name": "stdout",
     "output_type": "stream",
     "text": [
      "星期一\n",
      "星期二\n",
      "星期三\n",
      "星期四\n",
      "星期五\n",
      "星期六\n",
      "星期日\n"
     ]
    }
   ],
   "source": [
    "for week in weekdays:\n",
    "    print(week)"
   ]
  },
  {
   "cell_type": "code",
   "execution_count": 6,
   "id": "34e7f936",
   "metadata": {},
   "outputs": [
    {
     "data": {
      "text/plain": [
       "[]"
      ]
     },
     "execution_count": 6,
     "metadata": {},
     "output_type": "execute_result"
    }
   ],
   "source": [
    "another_empty = list()\n",
    "another_empty"
   ]
  },
  {
   "cell_type": "code",
   "execution_count": 7,
   "id": "d8a2d3a5",
   "metadata": {},
   "outputs": [
    {
     "data": {
      "text/plain": [
       "['c', 'a', 't']"
      ]
     },
     "execution_count": 7,
     "metadata": {},
     "output_type": "execute_result"
    }
   ],
   "source": [
    "#使用list()建立list\n",
    "list('cat')"
   ]
  },
  {
   "cell_type": "code",
   "execution_count": 9,
   "id": "7cb7b301",
   "metadata": {},
   "outputs": [
    {
     "data": {
      "text/plain": [
       "[1, 2, 3, 4, 5, 6, 7, 8, 9]"
      ]
     },
     "execution_count": 9,
     "metadata": {},
     "output_type": "execute_result"
    }
   ],
   "source": [
    "list(range(1,10))"
   ]
  },
  {
   "cell_type": "code",
   "execution_count": 10,
   "id": "ce34ac8c",
   "metadata": {},
   "outputs": [
    {
     "data": {
      "text/plain": [
       "['ready', 'fire', 'aim']"
      ]
     },
     "execution_count": 10,
     "metadata": {},
     "output_type": "execute_result"
    }
   ],
   "source": [
    "list(('ready', 'fire', 'aim'))"
   ]
  },
  {
   "cell_type": "code",
   "execution_count": 12,
   "id": "147a2f20",
   "metadata": {},
   "outputs": [
    {
     "data": {
      "text/plain": [
       "'台北'"
      ]
     },
     "execution_count": 12,
     "metadata": {},
     "output_type": "execute_result"
    }
   ],
   "source": [
    "citys = ['台北', '台中', '高雄']\n",
    "citys[0]\n",
    "citys[-3]"
   ]
  },
  {
   "cell_type": "code",
   "execution_count": 13,
   "id": "5801e680",
   "metadata": {},
   "outputs": [
    {
     "ename": "IndexError",
     "evalue": "list index out of range",
     "output_type": "error",
     "traceback": [
      "\u001b[0;31m---------------------------------------------------------------------------\u001b[0m",
      "\u001b[0;31mIndexError\u001b[0m                                Traceback (most recent call last)",
      "\u001b[0;32m/var/folders/by/68nnsq553f59kbs1v470m4k40000gp/T/ipykernel_1650/667851545.py\u001b[0m in \u001b[0;36m<module>\u001b[0;34m\u001b[0m\n\u001b[0;32m----> 1\u001b[0;31m \u001b[0mcitys\u001b[0m\u001b[0;34m[\u001b[0m\u001b[0;36m3\u001b[0m\u001b[0;34m]\u001b[0m\u001b[0;34m\u001b[0m\u001b[0;34m\u001b[0m\u001b[0m\n\u001b[0m",
      "\u001b[0;31mIndexError\u001b[0m: list index out of range"
     ]
    }
   ],
   "source": [
    "citys[3]"
   ]
  },
  {
   "cell_type": "code",
   "execution_count": 14,
   "id": "c35118e1",
   "metadata": {},
   "outputs": [
    {
     "data": {
      "text/plain": [
       "['H', 'e', 'l', 'l', 'o', 'W', 'o', 'r', 'l', 'd']"
      ]
     },
     "execution_count": 14,
     "metadata": {},
     "output_type": "execute_result"
    }
   ],
   "source": [
    "list1=['H','e','l','l','o', 'W','o','r','l','d']\n",
    "list1"
   ]
  },
  {
   "cell_type": "code",
   "execution_count": 19,
   "id": "fc281036",
   "metadata": {},
   "outputs": [
    {
     "data": {
      "text/plain": [
       "['e', 'l']"
      ]
     },
     "execution_count": 19,
     "metadata": {},
     "output_type": "execute_result"
    }
   ],
   "source": [
    "#list slice\n",
    "list1[1:3]"
   ]
  },
  {
   "cell_type": "code",
   "execution_count": 20,
   "id": "6bfeeb50",
   "metadata": {},
   "outputs": [
    {
     "data": {
      "text/plain": [
       "['H', 'e', 'l', 'l', 'o']"
      ]
     },
     "execution_count": 20,
     "metadata": {},
     "output_type": "execute_result"
    }
   ],
   "source": [
    "list1[:5]"
   ]
  },
  {
   "cell_type": "code",
   "execution_count": 21,
   "id": "1a04cf28",
   "metadata": {},
   "outputs": [
    {
     "data": {
      "text/plain": [
       "['W', 'o', 'r', 'l', 'd']"
      ]
     },
     "execution_count": 21,
     "metadata": {},
     "output_type": "execute_result"
    }
   ],
   "source": [
    "list1[-5:]"
   ]
  },
  {
   "cell_type": "code",
   "execution_count": 22,
   "id": "f0b1e314",
   "metadata": {},
   "outputs": [
    {
     "data": {
      "text/plain": [
       "[['筆記電腦', '商用筆電'], ['APPLE', 'ASUS', 'HTC'], [3, '冰箱', 2, '洗衣機']]"
      ]
     },
     "execution_count": 22,
     "metadata": {},
     "output_type": "execute_result"
    }
   ],
   "source": [
    "nb = ['筆記電腦', '商用筆電']\n",
    "mobile = ['APPLE', 'ASUS', 'HTC'] \n",
    "home = [3, '冰箱', 2, '洗衣機']\n",
    "\n",
    "#2維的list\n",
    "all3c = [nb, mobile, home]\n",
    "all3c"
   ]
  },
  {
   "cell_type": "code",
   "execution_count": 23,
   "id": "fb238fc9",
   "metadata": {},
   "outputs": [
    {
     "data": {
      "text/plain": [
       "'冰箱'"
      ]
     },
     "execution_count": 23,
     "metadata": {},
     "output_type": "execute_result"
    }
   ],
   "source": [
    "all3c[2][1]"
   ]
  },
  {
   "cell_type": "code",
   "execution_count": 24,
   "id": "b357128e",
   "metadata": {},
   "outputs": [
    {
     "data": {
      "text/plain": [
       "3"
      ]
     },
     "execution_count": 24,
     "metadata": {},
     "output_type": "execute_result"
    }
   ],
   "source": [
    "list1 = ['a', 'b', 'c']\n",
    "len(list1)"
   ]
  },
  {
   "cell_type": "code",
   "execution_count": 25,
   "id": "e3bcf567",
   "metadata": {},
   "outputs": [
    {
     "data": {
      "text/plain": [
       "['a', 'b', 'c', 'd']"
      ]
     },
     "execution_count": 25,
     "metadata": {},
     "output_type": "execute_result"
    }
   ],
   "source": [
    "list1.append('d')\n",
    "list1"
   ]
  },
  {
   "cell_type": "code",
   "execution_count": 29,
   "id": "873ca9e4",
   "metadata": {},
   "outputs": [
    {
     "data": {
      "text/plain": [
       "[[77, 89, 85, 78, 70, 399],\n",
       " [78, 72, 60, 99, 65, 374],\n",
       " [93, 69, 96, 100, 97, 455],\n",
       " [86, 75, 69, 95, 89, 414],\n",
       " [75, 62, 83, 82, 71, 373],\n",
       " [89, 85, 86, 97, 100, 457],\n",
       " [93, 61, 77, 84, 79, 394],\n",
       " [90, 83, 94, 65, 83, 415],\n",
       " [62, 98, 98, 61, 90, 409],\n",
       " [93, 74, 89, 72, 77, 405],\n",
       " [91, 77, 73, 73, 66, 380],\n",
       " [64, 99, 71, 88, 71, 393],\n",
       " [70, 95, 75, 78, 76, 394],\n",
       " [98, 92, 80, 78, 89, 437],\n",
       " [84, 91, 69, 75, 100, 419],\n",
       " [87, 62, 95, 100, 91, 435],\n",
       " [100, 89, 89, 97, 61, 436],\n",
       " [87, 100, 100, 98, 89, 474],\n",
       " [61, 96, 70, 96, 75, 398],\n",
       " [99, 73, 70, 64, 62, 368],\n",
       " [80, 90, 77, 64, 68, 379],\n",
       " [85, 70, 94, 69, 65, 383],\n",
       " [100, 99, 99, 98, 100, 496],\n",
       " [86, 88, 90, 86, 99, 449],\n",
       " [64, 89, 88, 74, 97, 412],\n",
       " [95, 63, 87, 76, 96, 417],\n",
       " [61, 100, 79, 91, 73, 404],\n",
       " [91, 62, 89, 75, 90, 407],\n",
       " [82, 75, 100, 87, 86, 430],\n",
       " [75, 76, 65, 92, 80, 388],\n",
       " [63, 85, 61, 84, 83, 376],\n",
       " [68, 100, 91, 71, 95, 425],\n",
       " [96, 66, 65, 70, 65, 362],\n",
       " [76, 75, 91, 73, 62, 377],\n",
       " [70, 100, 84, 91, 70, 415],\n",
       " [68, 98, 90, 93, 89, 438],\n",
       " [96, 99, 90, 88, 63, 436],\n",
       " [78, 66, 96, 73, 84, 397],\n",
       " [65, 84, 72, 85, 80, 386],\n",
       " [68, 68, 85, 73, 66, 360],\n",
       " [80, 67, 71, 99, 90, 407],\n",
       " [65, 94, 65, 80, 90, 394],\n",
       " [92, 90, 87, 63, 82, 414],\n",
       " [79, 99, 81, 75, 100, 434],\n",
       " [86, 65, 64, 62, 100, 377],\n",
       " [88, 68, 89, 81, 76, 402],\n",
       " [83, 68, 80, 77, 96, 404],\n",
       " [88, 99, 80, 93, 78, 438],\n",
       " [75, 69, 69, 65, 91, 369],\n",
       " [94, 60, 70, 84, 85, 393]]"
      ]
     },
     "execution_count": 29,
     "metadata": {},
     "output_type": "execute_result"
    }
   ],
   "source": [
    "import random as rd\n",
    "student_nums = 50\n",
    "students = []\n",
    "for i in range(student_nums):\n",
    "    scores = [0,0,0,0,0]\n",
    "    sum = 0\n",
    "    for j in range(5):\n",
    "        scores[j] = rd.randint(60,100)\n",
    "        sum += scores[j]\n",
    "    scores.append(sum)\n",
    "    students.append(scores)\n",
    "students"
   ]
  },
  {
   "cell_type": "code",
   "execution_count": 30,
   "id": "e870089a",
   "metadata": {},
   "outputs": [
    {
     "data": {
      "text/plain": [
       "'Taiwan'"
      ]
     },
     "execution_count": 30,
     "metadata": {},
     "output_type": "execute_result"
    }
   ],
   "source": [
    "codes = {\"tw\":\"Taiwan\",\n",
    "         \"jp\":\"Japan\",\n",
    "         \"hk\":\"Hong Kong\"}\n",
    "\n",
    "codes[\"tw\"]"
   ]
  },
  {
   "cell_type": "code",
   "execution_count": 31,
   "id": "ce4314a3",
   "metadata": {},
   "outputs": [
    {
     "data": {
      "text/plain": [
       "'Japan'"
      ]
     },
     "execution_count": 31,
     "metadata": {},
     "output_type": "execute_result"
    }
   ],
   "source": [
    "codes['jp']"
   ]
  },
  {
   "cell_type": "code",
   "execution_count": 32,
   "id": "d489bea8",
   "metadata": {},
   "outputs": [
    {
     "data": {
      "text/plain": [
       "'Hong Kong'"
      ]
     },
     "execution_count": 32,
     "metadata": {},
     "output_type": "execute_result"
    }
   ],
   "source": [
    "codes[\"hk\"]"
   ]
  },
  {
   "cell_type": "code",
   "execution_count": null,
   "id": "83faf2c4",
   "metadata": {},
   "outputs": [],
   "source": []
  }
 ],
 "metadata": {
  "kernelspec": {
   "display_name": "Python 3 (ipykernel)",
   "language": "python",
   "name": "python3"
  },
  "language_info": {
   "codemirror_mode": {
    "name": "ipython",
    "version": 3
   },
   "file_extension": ".py",
   "mimetype": "text/x-python",
   "name": "python",
   "nbconvert_exporter": "python",
   "pygments_lexer": "ipython3",
   "version": "3.9.9"
  }
 },
 "nbformat": 4,
 "nbformat_minor": 5
}
