{
 "cells": [
  {
   "cell_type": "code",
   "execution_count": 2,
   "id": "cfc0ee95",
   "metadata": {},
   "outputs": [
    {
     "name": "stdout",
     "output_type": "stream",
     "text": [
      "第1個儲存格\n",
      "Hello! World!\n"
     ]
    }
   ],
   "source": [
    "print(\"第1個儲存格\")\n",
    "print(\"Hello! World!\")"
   ]
  },
  {
   "cell_type": "code",
   "execution_count": 3,
   "id": "124bb85f",
   "metadata": {},
   "outputs": [
    {
     "name": "stdout",
     "output_type": "stream",
     "text": [
      "第2個儲存格\n",
      "Hello! World!\n"
     ]
    }
   ],
   "source": [
    "print(\"第2個儲存格\")\n",
    "print(\"Hello! World!\")"
   ]
  },
  {
   "cell_type": "code",
   "execution_count": 5,
   "id": "3c9bd1d2",
   "metadata": {},
   "outputs": [
    {
     "name": "stdout",
     "output_type": "stream",
     "text": [
      "5000\n"
     ]
    }
   ],
   "source": [
    "a = 100\n",
    "b = 50\n",
    "print(a * b)"
   ]
  },
  {
   "cell_type": "code",
   "execution_count": 6,
   "id": "bd11405c",
   "metadata": {},
   "outputs": [
    {
     "data": {
      "text/plain": [
       "int"
      ]
     },
     "execution_count": 6,
     "metadata": {},
     "output_type": "execute_result"
    }
   ],
   "source": [
    "a = 100\n",
    "a.__class__"
   ]
  },
  {
   "cell_type": "code",
   "execution_count": 7,
   "id": "375e4781",
   "metadata": {},
   "outputs": [
    {
     "data": {
      "text/plain": [
       "float"
      ]
     },
     "execution_count": 7,
     "metadata": {},
     "output_type": "execute_result"
    }
   ],
   "source": [
    "a = 100.0001\n",
    "a.__class__"
   ]
  },
  {
   "cell_type": "code",
   "execution_count": 8,
   "id": "dfe186c1",
   "metadata": {},
   "outputs": [
    {
     "data": {
      "text/plain": [
       "str"
      ]
     },
     "execution_count": 8,
     "metadata": {},
     "output_type": "execute_result"
    }
   ],
   "source": [
    "a = \"1000\"\n",
    "a.__class__"
   ]
  },
  {
   "cell_type": "code",
   "execution_count": 9,
   "id": "5206dd66",
   "metadata": {},
   "outputs": [
    {
     "data": {
      "text/plain": [
       "bool"
      ]
     },
     "execution_count": 9,
     "metadata": {},
     "output_type": "execute_result"
    }
   ],
   "source": [
    "a = True\n",
    "a.__class__"
   ]
  },
  {
   "cell_type": "code",
   "execution_count": 10,
   "id": "d8c77e1d",
   "metadata": {},
   "outputs": [
    {
     "name": "stdout",
     "output_type": "stream",
     "text": [
      "3\n",
      "3.12\n",
      "Hello!\n",
      "5\n"
     ]
    }
   ],
   "source": [
    "print(3)\n",
    "print(3.12)\n",
    "print(\"Hello!\")\n",
    "print(3+2)"
   ]
  },
  {
   "cell_type": "code",
   "execution_count": 12,
   "id": "174db3b6",
   "metadata": {},
   "outputs": [
    {
     "name": "stdout",
     "output_type": "stream",
     "text": [
      "這是我的 5 新的班級 10\n"
     ]
    }
   ],
   "source": [
    "print(\"這是我的\", 5, \"新的班級\", 10)"
   ]
  },
  {
   "cell_type": "code",
   "execution_count": 13,
   "id": "ff84d9bb",
   "metadata": {},
   "outputs": [],
   "source": [
    "#python的註解"
   ]
  },
  {
   "cell_type": "code",
   "execution_count": 14,
   "id": "5b29deeb",
   "metadata": {},
   "outputs": [
    {
     "name": "stdout",
     "output_type": "stream",
     "text": [
      "a=100,b=50\n"
     ]
    }
   ],
   "source": [
    "#字串格式舊的寫法\n",
    "a = 100\n",
    "b = 50\n",
    "print(\"a=%d,b=%d\" % (a, b))"
   ]
  },
  {
   "cell_type": "code",
   "execution_count": 16,
   "id": "692ccb40",
   "metadata": {},
   "outputs": [
    {
     "name": "stdout",
     "output_type": "stream",
     "text": [
      "我c的內容是345.12\n"
     ]
    }
   ],
   "source": [
    "c = 345.12345\n",
    "print(\"我c的內容是%.2f\" % c)"
   ]
  },
  {
   "cell_type": "code",
   "execution_count": null,
   "id": "4530727e",
   "metadata": {},
   "outputs": [],
   "source": []
  }
 ],
 "metadata": {
  "kernelspec": {
   "display_name": "Python 3 (ipykernel)",
   "language": "python",
   "name": "python3"
  },
  "language_info": {
   "codemirror_mode": {
    "name": "ipython",
    "version": 3
   },
   "file_extension": ".py",
   "mimetype": "text/x-python",
   "name": "python",
   "nbconvert_exporter": "python",
   "pygments_lexer": "ipython3",
   "version": "3.9.9"
  }
 },
 "nbformat": 4,
 "nbformat_minor": 5
}
