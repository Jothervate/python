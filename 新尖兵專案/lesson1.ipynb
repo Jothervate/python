{
 "cells": [
  {
   "cell_type": "code",
   "execution_count": 2,
   "id": "c3c256c1",
   "metadata": {},
   "outputs": [
    {
     "name": "stdout",
     "output_type": "stream",
     "text": [
      "第1個儲存格\n",
      "Hello! World!\n"
     ]
    }
   ],
   "source": [
    "print(\"第1個儲存格\")\n",
    "print(\"Hello! World!\")"
   ]
  },
  {
   "cell_type": "code",
   "execution_count": 3,
   "id": "d56f931f",
   "metadata": {},
   "outputs": [
    {
     "name": "stdout",
     "output_type": "stream",
     "text": [
      "第2個儲存格\n",
      "Hello! World!\n"
     ]
    }
   ],
   "source": [
    "print(\"第2個儲存格\")\n",
    "print(\"Hello! World!\")"
   ]
  },
  {
   "cell_type": "code",
   "execution_count": 5,
   "id": "27b4d99c",
   "metadata": {},
   "outputs": [
    {
     "name": "stdout",
     "output_type": "stream",
     "text": [
      "5000\n"
     ]
    }
   ],
   "source": [
    "a = 100\n",
    "b = 50\n",
    "print(a * b)"
   ]
  },
  {
   "cell_type": "code",
   "execution_count": 6,
   "id": "e8101672",
   "metadata": {},
   "outputs": [
    {
     "data": {
      "text/plain": [
       "int"
      ]
     },
     "execution_count": 6,
     "metadata": {},
     "output_type": "execute_result"
    }
   ],
   "source": [
    "a = 100\n",
    "a.__class__"
   ]
  },
  {
   "cell_type": "code",
   "execution_count": 7,
   "id": "211319ce",
   "metadata": {},
   "outputs": [
    {
     "data": {
      "text/plain": [
       "float"
      ]
     },
     "execution_count": 7,
     "metadata": {},
     "output_type": "execute_result"
    }
   ],
   "source": [
    "a = 100.0001\n",
    "a.__class__"
   ]
  },
  {
   "cell_type": "code",
   "execution_count": 8,
   "id": "5b1c5e79",
   "metadata": {},
   "outputs": [
    {
     "data": {
      "text/plain": [
       "str"
      ]
     },
     "execution_count": 8,
     "metadata": {},
     "output_type": "execute_result"
    }
   ],
   "source": [
    "a = \"1000\"\n",
    "a.__class__"
   ]
  },
  {
   "cell_type": "code",
   "execution_count": 9,
   "id": "53d510ec",
   "metadata": {},
   "outputs": [
    {
     "data": {
      "text/plain": [
       "bool"
      ]
     },
     "execution_count": 9,
     "metadata": {},
     "output_type": "execute_result"
    }
   ],
   "source": [
    "a = True\n",
    "a.__class__"
   ]
  },
  {
   "cell_type": "code",
   "execution_count": 10,
   "id": "2070b8bd",
   "metadata": {},
   "outputs": [
    {
     "name": "stdout",
     "output_type": "stream",
     "text": [
      "3\n",
      "3.12\n",
      "Hello!\n",
      "5\n"
     ]
    }
   ],
   "source": [
    "print(3)\n",
    "print(3.12)\n",
    "print(\"Hello!\")\n",
    "print(3+2)"
   ]
  },
  {
   "cell_type": "code",
   "execution_count": 12,
   "id": "41c568da",
   "metadata": {},
   "outputs": [
    {
     "name": "stdout",
     "output_type": "stream",
     "text": [
      "這是我的 5 新的班級 10\n"
     ]
    }
   ],
   "source": [
    "print(\"這是我的\", 5, \"新的班級\", 10)"
   ]
  },
  {
   "cell_type": "code",
   "execution_count": null,
   "id": "93db192f",
   "metadata": {},
   "outputs": [],
   "source": [
    "#python的註解"
   ]
  }
 ],
 "metadata": {
  "kernelspec": {
   "display_name": "Python 3 (ipykernel)",
   "language": "python",
   "name": "python3"
  },
  "language_info": {
   "codemirror_mode": {
    "name": "ipython",
    "version": 3
   },
   "file_extension": ".py",
   "mimetype": "text/x-python",
   "name": "python",
   "nbconvert_exporter": "python",
   "pygments_lexer": "ipython3",
   "version": "3.9.9"
  }
 },
 "nbformat": 4,
 "nbformat_minor": 5
}
