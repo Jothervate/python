{
 "cells": [
  {
   "cell_type": "code",
   "execution_count": 3,
   "id": "43840afe",
   "metadata": {},
   "outputs": [
    {
     "name": "stdout",
     "output_type": "stream",
     "text": [
      "執行程式出問題\n"
     ]
    }
   ],
   "source": [
    "try:\n",
    "    short_list = [1,2,3]\n",
    "    position = 5\n",
    "    short_list[position]\n",
    "except:\n",
    "    print('執行程式出問題')"
   ]
  },
  {
   "cell_type": "code",
   "execution_count": 5,
   "id": "c7e76de8",
   "metadata": {},
   "outputs": [
    {
     "name": "stdout",
     "output_type": "stream",
     "text": [
      "超出索引範圍\n"
     ]
    }
   ],
   "source": [
    "try:\n",
    "    short_list = [1,2,3]\n",
    "    position = 5\n",
    "    short_list[position]\n",
    "except IndexError:\n",
    "    print('超出索引範圍')\n",
    "except:\n",
    "    print('不知的錯誤')"
   ]
  },
  {
   "cell_type": "code",
   "execution_count": 7,
   "id": "b2af2d56",
   "metadata": {},
   "outputs": [
    {
     "name": "stdout",
     "output_type": "stream",
     "text": [
      "錯誤是:list index out of range\n"
     ]
    }
   ],
   "source": [
    "try:\n",
    "    short_list = [1,2,3]\n",
    "    position = 5\n",
    "    short_list[position]\n",
    "except IndexError as e:\n",
    "    print(f'錯誤是:{e}')\n",
    "except:\n",
    "    print('不知的錯誤')"
   ]
  },
  {
   "cell_type": "code",
   "execution_count": 9,
   "id": "6dfc90bc",
   "metadata": {},
   "outputs": [
    {
     "data": {
      "text/plain": [
       "{'wine': '紅酒', 'entree': '雞排', 'dessert': '奶昔'}"
      ]
     },
     "execution_count": 9,
     "metadata": {},
     "output_type": "execute_result"
    }
   ],
   "source": [
    "#function的參數有default value\n",
    "#呼叫的方式變多了\n",
    "\n",
    "def menu(wine, entree, dessert='奶昔'):\n",
    "    return {'wine':wine, 'entree':entree, 'dessert':dessert}\n",
    "\n",
    "menu('紅酒','雞排')"
   ]
  },
  {
   "cell_type": "code",
   "execution_count": 10,
   "id": "1783c8a9",
   "metadata": {},
   "outputs": [
    {
     "data": {
      "text/plain": [
       "{'wine': '紅酒', 'entree': '雞排', 'dessert': '蛋糕'}"
      ]
     },
     "execution_count": 10,
     "metadata": {},
     "output_type": "execute_result"
    }
   ],
   "source": [
    "menu('紅酒','雞排',dessert='蛋糕')"
   ]
  },
  {
   "cell_type": "code",
   "execution_count": 18,
   "id": "cd76054b",
   "metadata": {},
   "outputs": [
    {
     "name": "stdout",
     "output_type": "stream",
     "text": [
      "<class 'tuple'>\n",
      "args是tuple (3, 2, 1, 'wait!', 'un...')\n"
     ]
    }
   ],
   "source": [
    "#在定義function,參數使用*args\n",
    "#代表沒有限定數量是引數值\n",
    "\n",
    "def print_args(*args):\n",
    "    print(args.__class__)\n",
    "    print('args是tuple',args)\n",
    "\n",
    "print_args(3, 2, 1, 'wait!', 'un...')"
   ]
  },
  {
   "cell_type": "code",
   "execution_count": 16,
   "id": "7530db84",
   "metadata": {},
   "outputs": [
    {
     "name": "stdout",
     "output_type": "stream",
     "text": [
      "傳進來的dictionary是 {'wine': 'melot', 'entree': 'mutton', 'dessert': 'macaroon'}\n"
     ]
    }
   ],
   "source": [
    "#在定義function,參數使用**kwargs\n",
    "#代表沒有限定數量是引數名稱=引數值\n",
    "def print_kwargs(**kwargs):\n",
    "    print('傳進來的dictionary是',kwargs)\n",
    "\n",
    "print_kwargs(wine='melot', entree='mutton', dessert='macaroon')"
   ]
  },
  {
   "cell_type": "code",
   "execution_count": 17,
   "id": "0251181d",
   "metadata": {},
   "outputs": [
    {
     "name": "stdout",
     "output_type": "stream",
     "text": [
      "args是tuple (3, 2, 1, 'wait!', 'un...')\n",
      "傳進來的dictionary是 {'wine': 'melot', 'entree': 'mutton', 'dessert': 'macaroon'}\n"
     ]
    }
   ],
   "source": [
    "def print_args_kwargs(*args, **kwargs):\n",
    "    print('args是tuple',args)\n",
    "    print('傳進來的dictionary是',kwargs)\n",
    "    \n",
    "print_args_kwargs(3, 2, 1, 'wait!', 'un...',wine='melot', entree='mutton', dessert='macaroon')\n"
   ]
  },
  {
   "cell_type": "code",
   "execution_count": 20,
   "id": "cc099c7b",
   "metadata": {},
   "outputs": [
    {
     "name": "stdout",
     "output_type": "stream",
     "text": [
      "<class 'tuple'>\n",
      "args是tuple (3, 2, 1, 'wait!', 'un...')\n"
     ]
    }
   ],
   "source": [
    "def print_args(*args):\n",
    "    print(args.__class__)\n",
    "    print('args是tuple',args)\n",
    "\n",
    "#呼叫時，使用*,代表解開list,成為引數位置的呼叫\n",
    "argList = [3, 2, 1, 'wait!', 'un...']\n",
    "\n",
    "print_args(*argList)"
   ]
  },
  {
   "cell_type": "code",
   "execution_count": 23,
   "id": "ba777e1f",
   "metadata": {},
   "outputs": [
    {
     "name": "stdout",
     "output_type": "stream",
     "text": [
      "傳進來的dictionary是 {'wine': 'melot', 'entree': 'mutton', 'dessert': 'macaroon'}\n"
     ]
    }
   ],
   "source": [
    "def print_kwargs(**kwargs):\n",
    "    print('傳進來的dictionary是',kwargs)\n",
    "\n",
    "#呼叫時,使用**,代表解開Dictionary,成為引數名稱=引數值\n",
    "\n",
    "kwargsDict= {'wine':'melot', 'entree':'mutton', 'dessert':'macaroon'}\n",
    "print_kwargs(**kwargsDict)"
   ]
  },
  {
   "cell_type": "code",
   "execution_count": 24,
   "id": "e1701b32",
   "metadata": {},
   "outputs": [
    {
     "name": "stdout",
     "output_type": "stream",
     "text": [
      "傳統函數處理\n",
      "432\n"
     ]
    }
   ],
   "source": [
    "\n",
    "\n",
    "def f(x,y,z):\n",
    "    return x + y + z\n",
    "print('傳統函數處理')\n",
    "print(f(2, 30, 400))"
   ]
  },
  {
   "cell_type": "code",
   "execution_count": 26,
   "id": "3c8538f9",
   "metadata": {},
   "outputs": [
    {
     "name": "stdout",
     "output_type": "stream",
     "text": [
      "lambda的呼叫\n",
      "432\n"
     ]
    }
   ],
   "source": [
    "#暱名的function\n",
    "#lambda\n",
    "\n",
    "f = lambda x,y,z: x + y + z\n",
    "\n",
    "print('lambda的呼叫')\n",
    "print(f(2, 30, 400))"
   ]
  },
  {
   "cell_type": "code",
   "execution_count": 28,
   "id": "84ddef1d",
   "metadata": {},
   "outputs": [
    {
     "data": {
      "text/plain": [
       "[2, 4, 6, 8, 10]"
      ]
     },
     "execution_count": 28,
     "metadata": {},
     "output_type": "execute_result"
    }
   ],
   "source": [
    "#使用map()\n",
    "def multiply2(x):\n",
    "    return x*2\n",
    "\n",
    "newList=map(multiply2,[1,2,3,4,5])\n",
    "list(newList)"
   ]
  },
  {
   "cell_type": "code",
   "execution_count": 32,
   "id": "690f9e12",
   "metadata": {},
   "outputs": [
    {
     "data": {
      "text/plain": [
       "[2, 4, 6, 8, 10]"
      ]
     },
     "execution_count": 32,
     "metadata": {},
     "output_type": "execute_result"
    }
   ],
   "source": [
    "list(map(lambda x: x*2,[1,2,3,4,5]))"
   ]
  },
  {
   "cell_type": "code",
   "execution_count": null,
   "id": "3de6e27b",
   "metadata": {},
   "outputs": [],
   "source": []
  }
 ],
 "metadata": {
  "kernelspec": {
   "display_name": "Python 3 (ipykernel)",
   "language": "python",
   "name": "python3"
  },
  "language_info": {
   "codemirror_mode": {
    "name": "ipython",
    "version": 3
   },
   "file_extension": ".py",
   "mimetype": "text/x-python",
   "name": "python",
   "nbconvert_exporter": "python",
   "pygments_lexer": "ipython3",
   "version": "3.9.9"
  }
 },
 "nbformat": 4,
 "nbformat_minor": 5
}
