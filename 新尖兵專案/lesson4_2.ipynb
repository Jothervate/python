{
 "cells": [
  {
   "cell_type": "code",
   "execution_count": 2,
   "id": "c4783642",
   "metadata": {},
   "outputs": [
    {
     "name": "stdout",
     "output_type": "stream",
     "text": [
      "a\tb\n"
     ]
    }
   ],
   "source": [
    "import re\n",
    "print(\"a\\tb\")"
   ]
  },
  {
   "cell_type": "code",
   "execution_count": 3,
   "id": "1929c8ba",
   "metadata": {},
   "outputs": [
    {
     "name": "stdout",
     "output_type": "stream",
     "text": [
      "a\\tb\n"
     ]
    }
   ],
   "source": [
    "print(r\"a\\tb\")"
   ]
  },
  {
   "cell_type": "code",
   "execution_count": 13,
   "id": "e3f0541f",
   "metadata": {},
   "outputs": [
    {
     "name": "stdout",
     "output_type": "stream",
     "text": [
      "<re.Match object; span=(0, 5), match='Hello'>\n"
     ]
    }
   ],
   "source": [
    "#re.math(pattern,string,flags=0)\n",
    "strText = \"Hello Python Programming\"\n",
    "matchObject = re.match(r'hello',strText,re.I)\n",
    "print(matchObject)"
   ]
  },
  {
   "cell_type": "code",
   "execution_count": 28,
   "id": "4b1aab76",
   "metadata": {},
   "outputs": [
    {
     "name": "stdout",
     "output_type": "stream",
     "text": [
      "比對符合\n",
      "Cats are smarter than dogs\n",
      "Cats\n",
      "smarter\n",
      "than\n",
      "dogs\n"
     ]
    }
   ],
   "source": [
    "line = \"Cats are smarter than dogs\"\n",
    "pattern = r'(.*) are (.*) (.*) (.*)'\n",
    "\n",
    "matchObject = re.match(pattern, line, re.I)\n",
    "if matchObject:\n",
    "    print(\"比對符合\")\n",
    "    print(matchObject.group())\n",
    "    print(matchObject.group(1))\n",
    "    print(matchObject.group(2))\n",
    "    print(matchObject.group(3))\n",
    "    print(matchObject.group(4))\n",
    "else:\n",
    "    print(\"比對不符合\")"
   ]
  },
  {
   "cell_type": "code",
   "execution_count": 33,
   "id": "38d559fa",
   "metadata": {},
   "outputs": [
    {
     "name": "stdout",
     "output_type": "stream",
     "text": [
      "有匹配\n",
      "(13, 24)\n"
     ]
    }
   ],
   "source": [
    "str = \"Hello Python Programming\"\n",
    "searchObject = re.search(r'Programming', str, re.I)\n",
    "if searchObject:\n",
    "    print(\"有匹配\")\n",
    "    print(searchObject.span())\n",
    "else:\n",
    "    print(\"沒有匹配\")"
   ]
  },
  {
   "cell_type": "code",
   "execution_count": 35,
   "id": "8f98ed80",
   "metadata": {},
   "outputs": [
    {
     "name": "stdout",
     "output_type": "stream",
     "text": [
      "有匹配\n",
      "(13, 24)\n"
     ]
    }
   ],
   "source": [
    "str = \"Hello Python Programming\"\n",
    "searchObject = re.search(r'Programming$', str, re.I)\n",
    "if searchObject:\n",
    "    print(\"有匹配\")\n",
    "    print(searchObject.span())\n",
    "else:\n",
    "    print(\"沒有匹配\")"
   ]
  },
  {
   "cell_type": "code",
   "execution_count": 56,
   "id": "dc816687",
   "metadata": {},
   "outputs": [
    {
     "data": {
      "text/plain": [
       "[('http://www.', '', '', '')]"
      ]
     },
     "execution_count": 56,
     "metadata": {},
     "output_type": "execute_result"
    }
   ],
   "source": [
    "pattern1 = r'(http:\\/\\/www\\.|https:\\/\\/www\\.|http:\\/\\/|https:\\/\\/)?[a-z0-9]+([\\-\\.]{1}[a-z0-9]+)*\\.[a-z]{2,5}(:[0-9]{1,5})?(\\/.*)?'\n",
    "str = 'http://www.google.com'\n",
    "\n",
    "re.findall(pattern1, str)"
   ]
  },
  {
   "cell_type": "code",
   "execution_count": 61,
   "id": "c2bb561f",
   "metadata": {},
   "outputs": [],
   "source": [
    "pattern2 = r'([12]\\d{3}-(0[1-9]|1[0-2])-(0[1-9]|[12]\\d|3[01]))'\n",
    "str = '05-20-1978'\n",
    "re.match(pattern2,str)"
   ]
  },
  {
   "cell_type": "code",
   "execution_count": null,
   "id": "d9dc9ac0",
   "metadata": {},
   "outputs": [],
   "source": []
  }
 ],
 "metadata": {
  "kernelspec": {
   "display_name": "Python 3 (ipykernel)",
   "language": "python",
   "name": "python3"
  },
  "language_info": {
   "codemirror_mode": {
    "name": "ipython",
    "version": 3
   },
   "file_extension": ".py",
   "mimetype": "text/x-python",
   "name": "python",
   "nbconvert_exporter": "python",
   "pygments_lexer": "ipython3",
   "version": "3.9.9"
  }
 },
 "nbformat": 4,
 "nbformat_minor": 5
}
