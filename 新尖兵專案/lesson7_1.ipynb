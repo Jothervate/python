{
 "cells": [
  {
   "cell_type": "code",
   "execution_count": 5,
   "id": "01165fe5",
   "metadata": {},
   "outputs": [
    {
     "name": "stdout",
     "output_type": "stream",
     "text": [
      "目前已經建立3輛腳踏車\n"
     ]
    }
   ],
   "source": [
    "#類別方法,類別屬性\n",
    "class Bicycle():\n",
    "    count = 0 #類別屬性\n",
    "    \n",
    "    def __init__(self):\n",
    "        Bicycle.count = Bicycle.count + 1\n",
    "    \n",
    "    @classmethod\n",
    "    def description(cls):\n",
    "        print(f\"目前已經建立{cls.count}輛腳踏車\")\n",
    "\n",
    "easy1 = Bicycle()\n",
    "easy2 = Bicycle()\n",
    "easy3 = Bicycle()\n",
    "Bicycle.description()"
   ]
  },
  {
   "cell_type": "code",
   "execution_count": null,
   "id": "2e3193d8",
   "metadata": {},
   "outputs": [],
   "source": []
  }
 ],
 "metadata": {
  "kernelspec": {
   "display_name": "Python 3 (ipykernel)",
   "language": "python",
   "name": "python3"
  },
  "language_info": {
   "codemirror_mode": {
    "name": "ipython",
    "version": 3
   },
   "file_extension": ".py",
   "mimetype": "text/x-python",
   "name": "python",
   "nbconvert_exporter": "python",
   "pygments_lexer": "ipython3",
   "version": "3.9.9"
  }
 },
 "nbformat": 4,
 "nbformat_minor": 5
}
