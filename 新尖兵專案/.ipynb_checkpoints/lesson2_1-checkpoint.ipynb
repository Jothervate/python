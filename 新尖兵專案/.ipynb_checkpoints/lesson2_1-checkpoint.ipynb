{
 "cells": [
  {
   "cell_type": "code",
   "execution_count": 2,
   "id": "9373ee9b",
   "metadata": {},
   "outputs": [
    {
     "name": "stdout",
     "output_type": "stream",
     "text": [
      "小於等於18\n",
      "程式結束\n"
     ]
    }
   ],
   "source": [
    "a = 10\n",
    "if a > 18:\n",
    "    print(\"大於18\")\n",
    "else:\n",
    "    print(\"小於等於18\")\n",
    "print(\"程式結束\")"
   ]
  },
  {
   "cell_type": "code",
   "execution_count": 4,
   "id": "408dc498",
   "metadata": {},
   "outputs": [
    {
     "name": "stdout",
     "output_type": "stream",
     "text": [
      "請輸入年紀?15\n",
      "青少年\n"
     ]
    }
   ],
   "source": [
    "#多項選擇\n",
    "age = int(input(\"請輸入年紀?\"))\n",
    "if age > 18:\n",
    "    print(\"青年\")\n",
    "elif age >=12:\n",
    "    print(\"青少年\")\n",
    "else:\n",
    "    print(\"少年\")"
   ]
  },
  {
   "cell_type": "code",
   "execution_count": null,
   "id": "3f6dc33c",
   "metadata": {},
   "outputs": [],
   "source": [
    "#下列為換算成績等級的程式碼，換算的規則如下：\n",
    "\n",
    "#• 80(含)~89分為「甲」\n",
    "#• 70(含)~79分為「乙」\n",
    "#• 60(含)~69分為「丙」\n",
    "#• 0(含)~59分為「丁」"
   ]
  },
  {
   "cell_type": "code",
   "execution_count": null,
   "id": "3b36ae7e",
   "metadata": {},
   "outputs": [],
   "source": []
  }
 ],
 "metadata": {
  "kernelspec": {
   "display_name": "Python 3 (ipykernel)",
   "language": "python",
   "name": "python3"
  },
  "language_info": {
   "codemirror_mode": {
    "name": "ipython",
    "version": 3
   },
   "file_extension": ".py",
   "mimetype": "text/x-python",
   "name": "python",
   "nbconvert_exporter": "python",
   "pygments_lexer": "ipython3",
   "version": "3.9.9"
  }
 },
 "nbformat": 4,
 "nbformat_minor": 5
}
