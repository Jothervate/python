{
 "cells": [
  {
   "cell_type": "code",
   "execution_count": 1,
   "id": "2dcbcb7f",
   "metadata": {},
   "outputs": [],
   "source": [
    "class Person():\n",
    "    pass\n",
    "\n",
    "someone = Person()"
   ]
  },
  {
   "cell_type": "code",
   "execution_count": 2,
   "id": "46681fc8",
   "metadata": {},
   "outputs": [
    {
     "data": {
      "text/plain": [
       "'Robert'"
      ]
     },
     "execution_count": 2,
     "metadata": {},
     "output_type": "execute_result"
    }
   ],
   "source": [
    "class Person():\n",
    "    def __init__(self):\n",
    "        self.name  = \"Robert\"\n",
    "        \n",
    "someone = Person()\n",
    "someone.name"
   ]
  },
  {
   "cell_type": "code",
   "execution_count": 3,
   "id": "97dcd33d",
   "metadata": {},
   "outputs": [
    {
     "data": {
      "text/plain": [
       "'Jenny'"
      ]
     },
     "execution_count": 3,
     "metadata": {},
     "output_type": "execute_result"
    }
   ],
   "source": [
    "class Person():\n",
    "    #自訂的初始化\n",
    "    def __init__(self,name):\n",
    "        self.name  = name\n",
    "        \n",
    "someone = Person(\"Jenny\")\n",
    "someone.name"
   ]
  },
  {
   "cell_type": "code",
   "execution_count": 5,
   "id": "445f2c80",
   "metadata": {},
   "outputs": [
    {
     "name": "stdout",
     "output_type": "stream",
     "text": [
      "此人的姓名是:Jenny\n"
     ]
    }
   ],
   "source": [
    "class Person():\n",
    "    #自訂的初始化\n",
    "    def __init__(self,name):\n",
    "        self.name  = name\n",
    "        \n",
    "    def __repr__(self):\n",
    "        return f\"此人的姓名是:{self.name}\"\n",
    "        \n",
    "someone = Person(\"Jenny\")\n",
    "print(someone)"
   ]
  }
 ],
 "metadata": {
  "kernelspec": {
   "display_name": "Python 3 (ipykernel)",
   "language": "python",
   "name": "python3"
  },
  "language_info": {
   "codemirror_mode": {
    "name": "ipython",
    "version": 3
   },
   "file_extension": ".py",
   "mimetype": "text/x-python",
   "name": "python",
   "nbconvert_exporter": "python",
   "pygments_lexer": "ipython3",
   "version": "3.9.9"
  }
 },
 "nbformat": 4,
 "nbformat_minor": 5
}
