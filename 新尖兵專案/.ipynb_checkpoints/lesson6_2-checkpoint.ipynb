{
 "cells": [
  {
   "cell_type": "code",
   "execution_count": 1,
   "id": "4b981229",
   "metadata": {},
   "outputs": [],
   "source": [
    "class Person():\n",
    "    pass\n",
    "\n",
    "someone = Person()"
   ]
  },
  {
   "cell_type": "code",
   "execution_count": 2,
   "id": "42032da2",
   "metadata": {},
   "outputs": [
    {
     "data": {
      "text/plain": [
       "'Robert'"
      ]
     },
     "execution_count": 2,
     "metadata": {},
     "output_type": "execute_result"
    }
   ],
   "source": [
    "class Person():\n",
    "    def __init__(self):\n",
    "        self.name  = \"Robert\"\n",
    "        \n",
    "someone = Person()\n",
    "someone.name"
   ]
  },
  {
   "cell_type": "code",
   "execution_count": 3,
   "id": "dfd88d3a",
   "metadata": {},
   "outputs": [
    {
     "data": {
      "text/plain": [
       "'Jenny'"
      ]
     },
     "execution_count": 3,
     "metadata": {},
     "output_type": "execute_result"
    }
   ],
   "source": [
    "class Person():\n",
    "    #自訂的初始化\n",
    "    def __init__(self,name):\n",
    "        self.name  = name\n",
    "        \n",
    "someone = Person(\"Jenny\")\n",
    "someone.name"
   ]
  },
  {
   "cell_type": "code",
   "execution_count": 6,
   "id": "6bd086fb",
   "metadata": {},
   "outputs": [
    {
     "name": "stdout",
     "output_type": "stream",
     "text": [
      "此人的姓名是:Jenny\n"
     ]
    }
   ],
   "source": [
    "class Person():\n",
    "    #自訂的初始化\n",
    "    def __init__(self,name):\n",
    "        self.name  = name\n",
    "        \n",
    "    def __repr__(self):\n",
    "        return f\"此人的姓名是:{self.name}\"\n",
    "        \n",
    "someone = Person(\"Jenny\")\n",
    "print(someone)"
   ]
  },
  {
   "cell_type": "code",
   "execution_count": 7,
   "id": "03966f57",
   "metadata": {},
   "outputs": [],
   "source": [
    "class Car():\n",
    "    pass\n",
    "\n",
    "class Yugo(Car):\n",
    "    pass\n",
    "\n",
    "give_me_a_car = Car()\n",
    "give_me_a_yugo = Yugo()"
   ]
  },
  {
   "cell_type": "code",
   "execution_count": 11,
   "id": "d8a9a0ba",
   "metadata": {},
   "outputs": [
    {
     "name": "stdout",
     "output_type": "stream",
     "text": [
      "我是car\n",
      "我是Yugo\n",
      "只有子類別有這個method\n"
     ]
    }
   ],
   "source": [
    "class Car():\n",
    "    def exclaim(self):\n",
    "        print(\"我是car\")\n",
    "\n",
    "class Yugo(Car):\n",
    "    #覆寫父類別的method\n",
    "    def exclaim(self):\n",
    "        print(\"我是Yugo\")\n",
    "        \n",
    "    def need_a_push(self):\n",
    "        print(\"只有子類別有這個method\")\n",
    "\n",
    "give_me_a_car = Car()\n",
    "give_me_a_yugo = Yugo()\n",
    "\n",
    "#Car的實體\n",
    "give_me_a_car.exclaim()\n",
    "\n",
    "#Yugo的實體\n",
    "give_me_a_yugo.exclaim()\n",
    "\n",
    "#只有子類別有的實體方法\n",
    "give_me_a_yugo.need_a_push()"
   ]
  },
  {
   "cell_type": "code",
   "execution_count": 15,
   "id": "1e291f66",
   "metadata": {},
   "outputs": [
    {
     "name": "stdout",
     "output_type": "stream",
     "text": [
      "所有子類別必需執行\n",
      "所有子類別必需執行\n",
      "所有子類別必需執行\n"
     ]
    }
   ],
   "source": [
    "class Person():\n",
    "    def __init__(self,name):\n",
    "        print(\"所有子類別必需執行\")\n",
    "        self.name = name        \n",
    "        \n",
    "\n",
    "class MDPerson(Person):\n",
    "    #覆寫\n",
    "    def __init__(self,name):\n",
    "        super().__init__(name)\n",
    "        self.name = \"醫生:\" + name\n",
    "\n",
    "class JDPerson(Person):\n",
    "    #覆寫\n",
    "    def __init__(self,name):\n",
    "        super().__init__(name);\n",
    "        self.name = \"律師:\" + name\n",
    "\n",
    "person = Person('Fudd')\n",
    "doctor = MDPerson('robert')\n",
    "lawyer = JDPerson(\"Alice\")"
   ]
  },
  {
   "cell_type": "code",
   "execution_count": 16,
   "id": "a8c45b4c",
   "metadata": {},
   "outputs": [
    {
     "name": "stdout",
     "output_type": "stream",
     "text": [
      "robert\n",
      "robert@gmail.com\n"
     ]
    }
   ],
   "source": [
    "class Person():\n",
    "    def __init__(self,name):\n",
    "        self.name = name\n",
    "    \n",
    "class EmailPerson(Person):\n",
    "    def __init__(self,name,email):\n",
    "        super().__init__(name)\n",
    "        self.email = email\n",
    "        \n",
    "bob = EmailPerson(\"robert\",\"robert@gmail.com\")\n",
    "print(bob.name)\n",
    "print(bob.email)"
   ]
  },
  {
   "cell_type": "code",
   "execution_count": 18,
   "id": "300a1e26",
   "metadata": {},
   "outputs": [
    {
     "data": {
      "text/plain": [
       "'Doc John'"
      ]
     },
     "execution_count": 18,
     "metadata": {},
     "output_type": "execute_result"
    }
   ],
   "source": [
    "class Person():\n",
    "    def __init__(self,name):\n",
    "        self.name = name\n",
    "john = Person('John')\n",
    "john.name = 'Doc John'\n",
    "john.name\n"
   ]
  },
  {
   "cell_type": "code",
   "execution_count": 19,
   "id": "c1642806",
   "metadata": {},
   "outputs": [],
   "source": [
    "#property的目的，就是保護attribute\n",
    "class Person():\n",
    "    def __init__(self,name,hight,weight):\n",
    "        self.name = name\n",
    "        self.hight = hight\n",
    "        self.weight = weight"
   ]
  },
  {
   "cell_type": "code",
   "execution_count": 22,
   "id": "e19215dd",
   "metadata": {},
   "outputs": [
    {
     "ename": "AttributeError",
     "evalue": "'Person' object has no attribute '__hight'",
     "output_type": "error",
     "traceback": [
      "\u001b[0;31m---------------------------------------------------------------------------\u001b[0m",
      "\u001b[0;31mAttributeError\u001b[0m                            Traceback (most recent call last)",
      "\u001b[0;32m/var/folders/by/68nnsq553f59kbs1v470m4k40000gp/T/ipykernel_1868/2703625397.py\u001b[0m in \u001b[0;36m<module>\u001b[0;34m\u001b[0m\n\u001b[1;32m      8\u001b[0m \u001b[0mrobert\u001b[0m \u001b[0;34m=\u001b[0m \u001b[0mPerson\u001b[0m\u001b[0;34m(\u001b[0m\u001b[0;34m'Robert'\u001b[0m\u001b[0;34m,\u001b[0m\u001b[0;36m178\u001b[0m\u001b[0;34m,\u001b[0m\u001b[0;36m78\u001b[0m\u001b[0;34m)\u001b[0m\u001b[0;34m\u001b[0m\u001b[0;34m\u001b[0m\u001b[0m\n\u001b[1;32m      9\u001b[0m \u001b[0mrobert\u001b[0m\u001b[0;34m.\u001b[0m\u001b[0mname\u001b[0m\u001b[0;34m\u001b[0m\u001b[0;34m\u001b[0m\u001b[0m\n\u001b[0;32m---> 10\u001b[0;31m \u001b[0mrobert\u001b[0m\u001b[0;34m.\u001b[0m\u001b[0m__hight\u001b[0m\u001b[0;34m\u001b[0m\u001b[0;34m\u001b[0m\u001b[0m\n\u001b[0m",
      "\u001b[0;31mAttributeError\u001b[0m: 'Person' object has no attribute '__hight'"
     ]
    }
   ],
   "source": [
    "#__attribut,代表private,不讓使用者知道有這個attribute\n",
    "class Person():\n",
    "    def __init__(self,name,hight,weight):\n",
    "        self.name = name\n",
    "        self.__hight = hight\n",
    "        self.__weight = weight\n",
    "        \n",
    "robert = Person('Robert',178,78)\n",
    "robert.name\n"
   ]
  },
  {
   "cell_type": "code",
   "execution_count": null,
   "id": "85984418",
   "metadata": {},
   "outputs": [],
   "source": []
  }
 ],
 "metadata": {
  "kernelspec": {
   "display_name": "Python 3 (ipykernel)",
   "language": "python",
   "name": "python3"
  },
  "language_info": {
   "codemirror_mode": {
    "name": "ipython",
    "version": 3
   },
   "file_extension": ".py",
   "mimetype": "text/x-python",
   "name": "python",
   "nbconvert_exporter": "python",
   "pygments_lexer": "ipython3",
   "version": "3.9.9"
  }
 },
 "nbformat": 4,
 "nbformat_minor": 5
}
