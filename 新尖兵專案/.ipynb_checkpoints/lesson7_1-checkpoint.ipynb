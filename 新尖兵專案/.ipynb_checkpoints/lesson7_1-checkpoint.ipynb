{
 "cells": [
  {
   "cell_type": "code",
   "execution_count": 9,
   "id": "e360bb34",
   "metadata": {},
   "outputs": [
    {
     "name": "stdout",
     "output_type": "stream",
     "text": [
      "目前已經建立3輛腳踏車,a=5\n",
      "這是static方法\n",
      "這是static方法\n"
     ]
    }
   ],
   "source": [
    "#類別方法,類別屬性\n",
    "#靜態類別方法\n",
    "\n",
    "class Bicycle():\n",
    "    count = 0 #類別屬性\n",
    "    \n",
    "    def __init__(self):\n",
    "        Bicycle.count = Bicycle.count + 1\n",
    "    \n",
    "    @classmethod\n",
    "    def description(cls,a):\n",
    "        print(f\"目前已經建立{cls.count}輛腳踏車,a={a}\")\n",
    "        \n",
    "    @staticmethod\n",
    "    def talk():\n",
    "        print('這是static方法')\n",
    "        \n",
    "    @staticmethod\n",
    "    def add(a, b):\n",
    "        return a + b\n",
    "\n",
    "easy1 = Bicycle()\n",
    "easy2 = Bicycle()\n",
    "easy3 = Bicycle()\n",
    "Bicycle.description(5)\n",
    "Bicycle.talk()\n",
    "Bicycle.add(5, 6)"
   ]
  },
  {
   "cell_type": "code",
   "execution_count": 11,
   "id": "e84128d0",
   "metadata": {},
   "outputs": [
    {
     "data": {
      "text/plain": [
       "b'\\xfa\\xe5a\\x89\\x14l\\x94\\x9aP\\x83'"
      ]
     },
     "execution_count": 11,
     "metadata": {},
     "output_type": "execute_result"
    }
   ],
   "source": [
    "#import\n",
    "import random\n",
    "random.randbytes(10)"
   ]
  },
  {
   "cell_type": "code",
   "execution_count": 13,
   "id": "969c2110",
   "metadata": {},
   "outputs": [
    {
     "data": {
      "text/plain": [
       "b'\\xb3\\t\\xfd\\xac\\xf2\\xd5\\x051\\x83\\xa5'"
      ]
     },
     "execution_count": 13,
     "metadata": {},
     "output_type": "execute_result"
    }
   ],
   "source": [
    "from random import randbytes\n",
    "randbytes(10)"
   ]
  },
  {
   "cell_type": "code",
   "execution_count": 14,
   "id": "d996e8de",
   "metadata": {},
   "outputs": [
    {
     "data": {
      "text/plain": [
       "b'\\x96\\xec\\x84@\\x9a\\x12\\r,\\xe9C'"
      ]
     },
     "execution_count": 14,
     "metadata": {},
     "output_type": "execute_result"
    }
   ],
   "source": [
    "from random import randbytes as rbt\n",
    "rbt(10)"
   ]
  },
  {
   "cell_type": "code",
   "execution_count": null,
   "id": "b0f83041",
   "metadata": {},
   "outputs": [],
   "source": []
  }
 ],
 "metadata": {
  "kernelspec": {
   "display_name": "Python 3 (ipykernel)",
   "language": "python",
   "name": "python3"
  },
  "language_info": {
   "codemirror_mode": {
    "name": "ipython",
    "version": 3
   },
   "file_extension": ".py",
   "mimetype": "text/x-python",
   "name": "python",
   "nbconvert_exporter": "python",
   "pygments_lexer": "ipython3",
   "version": "3.9.9"
  }
 },
 "nbformat": 4,
 "nbformat_minor": 5
}
