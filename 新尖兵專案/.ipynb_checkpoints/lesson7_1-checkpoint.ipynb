{
 "cells": [
  {
   "cell_type": "code",
   "execution_count": 9,
   "id": "b2cd4864",
   "metadata": {},
   "outputs": [
    {
     "name": "stdout",
     "output_type": "stream",
     "text": [
      "目前已經建立3輛腳踏車,a=5\n",
      "這是static方法\n",
      "這是static方法\n"
     ]
    }
   ],
   "source": [
    "#類別方法,類別屬性\n",
    "#靜態類別方法\n",
    "\n",
    "class Bicycle():\n",
    "    count = 0 #類別屬性\n",
    "    \n",
    "    def __init__(self):\n",
    "        Bicycle.count = Bicycle.count + 1\n",
    "    \n",
    "    @classmethod\n",
    "    def description(cls,a):\n",
    "        print(f\"目前已經建立{cls.count}輛腳踏車,a={a}\")\n",
    "        \n",
    "    @staticmethod\n",
    "    def talk():\n",
    "        print('這是static方法')\n",
    "        \n",
    "    @staticmethod\n",
    "    def add(a, b):\n",
    "        return a + b\n",
    "\n",
    "easy1 = Bicycle()\n",
    "easy2 = Bicycle()\n",
    "easy3 = Bicycle()\n",
    "Bicycle.description(5)\n",
    "Bicycle.talk()\n",
    "Bicycle.add(5, 6)"
   ]
  },
  {
   "cell_type": "code",
   "execution_count": null,
   "id": "deddbcfd",
   "metadata": {},
   "outputs": [],
   "source": []
  }
 ],
 "metadata": {
  "kernelspec": {
   "display_name": "Python 3 (ipykernel)",
   "language": "python",
   "name": "python3"
  },
  "language_info": {
   "codemirror_mode": {
    "name": "ipython",
    "version": 3
   },
   "file_extension": ".py",
   "mimetype": "text/x-python",
   "name": "python",
   "nbconvert_exporter": "python",
   "pygments_lexer": "ipython3",
   "version": "3.9.9"
  }
 },
 "nbformat": 4,
 "nbformat_minor": 5
}
