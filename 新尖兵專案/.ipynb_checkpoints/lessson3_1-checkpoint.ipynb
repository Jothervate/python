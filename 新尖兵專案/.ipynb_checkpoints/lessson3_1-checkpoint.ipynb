{
 "cells": [
  {
   "cell_type": "code",
   "execution_count": 1,
   "id": "a0e78b55",
   "metadata": {},
   "outputs": [
    {
     "data": {
      "text/plain": [
       "3"
      ]
     },
     "execution_count": 1,
     "metadata": {},
     "output_type": "execute_result"
    }
   ],
   "source": [
    "#list extend\n",
    "list = ['a', 'b', 'c']\n",
    "len(list)"
   ]
  },
  {
   "cell_type": "code",
   "execution_count": 2,
   "id": "2be20439",
   "metadata": {},
   "outputs": [
    {
     "data": {
      "text/plain": [
       "['a', 'b', 'c']"
      ]
     },
     "execution_count": 2,
     "metadata": {},
     "output_type": "execute_result"
    }
   ],
   "source": [
    "list1 = list\n",
    "list1"
   ]
  },
  {
   "cell_type": "code",
   "execution_count": 3,
   "id": "45303959",
   "metadata": {},
   "outputs": [
    {
     "data": {
      "text/plain": [
       "['a', 'b', 'c', 'd', 'e']"
      ]
     },
     "execution_count": 3,
     "metadata": {},
     "output_type": "execute_result"
    }
   ],
   "source": [
    "list1.extend(['d','e'])\n",
    "list1"
   ]
  },
  {
   "cell_type": "code",
   "execution_count": 4,
   "id": "e728589c",
   "metadata": {},
   "outputs": [
    {
     "data": {
      "text/plain": [
       "['a', 'b', 'c', 'd', 'e']"
      ]
     },
     "execution_count": 4,
     "metadata": {},
     "output_type": "execute_result"
    }
   ],
   "source": [
    "list"
   ]
  },
  {
   "cell_type": "code",
   "execution_count": 5,
   "id": "b299305e",
   "metadata": {},
   "outputs": [
    {
     "data": {
      "text/plain": [
       "['a', 'b', 'c', 'd', 'e', 'f', 'g']"
      ]
     },
     "execution_count": 5,
     "metadata": {},
     "output_type": "execute_result"
    }
   ],
   "source": [
    "list = list + ['f', 'g']\n",
    "list"
   ]
  },
  {
   "cell_type": "code",
   "execution_count": 7,
   "id": "054f0d2f",
   "metadata": {},
   "outputs": [
    {
     "data": {
      "text/plain": [
       "['a', 'b', 'c', 'd', 'e']"
      ]
     },
     "execution_count": 7,
     "metadata": {},
     "output_type": "execute_result"
    }
   ],
   "source": [
    "list1"
   ]
  },
  {
   "cell_type": "code",
   "execution_count": 9,
   "id": "0053cc0c",
   "metadata": {},
   "outputs": [
    {
     "data": {
      "text/plain": [
       "['a1', 'a', 'b', 'c']"
      ]
     },
     "execution_count": 9,
     "metadata": {},
     "output_type": "execute_result"
    }
   ],
   "source": [
    "#insert\n",
    "list2 = ['a', 'b', 'c']\n",
    "list2.insert(0, 'a1')\n",
    "list2"
   ]
  },
  {
   "cell_type": "code",
   "execution_count": 11,
   "id": "a72bcffd",
   "metadata": {},
   "outputs": [
    {
     "data": {
      "text/plain": [
       "['台中', '高雄', '台南', '花蓮']"
      ]
     },
     "execution_count": 11,
     "metadata": {},
     "output_type": "execute_result"
    }
   ],
   "source": [
    "#remove\n",
    "citys = ['台北', '台中', '高雄', '台南', '花蓮']\n",
    "citys.remove('台北')\n",
    "citys"
   ]
  },
  {
   "cell_type": "code",
   "execution_count": 13,
   "id": "dedf0e90",
   "metadata": {},
   "outputs": [
    {
     "data": {
      "text/plain": [
       "['台北', '台中', '高雄', '台南']"
      ]
     },
     "execution_count": 13,
     "metadata": {},
     "output_type": "execute_result"
    }
   ],
   "source": [
    "#pop\n",
    "citys = ['台北', '台中', '高雄', '台南', '花蓮']\n",
    "citys.pop(-1)\n",
    "citys"
   ]
  },
  {
   "cell_type": "code",
   "execution_count": 14,
   "id": "3662c358",
   "metadata": {},
   "outputs": [
    {
     "data": {
      "text/plain": [
       "['台中', '高雄', '台南', '花蓮']"
      ]
     },
     "execution_count": 14,
     "metadata": {},
     "output_type": "execute_result"
    }
   ],
   "source": [
    "#del\n",
    "citys = ['台北', '台中', '高雄', '台南', '花蓮']\n",
    "del citys[0]\n",
    "citys"
   ]
  },
  {
   "cell_type": "code",
   "execution_count": 15,
   "id": "ce5342e1",
   "metadata": {},
   "outputs": [
    {
     "ename": "NameError",
     "evalue": "name 'citys' is not defined",
     "output_type": "error",
     "traceback": [
      "\u001b[0;31m---------------------------------------------------------------------------\u001b[0m",
      "\u001b[0;31mNameError\u001b[0m                                 Traceback (most recent call last)",
      "\u001b[0;32m/var/folders/by/68nnsq553f59kbs1v470m4k40000gp/T/ipykernel_962/1770183566.py\u001b[0m in \u001b[0;36m<module>\u001b[0;34m\u001b[0m\n\u001b[1;32m      1\u001b[0m \u001b[0;32mdel\u001b[0m \u001b[0mcitys\u001b[0m\u001b[0;34m\u001b[0m\u001b[0;34m\u001b[0m\u001b[0m\n\u001b[0;32m----> 2\u001b[0;31m \u001b[0mcitys\u001b[0m\u001b[0;34m\u001b[0m\u001b[0;34m\u001b[0m\u001b[0m\n\u001b[0m",
      "\u001b[0;31mNameError\u001b[0m: name 'citys' is not defined"
     ]
    }
   ],
   "source": [
    "del citys\n",
    "citys"
   ]
  },
  {
   "cell_type": "code",
   "execution_count": 18,
   "id": "729276d6",
   "metadata": {},
   "outputs": [
    {
     "data": {
      "text/plain": [
       "1"
      ]
     },
     "execution_count": 18,
     "metadata": {},
     "output_type": "execute_result"
    }
   ],
   "source": [
    "#.index(), in, count()\n",
    "citys = ['台北', '台中', '高雄', '台南', '花蓮']\n",
    "citys.index('台中')"
   ]
  },
  {
   "cell_type": "code",
   "execution_count": 20,
   "id": "fed90348",
   "metadata": {},
   "outputs": [
    {
     "data": {
      "text/plain": [
       "False"
      ]
     },
     "execution_count": 20,
     "metadata": {},
     "output_type": "execute_result"
    }
   ],
   "source": [
    "'台中1' in citys"
   ]
  },
  {
   "cell_type": "code",
   "execution_count": 22,
   "id": "195bb9db",
   "metadata": {},
   "outputs": [
    {
     "data": {
      "text/plain": [
       "2"
      ]
     },
     "execution_count": 22,
     "metadata": {},
     "output_type": "execute_result"
    }
   ],
   "source": [
    "citys = ['台北', '台北', '高雄', '台南', '花蓮']\n",
    "citys.count('台北')"
   ]
  },
  {
   "cell_type": "code",
   "execution_count": 25,
   "id": "60931522",
   "metadata": {},
   "outputs": [
    {
     "data": {
      "text/plain": [
       "['Chico', 'Groucho', 'Harpo']"
      ]
     },
     "execution_count": 25,
     "metadata": {},
     "output_type": "execute_result"
    }
   ],
   "source": [
    "#sorted(),.sort()\n",
    "marxed =  ['Groucho', 'Chico', 'Harpo']\n",
    "marxed=sorted(marxed)\n",
    "marxed"
   ]
  },
  {
   "cell_type": "code",
   "execution_count": 30,
   "id": "73c2564b",
   "metadata": {},
   "outputs": [
    {
     "data": {
      "text/plain": [
       "['c', 'b', 'a', 'A']"
      ]
     },
     "execution_count": 30,
     "metadata": {},
     "output_type": "execute_result"
    }
   ],
   "source": [
    "list2 = ['c','b','a','A']\n",
    "list2.sort(reverse=True)\n",
    "list2"
   ]
  },
  {
   "cell_type": "code",
   "execution_count": null,
   "id": "12ca02d1",
   "metadata": {},
   "outputs": [],
   "source": []
  }
 ],
 "metadata": {
  "kernelspec": {
   "display_name": "Python 3 (ipykernel)",
   "language": "python",
   "name": "python3"
  },
  "language_info": {
   "codemirror_mode": {
    "name": "ipython",
    "version": 3
   },
   "file_extension": ".py",
   "mimetype": "text/x-python",
   "name": "python",
   "nbconvert_exporter": "python",
   "pygments_lexer": "ipython3",
   "version": "3.9.9"
  }
 },
 "nbformat": 4,
 "nbformat_minor": 5
}
