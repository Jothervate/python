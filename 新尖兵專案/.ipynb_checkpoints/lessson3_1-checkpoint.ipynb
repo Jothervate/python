{
 "cells": [
  {
   "cell_type": "code",
   "execution_count": 1,
   "id": "b3e0c500",
   "metadata": {},
   "outputs": [
    {
     "data": {
      "text/plain": [
       "3"
      ]
     },
     "execution_count": 1,
     "metadata": {},
     "output_type": "execute_result"
    }
   ],
   "source": [
    "#list extend\n",
    "list = ['a', 'b', 'c']\n",
    "len(list)"
   ]
  },
  {
   "cell_type": "code",
   "execution_count": 2,
   "id": "ee8cf2f3",
   "metadata": {},
   "outputs": [
    {
     "data": {
      "text/plain": [
       "['a', 'b', 'c']"
      ]
     },
     "execution_count": 2,
     "metadata": {},
     "output_type": "execute_result"
    }
   ],
   "source": [
    "list1 = list\n",
    "list1"
   ]
  },
  {
   "cell_type": "code",
   "execution_count": 3,
   "id": "8d9cc205",
   "metadata": {},
   "outputs": [
    {
     "data": {
      "text/plain": [
       "['a', 'b', 'c', 'd', 'e']"
      ]
     },
     "execution_count": 3,
     "metadata": {},
     "output_type": "execute_result"
    }
   ],
   "source": [
    "list1.extend(['d','e'])\n",
    "list1"
   ]
  },
  {
   "cell_type": "code",
   "execution_count": 4,
   "id": "f4856735",
   "metadata": {},
   "outputs": [
    {
     "data": {
      "text/plain": [
       "['a', 'b', 'c', 'd', 'e']"
      ]
     },
     "execution_count": 4,
     "metadata": {},
     "output_type": "execute_result"
    }
   ],
   "source": [
    "list"
   ]
  },
  {
   "cell_type": "code",
   "execution_count": 5,
   "id": "2c45e4f0",
   "metadata": {},
   "outputs": [
    {
     "data": {
      "text/plain": [
       "['a', 'b', 'c', 'd', 'e', 'f', 'g']"
      ]
     },
     "execution_count": 5,
     "metadata": {},
     "output_type": "execute_result"
    }
   ],
   "source": [
    "list = list + ['f', 'g']\n",
    "list"
   ]
  },
  {
   "cell_type": "code",
   "execution_count": 7,
   "id": "d6f8475e",
   "metadata": {},
   "outputs": [
    {
     "data": {
      "text/plain": [
       "['a', 'b', 'c', 'd', 'e']"
      ]
     },
     "execution_count": 7,
     "metadata": {},
     "output_type": "execute_result"
    }
   ],
   "source": [
    "list1"
   ]
  },
  {
   "cell_type": "code",
   "execution_count": 9,
   "id": "a3d81c6b",
   "metadata": {},
   "outputs": [
    {
     "data": {
      "text/plain": [
       "['a1', 'a', 'b', 'c']"
      ]
     },
     "execution_count": 9,
     "metadata": {},
     "output_type": "execute_result"
    }
   ],
   "source": [
    "#insert\n",
    "list2 = ['a', 'b', 'c']\n",
    "list2.insert(0, 'a1')\n",
    "list2"
   ]
  },
  {
   "cell_type": "code",
   "execution_count": 11,
   "id": "1539fbc9",
   "metadata": {},
   "outputs": [
    {
     "data": {
      "text/plain": [
       "['台中', '高雄', '台南', '花蓮']"
      ]
     },
     "execution_count": 11,
     "metadata": {},
     "output_type": "execute_result"
    }
   ],
   "source": [
    "#remove\n",
    "citys = ['台北', '台中', '高雄', '台南', '花蓮']\n",
    "citys.remove('台北')\n",
    "citys"
   ]
  },
  {
   "cell_type": "code",
   "execution_count": 13,
   "id": "1460a2af",
   "metadata": {},
   "outputs": [
    {
     "data": {
      "text/plain": [
       "['台北', '台中', '高雄', '台南']"
      ]
     },
     "execution_count": 13,
     "metadata": {},
     "output_type": "execute_result"
    }
   ],
   "source": [
    "#pop\n",
    "citys = ['台北', '台中', '高雄', '台南', '花蓮']\n",
    "citys.pop(-1)\n",
    "citys"
   ]
  },
  {
   "cell_type": "code",
   "execution_count": 14,
   "id": "8cdcbf8d",
   "metadata": {},
   "outputs": [
    {
     "data": {
      "text/plain": [
       "['台中', '高雄', '台南', '花蓮']"
      ]
     },
     "execution_count": 14,
     "metadata": {},
     "output_type": "execute_result"
    }
   ],
   "source": [
    "#del\n",
    "citys = ['台北', '台中', '高雄', '台南', '花蓮']\n",
    "del citys[0]\n",
    "citys"
   ]
  },
  {
   "cell_type": "code",
   "execution_count": 15,
   "id": "377f235f",
   "metadata": {},
   "outputs": [
    {
     "ename": "NameError",
     "evalue": "name 'citys' is not defined",
     "output_type": "error",
     "traceback": [
      "\u001b[0;31m---------------------------------------------------------------------------\u001b[0m",
      "\u001b[0;31mNameError\u001b[0m                                 Traceback (most recent call last)",
      "\u001b[0;32m/var/folders/by/68nnsq553f59kbs1v470m4k40000gp/T/ipykernel_962/1770183566.py\u001b[0m in \u001b[0;36m<module>\u001b[0;34m\u001b[0m\n\u001b[1;32m      1\u001b[0m \u001b[0;32mdel\u001b[0m \u001b[0mcitys\u001b[0m\u001b[0;34m\u001b[0m\u001b[0;34m\u001b[0m\u001b[0m\n\u001b[0;32m----> 2\u001b[0;31m \u001b[0mcitys\u001b[0m\u001b[0;34m\u001b[0m\u001b[0;34m\u001b[0m\u001b[0m\n\u001b[0m",
      "\u001b[0;31mNameError\u001b[0m: name 'citys' is not defined"
     ]
    }
   ],
   "source": [
    "del citys\n",
    "citys"
   ]
  },
  {
   "cell_type": "code",
   "execution_count": 18,
   "id": "deedc9e5",
   "metadata": {},
   "outputs": [
    {
     "data": {
      "text/plain": [
       "1"
      ]
     },
     "execution_count": 18,
     "metadata": {},
     "output_type": "execute_result"
    }
   ],
   "source": [
    "#.index(), in, count()\n",
    "citys = ['台北', '台中', '高雄', '台南', '花蓮']\n",
    "citys.index('台中')"
   ]
  },
  {
   "cell_type": "code",
   "execution_count": 20,
   "id": "5c527438",
   "metadata": {},
   "outputs": [
    {
     "data": {
      "text/plain": [
       "False"
      ]
     },
     "execution_count": 20,
     "metadata": {},
     "output_type": "execute_result"
    }
   ],
   "source": [
    "'台中1' in citys"
   ]
  },
  {
   "cell_type": "code",
   "execution_count": 22,
   "id": "e264b687",
   "metadata": {},
   "outputs": [
    {
     "data": {
      "text/plain": [
       "2"
      ]
     },
     "execution_count": 22,
     "metadata": {},
     "output_type": "execute_result"
    }
   ],
   "source": [
    "citys = ['台北', '台北', '高雄', '台南', '花蓮']\n",
    "citys.count('台北')"
   ]
  },
  {
   "cell_type": "code",
   "execution_count": 25,
   "id": "a987d925",
   "metadata": {},
   "outputs": [
    {
     "data": {
      "text/plain": [
       "['Chico', 'Groucho', 'Harpo']"
      ]
     },
     "execution_count": 25,
     "metadata": {},
     "output_type": "execute_result"
    }
   ],
   "source": [
    "#sorted(),.sort()\n",
    "marxed =  ['Groucho', 'Chico', 'Harpo']\n",
    "marxed=sorted(marxed)\n",
    "marxed"
   ]
  },
  {
   "cell_type": "code",
   "execution_count": 30,
   "id": "03cc4c77",
   "metadata": {},
   "outputs": [
    {
     "data": {
      "text/plain": [
       "['c', 'b', 'a', 'A']"
      ]
     },
     "execution_count": 30,
     "metadata": {},
     "output_type": "execute_result"
    }
   ],
   "source": [
    "list2 = ['c','b','a','A']\n",
    "list2.sort(reverse=True)\n",
    "list2"
   ]
  },
  {
   "cell_type": "code",
   "execution_count": 31,
   "id": "b05b7652",
   "metadata": {},
   "outputs": [
    {
     "data": {
      "text/plain": [
       "set()"
      ]
     },
     "execution_count": 31,
     "metadata": {},
     "output_type": "execute_result"
    }
   ],
   "source": [
    "#set\n",
    "empty_set = set()\n",
    "empty_set"
   ]
  },
  {
   "cell_type": "code",
   "execution_count": 32,
   "id": "b4a39c13",
   "metadata": {},
   "outputs": [
    {
     "data": {
      "text/plain": [
       "{0, 2, 4, 6, 8}"
      ]
     },
     "execution_count": 32,
     "metadata": {},
     "output_type": "execute_result"
    }
   ],
   "source": [
    "even_numbers = {0, 2, 4, 6, 8}\n",
    "even_numbers"
   ]
  },
  {
   "cell_type": "code",
   "execution_count": 35,
   "id": "1c583d8f",
   "metadata": {},
   "outputs": [
    {
     "data": {
      "text/plain": [
       "{1, 3, 5, 7, 9}"
      ]
     },
     "execution_count": 35,
     "metadata": {},
     "output_type": "execute_result"
    }
   ],
   "source": [
    "odd_numbers = {1, 3, 5, 7, 9}\n",
    "odd_numbers"
   ]
  },
  {
   "cell_type": "code",
   "execution_count": 49,
   "id": "2431fbb2",
   "metadata": {},
   "outputs": [
    {
     "name": "stdout",
     "output_type": "stream",
     "text": [
      "大樂透電腦選號:\n",
      "2 10 30 33 46 49 \n",
      "特別號:18\n"
     ]
    }
   ],
   "source": [
    "#大樂透\n",
    "#1~49,6號碼+特別號\n",
    "import random as rd\n",
    "\n",
    "awesomeNum = set()\n",
    "while len(awesomeNum) < 7:\n",
    "    awesomeNum.add(rd.randint(1,49))\n",
    "\n",
    "awesomeList = sorted(awesomeNum)\n",
    "specialNum = awesomeList.pop(rd.randint(0,6))\n",
    "print(\"大樂透電腦選號:\")\n",
    "for num in awesomeList:\n",
    "    print(num,end=' ')\n",
    "print()\n",
    "print(f\"特別號:{specialNum}\")"
   ]
  },
  {
   "cell_type": "code",
   "execution_count": 50,
   "id": "4c37df45",
   "metadata": {},
   "outputs": [],
   "source": [
    "#威力彩\n",
    "#第一區1~38,取6個\n",
    "#第二區1~8,取1個"
   ]
  },
  {
   "cell_type": "code",
   "execution_count": 55,
   "id": "55602bd1",
   "metadata": {},
   "outputs": [],
   "source": [
    "import random as rd\n",
    "\n",
    "def loto():\n",
    "    awesomeNum = set()\n",
    "    while len(awesomeNum) < 7:\n",
    "        awesomeNum.add(rd.randint(1,49))\n",
    "    awesomeList = sorted(awesomeNum)\n",
    "    specialNum = awesomeList.pop(rd.randint(0,6))\n",
    "    return (awesomeList,specialNum)"
   ]
  },
  {
   "cell_type": "code",
   "execution_count": 58,
   "id": "65aeda3e",
   "metadata": {},
   "outputs": [
    {
     "name": "stdout",
     "output_type": "stream",
     "text": [
      "大樂透電腦選號(組數):20\n",
      "大樂透電腦選號:\n",
      "第1組\n",
      "11 16 22 35 39 45 特別號:44\n",
      "\n",
      "第2組\n",
      "3 4 28 32 36 37 特別號:42\n",
      "\n",
      "第3組\n",
      "7 16 19 20 38 45 特別號:30\n",
      "\n",
      "第4組\n",
      "2 8 13 18 21 27 特別號:25\n",
      "\n",
      "第5組\n",
      "11 18 20 40 41 43 特別號:25\n",
      "\n",
      "第6組\n",
      "7 8 9 19 30 46 特別號:48\n",
      "\n",
      "第7組\n",
      "15 19 30 33 34 41 特別號:37\n",
      "\n",
      "第8組\n",
      "5 10 13 24 31 49 特別號:17\n",
      "\n",
      "第9組\n",
      "9 11 12 14 18 25 特別號:16\n",
      "\n",
      "第10組\n",
      "3 9 11 17 18 35 特別號:31\n",
      "\n",
      "第11組\n",
      "21 26 32 44 47 49 特別號:7\n",
      "\n",
      "第12組\n",
      "6 14 17 19 25 35 特別號:43\n",
      "\n",
      "第13組\n",
      "4 11 12 18 24 35 特別號:17\n",
      "\n",
      "第14組\n",
      "17 20 21 34 39 44 特別號:49\n",
      "\n",
      "第15組\n",
      "2 10 17 39 44 48 特別號:49\n",
      "\n",
      "第16組\n",
      "2 13 20 24 40 43 特別號:48\n",
      "\n",
      "第17組\n",
      "4 15 31 46 47 48 特別號:17\n",
      "\n",
      "第18組\n",
      "14 17 18 30 37 47 特別號:39\n",
      "\n",
      "第19組\n",
      "3 16 26 37 42 45 特別號:13\n",
      "\n",
      "第20組\n",
      "5 8 23 24 25 34 特別號:12\n",
      "\n"
     ]
    }
   ],
   "source": [
    "#大樂透\n",
    "#1~49,6號碼+特別號\n",
    "whichSet = int(input(\"大樂透電腦選號(組數):\"))\n",
    "print(\"大樂透電腦選號:\")\n",
    "for i in range(whichSet):\n",
    "    six,one = loto()\n",
    "    print(f\"第{i+1}組\")\n",
    "    for num in six:\n",
    "        print(num,end=' ')\n",
    "    print(f\"特別號:{one}\")\n",
    "    print()"
   ]
  },
  {
   "cell_type": "code",
   "execution_count": 60,
   "id": "b28775b1",
   "metadata": {},
   "outputs": [
    {
     "data": {
      "text/plain": [
       "{'a': 100, 'b': 200, 'c': 300}"
      ]
     },
     "execution_count": 60,
     "metadata": {},
     "output_type": "execute_result"
    }
   ],
   "source": [
    "dic1 = {'a': 100, 'b':200, 'c':300}\n",
    "dic1"
   ]
  },
  {
   "cell_type": "code",
   "execution_count": 62,
   "id": "b217b38e",
   "metadata": {},
   "outputs": [],
   "source": [
    "del dic1['c']"
   ]
  },
  {
   "cell_type": "code",
   "execution_count": 63,
   "id": "bdea1874",
   "metadata": {},
   "outputs": [
    {
     "data": {
      "text/plain": [
       "{'a': 100, 'b': 200}"
      ]
     },
     "execution_count": 63,
     "metadata": {},
     "output_type": "execute_result"
    }
   ],
   "source": [
    "dic1"
   ]
  },
  {
   "cell_type": "code",
   "execution_count": 64,
   "id": "09472be4",
   "metadata": {},
   "outputs": [
    {
     "data": {
      "text/plain": [
       "True"
      ]
     },
     "execution_count": 64,
     "metadata": {},
     "output_type": "execute_result"
    }
   ],
   "source": [
    "'a' in dic1"
   ]
  },
  {
   "cell_type": "code",
   "execution_count": 67,
   "id": "27359bd6",
   "metadata": {},
   "outputs": [
    {
     "data": {
      "text/plain": [
       "dict_keys(['綠燈', '黃燈', '紅燈'])"
      ]
     },
     "execution_count": 67,
     "metadata": {},
     "output_type": "execute_result"
    }
   ],
   "source": [
    "#dictionary, .keys(),.values(), .items()\n",
    "signals = {'綠燈': '走', '黃燈': '走快些', '紅燈': '停等'} \n",
    "signals.keys()"
   ]
  },
  {
   "cell_type": "code",
   "execution_count": 69,
   "id": "a569c69b",
   "metadata": {},
   "outputs": [
    {
     "data": {
      "text/plain": [
       "['綠燈', '黃燈', '紅燈']"
      ]
     },
     "execution_count": 69,
     "metadata": {},
     "output_type": "execute_result"
    }
   ],
   "source": [
    "[*signals.keys()]"
   ]
  },
  {
   "cell_type": "code",
   "execution_count": null,
   "id": "b90906c6",
   "metadata": {},
   "outputs": [],
   "source": []
  }
 ],
 "metadata": {
  "kernelspec": {
   "display_name": "Python 3 (ipykernel)",
   "language": "python",
   "name": "python3"
  },
  "language_info": {
   "codemirror_mode": {
    "name": "ipython",
    "version": 3
   },
   "file_extension": ".py",
   "mimetype": "text/x-python",
   "name": "python",
   "nbconvert_exporter": "python",
   "pygments_lexer": "ipython3",
   "version": "3.9.9"
  }
 },
 "nbformat": 4,
 "nbformat_minor": 5
}
