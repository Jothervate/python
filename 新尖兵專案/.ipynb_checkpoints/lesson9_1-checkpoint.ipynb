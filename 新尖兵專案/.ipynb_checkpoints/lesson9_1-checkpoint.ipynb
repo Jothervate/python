{
 "cells": [
  {
   "cell_type": "markdown",
   "id": "e8c4b0f9",
   "metadata": {},
   "source": [
    "sno(站點代號)、sna(場站中文名稱)、tot(場站總停車格)、sbi(場站目前車輛數量)、sarea(場站區域)、mday(資料更新時間)、lat(緯度)、lng(經度)、ar(地點)、sareaen(場站區域英文)、snaen(場站名稱英文)、aren(地址英文)、bemp(空位數量)、act(全站禁用狀態)、srcUpdateTime、updateTime、infoTime、infoDate"
   ]
  },
  {
   "cell_type": "code",
   "execution_count": 2,
   "id": "8220e92a",
   "metadata": {},
   "outputs": [
    {
     "data": {
      "text/plain": [
       "str"
      ]
     },
     "execution_count": 2,
     "metadata": {},
     "output_type": "execute_result"
    }
   ],
   "source": [
    "import json\n",
    "import os\n",
    "\n",
    "pyDic = {'python': 'good',\n",
    "         'gjun': 100,\n",
    "         'python-class':True,\n",
    "         'ICQ': None}\n",
    "jsonString = json.dumps(pyDic)\n",
    "if not os.path.exists('./save/pyDic.json'):\n",
    "    with open('./save/pyDic.json',mode='w',encoding='utf-8') as file:\n",
    "        file.write(jsonString)\n",
    "    \n"
   ]
  },
  {
   "cell_type": "code",
   "execution_count": null,
   "id": "e7c8bf83",
   "metadata": {},
   "outputs": [],
   "source": []
  }
 ],
 "metadata": {
  "kernelspec": {
   "display_name": "Python 3 (ipykernel)",
   "language": "python",
   "name": "python3"
  },
  "language_info": {
   "codemirror_mode": {
    "name": "ipython",
    "version": 3
   },
   "file_extension": ".py",
   "mimetype": "text/x-python",
   "name": "python",
   "nbconvert_exporter": "python",
   "pygments_lexer": "ipython3",
   "version": "3.9.9"
  }
 },
 "nbformat": 4,
 "nbformat_minor": 5
}
