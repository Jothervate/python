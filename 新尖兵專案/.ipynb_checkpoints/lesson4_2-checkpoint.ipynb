{
 "cells": [
  {
   "cell_type": "code",
   "execution_count": 2,
   "id": "c3d08588",
   "metadata": {},
   "outputs": [
    {
     "name": "stdout",
     "output_type": "stream",
     "text": [
      "a\tb\n"
     ]
    }
   ],
   "source": [
    "import re\n",
    "print(\"a\\tb\")"
   ]
  },
  {
   "cell_type": "code",
   "execution_count": 3,
   "id": "1a167224",
   "metadata": {},
   "outputs": [
    {
     "name": "stdout",
     "output_type": "stream",
     "text": [
      "a\\tb\n"
     ]
    }
   ],
   "source": [
    "print(r\"a\\tb\")"
   ]
  },
  {
   "cell_type": "code",
   "execution_count": 13,
   "id": "bf99013e",
   "metadata": {},
   "outputs": [
    {
     "name": "stdout",
     "output_type": "stream",
     "text": [
      "<re.Match object; span=(0, 5), match='Hello'>\n"
     ]
    }
   ],
   "source": [
    "#re.math(pattern,string,flags=0)\n",
    "strText = \"Hello Python Programming\"\n",
    "matchObject = re.match(r'hello',strText,re.I)\n",
    "print(matchObject)"
   ]
  },
  {
   "cell_type": "code",
   "execution_count": 28,
   "id": "ce95bace",
   "metadata": {},
   "outputs": [
    {
     "name": "stdout",
     "output_type": "stream",
     "text": [
      "比對符合\n",
      "Cats are smarter than dogs\n",
      "Cats\n",
      "smarter\n",
      "than\n",
      "dogs\n"
     ]
    }
   ],
   "source": [
    "line = \"Cats are smarter than dogs\"\n",
    "pattern = r'(.*) are (.*) (.*) (.*)'\n",
    "\n",
    "matchObject = re.match(pattern, line, re.I)\n",
    "if matchObject:\n",
    "    print(\"比對符合\")\n",
    "    print(matchObject.group())\n",
    "    print(matchObject.group(1))\n",
    "    print(matchObject.group(2))\n",
    "    print(matchObject.group(3))\n",
    "    print(matchObject.group(4))\n",
    "else:\n",
    "    print(\"比對不符合\")"
   ]
  },
  {
   "cell_type": "code",
   "execution_count": 33,
   "id": "29c338fb",
   "metadata": {},
   "outputs": [
    {
     "name": "stdout",
     "output_type": "stream",
     "text": [
      "有匹配\n",
      "(13, 24)\n"
     ]
    }
   ],
   "source": [
    "str = \"Hello Python Programming\"\n",
    "searchObject = re.search(r'Programming', str, re.I)\n",
    "if searchObject:\n",
    "    print(\"有匹配\")\n",
    "    print(searchObject.span())\n",
    "else:\n",
    "    print(\"沒有匹配\")"
   ]
  },
  {
   "cell_type": "code",
   "execution_count": 35,
   "id": "098311bf",
   "metadata": {},
   "outputs": [
    {
     "name": "stdout",
     "output_type": "stream",
     "text": [
      "有匹配\n",
      "(13, 24)\n"
     ]
    }
   ],
   "source": [
    "str = \"Hello Python Programming\"\n",
    "searchObject = re.search(r'Programming$', str, re.I)\n",
    "if searchObject:\n",
    "    print(\"有匹配\")\n",
    "    print(searchObject.span())\n",
    "else:\n",
    "    print(\"沒有匹配\")"
   ]
  },
  {
   "cell_type": "code",
   "execution_count": 45,
   "id": "c29cac6f",
   "metadata": {},
   "outputs": [
    {
     "data": {
      "text/plain": [
       "<re.Match object; span=(0, 22), match='https://www.google.com'>"
      ]
     },
     "execution_count": 45,
     "metadata": {},
     "output_type": "execute_result"
    }
   ],
   "source": [
    "pattern1 = r'(^http:\\/\\/www\\.|https:\\/\\/www\\.|http:\\/\\/|https:\\/\\/)?[a-z0-9]+([\\-\\.]{1}[a-z0-9]+)*\\.[a-z]{2,5}(:[0-9]{1,5})?(\\/.*)?$'\n",
    "str = 'http://www.google.com'\n",
    "\n",
    "re.match(pattern1, str)"
   ]
  }
 ],
 "metadata": {
  "kernelspec": {
   "display_name": "Python 3 (ipykernel)",
   "language": "python",
   "name": "python3"
  },
  "language_info": {
   "codemirror_mode": {
    "name": "ipython",
    "version": 3
   },
   "file_extension": ".py",
   "mimetype": "text/x-python",
   "name": "python",
   "nbconvert_exporter": "python",
   "pygments_lexer": "ipython3",
   "version": "3.9.9"
  }
 },
 "nbformat": 4,
 "nbformat_minor": 5
}
