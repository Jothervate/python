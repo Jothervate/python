{
 "cells": [
  {
   "cell_type": "code",
   "execution_count": 2,
   "id": "520c496f",
   "metadata": {},
   "outputs": [
    {
     "name": "stdout",
     "output_type": "stream",
     "text": [
      "a\tb\n"
     ]
    }
   ],
   "source": [
    "import re\n",
    "print(\"a\\tb\")"
   ]
  },
  {
   "cell_type": "code",
   "execution_count": 3,
   "id": "fec56364",
   "metadata": {},
   "outputs": [
    {
     "name": "stdout",
     "output_type": "stream",
     "text": [
      "a\\tb\n"
     ]
    }
   ],
   "source": [
    "print(r\"a\\tb\")"
   ]
  },
  {
   "cell_type": "code",
   "execution_count": 12,
   "id": "647693e8",
   "metadata": {},
   "outputs": [
    {
     "name": "stdout",
     "output_type": "stream",
     "text": [
      "<re.Match object; span=(0, 11), match='Hhhhhhhello'>\n"
     ]
    }
   ],
   "source": [
    "#re.math(pattern,string,flags=0)\n",
    "strText = \"Hello Python Programming\"\n",
    "matchObject = re.match(r'hello',strText,re.I)\n",
    "print(matchObject)"
   ]
  },
  {
   "cell_type": "code",
   "execution_count": null,
   "id": "6192dd60",
   "metadata": {},
   "outputs": [],
   "source": []
  }
 ],
 "metadata": {
  "kernelspec": {
   "display_name": "Python 3 (ipykernel)",
   "language": "python",
   "name": "python3"
  },
  "language_info": {
   "codemirror_mode": {
    "name": "ipython",
    "version": 3
   },
   "file_extension": ".py",
   "mimetype": "text/x-python",
   "name": "python",
   "nbconvert_exporter": "python",
   "pygments_lexer": "ipython3",
   "version": "3.9.9"
  }
 },
 "nbformat": 4,
 "nbformat_minor": 5
}
