{
 "cells": [
  {
   "cell_type": "code",
   "execution_count": 2,
   "id": "913e53b4",
   "metadata": {},
   "outputs": [
    {
     "name": "stdout",
     "output_type": "stream",
     "text": [
      "a\tb\n"
     ]
    }
   ],
   "source": [
    "import re\n",
    "print(\"a\\tb\")"
   ]
  },
  {
   "cell_type": "code",
   "execution_count": 3,
   "id": "e9e8ae51",
   "metadata": {},
   "outputs": [
    {
     "name": "stdout",
     "output_type": "stream",
     "text": [
      "a\\tb\n"
     ]
    }
   ],
   "source": [
    "print(r\"a\\tb\")"
   ]
  },
  {
   "cell_type": "code",
   "execution_count": 13,
   "id": "a5d3b420",
   "metadata": {},
   "outputs": [
    {
     "name": "stdout",
     "output_type": "stream",
     "text": [
      "<re.Match object; span=(0, 5), match='Hello'>\n"
     ]
    }
   ],
   "source": [
    "#re.math(pattern,string,flags=0)\n",
    "strText = \"Hello Python Programming\"\n",
    "matchObject = re.match(r'hello',strText,re.I)\n",
    "print(matchObject)"
   ]
  },
  {
   "cell_type": "code",
   "execution_count": 24,
   "id": "4bf9fdc8",
   "metadata": {},
   "outputs": [
    {
     "name": "stdout",
     "output_type": "stream",
     "text": [
      "比對符合\n",
      "Cats are \n",
      "Cats\n",
      "\n"
     ]
    }
   ],
   "source": [
    "line = \"Cats are smarter than dogs\"\n",
    "pattern = r'(.*) are (.*)'\n",
    "\n",
    "matchObject = re.match(pattern, line, re.I)\n",
    "if matchObject:\n",
    "    print(\"比對符合\")\n",
    "    print(matchObject.group())\n",
    "    print(matchObject.group(1))\n",
    "    print(matchObject.group(2))\n",
    "else:\n",
    "    print(\"比對不符合\")"
   ]
  },
  {
   "cell_type": "code",
   "execution_count": null,
   "id": "ef2bcaf9",
   "metadata": {},
   "outputs": [],
   "source": []
  }
 ],
 "metadata": {
  "kernelspec": {
   "display_name": "Python 3 (ipykernel)",
   "language": "python",
   "name": "python3"
  },
  "language_info": {
   "codemirror_mode": {
    "name": "ipython",
    "version": 3
   },
   "file_extension": ".py",
   "mimetype": "text/x-python",
   "name": "python",
   "nbconvert_exporter": "python",
   "pygments_lexer": "ipython3",
   "version": "3.9.9"
  }
 },
 "nbformat": 4,
 "nbformat_minor": 5
}
