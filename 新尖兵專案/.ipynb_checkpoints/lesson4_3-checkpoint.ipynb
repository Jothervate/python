{
 "cells": [
  {
   "cell_type": "code",
   "execution_count": 1,
   "id": "5a0ecd96",
   "metadata": {},
   "outputs": [
    {
     "name": "stdout",
     "output_type": "stream",
     "text": [
      "下載成功\n"
     ]
    }
   ],
   "source": [
    "import requests\n",
    "\n",
    "url = 'https://data.epa.gov.tw/api/v1/aqx_p_322?offset=1&limit=1000&api_key=84a024b0-1d85-460c-b330-d96b9ea12cb9'\n",
    "response=requests.get(url)\n",
    "if response.status_code == 200:\n",
    "    print(\"下載成功\")\n",
    "    alljson = response.json()"
   ]
  },
  {
   "cell_type": "code",
   "execution_count": 2,
   "id": "4e73a826",
   "metadata": {},
   "outputs": [
    {
     "name": "stdout",
     "output_type": "stream",
     "text": [
      "{'SiteId': '2', 'SiteName': '汐止', 'County': '新北市', 'ItemId': '33', 'ItemName': '細懸浮微粒', 'ItemEngName': 'PM2.5', 'ItemUnit': 'μg/m3', 'MonitorDate': '2022-01-06 00:00:00', 'Concentration': '8'}\n",
      "===============\n",
      "{'SiteId': '3', 'SiteName': '萬里', 'County': '新北市', 'ItemId': '33', 'ItemName': '細懸浮微粒', 'ItemEngName': 'PM2.5', 'ItemUnit': 'μg/m3', 'MonitorDate': '2022-01-06 00:00:00', 'Concentration': '13'}\n",
      "===============\n",
      "{'SiteId': '4', 'SiteName': '新店', 'County': '新北市', 'ItemId': '33', 'ItemName': '細懸浮微粒', 'ItemEngName': 'PM2.5', 'ItemUnit': 'μg/m3', 'MonitorDate': '2022-01-06 00:00:00', 'Concentration': '10'}\n",
      "===============\n",
      "{'SiteId': '5', 'SiteName': '土城', 'County': '新北市', 'ItemId': '33', 'ItemName': '細懸浮微粒', 'ItemEngName': 'PM2.5', 'ItemUnit': 'μg/m3', 'MonitorDate': '2022-01-06 00:00:00', 'Concentration': '12'}\n",
      "===============\n",
      "{'SiteId': '6', 'SiteName': '板橋', 'County': '新北市', 'ItemId': '33', 'ItemName': '細懸浮微粒', 'ItemEngName': 'PM2.5', 'ItemUnit': 'μg/m3', 'MonitorDate': '2022-01-06 00:00:00', 'Concentration': '10'}\n",
      "===============\n",
      "{'SiteId': '7', 'SiteName': '新莊', 'County': '新北市', 'ItemId': '33', 'ItemName': '細懸浮微粒', 'ItemEngName': 'PM2.5', 'ItemUnit': 'μg/m3', 'MonitorDate': '2022-01-06 00:00:00', 'Concentration': '10'}\n",
      "===============\n",
      "{'SiteId': '8', 'SiteName': '菜寮', 'County': '新北市', 'ItemId': '33', 'ItemName': '細懸浮微粒', 'ItemEngName': 'PM2.5', 'ItemUnit': 'μg/m3', 'MonitorDate': '2022-01-06 00:00:00', 'Concentration': '10'}\n",
      "===============\n",
      "{'SiteId': '9', 'SiteName': '林口', 'County': '新北市', 'ItemId': '33', 'ItemName': '細懸浮微粒', 'ItemEngName': 'PM2.5', 'ItemUnit': 'μg/m3', 'MonitorDate': '2022-01-06 00:00:00', 'Concentration': '9'}\n",
      "===============\n",
      "{'SiteId': '10', 'SiteName': '淡水', 'County': '新北市', 'ItemId': '33', 'ItemName': '細懸浮微粒', 'ItemEngName': 'PM2.5', 'ItemUnit': 'μg/m3', 'MonitorDate': '2022-01-06 00:00:00', 'Concentration': '10'}\n",
      "===============\n",
      "{'SiteId': '11', 'SiteName': '士林', 'County': '臺北市', 'ItemId': '33', 'ItemName': '細懸浮微粒', 'ItemEngName': 'PM2.5', 'ItemUnit': 'μg/m3', 'MonitorDate': '2022-01-06 00:00:00', 'Concentration': '8'}\n",
      "===============\n",
      "{'SiteId': '12', 'SiteName': '中山', 'County': '臺北市', 'ItemId': '33', 'ItemName': '細懸浮微粒', 'ItemEngName': 'PM2.5', 'ItemUnit': 'μg/m3', 'MonitorDate': '2022-01-06 00:00:00', 'Concentration': '9'}\n",
      "===============\n",
      "{'SiteId': '13', 'SiteName': '萬華', 'County': '臺北市', 'ItemId': '33', 'ItemName': '細懸浮微粒', 'ItemEngName': 'PM2.5', 'ItemUnit': 'μg/m3', 'MonitorDate': '2022-01-06 00:00:00', 'Concentration': '10'}\n",
      "===============\n",
      "{'SiteId': '14', 'SiteName': '古亭', 'County': '臺北市', 'ItemId': '33', 'ItemName': '細懸浮微粒', 'ItemEngName': 'PM2.5', 'ItemUnit': 'μg/m3', 'MonitorDate': '2022-01-06 00:00:00', 'Concentration': '11'}\n",
      "===============\n",
      "{'SiteId': '15', 'SiteName': '松山', 'County': '臺北市', 'ItemId': '33', 'ItemName': '細懸浮微粒', 'ItemEngName': 'PM2.5', 'ItemUnit': 'μg/m3', 'MonitorDate': '2022-01-06 00:00:00', 'Concentration': '11'}\n",
      "===============\n",
      "{'SiteId': '16', 'SiteName': '大同', 'County': '臺北市', 'ItemId': '33', 'ItemName': '細懸浮微粒', 'ItemEngName': 'PM2.5', 'ItemUnit': 'μg/m3', 'MonitorDate': '2022-01-06 00:00:00', 'Concentration': '13'}\n",
      "===============\n",
      "{'SiteId': '17', 'SiteName': '桃園', 'County': '桃園市', 'ItemId': '33', 'ItemName': '細懸浮微粒', 'ItemEngName': 'PM2.5', 'ItemUnit': 'μg/m3', 'MonitorDate': '2022-01-06 00:00:00', 'Concentration': '12'}\n",
      "===============\n",
      "{'SiteId': '18', 'SiteName': '大園', 'County': '桃園市', 'ItemId': '33', 'ItemName': '細懸浮微粒', 'ItemEngName': 'PM2.5', 'ItemUnit': 'μg/m3', 'MonitorDate': '2022-01-06 00:00:00', 'Concentration': '11'}\n",
      "===============\n",
      "{'SiteId': '19', 'SiteName': '觀音', 'County': '桃園市', 'ItemId': '33', 'ItemName': '細懸浮微粒', 'ItemEngName': 'PM2.5', 'ItemUnit': 'μg/m3', 'MonitorDate': '2022-01-06 00:00:00', 'Concentration': '12'}\n",
      "===============\n",
      "{'SiteId': '20', 'SiteName': '平鎮', 'County': '桃園市', 'ItemId': '33', 'ItemName': '細懸浮微粒', 'ItemEngName': 'PM2.5', 'ItemUnit': 'μg/m3', 'MonitorDate': '2022-01-06 00:00:00', 'Concentration': '13'}\n",
      "===============\n",
      "{'SiteId': '21', 'SiteName': '龍潭', 'County': '桃園市', 'ItemId': '33', 'ItemName': '細懸浮微粒', 'ItemEngName': 'PM2.5', 'ItemUnit': 'μg/m3', 'MonitorDate': '2022-01-06 00:00:00', 'Concentration': '10'}\n",
      "===============\n",
      "{'SiteId': '22', 'SiteName': '湖口', 'County': '新竹縣', 'ItemId': '33', 'ItemName': '細懸浮微粒', 'ItemEngName': 'PM2.5', 'ItemUnit': 'μg/m3', 'MonitorDate': '2022-01-06 00:00:00', 'Concentration': '11'}\n",
      "===============\n",
      "{'SiteId': '23', 'SiteName': '竹東', 'County': '新竹縣', 'ItemId': '33', 'ItemName': '細懸浮微粒', 'ItemEngName': 'PM2.5', 'ItemUnit': 'μg/m3', 'MonitorDate': '2022-01-06 00:00:00', 'Concentration': '9'}\n",
      "===============\n",
      "{'SiteId': '24', 'SiteName': '新竹', 'County': '新竹市', 'ItemId': '33', 'ItemName': '細懸浮微粒', 'ItemEngName': 'PM2.5', 'ItemUnit': 'μg/m3', 'MonitorDate': '2022-01-06 00:00:00', 'Concentration': '13'}\n",
      "===============\n",
      "{'SiteId': '25', 'SiteName': '頭份', 'County': '苗栗縣', 'ItemId': '33', 'ItemName': '細懸浮微粒', 'ItemEngName': 'PM2.5', 'ItemUnit': 'μg/m3', 'MonitorDate': '2022-01-06 00:00:00', 'Concentration': '12'}\n",
      "===============\n",
      "{'SiteId': '26', 'SiteName': '苗栗', 'County': '苗栗縣', 'ItemId': '33', 'ItemName': '細懸浮微粒', 'ItemEngName': 'PM2.5', 'ItemUnit': 'μg/m3', 'MonitorDate': '2022-01-06 00:00:00', 'Concentration': '12'}\n",
      "===============\n",
      "{'SiteId': '27', 'SiteName': '三義', 'County': '苗栗縣', 'ItemId': '33', 'ItemName': '細懸浮微粒', 'ItemEngName': 'PM2.5', 'ItemUnit': 'μg/m3', 'MonitorDate': '2022-01-06 00:00:00', 'Concentration': '8'}\n",
      "===============\n",
      "{'SiteId': '28', 'SiteName': '豐原', 'County': '臺中市', 'ItemId': '33', 'ItemName': '細懸浮微粒', 'ItemEngName': 'PM2.5', 'ItemUnit': 'μg/m3', 'MonitorDate': '2022-01-06 00:00:00', 'Concentration': '8'}\n",
      "===============\n",
      "{'SiteId': '29', 'SiteName': '沙鹿', 'County': '臺中市', 'ItemId': '33', 'ItemName': '細懸浮微粒', 'ItemEngName': 'PM2.5', 'ItemUnit': 'μg/m3', 'MonitorDate': '2022-01-06 00:00:00', 'Concentration': '13'}\n",
      "===============\n",
      "{'SiteId': '30', 'SiteName': '大里', 'County': '臺中市', 'ItemId': '33', 'ItemName': '細懸浮微粒', 'ItemEngName': 'PM2.5', 'ItemUnit': 'μg/m3', 'MonitorDate': '2022-01-06 00:00:00', 'Concentration': '15'}\n",
      "===============\n",
      "{'SiteId': '31', 'SiteName': '忠明', 'County': '臺中市', 'ItemId': '33', 'ItemName': '細懸浮微粒', 'ItemEngName': 'PM2.5', 'ItemUnit': 'μg/m3', 'MonitorDate': '2022-01-06 00:00:00', 'Concentration': '11'}\n",
      "===============\n",
      "{'SiteId': '32', 'SiteName': '西屯', 'County': '臺中市', 'ItemId': '33', 'ItemName': '細懸浮微粒', 'ItemEngName': 'PM2.5', 'ItemUnit': 'μg/m3', 'MonitorDate': '2022-01-06 00:00:00', 'Concentration': '12'}\n",
      "===============\n",
      "{'SiteId': '33', 'SiteName': '彰化', 'County': '彰化縣', 'ItemId': '33', 'ItemName': '細懸浮微粒', 'ItemEngName': 'PM2.5', 'ItemUnit': 'μg/m3', 'MonitorDate': '2022-01-06 00:00:00', 'Concentration': '13'}\n",
      "===============\n",
      "{'SiteId': '34', 'SiteName': '線西', 'County': '彰化縣', 'ItemId': '33', 'ItemName': '細懸浮微粒', 'ItemEngName': 'PM2.5', 'ItemUnit': 'μg/m3', 'MonitorDate': '2022-01-06 00:00:00', 'Concentration': '15'}\n",
      "===============\n",
      "{'SiteId': '35', 'SiteName': '二林', 'County': '彰化縣', 'ItemId': '33', 'ItemName': '細懸浮微粒', 'ItemEngName': 'PM2.5', 'ItemUnit': 'μg/m3', 'MonitorDate': '2022-01-06 00:00:00', 'Concentration': '16'}\n",
      "===============\n",
      "{'SiteId': '36', 'SiteName': '南投', 'County': '南投縣', 'ItemId': '33', 'ItemName': '細懸浮微粒', 'ItemEngName': 'PM2.5', 'ItemUnit': 'μg/m3', 'MonitorDate': '2022-01-06 00:00:00', 'Concentration': '20'}\n",
      "===============\n",
      "{'SiteId': '37', 'SiteName': '斗六', 'County': '雲林縣', 'ItemId': '33', 'ItemName': '細懸浮微粒', 'ItemEngName': 'PM2.5', 'ItemUnit': 'μg/m3', 'MonitorDate': '2022-01-06 00:00:00', 'Concentration': '21'}\n",
      "===============\n",
      "{'SiteId': '38', 'SiteName': '崙背', 'County': '雲林縣', 'ItemId': '33', 'ItemName': '細懸浮微粒', 'ItemEngName': 'PM2.5', 'ItemUnit': 'μg/m3', 'MonitorDate': '2022-01-06 00:00:00', 'Concentration': '15'}\n",
      "===============\n",
      "{'SiteId': '39', 'SiteName': '新港', 'County': '嘉義縣', 'ItemId': '33', 'ItemName': '細懸浮微粒', 'ItemEngName': 'PM2.5', 'ItemUnit': 'μg/m3', 'MonitorDate': '2022-01-06 00:00:00', 'Concentration': '18'}\n",
      "===============\n",
      "{'SiteId': '40', 'SiteName': '朴子', 'County': '嘉義縣', 'ItemId': '33', 'ItemName': '細懸浮微粒', 'ItemEngName': 'PM2.5', 'ItemUnit': 'μg/m3', 'MonitorDate': '2022-01-06 00:00:00', 'Concentration': '17'}\n",
      "===============\n",
      "{'SiteId': '41', 'SiteName': '臺西', 'County': '雲林縣', 'ItemId': '33', 'ItemName': '細懸浮微粒', 'ItemEngName': 'PM2.5', 'ItemUnit': 'μg/m3', 'MonitorDate': '2022-01-06 00:00:00', 'Concentration': '13'}\n",
      "===============\n",
      "{'SiteId': '42', 'SiteName': '嘉義', 'County': '嘉義市', 'ItemId': '33', 'ItemName': '細懸浮微粒', 'ItemEngName': 'PM2.5', 'ItemUnit': 'μg/m3', 'MonitorDate': '2022-01-06 00:00:00', 'Concentration': '23'}\n",
      "===============\n",
      "{'SiteId': '43', 'SiteName': '新營', 'County': '臺南市', 'ItemId': '33', 'ItemName': '細懸浮微粒', 'ItemEngName': 'PM2.5', 'ItemUnit': 'μg/m3', 'MonitorDate': '2022-01-06 00:00:00', 'Concentration': '19'}\n",
      "===============\n",
      "{'SiteId': '44', 'SiteName': '善化', 'County': '臺南市', 'ItemId': '33', 'ItemName': '細懸浮微粒', 'ItemEngName': 'PM2.5', 'ItemUnit': 'μg/m3', 'MonitorDate': '2022-01-06 00:00:00', 'Concentration': '20'}\n",
      "===============\n",
      "{'SiteId': '45', 'SiteName': '安南', 'County': '臺南市', 'ItemId': '33', 'ItemName': '細懸浮微粒', 'ItemEngName': 'PM2.5', 'ItemUnit': 'μg/m3', 'MonitorDate': '2022-01-06 00:00:00', 'Concentration': '18'}\n",
      "===============\n",
      "{'SiteId': '46', 'SiteName': '臺南', 'County': '臺南市', 'ItemId': '33', 'ItemName': '細懸浮微粒', 'ItemEngName': 'PM2.5', 'ItemUnit': 'μg/m3', 'MonitorDate': '2022-01-06 00:00:00', 'Concentration': '20'}\n",
      "===============\n",
      "{'SiteId': '47', 'SiteName': '美濃', 'County': '高雄市', 'ItemId': '33', 'ItemName': '細懸浮微粒', 'ItemEngName': 'PM2.5', 'ItemUnit': 'μg/m3', 'MonitorDate': '2022-01-06 00:00:00', 'Concentration': '25'}\n",
      "===============\n",
      "{'SiteId': '48', 'SiteName': '橋頭', 'County': '高雄市', 'ItemId': '33', 'ItemName': '細懸浮微粒', 'ItemEngName': 'PM2.5', 'ItemUnit': 'μg/m3', 'MonitorDate': '2022-01-06 00:00:00', 'Concentration': '30'}\n",
      "===============\n",
      "{'SiteId': '49', 'SiteName': '仁武', 'County': '高雄市', 'ItemId': '33', 'ItemName': '細懸浮微粒', 'ItemEngName': 'PM2.5', 'ItemUnit': 'μg/m3', 'MonitorDate': '2022-01-06 00:00:00', 'Concentration': '32'}\n",
      "===============\n",
      "{'SiteId': '50', 'SiteName': '鳳山', 'County': '高雄市', 'ItemId': '33', 'ItemName': '細懸浮微粒', 'ItemEngName': 'PM2.5', 'ItemUnit': 'μg/m3', 'MonitorDate': '2022-01-06 00:00:00', 'Concentration': '33'}\n",
      "===============\n",
      "{'SiteId': '51', 'SiteName': '大寮', 'County': '高雄市', 'ItemId': '33', 'ItemName': '細懸浮微粒', 'ItemEngName': 'PM2.5', 'ItemUnit': 'μg/m3', 'MonitorDate': '2022-01-06 00:00:00', 'Concentration': '35'}\n",
      "===============\n",
      "{'SiteId': '52', 'SiteName': '林園', 'County': '高雄市', 'ItemId': '33', 'ItemName': '細懸浮微粒', 'ItemEngName': 'PM2.5', 'ItemUnit': 'μg/m3', 'MonitorDate': '2022-01-06 00:00:00', 'Concentration': '39'}\n",
      "===============\n",
      "{'SiteId': '53', 'SiteName': '楠梓', 'County': '高雄市', 'ItemId': '33', 'ItemName': '細懸浮微粒', 'ItemEngName': 'PM2.5', 'ItemUnit': 'μg/m3', 'MonitorDate': '2022-01-06 00:00:00', 'Concentration': '25'}\n",
      "===============\n",
      "{'SiteId': '54', 'SiteName': '左營', 'County': '高雄市', 'ItemId': '33', 'ItemName': '細懸浮微粒', 'ItemEngName': 'PM2.5', 'ItemUnit': 'μg/m3', 'MonitorDate': '2022-01-06 00:00:00', 'Concentration': '29'}\n",
      "===============\n",
      "{'SiteId': '56', 'SiteName': '前金', 'County': '高雄市', 'ItemId': '33', 'ItemName': '細懸浮微粒', 'ItemEngName': 'PM2.5', 'ItemUnit': 'μg/m3', 'MonitorDate': '2022-01-06 00:00:00', 'Concentration': '29'}\n",
      "===============\n",
      "{'SiteId': '57', 'SiteName': '前鎮', 'County': '高雄市', 'ItemId': '33', 'ItemName': '細懸浮微粒', 'ItemEngName': 'PM2.5', 'ItemUnit': 'μg/m3', 'MonitorDate': '2022-01-06 00:00:00', 'Concentration': '28'}\n",
      "===============\n",
      "{'SiteId': '58', 'SiteName': '小港', 'County': '高雄市', 'ItemId': '33', 'ItemName': '細懸浮微粒', 'ItemEngName': 'PM2.5', 'ItemUnit': 'μg/m3', 'MonitorDate': '2022-01-06 00:00:00', 'Concentration': '30'}\n",
      "===============\n",
      "{'SiteId': '59', 'SiteName': '屏東', 'County': '屏東縣', 'ItemId': '33', 'ItemName': '細懸浮微粒', 'ItemEngName': 'PM2.5', 'ItemUnit': 'μg/m3', 'MonitorDate': '2022-01-06 00:00:00', 'Concentration': '39'}\n",
      "===============\n",
      "{'SiteId': '60', 'SiteName': '潮州', 'County': '屏東縣', 'ItemId': '33', 'ItemName': '細懸浮微粒', 'ItemEngName': 'PM2.5', 'ItemUnit': 'μg/m3', 'MonitorDate': '2022-01-06 00:00:00', 'Concentration': '40'}\n",
      "===============\n",
      "{'SiteId': '61', 'SiteName': '恆春', 'County': '屏東縣', 'ItemId': '33', 'ItemName': '細懸浮微粒', 'ItemEngName': 'PM2.5', 'ItemUnit': 'μg/m3', 'MonitorDate': '2022-01-06 00:00:00', 'Concentration': '5'}\n",
      "===============\n",
      "{'SiteId': '62', 'SiteName': '臺東', 'County': '臺東縣', 'ItemId': '33', 'ItemName': '細懸浮微粒', 'ItemEngName': 'PM2.5', 'ItemUnit': 'μg/m3', 'MonitorDate': '2022-01-06 00:00:00', 'Concentration': '6'}\n",
      "===============\n",
      "{'SiteId': '63', 'SiteName': '花蓮', 'County': '花蓮縣', 'ItemId': '33', 'ItemName': '細懸浮微粒', 'ItemEngName': 'PM2.5', 'ItemUnit': 'μg/m3', 'MonitorDate': '2022-01-06 00:00:00', 'Concentration': '8'}\n",
      "===============\n",
      "{'SiteId': '64', 'SiteName': '陽明', 'County': '臺北市', 'ItemId': '33', 'ItemName': '細懸浮微粒', 'ItemEngName': 'PM2.5', 'ItemUnit': 'μg/m3', 'MonitorDate': '2022-01-06 00:00:00', 'Concentration': '5'}\n",
      "===============\n",
      "{'SiteId': '65', 'SiteName': '宜蘭', 'County': '宜蘭縣', 'ItemId': '33', 'ItemName': '細懸浮微粒', 'ItemEngName': 'PM2.5', 'ItemUnit': 'μg/m3', 'MonitorDate': '2022-01-06 00:00:00', 'Concentration': '10'}\n",
      "===============\n",
      "{'SiteId': '66', 'SiteName': '冬山', 'County': '宜蘭縣', 'ItemId': '33', 'ItemName': '細懸浮微粒', 'ItemEngName': 'PM2.5', 'ItemUnit': 'μg/m3', 'MonitorDate': '2022-01-06 00:00:00', 'Concentration': '10'}\n",
      "===============\n",
      "{'SiteId': '67', 'SiteName': '三重', 'County': '新北市', 'ItemId': '33', 'ItemName': '細懸浮微粒', 'ItemEngName': 'PM2.5', 'ItemUnit': 'μg/m3', 'MonitorDate': '2022-01-06 00:00:00', 'Concentration': '12'}\n",
      "===============\n",
      "{'SiteId': '68', 'SiteName': '中壢', 'County': '桃園市', 'ItemId': '33', 'ItemName': '細懸浮微粒', 'ItemEngName': 'PM2.5', 'ItemUnit': 'μg/m3', 'MonitorDate': '2022-01-06 00:00:00', 'Concentration': '12'}\n",
      "===============\n",
      "{'SiteId': '69', 'SiteName': '竹山', 'County': '南投縣', 'ItemId': '33', 'ItemName': '細懸浮微粒', 'ItemEngName': 'PM2.5', 'ItemUnit': 'μg/m3', 'MonitorDate': '2022-01-06 00:00:00', 'Concentration': '22'}\n",
      "===============\n",
      "{'SiteId': '70', 'SiteName': '永和', 'County': '新北市', 'ItemId': '33', 'ItemName': '細懸浮微粒', 'ItemEngName': 'PM2.5', 'ItemUnit': 'μg/m3', 'MonitorDate': '2022-01-06 00:00:00', 'Concentration': '11'}\n",
      "===============\n",
      "{'SiteId': '71', 'SiteName': '復興', 'County': '高雄市', 'ItemId': '33', 'ItemName': '細懸浮微粒', 'ItemEngName': 'PM2.5', 'ItemUnit': 'μg/m3', 'MonitorDate': '2022-01-06 00:00:00', 'Concentration': '30'}\n",
      "===============\n",
      "{'SiteId': '72', 'SiteName': '埔里', 'County': '南投縣', 'ItemId': '33', 'ItemName': '細懸浮微粒', 'ItemEngName': 'PM2.5', 'ItemUnit': 'μg/m3', 'MonitorDate': '2022-01-06 00:00:00', 'Concentration': '20'}\n",
      "===============\n",
      "{'SiteId': '75', 'SiteName': '馬祖', 'County': '連江縣', 'ItemId': '33', 'ItemName': '細懸浮微粒', 'ItemEngName': 'PM2.5', 'ItemUnit': 'μg/m3', 'MonitorDate': '2022-01-06 00:00:00', 'Concentration': '18'}\n",
      "===============\n",
      "{'SiteId': '77', 'SiteName': '金門', 'County': '金門縣', 'ItemId': '33', 'ItemName': '細懸浮微粒', 'ItemEngName': 'PM2.5', 'ItemUnit': 'μg/m3', 'MonitorDate': '2022-01-06 00:00:00', 'Concentration': '29'}\n",
      "===============\n",
      "{'SiteId': '78', 'SiteName': '馬公', 'County': '澎湖縣', 'ItemId': '33', 'ItemName': '細懸浮微粒', 'ItemEngName': 'PM2.5', 'ItemUnit': 'μg/m3', 'MonitorDate': '2022-01-06 00:00:00', 'Concentration': '12'}\n",
      "===============\n",
      "{'SiteId': '80', 'SiteName': '關山', 'County': '臺東縣', 'ItemId': '33', 'ItemName': '細懸浮微粒', 'ItemEngName': 'PM2.5', 'ItemUnit': 'μg/m3', 'MonitorDate': '2022-01-06 00:00:00', 'Concentration': '4'}\n",
      "===============\n",
      "{'SiteId': '83', 'SiteName': '麥寮', 'County': '雲林縣', 'ItemId': '33', 'ItemName': '細懸浮微粒', 'ItemEngName': 'PM2.5', 'ItemUnit': 'μg/m3', 'MonitorDate': '2022-01-06 00:00:00', 'Concentration': '14'}\n",
      "===============\n",
      "{'SiteId': '84', 'SiteName': '富貴角', 'County': '新北市', 'ItemId': '33', 'ItemName': '細懸浮微粒', 'ItemEngName': 'PM2.5', 'ItemUnit': 'μg/m3', 'MonitorDate': '2022-01-06 00:00:00', 'Concentration': '12'}\n",
      "===============\n",
      "{'SiteId': '85', 'SiteName': '大城', 'County': '彰化縣', 'ItemId': '33', 'ItemName': '細懸浮微粒', 'ItemEngName': 'PM2.5', 'ItemUnit': 'μg/m3', 'MonitorDate': '2022-01-06 00:00:00', 'Concentration': '14'}\n",
      "===============\n"
     ]
    }
   ],
   "source": [
    "jsonData = alljson['records']\n",
    "for item in jsonData:\n",
    "    print(item)\n",
    "    print(\"===============\")"
   ]
  },
  {
   "cell_type": "code",
   "execution_count": 3,
   "id": "2b0cd0d0",
   "metadata": {},
   "outputs": [
    {
     "data": {
      "text/plain": [
       "'1.4.29'"
      ]
     },
     "execution_count": 3,
     "metadata": {},
     "output_type": "execute_result"
    }
   ],
   "source": [
    "import sqlalchemy\n",
    "sqlalchemy.__version__"
   ]
  },
  {
   "cell_type": "code",
   "execution_count": 4,
   "id": "7dd6b139",
   "metadata": {},
   "outputs": [],
   "source": [
    "#connect 連線不同資料庫\n",
    "from sqlalchemy import create_engine\n",
    "engine = create_engine('sqlite:///pm25.db',echo=True)"
   ]
  },
  {
   "cell_type": "code",
   "execution_count": 5,
   "id": "50323ce2",
   "metadata": {},
   "outputs": [],
   "source": [
    "#自訂一個類別，這個類別對應到我們的資料庫的資料表\n",
    "from sqlalchemy.orm import declarative_base\n",
    "from sqlalchemy import Column, Integer, String,Float,Date\n",
    "\n",
    "\n",
    "Base = declarative_base()\n",
    "\n",
    "class PM25(Base):\n",
    "    __tablename__ = '每日25'\n",
    "    id = Column(Integer,primary_key=True,autoincrement=True)\n",
    "    siteid = Column(Integer)\n",
    "    sitename = Column(String(10),nullable=False)\n",
    "    county = Column(String(10))\n",
    "    itemname = Column(String(20))\n",
    "    itemengname = Column(String(10))\n",
    "    itemunit = Column(String(10))\n",
    "    monitordate = Column(Date)\n",
    "    concentration = Column(Float)"
   ]
  },
  {
   "cell_type": "code",
   "execution_count": 6,
   "id": "b7f202b7",
   "metadata": {},
   "outputs": [
    {
     "data": {
      "text/plain": [
       "Table('每日25', MetaData(), Column('id', Integer(), table=<每日25>, primary_key=True, nullable=False), Column('siteid', Integer(), table=<每日25>), Column('sitename', String(length=10), table=<每日25>, nullable=False), Column('county', String(length=10), table=<每日25>), Column('itemname', String(length=20), table=<每日25>), Column('itemengname', String(length=10), table=<每日25>), Column('itemunit', String(length=10), table=<每日25>), Column('monitordate', Date(), table=<每日25>), Column('concentration', Float(), table=<每日25>), schema=None)"
      ]
     },
     "execution_count": 6,
     "metadata": {},
     "output_type": "execute_result"
    }
   ],
   "source": [
    "PM25.__table__"
   ]
  },
  {
   "cell_type": "code",
   "execution_count": 7,
   "id": "a9c09dc3",
   "metadata": {},
   "outputs": [
    {
     "name": "stdout",
     "output_type": "stream",
     "text": [
      "2022-01-07 15:36:15,039 INFO sqlalchemy.engine.Engine BEGIN (implicit)\n",
      "2022-01-07 15:36:15,040 INFO sqlalchemy.engine.Engine PRAGMA main.table_info(\"每日25\")\n",
      "2022-01-07 15:36:15,040 INFO sqlalchemy.engine.Engine [raw sql] ()\n",
      "2022-01-07 15:36:15,041 INFO sqlalchemy.engine.Engine PRAGMA temp.table_info(\"每日25\")\n",
      "2022-01-07 15:36:15,042 INFO sqlalchemy.engine.Engine [raw sql] ()\n",
      "2022-01-07 15:36:15,044 INFO sqlalchemy.engine.Engine \n",
      "CREATE TABLE \"每日25\" (\n",
      "\tid INTEGER NOT NULL, \n",
      "\tsiteid INTEGER, \n",
      "\tsitename VARCHAR(10) NOT NULL, \n",
      "\tcounty VARCHAR(10), \n",
      "\titemname VARCHAR(20), \n",
      "\titemengname VARCHAR(10), \n",
      "\titemunit VARCHAR(10), \n",
      "\tmonitordate DATE, \n",
      "\tconcentration FLOAT, \n",
      "\tPRIMARY KEY (id)\n",
      ")\n",
      "\n",
      "\n",
      "2022-01-07 15:36:15,045 INFO sqlalchemy.engine.Engine [no key 0.00073s] ()\n",
      "2022-01-07 15:36:15,046 INFO sqlalchemy.engine.Engine COMMIT\n"
     ]
    }
   ],
   "source": [
    "PM25.metadata.create_all(engine)"
   ]
  },
  {
   "cell_type": "code",
   "execution_count": 8,
   "id": "d40bb91f",
   "metadata": {},
   "outputs": [
    {
     "name": "stdout",
     "output_type": "stream",
     "text": [
      "2022-01-07 15:36:15,081 INFO sqlalchemy.engine.Engine BEGIN (implicit)\n",
      "2022-01-07 15:36:15,084 INFO sqlalchemy.engine.Engine INSERT INTO \"每日25\" (siteid, sitename, county, itemname, itemengname, itemunit, monitordate, concentration) VALUES (?, ?, ?, ?, ?, ?, ?, ?)\n",
      "2022-01-07 15:36:15,085 INFO sqlalchemy.engine.Engine [generated in 0.00105s] (3, '汐止', '新北市', '細懸浮微粒', 'PM2.5', 'μg/m3', '2017-03-25', 8.0)\n",
      "2022-01-07 15:36:15,087 INFO sqlalchemy.engine.Engine COMMIT\n"
     ]
    }
   ],
   "source": [
    "from sqlalchemy.orm import sessionmaker\n",
    "from datetime import date\n",
    "Session = sessionmaker(bind=engine)\n",
    "session = Session()\n",
    "'''\n",
    "pm25_1 = PM25(siteid=3,\n",
    "              sitename='汐止',\n",
    "              county='新北市',\n",
    "              itemname='細懸浮微粒',\n",
    "              itemengname='PM2.5',\n",
    "              itemunit='μg/m3',\n",
    "              monitordate=date(2017,3,25),\n",
    "              concentration=8\n",
    "             )\n",
    "session.add(pm25_1)\n",
    "session.commit()\n",
    "'''"
   ]
  },
  {
   "cell_type": "code",
   "execution_count": 13,
   "id": "dbe5f4ce",
   "metadata": {},
   "outputs": [],
   "source": [
    "from datetime import datetime\n",
    "\n",
    "for item in jsonData:\n",
    "    dateString=item['MonitorDate']\n",
    "    datetime1=datetime.strptime(dateString,'%Y-%m-%d %H:%M:%S')\n",
    "    \n",
    "    pm25 = PM25(siteid=int(item['SiteId']),\n",
    "              sitename=item['SiteName'],\n",
    "              county= item['County'],\n",
    "              itemname=item['ItemName'],\n",
    "              itemengname=item['ItemEngName'],\n",
    "              itemunit=item['ItemEngName'],\n",
    "              monitordate=datetime1.date(),\n",
    "              concentration=int(item['Concentration'])\n",
    "             )\n",
    "    session.add(pm25)\n",
    "session.commit()"
   ]
  }
 ],
 "metadata": {
  "kernelspec": {
   "display_name": "Python 3 (ipykernel)",
   "language": "python",
   "name": "python3"
  },
  "language_info": {
   "codemirror_mode": {
    "name": "ipython",
    "version": 3
   },
   "file_extension": ".py",
   "mimetype": "text/x-python",
   "name": "python",
   "nbconvert_exporter": "python",
   "pygments_lexer": "ipython3",
   "version": "3.9.9"
  }
 },
 "nbformat": 4,
 "nbformat_minor": 5
}
