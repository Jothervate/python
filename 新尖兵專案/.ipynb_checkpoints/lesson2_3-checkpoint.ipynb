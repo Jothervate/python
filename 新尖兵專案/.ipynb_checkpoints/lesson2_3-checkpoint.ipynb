{
 "cells": [
  {
   "cell_type": "code",
   "execution_count": 2,
   "id": "edbf1da9",
   "metadata": {},
   "outputs": [
    {
     "data": {
      "text/plain": [
       "list"
      ]
     },
     "execution_count": 2,
     "metadata": {},
     "output_type": "execute_result"
    }
   ],
   "source": [
    "empty_list = []\n",
    "empty_list\n",
    "empty_list.__class__"
   ]
  },
  {
   "cell_type": "code",
   "execution_count": 4,
   "id": "9d44aae4",
   "metadata": {},
   "outputs": [
    {
     "data": {
      "text/plain": [
       "['星期一', '星期二', '星期三', '星期四', '星期五', '星期六', '星期日']"
      ]
     },
     "execution_count": 4,
     "metadata": {},
     "output_type": "execute_result"
    }
   ],
   "source": [
    "weekdays = ['星期一', '星期二', '星期三', '星期四', '星期五', '星期六', '星期日']\n",
    "weekdays"
   ]
  },
  {
   "cell_type": "code",
   "execution_count": 5,
   "id": "434bfae8",
   "metadata": {},
   "outputs": [
    {
     "name": "stdout",
     "output_type": "stream",
     "text": [
      "星期一\n",
      "星期二\n",
      "星期三\n",
      "星期四\n",
      "星期五\n",
      "星期六\n",
      "星期日\n"
     ]
    }
   ],
   "source": [
    "for week in weekdays:\n",
    "    print(week)"
   ]
  },
  {
   "cell_type": "code",
   "execution_count": 6,
   "id": "3b4d8f3a",
   "metadata": {},
   "outputs": [
    {
     "data": {
      "text/plain": [
       "[]"
      ]
     },
     "execution_count": 6,
     "metadata": {},
     "output_type": "execute_result"
    }
   ],
   "source": [
    "another_empty = list()\n",
    "another_empty"
   ]
  },
  {
   "cell_type": "code",
   "execution_count": 7,
   "id": "ce743249",
   "metadata": {},
   "outputs": [
    {
     "data": {
      "text/plain": [
       "['c', 'a', 't']"
      ]
     },
     "execution_count": 7,
     "metadata": {},
     "output_type": "execute_result"
    }
   ],
   "source": [
    "#使用list()建立list\n",
    "list('cat')"
   ]
  },
  {
   "cell_type": "code",
   "execution_count": 9,
   "id": "566bcc56",
   "metadata": {},
   "outputs": [
    {
     "data": {
      "text/plain": [
       "[1, 2, 3, 4, 5, 6, 7, 8, 9]"
      ]
     },
     "execution_count": 9,
     "metadata": {},
     "output_type": "execute_result"
    }
   ],
   "source": [
    "list(range(1,10))"
   ]
  },
  {
   "cell_type": "code",
   "execution_count": 10,
   "id": "b4e1dea0",
   "metadata": {},
   "outputs": [
    {
     "data": {
      "text/plain": [
       "['ready', 'fire', 'aim']"
      ]
     },
     "execution_count": 10,
     "metadata": {},
     "output_type": "execute_result"
    }
   ],
   "source": [
    "list(('ready', 'fire', 'aim'))"
   ]
  },
  {
   "cell_type": "code",
   "execution_count": 12,
   "id": "1cb04154",
   "metadata": {},
   "outputs": [
    {
     "data": {
      "text/plain": [
       "'台北'"
      ]
     },
     "execution_count": 12,
     "metadata": {},
     "output_type": "execute_result"
    }
   ],
   "source": [
    "citys = ['台北', '台中', '高雄']\n",
    "citys[0]\n",
    "citys[-3]"
   ]
  },
  {
   "cell_type": "code",
   "execution_count": 13,
   "id": "38008623",
   "metadata": {},
   "outputs": [
    {
     "ename": "IndexError",
     "evalue": "list index out of range",
     "output_type": "error",
     "traceback": [
      "\u001b[0;31m---------------------------------------------------------------------------\u001b[0m",
      "\u001b[0;31mIndexError\u001b[0m                                Traceback (most recent call last)",
      "\u001b[0;32m/var/folders/by/68nnsq553f59kbs1v470m4k40000gp/T/ipykernel_1650/667851545.py\u001b[0m in \u001b[0;36m<module>\u001b[0;34m\u001b[0m\n\u001b[0;32m----> 1\u001b[0;31m \u001b[0mcitys\u001b[0m\u001b[0;34m[\u001b[0m\u001b[0;36m3\u001b[0m\u001b[0;34m]\u001b[0m\u001b[0;34m\u001b[0m\u001b[0;34m\u001b[0m\u001b[0m\n\u001b[0m",
      "\u001b[0;31mIndexError\u001b[0m: list index out of range"
     ]
    }
   ],
   "source": [
    "citys[3]"
   ]
  },
  {
   "cell_type": "code",
   "execution_count": 14,
   "id": "73e1317a",
   "metadata": {},
   "outputs": [
    {
     "data": {
      "text/plain": [
       "['H', 'e', 'l', 'l', 'o', 'W', 'o', 'r', 'l', 'd']"
      ]
     },
     "execution_count": 14,
     "metadata": {},
     "output_type": "execute_result"
    }
   ],
   "source": [
    "list1=['H','e','l','l','o', 'W','o','r','l','d']\n",
    "list1"
   ]
  },
  {
   "cell_type": "code",
   "execution_count": 19,
   "id": "0a6ac558",
   "metadata": {},
   "outputs": [
    {
     "data": {
      "text/plain": [
       "['e', 'l']"
      ]
     },
     "execution_count": 19,
     "metadata": {},
     "output_type": "execute_result"
    }
   ],
   "source": [
    "#list slice\n",
    "list1[1:3]"
   ]
  },
  {
   "cell_type": "code",
   "execution_count": 20,
   "id": "feaa39a5",
   "metadata": {},
   "outputs": [
    {
     "data": {
      "text/plain": [
       "['H', 'e', 'l', 'l', 'o']"
      ]
     },
     "execution_count": 20,
     "metadata": {},
     "output_type": "execute_result"
    }
   ],
   "source": [
    "list1[:5]"
   ]
  },
  {
   "cell_type": "code",
   "execution_count": 21,
   "id": "ef66e07d",
   "metadata": {},
   "outputs": [
    {
     "data": {
      "text/plain": [
       "['W', 'o', 'r', 'l', 'd']"
      ]
     },
     "execution_count": 21,
     "metadata": {},
     "output_type": "execute_result"
    }
   ],
   "source": [
    "list1[-5:]"
   ]
  },
  {
   "cell_type": "code",
   "execution_count": null,
   "id": "1a973222",
   "metadata": {},
   "outputs": [],
   "source": []
  }
 ],
 "metadata": {
  "kernelspec": {
   "display_name": "Python 3 (ipykernel)",
   "language": "python",
   "name": "python3"
  },
  "language_info": {
   "codemirror_mode": {
    "name": "ipython",
    "version": 3
   },
   "file_extension": ".py",
   "mimetype": "text/x-python",
   "name": "python",
   "nbconvert_exporter": "python",
   "pygments_lexer": "ipython3",
   "version": "3.9.9"
  }
 },
 "nbformat": 4,
 "nbformat_minor": 5
}
