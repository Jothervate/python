{
 "cells": [
  {
   "cell_type": "code",
   "execution_count": 1,
   "id": "b919544f",
   "metadata": {},
   "outputs": [
    {
     "name": "stdout",
     "output_type": "stream",
     "text": [
      "執行1次\n",
      "執行2次\n",
      "執行3次\n",
      "執行4次\n",
      "執行5次\n",
      "執行6次\n",
      "執行7次\n"
     ]
    }
   ],
   "source": [
    "w = 1\n",
    "while(w<=7):\n",
    "    print(f\"執行{w}次\")\n",
    "    w += 1"
   ]
  },
  {
   "cell_type": "code",
   "execution_count": null,
   "id": "ec147b51",
   "metadata": {},
   "outputs": [],
   "source": []
  }
 ],
 "metadata": {
  "kernelspec": {
   "display_name": "Python 3 (ipykernel)",
   "language": "python",
   "name": "python3"
  },
  "language_info": {
   "codemirror_mode": {
    "name": "ipython",
    "version": 3
   },
   "file_extension": ".py",
   "mimetype": "text/x-python",
   "name": "python",
   "nbconvert_exporter": "python",
   "pygments_lexer": "ipython3",
   "version": "3.9.9"
  }
 },
 "nbformat": 4,
 "nbformat_minor": 5
}
