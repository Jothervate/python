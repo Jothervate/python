{
 "cells": [
  {
   "cell_type": "code",
   "execution_count": 1,
   "id": "481f3341",
   "metadata": {},
   "outputs": [
    {
     "data": {
      "text/plain": [
       "26"
      ]
     },
     "execution_count": 1,
     "metadata": {},
     "output_type": "execute_result"
    }
   ],
   "source": [
    "letters = 'abcdefghijklmnopqrstuvwxyz'\n",
    "len(letters)"
   ]
  },
  {
   "cell_type": "code",
   "execution_count": 2,
   "id": "7cecd96e",
   "metadata": {},
   "outputs": [
    {
     "data": {
      "text/plain": [
       "''"
      ]
     },
     "execution_count": 2,
     "metadata": {},
     "output_type": "execute_result"
    }
   ],
   "source": [
    "empty = \"\"\n",
    "empty"
   ]
  },
  {
   "cell_type": "code",
   "execution_count": 5,
   "id": "7248cd81",
   "metadata": {},
   "outputs": [
    {
     "data": {
      "text/plain": [
       "4545735216"
      ]
     },
     "execution_count": 5,
     "metadata": {},
     "output_type": "execute_result"
    }
   ],
   "source": [
    "allLetters = letters\n",
    "id(allLetters)"
   ]
  },
  {
   "cell_type": "code",
   "execution_count": 6,
   "id": "6a1cb49d",
   "metadata": {},
   "outputs": [
    {
     "data": {
      "text/plain": [
       "4545735216"
      ]
     },
     "execution_count": 6,
     "metadata": {},
     "output_type": "execute_result"
    }
   ],
   "source": [
    "id(letters)"
   ]
  },
  {
   "cell_type": "code",
   "execution_count": 9,
   "id": "c3c6bca0",
   "metadata": {},
   "outputs": [
    {
     "data": {
      "text/plain": [
       "'vwxyz'"
      ]
     },
     "execution_count": 9,
     "metadata": {},
     "output_type": "execute_result"
    }
   ],
   "source": [
    "#letters[-1:] = '@' #字串只可以取得值\n",
    "letters[-5:] #取出最後5字"
   ]
  },
  {
   "cell_type": "code",
   "execution_count": 10,
   "id": "a3c3c5fb",
   "metadata": {},
   "outputs": [
    {
     "data": {
      "text/plain": [
       "'abcde'"
      ]
     },
     "execution_count": 10,
     "metadata": {},
     "output_type": "execute_result"
    }
   ],
   "source": [
    "letters[:5] #取出前5字"
   ]
  },
  {
   "cell_type": "code",
   "execution_count": 12,
   "id": "a657dd9b",
   "metadata": {},
   "outputs": [
    {
     "data": {
      "text/plain": [
       "'abcdefghijklmnopqrstuvwxy@'"
      ]
     },
     "execution_count": 12,
     "metadata": {},
     "output_type": "execute_result"
    }
   ],
   "source": [
    "#.replace()\n",
    "letters=letters.replace('z','@')\n",
    "letters"
   ]
  },
  {
   "cell_type": "code",
   "execution_count": 13,
   "id": "c405e7db",
   "metadata": {},
   "outputs": [
    {
     "name": "stdout",
     "output_type": "stream",
     "text": [
      "4536969648\n",
      "4536969680\n"
     ]
    }
   ],
   "source": [
    "a = 5\n",
    "print(id(a))\n",
    "a = 6\n",
    "print(id(a))"
   ]
  },
  {
   "cell_type": "code",
   "execution_count": null,
   "id": "c3fc07bf",
   "metadata": {},
   "outputs": [],
   "source": []
  }
 ],
 "metadata": {
  "kernelspec": {
   "display_name": "Python 3 (ipykernel)",
   "language": "python",
   "name": "python3"
  },
  "language_info": {
   "codemirror_mode": {
    "name": "ipython",
    "version": 3
   },
   "file_extension": ".py",
   "mimetype": "text/x-python",
   "name": "python",
   "nbconvert_exporter": "python",
   "pygments_lexer": "ipython3",
   "version": "3.9.9"
  }
 },
 "nbformat": 4,
 "nbformat_minor": 5
}
