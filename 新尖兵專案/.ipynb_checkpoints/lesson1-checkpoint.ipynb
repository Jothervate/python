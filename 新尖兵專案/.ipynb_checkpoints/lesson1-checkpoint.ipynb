{
 "cells": [
  {
   "cell_type": "code",
   "execution_count": 2,
   "id": "f330c8bc",
   "metadata": {},
   "outputs": [
    {
     "name": "stdout",
     "output_type": "stream",
     "text": [
      "第1個儲存格\n",
      "Hello! World!\n"
     ]
    }
   ],
   "source": [
    "print(\"第1個儲存格\")\n",
    "print(\"Hello! World!\")"
   ]
  },
  {
   "cell_type": "code",
   "execution_count": 3,
   "id": "bdb060fe",
   "metadata": {},
   "outputs": [
    {
     "name": "stdout",
     "output_type": "stream",
     "text": [
      "第2個儲存格\n",
      "Hello! World!\n"
     ]
    }
   ],
   "source": [
    "print(\"第2個儲存格\")\n",
    "print(\"Hello! World!\")"
   ]
  },
  {
   "cell_type": "code",
   "execution_count": 5,
   "id": "ec74a065",
   "metadata": {},
   "outputs": [
    {
     "name": "stdout",
     "output_type": "stream",
     "text": [
      "5000\n"
     ]
    }
   ],
   "source": [
    "a = 100\n",
    "b = 50\n",
    "print(a * b)"
   ]
  },
  {
   "cell_type": "code",
   "execution_count": 6,
   "id": "fd6f8d4e",
   "metadata": {},
   "outputs": [
    {
     "data": {
      "text/plain": [
       "int"
      ]
     },
     "execution_count": 6,
     "metadata": {},
     "output_type": "execute_result"
    }
   ],
   "source": [
    "a = 100\n",
    "a.__class__"
   ]
  },
  {
   "cell_type": "code",
   "execution_count": 7,
   "id": "2b2dca24",
   "metadata": {},
   "outputs": [
    {
     "data": {
      "text/plain": [
       "float"
      ]
     },
     "execution_count": 7,
     "metadata": {},
     "output_type": "execute_result"
    }
   ],
   "source": [
    "a = 100.0001\n",
    "a.__class__"
   ]
  },
  {
   "cell_type": "code",
   "execution_count": 8,
   "id": "c86fdb8f",
   "metadata": {},
   "outputs": [
    {
     "data": {
      "text/plain": [
       "str"
      ]
     },
     "execution_count": 8,
     "metadata": {},
     "output_type": "execute_result"
    }
   ],
   "source": [
    "a = \"1000\"\n",
    "a.__class__"
   ]
  },
  {
   "cell_type": "code",
   "execution_count": 9,
   "id": "31c5a8a5",
   "metadata": {},
   "outputs": [
    {
     "data": {
      "text/plain": [
       "bool"
      ]
     },
     "execution_count": 9,
     "metadata": {},
     "output_type": "execute_result"
    }
   ],
   "source": [
    "a = True\n",
    "a.__class__"
   ]
  },
  {
   "cell_type": "code",
   "execution_count": 10,
   "id": "9b07b9d6",
   "metadata": {},
   "outputs": [
    {
     "name": "stdout",
     "output_type": "stream",
     "text": [
      "3\n",
      "3.12\n",
      "Hello!\n",
      "5\n"
     ]
    }
   ],
   "source": [
    "print(3)\n",
    "print(3.12)\n",
    "print(\"Hello!\")\n",
    "print(3+2)"
   ]
  },
  {
   "cell_type": "code",
   "execution_count": 12,
   "id": "c8afcd28",
   "metadata": {},
   "outputs": [
    {
     "name": "stdout",
     "output_type": "stream",
     "text": [
      "這是我的 5 新的班級 10\n"
     ]
    }
   ],
   "source": [
    "print(\"這是我的\", 5, \"新的班級\", 10)"
   ]
  },
  {
   "cell_type": "code",
   "execution_count": 13,
   "id": "8341e26e",
   "metadata": {},
   "outputs": [],
   "source": [
    "#python的註解"
   ]
  },
  {
   "cell_type": "code",
   "execution_count": 14,
   "id": "764631e8",
   "metadata": {},
   "outputs": [
    {
     "name": "stdout",
     "output_type": "stream",
     "text": [
      "a=100,b=50\n"
     ]
    }
   ],
   "source": [
    "#字串格式舊的寫法\n",
    "a = 100\n",
    "b = 50\n",
    "print(\"a=%d,b=%d\" % (a, b))"
   ]
  },
  {
   "cell_type": "code",
   "execution_count": 16,
   "id": "cb8d9268",
   "metadata": {},
   "outputs": [
    {
     "name": "stdout",
     "output_type": "stream",
     "text": [
      "我c的內容是345.12\n"
     ]
    }
   ],
   "source": [
    "c = 345.12345\n",
    "print(\"我c的內容是%.2f\" % c)"
   ]
  },
  {
   "cell_type": "code",
   "execution_count": 17,
   "id": "cf17e047",
   "metadata": {},
   "outputs": [
    {
     "name": "stdout",
     "output_type": "stream",
     "text": [
      "a=100,b=50\n"
     ]
    }
   ],
   "source": [
    "#字串格式新的寫法\n",
    "a = 100\n",
    "b = 50\n",
    "print(\"a={:d},b={:d}\".format(a,b))"
   ]
  },
  {
   "cell_type": "code",
   "execution_count": 18,
   "id": "2c3eb4b4",
   "metadata": {},
   "outputs": [
    {
     "name": "stdout",
     "output_type": "stream",
     "text": [
      "我c的內容是345.12\n"
     ]
    }
   ],
   "source": [
    "c = 345.12345\n",
    "print(\"我c的內容是{:.2f}\".format(c))"
   ]
  },
  {
   "cell_type": "code",
   "execution_count": 19,
   "id": "800d0411",
   "metadata": {},
   "outputs": [
    {
     "name": "stdout",
     "output_type": "stream",
     "text": [
      "a=100,b=50\n"
     ]
    }
   ],
   "source": [
    "#字串插補的寫法\n",
    "a = 100\n",
    "b = 50\n",
    "print(f\"a={a},b={b}\")"
   ]
  },
  {
   "cell_type": "code",
   "execution_count": 20,
   "id": "f856b4f7",
   "metadata": {},
   "outputs": [
    {
     "name": "stdout",
     "output_type": "stream",
     "text": [
      "我c的內容是345.12345\n"
     ]
    }
   ],
   "source": [
    "c = 345.12345\n",
    "print(f\"我c的內容是{c}\")"
   ]
  },
  {
   "cell_type": "code",
   "execution_count": null,
   "id": "3ded8d46",
   "metadata": {},
   "outputs": [],
   "source": []
  }
 ],
 "metadata": {
  "kernelspec": {
   "display_name": "Python 3 (ipykernel)",
   "language": "python",
   "name": "python3"
  },
  "language_info": {
   "codemirror_mode": {
    "name": "ipython",
    "version": 3
   },
   "file_extension": ".py",
   "mimetype": "text/x-python",
   "name": "python",
   "nbconvert_exporter": "python",
   "pygments_lexer": "ipython3",
   "version": "3.9.9"
  }
 },
 "nbformat": 4,
 "nbformat_minor": 5
}
