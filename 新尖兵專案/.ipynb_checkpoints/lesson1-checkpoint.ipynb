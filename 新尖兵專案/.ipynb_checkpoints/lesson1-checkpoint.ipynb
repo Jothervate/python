{
 "cells": [
  {
   "cell_type": "code",
   "execution_count": 2,
   "id": "27e5f318",
   "metadata": {},
   "outputs": [
    {
     "name": "stdout",
     "output_type": "stream",
     "text": [
      "第1個儲存格\n",
      "Hello! World!\n"
     ]
    }
   ],
   "source": [
    "print(\"第1個儲存格\")\n",
    "print(\"Hello! World!\")"
   ]
  },
  {
   "cell_type": "code",
   "execution_count": 3,
   "id": "c5b70d86",
   "metadata": {},
   "outputs": [
    {
     "name": "stdout",
     "output_type": "stream",
     "text": [
      "第2個儲存格\n",
      "Hello! World!\n"
     ]
    }
   ],
   "source": [
    "print(\"第2個儲存格\")\n",
    "print(\"Hello! World!\")"
   ]
  },
  {
   "cell_type": "code",
   "execution_count": 5,
   "id": "a2f8fa72",
   "metadata": {},
   "outputs": [
    {
     "name": "stdout",
     "output_type": "stream",
     "text": [
      "5000\n"
     ]
    }
   ],
   "source": [
    "a = 100\n",
    "b = 50\n",
    "print(a * b)"
   ]
  },
  {
   "cell_type": "code",
   "execution_count": 6,
   "id": "916e4965",
   "metadata": {},
   "outputs": [
    {
     "data": {
      "text/plain": [
       "int"
      ]
     },
     "execution_count": 6,
     "metadata": {},
     "output_type": "execute_result"
    }
   ],
   "source": [
    "a = 100\n",
    "a.__class__"
   ]
  },
  {
   "cell_type": "code",
   "execution_count": 7,
   "id": "28ff4b7c",
   "metadata": {},
   "outputs": [
    {
     "data": {
      "text/plain": [
       "float"
      ]
     },
     "execution_count": 7,
     "metadata": {},
     "output_type": "execute_result"
    }
   ],
   "source": [
    "a = 100.0001\n",
    "a.__class__"
   ]
  },
  {
   "cell_type": "code",
   "execution_count": 8,
   "id": "d11aa935",
   "metadata": {},
   "outputs": [
    {
     "data": {
      "text/plain": [
       "str"
      ]
     },
     "execution_count": 8,
     "metadata": {},
     "output_type": "execute_result"
    }
   ],
   "source": [
    "a = \"1000\"\n",
    "a.__class__"
   ]
  },
  {
   "cell_type": "code",
   "execution_count": 9,
   "id": "f6c3d5ae",
   "metadata": {},
   "outputs": [
    {
     "data": {
      "text/plain": [
       "bool"
      ]
     },
     "execution_count": 9,
     "metadata": {},
     "output_type": "execute_result"
    }
   ],
   "source": [
    "a = True\n",
    "a.__class__"
   ]
  },
  {
   "cell_type": "code",
   "execution_count": 10,
   "id": "d75ae055",
   "metadata": {},
   "outputs": [
    {
     "name": "stdout",
     "output_type": "stream",
     "text": [
      "3\n",
      "3.12\n",
      "Hello!\n",
      "5\n"
     ]
    }
   ],
   "source": [
    "print(3)\n",
    "print(3.12)\n",
    "print(\"Hello!\")\n",
    "print(3+2)"
   ]
  },
  {
   "cell_type": "code",
   "execution_count": 12,
   "id": "a3272f48",
   "metadata": {},
   "outputs": [
    {
     "name": "stdout",
     "output_type": "stream",
     "text": [
      "這是我的 5 新的班級 10\n"
     ]
    }
   ],
   "source": [
    "print(\"這是我的\", 5, \"新的班級\", 10)"
   ]
  },
  {
   "cell_type": "code",
   "execution_count": 13,
   "id": "27e4a4c9",
   "metadata": {},
   "outputs": [],
   "source": [
    "#python的註解"
   ]
  },
  {
   "cell_type": "code",
   "execution_count": 14,
   "id": "7ae99cc8",
   "metadata": {},
   "outputs": [
    {
     "name": "stdout",
     "output_type": "stream",
     "text": [
      "a=100,b=50\n"
     ]
    }
   ],
   "source": [
    "#字串格式舊的寫法\n",
    "a = 100\n",
    "b = 50\n",
    "print(\"a=%d,b=%d\" % (a, b))"
   ]
  },
  {
   "cell_type": "code",
   "execution_count": 16,
   "id": "53872fb8",
   "metadata": {},
   "outputs": [
    {
     "name": "stdout",
     "output_type": "stream",
     "text": [
      "我c的內容是345.12\n"
     ]
    }
   ],
   "source": [
    "c = 345.12345\n",
    "print(\"我c的內容是%.2f\" % c)"
   ]
  },
  {
   "cell_type": "code",
   "execution_count": 17,
   "id": "3c2201df",
   "metadata": {},
   "outputs": [
    {
     "name": "stdout",
     "output_type": "stream",
     "text": [
      "a=100,b=50\n"
     ]
    }
   ],
   "source": [
    "#字串格式新的寫法\n",
    "a = 100\n",
    "b = 50\n",
    "print(\"a={:d},b={:d}\".format(a,b))"
   ]
  },
  {
   "cell_type": "code",
   "execution_count": 18,
   "id": "2f4c8bab",
   "metadata": {},
   "outputs": [
    {
     "name": "stdout",
     "output_type": "stream",
     "text": [
      "我c的內容是345.12\n"
     ]
    }
   ],
   "source": [
    "c = 345.12345\n",
    "print(\"我c的內容是{:.2f}\".format(c))"
   ]
  },
  {
   "cell_type": "code",
   "execution_count": null,
   "id": "74a8c5b1",
   "metadata": {},
   "outputs": [],
   "source": []
  }
 ],
 "metadata": {
  "kernelspec": {
   "display_name": "Python 3 (ipykernel)",
   "language": "python",
   "name": "python3"
  },
  "language_info": {
   "codemirror_mode": {
    "name": "ipython",
    "version": 3
   },
   "file_extension": ".py",
   "mimetype": "text/x-python",
   "name": "python",
   "nbconvert_exporter": "python",
   "pygments_lexer": "ipython3",
   "version": "3.9.9"
  }
 },
 "nbformat": 4,
 "nbformat_minor": 5
}
