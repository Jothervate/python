{
 "cells": [
  {
   "cell_type": "code",
   "execution_count": 3,
   "id": "106a0730",
   "metadata": {},
   "outputs": [
    {
     "name": "stdout",
     "output_type": "stream",
     "text": [
      "執行程式出問題\n"
     ]
    }
   ],
   "source": [
    "try:\n",
    "    short_list = [1,2,3]\n",
    "    position = 5\n",
    "    short_list[position]\n",
    "except:\n",
    "    print('執行程式出問題')"
   ]
  },
  {
   "cell_type": "code",
   "execution_count": 5,
   "id": "eabdcfc5",
   "metadata": {},
   "outputs": [
    {
     "name": "stdout",
     "output_type": "stream",
     "text": [
      "超出索引範圍\n"
     ]
    }
   ],
   "source": [
    "try:\n",
    "    short_list = [1,2,3]\n",
    "    position = 5\n",
    "    short_list[position]\n",
    "except IndexError:\n",
    "    print('超出索引範圍')\n",
    "except:\n",
    "    print('不知的錯誤')"
   ]
  },
  {
   "cell_type": "code",
   "execution_count": 7,
   "id": "bc4a6e11",
   "metadata": {},
   "outputs": [
    {
     "name": "stdout",
     "output_type": "stream",
     "text": [
      "錯誤是:list index out of range\n"
     ]
    }
   ],
   "source": [
    "try:\n",
    "    short_list = [1,2,3]\n",
    "    position = 5\n",
    "    short_list[position]\n",
    "except IndexError as e:\n",
    "    print(f'錯誤是:{e}')\n",
    "except:\n",
    "    print('不知的錯誤')"
   ]
  },
  {
   "cell_type": "code",
   "execution_count": 9,
   "id": "c978b35d",
   "metadata": {},
   "outputs": [
    {
     "data": {
      "text/plain": [
       "{'wine': '紅酒', 'entree': '雞排', 'dessert': '奶昔'}"
      ]
     },
     "execution_count": 9,
     "metadata": {},
     "output_type": "execute_result"
    }
   ],
   "source": [
    "#function的參數有default value\n",
    "#呼叫的方式變多了\n",
    "\n",
    "def menu(wine, entree, dessert='奶昔'):\n",
    "    return {'wine':wine, 'entree':entree, 'dessert':dessert}\n",
    "\n",
    "menu('紅酒','雞排')"
   ]
  },
  {
   "cell_type": "code",
   "execution_count": 10,
   "id": "3d8af638",
   "metadata": {},
   "outputs": [
    {
     "data": {
      "text/plain": [
       "{'wine': '紅酒', 'entree': '雞排', 'dessert': '蛋糕'}"
      ]
     },
     "execution_count": 10,
     "metadata": {},
     "output_type": "execute_result"
    }
   ],
   "source": [
    "menu('紅酒','雞排',dessert='蛋糕')"
   ]
  },
  {
   "cell_type": "code",
   "execution_count": 15,
   "id": "a7886eb3",
   "metadata": {},
   "outputs": [
    {
     "name": "stdout",
     "output_type": "stream",
     "text": [
      "<class 'tuple'>\n",
      "args是tuple (3, 2, 1, 'wait!', 'un...')\n"
     ]
    }
   ],
   "source": [
    "#在定義function,參數使用*args\n",
    "#代表沒有限定數量是引數值\n",
    "\n",
    "def print_args(*args):\n",
    "    print(args.__class__)\n",
    "    print('args是tuple',args)\n",
    "\n",
    "print_args(3, 2, 1, 'wait!', 'un...')"
   ]
  },
  {
   "cell_type": "code",
   "execution_count": 16,
   "id": "df8e97a1",
   "metadata": {},
   "outputs": [
    {
     "name": "stdout",
     "output_type": "stream",
     "text": [
      "傳進來的dictionary是 {'wine': 'melot', 'entree': 'mutton', 'dessert': 'macaroon'}\n"
     ]
    }
   ],
   "source": [
    "def print_kwargs(**kwargs):\n",
    "    print('傳進來的dictionary是',kwargs)\n",
    "\n",
    "print_kwargs(wine='melot', entree='mutton', dessert='macaroon')"
   ]
  },
  {
   "cell_type": "code",
   "execution_count": 17,
   "id": "224fca5d",
   "metadata": {},
   "outputs": [
    {
     "name": "stdout",
     "output_type": "stream",
     "text": [
      "args是tuple (3, 2, 1, 'wait!', 'un...')\n",
      "傳進來的dictionary是 {'wine': 'melot', 'entree': 'mutton', 'dessert': 'macaroon'}\n"
     ]
    }
   ],
   "source": [
    "def print_args_kwargs(*args, **kwargs):\n",
    "    print('args是tuple',args)\n",
    "    print('傳進來的dictionary是',kwargs)\n",
    "    \n",
    "print_args_kwargs(3, 2, 1, 'wait!', 'un...',wine='melot', entree='mutton', dessert='macaroon')\n"
   ]
  },
  {
   "cell_type": "code",
   "execution_count": null,
   "id": "26e87430",
   "metadata": {},
   "outputs": [],
   "source": []
  }
 ],
 "metadata": {
  "kernelspec": {
   "display_name": "Python 3 (ipykernel)",
   "language": "python",
   "name": "python3"
  },
  "language_info": {
   "codemirror_mode": {
    "name": "ipython",
    "version": 3
   },
   "file_extension": ".py",
   "mimetype": "text/x-python",
   "name": "python",
   "nbconvert_exporter": "python",
   "pygments_lexer": "ipython3",
   "version": "3.9.9"
  }
 },
 "nbformat": 4,
 "nbformat_minor": 5
}
