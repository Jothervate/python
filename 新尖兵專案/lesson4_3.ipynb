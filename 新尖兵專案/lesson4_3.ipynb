{
 "cells": [
  {
   "cell_type": "code",
   "execution_count": 1,
   "id": "357e8d09",
   "metadata": {},
   "outputs": [
    {
     "name": "stdout",
     "output_type": "stream",
     "text": [
      "下載成功\n"
     ]
    }
   ],
   "source": [
    "import requests\n",
    "\n",
    "url = 'https://data.epa.gov.tw/api/v1/aqx_p_322?offset=1&limit=1000&api_key=84a024b0-1d85-460c-b330-d96b9ea12cb9'\n",
    "response=requests.get(url)\n",
    "if response.status_code == 200:\n",
    "    print(\"下載成功\")\n",
    "    alljson = response.json()"
   ]
  },
  {
   "cell_type": "code",
   "execution_count": 2,
   "id": "6cb9715c",
   "metadata": {},
   "outputs": [
    {
     "name": "stdout",
     "output_type": "stream",
     "text": [
      "{'SiteId': '2', 'SiteName': '汐止', 'County': '新北市', 'ItemId': '33', 'ItemName': '細懸浮微粒', 'ItemEngName': 'PM2.5', 'ItemUnit': 'μg/m3', 'MonitorDate': '2022-01-06 00:00:00', 'Concentration': '8'}\n",
      "===============\n",
      "{'SiteId': '3', 'SiteName': '萬里', 'County': '新北市', 'ItemId': '33', 'ItemName': '細懸浮微粒', 'ItemEngName': 'PM2.5', 'ItemUnit': 'μg/m3', 'MonitorDate': '2022-01-06 00:00:00', 'Concentration': '13'}\n",
      "===============\n",
      "{'SiteId': '4', 'SiteName': '新店', 'County': '新北市', 'ItemId': '33', 'ItemName': '細懸浮微粒', 'ItemEngName': 'PM2.5', 'ItemUnit': 'μg/m3', 'MonitorDate': '2022-01-06 00:00:00', 'Concentration': '10'}\n",
      "===============\n",
      "{'SiteId': '5', 'SiteName': '土城', 'County': '新北市', 'ItemId': '33', 'ItemName': '細懸浮微粒', 'ItemEngName': 'PM2.5', 'ItemUnit': 'μg/m3', 'MonitorDate': '2022-01-06 00:00:00', 'Concentration': '12'}\n",
      "===============\n",
      "{'SiteId': '6', 'SiteName': '板橋', 'County': '新北市', 'ItemId': '33', 'ItemName': '細懸浮微粒', 'ItemEngName': 'PM2.5', 'ItemUnit': 'μg/m3', 'MonitorDate': '2022-01-06 00:00:00', 'Concentration': '10'}\n",
      "===============\n",
      "{'SiteId': '7', 'SiteName': '新莊', 'County': '新北市', 'ItemId': '33', 'ItemName': '細懸浮微粒', 'ItemEngName': 'PM2.5', 'ItemUnit': 'μg/m3', 'MonitorDate': '2022-01-06 00:00:00', 'Concentration': '10'}\n",
      "===============\n",
      "{'SiteId': '8', 'SiteName': '菜寮', 'County': '新北市', 'ItemId': '33', 'ItemName': '細懸浮微粒', 'ItemEngName': 'PM2.5', 'ItemUnit': 'μg/m3', 'MonitorDate': '2022-01-06 00:00:00', 'Concentration': '10'}\n",
      "===============\n",
      "{'SiteId': '9', 'SiteName': '林口', 'County': '新北市', 'ItemId': '33', 'ItemName': '細懸浮微粒', 'ItemEngName': 'PM2.5', 'ItemUnit': 'μg/m3', 'MonitorDate': '2022-01-06 00:00:00', 'Concentration': '9'}\n",
      "===============\n",
      "{'SiteId': '10', 'SiteName': '淡水', 'County': '新北市', 'ItemId': '33', 'ItemName': '細懸浮微粒', 'ItemEngName': 'PM2.5', 'ItemUnit': 'μg/m3', 'MonitorDate': '2022-01-06 00:00:00', 'Concentration': '10'}\n",
      "===============\n",
      "{'SiteId': '11', 'SiteName': '士林', 'County': '臺北市', 'ItemId': '33', 'ItemName': '細懸浮微粒', 'ItemEngName': 'PM2.5', 'ItemUnit': 'μg/m3', 'MonitorDate': '2022-01-06 00:00:00', 'Concentration': '8'}\n",
      "===============\n",
      "{'SiteId': '12', 'SiteName': '中山', 'County': '臺北市', 'ItemId': '33', 'ItemName': '細懸浮微粒', 'ItemEngName': 'PM2.5', 'ItemUnit': 'μg/m3', 'MonitorDate': '2022-01-06 00:00:00', 'Concentration': '9'}\n",
      "===============\n",
      "{'SiteId': '13', 'SiteName': '萬華', 'County': '臺北市', 'ItemId': '33', 'ItemName': '細懸浮微粒', 'ItemEngName': 'PM2.5', 'ItemUnit': 'μg/m3', 'MonitorDate': '2022-01-06 00:00:00', 'Concentration': '10'}\n",
      "===============\n",
      "{'SiteId': '14', 'SiteName': '古亭', 'County': '臺北市', 'ItemId': '33', 'ItemName': '細懸浮微粒', 'ItemEngName': 'PM2.5', 'ItemUnit': 'μg/m3', 'MonitorDate': '2022-01-06 00:00:00', 'Concentration': '11'}\n",
      "===============\n",
      "{'SiteId': '15', 'SiteName': '松山', 'County': '臺北市', 'ItemId': '33', 'ItemName': '細懸浮微粒', 'ItemEngName': 'PM2.5', 'ItemUnit': 'μg/m3', 'MonitorDate': '2022-01-06 00:00:00', 'Concentration': '11'}\n",
      "===============\n",
      "{'SiteId': '16', 'SiteName': '大同', 'County': '臺北市', 'ItemId': '33', 'ItemName': '細懸浮微粒', 'ItemEngName': 'PM2.5', 'ItemUnit': 'μg/m3', 'MonitorDate': '2022-01-06 00:00:00', 'Concentration': '13'}\n",
      "===============\n",
      "{'SiteId': '17', 'SiteName': '桃園', 'County': '桃園市', 'ItemId': '33', 'ItemName': '細懸浮微粒', 'ItemEngName': 'PM2.5', 'ItemUnit': 'μg/m3', 'MonitorDate': '2022-01-06 00:00:00', 'Concentration': '12'}\n",
      "===============\n",
      "{'SiteId': '18', 'SiteName': '大園', 'County': '桃園市', 'ItemId': '33', 'ItemName': '細懸浮微粒', 'ItemEngName': 'PM2.5', 'ItemUnit': 'μg/m3', 'MonitorDate': '2022-01-06 00:00:00', 'Concentration': '11'}\n",
      "===============\n",
      "{'SiteId': '19', 'SiteName': '觀音', 'County': '桃園市', 'ItemId': '33', 'ItemName': '細懸浮微粒', 'ItemEngName': 'PM2.5', 'ItemUnit': 'μg/m3', 'MonitorDate': '2022-01-06 00:00:00', 'Concentration': '12'}\n",
      "===============\n",
      "{'SiteId': '20', 'SiteName': '平鎮', 'County': '桃園市', 'ItemId': '33', 'ItemName': '細懸浮微粒', 'ItemEngName': 'PM2.5', 'ItemUnit': 'μg/m3', 'MonitorDate': '2022-01-06 00:00:00', 'Concentration': '13'}\n",
      "===============\n",
      "{'SiteId': '21', 'SiteName': '龍潭', 'County': '桃園市', 'ItemId': '33', 'ItemName': '細懸浮微粒', 'ItemEngName': 'PM2.5', 'ItemUnit': 'μg/m3', 'MonitorDate': '2022-01-06 00:00:00', 'Concentration': '10'}\n",
      "===============\n",
      "{'SiteId': '22', 'SiteName': '湖口', 'County': '新竹縣', 'ItemId': '33', 'ItemName': '細懸浮微粒', 'ItemEngName': 'PM2.5', 'ItemUnit': 'μg/m3', 'MonitorDate': '2022-01-06 00:00:00', 'Concentration': '11'}\n",
      "===============\n",
      "{'SiteId': '23', 'SiteName': '竹東', 'County': '新竹縣', 'ItemId': '33', 'ItemName': '細懸浮微粒', 'ItemEngName': 'PM2.5', 'ItemUnit': 'μg/m3', 'MonitorDate': '2022-01-06 00:00:00', 'Concentration': '9'}\n",
      "===============\n",
      "{'SiteId': '24', 'SiteName': '新竹', 'County': '新竹市', 'ItemId': '33', 'ItemName': '細懸浮微粒', 'ItemEngName': 'PM2.5', 'ItemUnit': 'μg/m3', 'MonitorDate': '2022-01-06 00:00:00', 'Concentration': '13'}\n",
      "===============\n",
      "{'SiteId': '25', 'SiteName': '頭份', 'County': '苗栗縣', 'ItemId': '33', 'ItemName': '細懸浮微粒', 'ItemEngName': 'PM2.5', 'ItemUnit': 'μg/m3', 'MonitorDate': '2022-01-06 00:00:00', 'Concentration': '12'}\n",
      "===============\n",
      "{'SiteId': '26', 'SiteName': '苗栗', 'County': '苗栗縣', 'ItemId': '33', 'ItemName': '細懸浮微粒', 'ItemEngName': 'PM2.5', 'ItemUnit': 'μg/m3', 'MonitorDate': '2022-01-06 00:00:00', 'Concentration': '12'}\n",
      "===============\n",
      "{'SiteId': '27', 'SiteName': '三義', 'County': '苗栗縣', 'ItemId': '33', 'ItemName': '細懸浮微粒', 'ItemEngName': 'PM2.5', 'ItemUnit': 'μg/m3', 'MonitorDate': '2022-01-06 00:00:00', 'Concentration': '8'}\n",
      "===============\n",
      "{'SiteId': '28', 'SiteName': '豐原', 'County': '臺中市', 'ItemId': '33', 'ItemName': '細懸浮微粒', 'ItemEngName': 'PM2.5', 'ItemUnit': 'μg/m3', 'MonitorDate': '2022-01-06 00:00:00', 'Concentration': '8'}\n",
      "===============\n",
      "{'SiteId': '29', 'SiteName': '沙鹿', 'County': '臺中市', 'ItemId': '33', 'ItemName': '細懸浮微粒', 'ItemEngName': 'PM2.5', 'ItemUnit': 'μg/m3', 'MonitorDate': '2022-01-06 00:00:00', 'Concentration': '13'}\n",
      "===============\n",
      "{'SiteId': '30', 'SiteName': '大里', 'County': '臺中市', 'ItemId': '33', 'ItemName': '細懸浮微粒', 'ItemEngName': 'PM2.5', 'ItemUnit': 'μg/m3', 'MonitorDate': '2022-01-06 00:00:00', 'Concentration': '15'}\n",
      "===============\n",
      "{'SiteId': '31', 'SiteName': '忠明', 'County': '臺中市', 'ItemId': '33', 'ItemName': '細懸浮微粒', 'ItemEngName': 'PM2.5', 'ItemUnit': 'μg/m3', 'MonitorDate': '2022-01-06 00:00:00', 'Concentration': '11'}\n",
      "===============\n",
      "{'SiteId': '32', 'SiteName': '西屯', 'County': '臺中市', 'ItemId': '33', 'ItemName': '細懸浮微粒', 'ItemEngName': 'PM2.5', 'ItemUnit': 'μg/m3', 'MonitorDate': '2022-01-06 00:00:00', 'Concentration': '12'}\n",
      "===============\n",
      "{'SiteId': '33', 'SiteName': '彰化', 'County': '彰化縣', 'ItemId': '33', 'ItemName': '細懸浮微粒', 'ItemEngName': 'PM2.5', 'ItemUnit': 'μg/m3', 'MonitorDate': '2022-01-06 00:00:00', 'Concentration': '13'}\n",
      "===============\n",
      "{'SiteId': '34', 'SiteName': '線西', 'County': '彰化縣', 'ItemId': '33', 'ItemName': '細懸浮微粒', 'ItemEngName': 'PM2.5', 'ItemUnit': 'μg/m3', 'MonitorDate': '2022-01-06 00:00:00', 'Concentration': '15'}\n",
      "===============\n",
      "{'SiteId': '35', 'SiteName': '二林', 'County': '彰化縣', 'ItemId': '33', 'ItemName': '細懸浮微粒', 'ItemEngName': 'PM2.5', 'ItemUnit': 'μg/m3', 'MonitorDate': '2022-01-06 00:00:00', 'Concentration': '16'}\n",
      "===============\n",
      "{'SiteId': '36', 'SiteName': '南投', 'County': '南投縣', 'ItemId': '33', 'ItemName': '細懸浮微粒', 'ItemEngName': 'PM2.5', 'ItemUnit': 'μg/m3', 'MonitorDate': '2022-01-06 00:00:00', 'Concentration': '20'}\n",
      "===============\n",
      "{'SiteId': '37', 'SiteName': '斗六', 'County': '雲林縣', 'ItemId': '33', 'ItemName': '細懸浮微粒', 'ItemEngName': 'PM2.5', 'ItemUnit': 'μg/m3', 'MonitorDate': '2022-01-06 00:00:00', 'Concentration': '21'}\n",
      "===============\n",
      "{'SiteId': '38', 'SiteName': '崙背', 'County': '雲林縣', 'ItemId': '33', 'ItemName': '細懸浮微粒', 'ItemEngName': 'PM2.5', 'ItemUnit': 'μg/m3', 'MonitorDate': '2022-01-06 00:00:00', 'Concentration': '15'}\n",
      "===============\n",
      "{'SiteId': '39', 'SiteName': '新港', 'County': '嘉義縣', 'ItemId': '33', 'ItemName': '細懸浮微粒', 'ItemEngName': 'PM2.5', 'ItemUnit': 'μg/m3', 'MonitorDate': '2022-01-06 00:00:00', 'Concentration': '18'}\n",
      "===============\n",
      "{'SiteId': '40', 'SiteName': '朴子', 'County': '嘉義縣', 'ItemId': '33', 'ItemName': '細懸浮微粒', 'ItemEngName': 'PM2.5', 'ItemUnit': 'μg/m3', 'MonitorDate': '2022-01-06 00:00:00', 'Concentration': '17'}\n",
      "===============\n",
      "{'SiteId': '41', 'SiteName': '臺西', 'County': '雲林縣', 'ItemId': '33', 'ItemName': '細懸浮微粒', 'ItemEngName': 'PM2.5', 'ItemUnit': 'μg/m3', 'MonitorDate': '2022-01-06 00:00:00', 'Concentration': '13'}\n",
      "===============\n",
      "{'SiteId': '42', 'SiteName': '嘉義', 'County': '嘉義市', 'ItemId': '33', 'ItemName': '細懸浮微粒', 'ItemEngName': 'PM2.5', 'ItemUnit': 'μg/m3', 'MonitorDate': '2022-01-06 00:00:00', 'Concentration': '23'}\n",
      "===============\n",
      "{'SiteId': '43', 'SiteName': '新營', 'County': '臺南市', 'ItemId': '33', 'ItemName': '細懸浮微粒', 'ItemEngName': 'PM2.5', 'ItemUnit': 'μg/m3', 'MonitorDate': '2022-01-06 00:00:00', 'Concentration': '19'}\n",
      "===============\n",
      "{'SiteId': '44', 'SiteName': '善化', 'County': '臺南市', 'ItemId': '33', 'ItemName': '細懸浮微粒', 'ItemEngName': 'PM2.5', 'ItemUnit': 'μg/m3', 'MonitorDate': '2022-01-06 00:00:00', 'Concentration': '20'}\n",
      "===============\n",
      "{'SiteId': '45', 'SiteName': '安南', 'County': '臺南市', 'ItemId': '33', 'ItemName': '細懸浮微粒', 'ItemEngName': 'PM2.5', 'ItemUnit': 'μg/m3', 'MonitorDate': '2022-01-06 00:00:00', 'Concentration': '18'}\n",
      "===============\n",
      "{'SiteId': '46', 'SiteName': '臺南', 'County': '臺南市', 'ItemId': '33', 'ItemName': '細懸浮微粒', 'ItemEngName': 'PM2.5', 'ItemUnit': 'μg/m3', 'MonitorDate': '2022-01-06 00:00:00', 'Concentration': '20'}\n",
      "===============\n",
      "{'SiteId': '47', 'SiteName': '美濃', 'County': '高雄市', 'ItemId': '33', 'ItemName': '細懸浮微粒', 'ItemEngName': 'PM2.5', 'ItemUnit': 'μg/m3', 'MonitorDate': '2022-01-06 00:00:00', 'Concentration': '25'}\n",
      "===============\n",
      "{'SiteId': '48', 'SiteName': '橋頭', 'County': '高雄市', 'ItemId': '33', 'ItemName': '細懸浮微粒', 'ItemEngName': 'PM2.5', 'ItemUnit': 'μg/m3', 'MonitorDate': '2022-01-06 00:00:00', 'Concentration': '30'}\n",
      "===============\n",
      "{'SiteId': '49', 'SiteName': '仁武', 'County': '高雄市', 'ItemId': '33', 'ItemName': '細懸浮微粒', 'ItemEngName': 'PM2.5', 'ItemUnit': 'μg/m3', 'MonitorDate': '2022-01-06 00:00:00', 'Concentration': '32'}\n",
      "===============\n",
      "{'SiteId': '50', 'SiteName': '鳳山', 'County': '高雄市', 'ItemId': '33', 'ItemName': '細懸浮微粒', 'ItemEngName': 'PM2.5', 'ItemUnit': 'μg/m3', 'MonitorDate': '2022-01-06 00:00:00', 'Concentration': '33'}\n",
      "===============\n",
      "{'SiteId': '51', 'SiteName': '大寮', 'County': '高雄市', 'ItemId': '33', 'ItemName': '細懸浮微粒', 'ItemEngName': 'PM2.5', 'ItemUnit': 'μg/m3', 'MonitorDate': '2022-01-06 00:00:00', 'Concentration': '35'}\n",
      "===============\n",
      "{'SiteId': '52', 'SiteName': '林園', 'County': '高雄市', 'ItemId': '33', 'ItemName': '細懸浮微粒', 'ItemEngName': 'PM2.5', 'ItemUnit': 'μg/m3', 'MonitorDate': '2022-01-06 00:00:00', 'Concentration': '39'}\n",
      "===============\n",
      "{'SiteId': '53', 'SiteName': '楠梓', 'County': '高雄市', 'ItemId': '33', 'ItemName': '細懸浮微粒', 'ItemEngName': 'PM2.5', 'ItemUnit': 'μg/m3', 'MonitorDate': '2022-01-06 00:00:00', 'Concentration': '25'}\n",
      "===============\n",
      "{'SiteId': '54', 'SiteName': '左營', 'County': '高雄市', 'ItemId': '33', 'ItemName': '細懸浮微粒', 'ItemEngName': 'PM2.5', 'ItemUnit': 'μg/m3', 'MonitorDate': '2022-01-06 00:00:00', 'Concentration': '29'}\n",
      "===============\n",
      "{'SiteId': '56', 'SiteName': '前金', 'County': '高雄市', 'ItemId': '33', 'ItemName': '細懸浮微粒', 'ItemEngName': 'PM2.5', 'ItemUnit': 'μg/m3', 'MonitorDate': '2022-01-06 00:00:00', 'Concentration': '29'}\n",
      "===============\n",
      "{'SiteId': '57', 'SiteName': '前鎮', 'County': '高雄市', 'ItemId': '33', 'ItemName': '細懸浮微粒', 'ItemEngName': 'PM2.5', 'ItemUnit': 'μg/m3', 'MonitorDate': '2022-01-06 00:00:00', 'Concentration': '28'}\n",
      "===============\n",
      "{'SiteId': '58', 'SiteName': '小港', 'County': '高雄市', 'ItemId': '33', 'ItemName': '細懸浮微粒', 'ItemEngName': 'PM2.5', 'ItemUnit': 'μg/m3', 'MonitorDate': '2022-01-06 00:00:00', 'Concentration': '30'}\n",
      "===============\n",
      "{'SiteId': '59', 'SiteName': '屏東', 'County': '屏東縣', 'ItemId': '33', 'ItemName': '細懸浮微粒', 'ItemEngName': 'PM2.5', 'ItemUnit': 'μg/m3', 'MonitorDate': '2022-01-06 00:00:00', 'Concentration': '39'}\n",
      "===============\n",
      "{'SiteId': '60', 'SiteName': '潮州', 'County': '屏東縣', 'ItemId': '33', 'ItemName': '細懸浮微粒', 'ItemEngName': 'PM2.5', 'ItemUnit': 'μg/m3', 'MonitorDate': '2022-01-06 00:00:00', 'Concentration': '40'}\n",
      "===============\n",
      "{'SiteId': '61', 'SiteName': '恆春', 'County': '屏東縣', 'ItemId': '33', 'ItemName': '細懸浮微粒', 'ItemEngName': 'PM2.5', 'ItemUnit': 'μg/m3', 'MonitorDate': '2022-01-06 00:00:00', 'Concentration': '5'}\n",
      "===============\n",
      "{'SiteId': '62', 'SiteName': '臺東', 'County': '臺東縣', 'ItemId': '33', 'ItemName': '細懸浮微粒', 'ItemEngName': 'PM2.5', 'ItemUnit': 'μg/m3', 'MonitorDate': '2022-01-06 00:00:00', 'Concentration': '6'}\n",
      "===============\n",
      "{'SiteId': '63', 'SiteName': '花蓮', 'County': '花蓮縣', 'ItemId': '33', 'ItemName': '細懸浮微粒', 'ItemEngName': 'PM2.5', 'ItemUnit': 'μg/m3', 'MonitorDate': '2022-01-06 00:00:00', 'Concentration': '8'}\n",
      "===============\n",
      "{'SiteId': '64', 'SiteName': '陽明', 'County': '臺北市', 'ItemId': '33', 'ItemName': '細懸浮微粒', 'ItemEngName': 'PM2.5', 'ItemUnit': 'μg/m3', 'MonitorDate': '2022-01-06 00:00:00', 'Concentration': '5'}\n",
      "===============\n",
      "{'SiteId': '65', 'SiteName': '宜蘭', 'County': '宜蘭縣', 'ItemId': '33', 'ItemName': '細懸浮微粒', 'ItemEngName': 'PM2.5', 'ItemUnit': 'μg/m3', 'MonitorDate': '2022-01-06 00:00:00', 'Concentration': '10'}\n",
      "===============\n",
      "{'SiteId': '66', 'SiteName': '冬山', 'County': '宜蘭縣', 'ItemId': '33', 'ItemName': '細懸浮微粒', 'ItemEngName': 'PM2.5', 'ItemUnit': 'μg/m3', 'MonitorDate': '2022-01-06 00:00:00', 'Concentration': '10'}\n",
      "===============\n",
      "{'SiteId': '67', 'SiteName': '三重', 'County': '新北市', 'ItemId': '33', 'ItemName': '細懸浮微粒', 'ItemEngName': 'PM2.5', 'ItemUnit': 'μg/m3', 'MonitorDate': '2022-01-06 00:00:00', 'Concentration': '12'}\n",
      "===============\n",
      "{'SiteId': '68', 'SiteName': '中壢', 'County': '桃園市', 'ItemId': '33', 'ItemName': '細懸浮微粒', 'ItemEngName': 'PM2.5', 'ItemUnit': 'μg/m3', 'MonitorDate': '2022-01-06 00:00:00', 'Concentration': '12'}\n",
      "===============\n",
      "{'SiteId': '69', 'SiteName': '竹山', 'County': '南投縣', 'ItemId': '33', 'ItemName': '細懸浮微粒', 'ItemEngName': 'PM2.5', 'ItemUnit': 'μg/m3', 'MonitorDate': '2022-01-06 00:00:00', 'Concentration': '22'}\n",
      "===============\n",
      "{'SiteId': '70', 'SiteName': '永和', 'County': '新北市', 'ItemId': '33', 'ItemName': '細懸浮微粒', 'ItemEngName': 'PM2.5', 'ItemUnit': 'μg/m3', 'MonitorDate': '2022-01-06 00:00:00', 'Concentration': '11'}\n",
      "===============\n",
      "{'SiteId': '71', 'SiteName': '復興', 'County': '高雄市', 'ItemId': '33', 'ItemName': '細懸浮微粒', 'ItemEngName': 'PM2.5', 'ItemUnit': 'μg/m3', 'MonitorDate': '2022-01-06 00:00:00', 'Concentration': '30'}\n",
      "===============\n",
      "{'SiteId': '72', 'SiteName': '埔里', 'County': '南投縣', 'ItemId': '33', 'ItemName': '細懸浮微粒', 'ItemEngName': 'PM2.5', 'ItemUnit': 'μg/m3', 'MonitorDate': '2022-01-06 00:00:00', 'Concentration': '20'}\n",
      "===============\n",
      "{'SiteId': '75', 'SiteName': '馬祖', 'County': '連江縣', 'ItemId': '33', 'ItemName': '細懸浮微粒', 'ItemEngName': 'PM2.5', 'ItemUnit': 'μg/m3', 'MonitorDate': '2022-01-06 00:00:00', 'Concentration': '18'}\n",
      "===============\n",
      "{'SiteId': '77', 'SiteName': '金門', 'County': '金門縣', 'ItemId': '33', 'ItemName': '細懸浮微粒', 'ItemEngName': 'PM2.5', 'ItemUnit': 'μg/m3', 'MonitorDate': '2022-01-06 00:00:00', 'Concentration': '29'}\n",
      "===============\n",
      "{'SiteId': '78', 'SiteName': '馬公', 'County': '澎湖縣', 'ItemId': '33', 'ItemName': '細懸浮微粒', 'ItemEngName': 'PM2.5', 'ItemUnit': 'μg/m3', 'MonitorDate': '2022-01-06 00:00:00', 'Concentration': '12'}\n",
      "===============\n",
      "{'SiteId': '80', 'SiteName': '關山', 'County': '臺東縣', 'ItemId': '33', 'ItemName': '細懸浮微粒', 'ItemEngName': 'PM2.5', 'ItemUnit': 'μg/m3', 'MonitorDate': '2022-01-06 00:00:00', 'Concentration': '4'}\n",
      "===============\n",
      "{'SiteId': '83', 'SiteName': '麥寮', 'County': '雲林縣', 'ItemId': '33', 'ItemName': '細懸浮微粒', 'ItemEngName': 'PM2.5', 'ItemUnit': 'μg/m3', 'MonitorDate': '2022-01-06 00:00:00', 'Concentration': '14'}\n",
      "===============\n",
      "{'SiteId': '84', 'SiteName': '富貴角', 'County': '新北市', 'ItemId': '33', 'ItemName': '細懸浮微粒', 'ItemEngName': 'PM2.5', 'ItemUnit': 'μg/m3', 'MonitorDate': '2022-01-06 00:00:00', 'Concentration': '12'}\n",
      "===============\n",
      "{'SiteId': '85', 'SiteName': '大城', 'County': '彰化縣', 'ItemId': '33', 'ItemName': '細懸浮微粒', 'ItemEngName': 'PM2.5', 'ItemUnit': 'μg/m3', 'MonitorDate': '2022-01-06 00:00:00', 'Concentration': '14'}\n",
      "===============\n"
     ]
    }
   ],
   "source": [
    "jsonData = alljson['records']\n",
    "for item in jsonData:\n",
    "    print(item)\n",
    "    print(\"===============\")"
   ]
  },
  {
   "cell_type": "code",
   "execution_count": 3,
   "id": "e2fe4ad1",
   "metadata": {},
   "outputs": [
    {
     "data": {
      "text/plain": [
       "'1.4.29'"
      ]
     },
     "execution_count": 3,
     "metadata": {},
     "output_type": "execute_result"
    }
   ],
   "source": [
    "import sqlalchemy\n",
    "sqlalchemy.__version__"
   ]
  },
  {
   "cell_type": "code",
   "execution_count": 4,
   "id": "9efe640b",
   "metadata": {},
   "outputs": [],
   "source": [
    "#connect 連線不同資料庫\n",
    "from sqlalchemy import create_engine\n",
    "engine = create_engine('sqlite:///pm25.db',echo=True)"
   ]
  },
  {
   "cell_type": "code",
   "execution_count": 14,
   "id": "e0f18f53",
   "metadata": {},
   "outputs": [],
   "source": [
    "#自訂一個類別，這個類別對應到我們的資料庫的資料表\n",
    "from sqlalchemy.orm import declarative_base\n",
    "from sqlalchemy import Column, Integer, String,Float,Date\n",
    "\n",
    "\n",
    "Base = declarative_base()\n",
    "\n",
    "class PM25(Base):\n",
    "    __tablename__ = '每日25'\n",
    "    id = Column(Integer,primary_key=True,autoincrement=True)\n",
    "    siteid = Column(Integer)\n",
    "    sitename = Column(String(10),nullable=False)\n",
    "    county = Column(String(10))\n",
    "    itemname = Column(String(20))\n",
    "    itemengname = Column(String(10))\n",
    "    itemunit = Column(String(10))\n",
    "    monitordate = Column(Date)\n",
    "    concentration = Column(Float)\n",
    "    \n",
    "    def __repr__(self):\n",
    "        return \"<PM25(sitename='%s', county='%s', monitordate='%s', concentration='%f')>\" % (self.sitename, self.county, self.monitordate, self.concentration)"
   ]
  },
  {
   "cell_type": "code",
   "execution_count": 6,
   "id": "7b584d73",
   "metadata": {},
   "outputs": [
    {
     "data": {
      "text/plain": [
       "Table('每日25', MetaData(), Column('id', Integer(), table=<每日25>, primary_key=True, nullable=False), Column('siteid', Integer(), table=<每日25>), Column('sitename', String(length=10), table=<每日25>, nullable=False), Column('county', String(length=10), table=<每日25>), Column('itemname', String(length=20), table=<每日25>), Column('itemengname', String(length=10), table=<每日25>), Column('itemunit', String(length=10), table=<每日25>), Column('monitordate', Date(), table=<每日25>), Column('concentration', Float(), table=<每日25>), schema=None)"
      ]
     },
     "execution_count": 6,
     "metadata": {},
     "output_type": "execute_result"
    }
   ],
   "source": [
    "PM25.__table__"
   ]
  },
  {
   "cell_type": "code",
   "execution_count": 7,
   "id": "ea9f6674",
   "metadata": {},
   "outputs": [
    {
     "name": "stdout",
     "output_type": "stream",
     "text": [
      "2022-01-07 15:58:04,591 INFO sqlalchemy.engine.Engine BEGIN (implicit)\n",
      "2022-01-07 15:58:04,592 INFO sqlalchemy.engine.Engine PRAGMA main.table_info(\"每日25\")\n",
      "2022-01-07 15:58:04,593 INFO sqlalchemy.engine.Engine [raw sql] ()\n",
      "2022-01-07 15:58:04,594 INFO sqlalchemy.engine.Engine PRAGMA temp.table_info(\"每日25\")\n",
      "2022-01-07 15:58:04,594 INFO sqlalchemy.engine.Engine [raw sql] ()\n",
      "2022-01-07 15:58:04,597 INFO sqlalchemy.engine.Engine \n",
      "CREATE TABLE \"每日25\" (\n",
      "\tid INTEGER NOT NULL, \n",
      "\tsiteid INTEGER, \n",
      "\tsitename VARCHAR(10) NOT NULL, \n",
      "\tcounty VARCHAR(10), \n",
      "\titemname VARCHAR(20), \n",
      "\titemengname VARCHAR(10), \n",
      "\titemunit VARCHAR(10), \n",
      "\tmonitordate DATE, \n",
      "\tconcentration FLOAT, \n",
      "\tPRIMARY KEY (id)\n",
      ")\n",
      "\n",
      "\n",
      "2022-01-07 15:58:04,597 INFO sqlalchemy.engine.Engine [no key 0.00070s] ()\n",
      "2022-01-07 15:58:04,599 INFO sqlalchemy.engine.Engine COMMIT\n"
     ]
    }
   ],
   "source": [
    "PM25.metadata.create_all(engine)"
   ]
  },
  {
   "cell_type": "code",
   "execution_count": 8,
   "id": "01ef50be",
   "metadata": {},
   "outputs": [
    {
     "data": {
      "text/plain": [
       "\"\\npm25_1 = PM25(siteid=3,\\n              sitename='汐止',\\n              county='新北市',\\n              itemname='細懸浮微粒',\\n              itemengname='PM2.5',\\n              itemunit='μg/m3',\\n              monitordate=date(2017,3,25),\\n              concentration=8\\n             )\\nsession.add(pm25_1)\\nsession.commit()\\n\""
      ]
     },
     "execution_count": 8,
     "metadata": {},
     "output_type": "execute_result"
    }
   ],
   "source": [
    "from sqlalchemy.orm import sessionmaker\n",
    "from datetime import date\n",
    "Session = sessionmaker(bind=engine)\n",
    "session = Session()\n",
    "'''\n",
    "pm25_1 = PM25(siteid=3,\n",
    "              sitename='汐止',\n",
    "              county='新北市',\n",
    "              itemname='細懸浮微粒',\n",
    "              itemengname='PM2.5',\n",
    "              itemunit='μg/m3',\n",
    "              monitordate=date(2017,3,25),\n",
    "              concentration=8\n",
    "             )\n",
    "session.add(pm25_1)\n",
    "session.commit()\n",
    "'''"
   ]
  },
  {
   "cell_type": "code",
   "execution_count": 9,
   "id": "59bf530e",
   "metadata": {},
   "outputs": [
    {
     "name": "stdout",
     "output_type": "stream",
     "text": [
      "2022-01-07 15:58:04,652 INFO sqlalchemy.engine.Engine BEGIN (implicit)\n",
      "2022-01-07 15:58:04,655 INFO sqlalchemy.engine.Engine INSERT INTO \"每日25\" (siteid, sitename, county, itemname, itemengname, itemunit, monitordate, concentration) VALUES (?, ?, ?, ?, ?, ?, ?, ?)\n",
      "2022-01-07 15:58:04,656 INFO sqlalchemy.engine.Engine [generated in 0.00100s] (2, '汐止', '新北市', '細懸浮微粒', 'PM2.5', 'PM2.5', '2022-01-06', 8.0)\n",
      "2022-01-07 15:58:04,657 INFO sqlalchemy.engine.Engine INSERT INTO \"每日25\" (siteid, sitename, county, itemname, itemengname, itemunit, monitordate, concentration) VALUES (?, ?, ?, ?, ?, ?, ?, ?)\n",
      "2022-01-07 15:58:04,658 INFO sqlalchemy.engine.Engine [cached since 0.003082s ago] (3, '萬里', '新北市', '細懸浮微粒', 'PM2.5', 'PM2.5', '2022-01-06', 13.0)\n",
      "2022-01-07 15:58:04,659 INFO sqlalchemy.engine.Engine INSERT INTO \"每日25\" (siteid, sitename, county, itemname, itemengname, itemunit, monitordate, concentration) VALUES (?, ?, ?, ?, ?, ?, ?, ?)\n",
      "2022-01-07 15:58:04,660 INFO sqlalchemy.engine.Engine [cached since 0.004744s ago] (4, '新店', '新北市', '細懸浮微粒', 'PM2.5', 'PM2.5', '2022-01-06', 10.0)\n",
      "2022-01-07 15:58:04,660 INFO sqlalchemy.engine.Engine INSERT INTO \"每日25\" (siteid, sitename, county, itemname, itemengname, itemunit, monitordate, concentration) VALUES (?, ?, ?, ?, ?, ?, ?, ?)\n",
      "2022-01-07 15:58:04,661 INFO sqlalchemy.engine.Engine [cached since 0.006238s ago] (5, '土城', '新北市', '細懸浮微粒', 'PM2.5', 'PM2.5', '2022-01-06', 12.0)\n",
      "2022-01-07 15:58:04,662 INFO sqlalchemy.engine.Engine INSERT INTO \"每日25\" (siteid, sitename, county, itemname, itemengname, itemunit, monitordate, concentration) VALUES (?, ?, ?, ?, ?, ?, ?, ?)\n",
      "2022-01-07 15:58:04,663 INFO sqlalchemy.engine.Engine [cached since 0.007612s ago] (6, '板橋', '新北市', '細懸浮微粒', 'PM2.5', 'PM2.5', '2022-01-06', 10.0)\n",
      "2022-01-07 15:58:04,663 INFO sqlalchemy.engine.Engine INSERT INTO \"每日25\" (siteid, sitename, county, itemname, itemengname, itemunit, monitordate, concentration) VALUES (?, ?, ?, ?, ?, ?, ?, ?)\n",
      "2022-01-07 15:58:04,664 INFO sqlalchemy.engine.Engine [cached since 0.009006s ago] (7, '新莊', '新北市', '細懸浮微粒', 'PM2.5', 'PM2.5', '2022-01-06', 10.0)\n",
      "2022-01-07 15:58:04,665 INFO sqlalchemy.engine.Engine INSERT INTO \"每日25\" (siteid, sitename, county, itemname, itemengname, itemunit, monitordate, concentration) VALUES (?, ?, ?, ?, ?, ?, ?, ?)\n",
      "2022-01-07 15:58:04,666 INFO sqlalchemy.engine.Engine [cached since 0.01072s ago] (8, '菜寮', '新北市', '細懸浮微粒', 'PM2.5', 'PM2.5', '2022-01-06', 10.0)\n",
      "2022-01-07 15:58:04,667 INFO sqlalchemy.engine.Engine INSERT INTO \"每日25\" (siteid, sitename, county, itemname, itemengname, itemunit, monitordate, concentration) VALUES (?, ?, ?, ?, ?, ?, ?, ?)\n",
      "2022-01-07 15:58:04,668 INFO sqlalchemy.engine.Engine [cached since 0.01256s ago] (9, '林口', '新北市', '細懸浮微粒', 'PM2.5', 'PM2.5', '2022-01-06', 9.0)\n",
      "2022-01-07 15:58:04,668 INFO sqlalchemy.engine.Engine INSERT INTO \"每日25\" (siteid, sitename, county, itemname, itemengname, itemunit, monitordate, concentration) VALUES (?, ?, ?, ?, ?, ?, ?, ?)\n",
      "2022-01-07 15:58:04,669 INFO sqlalchemy.engine.Engine [cached since 0.0138s ago] (10, '淡水', '新北市', '細懸浮微粒', 'PM2.5', 'PM2.5', '2022-01-06', 10.0)\n",
      "2022-01-07 15:58:04,669 INFO sqlalchemy.engine.Engine INSERT INTO \"每日25\" (siteid, sitename, county, itemname, itemengname, itemunit, monitordate, concentration) VALUES (?, ?, ?, ?, ?, ?, ?, ?)\n",
      "2022-01-07 15:58:04,670 INFO sqlalchemy.engine.Engine [cached since 0.01512s ago] (11, '士林', '臺北市', '細懸浮微粒', 'PM2.5', 'PM2.5', '2022-01-06', 8.0)\n",
      "2022-01-07 15:58:04,671 INFO sqlalchemy.engine.Engine INSERT INTO \"每日25\" (siteid, sitename, county, itemname, itemengname, itemunit, monitordate, concentration) VALUES (?, ?, ?, ?, ?, ?, ?, ?)\n",
      "2022-01-07 15:58:04,672 INFO sqlalchemy.engine.Engine [cached since 0.01678s ago] (12, '中山', '臺北市', '細懸浮微粒', 'PM2.5', 'PM2.5', '2022-01-06', 9.0)\n",
      "2022-01-07 15:58:04,673 INFO sqlalchemy.engine.Engine INSERT INTO \"每日25\" (siteid, sitename, county, itemname, itemengname, itemunit, monitordate, concentration) VALUES (?, ?, ?, ?, ?, ?, ?, ?)\n",
      "2022-01-07 15:58:04,674 INFO sqlalchemy.engine.Engine [cached since 0.01916s ago] (13, '萬華', '臺北市', '細懸浮微粒', 'PM2.5', 'PM2.5', '2022-01-06', 10.0)\n",
      "2022-01-07 15:58:04,675 INFO sqlalchemy.engine.Engine INSERT INTO \"每日25\" (siteid, sitename, county, itemname, itemengname, itemunit, monitordate, concentration) VALUES (?, ?, ?, ?, ?, ?, ?, ?)\n",
      "2022-01-07 15:58:04,676 INFO sqlalchemy.engine.Engine [cached since 0.02117s ago] (14, '古亭', '臺北市', '細懸浮微粒', 'PM2.5', 'PM2.5', '2022-01-06', 11.0)\n",
      "2022-01-07 15:58:04,677 INFO sqlalchemy.engine.Engine INSERT INTO \"每日25\" (siteid, sitename, county, itemname, itemengname, itemunit, monitordate, concentration) VALUES (?, ?, ?, ?, ?, ?, ?, ?)\n",
      "2022-01-07 15:58:04,678 INFO sqlalchemy.engine.Engine [cached since 0.02334s ago] (15, '松山', '臺北市', '細懸浮微粒', 'PM2.5', 'PM2.5', '2022-01-06', 11.0)\n",
      "2022-01-07 15:58:04,679 INFO sqlalchemy.engine.Engine INSERT INTO \"每日25\" (siteid, sitename, county, itemname, itemengname, itemunit, monitordate, concentration) VALUES (?, ?, ?, ?, ?, ?, ?, ?)\n",
      "2022-01-07 15:58:04,680 INFO sqlalchemy.engine.Engine [cached since 0.02548s ago] (16, '大同', '臺北市', '細懸浮微粒', 'PM2.5', 'PM2.5', '2022-01-06', 13.0)\n",
      "2022-01-07 15:58:04,682 INFO sqlalchemy.engine.Engine INSERT INTO \"每日25\" (siteid, sitename, county, itemname, itemengname, itemunit, monitordate, concentration) VALUES (?, ?, ?, ?, ?, ?, ?, ?)\n",
      "2022-01-07 15:58:04,682 INFO sqlalchemy.engine.Engine [cached since 0.02728s ago] (17, '桃園', '桃園市', '細懸浮微粒', 'PM2.5', 'PM2.5', '2022-01-06', 12.0)\n",
      "2022-01-07 15:58:04,683 INFO sqlalchemy.engine.Engine INSERT INTO \"每日25\" (siteid, sitename, county, itemname, itemengname, itemunit, monitordate, concentration) VALUES (?, ?, ?, ?, ?, ?, ?, ?)\n",
      "2022-01-07 15:58:04,684 INFO sqlalchemy.engine.Engine [cached since 0.02904s ago] (18, '大園', '桃園市', '細懸浮微粒', 'PM2.5', 'PM2.5', '2022-01-06', 11.0)\n",
      "2022-01-07 15:58:04,685 INFO sqlalchemy.engine.Engine INSERT INTO \"每日25\" (siteid, sitename, county, itemname, itemengname, itemunit, monitordate, concentration) VALUES (?, ?, ?, ?, ?, ?, ?, ?)\n",
      "2022-01-07 15:58:04,686 INFO sqlalchemy.engine.Engine [cached since 0.03071s ago] (19, '觀音', '桃園市', '細懸浮微粒', 'PM2.5', 'PM2.5', '2022-01-06', 12.0)\n",
      "2022-01-07 15:58:04,687 INFO sqlalchemy.engine.Engine INSERT INTO \"每日25\" (siteid, sitename, county, itemname, itemengname, itemunit, monitordate, concentration) VALUES (?, ?, ?, ?, ?, ?, ?, ?)\n",
      "2022-01-07 15:58:04,687 INFO sqlalchemy.engine.Engine [cached since 0.03236s ago] (20, '平鎮', '桃園市', '細懸浮微粒', 'PM2.5', 'PM2.5', '2022-01-06', 13.0)\n",
      "2022-01-07 15:58:04,688 INFO sqlalchemy.engine.Engine INSERT INTO \"每日25\" (siteid, sitename, county, itemname, itemengname, itemunit, monitordate, concentration) VALUES (?, ?, ?, ?, ?, ?, ?, ?)\n",
      "2022-01-07 15:58:04,689 INFO sqlalchemy.engine.Engine [cached since 0.03372s ago] (21, '龍潭', '桃園市', '細懸浮微粒', 'PM2.5', 'PM2.5', '2022-01-06', 10.0)\n",
      "2022-01-07 15:58:04,690 INFO sqlalchemy.engine.Engine INSERT INTO \"每日25\" (siteid, sitename, county, itemname, itemengname, itemunit, monitordate, concentration) VALUES (?, ?, ?, ?, ?, ?, ?, ?)\n",
      "2022-01-07 15:58:04,691 INFO sqlalchemy.engine.Engine [cached since 0.03589s ago] (22, '湖口', '新竹縣', '細懸浮微粒', 'PM2.5', 'PM2.5', '2022-01-06', 11.0)\n",
      "2022-01-07 15:58:04,692 INFO sqlalchemy.engine.Engine INSERT INTO \"每日25\" (siteid, sitename, county, itemname, itemengname, itemunit, monitordate, concentration) VALUES (?, ?, ?, ?, ?, ?, ?, ?)\n",
      "2022-01-07 15:58:04,694 INFO sqlalchemy.engine.Engine [cached since 0.03871s ago] (23, '竹東', '新竹縣', '細懸浮微粒', 'PM2.5', 'PM2.5', '2022-01-06', 9.0)\n",
      "2022-01-07 15:58:04,695 INFO sqlalchemy.engine.Engine INSERT INTO \"每日25\" (siteid, sitename, county, itemname, itemengname, itemunit, monitordate, concentration) VALUES (?, ?, ?, ?, ?, ?, ?, ?)\n",
      "2022-01-07 15:58:04,696 INFO sqlalchemy.engine.Engine [cached since 0.04124s ago] (24, '新竹', '新竹市', '細懸浮微粒', 'PM2.5', 'PM2.5', '2022-01-06', 13.0)\n",
      "2022-01-07 15:58:04,697 INFO sqlalchemy.engine.Engine INSERT INTO \"每日25\" (siteid, sitename, county, itemname, itemengname, itemunit, monitordate, concentration) VALUES (?, ?, ?, ?, ?, ?, ?, ?)\n",
      "2022-01-07 15:58:04,698 INFO sqlalchemy.engine.Engine [cached since 0.04275s ago] (25, '頭份', '苗栗縣', '細懸浮微粒', 'PM2.5', 'PM2.5', '2022-01-06', 12.0)\n"
     ]
    },
    {
     "name": "stdout",
     "output_type": "stream",
     "text": [
      "2022-01-07 15:58:04,699 INFO sqlalchemy.engine.Engine INSERT INTO \"每日25\" (siteid, sitename, county, itemname, itemengname, itemunit, monitordate, concentration) VALUES (?, ?, ?, ?, ?, ?, ?, ?)\n",
      "2022-01-07 15:58:04,700 INFO sqlalchemy.engine.Engine [cached since 0.04463s ago] (26, '苗栗', '苗栗縣', '細懸浮微粒', 'PM2.5', 'PM2.5', '2022-01-06', 12.0)\n",
      "2022-01-07 15:58:04,700 INFO sqlalchemy.engine.Engine INSERT INTO \"每日25\" (siteid, sitename, county, itemname, itemengname, itemunit, monitordate, concentration) VALUES (?, ?, ?, ?, ?, ?, ?, ?)\n",
      "2022-01-07 15:58:04,701 INFO sqlalchemy.engine.Engine [cached since 0.04612s ago] (27, '三義', '苗栗縣', '細懸浮微粒', 'PM2.5', 'PM2.5', '2022-01-06', 8.0)\n",
      "2022-01-07 15:58:04,702 INFO sqlalchemy.engine.Engine INSERT INTO \"每日25\" (siteid, sitename, county, itemname, itemengname, itemunit, monitordate, concentration) VALUES (?, ?, ?, ?, ?, ?, ?, ?)\n",
      "2022-01-07 15:58:04,703 INFO sqlalchemy.engine.Engine [cached since 0.04788s ago] (28, '豐原', '臺中市', '細懸浮微粒', 'PM2.5', 'PM2.5', '2022-01-06', 8.0)\n",
      "2022-01-07 15:58:04,704 INFO sqlalchemy.engine.Engine INSERT INTO \"每日25\" (siteid, sitename, county, itemname, itemengname, itemunit, monitordate, concentration) VALUES (?, ?, ?, ?, ?, ?, ?, ?)\n",
      "2022-01-07 15:58:04,705 INFO sqlalchemy.engine.Engine [cached since 0.04969s ago] (29, '沙鹿', '臺中市', '細懸浮微粒', 'PM2.5', 'PM2.5', '2022-01-06', 13.0)\n",
      "2022-01-07 15:58:04,706 INFO sqlalchemy.engine.Engine INSERT INTO \"每日25\" (siteid, sitename, county, itemname, itemengname, itemunit, monitordate, concentration) VALUES (?, ?, ?, ?, ?, ?, ?, ?)\n",
      "2022-01-07 15:58:04,707 INFO sqlalchemy.engine.Engine [cached since 0.05187s ago] (30, '大里', '臺中市', '細懸浮微粒', 'PM2.5', 'PM2.5', '2022-01-06', 15.0)\n",
      "2022-01-07 15:58:04,708 INFO sqlalchemy.engine.Engine INSERT INTO \"每日25\" (siteid, sitename, county, itemname, itemengname, itemunit, monitordate, concentration) VALUES (?, ?, ?, ?, ?, ?, ?, ?)\n",
      "2022-01-07 15:58:04,709 INFO sqlalchemy.engine.Engine [cached since 0.05369s ago] (31, '忠明', '臺中市', '細懸浮微粒', 'PM2.5', 'PM2.5', '2022-01-06', 11.0)\n",
      "2022-01-07 15:58:04,710 INFO sqlalchemy.engine.Engine INSERT INTO \"每日25\" (siteid, sitename, county, itemname, itemengname, itemunit, monitordate, concentration) VALUES (?, ?, ?, ?, ?, ?, ?, ?)\n",
      "2022-01-07 15:58:04,710 INFO sqlalchemy.engine.Engine [cached since 0.05541s ago] (32, '西屯', '臺中市', '細懸浮微粒', 'PM2.5', 'PM2.5', '2022-01-06', 12.0)\n",
      "2022-01-07 15:58:04,711 INFO sqlalchemy.engine.Engine INSERT INTO \"每日25\" (siteid, sitename, county, itemname, itemengname, itemunit, monitordate, concentration) VALUES (?, ?, ?, ?, ?, ?, ?, ?)\n",
      "2022-01-07 15:58:04,712 INFO sqlalchemy.engine.Engine [cached since 0.05686s ago] (33, '彰化', '彰化縣', '細懸浮微粒', 'PM2.5', 'PM2.5', '2022-01-06', 13.0)\n",
      "2022-01-07 15:58:04,713 INFO sqlalchemy.engine.Engine INSERT INTO \"每日25\" (siteid, sitename, county, itemname, itemengname, itemunit, monitordate, concentration) VALUES (?, ?, ?, ?, ?, ?, ?, ?)\n",
      "2022-01-07 15:58:04,714 INFO sqlalchemy.engine.Engine [cached since 0.05866s ago] (34, '線西', '彰化縣', '細懸浮微粒', 'PM2.5', 'PM2.5', '2022-01-06', 15.0)\n",
      "2022-01-07 15:58:04,714 INFO sqlalchemy.engine.Engine INSERT INTO \"每日25\" (siteid, sitename, county, itemname, itemengname, itemunit, monitordate, concentration) VALUES (?, ?, ?, ?, ?, ?, ?, ?)\n",
      "2022-01-07 15:58:04,715 INFO sqlalchemy.engine.Engine [cached since 0.0601s ago] (35, '二林', '彰化縣', '細懸浮微粒', 'PM2.5', 'PM2.5', '2022-01-06', 16.0)\n",
      "2022-01-07 15:58:04,716 INFO sqlalchemy.engine.Engine INSERT INTO \"每日25\" (siteid, sitename, county, itemname, itemengname, itemunit, monitordate, concentration) VALUES (?, ?, ?, ?, ?, ?, ?, ?)\n",
      "2022-01-07 15:58:04,716 INFO sqlalchemy.engine.Engine [cached since 0.06155s ago] (36, '南投', '南投縣', '細懸浮微粒', 'PM2.5', 'PM2.5', '2022-01-06', 20.0)\n",
      "2022-01-07 15:58:04,717 INFO sqlalchemy.engine.Engine INSERT INTO \"每日25\" (siteid, sitename, county, itemname, itemengname, itemunit, monitordate, concentration) VALUES (?, ?, ?, ?, ?, ?, ?, ?)\n",
      "2022-01-07 15:58:04,718 INFO sqlalchemy.engine.Engine [cached since 0.06308s ago] (37, '斗六', '雲林縣', '細懸浮微粒', 'PM2.5', 'PM2.5', '2022-01-06', 21.0)\n",
      "2022-01-07 15:58:04,719 INFO sqlalchemy.engine.Engine INSERT INTO \"每日25\" (siteid, sitename, county, itemname, itemengname, itemunit, monitordate, concentration) VALUES (?, ?, ?, ?, ?, ?, ?, ?)\n",
      "2022-01-07 15:58:04,719 INFO sqlalchemy.engine.Engine [cached since 0.06446s ago] (38, '崙背', '雲林縣', '細懸浮微粒', 'PM2.5', 'PM2.5', '2022-01-06', 15.0)\n",
      "2022-01-07 15:58:04,720 INFO sqlalchemy.engine.Engine INSERT INTO \"每日25\" (siteid, sitename, county, itemname, itemengname, itemunit, monitordate, concentration) VALUES (?, ?, ?, ?, ?, ?, ?, ?)\n",
      "2022-01-07 15:58:04,721 INFO sqlalchemy.engine.Engine [cached since 0.06583s ago] (39, '新港', '嘉義縣', '細懸浮微粒', 'PM2.5', 'PM2.5', '2022-01-06', 18.0)\n",
      "2022-01-07 15:58:04,722 INFO sqlalchemy.engine.Engine INSERT INTO \"每日25\" (siteid, sitename, county, itemname, itemengname, itemunit, monitordate, concentration) VALUES (?, ?, ?, ?, ?, ?, ?, ?)\n",
      "2022-01-07 15:58:04,722 INFO sqlalchemy.engine.Engine [cached since 0.06725s ago] (40, '朴子', '嘉義縣', '細懸浮微粒', 'PM2.5', 'PM2.5', '2022-01-06', 17.0)\n",
      "2022-01-07 15:58:04,723 INFO sqlalchemy.engine.Engine INSERT INTO \"每日25\" (siteid, sitename, county, itemname, itemengname, itemunit, monitordate, concentration) VALUES (?, ?, ?, ?, ?, ?, ?, ?)\n",
      "2022-01-07 15:58:04,724 INFO sqlalchemy.engine.Engine [cached since 0.06888s ago] (41, '臺西', '雲林縣', '細懸浮微粒', 'PM2.5', 'PM2.5', '2022-01-06', 13.0)\n",
      "2022-01-07 15:58:04,725 INFO sqlalchemy.engine.Engine INSERT INTO \"每日25\" (siteid, sitename, county, itemname, itemengname, itemunit, monitordate, concentration) VALUES (?, ?, ?, ?, ?, ?, ?, ?)\n",
      "2022-01-07 15:58:04,725 INFO sqlalchemy.engine.Engine [cached since 0.07047s ago] (42, '嘉義', '嘉義市', '細懸浮微粒', 'PM2.5', 'PM2.5', '2022-01-06', 23.0)\n",
      "2022-01-07 15:58:04,726 INFO sqlalchemy.engine.Engine INSERT INTO \"每日25\" (siteid, sitename, county, itemname, itemengname, itemunit, monitordate, concentration) VALUES (?, ?, ?, ?, ?, ?, ?, ?)\n",
      "2022-01-07 15:58:04,727 INFO sqlalchemy.engine.Engine [cached since 0.07233s ago] (43, '新營', '臺南市', '細懸浮微粒', 'PM2.5', 'PM2.5', '2022-01-06', 19.0)\n",
      "2022-01-07 15:58:04,728 INFO sqlalchemy.engine.Engine INSERT INTO \"每日25\" (siteid, sitename, county, itemname, itemengname, itemunit, monitordate, concentration) VALUES (?, ?, ?, ?, ?, ?, ?, ?)\n",
      "2022-01-07 15:58:04,729 INFO sqlalchemy.engine.Engine [cached since 0.0743s ago] (44, '善化', '臺南市', '細懸浮微粒', 'PM2.5', 'PM2.5', '2022-01-06', 20.0)\n",
      "2022-01-07 15:58:04,730 INFO sqlalchemy.engine.Engine INSERT INTO \"每日25\" (siteid, sitename, county, itemname, itemengname, itemunit, monitordate, concentration) VALUES (?, ?, ?, ?, ?, ?, ?, ?)\n",
      "2022-01-07 15:58:04,731 INFO sqlalchemy.engine.Engine [cached since 0.07617s ago] (45, '安南', '臺南市', '細懸浮微粒', 'PM2.5', 'PM2.5', '2022-01-06', 18.0)\n",
      "2022-01-07 15:58:04,732 INFO sqlalchemy.engine.Engine INSERT INTO \"每日25\" (siteid, sitename, county, itemname, itemengname, itemunit, monitordate, concentration) VALUES (?, ?, ?, ?, ?, ?, ?, ?)\n",
      "2022-01-07 15:58:04,733 INFO sqlalchemy.engine.Engine [cached since 0.07785s ago] (46, '臺南', '臺南市', '細懸浮微粒', 'PM2.5', 'PM2.5', '2022-01-06', 20.0)\n",
      "2022-01-07 15:58:04,734 INFO sqlalchemy.engine.Engine INSERT INTO \"每日25\" (siteid, sitename, county, itemname, itemengname, itemunit, monitordate, concentration) VALUES (?, ?, ?, ?, ?, ?, ?, ?)\n",
      "2022-01-07 15:58:04,735 INFO sqlalchemy.engine.Engine [cached since 0.07977s ago] (47, '美濃', '高雄市', '細懸浮微粒', 'PM2.5', 'PM2.5', '2022-01-06', 25.0)\n",
      "2022-01-07 15:58:04,736 INFO sqlalchemy.engine.Engine INSERT INTO \"每日25\" (siteid, sitename, county, itemname, itemengname, itemunit, monitordate, concentration) VALUES (?, ?, ?, ?, ?, ?, ?, ?)\n",
      "2022-01-07 15:58:04,736 INFO sqlalchemy.engine.Engine [cached since 0.08112s ago] (48, '橋頭', '高雄市', '細懸浮微粒', 'PM2.5', 'PM2.5', '2022-01-06', 30.0)\n",
      "2022-01-07 15:58:04,737 INFO sqlalchemy.engine.Engine INSERT INTO \"每日25\" (siteid, sitename, county, itemname, itemengname, itemunit, monitordate, concentration) VALUES (?, ?, ?, ?, ?, ?, ?, ?)\n",
      "2022-01-07 15:58:04,737 INFO sqlalchemy.engine.Engine [cached since 0.08218s ago] (49, '仁武', '高雄市', '細懸浮微粒', 'PM2.5', 'PM2.5', '2022-01-06', 32.0)\n",
      "2022-01-07 15:58:04,738 INFO sqlalchemy.engine.Engine INSERT INTO \"每日25\" (siteid, sitename, county, itemname, itemengname, itemunit, monitordate, concentration) VALUES (?, ?, ?, ?, ?, ?, ?, ?)\n"
     ]
    },
    {
     "name": "stdout",
     "output_type": "stream",
     "text": [
      "2022-01-07 15:58:04,738 INFO sqlalchemy.engine.Engine [cached since 0.08356s ago] (50, '鳳山', '高雄市', '細懸浮微粒', 'PM2.5', 'PM2.5', '2022-01-06', 33.0)\n",
      "2022-01-07 15:58:04,739 INFO sqlalchemy.engine.Engine INSERT INTO \"每日25\" (siteid, sitename, county, itemname, itemengname, itemunit, monitordate, concentration) VALUES (?, ?, ?, ?, ?, ?, ?, ?)\n",
      "2022-01-07 15:58:04,740 INFO sqlalchemy.engine.Engine [cached since 0.08492s ago] (51, '大寮', '高雄市', '細懸浮微粒', 'PM2.5', 'PM2.5', '2022-01-06', 35.0)\n",
      "2022-01-07 15:58:04,741 INFO sqlalchemy.engine.Engine INSERT INTO \"每日25\" (siteid, sitename, county, itemname, itemengname, itemunit, monitordate, concentration) VALUES (?, ?, ?, ?, ?, ?, ?, ?)\n",
      "2022-01-07 15:58:04,741 INFO sqlalchemy.engine.Engine [cached since 0.08634s ago] (52, '林園', '高雄市', '細懸浮微粒', 'PM2.5', 'PM2.5', '2022-01-06', 39.0)\n",
      "2022-01-07 15:58:04,742 INFO sqlalchemy.engine.Engine INSERT INTO \"每日25\" (siteid, sitename, county, itemname, itemengname, itemunit, monitordate, concentration) VALUES (?, ?, ?, ?, ?, ?, ?, ?)\n",
      "2022-01-07 15:58:04,743 INFO sqlalchemy.engine.Engine [cached since 0.08781s ago] (53, '楠梓', '高雄市', '細懸浮微粒', 'PM2.5', 'PM2.5', '2022-01-06', 25.0)\n",
      "2022-01-07 15:58:04,744 INFO sqlalchemy.engine.Engine INSERT INTO \"每日25\" (siteid, sitename, county, itemname, itemengname, itemunit, monitordate, concentration) VALUES (?, ?, ?, ?, ?, ?, ?, ?)\n",
      "2022-01-07 15:58:04,744 INFO sqlalchemy.engine.Engine [cached since 0.08915s ago] (54, '左營', '高雄市', '細懸浮微粒', 'PM2.5', 'PM2.5', '2022-01-06', 29.0)\n",
      "2022-01-07 15:58:04,745 INFO sqlalchemy.engine.Engine INSERT INTO \"每日25\" (siteid, sitename, county, itemname, itemengname, itemunit, monitordate, concentration) VALUES (?, ?, ?, ?, ?, ?, ?, ?)\n",
      "2022-01-07 15:58:04,746 INFO sqlalchemy.engine.Engine [cached since 0.09058s ago] (56, '前金', '高雄市', '細懸浮微粒', 'PM2.5', 'PM2.5', '2022-01-06', 29.0)\n",
      "2022-01-07 15:58:04,747 INFO sqlalchemy.engine.Engine INSERT INTO \"每日25\" (siteid, sitename, county, itemname, itemengname, itemunit, monitordate, concentration) VALUES (?, ?, ?, ?, ?, ?, ?, ?)\n",
      "2022-01-07 15:58:04,747 INFO sqlalchemy.engine.Engine [cached since 0.09204s ago] (57, '前鎮', '高雄市', '細懸浮微粒', 'PM2.5', 'PM2.5', '2022-01-06', 28.0)\n",
      "2022-01-07 15:58:04,748 INFO sqlalchemy.engine.Engine INSERT INTO \"每日25\" (siteid, sitename, county, itemname, itemengname, itemunit, monitordate, concentration) VALUES (?, ?, ?, ?, ?, ?, ?, ?)\n",
      "2022-01-07 15:58:04,748 INFO sqlalchemy.engine.Engine [cached since 0.09327s ago] (58, '小港', '高雄市', '細懸浮微粒', 'PM2.5', 'PM2.5', '2022-01-06', 30.0)\n",
      "2022-01-07 15:58:04,749 INFO sqlalchemy.engine.Engine INSERT INTO \"每日25\" (siteid, sitename, county, itemname, itemengname, itemunit, monitordate, concentration) VALUES (?, ?, ?, ?, ?, ?, ?, ?)\n",
      "2022-01-07 15:58:04,749 INFO sqlalchemy.engine.Engine [cached since 0.09446s ago] (59, '屏東', '屏東縣', '細懸浮微粒', 'PM2.5', 'PM2.5', '2022-01-06', 39.0)\n",
      "2022-01-07 15:58:04,750 INFO sqlalchemy.engine.Engine INSERT INTO \"每日25\" (siteid, sitename, county, itemname, itemengname, itemunit, monitordate, concentration) VALUES (?, ?, ?, ?, ?, ?, ?, ?)\n",
      "2022-01-07 15:58:04,751 INFO sqlalchemy.engine.Engine [cached since 0.09569s ago] (60, '潮州', '屏東縣', '細懸浮微粒', 'PM2.5', 'PM2.5', '2022-01-06', 40.0)\n",
      "2022-01-07 15:58:04,752 INFO sqlalchemy.engine.Engine INSERT INTO \"每日25\" (siteid, sitename, county, itemname, itemengname, itemunit, monitordate, concentration) VALUES (?, ?, ?, ?, ?, ?, ?, ?)\n",
      "2022-01-07 15:58:04,753 INFO sqlalchemy.engine.Engine [cached since 0.09754s ago] (61, '恆春', '屏東縣', '細懸浮微粒', 'PM2.5', 'PM2.5', '2022-01-06', 5.0)\n",
      "2022-01-07 15:58:04,753 INFO sqlalchemy.engine.Engine INSERT INTO \"每日25\" (siteid, sitename, county, itemname, itemengname, itemunit, monitordate, concentration) VALUES (?, ?, ?, ?, ?, ?, ?, ?)\n",
      "2022-01-07 15:58:04,754 INFO sqlalchemy.engine.Engine [cached since 0.09893s ago] (62, '臺東', '臺東縣', '細懸浮微粒', 'PM2.5', 'PM2.5', '2022-01-06', 6.0)\n",
      "2022-01-07 15:58:04,755 INFO sqlalchemy.engine.Engine INSERT INTO \"每日25\" (siteid, sitename, county, itemname, itemengname, itemunit, monitordate, concentration) VALUES (?, ?, ?, ?, ?, ?, ?, ?)\n",
      "2022-01-07 15:58:04,755 INFO sqlalchemy.engine.Engine [cached since 0.1004s ago] (63, '花蓮', '花蓮縣', '細懸浮微粒', 'PM2.5', 'PM2.5', '2022-01-06', 8.0)\n",
      "2022-01-07 15:58:04,756 INFO sqlalchemy.engine.Engine INSERT INTO \"每日25\" (siteid, sitename, county, itemname, itemengname, itemunit, monitordate, concentration) VALUES (?, ?, ?, ?, ?, ?, ?, ?)\n",
      "2022-01-07 15:58:04,757 INFO sqlalchemy.engine.Engine [cached since 0.1016s ago] (64, '陽明', '臺北市', '細懸浮微粒', 'PM2.5', 'PM2.5', '2022-01-06', 5.0)\n",
      "2022-01-07 15:58:04,757 INFO sqlalchemy.engine.Engine INSERT INTO \"每日25\" (siteid, sitename, county, itemname, itemengname, itemunit, monitordate, concentration) VALUES (?, ?, ?, ?, ?, ?, ?, ?)\n",
      "2022-01-07 15:58:04,758 INFO sqlalchemy.engine.Engine [cached since 0.1027s ago] (65, '宜蘭', '宜蘭縣', '細懸浮微粒', 'PM2.5', 'PM2.5', '2022-01-06', 10.0)\n",
      "2022-01-07 15:58:04,758 INFO sqlalchemy.engine.Engine INSERT INTO \"每日25\" (siteid, sitename, county, itemname, itemengname, itemunit, monitordate, concentration) VALUES (?, ?, ?, ?, ?, ?, ?, ?)\n",
      "2022-01-07 15:58:04,759 INFO sqlalchemy.engine.Engine [cached since 0.1038s ago] (66, '冬山', '宜蘭縣', '細懸浮微粒', 'PM2.5', 'PM2.5', '2022-01-06', 10.0)\n",
      "2022-01-07 15:58:04,760 INFO sqlalchemy.engine.Engine INSERT INTO \"每日25\" (siteid, sitename, county, itemname, itemengname, itemunit, monitordate, concentration) VALUES (?, ?, ?, ?, ?, ?, ?, ?)\n",
      "2022-01-07 15:58:04,760 INFO sqlalchemy.engine.Engine [cached since 0.1052s ago] (67, '三重', '新北市', '細懸浮微粒', 'PM2.5', 'PM2.5', '2022-01-06', 12.0)\n",
      "2022-01-07 15:58:04,761 INFO sqlalchemy.engine.Engine INSERT INTO \"每日25\" (siteid, sitename, county, itemname, itemengname, itemunit, monitordate, concentration) VALUES (?, ?, ?, ?, ?, ?, ?, ?)\n",
      "2022-01-07 15:58:04,762 INFO sqlalchemy.engine.Engine [cached since 0.1068s ago] (68, '中壢', '桃園市', '細懸浮微粒', 'PM2.5', 'PM2.5', '2022-01-06', 12.0)\n",
      "2022-01-07 15:58:04,763 INFO sqlalchemy.engine.Engine INSERT INTO \"每日25\" (siteid, sitename, county, itemname, itemengname, itemunit, monitordate, concentration) VALUES (?, ?, ?, ?, ?, ?, ?, ?)\n",
      "2022-01-07 15:58:04,763 INFO sqlalchemy.engine.Engine [cached since 0.1083s ago] (69, '竹山', '南投縣', '細懸浮微粒', 'PM2.5', 'PM2.5', '2022-01-06', 22.0)\n",
      "2022-01-07 15:58:04,764 INFO sqlalchemy.engine.Engine INSERT INTO \"每日25\" (siteid, sitename, county, itemname, itemengname, itemunit, monitordate, concentration) VALUES (?, ?, ?, ?, ?, ?, ?, ?)\n",
      "2022-01-07 15:58:04,765 INFO sqlalchemy.engine.Engine [cached since 0.1097s ago] (70, '永和', '新北市', '細懸浮微粒', 'PM2.5', 'PM2.5', '2022-01-06', 11.0)\n",
      "2022-01-07 15:58:04,765 INFO sqlalchemy.engine.Engine INSERT INTO \"每日25\" (siteid, sitename, county, itemname, itemengname, itemunit, monitordate, concentration) VALUES (?, ?, ?, ?, ?, ?, ?, ?)\n",
      "2022-01-07 15:58:04,766 INFO sqlalchemy.engine.Engine [cached since 0.1112s ago] (71, '復興', '高雄市', '細懸浮微粒', 'PM2.5', 'PM2.5', '2022-01-06', 30.0)\n",
      "2022-01-07 15:58:04,767 INFO sqlalchemy.engine.Engine INSERT INTO \"每日25\" (siteid, sitename, county, itemname, itemengname, itemunit, monitordate, concentration) VALUES (?, ?, ?, ?, ?, ?, ?, ?)\n",
      "2022-01-07 15:58:04,768 INFO sqlalchemy.engine.Engine [cached since 0.1127s ago] (72, '埔里', '南投縣', '細懸浮微粒', 'PM2.5', 'PM2.5', '2022-01-06', 20.0)\n",
      "2022-01-07 15:58:04,769 INFO sqlalchemy.engine.Engine INSERT INTO \"每日25\" (siteid, sitename, county, itemname, itemengname, itemunit, monitordate, concentration) VALUES (?, ?, ?, ?, ?, ?, ?, ?)\n",
      "2022-01-07 15:58:04,769 INFO sqlalchemy.engine.Engine [cached since 0.1143s ago] (75, '馬祖', '連江縣', '細懸浮微粒', 'PM2.5', 'PM2.5', '2022-01-06', 18.0)\n",
      "2022-01-07 15:58:04,770 INFO sqlalchemy.engine.Engine INSERT INTO \"每日25\" (siteid, sitename, county, itemname, itemengname, itemunit, monitordate, concentration) VALUES (?, ?, ?, ?, ?, ?, ?, ?)\n",
      "2022-01-07 15:58:04,771 INFO sqlalchemy.engine.Engine [cached since 0.1158s ago] (77, '金門', '金門縣', '細懸浮微粒', 'PM2.5', 'PM2.5', '2022-01-06', 29.0)\n",
      "2022-01-07 15:58:04,772 INFO sqlalchemy.engine.Engine INSERT INTO \"每日25\" (siteid, sitename, county, itemname, itemengname, itemunit, monitordate, concentration) VALUES (?, ?, ?, ?, ?, ?, ?, ?)\n",
      "2022-01-07 15:58:04,772 INFO sqlalchemy.engine.Engine [cached since 0.1172s ago] (78, '馬公', '澎湖縣', '細懸浮微粒', 'PM2.5', 'PM2.5', '2022-01-06', 12.0)\n"
     ]
    },
    {
     "name": "stdout",
     "output_type": "stream",
     "text": [
      "2022-01-07 15:58:04,773 INFO sqlalchemy.engine.Engine INSERT INTO \"每日25\" (siteid, sitename, county, itemname, itemengname, itemunit, monitordate, concentration) VALUES (?, ?, ?, ?, ?, ?, ?, ?)\n",
      "2022-01-07 15:58:04,773 INFO sqlalchemy.engine.Engine [cached since 0.1185s ago] (80, '關山', '臺東縣', '細懸浮微粒', 'PM2.5', 'PM2.5', '2022-01-06', 4.0)\n",
      "2022-01-07 15:58:04,774 INFO sqlalchemy.engine.Engine INSERT INTO \"每日25\" (siteid, sitename, county, itemname, itemengname, itemunit, monitordate, concentration) VALUES (?, ?, ?, ?, ?, ?, ?, ?)\n",
      "2022-01-07 15:58:04,775 INFO sqlalchemy.engine.Engine [cached since 0.1197s ago] (83, '麥寮', '雲林縣', '細懸浮微粒', 'PM2.5', 'PM2.5', '2022-01-06', 14.0)\n",
      "2022-01-07 15:58:04,776 INFO sqlalchemy.engine.Engine INSERT INTO \"每日25\" (siteid, sitename, county, itemname, itemengname, itemunit, monitordate, concentration) VALUES (?, ?, ?, ?, ?, ?, ?, ?)\n",
      "2022-01-07 15:58:04,776 INFO sqlalchemy.engine.Engine [cached since 0.1213s ago] (84, '富貴角', '新北市', '細懸浮微粒', 'PM2.5', 'PM2.5', '2022-01-06', 12.0)\n",
      "2022-01-07 15:58:04,777 INFO sqlalchemy.engine.Engine INSERT INTO \"每日25\" (siteid, sitename, county, itemname, itemengname, itemunit, monitordate, concentration) VALUES (?, ?, ?, ?, ?, ?, ?, ?)\n",
      "2022-01-07 15:58:04,777 INFO sqlalchemy.engine.Engine [cached since 0.1226s ago] (85, '大城', '彰化縣', '細懸浮微粒', 'PM2.5', 'PM2.5', '2022-01-06', 14.0)\n",
      "2022-01-07 15:58:04,779 INFO sqlalchemy.engine.Engine COMMIT\n"
     ]
    }
   ],
   "source": [
    "from datetime import datetime\n",
    "\n",
    "for item in jsonData:\n",
    "    dateString=item['MonitorDate']\n",
    "    datetime1=datetime.strptime(dateString,'%Y-%m-%d %H:%M:%S')\n",
    "    \n",
    "    pm25 = PM25(siteid=int(item['SiteId']),\n",
    "              sitename=item['SiteName'],\n",
    "              county= item['County'],\n",
    "              itemname=item['ItemName'],\n",
    "              itemengname=item['ItemEngName'],\n",
    "              itemunit=item['ItemEngName'],\n",
    "              monitordate=datetime1.date(),\n",
    "              concentration=int(item['Concentration'])\n",
    "             )\n",
    "    session.add(pm25)\n",
    "session.commit()"
   ]
  },
  {
   "cell_type": "code",
   "execution_count": 16,
   "id": "bbce254e",
   "metadata": {},
   "outputs": [
    {
     "name": "stdout",
     "output_type": "stream",
     "text": [
      "2022-01-07 17:03:54,198 INFO sqlalchemy.engine.Engine SELECT \"每日25\".id AS \"每日25_id\", \"每日25\".siteid AS \"每日25_siteid\", \"每日25\".sitename AS \"每日25_sitename\", \"每日25\".county AS \"每日25_county\", \"每日25\".itemname AS \"每日25_itemname\", \"每日25\".itemengname AS \"每日25_itemengname\", \"每日25\".itemunit AS \"每日25_itemunit\", \"每日25\".monitordate AS \"每日25_monitordate\", \"每日25\".concentration AS \"每日25_concentration\" \n",
      "FROM \"每日25\" \n",
      "WHERE \"每日25\".sitename = ?\n",
      " LIMIT ? OFFSET ?\n",
      "2022-01-07 17:03:54,199 INFO sqlalchemy.engine.Engine [cached since 54.95s ago] ('永和', 1, 0)\n"
     ]
    },
    {
     "data": {
      "text/plain": [
       "<PM25(sitename='永和', county='新北市', monitordate='2022-01-06', concentration='11.000000')>"
      ]
     },
     "execution_count": 16,
     "metadata": {},
     "output_type": "execute_result"
    }
   ],
   "source": [
    "pm25_1 = session.query(PM25).filter_by(sitename='永和').first()\n",
    "pm25_1"
   ]
  },
  {
   "cell_type": "code",
   "execution_count": 24,
   "id": "31e9a504",
   "metadata": {},
   "outputs": [
    {
     "name": "stdout",
     "output_type": "stream",
     "text": [
      "2022-01-07 17:09:57,186 INFO sqlalchemy.engine.Engine SELECT \"每日25\".id AS \"每日25_id\", \"每日25\".siteid AS \"每日25_siteid\", \"每日25\".sitename AS \"每日25_sitename\", \"每日25\".county AS \"每日25_county\", \"每日25\".itemname AS \"每日25_itemname\", \"每日25\".itemengname AS \"每日25_itemengname\", \"每日25\".itemunit AS \"每日25_itemunit\", \"每日25\".monitordate AS \"每日25_monitordate\", \"每日25\".concentration AS \"每日25_concentration\" \n",
      "FROM \"每日25\" \n",
      "WHERE \"每日25\".county = ?\n",
      "2022-01-07 17:09:57,187 INFO sqlalchemy.engine.Engine [cached since 128.2s ago] ('桃園市',)\n",
      "<PM25(sitename='桃園', county='桃園市', monitordate='2022-01-06', concentration='12.000000')>\n",
      "<PM25(sitename='大園', county='桃園市', monitordate='2022-01-06', concentration='11.000000')>\n",
      "<PM25(sitename='觀音', county='桃園市', monitordate='2022-01-06', concentration='12.000000')>\n",
      "<PM25(sitename='平鎮', county='桃園市', monitordate='2022-01-06', concentration='13.000000')>\n",
      "<PM25(sitename='龍潭', county='桃園市', monitordate='2022-01-06', concentration='10.000000')>\n",
      "<PM25(sitename='中壢', county='桃園市', monitordate='2022-01-06', concentration='12.000000')>\n"
     ]
    }
   ],
   "source": [
    "pm25list = session.query(PM25).filter_by(county='桃園市')\n",
    "for item in pm25list:\n",
    "    print(item)"
   ]
  },
  {
   "cell_type": "code",
   "execution_count": null,
   "id": "c0ca89a5",
   "metadata": {},
   "outputs": [],
   "source": []
  }
 ],
 "metadata": {
  "kernelspec": {
   "display_name": "Python 3 (ipykernel)",
   "language": "python",
   "name": "python3"
  },
  "language_info": {
   "codemirror_mode": {
    "name": "ipython",
    "version": 3
   },
   "file_extension": ".py",
   "mimetype": "text/x-python",
   "name": "python",
   "nbconvert_exporter": "python",
   "pygments_lexer": "ipython3",
   "version": "3.9.9"
  }
 },
 "nbformat": 4,
 "nbformat_minor": 5
}
