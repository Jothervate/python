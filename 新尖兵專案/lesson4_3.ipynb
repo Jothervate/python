{
 "cells": [
  {
   "cell_type": "code",
   "execution_count": null,
   "id": "c982f0e1",
   "metadata": {},
   "outputs": [],
   "source": [
    "import requests\n",
    "\n",
    "url = 'https://data.epa.gov.tw/api/v1/aqx_p_322?offset=1&limit=1000&api_key=84a024b0-1d85-460c-b330-d96b9ea12cb9'\n",
    "response=requests.get(url)\n",
    "if response.status_code == 200:\n",
    "    print(\"下載成功\")\n",
    "    alljson = response.json()"
   ]
  },
  {
   "cell_type": "code",
   "execution_count": null,
   "id": "fa5702a6",
   "metadata": {},
   "outputs": [],
   "source": [
    "jsonData = alljson['records']\n",
    "for item in jsonData:\n",
    "    print(item)\n",
    "    print(\"===============\")"
   ]
  },
  {
   "cell_type": "code",
   "execution_count": null,
   "id": "8b648c8b",
   "metadata": {},
   "outputs": [],
   "source": []
  }
 ],
 "metadata": {
  "kernelspec": {
   "display_name": "Python 3 (ipykernel)",
   "language": "python",
   "name": "python3"
  },
  "language_info": {
   "codemirror_mode": {
    "name": "ipython",
    "version": 3
   },
   "file_extension": ".py",
   "mimetype": "text/x-python",
   "name": "python",
   "nbconvert_exporter": "python",
   "pygments_lexer": "ipython3",
   "version": "3.9.9"
  }
 },
 "nbformat": 4,
 "nbformat_minor": 5
}
