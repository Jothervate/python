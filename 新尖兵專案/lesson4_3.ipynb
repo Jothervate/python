{
 "cells": [
  {
   "cell_type": "code",
   "execution_count": null,
   "id": "cd7d1f9d",
   "metadata": {},
   "outputs": [],
   "source": [
    "import requests\n",
    "\n",
    "url = 'https://data.epa.gov.tw/api/v1/aqx_p_322?offset=1&limit=1000&api_key=84a024b0-1d85-460c-b330-d96b9ea12cb9'\n",
    "response=requests.get(url)\n",
    "if response.status_code == 200:\n",
    "    print(\"下載成功\")\n",
    "    alljson = response.json()"
   ]
  },
  {
   "cell_type": "code",
   "execution_count": null,
   "id": "5d8f57be",
   "metadata": {},
   "outputs": [],
   "source": [
    "jsonData = alljson['records']\n",
    "for item in jsonData:\n",
    "    print(item)\n",
    "    print(\"===============\")"
   ]
  },
  {
   "cell_type": "code",
   "execution_count": 8,
   "id": "b695d359",
   "metadata": {},
   "outputs": [
    {
     "data": {
      "text/plain": [
       "'1.4.29'"
      ]
     },
     "execution_count": 8,
     "metadata": {},
     "output_type": "execute_result"
    }
   ],
   "source": [
    "import sqlalchemy\n",
    "sqlalchemy.__version__"
   ]
  },
  {
   "cell_type": "code",
   "execution_count": 11,
   "id": "d9efe78d",
   "metadata": {},
   "outputs": [],
   "source": [
    "#connect 連線不同資料庫\n",
    "from sqlalchemy import create_engine\n",
    "engine = create_engine('sqlite:///pm25.db',echo=True)"
   ]
  },
  {
   "cell_type": "code",
   "execution_count": 16,
   "id": "ec773f32",
   "metadata": {},
   "outputs": [],
   "source": [
    "#自訂一個類別，這個類別對應到我們的資料庫的資料表\n",
    "from sqlalchemy.orm import declarative_base\n",
    "from sqlalchemy import Column, Integer, String,Float,Date\n",
    "\n",
    "\n",
    "Base = declarative_base()\n",
    "\n",
    "class PM25(Base):\n",
    "    __tablename__ = '每日25'\n",
    "    siteid = Column(Integer,primary_key=True)\n",
    "    sitename = Column(String(10),nullable=False)\n",
    "    county = Column(String(10))\n",
    "    itemname = Column(String(20))\n",
    "    itemengname = Column(String(10))\n",
    "    itemunit = Column(String(10))\n",
    "    monitordate = Column(Date)\n",
    "    concentration = Column(Float)"
   ]
  },
  {
   "cell_type": "code",
   "execution_count": 17,
   "id": "e0bf5cd6",
   "metadata": {},
   "outputs": [
    {
     "data": {
      "text/plain": [
       "Table('每日25', MetaData(), Column('siteid', Integer(), table=<每日25>, primary_key=True, nullable=False), Column('sitename', String(length=10), table=<每日25>, nullable=False), Column('county', String(length=10), table=<每日25>), Column('itemname', String(length=20), table=<每日25>), Column('itemengname', String(length=10), table=<每日25>), Column('itemunit', String(length=10), table=<每日25>), Column('monitordate', Date(), table=<每日25>), Column('concentration', Float(), table=<每日25>), schema=None)"
      ]
     },
     "execution_count": 17,
     "metadata": {},
     "output_type": "execute_result"
    }
   ],
   "source": [
    "PM25.__table__"
   ]
  },
  {
   "cell_type": "code",
   "execution_count": 18,
   "id": "1865b208",
   "metadata": {},
   "outputs": [
    {
     "name": "stdout",
     "output_type": "stream",
     "text": [
      "2022-01-07 14:16:25,842 INFO sqlalchemy.engine.Engine BEGIN (implicit)\n",
      "2022-01-07 14:16:25,843 INFO sqlalchemy.engine.Engine PRAGMA main.table_info(\"每日25\")\n",
      "2022-01-07 14:16:25,844 INFO sqlalchemy.engine.Engine [raw sql] ()\n",
      "2022-01-07 14:16:25,875 INFO sqlalchemy.engine.Engine PRAGMA temp.table_info(\"每日25\")\n",
      "2022-01-07 14:16:25,876 INFO sqlalchemy.engine.Engine [raw sql] ()\n",
      "2022-01-07 14:16:25,877 INFO sqlalchemy.engine.Engine \n",
      "CREATE TABLE \"每日25\" (\n",
      "\tsiteid INTEGER NOT NULL, \n",
      "\tsitename VARCHAR(10) NOT NULL, \n",
      "\tcounty VARCHAR(10), \n",
      "\titemname VARCHAR(20), \n",
      "\titemengname VARCHAR(10), \n",
      "\titemunit VARCHAR(10), \n",
      "\tmonitordate DATE, \n",
      "\tconcentration FLOAT, \n",
      "\tPRIMARY KEY (siteid)\n",
      ")\n",
      "\n",
      "\n",
      "2022-01-07 14:16:25,878 INFO sqlalchemy.engine.Engine [no key 0.00084s] ()\n",
      "2022-01-07 14:16:25,881 INFO sqlalchemy.engine.Engine COMMIT\n"
     ]
    }
   ],
   "source": [
    "PM25.metadata.create_all(engine)"
   ]
  }
 ],
 "metadata": {
  "kernelspec": {
   "display_name": "Python 3 (ipykernel)",
   "language": "python",
   "name": "python3"
  },
  "language_info": {
   "codemirror_mode": {
    "name": "ipython",
    "version": 3
   },
   "file_extension": ".py",
   "mimetype": "text/x-python",
   "name": "python",
   "nbconvert_exporter": "python",
   "pygments_lexer": "ipython3",
   "version": "3.9.9"
  }
 },
 "nbformat": 4,
 "nbformat_minor": 5
}
