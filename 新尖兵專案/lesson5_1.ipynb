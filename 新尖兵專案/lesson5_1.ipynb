{
 "cells": [
  {
   "cell_type": "code",
   "execution_count": 12,
   "id": "f1784176",
   "metadata": {},
   "outputs": [
    {
     "name": "stdout",
     "output_type": "stream",
     "text": [
      "呼叫函式\n"
     ]
    }
   ],
   "source": [
    "#定義一個function,沒有參數也沒有傳回值\n",
    "def func_sum():\n",
    "    print(\"呼叫函式\")\n",
    "    return\n",
    "\n",
    "func_sum()"
   ]
  },
  {
   "cell_type": "code",
   "execution_count": 2,
   "id": "aaf03a5e",
   "metadata": {},
   "outputs": [],
   "source": [
    "def do_nothing():\n",
    "    pass\n",
    "\n",
    "do_nothing()"
   ]
  },
  {
   "cell_type": "code",
   "execution_count": 3,
   "id": "8a0a0b4c",
   "metadata": {},
   "outputs": [
    {
     "name": "stdout",
     "output_type": "stream",
     "text": [
      "quack\n"
     ]
    }
   ],
   "source": [
    "def make_a_sound():\n",
    "    print('quack')\n",
    "make_a_sound()"
   ]
  },
  {
   "cell_type": "code",
   "execution_count": 13,
   "id": "e613ea9b",
   "metadata": {},
   "outputs": [
    {
     "name": "stdout",
     "output_type": "stream",
     "text": [
      "9\n"
     ]
    }
   ],
   "source": [
    "#有參數,沒有傳出值\n",
    "def func_sum(a,b):\n",
    "    c = a+b    \n",
    "    print(c)\n",
    "    \n",
    "func_sum(4,5)"
   ]
  },
  {
   "cell_type": "code",
   "execution_count": 18,
   "id": "3b992443",
   "metadata": {},
   "outputs": [
    {
     "data": {
      "text/plain": [
       "9"
      ]
     },
     "execution_count": 18,
     "metadata": {},
     "output_type": "execute_result"
    }
   ],
   "source": [
    "#使用引數位置呼叫\n",
    "def func_sum(a,b):\n",
    "    c = a+b\n",
    "    return c\n",
    "d = func_sum(4,5)\n",
    "d"
   ]
  },
  {
   "cell_type": "code",
   "execution_count": 19,
   "id": "9c780933",
   "metadata": {},
   "outputs": [
    {
     "data": {
      "text/plain": [
       "15"
      ]
     },
     "execution_count": 19,
     "metadata": {},
     "output_type": "execute_result"
    }
   ],
   "source": [
    "#使用引數名稱呼叫\n",
    "d = func_sum(a=5,b=10)\n",
    "d"
   ]
  },
  {
   "cell_type": "code",
   "execution_count": 20,
   "id": "a5a52f85",
   "metadata": {},
   "outputs": [
    {
     "data": {
      "text/plain": [
       "15"
      ]
     },
     "execution_count": 20,
     "metadata": {},
     "output_type": "execute_result"
    }
   ],
   "source": [
    "#使用引數名稱呼叫,可以不依照順序\n",
    "d = func_sum(b=10,a=5)\n",
    "d"
   ]
  },
  {
   "cell_type": "code",
   "execution_count": 22,
   "id": "a10992ae",
   "metadata": {},
   "outputs": [
    {
     "data": {
      "text/plain": [
       "15"
      ]
     },
     "execution_count": 22,
     "metadata": {},
     "output_type": "execute_result"
    }
   ],
   "source": [
    "#引數位置和引數名稱混合呼叫\n",
    "#前面必需引數位置呼叫\n",
    "#後面使用引數名稱,使用引數名稱後,全部都要使用引數名稱呼叫\n",
    "d = func_sum(10,b=5)\n",
    "d"
   ]
  },
  {
   "cell_type": "code",
   "execution_count": 24,
   "id": "48550e6a",
   "metadata": {},
   "outputs": [
    {
     "name": "stdout",
     "output_type": "stream",
     "text": [
      "1 8 15\n"
     ]
    }
   ],
   "source": [
    "#function 傳出多個值\n",
    "def manyvalue(a, b):\n",
    "    c = a*b\n",
    "    return (a-2, b+3, c)\n",
    "\n",
    "x, y, z = manyvalue(3,5)\n",
    "print(x,y,z)"
   ]
  },
  {
   "cell_type": "code",
   "execution_count": 28,
   "id": "1f60fb43",
   "metadata": {},
   "outputs": [
    {
     "name": "stdout",
     "output_type": "stream",
     "text": [
      "4334922640\n",
      "4334922640\n",
      "4334922960\n"
     ]
    },
    {
     "data": {
      "text/plain": [
       "30"
      ]
     },
     "execution_count": 28,
     "metadata": {},
     "output_type": "execute_result"
    }
   ],
   "source": [
    "#call by value\n",
    "def turbo(speed):\n",
    "    print(id(speed))\n",
    "    speed += 10\n",
    "    print(id(speed))\n",
    "    return speed\n",
    "\n",
    "speed = 20\n",
    "print(id(speed))\n",
    "speed=turbo(speed)\n",
    "speed"
   ]
  },
  {
   "cell_type": "code",
   "execution_count": 29,
   "id": "b2c701bc",
   "metadata": {},
   "outputs": [
    {
     "data": {
      "text/plain": [
       "10"
      ]
     },
     "execution_count": 29,
     "metadata": {},
     "output_type": "execute_result"
    }
   ],
   "source": [
    "#call by reference\n",
    "def turbo(listSpeed):\n",
    "    listSpeed[0] += 10\n",
    "\n",
    "listS = [0]\n",
    "turbo(listS)\n",
    "listS[0]"
   ]
  },
  {
   "cell_type": "code",
   "execution_count": 31,
   "id": "a27fba09",
   "metadata": {},
   "outputs": [
    {
     "name": "stdout",
     "output_type": "stream",
     "text": [
      "文件的 5\n",
      "function內的a: 10\n"
     ]
    }
   ],
   "source": [
    "#變數影響的範圍\n",
    "a = 5\n",
    "def func_sum():\n",
    "    a = 10\n",
    "    print(\"function內的a:\",a)\n",
    "    \n",
    "print(\"文件的\",a)\n",
    "func_sum()"
   ]
  },
  {
   "cell_type": "code",
   "execution_count": 32,
   "id": "f8d999e1",
   "metadata": {},
   "outputs": [
    {
     "name": "stdout",
     "output_type": "stream",
     "text": [
      "文件的 5\n",
      "function內的a: 5\n"
     ]
    }
   ],
   "source": [
    "#變數影響的範圍\n",
    "a = 5\n",
    "def func_sum():\n",
    "    #a = 10\n",
    "    print(\"function內的a:\",a)\n",
    "    \n",
    "print(\"文件的\",a)\n",
    "func_sum()"
   ]
  },
  {
   "cell_type": "code",
   "execution_count": 36,
   "id": "ee2b2dd1",
   "metadata": {},
   "outputs": [
    {
     "name": "stdout",
     "output_type": "stream",
     "text": [
      "function內的a: 100\n",
      "文件的 100\n"
     ]
    }
   ],
   "source": [
    "#變數影響的範圍\n",
    "a = 5\n",
    "def func_sum():\n",
    "    #改變外部的a\n",
    "    global a\n",
    "    a = 100\n",
    "    print(\"function內的a:\",a)\n",
    "    \n",
    "\n",
    "func_sum()\n",
    "print(\"文件的\",a)"
   ]
  },
  {
   "cell_type": "code",
   "execution_count": 44,
   "id": "a3312670",
   "metadata": {},
   "outputs": [
    {
     "name": "stdout",
     "output_type": "stream",
     "text": [
      "沒有東西\n"
     ]
    }
   ],
   "source": [
    "#None的使用\n",
    "#None代表false\n",
    "#thing = \"\"\n",
    "#thing = []\n",
    "#thing ={}\n",
    "thing = set()\n",
    "if thing:\n",
    "    print(\"有東西\")\n",
    "else:\n",
    "    print(\"沒有東西\")\n"
   ]
  },
  {
   "cell_type": "code",
   "execution_count": 46,
   "id": "8d06b5a0",
   "metadata": {},
   "outputs": [
    {
     "name": "stdout",
     "output_type": "stream",
     "text": [
      "是None\n"
     ]
    }
   ],
   "source": [
    "thing = None\n",
    "if thing is None:\n",
    "    print(\"是None\")"
   ]
  },
  {
   "cell_type": "code",
   "execution_count": 49,
   "id": "b0c52cee",
   "metadata": {},
   "outputs": [
    {
     "name": "stdout",
     "output_type": "stream",
     "text": [
      "不是None\n"
     ]
    }
   ],
   "source": [
    "thing = \"\"\n",
    "if thing is not None:\n",
    "    print(\"不是None\")\n",
    "else:\n",
    "    print(\"是None\")"
   ]
  },
  {
   "cell_type": "code",
   "execution_count": 50,
   "id": "fa708adc",
   "metadata": {},
   "outputs": [
    {
     "data": {
      "text/plain": [
       "[1, 2, 3, 4, 5]"
      ]
     },
     "execution_count": 50,
     "metadata": {},
     "output_type": "execute_result"
    }
   ],
   "source": [
    "#建立list\n",
    "number_list = []\n",
    "for number in range(1,6):\n",
    "    number_list.append(number)\n",
    "number_list"
   ]
  },
  {
   "cell_type": "code",
   "execution_count": 52,
   "id": "d57e71a2",
   "metadata": {},
   "outputs": [
    {
     "data": {
      "text/plain": [
       "[2, 4, 6, 8, 10, 12, 14, 16, 18]"
      ]
     },
     "execution_count": 52,
     "metadata": {},
     "output_type": "execute_result"
    }
   ],
   "source": [
    "# list comprehension->快速建立list\n",
    "number_list = [number*2 for number in range(1,10)]\n",
    "number_list"
   ]
  },
  {
   "cell_type": "code",
   "execution_count": 54,
   "id": "988f06fb",
   "metadata": {},
   "outputs": [
    {
     "data": {
      "text/plain": [
       "[2, 4, 6, 8]"
      ]
     },
     "execution_count": 54,
     "metadata": {},
     "output_type": "execute_result"
    }
   ],
   "source": [
    "number_list = [number for number in range(1,10) if number % 2 == 0]\n",
    "number_list"
   ]
  },
  {
   "cell_type": "code",
   "execution_count": 55,
   "id": "79133f89",
   "metadata": {},
   "outputs": [
    {
     "data": {
      "text/plain": [
       "{'l': 1, 'e': 2, 't': 2, 'r': 1, 's': 1}"
      ]
     },
     "execution_count": 55,
     "metadata": {},
     "output_type": "execute_result"
    }
   ],
   "source": [
    "#dictionary comprehension\n",
    "word = 'letters'\n",
    "letter_counts = {letter:word.count(letter) for letter in word}\n",
    "letter_counts"
   ]
  },
  {
   "cell_type": "code",
   "execution_count": 56,
   "id": "0c3bcde0",
   "metadata": {},
   "outputs": [
    {
     "data": {
      "text/plain": [
       "{1, 4}"
      ]
     },
     "execution_count": 56,
     "metadata": {},
     "output_type": "execute_result"
    }
   ],
   "source": [
    "#set comprehension\n",
    "a_set = {number for number in range(1,6) if number % 3 == 1}\n",
    "a_set"
   ]
  },
  {
   "cell_type": "code",
   "execution_count": 57,
   "id": "bdcb54d4",
   "metadata": {},
   "outputs": [
    {
     "data": {
      "text/plain": [
       "generator"
      ]
     },
     "execution_count": 57,
     "metadata": {},
     "output_type": "execute_result"
    }
   ],
   "source": [
    "#generator\n",
    "number_thing = (number for number in range(1,6))\n",
    "type(number_thing)"
   ]
  },
  {
   "cell_type": "code",
   "execution_count": 58,
   "id": "fe468c41",
   "metadata": {},
   "outputs": [
    {
     "name": "stdout",
     "output_type": "stream",
     "text": [
      "1\n",
      "2\n",
      "3\n",
      "4\n",
      "5\n"
     ]
    }
   ],
   "source": [
    "for i in number_thing:\n",
    "    print(i)"
   ]
  },
  {
   "cell_type": "code",
   "execution_count": 60,
   "id": "a87ea723",
   "metadata": {},
   "outputs": [],
   "source": [
    "for i in number_thing:\n",
    "    print(i)"
   ]
  },
  {
   "cell_type": "code",
   "execution_count": 61,
   "id": "eb4e0bfe",
   "metadata": {},
   "outputs": [
    {
     "name": "stdout",
     "output_type": "stream",
     "text": [
      "1\n",
      "2\n",
      "3\n",
      "4\n",
      "5\n"
     ]
    }
   ],
   "source": [
    "for i in range(1,6):\n",
    "    print(i)"
   ]
  },
  {
   "cell_type": "code",
   "execution_count": 62,
   "id": "33ee8b88",
   "metadata": {},
   "outputs": [
    {
     "name": "stdout",
     "output_type": "stream",
     "text": [
      "1\n",
      "2\n",
      "3\n",
      "4\n",
      "5\n"
     ]
    }
   ],
   "source": [
    "my_range = range(1,6)\n",
    "for i in my_range:\n",
    "    print(i)"
   ]
  },
  {
   "cell_type": "code",
   "execution_count": 63,
   "id": "b2e8ffe4",
   "metadata": {},
   "outputs": [
    {
     "name": "stdout",
     "output_type": "stream",
     "text": [
      "1\n",
      "2\n",
      "3\n",
      "4\n",
      "5\n"
     ]
    }
   ],
   "source": [
    "for i in my_range:\n",
    "    print(i)"
   ]
  },
  {
   "cell_type": "code",
   "execution_count": 66,
   "id": "9c95236d",
   "metadata": {},
   "outputs": [],
   "source": [
    "def my_ranges(first=0, last=0, step=1):\n",
    "    number = first\n",
    "    while number < last:\n",
    "        yield number\n",
    "        number += step\n",
    "ranger=my_ranges(1,20,3)"
   ]
  },
  {
   "cell_type": "code",
   "execution_count": 67,
   "id": "8b55374d",
   "metadata": {},
   "outputs": [
    {
     "name": "stdout",
     "output_type": "stream",
     "text": [
      "1\n",
      "4\n",
      "7\n",
      "10\n",
      "13\n",
      "16\n",
      "19\n"
     ]
    }
   ],
   "source": [
    "for i in ranger:\n",
    "    print(i)"
   ]
  },
  {
   "cell_type": "code",
   "execution_count": 68,
   "id": "b3e2598e",
   "metadata": {},
   "outputs": [],
   "source": [
    "for i in ranger:\n",
    "    print(i)"
   ]
  },
  {
   "cell_type": "code",
   "execution_count": 69,
   "id": "bdb1a3b5",
   "metadata": {},
   "outputs": [
    {
     "name": "stdout",
     "output_type": "stream",
     "text": [
      "要執行的新function: add_ints\n"
     ]
    }
   ],
   "source": [
    "#建立一個decorator\n",
    "\n",
    "def document_it(func):\n",
    "    def new_function():\n",
    "        print('要執行的新function:', func.__name__)\n",
    "    return new_function   \n",
    "\n",
    "def add_ints(a, b):\n",
    "    return a + b\n",
    "\n",
    "newFunction=document_it(add_ints)\n",
    "newFunction()"
   ]
  },
  {
   "cell_type": "code",
   "execution_count": 76,
   "id": "eaec1082",
   "metadata": {},
   "outputs": [
    {
     "ename": "TypeError",
     "evalue": "new_function() takes 0 positional arguments but 1 was given",
     "output_type": "error",
     "traceback": [
      "\u001b[0;31m---------------------------------------------------------------------------\u001b[0m",
      "\u001b[0;31mTypeError\u001b[0m                                 Traceback (most recent call last)",
      "\u001b[0;32m/var/folders/by/68nnsq553f59kbs1v470m4k40000gp/T/ipykernel_951/3854806972.py\u001b[0m in \u001b[0;36m<module>\u001b[0;34m\u001b[0m\n\u001b[1;32m      1\u001b[0m \u001b[0;34m@\u001b[0m\u001b[0mdocument_it\u001b[0m\u001b[0;34m(\u001b[0m\u001b[0;34m'/'\u001b[0m\u001b[0;34m)\u001b[0m\u001b[0;34m\u001b[0m\u001b[0;34m\u001b[0m\u001b[0m\n\u001b[0;32m----> 2\u001b[0;31m \u001b[0;32mdef\u001b[0m \u001b[0madd_ints\u001b[0m\u001b[0;34m(\u001b[0m\u001b[0ma\u001b[0m\u001b[0;34m,\u001b[0m\u001b[0mb\u001b[0m\u001b[0;34m)\u001b[0m\u001b[0;34m:\u001b[0m\u001b[0;34m\u001b[0m\u001b[0;34m\u001b[0m\u001b[0m\n\u001b[0m\u001b[1;32m      3\u001b[0m     \u001b[0;32mreturn\u001b[0m \u001b[0ma\u001b[0m\u001b[0;34m+\u001b[0m\u001b[0mb\u001b[0m\u001b[0;34m\u001b[0m\u001b[0;34m\u001b[0m\u001b[0m\n",
      "\u001b[0;31mTypeError\u001b[0m: new_function() takes 0 positional arguments but 1 was given"
     ]
    }
   ],
   "source": [
    "@document_it()\n",
    "def add_ints(a,b):\n",
    "    return a+b\n"
   ]
  },
  {
   "cell_type": "code",
   "execution_count": null,
   "id": "90f525cc",
   "metadata": {},
   "outputs": [],
   "source": []
  }
 ],
 "metadata": {
  "kernelspec": {
   "display_name": "Python 3 (ipykernel)",
   "language": "python",
   "name": "python3"
  },
  "language_info": {
   "codemirror_mode": {
    "name": "ipython",
    "version": 3
   },
   "file_extension": ".py",
   "mimetype": "text/x-python",
   "name": "python",
   "nbconvert_exporter": "python",
   "pygments_lexer": "ipython3",
   "version": "3.9.9"
  }
 },
 "nbformat": 4,
 "nbformat_minor": 5
}
