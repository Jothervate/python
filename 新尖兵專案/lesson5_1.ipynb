{
 "cells": [
  {
   "cell_type": "code",
   "execution_count": 12,
   "id": "298c0490",
   "metadata": {},
   "outputs": [
    {
     "name": "stdout",
     "output_type": "stream",
     "text": [
      "呼叫函式\n"
     ]
    }
   ],
   "source": [
    "#定義一個function,沒有參數也沒有傳回值\n",
    "def func_sum():\n",
    "    print(\"呼叫函式\")\n",
    "    return\n",
    "\n",
    "func_sum()"
   ]
  },
  {
   "cell_type": "code",
   "execution_count": 2,
   "id": "2950852d",
   "metadata": {},
   "outputs": [],
   "source": [
    "def do_nothing():\n",
    "    pass\n",
    "\n",
    "do_nothing()"
   ]
  },
  {
   "cell_type": "code",
   "execution_count": 3,
   "id": "d118202e",
   "metadata": {},
   "outputs": [
    {
     "name": "stdout",
     "output_type": "stream",
     "text": [
      "quack\n"
     ]
    }
   ],
   "source": [
    "def make_a_sound():\n",
    "    print('quack')\n",
    "make_a_sound()"
   ]
  },
  {
   "cell_type": "code",
   "execution_count": 13,
   "id": "6a8a5c11",
   "metadata": {},
   "outputs": [
    {
     "name": "stdout",
     "output_type": "stream",
     "text": [
      "9\n"
     ]
    }
   ],
   "source": [
    "#有參數,沒有傳出值\n",
    "def func_sum(a,b):\n",
    "    c = a+b    \n",
    "    print(c)\n",
    "    \n",
    "func_sum(4,5)"
   ]
  },
  {
   "cell_type": "code",
   "execution_count": 18,
   "id": "aff4265a",
   "metadata": {},
   "outputs": [
    {
     "data": {
      "text/plain": [
       "9"
      ]
     },
     "execution_count": 18,
     "metadata": {},
     "output_type": "execute_result"
    }
   ],
   "source": [
    "#使用引數位置呼叫\n",
    "def func_sum(a,b):\n",
    "    c = a+b\n",
    "    return c\n",
    "d = func_sum(4,5)\n",
    "d"
   ]
  },
  {
   "cell_type": "code",
   "execution_count": 19,
   "id": "ab7dd766",
   "metadata": {},
   "outputs": [
    {
     "data": {
      "text/plain": [
       "15"
      ]
     },
     "execution_count": 19,
     "metadata": {},
     "output_type": "execute_result"
    }
   ],
   "source": [
    "#使用引數名稱呼叫\n",
    "d = func_sum(a=5,b=10)\n",
    "d"
   ]
  },
  {
   "cell_type": "code",
   "execution_count": 20,
   "id": "95b05bef",
   "metadata": {},
   "outputs": [
    {
     "data": {
      "text/plain": [
       "15"
      ]
     },
     "execution_count": 20,
     "metadata": {},
     "output_type": "execute_result"
    }
   ],
   "source": [
    "#使用引數名稱呼叫,可以不依照順序\n",
    "d = func_sum(b=10,a=5)\n",
    "d"
   ]
  },
  {
   "cell_type": "code",
   "execution_count": 22,
   "id": "412bf4b9",
   "metadata": {},
   "outputs": [
    {
     "data": {
      "text/plain": [
       "15"
      ]
     },
     "execution_count": 22,
     "metadata": {},
     "output_type": "execute_result"
    }
   ],
   "source": [
    "#引數位置和引數名稱混合呼叫\n",
    "#前面必需引數位置呼叫\n",
    "#後面使用引數名稱,使用引數名稱後,全部都要使用引數名稱呼叫\n",
    "d = func_sum(10,b=5)\n",
    "d"
   ]
  },
  {
   "cell_type": "code",
   "execution_count": 24,
   "id": "518c5c40",
   "metadata": {},
   "outputs": [
    {
     "name": "stdout",
     "output_type": "stream",
     "text": [
      "1 8 15\n"
     ]
    }
   ],
   "source": [
    "#function 傳出多個值\n",
    "def manyvalue(a, b):\n",
    "    c = a*b\n",
    "    return (a-2, b+3, c)\n",
    "\n",
    "x, y, z = manyvalue(3,5)\n",
    "print(x,y,z)"
   ]
  },
  {
   "cell_type": "code",
   "execution_count": 28,
   "id": "7d623185",
   "metadata": {},
   "outputs": [
    {
     "name": "stdout",
     "output_type": "stream",
     "text": [
      "4334922640\n",
      "4334922640\n",
      "4334922960\n"
     ]
    },
    {
     "data": {
      "text/plain": [
       "30"
      ]
     },
     "execution_count": 28,
     "metadata": {},
     "output_type": "execute_result"
    }
   ],
   "source": [
    "#call by value\n",
    "def turbo(speed):\n",
    "    print(id(speed))\n",
    "    speed += 10\n",
    "    print(id(speed))\n",
    "    return speed\n",
    "\n",
    "speed = 20\n",
    "print(id(speed))\n",
    "speed=turbo(speed)\n",
    "speed"
   ]
  },
  {
   "cell_type": "code",
   "execution_count": 29,
   "id": "7edb433e",
   "metadata": {},
   "outputs": [
    {
     "data": {
      "text/plain": [
       "10"
      ]
     },
     "execution_count": 29,
     "metadata": {},
     "output_type": "execute_result"
    }
   ],
   "source": [
    "#call by reference\n",
    "def turbo(listSpeed):\n",
    "    listSpeed[0] += 10\n",
    "\n",
    "listS = [0]\n",
    "turbo(listS)\n",
    "listS[0]"
   ]
  },
  {
   "cell_type": "code",
   "execution_count": 31,
   "id": "7cd2c548",
   "metadata": {},
   "outputs": [
    {
     "name": "stdout",
     "output_type": "stream",
     "text": [
      "文件的 5\n",
      "function內的a: 10\n"
     ]
    }
   ],
   "source": [
    "#變數影響的範圍\n",
    "a = 5\n",
    "def func_sum():\n",
    "    a = 10\n",
    "    print(\"function內的a:\",a)\n",
    "    \n",
    "print(\"文件的\",a)\n",
    "func_sum()"
   ]
  },
  {
   "cell_type": "code",
   "execution_count": 32,
   "id": "6f334a49",
   "metadata": {},
   "outputs": [
    {
     "name": "stdout",
     "output_type": "stream",
     "text": [
      "文件的 5\n",
      "function內的a: 5\n"
     ]
    }
   ],
   "source": [
    "#變數影響的範圍\n",
    "a = 5\n",
    "def func_sum():\n",
    "    #a = 10\n",
    "    print(\"function內的a:\",a)\n",
    "    \n",
    "print(\"文件的\",a)\n",
    "func_sum()"
   ]
  },
  {
   "cell_type": "code",
   "execution_count": 36,
   "id": "08ebdc71",
   "metadata": {},
   "outputs": [
    {
     "name": "stdout",
     "output_type": "stream",
     "text": [
      "function內的a: 100\n",
      "文件的 100\n"
     ]
    }
   ],
   "source": [
    "#變數影響的範圍\n",
    "a = 5\n",
    "def func_sum():\n",
    "    #改變外部的a\n",
    "    global a\n",
    "    a = 100\n",
    "    print(\"function內的a:\",a)\n",
    "    \n",
    "\n",
    "func_sum()\n",
    "print(\"文件的\",a)"
   ]
  },
  {
   "cell_type": "code",
   "execution_count": 44,
   "id": "d1c2403a",
   "metadata": {},
   "outputs": [
    {
     "name": "stdout",
     "output_type": "stream",
     "text": [
      "沒有東西\n"
     ]
    }
   ],
   "source": [
    "#None的使用\n",
    "#None代表false\n",
    "#thing = \"\"\n",
    "#thing = []\n",
    "#thing ={}\n",
    "thing = set()\n",
    "if thing:\n",
    "    print(\"有東西\")\n",
    "else:\n",
    "    print(\"沒有東西\")\n"
   ]
  },
  {
   "cell_type": "code",
   "execution_count": 46,
   "id": "0bf5ad87",
   "metadata": {},
   "outputs": [
    {
     "name": "stdout",
     "output_type": "stream",
     "text": [
      "是None\n"
     ]
    }
   ],
   "source": [
    "thing = None\n",
    "if thing is None:\n",
    "    print(\"是None\")"
   ]
  },
  {
   "cell_type": "code",
   "execution_count": 49,
   "id": "b0f30738",
   "metadata": {},
   "outputs": [
    {
     "name": "stdout",
     "output_type": "stream",
     "text": [
      "不是None\n"
     ]
    }
   ],
   "source": [
    "thing = \"\"\n",
    "if thing is not None:\n",
    "    print(\"不是None\")\n",
    "else:\n",
    "    print(\"是None\")"
   ]
  },
  {
   "cell_type": "code",
   "execution_count": 50,
   "id": "afde0bd1",
   "metadata": {},
   "outputs": [
    {
     "data": {
      "text/plain": [
       "[1, 2, 3, 4, 5]"
      ]
     },
     "execution_count": 50,
     "metadata": {},
     "output_type": "execute_result"
    }
   ],
   "source": [
    "#建立list\n",
    "number_list = []\n",
    "for number in range(1,6):\n",
    "    number_list.append(number)\n",
    "number_list"
   ]
  },
  {
   "cell_type": "code",
   "execution_count": 52,
   "id": "38d04c28",
   "metadata": {},
   "outputs": [
    {
     "data": {
      "text/plain": [
       "[2, 4, 6, 8, 10, 12, 14, 16, 18]"
      ]
     },
     "execution_count": 52,
     "metadata": {},
     "output_type": "execute_result"
    }
   ],
   "source": [
    "# list comprehension->快速建立list\n",
    "number_list = [number*2 for number in range(1,10)]\n",
    "number_list"
   ]
  },
  {
   "cell_type": "code",
   "execution_count": 53,
   "id": "2d20efb1",
   "metadata": {},
   "outputs": [
    {
     "data": {
      "text/plain": [
       "[2, 4, 6, 8]"
      ]
     },
     "execution_count": 53,
     "metadata": {},
     "output_type": "execute_result"
    }
   ],
   "source": [
    "number_list = [number for number in range(1,10) if number % 2 == 0]\n",
    "number_list"
   ]
  }
 ],
 "metadata": {
  "kernelspec": {
   "display_name": "Python 3 (ipykernel)",
   "language": "python",
   "name": "python3"
  },
  "language_info": {
   "codemirror_mode": {
    "name": "ipython",
    "version": 3
   },
   "file_extension": ".py",
   "mimetype": "text/x-python",
   "name": "python",
   "nbconvert_exporter": "python",
   "pygments_lexer": "ipython3",
   "version": "3.9.9"
  }
 },
 "nbformat": 4,
 "nbformat_minor": 5
}
