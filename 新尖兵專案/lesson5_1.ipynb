{
 "cells": [
  {
   "cell_type": "code",
   "execution_count": 12,
   "id": "96f454f6",
   "metadata": {},
   "outputs": [
    {
     "name": "stdout",
     "output_type": "stream",
     "text": [
      "呼叫函式\n"
     ]
    }
   ],
   "source": [
    "#定義一個function,沒有參數也沒有傳回值\n",
    "def func_sum():\n",
    "    print(\"呼叫函式\")\n",
    "    return\n",
    "\n",
    "func_sum()"
   ]
  },
  {
   "cell_type": "code",
   "execution_count": 2,
   "id": "d00eb0b3",
   "metadata": {},
   "outputs": [],
   "source": [
    "def do_nothing():\n",
    "    pass\n",
    "\n",
    "do_nothing()"
   ]
  },
  {
   "cell_type": "code",
   "execution_count": 3,
   "id": "5af8eb51",
   "metadata": {},
   "outputs": [
    {
     "name": "stdout",
     "output_type": "stream",
     "text": [
      "quack\n"
     ]
    }
   ],
   "source": [
    "def make_a_sound():\n",
    "    print('quack')\n",
    "make_a_sound()"
   ]
  },
  {
   "cell_type": "code",
   "execution_count": 13,
   "id": "7dae8556",
   "metadata": {},
   "outputs": [
    {
     "name": "stdout",
     "output_type": "stream",
     "text": [
      "9\n"
     ]
    }
   ],
   "source": [
    "#有參數,沒有傳出值\n",
    "def func_sum(a,b):\n",
    "    c = a+b    \n",
    "    print(c)\n",
    "    \n",
    "func_sum(4,5)"
   ]
  },
  {
   "cell_type": "code",
   "execution_count": 18,
   "id": "1a799655",
   "metadata": {},
   "outputs": [
    {
     "data": {
      "text/plain": [
       "9"
      ]
     },
     "execution_count": 18,
     "metadata": {},
     "output_type": "execute_result"
    }
   ],
   "source": [
    "#使用引數位置呼叫\n",
    "def func_sum(a,b):\n",
    "    c = a+b\n",
    "    return c\n",
    "d = func_sum(4,5)\n",
    "d"
   ]
  },
  {
   "cell_type": "code",
   "execution_count": 19,
   "id": "a92bfff8",
   "metadata": {},
   "outputs": [
    {
     "data": {
      "text/plain": [
       "15"
      ]
     },
     "execution_count": 19,
     "metadata": {},
     "output_type": "execute_result"
    }
   ],
   "source": [
    "#使用引數名稱呼叫\n",
    "d = func_sum(a=5,b=10)\n",
    "d"
   ]
  },
  {
   "cell_type": "code",
   "execution_count": 20,
   "id": "a6cda81b",
   "metadata": {},
   "outputs": [
    {
     "data": {
      "text/plain": [
       "15"
      ]
     },
     "execution_count": 20,
     "metadata": {},
     "output_type": "execute_result"
    }
   ],
   "source": [
    "#使用引數名稱呼叫,可以不依照順序\n",
    "d = func_sum(b=10,a=5)\n",
    "d"
   ]
  },
  {
   "cell_type": "code",
   "execution_count": 22,
   "id": "38dc5f99",
   "metadata": {},
   "outputs": [
    {
     "data": {
      "text/plain": [
       "15"
      ]
     },
     "execution_count": 22,
     "metadata": {},
     "output_type": "execute_result"
    }
   ],
   "source": [
    "#引數位置和引數名稱混合呼叫\n",
    "#前面必需引數位置呼叫\n",
    "#後面使用引數名稱,使用引數名稱後,全部都要使用引數名稱呼叫\n",
    "d = func_sum(10,b=5)\n",
    "d"
   ]
  },
  {
   "cell_type": "code",
   "execution_count": 24,
   "id": "6fee5025",
   "metadata": {},
   "outputs": [
    {
     "name": "stdout",
     "output_type": "stream",
     "text": [
      "1 8 15\n"
     ]
    }
   ],
   "source": [
    "#function 傳出多個值\n",
    "def manyvalue(a, b):\n",
    "    c = a*b\n",
    "    return (a-2, b+3, c)\n",
    "\n",
    "x, y, z = manyvalue(3,5)\n",
    "print(x,y,z)"
   ]
  },
  {
   "cell_type": "code",
   "execution_count": 28,
   "id": "234103a8",
   "metadata": {},
   "outputs": [
    {
     "name": "stdout",
     "output_type": "stream",
     "text": [
      "4334922640\n",
      "4334922640\n",
      "4334922960\n"
     ]
    },
    {
     "data": {
      "text/plain": [
       "30"
      ]
     },
     "execution_count": 28,
     "metadata": {},
     "output_type": "execute_result"
    }
   ],
   "source": [
    "#call by value\n",
    "def turbo(speed):\n",
    "    print(id(speed))\n",
    "    speed += 10\n",
    "    print(id(speed))\n",
    "    return speed\n",
    "\n",
    "speed = 20\n",
    "print(id(speed))\n",
    "speed=turbo(speed)\n",
    "speed"
   ]
  },
  {
   "cell_type": "code",
   "execution_count": 29,
   "id": "dac16cf8",
   "metadata": {},
   "outputs": [
    {
     "data": {
      "text/plain": [
       "10"
      ]
     },
     "execution_count": 29,
     "metadata": {},
     "output_type": "execute_result"
    }
   ],
   "source": [
    "#call by reference\n",
    "def turbo(listSpeed):\n",
    "    listSpeed[0] += 10\n",
    "\n",
    "listS = [0]\n",
    "turbo(listS)\n",
    "listS[0]"
   ]
  },
  {
   "cell_type": "code",
   "execution_count": null,
   "id": "b12e40f8",
   "metadata": {},
   "outputs": [],
   "source": []
  }
 ],
 "metadata": {
  "kernelspec": {
   "display_name": "Python 3 (ipykernel)",
   "language": "python",
   "name": "python3"
  },
  "language_info": {
   "codemirror_mode": {
    "name": "ipython",
    "version": 3
   },
   "file_extension": ".py",
   "mimetype": "text/x-python",
   "name": "python",
   "nbconvert_exporter": "python",
   "pygments_lexer": "ipython3",
   "version": "3.9.9"
  }
 },
 "nbformat": 4,
 "nbformat_minor": 5
}
