{
 "cells": [
  {
   "cell_type": "code",
   "execution_count": 1,
   "id": "63982429",
   "metadata": {},
   "outputs": [
    {
     "data": {
      "text/plain": [
       "1642383022.372127"
      ]
     },
     "execution_count": 1,
     "metadata": {},
     "output_type": "execute_result"
    }
   ],
   "source": [
    "import time\n",
    "\n",
    "now = time.time()\n",
    "now"
   ]
  },
  {
   "cell_type": "code",
   "execution_count": 2,
   "id": "e5f0cd0f",
   "metadata": {},
   "outputs": [
    {
     "data": {
      "text/plain": [
       "'Mon Jan 17 09:30:22 2022'"
      ]
     },
     "execution_count": 2,
     "metadata": {},
     "output_type": "execute_result"
    }
   ],
   "source": [
    "time.ctime(now)"
   ]
  },
  {
   "cell_type": "code",
   "execution_count": 5,
   "id": "58f03e6d",
   "metadata": {},
   "outputs": [],
   "source": [
    "localtime_struct=time.localtime(now)"
   ]
  },
  {
   "cell_type": "code",
   "execution_count": 6,
   "id": "2d8f81a1",
   "metadata": {},
   "outputs": [
    {
     "data": {
      "text/plain": [
       "2022"
      ]
     },
     "execution_count": 6,
     "metadata": {},
     "output_type": "execute_result"
    }
   ],
   "source": [
    "localtime_struct.tm_year"
   ]
  },
  {
   "cell_type": "code",
   "execution_count": 7,
   "id": "430eac1a",
   "metadata": {},
   "outputs": [
    {
     "data": {
      "text/plain": [
       "1"
      ]
     },
     "execution_count": 7,
     "metadata": {},
     "output_type": "execute_result"
    }
   ],
   "source": [
    "gmtime_struct=time.gmtime(now)\n",
    "gmtime_struct.tm_hour"
   ]
  },
  {
   "cell_type": "code",
   "execution_count": 8,
   "id": "0e548287",
   "metadata": {},
   "outputs": [
    {
     "data": {
      "text/plain": [
       "time.struct_time(tm_year=2022, tm_mon=1, tm_mday=17, tm_hour=1, tm_min=30, tm_sec=22, tm_wday=0, tm_yday=17, tm_isdst=0)"
      ]
     },
     "execution_count": 8,
     "metadata": {},
     "output_type": "execute_result"
    }
   ],
   "source": [
    "gmtime_struct"
   ]
  },
  {
   "cell_type": "code",
   "execution_count": 10,
   "id": "52b53104",
   "metadata": {},
   "outputs": [
    {
     "data": {
      "text/plain": [
       "time.struct_time(tm_year=2022, tm_mon=1, tm_mday=17, tm_hour=9, tm_min=30, tm_sec=22, tm_wday=0, tm_yday=17, tm_isdst=0)"
      ]
     },
     "execution_count": 10,
     "metadata": {},
     "output_type": "execute_result"
    }
   ],
   "source": [
    "localtime_struct"
   ]
  },
  {
   "cell_type": "code",
   "execution_count": 13,
   "id": "4f9ad3bf",
   "metadata": {},
   "outputs": [
    {
     "data": {
      "text/plain": [
       "'現在時間是2022-30-17 09:01:22'"
      ]
     },
     "execution_count": 13,
     "metadata": {},
     "output_type": "execute_result"
    }
   ],
   "source": [
    "time.strftime('現在時間是%Y-%M-%d %H:%m:%S',localtime_struct)"
   ]
  },
  {
   "cell_type": "code",
   "execution_count": null,
   "id": "90906e6b",
   "metadata": {},
   "outputs": [],
   "source": []
  }
 ],
 "metadata": {
  "kernelspec": {
   "display_name": "Python 3 (ipykernel)",
   "language": "python",
   "name": "python3"
  },
  "language_info": {
   "codemirror_mode": {
    "name": "ipython",
    "version": 3
   },
   "file_extension": ".py",
   "mimetype": "text/x-python",
   "name": "python",
   "nbconvert_exporter": "python",
   "pygments_lexer": "ipython3",
   "version": "3.9.9"
  }
 },
 "nbformat": 4,
 "nbformat_minor": 5
}
