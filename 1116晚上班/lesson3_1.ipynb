{
 "cells": [
  {
   "cell_type": "code",
   "execution_count": 3,
   "id": "347a8a78",
   "metadata": {},
   "outputs": [
    {
     "name": "stdout",
     "output_type": "stream",
     "text": [
      "請輸入學生分數:120\n",
      "學生分數是:100\n"
     ]
    }
   ],
   "source": [
    "#if單項選擇\n",
    "#請輸入學生分數0~100,如果超過100,就給100,如果小於0,最小為0\n",
    "\n",
    "scores = int(input(\"請輸入學生分數:\"))\n",
    "if scores > 100:\n",
    "    scores = 100\n",
    "    \n",
    "if scores < 0:\n",
    "    scores = 0\n",
    "\n",
    "print(f\"學生分數是:{scores}\")"
   ]
  },
  {
   "cell_type": "code",
   "execution_count": 5,
   "id": "a549a06c",
   "metadata": {},
   "outputs": [
    {
     "name": "stdout",
     "output_type": "stream",
     "text": [
      "請輸入學生分數:59\n",
      "不及格\n"
     ]
    }
   ],
   "source": [
    "#60分及格\n",
    "scores = int(input(\"請輸入學生分數:\"))\n",
    "if scores >= 60:\n",
    "    print(\"及格\")\n",
    "else:\n",
    "    print(\"不及格\")"
   ]
  },
  {
   "cell_type": "code",
   "execution_count": null,
   "id": "ce591293",
   "metadata": {},
   "outputs": [],
   "source": []
  }
 ],
 "metadata": {
  "kernelspec": {
   "display_name": "Python 3 (ipykernel)",
   "language": "python",
   "name": "python3"
  },
  "language_info": {
   "codemirror_mode": {
    "name": "ipython",
    "version": 3
   },
   "file_extension": ".py",
   "mimetype": "text/x-python",
   "name": "python",
   "nbconvert_exporter": "python",
   "pygments_lexer": "ipython3",
   "version": "3.10.6"
  }
 },
 "nbformat": 4,
 "nbformat_minor": 5
}
