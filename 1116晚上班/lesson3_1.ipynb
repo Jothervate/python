{
 "cells": [
  {
   "cell_type": "code",
   "execution_count": 3,
   "id": "347a8a78",
   "metadata": {},
   "outputs": [
    {
     "name": "stdout",
     "output_type": "stream",
     "text": [
      "請輸入學生分數:120\n",
      "學生分數是:100\n"
     ]
    }
   ],
   "source": [
    "#if單項選擇\n",
    "#請輸入學生分數0~100,如果超過100,就給100,如果小於0,最小為0\n",
    "\n",
    "scores = int(input(\"請輸入學生分數:\"))\n",
    "if scores > 100:\n",
    "    scores = 100\n",
    "    \n",
    "if scores < 0:\n",
    "    scores = 0\n",
    "\n",
    "print(f\"學生分數是:{scores}\")"
   ]
  },
  {
   "cell_type": "code",
   "execution_count": 5,
   "id": "5cfe7628",
   "metadata": {},
   "outputs": [
    {
     "name": "stdout",
     "output_type": "stream",
     "text": [
      "請輸入學生分數:59\n",
      "不及格\n"
     ]
    }
   ],
   "source": [
    "#60分及格\n",
    "scores = int(input(\"請輸入學生分數:\"))\n",
    "if scores >= 60:\n",
    "    print(\"及格\")\n",
    "else:\n",
    "    print(\"不及格\")"
   ]
  },
  {
   "cell_type": "code",
   "execution_count": 10,
   "id": "00e5f21c",
   "metadata": {},
   "outputs": [
    {
     "name": "stdout",
     "output_type": "stream",
     "text": [
      "請輸入學生分數:59\n",
      "成績等級為:丁\n"
     ]
    }
   ],
   "source": [
    "#下列為換算成績等級的程式碼，換算的規則如下：\n",
    "\n",
    "#• 90(含)~100分為「優」\n",
    "#• 80(含)~89分為「甲」\n",
    "#• 70(含)~79分為「乙」\n",
    "#• 60(含)~69分為「丙」\n",
    "#• 0(含)~59分為「丁」\n",
    "\n",
    "scores = int(input(\"請輸入學生分數:\"))\n",
    "if scores >= 90:\n",
    "    grade = '優'\n",
    "elif scores >= 80:\n",
    "    grade = '甲'\n",
    "elif scores >= 70:\n",
    "    grade = '乙'\n",
    "elif scores >= 60:\n",
    "    grade = '丙'\n",
    "else:\n",
    "    grade = '丁'\n",
    "\n",
    "print(f\"成績等級為:{grade}\")"
   ]
  },
  {
   "cell_type": "code",
   "execution_count": null,
   "id": "b5ebadd5",
   "metadata": {},
   "outputs": [],
   "source": []
  },
  {
   "cell_type": "code",
   "execution_count": null,
   "id": "a8f1ab92",
   "metadata": {},
   "outputs": [],
   "source": []
  }
 ],
 "metadata": {
  "kernelspec": {
   "display_name": "Python 3 (ipykernel)",
   "language": "python",
   "name": "python3"
  },
  "language_info": {
   "codemirror_mode": {
    "name": "ipython",
    "version": 3
   },
   "file_extension": ".py",
   "mimetype": "text/x-python",
   "name": "python",
   "nbconvert_exporter": "python",
   "pygments_lexer": "ipython3",
   "version": "3.10.6"
  }
 },
 "nbformat": 4,
 "nbformat_minor": 5
}
