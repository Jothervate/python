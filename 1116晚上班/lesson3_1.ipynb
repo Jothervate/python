{
 "cells": [
  {
   "cell_type": "code",
   "execution_count": 3,
   "id": "347a8a78",
   "metadata": {},
   "outputs": [
    {
     "name": "stdout",
     "output_type": "stream",
     "text": [
      "請輸入學生分數:120\n",
      "學生分數是:100\n"
     ]
    }
   ],
   "source": [
    "#if單項選擇\n",
    "#請輸入學生分數0~100,如果超過100,就給100,如果小於0,最小為0\n",
    "\n",
    "scores = int(input(\"請輸入學生分數:\"))\n",
    "if scores > 100:\n",
    "    scores = 100\n",
    "    \n",
    "if scores < 0:\n",
    "    scores = 0\n",
    "\n",
    "print(f\"學生分數是:{scores}\")"
   ]
  },
  {
   "cell_type": "code",
   "execution_count": 5,
   "id": "fcc634c2",
   "metadata": {},
   "outputs": [
    {
     "name": "stdout",
     "output_type": "stream",
     "text": [
      "請輸入學生分數:59\n",
      "不及格\n"
     ]
    }
   ],
   "source": [
    "#60分及格\n",
    "scores = int(input(\"請輸入學生分數:\"))\n",
    "if scores >= 60:\n",
    "    print(\"及格\")\n",
    "else:\n",
    "    print(\"不及格\")"
   ]
  },
  {
   "cell_type": "code",
   "execution_count": 10,
   "id": "04e1eaa7",
   "metadata": {},
   "outputs": [
    {
     "name": "stdout",
     "output_type": "stream",
     "text": [
      "請輸入學生分數:59\n",
      "成績等級為:丁\n"
     ]
    }
   ],
   "source": [
    "#下列為換算成績等級的程式碼，換算的規則如下：\n",
    "\n",
    "#• 90(含)~100分為「優」\n",
    "#• 80(含)~89分為「甲」\n",
    "#• 70(含)~79分為「乙」\n",
    "#• 60(含)~69分為「丙」\n",
    "#• 0(含)~59分為「丁」\n",
    "\n",
    "scores = int(input(\"請輸入學生分數:\"))\n",
    "if scores >= 90:\n",
    "    grade = '優'\n",
    "elif scores >= 80:\n",
    "    grade = '甲'\n",
    "elif scores >= 70:\n",
    "    grade = '乙'\n",
    "elif scores >= 60:\n",
    "    grade = '丙'\n",
    "else:\n",
    "    grade = '丁'\n",
    "\n",
    "print(f\"成績等級為:{grade}\")"
   ]
  },
  {
   "cell_type": "code",
   "execution_count": 12,
   "id": "a1315a4e",
   "metadata": {},
   "outputs": [
    {
     "name": "stdout",
     "output_type": "stream",
     "text": [
      "請輸入購買金額:87000\n",
      "實付金額是:73950\n"
     ]
    }
   ],
   "source": [
    "#輸入顧客購買金額，若金額在\n",
    "#100000元打8折. \n",
    "#50000打85折. \n",
    "#30000打9折. \n",
    "#10000打95折. \n",
    "\n",
    "money = int(input(\"請輸入購買金額:\"))\n",
    "if money >= 100000:\n",
    "    pay_money = money * 0.8\n",
    "elif money >= 50000:\n",
    "    pay_money = money * 0.85\n",
    "elif money >= 30000:\n",
    "    pay_money = money * 0.9\n",
    "elif money >= 10000:\n",
    "    pay_money = money * 0.95\n",
    "else:\n",
    "    pay_money = money\n",
    "\n",
    "print(f\"實付金額是:{pay_money:.0f}\")"
   ]
  },
  {
   "cell_type": "code",
   "execution_count": null,
   "id": "109ca038",
   "metadata": {},
   "outputs": [],
   "source": []
  },
  {
   "cell_type": "code",
   "execution_count": null,
   "id": "2ea18b70",
   "metadata": {},
   "outputs": [],
   "source": []
  }
 ],
 "metadata": {
  "kernelspec": {
   "display_name": "Python 3 (ipykernel)",
   "language": "python",
   "name": "python3"
  },
  "language_info": {
   "codemirror_mode": {
    "name": "ipython",
    "version": 3
   },
   "file_extension": ".py",
   "mimetype": "text/x-python",
   "name": "python",
   "nbconvert_exporter": "python",
   "pygments_lexer": "ipython3",
   "version": "3.10.6"
  }
 },
 "nbformat": 4,
 "nbformat_minor": 5
}
