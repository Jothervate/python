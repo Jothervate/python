{
 "cells": [
  {
   "cell_type": "code",
   "execution_count": 3,
   "id": "93d79a08",
   "metadata": {},
   "outputs": [
    {
     "name": "stdout",
     "output_type": "stream",
     "text": [
      "請輸入國文成績:99\n",
      "請輸入英文成績:99\n",
      "學生獎金是0\n"
     ]
    }
   ],
   "source": [
    "#巢狀判斷\n",
    "chinese = eval(input(\"請輸入國文成績:\"))\n",
    "english = eval(input(\"請輸入英文成績:\"))\n",
    "\n",
    "if chinese == 100:\n",
    "    #國文100\n",
    "    if english == 100:\n",
    "        bonus = 1000\n",
    "    else:\n",
    "        bonus = 500\n",
    "else:\n",
    "    #國文沒有100\n",
    "    if english == 100:\n",
    "        bonus = 500\n",
    "    else:\n",
    "        bonus = 0\n",
    "        \n",
    "print(f\"學生獎金是{bonus}\")"
   ]
  },
  {
   "cell_type": "code",
   "execution_count": 6,
   "id": "4a947b49",
   "metadata": {},
   "outputs": [
    {
     "name": "stdout",
     "output_type": "stream",
     "text": [
      "請輸入國文成績:99\n",
      "請輸入英文成績:99\n",
      "學生獎金是0\n"
     ]
    }
   ],
   "source": [
    "#邏輯運算子\n",
    "chinese = eval(input(\"請輸入國文成績:\"))\n",
    "english = eval(input(\"請輸入英文成績:\"))\n",
    "\n",
    "if chinese == 100 and english == 100:\n",
    "    bonus = 1000\n",
    "elif chinese == 100 or english == 100:\n",
    "    bonus = 500\n",
    "else:\n",
    "    bonus = 0\n",
    "print(f\"學生獎金是{bonus}\")  "
   ]
  },
  {
   "cell_type": "code",
   "execution_count": null,
   "id": "886ee2e0",
   "metadata": {},
   "outputs": [],
   "source": []
  }
 ],
 "metadata": {
  "kernelspec": {
   "display_name": "Python 3 (ipykernel)",
   "language": "python",
   "name": "python3"
  },
  "language_info": {
   "codemirror_mode": {
    "name": "ipython",
    "version": 3
   },
   "file_extension": ".py",
   "mimetype": "text/x-python",
   "name": "python",
   "nbconvert_exporter": "python",
   "pygments_lexer": "ipython3",
   "version": "3.10.6"
  }
 },
 "nbformat": 4,
 "nbformat_minor": 5
}
