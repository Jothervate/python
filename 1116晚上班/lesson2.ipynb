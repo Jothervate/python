{
 "cells": [
  {
   "cell_type": "code",
   "execution_count": 4,
   "id": "77f10c8b",
   "metadata": {},
   "outputs": [
    {
     "name": "stdout",
     "output_type": "stream",
     "text": [
      "請輸入x:45\n",
      "請輸入y:54\n",
      "x= 45 y= 54 x+y= 99\n",
      "x=45,y=54,x+y=99\n"
     ]
    }
   ],
   "source": [
    "x = int(input(\"請輸入x:\"))\n",
    "y = int(input(\"請輸入y:\"))\n",
    "print(\"x=\",x,\"y=\",y,\"x+y=\",x+y)\n",
    "print(f\"x={x},y={y},x+y={x+y}\") #字串插補"
   ]
  },
  {
   "cell_type": "code",
   "execution_count": null,
   "id": "0f95c452",
   "metadata": {},
   "outputs": [],
   "source": []
  }
 ],
 "metadata": {
  "kernelspec": {
   "display_name": "Python 3 (ipykernel)",
   "language": "python",
   "name": "python3"
  },
  "language_info": {
   "codemirror_mode": {
    "name": "ipython",
    "version": 3
   },
   "file_extension": ".py",
   "mimetype": "text/x-python",
   "name": "python",
   "nbconvert_exporter": "python",
   "pygments_lexer": "ipython3",
   "version": "3.10.2"
  }
 },
 "nbformat": 4,
 "nbformat_minor": 5
}
