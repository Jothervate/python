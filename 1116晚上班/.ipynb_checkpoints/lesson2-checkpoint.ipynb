{
 "cells": [
  {
   "cell_type": "code",
   "execution_count": 4,
   "id": "9a979fd9",
   "metadata": {},
   "outputs": [
    {
     "name": "stdout",
     "output_type": "stream",
     "text": [
      "請輸入x:45\n",
      "請輸入y:54\n",
      "x= 45 y= 54 x+y= 99\n",
      "x=45,y=54,x+y=99\n"
     ]
    }
   ],
   "source": [
    "x = int(input(\"請輸入x:\"))\n",
    "y = int(input(\"請輸入y:\"))\n",
    "print(\"x=\",x,\"y=\",y,\"x+y=\",x+y)\n",
    "print(f\"x={x},y={y},x+y={x+y}\") #字串插補"
   ]
  },
  {
   "cell_type": "code",
   "execution_count": 8,
   "id": "64365535",
   "metadata": {},
   "outputs": [
    {
     "name": "stdout",
     "output_type": "stream",
     "text": [
      "請輸入上底:(公分)21.4\n",
      "請輸入下底:(公分)32.5\n",
      "請輸入高:(公分)10.3\n",
      "梯形上底:21.40公分,下底:32.50公分,高:10.30公分,梯形面積是277.59平方公分\n"
     ]
    }
   ],
   "source": [
    "#國中的數學\n",
    "#讓使用者輸入梯形的上底、下底及高，程式會計算梯形的面積(上底加下底乘以高除以2)\n",
    "top = float(input(\"請輸入上底:(公分)\"))\n",
    "bottom = float(input(\"請輸入下底:(公分)\"))\n",
    "height = float(input(\"請輸入高:(公分)\"))\n",
    "\n",
    "area = (top + bottom) * height / 2\n",
    "print(f\"梯形上底:{top:.2f}公分,下底:{bottom:.2f}公分,高:{height:.2f}公分,梯形面積是{area:.2f}平方公分\")"
   ]
  },
  {
   "cell_type": "code",
   "execution_count": null,
   "id": "c0784a22",
   "metadata": {},
   "outputs": [],
   "source": []
  },
  {
   "cell_type": "code",
   "execution_count": null,
   "id": "0b8092d6",
   "metadata": {},
   "outputs": [],
   "source": []
  }
 ],
 "metadata": {
  "kernelspec": {
   "display_name": "Python 3 (ipykernel)",
   "language": "python",
   "name": "python3"
  },
  "language_info": {
   "codemirror_mode": {
    "name": "ipython",
    "version": 3
   },
   "file_extension": ".py",
   "mimetype": "text/x-python",
   "name": "python",
   "nbconvert_exporter": "python",
   "pygments_lexer": "ipython3",
   "version": "3.10.2"
  }
 },
 "nbformat": 4,
 "nbformat_minor": 5
}
