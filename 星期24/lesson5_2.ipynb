{
 "cells": [
  {
   "cell_type": "code",
   "execution_count": 3,
   "id": "faf9cfb7",
   "metadata": {},
   "outputs": [
    {
     "data": {
      "text/plain": [
       "['Birds',\n",
       " '',\n",
       " '',\n",
       " '',\n",
       " 'fly',\n",
       " '',\n",
       " 'high',\n",
       " 'in',\n",
       " '',\n",
       " '',\n",
       " '',\n",
       " '',\n",
       " 'the',\n",
       " '',\n",
       " '',\n",
       " '',\n",
       " '',\n",
       " 'sky',\n",
       " 'for',\n",
       " '',\n",
       " 'ever']"
      ]
     },
     "execution_count": 3,
     "metadata": {},
     "output_type": "execute_result"
    }
   ],
   "source": [
    "\n",
    "str1 = \"Birds----fly--high-in-----the-----sky-for--ever\"\n",
    "str1.split(\"-\")"
   ]
  },
  {
   "cell_type": "code",
   "execution_count": 9,
   "id": "275d6f13",
   "metadata": {},
   "outputs": [
    {
     "data": {
      "text/plain": [
       "'Birds-fly-high-in-the-sky-for-ever'"
      ]
     },
     "execution_count": 9,
     "metadata": {},
     "output_type": "execute_result"
    }
   ],
   "source": [
    "import re\n",
    "str1 = \"Birds----fly--high-in-----the-----sky-for--ever\"\n",
    "splitList = re.split(r\"[-]+\",str1)\n",
    "\"-\".join(splitList)"
   ]
  },
  {
   "cell_type": "code",
   "execution_count": 14,
   "id": "26860cf2",
   "metadata": {},
   "outputs": [
    {
     "name": "stdout",
     "output_type": "stream",
     "text": [
      "<re.Match object; span=(0, 5), match='Hello'>\n",
      "前面有Hello\n"
     ]
    }
   ],
   "source": [
    "#re.match()\n",
    "\n",
    "strText = \"Hello Python Programming\"\n",
    "matchObject = re.match(r\"hello\",strText,re.I)\n",
    "print(matchObject)\n",
    "matchObject.group()\n",
    "if matchObject is None:\n",
    "    print(\"前面沒有hello\")\n",
    "else:\n",
    "    print(f\"前面有{matchObject.group()}\")"
   ]
  },
  {
   "cell_type": "code",
   "execution_count": null,
   "id": "aefd61f6",
   "metadata": {},
   "outputs": [],
   "source": []
  }
 ],
 "metadata": {
  "kernelspec": {
   "display_name": "Python 3 (ipykernel)",
   "language": "python",
   "name": "python3"
  },
  "language_info": {
   "codemirror_mode": {
    "name": "ipython",
    "version": 3
   },
   "file_extension": ".py",
   "mimetype": "text/x-python",
   "name": "python",
   "nbconvert_exporter": "python",
   "pygments_lexer": "ipython3",
   "version": "3.10.2"
  }
 },
 "nbformat": 4,
 "nbformat_minor": 5
}
