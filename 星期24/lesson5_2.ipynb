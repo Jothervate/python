{
 "cells": [
  {
   "cell_type": "code",
   "execution_count": 3,
   "id": "2c5cec30",
   "metadata": {},
   "outputs": [
    {
     "data": {
      "text/plain": [
       "['Birds',\n",
       " '',\n",
       " '',\n",
       " '',\n",
       " 'fly',\n",
       " '',\n",
       " 'high',\n",
       " 'in',\n",
       " '',\n",
       " '',\n",
       " '',\n",
       " '',\n",
       " 'the',\n",
       " '',\n",
       " '',\n",
       " '',\n",
       " '',\n",
       " 'sky',\n",
       " 'for',\n",
       " '',\n",
       " 'ever']"
      ]
     },
     "execution_count": 3,
     "metadata": {},
     "output_type": "execute_result"
    }
   ],
   "source": [
    "\n",
    "str1 = \"Birds----fly--high-in-----the-----sky-for--ever\"\n",
    "str1.split(\"-\")"
   ]
  },
  {
   "cell_type": "code",
   "execution_count": 9,
   "id": "4fa65b38",
   "metadata": {},
   "outputs": [
    {
     "data": {
      "text/plain": [
       "'Birds-fly-high-in-the-sky-for-ever'"
      ]
     },
     "execution_count": 9,
     "metadata": {},
     "output_type": "execute_result"
    }
   ],
   "source": [
    "import re\n",
    "str1 = \"Birds----fly--high-in-----the-----sky-for--ever\"\n",
    "splitList = re.split(r\"[-]+\",str1)\n",
    "\"-\".join(splitList)"
   ]
  },
  {
   "cell_type": "code",
   "execution_count": 16,
   "id": "879ff4d7",
   "metadata": {},
   "outputs": [
    {
     "name": "stdout",
     "output_type": "stream",
     "text": [
      "<re.Match object; span=(0, 5), match='Hello'>\n",
      "前面有Hello\n"
     ]
    }
   ],
   "source": [
    "#re.match()\n",
    "#搜尋最前面\n",
    "\n",
    "strText = \"Hello Python Programming\"\n",
    "matchObject = re.match(r\"hello\",strText,re.I)\n",
    "print(matchObject)\n",
    "#matchObject.group()\n",
    "if matchObject is None:\n",
    "    print(\"前面沒有hello\")\n",
    "else:\n",
    "    print(f\"前面有{matchObject.group()}\")"
   ]
  },
  {
   "cell_type": "code",
   "execution_count": 21,
   "id": "5d6585ba",
   "metadata": {},
   "outputs": [
    {
     "name": "stdout",
     "output_type": "stream",
     "text": [
      "搜尋到的文字是Programming\n"
     ]
    }
   ],
   "source": [
    "#re.search()\n",
    "#搜尋所有字串\n",
    "strText = \"Hello Python Programming\"\n",
    "searchObject = re.search(r\"programming\",strText,re.I)\n",
    "if searchObject is None:\n",
    "    print(\"內容沒有Programming這個字\")\n",
    "else:\n",
    "    print(f\"搜尋到的文字是{searchObject.group()}\")"
   ]
  },
  {
   "cell_type": "code",
   "execution_count": 22,
   "id": "9ac0df86",
   "metadata": {},
   "outputs": [
    {
     "data": {
      "text/plain": [
       "'Playing 4 Working a day'"
      ]
     },
     "execution_count": 22,
     "metadata": {},
     "output_type": "execute_result"
    }
   ],
   "source": [
    "#re.sub()\n",
    "#取代文字\n",
    "s = \"Playing 4 hours a day\"\n",
    "re.sub(r'hours', \"Working\", s)"
   ]
  },
  {
   "cell_type": "code",
   "execution_count": 27,
   "id": "bed527b7",
   "metadata": {},
   "outputs": [
    {
     "data": {
      "text/plain": [
       "'Working   five   hours   a  day'"
      ]
     },
     "execution_count": 27,
     "metadata": {},
     "output_type": "execute_result"
    }
   ],
   "source": [
    "#re.sub()\n",
    "s = \"768 Working 2343 789 five 234 656 hours 324 4646 a 345 day\"\n",
    "newS=re.sub(r'\\d',\"\",s)\n",
    "newS = newS.strip() #移除前後空白\n",
    "newS"
   ]
  },
  {
   "cell_type": "code",
   "execution_count": 29,
   "id": "2309d0b9",
   "metadata": {},
   "outputs": [
    {
     "name": "stdout",
     "output_type": "stream",
     "text": [
      "['Working', 'five', 'hours', 'a', 'day']\n"
     ]
    },
    {
     "data": {
      "text/plain": [
       "'Working five hours a day'"
      ]
     },
     "execution_count": 29,
     "metadata": {},
     "output_type": "execute_result"
    }
   ],
   "source": [
    "#re.split()\n",
    "splitList = re.split(r'\\s+',newS)\n",
    "print(splitList)\n",
    "\" \".join(splitList)"
   ]
  },
  {
   "cell_type": "code",
   "execution_count": null,
   "id": "dd646f8b",
   "metadata": {},
   "outputs": [],
   "source": []
  }
 ],
 "metadata": {
  "kernelspec": {
   "display_name": "Python 3 (ipykernel)",
   "language": "python",
   "name": "python3"
  },
  "language_info": {
   "codemirror_mode": {
    "name": "ipython",
    "version": 3
   },
   "file_extension": ".py",
   "mimetype": "text/x-python",
   "name": "python",
   "nbconvert_exporter": "python",
   "pygments_lexer": "ipython3",
   "version": "3.10.2"
  }
 },
 "nbformat": 4,
 "nbformat_minor": 5
}
