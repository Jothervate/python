{
 "cells": [
  {
   "cell_type": "code",
   "execution_count": 3,
   "id": "70be2702",
   "metadata": {},
   "outputs": [
    {
     "data": {
      "text/plain": [
       "['Birds',\n",
       " '',\n",
       " '',\n",
       " '',\n",
       " 'fly',\n",
       " '',\n",
       " 'high',\n",
       " 'in',\n",
       " '',\n",
       " '',\n",
       " '',\n",
       " '',\n",
       " 'the',\n",
       " '',\n",
       " '',\n",
       " '',\n",
       " '',\n",
       " 'sky',\n",
       " 'for',\n",
       " '',\n",
       " 'ever']"
      ]
     },
     "execution_count": 3,
     "metadata": {},
     "output_type": "execute_result"
    }
   ],
   "source": [
    "\n",
    "str1 = \"Birds----fly--high-in-----the-----sky-for--ever\"\n",
    "str1.split(\"-\")"
   ]
  },
  {
   "cell_type": "code",
   "execution_count": 9,
   "id": "6186a4a8",
   "metadata": {},
   "outputs": [
    {
     "data": {
      "text/plain": [
       "'Birds-fly-high-in-the-sky-for-ever'"
      ]
     },
     "execution_count": 9,
     "metadata": {},
     "output_type": "execute_result"
    }
   ],
   "source": [
    "import re\n",
    "str1 = \"Birds----fly--high-in-----the-----sky-for--ever\"\n",
    "splitList = re.split(r\"[-]+\",str1)\n",
    "\"-\".join(splitList)"
   ]
  },
  {
   "cell_type": "code",
   "execution_count": null,
   "id": "b896fd28",
   "metadata": {},
   "outputs": [],
   "source": []
  }
 ],
 "metadata": {
  "kernelspec": {
   "display_name": "Python 3 (ipykernel)",
   "language": "python",
   "name": "python3"
  },
  "language_info": {
   "codemirror_mode": {
    "name": "ipython",
    "version": 3
   },
   "file_extension": ".py",
   "mimetype": "text/x-python",
   "name": "python",
   "nbconvert_exporter": "python",
   "pygments_lexer": "ipython3",
   "version": "3.10.2"
  }
 },
 "nbformat": 4,
 "nbformat_minor": 5
}
