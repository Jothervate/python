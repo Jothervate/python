{
 "cells": [
  {
   "cell_type": "code",
   "execution_count": 4,
   "id": "ce028479",
   "metadata": {},
   "outputs": [
    {
     "name": "stdout",
     "output_type": "stream",
     "text": [
      "('星期一', '星期二', '星期三', '星期四', '星期五', '星期六', '星期日')\n",
      "星期一\n",
      "星期日\n",
      "星期一\n",
      "星期二\n",
      "星期三\n",
      "星期四\n",
      "星期五\n",
      "星期六\n",
      "星期日\n"
     ]
    }
   ],
   "source": [
    "#建立tuple\n",
    "t1 = ('星期一', '星期二', '星期三', '星期四', '星期五', '星期六', '星期日')\n",
    "print(t1)\n",
    "print(t1[0])\n",
    "print(t1[6])\n",
    "\n",
    "for item in t1:\n",
    "    print(item)"
   ]
  },
  {
   "cell_type": "code",
   "execution_count": 5,
   "id": "3ac0ab9d",
   "metadata": {},
   "outputs": [
    {
     "name": "stdout",
     "output_type": "stream",
     "text": [
      "['星期一', '星期二', '星期三', '星期四', '星期五', '星期六', '星期日']\n",
      "星期一\n",
      "星期日\n",
      "星期一\n",
      "星期二\n",
      "星期三\n",
      "星期四\n",
      "星期五\n",
      "星期六\n",
      "星期日\n"
     ]
    }
   ],
   "source": [
    "#建立list\n",
    "l1 = ['星期一', '星期二', '星期三', '星期四', '星期五', '星期六', '星期日']\n",
    "print(l1)\n",
    "print(l1[0])\n",
    "print(l1[6])\n",
    "\n",
    "for item in l1:\n",
    "    print(item)"
   ]
  },
  {
   "cell_type": "code",
   "execution_count": 7,
   "id": "0ad3d54b",
   "metadata": {},
   "outputs": [],
   "source": [
    "#建立變數,但變數內容沒有儲存任何值\n",
    "empty_var = None\n",
    "print(empty_var)"
   ]
  },
  {
   "cell_type": "code",
   "execution_count": 9,
   "id": "4f116af0",
   "metadata": {},
   "outputs": [
    {
     "name": "stdout",
     "output_type": "stream",
     "text": [
      "<class 'list'>\n",
      "[]\n"
     ]
    }
   ],
   "source": [
    "#建立空的list\n",
    "empty_list = []\n",
    "another_empty_list = list()\n",
    "\n",
    "print(empty_list.__class__)\n",
    "print(another_empty_list)"
   ]
  },
  {
   "cell_type": "code",
   "execution_count": 10,
   "id": "e10455fb",
   "metadata": {},
   "outputs": [
    {
     "data": {
      "text/plain": [
       "['c', 'a', 't']"
      ]
     },
     "execution_count": 10,
     "metadata": {},
     "output_type": "execute_result"
    }
   ],
   "source": [
    "list('cat')"
   ]
  },
  {
   "cell_type": "code",
   "execution_count": 11,
   "id": "adfdb0ee",
   "metadata": {},
   "outputs": [
    {
     "data": {
      "text/plain": [
       "[1, 2, 3, 4]"
      ]
     },
     "execution_count": 11,
     "metadata": {},
     "output_type": "execute_result"
    }
   ],
   "source": [
    "list(range(1,5))"
   ]
  },
  {
   "cell_type": "code",
   "execution_count": 12,
   "id": "64c98f98",
   "metadata": {},
   "outputs": [
    {
     "data": {
      "text/plain": [
       "['ready', 'fire', 'aim']"
      ]
     },
     "execution_count": 12,
     "metadata": {},
     "output_type": "execute_result"
    }
   ],
   "source": [
    "a_tuple = ('ready', 'fire', 'aim')\n",
    "list(a_tuple)"
   ]
  },
  {
   "cell_type": "code",
   "execution_count": 13,
   "id": "85f37303",
   "metadata": {},
   "outputs": [
    {
     "data": {
      "text/plain": [
       "['1', '6', '2011']"
      ]
     },
     "execution_count": 13,
     "metadata": {},
     "output_type": "execute_result"
    }
   ],
   "source": [
    "birthday = '1/6/2011'\n",
    "birthday.split('/')"
   ]
  },
  {
   "cell_type": "code",
   "execution_count": 14,
   "id": "448171d3",
   "metadata": {},
   "outputs": [
    {
     "data": {
      "text/plain": [
       "['星期一', '星期二', '星期三', '星期四', '星期五', '星期六', '星期日']"
      ]
     },
     "execution_count": 14,
     "metadata": {},
     "output_type": "execute_result"
    }
   ],
   "source": [
    "l1 = ['星期一', '星期二', '星期三', '星期四', '星期五', '星期六', '星期日']\n",
    "l1"
   ]
  },
  {
   "cell_type": "code",
   "execution_count": 15,
   "id": "e663beae",
   "metadata": {},
   "outputs": [
    {
     "data": {
      "text/plain": [
       "['星期一', '星期二', '星期三', '星期四', '星期五', '星期六', '星期日', 1, 2.0, True]"
      ]
     },
     "execution_count": 15,
     "metadata": {},
     "output_type": "execute_result"
    }
   ],
   "source": [
    "l1 = ['星期一', '星期二', '星期三', '星期四', '星期五', '星期六', '星期日', 1, 2.0, True]\n",
    "l1"
   ]
  },
  {
   "cell_type": "code",
   "execution_count": 17,
   "id": "0c38f49a",
   "metadata": {},
   "outputs": [
    {
     "name": "stdout",
     "output_type": "stream",
     "text": [
      "星期日\n",
      "星期一\n"
     ]
    }
   ],
   "source": [
    "l1 = ['星期一', '星期二', '星期三', '星期四', '星期五', '星期六', '星期日']\n",
    "print(l1[-1])\n",
    "print(l1[0])"
   ]
  },
  {
   "cell_type": "code",
   "execution_count": 18,
   "id": "36bf55b1",
   "metadata": {},
   "outputs": [
    {
     "name": "stdout",
     "output_type": "stream",
     "text": [
      "['星期一', '星期二', '星期三', '星期四', '星期五', '星期六', '星期日']\n"
     ]
    }
   ],
   "source": [
    "#slice\n",
    "print(l1[:])"
   ]
  },
  {
   "cell_type": "code",
   "execution_count": 19,
   "id": "67d7fab4",
   "metadata": {},
   "outputs": [
    {
     "name": "stdout",
     "output_type": "stream",
     "text": [
      "['星期一', '星期二', '星期三']\n"
     ]
    }
   ],
   "source": [
    "print(l1[:3])"
   ]
  },
  {
   "cell_type": "code",
   "execution_count": 20,
   "id": "12ffce70",
   "metadata": {},
   "outputs": [
    {
     "name": "stdout",
     "output_type": "stream",
     "text": [
      "['星期五', '星期六', '星期日']\n"
     ]
    }
   ],
   "source": [
    "print(l1[-3:])"
   ]
  },
  {
   "cell_type": "code",
   "execution_count": 22,
   "id": "a292fccb",
   "metadata": {},
   "outputs": [
    {
     "name": "stdout",
     "output_type": "stream",
     "text": [
      "['a', 'b', 'c']\n",
      "[10, 20, 30]\n"
     ]
    }
   ],
   "source": [
    "#修改內容\n",
    "list1 = ['a','b','c']\n",
    "print(list1)\n",
    "list1[0] = 10\n",
    "list1[1] = 20\n",
    "list1[2] = 30\n",
    "print(list1)"
   ]
  },
  {
   "cell_type": "code",
   "execution_count": 23,
   "id": "2eb328fd",
   "metadata": {},
   "outputs": [
    {
     "data": {
      "text/plain": [
       "[87, 98, 75, 87, 95]"
      ]
     },
     "execution_count": 23,
     "metadata": {},
     "output_type": "execute_result"
    }
   ],
   "source": [
    "stu1 = [87, 98, 75, 87, 95]\n",
    "stu1"
   ]
  },
  {
   "cell_type": "code",
   "execution_count": 28,
   "id": "73436218",
   "metadata": {},
   "outputs": [
    {
     "name": "stdout",
     "output_type": "stream",
     "text": [
      "筆記電腦\n",
      "商用筆電\n",
      "ASUS\n"
     ]
    }
   ],
   "source": [
    "#2維list\n",
    "nb = ['筆記電腦', '商用筆電']\n",
    "mobile = ['APPLE', 'ASUS', 'HTC'] \n",
    "home =  [3, '冰箱', 2, '洗衣機']\n",
    "all3c = [nb, mobile, home]\n",
    "\n",
    "print(all3c[0][0])\n",
    "print(all3c[0][1])\n",
    "print(all3c[1][1])"
   ]
  },
  {
   "cell_type": "code",
   "execution_count": 29,
   "id": "42fb8602",
   "metadata": {},
   "outputs": [
    {
     "name": "stdout",
     "output_type": "stream",
     "text": [
      "筆記電腦\n",
      "商用筆電\n",
      "APPLE\n",
      "ASUS\n",
      "HTC\n",
      "3\n",
      "冰箱\n",
      "2\n",
      "洗衣機\n"
     ]
    }
   ],
   "source": [
    "for items in all3c:\n",
    "    for item in items:\n",
    "        print(item)"
   ]
  },
  {
   "cell_type": "code",
   "execution_count": 31,
   "id": "2323ca89",
   "metadata": {},
   "outputs": [
    {
     "data": {
      "text/plain": [
       "list"
      ]
     },
     "execution_count": 31,
     "metadata": {},
     "output_type": "execute_result"
    }
   ],
   "source": [
    "l1 = ['星期一', '星期二', '星期三', '星期四', '星期五', '星期六', '星期日']\n",
    "l1.__class__"
   ]
  },
  {
   "cell_type": "code",
   "execution_count": 32,
   "id": "6ccade18",
   "metadata": {},
   "outputs": [
    {
     "data": {
      "text/plain": [
       "[78, 80, 92, 67, 73]"
      ]
     },
     "execution_count": 32,
     "metadata": {},
     "output_type": "execute_result"
    }
   ],
   "source": [
    "#實體方法append\n",
    "scores = []\n",
    "scores.append(78)\n",
    "scores.append(80)\n",
    "scores.append(92)\n",
    "scores.append(67)\n",
    "scores.append(73)\n",
    "scores"
   ]
  },
  {
   "cell_type": "code",
   "execution_count": 33,
   "id": "1a67a7ff",
   "metadata": {},
   "outputs": [
    {
     "data": {
      "text/plain": [
       "[78, 80, 100, 92, 67, 73]"
      ]
     },
     "execution_count": 33,
     "metadata": {},
     "output_type": "execute_result"
    }
   ],
   "source": [
    "#體方法insert\n",
    "scores.insert(2,100)\n",
    "scores"
   ]
  },
  {
   "cell_type": "code",
   "execution_count": 34,
   "id": "726bb3de",
   "metadata": {},
   "outputs": [
    {
     "data": {
      "text/plain": [
       "[78, 80, 92, 67, 73]"
      ]
     },
     "execution_count": 34,
     "metadata": {},
     "output_type": "execute_result"
    }
   ],
   "source": [
    "#體方法remove\n",
    "scores.remove(100)\n",
    "scores"
   ]
  },
  {
   "cell_type": "code",
   "execution_count": 35,
   "id": "f6f6e0ec",
   "metadata": {},
   "outputs": [
    {
     "data": {
      "text/plain": [
       "[78, 80, 92, 67]"
      ]
     },
     "execution_count": 35,
     "metadata": {},
     "output_type": "execute_result"
    }
   ],
   "source": [
    "#體方法pop()\n",
    "scores.pop()\n",
    "scores"
   ]
  },
  {
   "cell_type": "code",
   "execution_count": 36,
   "id": "0184e6a5",
   "metadata": {},
   "outputs": [
    {
     "data": {
      "text/plain": [
       "1"
      ]
     },
     "execution_count": 36,
     "metadata": {},
     "output_type": "execute_result"
    }
   ],
   "source": [
    "#體方法index()\n",
    "scores.index(80)"
   ]
  },
  {
   "cell_type": "code",
   "execution_count": 37,
   "id": "f6884e66",
   "metadata": {},
   "outputs": [
    {
     "data": {
      "text/plain": [
       "[]"
      ]
     },
     "execution_count": 37,
     "metadata": {},
     "output_type": "execute_result"
    }
   ],
   "source": [
    "#體方法clear()\n",
    "scores.clear()\n",
    "scores"
   ]
  },
  {
   "cell_type": "code",
   "execution_count": 39,
   "id": "aa6fa2ce",
   "metadata": {},
   "outputs": [
    {
     "data": {
      "text/plain": [
       "[[78, 70, 80, 80, 89],\n",
       " [90, 85, 84, 70, 96],\n",
       " [91, 64, 78, 86, 68],\n",
       " [63, 86, 67, 72, 83],\n",
       " [66, 92, 70, 84, 74],\n",
       " [60, 95, 92, 68, 96],\n",
       " [90, 80, 77, 81, 77],\n",
       " [70, 92, 91, 61, 94],\n",
       " [65, 78, 65, 69, 74],\n",
       " [72, 98, 95, 87, 99],\n",
       " [82, 69, 87, 70, 94],\n",
       " [66, 80, 73, 78, 60],\n",
       " [62, 68, 90, 62, 99],\n",
       " [92, 79, 71, 67, 83],\n",
       " [61, 85, 63, 83, 82],\n",
       " [95, 86, 86, 98, 96],\n",
       " [83, 67, 68, 81, 89],\n",
       " [77, 87, 95, 97, 74],\n",
       " [82, 90, 63, 99, 94],\n",
       " [61, 77, 75, 75, 79],\n",
       " [90, 68, 61, 81, 81],\n",
       " [85, 78, 72, 63, 93],\n",
       " [61, 97, 64, 92, 62],\n",
       " [72, 82, 62, 72, 69],\n",
       " [73, 93, 84, 100, 92],\n",
       " [99, 74, 62, 65, 71],\n",
       " [60, 72, 60, 60, 93],\n",
       " [83, 60, 90, 75, 95],\n",
       " [81, 88, 83, 63, 80],\n",
       " [72, 78, 78, 80, 63],\n",
       " [66, 79, 95, 78, 82],\n",
       " [63, 61, 63, 64, 66],\n",
       " [60, 96, 91, 71, 93],\n",
       " [79, 62, 69, 85, 86],\n",
       " [72, 79, 92, 99, 64],\n",
       " [74, 99, 67, 74, 100],\n",
       " [78, 72, 96, 90, 84],\n",
       " [60, 94, 81, 85, 64],\n",
       " [98, 70, 66, 98, 68],\n",
       " [88, 69, 95, 73, 60],\n",
       " [69, 96, 93, 60, 70],\n",
       " [81, 98, 65, 90, 68],\n",
       " [91, 71, 63, 100, 80],\n",
       " [84, 85, 98, 100, 79],\n",
       " [81, 97, 85, 94, 75],\n",
       " [78, 75, 93, 83, 96],\n",
       " [62, 78, 63, 83, 83],\n",
       " [96, 83, 73, 90, 90],\n",
       " [62, 87, 69, 60, 68],\n",
       " [82, 84, 84, 82, 70]]"
      ]
     },
     "execution_count": 39,
     "metadata": {},
     "output_type": "execute_result"
    }
   ],
   "source": [
    "#建立2維list,50個學生,5個分數\n",
    "import random\n",
    "\n",
    "students = []\n",
    "for _ in range(50):\n",
    "    scores = []\n",
    "    for _ in range(5):\n",
    "        scores.append(random.randint(60,100))\n",
    "    students.append(scores)\n",
    "students"
   ]
  },
  {
   "cell_type": "code",
   "execution_count": 43,
   "id": "050c7877",
   "metadata": {},
   "outputs": [
    {
     "name": "stdout",
     "output_type": "stream",
     "text": [
      "學生1,[78, 70, 80, 80, 89]\n",
      "學生2,[90, 85, 84, 70, 96]\n",
      "學生3,[91, 64, 78, 86, 68]\n",
      "學生4,[63, 86, 67, 72, 83]\n",
      "學生5,[66, 92, 70, 84, 74]\n",
      "學生6,[60, 95, 92, 68, 96]\n",
      "學生7,[90, 80, 77, 81, 77]\n",
      "學生8,[70, 92, 91, 61, 94]\n",
      "學生9,[65, 78, 65, 69, 74]\n",
      "學生10,[72, 98, 95, 87, 99]\n",
      "學生11,[82, 69, 87, 70, 94]\n",
      "學生12,[66, 80, 73, 78, 60]\n",
      "學生13,[62, 68, 90, 62, 99]\n",
      "學生14,[92, 79, 71, 67, 83]\n",
      "學生15,[61, 85, 63, 83, 82]\n",
      "學生16,[95, 86, 86, 98, 96]\n",
      "學生17,[83, 67, 68, 81, 89]\n",
      "學生18,[77, 87, 95, 97, 74]\n",
      "學生19,[82, 90, 63, 99, 94]\n",
      "學生20,[61, 77, 75, 75, 79]\n",
      "學生21,[90, 68, 61, 81, 81]\n",
      "學生22,[85, 78, 72, 63, 93]\n",
      "學生23,[61, 97, 64, 92, 62]\n",
      "學生24,[72, 82, 62, 72, 69]\n",
      "學生25,[73, 93, 84, 100, 92]\n",
      "學生26,[99, 74, 62, 65, 71]\n",
      "學生27,[60, 72, 60, 60, 93]\n",
      "學生28,[83, 60, 90, 75, 95]\n",
      "學生29,[81, 88, 83, 63, 80]\n",
      "學生30,[72, 78, 78, 80, 63]\n",
      "學生31,[66, 79, 95, 78, 82]\n",
      "學生32,[63, 61, 63, 64, 66]\n",
      "學生33,[60, 96, 91, 71, 93]\n",
      "學生34,[79, 62, 69, 85, 86]\n",
      "學生35,[72, 79, 92, 99, 64]\n",
      "學生36,[74, 99, 67, 74, 100]\n",
      "學生37,[78, 72, 96, 90, 84]\n",
      "學生38,[60, 94, 81, 85, 64]\n",
      "學生39,[98, 70, 66, 98, 68]\n",
      "學生40,[88, 69, 95, 73, 60]\n",
      "學生41,[69, 96, 93, 60, 70]\n",
      "學生42,[81, 98, 65, 90, 68]\n",
      "學生43,[91, 71, 63, 100, 80]\n",
      "學生44,[84, 85, 98, 100, 79]\n",
      "學生45,[81, 97, 85, 94, 75]\n",
      "學生46,[78, 75, 93, 83, 96]\n",
      "學生47,[62, 78, 63, 83, 83]\n",
      "學生48,[96, 83, 73, 90, 90]\n",
      "學生49,[62, 87, 69, 60, 68]\n",
      "學生50,[82, 84, 84, 82, 70]\n"
     ]
    }
   ],
   "source": [
    "#2維list內容印出來\n",
    "for i in range(50):    \n",
    "    print(f\"學生{i+1} {students[i]}\")"
   ]
  },
  {
   "cell_type": "code",
   "execution_count": 44,
   "id": "1727c24b",
   "metadata": {},
   "outputs": [
    {
     "name": "stdout",
     "output_type": "stream",
     "text": [
      "[]\n",
      "[]\n",
      "[]\n",
      "[]\n",
      "[]\n"
     ]
    }
   ],
   "source": [
    "url = \"https://query1.finance.yahoo.com/v8/finance/chart/2330.TW?period1=0&period2=1549258857&interval=1d&events=history&=hP2rOschxO0\"\n"
   ]
  },
  {
   "cell_type": "code",
   "execution_count": 45,
   "id": "c91c87e6",
   "metadata": {},
   "outputs": [
    {
     "data": {
      "text/plain": [
       "[78, 80, 92, 67, 73]"
      ]
     },
     "execution_count": 45,
     "metadata": {},
     "output_type": "execute_result"
    }
   ],
   "source": []
  },
  {
   "cell_type": "code",
   "execution_count": 46,
   "id": "ef3a39b6",
   "metadata": {},
   "outputs": [
    {
     "name": "stdout",
     "output_type": "stream",
     "text": [
      "[74]\n",
      "[74, 72]\n",
      "[74, 72, 86]\n",
      "[74, 72, 86, 80]\n",
      "[74, 72, 86, 80, 78]\n"
     ]
    }
   ],
   "source": [
    "s=[]\n",
    "for x in range(5):\n",
    "    s.append(random.randint(60,100))\n",
    "    print(s)"
   ]
  },
  {
   "cell_type": "code",
   "execution_count": 47,
   "id": "96b9301d",
   "metadata": {},
   "outputs": [
    {
     "name": "stdout",
     "output_type": "stream",
     "text": [
      "83\n",
      "74\n",
      "65\n",
      "89\n",
      "64\n"
     ]
    }
   ],
   "source": [
    "for x in range(5):\n",
    "    print(random.randint(60,100))"
   ]
  },
  {
   "cell_type": "code",
   "execution_count": null,
   "id": "a8d0f63a",
   "metadata": {},
   "outputs": [],
   "source": []
  }
 ],
 "metadata": {
  "kernelspec": {
   "display_name": "Python 3 (ipykernel)",
   "language": "python",
   "name": "python3"
  },
  "language_info": {
   "codemirror_mode": {
    "name": "ipython",
    "version": 3
   },
   "file_extension": ".py",
   "mimetype": "text/x-python",
   "name": "python",
   "nbconvert_exporter": "python",
   "pygments_lexer": "ipython3",
   "version": "3.10.2"
  }
 },
 "nbformat": 4,
 "nbformat_minor": 5
}
