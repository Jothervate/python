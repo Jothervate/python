{
 "cells": [
  {
   "cell_type": "code",
   "execution_count": 4,
   "id": "8d6519ad",
   "metadata": {},
   "outputs": [
    {
     "name": "stdout",
     "output_type": "stream",
     "text": [
      "('星期一', '星期二', '星期三', '星期四', '星期五', '星期六', '星期日')\n",
      "星期一\n",
      "星期日\n",
      "星期一\n",
      "星期二\n",
      "星期三\n",
      "星期四\n",
      "星期五\n",
      "星期六\n",
      "星期日\n"
     ]
    }
   ],
   "source": [
    "#建立tuple\n",
    "t1 = ('星期一', '星期二', '星期三', '星期四', '星期五', '星期六', '星期日')\n",
    "print(t1)\n",
    "print(t1[0])\n",
    "print(t1[6])\n",
    "\n",
    "for item in t1:\n",
    "    print(item)"
   ]
  },
  {
   "cell_type": "code",
   "execution_count": 5,
   "id": "8fde2e12",
   "metadata": {},
   "outputs": [
    {
     "name": "stdout",
     "output_type": "stream",
     "text": [
      "['星期一', '星期二', '星期三', '星期四', '星期五', '星期六', '星期日']\n",
      "星期一\n",
      "星期日\n",
      "星期一\n",
      "星期二\n",
      "星期三\n",
      "星期四\n",
      "星期五\n",
      "星期六\n",
      "星期日\n"
     ]
    }
   ],
   "source": [
    "#建立list\n",
    "l1 = ['星期一', '星期二', '星期三', '星期四', '星期五', '星期六', '星期日']\n",
    "print(l1)\n",
    "print(l1[0])\n",
    "print(l1[6])\n",
    "\n",
    "for item in l1:\n",
    "    print(item)"
   ]
  },
  {
   "cell_type": "code",
   "execution_count": 7,
   "id": "7a3c45d4",
   "metadata": {},
   "outputs": [],
   "source": [
    "#建立變數,但變數內容沒有儲存任何值\n",
    "empty_var = None\n",
    "print(empty_var)"
   ]
  },
  {
   "cell_type": "code",
   "execution_count": 9,
   "id": "54d95b27",
   "metadata": {},
   "outputs": [
    {
     "name": "stdout",
     "output_type": "stream",
     "text": [
      "<class 'list'>\n",
      "[]\n"
     ]
    }
   ],
   "source": [
    "#建立空的list\n",
    "empty_list = []\n",
    "another_empty_list = list()\n",
    "\n",
    "print(empty_list.__class__)\n",
    "print(another_empty_list)"
   ]
  },
  {
   "cell_type": "code",
   "execution_count": 10,
   "id": "71113422",
   "metadata": {},
   "outputs": [
    {
     "data": {
      "text/plain": [
       "['c', 'a', 't']"
      ]
     },
     "execution_count": 10,
     "metadata": {},
     "output_type": "execute_result"
    }
   ],
   "source": [
    "list('cat')"
   ]
  },
  {
   "cell_type": "code",
   "execution_count": 11,
   "id": "1cb7334a",
   "metadata": {},
   "outputs": [
    {
     "data": {
      "text/plain": [
       "[1, 2, 3, 4]"
      ]
     },
     "execution_count": 11,
     "metadata": {},
     "output_type": "execute_result"
    }
   ],
   "source": [
    "list(range(1,5))"
   ]
  },
  {
   "cell_type": "code",
   "execution_count": 12,
   "id": "a164407c",
   "metadata": {},
   "outputs": [
    {
     "data": {
      "text/plain": [
       "['ready', 'fire', 'aim']"
      ]
     },
     "execution_count": 12,
     "metadata": {},
     "output_type": "execute_result"
    }
   ],
   "source": [
    "a_tuple = ('ready', 'fire', 'aim')\n",
    "list(a_tuple)"
   ]
  },
  {
   "cell_type": "code",
   "execution_count": 13,
   "id": "1b80c756",
   "metadata": {},
   "outputs": [
    {
     "data": {
      "text/plain": [
       "['1', '6', '2011']"
      ]
     },
     "execution_count": 13,
     "metadata": {},
     "output_type": "execute_result"
    }
   ],
   "source": [
    "birthday = '1/6/2011'\n",
    "birthday.split('/')"
   ]
  },
  {
   "cell_type": "code",
   "execution_count": 14,
   "id": "63ddffce",
   "metadata": {},
   "outputs": [
    {
     "data": {
      "text/plain": [
       "['星期一', '星期二', '星期三', '星期四', '星期五', '星期六', '星期日']"
      ]
     },
     "execution_count": 14,
     "metadata": {},
     "output_type": "execute_result"
    }
   ],
   "source": [
    "l1 = ['星期一', '星期二', '星期三', '星期四', '星期五', '星期六', '星期日']\n",
    "l1"
   ]
  },
  {
   "cell_type": "code",
   "execution_count": 15,
   "id": "73c897e6",
   "metadata": {},
   "outputs": [
    {
     "data": {
      "text/plain": [
       "['星期一', '星期二', '星期三', '星期四', '星期五', '星期六', '星期日', 1, 2.0, True]"
      ]
     },
     "execution_count": 15,
     "metadata": {},
     "output_type": "execute_result"
    }
   ],
   "source": [
    "l1 = ['星期一', '星期二', '星期三', '星期四', '星期五', '星期六', '星期日', 1, 2.0, True]\n",
    "l1"
   ]
  },
  {
   "cell_type": "code",
   "execution_count": 17,
   "id": "3cdfff70",
   "metadata": {},
   "outputs": [
    {
     "name": "stdout",
     "output_type": "stream",
     "text": [
      "星期日\n",
      "星期一\n"
     ]
    }
   ],
   "source": [
    "l1 = ['星期一', '星期二', '星期三', '星期四', '星期五', '星期六', '星期日']\n",
    "print(l1[-1])\n",
    "print(l1[0])"
   ]
  },
  {
   "cell_type": "code",
   "execution_count": 18,
   "id": "89e1aaab",
   "metadata": {},
   "outputs": [
    {
     "name": "stdout",
     "output_type": "stream",
     "text": [
      "['星期一', '星期二', '星期三', '星期四', '星期五', '星期六', '星期日']\n"
     ]
    }
   ],
   "source": [
    "#slice\n",
    "print(l1[:])"
   ]
  },
  {
   "cell_type": "code",
   "execution_count": 19,
   "id": "5176cd7a",
   "metadata": {},
   "outputs": [
    {
     "name": "stdout",
     "output_type": "stream",
     "text": [
      "['星期一', '星期二', '星期三']\n"
     ]
    }
   ],
   "source": [
    "print(l1[:3])"
   ]
  },
  {
   "cell_type": "code",
   "execution_count": 20,
   "id": "207ae25a",
   "metadata": {},
   "outputs": [
    {
     "name": "stdout",
     "output_type": "stream",
     "text": [
      "['星期五', '星期六', '星期日']\n"
     ]
    }
   ],
   "source": [
    "print(l1[-3:])"
   ]
  },
  {
   "cell_type": "code",
   "execution_count": 22,
   "id": "33686d07",
   "metadata": {},
   "outputs": [
    {
     "name": "stdout",
     "output_type": "stream",
     "text": [
      "['a', 'b', 'c']\n",
      "[10, 20, 30]\n"
     ]
    }
   ],
   "source": [
    "#修改內容\n",
    "list1 = ['a','b','c']\n",
    "print(list1)\n",
    "list1[0] = 10\n",
    "list1[1] = 20\n",
    "list1[2] = 30\n",
    "print(list1)"
   ]
  },
  {
   "cell_type": "code",
   "execution_count": 23,
   "id": "d7f56e61",
   "metadata": {},
   "outputs": [
    {
     "data": {
      "text/plain": [
       "[87, 98, 75, 87, 95]"
      ]
     },
     "execution_count": 23,
     "metadata": {},
     "output_type": "execute_result"
    }
   ],
   "source": [
    "stu1 = [87, 98, 75, 87, 95]\n",
    "stu1"
   ]
  },
  {
   "cell_type": "code",
   "execution_count": 28,
   "id": "4cc3bb5c",
   "metadata": {},
   "outputs": [
    {
     "name": "stdout",
     "output_type": "stream",
     "text": [
      "筆記電腦\n",
      "商用筆電\n",
      "ASUS\n"
     ]
    }
   ],
   "source": [
    "#2維list\n",
    "nb = ['筆記電腦', '商用筆電']\n",
    "mobile = ['APPLE', 'ASUS', 'HTC'] \n",
    "home =  [3, '冰箱', 2, '洗衣機']\n",
    "all3c = [nb, mobile, home]\n",
    "\n",
    "print(all3c[0][0])\n",
    "print(all3c[0][1])\n",
    "print(all3c[1][1])"
   ]
  },
  {
   "cell_type": "code",
   "execution_count": 29,
   "id": "5f13c2a5",
   "metadata": {},
   "outputs": [
    {
     "name": "stdout",
     "output_type": "stream",
     "text": [
      "筆記電腦\n",
      "商用筆電\n",
      "APPLE\n",
      "ASUS\n",
      "HTC\n",
      "3\n",
      "冰箱\n",
      "2\n",
      "洗衣機\n"
     ]
    }
   ],
   "source": [
    "for items in all3c:\n",
    "    for item in items:\n",
    "        print(item)"
   ]
  },
  {
   "cell_type": "code",
   "execution_count": 31,
   "id": "f09939f2",
   "metadata": {},
   "outputs": [
    {
     "data": {
      "text/plain": [
       "list"
      ]
     },
     "execution_count": 31,
     "metadata": {},
     "output_type": "execute_result"
    }
   ],
   "source": [
    "l1 = ['星期一', '星期二', '星期三', '星期四', '星期五', '星期六', '星期日']\n",
    "l1.__class__"
   ]
  },
  {
   "cell_type": "code",
   "execution_count": 32,
   "id": "7d4dadaf",
   "metadata": {},
   "outputs": [
    {
     "data": {
      "text/plain": [
       "[78, 80, 92, 67, 73]"
      ]
     },
     "execution_count": 32,
     "metadata": {},
     "output_type": "execute_result"
    }
   ],
   "source": [
    "#實體方法append\n",
    "scores = []\n",
    "scores.append(78)\n",
    "scores.append(80)\n",
    "scores.append(92)\n",
    "scores.append(67)\n",
    "scores.append(73)\n",
    "scores"
   ]
  },
  {
   "cell_type": "code",
   "execution_count": 33,
   "id": "a8230a4c",
   "metadata": {},
   "outputs": [
    {
     "data": {
      "text/plain": [
       "[78, 80, 100, 92, 67, 73]"
      ]
     },
     "execution_count": 33,
     "metadata": {},
     "output_type": "execute_result"
    }
   ],
   "source": [
    "#體方法insert\n",
    "scores.insert(2,100)\n",
    "scores"
   ]
  },
  {
   "cell_type": "code",
   "execution_count": 34,
   "id": "7b68b05c",
   "metadata": {},
   "outputs": [
    {
     "data": {
      "text/plain": [
       "[78, 80, 92, 67, 73]"
      ]
     },
     "execution_count": 34,
     "metadata": {},
     "output_type": "execute_result"
    }
   ],
   "source": [
    "#體方法remove\n",
    "scores.remove(100)\n",
    "scores"
   ]
  },
  {
   "cell_type": "code",
   "execution_count": 35,
   "id": "40c0d1ff",
   "metadata": {},
   "outputs": [
    {
     "data": {
      "text/plain": [
       "[78, 80, 92, 67]"
      ]
     },
     "execution_count": 35,
     "metadata": {},
     "output_type": "execute_result"
    }
   ],
   "source": [
    "#體方法pop()\n",
    "scores.pop()\n",
    "scores"
   ]
  },
  {
   "cell_type": "code",
   "execution_count": 36,
   "id": "f45632d7",
   "metadata": {},
   "outputs": [
    {
     "data": {
      "text/plain": [
       "1"
      ]
     },
     "execution_count": 36,
     "metadata": {},
     "output_type": "execute_result"
    }
   ],
   "source": [
    "#體方法index()\n",
    "scores.index(80)"
   ]
  },
  {
   "cell_type": "code",
   "execution_count": 37,
   "id": "54dd13ad",
   "metadata": {},
   "outputs": [
    {
     "data": {
      "text/plain": [
       "[]"
      ]
     },
     "execution_count": 37,
     "metadata": {},
     "output_type": "execute_result"
    }
   ],
   "source": [
    "#體方法clear()\n",
    "scores.clear()\n",
    "scores"
   ]
  },
  {
   "cell_type": "code",
   "execution_count": 38,
   "id": "7cb25d3b",
   "metadata": {},
   "outputs": [
    {
     "data": {
      "text/plain": [
       "[[98, 94, 66, 97, 82],\n",
       " [100, 80, 63, 74, 63],\n",
       " [83, 92, 95, 98, 96],\n",
       " [89, 77, 99, 92, 92],\n",
       " [76, 75, 83, 96, 98],\n",
       " [92, 85, 100, 85, 75],\n",
       " [75, 65, 94, 87, 91],\n",
       " [88, 66, 99, 91, 94],\n",
       " [94, 95, 79, 82, 76],\n",
       " [79, 85, 66, 96, 72],\n",
       " [75, 71, 77, 86, 80],\n",
       " [83, 96, 88, 79, 85],\n",
       " [79, 71, 62, 76, 71],\n",
       " [71, 94, 86, 62, 88],\n",
       " [75, 96, 82, 67, 95],\n",
       " [93, 61, 69, 71, 96],\n",
       " [81, 98, 76, 61, 60],\n",
       " [72, 69, 91, 88, 89],\n",
       " [77, 86, 71, 86, 64],\n",
       " [76, 64, 74, 89, 72],\n",
       " [67, 62, 98, 88, 68],\n",
       " [62, 66, 77, 91, 82],\n",
       " [88, 80, 99, 69, 77],\n",
       " [64, 89, 65, 69, 73],\n",
       " [74, 62, 78, 66, 98],\n",
       " [83, 64, 98, 80, 73],\n",
       " [92, 79, 92, 74, 99],\n",
       " [97, 94, 70, 64, 83],\n",
       " [64, 90, 70, 76, 91],\n",
       " [96, 95, 85, 88, 61],\n",
       " [95, 87, 60, 85, 66],\n",
       " [80, 79, 79, 70, 60],\n",
       " [78, 72, 78, 94, 61],\n",
       " [74, 86, 99, 91, 84],\n",
       " [68, 76, 60, 93, 63],\n",
       " [71, 60, 81, 68, 70],\n",
       " [74, 91, 91, 95, 85],\n",
       " [61, 77, 70, 69, 83],\n",
       " [89, 99, 84, 70, 82],\n",
       " [85, 67, 76, 64, 85],\n",
       " [78, 99, 69, 92, 72],\n",
       " [91, 71, 98, 66, 71],\n",
       " [77, 63, 79, 85, 74],\n",
       " [89, 87, 70, 92, 79],\n",
       " [95, 78, 89, 96, 99],\n",
       " [74, 67, 69, 95, 100],\n",
       " [99, 60, 83, 93, 99],\n",
       " [99, 99, 84, 64, 70],\n",
       " [93, 95, 81, 82, 86],\n",
       " [79, 79, 79, 100, 93]]"
      ]
     },
     "execution_count": 38,
     "metadata": {},
     "output_type": "execute_result"
    }
   ],
   "source": [
    "import random\n",
    "\n",
    "students = []\n",
    "for i in range(50):\n",
    "    scores = []\n",
    "    for j in range(5):\n",
    "        scores.append(random.randint(60,100))\n",
    "    students.append(scores)\n",
    "students"
   ]
  },
  {
   "cell_type": "code",
   "execution_count": null,
   "id": "bb2e96f0",
   "metadata": {},
   "outputs": [],
   "source": []
  }
 ],
 "metadata": {
  "kernelspec": {
   "display_name": "Python 3 (ipykernel)",
   "language": "python",
   "name": "python3"
  },
  "language_info": {
   "codemirror_mode": {
    "name": "ipython",
    "version": 3
   },
   "file_extension": ".py",
   "mimetype": "text/x-python",
   "name": "python",
   "nbconvert_exporter": "python",
   "pygments_lexer": "ipython3",
   "version": "3.10.2"
  }
 },
 "nbformat": 4,
 "nbformat_minor": 5
}
