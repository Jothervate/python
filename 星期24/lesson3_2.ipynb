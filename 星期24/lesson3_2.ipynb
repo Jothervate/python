{
 "cells": [
  {
   "cell_type": "code",
   "execution_count": 1,
   "id": "ea4cdd27",
   "metadata": {},
   "outputs": [
    {
     "name": "stdout",
     "output_type": "stream",
     "text": [
      "這是True的程式區塊\n",
      "這是True的最後一個縮排\n",
      "程式結束\n"
     ]
    }
   ],
   "source": [
    "if True :\n",
    "    print(\"這是True的程式區塊\")\n",
    "    print(\"這是True的最後一個縮排\")\n",
    "else:\n",
    "    print(\"這是False的程式區塊\")\n",
    "    print(\"這是False的最後一個縮排\")\n",
    "print(\"程式結束\")"
   ]
  },
  {
   "cell_type": "code",
   "execution_count": 8,
   "id": "79fd91ce",
   "metadata": {},
   "outputs": [
    {
     "name": "stdout",
     "output_type": "stream",
     "text": [
      "這是False的程式區塊\n",
      "這是False的最後一個縮排\n",
      "程式結束\n"
     ]
    }
   ],
   "source": [
    "if False :\n",
    "    print(\"這是True的程式區塊\")\n",
    "    print(\"這是True的最後一個縮排\")\n",
    "else:\n",
    "    print(\"這是False的程式區塊\")\n",
    "    print(\"這是False的最後一個縮排\")\n",
    "print(\"程式結束\")"
   ]
  },
  {
   "cell_type": "code",
   "execution_count": null,
   "id": "ca54608a",
   "metadata": {},
   "outputs": [],
   "source": []
  }
 ],
 "metadata": {
  "kernelspec": {
   "display_name": "Python 3 (ipykernel)",
   "language": "python",
   "name": "python3"
  },
  "language_info": {
   "codemirror_mode": {
    "name": "ipython",
    "version": 3
   },
   "file_extension": ".py",
   "mimetype": "text/x-python",
   "name": "python",
   "nbconvert_exporter": "python",
   "pygments_lexer": "ipython3",
   "version": "3.10.2"
  }
 },
 "nbformat": 4,
 "nbformat_minor": 5
}
