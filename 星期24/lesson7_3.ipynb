{
 "cells": [
  {
   "cell_type": "code",
   "execution_count": 2,
   "id": "8a89f9f0",
   "metadata": {},
   "outputs": [
    {
     "name": "stdout",
     "output_type": "stream",
     "text": [
      "30\n",
      "10\n"
     ]
    }
   ],
   "source": [
    "def add(n,m):\n",
    "    return n+m\n",
    "\n",
    "def sub(n,m):\n",
    "    return n-m\n",
    "\n",
    "total = add(10, 20)\n",
    "print(total)\n",
    "sub_value = sub(20,10)\n",
    "print(sub_value)"
   ]
  },
  {
   "cell_type": "code",
   "execution_count": null,
   "id": "985d4047",
   "metadata": {},
   "outputs": [],
   "source": []
  }
 ],
 "metadata": {
  "kernelspec": {
   "display_name": "Python 3 (ipykernel)",
   "language": "python",
   "name": "python3"
  },
  "language_info": {
   "codemirror_mode": {
    "name": "ipython",
    "version": 3
   },
   "file_extension": ".py",
   "mimetype": "text/x-python",
   "name": "python",
   "nbconvert_exporter": "python",
   "pygments_lexer": "ipython3",
   "version": "3.10.2"
  }
 },
 "nbformat": 4,
 "nbformat_minor": 5
}
