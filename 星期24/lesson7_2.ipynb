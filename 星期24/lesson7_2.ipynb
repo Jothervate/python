{
 "cells": [
  {
   "cell_type": "code",
   "execution_count": 1,
   "id": "c7e8fe95",
   "metadata": {},
   "outputs": [
    {
     "data": {
      "text/plain": [
       "set()"
      ]
     },
     "execution_count": 1,
     "metadata": {},
     "output_type": "execute_result"
    }
   ],
   "source": [
    "empty_set = set()\n",
    "empty_set"
   ]
  },
  {
   "cell_type": "code",
   "execution_count": 2,
   "id": "da5e7581",
   "metadata": {},
   "outputs": [
    {
     "data": {
      "text/plain": [
       "{0, 2, 4, 6, 8}"
      ]
     },
     "execution_count": 2,
     "metadata": {},
     "output_type": "execute_result"
    }
   ],
   "source": [
    "even_numbers = {0, 2, 4, 6, 8, 0, 2, 4, 6, 8}\n",
    "even_numbers"
   ]
  },
  {
   "cell_type": "code",
   "execution_count": 3,
   "id": "226eddb1",
   "metadata": {},
   "outputs": [
    {
     "data": {
      "text/plain": [
       "[0, 2, 4, 6, 8]"
      ]
     },
     "execution_count": 3,
     "metadata": {},
     "output_type": "execute_result"
    }
   ],
   "source": [
    "even_list = list(even_numbers)\n",
    "even_list"
   ]
  },
  {
   "cell_type": "code",
   "execution_count": 4,
   "id": "522c34c0",
   "metadata": {},
   "outputs": [
    {
     "data": {
      "text/plain": [
       "5"
      ]
     },
     "execution_count": 4,
     "metadata": {},
     "output_type": "execute_result"
    }
   ],
   "source": [
    "len(even_list)"
   ]
  },
  {
   "cell_type": "code",
   "execution_count": 16,
   "id": "1aaf1b3c",
   "metadata": {},
   "outputs": [
    {
     "name": "stdout",
     "output_type": "stream",
     "text": [
      "3 5 12 13 47 26 特別號:30\n"
     ]
    }
   ],
   "source": [
    "#============================================================================\n",
    "#Name        : biglottery.py\n",
    "#撰寫一個大樂透電腦自動選號程式，程式執行會以亂數的方式顯示1-49之間七個不重複的大樂透號碼。\n",
    "\n",
    "#============================================================\n",
    "\n",
    "import random\n",
    "\n",
    "lots = set()\n",
    "\n",
    "while(len(lots) < 7):\n",
    "    lots.add(random.randint(1,49))\n",
    "\n",
    "lotsList = list(lots)\n",
    "special = lotsList.pop()\n",
    "\n",
    "for item in lotsList:\n",
    "    print(item,end=' ')\n",
    "    \n",
    "print(f\"特別號:{special}\")"
   ]
  },
  {
   "cell_type": "code",
   "execution_count": 19,
   "id": "b97c9a33",
   "metadata": {},
   "outputs": [
    {
     "name": "stdout",
     "output_type": "stream",
     "text": [
      "請輸入電腦選號的組數:10\n",
      "第1組:\n",
      "2 38 9 11 13 46 特別號:21\n",
      "=========\n",
      "第2組:\n",
      "3 11 44 14 47 29 特別號:31\n",
      "=========\n",
      "第3組:\n",
      "3 35 9 19 23 28 特別號:30\n",
      "=========\n",
      "第4組:\n",
      "1 33 6 39 41 12 特別號:17\n",
      "=========\n",
      "第5組:\n",
      "1 37 6 39 10 43 特別號:15\n",
      "=========\n",
      "第6組:\n",
      "7 43 17 19 21 25 特別號:26\n",
      "=========\n",
      "第7組:\n",
      "32 12 46 21 24 27 特別號:28\n",
      "=========\n",
      "第8組:\n",
      "1 6 39 10 11 45 特別號:48\n",
      "=========\n",
      "第9組:\n",
      "1 36 38 12 49 21 特別號:31\n",
      "=========\n",
      "第10組:\n",
      "38 9 11 13 25 26 特別號:27\n",
      "=========\n"
     ]
    }
   ],
   "source": [
    "import random\n",
    "def one_set_lot():\n",
    "    lots = set()\n",
    "\n",
    "    while(len(lots) < 7):\n",
    "        lots.add(random.randint(1,49))\n",
    "\n",
    "    lotsList = list(lots)\n",
    "    special = lotsList.pop()\n",
    "\n",
    "    for item in lotsList:\n",
    "        print(item,end=' ')\n",
    "\n",
    "    print(f\"特別號:{special}\")\n",
    "\n",
    "nums = eval(input(\"請輸入電腦選號的組數:\"))\n",
    "\n",
    "for i in range(nums):\n",
    "    print(f\"第{i+1}組:\")\n",
    "    one_set_lot()\n",
    "    print(\"=========\")"
   ]
  },
  {
   "cell_type": "code",
   "execution_count": null,
   "id": "9d265c6b",
   "metadata": {},
   "outputs": [],
   "source": []
  }
 ],
 "metadata": {
  "kernelspec": {
   "display_name": "Python 3 (ipykernel)",
   "language": "python",
   "name": "python3"
  },
  "language_info": {
   "codemirror_mode": {
    "name": "ipython",
    "version": 3
   },
   "file_extension": ".py",
   "mimetype": "text/x-python",
   "name": "python",
   "nbconvert_exporter": "python",
   "pygments_lexer": "ipython3",
   "version": "3.10.2"
  }
 },
 "nbformat": 4,
 "nbformat_minor": 5
}
