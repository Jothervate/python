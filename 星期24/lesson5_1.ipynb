{
 "cells": [
  {
   "cell_type": "code",
   "execution_count": 4,
   "id": "68aef3a3",
   "metadata": {},
   "outputs": [
    {
     "name": "stdout",
     "output_type": "stream",
     "text": [
      "abcdefghijklmnopqrstuvwxyz\n"
     ]
    },
    {
     "data": {
      "text/plain": [
       "'abcdefghijklmnopqrstuvwxyz'"
      ]
     },
     "execution_count": 4,
     "metadata": {},
     "output_type": "execute_result"
    }
   ],
   "source": [
    "#單行文字\n",
    "letters = 'abcdefghijklmnopqrstuvwxyz'\n",
    "print(letters)\n",
    "letters"
   ]
  },
  {
   "cell_type": "code",
   "execution_count": 6,
   "id": "0fbb365f",
   "metadata": {},
   "outputs": [
    {
     "name": "stdout",
     "output_type": "stream",
     "text": [
      "\n",
      "字元依照順序排序:\n",
      "\n",
      "第一個字索引編號為 0，第二個字索引編號為 1。\n",
      "\n",
      "最後一個字索引編號為 -1，倒數第二個字索引編號為 -2。\n",
      "\n"
     ]
    },
    {
     "data": {
      "text/plain": [
       "'\\n字元依照順序排序:\\n\\n第一個字索引編號為 0，第二個字索引編號為 1。\\n\\n最後一個字索引編號為 -1，倒數第二個字索引編號為 -2。\\n'"
      ]
     },
     "execution_count": 6,
     "metadata": {},
     "output_type": "execute_result"
    }
   ],
   "source": [
    "#多行文字\n",
    "words = '''\n",
    "字元依照順序排序:\n",
    "\n",
    "第一個字索引編號為 0，第二個字索引編號為 1。\n",
    "\n",
    "最後一個字索引編號為 -1，倒數第二個字索引編號為 -2。\n",
    "'''\n",
    "print(words)\n",
    "words"
   ]
  },
  {
   "cell_type": "code",
   "execution_count": 7,
   "id": "fd4e7ab7",
   "metadata": {},
   "outputs": [
    {
     "data": {
      "text/plain": [
       "26"
      ]
     },
     "execution_count": 7,
     "metadata": {},
     "output_type": "execute_result"
    }
   ],
   "source": [
    "#字串長度\n",
    "length = len(letters)\n",
    "length"
   ]
  },
  {
   "cell_type": "code",
   "execution_count": 9,
   "id": "1f007f87",
   "metadata": {},
   "outputs": [
    {
     "name": "stdout",
     "output_type": "stream",
     "text": [
      "a\n",
      "b\n",
      "z\n"
     ]
    }
   ],
   "source": [
    "#字串有subscript()\n",
    "print(letters[0])\n",
    "print(letters[1])\n",
    "print(letters[25])"
   ]
  },
  {
   "cell_type": "code",
   "execution_count": 10,
   "id": "00232c8d",
   "metadata": {},
   "outputs": [
    {
     "name": "stdout",
     "output_type": "stream",
     "text": [
      "a\n",
      "b\n",
      "c\n",
      "d\n",
      "e\n",
      "f\n",
      "g\n",
      "h\n",
      "i\n",
      "j\n",
      "k\n",
      "l\n",
      "m\n",
      "n\n",
      "o\n",
      "p\n",
      "q\n",
      "r\n",
      "s\n",
      "t\n",
      "u\n",
      "v\n",
      "w\n",
      "x\n",
      "y\n",
      "z\n"
     ]
    }
   ],
   "source": [
    "for i in range(length):\n",
    "    print(letters[i])"
   ]
  },
  {
   "cell_type": "code",
   "execution_count": 11,
   "id": "104c2833",
   "metadata": {},
   "outputs": [
    {
     "name": "stdout",
     "output_type": "stream",
     "text": [
      "a\n",
      "b\n",
      "c\n",
      "d\n",
      "e\n",
      "f\n",
      "g\n",
      "h\n",
      "i\n",
      "j\n",
      "k\n",
      "l\n",
      "m\n",
      "n\n",
      "o\n",
      "p\n",
      "q\n",
      "r\n",
      "s\n",
      "t\n",
      "u\n",
      "v\n",
      "w\n",
      "x\n",
      "y\n",
      "z\n"
     ]
    }
   ],
   "source": [
    "for letter in letters:\n",
    "    print(letter)"
   ]
  },
  {
   "cell_type": "code",
   "execution_count": 13,
   "id": "7269318b",
   "metadata": {},
   "outputs": [
    {
     "ename": "TypeError",
     "evalue": "'str' object does not support item assignment",
     "output_type": "error",
     "traceback": [
      "\u001b[0;31m---------------------------------------------------------------------------\u001b[0m",
      "\u001b[0;31mTypeError\u001b[0m                                 Traceback (most recent call last)",
      "Input \u001b[0;32mIn [13]\u001b[0m, in \u001b[0;36m<cell line: 3>\u001b[0;34m()\u001b[0m\n\u001b[1;32m      1\u001b[0m \u001b[38;5;66;03m#字串不可以改變單獨的字元\u001b[39;00m\n\u001b[1;32m      2\u001b[0m name \u001b[38;5;241m=\u001b[39m \u001b[38;5;124m\"\u001b[39m\u001b[38;5;124mHenny\u001b[39m\u001b[38;5;124m\"\u001b[39m\n\u001b[0;32m----> 3\u001b[0m name[\u001b[38;5;241m0\u001b[39m] \u001b[38;5;241m=\u001b[39m \u001b[38;5;124m\"\u001b[39m\u001b[38;5;124mP\u001b[39m\u001b[38;5;124m\"\u001b[39m\n",
      "\u001b[0;31mTypeError\u001b[0m: 'str' object does not support item assignment"
     ]
    }
   ],
   "source": [
    "#字串不可以改變單獨的字元\n",
    "name = \"Henny\"\n",
    "name[0] = \"P\""
   ]
  },
  {
   "cell_type": "code",
   "execution_count": 15,
   "id": "5ad4a9b4",
   "metadata": {},
   "outputs": [
    {
     "name": "stdout",
     "output_type": "stream",
     "text": [
      "Henny\n",
      "Penny\n"
     ]
    }
   ],
   "source": [
    "name = \"Henny\"\n",
    "print(name)\n",
    "name = \"Penny\"\n",
    "print(name)"
   ]
  },
  {
   "cell_type": "code",
   "execution_count": 18,
   "id": "23610b6c",
   "metadata": {},
   "outputs": [
    {
     "data": {
      "text/plain": [
       "'Hello'"
      ]
     },
     "execution_count": 18,
     "metadata": {},
     "output_type": "execute_result"
    }
   ],
   "source": [
    "#字串的切割slice\n",
    "#[start:end:step]\n",
    "\n",
    "letters = \"Hello World\"\n",
    "letters[0:5:1]"
   ]
  },
  {
   "cell_type": "code",
   "execution_count": 20,
   "id": "2fa3ea65",
   "metadata": {},
   "outputs": [
    {
     "data": {
      "text/plain": [
       "'Hello'"
      ]
     },
     "execution_count": 20,
     "metadata": {},
     "output_type": "execute_result"
    }
   ],
   "source": [
    "letters[-11:-6:1]"
   ]
  },
  {
   "cell_type": "code",
   "execution_count": 21,
   "id": "488bd5d0",
   "metadata": {},
   "outputs": [
    {
     "data": {
      "text/plain": [
       "'Hello World'"
      ]
     },
     "execution_count": 21,
     "metadata": {},
     "output_type": "execute_result"
    }
   ],
   "source": [
    "letters[:]"
   ]
  },
  {
   "cell_type": "code",
   "execution_count": 23,
   "id": "2a70de1a",
   "metadata": {},
   "outputs": [
    {
     "data": {
      "text/plain": [
       "'Hello'"
      ]
     },
     "execution_count": 23,
     "metadata": {},
     "output_type": "execute_result"
    }
   ],
   "source": [
    "#最常用的\n",
    "letters[:5]"
   ]
  },
  {
   "cell_type": "code",
   "execution_count": 24,
   "id": "fc61f1c8",
   "metadata": {},
   "outputs": [
    {
     "data": {
      "text/plain": [
       "'World'"
      ]
     },
     "execution_count": 24,
     "metadata": {},
     "output_type": "execute_result"
    }
   ],
   "source": [
    "#最常用的\n",
    "letters[-5:]"
   ]
  },
  {
   "cell_type": "code",
   "execution_count": 27,
   "id": "1aff8aa7",
   "metadata": {},
   "outputs": [
    {
     "name": "stdout",
     "output_type": "stream",
     "text": [
      "<class 'str'>\n"
     ]
    }
   ],
   "source": [
    "#字串常用的字串實體方法()\n",
    "name = 'Henny...'\n",
    "print(name.__class__)"
   ]
  },
  {
   "cell_type": "code",
   "execution_count": 28,
   "id": "d7b7fb2e",
   "metadata": {},
   "outputs": [
    {
     "data": {
      "text/plain": [
       "'Henny'"
      ]
     },
     "execution_count": 28,
     "metadata": {},
     "output_type": "execute_result"
    }
   ],
   "source": [
    "newName = name.strip('.')\n",
    "newName"
   ]
  },
  {
   "cell_type": "code",
   "execution_count": 29,
   "id": "e6fbf008",
   "metadata": {},
   "outputs": [
    {
     "data": {
      "text/plain": [
       "'Penny'"
      ]
     },
     "execution_count": 29,
     "metadata": {},
     "output_type": "execute_result"
    }
   ],
   "source": [
    "name = \"Henny\"\n",
    "name.replace(\"H\",\"P\")"
   ]
  },
  {
   "cell_type": "code",
   "execution_count": 33,
   "id": "9453b2cd",
   "metadata": {},
   "outputs": [
    {
     "name": "stdout",
     "output_type": "stream",
     "text": [
      "有這個字\n",
      "起始索引位置是8\n"
     ]
    }
   ],
   "source": [
    "#字串搜尋\n",
    "str1 = \"this is Python Tutorial, there\"\n",
    "lower = str1.lower()\n",
    "\n",
    "if lower.find(\"python\") == -1:\n",
    "    print(\"沒有此文字\")\n",
    "else:\n",
    "    print(\"有這個字\")\n",
    "    print(f\"起始索引位置是{lower.find('python')}\")\n"
   ]
  },
  {
   "cell_type": "code",
   "execution_count": 35,
   "id": "80271c4f",
   "metadata": {},
   "outputs": [
    {
     "name": "stdout",
     "output_type": "stream",
     "text": [
      "有這個文字\n"
     ]
    }
   ],
   "source": [
    "#字串搜尋\n",
    "str1 = \"this is Python Tutorial, there\"\n",
    "lower = str1.lower()\n",
    "\n",
    "if \"python\" in lower:\n",
    "    print(\"有這個文字\")\n",
    "else:\n",
    "    print(\"沒有這個字\")"
   ]
  },
  {
   "cell_type": "code",
   "execution_count": 38,
   "id": "c72faa22",
   "metadata": {},
   "outputs": [
    {
     "name": "stdout",
     "output_type": "stream",
     "text": [
      "['python', 'java', 'c++', 'ruby']\n",
      "python%java%c++%ruby\n"
     ]
    }
   ],
   "source": [
    "#split(),join()\n",
    "str2 = \"python-java-c++-ruby\"\n",
    "str2list = str2.split(\"-\")\n",
    "print(str2list)\n",
    "\n",
    "str3 = \"%\".join(str2list)\n",
    "print(str3)"
   ]
  },
  {
   "cell_type": "code",
   "execution_count": null,
   "id": "8822229a",
   "metadata": {},
   "outputs": [],
   "source": []
  }
 ],
 "metadata": {
  "kernelspec": {
   "display_name": "Python 3 (ipykernel)",
   "language": "python",
   "name": "python3"
  },
  "language_info": {
   "codemirror_mode": {
    "name": "ipython",
    "version": 3
   },
   "file_extension": ".py",
   "mimetype": "text/x-python",
   "name": "python",
   "nbconvert_exporter": "python",
   "pygments_lexer": "ipython3",
   "version": "3.10.2"
  }
 },
 "nbformat": 4,
 "nbformat_minor": 5
}
