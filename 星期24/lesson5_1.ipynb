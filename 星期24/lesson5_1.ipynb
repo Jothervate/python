{
 "cells": [
  {
   "cell_type": "code",
   "execution_count": 4,
   "id": "5c36f60d",
   "metadata": {},
   "outputs": [
    {
     "name": "stdout",
     "output_type": "stream",
     "text": [
      "abcdefghijklmnopqrstuvwxyz\n"
     ]
    },
    {
     "data": {
      "text/plain": [
       "'abcdefghijklmnopqrstuvwxyz'"
      ]
     },
     "execution_count": 4,
     "metadata": {},
     "output_type": "execute_result"
    }
   ],
   "source": [
    "#單行文字\n",
    "letters = 'abcdefghijklmnopqrstuvwxyz'\n",
    "print(letters)\n",
    "letters"
   ]
  },
  {
   "cell_type": "code",
   "execution_count": 6,
   "id": "8c89141e",
   "metadata": {},
   "outputs": [
    {
     "name": "stdout",
     "output_type": "stream",
     "text": [
      "\n",
      "字元依照順序排序:\n",
      "\n",
      "第一個字索引編號為 0，第二個字索引編號為 1。\n",
      "\n",
      "最後一個字索引編號為 -1，倒數第二個字索引編號為 -2。\n",
      "\n"
     ]
    },
    {
     "data": {
      "text/plain": [
       "'\\n字元依照順序排序:\\n\\n第一個字索引編號為 0，第二個字索引編號為 1。\\n\\n最後一個字索引編號為 -1，倒數第二個字索引編號為 -2。\\n'"
      ]
     },
     "execution_count": 6,
     "metadata": {},
     "output_type": "execute_result"
    }
   ],
   "source": [
    "#多行文字\n",
    "words = '''\n",
    "字元依照順序排序:\n",
    "\n",
    "第一個字索引編號為 0，第二個字索引編號為 1。\n",
    "\n",
    "最後一個字索引編號為 -1，倒數第二個字索引編號為 -2。\n",
    "'''\n",
    "print(words)\n",
    "words"
   ]
  },
  {
   "cell_type": "code",
   "execution_count": 7,
   "id": "c0c7c9d6",
   "metadata": {},
   "outputs": [
    {
     "data": {
      "text/plain": [
       "26"
      ]
     },
     "execution_count": 7,
     "metadata": {},
     "output_type": "execute_result"
    }
   ],
   "source": [
    "#字串長度\n",
    "length = len(letters)\n",
    "length"
   ]
  },
  {
   "cell_type": "code",
   "execution_count": 9,
   "id": "2bdaf123",
   "metadata": {},
   "outputs": [
    {
     "name": "stdout",
     "output_type": "stream",
     "text": [
      "a\n",
      "b\n",
      "z\n"
     ]
    }
   ],
   "source": [
    "#字串有subscript()\n",
    "print(letters[0])\n",
    "print(letters[1])\n",
    "print(letters[25])"
   ]
  },
  {
   "cell_type": "code",
   "execution_count": 10,
   "id": "d53cc5c4",
   "metadata": {},
   "outputs": [
    {
     "name": "stdout",
     "output_type": "stream",
     "text": [
      "a\n",
      "b\n",
      "c\n",
      "d\n",
      "e\n",
      "f\n",
      "g\n",
      "h\n",
      "i\n",
      "j\n",
      "k\n",
      "l\n",
      "m\n",
      "n\n",
      "o\n",
      "p\n",
      "q\n",
      "r\n",
      "s\n",
      "t\n",
      "u\n",
      "v\n",
      "w\n",
      "x\n",
      "y\n",
      "z\n"
     ]
    }
   ],
   "source": [
    "for i in range(length):\n",
    "    print(letters[i])"
   ]
  },
  {
   "cell_type": "code",
   "execution_count": 11,
   "id": "ea5cf177",
   "metadata": {},
   "outputs": [
    {
     "name": "stdout",
     "output_type": "stream",
     "text": [
      "a\n",
      "b\n",
      "c\n",
      "d\n",
      "e\n",
      "f\n",
      "g\n",
      "h\n",
      "i\n",
      "j\n",
      "k\n",
      "l\n",
      "m\n",
      "n\n",
      "o\n",
      "p\n",
      "q\n",
      "r\n",
      "s\n",
      "t\n",
      "u\n",
      "v\n",
      "w\n",
      "x\n",
      "y\n",
      "z\n"
     ]
    }
   ],
   "source": [
    "for letter in letters:\n",
    "    print(letter)"
   ]
  },
  {
   "cell_type": "code",
   "execution_count": 13,
   "id": "a513a060",
   "metadata": {},
   "outputs": [
    {
     "ename": "TypeError",
     "evalue": "'str' object does not support item assignment",
     "output_type": "error",
     "traceback": [
      "\u001b[0;31m---------------------------------------------------------------------------\u001b[0m",
      "\u001b[0;31mTypeError\u001b[0m                                 Traceback (most recent call last)",
      "Input \u001b[0;32mIn [13]\u001b[0m, in \u001b[0;36m<cell line: 3>\u001b[0;34m()\u001b[0m\n\u001b[1;32m      1\u001b[0m \u001b[38;5;66;03m#字串不可以改變單獨的字元\u001b[39;00m\n\u001b[1;32m      2\u001b[0m name \u001b[38;5;241m=\u001b[39m \u001b[38;5;124m\"\u001b[39m\u001b[38;5;124mHenny\u001b[39m\u001b[38;5;124m\"\u001b[39m\n\u001b[0;32m----> 3\u001b[0m name[\u001b[38;5;241m0\u001b[39m] \u001b[38;5;241m=\u001b[39m \u001b[38;5;124m\"\u001b[39m\u001b[38;5;124mP\u001b[39m\u001b[38;5;124m\"\u001b[39m\n",
      "\u001b[0;31mTypeError\u001b[0m: 'str' object does not support item assignment"
     ]
    }
   ],
   "source": [
    "#字串不可以改變單獨的字元\n",
    "name = \"Henny\"\n",
    "name[0] = \"P\""
   ]
  },
  {
   "cell_type": "code",
   "execution_count": 15,
   "id": "9d3b1972",
   "metadata": {},
   "outputs": [
    {
     "name": "stdout",
     "output_type": "stream",
     "text": [
      "Henny\n",
      "Penny\n"
     ]
    }
   ],
   "source": [
    "name = \"Henny\"\n",
    "print(name)\n",
    "name = \"Penny\"\n",
    "print(name)"
   ]
  },
  {
   "cell_type": "code",
   "execution_count": 18,
   "id": "fb3027e9",
   "metadata": {},
   "outputs": [
    {
     "data": {
      "text/plain": [
       "'Hello'"
      ]
     },
     "execution_count": 18,
     "metadata": {},
     "output_type": "execute_result"
    }
   ],
   "source": [
    "#字串的切割slice\n",
    "#[start:end:step]\n",
    "\n",
    "letters = \"Hello World\"\n",
    "letters[0:5:1]"
   ]
  },
  {
   "cell_type": "code",
   "execution_count": 20,
   "id": "292801fd",
   "metadata": {},
   "outputs": [
    {
     "data": {
      "text/plain": [
       "'Hello'"
      ]
     },
     "execution_count": 20,
     "metadata": {},
     "output_type": "execute_result"
    }
   ],
   "source": [
    "letters[-11:-6:1]"
   ]
  },
  {
   "cell_type": "code",
   "execution_count": 21,
   "id": "6e2ab582",
   "metadata": {},
   "outputs": [
    {
     "data": {
      "text/plain": [
       "'Hello World'"
      ]
     },
     "execution_count": 21,
     "metadata": {},
     "output_type": "execute_result"
    }
   ],
   "source": [
    "letters[:]"
   ]
  },
  {
   "cell_type": "code",
   "execution_count": 23,
   "id": "9a84d543",
   "metadata": {},
   "outputs": [
    {
     "data": {
      "text/plain": [
       "'Hello'"
      ]
     },
     "execution_count": 23,
     "metadata": {},
     "output_type": "execute_result"
    }
   ],
   "source": [
    "#最常用的\n",
    "letters[:5]"
   ]
  },
  {
   "cell_type": "code",
   "execution_count": 24,
   "id": "520e90d6",
   "metadata": {},
   "outputs": [
    {
     "data": {
      "text/plain": [
       "'World'"
      ]
     },
     "execution_count": 24,
     "metadata": {},
     "output_type": "execute_result"
    }
   ],
   "source": [
    "#最常用的\n",
    "letters[-5:]"
   ]
  },
  {
   "cell_type": "code",
   "execution_count": 27,
   "id": "901a71d8",
   "metadata": {},
   "outputs": [
    {
     "name": "stdout",
     "output_type": "stream",
     "text": [
      "<class 'str'>\n"
     ]
    }
   ],
   "source": [
    "#字串常用的字串實體方法()\n",
    "name = 'Henny...'\n",
    "print(name.__class__)"
   ]
  },
  {
   "cell_type": "code",
   "execution_count": 28,
   "id": "3e0ccd44",
   "metadata": {},
   "outputs": [
    {
     "data": {
      "text/plain": [
       "'Henny'"
      ]
     },
     "execution_count": 28,
     "metadata": {},
     "output_type": "execute_result"
    }
   ],
   "source": [
    "newName = name.strip('.')\n",
    "newName"
   ]
  },
  {
   "cell_type": "code",
   "execution_count": 29,
   "id": "49b5cacf",
   "metadata": {},
   "outputs": [
    {
     "data": {
      "text/plain": [
       "'Penny'"
      ]
     },
     "execution_count": 29,
     "metadata": {},
     "output_type": "execute_result"
    }
   ],
   "source": [
    "name = \"Henny\"\n",
    "name.replace(\"H\",\"P\")"
   ]
  }
 ],
 "metadata": {
  "kernelspec": {
   "display_name": "Python 3 (ipykernel)",
   "language": "python",
   "name": "python3"
  },
  "language_info": {
   "codemirror_mode": {
    "name": "ipython",
    "version": 3
   },
   "file_extension": ".py",
   "mimetype": "text/x-python",
   "name": "python",
   "nbconvert_exporter": "python",
   "pygments_lexer": "ipython3",
   "version": "3.10.2"
  }
 },
 "nbformat": 4,
 "nbformat_minor": 5
}
