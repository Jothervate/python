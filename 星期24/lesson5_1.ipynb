{
 "cells": [
  {
   "cell_type": "code",
   "execution_count": 3,
   "id": "1f4b8d90",
   "metadata": {},
   "outputs": [
    {
     "data": {
      "text/plain": [
       "[10, 20, 30, 40, 50]"
      ]
     },
     "execution_count": 3,
     "metadata": {},
     "output_type": "execute_result"
    }
   ],
   "source": [
    "list1 = [10, 20, 30, 40, 50]\n",
    "list1"
   ]
  },
  {
   "cell_type": "code",
   "execution_count": 5,
   "id": "da4c222c",
   "metadata": {},
   "outputs": [
    {
     "data": {
      "text/plain": [
       "list"
      ]
     },
     "execution_count": 5,
     "metadata": {},
     "output_type": "execute_result"
    }
   ],
   "source": [
    "list1.__class__"
   ]
  },
  {
   "cell_type": "code",
   "execution_count": 8,
   "id": "488e74d3",
   "metadata": {},
   "outputs": [
    {
     "name": "stdout",
     "output_type": "stream",
     "text": [
      "10\n",
      "60\n"
     ]
    }
   ],
   "source": [
    "#取出值\n",
    "print(list1[0])\n",
    "list1[0] = 60 # 改變值\n",
    "print(list1[0])"
   ]
  },
  {
   "cell_type": "code",
   "execution_count": 9,
   "id": "80733fe4",
   "metadata": {},
   "outputs": [
    {
     "ename": "IndexError",
     "evalue": "list index out of range",
     "output_type": "error",
     "traceback": [
      "\u001b[0;31m---------------------------------------------------------------------------\u001b[0m",
      "\u001b[0;31mIndexError\u001b[0m                                Traceback (most recent call last)",
      "Input \u001b[0;32mIn [9]\u001b[0m, in \u001b[0;36m<module>\u001b[0;34m\u001b[0m\n\u001b[1;32m      1\u001b[0m \u001b[38;5;66;03m#超出索引\u001b[39;00m\n\u001b[0;32m----> 2\u001b[0m \u001b[43mlist1\u001b[49m\u001b[43m[\u001b[49m\u001b[38;5;241;43m20\u001b[39;49m\u001b[43m]\u001b[49m\n",
      "\u001b[0;31mIndexError\u001b[0m: list index out of range"
     ]
    }
   ],
   "source": [
    "#超出索引\n",
    "list1[20]"
   ]
  },
  {
   "cell_type": "code",
   "execution_count": 16,
   "id": "640a4e19",
   "metadata": {},
   "outputs": [
    {
     "data": {
      "text/plain": [
       "[1,\n",
       " 2,\n",
       " 3,\n",
       " 4,\n",
       " 5,\n",
       " 6,\n",
       " 7,\n",
       " 8,\n",
       " 9,\n",
       " 10,\n",
       " 11,\n",
       " 12,\n",
       " 13,\n",
       " 14,\n",
       " 15,\n",
       " 16,\n",
       " 17,\n",
       " 18,\n",
       " 19,\n",
       " 20,\n",
       " 21,\n",
       " 22,\n",
       " 23,\n",
       " 24,\n",
       " 25,\n",
       " 26,\n",
       " 27,\n",
       " 28,\n",
       " 29,\n",
       " 30,\n",
       " 31,\n",
       " 32,\n",
       " 33,\n",
       " 34,\n",
       " 35,\n",
       " 36,\n",
       " 37,\n",
       " 38,\n",
       " 39,\n",
       " 40,\n",
       " 41,\n",
       " 42,\n",
       " 43,\n",
       " 44,\n",
       " 45,\n",
       " 46,\n",
       " 47,\n",
       " 48,\n",
       " 49,\n",
       " 50,\n",
       " 51,\n",
       " 52,\n",
       " 53,\n",
       " 54,\n",
       " 55,\n",
       " 56,\n",
       " 57,\n",
       " 58,\n",
       " 59,\n",
       " 60,\n",
       " 61,\n",
       " 62,\n",
       " 63,\n",
       " 64,\n",
       " 65,\n",
       " 66,\n",
       " 67,\n",
       " 68,\n",
       " 69,\n",
       " 70,\n",
       " 71,\n",
       " 72,\n",
       " 73,\n",
       " 74,\n",
       " 75,\n",
       " 76,\n",
       " 77,\n",
       " 78,\n",
       " 79,\n",
       " 80,\n",
       " 81,\n",
       " 82,\n",
       " 83,\n",
       " 84,\n",
       " 85,\n",
       " 86,\n",
       " 87,\n",
       " 88,\n",
       " 89,\n",
       " 90,\n",
       " 91,\n",
       " 92,\n",
       " 93,\n",
       " 94,\n",
       " 95,\n",
       " 96,\n",
       " 97,\n",
       " 98,\n",
       " 99,\n",
       " 100]"
      ]
     },
     "execution_count": 16,
     "metadata": {},
     "output_type": "execute_result"
    }
   ],
   "source": [
    "#建立list的方式\n",
    "#建立空的list,使用符號[]\n",
    "empty_list = []\n",
    "\n",
    "#使用符號建立list\n",
    "weekdays = ['星期一', '星期二', '星期三', '星期四', '星期五', '星期六', '星期日'] \n",
    "weekdays[0]\n",
    "\n",
    "#使用list()建立空的list\n",
    "\n",
    "another_empty_list = list()\n",
    "another_empty_list\n",
    "\n",
    "#使用list()建立\n",
    "\n",
    "list('cat')\n",
    "list(range(1,101))"
   ]
  },
  {
   "cell_type": "code",
   "execution_count": 17,
   "id": "bb068353",
   "metadata": {},
   "outputs": [],
   "source": [
    "citys = ['台北', '台中', '高雄']"
   ]
  },
  {
   "cell_type": "code",
   "execution_count": 23,
   "id": "2fe1ea1a",
   "metadata": {},
   "outputs": [
    {
     "data": {
      "text/plain": [
       "'台北'"
      ]
     },
     "execution_count": 23,
     "metadata": {},
     "output_type": "execute_result"
    }
   ],
   "source": [
    "citys[0]\n",
    "citys[1]\n",
    "citys[2]\n",
    "citys[-1]\n",
    "citys[-2]\n",
    "citys[-3]"
   ]
  },
  {
   "cell_type": "code",
   "execution_count": 24,
   "id": "c3023479",
   "metadata": {},
   "outputs": [
    {
     "data": {
      "text/plain": [
       "'新竹'"
      ]
     },
     "execution_count": 24,
     "metadata": {},
     "output_type": "execute_result"
    }
   ],
   "source": [
    "citys[0] = '新竹'\n",
    "citys[0]"
   ]
  },
  {
   "cell_type": "code",
   "execution_count": 30,
   "id": "92a3cb5b",
   "metadata": {},
   "outputs": [
    {
     "data": {
      "text/plain": [
       "'台北'"
      ]
     },
     "execution_count": 30,
     "metadata": {},
     "output_type": "execute_result"
    }
   ],
   "source": [
    "#tuple的操作法和list相同\n",
    "#tuple不可以更改內容\n",
    "\n",
    "cities = ('台北', '台中', '高雄')\n",
    "cities[0]\n",
    "cities[-3]"
   ]
  },
  {
   "cell_type": "code",
   "execution_count": 31,
   "id": "8061a83f",
   "metadata": {},
   "outputs": [
    {
     "ename": "TypeError",
     "evalue": "'tuple' object does not support item assignment",
     "output_type": "error",
     "traceback": [
      "\u001b[0;31m---------------------------------------------------------------------------\u001b[0m",
      "\u001b[0;31mTypeError\u001b[0m                                 Traceback (most recent call last)",
      "Input \u001b[0;32mIn [31]\u001b[0m, in \u001b[0;36m<module>\u001b[0;34m\u001b[0m\n\u001b[0;32m----> 1\u001b[0m cities[\u001b[38;5;241m0\u001b[39m] \u001b[38;5;241m=\u001b[39m \u001b[38;5;124m'\u001b[39m\u001b[38;5;124m新竹\u001b[39m\u001b[38;5;124m'\u001b[39m\n",
      "\u001b[0;31mTypeError\u001b[0m: 'tuple' object does not support item assignment"
     ]
    }
   ],
   "source": [
    "cities[0] = '新竹'"
   ]
  },
  {
   "cell_type": "code",
   "execution_count": 32,
   "id": "8925d275",
   "metadata": {},
   "outputs": [
    {
     "data": {
      "text/plain": [
       "['H', 'e', 'l', 'l', 'o', '!', ' ', 'W', 'o', 'r', 'l', 'd', '!']"
      ]
     },
     "execution_count": 32,
     "metadata": {},
     "output_type": "execute_result"
    }
   ],
   "source": [
    "list2 = list(\"Hello! World!\")\n",
    "list2"
   ]
  },
  {
   "cell_type": "code",
   "execution_count": 36,
   "id": "f569d245",
   "metadata": {},
   "outputs": [
    {
     "data": {
      "text/plain": [
       "['H', 'e', 'l', 'l', 'o', '!']"
      ]
     },
     "execution_count": 36,
     "metadata": {},
     "output_type": "execute_result"
    }
   ],
   "source": [
    "#slice\n",
    "#前6個\n",
    "list2[0:6]"
   ]
  },
  {
   "cell_type": "code",
   "execution_count": 38,
   "id": "dfae4ded",
   "metadata": {},
   "outputs": [
    {
     "data": {
      "text/plain": [
       "['W', 'o', 'r', 'l', 'd', '!']"
      ]
     },
     "execution_count": 38,
     "metadata": {},
     "output_type": "execute_result"
    }
   ],
   "source": [
    "#slice\n",
    "#後6個\n",
    "list2[-6:]"
   ]
  },
  {
   "cell_type": "code",
   "execution_count": 39,
   "id": "5ba00339",
   "metadata": {},
   "outputs": [
    {
     "data": {
      "text/plain": [
       "['H', 'e', 'l', 'l', 'o', '!']"
      ]
     },
     "execution_count": 39,
     "metadata": {},
     "output_type": "execute_result"
    }
   ],
   "source": [
    "#slice\n",
    "#前6個\n",
    "list2[:6]"
   ]
  },
  {
   "cell_type": "code",
   "execution_count": 40,
   "id": "8ee0b741",
   "metadata": {},
   "outputs": [
    {
     "data": {
      "text/plain": [
       "['W', 'o', 'r', 'l', 'd', '!']"
      ]
     },
     "execution_count": 40,
     "metadata": {},
     "output_type": "execute_result"
    }
   ],
   "source": [
    "#slice\n",
    "#後6個\n",
    "list2[-6:]"
   ]
  },
  {
   "cell_type": "code",
   "execution_count": 43,
   "id": "9723b7c0",
   "metadata": {},
   "outputs": [
    {
     "name": "stdout",
     "output_type": "stream",
     "text": [
      "H\n",
      "e\n",
      "l\n",
      "l\n",
      "o\n",
      "!\n",
      " \n",
      "W\n",
      "o\n",
      "r\n",
      "l\n",
      "d\n",
      "!\n"
     ]
    }
   ],
   "source": [
    "#利用for in 迴圈取出所有元素值\n",
    "for letter in list2:\n",
    "    print(letter)"
   ]
  },
  {
   "cell_type": "code",
   "execution_count": 44,
   "id": "01a6ab39",
   "metadata": {},
   "outputs": [
    {
     "data": {
      "text/plain": [
       "13"
      ]
     },
     "execution_count": 44,
     "metadata": {},
     "output_type": "execute_result"
    }
   ],
   "source": [
    "#查詢元素的數量len()\n",
    "len(list2)"
   ]
  },
  {
   "cell_type": "code",
   "execution_count": 46,
   "id": "741521f7",
   "metadata": {},
   "outputs": [
    {
     "data": {
      "text/plain": [
       "[89, 91, 73, 92, 95]"
      ]
     },
     "execution_count": 46,
     "metadata": {},
     "output_type": "execute_result"
    }
   ],
   "source": [
    "#增加元素使用list的方法append()\n",
    "scores = []\n",
    "scores.append(89)\n",
    "scores.append(91)\n",
    "scores.append(73)\n",
    "scores.append(92)\n",
    "scores.append(95)\n",
    "scores"
   ]
  },
  {
   "cell_type": "code",
   "execution_count": 51,
   "id": "fe4c12fd",
   "metadata": {
    "scrolled": true
   },
   "outputs": [
    {
     "name": "stdout",
     "output_type": "stream",
     "text": [
      "請輸入第1位學生的資料:78\n",
      "請輸入第2位學生的資料:56\n",
      "請輸入第3位學生的資料:93\n",
      "請輸入第4位學生的資料:64\n",
      "請輸入第5位學生的資料:72\n",
      "全班總成績為363分,平均為72.6分\n"
     ]
    }
   ],
   "source": [
    "scores = []\n",
    "for i in range(1,6):\n",
    "    score = int(input(f\"請輸入第{i}位學生的資料:\"))\n",
    "    scores.append(score)\n",
    "sum = 0\n",
    "for score in scores:\n",
    "    sum += score\n",
    "ave = sum / len(scores)\n",
    "print(f\"全班總成績為{sum}分,平均為{ave}分\")"
   ]
  },
  {
   "cell_type": "code",
   "execution_count": 52,
   "id": "97e73ebc",
   "metadata": {},
   "outputs": [],
   "source": [
    "#2維list\n",
    "nb = ['筆記電腦', '商用筆電']\n",
    "mobile = ['APPLE', 'ASUS', 'HTC']\n",
    "home = [3, '冰箱', 2, '洗衣機']\n",
    "all3c = [nb, mobile, home]"
   ]
  },
  {
   "cell_type": "code",
   "execution_count": 53,
   "id": "500edcbc",
   "metadata": {},
   "outputs": [
    {
     "data": {
      "text/plain": [
       "'筆記電腦'"
      ]
     },
     "execution_count": 53,
     "metadata": {},
     "output_type": "execute_result"
    }
   ],
   "source": [
    "all3c[0][0]"
   ]
  },
  {
   "cell_type": "code",
   "execution_count": 54,
   "id": "2e494489",
   "metadata": {},
   "outputs": [
    {
     "data": {
      "text/plain": [
       "'洗衣機'"
      ]
     },
     "execution_count": 54,
     "metadata": {},
     "output_type": "execute_result"
    }
   ],
   "source": [
    "all3c[2][3]"
   ]
  },
  {
   "cell_type": "code",
   "execution_count": 55,
   "id": "5f8fe88a",
   "metadata": {},
   "outputs": [
    {
     "name": "stdout",
     "output_type": "stream",
     "text": [
      "筆記電腦 商用筆電 \n",
      "APPLE ASUS HTC \n",
      "3 冰箱 2 洗衣機 \n"
     ]
    }
   ],
   "source": [
    "for items in all3c:\n",
    "    for item in items:\n",
    "        print(item,end=' ')\n",
    "    print()"
   ]
  },
  {
   "cell_type": "code",
   "execution_count": 57,
   "id": "7c7e8518",
   "metadata": {},
   "outputs": [
    {
     "name": "stdout",
     "output_type": "stream",
     "text": [
      "[[81, 85, 91, 99, 75], [63, 60, 63, 61, 72], [83, 86, 68, 61, 77], [65, 66, 74, 93, 70], [91, 95, 64, 98, 88], [74, 66, 63, 77, 70], [90, 97, 96, 94, 97], [89, 72, 60, 76, 76], [70, 92, 79, 66, 83], [80, 73, 81, 61, 70], [98, 82, 75, 60, 69], [61, 77, 62, 65, 100], [94, 93, 82, 83, 60], [93, 79, 77, 66, 92], [72, 95, 85, 85, 66], [71, 91, 65, 95, 64], [61, 93, 97, 90, 79], [62, 83, 70, 95, 87], [91, 65, 66, 95, 75], [65, 84, 97, 65, 81], [98, 73, 84, 62, 65], [71, 90, 81, 78, 92], [62, 86, 72, 64, 69], [68, 91, 89, 67, 62], [91, 96, 69, 81, 85], [100, 86, 67, 67, 79], [70, 82, 63, 84, 87], [82, 74, 93, 72, 94], [70, 64, 94, 85, 76], [71, 89, 80, 75, 75], [76, 87, 98, 89, 87], [97, 70, 72, 94, 71], [97, 66, 91, 60, 80], [91, 77, 100, 62, 90], [88, 65, 70, 84, 80], [97, 67, 72, 74, 87], [71, 77, 94, 83, 92], [68, 84, 64, 76, 93], [60, 84, 60, 78, 67], [75, 62, 67, 65, 99], [71, 97, 67, 67, 98], [94, 96, 93, 91, 65], [88, 89, 92, 80, 67], [66, 74, 61, 81, 83], [66, 95, 61, 85, 99], [88, 92, 77, 71, 90], [73, 69, 88, 71, 79], [100, 94, 76, 98, 99], [71, 80, 89, 71, 100], [69, 95, 75, 81, 92]]\n"
     ]
    }
   ],
   "source": [
    "import random\n",
    "\n",
    "students = []\n",
    "for _ in range(50):\n",
    "    scores = []\n",
    "    for _ in range(5):\n",
    "        scores.append(random.randint(60,100))\n",
    "    students.append(scores)\n",
    "    \n",
    "print(students)"
   ]
  },
  {
   "cell_type": "code",
   "execution_count": null,
   "id": "3766a23b",
   "metadata": {},
   "outputs": [],
   "source": []
  }
 ],
 "metadata": {
  "kernelspec": {
   "display_name": "Python 3 (ipykernel)",
   "language": "python",
   "name": "python3"
  },
  "language_info": {
   "codemirror_mode": {
    "name": "ipython",
    "version": 3
   },
   "file_extension": ".py",
   "mimetype": "text/x-python",
   "name": "python",
   "nbconvert_exporter": "python",
   "pygments_lexer": "ipython3",
   "version": "3.10.2"
  }
 },
 "nbformat": 4,
 "nbformat_minor": 5
}
