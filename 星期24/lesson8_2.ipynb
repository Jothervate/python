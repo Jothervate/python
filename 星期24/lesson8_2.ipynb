{
 "cells": [
  {
   "cell_type": "code",
   "execution_count": 1,
   "id": "b15ed536",
   "metadata": {},
   "outputs": [
    {
     "name": "stdout",
     "output_type": "stream",
     "text": [
      "<class '__main__.Person'>\n",
      "<class '__main__.Person'>\n"
     ]
    }
   ],
   "source": [
    "class Person():\n",
    "    pass\n",
    "\n",
    "p1 = Person()\n",
    "p2 = Person()\n",
    "print(p1.__class__)\n",
    "print(p2.__class__)"
   ]
  },
  {
   "cell_type": "code",
   "execution_count": 2,
   "id": "9fd54618",
   "metadata": {},
   "outputs": [
    {
     "name": "stdout",
     "output_type": "stream",
     "text": [
      "p1的name是robert\n",
      "p2的name是robert\n"
     ]
    }
   ],
   "source": [
    "#建立attribut - name\n",
    "class Person():\n",
    "    #自訂的初始化\n",
    "    def __init__(self):\n",
    "        self.name = \"robert\"\n",
    "\n",
    "p1 = Person()\n",
    "p2 = Person()\n",
    "print(f\"p1的name是{p1.name}\")\n",
    "print(f\"p2的name是{p2.name}\")"
   ]
  },
  {
   "cell_type": "code",
   "execution_count": 4,
   "id": "883c6501",
   "metadata": {},
   "outputs": [
    {
     "name": "stdout",
     "output_type": "stream",
     "text": [
      "p1的name是robert\n",
      "p2的name是jenny\n"
     ]
    }
   ],
   "source": [
    "#建立attribut - name\n",
    "class Person():\n",
    "    #自訂的初始化\n",
    "    def __init__(self,n):\n",
    "        self.name = n\n",
    "\n",
    "p1 = Person(\"robert\")\n",
    "p2 = Person(\"jenny\")\n",
    "print(f\"p1的name是{p1.name}\")\n",
    "print(f\"p2的name是{p2.name}\")"
   ]
  },
  {
   "cell_type": "code",
   "execution_count": 10,
   "id": "26d80e89",
   "metadata": {},
   "outputs": [
    {
     "name": "stdout",
     "output_type": "stream",
     "text": [
      "p1的name是robert,age是20\n",
      "p2的name是jenny,age是21\n"
     ]
    }
   ],
   "source": [
    "#建立attribute - name\n",
    "#建立attribute - age\n",
    "class Person():\n",
    "    #自訂的初始化\n",
    "    def __init__(self,name,age=20):\n",
    "        self.name = name\n",
    "        self.age = age\n",
    "\n",
    "p1 = Person(name=\"robert\")\n",
    "p2 = Person(name=\"jenny\",age=21)\n",
    "print(f\"p1的name是{p1.name},age是{p1.age}\")\n",
    "print(f\"p2的name是{p2.name},age是{p2.age}\")"
   ]
  },
  {
   "cell_type": "code",
   "execution_count": 11,
   "id": "471126e9",
   "metadata": {},
   "outputs": [
    {
     "name": "stdout",
     "output_type": "stream",
     "text": [
      "我的名字是:robert,我的age是20\n",
      "我的名字是:jenny,我的age是21\n"
     ]
    }
   ],
   "source": [
    "#建立attribute - name\n",
    "#建立attribute - age\n",
    "#建立method() - exclaim()\n",
    "class Person():\n",
    "    #自訂的初始化\n",
    "    def __init__(self,name,age=20):\n",
    "        self.name = name\n",
    "        self.age = age\n",
    "        \n",
    "    def exclaim(self):\n",
    "        print(f\"我的名字是:{self.name},我的age是{self.age}\")\n",
    "\n",
    "        \n",
    "p1 = Person(name=\"robert\")\n",
    "p1.exclaim()\n",
    "p2 = Person(name=\"jenny\",age=21)\n",
    "p2.exclaim()"
   ]
  },
  {
   "cell_type": "code",
   "execution_count": 2,
   "id": "aca5d416",
   "metadata": {},
   "outputs": [
    {
     "name": "stdout",
     "output_type": "stream",
     "text": [
      "我的總分是245\n",
      "None\n",
      "我的總分是267\n"
     ]
    }
   ],
   "source": [
    "#建立Student自訂類別\n",
    "class Student():\n",
    "    def __init__(self,name,chinese=0,english=0,math=0):\n",
    "        self.name = name\n",
    "        self.chinese = chinese\n",
    "        self.english = english\n",
    "        self.math = math\n",
    "        \n",
    "    def sum(self):        \n",
    "        return self.chinese + self.english + self.math\n",
    "    \n",
    "    def average(self):\n",
    "        return self.sum() / 3.0\n",
    "\n",
    "stu1 = Student(\"robert\",chinese=78,english=92, math=75)\n",
    "print(stu1.sum())\n",
    "print(stu1.average())\n",
    "\n",
    "stu2 = Student(\"jenny\",chinese=85,english=95, math=87)\n",
    "print(stu2.sum())\n",
    "print(stu2.average())"
   ]
  },
  {
   "cell_type": "code",
   "execution_count": 4,
   "id": "c27c189d",
   "metadata": {},
   "outputs": [],
   "source": [
    "#class method\n",
    "class MathTools():\n",
    "    @classmethod\n",
    "    def add(cls,n,m):\n",
    "        return n+m\n",
    "    \n",
    "    @staticmethod\n",
    "    def mul(n,m):\n",
    "        return n*m\n",
    "\n"
   ]
  },
  {
   "cell_type": "code",
   "execution_count": 5,
   "id": "75dd28ac",
   "metadata": {},
   "outputs": [
    {
     "data": {
      "text/plain": [
       "15"
      ]
     },
     "execution_count": 5,
     "metadata": {},
     "output_type": "execute_result"
    }
   ],
   "source": [
    "MathTools.add(5,10)"
   ]
  },
  {
   "cell_type": "code",
   "execution_count": 6,
   "id": "bef5894a",
   "metadata": {},
   "outputs": [
    {
     "data": {
      "text/plain": [
       "50"
      ]
     },
     "execution_count": 6,
     "metadata": {},
     "output_type": "execute_result"
    }
   ],
   "source": [
    "MathTools.mul(5,10)"
   ]
  },
  {
   "cell_type": "code",
   "execution_count": null,
   "id": "a7ffbc08",
   "metadata": {},
   "outputs": [],
   "source": []
  }
 ],
 "metadata": {
  "kernelspec": {
   "display_name": "Python 3 (ipykernel)",
   "language": "python",
   "name": "python3"
  },
  "language_info": {
   "codemirror_mode": {
    "name": "ipython",
    "version": 3
   },
   "file_extension": ".py",
   "mimetype": "text/x-python",
   "name": "python",
   "nbconvert_exporter": "python",
   "pygments_lexer": "ipython3",
   "version": "3.10.2"
  }
 },
 "nbformat": 4,
 "nbformat_minor": 5
}
