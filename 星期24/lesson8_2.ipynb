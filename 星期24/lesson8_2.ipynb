{
 "cells": [
  {
   "cell_type": "code",
   "execution_count": 1,
   "id": "a050c1ba",
   "metadata": {},
   "outputs": [
    {
     "data": {
      "text/plain": [
       "'__main__'"
      ]
     },
     "execution_count": 1,
     "metadata": {},
     "output_type": "execute_result"
    }
   ],
   "source": [
    "#此ipynb的文件名稱\n",
    "__name__"
   ]
  },
  {
   "cell_type": "code",
   "execution_count": 21,
   "id": "24a03b1f",
   "metadata": {},
   "outputs": [],
   "source": [
    "#建立一個沒有任何功能的class\n",
    "\n",
    "class Person():\n",
    "    #自訂的初始化\n",
    "    def __init__(self,name,height):\n",
    "        self.name = name\n",
    "        self.height = height\n"
   ]
  },
  {
   "cell_type": "code",
   "execution_count": 22,
   "id": "e397143d",
   "metadata": {},
   "outputs": [
    {
     "name": "stdout",
     "output_type": "stream",
     "text": [
      "robert\n",
      "170\n"
     ]
    }
   ],
   "source": [
    "p1 = Person(\"robert\",170)\n",
    "p1.__class__\n",
    "print(p1.name)\n",
    "print(p1.height)"
   ]
  },
  {
   "cell_type": "code",
   "execution_count": 23,
   "id": "287be7f1",
   "metadata": {},
   "outputs": [
    {
     "name": "stdout",
     "output_type": "stream",
     "text": [
      "John\n",
      "180\n"
     ]
    }
   ],
   "source": [
    "p2 = Person(\"John\",180)\n",
    "p2.__class__\n",
    "print(p2.name)\n",
    "print(p2.height)"
   ]
  },
  {
   "cell_type": "code",
   "execution_count": null,
   "id": "8922094d",
   "metadata": {},
   "outputs": [],
   "source": []
  }
 ],
 "metadata": {
  "kernelspec": {
   "display_name": "Python 3 (ipykernel)",
   "language": "python",
   "name": "python3"
  },
  "language_info": {
   "codemirror_mode": {
    "name": "ipython",
    "version": 3
   },
   "file_extension": ".py",
   "mimetype": "text/x-python",
   "name": "python",
   "nbconvert_exporter": "python",
   "pygments_lexer": "ipython3",
   "version": "3.10.2"
  }
 },
 "nbformat": 4,
 "nbformat_minor": 5
}
