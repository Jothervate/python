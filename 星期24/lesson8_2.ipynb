{
 "cells": [
  {
   "cell_type": "code",
   "execution_count": 1,
   "id": "9f11b33d",
   "metadata": {},
   "outputs": [
    {
     "name": "stdout",
     "output_type": "stream",
     "text": [
      "<class '__main__.Person'>\n",
      "<class '__main__.Person'>\n"
     ]
    }
   ],
   "source": [
    "class Person():\n",
    "    pass\n",
    "\n",
    "p1 = Person()\n",
    "p2 = Person()\n",
    "print(p1.__class__)\n",
    "print(p2.__class__)"
   ]
  },
  {
   "cell_type": "code",
   "execution_count": 2,
   "id": "6f51ec62",
   "metadata": {},
   "outputs": [
    {
     "name": "stdout",
     "output_type": "stream",
     "text": [
      "p1的name是robert\n",
      "p2的name是robert\n"
     ]
    }
   ],
   "source": [
    "#建立attribut - name\n",
    "class Person():\n",
    "    #自訂的初始化\n",
    "    def __init__(self):\n",
    "        self.name = \"robert\"\n",
    "\n",
    "p1 = Person()\n",
    "p2 = Person()\n",
    "print(f\"p1的name是{p1.name}\")\n",
    "print(f\"p2的name是{p2.name}\")"
   ]
  },
  {
   "cell_type": "code",
   "execution_count": 4,
   "id": "8258d460",
   "metadata": {},
   "outputs": [
    {
     "name": "stdout",
     "output_type": "stream",
     "text": [
      "p1的name是robert\n",
      "p2的name是jenny\n"
     ]
    }
   ],
   "source": [
    "#建立attribut - name\n",
    "class Person():\n",
    "    #自訂的初始化\n",
    "    def __init__(self,n):\n",
    "        self.name = n\n",
    "\n",
    "p1 = Person(\"robert\")\n",
    "p2 = Person(\"jenny\")\n",
    "print(f\"p1的name是{p1.name}\")\n",
    "print(f\"p2的name是{p2.name}\")"
   ]
  },
  {
   "cell_type": "code",
   "execution_count": null,
   "id": "38ebb592",
   "metadata": {},
   "outputs": [],
   "source": []
  }
 ],
 "metadata": {
  "kernelspec": {
   "display_name": "Python 3 (ipykernel)",
   "language": "python",
   "name": "python3"
  },
  "language_info": {
   "codemirror_mode": {
    "name": "ipython",
    "version": 3
   },
   "file_extension": ".py",
   "mimetype": "text/x-python",
   "name": "python",
   "nbconvert_exporter": "python",
   "pygments_lexer": "ipython3",
   "version": "3.10.2"
  }
 },
 "nbformat": 4,
 "nbformat_minor": 5
}
