{
 "cells": [
  {
   "cell_type": "code",
   "execution_count": 1,
   "id": "e8110537",
   "metadata": {},
   "outputs": [
    {
     "data": {
      "text/plain": [
       "'__main__'"
      ]
     },
     "execution_count": 1,
     "metadata": {},
     "output_type": "execute_result"
    }
   ],
   "source": [
    "#此ipynb的文件名稱\n",
    "__name__"
   ]
  },
  {
   "cell_type": "code",
   "execution_count": 24,
   "id": "4f9c013e",
   "metadata": {},
   "outputs": [],
   "source": [
    "#建立一個沒有任何功能的class\n",
    "\n",
    "class Person():\n",
    "    #自訂的初始化\n",
    "    def __init__(self,name,height,weight):\n",
    "        self.name = name\n",
    "        self.height = height\n",
    "        self.weight = weight"
   ]
  },
  {
   "cell_type": "code",
   "execution_count": 25,
   "id": "0b59558c",
   "metadata": {},
   "outputs": [
    {
     "name": "stdout",
     "output_type": "stream",
     "text": [
      "robert\n",
      "170\n",
      "80\n"
     ]
    }
   ],
   "source": [
    "p1 = Person(\"robert\",170,80)\n",
    "p1.__class__\n",
    "print(p1.name)\n",
    "print(p1.height)\n",
    "print(p1.weight)"
   ]
  },
  {
   "cell_type": "code",
   "execution_count": 26,
   "id": "0cf8599b",
   "metadata": {},
   "outputs": [
    {
     "name": "stdout",
     "output_type": "stream",
     "text": [
      "John\n",
      "180\n",
      "85\n"
     ]
    }
   ],
   "source": [
    "p2 = Person(\"John\",180,85)\n",
    "p2.__class__\n",
    "print(p2.name)\n",
    "print(p2.height)\n",
    "print(p2.weight)"
   ]
  },
  {
   "cell_type": "code",
   "execution_count": null,
   "id": "911d2745",
   "metadata": {},
   "outputs": [],
   "source": []
  }
 ],
 "metadata": {
  "kernelspec": {
   "display_name": "Python 3 (ipykernel)",
   "language": "python",
   "name": "python3"
  },
  "language_info": {
   "codemirror_mode": {
    "name": "ipython",
    "version": 3
   },
   "file_extension": ".py",
   "mimetype": "text/x-python",
   "name": "python",
   "nbconvert_exporter": "python",
   "pygments_lexer": "ipython3",
   "version": "3.10.2"
  }
 },
 "nbformat": 4,
 "nbformat_minor": 5
}
