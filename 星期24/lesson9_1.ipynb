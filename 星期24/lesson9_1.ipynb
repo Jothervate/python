{
 "cells": [
  {
   "cell_type": "code",
   "execution_count": 21,
   "id": "dbc61593",
   "metadata": {},
   "outputs": [],
   "source": [
    "class Student():\n",
    "    def __init__(self,name,scores):\n",
    "        self.name = name\n",
    "        self.__scores = scores\n",
    "        \n",
    "    @property\n",
    "    def scores(self):\n",
    "        print(\"scores的getter\")\n",
    "        return self.__scores\n",
    "    \n",
    "    @scores.setter\n",
    "    def scores(self,input_value):\n",
    "        print(\"scores的setter\")\n",
    "        if input_value > 300:\n",
    "            self.__scores = 300    \n",
    "        elif input_value < 0:\n",
    "            self.__scores = 0\n",
    "        else:\n",
    "            self.__scores = input_value"
   ]
  },
  {
   "cell_type": "code",
   "execution_count": 22,
   "id": "cfaa2ba2",
   "metadata": {},
   "outputs": [
    {
     "name": "stdout",
     "output_type": "stream",
     "text": [
      "robert\n",
      "scores的getter\n",
      "278\n",
      "scores的setter\n"
     ]
    }
   ],
   "source": [
    "stu1 = Student(name=\"robert\", scores=278)\n",
    "print(stu1.name)\n",
    "print(stu1.scores)\n",
    "stu1.scores = 500"
   ]
  },
  {
   "cell_type": "code",
   "execution_count": 23,
   "id": "1eb0d867",
   "metadata": {},
   "outputs": [
    {
     "name": "stdout",
     "output_type": "stream",
     "text": [
      "scores的getter\n"
     ]
    },
    {
     "data": {
      "text/plain": [
       "300"
      ]
     },
     "execution_count": 23,
     "metadata": {},
     "output_type": "execute_result"
    }
   ],
   "source": [
    "stu1.scores"
   ]
  },
  {
   "cell_type": "code",
   "execution_count": null,
   "id": "8b179027",
   "metadata": {},
   "outputs": [],
   "source": []
  }
 ],
 "metadata": {
  "kernelspec": {
   "display_name": "Python 3 (ipykernel)",
   "language": "python",
   "name": "python3"
  },
  "language_info": {
   "codemirror_mode": {
    "name": "ipython",
    "version": 3
   },
   "file_extension": ".py",
   "mimetype": "text/x-python",
   "name": "python",
   "nbconvert_exporter": "python",
   "pygments_lexer": "ipython3",
   "version": "3.10.2"
  }
 },
 "nbformat": 4,
 "nbformat_minor": 5
}
