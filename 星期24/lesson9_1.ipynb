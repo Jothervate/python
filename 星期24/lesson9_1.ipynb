{
 "cells": [
  {
   "cell_type": "code",
   "execution_count": 3,
   "id": "dff48c37",
   "metadata": {},
   "outputs": [
    {
     "data": {
      "text/plain": [
       "_io.TextIOWrapper"
      ]
     },
     "execution_count": 3,
     "metadata": {},
     "output_type": "execute_result"
    }
   ],
   "source": [
    "file = open('sample.txt','w',encoding='utf-8')\n",
    "file.__class__"
   ]
  },
  {
   "cell_type": "code",
   "execution_count": 4,
   "id": "1b03bc8b",
   "metadata": {},
   "outputs": [],
   "source": [
    "text = '''\n",
    "python與中文\n",
    "1. 我們來試試看中文儲存能力。\n",
    "2. 許這個字會有編碼衝突風險。\n",
    "3. 犇這個字必須是utf8編碼才有。\n",
    "'''\n",
    "\n",
    "file.write(text)\n",
    "file.close()"
   ]
  },
  {
   "cell_type": "code",
   "execution_count": 8,
   "id": "3911afd2",
   "metadata": {},
   "outputs": [
    {
     "data": {
      "text/plain": [
       "str"
      ]
     },
     "execution_count": 8,
     "metadata": {},
     "output_type": "execute_result"
    }
   ],
   "source": [
    "#快速建立\n",
    "import random\n",
    "students = [[random.randint(60,100) for _ in range(5)] for _  in range(50)]\n",
    "str(students).__class__"
   ]
  },
  {
   "cell_type": "code",
   "execution_count": 9,
   "id": "0222aac2",
   "metadata": {},
   "outputs": [],
   "source": [
    "file = open('students.txt','w',encoding='utf-8')\n",
    "file.write(str(students))\n",
    "file.close()"
   ]
  },
  {
   "cell_type": "code",
   "execution_count": 10,
   "id": "5932dd66",
   "metadata": {},
   "outputs": [
    {
     "data": {
      "text/plain": [
       "[[98, 72, 94, 70, 95],\n",
       " [68, 78, 77, 90, 82],\n",
       " [87, 95, 89, 66, 93],\n",
       " [76, 60, 98, 68, 69],\n",
       " [92, 73, 80, 86, 61],\n",
       " [86, 93, 95, 65, 86],\n",
       " [88, 99, 82, 61, 76],\n",
       " [60, 64, 81, 85, 75],\n",
       " [74, 65, 86, 61, 85],\n",
       " [92, 69, 60, 72, 72],\n",
       " [61, 79, 73, 82, 62],\n",
       " [73, 67, 100, 99, 92],\n",
       " [63, 66, 63, 100, 86],\n",
       " [74, 70, 72, 60, 60],\n",
       " [80, 79, 67, 71, 97],\n",
       " [82, 80, 74, 100, 80],\n",
       " [66, 88, 79, 72, 62],\n",
       " [97, 96, 83, 64, 63],\n",
       " [87, 73, 79, 62, 73],\n",
       " [93, 62, 61, 97, 97],\n",
       " [86, 97, 90, 87, 61],\n",
       " [74, 83, 80, 72, 61],\n",
       " [76, 60, 64, 62, 93],\n",
       " [81, 83, 60, 89, 83],\n",
       " [78, 86, 66, 62, 82],\n",
       " [93, 61, 85, 62, 93],\n",
       " [81, 87, 82, 99, 61],\n",
       " [76, 86, 100, 63, 75],\n",
       " [88, 76, 75, 60, 64],\n",
       " [67, 77, 63, 83, 80],\n",
       " [98, 67, 86, 81, 72],\n",
       " [61, 86, 100, 84, 88],\n",
       " [68, 98, 74, 80, 83],\n",
       " [76, 64, 80, 92, 91],\n",
       " [80, 99, 97, 60, 84],\n",
       " [94, 94, 96, 74, 62],\n",
       " [91, 82, 70, 73, 72],\n",
       " [88, 81, 69, 88, 100],\n",
       " [62, 66, 74, 87, 75],\n",
       " [90, 65, 91, 67, 86],\n",
       " [88, 92, 61, 98, 93],\n",
       " [88, 74, 84, 72, 76],\n",
       " [79, 87, 98, 64, 64],\n",
       " [91, 68, 69, 60, 83],\n",
       " [94, 94, 74, 95, 64],\n",
       " [98, 93, 97, 91, 85],\n",
       " [99, 66, 92, 64, 88],\n",
       " [81, 74, 60, 87, 70],\n",
       " [67, 68, 69, 72, 76],\n",
       " [73, 98, 65, 96, 73]]"
      ]
     },
     "execution_count": 10,
     "metadata": {},
     "output_type": "execute_result"
    }
   ],
   "source": [
    "#python,在處理亂數,有一個工具箱random\n",
    "#python,有一個處理csv檔的工具箱(module,package)\n",
    "import random\n",
    "students = [[random.randint(60,100) for _ in range(5)] for _  in range(50)]\n",
    "students"
   ]
  },
  {
   "cell_type": "code",
   "execution_count": 13,
   "id": "2b1c7105",
   "metadata": {},
   "outputs": [],
   "source": [
    "import csv\n",
    "file = open('students.csv','w',newline='',encoding='utf-8')\n",
    "writer = csv.writer(file)\n",
    "writer.writerow(['國文','英文','數學','自然','社會'])\n",
    "\n",
    "for student in students:\n",
    "    writer.writerow(student)\n",
    "    \n",
    "file.close()"
   ]
  },
  {
   "cell_type": "code",
   "execution_count": null,
   "id": "623f6284",
   "metadata": {},
   "outputs": [],
   "source": []
  }
 ],
 "metadata": {
  "kernelspec": {
   "display_name": "Python 3 (ipykernel)",
   "language": "python",
   "name": "python3"
  },
  "language_info": {
   "codemirror_mode": {
    "name": "ipython",
    "version": 3
   },
   "file_extension": ".py",
   "mimetype": "text/x-python",
   "name": "python",
   "nbconvert_exporter": "python",
   "pygments_lexer": "ipython3",
   "version": "3.10.2"
  }
 },
 "nbformat": 4,
 "nbformat_minor": 5
}
