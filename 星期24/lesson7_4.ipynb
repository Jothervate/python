{
 "cells": [
  {
   "cell_type": "code",
   "execution_count": 1,
   "id": "9e8e6cbc",
   "metadata": {},
   "outputs": [
    {
     "data": {
      "text/plain": [
       "[1, 2, 3, 4, 5]"
      ]
     },
     "execution_count": 1,
     "metadata": {},
     "output_type": "execute_result"
    }
   ],
   "source": [
    "#comprehension -> 快速建立list,dictionary,set,generator\n",
    "\n",
    "number_list = []\n",
    "number_list.append(1)\n",
    "number_list.append(2)\n",
    "number_list.append(3)\n",
    "number_list.append(4)\n",
    "number_list.append(5)\n",
    "number_list"
   ]
  },
  {
   "cell_type": "code",
   "execution_count": 2,
   "id": "4db91801",
   "metadata": {},
   "outputs": [
    {
     "data": {
      "text/plain": [
       "[1, 2, 3, 4, 5]"
      ]
     },
     "execution_count": 2,
     "metadata": {},
     "output_type": "execute_result"
    }
   ],
   "source": [
    "number_list = []\n",
    "for i in range(1,6):\n",
    "    number_list.append(i)\n",
    "number_list"
   ]
  },
  {
   "cell_type": "code",
   "execution_count": 3,
   "id": "cae9d7a4",
   "metadata": {},
   "outputs": [
    {
     "data": {
      "text/plain": [
       "[1, 2, 3, 4, 5]"
      ]
     },
     "execution_count": 3,
     "metadata": {},
     "output_type": "execute_result"
    }
   ],
   "source": [
    "#list comprehension[for in]\n",
    "number_list = [i for i in range(1,6)]\n",
    "number_list"
   ]
  },
  {
   "cell_type": "code",
   "execution_count": 4,
   "id": "9e6e1d82",
   "metadata": {},
   "outputs": [
    {
     "data": {
      "text/plain": [
       "[1, 3, 5]"
      ]
     },
     "execution_count": 4,
     "metadata": {},
     "output_type": "execute_result"
    }
   ],
   "source": [
    "#list comprehension[for in if]\n",
    "number_list = [i for i in range(1,6) if i % 2 == 1]\n",
    "number_list"
   ]
  },
  {
   "cell_type": "code",
   "execution_count": 5,
   "id": "e2e1d9b1",
   "metadata": {},
   "outputs": [
    {
     "data": {
      "text/plain": [
       "{'l': 1, 'e': 2, 't': 2, 'r': 1, 's': 1}"
      ]
     },
     "execution_count": 5,
     "metadata": {},
     "output_type": "execute_result"
    }
   ],
   "source": [
    "#dictionary comprehension{for in}\n",
    "word = 'letters'\n",
    "letter_counts = {letter:word.count(letter) for letter in word}\n",
    "letter_counts"
   ]
  },
  {
   "cell_type": "code",
   "execution_count": null,
   "id": "eed3597b",
   "metadata": {},
   "outputs": [],
   "source": []
  }
 ],
 "metadata": {
  "kernelspec": {
   "display_name": "Python 3 (ipykernel)",
   "language": "python",
   "name": "python3"
  },
  "language_info": {
   "codemirror_mode": {
    "name": "ipython",
    "version": 3
   },
   "file_extension": ".py",
   "mimetype": "text/x-python",
   "name": "python",
   "nbconvert_exporter": "python",
   "pygments_lexer": "ipython3",
   "version": "3.10.2"
  }
 },
 "nbformat": 4,
 "nbformat_minor": 5
}
