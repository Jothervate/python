{
 "cells": [
  {
   "cell_type": "code",
   "execution_count": null,
   "id": "52038800",
   "metadata": {},
   "outputs": [],
   "source": [
    "import requests\n",
    "\n",
    "url = \"https://tcgbusfs.blob.core.windows.net/dotapp/youbike/v2/youbike_immediate.json\"\n",
    "response = requests.get(url)\n",
    "response.__class__"
   ]
  },
  {
   "cell_type": "code",
   "execution_count": null,
   "id": "fdc8091e",
   "metadata": {},
   "outputs": [],
   "source": [
    "if response.status_code == 200:\n",
    "    print(\"下載成功\")\n",
    "    print(response.text.__class__)"
   ]
  },
  {
   "cell_type": "code",
   "execution_count": null,
   "id": "c33a07ea",
   "metadata": {},
   "outputs": [],
   "source": [
    "if response.status_code == 200:\n",
    "    youbikeData = response.json()\n",
    "    print(youbikeData.__class__)\n",
    "    print(youbikeData)"
   ]
  },
  {
   "cell_type": "code",
   "execution_count": null,
   "id": "597594d0",
   "metadata": {},
   "outputs": [],
   "source": []
  }
 ],
 "metadata": {
  "kernelspec": {
   "display_name": "Python 3 (ipykernel)",
   "language": "python",
   "name": "python3"
  },
  "language_info": {
   "codemirror_mode": {
    "name": "ipython",
    "version": 3
   },
   "file_extension": ".py",
   "mimetype": "text/x-python",
   "name": "python",
   "nbconvert_exporter": "python",
   "pygments_lexer": "ipython3",
   "version": "3.10.2"
  }
 },
 "nbformat": 4,
 "nbformat_minor": 5
}
