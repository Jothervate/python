{
 "cells": [
  {
   "cell_type": "code",
   "execution_count": 2,
   "id": "25ba7374",
   "metadata": {},
   "outputs": [
    {
     "data": {
      "text/plain": [
       "5"
      ]
     },
     "execution_count": 2,
     "metadata": {},
     "output_type": "execute_result"
    }
   ],
   "source": [
    "even_numbers = {0, 2, 4, 6, 8, 0, 2, 4, 6, 8}\n",
    "len(even_numbers)"
   ]
  },
  {
   "cell_type": "code",
   "execution_count": 10,
   "id": "32bc219b",
   "metadata": {},
   "outputs": [
    {
     "name": "stdout",
     "output_type": "stream",
     "text": [
      "4 39 42 12 13 19 特別號:27\n"
     ]
    }
   ],
   "source": [
    "#大樂透電腦選號\n",
    "import random\n",
    "lot = set()\n",
    "while(len(lot) < 7):\n",
    "    lot.add(random.randint(1, 49))\n",
    "lot_list = list(lot)\n",
    "special = lot_list.pop()\n",
    "for item in lot_list:\n",
    "    print(item,end=' ')\n",
    "print(f'特別號:{special}')"
   ]
  },
  {
   "cell_type": "code",
   "execution_count": null,
   "id": "215b6b88",
   "metadata": {},
   "outputs": [],
   "source": []
  },
  {
   "cell_type": "code",
   "execution_count": null,
   "id": "8a78ea1e",
   "metadata": {},
   "outputs": [],
   "source": []
  }
 ],
 "metadata": {
  "kernelspec": {
   "display_name": "Python 3 (ipykernel)",
   "language": "python",
   "name": "python3"
  },
  "language_info": {
   "codemirror_mode": {
    "name": "ipython",
    "version": 3
   },
   "file_extension": ".py",
   "mimetype": "text/x-python",
   "name": "python",
   "nbconvert_exporter": "python",
   "pygments_lexer": "ipython3",
   "version": "3.10.2"
  }
 },
 "nbformat": 4,
 "nbformat_minor": 5
}
