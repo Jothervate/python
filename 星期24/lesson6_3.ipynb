{
 "cells": [
  {
   "cell_type": "code",
   "execution_count": 2,
   "id": "5bcefc53",
   "metadata": {},
   "outputs": [
    {
     "data": {
      "text/plain": [
       "requests.models.Response"
      ]
     },
     "execution_count": 2,
     "metadata": {},
     "output_type": "execute_result"
    }
   ],
   "source": [
    "import requests\n",
    "\n",
    "url = 'https://data.tainan.gov.tw/dataset/da3520b0-f1a8-475d-8932-32e225c044d8/resource/66b11687-9b28-4366-b5c8-412a68b0cc9f/download/opendata.json'\n",
    "r = requests.get(url)\n",
    "r.__class__"
   ]
  },
  {
   "cell_type": "code",
   "execution_count": 3,
   "id": "63e0a8a3",
   "metadata": {},
   "outputs": [
    {
     "data": {
      "text/plain": [
       "'utf-8'"
      ]
     },
     "execution_count": 3,
     "metadata": {},
     "output_type": "execute_result"
    }
   ],
   "source": [
    "r.encoding"
   ]
  },
  {
   "cell_type": "code",
   "execution_count": 4,
   "id": "3d1c21c6",
   "metadata": {},
   "outputs": [
    {
     "data": {
      "text/plain": [
       "200"
      ]
     },
     "execution_count": 4,
     "metadata": {},
     "output_type": "execute_result"
    }
   ],
   "source": [
    "r.status_code"
   ]
  },
  {
   "cell_type": "code",
   "execution_count": 7,
   "id": "5aa7e6f7",
   "metadata": {},
   "outputs": [
    {
     "data": {
      "text/plain": [
       "'[{\"車隊名稱\":\"港龍大車隊(台一大車隊)\",\"公司地址\":\"臺南市東區裕義路238號1樓\",\"聯絡電話\":\"06-3000000\"},{\"車隊名稱\":\"大都會平台科技\",\"公司地址\":\"臺南市南區明興路215號1樓\",\"聯絡電話\":\"0800000053\"},{\"車隊名稱\":\"成功衛星計程車無線電台\",\"公司地址\":\"台南市北區西門路4段534號\",\"聯絡電話\":\"06-2759999\"},{\"車隊名稱\":\"中華衛星車隊\",\"公司地址\":\"臺南市南區水交社路346號\",\"聯絡電話\":\"06-2363333\"},{\"車隊名稱\":\"府城衛星車隊\",\"公司地址\":\"臺南市安南區安中路二段37巷85號1樓\",\"聯絡電話\":\"06-2755555\"},{\"車隊名稱\":\"臺灣大車隊\",\"公司地址\":\"臺南市安南區安中路一段87之11號1樓\",\"聯絡電話\":\"手機直播55688市話4058888\"},{\"車隊名稱\":\"大山交通有限公司\",\"公司地址\":\"臺南市南區明興路215號1樓\",\"聯絡電話\":\"0800000053\"},{\"車隊名稱\":\"帝一計程車客運服務股份有限公司\",\"公司地址\":\"臺南市南區明興路215號1樓\",\"聯絡電話\":\"0800000053\"}]'"
      ]
     },
     "execution_count": 7,
     "metadata": {},
     "output_type": "execute_result"
    }
   ],
   "source": [
    "r.text"
   ]
  },
  {
   "cell_type": "code",
   "execution_count": 9,
   "id": "c954eb16",
   "metadata": {},
   "outputs": [
    {
     "data": {
      "text/plain": [
       "list"
      ]
     },
     "execution_count": 9,
     "metadata": {},
     "output_type": "execute_result"
    }
   ],
   "source": [
    "allData = r.json()\n",
    "allData.__class__"
   ]
  },
  {
   "cell_type": "code",
   "execution_count": 13,
   "id": "bddf4a88",
   "metadata": {},
   "outputs": [
    {
     "name": "stdout",
     "output_type": "stream",
     "text": [
      "dict_keys(['車隊名稱', '公司地址', '聯絡電話'])\n",
      "dict_keys(['車隊名稱', '公司地址', '聯絡電話'])\n",
      "dict_keys(['車隊名稱', '公司地址', '聯絡電話'])\n",
      "dict_keys(['車隊名稱', '公司地址', '聯絡電話'])\n",
      "dict_keys(['車隊名稱', '公司地址', '聯絡電話'])\n",
      "dict_keys(['車隊名稱', '公司地址', '聯絡電話'])\n",
      "dict_keys(['車隊名稱', '公司地址', '聯絡電話'])\n",
      "dict_keys(['車隊名稱', '公司地址', '聯絡電話'])\n"
     ]
    }
   ],
   "source": [
    "for dict_item in allData:\n",
    "    print(dict_item.keys())"
   ]
  },
  {
   "cell_type": "code",
   "execution_count": 16,
   "id": "4fc55b10",
   "metadata": {},
   "outputs": [
    {
     "name": "stdout",
     "output_type": "stream",
     "text": [
      "車隊名稱\n",
      "港龍大車隊(台一大車隊)\n",
      "公司地址\n",
      "臺南市東區裕義路238號1樓\n",
      "聯絡電話\n",
      "06-3000000\n",
      "======\n",
      "車隊名稱\n",
      "大都會平台科技\n",
      "公司地址\n",
      "臺南市南區明興路215號1樓\n",
      "聯絡電話\n",
      "0800000053\n",
      "======\n",
      "車隊名稱\n",
      "成功衛星計程車無線電台\n",
      "公司地址\n",
      "台南市北區西門路4段534號\n",
      "聯絡電話\n",
      "06-2759999\n",
      "======\n",
      "車隊名稱\n",
      "中華衛星車隊\n",
      "公司地址\n",
      "臺南市南區水交社路346號\n",
      "聯絡電話\n",
      "06-2363333\n",
      "======\n",
      "車隊名稱\n",
      "府城衛星車隊\n",
      "公司地址\n",
      "臺南市安南區安中路二段37巷85號1樓\n",
      "聯絡電話\n",
      "06-2755555\n",
      "======\n",
      "車隊名稱\n",
      "臺灣大車隊\n",
      "公司地址\n",
      "臺南市安南區安中路一段87之11號1樓\n",
      "聯絡電話\n",
      "手機直播55688市話4058888\n",
      "======\n",
      "車隊名稱\n",
      "大山交通有限公司\n",
      "公司地址\n",
      "臺南市南區明興路215號1樓\n",
      "聯絡電話\n",
      "0800000053\n",
      "======\n",
      "車隊名稱\n",
      "帝一計程車客運服務股份有限公司\n",
      "公司地址\n",
      "臺南市南區明興路215號1樓\n",
      "聯絡電話\n",
      "0800000053\n",
      "======\n"
     ]
    }
   ],
   "source": [
    "for dict_item in allData:\n",
    "    for key,value in dict_item.items():\n",
    "        print(key)\n",
    "        print(value)\n",
    "    print(\"======\")    "
   ]
  },
  {
   "cell_type": "code",
   "execution_count": 17,
   "id": "e0246e32",
   "metadata": {},
   "outputs": [],
   "source": [
    "carNames = []\n",
    "for dict_item in allData:\n",
    "    for key,value in dict_item.items():\n",
    "        if key == '車隊名稱':\n",
    "            carNames.append(value)\n",
    "\n",
    "            "
   ]
  },
  {
   "cell_type": "code",
   "execution_count": 18,
   "id": "ee5ab06b",
   "metadata": {},
   "outputs": [
    {
     "data": {
      "text/plain": [
       "['港龍大車隊(台一大車隊)',\n",
       " '大都會平台科技',\n",
       " '成功衛星計程車無線電台',\n",
       " '中華衛星車隊',\n",
       " '府城衛星車隊',\n",
       " '臺灣大車隊',\n",
       " '大山交通有限公司',\n",
       " '帝一計程車客運服務股份有限公司']"
      ]
     },
     "execution_count": 18,
     "metadata": {},
     "output_type": "execute_result"
    }
   ],
   "source": [
    "carNames"
   ]
  },
  {
   "cell_type": "code",
   "execution_count": null,
   "id": "1dee89b3",
   "metadata": {},
   "outputs": [],
   "source": []
  }
 ],
 "metadata": {
  "kernelspec": {
   "display_name": "Python 3 (ipykernel)",
   "language": "python",
   "name": "python3"
  },
  "language_info": {
   "codemirror_mode": {
    "name": "ipython",
    "version": 3
   },
   "file_extension": ".py",
   "mimetype": "text/x-python",
   "name": "python",
   "nbconvert_exporter": "python",
   "pygments_lexer": "ipython3",
   "version": "3.10.2"
  }
 },
 "nbformat": 4,
 "nbformat_minor": 5
}
