{
 "cells": [
  {
   "cell_type": "code",
   "execution_count": 1,
   "id": "a00fc454",
   "metadata": {},
   "outputs": [
    {
     "data": {
      "text/plain": [
       "{}"
      ]
     },
     "execution_count": 1,
     "metadata": {},
     "output_type": "execute_result"
    }
   ],
   "source": [
    "#dictionary\n",
    "empty_dictionary = {}\n",
    "empty_dictionary"
   ]
  },
  {
   "cell_type": "code",
   "execution_count": 9,
   "id": "34da5dcd",
   "metadata": {},
   "outputs": [
    {
     "data": {
      "text/plain": [
       "{'tw': 'Taiwan', 'jp': 'Japan', 'hk': 'Hong kong'}"
      ]
     },
     "execution_count": 9,
     "metadata": {},
     "output_type": "execute_result"
    }
   ],
   "source": [
    "codes = {'tw':'Taiwan',\n",
    "         'jp':'Japan',\n",
    "         'hk':'Hong kong'}\n",
    "codes"
   ]
  },
  {
   "cell_type": "code",
   "execution_count": 10,
   "id": "6f3a2a4c",
   "metadata": {},
   "outputs": [
    {
     "data": {
      "text/plain": [
       "'Taiwan'"
      ]
     },
     "execution_count": 10,
     "metadata": {},
     "output_type": "execute_result"
    }
   ],
   "source": [
    "codes['tw']"
   ]
  },
  {
   "cell_type": "code",
   "execution_count": 12,
   "id": "e2007df8",
   "metadata": {},
   "outputs": [
    {
     "data": {
      "text/plain": [
       "{'a': 'apple', 'b': 'blue'}"
      ]
     },
     "execution_count": 12,
     "metadata": {},
     "output_type": "execute_result"
    }
   ],
   "source": [
    "words = dict([('a','apple'), ('b', 'blue')])\n",
    "words"
   ]
  },
  {
   "cell_type": "code",
   "execution_count": 16,
   "id": "7c4e8f05",
   "metadata": {},
   "outputs": [
    {
     "data": {
      "text/plain": [
       "{'tw': 'Taiwan', 'jp': 'Japan', 'hk': 'Hong kong'}"
      ]
     },
     "execution_count": 16,
     "metadata": {},
     "output_type": "execute_result"
    }
   ],
   "source": [
    "#更新,新增\n",
    "codes = {'tw':'Taiwan',\n",
    "         'jp':'Japan',\n",
    "         'hk':'Hong kong'}\n",
    "#新增\n",
    "codes['us'] = 'US'\n",
    "#修改\n",
    "codes['us'] = '美國'\n",
    "codes\n",
    "#刪除\n",
    "del codes['us']\n",
    "codes"
   ]
  },
  {
   "cell_type": "code",
   "execution_count": 19,
   "id": "612186a8",
   "metadata": {},
   "outputs": [
    {
     "name": "stdout",
     "output_type": "stream",
     "text": [
      "key:tw\n",
      "value:Taiwan\n",
      "key:jp\n",
      "value:Japan\n",
      "key:hk\n",
      "value:Hong kong\n"
     ]
    }
   ],
   "source": [
    "#dictionary的方法\n",
    "#items()\n",
    "#keys()\n",
    "#values()\n",
    "codes = {'tw':'Taiwan',\n",
    "         'jp':'Japan',\n",
    "         'hk':'Hong kong'}\n",
    "for key in codes:\n",
    "    print(f'key:{key}')\n",
    "    print(f'value:{codes[key]}')"
   ]
  },
  {
   "cell_type": "code",
   "execution_count": 23,
   "id": "c4d6eff1",
   "metadata": {},
   "outputs": [
    {
     "name": "stdout",
     "output_type": "stream",
     "text": [
      "tw\n",
      "Taiwan\n",
      "=========\n",
      "jp\n",
      "Japan\n",
      "=========\n",
      "hk\n",
      "Hong kong\n",
      "=========\n"
     ]
    }
   ],
   "source": [
    "for key, value in codes.items():\n",
    "    print(key)\n",
    "    print(value)\n",
    "    print(\"=========\")"
   ]
  },
  {
   "cell_type": "code",
   "execution_count": 25,
   "id": "43326a07",
   "metadata": {},
   "outputs": [
    {
     "name": "stdout",
     "output_type": "stream",
     "text": [
      "tw\n",
      "jp\n",
      "hk\n"
     ]
    }
   ],
   "source": [
    "for key in codes.keys():\n",
    "    print(key)"
   ]
  },
  {
   "cell_type": "code",
   "execution_count": 26,
   "id": "6370f0db",
   "metadata": {},
   "outputs": [
    {
     "name": "stdout",
     "output_type": "stream",
     "text": [
      "Taiwan\n",
      "Japan\n",
      "Hong kong\n"
     ]
    }
   ],
   "source": [
    "for value in codes.values():\n",
    "    print(value)"
   ]
  },
  {
   "cell_type": "code",
   "execution_count": 27,
   "id": "cdbaae7c",
   "metadata": {},
   "outputs": [
    {
     "data": {
      "text/plain": [
       "dict_items([('tw', 'Taiwan'), ('jp', 'Japan'), ('hk', 'Hong kong')])"
      ]
     },
     "execution_count": 27,
     "metadata": {},
     "output_type": "execute_result"
    }
   ],
   "source": [
    "# in 運算子\n"
   ]
  },
  {
   "cell_type": "code",
   "execution_count": 31,
   "id": "95ccba38",
   "metadata": {},
   "outputs": [
    {
     "name": "stdout",
     "output_type": "stream",
     "text": [
      "沒有這個元素\n"
     ]
    },
    {
     "data": {
      "text/plain": [
       "['台北', '台中', '高雄', '台南', '花蓮']"
      ]
     },
     "execution_count": 31,
     "metadata": {},
     "output_type": "execute_result"
    }
   ],
   "source": [
    "cities = ['台北', '台中', '高雄', '台南', '花蓮']\n",
    "value = '苗栗'\n",
    "if value in cities:\n",
    "    cities.remove(value)\n",
    "else:\n",
    "    print('沒有這個元素')\n",
    "cities"
   ]
  },
  {
   "cell_type": "code",
   "execution_count": 34,
   "id": "bfe51b0c",
   "metadata": {},
   "outputs": [
    {
     "name": "stdout",
     "output_type": "stream",
     "text": [
      "Taiwan\n"
     ]
    }
   ],
   "source": [
    "codes = {'tw':'Taiwan',\n",
    "         'jp':'Japan',\n",
    "         'hk':'Hong kong'}\n",
    "if 'tw' in codes:\n",
    "    print(codes['tw'])"
   ]
  },
  {
   "cell_type": "code",
   "execution_count": null,
   "id": "3656c0d0",
   "metadata": {},
   "outputs": [],
   "source": []
  }
 ],
 "metadata": {
  "kernelspec": {
   "display_name": "Python 3 (ipykernel)",
   "language": "python",
   "name": "python3"
  },
  "language_info": {
   "codemirror_mode": {
    "name": "ipython",
    "version": 3
   },
   "file_extension": ".py",
   "mimetype": "text/x-python",
   "name": "python",
   "nbconvert_exporter": "python",
   "pygments_lexer": "ipython3",
   "version": "3.10.2"
  }
 },
 "nbformat": 4,
 "nbformat_minor": 5
}
