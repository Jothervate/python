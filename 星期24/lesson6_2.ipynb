{
 "cells": [
  {
   "cell_type": "code",
   "execution_count": 1,
   "id": "0572f362",
   "metadata": {},
   "outputs": [
    {
     "data": {
      "text/plain": [
       "{}"
      ]
     },
     "execution_count": 1,
     "metadata": {},
     "output_type": "execute_result"
    }
   ],
   "source": [
    "#Dictionary\n",
    "empty_dict = {}\n",
    "empty_dict"
   ]
  },
  {
   "cell_type": "code",
   "execution_count": 2,
   "id": "77775d24",
   "metadata": {},
   "outputs": [
    {
     "data": {
      "text/plain": [
       "{'tw': 'Taiwan', 'jp': 'Japan', 'hk': 'Hong Kong'}"
      ]
     },
     "execution_count": 2,
     "metadata": {},
     "output_type": "execute_result"
    }
   ],
   "source": [
    "codes = {\"tw\":\"Taiwan\",\n",
    "         \"jp\":\"Japan\",\n",
    "         \"hk\":\"Hong Kong\"}\n",
    "codes"
   ]
  },
  {
   "cell_type": "code",
   "execution_count": 3,
   "id": "d3ce8a04",
   "metadata": {},
   "outputs": [
    {
     "name": "stdout",
     "output_type": "stream",
     "text": [
      "Taiwan\n",
      "Japan\n",
      "Hong Kong\n"
     ]
    }
   ],
   "source": [
    "print(codes[\"tw\"])\n",
    "print(codes[\"jp\"])\n",
    "print(codes[\"hk\"])"
   ]
  },
  {
   "cell_type": "code",
   "execution_count": null,
   "id": "6e3dbd84",
   "metadata": {},
   "outputs": [],
   "source": []
  }
 ],
 "metadata": {
  "kernelspec": {
   "display_name": "Python 3 (ipykernel)",
   "language": "python",
   "name": "python3"
  },
  "language_info": {
   "codemirror_mode": {
    "name": "ipython",
    "version": 3
   },
   "file_extension": ".py",
   "mimetype": "text/x-python",
   "name": "python",
   "nbconvert_exporter": "python",
   "pygments_lexer": "ipython3",
   "version": "3.10.2"
  }
 },
 "nbformat": 4,
 "nbformat_minor": 5
}
