{
 "cells": [
  {
   "cell_type": "code",
   "execution_count": 1,
   "id": "9e71408c",
   "metadata": {},
   "outputs": [
    {
     "name": "stdout",
     "output_type": "stream",
     "text": [
      "6\n",
      "5\n",
      "4\n",
      "3\n",
      "2\n",
      "1\n"
     ]
    }
   ],
   "source": [
    "#明確知道執行幾次\n",
    "a = 6 #設定初始值\n",
    "while(a > 0): #判斷\n",
    "    print(a)\n",
    "    a -= 1 #改變值\n"
   ]
  },
  {
   "cell_type": "code",
   "execution_count": 5,
   "id": "864cfe25",
   "metadata": {},
   "outputs": [
    {
     "name": "stdout",
     "output_type": "stream",
     "text": [
      "第1次迴圈的start=2,總和為2\n",
      "第2次迴圈的start=4,總和為6\n",
      "第3次迴圈的start=6,總和為12\n",
      "第4次迴圈的start=8,總和為20\n",
      "第5次迴圈的start=10,總和為30\n"
     ]
    }
   ],
   "source": [
    "#計算2 - 10所有偶數的總和\n",
    "\n",
    "i = 0\n",
    "total = 0\n",
    "start = 2\n",
    "end = 10\n",
    "\n",
    "while(start <= end):\n",
    "    total += start\n",
    "    i += 1\n",
    "    print(f\"第{i}次迴圈的start={start},總和為{total}\")\n",
    "    start += 2\n"
   ]
  },
  {
   "cell_type": "code",
   "execution_count": 8,
   "id": "dcd00626",
   "metadata": {},
   "outputs": [
    {
     "name": "stdout",
     "output_type": "stream",
     "text": [
      "請輸入end的值55\n",
      "1~55的加總為:1540\n"
     ]
    }
   ],
   "source": [
    "#以while迴圈計算1到100的和\n",
    "\n",
    "end = eval(input(\"請輸入end的值\"))\n",
    "start = 1\n",
    "sum = 0\n",
    "\n",
    "while(start<=end):\n",
    "    sum += start\n",
    "    start += 1\n",
    "print(f\"1~{end}的加總為:{sum}\")"
   ]
  },
  {
   "cell_type": "code",
   "execution_count": 10,
   "id": "07753ec7",
   "metadata": {},
   "outputs": [
    {
     "name": "stdout",
     "output_type": "stream",
     "text": [
      "請輸入第1個月分的存款:5678\n",
      "請輸入第2個月分的存款:5678\n",
      "請輸入第3個月分的存款:5678\n",
      "請輸入第4個月分的存款:5678\n",
      "請輸入第5個月分的存款:5678\n",
      "請輸入第6個月分的存款:5678\n",
      "恭喜!已經存夠了,存了6個月的存款,總存款為:34068\n"
     ]
    }
   ],
   "source": [
    "#小明想要存錢買一輛機車,機車每輛30000元，他將每月存的錢輸入，當存款足夠買機車時，就顯示提示訊息告知。\n",
    "deposit = 0\n",
    "num = 0\n",
    "while(deposit<30000):\n",
    "    num += 1\n",
    "    inputNum = eval(input(f\"請輸入第{num}個月分的存款:\"))\n",
    "    deposit += inputNum\n",
    "\n",
    "print(f\"恭喜!已經存夠了,存了{num}個月的存款,總存款為:{deposit}\")\n",
    "    "
   ]
  },
  {
   "cell_type": "code",
   "execution_count": null,
   "id": "ad136ea6",
   "metadata": {},
   "outputs": [],
   "source": []
  }
 ],
 "metadata": {
  "kernelspec": {
   "display_name": "Python 3 (ipykernel)",
   "language": "python",
   "name": "python3"
  },
  "language_info": {
   "codemirror_mode": {
    "name": "ipython",
    "version": 3
   },
   "file_extension": ".py",
   "mimetype": "text/x-python",
   "name": "python",
   "nbconvert_exporter": "python",
   "pygments_lexer": "ipython3",
   "version": "3.10.2"
  }
 },
 "nbformat": 4,
 "nbformat_minor": 5
}
