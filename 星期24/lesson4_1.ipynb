{
 "cells": [
  {
   "cell_type": "code",
   "execution_count": 1,
   "id": "754d61cb",
   "metadata": {},
   "outputs": [
    {
     "name": "stdout",
     "output_type": "stream",
     "text": [
      "1\n",
      "2\n",
      "3\n",
      "4\n",
      "5\n"
     ]
    }
   ],
   "source": [
    "#明確知道執行的次數\n",
    "count = 1\n",
    "while count <= 5:\n",
    "    print(count)\n",
    "    count += 1"
   ]
  },
  {
   "cell_type": "code",
   "execution_count": 4,
   "id": "88abc2eb",
   "metadata": {},
   "outputs": [
    {
     "name": "stdout",
     "output_type": "stream",
     "text": [
      "請輸入星期1的支出:456\n",
      "請輸入星期2的支出:345\n",
      "請輸入星期3的支出:678\n",
      "請輸入星期4的支出:456\n",
      "請輸入星期5的支出:234\n",
      "請輸入星期6的支出:345\n",
      "請輸入星期日的支出:345\n",
      "本星期的支出為:2859\n"
     ]
    }
   ],
   "source": [
    "day = 1\n",
    "sum = 0\n",
    "while day <= 7:\n",
    "    if day == 7:\n",
    "        inputValue = int(input('請輸入星期日的支出:'))\n",
    "    else:\n",
    "        inputValue = int(input(f'請輸入星期{day}的支出:'))\n",
    "    sum += inputValue    \n",
    "    day += 1\n",
    "\n",
    "print(f\"本星期的支出為:{sum}\")"
   ]
  },
  {
   "cell_type": "code",
   "execution_count": 6,
   "id": "180022e6",
   "metadata": {},
   "outputs": [
    {
     "name": "stdout",
     "output_type": "stream",
     "text": [
      "請輸入第1個月份的存款:4567\n",
      "請輸入第2個月份的存款:4567\n",
      "請輸入第3個月份的存款:3456\n",
      "請輸入第4個月份的存款:4567\n",
      "請輸入第5個月份的存款:6789\n",
      "請輸入第6個月份的存款:5678\n",
      "請輸入第7個月份的存款:3456\n",
      "恭喜!已經存夠了，存了7,個月的總存款為:33080\n"
     ]
    }
   ],
   "source": [
    "deposit = 0\n",
    "num = 0\n",
    "while(deposit < 30000):\n",
    "    num += 1\n",
    "    inputValue = int(input(f'請輸入第{num}個月份的存款:'))\n",
    "    deposit += inputValue\n",
    "print(f\"恭喜!已經存夠了，存了{num}個月的總存款為:{deposit}\")\n"
   ]
  },
  {
   "cell_type": "code",
   "execution_count": 7,
   "id": "55121dc9",
   "metadata": {},
   "outputs": [
    {
     "name": "stdout",
     "output_type": "stream",
     "text": [
      "請輸入第1個月份的存款:4567\n",
      "請輸入第2個月份的存款:4567\n",
      "請輸入第3個月份的存款:4567\n",
      "請輸入第4個月份的存款:4567\n",
      "請輸入第5個月份的存款:4567\n",
      "請輸入第6個月份的存款:4567\n",
      "請輸入第7個月份的存款:4567\n",
      "恭喜!已經存夠了，存了7個月的總存款為:31969\n"
     ]
    }
   ],
   "source": [
    "deposit = 0\n",
    "num = 0\n",
    "while(True):\n",
    "    num += 1\n",
    "    inputValue = int(input(f'請輸入第{num}個月份的存款:'))\n",
    "    deposit += inputValue\n",
    "    if deposit >= 30000:\n",
    "        break\n",
    "print(f\"恭喜!已經存夠了，存了{num}個月的總存款為:{deposit}\")"
   ]
  },
  {
   "cell_type": "code",
   "execution_count": 10,
   "id": "0fdbbd57",
   "metadata": {},
   "outputs": [
    {
     "name": "stdout",
     "output_type": "stream",
     "text": [
      "請輸入小寫英文字[按q會離開]:city\n",
      "City\n",
      "請輸入小寫英文字[按q會離開]:country\n",
      "Country\n",
      "請輸入小寫英文字[按q會離開]:q\n"
     ]
    }
   ],
   "source": [
    "while(True):\n",
    "    stuff = input(\"請輸入小寫英文字[按q會離開]:\")    \n",
    "    if stuff == \"q\":\n",
    "        break\n",
    "    print(stuff.capitalize())"
   ]
  },
  {
   "cell_type": "code",
   "execution_count": 11,
   "id": "a7e122e2",
   "metadata": {},
   "outputs": [
    {
     "name": "stdout",
     "output_type": "stream",
     "text": [
      "請輸入第1個數值:1\n",
      "請輸入第2個數值:1\n",
      "請輸入第3個數值:1\n",
      "請輸入第4個數值:1\n",
      "請輸入第5個數值:1\n",
      "請輸入第6個數值:2\n",
      "請輸入第7個數值:2\n",
      "請輸入第8個數值:2\n",
      "請輸入第9個數值:2\n",
      "請輸入第10個數值:2\n",
      "請輸入第11個數值:-1\n",
      "所有輸入的正偶數的加總是:10\n"
     ]
    }
   ],
   "source": [
    "num = 0\n",
    "sum = 0\n",
    "while(True):\n",
    "    num += 1\n",
    "    inputValue = int(input(f\"請輸入第{num}個數值:\"))\n",
    "    if inputValue < 0:\n",
    "        break\n",
    "    elif inputValue % 2 == 1:\n",
    "        continue\n",
    "    else:\n",
    "        sum += inputValue\n",
    "    \n",
    "print(f\"所有輸入的正偶數的加總是:{sum}\")"
   ]
  },
  {
   "cell_type": "code",
   "execution_count": 27,
   "id": "41300dd8",
   "metadata": {},
   "outputs": [
    {
     "name": "stdout",
     "output_type": "stream",
     "text": [
      "============猜數字遊戲================\n",
      "\n",
      "\n",
      "猜數字範圍1~100:50\n",
      "再小一點\n",
      "您已經猜了1次\n",
      "猜數字範圍1~50:25\n",
      "再大一點\n",
      "您已經猜了2次\n",
      "猜數字範圍25~50:38\n",
      "賓果!猜對了, 答案是:38\n",
      "您猜了3次\n",
      "遊戲結束\n"
     ]
    }
   ],
   "source": [
    "import random\n",
    "\n",
    "min = 1\n",
    "max = 100\n",
    "count = 0\n",
    "target = random.randint(min,max)\n",
    "print(\"============猜數字遊戲================\\n\\n\")\n",
    "while(True):\n",
    "    keyin = int(input(f\"猜數字範圍{min}~{max}:\"))\n",
    "    count += 1\n",
    "    if(keyin >= min and keyin <= max):\n",
    "        if(keyin == target):\n",
    "            print(f\"賓果!猜對了, 答案是:{target}\")\n",
    "            print(f\"您猜了{count}次\")\n",
    "            break\n",
    "        elif(keyin > target):\n",
    "            print(\"再小一點\")\n",
    "            max = keyin\n",
    "        elif(keyin < target):\n",
    "            print(\"再大一點\")\n",
    "            min = keyin\n",
    "        print(f\"您已經猜了{count}次\")\n",
    "    else:\n",
    "        print(\"請輸入提示範圍內的數字\")\n",
    "        \n",
    "print(\"遊戲結束\")"
   ]
  },
  {
   "cell_type": "code",
   "execution_count": 30,
   "id": "8c5a89e4",
   "metadata": {},
   "outputs": [
    {
     "name": "stdout",
     "output_type": "stream",
     "text": [
      "1~1000的加總是500500\n"
     ]
    }
   ],
   "source": [
    "sum = 0\n",
    "for x in range(1000):\n",
    "    sum += (x+1)\n",
    "print(f\"1~1000的加總是{sum}\")"
   ]
  },
  {
   "cell_type": "code",
   "execution_count": null,
   "id": "0b4913c6",
   "metadata": {},
   "outputs": [],
   "source": []
  }
 ],
 "metadata": {
  "kernelspec": {
   "display_name": "Python 3 (ipykernel)",
   "language": "python",
   "name": "python3"
  },
  "language_info": {
   "codemirror_mode": {
    "name": "ipython",
    "version": 3
   },
   "file_extension": ".py",
   "mimetype": "text/x-python",
   "name": "python",
   "nbconvert_exporter": "python",
   "pygments_lexer": "ipython3",
   "version": "3.10.2"
  }
 },
 "nbformat": 4,
 "nbformat_minor": 5
}
