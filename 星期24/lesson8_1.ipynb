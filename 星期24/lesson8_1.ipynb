{
 "cells": [
  {
   "cell_type": "code",
   "execution_count": 1,
   "id": "d89c5e70",
   "metadata": {},
   "outputs": [
    {
     "data": {
      "text/plain": [
       "[1, 2, 3, 4, 5]"
      ]
     },
     "execution_count": 1,
     "metadata": {},
     "output_type": "execute_result"
    }
   ],
   "source": [
    "#一般方法建立1個list\n",
    "number_list = []\n",
    "for i in range(1,6):\n",
    "    number_list.append(i)\n",
    "number_list"
   ]
  },
  {
   "cell_type": "code",
   "execution_count": 2,
   "id": "cfd08a3f",
   "metadata": {},
   "outputs": [
    {
     "data": {
      "text/plain": [
       "[1, 2, 3, 4, 5]"
      ]
     },
     "execution_count": 2,
     "metadata": {},
     "output_type": "execute_result"
    }
   ],
   "source": [
    "#Comprehensions的語法建立list\n",
    "number_list = [i for i in range(1,6)]\n",
    "number_list"
   ]
  },
  {
   "cell_type": "code",
   "execution_count": 3,
   "id": "68a89bd4",
   "metadata": {},
   "outputs": [
    {
     "data": {
      "text/plain": [
       "[10, 20, 30, 40, 50]"
      ]
     },
     "execution_count": 3,
     "metadata": {},
     "output_type": "execute_result"
    }
   ],
   "source": [
    "number_list = [i*10 for i in range(1,6)]\n",
    "number_list"
   ]
  },
  {
   "cell_type": "code",
   "execution_count": 4,
   "id": "ecfac414",
   "metadata": {},
   "outputs": [
    {
     "data": {
      "text/plain": [
       "[2, 4, 6, 8]"
      ]
     },
     "execution_count": 4,
     "metadata": {},
     "output_type": "execute_result"
    }
   ],
   "source": [
    "#一般方法建立1個list\n",
    "#for in\n",
    "#if\n",
    "a_list = []\n",
    "for number in range(1,10):\n",
    "    if number % 2 == 0:\n",
    "        a_list.append(number)\n",
    "a_list"
   ]
  },
  {
   "cell_type": "code",
   "execution_count": 5,
   "id": "c4187913",
   "metadata": {},
   "outputs": [
    {
     "data": {
      "text/plain": [
       "[2, 4, 6, 8]"
      ]
     },
     "execution_count": 5,
     "metadata": {},
     "output_type": "execute_result"
    }
   ],
   "source": [
    "#comprehensions\n",
    "a_list = [number for number in range(1,10) if number % 2 == 0]\n",
    "a_list"
   ]
  },
  {
   "cell_type": "code",
   "execution_count": 7,
   "id": "54e342e2",
   "metadata": {},
   "outputs": [
    {
     "name": "stdout",
     "output_type": "stream",
     "text": [
      "1\n",
      "2\n",
      "2\n",
      "2\n",
      "2\n",
      "1\n",
      "1\n"
     ]
    }
   ],
   "source": [
    "word = 'letters'\n",
    "for l in word:\n",
    "    print(word.count(l))"
   ]
  },
  {
   "cell_type": "code",
   "execution_count": 8,
   "id": "f65162dd",
   "metadata": {},
   "outputs": [
    {
     "data": {
      "text/plain": [
       "{'l': 1, 'e': 2, 't': 2, 'r': 1, 's': 1}"
      ]
     },
     "execution_count": 8,
     "metadata": {},
     "output_type": "execute_result"
    }
   ],
   "source": [
    "#Dictionary Comprehensions\n",
    "word = 'letters'\n",
    "letter_counts = {letter:word.count(letter) for letter in word}\n",
    "letter_counts"
   ]
  },
  {
   "cell_type": "code",
   "execution_count": 9,
   "id": "12cb92b3",
   "metadata": {},
   "outputs": [
    {
     "data": {
      "text/plain": [
       "{'l': 1, 't': 2, 'r': 1, 's': 1}"
      ]
     },
     "execution_count": 9,
     "metadata": {},
     "output_type": "execute_result"
    }
   ],
   "source": [
    "word = 'letters'\n",
    "letter_counts = {letter:word.count(letter) for letter in word if letter != 'e'}\n",
    "letter_counts"
   ]
  },
  {
   "cell_type": "code",
   "execution_count": 15,
   "id": "ac80611a",
   "metadata": {},
   "outputs": [
    {
     "name": "stdout",
     "output_type": "stream",
     "text": [
      "1\n",
      "2\n",
      "3\n",
      "4\n",
      "5\n"
     ]
    }
   ],
   "source": [
    "#建立Generators\n",
    "number_list = (number for number in range(1,6))\n",
    "for n in number_list:\n",
    "    print(n)\n",
    "    \n",
    "for n in number_list:\n",
    "    print(n)"
   ]
  },
  {
   "cell_type": "code",
   "execution_count": 16,
   "id": "4cd7c51c",
   "metadata": {},
   "outputs": [
    {
     "data": {
      "text/plain": [
       "3"
      ]
     },
     "execution_count": 16,
     "metadata": {},
     "output_type": "execute_result"
    }
   ],
   "source": [
    "#value Type\n",
    "\n",
    "a = 3\n",
    "b = a\n",
    "a = 5\n",
    "b"
   ]
  },
  {
   "cell_type": "code",
   "execution_count": 18,
   "id": "4d44b6bb",
   "metadata": {},
   "outputs": [
    {
     "name": "stdout",
     "output_type": "stream",
     "text": [
      "10\n",
      "10\n"
     ]
    }
   ],
   "source": [
    "#reference\n",
    "\n",
    "list1 = [10, 20 ,30]\n",
    "list2 = list1;\n",
    "print(list1[0])\n",
    "print(list2[0])"
   ]
  },
  {
   "cell_type": "code",
   "execution_count": 19,
   "id": "f5b903cb",
   "metadata": {},
   "outputs": [
    {
     "data": {
      "text/plain": [
       "100"
      ]
     },
     "execution_count": 19,
     "metadata": {},
     "output_type": "execute_result"
    }
   ],
   "source": [
    "list1[0] = 100\n",
    "list2[0]"
   ]
  }
 ],
 "metadata": {
  "kernelspec": {
   "display_name": "Python 3 (ipykernel)",
   "language": "python",
   "name": "python3"
  },
  "language_info": {
   "codemirror_mode": {
    "name": "ipython",
    "version": 3
   },
   "file_extension": ".py",
   "mimetype": "text/x-python",
   "name": "python",
   "nbconvert_exporter": "python",
   "pygments_lexer": "ipython3",
   "version": "3.10.2"
  }
 },
 "nbformat": 4,
 "nbformat_minor": 5
}
