{
 "cells": [
  {
   "cell_type": "code",
   "execution_count": 1,
   "id": "7f278d57",
   "metadata": {},
   "outputs": [],
   "source": [
    "def menu(wine='紅酒', entree='牛排', dessert='蛋糕'):\n",
    "    return {\n",
    "        'wine':wine,\n",
    "        'entree':entree,\n",
    "        'dessert':dessert\n",
    "    }"
   ]
  },
  {
   "cell_type": "code",
   "execution_count": 2,
   "id": "f49a7964",
   "metadata": {},
   "outputs": [
    {
     "data": {
      "text/plain": [
       "{'wine': '紅酒', 'entree': '牛排', 'dessert': '蛋糕'}"
      ]
     },
     "execution_count": 2,
     "metadata": {},
     "output_type": "execute_result"
    }
   ],
   "source": [
    "menu()"
   ]
  },
  {
   "cell_type": "code",
   "execution_count": 3,
   "id": "6a46fa8f",
   "metadata": {},
   "outputs": [
    {
     "data": {
      "text/plain": [
       "{'wine': '紅酒', 'entree': '雞排', 'dessert': '蛋糕'}"
      ]
     },
     "execution_count": 3,
     "metadata": {},
     "output_type": "execute_result"
    }
   ],
   "source": [
    "menu(entree='雞排')"
   ]
  },
  {
   "cell_type": "code",
   "execution_count": 4,
   "id": "955c3c10",
   "metadata": {},
   "outputs": [
    {
     "data": {
      "text/plain": [
       "{'wine': '白酒', 'entree': '雞排', 'dessert': '蛋糕'}"
      ]
     },
     "execution_count": 4,
     "metadata": {},
     "output_type": "execute_result"
    }
   ],
   "source": [
    "menu(entree='雞排',wine='白酒')"
   ]
  },
  {
   "cell_type": "code",
   "execution_count": 6,
   "id": "97a06f25",
   "metadata": {},
   "outputs": [
    {
     "name": "stdout",
     "output_type": "stream",
     "text": [
      "a-1-b-2.\n"
     ]
    }
   ],
   "source": [
    "print('a',1, 'b', 2,sep='-',end='.\\n')"
   ]
  },
  {
   "cell_type": "code",
   "execution_count": 10,
   "id": "5da3aa82",
   "metadata": {},
   "outputs": [],
   "source": [
    "def print_args(*args):\n",
    "    print(f\"引數位置的呼叫,args是tuple:{args}\")"
   ]
  },
  {
   "cell_type": "code",
   "execution_count": 11,
   "id": "ac2d9ba9",
   "metadata": {},
   "outputs": [
    {
     "name": "stdout",
     "output_type": "stream",
     "text": [
      "引數位置的呼叫,args是tuple:(3, 3, 1, 'wait1', 'uh....')\n"
     ]
    }
   ],
   "source": [
    "print_args(3, 3, 1, 'wait1', 'uh....')"
   ]
  },
  {
   "cell_type": "code",
   "execution_count": 12,
   "id": "39a3925f",
   "metadata": {},
   "outputs": [
    {
     "name": "stdout",
     "output_type": "stream",
     "text": [
      "r1是:台北\n",
      "r2是:台中\n",
      "引數位置的呼叫,args是tuple:(1, 2, 3, 4, 5, 6, 7, 8, 9, 10)\n"
     ]
    }
   ],
   "source": [
    "def print_more(r1,r2,*args):\n",
    "    print(f'r1是:{r1}')\n",
    "    print(f'r2是:{r2}')\n",
    "    print(f\"引數位置的呼叫,args是tuple:{args}\")\n",
    "print_more('台北','台中',1,2,3,4,5,6,7,8,9,10)"
   ]
  },
  {
   "cell_type": "code",
   "execution_count": null,
   "id": "06cc316a",
   "metadata": {},
   "outputs": [],
   "source": []
  }
 ],
 "metadata": {
  "kernelspec": {
   "display_name": "Python 3 (ipykernel)",
   "language": "python",
   "name": "python3"
  },
  "language_info": {
   "codemirror_mode": {
    "name": "ipython",
    "version": 3
   },
   "file_extension": ".py",
   "mimetype": "text/x-python",
   "name": "python",
   "nbconvert_exporter": "python",
   "pygments_lexer": "ipython3",
   "version": "3.10.2"
  }
 },
 "nbformat": 4,
 "nbformat_minor": 5
}
