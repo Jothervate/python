{
 "cells": [
  {
   "cell_type": "code",
   "execution_count": 1,
   "id": "8257791b",
   "metadata": {},
   "outputs": [
    {
     "data": {
      "text/plain": [
       "[1, 2, 3, 4, 5]"
      ]
     },
     "execution_count": 1,
     "metadata": {},
     "output_type": "execute_result"
    }
   ],
   "source": [
    "#一般方法建立1個list\n",
    "number_list = []\n",
    "for i in range(1,6):\n",
    "    number_list.append(i)\n",
    "number_list"
   ]
  },
  {
   "cell_type": "code",
   "execution_count": 2,
   "id": "49a54ed1",
   "metadata": {},
   "outputs": [
    {
     "data": {
      "text/plain": [
       "[1, 2, 3, 4, 5]"
      ]
     },
     "execution_count": 2,
     "metadata": {},
     "output_type": "execute_result"
    }
   ],
   "source": [
    "#Comprehensions的語法建立list\n",
    "number_list = [i for i in range(1,6)]\n",
    "number_list"
   ]
  },
  {
   "cell_type": "code",
   "execution_count": 3,
   "id": "919ae4f1",
   "metadata": {},
   "outputs": [
    {
     "data": {
      "text/plain": [
       "[10, 20, 30, 40, 50]"
      ]
     },
     "execution_count": 3,
     "metadata": {},
     "output_type": "execute_result"
    }
   ],
   "source": [
    "number_list = [i*10 for i in range(1,6)]\n",
    "number_list"
   ]
  },
  {
   "cell_type": "code",
   "execution_count": 4,
   "id": "8cea7659",
   "metadata": {},
   "outputs": [
    {
     "data": {
      "text/plain": [
       "[2, 4, 6, 8]"
      ]
     },
     "execution_count": 4,
     "metadata": {},
     "output_type": "execute_result"
    }
   ],
   "source": [
    "#一般方法建立1個list\n",
    "#for in\n",
    "#if\n",
    "a_list = []\n",
    "for number in range(1,10):\n",
    "    if number % 2 == 0:\n",
    "        a_list.append(number)\n",
    "a_list"
   ]
  },
  {
   "cell_type": "code",
   "execution_count": 5,
   "id": "525a2362",
   "metadata": {},
   "outputs": [
    {
     "data": {
      "text/plain": [
       "[2, 4, 6, 8]"
      ]
     },
     "execution_count": 5,
     "metadata": {},
     "output_type": "execute_result"
    }
   ],
   "source": [
    "#comprehensions\n",
    "a_list = [number for number in range(1,10) if number % 2 == 0]\n",
    "a_list"
   ]
  },
  {
   "cell_type": "code",
   "execution_count": null,
   "id": "701410b0",
   "metadata": {},
   "outputs": [],
   "source": []
  }
 ],
 "metadata": {
  "kernelspec": {
   "display_name": "Python 3 (ipykernel)",
   "language": "python",
   "name": "python3"
  },
  "language_info": {
   "codemirror_mode": {
    "name": "ipython",
    "version": 3
   },
   "file_extension": ".py",
   "mimetype": "text/x-python",
   "name": "python",
   "nbconvert_exporter": "python",
   "pygments_lexer": "ipython3",
   "version": "3.10.2"
  }
 },
 "nbformat": 4,
 "nbformat_minor": 5
}
