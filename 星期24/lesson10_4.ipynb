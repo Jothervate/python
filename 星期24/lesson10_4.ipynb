{
 "cells": [
  {
   "cell_type": "code",
   "execution_count": 3,
   "id": "35575f85",
   "metadata": {},
   "outputs": [
    {
     "name": "stdout",
     "output_type": "stream",
     "text": [
      "出錯了\n"
     ]
    }
   ],
   "source": [
    "list = [10, 20, 30, 40]\n",
    "try:\n",
    "    list[5]\n",
    "except:\n",
    "    print(\"出錯了\")\n"
   ]
  },
  {
   "cell_type": "code",
   "execution_count": 7,
   "id": "e141dae4",
   "metadata": {},
   "outputs": [
    {
     "name": "stdout",
     "output_type": "stream",
     "text": [
      "list index out of range\n"
     ]
    }
   ],
   "source": [
    "list = [10, 20, 30, 40]\n",
    "try:\n",
    "    list[5]\n",
    "except IndexError as e:\n",
    "    print(e)\n",
    "except:\n",
    "    print(\"其它的錯誤\")"
   ]
  },
  {
   "cell_type": "code",
   "execution_count": null,
   "id": "bbac66d1",
   "metadata": {},
   "outputs": [],
   "source": []
  }
 ],
 "metadata": {
  "kernelspec": {
   "display_name": "Python 3 (ipykernel)",
   "language": "python",
   "name": "python3"
  },
  "language_info": {
   "codemirror_mode": {
    "name": "ipython",
    "version": 3
   },
   "file_extension": ".py",
   "mimetype": "text/x-python",
   "name": "python",
   "nbconvert_exporter": "python",
   "pygments_lexer": "ipython3",
   "version": "3.10.2"
  }
 },
 "nbformat": 4,
 "nbformat_minor": 5
}
