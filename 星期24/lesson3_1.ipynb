{
 "cells": [
  {
   "cell_type": "code",
   "execution_count": 4,
   "id": "7e864b96",
   "metadata": {},
   "outputs": [
    {
     "name": "stdout",
     "output_type": "stream",
     "text": [
      "Hello-5-3.05-World\n",
      "\n",
      "Hello World\n"
     ]
    }
   ],
   "source": [
    "print(\"Hello\", 5, 3.05, \"World\",sep=\"-\",end=\"\\n\\n\")\n",
    "print(\"Hello\", \"World\")"
   ]
  },
  {
   "cell_type": "code",
   "execution_count": null,
   "id": "9adce1e6",
   "metadata": {},
   "outputs": [],
   "source": [
    "print(\"Hello,\" + \"World\")"
   ]
  },
  {
   "cell_type": "code",
   "execution_count": 5,
   "id": "3a4121e9",
   "metadata": {},
   "outputs": [
    {
     "name": "stdout",
     "output_type": "stream",
     "text": [
      "100 * 5 = 500\n"
     ]
    }
   ],
   "source": [
    "#輸出字串和變數整合在一起\n",
    "n = 100\n",
    "m = 5\n",
    "print(n,\"*\",m, \"=\", n*m)"
   ]
  },
  {
   "cell_type": "code",
   "execution_count": 6,
   "id": "a598cf2d",
   "metadata": {},
   "outputs": [
    {
     "name": "stdout",
     "output_type": "stream",
     "text": [
      "100 * 5 = 500\n"
     ]
    }
   ],
   "source": [
    "#輸出字串和變數整合在一起,成為一個新的字串\n",
    "#字串插補\n",
    "#得到一個全新的字串\n",
    "n = 100\n",
    "m = 5\n",
    "print(f\"{n} * {m} = {n*m}\")"
   ]
  },
  {
   "cell_type": "code",
   "execution_count": 7,
   "id": "b32a2c61",
   "metadata": {},
   "outputs": [
    {
     "data": {
      "text/plain": [
       "'100 * 5 = 500'"
      ]
     },
     "execution_count": 7,
     "metadata": {},
     "output_type": "execute_result"
    }
   ],
   "source": [
    "n = 100\n",
    "m = 5\n",
    "f\"{n} * {m} = {n*m}\""
   ]
  },
  {
   "cell_type": "code",
   "execution_count": null,
   "id": "bfa1eadc",
   "metadata": {},
   "outputs": [],
   "source": []
  }
 ],
 "metadata": {
  "kernelspec": {
   "display_name": "Python 3 (ipykernel)",
   "language": "python",
   "name": "python3"
  },
  "language_info": {
   "codemirror_mode": {
    "name": "ipython",
    "version": 3
   },
   "file_extension": ".py",
   "mimetype": "text/x-python",
   "name": "python",
   "nbconvert_exporter": "python",
   "pygments_lexer": "ipython3",
   "version": "3.10.2"
  }
 },
 "nbformat": 4,
 "nbformat_minor": 5
}
