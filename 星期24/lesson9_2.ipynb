{
 "cells": [
  {
   "cell_type": "code",
   "execution_count": 1,
   "id": "34a1c6b6",
   "metadata": {},
   "outputs": [
    {
     "name": "stdout",
     "output_type": "stream",
     "text": [
      "下載成功\n"
     ]
    }
   ],
   "source": [
    "#透過requests,下載檔案\n",
    "import requests\n",
    "url = '\thttps://datacenter.taichung.gov.tw/swagger/OpenData/1dbc1a00-7079-4645-8d1a-aa5c497a1bf8'\n",
    "response = requests.get(url)\n",
    "\n",
    "if response.status_code == 200:\n",
    "    print('下載成功')"
   ]
  },
  {
   "cell_type": "code",
   "execution_count": 3,
   "id": "10c6970c",
   "metadata": {},
   "outputs": [],
   "source": [
    "file = open('something.json','wb')\n",
    "for chunk in response.iter_content(chunk_size=128):\n",
    "    file.write(chunk)\n",
    "file.close()"
   ]
  },
  {
   "cell_type": "code",
   "execution_count": null,
   "id": "9b807c24",
   "metadata": {},
   "outputs": [],
   "source": []
  }
 ],
 "metadata": {
  "kernelspec": {
   "display_name": "Python 3 (ipykernel)",
   "language": "python",
   "name": "python3"
  },
  "language_info": {
   "codemirror_mode": {
    "name": "ipython",
    "version": 3
   },
   "file_extension": ".py",
   "mimetype": "text/x-python",
   "name": "python",
   "nbconvert_exporter": "python",
   "pygments_lexer": "ipython3",
   "version": "3.10.2"
  }
 },
 "nbformat": 4,
 "nbformat_minor": 5
}
