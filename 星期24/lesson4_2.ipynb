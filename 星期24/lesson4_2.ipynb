{
 "cells": [
  {
   "cell_type": "code",
   "execution_count": 7,
   "id": "f39eb074",
   "metadata": {},
   "outputs": [
    {
     "data": {
      "text/plain": [
       "0"
      ]
     },
     "execution_count": 7,
     "metadata": {},
     "output_type": "execute_result"
    }
   ],
   "source": [
    "#猜數字遊戲\n",
    "#學會建立亂數\n",
    "\n",
    "import random\n",
    "\n",
    "random.randrange(5)\n"
   ]
  },
  {
   "cell_type": "code",
   "execution_count": 13,
   "id": "d5c4bfb8",
   "metadata": {},
   "outputs": [
    {
     "data": {
      "text/plain": [
       "9"
      ]
     },
     "execution_count": 13,
     "metadata": {},
     "output_type": "execute_result"
    }
   ],
   "source": [
    "random.randrange(1,11)"
   ]
  },
  {
   "cell_type": "code",
   "execution_count": 18,
   "id": "bfff9c58",
   "metadata": {},
   "outputs": [
    {
     "data": {
      "text/plain": [
       "5"
      ]
     },
     "execution_count": 18,
     "metadata": {},
     "output_type": "execute_result"
    }
   ],
   "source": [
    "random.randint(1,10)"
   ]
  },
  {
   "cell_type": "code",
   "execution_count": 19,
   "id": "8ec13ca3",
   "metadata": {},
   "outputs": [
    {
     "data": {
      "text/plain": [
       "0.10859046852378496"
      ]
     },
     "execution_count": 19,
     "metadata": {},
     "output_type": "execute_result"
    }
   ],
   "source": [
    "random.random()"
   ]
  },
  {
   "cell_type": "code",
   "execution_count": 22,
   "id": "8f3f950a",
   "metadata": {},
   "outputs": [
    {
     "data": {
      "text/plain": [
       "57"
      ]
     },
     "execution_count": 22,
     "metadata": {},
     "output_type": "execute_result"
    }
   ],
   "source": [
    "random.randint(1,100)"
   ]
  },
  {
   "cell_type": "code",
   "execution_count": 27,
   "id": "c3650d73",
   "metadata": {},
   "outputs": [
    {
     "name": "stdout",
     "output_type": "stream",
     "text": [
      "===============猜數字遊戲===============\n",
      "\n",
      "\n",
      "猜數字的範圍1~100:50\n",
      "再大一點\n",
      "您已經猜了1次\n",
      "猜數字的範圍50~100:75\n",
      "再小一點\n",
      "您已經猜了2次\n",
      "猜數字的範圍50~75:65\n",
      "再大一點\n",
      "您已經猜了3次\n",
      "猜數字的範圍65~75:70\n",
      "再小一點\n",
      "您已經猜了4次\n",
      "猜數字的範圍65~70:68\n",
      "再大一點\n",
      "您已經猜了5次\n",
      "猜數字的範圍68~70:69\n",
      "賓果!猜對了,答案是:69\n",
      "您猜了6次\n",
      "遊戲結束\n"
     ]
    }
   ],
   "source": [
    "import random\n",
    "\n",
    "print(\"===============猜數字遊戲===============\\n\\n\")\n",
    "min = 1\n",
    "max = 100\n",
    "count = 0 #計算猜了幾次\n",
    "target = random.randint(min, max)\n",
    "while(True):\n",
    "    keyin = int(input(f\"猜數字的範圍{min}~{max}:\"))\n",
    "    count += 1;\n",
    "    if(keyin >= min and keyin <= max):\n",
    "        if(keyin == target):\n",
    "            print(f\"賓果!猜對了,答案是:{target}\")\n",
    "            print(f\"您猜了{count}次\")\n",
    "            break\n",
    "        elif(keyin > target):\n",
    "            max = keyin\n",
    "            print(\"再小一點\")\n",
    "        elif(keyin < target):\n",
    "            min = keyin\n",
    "            print(\"再大一點\")\n",
    "        print(f\"您已經猜了{count}次\")\n",
    "    else:\n",
    "        print(\"請輸入提示範圍內的數字\")\n",
    "print(\"遊戲結束\")"
   ]
  },
  {
   "cell_type": "code",
   "execution_count": null,
   "id": "8ff752e4",
   "metadata": {},
   "outputs": [],
   "source": []
  },
  {
   "cell_type": "code",
   "execution_count": null,
   "id": "7a5e04a3",
   "metadata": {},
   "outputs": [],
   "source": []
  }
 ],
 "metadata": {
  "kernelspec": {
   "display_name": "Python 3 (ipykernel)",
   "language": "python",
   "name": "python3"
  },
  "language_info": {
   "codemirror_mode": {
    "name": "ipython",
    "version": 3
   },
   "file_extension": ".py",
   "mimetype": "text/x-python",
   "name": "python",
   "nbconvert_exporter": "python",
   "pygments_lexer": "ipython3",
   "version": "3.10.2"
  }
 },
 "nbformat": 4,
 "nbformat_minor": 5
}
