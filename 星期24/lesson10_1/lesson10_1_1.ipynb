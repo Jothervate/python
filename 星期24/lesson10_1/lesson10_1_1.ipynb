{
 "cells": [
  {
   "cell_type": "code",
   "execution_count": 2,
   "id": "a33dc9a3",
   "metadata": {},
   "outputs": [
    {
     "name": "stdout",
     "output_type": "stream",
     "text": [
      "<class 'list'>\n"
     ]
    }
   ],
   "source": [
    "#內建class\n",
    "li = [10, 20, 30]\n",
    "print(li.__class__)"
   ]
  },
  {
   "cell_type": "code",
   "execution_count": 6,
   "id": "fde04c94",
   "metadata": {},
   "outputs": [
    {
     "name": "stdout",
     "output_type": "stream",
     "text": [
      "<class '__main__.Student'>\n"
     ]
    }
   ],
   "source": [
    "#自訂的class\n",
    "class Student():\n",
    "    pass\n",
    "\n",
    "stu1 = Student()\n",
    "print(stu1.__class__)"
   ]
  },
  {
   "cell_type": "code",
   "execution_count": null,
   "id": "f5e488a5",
   "metadata": {},
   "outputs": [],
   "source": []
  }
 ],
 "metadata": {
  "kernelspec": {
   "display_name": "Python 3 (ipykernel)",
   "language": "python",
   "name": "python3"
  },
  "language_info": {
   "codemirror_mode": {
    "name": "ipython",
    "version": 3
   },
   "file_extension": ".py",
   "mimetype": "text/x-python",
   "name": "python",
   "nbconvert_exporter": "python",
   "pygments_lexer": "ipython3",
   "version": "3.10.2"
  }
 },
 "nbformat": 4,
 "nbformat_minor": 5
}
