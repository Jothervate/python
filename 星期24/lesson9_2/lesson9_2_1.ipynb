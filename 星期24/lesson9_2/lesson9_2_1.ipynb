{
 "cells": [
  {
   "cell_type": "code",
   "execution_count": 2,
   "id": "525ab41b",
   "metadata": {},
   "outputs": [],
   "source": [
    "text = '''python與中文\n",
    "1. 我們來試試看中文儲存能力。\n",
    "2. 許這個字會有編碼衝突風險。\n",
    "3. 犇這個字必須是utf8編碼才有。'''\n",
    "\n",
    "fileObject = open('data.txt',mode='w',encoding='utf-8',newline='\\n')\n",
    "fileObject.write(text)\n",
    "fileObject.close()"
   ]
  },
  {
   "cell_type": "code",
   "execution_count": 4,
   "id": "ab54ca37",
   "metadata": {},
   "outputs": [],
   "source": [
    "'''\n",
    "編號, 國文, 英文, 數學, 自然, 社會\n",
    "01, 87, 90, 56, 87, 89\n",
    "02, 98, 56, 78, 90, 49\n",
    "'''\n",
    "import csv\n",
    "\n",
    "fileObject = open('students.csv',mode='w', encoding='utf-8', newline='\\n')\n",
    "csvWriter = csv.writer(fileObject)\n",
    "csvWriter.writerow(['編號', '國文', '英文', '數學', '自然', '社會'])\n",
    "csvWriter.writerow(['01', 87, 90, 56, 87, 89])\n",
    "csvWriter.writerow(['02', 98, 56, 78, 90, 49])\n",
    "fileObject.close()"
   ]
  }
 ],
 "metadata": {
  "kernelspec": {
   "display_name": "Python 3 (ipykernel)",
   "language": "python",
   "name": "python3"
  },
  "language_info": {
   "codemirror_mode": {
    "name": "ipython",
    "version": 3
   },
   "file_extension": ".py",
   "mimetype": "text/x-python",
   "name": "python",
   "nbconvert_exporter": "python",
   "pygments_lexer": "ipython3",
   "version": "3.10.2"
  }
 },
 "nbformat": 4,
 "nbformat_minor": 5
}
