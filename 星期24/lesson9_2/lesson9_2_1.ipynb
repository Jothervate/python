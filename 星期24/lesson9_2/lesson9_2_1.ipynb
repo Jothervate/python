{
 "cells": [
  {
   "cell_type": "code",
   "execution_count": 2,
   "id": "a2df5faa",
   "metadata": {},
   "outputs": [],
   "source": [
    "text = '''python與中文\n",
    "1. 我們來試試看中文儲存能力。\n",
    "2. 許這個字會有編碼衝突風險。\n",
    "3. 犇這個字必須是utf8編碼才有。'''\n",
    "\n",
    "fileObject = open('data.txt',mode='w',encoding='utf-8',newline='\\n')\n",
    "fileObject.write(text)\n",
    "fileObject.close()"
   ]
  },
  {
   "cell_type": "code",
   "execution_count": 5,
   "id": "b9490e87",
   "metadata": {},
   "outputs": [],
   "source": [
    "'''\n",
    "編號, 國文, 英文, 數學, 自然, 社會\n",
    "01, 87, 90, 56, 87, 89\n",
    "02, 98, 56, 78, 90, 49\n",
    "'''\n",
    "import csv\n",
    "\n",
    "fileObject = open('students.csv',mode='w', encoding='utf-8', newline='\\n')\n",
    "csvWriter = csv.writer(fileObject)\n",
    "csvWriter.writerow(['編號', '國文', '英文', '數學', '自然', '社會'])\n",
    "csvWriter.writerow(['01', 87, 90, 56, 87, 89])\n",
    "csvWriter.writerow(['02', 98, 56, 78, 90, 49])\n",
    "fileObject.close()"
   ]
  },
  {
   "cell_type": "code",
   "execution_count": 6,
   "id": "d1256e34",
   "metadata": {},
   "outputs": [
    {
     "data": {
      "text/plain": [
       "[['stu1', 62, 83, 57, 94, 58],\n",
       " ['stu2', 63, 85, 50, 96, 67],\n",
       " ['stu3', 53, 55, 51, 61, 96],\n",
       " ['stu4', 75, 91, 75, 93, 57],\n",
       " ['stu5', 55, 59, 66, 91, 75],\n",
       " ['stu6', 52, 87, 96, 87, 80],\n",
       " ['stu7', 61, 65, 85, 50, 81],\n",
       " ['stu8', 86, 57, 74, 77, 100],\n",
       " ['stu9', 62, 52, 86, 55, 89],\n",
       " ['stu10', 89, 72, 78, 71, 81],\n",
       " ['stu11', 97, 87, 57, 54, 88],\n",
       " ['stu12', 97, 63, 55, 85, 92],\n",
       " ['stu13', 94, 74, 55, 50, 63],\n",
       " ['stu14', 61, 54, 81, 85, 86],\n",
       " ['stu15', 64, 68, 84, 88, 68],\n",
       " ['stu16', 87, 61, 53, 73, 69],\n",
       " ['stu17', 90, 77, 96, 60, 53],\n",
       " ['stu18', 81, 56, 73, 94, 73],\n",
       " ['stu19', 57, 64, 72, 70, 70],\n",
       " ['stu20', 52, 60, 68, 86, 51],\n",
       " ['stu21', 97, 94, 57, 75, 58],\n",
       " ['stu22', 66, 88, 57, 83, 90],\n",
       " ['stu23', 94, 83, 65, 89, 79],\n",
       " ['stu24', 61, 70, 59, 92, 59],\n",
       " ['stu25', 100, 55, 78, 75, 96],\n",
       " ['stu26', 53, 81, 92, 81, 71],\n",
       " ['stu27', 54, 51, 70, 64, 83],\n",
       " ['stu28', 73, 82, 63, 57, 82],\n",
       " ['stu29', 95, 64, 71, 54, 78],\n",
       " ['stu30', 64, 76, 95, 84, 100],\n",
       " ['stu31', 71, 84, 51, 89, 100],\n",
       " ['stu32', 58, 87, 95, 72, 63],\n",
       " ['stu33', 50, 57, 50, 95, 62],\n",
       " ['stu34', 82, 55, 60, 86, 100],\n",
       " ['stu35', 86, 70, 64, 87, 79],\n",
       " ['stu36', 93, 67, 70, 60, 81],\n",
       " ['stu37', 71, 51, 82, 50, 81],\n",
       " ['stu38', 87, 77, 75, 90, 54],\n",
       " ['stu39', 92, 52, 72, 85, 57],\n",
       " ['stu40', 53, 67, 74, 94, 69],\n",
       " ['stu41', 81, 59, 74, 75, 67],\n",
       " ['stu42', 51, 54, 92, 75, 62],\n",
       " ['stu43', 51, 87, 96, 94, 78],\n",
       " ['stu44', 76, 89, 83, 88, 91],\n",
       " ['stu45', 78, 81, 64, 58, 71],\n",
       " ['stu46', 71, 88, 60, 87, 74],\n",
       " ['stu47', 69, 78, 55, 65, 75],\n",
       " ['stu48', 80, 67, 60, 81, 96],\n",
       " ['stu49', 83, 56, 87, 68, 77],\n",
       " ['stu50', 97, 87, 97, 55, 95]]"
      ]
     },
     "execution_count": 6,
     "metadata": {},
     "output_type": "execute_result"
    }
   ],
   "source": [
    "import random\n",
    "#comperhension\n",
    "students = [['stu'+ str(i+1), random.randint(50,100),random.randint(50,100),random.randint(50,100),random.randint(50,100),random.randint(50,100)] for i in range(50)]\n",
    "students"
   ]
  },
  {
   "cell_type": "code",
   "execution_count": null,
   "id": "7be67ebb",
   "metadata": {},
   "outputs": [],
   "source": []
  }
 ],
 "metadata": {
  "kernelspec": {
   "display_name": "Python 3 (ipykernel)",
   "language": "python",
   "name": "python3"
  },
  "language_info": {
   "codemirror_mode": {
    "name": "ipython",
    "version": 3
   },
   "file_extension": ".py",
   "mimetype": "text/x-python",
   "name": "python",
   "nbconvert_exporter": "python",
   "pygments_lexer": "ipython3",
   "version": "3.10.2"
  }
 },
 "nbformat": 4,
 "nbformat_minor": 5
}
