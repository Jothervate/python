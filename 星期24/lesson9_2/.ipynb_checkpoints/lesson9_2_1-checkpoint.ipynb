{
 "cells": [
  {
   "cell_type": "code",
   "execution_count": 2,
   "id": "f3392f34",
   "metadata": {},
   "outputs": [],
   "source": [
    "text = '''python與中文\n",
    "1. 我們來試試看中文儲存能力。\n",
    "2. 許這個字會有編碼衝突風險。\n",
    "3. 犇這個字必須是utf8編碼才有。'''\n",
    "\n",
    "fileObject = open('data.txt',mode='w',encoding='utf-8',newline='\\n')\n",
    "fileObject.write(text)\n",
    "fileObject.close()"
   ]
  },
  {
   "cell_type": "code",
   "execution_count": 5,
   "id": "48d5c582",
   "metadata": {},
   "outputs": [],
   "source": [
    "'''\n",
    "編號, 國文, 英文, 數學, 自然, 社會\n",
    "01, 87, 90, 56, 87, 89\n",
    "02, 98, 56, 78, 90, 49\n",
    "'''\n",
    "import csv\n",
    "\n",
    "fileObject = open('students.csv',mode='w', encoding='utf-8', newline='\\n')\n",
    "csvWriter = csv.writer(fileObject)\n",
    "csvWriter.writerow(['編號', '國文', '英文', '數學', '自然', '社會'])\n",
    "csvWriter.writerow(['01', 87, 90, 56, 87, 89])\n",
    "csvWriter.writerow(['02', 98, 56, 78, 90, 49])\n",
    "fileObject.close()"
   ]
  },
  {
   "cell_type": "code",
   "execution_count": 7,
   "id": "f8559585",
   "metadata": {},
   "outputs": [
    {
     "data": {
      "text/plain": [
       "[['stu1', 69, 68, 93, 85, 68],\n",
       " ['stu2', 84, 72, 95, 85, 81],\n",
       " ['stu3', 72, 69, 57, 82, 67],\n",
       " ['stu4', 88, 65, 51, 80, 58],\n",
       " ['stu5', 94, 63, 57, 95, 67],\n",
       " ['stu6', 89, 51, 93, 62, 70],\n",
       " ['stu7', 84, 51, 60, 79, 54],\n",
       " ['stu8', 51, 74, 59, 55, 96],\n",
       " ['stu9', 96, 60, 92, 61, 72],\n",
       " ['stu10', 88, 85, 65, 70, 61],\n",
       " ['stu11', 95, 83, 83, 53, 78],\n",
       " ['stu12', 58, 72, 80, 96, 59],\n",
       " ['stu13', 63, 72, 81, 89, 56],\n",
       " ['stu14', 74, 81, 50, 81, 93],\n",
       " ['stu15', 89, 83, 84, 84, 85],\n",
       " ['stu16', 93, 92, 76, 50, 83],\n",
       " ['stu17', 98, 51, 97, 94, 56],\n",
       " ['stu18', 75, 64, 63, 83, 53],\n",
       " ['stu19', 54, 52, 89, 70, 56],\n",
       " ['stu20', 68, 76, 67, 78, 88],\n",
       " ['stu21', 83, 55, 88, 95, 62],\n",
       " ['stu22', 90, 80, 75, 56, 94],\n",
       " ['stu23', 90, 55, 56, 59, 97],\n",
       " ['stu24', 50, 63, 86, 86, 62],\n",
       " ['stu25', 60, 69, 90, 83, 70],\n",
       " ['stu26', 83, 78, 93, 61, 50],\n",
       " ['stu27', 54, 97, 93, 54, 96],\n",
       " ['stu28', 65, 60, 76, 64, 73],\n",
       " ['stu29', 85, 67, 58, 89, 86],\n",
       " ['stu30', 64, 75, 64, 70, 66],\n",
       " ['stu31', 51, 96, 84, 99, 79],\n",
       " ['stu32', 50, 67, 54, 59, 68],\n",
       " ['stu33', 87, 90, 75, 82, 93],\n",
       " ['stu34', 87, 61, 63, 68, 65],\n",
       " ['stu35', 58, 66, 69, 87, 99],\n",
       " ['stu36', 74, 84, 95, 85, 65],\n",
       " ['stu37', 64, 98, 58, 74, 79],\n",
       " ['stu38', 67, 89, 91, 74, 99],\n",
       " ['stu39', 79, 63, 95, 56, 92],\n",
       " ['stu40', 85, 90, 92, 75, 70],\n",
       " ['stu41', 90, 55, 70, 55, 97],\n",
       " ['stu42', 82, 75, 52, 82, 54],\n",
       " ['stu43', 59, 94, 77, 85, 78],\n",
       " ['stu44', 100, 68, 60, 57, 91],\n",
       " ['stu45', 69, 87, 58, 66, 63],\n",
       " ['stu46', 77, 62, 95, 92, 91],\n",
       " ['stu47', 87, 71, 63, 53, 50],\n",
       " ['stu48', 77, 100, 64, 98, 86],\n",
       " ['stu49', 95, 59, 52, 83, 69],\n",
       " ['stu50', 78, 66, 60, 100, 55]]"
      ]
     },
     "execution_count": 7,
     "metadata": {},
     "output_type": "execute_result"
    }
   ],
   "source": [
    "import random\n",
    "#comperhension\n",
    "students = [['stu'+ str(i+1)] + [random.randint(50,100) for _ in range(5)] for i in range(50)]\n",
    "students"
   ]
  },
  {
   "cell_type": "code",
   "execution_count": null,
   "id": "b21e85b2",
   "metadata": {},
   "outputs": [],
   "source": []
  }
 ],
 "metadata": {
  "kernelspec": {
   "display_name": "Python 3 (ipykernel)",
   "language": "python",
   "name": "python3"
  },
  "language_info": {
   "codemirror_mode": {
    "name": "ipython",
    "version": 3
   },
   "file_extension": ".py",
   "mimetype": "text/x-python",
   "name": "python",
   "nbconvert_exporter": "python",
   "pygments_lexer": "ipython3",
   "version": "3.10.2"
  }
 },
 "nbformat": 4,
 "nbformat_minor": 5
}
