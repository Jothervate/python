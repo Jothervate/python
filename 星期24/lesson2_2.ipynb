{
 "cells": [
  {
   "cell_type": "code",
   "execution_count": 5,
   "id": "9009a437",
   "metadata": {},
   "outputs": [
    {
     "name": "stdout",
     "output_type": "stream",
     "text": [
      "請輸入您的姓名:Robert\n",
      "Robert\n"
     ]
    }
   ],
   "source": [
    "#輸入input()\n",
    "name = input('請輸入您的姓名:')\n",
    "print(name)"
   ]
  },
  {
   "cell_type": "code",
   "execution_count": 8,
   "id": "036d62ad",
   "metadata": {},
   "outputs": [
    {
     "name": "stdout",
     "output_type": "stream",
     "text": [
      "請輸入被除數(整數):10\n",
      "請輸入除數(整數，不可以是零):3\n",
      "商: 3 餘數: 1\n"
     ]
    }
   ],
   "source": [
    "#讓使用者輸入被除數(整數)及除數(整數，不可以是零)\n",
    "#程式會顯示兩數相除的商及餘數\n",
    "n = int(input(\"請輸入被除數(整數):\"))\n",
    "m = int(input(\"請輸入除數(整數，不可以是零):\"))\n",
    "\n",
    "print(\"商:\",n // m,\"餘數:\", n % m)"
   ]
  },
  {
   "cell_type": "code",
   "execution_count": null,
   "id": "8864cd08",
   "metadata": {},
   "outputs": [],
   "source": []
  }
 ],
 "metadata": {
  "kernelspec": {
   "display_name": "Python 3 (ipykernel)",
   "language": "python",
   "name": "python3"
  },
  "language_info": {
   "codemirror_mode": {
    "name": "ipython",
    "version": 3
   },
   "file_extension": ".py",
   "mimetype": "text/x-python",
   "name": "python",
   "nbconvert_exporter": "python",
   "pygments_lexer": "ipython3",
   "version": "3.10.2"
  }
 },
 "nbformat": 4,
 "nbformat_minor": 5
}
