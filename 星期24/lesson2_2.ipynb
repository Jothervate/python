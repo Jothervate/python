{
 "cells": [
  {
   "cell_type": "code",
   "execution_count": 5,
   "id": "09eb011f",
   "metadata": {},
   "outputs": [
    {
     "name": "stdout",
     "output_type": "stream",
     "text": [
      "請輸入您的姓名:Robert\n",
      "Robert\n"
     ]
    }
   ],
   "source": [
    "#輸入input()\n",
    "name = input('請輸入您的姓名:')\n",
    "print(name)"
   ]
  },
  {
   "cell_type": "code",
   "execution_count": 8,
   "id": "3110261c",
   "metadata": {},
   "outputs": [
    {
     "name": "stdout",
     "output_type": "stream",
     "text": [
      "請輸入被除數(整數):10\n",
      "請輸入除數(整數，不可以是零):3\n",
      "商: 3 餘數: 1\n"
     ]
    }
   ],
   "source": [
    "#讓使用者輸入被除數(整數)及除數(整數，不可以是零)\n",
    "#程式會顯示兩數相除的商及餘數\n",
    "n = int(input(\"請輸入被除數(整數):\"))\n",
    "m = int(input(\"請輸入除數(整數，不可以是零):\"))\n",
    "\n",
    "print(\"商:\",n // m,\"餘數:\", n % m)"
   ]
  },
  {
   "cell_type": "code",
   "execution_count": 10,
   "id": "11ebe824",
   "metadata": {},
   "outputs": [
    {
     "name": "stdout",
     "output_type": "stream",
     "text": [
      "請輸入第一個數值:5.1\n"
     ]
    },
    {
     "ename": "ValueError",
     "evalue": "invalid literal for int() with base 10: '5.1'",
     "output_type": "error",
     "traceback": [
      "\u001b[0;31m---------------------------------------------------------------------------\u001b[0m",
      "\u001b[0;31mValueError\u001b[0m                                Traceback (most recent call last)",
      "Input \u001b[0;32mIn [10]\u001b[0m, in \u001b[0;36m<cell line: 2>\u001b[0;34m()\u001b[0m\n\u001b[1;32m      1\u001b[0m \u001b[38;5;66;03m#整數相加\u001b[39;00m\n\u001b[0;32m----> 2\u001b[0m n \u001b[38;5;241m=\u001b[39m \u001b[38;5;28;43mint\u001b[39;49m\u001b[43m(\u001b[49m\u001b[38;5;28;43minput\u001b[39;49m\u001b[43m(\u001b[49m\u001b[38;5;124;43m\"\u001b[39;49m\u001b[38;5;124;43m請輸入第一個數值:\u001b[39;49m\u001b[38;5;124;43m\"\u001b[39;49m\u001b[43m)\u001b[49m\u001b[43m)\u001b[49m\n\u001b[1;32m      3\u001b[0m m \u001b[38;5;241m=\u001b[39m \u001b[38;5;28mint\u001b[39m(\u001b[38;5;28minput\u001b[39m(\u001b[38;5;124m\"\u001b[39m\u001b[38;5;124m請輸入第二個數值\u001b[39m\u001b[38;5;124m\"\u001b[39m))\n\u001b[1;32m      4\u001b[0m \u001b[38;5;28mprint\u001b[39m(\u001b[38;5;124m\"\u001b[39m\u001b[38;5;124m二數相加是:\u001b[39m\u001b[38;5;124m\"\u001b[39m, n\u001b[38;5;241m+\u001b[39mm)\n",
      "\u001b[0;31mValueError\u001b[0m: invalid literal for int() with base 10: '5.1'"
     ]
    }
   ],
   "source": [
    "#整數相加\n",
    "n = int(input(\"請輸入第一個數值:\"))\n",
    "m = int(input(\"請輸入第二個數值\"))\n",
    "print(\"二數相加是:\", n+m)"
   ]
  },
  {
   "cell_type": "code",
   "execution_count": 11,
   "id": "f0bbd065",
   "metadata": {},
   "outputs": [
    {
     "name": "stdout",
     "output_type": "stream",
     "text": [
      "請輸入第一個數值:5.1\n",
      "請輸入第二個數值6.1\n",
      "二數相加是: 11.2\n"
     ]
    }
   ],
   "source": [
    "#浮整數相加\n",
    "n = float(input(\"請輸入第一個數值:\"))\n",
    "m = float(input(\"請輸入第二個數值\"))\n",
    "print(\"二數相加是:\", n+m)"
   ]
  },
  {
   "cell_type": "code",
   "execution_count": 14,
   "id": "e96c3235",
   "metadata": {},
   "outputs": [
    {
     "name": "stdout",
     "output_type": "stream",
     "text": [
      "請輸入第一個數值:5\n",
      "請輸入第二個數值6.1\n",
      "二數相加是: 11.1\n"
     ]
    }
   ],
   "source": [
    "#整數和浮整數相加\n",
    "n = eval(input(\"請輸入第一個數值:\"))\n",
    "m = eval(input(\"請輸入第二個數值\"))\n",
    "print(\"二數相加是:\", n+m)"
   ]
  },
  {
   "cell_type": "code",
   "execution_count": null,
   "id": "e33984cc",
   "metadata": {},
   "outputs": [],
   "source": []
  }
 ],
 "metadata": {
  "kernelspec": {
   "display_name": "Python 3 (ipykernel)",
   "language": "python",
   "name": "python3"
  },
  "language_info": {
   "codemirror_mode": {
    "name": "ipython",
    "version": 3
   },
   "file_extension": ".py",
   "mimetype": "text/x-python",
   "name": "python",
   "nbconvert_exporter": "python",
   "pygments_lexer": "ipython3",
   "version": "3.10.2"
  }
 },
 "nbformat": 4,
 "nbformat_minor": 5
}
