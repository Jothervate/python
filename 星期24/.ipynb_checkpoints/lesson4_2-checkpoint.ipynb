{
 "cells": [
  {
   "cell_type": "code",
   "execution_count": 7,
   "id": "32359ef1",
   "metadata": {},
   "outputs": [
    {
     "data": {
      "text/plain": [
       "0"
      ]
     },
     "execution_count": 7,
     "metadata": {},
     "output_type": "execute_result"
    }
   ],
   "source": [
    "#猜數字遊戲\n",
    "#學會建立亂數\n",
    "\n",
    "import random\n",
    "\n",
    "random.randrange(5)\n"
   ]
  },
  {
   "cell_type": "code",
   "execution_count": 13,
   "id": "5b9350bc",
   "metadata": {},
   "outputs": [
    {
     "data": {
      "text/plain": [
       "9"
      ]
     },
     "execution_count": 13,
     "metadata": {},
     "output_type": "execute_result"
    }
   ],
   "source": [
    "random.randrange(1,11)"
   ]
  },
  {
   "cell_type": "code",
   "execution_count": 18,
   "id": "1fbaff22",
   "metadata": {},
   "outputs": [
    {
     "data": {
      "text/plain": [
       "5"
      ]
     },
     "execution_count": 18,
     "metadata": {},
     "output_type": "execute_result"
    }
   ],
   "source": [
    "random.randint(1,10)"
   ]
  },
  {
   "cell_type": "code",
   "execution_count": 19,
   "id": "d8cba440",
   "metadata": {},
   "outputs": [
    {
     "data": {
      "text/plain": [
       "0.10859046852378496"
      ]
     },
     "execution_count": 19,
     "metadata": {},
     "output_type": "execute_result"
    }
   ],
   "source": [
    "random.random()"
   ]
  },
  {
   "cell_type": "code",
   "execution_count": 22,
   "id": "04b7b76c",
   "metadata": {},
   "outputs": [
    {
     "data": {
      "text/plain": [
       "57"
      ]
     },
     "execution_count": 22,
     "metadata": {},
     "output_type": "execute_result"
    }
   ],
   "source": [
    "random.randint(1,100)"
   ]
  },
  {
   "cell_type": "code",
   "execution_count": 23,
   "id": "2070d66c",
   "metadata": {},
   "outputs": [
    {
     "name": "stdout",
     "output_type": "stream",
     "text": [
      "===============猜數字遊戲===============\n",
      "\n",
      "\n",
      "猜數字的範圍1~10078\n",
      "數字在範範內\n",
      "猜數字的範圍1~10089\n",
      "數字在範範內\n",
      "猜數字的範圍1~10045\n",
      "數字在範範內\n",
      "猜數字的範圍1~100101\n",
      "遊戲結束\n"
     ]
    }
   ],
   "source": [
    "print(\"===============猜數字遊戲===============\\n\\n\")\n",
    "min = 1\n",
    "max = 100\n",
    "while(True):\n",
    "    keyin = int(input(f\"猜數字的範圍{min}~{max}\"))\n",
    "    if(keyin >= min and keyin <= max):\n",
    "        print(\"數字在範範內\")\n",
    "    else:\n",
    "        break;\n",
    "print(\"遊戲結束\")"
   ]
  },
  {
   "cell_type": "code",
   "execution_count": null,
   "id": "00ad2a2a",
   "metadata": {},
   "outputs": [],
   "source": []
  }
 ],
 "metadata": {
  "kernelspec": {
   "display_name": "Python 3 (ipykernel)",
   "language": "python",
   "name": "python3"
  },
  "language_info": {
   "codemirror_mode": {
    "name": "ipython",
    "version": 3
   },
   "file_extension": ".py",
   "mimetype": "text/x-python",
   "name": "python",
   "nbconvert_exporter": "python",
   "pygments_lexer": "ipython3",
   "version": "3.10.2"
  }
 },
 "nbformat": 4,
 "nbformat_minor": 5
}
