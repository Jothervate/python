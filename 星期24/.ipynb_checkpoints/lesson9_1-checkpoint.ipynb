{
 "cells": [
  {
   "cell_type": "code",
   "execution_count": 1,
   "id": "7f325dd8",
   "metadata": {},
   "outputs": [],
   "source": [
    "class Student():\n",
    "    def __init__(self,name,scores):\n",
    "        self.name = name\n",
    "        self.scores = scores\n"
   ]
  },
  {
   "cell_type": "code",
   "execution_count": 2,
   "id": "061449e2",
   "metadata": {},
   "outputs": [
    {
     "name": "stdout",
     "output_type": "stream",
     "text": [
      "robert\n",
      "278\n"
     ]
    }
   ],
   "source": [
    "stu1 = Student(name=\"robert\", scores=278)\n",
    "print(stu1.name)\n",
    "print(stu1.scores)"
   ]
  },
  {
   "cell_type": "code",
   "execution_count": null,
   "id": "a0388a0b",
   "metadata": {},
   "outputs": [],
   "source": []
  }
 ],
 "metadata": {
  "kernelspec": {
   "display_name": "Python 3 (ipykernel)",
   "language": "python",
   "name": "python3"
  },
  "language_info": {
   "codemirror_mode": {
    "name": "ipython",
    "version": 3
   },
   "file_extension": ".py",
   "mimetype": "text/x-python",
   "name": "python",
   "nbconvert_exporter": "python",
   "pygments_lexer": "ipython3",
   "version": "3.10.2"
  }
 },
 "nbformat": 4,
 "nbformat_minor": 5
}
