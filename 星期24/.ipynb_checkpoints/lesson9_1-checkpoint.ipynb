{
 "cells": [
  {
   "cell_type": "code",
   "execution_count": 24,
   "id": "c885d2a4",
   "metadata": {},
   "outputs": [],
   "source": [
    "class Student():\n",
    "    def __init__(self,name,scores):\n",
    "        self.name = name\n",
    "        self.scores = scores\n",
    "        \n",
    "    @property\n",
    "    def scores(self):\n",
    "        print(\"scores的getter\")\n",
    "        return self.__scores\n",
    "    \n",
    "    @scores.setter\n",
    "    def scores(self,input_value):\n",
    "        print(\"scores的setter\")\n",
    "        if input_value > 300:\n",
    "            self.__scores = 300    \n",
    "        elif input_value < 0:\n",
    "            self.__scores = 0\n",
    "        else:\n",
    "            self.__scores = input_value"
   ]
  },
  {
   "cell_type": "code",
   "execution_count": 28,
   "id": "14b6632a",
   "metadata": {},
   "outputs": [
    {
     "name": "stdout",
     "output_type": "stream",
     "text": [
      "scores的setter\n"
     ]
    }
   ],
   "source": [
    "stu1 = Student(name=\"robert\", scores=500)\n"
   ]
  },
  {
   "cell_type": "code",
   "execution_count": 29,
   "id": "f18d9723",
   "metadata": {},
   "outputs": [
    {
     "name": "stdout",
     "output_type": "stream",
     "text": [
      "scores的getter\n"
     ]
    },
    {
     "data": {
      "text/plain": [
       "300"
      ]
     },
     "execution_count": 29,
     "metadata": {},
     "output_type": "execute_result"
    }
   ],
   "source": [
    "stu1.scores"
   ]
  },
  {
   "cell_type": "code",
   "execution_count": 32,
   "id": "30d2c47f",
   "metadata": {},
   "outputs": [],
   "source": [
    "#只有getter,沒有setter\n",
    "\n",
    "class Student():\n",
    "    def __init__(self,name,chinese,english,math):\n",
    "        self.name = name\n",
    "        self.__chinese = chinese\n",
    "        self.__english = english\n",
    "        self.__math = math\n",
    "        \n",
    "    @property\n",
    "    def sum(self):\n",
    "        return self.__chinese + self.__english + self.__math"
   ]
  },
  {
   "cell_type": "code",
   "execution_count": 38,
   "id": "605b0f50",
   "metadata": {},
   "outputs": [
    {
     "data": {
      "text/plain": [
       "300"
      ]
     },
     "execution_count": 38,
     "metadata": {},
     "output_type": "execute_result"
    }
   ],
   "source": [
    "stu1 = Student(\"robert\", 100, 100, 100)\n",
    "stu1.sum"
   ]
  },
  {
   "cell_type": "code",
   "execution_count": null,
   "id": "91e532be",
   "metadata": {},
   "outputs": [],
   "source": []
  }
 ],
 "metadata": {
  "kernelspec": {
   "display_name": "Python 3 (ipykernel)",
   "language": "python",
   "name": "python3"
  },
  "language_info": {
   "codemirror_mode": {
    "name": "ipython",
    "version": 3
   },
   "file_extension": ".py",
   "mimetype": "text/x-python",
   "name": "python",
   "nbconvert_exporter": "python",
   "pygments_lexer": "ipython3",
   "version": "3.10.2"
  }
 },
 "nbformat": 4,
 "nbformat_minor": 5
}
