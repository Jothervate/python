{
 "cells": [
  {
   "cell_type": "code",
   "execution_count": 1,
   "id": "ca647975",
   "metadata": {},
   "outputs": [
    {
     "data": {
      "text/plain": [
       "[1, 2, 3, 4, 5]"
      ]
     },
     "execution_count": 1,
     "metadata": {},
     "output_type": "execute_result"
    }
   ],
   "source": [
    "#comprehension -> 快速建立list,dictionary,set,generator\n",
    "\n",
    "number_list = []\n",
    "number_list.append(1)\n",
    "number_list.append(2)\n",
    "number_list.append(3)\n",
    "number_list.append(4)\n",
    "number_list.append(5)\n",
    "number_list"
   ]
  },
  {
   "cell_type": "code",
   "execution_count": 2,
   "id": "16823d88",
   "metadata": {},
   "outputs": [
    {
     "data": {
      "text/plain": [
       "[1, 2, 3, 4, 5]"
      ]
     },
     "execution_count": 2,
     "metadata": {},
     "output_type": "execute_result"
    }
   ],
   "source": [
    "number_list = []\n",
    "for i in range(1,6):\n",
    "    number_list.append(i)\n",
    "number_list"
   ]
  },
  {
   "cell_type": "code",
   "execution_count": 3,
   "id": "44aa4be0",
   "metadata": {},
   "outputs": [
    {
     "data": {
      "text/plain": [
       "[1, 2, 3, 4, 5]"
      ]
     },
     "execution_count": 3,
     "metadata": {},
     "output_type": "execute_result"
    }
   ],
   "source": [
    "#list comprehension[for in]\n",
    "number_list = [i for i in range(1,6)]\n",
    "number_list"
   ]
  },
  {
   "cell_type": "code",
   "execution_count": 4,
   "id": "b151227e",
   "metadata": {},
   "outputs": [
    {
     "data": {
      "text/plain": [
       "[1, 3, 5]"
      ]
     },
     "execution_count": 4,
     "metadata": {},
     "output_type": "execute_result"
    }
   ],
   "source": [
    "#list comprehension[for in if]\n",
    "number_list = [i for i in range(1,6) if i % 2 == 1]\n",
    "number_list"
   ]
  },
  {
   "cell_type": "code",
   "execution_count": 5,
   "id": "deaa3d0f",
   "metadata": {},
   "outputs": [
    {
     "data": {
      "text/plain": [
       "{'l': 1, 'e': 2, 't': 2, 'r': 1, 's': 1}"
      ]
     },
     "execution_count": 5,
     "metadata": {},
     "output_type": "execute_result"
    }
   ],
   "source": [
    "#dictionary comprehension{for in}\n",
    "word = 'letters'\n",
    "letter_counts = {letter:word.count(letter) for letter in word}\n",
    "letter_counts"
   ]
  },
  {
   "cell_type": "code",
   "execution_count": 6,
   "id": "78d8485b",
   "metadata": {},
   "outputs": [
    {
     "data": {
      "text/plain": [
       "[[62, 71, 89, 85, 65],\n",
       " [88, 65, 82, 94, 82],\n",
       " [90, 62, 69, 87, 74],\n",
       " [92, 66, 90, 94, 65],\n",
       " [85, 64, 73, 66, 98],\n",
       " [69, 75, 64, 98, 79],\n",
       " [63, 99, 60, 85, 72],\n",
       " [80, 73, 93, 73, 71],\n",
       " [72, 88, 63, 71, 69],\n",
       " [89, 67, 97, 65, 91],\n",
       " [96, 94, 66, 78, 98],\n",
       " [87, 81, 74, 75, 82],\n",
       " [82, 82, 79, 66, 70],\n",
       " [64, 77, 100, 87, 65],\n",
       " [90, 73, 96, 96, 94],\n",
       " [94, 72, 99, 65, 87],\n",
       " [79, 88, 72, 66, 77],\n",
       " [74, 90, 69, 71, 99],\n",
       " [68, 65, 62, 89, 95],\n",
       " [100, 60, 92, 79, 95],\n",
       " [94, 82, 65, 67, 67],\n",
       " [93, 68, 61, 81, 82],\n",
       " [68, 78, 68, 87, 86],\n",
       " [67, 73, 76, 80, 63],\n",
       " [87, 68, 63, 100, 96],\n",
       " [75, 94, 63, 72, 88],\n",
       " [80, 90, 60, 85, 71],\n",
       " [95, 86, 100, 68, 99],\n",
       " [78, 89, 80, 77, 62],\n",
       " [100, 77, 75, 86, 63],\n",
       " [100, 86, 96, 67, 84],\n",
       " [83, 100, 61, 79, 80],\n",
       " [71, 74, 64, 69, 63],\n",
       " [62, 80, 74, 91, 72],\n",
       " [72, 74, 93, 95, 81],\n",
       " [74, 97, 88, 76, 81],\n",
       " [77, 78, 79, 82, 81],\n",
       " [96, 92, 60, 99, 79],\n",
       " [90, 97, 74, 91, 86],\n",
       " [92, 91, 89, 61, 96],\n",
       " [93, 62, 69, 67, 90],\n",
       " [76, 69, 75, 78, 97],\n",
       " [91, 77, 67, 77, 96],\n",
       " [89, 75, 65, 99, 73],\n",
       " [96, 95, 93, 86, 94],\n",
       " [94, 94, 87, 70, 72],\n",
       " [78, 65, 89, 64, 65],\n",
       " [60, 82, 93, 83, 92],\n",
       " [83, 66, 74, 78, 79],\n",
       " [90, 68, 83, 90, 83]]"
      ]
     },
     "execution_count": 6,
     "metadata": {},
     "output_type": "execute_result"
    }
   ],
   "source": [
    "#50個學生,每個學生5個分數\n",
    "import random\n",
    "students = [[random.randint(60,100) for _ in range(5)] for _ in range(50)]\n",
    "students"
   ]
  },
  {
   "cell_type": "code",
   "execution_count": null,
   "id": "fa854387",
   "metadata": {},
   "outputs": [],
   "source": []
  }
 ],
 "metadata": {
  "kernelspec": {
   "display_name": "Python 3 (ipykernel)",
   "language": "python",
   "name": "python3"
  },
  "language_info": {
   "codemirror_mode": {
    "name": "ipython",
    "version": 3
   },
   "file_extension": ".py",
   "mimetype": "text/x-python",
   "name": "python",
   "nbconvert_exporter": "python",
   "pygments_lexer": "ipython3",
   "version": "3.10.2"
  }
 },
 "nbformat": 4,
 "nbformat_minor": 5
}
