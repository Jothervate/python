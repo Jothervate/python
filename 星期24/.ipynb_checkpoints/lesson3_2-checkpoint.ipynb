{
 "cells": [
  {
   "cell_type": "code",
   "execution_count": 1,
   "id": "40884d78",
   "metadata": {},
   "outputs": [
    {
     "name": "stdout",
     "output_type": "stream",
     "text": [
      "這是True的程式區塊\n",
      "這是True的最後一個縮排\n",
      "程式結束\n"
     ]
    }
   ],
   "source": [
    "if True :\n",
    "    print(\"這是True的程式區塊\")\n",
    "    print(\"這是True的最後一個縮排\")\n",
    "else:\n",
    "    print(\"這是False的程式區塊\")\n",
    "    print(\"這是False的最後一個縮排\")\n",
    "print(\"程式結束\")"
   ]
  },
  {
   "cell_type": "code",
   "execution_count": 8,
   "id": "7e7af6c3",
   "metadata": {},
   "outputs": [
    {
     "name": "stdout",
     "output_type": "stream",
     "text": [
      "這是False的程式區塊\n",
      "這是False的最後一個縮排\n",
      "程式結束\n"
     ]
    }
   ],
   "source": [
    "if False :\n",
    "    print(\"這是True的程式區塊\")\n",
    "    print(\"這是True的最後一個縮排\")\n",
    "else:\n",
    "    print(\"這是False的程式區塊\")\n",
    "    print(\"這是False的最後一個縮排\")\n",
    "print(\"程式結束\")"
   ]
  },
  {
   "cell_type": "code",
   "execution_count": 10,
   "id": "eedbebf2",
   "metadata": {},
   "outputs": [
    {
     "name": "stdout",
     "output_type": "stream",
     "text": [
      "請輸入學生分數:56\n",
      "不及格\n"
     ]
    }
   ],
   "source": [
    "#建立一個學生,60分以上為及格,60以下為不及格\n",
    "score = eval(input(\"請輸入學生分數:\"))\n",
    "if score >= 60:\n",
    "    print(\"及格\")\n",
    "else:\n",
    "    print(\"不及格\")"
   ]
  },
  {
   "cell_type": "code",
   "execution_count": 14,
   "id": "b06021fb",
   "metadata": {},
   "outputs": [
    {
     "name": "stdout",
     "output_type": "stream",
     "text": [
      "請輸入年紀?19\n",
      "少年\n"
     ]
    }
   ],
   "source": [
    "age = eval(input(\"請輸入年紀?\"))\n",
    "if age < 12:\n",
    "    print(\"青年\")\n",
    "elif age <= 18:\n",
    "    print(\"青少年\")\n",
    "else:\n",
    "    print(\"少年\")"
   ]
  },
  {
   "cell_type": "code",
   "execution_count": 16,
   "id": "1c31493d",
   "metadata": {},
   "outputs": [
    {
     "name": "stdout",
     "output_type": "stream",
     "text": [
      "請輸入學生分數:69\n",
      "學生的分數是69,等級為丙\n"
     ]
    }
   ],
   "source": [
    "score = eval(input(\"請輸入學生分數:\"))\n",
    "if score >= 90:\n",
    "    grade = '優'\n",
    "elif score >= 80:\n",
    "    grade = '甲'\n",
    "elif score >= 70:\n",
    "    grade = '乙'\n",
    "elif score >= 60:\n",
    "    grade = '丙'\n",
    "else:\n",
    "    grade = '丁'\n",
    "\n",
    "print(f\"學生的分數是{score},等級為{grade}\")"
   ]
  },
  {
   "cell_type": "code",
   "execution_count": 17,
   "id": "73092c15",
   "metadata": {},
   "outputs": [
    {
     "name": "stdout",
     "output_type": "stream",
     "text": [
      "請輸入購買金額：130000\n",
      "實付金額是：104000.0元\n"
     ]
    }
   ],
   "source": [
    "money=eval(input(\"請輸入購買金額：\"))\n",
    "if money>=100000:\n",
    "    money*=0.8\n",
    "elif money>=50000:\n",
    "    money*=0.85\n",
    "elif money>=30000:\n",
    "    money*=0.9\n",
    "elif money>=10000:\n",
    "    money*=0.95\n",
    "else:\n",
    "    money*=1\n",
    "print(f\"實付金額是：{money}元\")"
   ]
  },
  {
   "cell_type": "code",
   "execution_count": 20,
   "id": "6c109bad",
   "metadata": {},
   "outputs": [
    {
     "name": "stdout",
     "output_type": "stream",
     "text": [
      "請輸入國文分數:99\n",
      "請輸入數學分數:99\n",
      "獎金為0\n"
     ]
    }
   ],
   "source": [
    "chinese = eval(input(\"請輸入國文分數:\"))\n",
    "math = eval(input(\"請輸入數學分數:\"))\n",
    "\n",
    "#巢狀判斷\n",
    "if chinese == 100:\n",
    "    if math == 100:\n",
    "        bouns = 1000\n",
    "    else:\n",
    "        bouns = 500\n",
    "else:\n",
    "    if math == 100:\n",
    "        bouns = 500\n",
    "    else:\n",
    "        bouns = 0\n",
    "\n",
    "print(f\"獎金為{bouns}\")"
   ]
  },
  {
   "cell_type": "code",
   "execution_count": 23,
   "id": "580eea0e",
   "metadata": {},
   "outputs": [
    {
     "name": "stdout",
     "output_type": "stream",
     "text": [
      "請輸入國文分數:99\n",
      "請輸入數學分數:99\n",
      "獎金為0\n"
     ]
    }
   ],
   "source": [
    "chinese = eval(input(\"請輸入國文分數:\"))\n",
    "math = eval(input(\"請輸入數學分數:\"))\n",
    "\n",
    "#使用邏輯運算子判斷\n",
    "if chinese == 100 and math == 100:\n",
    "    bouns = 1000\n",
    "elif chinese == 100 or math == 100:\n",
    "    bouns = 500\n",
    "else:\n",
    "    bouns = 0\n",
    "\n",
    "print(f\"獎金為{bouns}\")"
   ]
  },
  {
   "cell_type": "code",
   "execution_count": null,
   "id": "4518e072",
   "metadata": {},
   "outputs": [],
   "source": []
  }
 ],
 "metadata": {
  "kernelspec": {
   "display_name": "Python 3 (ipykernel)",
   "language": "python",
   "name": "python3"
  },
  "language_info": {
   "codemirror_mode": {
    "name": "ipython",
    "version": 3
   },
   "file_extension": ".py",
   "mimetype": "text/x-python",
   "name": "python",
   "nbconvert_exporter": "python",
   "pygments_lexer": "ipython3",
   "version": "3.10.2"
  }
 },
 "nbformat": 4,
 "nbformat_minor": 5
}
