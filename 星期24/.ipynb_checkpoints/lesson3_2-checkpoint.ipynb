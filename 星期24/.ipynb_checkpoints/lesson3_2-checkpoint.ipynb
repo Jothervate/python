{
 "cells": [
  {
   "cell_type": "code",
   "execution_count": 1,
   "id": "1dacfe76",
   "metadata": {},
   "outputs": [
    {
     "name": "stdout",
     "output_type": "stream",
     "text": [
      "這是True的程式區塊\n",
      "這是True的最後一個縮排\n",
      "程式結束\n"
     ]
    }
   ],
   "source": [
    "if True :\n",
    "    print(\"這是True的程式區塊\")\n",
    "    print(\"這是True的最後一個縮排\")\n",
    "else:\n",
    "    print(\"這是False的程式區塊\")\n",
    "    print(\"這是False的最後一個縮排\")\n",
    "print(\"程式結束\")"
   ]
  },
  {
   "cell_type": "code",
   "execution_count": 8,
   "id": "04dff37b",
   "metadata": {},
   "outputs": [
    {
     "name": "stdout",
     "output_type": "stream",
     "text": [
      "這是False的程式區塊\n",
      "這是False的最後一個縮排\n",
      "程式結束\n"
     ]
    }
   ],
   "source": [
    "if False :\n",
    "    print(\"這是True的程式區塊\")\n",
    "    print(\"這是True的最後一個縮排\")\n",
    "else:\n",
    "    print(\"這是False的程式區塊\")\n",
    "    print(\"這是False的最後一個縮排\")\n",
    "print(\"程式結束\")"
   ]
  },
  {
   "cell_type": "code",
   "execution_count": 10,
   "id": "8d6c8912",
   "metadata": {},
   "outputs": [
    {
     "name": "stdout",
     "output_type": "stream",
     "text": [
      "請輸入學生分數:56\n",
      "不及格\n"
     ]
    }
   ],
   "source": [
    "#建立一個學生,60分以上為及格,60以下為不及格\n",
    "score = eval(input(\"請輸入學生分數:\"))\n",
    "if score >= 60:\n",
    "    print(\"及格\")\n",
    "else:\n",
    "    print(\"不及格\")"
   ]
  },
  {
   "cell_type": "code",
   "execution_count": 14,
   "id": "2e0cd753",
   "metadata": {},
   "outputs": [
    {
     "name": "stdout",
     "output_type": "stream",
     "text": [
      "請輸入年紀?19\n",
      "少年\n"
     ]
    }
   ],
   "source": [
    "age = eval(input(\"請輸入年紀?\"))\n",
    "if age < 12:\n",
    "    print(\"青年\")\n",
    "elif age <= 18:\n",
    "    print(\"青少年\")\n",
    "else:\n",
    "    print(\"少年\")"
   ]
  },
  {
   "cell_type": "code",
   "execution_count": null,
   "id": "83467353",
   "metadata": {},
   "outputs": [],
   "source": []
  }
 ],
 "metadata": {
  "kernelspec": {
   "display_name": "Python 3 (ipykernel)",
   "language": "python",
   "name": "python3"
  },
  "language_info": {
   "codemirror_mode": {
    "name": "ipython",
    "version": 3
   },
   "file_extension": ".py",
   "mimetype": "text/x-python",
   "name": "python",
   "nbconvert_exporter": "python",
   "pygments_lexer": "ipython3",
   "version": "3.10.2"
  }
 },
 "nbformat": 4,
 "nbformat_minor": 5
}
