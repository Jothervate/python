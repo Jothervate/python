{
 "cells": [
  {
   "cell_type": "code",
   "execution_count": 3,
   "id": "fc05571c",
   "metadata": {},
   "outputs": [
    {
     "data": {
      "text/plain": [
       "[10, 20, 30, 40, 50]"
      ]
     },
     "execution_count": 3,
     "metadata": {},
     "output_type": "execute_result"
    }
   ],
   "source": [
    "list1 = [10, 20, 30, 40, 50]\n",
    "list1"
   ]
  },
  {
   "cell_type": "code",
   "execution_count": 5,
   "id": "d77fee00",
   "metadata": {},
   "outputs": [
    {
     "data": {
      "text/plain": [
       "list"
      ]
     },
     "execution_count": 5,
     "metadata": {},
     "output_type": "execute_result"
    }
   ],
   "source": [
    "list1.__class__"
   ]
  },
  {
   "cell_type": "code",
   "execution_count": 8,
   "id": "a4f6891b",
   "metadata": {},
   "outputs": [
    {
     "name": "stdout",
     "output_type": "stream",
     "text": [
      "10\n",
      "60\n"
     ]
    }
   ],
   "source": [
    "#取出值\n",
    "print(list1[0])\n",
    "list1[0] = 60 # 改變值\n",
    "print(list1[0])"
   ]
  },
  {
   "cell_type": "code",
   "execution_count": 9,
   "id": "d413a905",
   "metadata": {},
   "outputs": [
    {
     "ename": "IndexError",
     "evalue": "list index out of range",
     "output_type": "error",
     "traceback": [
      "\u001b[0;31m---------------------------------------------------------------------------\u001b[0m",
      "\u001b[0;31mIndexError\u001b[0m                                Traceback (most recent call last)",
      "Input \u001b[0;32mIn [9]\u001b[0m, in \u001b[0;36m<module>\u001b[0;34m\u001b[0m\n\u001b[1;32m      1\u001b[0m \u001b[38;5;66;03m#超出索引\u001b[39;00m\n\u001b[0;32m----> 2\u001b[0m \u001b[43mlist1\u001b[49m\u001b[43m[\u001b[49m\u001b[38;5;241;43m20\u001b[39;49m\u001b[43m]\u001b[49m\n",
      "\u001b[0;31mIndexError\u001b[0m: list index out of range"
     ]
    }
   ],
   "source": [
    "#超出索引\n",
    "list1[20]"
   ]
  },
  {
   "cell_type": "code",
   "execution_count": 16,
   "id": "825fc83f",
   "metadata": {},
   "outputs": [
    {
     "data": {
      "text/plain": [
       "[1,\n",
       " 2,\n",
       " 3,\n",
       " 4,\n",
       " 5,\n",
       " 6,\n",
       " 7,\n",
       " 8,\n",
       " 9,\n",
       " 10,\n",
       " 11,\n",
       " 12,\n",
       " 13,\n",
       " 14,\n",
       " 15,\n",
       " 16,\n",
       " 17,\n",
       " 18,\n",
       " 19,\n",
       " 20,\n",
       " 21,\n",
       " 22,\n",
       " 23,\n",
       " 24,\n",
       " 25,\n",
       " 26,\n",
       " 27,\n",
       " 28,\n",
       " 29,\n",
       " 30,\n",
       " 31,\n",
       " 32,\n",
       " 33,\n",
       " 34,\n",
       " 35,\n",
       " 36,\n",
       " 37,\n",
       " 38,\n",
       " 39,\n",
       " 40,\n",
       " 41,\n",
       " 42,\n",
       " 43,\n",
       " 44,\n",
       " 45,\n",
       " 46,\n",
       " 47,\n",
       " 48,\n",
       " 49,\n",
       " 50,\n",
       " 51,\n",
       " 52,\n",
       " 53,\n",
       " 54,\n",
       " 55,\n",
       " 56,\n",
       " 57,\n",
       " 58,\n",
       " 59,\n",
       " 60,\n",
       " 61,\n",
       " 62,\n",
       " 63,\n",
       " 64,\n",
       " 65,\n",
       " 66,\n",
       " 67,\n",
       " 68,\n",
       " 69,\n",
       " 70,\n",
       " 71,\n",
       " 72,\n",
       " 73,\n",
       " 74,\n",
       " 75,\n",
       " 76,\n",
       " 77,\n",
       " 78,\n",
       " 79,\n",
       " 80,\n",
       " 81,\n",
       " 82,\n",
       " 83,\n",
       " 84,\n",
       " 85,\n",
       " 86,\n",
       " 87,\n",
       " 88,\n",
       " 89,\n",
       " 90,\n",
       " 91,\n",
       " 92,\n",
       " 93,\n",
       " 94,\n",
       " 95,\n",
       " 96,\n",
       " 97,\n",
       " 98,\n",
       " 99,\n",
       " 100]"
      ]
     },
     "execution_count": 16,
     "metadata": {},
     "output_type": "execute_result"
    }
   ],
   "source": [
    "#建立list的方式\n",
    "#建立空的list,使用符號[]\n",
    "empty_list = []\n",
    "\n",
    "#使用符號建立list\n",
    "weekdays = ['星期一', '星期二', '星期三', '星期四', '星期五', '星期六', '星期日'] \n",
    "weekdays[0]\n",
    "\n",
    "#使用list()建立空的list\n",
    "\n",
    "another_empty_list = list()\n",
    "another_empty_list\n",
    "\n",
    "#使用list()建立\n",
    "\n",
    "list('cat')\n",
    "list(range(1,101))"
   ]
  },
  {
   "cell_type": "code",
   "execution_count": 17,
   "id": "ea18b048",
   "metadata": {},
   "outputs": [],
   "source": [
    "citys = ['台北', '台中', '高雄']"
   ]
  },
  {
   "cell_type": "code",
   "execution_count": 23,
   "id": "20aac4a6",
   "metadata": {},
   "outputs": [
    {
     "data": {
      "text/plain": [
       "'台北'"
      ]
     },
     "execution_count": 23,
     "metadata": {},
     "output_type": "execute_result"
    }
   ],
   "source": [
    "citys[0]\n",
    "citys[1]\n",
    "citys[2]\n",
    "citys[-1]\n",
    "citys[-2]\n",
    "citys[-3]"
   ]
  },
  {
   "cell_type": "code",
   "execution_count": 24,
   "id": "bb118868",
   "metadata": {},
   "outputs": [
    {
     "data": {
      "text/plain": [
       "'新竹'"
      ]
     },
     "execution_count": 24,
     "metadata": {},
     "output_type": "execute_result"
    }
   ],
   "source": [
    "citys[0] = '新竹'\n",
    "citys[0]"
   ]
  },
  {
   "cell_type": "code",
   "execution_count": 30,
   "id": "6343f945",
   "metadata": {},
   "outputs": [
    {
     "data": {
      "text/plain": [
       "'台北'"
      ]
     },
     "execution_count": 30,
     "metadata": {},
     "output_type": "execute_result"
    }
   ],
   "source": [
    "#tuple的操作法和list相同\n",
    "#tuple不可以更改內容\n",
    "\n",
    "cities = ('台北', '台中', '高雄')\n",
    "cities[0]\n",
    "cities[-3]"
   ]
  },
  {
   "cell_type": "code",
   "execution_count": 31,
   "id": "425a1519",
   "metadata": {},
   "outputs": [
    {
     "ename": "TypeError",
     "evalue": "'tuple' object does not support item assignment",
     "output_type": "error",
     "traceback": [
      "\u001b[0;31m---------------------------------------------------------------------------\u001b[0m",
      "\u001b[0;31mTypeError\u001b[0m                                 Traceback (most recent call last)",
      "Input \u001b[0;32mIn [31]\u001b[0m, in \u001b[0;36m<module>\u001b[0;34m\u001b[0m\n\u001b[0;32m----> 1\u001b[0m cities[\u001b[38;5;241m0\u001b[39m] \u001b[38;5;241m=\u001b[39m \u001b[38;5;124m'\u001b[39m\u001b[38;5;124m新竹\u001b[39m\u001b[38;5;124m'\u001b[39m\n",
      "\u001b[0;31mTypeError\u001b[0m: 'tuple' object does not support item assignment"
     ]
    }
   ],
   "source": [
    "cities[0] = '新竹'"
   ]
  },
  {
   "cell_type": "code",
   "execution_count": 32,
   "id": "1f3697f6",
   "metadata": {},
   "outputs": [
    {
     "data": {
      "text/plain": [
       "['H', 'e', 'l', 'l', 'o', '!', ' ', 'W', 'o', 'r', 'l', 'd', '!']"
      ]
     },
     "execution_count": 32,
     "metadata": {},
     "output_type": "execute_result"
    }
   ],
   "source": [
    "list2 = list(\"Hello! World!\")\n",
    "list2"
   ]
  },
  {
   "cell_type": "code",
   "execution_count": 36,
   "id": "2cf6e065",
   "metadata": {},
   "outputs": [
    {
     "data": {
      "text/plain": [
       "['H', 'e', 'l', 'l', 'o', '!']"
      ]
     },
     "execution_count": 36,
     "metadata": {},
     "output_type": "execute_result"
    }
   ],
   "source": [
    "#slice\n",
    "#前6個\n",
    "list2[0:6]"
   ]
  },
  {
   "cell_type": "code",
   "execution_count": 38,
   "id": "10eed35c",
   "metadata": {},
   "outputs": [
    {
     "data": {
      "text/plain": [
       "['W', 'o', 'r', 'l', 'd', '!']"
      ]
     },
     "execution_count": 38,
     "metadata": {},
     "output_type": "execute_result"
    }
   ],
   "source": [
    "#slice\n",
    "#後6個\n",
    "list2[-6:]"
   ]
  },
  {
   "cell_type": "code",
   "execution_count": 39,
   "id": "6781f492",
   "metadata": {},
   "outputs": [
    {
     "data": {
      "text/plain": [
       "['H', 'e', 'l', 'l', 'o', '!']"
      ]
     },
     "execution_count": 39,
     "metadata": {},
     "output_type": "execute_result"
    }
   ],
   "source": [
    "#slice\n",
    "#前6個\n",
    "list2[:6]"
   ]
  },
  {
   "cell_type": "code",
   "execution_count": 40,
   "id": "7384c32f",
   "metadata": {},
   "outputs": [
    {
     "data": {
      "text/plain": [
       "['W', 'o', 'r', 'l', 'd', '!']"
      ]
     },
     "execution_count": 40,
     "metadata": {},
     "output_type": "execute_result"
    }
   ],
   "source": [
    "#slice\n",
    "#後6個\n",
    "list2[-6:]"
   ]
  },
  {
   "cell_type": "code",
   "execution_count": 43,
   "id": "d7499edd",
   "metadata": {},
   "outputs": [
    {
     "name": "stdout",
     "output_type": "stream",
     "text": [
      "H\n",
      "e\n",
      "l\n",
      "l\n",
      "o\n",
      "!\n",
      " \n",
      "W\n",
      "o\n",
      "r\n",
      "l\n",
      "d\n",
      "!\n"
     ]
    }
   ],
   "source": [
    "#利用for in 迴圈取出所有元素值\n",
    "for letter in list2:\n",
    "    print(letter)"
   ]
  },
  {
   "cell_type": "code",
   "execution_count": 44,
   "id": "d054e8b3",
   "metadata": {},
   "outputs": [
    {
     "data": {
      "text/plain": [
       "13"
      ]
     },
     "execution_count": 44,
     "metadata": {},
     "output_type": "execute_result"
    }
   ],
   "source": [
    "#查詢元素的數量len()\n",
    "len(list2)"
   ]
  },
  {
   "cell_type": "code",
   "execution_count": 46,
   "id": "0b5763c2",
   "metadata": {},
   "outputs": [
    {
     "data": {
      "text/plain": [
       "[89, 91, 73, 92, 95]"
      ]
     },
     "execution_count": 46,
     "metadata": {},
     "output_type": "execute_result"
    }
   ],
   "source": [
    "#增加元素使用list的方法append()\n",
    "scores = []\n",
    "scores.append(89)\n",
    "scores.append(91)\n",
    "scores.append(73)\n",
    "scores.append(92)\n",
    "scores.append(95)\n",
    "scores"
   ]
  },
  {
   "cell_type": "code",
   "execution_count": 51,
   "id": "1b695056",
   "metadata": {
    "scrolled": true
   },
   "outputs": [
    {
     "name": "stdout",
     "output_type": "stream",
     "text": [
      "請輸入第1位學生的資料:78\n",
      "請輸入第2位學生的資料:56\n",
      "請輸入第3位學生的資料:93\n",
      "請輸入第4位學生的資料:64\n",
      "請輸入第5位學生的資料:72\n",
      "全班總成績為363分,平均為72.6分\n"
     ]
    }
   ],
   "source": [
    "scores = []\n",
    "for i in range(1,6):\n",
    "    score = int(input(f\"請輸入第{i}位學生的資料:\"))\n",
    "    scores.append(score)\n",
    "sum = 0\n",
    "for score in scores:\n",
    "    sum += score\n",
    "ave = sum / len(scores)\n",
    "print(f\"全班總成績為{sum}分,平均為{ave}分\")"
   ]
  },
  {
   "cell_type": "code",
   "execution_count": 52,
   "id": "2d5816c3",
   "metadata": {},
   "outputs": [],
   "source": [
    "#2維list\n",
    "nb = ['筆記電腦', '商用筆電']\n",
    "mobile = ['APPLE', 'ASUS', 'HTC']\n",
    "home = [3, '冰箱', 2, '洗衣機']\n",
    "all3c = [nb, mobile, home]"
   ]
  },
  {
   "cell_type": "code",
   "execution_count": 53,
   "id": "82bbb84e",
   "metadata": {},
   "outputs": [
    {
     "data": {
      "text/plain": [
       "'筆記電腦'"
      ]
     },
     "execution_count": 53,
     "metadata": {},
     "output_type": "execute_result"
    }
   ],
   "source": [
    "all3c[0][0]"
   ]
  },
  {
   "cell_type": "code",
   "execution_count": 54,
   "id": "4f34f1df",
   "metadata": {},
   "outputs": [
    {
     "data": {
      "text/plain": [
       "'洗衣機'"
      ]
     },
     "execution_count": 54,
     "metadata": {},
     "output_type": "execute_result"
    }
   ],
   "source": [
    "all3c[2][3]"
   ]
  },
  {
   "cell_type": "code",
   "execution_count": 55,
   "id": "0d34f673",
   "metadata": {},
   "outputs": [
    {
     "name": "stdout",
     "output_type": "stream",
     "text": [
      "筆記電腦 商用筆電 \n",
      "APPLE ASUS HTC \n",
      "3 冰箱 2 洗衣機 \n"
     ]
    }
   ],
   "source": [
    "for items in all3c:\n",
    "    for item in items:\n",
    "        print(item,end=' ')\n",
    "    print()"
   ]
  },
  {
   "cell_type": "code",
   "execution_count": 65,
   "id": "a35734ef",
   "metadata": {},
   "outputs": [
    {
     "name": "stdout",
     "output_type": "stream",
     "text": [
      "國文\t英文\t地理\t數學\t歷史\t總分\n",
      "60\t97\t70\t94\t70\t391\n",
      "99\t83\t88\t95\t63\t428\n",
      "87\t84\t89\t76\t83\t419\n",
      "66\t89\t83\t62\t96\t396\n",
      "91\t93\t78\t88\t87\t437\n",
      "92\t83\t97\t90\t76\t438\n",
      "72\t94\t80\t69\t71\t386\n",
      "69\t80\t63\t76\t90\t378\n",
      "98\t79\t94\t95\t83\t449\n",
      "66\t62\t97\t61\t97\t383\n",
      "100\t100\t76\t74\t92\t442\n",
      "97\t73\t81\t78\t90\t419\n",
      "61\t85\t74\t96\t90\t406\n",
      "83\t68\t68\t72\t78\t369\n",
      "100\t69\t67\t67\t67\t370\n",
      "62\t65\t66\t96\t77\t366\n",
      "77\t86\t97\t72\t67\t399\n",
      "100\t74\t76\t84\t68\t402\n",
      "65\t76\t62\t98\t92\t393\n",
      "99\t77\t64\t60\t89\t389\n",
      "95\t60\t99\t80\t63\t397\n",
      "65\t76\t95\t72\t89\t397\n",
      "92\t66\t96\t64\t87\t405\n",
      "90\t69\t79\t88\t61\t387\n",
      "79\t95\t99\t93\t82\t448\n",
      "61\t87\t62\t91\t68\t369\n",
      "83\t98\t82\t73\t64\t400\n",
      "73\t92\t67\t97\t90\t419\n",
      "66\t84\t70\t74\t72\t366\n",
      "87\t80\t63\t95\t61\t386\n",
      "82\t65\t63\t97\t62\t369\n",
      "65\t69\t79\t80\t72\t365\n",
      "88\t90\t95\t85\t97\t455\n",
      "87\t97\t87\t91\t85\t447\n",
      "71\t88\t73\t63\t69\t364\n",
      "69\t80\t69\t65\t87\t370\n",
      "74\t67\t99\t63\t88\t391\n",
      "80\t78\t71\t99\t96\t424\n",
      "80\t61\t86\t60\t77\t364\n",
      "70\t89\t69\t97\t60\t385\n",
      "92\t75\t67\t79\t74\t387\n",
      "82\t94\t82\t66\t73\t397\n",
      "78\t82\t81\t95\t96\t432\n",
      "85\t69\t100\t67\t67\t388\n",
      "99\t70\t60\t86\t84\t399\n",
      "83\t64\t99\t62\t72\t380\n",
      "62\t97\t61\t65\t64\t349\n",
      "100\t89\t82\t60\t70\t401\n",
      "73\t97\t72\t81\t86\t409\n",
      "74\t60\t83\t99\t83\t399\n"
     ]
    }
   ],
   "source": [
    "import random\n",
    "\n",
    "students_count = 50\n",
    "scores_count = 5\n",
    "\n",
    "students = []\n",
    "for _ in range(students_count):\n",
    "    scores = []\n",
    "    for _ in range(scores_count):\n",
    "        scores.append(random.randint(60,100))\n",
    "    students.append(scores)\n",
    "print(\"國文\\t英文\\t地理\\t數學\\t歷史\\t總分\")    \n",
    "for scores in students:\n",
    "    sum = 0\n",
    "    for score in scores:\n",
    "        print(score,end = \"\\t\")\n",
    "        sum += score\n",
    "    print(sum)\n",
    "   "
   ]
  },
  {
   "cell_type": "code",
   "execution_count": null,
   "id": "45b58d29",
   "metadata": {},
   "outputs": [],
   "source": []
  }
 ],
 "metadata": {
  "kernelspec": {
   "display_name": "Python 3 (ipykernel)",
   "language": "python",
   "name": "python3"
  },
  "language_info": {
   "codemirror_mode": {
    "name": "ipython",
    "version": 3
   },
   "file_extension": ".py",
   "mimetype": "text/x-python",
   "name": "python",
   "nbconvert_exporter": "python",
   "pygments_lexer": "ipython3",
   "version": "3.10.2"
  }
 },
 "nbformat": 4,
 "nbformat_minor": 5
}
