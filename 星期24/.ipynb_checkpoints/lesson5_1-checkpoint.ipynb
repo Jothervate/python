{
 "cells": [
  {
   "cell_type": "code",
   "execution_count": 3,
   "id": "76589104",
   "metadata": {},
   "outputs": [
    {
     "data": {
      "text/plain": [
       "[10, 20, 30, 40, 50]"
      ]
     },
     "execution_count": 3,
     "metadata": {},
     "output_type": "execute_result"
    }
   ],
   "source": [
    "list1 = [10, 20, 30, 40, 50]\n",
    "list1"
   ]
  },
  {
   "cell_type": "code",
   "execution_count": 5,
   "id": "0eb49934",
   "metadata": {},
   "outputs": [
    {
     "data": {
      "text/plain": [
       "list"
      ]
     },
     "execution_count": 5,
     "metadata": {},
     "output_type": "execute_result"
    }
   ],
   "source": [
    "list1.__class__"
   ]
  },
  {
   "cell_type": "code",
   "execution_count": 8,
   "id": "e53c5a81",
   "metadata": {},
   "outputs": [
    {
     "name": "stdout",
     "output_type": "stream",
     "text": [
      "10\n",
      "60\n"
     ]
    }
   ],
   "source": [
    "#取出值\n",
    "print(list1[0])\n",
    "list1[0] = 60 # 改變值\n",
    "print(list1[0])"
   ]
  },
  {
   "cell_type": "code",
   "execution_count": 9,
   "id": "df616a03",
   "metadata": {},
   "outputs": [
    {
     "ename": "IndexError",
     "evalue": "list index out of range",
     "output_type": "error",
     "traceback": [
      "\u001b[0;31m---------------------------------------------------------------------------\u001b[0m",
      "\u001b[0;31mIndexError\u001b[0m                                Traceback (most recent call last)",
      "Input \u001b[0;32mIn [9]\u001b[0m, in \u001b[0;36m<module>\u001b[0;34m\u001b[0m\n\u001b[1;32m      1\u001b[0m \u001b[38;5;66;03m#超出索引\u001b[39;00m\n\u001b[0;32m----> 2\u001b[0m \u001b[43mlist1\u001b[49m\u001b[43m[\u001b[49m\u001b[38;5;241;43m20\u001b[39;49m\u001b[43m]\u001b[49m\n",
      "\u001b[0;31mIndexError\u001b[0m: list index out of range"
     ]
    }
   ],
   "source": [
    "#超出索引\n",
    "list1[20]"
   ]
  },
  {
   "cell_type": "code",
   "execution_count": 16,
   "id": "7829d3f7",
   "metadata": {},
   "outputs": [
    {
     "data": {
      "text/plain": [
       "[1,\n",
       " 2,\n",
       " 3,\n",
       " 4,\n",
       " 5,\n",
       " 6,\n",
       " 7,\n",
       " 8,\n",
       " 9,\n",
       " 10,\n",
       " 11,\n",
       " 12,\n",
       " 13,\n",
       " 14,\n",
       " 15,\n",
       " 16,\n",
       " 17,\n",
       " 18,\n",
       " 19,\n",
       " 20,\n",
       " 21,\n",
       " 22,\n",
       " 23,\n",
       " 24,\n",
       " 25,\n",
       " 26,\n",
       " 27,\n",
       " 28,\n",
       " 29,\n",
       " 30,\n",
       " 31,\n",
       " 32,\n",
       " 33,\n",
       " 34,\n",
       " 35,\n",
       " 36,\n",
       " 37,\n",
       " 38,\n",
       " 39,\n",
       " 40,\n",
       " 41,\n",
       " 42,\n",
       " 43,\n",
       " 44,\n",
       " 45,\n",
       " 46,\n",
       " 47,\n",
       " 48,\n",
       " 49,\n",
       " 50,\n",
       " 51,\n",
       " 52,\n",
       " 53,\n",
       " 54,\n",
       " 55,\n",
       " 56,\n",
       " 57,\n",
       " 58,\n",
       " 59,\n",
       " 60,\n",
       " 61,\n",
       " 62,\n",
       " 63,\n",
       " 64,\n",
       " 65,\n",
       " 66,\n",
       " 67,\n",
       " 68,\n",
       " 69,\n",
       " 70,\n",
       " 71,\n",
       " 72,\n",
       " 73,\n",
       " 74,\n",
       " 75,\n",
       " 76,\n",
       " 77,\n",
       " 78,\n",
       " 79,\n",
       " 80,\n",
       " 81,\n",
       " 82,\n",
       " 83,\n",
       " 84,\n",
       " 85,\n",
       " 86,\n",
       " 87,\n",
       " 88,\n",
       " 89,\n",
       " 90,\n",
       " 91,\n",
       " 92,\n",
       " 93,\n",
       " 94,\n",
       " 95,\n",
       " 96,\n",
       " 97,\n",
       " 98,\n",
       " 99,\n",
       " 100]"
      ]
     },
     "execution_count": 16,
     "metadata": {},
     "output_type": "execute_result"
    }
   ],
   "source": [
    "#建立list的方式\n",
    "#建立空的list,使用符號[]\n",
    "empty_list = []\n",
    "\n",
    "#使用符號建立list\n",
    "weekdays = ['星期一', '星期二', '星期三', '星期四', '星期五', '星期六', '星期日'] \n",
    "weekdays[0]\n",
    "\n",
    "#使用list()建立空的list\n",
    "\n",
    "another_empty_list = list()\n",
    "another_empty_list\n",
    "\n",
    "#使用list()建立\n",
    "\n",
    "list('cat')\n",
    "list(range(1,101))"
   ]
  },
  {
   "cell_type": "code",
   "execution_count": 17,
   "id": "b569ec19",
   "metadata": {},
   "outputs": [],
   "source": [
    "citys = ['台北', '台中', '高雄']"
   ]
  },
  {
   "cell_type": "code",
   "execution_count": 23,
   "id": "28582db0",
   "metadata": {},
   "outputs": [
    {
     "data": {
      "text/plain": [
       "'台北'"
      ]
     },
     "execution_count": 23,
     "metadata": {},
     "output_type": "execute_result"
    }
   ],
   "source": [
    "citys[0]\n",
    "citys[1]\n",
    "citys[2]\n",
    "citys[-1]\n",
    "citys[-2]\n",
    "citys[-3]"
   ]
  },
  {
   "cell_type": "code",
   "execution_count": 24,
   "id": "6e88a617",
   "metadata": {},
   "outputs": [
    {
     "data": {
      "text/plain": [
       "'新竹'"
      ]
     },
     "execution_count": 24,
     "metadata": {},
     "output_type": "execute_result"
    }
   ],
   "source": [
    "citys[0] = '新竹'\n",
    "citys[0]"
   ]
  },
  {
   "cell_type": "code",
   "execution_count": 30,
   "id": "44f11b21",
   "metadata": {},
   "outputs": [
    {
     "data": {
      "text/plain": [
       "'台北'"
      ]
     },
     "execution_count": 30,
     "metadata": {},
     "output_type": "execute_result"
    }
   ],
   "source": [
    "#tuple的操作法和list相同\n",
    "#tuple不可以更改內容\n",
    "\n",
    "cities = ('台北', '台中', '高雄')\n",
    "cities[0]\n",
    "cities[-3]"
   ]
  },
  {
   "cell_type": "code",
   "execution_count": 31,
   "id": "f0c9b601",
   "metadata": {},
   "outputs": [
    {
     "ename": "TypeError",
     "evalue": "'tuple' object does not support item assignment",
     "output_type": "error",
     "traceback": [
      "\u001b[0;31m---------------------------------------------------------------------------\u001b[0m",
      "\u001b[0;31mTypeError\u001b[0m                                 Traceback (most recent call last)",
      "Input \u001b[0;32mIn [31]\u001b[0m, in \u001b[0;36m<module>\u001b[0;34m\u001b[0m\n\u001b[0;32m----> 1\u001b[0m cities[\u001b[38;5;241m0\u001b[39m] \u001b[38;5;241m=\u001b[39m \u001b[38;5;124m'\u001b[39m\u001b[38;5;124m新竹\u001b[39m\u001b[38;5;124m'\u001b[39m\n",
      "\u001b[0;31mTypeError\u001b[0m: 'tuple' object does not support item assignment"
     ]
    }
   ],
   "source": [
    "cities[0] = '新竹'"
   ]
  },
  {
   "cell_type": "code",
   "execution_count": 32,
   "id": "c47c4fba",
   "metadata": {},
   "outputs": [
    {
     "data": {
      "text/plain": [
       "['H', 'e', 'l', 'l', 'o', '!', ' ', 'W', 'o', 'r', 'l', 'd', '!']"
      ]
     },
     "execution_count": 32,
     "metadata": {},
     "output_type": "execute_result"
    }
   ],
   "source": [
    "list2 = list(\"Hello! World!\")\n",
    "list2"
   ]
  },
  {
   "cell_type": "code",
   "execution_count": 36,
   "id": "9adba865",
   "metadata": {},
   "outputs": [
    {
     "data": {
      "text/plain": [
       "['H', 'e', 'l', 'l', 'o', '!']"
      ]
     },
     "execution_count": 36,
     "metadata": {},
     "output_type": "execute_result"
    }
   ],
   "source": [
    "#slice\n",
    "#前6個\n",
    "list2[0:6]"
   ]
  },
  {
   "cell_type": "code",
   "execution_count": 38,
   "id": "e70051e8",
   "metadata": {},
   "outputs": [
    {
     "data": {
      "text/plain": [
       "['W', 'o', 'r', 'l', 'd', '!']"
      ]
     },
     "execution_count": 38,
     "metadata": {},
     "output_type": "execute_result"
    }
   ],
   "source": [
    "#slice\n",
    "#後6個\n",
    "list2[-6:]"
   ]
  },
  {
   "cell_type": "code",
   "execution_count": 39,
   "id": "c36e73eb",
   "metadata": {},
   "outputs": [
    {
     "data": {
      "text/plain": [
       "['H', 'e', 'l', 'l', 'o', '!']"
      ]
     },
     "execution_count": 39,
     "metadata": {},
     "output_type": "execute_result"
    }
   ],
   "source": [
    "#slice\n",
    "#前6個\n",
    "list2[:6]"
   ]
  },
  {
   "cell_type": "code",
   "execution_count": 40,
   "id": "4852e276",
   "metadata": {},
   "outputs": [
    {
     "data": {
      "text/plain": [
       "['W', 'o', 'r', 'l', 'd', '!']"
      ]
     },
     "execution_count": 40,
     "metadata": {},
     "output_type": "execute_result"
    }
   ],
   "source": [
    "#slice\n",
    "#後6個\n",
    "list2[-6:]"
   ]
  },
  {
   "cell_type": "code",
   "execution_count": 43,
   "id": "fde774c9",
   "metadata": {},
   "outputs": [
    {
     "name": "stdout",
     "output_type": "stream",
     "text": [
      "H\n",
      "e\n",
      "l\n",
      "l\n",
      "o\n",
      "!\n",
      " \n",
      "W\n",
      "o\n",
      "r\n",
      "l\n",
      "d\n",
      "!\n"
     ]
    }
   ],
   "source": [
    "#利用for in 迴圈取出所有元素值\n",
    "for letter in list2:\n",
    "    print(letter)"
   ]
  },
  {
   "cell_type": "code",
   "execution_count": 44,
   "id": "d337ab3c",
   "metadata": {},
   "outputs": [
    {
     "data": {
      "text/plain": [
       "13"
      ]
     },
     "execution_count": 44,
     "metadata": {},
     "output_type": "execute_result"
    }
   ],
   "source": [
    "#查詢元素的數量len()\n",
    "len(list2)"
   ]
  },
  {
   "cell_type": "code",
   "execution_count": 46,
   "id": "0016f68a",
   "metadata": {},
   "outputs": [
    {
     "data": {
      "text/plain": [
       "[89, 91, 73, 92, 95]"
      ]
     },
     "execution_count": 46,
     "metadata": {},
     "output_type": "execute_result"
    }
   ],
   "source": [
    "#增加元素使用list的方法append()\n",
    "scores = []\n",
    "scores.append(89)\n",
    "scores.append(91)\n",
    "scores.append(73)\n",
    "scores.append(92)\n",
    "scores.append(95)\n",
    "scores"
   ]
  },
  {
   "cell_type": "code",
   "execution_count": 51,
   "id": "e317f6e1",
   "metadata": {
    "scrolled": true
   },
   "outputs": [
    {
     "name": "stdout",
     "output_type": "stream",
     "text": [
      "請輸入第1位學生的資料:78\n",
      "請輸入第2位學生的資料:56\n",
      "請輸入第3位學生的資料:93\n",
      "請輸入第4位學生的資料:64\n",
      "請輸入第5位學生的資料:72\n",
      "全班總成績為363分,平均為72.6分\n"
     ]
    }
   ],
   "source": [
    "scores = []\n",
    "for i in range(1,6):\n",
    "    score = int(input(f\"請輸入第{i}位學生的資料:\"))\n",
    "    scores.append(score)\n",
    "sum = 0\n",
    "for score in scores:\n",
    "    sum += score\n",
    "ave = sum / len(scores)\n",
    "print(f\"全班總成績為{sum}分,平均為{ave}分\")"
   ]
  },
  {
   "cell_type": "code",
   "execution_count": 52,
   "id": "8855b2c8",
   "metadata": {},
   "outputs": [],
   "source": [
    "#2維list\n",
    "nb = ['筆記電腦', '商用筆電']\n",
    "mobile = ['APPLE', 'ASUS', 'HTC']\n",
    "home = [3, '冰箱', 2, '洗衣機']\n",
    "all3c = [nb, mobile, home]"
   ]
  },
  {
   "cell_type": "code",
   "execution_count": 53,
   "id": "c7982082",
   "metadata": {},
   "outputs": [
    {
     "data": {
      "text/plain": [
       "'筆記電腦'"
      ]
     },
     "execution_count": 53,
     "metadata": {},
     "output_type": "execute_result"
    }
   ],
   "source": [
    "all3c[0][0]"
   ]
  },
  {
   "cell_type": "code",
   "execution_count": 54,
   "id": "1184273e",
   "metadata": {},
   "outputs": [
    {
     "data": {
      "text/plain": [
       "'洗衣機'"
      ]
     },
     "execution_count": 54,
     "metadata": {},
     "output_type": "execute_result"
    }
   ],
   "source": [
    "all3c[2][3]"
   ]
  },
  {
   "cell_type": "code",
   "execution_count": 55,
   "id": "d0ac52df",
   "metadata": {},
   "outputs": [
    {
     "name": "stdout",
     "output_type": "stream",
     "text": [
      "筆記電腦 商用筆電 \n",
      "APPLE ASUS HTC \n",
      "3 冰箱 2 洗衣機 \n"
     ]
    }
   ],
   "source": [
    "for items in all3c:\n",
    "    for item in items:\n",
    "        print(item,end=' ')\n",
    "    print()"
   ]
  },
  {
   "cell_type": "code",
   "execution_count": 62,
   "id": "f67cf94e",
   "metadata": {},
   "outputs": [
    {
     "name": "stdout",
     "output_type": "stream",
     "text": [
      "87 94 79 86 79 \n",
      "91 87 88 96 67 \n",
      "64 63 70 95 76 \n",
      "67 66 88 96 95 \n",
      "95 78 92 75 100 \n",
      "61 80 73 75 74 \n",
      "70 83 91 91 71 \n",
      "84 90 93 83 62 \n",
      "66 80 77 90 80 \n",
      "95 83 83 78 67 \n",
      "64 83 72 82 60 \n",
      "71 76 63 92 83 \n",
      "90 65 65 89 73 \n",
      "75 86 98 63 62 \n",
      "77 86 73 75 99 \n",
      "63 85 80 61 66 \n",
      "65 65 72 79 91 \n",
      "100 62 85 75 81 \n",
      "78 95 93 61 93 \n",
      "60 68 72 60 96 \n",
      "80 89 92 90 84 \n",
      "85 71 89 86 73 \n",
      "81 92 93 90 88 \n",
      "99 88 72 98 73 \n",
      "85 97 92 62 66 \n",
      "70 67 73 94 88 \n",
      "77 72 90 61 65 \n",
      "62 81 83 67 81 \n",
      "63 63 72 75 65 \n",
      "75 67 60 64 96 \n"
     ]
    }
   ],
   "source": [
    "import random\n",
    "\n",
    "students_count = 30\n",
    "scores_count = 5\n",
    "\n",
    "students = []\n",
    "for _ in range(students_count):\n",
    "    scores = []\n",
    "    for _ in range(scores_count):\n",
    "        scores.append(random.randint(60,100))\n",
    "    students.append(scores)\n",
    "    \n",
    "for scores in students:\n",
    "    for score in scores:\n",
    "        print(score,end = \" \")\n",
    "    print()"
   ]
  },
  {
   "cell_type": "code",
   "execution_count": null,
   "id": "44f223af",
   "metadata": {},
   "outputs": [],
   "source": []
  }
 ],
 "metadata": {
  "kernelspec": {
   "display_name": "Python 3 (ipykernel)",
   "language": "python",
   "name": "python3"
  },
  "language_info": {
   "codemirror_mode": {
    "name": "ipython",
    "version": 3
   },
   "file_extension": ".py",
   "mimetype": "text/x-python",
   "name": "python",
   "nbconvert_exporter": "python",
   "pygments_lexer": "ipython3",
   "version": "3.10.2"
  }
 },
 "nbformat": 4,
 "nbformat_minor": 5
}
