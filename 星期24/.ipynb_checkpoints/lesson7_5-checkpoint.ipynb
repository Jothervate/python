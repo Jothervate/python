{
 "cells": [
  {
   "cell_type": "code",
   "execution_count": 2,
   "id": "fa33bb33",
   "metadata": {},
   "outputs": [
    {
     "name": "stdout",
     "output_type": "stream",
     "text": [
      "{'酒': '白酒', '主食': '牛排', '甜點': '蛋糕'}\n",
      "{'酒': '紅酒', '主食': '雞排', '甜點': '冰淇淋'}\n"
     ]
    }
   ],
   "source": [
    "def menu(wine, entree, desert):\n",
    "    return {\n",
    "        '酒':wine,\n",
    "        '主食':entree,\n",
    "        '甜點':desert\n",
    "    }\n",
    "\n",
    "#使用引數的位置呼叫\n",
    "print(menu('白酒', '牛排', '蛋糕'))\n",
    "print(menu('紅酒', '雞排', '冰淇淋'))"
   ]
  },
  {
   "cell_type": "code",
   "execution_count": 3,
   "id": "b9335237",
   "metadata": {},
   "outputs": [
    {
     "data": {
      "text/plain": [
       "{'酒': '白酒', '主食': '牛排', '甜點': '蛋糕'}"
      ]
     },
     "execution_count": 3,
     "metadata": {},
     "output_type": "execute_result"
    }
   ],
   "source": [
    "#使用引數名稱的呼叫\n",
    "menu(wine='白酒', entree='牛排',desert='蛋糕')"
   ]
  },
  {
   "cell_type": "code",
   "execution_count": 4,
   "id": "0fbec3ad",
   "metadata": {},
   "outputs": [
    {
     "data": {
      "text/plain": [
       "{'酒': '白酒', '主食': '牛排', '甜點': '蛋糕'}"
      ]
     },
     "execution_count": 4,
     "metadata": {},
     "output_type": "execute_result"
    }
   ],
   "source": [
    "#使用引數名稱的呼叫,可以不依順序\n",
    "menu(entree='牛排',desert='蛋糕',wine='白酒')"
   ]
  },
  {
   "cell_type": "code",
   "execution_count": 5,
   "id": "0b0c2f09",
   "metadata": {},
   "outputs": [
    {
     "data": {
      "text/plain": [
       "{'酒': '白酒', '主食': '牛排', '甜點': '蛋糕'}"
      ]
     },
     "execution_count": 5,
     "metadata": {},
     "output_type": "execute_result"
    }
   ],
   "source": [
    "#混合呼叫,前面一定使用引數位置,後面使用引數名稱,使用引數名稱後,後面全部都只可以使用引數名稱\n",
    "menu('白酒',desert='蛋糕',entree='牛排')"
   ]
  },
  {
   "cell_type": "code",
   "execution_count": 7,
   "id": "98ed946c",
   "metadata": {},
   "outputs": [
    {
     "name": "stdout",
     "output_type": "stream",
     "text": [
      "h-e-l-l."
     ]
    }
   ],
   "source": [
    "print(\"h\", 'e', 'l', 'l',sep='-',end='.')"
   ]
  },
  {
   "cell_type": "code",
   "execution_count": null,
   "id": "e73fe216",
   "metadata": {},
   "outputs": [],
   "source": []
  }
 ],
 "metadata": {
  "kernelspec": {
   "display_name": "Python 3 (ipykernel)",
   "language": "python",
   "name": "python3"
  },
  "language_info": {
   "codemirror_mode": {
    "name": "ipython",
    "version": 3
   },
   "file_extension": ".py",
   "mimetype": "text/x-python",
   "name": "python",
   "nbconvert_exporter": "python",
   "pygments_lexer": "ipython3",
   "version": "3.10.2"
  }
 },
 "nbformat": 4,
 "nbformat_minor": 5
}
