{
 "cells": [
  {
   "cell_type": "code",
   "execution_count": 2,
   "id": "2c355087",
   "metadata": {},
   "outputs": [
    {
     "name": "stdout",
     "output_type": "stream",
     "text": [
      "{'酒': '白酒', '主食': '牛排', '甜點': '蛋糕'}\n",
      "{'酒': '紅酒', '主食': '雞排', '甜點': '冰淇淋'}\n"
     ]
    }
   ],
   "source": [
    "def menu(wine, entree, desert):\n",
    "    return {\n",
    "        '酒':wine,\n",
    "        '主食':entree,\n",
    "        '甜點':desert\n",
    "    }\n",
    "\n",
    "#使用引數的位置呼叫\n",
    "print(menu('白酒', '牛排', '蛋糕'))\n",
    "print(menu('紅酒', '雞排', '冰淇淋'))"
   ]
  },
  {
   "cell_type": "code",
   "execution_count": null,
   "id": "4f19004a",
   "metadata": {},
   "outputs": [],
   "source": []
  }
 ],
 "metadata": {
  "kernelspec": {
   "display_name": "Python 3 (ipykernel)",
   "language": "python",
   "name": "python3"
  },
  "language_info": {
   "codemirror_mode": {
    "name": "ipython",
    "version": 3
   },
   "file_extension": ".py",
   "mimetype": "text/x-python",
   "name": "python",
   "nbconvert_exporter": "python",
   "pygments_lexer": "ipython3",
   "version": "3.10.2"
  }
 },
 "nbformat": 4,
 "nbformat_minor": 5
}
