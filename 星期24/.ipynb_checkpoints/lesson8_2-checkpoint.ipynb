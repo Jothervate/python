{
 "cells": [
  {
   "cell_type": "code",
   "execution_count": 1,
   "id": "9d0407ec",
   "metadata": {},
   "outputs": [
    {
     "data": {
      "text/plain": [
       "'__main__'"
      ]
     },
     "execution_count": 1,
     "metadata": {},
     "output_type": "execute_result"
    }
   ],
   "source": [
    "#此ipynb的文件名稱\n",
    "__name__"
   ]
  },
  {
   "cell_type": "code",
   "execution_count": 27,
   "id": "ea9895e6",
   "metadata": {},
   "outputs": [],
   "source": [
    "#建立Person class\n",
    "\n",
    "class Person():\n",
    "    #自訂的初始化\n",
    "    def __init__(self,name,height,weight):\n",
    "        self.name = name\n",
    "        self.height = height\n",
    "        self.weight = weight\n",
    "        \n",
    "    #實體的method    \n",
    "    def bmi(self):\n",
    "        b = self.weight / (self.height / 100) ** 2\n",
    "        return b"
   ]
  },
  {
   "cell_type": "code",
   "execution_count": 29,
   "id": "0bbada03",
   "metadata": {},
   "outputs": [
    {
     "name": "stdout",
     "output_type": "stream",
     "text": [
      "robert\n",
      "170\n",
      "80\n",
      "bmi:27.68\n"
     ]
    }
   ],
   "source": [
    "p1 = Person(\"robert\",170,80)\n",
    "p1.__class__\n",
    "print(p1.name)\n",
    "print(p1.height)\n",
    "print(p1.weight)\n",
    "print(f\"bmi:{p1.bmi():.2f}\")"
   ]
  },
  {
   "cell_type": "code",
   "execution_count": 30,
   "id": "687ea081",
   "metadata": {},
   "outputs": [
    {
     "name": "stdout",
     "output_type": "stream",
     "text": [
      "John\n",
      "180\n",
      "85\n",
      "bmi:26.23\n"
     ]
    }
   ],
   "source": [
    "p2 = Person(\"John\",180,85)\n",
    "p2.__class__\n",
    "print(p2.name)\n",
    "print(p2.height)\n",
    "print(p2.weight)\n",
    "print(f\"bmi:{p2.bmi():.2f}\")"
   ]
  },
  {
   "cell_type": "code",
   "execution_count": 33,
   "id": "e3502ba6",
   "metadata": {},
   "outputs": [],
   "source": [
    "#繼承\n",
    "class Student(Person):\n",
    "    pass\n"
   ]
  },
  {
   "cell_type": "code",
   "execution_count": 35,
   "id": "113739a1",
   "metadata": {},
   "outputs": [
    {
     "name": "stdout",
     "output_type": "stream",
     "text": [
      "17.506389832288786\n"
     ]
    }
   ],
   "source": [
    "s1 = Student(\"alice\",169,50)\n",
    "print(s1.bmi())"
   ]
  },
  {
   "cell_type": "code",
   "execution_count": null,
   "id": "1bfd583e",
   "metadata": {},
   "outputs": [],
   "source": []
  }
 ],
 "metadata": {
  "kernelspec": {
   "display_name": "Python 3 (ipykernel)",
   "language": "python",
   "name": "python3"
  },
  "language_info": {
   "codemirror_mode": {
    "name": "ipython",
    "version": 3
   },
   "file_extension": ".py",
   "mimetype": "text/x-python",
   "name": "python",
   "nbconvert_exporter": "python",
   "pygments_lexer": "ipython3",
   "version": "3.10.2"
  }
 },
 "nbformat": 4,
 "nbformat_minor": 5
}
