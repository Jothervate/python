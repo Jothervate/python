{
 "cells": [
  {
   "cell_type": "code",
   "execution_count": 2,
   "id": "7efbcae8",
   "metadata": {},
   "outputs": [
    {
     "data": {
      "text/plain": [
       "5"
      ]
     },
     "execution_count": 2,
     "metadata": {},
     "output_type": "execute_result"
    }
   ],
   "source": [
    "even_numbers = {0, 2, 4, 6, 8, 0, 2, 4, 6, 8}\n",
    "len(even_numbers)"
   ]
  },
  {
   "cell_type": "code",
   "execution_count": 12,
   "id": "df27a6cd",
   "metadata": {},
   "outputs": [
    {
     "name": "stdout",
     "output_type": "stream",
     "text": [
      "========大樂透電腦選號==============\n",
      "請問需要幾組號碼:10\n",
      "43 13 14 49 24 28 特別號:31\n",
      "4 7 14 47 49 26 特別號:28\n",
      "35 3 40 11 45 19 特別號:26\n",
      "5 11 45 49 17 18 特別號:24\n",
      "32 2 39 11 17 25 特別號:27\n",
      "2 37 41 10 14 18 特別號:22\n",
      "32 36 5 4 45 22 特別號:26\n",
      "32 38 44 15 22 23 特別號:26\n",
      "4 5 10 12 15 18 特別號:20\n",
      "35 41 9 11 14 27 特別號:30\n"
     ]
    }
   ],
   "source": [
    "#大樂透電腦選號\n",
    "import random\n",
    "print(\"========大樂透電腦選號==============\")\n",
    "groups = int(input(\"請問需要幾組號碼:\"))\n",
    "\n",
    "for _ in range(groups):\n",
    "    lot = set()\n",
    "    while(len(lot) < 7):\n",
    "        lot.add(random.randint(1, 49))\n",
    "    lot_list = list(lot)\n",
    "    special = lot_list.pop()\n",
    "    for item in lot_list:\n",
    "        print(item,end=' ')\n",
    "    print(f'特別號:{special}')"
   ]
  },
  {
   "cell_type": "code",
   "execution_count": null,
   "id": "6dac99c3",
   "metadata": {},
   "outputs": [],
   "source": []
  },
  {
   "cell_type": "code",
   "execution_count": null,
   "id": "f1d28d00",
   "metadata": {},
   "outputs": [],
   "source": []
  }
 ],
 "metadata": {
  "kernelspec": {
   "display_name": "Python 3 (ipykernel)",
   "language": "python",
   "name": "python3"
  },
  "language_info": {
   "codemirror_mode": {
    "name": "ipython",
    "version": 3
   },
   "file_extension": ".py",
   "mimetype": "text/x-python",
   "name": "python",
   "nbconvert_exporter": "python",
   "pygments_lexer": "ipython3",
   "version": "3.10.2"
  }
 },
 "nbformat": 4,
 "nbformat_minor": 5
}
