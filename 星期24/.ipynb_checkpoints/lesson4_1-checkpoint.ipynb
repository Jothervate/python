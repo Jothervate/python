{
 "cells": [
  {
   "cell_type": "code",
   "execution_count": 1,
   "id": "f80929de",
   "metadata": {},
   "outputs": [
    {
     "name": "stdout",
     "output_type": "stream",
     "text": [
      "6\n",
      "5\n",
      "4\n",
      "3\n",
      "2\n",
      "1\n"
     ]
    }
   ],
   "source": [
    "#明確知道執行幾次\n",
    "a = 6 #設定初始值\n",
    "while(a > 0): #判斷\n",
    "    print(a)\n",
    "    a -= 1 #改變值\n"
   ]
  },
  {
   "cell_type": "code",
   "execution_count": 5,
   "id": "ec969484",
   "metadata": {},
   "outputs": [
    {
     "name": "stdout",
     "output_type": "stream",
     "text": [
      "第1次迴圈的start=2,總和為2\n",
      "第2次迴圈的start=4,總和為6\n",
      "第3次迴圈的start=6,總和為12\n",
      "第4次迴圈的start=8,總和為20\n",
      "第5次迴圈的start=10,總和為30\n"
     ]
    }
   ],
   "source": [
    "#計算2 - 10所有偶數的總和\n",
    "\n",
    "i = 0\n",
    "total = 0\n",
    "start = 2\n",
    "end = 10\n",
    "\n",
    "while(start <= end):\n",
    "    total += start\n",
    "    i += 1\n",
    "    print(f\"第{i}次迴圈的start={start},總和為{total}\")\n",
    "    start += 2\n"
   ]
  },
  {
   "cell_type": "code",
   "execution_count": null,
   "id": "1e53227f",
   "metadata": {},
   "outputs": [],
   "source": []
  }
 ],
 "metadata": {
  "kernelspec": {
   "display_name": "Python 3 (ipykernel)",
   "language": "python",
   "name": "python3"
  },
  "language_info": {
   "codemirror_mode": {
    "name": "ipython",
    "version": 3
   },
   "file_extension": ".py",
   "mimetype": "text/x-python",
   "name": "python",
   "nbconvert_exporter": "python",
   "pygments_lexer": "ipython3",
   "version": "3.10.2"
  }
 },
 "nbformat": 4,
 "nbformat_minor": 5
}
