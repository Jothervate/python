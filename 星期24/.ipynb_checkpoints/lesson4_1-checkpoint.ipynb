{
 "cells": [
  {
   "cell_type": "code",
   "execution_count": 1,
   "id": "113657d9",
   "metadata": {},
   "outputs": [
    {
     "name": "stdout",
     "output_type": "stream",
     "text": [
      "1\n",
      "2\n",
      "3\n",
      "4\n",
      "5\n"
     ]
    }
   ],
   "source": [
    "#明確知道執行的次數\n",
    "count = 1\n",
    "while count <= 5:\n",
    "    print(count)\n",
    "    count += 1"
   ]
  },
  {
   "cell_type": "code",
   "execution_count": 4,
   "id": "3505f969",
   "metadata": {},
   "outputs": [
    {
     "name": "stdout",
     "output_type": "stream",
     "text": [
      "請輸入星期1的支出:456\n",
      "請輸入星期2的支出:345\n",
      "請輸入星期3的支出:678\n",
      "請輸入星期4的支出:456\n",
      "請輸入星期5的支出:234\n",
      "請輸入星期6的支出:345\n",
      "請輸入星期日的支出:345\n",
      "本星期的支出為:2859\n"
     ]
    }
   ],
   "source": [
    "day = 1\n",
    "sum = 0\n",
    "while day <= 7:\n",
    "    if day == 7:\n",
    "        inputValue = int(input('請輸入星期日的支出:'))\n",
    "    else:\n",
    "        inputValue = int(input(f'請輸入星期{day}的支出:'))\n",
    "    sum += inputValue    \n",
    "    day += 1\n",
    "\n",
    "print(f\"本星期的支出為:{sum}\")"
   ]
  },
  {
   "cell_type": "code",
   "execution_count": null,
   "id": "d99c3744",
   "metadata": {},
   "outputs": [],
   "source": []
  }
 ],
 "metadata": {
  "kernelspec": {
   "display_name": "Python 3 (ipykernel)",
   "language": "python",
   "name": "python3"
  },
  "language_info": {
   "codemirror_mode": {
    "name": "ipython",
    "version": 3
   },
   "file_extension": ".py",
   "mimetype": "text/x-python",
   "name": "python",
   "nbconvert_exporter": "python",
   "pygments_lexer": "ipython3",
   "version": "3.10.2"
  }
 },
 "nbformat": 4,
 "nbformat_minor": 5
}
