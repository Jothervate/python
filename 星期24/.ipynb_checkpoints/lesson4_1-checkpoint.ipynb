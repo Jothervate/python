{
 "cells": [
  {
   "cell_type": "code",
   "execution_count": 1,
   "id": "1b286772",
   "metadata": {},
   "outputs": [
    {
     "name": "stdout",
     "output_type": "stream",
     "text": [
      "1\n",
      "2\n",
      "3\n",
      "4\n",
      "5\n"
     ]
    }
   ],
   "source": [
    "#明確知道執行的次數\n",
    "count = 1\n",
    "while count <= 5:\n",
    "    print(count)\n",
    "    count += 1"
   ]
  },
  {
   "cell_type": "code",
   "execution_count": 4,
   "id": "85577634",
   "metadata": {},
   "outputs": [
    {
     "name": "stdout",
     "output_type": "stream",
     "text": [
      "請輸入星期1的支出:456\n",
      "請輸入星期2的支出:345\n",
      "請輸入星期3的支出:678\n",
      "請輸入星期4的支出:456\n",
      "請輸入星期5的支出:234\n",
      "請輸入星期6的支出:345\n",
      "請輸入星期日的支出:345\n",
      "本星期的支出為:2859\n"
     ]
    }
   ],
   "source": [
    "day = 1\n",
    "sum = 0\n",
    "while day <= 7:\n",
    "    if day == 7:\n",
    "        inputValue = int(input('請輸入星期日的支出:'))\n",
    "    else:\n",
    "        inputValue = int(input(f'請輸入星期{day}的支出:'))\n",
    "    sum += inputValue    \n",
    "    day += 1\n",
    "\n",
    "print(f\"本星期的支出為:{sum}\")"
   ]
  },
  {
   "cell_type": "code",
   "execution_count": 6,
   "id": "620a1d73",
   "metadata": {},
   "outputs": [
    {
     "name": "stdout",
     "output_type": "stream",
     "text": [
      "請輸入第1個月份的存款:4567\n",
      "請輸入第2個月份的存款:4567\n",
      "請輸入第3個月份的存款:3456\n",
      "請輸入第4個月份的存款:4567\n",
      "請輸入第5個月份的存款:6789\n",
      "請輸入第6個月份的存款:5678\n",
      "請輸入第7個月份的存款:3456\n",
      "恭喜!已經存夠了，存了7,個月的總存款為:33080\n"
     ]
    }
   ],
   "source": [
    "deposit = 0\n",
    "num = 0\n",
    "while(deposit < 30000):\n",
    "    num += 1\n",
    "    inputValue = int(input(f'請輸入第{num}個月份的存款:'))\n",
    "    deposit += inputValue\n",
    "print(f\"恭喜!已經存夠了，存了{num}個月的總存款為:{deposit}\")\n"
   ]
  },
  {
   "cell_type": "code",
   "execution_count": 7,
   "id": "74b623cf",
   "metadata": {},
   "outputs": [
    {
     "name": "stdout",
     "output_type": "stream",
     "text": [
      "請輸入第1個月份的存款:4567\n",
      "請輸入第2個月份的存款:4567\n",
      "請輸入第3個月份的存款:4567\n",
      "請輸入第4個月份的存款:4567\n",
      "請輸入第5個月份的存款:4567\n",
      "請輸入第6個月份的存款:4567\n",
      "請輸入第7個月份的存款:4567\n",
      "恭喜!已經存夠了，存了7個月的總存款為:31969\n"
     ]
    }
   ],
   "source": [
    "deposit = 0\n",
    "num = 0\n",
    "while(True):\n",
    "    num += 1\n",
    "    inputValue = int(input(f'請輸入第{num}個月份的存款:'))\n",
    "    deposit += inputValue\n",
    "    if deposit >= 30000:\n",
    "        break\n",
    "print(f\"恭喜!已經存夠了，存了{num}個月的總存款為:{deposit}\")"
   ]
  },
  {
   "cell_type": "code",
   "execution_count": 10,
   "id": "f6c6e417",
   "metadata": {},
   "outputs": [
    {
     "name": "stdout",
     "output_type": "stream",
     "text": [
      "請輸入小寫英文字[按q會離開]:city\n",
      "City\n",
      "請輸入小寫英文字[按q會離開]:country\n",
      "Country\n",
      "請輸入小寫英文字[按q會離開]:q\n"
     ]
    }
   ],
   "source": [
    "while(True):\n",
    "    stuff = input(\"請輸入小寫英文字[按q會離開]:\")    \n",
    "    if stuff == \"q\":\n",
    "        break\n",
    "    print(stuff.capitalize())"
   ]
  },
  {
   "cell_type": "code",
   "execution_count": 11,
   "id": "a2396402",
   "metadata": {},
   "outputs": [
    {
     "name": "stdout",
     "output_type": "stream",
     "text": [
      "請輸入第1個數值:1\n",
      "請輸入第2個數值:1\n",
      "請輸入第3個數值:1\n",
      "請輸入第4個數值:1\n",
      "請輸入第5個數值:1\n",
      "請輸入第6個數值:2\n",
      "請輸入第7個數值:2\n",
      "請輸入第8個數值:2\n",
      "請輸入第9個數值:2\n",
      "請輸入第10個數值:2\n",
      "請輸入第11個數值:-1\n",
      "所有輸入的正偶數的加總是:10\n"
     ]
    }
   ],
   "source": [
    "num = 0\n",
    "sum = 0\n",
    "while(True):\n",
    "    num += 1\n",
    "    inputValue = int(input(f\"請輸入第{num}個數值:\"))\n",
    "    if inputValue < 0:\n",
    "        break\n",
    "    elif inputValue % 2 == 1:\n",
    "        continue\n",
    "    else:\n",
    "        sum += inputValue\n",
    "    \n",
    "print(f\"所有輸入的正偶數的加總是:{sum}\")"
   ]
  },
  {
   "cell_type": "code",
   "execution_count": 25,
   "id": "375ec769",
   "metadata": {},
   "outputs": [
    {
     "data": {
      "text/plain": [
       "90"
      ]
     },
     "execution_count": 25,
     "metadata": {},
     "output_type": "execute_result"
    }
   ],
   "source": [
    "import random\n",
    "min = 1\n",
    "max = 100\n",
    "random.randint(min,max)"
   ]
  },
  {
   "cell_type": "code",
   "execution_count": null,
   "id": "2de389a1",
   "metadata": {},
   "outputs": [],
   "source": []
  },
  {
   "cell_type": "code",
   "execution_count": null,
   "id": "d8035535",
   "metadata": {},
   "outputs": [],
   "source": []
  }
 ],
 "metadata": {
  "kernelspec": {
   "display_name": "Python 3 (ipykernel)",
   "language": "python",
   "name": "python3"
  },
  "language_info": {
   "codemirror_mode": {
    "name": "ipython",
    "version": 3
   },
   "file_extension": ".py",
   "mimetype": "text/x-python",
   "name": "python",
   "nbconvert_exporter": "python",
   "pygments_lexer": "ipython3",
   "version": "3.10.2"
  }
 },
 "nbformat": 4,
 "nbformat_minor": 5
}
