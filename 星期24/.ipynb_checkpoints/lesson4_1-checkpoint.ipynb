{
 "cells": [
  {
   "cell_type": "code",
   "execution_count": 1,
   "id": "f6b1bbca",
   "metadata": {},
   "outputs": [
    {
     "name": "stdout",
     "output_type": "stream",
     "text": [
      "1\n",
      "2\n",
      "3\n",
      "4\n",
      "5\n"
     ]
    }
   ],
   "source": [
    "#明確知道執行的次數\n",
    "count = 1\n",
    "while count <= 5:\n",
    "    print(count)\n",
    "    count += 1"
   ]
  },
  {
   "cell_type": "code",
   "execution_count": 4,
   "id": "6aed5cba",
   "metadata": {},
   "outputs": [
    {
     "name": "stdout",
     "output_type": "stream",
     "text": [
      "請輸入星期1的支出:456\n",
      "請輸入星期2的支出:345\n",
      "請輸入星期3的支出:678\n",
      "請輸入星期4的支出:456\n",
      "請輸入星期5的支出:234\n",
      "請輸入星期6的支出:345\n",
      "請輸入星期日的支出:345\n",
      "本星期的支出為:2859\n"
     ]
    }
   ],
   "source": [
    "day = 1\n",
    "sum = 0\n",
    "while day <= 7:\n",
    "    if day == 7:\n",
    "        inputValue = int(input('請輸入星期日的支出:'))\n",
    "    else:\n",
    "        inputValue = int(input(f'請輸入星期{day}的支出:'))\n",
    "    sum += inputValue    \n",
    "    day += 1\n",
    "\n",
    "print(f\"本星期的支出為:{sum}\")"
   ]
  },
  {
   "cell_type": "code",
   "execution_count": 6,
   "id": "815a9c16",
   "metadata": {},
   "outputs": [
    {
     "name": "stdout",
     "output_type": "stream",
     "text": [
      "請輸入第1個月份的存款:4567\n",
      "請輸入第2個月份的存款:4567\n",
      "請輸入第3個月份的存款:3456\n",
      "請輸入第4個月份的存款:4567\n",
      "請輸入第5個月份的存款:6789\n",
      "請輸入第6個月份的存款:5678\n",
      "請輸入第7個月份的存款:3456\n",
      "恭喜!已經存夠了，存了7,個月的總存款為:33080\n"
     ]
    }
   ],
   "source": [
    "deposit = 0\n",
    "num = 0\n",
    "while(deposit < 30000):\n",
    "    num += 1\n",
    "    inputValue = int(input(f'請輸入第{num}個月份的存款:'))\n",
    "    deposit += inputValue\n",
    "print(f\"恭喜!已經存夠了，存了{num}個月的總存款為:{deposit}\")\n"
   ]
  },
  {
   "cell_type": "code",
   "execution_count": null,
   "id": "81f38346",
   "metadata": {},
   "outputs": [],
   "source": []
  }
 ],
 "metadata": {
  "kernelspec": {
   "display_name": "Python 3 (ipykernel)",
   "language": "python",
   "name": "python3"
  },
  "language_info": {
   "codemirror_mode": {
    "name": "ipython",
    "version": 3
   },
   "file_extension": ".py",
   "mimetype": "text/x-python",
   "name": "python",
   "nbconvert_exporter": "python",
   "pygments_lexer": "ipython3",
   "version": "3.10.2"
  }
 },
 "nbformat": 4,
 "nbformat_minor": 5
}
