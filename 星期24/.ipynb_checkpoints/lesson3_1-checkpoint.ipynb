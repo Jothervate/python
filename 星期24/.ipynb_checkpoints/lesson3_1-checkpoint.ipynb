{
 "cells": [
  {
   "cell_type": "code",
   "execution_count": 1,
   "id": "4969e98a",
   "metadata": {},
   "outputs": [
    {
     "name": "stdout",
     "output_type": "stream",
     "text": [
      "Hello! Python!\n"
     ]
    }
   ],
   "source": [
    "print(\"Hello! Python!\")"
   ]
  },
  {
   "cell_type": "code",
   "execution_count": 2,
   "id": "c6357c3f",
   "metadata": {},
   "outputs": [
    {
     "data": {
      "text/plain": [
       "True"
      ]
     },
     "execution_count": 2,
     "metadata": {},
     "output_type": "execute_result"
    }
   ],
   "source": [
    "5 > 3"
   ]
  },
  {
   "cell_type": "code",
   "execution_count": 3,
   "id": "a45218b9",
   "metadata": {},
   "outputs": [
    {
     "data": {
      "text/plain": [
       "False"
      ]
     },
     "execution_count": 3,
     "metadata": {},
     "output_type": "execute_result"
    }
   ],
   "source": [
    "5 > 5"
   ]
  },
  {
   "cell_type": "code",
   "execution_count": 7,
   "id": "23693962",
   "metadata": {},
   "outputs": [
    {
     "name": "stdout",
     "output_type": "stream",
     "text": [
      "學生分數是72\n",
      "及格\n",
      "程式結束\n"
     ]
    }
   ],
   "source": [
    "score = 72\n",
    "#單向選擇\n",
    "if score >= 60:\n",
    "    print(f\"學生分數是{score}\")\n",
    "    print(\"及格\")\n",
    "    \n",
    "print(\"程式結束\")\n",
    "    "
   ]
  },
  {
   "cell_type": "code",
   "execution_count": 9,
   "id": "51f3ff2d",
   "metadata": {},
   "outputs": [
    {
     "name": "stdout",
     "output_type": "stream",
     "text": [
      "請輸入學生分數:72\n",
      "學生分數是72\n",
      "及格\n",
      "程式結束\n"
     ]
    }
   ],
   "source": [
    "score = int(input(\"請輸入學生分數:\"))\n",
    "#雙向選擇\n",
    "if score >= 60:\n",
    "    print(f\"學生分數是{score}\")\n",
    "    print(\"及格\")\n",
    "else:\n",
    "    print(\"不及格\")\n",
    "print(\"程式結束\")"
   ]
  },
  {
   "cell_type": "code",
   "execution_count": 15,
   "id": "a11ec352",
   "metadata": {},
   "outputs": [
    {
     "name": "stdout",
     "output_type": "stream",
     "text": [
      "請輸入學生分數:59\n",
      "成績等級為:丁\n"
     ]
    }
   ],
   "source": [
    "score = int(input(\"請輸入學生分數:\"))\n",
    "if score >= 90:\n",
    "    grade = '優'\n",
    "elif score >= 80:\n",
    "    grade = '甲'\n",
    "elif score >= 70:\n",
    "    grade = '乙'\n",
    "elif score >= 60:\n",
    "    grade = '丙'\n",
    "else:\n",
    "    grade = '丁'\n",
    "\n",
    "print(f'成績等級為:{grade}')\n",
    "    "
   ]
  },
  {
   "cell_type": "code",
   "execution_count": 16,
   "id": "6df91ab8",
   "metadata": {},
   "outputs": [
    {
     "name": "stdout",
     "output_type": "stream",
     "text": [
      "請輸入購買金額:130000\n",
      "實付金額是:104000.0元\n"
     ]
    }
   ],
   "source": [
    "money = int(input(\"請輸入購買金額:\"))\n",
    "if money >= 100000:\n",
    "    payMoney = money * 0.8\n",
    "elif money >= 50000:\n",
    "    payMoney = money * 0.85\n",
    "elif money >= 30000:\n",
    "    payMoney = money * 0.9\n",
    "elif money >= 10000:\n",
    "    payMoney = money * 0.95\n",
    "else:\n",
    "    payMoney = money \n",
    "    \n",
    "print(f\"實付金額是:{payMoney}元\")"
   ]
  },
  {
   "cell_type": "code",
   "execution_count": 19,
   "id": "5e6c6049",
   "metadata": {},
   "outputs": [
    {
     "name": "stdout",
     "output_type": "stream",
     "text": [
      "請輸入國文成績99\n",
      "請輸入英文成績99\n",
      "獎金:0\n"
     ]
    }
   ],
   "source": [
    "chinese = int(input(\"請輸入國文成績\"))\n",
    "english = int(input(\"請輸入英文成績\"))\n",
    "\n",
    "#巢狀判斷\n",
    "\n",
    "if chinese == 100:\n",
    "    if english == 100:\n",
    "        bonus = 1000\n",
    "    else:\n",
    "        bonus = 500\n",
    "else:\n",
    "    if english == 100:\n",
    "        bonus = 500\n",
    "    else:\n",
    "        bonus = 0\n",
    "print(f\"獎金:{bonus}\")"
   ]
  },
  {
   "cell_type": "code",
   "execution_count": null,
   "id": "2e83bd37",
   "metadata": {},
   "outputs": [],
   "source": []
  }
 ],
 "metadata": {
  "kernelspec": {
   "display_name": "Python 3 (ipykernel)",
   "language": "python",
   "name": "python3"
  },
  "language_info": {
   "codemirror_mode": {
    "name": "ipython",
    "version": 3
   },
   "file_extension": ".py",
   "mimetype": "text/x-python",
   "name": "python",
   "nbconvert_exporter": "python",
   "pygments_lexer": "ipython3",
   "version": "3.9.9"
  }
 },
 "nbformat": 4,
 "nbformat_minor": 5
}
