{
 "cells": [
  {
   "cell_type": "code",
   "execution_count": 1,
   "id": "b7d49be6",
   "metadata": {},
   "outputs": [
    {
     "data": {
      "text/plain": [
       "{}"
      ]
     },
     "execution_count": 1,
     "metadata": {},
     "output_type": "execute_result"
    }
   ],
   "source": [
    "#Dictionary\n",
    "empty_dict = {}\n",
    "empty_dict"
   ]
  },
  {
   "cell_type": "code",
   "execution_count": 2,
   "id": "2f357dbb",
   "metadata": {},
   "outputs": [
    {
     "data": {
      "text/plain": [
       "{'tw': 'Taiwan', 'jp': 'Japan', 'hk': 'Hong Kong'}"
      ]
     },
     "execution_count": 2,
     "metadata": {},
     "output_type": "execute_result"
    }
   ],
   "source": [
    "codes = {\"tw\":\"Taiwan\",\n",
    "         \"jp\":\"Japan\",\n",
    "         \"hk\":\"Hong Kong\"}\n",
    "codes"
   ]
  },
  {
   "cell_type": "code",
   "execution_count": 3,
   "id": "a4d414f2",
   "metadata": {},
   "outputs": [
    {
     "name": "stdout",
     "output_type": "stream",
     "text": [
      "Taiwan\n",
      "Japan\n",
      "Hong Kong\n"
     ]
    }
   ],
   "source": [
    "print(codes[\"tw\"])\n",
    "print(codes[\"jp\"])\n",
    "print(codes[\"hk\"])"
   ]
  },
  {
   "cell_type": "code",
   "execution_count": 4,
   "id": "4b6d3ec3",
   "metadata": {},
   "outputs": [
    {
     "data": {
      "text/plain": [
       "{'tw': 'Taiwan', 'jp': 'Japan', 'hk': 'Hong Kong', 'fr': 'France'}"
      ]
     },
     "execution_count": 4,
     "metadata": {},
     "output_type": "execute_result"
    }
   ],
   "source": [
    "#新增\n",
    "codes['fr'] = \"France\"\n",
    "codes"
   ]
  },
  {
   "cell_type": "code",
   "execution_count": 6,
   "id": "aca33620",
   "metadata": {},
   "outputs": [
    {
     "name": "stdout",
     "output_type": "stream",
     "text": [
      "Taiwan\n",
      "Japan\n",
      "Hong Kong\n",
      "France\n"
     ]
    }
   ],
   "source": [
    "#取出值\n",
    "for item in codes:\n",
    "    print(codes[item])"
   ]
  },
  {
   "cell_type": "code",
   "execution_count": 7,
   "id": "51aaa906",
   "metadata": {},
   "outputs": [
    {
     "name": "stdout",
     "output_type": "stream",
     "text": [
      "tw\n",
      "jp\n",
      "hk\n",
      "fr\n"
     ]
    }
   ],
   "source": [
    "#dictionary有3個實體方法,keys(),values(),items()\n",
    "for item in codes.keys():\n",
    "    print(item)"
   ]
  },
  {
   "cell_type": "code",
   "execution_count": 9,
   "id": "1e9d0582",
   "metadata": {},
   "outputs": [
    {
     "name": "stdout",
     "output_type": "stream",
     "text": [
      "Taiwan\n",
      "Japan\n",
      "Hong Kong\n",
      "France\n"
     ]
    }
   ],
   "source": [
    "for item in codes.values():\n",
    "    print(item)"
   ]
  },
  {
   "cell_type": "code",
   "execution_count": 10,
   "id": "674f45bb",
   "metadata": {},
   "outputs": [
    {
     "name": "stdout",
     "output_type": "stream",
     "text": [
      "('tw', 'Taiwan')\n",
      "('jp', 'Japan')\n",
      "('hk', 'Hong Kong')\n",
      "('fr', 'France')\n"
     ]
    }
   ],
   "source": [
    "for item in codes.items():\n",
    "    print(item)"
   ]
  },
  {
   "cell_type": "code",
   "execution_count": 11,
   "id": "9d6c01cf",
   "metadata": {},
   "outputs": [
    {
     "name": "stdout",
     "output_type": "stream",
     "text": [
      "tw Taiwan\n",
      "jp Japan\n",
      "hk Hong Kong\n",
      "fr France\n"
     ]
    }
   ],
   "source": [
    "for (code,country) in codes.items():\n",
    "    print(code,country)"
   ]
  },
  {
   "cell_type": "code",
   "execution_count": 12,
   "id": "e52a69c7",
   "metadata": {},
   "outputs": [
    {
     "data": {
      "text/plain": [
       "[{'國文': 99, '英文': 85, '數學': 77, '社會': 74, '自然': 68},\n",
       " {'國文': 84, '英文': 69, '數學': 76, '社會': 75, '自然': 78},\n",
       " {'國文': 85, '英文': 89, '數學': 97, '社會': 82, '自然': 86},\n",
       " {'國文': 70, '英文': 92, '數學': 94, '社會': 66, '自然': 92},\n",
       " {'國文': 91, '英文': 89, '數學': 100, '社會': 62, '自然': 88},\n",
       " {'國文': 64, '英文': 64, '數學': 81, '社會': 74, '自然': 75},\n",
       " {'國文': 74, '英文': 94, '數學': 63, '社會': 70, '自然': 70},\n",
       " {'國文': 99, '英文': 90, '數學': 98, '社會': 89, '自然': 64},\n",
       " {'國文': 74, '英文': 68, '數學': 63, '社會': 71, '自然': 83},\n",
       " {'國文': 92, '英文': 73, '數學': 81, '社會': 95, '自然': 86},\n",
       " {'國文': 67, '英文': 61, '數學': 96, '社會': 73, '自然': 63},\n",
       " {'國文': 84, '英文': 61, '數學': 97, '社會': 60, '自然': 91},\n",
       " {'國文': 71, '英文': 60, '數學': 98, '社會': 87, '自然': 62},\n",
       " {'國文': 83, '英文': 72, '數學': 96, '社會': 81, '自然': 80},\n",
       " {'國文': 64, '英文': 60, '數學': 85, '社會': 82, '自然': 62},\n",
       " {'國文': 69, '英文': 73, '數學': 73, '社會': 76, '自然': 82},\n",
       " {'國文': 69, '英文': 99, '數學': 66, '社會': 82, '自然': 86},\n",
       " {'國文': 82, '英文': 95, '數學': 96, '社會': 87, '自然': 100},\n",
       " {'國文': 61, '英文': 73, '數學': 68, '社會': 82, '自然': 62},\n",
       " {'國文': 90, '英文': 97, '數學': 70, '社會': 79, '自然': 89},\n",
       " {'國文': 76, '英文': 74, '數學': 81, '社會': 81, '自然': 81},\n",
       " {'國文': 90, '英文': 98, '數學': 64, '社會': 80, '自然': 88},\n",
       " {'國文': 71, '英文': 65, '數學': 85, '社會': 81, '自然': 82},\n",
       " {'國文': 94, '英文': 72, '數學': 70, '社會': 77, '自然': 75},\n",
       " {'國文': 90, '英文': 66, '數學': 84, '社會': 64, '自然': 100},\n",
       " {'國文': 84, '英文': 62, '數學': 81, '社會': 75, '自然': 88},\n",
       " {'國文': 92, '英文': 63, '數學': 61, '社會': 65, '自然': 79},\n",
       " {'國文': 69, '英文': 93, '數學': 65, '社會': 73, '自然': 60},\n",
       " {'國文': 91, '英文': 75, '數學': 78, '社會': 84, '自然': 93},\n",
       " {'國文': 100, '英文': 87, '數學': 92, '社會': 68, '自然': 84},\n",
       " {'國文': 68, '英文': 94, '數學': 69, '社會': 83, '自然': 95},\n",
       " {'國文': 60, '英文': 85, '數學': 85, '社會': 79, '自然': 100},\n",
       " {'國文': 96, '英文': 88, '數學': 61, '社會': 73, '自然': 96},\n",
       " {'國文': 66, '英文': 94, '數學': 85, '社會': 96, '自然': 77},\n",
       " {'國文': 100, '英文': 84, '數學': 70, '社會': 65, '自然': 89},\n",
       " {'國文': 87, '英文': 79, '數學': 68, '社會': 100, '自然': 60},\n",
       " {'國文': 66, '英文': 87, '數學': 94, '社會': 96, '自然': 73},\n",
       " {'國文': 66, '英文': 86, '數學': 62, '社會': 78, '自然': 86},\n",
       " {'國文': 88, '英文': 90, '數學': 82, '社會': 61, '自然': 74},\n",
       " {'國文': 82, '英文': 88, '數學': 75, '社會': 72, '自然': 87},\n",
       " {'國文': 78, '英文': 60, '數學': 95, '社會': 84, '自然': 66},\n",
       " {'國文': 97, '英文': 61, '數學': 100, '社會': 80, '自然': 65},\n",
       " {'國文': 76, '英文': 77, '數學': 74, '社會': 67, '自然': 70},\n",
       " {'國文': 72, '英文': 73, '數學': 83, '社會': 98, '自然': 79},\n",
       " {'國文': 78, '英文': 81, '數學': 66, '社會': 65, '自然': 64},\n",
       " {'國文': 88, '英文': 85, '數學': 80, '社會': 93, '自然': 69},\n",
       " {'國文': 86, '英文': 94, '數學': 98, '社會': 71, '自然': 96},\n",
       " {'國文': 88, '英文': 95, '數學': 60, '社會': 63, '自然': 82},\n",
       " {'國文': 85, '英文': 79, '數學': 63, '社會': 98, '自然': 65},\n",
       " {'國文': 79, '英文': 81, '數學': 94, '社會': 87, '自然': 67}]"
      ]
     },
     "execution_count": 12,
     "metadata": {},
     "output_type": "execute_result"
    }
   ],
   "source": [
    "import random\n",
    "\n",
    "subjects = [\"國文\",\"英文\",\"數學\",\"社會\",\"自然\"]\n",
    "students = []\n",
    "for _ in range(50):\n",
    "    scores = {}\n",
    "    for subject in subjects:\n",
    "        scores[subject] = random.randint(60,100)\n",
    "    students.append(scores)\n",
    "students"
   ]
  },
  {
   "cell_type": "code",
   "execution_count": 16,
   "id": "845909d1",
   "metadata": {},
   "outputs": [
    {
     "data": {
      "text/plain": [
       "str"
      ]
     },
     "execution_count": 16,
     "metadata": {},
     "output_type": "execute_result"
    }
   ],
   "source": [
    "import requests\n",
    "url = \"https://tcgbusfs.blob.core.windows.net/dotapp/youbike/v2/youbike_immediate.json\"\n",
    "\n",
    "response = requests.get(url)\n",
    "response.text"
   ]
  },
  {
   "cell_type": "code",
   "execution_count": null,
   "id": "37d3af08",
   "metadata": {},
   "outputs": [],
   "source": []
  }
 ],
 "metadata": {
  "kernelspec": {
   "display_name": "Python 3 (ipykernel)",
   "language": "python",
   "name": "python3"
  },
  "language_info": {
   "codemirror_mode": {
    "name": "ipython",
    "version": 3
   },
   "file_extension": ".py",
   "mimetype": "text/x-python",
   "name": "python",
   "nbconvert_exporter": "python",
   "pygments_lexer": "ipython3",
   "version": "3.10.2"
  }
 },
 "nbformat": 4,
 "nbformat_minor": 5
}
