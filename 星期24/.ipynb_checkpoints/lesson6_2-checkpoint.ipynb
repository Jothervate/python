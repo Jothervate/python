{
 "cells": [
  {
   "cell_type": "code",
   "execution_count": 1,
   "id": "32bcd24d",
   "metadata": {},
   "outputs": [
    {
     "data": {
      "text/plain": [
       "{}"
      ]
     },
     "execution_count": 1,
     "metadata": {},
     "output_type": "execute_result"
    }
   ],
   "source": [
    "#dictionary\n",
    "empty_dictionary = {}\n",
    "empty_dictionary"
   ]
  },
  {
   "cell_type": "code",
   "execution_count": 9,
   "id": "776d0e4d",
   "metadata": {},
   "outputs": [
    {
     "data": {
      "text/plain": [
       "{'tw': 'Taiwan', 'jp': 'Japan', 'hk': 'Hong kong'}"
      ]
     },
     "execution_count": 9,
     "metadata": {},
     "output_type": "execute_result"
    }
   ],
   "source": [
    "codes = {'tw':'Taiwan',\n",
    "         'jp':'Japan',\n",
    "         'hk':'Hong kong'}\n",
    "codes"
   ]
  },
  {
   "cell_type": "code",
   "execution_count": 10,
   "id": "23a6b5fb",
   "metadata": {},
   "outputs": [
    {
     "data": {
      "text/plain": [
       "'Taiwan'"
      ]
     },
     "execution_count": 10,
     "metadata": {},
     "output_type": "execute_result"
    }
   ],
   "source": [
    "codes['tw']"
   ]
  },
  {
   "cell_type": "code",
   "execution_count": 12,
   "id": "179a9d65",
   "metadata": {},
   "outputs": [
    {
     "data": {
      "text/plain": [
       "{'a': 'apple', 'b': 'blue'}"
      ]
     },
     "execution_count": 12,
     "metadata": {},
     "output_type": "execute_result"
    }
   ],
   "source": [
    "words = dict([('a','apple'), ('b', 'blue')])\n",
    "words"
   ]
  },
  {
   "cell_type": "code",
   "execution_count": 16,
   "id": "282c92a7",
   "metadata": {},
   "outputs": [
    {
     "data": {
      "text/plain": [
       "{'tw': 'Taiwan', 'jp': 'Japan', 'hk': 'Hong kong'}"
      ]
     },
     "execution_count": 16,
     "metadata": {},
     "output_type": "execute_result"
    }
   ],
   "source": [
    "#更新,新增\n",
    "codes = {'tw':'Taiwan',\n",
    "         'jp':'Japan',\n",
    "         'hk':'Hong kong'}\n",
    "#新增\n",
    "codes['us'] = 'US'\n",
    "#修改\n",
    "codes['us'] = '美國'\n",
    "codes\n",
    "#刪除\n",
    "del codes['us']\n",
    "codes"
   ]
  },
  {
   "cell_type": "code",
   "execution_count": 19,
   "id": "796cd57e",
   "metadata": {},
   "outputs": [
    {
     "name": "stdout",
     "output_type": "stream",
     "text": [
      "key:tw\n",
      "value:Taiwan\n",
      "key:jp\n",
      "value:Japan\n",
      "key:hk\n",
      "value:Hong kong\n"
     ]
    }
   ],
   "source": [
    "#dictionary的方法\n",
    "#items()\n",
    "#keys()\n",
    "#values()\n",
    "codes = {'tw':'Taiwan',\n",
    "         'jp':'Japan',\n",
    "         'hk':'Hong kong'}\n",
    "for key in codes:\n",
    "    print(f'key:{key}')\n",
    "    print(f'value:{codes[key]}')"
   ]
  },
  {
   "cell_type": "code",
   "execution_count": 23,
   "id": "2a066e2a",
   "metadata": {},
   "outputs": [
    {
     "name": "stdout",
     "output_type": "stream",
     "text": [
      "tw\n",
      "Taiwan\n",
      "=========\n",
      "jp\n",
      "Japan\n",
      "=========\n",
      "hk\n",
      "Hong kong\n",
      "=========\n"
     ]
    }
   ],
   "source": [
    "for key, value in codes.items():\n",
    "    print(key)\n",
    "    print(value)\n",
    "    print(\"=========\")"
   ]
  },
  {
   "cell_type": "code",
   "execution_count": 25,
   "id": "25ddef2a",
   "metadata": {},
   "outputs": [
    {
     "name": "stdout",
     "output_type": "stream",
     "text": [
      "tw\n",
      "jp\n",
      "hk\n"
     ]
    }
   ],
   "source": [
    "for key in codes.keys():\n",
    "    print(key)"
   ]
  },
  {
   "cell_type": "code",
   "execution_count": 26,
   "id": "70df5710",
   "metadata": {},
   "outputs": [
    {
     "name": "stdout",
     "output_type": "stream",
     "text": [
      "Taiwan\n",
      "Japan\n",
      "Hong kong\n"
     ]
    }
   ],
   "source": [
    "for value in codes.values():\n",
    "    print(value)"
   ]
  },
  {
   "cell_type": "code",
   "execution_count": null,
   "id": "ac646b26",
   "metadata": {},
   "outputs": [],
   "source": [
    "# in 運算子"
   ]
  }
 ],
 "metadata": {
  "kernelspec": {
   "display_name": "Python 3 (ipykernel)",
   "language": "python",
   "name": "python3"
  },
  "language_info": {
   "codemirror_mode": {
    "name": "ipython",
    "version": 3
   },
   "file_extension": ".py",
   "mimetype": "text/x-python",
   "name": "python",
   "nbconvert_exporter": "python",
   "pygments_lexer": "ipython3",
   "version": "3.10.2"
  }
 },
 "nbformat": 4,
 "nbformat_minor": 5
}
