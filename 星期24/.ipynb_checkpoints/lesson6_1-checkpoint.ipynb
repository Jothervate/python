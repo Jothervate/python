{
 "cells": [
  {
   "cell_type": "code",
   "execution_count": 4,
   "id": "d9e8548d",
   "metadata": {},
   "outputs": [
    {
     "name": "stdout",
     "output_type": "stream",
     "text": [
      "('星期一', '星期二', '星期三', '星期四', '星期五', '星期六', '星期日')\n",
      "星期一\n",
      "星期日\n",
      "星期一\n",
      "星期二\n",
      "星期三\n",
      "星期四\n",
      "星期五\n",
      "星期六\n",
      "星期日\n"
     ]
    }
   ],
   "source": [
    "#建立tuple\n",
    "t1 = ('星期一', '星期二', '星期三', '星期四', '星期五', '星期六', '星期日')\n",
    "print(t1)\n",
    "print(t1[0])\n",
    "print(t1[6])\n",
    "\n",
    "for item in t1:\n",
    "    print(item)"
   ]
  },
  {
   "cell_type": "code",
   "execution_count": 5,
   "id": "08590536",
   "metadata": {},
   "outputs": [
    {
     "name": "stdout",
     "output_type": "stream",
     "text": [
      "['星期一', '星期二', '星期三', '星期四', '星期五', '星期六', '星期日']\n",
      "星期一\n",
      "星期日\n",
      "星期一\n",
      "星期二\n",
      "星期三\n",
      "星期四\n",
      "星期五\n",
      "星期六\n",
      "星期日\n"
     ]
    }
   ],
   "source": [
    "#建立list\n",
    "l1 = ['星期一', '星期二', '星期三', '星期四', '星期五', '星期六', '星期日']\n",
    "print(l1)\n",
    "print(l1[0])\n",
    "print(l1[6])\n",
    "\n",
    "for item in l1:\n",
    "    print(item)"
   ]
  },
  {
   "cell_type": "code",
   "execution_count": null,
   "id": "ce569234",
   "metadata": {},
   "outputs": [],
   "source": []
  }
 ],
 "metadata": {
  "kernelspec": {
   "display_name": "Python 3 (ipykernel)",
   "language": "python",
   "name": "python3"
  },
  "language_info": {
   "codemirror_mode": {
    "name": "ipython",
    "version": 3
   },
   "file_extension": ".py",
   "mimetype": "text/x-python",
   "name": "python",
   "nbconvert_exporter": "python",
   "pygments_lexer": "ipython3",
   "version": "3.10.2"
  }
 },
 "nbformat": 4,
 "nbformat_minor": 5
}
