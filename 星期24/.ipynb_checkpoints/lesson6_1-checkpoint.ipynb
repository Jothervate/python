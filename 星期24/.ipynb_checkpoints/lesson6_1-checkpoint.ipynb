{
 "cells": [
  {
   "cell_type": "code",
   "execution_count": 1,
   "id": "5979e872",
   "metadata": {},
   "outputs": [
    {
     "data": {
      "text/plain": [
       "['a', 'b', 'c', 'd']"
      ]
     },
     "execution_count": 1,
     "metadata": {},
     "output_type": "execute_result"
    }
   ],
   "source": [
    "#append()\n",
    "list1 = ['a', 'b', 'c']\n",
    "list1.append('d')\n",
    "list1"
   ]
  },
  {
   "cell_type": "code",
   "execution_count": 2,
   "id": "7fb97069",
   "metadata": {},
   "outputs": [
    {
     "data": {
      "text/plain": [
       "['a', 'b', 'c', 'd', 'e', 'f']"
      ]
     },
     "execution_count": 2,
     "metadata": {},
     "output_type": "execute_result"
    }
   ],
   "source": [
    "#extend()\n",
    "list1.extend(['e','f'])\n",
    "list1"
   ]
  },
  {
   "cell_type": "code",
   "execution_count": 3,
   "id": "ef42af70",
   "metadata": {},
   "outputs": [
    {
     "data": {
      "text/plain": [
       "['a', 'b', 'c', 'd', 'e', 'f', 'g', 'h']"
      ]
     },
     "execution_count": 3,
     "metadata": {},
     "output_type": "execute_result"
    }
   ],
   "source": [
    "# +=\n",
    "list1 += ['g','h']\n",
    "list1"
   ]
  },
  {
   "cell_type": "code",
   "execution_count": 4,
   "id": "76a3fb21",
   "metadata": {},
   "outputs": [
    {
     "data": {
      "text/plain": [
       "8"
      ]
     },
     "execution_count": 4,
     "metadata": {},
     "output_type": "execute_result"
    }
   ],
   "source": [
    "len(list1)"
   ]
  },
  {
   "cell_type": "code",
   "execution_count": 5,
   "id": "acd8f418",
   "metadata": {},
   "outputs": [
    {
     "data": {
      "text/plain": [
       "['台南', '台北', '台中', '高雄']"
      ]
     },
     "execution_count": 5,
     "metadata": {},
     "output_type": "execute_result"
    }
   ],
   "source": [
    "cities = ['台北', '台中', '高雄']\n",
    "cities.insert(0,'台南')\n",
    "cities"
   ]
  },
  {
   "cell_type": "code",
   "execution_count": 7,
   "id": "366146c5",
   "metadata": {},
   "outputs": [
    {
     "data": {
      "text/plain": [
       "['台北', '台中', '高雄', '台南']"
      ]
     },
     "execution_count": 7,
     "metadata": {},
     "output_type": "execute_result"
    }
   ],
   "source": [
    "#移除元素\n",
    "#remove()\n",
    "#pop()\n",
    "#del list[]\n",
    "cities = ['台北', '台中', '高雄', '台南', '花蓮']\n",
    "a = 5\n",
    "del a\n",
    "#a\n",
    "del cities[-1]\n",
    "cities"
   ]
  },
  {
   "cell_type": "code",
   "execution_count": 8,
   "id": "1b300380",
   "metadata": {},
   "outputs": [
    {
     "data": {
      "text/plain": [
       "['筆記電腦', '商用筆電', 'APPLE', 'ASUS']"
      ]
     },
     "execution_count": 8,
     "metadata": {},
     "output_type": "execute_result"
    }
   ],
   "source": [
    "all3c = ['筆記電腦', '商用筆電', 'APPLE', 'ASUS', 'HTC']\n",
    "all3c.remove('HTC')\n",
    "all3c"
   ]
  },
  {
   "cell_type": "code",
   "execution_count": 11,
   "id": "24128623",
   "metadata": {},
   "outputs": [
    {
     "data": {
      "text/plain": [
       "['筆記電腦', '商用筆電', 'APPLE', 'ASUS']"
      ]
     },
     "execution_count": 11,
     "metadata": {},
     "output_type": "execute_result"
    }
   ],
   "source": [
    "#pop()\n",
    "all3c = ['筆記電腦', '商用筆電', 'APPLE', 'ASUS', 'HTC']\n",
    "_ = all3c.pop()\n",
    "all3c"
   ]
  },
  {
   "cell_type": "code",
   "execution_count": 13,
   "id": "3e718454",
   "metadata": {},
   "outputs": [
    {
     "data": {
      "text/plain": [
       "['筆記電腦', 'ASUS']"
      ]
     },
     "execution_count": 13,
     "metadata": {},
     "output_type": "execute_result"
    }
   ],
   "source": [
    "#pop(index)\n",
    "_ = all3c.pop(1)\n",
    "all3c"
   ]
  },
  {
   "cell_type": "code",
   "execution_count": 15,
   "id": "374bf846",
   "metadata": {},
   "outputs": [
    {
     "data": {
      "text/plain": [
       "[9, 8, 7, 6, 5, 4, 3, 2, 1, 0]"
      ]
     },
     "execution_count": 15,
     "metadata": {},
     "output_type": "execute_result"
    }
   ],
   "source": [
    "nums = list(range(10))\n",
    "nums\n",
    "nums.reverse()\n",
    "nums"
   ]
  },
  {
   "cell_type": "code",
   "execution_count": 18,
   "id": "b7227e8e",
   "metadata": {},
   "outputs": [
    {
     "data": {
      "text/plain": [
       "['Chico', 'Groucho', 'Harpo']"
      ]
     },
     "execution_count": 18,
     "metadata": {},
     "output_type": "execute_result"
    }
   ],
   "source": [
    "#list 排序\n",
    "#list.sort() -> 改變原來的list\n",
    "#sorted() -> 內建的function,不會改變原來的list,而是傳出新的list\n",
    "\n",
    "marxes = ['Groucho', 'Chico', 'Harpo']\n",
    "sorted_marxes = sorted(marxes)\n",
    "sorted_marxes"
   ]
  },
  {
   "cell_type": "code",
   "execution_count": 19,
   "id": "cfac59a6",
   "metadata": {},
   "outputs": [
    {
     "data": {
      "text/plain": [
       "['Chico', 'Groucho', 'Harpo']"
      ]
     },
     "execution_count": 19,
     "metadata": {},
     "output_type": "execute_result"
    }
   ],
   "source": [
    "marxes = ['Groucho', 'Chico', 'Harpo']\n",
    "marxes.sort()\n",
    "marxes"
   ]
  },
  {
   "cell_type": "code",
   "execution_count": 20,
   "id": "4508701e",
   "metadata": {},
   "outputs": [
    {
     "data": {
      "text/plain": [
       "['Harpo', 'Groucho', 'Chico']"
      ]
     },
     "execution_count": 20,
     "metadata": {},
     "output_type": "execute_result"
    }
   ],
   "source": [
    "marxes = ['Groucho', 'Chico', 'Harpo']\n",
    "marxes.sort(reverse=True)\n",
    "marxes"
   ]
  },
  {
   "cell_type": "code",
   "execution_count": 21,
   "id": "6e7e80cb",
   "metadata": {},
   "outputs": [
    {
     "data": {
      "text/plain": [
       "()"
      ]
     },
     "execution_count": 21,
     "metadata": {},
     "output_type": "execute_result"
    }
   ],
   "source": [
    "#tuple是不行修改,新增,移除元素\n",
    "empty_tuple = ()\n",
    "empty_tuple"
   ]
  },
  {
   "cell_type": "code",
   "execution_count": 23,
   "id": "f124256c",
   "metadata": {},
   "outputs": [
    {
     "data": {
      "text/plain": [
       "('台北', '台中', '高雄', '台南', '花蓮')"
      ]
     },
     "execution_count": 23,
     "metadata": {},
     "output_type": "execute_result"
    }
   ],
   "source": [
    "cities = '台北', '台中', '高雄', '台南', '花蓮'\n",
    "cities"
   ]
  },
  {
   "cell_type": "code",
   "execution_count": 25,
   "id": "50d528e4",
   "metadata": {},
   "outputs": [
    {
     "data": {
      "text/plain": [
       "('台北',)"
      ]
     },
     "execution_count": 25,
     "metadata": {},
     "output_type": "execute_result"
    }
   ],
   "source": [
    "cityName = ('台北',)\n",
    "cityName"
   ]
  },
  {
   "cell_type": "code",
   "execution_count": 26,
   "id": "2bc79f9f",
   "metadata": {},
   "outputs": [
    {
     "ename": "TypeError",
     "evalue": "'tuple' object does not support item assignment",
     "output_type": "error",
     "traceback": [
      "\u001b[0;31m---------------------------------------------------------------------------\u001b[0m",
      "\u001b[0;31mTypeError\u001b[0m                                 Traceback (most recent call last)",
      "Input \u001b[0;32mIn [26]\u001b[0m, in \u001b[0;36m<module>\u001b[0;34m\u001b[0m\n\u001b[1;32m      1\u001b[0m cities \u001b[38;5;241m=\u001b[39m \u001b[38;5;124m'\u001b[39m\u001b[38;5;124m台北\u001b[39m\u001b[38;5;124m'\u001b[39m, \u001b[38;5;124m'\u001b[39m\u001b[38;5;124m台中\u001b[39m\u001b[38;5;124m'\u001b[39m, \u001b[38;5;124m'\u001b[39m\u001b[38;5;124m高雄\u001b[39m\u001b[38;5;124m'\u001b[39m, \u001b[38;5;124m'\u001b[39m\u001b[38;5;124m台南\u001b[39m\u001b[38;5;124m'\u001b[39m, \u001b[38;5;124m'\u001b[39m\u001b[38;5;124m花蓮\u001b[39m\u001b[38;5;124m'\u001b[39m\n\u001b[0;32m----> 2\u001b[0m cities[\u001b[38;5;241m0\u001b[39m] \u001b[38;5;241m=\u001b[39m \u001b[38;5;124m'\u001b[39m\u001b[38;5;124m苗栗\u001b[39m\u001b[38;5;124m'\u001b[39m\n",
      "\u001b[0;31mTypeError\u001b[0m: 'tuple' object does not support item assignment"
     ]
    }
   ],
   "source": [
    "cities = '台北', '台中', '高雄', '台南', '花蓮'\n",
    "cities[0] = '苗栗'"
   ]
  },
  {
   "cell_type": "code",
   "execution_count": null,
   "id": "96027984",
   "metadata": {},
   "outputs": [],
   "source": []
  }
 ],
 "metadata": {
  "kernelspec": {
   "display_name": "Python 3 (ipykernel)",
   "language": "python",
   "name": "python3"
  },
  "language_info": {
   "codemirror_mode": {
    "name": "ipython",
    "version": 3
   },
   "file_extension": ".py",
   "mimetype": "text/x-python",
   "name": "python",
   "nbconvert_exporter": "python",
   "pygments_lexer": "ipython3",
   "version": "3.10.2"
  }
 },
 "nbformat": 4,
 "nbformat_minor": 5
}
