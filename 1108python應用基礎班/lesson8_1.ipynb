{
 "cells": [
  {
   "cell_type": "code",
   "execution_count": 2,
   "id": "c33e01fb",
   "metadata": {},
   "outputs": [
    {
     "name": "stdout",
     "output_type": "stream",
     "text": [
      "下載成功\n"
     ]
    }
   ],
   "source": [
    "import requests\n",
    "url = 'https://od.cdc.gov.tw/eic/covid19/covid19_global_cases_and_deaths.csv'\n",
    "response = requests.get(url)\n",
    "if response.ok:\n",
    "    print(\"下載成功\")"
   ]
  },
  {
   "cell_type": "code",
   "execution_count": 7,
   "id": "7f7418d6",
   "metadata": {},
   "outputs": [
    {
     "data": {
      "text/plain": [
       "'country_ch,country_en,cases,deaths\\r\\n美國,United States,\"93,129,697\",\"1,062,796\"\\r\\n印度,India,\"44,357,546\",\"527,416\"\\r\\n法國,France,\"34,387,612\",\"153,705\"\\r\\n巴西,Brazil,\"34,311,323\",\"682,874\"\\r\\n德國,Germany,\"31,868,639\",\"146,650\"\\r\\n英國,United Kingdom,\"23,460,787\",\"187,018\"\\r\\n韓國,South Korea,\"22,449,475\",\"26,161\"\\r\\n義大利,Italy,\"21,696,242\",\"174,931\"\\r\\n俄羅斯,Russia,\"19,181,371\",\"383,686\"\\r\\n日本,Japan,\"17,554,674\",\"37,651\"\\r\\n土耳其,Turkey,\"16,671,848\",\"100,400\"\\r\\n西班牙,Spain,\"13,323,784\",\"112,246\"\\r\\n越南,Vietnam,\"11,389,268\",\"43,106\"\\r\\n澳洲,Australia,\"9,933,888\",\"13,456\"\\r\\n阿根廷,Argentina,\"9,658,391\",\"129,646\"\\r\\n荷蘭,Netherlands,\"8,377,385\",\"22,587\"\\r\\n伊朗,Iran,\"7,513,928\",\"143,505\"\\r\\n墨西哥,Mexico,\"6,977,780\",\"329,103\"\\r\\n印尼,Indonesia,\"6,323,715\",\"157,420\"\\r\\n哥倫比亞,Colombia,\"6,293,130\",\"141,406\"\\r\\n波蘭,Poland,\"6,150,576\",\"116,909\"\\r\\n葡萄牙,Portugal,\"5,399,857\",\"24,797\"\\r\\n臺灣,Taiwan,\"5,086,521\",\"9,673\"\\r\\n烏克蘭,Ukraine,\"5,035,828\",\"108,780\"\\r\\n奧地利,Austria,\"4,870,292\",\"19,357\"\\r\\n馬來西亞,Malaysia,\"4,762,552\",\"36,166\"\\r\\n希臘,Greece,\"4,654,737\",\"32,028\"\\r\\n泰國,Thailand,\"4,637,199\",\"32,081\"\\r\\n以色列,Israel,\"4,626,068\",\"11,581\"\\r\\n比利時,Belgium,\"4,471,620\",\"32,463\"\\r\\n智利,Chile,\"4,453,557\",\"60,248\"\\r\\n加拿大,Canada,\"4,135,607\",\"43,583\"\\r\\n秘魯,Peru,\"4,075,910\",\"215,379\"\\r\\n瑞士,Switzerland,\"4,029,651\",\"13,589\"\\r\\n捷克,Czech Republic,\"4,027,609\",\"40,747\"\\r\\n南非,South Africa,\"4,010,207\",\"102,066\"\\r\\n菲律賓,Philippines,\"3,860,537\",\"61,426\"\\r\\n羅馬尼亞,Romania,\"3,195,253\",\"66,547\"\\r\\n丹麥,Denmark,\"3,133,437\",\"6,920\"\\r\\n瑞典,Sweden,\"2,558,943\",\"19,682\"\\r\\n伊拉克,Iraq,\"2,456,555\",\"25,343\"\\r\\n塞爾維亞,Serbia,\"2,253,282\",\"16,561\"\\r\\n匈牙利,Hungary,\"2,021,648\",\"47,083\"\\r\\n孟加拉,Bangladesh,\"2,010,323\",\"29,316\"\\r\\n斯洛伐克,Slovakia,\"1,831,679\",\"20,338\"\\r\\n新加坡,Singapore,\"1,822,187\",\"1,584\"\\r\\n約旦,Jordan,\"1,731,549\",\"14,105\"\\r\\n喬治亞,Georgia,\"1,723,087\",\"16,883\"\\r\\n紐西蘭,New Zealand,\"1,706,294\",\"1,841\"\\r\\n愛爾蘭,Ireland,\"1,653,576\",\"7,742\"\\r\\n巴基斯坦,Pakistan,\"1,566,869\",\"30,557\"\\r\\n香港,Hong Kong,\"1,471,509\",\"9,620\"\\r\\n挪威,Norway,\"1,459,273\",\"3,908\"\\r\\n哈薩克,Kazakhstan,\"1,384,355\",\"13,681\"\\r\\n摩洛哥,Morocco,\"1,264,068\",\"16,270\"\\r\\n芬蘭,Finland,\"1,250,557\",\"5,467\"\\r\\n保加利亞,Bulgaria,\"1,236,660\",\"37,562\"\\r\\n克羅埃西亞,Croatia,\"1,207,353\",\"16,595\"\\r\\n黎巴嫩,Lebanon,\"1,205,169\",\"10,609\"\\r\\n突尼西亞,Tunisia,\"1,141,773\",\"29,209\"\\r\\n斯洛維尼亞,Slovenia,\"1,115,229\",\"6,758\"\\r\\n古巴,Cuba,\"1,110,102\",\"8,530\"\\r\\n立陶宛,Lithuania,\"1,105,680\",\"9,266\"\\r\\n玻利維亞,Bolivia,\"1,094,285\",\"22,175\"\\r\\n瓜地馬拉,Guatemala,\"1,088,280\",\"19,369\"\\r\\n哥斯大黎加,Costa Rica,\"1,040,663\",\"8,808\"\\r\\n阿拉伯聯合大公國,UAE,\"1,011,011\",\"2,341\"\\r\\n尼泊爾,Nepal,\"995,989\",\"11,994\"\\r\\n白俄羅斯,Belarus,\"994,037\",\"7,118\"\\r\\n厄瓜多,Ecuador,\"990,405\",\"35,815\"\\r\\n烏拉圭,Uruguay,\"977,305\",\"7,438\"\\r\\n巴拿馬,Panama,\"972,800\",\"8,456\"\\r\\n拉脫維亞,Latvia,\"892,641\",\"5,928\"\\r\\n沙烏地阿拉伯,Saudi Arabia,\"812,824\",\"9,280\"\\r\\n亞塞拜然,Azerbaijan,\"808,713\",\"9,793\"\\r\\n巴拉圭,Paraguay,\"714,340\",\"19,448\"\\r\\n巴勒斯坦,Palestine,\"698,384\",\"5,694\"\\r\\n巴林,Bahrain,\"670,176\",\"1,513\"\\r\\n斯里蘭卡,Sri Lanka,\"669,362\",\"16,664\"\\r\\n科威特,Kuwait,\"657,042\",\"2,563\"\\r\\n多明尼加,Dominican,\"636,416\",\"4,384\"\\r\\n緬甸,Myanmar,\"614,573\",\"19,437\"\\r\\n愛沙尼亞,Estonia,\"596,653\",\"2,647\"\\r\\n賽普勒斯,Cyprus,\"574,124\",\"1,152\"\\r\\n摩爾多瓦,Moldova,\"561,196\",\"11,693\"\\r\\n委內瑞拉,Venezuela,\"541,600\",\"5,790\"\\r\\n蒙古,Mongolia,\"526,192\",\"2,125\"\\r\\n埃及,Egypt,\"515,645\",\"24,613\"\\r\\n利比亞,Libya,\"506,654\",\"6,436\"\\r\\n衣索比亞,Ethiopia,\"493,032\",\"7,571\"\\r\\n宏都拉斯,Honduras,\"450,393\",\"10,965\"\\r\\n亞美尼亞,Armenia,\"432,274\",\"8,648\"\\r\\n卡達,Qatar,\"424,999\",681\\r\\n阿曼,Oman,\"397,574\",\"4,260\"\\r\\n波士尼亞與赫塞哥維納,Bosnia and Herzegovina,\"394,161\",\"16,004\"\\r\\n北馬其頓,North Macedonia,\"338,549\",\"9,455\"\\r\\n肯亞,Kenya,\"338,061\",\"5,673\"\\r\\n尚比亞,Zambia,\"332,527\",\"4,016\"\\r\\n阿爾巴尼亞,Albania,\"326,787\",\"3,577\"\\r\\n波札那,Botswana,\"325,850\",\"2,777\"\\r\\n盧森堡,Luxembourg,\"284,931\",\"1,114\"\\r\\n蒙特內哥羅,Montenegro,\"273,563\",\"2,768\"\\r\\n科索沃,Kosovo,\"270,143\",\"3,191\"\\r\\n阿爾及利亞,Algeria,\"269,971\",\"6,878\"\\r\\n奈及利亞,Nigeria,\"263,090\",\"3,148\"\\r\\n辛巴威,Zimbabwe,\"256,628\",\"5,592\"\\r\\n模里西斯,Mauritius,\"254,400\",\"1,020\"\\r\\n烏茲別克,Uzbekistan,\"243,666\",\"1,637\"\\r\\n中國大陸,China,\"240,651\",\"5,226\"\\r\\n莫三比克,Mozambique,\"230,009\",\"2,219\"\\r\\n汶萊,Brunei,\"215,283\",239\\r\\n寮國,Laos,\"213,370\",757\\r\\n吉爾吉斯,Kyrgyzstan,\"205,537\",\"2,991\"\\r\\n冰島,Iceland,\"204,057\",179\\r\\n阿富汗,Afghanistan,\"191,247\",\"7,768\"\\r\\n薩爾瓦多,El Salvador,\"190,818\",\"4,220\"\\r\\n馬爾地夫,Maldives,\"184,788\",307\\r\\n千里達及托巴哥,Trinidad and Tobago,\"177,408\",\"4,108\"\\r\\n烏干達,Uganda,\"169,396\",\"3,628\"\\r\\n納米比亞,Namibia,\"169,253\",\"4,065\"\\r\\n迦納,Ghana,\"168,457\",\"1,459\"\\r\\n牙買加,Jamaica,\"148,996\",\"3,239\"\\r\\n柬埔寨,Cambodia,\"137,476\",\"3,056\"\\r\\n盧安達,Rwanda,\"132,398\",\"1,466\"\\r\\n喀麥隆,Cameroon,\"120,967\",\"1,933\"\\r\\n馬爾他,Malta,\"113,870\",799\\r\\n安哥拉,Angola,\"102,636\",\"1,917\"\\r\\n巴貝多,Barbados,\"99,970\",532\\r\\n剛果民主共和國,DR Congo,\"92,588\",\"1,396\"\\r\\n塞內加爾,Senegal,\"87,920\",\"1,968\"\\r\\n馬拉威,Malawi,\"87,793\",\"2,676\"\\r\\n象牙海岸,Ivory Coast,\"86,511\",817\\r\\n蘇利南,Suriname,\"81,007\",\"1,382\"\\r\\n史瓦帝尼,Eswatini,\"73,344\",\"1,419\"\\r\\n蓋亞那,Guyana,\"70,841\",\"1,278\"\\r\\n斐濟,Fiji,\"68,083\",877\\r\\n貝里斯,Belize,\"68,032\",680\\r\\n馬達加斯加,Madagascar,\"66,615\",\"1,410\"\\r\\n蘇丹,Sudan,\"63,173\",\"4,961\"\\r\\n茅利塔尼亞,Mauritania,\"62,742\",992\\r\\n維德角,Cape Verde,\"62,294\",410\\r\\n不丹,Bhutan,\"60,898\",21\\r\\n敘利亞,Syria,\"56,902\",\"3,162\"\\r\\n蒲隆地,Burundi,\"48,975\",38\\r\\n加彭,Gabon,\"48,635\",306\\r\\n安道爾,Andorra,\"45,975\",154\\r\\n塞席爾,Seychelles,\"45,852\",168\\r\\n巴布亞紐幾內亞,Papua New Guinea,\"44,862\",664\\r\\n坦尚尼亞,Tanzania,\"38,712\",841\\r\\n多哥,Togo,\"38,386\",282\\r\\n幾內亞,Guinea,\"37,470\",447\\r\\n巴哈馬,Bahamas,\"36,996\",823\\r\\n賴索托,Lesotho,\"34,206\",704\\r\\n海地,Haiti,\"32,994\",840\\r\\n馬利,Mali,\"31,263\",739\\r\\n聖露西亞,Saint Lucia,\"28,621\",389\\r\\n貝南,Benin,\"27,316\",163\\r\\n剛果共和國,Congo,\"24,837\",386\\r\\n東帝汶,East Timor,\"23,036\",134\\r\\n索羅門群島,Solomon islands,\"21,544\",153\\r\\n布吉納法索,Burkina Faso,\"21,128\",387\\r\\n聖馬利諾,San Marino,\"20,280\",118\\r\\n格瑞那達,Grenada,\"19,208\",236\\r\\n列支敦斯登,Liechtenstein,\"19,031\",86\\r\\n索馬利亞,Somalia,\"18,863\",930\\r\\n南蘇丹,South Sudan,\"17,823\",138\\r\\n塔吉克,Tajikistan,\"17,786\",125\\r\\n赤道幾內亞,Equatorial Guinea,\"16,937\",183\\r\\n薩摩亞,Samoa,\"15,767\",29\\r\\n吉布地,Djibouti,\"15,690\",189\\r\\n尼加拉瓜,Nicaragua,\"14,899\",244\\r\\n多米尼克,Dominica,\"14,852\",68\\r\\n中非,Central Africa,\"14,803\",113\\r\\n摩納哥,Monaco,\"14,278\",57\\r\\n東加,Tonga,\"14,135\",12\\r\\n甘比亞,Gambia,\"12,311\",371\\r\\n葉門,Yemen,\"11,917\",\"2,154\"\\r\\n萬那杜,Vanuatu,\"11,764\",14\\r\\n馬紹爾群島,Marshall Islands,\"10,802\",14\\r\\n索馬利蘭,Somaliland,\"10,530\",620\\r\\n厄利垂亞,Eritrea,\"10,149\",103\\r\\n尼日,Niger,\"9,203\",312\\r\\n安地卡及巴布達,Antigua and Barbuda,\"8,895\",144\\r\\n幾內亞比索,Guinea-Bissau,\"8,482\",174\\r\\n葛摩,Comoros,\"8,425\",161\\r\\n獅子山,Sierra Leone,\"7,744\",126\\r\\n賴比瑞亞,Liberia,\"7,656\",294\\r\\n查德,Chad,\"7,489\",193\\r\\n密克羅尼西亞聯邦,Micronesia,\"7,202\",21\\r\\n聖文森及格瑞那丁,Saint Vincent and the Grenadines,\"7,106\",115\\r\\n聖克里斯多福及尼維斯,Saint Kitts and Nevis,\"6,493\",46\\r\\n庫克群島,Cook Islands,\"6,265\",1\\r\\n聖多美普林西比,Sao Tome and Principe,\"6,136\",76\\r\\n帛琉,Palau,\"5,279\",6\\r\\n諾魯,Nauru,\"4,610\",1\\r\\n吉里巴斯,Kiribati,\"3,430\",13\\r\\n澳門,Macao,793,6\\r\\n國際運輸工具(鑽石公主號),Int\\'l conveyance (Japan),741,13\\r\\n紐埃,Niue,60,0\\r\\n教廷,Holy See,29,0\\r\\n吐瓦魯,Tuvalu,8,0\\r\\n北韓,North Korea,2,1'"
      ]
     },
     "execution_count": 7,
     "metadata": {},
     "output_type": "execute_result"
    }
   ],
   "source": [
    "response.encoding = \"utf-8\"\n",
    "response.text"
   ]
  },
  {
   "cell_type": "code",
   "execution_count": 17,
   "id": "14a16515",
   "metadata": {},
   "outputs": [
    {
     "data": {
      "text/html": [
       "<div>\n",
       "<style scoped>\n",
       "    .dataframe tbody tr th:only-of-type {\n",
       "        vertical-align: middle;\n",
       "    }\n",
       "\n",
       "    .dataframe tbody tr th {\n",
       "        vertical-align: top;\n",
       "    }\n",
       "\n",
       "    .dataframe thead th {\n",
       "        text-align: right;\n",
       "    }\n",
       "</style>\n",
       "<table border=\"1\" class=\"dataframe\">\n",
       "  <thead>\n",
       "    <tr style=\"text-align: right;\">\n",
       "      <th></th>\n",
       "      <th>country</th>\n",
       "      <th>確診</th>\n",
       "      <th>死亡</th>\n",
       "    </tr>\n",
       "    <tr>\n",
       "      <th>國家</th>\n",
       "      <th></th>\n",
       "      <th></th>\n",
       "      <th></th>\n",
       "    </tr>\n",
       "  </thead>\n",
       "  <tbody>\n",
       "    <tr>\n",
       "      <th>美國</th>\n",
       "      <td>United States</td>\n",
       "      <td>93,129,697</td>\n",
       "      <td>1,062,796</td>\n",
       "    </tr>\n",
       "    <tr>\n",
       "      <th>印度</th>\n",
       "      <td>India</td>\n",
       "      <td>44,357,546</td>\n",
       "      <td>527,416</td>\n",
       "    </tr>\n",
       "    <tr>\n",
       "      <th>法國</th>\n",
       "      <td>France</td>\n",
       "      <td>34,387,612</td>\n",
       "      <td>153,705</td>\n",
       "    </tr>\n",
       "    <tr>\n",
       "      <th>巴西</th>\n",
       "      <td>Brazil</td>\n",
       "      <td>34,311,323</td>\n",
       "      <td>682,874</td>\n",
       "    </tr>\n",
       "    <tr>\n",
       "      <th>德國</th>\n",
       "      <td>Germany</td>\n",
       "      <td>31,868,639</td>\n",
       "      <td>146,650</td>\n",
       "    </tr>\n",
       "    <tr>\n",
       "      <th>...</th>\n",
       "      <td>...</td>\n",
       "      <td>...</td>\n",
       "      <td>...</td>\n",
       "    </tr>\n",
       "    <tr>\n",
       "      <th>國際運輸工具(鑽石公主號)</th>\n",
       "      <td>Int'l conveyance (Japan)</td>\n",
       "      <td>741</td>\n",
       "      <td>13</td>\n",
       "    </tr>\n",
       "    <tr>\n",
       "      <th>紐埃</th>\n",
       "      <td>Niue</td>\n",
       "      <td>60</td>\n",
       "      <td>0</td>\n",
       "    </tr>\n",
       "    <tr>\n",
       "      <th>教廷</th>\n",
       "      <td>Holy See</td>\n",
       "      <td>29</td>\n",
       "      <td>0</td>\n",
       "    </tr>\n",
       "    <tr>\n",
       "      <th>吐瓦魯</th>\n",
       "      <td>Tuvalu</td>\n",
       "      <td>8</td>\n",
       "      <td>0</td>\n",
       "    </tr>\n",
       "    <tr>\n",
       "      <th>北韓</th>\n",
       "      <td>North Korea</td>\n",
       "      <td>2</td>\n",
       "      <td>1</td>\n",
       "    </tr>\n",
       "  </tbody>\n",
       "</table>\n",
       "<p>202 rows × 3 columns</p>\n",
       "</div>"
      ],
      "text/plain": [
       "                                country          確診         死亡\n",
       "國家                                                            \n",
       "美國                        United States  93,129,697  1,062,796\n",
       "印度                                India  44,357,546    527,416\n",
       "法國                               France  34,387,612    153,705\n",
       "巴西                               Brazil  34,311,323    682,874\n",
       "德國                              Germany  31,868,639    146,650\n",
       "...                                 ...         ...        ...\n",
       "國際運輸工具(鑽石公主號)  Int'l conveyance (Japan)         741         13\n",
       "紐埃                                 Niue          60          0\n",
       "教廷                             Holy See          29          0\n",
       "吐瓦魯                              Tuvalu           8          0\n",
       "北韓                          North Korea           2          1\n",
       "\n",
       "[202 rows x 3 columns]"
      ]
     },
     "execution_count": 17,
     "metadata": {},
     "output_type": "execute_result"
    }
   ],
   "source": [
    "import csv\n",
    "import pandas as pd\n",
    "csv_reader = csv.reader(response.text.splitlines())\n",
    "df = pd.DataFrame(csv_reader)\n",
    "df=df.iloc[1:]\n",
    "df.columns = ['國家','country', '確診', '死亡']\n",
    "df.index = df['國家']\n",
    "df = df[['country','確診','死亡']]\n",
    "df"
   ]
  },
  {
   "cell_type": "code",
   "execution_count": 28,
   "id": "a47f7127",
   "metadata": {},
   "outputs": [
    {
     "data": {
      "text/html": [
       "<div>\n",
       "<style scoped>\n",
       "    .dataframe tbody tr th:only-of-type {\n",
       "        vertical-align: middle;\n",
       "    }\n",
       "\n",
       "    .dataframe tbody tr th {\n",
       "        vertical-align: top;\n",
       "    }\n",
       "\n",
       "    .dataframe thead th {\n",
       "        text-align: right;\n",
       "    }\n",
       "</style>\n",
       "<table border=\"1\" class=\"dataframe\">\n",
       "  <thead>\n",
       "    <tr style=\"text-align: right;\">\n",
       "      <th></th>\n",
       "      <th>country</th>\n",
       "      <th>確診</th>\n",
       "      <th>死亡</th>\n",
       "    </tr>\n",
       "    <tr>\n",
       "      <th>國家</th>\n",
       "      <th></th>\n",
       "      <th></th>\n",
       "      <th></th>\n",
       "    </tr>\n",
       "  </thead>\n",
       "  <tbody>\n",
       "    <tr>\n",
       "      <th>美國</th>\n",
       "      <td>United States</td>\n",
       "      <td>93,129,697</td>\n",
       "      <td>1,062,796</td>\n",
       "    </tr>\n",
       "    <tr>\n",
       "      <th>印度</th>\n",
       "      <td>India</td>\n",
       "      <td>44,357,546</td>\n",
       "      <td>527,416</td>\n",
       "    </tr>\n",
       "    <tr>\n",
       "      <th>法國</th>\n",
       "      <td>France</td>\n",
       "      <td>34,387,612</td>\n",
       "      <td>153,705</td>\n",
       "    </tr>\n",
       "    <tr>\n",
       "      <th>巴西</th>\n",
       "      <td>Brazil</td>\n",
       "      <td>34,311,323</td>\n",
       "      <td>682,874</td>\n",
       "    </tr>\n",
       "    <tr>\n",
       "      <th>德國</th>\n",
       "      <td>Germany</td>\n",
       "      <td>31,868,639</td>\n",
       "      <td>146,650</td>\n",
       "    </tr>\n",
       "    <tr>\n",
       "      <th>...</th>\n",
       "      <td>...</td>\n",
       "      <td>...</td>\n",
       "      <td>...</td>\n",
       "    </tr>\n",
       "    <tr>\n",
       "      <th>國際運輸工具(鑽石公主號)</th>\n",
       "      <td>Int'l conveyance (Japan)</td>\n",
       "      <td>741</td>\n",
       "      <td>13</td>\n",
       "    </tr>\n",
       "    <tr>\n",
       "      <th>紐埃</th>\n",
       "      <td>Niue</td>\n",
       "      <td>60</td>\n",
       "      <td>0</td>\n",
       "    </tr>\n",
       "    <tr>\n",
       "      <th>教廷</th>\n",
       "      <td>Holy See</td>\n",
       "      <td>29</td>\n",
       "      <td>0</td>\n",
       "    </tr>\n",
       "    <tr>\n",
       "      <th>吐瓦魯</th>\n",
       "      <td>Tuvalu</td>\n",
       "      <td>8</td>\n",
       "      <td>0</td>\n",
       "    </tr>\n",
       "    <tr>\n",
       "      <th>北韓</th>\n",
       "      <td>North Korea</td>\n",
       "      <td>2</td>\n",
       "      <td>1</td>\n",
       "    </tr>\n",
       "  </tbody>\n",
       "</table>\n",
       "<p>202 rows × 3 columns</p>\n",
       "</div>"
      ],
      "text/plain": [
       "                                country          確診         死亡\n",
       "國家                                                            \n",
       "美國                        United States  93,129,697  1,062,796\n",
       "印度                                India  44,357,546    527,416\n",
       "法國                               France  34,387,612    153,705\n",
       "巴西                               Brazil  34,311,323    682,874\n",
       "德國                              Germany  31,868,639    146,650\n",
       "...                                 ...         ...        ...\n",
       "國際運輸工具(鑽石公主號)  Int'l conveyance (Japan)         741         13\n",
       "紐埃                                 Niue          60          0\n",
       "教廷                             Holy See          29          0\n",
       "吐瓦魯                              Tuvalu           8          0\n",
       "北韓                          North Korea           2          1\n",
       "\n",
       "[202 rows x 3 columns]"
      ]
     },
     "execution_count": 28,
     "metadata": {},
     "output_type": "execute_result"
    }
   ],
   "source": [
    "import csv\n",
    "import pandas as pd\n",
    "csv_reader = csv.reader(response.text.splitlines())\n",
    "df = pd.DataFrame(csv_reader)\n",
    "df=df.iloc[1:]\n",
    "df.columns = ['國家','country', '確診', '死亡']\n",
    "df.set_index('國家',inplace=True)\n",
    "df"
   ]
  },
  {
   "cell_type": "code",
   "execution_count": 32,
   "id": "a8ed4860",
   "metadata": {},
   "outputs": [
    {
     "data": {
      "text/plain": [
       "0"
      ]
     },
     "execution_count": 32,
     "metadata": {},
     "output_type": "execute_result"
    }
   ],
   "source": [
    "#確診欄位沒有null\n",
    "df['確診'].isnull().sum()"
   ]
  },
  {
   "cell_type": "code",
   "execution_count": 33,
   "id": "ac17b259",
   "metadata": {},
   "outputs": [
    {
     "data": {
      "text/plain": [
       "0"
      ]
     },
     "execution_count": 33,
     "metadata": {},
     "output_type": "execute_result"
    }
   ],
   "source": [
    "#死亡欄位沒有null\n",
    "df['死亡'].isnull().sum()"
   ]
  },
  {
   "cell_type": "code",
   "execution_count": 34,
   "id": "20af456b",
   "metadata": {},
   "outputs": [
    {
     "data": {
      "text/plain": [
       "country    object\n",
       "確診         object\n",
       "死亡         object\n",
       "dtype: object"
      ]
     },
     "execution_count": 34,
     "metadata": {},
     "output_type": "execute_result"
    }
   ],
   "source": [
    "df.dtypes"
   ]
  },
  {
   "cell_type": "code",
   "execution_count": 42,
   "id": "70cce5da",
   "metadata": {},
   "outputs": [
    {
     "data": {
      "text/plain": [
       "country    object\n",
       "確診         object\n",
       "死亡         object\n",
       "dtype: object"
      ]
     },
     "execution_count": 42,
     "metadata": {},
     "output_type": "execute_result"
    }
   ],
   "source": [
    "df['確診']=df['確診'].str.replace(\",\",\"\")\n",
    "df['死亡']=df['死亡'].str.replace(\",\",\"\")\n",
    "df.dtypes"
   ]
  },
  {
   "cell_type": "code",
   "execution_count": 45,
   "id": "1f4c7ff4",
   "metadata": {},
   "outputs": [
    {
     "data": {
      "text/plain": [
       "numpy.int64"
      ]
     },
     "execution_count": 45,
     "metadata": {},
     "output_type": "execute_result"
    }
   ],
   "source": [
    "#確定可以轉換為int\n",
    "df['確診'].astype(int)['美國'].__class__"
   ]
  },
  {
   "cell_type": "code",
   "execution_count": 48,
   "id": "621d7767",
   "metadata": {},
   "outputs": [
    {
     "data": {
      "text/plain": [
       "country    object\n",
       "確診          int64\n",
       "死亡          int64\n",
       "dtype: object"
      ]
     },
     "execution_count": 48,
     "metadata": {},
     "output_type": "execute_result"
    }
   ],
   "source": [
    "df['確診'] = df['確診'].astype(int)\n",
    "df['死亡'] = df['死亡'].astype(int)\n",
    "df.dtypes"
   ]
  },
  {
   "cell_type": "code",
   "execution_count": 49,
   "id": "0c3ef889",
   "metadata": {},
   "outputs": [
    {
     "data": {
      "text/html": [
       "<div>\n",
       "<style scoped>\n",
       "    .dataframe tbody tr th:only-of-type {\n",
       "        vertical-align: middle;\n",
       "    }\n",
       "\n",
       "    .dataframe tbody tr th {\n",
       "        vertical-align: top;\n",
       "    }\n",
       "\n",
       "    .dataframe thead th {\n",
       "        text-align: right;\n",
       "    }\n",
       "</style>\n",
       "<table border=\"1\" class=\"dataframe\">\n",
       "  <thead>\n",
       "    <tr style=\"text-align: right;\">\n",
       "      <th></th>\n",
       "      <th>country</th>\n",
       "      <th>確診</th>\n",
       "      <th>死亡</th>\n",
       "    </tr>\n",
       "    <tr>\n",
       "      <th>國家</th>\n",
       "      <th></th>\n",
       "      <th></th>\n",
       "      <th></th>\n",
       "    </tr>\n",
       "  </thead>\n",
       "  <tbody>\n",
       "    <tr>\n",
       "      <th>美國</th>\n",
       "      <td>United States</td>\n",
       "      <td>93129697</td>\n",
       "      <td>1062796</td>\n",
       "    </tr>\n",
       "    <tr>\n",
       "      <th>印度</th>\n",
       "      <td>India</td>\n",
       "      <td>44357546</td>\n",
       "      <td>527416</td>\n",
       "    </tr>\n",
       "    <tr>\n",
       "      <th>法國</th>\n",
       "      <td>France</td>\n",
       "      <td>34387612</td>\n",
       "      <td>153705</td>\n",
       "    </tr>\n",
       "    <tr>\n",
       "      <th>巴西</th>\n",
       "      <td>Brazil</td>\n",
       "      <td>34311323</td>\n",
       "      <td>682874</td>\n",
       "    </tr>\n",
       "    <tr>\n",
       "      <th>德國</th>\n",
       "      <td>Germany</td>\n",
       "      <td>31868639</td>\n",
       "      <td>146650</td>\n",
       "    </tr>\n",
       "    <tr>\n",
       "      <th>...</th>\n",
       "      <td>...</td>\n",
       "      <td>...</td>\n",
       "      <td>...</td>\n",
       "    </tr>\n",
       "    <tr>\n",
       "      <th>國際運輸工具(鑽石公主號)</th>\n",
       "      <td>Int'l conveyance (Japan)</td>\n",
       "      <td>741</td>\n",
       "      <td>13</td>\n",
       "    </tr>\n",
       "    <tr>\n",
       "      <th>紐埃</th>\n",
       "      <td>Niue</td>\n",
       "      <td>60</td>\n",
       "      <td>0</td>\n",
       "    </tr>\n",
       "    <tr>\n",
       "      <th>教廷</th>\n",
       "      <td>Holy See</td>\n",
       "      <td>29</td>\n",
       "      <td>0</td>\n",
       "    </tr>\n",
       "    <tr>\n",
       "      <th>吐瓦魯</th>\n",
       "      <td>Tuvalu</td>\n",
       "      <td>8</td>\n",
       "      <td>0</td>\n",
       "    </tr>\n",
       "    <tr>\n",
       "      <th>北韓</th>\n",
       "      <td>North Korea</td>\n",
       "      <td>2</td>\n",
       "      <td>1</td>\n",
       "    </tr>\n",
       "  </tbody>\n",
       "</table>\n",
       "<p>202 rows × 3 columns</p>\n",
       "</div>"
      ],
      "text/plain": [
       "                                country        確診       死亡\n",
       "國家                                                        \n",
       "美國                        United States  93129697  1062796\n",
       "印度                                India  44357546   527416\n",
       "法國                               France  34387612   153705\n",
       "巴西                               Brazil  34311323   682874\n",
       "德國                              Germany  31868639   146650\n",
       "...                                 ...       ...      ...\n",
       "國際運輸工具(鑽石公主號)  Int'l conveyance (Japan)       741       13\n",
       "紐埃                                 Niue        60        0\n",
       "教廷                             Holy See        29        0\n",
       "吐瓦魯                              Tuvalu         8        0\n",
       "北韓                          North Korea         2        1\n",
       "\n",
       "[202 rows x 3 columns]"
      ]
     },
     "execution_count": 49,
     "metadata": {},
     "output_type": "execute_result"
    }
   ],
   "source": [
    "df"
   ]
  },
  {
   "cell_type": "code",
   "execution_count": null,
   "id": "d0b2b1d7",
   "metadata": {},
   "outputs": [],
   "source": []
  }
 ],
 "metadata": {
  "kernelspec": {
   "display_name": "Python 3 (ipykernel)",
   "language": "python",
   "name": "python3"
  },
  "language_info": {
   "codemirror_mode": {
    "name": "ipython",
    "version": 3
   },
   "file_extension": ".py",
   "mimetype": "text/x-python",
   "name": "python",
   "nbconvert_exporter": "python",
   "pygments_lexer": "ipython3",
   "version": "3.10.6"
  }
 },
 "nbformat": 4,
 "nbformat_minor": 5
}
