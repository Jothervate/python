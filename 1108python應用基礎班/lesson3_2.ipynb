{
 "cells": [
  {
   "cell_type": "code",
   "execution_count": 1,
   "id": "39f53e07",
   "metadata": {},
   "outputs": [
    {
     "data": {
      "text/plain": [
       "['姓名', '國文', '英文', '數學', '社會', '自然']"
      ]
     },
     "execution_count": 1,
     "metadata": {},
     "output_type": "execute_result"
    }
   ],
   "source": [
    "['姓名', '國文', '英文', '數學', '社會', '自然']"
   ]
  },
  {
   "cell_type": "code",
   "execution_count": 8,
   "id": "65b6afb0",
   "metadata": {},
   "outputs": [
    {
     "data": {
      "text/plain": [
       "[['姓名', '國文', '英文', '數學', '社會', '自然'],\n",
       " ['張xx', 87, 94, 74, 83, 92],\n",
       " ['李xx', 87, 65, 92, 73, 92],\n",
       " ['黃xx', 77, 95, 82, 63, 72]]"
      ]
     },
     "execution_count": 8,
     "metadata": {},
     "output_type": "execute_result"
    }
   ],
   "source": [
    "students = [['姓名', '國文', '英文', '數學', '社會', '自然'],['張xx', 87, 94, 74, 83, 92],['李xx', 87, 65, 92, 73, 92],['黃xx', 77, 95, 82, 63, 72]]\n",
    "students"
   ]
  },
  {
   "cell_type": "code",
   "execution_count": 10,
   "id": "02454b53",
   "metadata": {},
   "outputs": [
    {
     "name": "stdout",
     "output_type": "stream",
     "text": [
      "['張xx', 87, 94, 74, 83, 92]\n",
      "['李xx', 87, 65, 92, 73, 92]\n",
      "['黃xx', 77, 95, 82, 63, 72]\n"
     ]
    }
   ],
   "source": [
    "print(students[1])\n",
    "print(students[2])\n",
    "print(students[3])"
   ]
  },
  {
   "cell_type": "code",
   "execution_count": 14,
   "id": "e6707266",
   "metadata": {},
   "outputs": [
    {
     "name": "stdout",
     "output_type": "stream",
     "text": [
      "學生姓名:張xx\n",
      "學生分數:[87, 94, 74, 83, 92]\n",
      "學生姓名:李xx\n",
      "學生分數:[87, 65, 92, 73, 92]\n",
      "學生姓名:黃xx\n",
      "學生分數:[77, 95, 82, 63, 72]\n"
     ]
    }
   ],
   "source": [
    "for student in students[1:4]:\n",
    "    print(f'學生姓名:{student[0]}')\n",
    "    print(f'學生分數:{student[1:6]}')"
   ]
  },
  {
   "cell_type": "code",
   "execution_count": null,
   "id": "71776fd4",
   "metadata": {},
   "outputs": [],
   "source": []
  }
 ],
 "metadata": {
  "kernelspec": {
   "display_name": "Python 3 (ipykernel)",
   "language": "python",
   "name": "python3"
  },
  "language_info": {
   "codemirror_mode": {
    "name": "ipython",
    "version": 3
   },
   "file_extension": ".py",
   "mimetype": "text/x-python",
   "name": "python",
   "nbconvert_exporter": "python",
   "pygments_lexer": "ipython3",
   "version": "3.10.2"
  }
 },
 "nbformat": 4,
 "nbformat_minor": 5
}
