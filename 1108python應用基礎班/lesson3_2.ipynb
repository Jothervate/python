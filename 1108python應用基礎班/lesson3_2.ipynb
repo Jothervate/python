{
 "cells": [
  {
   "cell_type": "code",
   "execution_count": 1,
   "id": "d81b52e3",
   "metadata": {},
   "outputs": [
    {
     "data": {
      "text/plain": [
       "['姓名', '國文', '英文', '數學', '社會', '自然']"
      ]
     },
     "execution_count": 1,
     "metadata": {},
     "output_type": "execute_result"
    }
   ],
   "source": [
    "['姓名', '國文', '英文', '數學', '社會', '自然']"
   ]
  },
  {
   "cell_type": "code",
   "execution_count": 8,
   "id": "9ae30185",
   "metadata": {},
   "outputs": [
    {
     "data": {
      "text/plain": [
       "[['姓名', '國文', '英文', '數學', '社會', '自然'],\n",
       " ['張xx', 87, 94, 74, 83, 92],\n",
       " ['李xx', 87, 65, 92, 73, 92],\n",
       " ['黃xx', 77, 95, 82, 63, 72]]"
      ]
     },
     "execution_count": 8,
     "metadata": {},
     "output_type": "execute_result"
    }
   ],
   "source": [
    "students = [['姓名', '國文', '英文', '數學', '社會', '自然'],['張xx', 87, 94, 74, 83, 92],['李xx', 87, 65, 92, 73, 92],['黃xx', 77, 95, 82, 63, 72]]\n",
    "students"
   ]
  },
  {
   "cell_type": "code",
   "execution_count": 10,
   "id": "14e3d3c2",
   "metadata": {},
   "outputs": [
    {
     "name": "stdout",
     "output_type": "stream",
     "text": [
      "['張xx', 87, 94, 74, 83, 92]\n",
      "['李xx', 87, 65, 92, 73, 92]\n",
      "['黃xx', 77, 95, 82, 63, 72]\n"
     ]
    }
   ],
   "source": [
    "print(students[1])\n",
    "print(students[2])\n",
    "print(students[3])"
   ]
  },
  {
   "cell_type": "code",
   "execution_count": 14,
   "id": "f2a98200",
   "metadata": {},
   "outputs": [
    {
     "name": "stdout",
     "output_type": "stream",
     "text": [
      "學生姓名:張xx\n",
      "學生分數:[87, 94, 74, 83, 92]\n",
      "學生姓名:李xx\n",
      "學生分數:[87, 65, 92, 73, 92]\n",
      "學生姓名:黃xx\n",
      "學生分數:[77, 95, 82, 63, 72]\n"
     ]
    }
   ],
   "source": [
    "for student in students[1:4]:\n",
    "    print(f'學生姓名:{student[0]}')\n",
    "    print(f'學生分數:{student[1:6]}')"
   ]
  },
  {
   "cell_type": "code",
   "execution_count": 17,
   "id": "b50fa38a",
   "metadata": {},
   "outputs": [],
   "source": [
    "#存檔和讀檔\n",
    "#open()\n",
    "file = open('student.csv',mode='w',encoding='utf8')\n",
    "file.write(\n",
    "\"\"\"\n",
    "姓名, 國文, 英文, 數學, 社會, 自然\n",
    "張xx,87, 94, 74, 83, 92\n",
    "李xx,87, 65, 92, 73, 92\n",
    "黃xx,77, 95, 82, 63, 72\n",
    "\"\"\"\n",
    ")\n",
    "file.close()"
   ]
  },
  {
   "cell_type": "code",
   "execution_count": 19,
   "id": "8726ad71",
   "metadata": {},
   "outputs": [],
   "source": [
    "import csv\n",
    "file = open('student1.csv',mode='w',encoding='utf8')\n",
    "csv_writer = csv.writer(file)\n",
    "csv_writer.writerows(students)\n",
    "file.close()"
   ]
  },
  {
   "cell_type": "code",
   "execution_count": null,
   "id": "77b865da",
   "metadata": {},
   "outputs": [],
   "source": []
  }
 ],
 "metadata": {
  "kernelspec": {
   "display_name": "Python 3 (ipykernel)",
   "language": "python",
   "name": "python3"
  },
  "language_info": {
   "codemirror_mode": {
    "name": "ipython",
    "version": 3
   },
   "file_extension": ".py",
   "mimetype": "text/x-python",
   "name": "python",
   "nbconvert_exporter": "python",
   "pygments_lexer": "ipython3",
   "version": "3.10.2"
  }
 },
 "nbformat": 4,
 "nbformat_minor": 5
}
