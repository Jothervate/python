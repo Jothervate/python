{
 "cells": [
  {
   "cell_type": "code",
   "execution_count": 1,
   "id": "f2b7a9c1",
   "metadata": {},
   "outputs": [
    {
     "data": {
      "text/plain": [
       "['姓名', '國文', '英文', '數學', '社會', '自然']"
      ]
     },
     "execution_count": 1,
     "metadata": {},
     "output_type": "execute_result"
    }
   ],
   "source": [
    "['姓名', '國文', '英文', '數學', '社會', '自然']"
   ]
  },
  {
   "cell_type": "code",
   "execution_count": 8,
   "id": "c203aef8",
   "metadata": {},
   "outputs": [
    {
     "data": {
      "text/plain": [
       "[['姓名', '國文', '英文', '數學', '社會', '自然'],\n",
       " ['張xx', 87, 94, 74, 83, 92],\n",
       " ['李xx', 87, 65, 92, 73, 92],\n",
       " ['黃xx', 77, 95, 82, 63, 72]]"
      ]
     },
     "execution_count": 8,
     "metadata": {},
     "output_type": "execute_result"
    }
   ],
   "source": [
    "students = [['姓名', '國文', '英文', '數學', '社會', '自然'],['張xx', 87, 94, 74, 83, 92],['李xx', 87, 65, 92, 73, 92],['黃xx', 77, 95, 82, 63, 72]]\n",
    "students"
   ]
  },
  {
   "cell_type": "code",
   "execution_count": 10,
   "id": "cdc12cfa",
   "metadata": {},
   "outputs": [
    {
     "name": "stdout",
     "output_type": "stream",
     "text": [
      "['張xx', 87, 94, 74, 83, 92]\n",
      "['李xx', 87, 65, 92, 73, 92]\n",
      "['黃xx', 77, 95, 82, 63, 72]\n"
     ]
    }
   ],
   "source": [
    "print(students[1])\n",
    "print(students[2])\n",
    "print(students[3])"
   ]
  },
  {
   "cell_type": "code",
   "execution_count": 14,
   "id": "35968a75",
   "metadata": {},
   "outputs": [
    {
     "name": "stdout",
     "output_type": "stream",
     "text": [
      "學生姓名:張xx\n",
      "學生分數:[87, 94, 74, 83, 92]\n",
      "學生姓名:李xx\n",
      "學生分數:[87, 65, 92, 73, 92]\n",
      "學生姓名:黃xx\n",
      "學生分數:[77, 95, 82, 63, 72]\n"
     ]
    }
   ],
   "source": [
    "for student in students[1:4]:\n",
    "    print(f'學生姓名:{student[0]}')\n",
    "    print(f'學生分數:{student[1:6]}')"
   ]
  },
  {
   "cell_type": "code",
   "execution_count": 17,
   "id": "f29066ee",
   "metadata": {},
   "outputs": [],
   "source": [
    "#存檔和讀檔\n",
    "#open()\n",
    "file = open('student.csv',mode='w',encoding='utf8')\n",
    "file.write(\n",
    "\"\"\"\n",
    "姓名, 國文, 英文, 數學, 社會, 自然\n",
    "張xx,87, 94, 74, 83, 92\n",
    "李xx,87, 65, 92, 73, 92\n",
    "黃xx,77, 95, 82, 63, 72\n",
    "\"\"\"\n",
    ")\n",
    "file.close()"
   ]
  },
  {
   "cell_type": "code",
   "execution_count": 19,
   "id": "b86b505f",
   "metadata": {},
   "outputs": [],
   "source": [
    "import csv\n",
    "file = open('student1.csv',mode='w',encoding='utf8')\n",
    "csv_writer = csv.writer(file)\n",
    "csv_writer.writerows(students)\n",
    "file.close()"
   ]
  },
  {
   "cell_type": "code",
   "execution_count": 23,
   "id": "2bae7013",
   "metadata": {},
   "outputs": [
    {
     "data": {
      "text/plain": [
       "[['姓名', '國文', '英文', '數學', '社會', '自然'],\n",
       " ['張xx', 87, 94, 74, 83, 92],\n",
       " ['李xx', 87, 65, 92, 73, 92],\n",
       " ['黃xx', 77, 95, 82, 63, 72]]"
      ]
     },
     "execution_count": 23,
     "metadata": {},
     "output_type": "execute_result"
    }
   ],
   "source": [
    "students = list()\n",
    "students.append(['姓名', '國文', '英文', '數學', '社會', '自然'])\n",
    "students.append(['張xx', 87, 94, 74, 83, 92])\n",
    "students.append(['李xx', 87, 65, 92, 73, 92])\n",
    "students.append(['黃xx', 77, 95, 82, 63, 72])\n",
    "students"
   ]
  },
  {
   "cell_type": "code",
   "execution_count": 25,
   "id": "11f61d3b",
   "metadata": {},
   "outputs": [
    {
     "data": {
      "text/plain": [
       "[['姓名', '國文', '英文', '數學', '社會', '自然'],\n",
       " ['stu1', 88, 58, 98, 73, 89],\n",
       " ['stu2', 89, 97, 69, 69, 56],\n",
       " ['stu3', 89, 87, 69, 79, 83],\n",
       " ['stu4', 93, 57, 84, 89, 54],\n",
       " ['stu5', 81, 55, 86, 78, 70],\n",
       " ['stu6', 90, 71, 70, 72, 60],\n",
       " ['stu7', 93, 93, 73, 91, 57],\n",
       " ['stu8', 82, 89, 81, 99, 55],\n",
       " ['stu9', 78, 73, 59, 60, 92],\n",
       " ['stu10', 64, 53, 62, 92, 58],\n",
       " ['stu11', 100, 70, 67, 59, 79],\n",
       " ['stu12', 76, 68, 69, 59, 90],\n",
       " ['stu13', 85, 57, 71, 77, 89],\n",
       " ['stu14', 51, 89, 62, 74, 60],\n",
       " ['stu15', 58, 52, 71, 70, 73],\n",
       " ['stu16', 77, 66, 91, 85, 51],\n",
       " ['stu17', 92, 76, 52, 80, 50],\n",
       " ['stu18', 59, 93, 98, 58, 62],\n",
       " ['stu19', 82, 82, 79, 84, 71],\n",
       " ['stu20', 92, 50, 68, 84, 80],\n",
       " ['stu21', 79, 73, 93, 67, 79],\n",
       " ['stu22', 51, 62, 63, 59, 56],\n",
       " ['stu23', 74, 76, 84, 56, 86],\n",
       " ['stu24', 57, 78, 69, 95, 57],\n",
       " ['stu25', 87, 93, 90, 72, 99],\n",
       " ['stu26', 81, 87, 94, 89, 61],\n",
       " ['stu27', 83, 96, 81, 90, 81],\n",
       " ['stu28', 88, 64, 80, 100, 68],\n",
       " ['stu29', 84, 82, 56, 65, 61],\n",
       " ['stu30', 86, 78, 55, 90, 87],\n",
       " ['stu31', 70, 60, 88, 97, 95],\n",
       " ['stu32', 62, 53, 60, 55, 91],\n",
       " ['stu33', 70, 68, 98, 56, 52],\n",
       " ['stu34', 60, 82, 92, 50, 91],\n",
       " ['stu35', 91, 64, 83, 78, 68],\n",
       " ['stu36', 92, 86, 69, 83, 70],\n",
       " ['stu37', 86, 67, 77, 55, 98],\n",
       " ['stu38', 100, 88, 83, 87, 88],\n",
       " ['stu39', 63, 73, 67, 71, 98],\n",
       " ['stu40', 99, 55, 71, 99, 85],\n",
       " ['stu41', 85, 81, 74, 92, 100],\n",
       " ['stu42', 50, 99, 93, 68, 91],\n",
       " ['stu43', 95, 80, 68, 57, 91],\n",
       " ['stu44', 85, 72, 56, 77, 61],\n",
       " ['stu45', 94, 69, 73, 66, 93],\n",
       " ['stu46', 92, 96, 70, 79, 68],\n",
       " ['stu47', 71, 74, 56, 69, 92],\n",
       " ['stu48', 81, 83, 75, 99, 62],\n",
       " ['stu49', 76, 77, 98, 57, 84],\n",
       " ['stu50', 99, 65, 90, 71, 94]]"
      ]
     },
     "execution_count": 25,
     "metadata": {},
     "output_type": "execute_result"
    }
   ],
   "source": [
    "import random\n",
    "students = list()\n",
    "students.append(['姓名', '國文', '英文', '數學', '社會', '自然'])\n",
    "for i in range(1,51):\n",
    "    students.append([f'stu{i}',random.randint(50,100),random.randint(50,100),random.randint(50,100),random.randint(50,100),random.randint(50,100)])\n",
    "students"
   ]
  },
  {
   "cell_type": "code",
   "execution_count": 27,
   "id": "d9a4eaa7",
   "metadata": {},
   "outputs": [],
   "source": [
    "import csv\n",
    "\n",
    "file=open('all_students.csv',mode='w',encoding='utf-8')\n",
    "csv_writer = csv.writer(file)\n",
    "csv_writer.writerows(students)\n",
    "file.close()"
   ]
  },
  {
   "cell_type": "code",
   "execution_count": null,
   "id": "68ebc83c",
   "metadata": {},
   "outputs": [],
   "source": []
  }
 ],
 "metadata": {
  "kernelspec": {
   "display_name": "Python 3 (ipykernel)",
   "language": "python",
   "name": "python3"
  },
  "language_info": {
   "codemirror_mode": {
    "name": "ipython",
    "version": 3
   },
   "file_extension": ".py",
   "mimetype": "text/x-python",
   "name": "python",
   "nbconvert_exporter": "python",
   "pygments_lexer": "ipython3",
   "version": "3.10.2"
  }
 },
 "nbformat": 4,
 "nbformat_minor": 5
}
