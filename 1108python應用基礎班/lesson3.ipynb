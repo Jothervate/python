{
 "cells": [
  {
   "cell_type": "code",
   "execution_count": 3,
   "id": "4de9a742",
   "metadata": {},
   "outputs": [
    {
     "name": "stdout",
     "output_type": "stream",
     "text": [
      "請輸入整數,輸入'q'離開:10\n",
      "請輸入整數,輸入'q'離開:4\n",
      "請輸入整數,輸入'q'離開:3\n",
      "3的平方是:9\n",
      "請輸入整數,輸入'q'離開:111\n",
      "111的平方是:12321\n",
      "請輸入整數,輸入'q'離開:q\n",
      "程式結束\n"
     ]
    }
   ],
   "source": [
    "#輸入一個值,如果是偶數,不作任何動作,奇數輸出平方值,按'q'離開程式\n",
    "while True:\n",
    "    value = input(\"請輸入整數,輸入'q'離開:\")\n",
    "    if value == 'q':\n",
    "        break\n",
    "    number = int(value)\n",
    "    if number % 2 == 0:\n",
    "        continue\n",
    "    \n",
    "    print(f\"{number}的平方是:{number ** 2}\")\n",
    "print(\"程式結束\")"
   ]
  },
  {
   "cell_type": "code",
   "execution_count": null,
   "id": "a1c24abe",
   "metadata": {},
   "outputs": [],
   "source": []
  },
  {
   "cell_type": "code",
   "execution_count": null,
   "id": "98771844",
   "metadata": {},
   "outputs": [],
   "source": []
  }
 ],
 "metadata": {
  "kernelspec": {
   "display_name": "Python 3 (ipykernel)",
   "language": "python",
   "name": "python3"
  },
  "language_info": {
   "codemirror_mode": {
    "name": "ipython",
    "version": 3
   },
   "file_extension": ".py",
   "mimetype": "text/x-python",
   "name": "python",
   "nbconvert_exporter": "python",
   "pygments_lexer": "ipython3",
   "version": "3.10.2"
  }
 },
 "nbformat": 4,
 "nbformat_minor": 5
}
