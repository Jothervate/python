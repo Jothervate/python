{
 "cells": [
  {
   "cell_type": "code",
   "execution_count": 3,
   "id": "3583e65b",
   "metadata": {},
   "outputs": [
    {
     "data": {
      "text/plain": [
       "array([76, 92, 74, 95, 81])"
      ]
     },
     "execution_count": 3,
     "metadata": {},
     "output_type": "execute_result"
    }
   ],
   "source": [
    "import numpy as np\n",
    "student = np.array([76, 92, 74, 95, 81])\n",
    "student"
   ]
  },
  {
   "cell_type": "code",
   "execution_count": 5,
   "id": "454cf94d",
   "metadata": {},
   "outputs": [
    {
     "data": {
      "text/plain": [
       "國文    76\n",
       "英文    92\n",
       "數學    74\n",
       "社會    95\n",
       "自然    81\n",
       "dtype: int64"
      ]
     },
     "execution_count": 5,
     "metadata": {},
     "output_type": "execute_result"
    }
   ],
   "source": [
    "import pandas as pd\n",
    "student_series = pd.Series(student,index=['國文','英文','數學','社會','自然'])\n",
    "student_series"
   ]
  },
  {
   "cell_type": "code",
   "execution_count": 6,
   "id": "b2457982",
   "metadata": {},
   "outputs": [
    {
     "data": {
      "text/plain": [
       "array([76, 92, 74, 95, 81])"
      ]
     },
     "execution_count": 6,
     "metadata": {},
     "output_type": "execute_result"
    }
   ],
   "source": [
    "student_series.values"
   ]
  },
  {
   "cell_type": "code",
   "execution_count": 7,
   "id": "a42f32d7",
   "metadata": {},
   "outputs": [
    {
     "data": {
      "text/plain": [
       "Index(['國文', '英文', '數學', '社會', '自然'], dtype='object')"
      ]
     },
     "execution_count": 7,
     "metadata": {},
     "output_type": "execute_result"
    }
   ],
   "source": [
    "student_series.index"
   ]
  },
  {
   "cell_type": "code",
   "execution_count": 9,
   "id": "46ae46ac",
   "metadata": {},
   "outputs": [
    {
     "data": {
      "text/plain": [
       "{'國文': 89, '英文': 73, '數學': 98, '社會': 85, '自然': 95}"
      ]
     },
     "execution_count": 9,
     "metadata": {},
     "output_type": "execute_result"
    }
   ],
   "source": [
    "student_dict = {\"國文\":89, \"英文\":73, \"數學\":98, \"社會\":85, \"自然\":95}\n",
    "student_dict"
   ]
  },
  {
   "cell_type": "code",
   "execution_count": 10,
   "id": "e9af42e6",
   "metadata": {},
   "outputs": [
    {
     "data": {
      "text/plain": [
       "國文    89\n",
       "英文    73\n",
       "數學    98\n",
       "社會    85\n",
       "自然    95\n",
       "dtype: int64"
      ]
     },
     "execution_count": 10,
     "metadata": {},
     "output_type": "execute_result"
    }
   ],
   "source": [
    "student_s= pd.Series(student_dict)\n",
    "student_s"
   ]
  },
  {
   "cell_type": "code",
   "execution_count": 12,
   "id": "e95df96e",
   "metadata": {},
   "outputs": [
    {
     "data": {
      "text/plain": [
       "國文    165\n",
       "英文    165\n",
       "數學    172\n",
       "社會    180\n",
       "自然    176\n",
       "dtype: int64"
      ]
     },
     "execution_count": 12,
     "metadata": {},
     "output_type": "execute_result"
    }
   ],
   "source": [
    "total = student_series + student_s\n",
    "total"
   ]
  },
  {
   "cell_type": "code",
   "execution_count": 14,
   "id": "d6d82696",
   "metadata": {},
   "outputs": [
    {
     "data": {
      "text/plain": [
       "國文    82.5\n",
       "英文    82.5\n",
       "數學    86.0\n",
       "社會    90.0\n",
       "自然    88.0\n",
       "dtype: float64"
      ]
     },
     "execution_count": 14,
     "metadata": {},
     "output_type": "execute_result"
    }
   ],
   "source": [
    "total / 2"
   ]
  },
  {
   "cell_type": "code",
   "execution_count": 18,
   "id": "ccc9dd08",
   "metadata": {},
   "outputs": [
    {
     "name": "stdout",
     "output_type": "stream",
     "text": [
      "Taipei        3500\n",
      "Taoyuan       7100\n",
      "Taichung     16000\n",
      "Kaohsiung     5000\n",
      "dtype: int64\n"
     ]
    },
    {
     "data": {
      "image/png": "[encoded data removed]",
      "text/plain": [
       "<Figure size 576x360 with 1 Axes>"
      ]
     },
     "metadata": {
      "needs_background": "light"
     },
     "output_type": "display_data"
    }
   ],
   "source": [
    "import matplotlib.pyplot as plt\n",
    "import pandas as pd\n",
    "sdata = {'Taipei':3500, 'Taoyuan':7100, \"Taichung\":16000, \"Kaohsiung\":5000}\n",
    "obj_s=pd.Series(sdata)\n",
    "print(obj_s)\n",
    "\n",
    "fig=plt.figure(figsize=(8,5))\n",
    "ax1=fig.add_subplot(1,1,1)\n",
    "ax1.bar(obj_s.index, obj_s.values)\n",
    "plt.show()"
   ]
  },
  {
   "cell_type": "code",
   "execution_count": null,
   "id": "a2e86350",
   "metadata": {},
   "outputs": [],
   "source": []
  }
 ],
 "metadata": {
  "kernelspec": {
   "display_name": "Python 3 (ipykernel)",
   "language": "python",
   "name": "python3"
  },
  "language_info": {
   "codemirror_mode": {
    "name": "ipython",
    "version": 3
   },
   "file_extension": ".py",
   "mimetype": "text/x-python",
   "name": "python",
   "nbconvert_exporter": "python",
   "pygments_lexer": "ipython3",
   "version": "3.10.6"
  }
 },
 "nbformat": 4,
 "nbformat_minor": 5
}
