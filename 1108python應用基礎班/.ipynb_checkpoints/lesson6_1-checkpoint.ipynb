{
 "cells": [
  {
   "cell_type": "code",
   "execution_count": 3,
   "id": "78765f37",
   "metadata": {},
   "outputs": [
    {
     "data": {
      "text/plain": [
       "array([76, 92, 74, 95, 81])"
      ]
     },
     "execution_count": 3,
     "metadata": {},
     "output_type": "execute_result"
    }
   ],
   "source": [
    "import numpy as np\n",
    "student = np.array([76, 92, 74, 95, 81])\n",
    "student"
   ]
  },
  {
   "cell_type": "code",
   "execution_count": 5,
   "id": "5dea424f",
   "metadata": {},
   "outputs": [
    {
     "data": {
      "text/plain": [
       "國文    76\n",
       "英文    92\n",
       "數學    74\n",
       "社會    95\n",
       "自然    81\n",
       "dtype: int64"
      ]
     },
     "execution_count": 5,
     "metadata": {},
     "output_type": "execute_result"
    }
   ],
   "source": [
    "import pandas as pd\n",
    "student_series = pd.Series(student,index=['國文','英文','數學','社會','自然'])\n",
    "student_series"
   ]
  },
  {
   "cell_type": "code",
   "execution_count": 6,
   "id": "be35d4c4",
   "metadata": {},
   "outputs": [
    {
     "data": {
      "text/plain": [
       "array([76, 92, 74, 95, 81])"
      ]
     },
     "execution_count": 6,
     "metadata": {},
     "output_type": "execute_result"
    }
   ],
   "source": [
    "student_series.values"
   ]
  },
  {
   "cell_type": "code",
   "execution_count": 7,
   "id": "b98dbebc",
   "metadata": {},
   "outputs": [
    {
     "data": {
      "text/plain": [
       "Index(['國文', '英文', '數學', '社會', '自然'], dtype='object')"
      ]
     },
     "execution_count": 7,
     "metadata": {},
     "output_type": "execute_result"
    }
   ],
   "source": [
    "student_series.index"
   ]
  },
  {
   "cell_type": "code",
   "execution_count": null,
   "id": "8482e6de",
   "metadata": {},
   "outputs": [],
   "source": []
  }
 ],
 "metadata": {
  "kernelspec": {
   "display_name": "Python 3 (ipykernel)",
   "language": "python",
   "name": "python3"
  },
  "language_info": {
   "codemirror_mode": {
    "name": "ipython",
    "version": 3
   },
   "file_extension": ".py",
   "mimetype": "text/x-python",
   "name": "python",
   "nbconvert_exporter": "python",
   "pygments_lexer": "ipython3",
   "version": "3.10.6"
  }
 },
 "nbformat": 4,
 "nbformat_minor": 5
}
