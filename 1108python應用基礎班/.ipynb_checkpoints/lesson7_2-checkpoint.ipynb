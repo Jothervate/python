{
 "cells": [
  {
   "cell_type": "code",
   "execution_count": 4,
   "id": "ed65ad3a",
   "metadata": {},
   "outputs": [
    {
     "name": "stdout",
     "output_type": "stream",
     "text": [
      "<class 'pandas.core.series.Series'>\n",
      "int64\n",
      "4\n"
     ]
    }
   ],
   "source": [
    "import pandas as pd\n",
    "ser = pd.Series([4, 7, -5, 3],index=[\"d\", 'b', 'a', \"c\"])\n",
    "print(type(ser))\n",
    "print(ser.dtype)\n",
    "print(ser.count())"
   ]
  },
  {
   "cell_type": "code",
   "execution_count": 5,
   "id": "7d4dd015",
   "metadata": {},
   "outputs": [
    {
     "data": {
      "text/plain": [
       "Index(['d', 'b', 'a', 'c'], dtype='object')"
      ]
     },
     "execution_count": 5,
     "metadata": {},
     "output_type": "execute_result"
    }
   ],
   "source": [
    "#透過索引取出值,更改值\n",
    "ser.index"
   ]
  },
  {
   "cell_type": "code",
   "execution_count": 6,
   "id": "bfcd6c27",
   "metadata": {},
   "outputs": [
    {
     "data": {
      "text/plain": [
       "-5"
      ]
     },
     "execution_count": 6,
     "metadata": {},
     "output_type": "execute_result"
    }
   ],
   "source": [
    "ser['a']"
   ]
  },
  {
   "cell_type": "code",
   "execution_count": 7,
   "id": "0a4199f7",
   "metadata": {},
   "outputs": [
    {
     "data": {
      "text/plain": [
       "d    10\n",
       "b     7\n",
       "a    -5\n",
       "c     3\n",
       "dtype: int64"
      ]
     },
     "execution_count": 7,
     "metadata": {},
     "output_type": "execute_result"
    }
   ],
   "source": [
    "ser['d'] = 10\n",
    "ser"
   ]
  },
  {
   "cell_type": "code",
   "execution_count": 8,
   "id": "760f3770",
   "metadata": {},
   "outputs": [
    {
     "data": {
      "text/plain": [
       "d    10\n",
       "b     7\n",
       "a    -5\n",
       "dtype: int64"
      ]
     },
     "execution_count": 8,
     "metadata": {},
     "output_type": "execute_result"
    }
   ],
   "source": [
    "ser[['d','b','a']]"
   ]
  },
  {
   "cell_type": "code",
   "execution_count": 9,
   "id": "e46c926c",
   "metadata": {},
   "outputs": [
    {
     "data": {
      "text/plain": [
       "chiness    80\n",
       "engilis    90\n",
       "math       75\n",
       "history    65\n",
       "dtype: int64"
      ]
     },
     "execution_count": 9,
     "metadata": {},
     "output_type": "execute_result"
    }
   ],
   "source": [
    "obj2 = pd.Series([80, 90, 75, 65], index=['chiness','engilis', 'math', 'history' ])\n",
    "obj2"
   ]
  },
  {
   "cell_type": "code",
   "execution_count": 10,
   "id": "6cfe36e6",
   "metadata": {},
   "outputs": [
    {
     "data": {
      "text/plain": [
       "chiness    88.0\n",
       "engilis    99.0\n",
       "math       82.5\n",
       "history    71.5\n",
       "dtype: float64"
      ]
     },
     "execution_count": 10,
     "metadata": {},
     "output_type": "execute_result"
    }
   ],
   "source": [
    "#和純值運算\n",
    "obj2*1.1"
   ]
  },
  {
   "cell_type": "code",
   "execution_count": 11,
   "id": "50877223",
   "metadata": {},
   "outputs": [
    {
     "data": {
      "text/plain": [
       "25"
      ]
     },
     "execution_count": 11,
     "metadata": {},
     "output_type": "execute_result"
    }
   ],
   "source": [
    "\n",
    "import numpy as np\n",
    "#使用numpy內的統計\n",
    "np.ptp(obj2)"
   ]
  },
  {
   "cell_type": "code",
   "execution_count": 12,
   "id": "4721a6e0",
   "metadata": {},
   "outputs": [
    {
     "data": {
      "text/plain": [
       "77.5"
      ]
     },
     "execution_count": 12,
     "metadata": {},
     "output_type": "execute_result"
    }
   ],
   "source": [
    "np.median(obj2)"
   ]
  },
  {
   "cell_type": "code",
   "execution_count": 13,
   "id": "ac372138",
   "metadata": {},
   "outputs": [
    {
     "data": {
      "text/plain": [
       "77.5"
      ]
     },
     "execution_count": 13,
     "metadata": {},
     "output_type": "execute_result"
    }
   ],
   "source": [
    "np.mean(obj2)"
   ]
  },
  {
   "cell_type": "code",
   "execution_count": 15,
   "id": "cd1c65bb",
   "metadata": {},
   "outputs": [
    {
     "data": {
      "text/plain": [
       "chiness    80\n",
       "engilis    90\n",
       "dtype: int64"
      ]
     },
     "execution_count": 15,
     "metadata": {},
     "output_type": "execute_result"
    }
   ],
   "source": [
    "#篩選\n",
    "obj2[obj2 >= 80]"
   ]
  },
  {
   "cell_type": "code",
   "execution_count": 17,
   "id": "b4f07b58",
   "metadata": {},
   "outputs": [
    {
     "data": {
      "text/plain": [
       "True"
      ]
     },
     "execution_count": 17,
     "metadata": {},
     "output_type": "execute_result"
    }
   ],
   "source": [
    "#in運算子\n",
    "'chiness' in obj2"
   ]
  },
  {
   "cell_type": "code",
   "execution_count": 19,
   "id": "4d25f27e",
   "metadata": {},
   "outputs": [
    {
     "data": {
      "text/plain": [
       "花蓮        NaN\n",
       "高雄     5000.0\n",
       "台中    16000.0\n",
       "台北     3500.0\n",
       "dtype: float64"
      ]
     },
     "execution_count": 19,
     "metadata": {},
     "output_type": "execute_result"
    }
   ],
   "source": [
    "sdata = {'台北':3500, '桃園':71000,'台中':16000, '高雄':5000}\n",
    "obj3 = pd.Series(sdata,index=['花蓮','高雄','台中','台北'])\n",
    "obj3"
   ]
  },
  {
   "cell_type": "code",
   "execution_count": 20,
   "id": "9dc540d0",
   "metadata": {},
   "outputs": [
    {
     "data": {
      "text/plain": [
       "花蓮     True\n",
       "高雄    False\n",
       "台中    False\n",
       "台北    False\n",
       "dtype: bool"
      ]
     },
     "execution_count": 20,
     "metadata": {},
     "output_type": "execute_result"
    }
   ],
   "source": [
    "obj3.isnull()"
   ]
  },
  {
   "cell_type": "code",
   "execution_count": 21,
   "id": "e91b0e5a",
   "metadata": {},
   "outputs": [
    {
     "data": {
      "text/plain": [
       "花蓮    False\n",
       "高雄     True\n",
       "台中     True\n",
       "台北     True\n",
       "dtype: bool"
      ]
     },
     "execution_count": 21,
     "metadata": {},
     "output_type": "execute_result"
    }
   ],
   "source": [
    "obj3.notnull()"
   ]
  },
  {
   "cell_type": "code",
   "execution_count": 22,
   "id": "b0a27c5e",
   "metadata": {},
   "outputs": [
    {
     "data": {
      "text/plain": [
       "高雄     5000.0\n",
       "台中    16000.0\n",
       "台北     3500.0\n",
       "dtype: float64"
      ]
     },
     "execution_count": 22,
     "metadata": {},
     "output_type": "execute_result"
    }
   ],
   "source": [
    "#不要空的\n",
    "obj3[obj3.notnull()]"
   ]
  },
  {
   "cell_type": "code",
   "execution_count": 23,
   "id": "7e166848",
   "metadata": {},
   "outputs": [
    {
     "data": {
      "text/plain": [
       "花蓮        NaN\n",
       "高雄     5000.0\n",
       "台中    16000.0\n",
       "台北     3500.0\n",
       "dtype: float64"
      ]
     },
     "execution_count": 23,
     "metadata": {},
     "output_type": "execute_result"
    }
   ],
   "source": [
    "obj3"
   ]
  },
  {
   "cell_type": "code",
   "execution_count": 25,
   "id": "79048c2f",
   "metadata": {},
   "outputs": [],
   "source": [
    "obj3.index.name=\"縣市\""
   ]
  },
  {
   "cell_type": "code",
   "execution_count": 26,
   "id": "d353bfc0",
   "metadata": {},
   "outputs": [
    {
     "data": {
      "text/plain": [
       "縣市\n",
       "花蓮        NaN\n",
       "高雄     5000.0\n",
       "台中    16000.0\n",
       "台北     3500.0\n",
       "dtype: float64"
      ]
     },
     "execution_count": 26,
     "metadata": {},
     "output_type": "execute_result"
    }
   ],
   "source": [
    "obj3"
   ]
  },
  {
   "cell_type": "code",
   "execution_count": 27,
   "id": "1ec5ccd1",
   "metadata": {},
   "outputs": [
    {
     "data": {
      "text/html": [
       "<div>\n",
       "<style scoped>\n",
       "    .dataframe tbody tr th:only-of-type {\n",
       "        vertical-align: middle;\n",
       "    }\n",
       "\n",
       "    .dataframe tbody tr th {\n",
       "        vertical-align: top;\n",
       "    }\n",
       "\n",
       "    .dataframe thead th {\n",
       "        text-align: right;\n",
       "    }\n",
       "</style>\n",
       "<table border=\"1\" class=\"dataframe\">\n",
       "  <thead>\n",
       "    <tr style=\"text-align: right;\">\n",
       "      <th></th>\n",
       "      <th>縣市</th>\n",
       "      <th>年份</th>\n",
       "      <th>人口</th>\n",
       "    </tr>\n",
       "  </thead>\n",
       "  <tbody>\n",
       "    <tr>\n",
       "      <th>0</th>\n",
       "      <td>台北</td>\n",
       "      <td>2000</td>\n",
       "      <td>2.2</td>\n",
       "    </tr>\n",
       "    <tr>\n",
       "      <th>1</th>\n",
       "      <td>台北</td>\n",
       "      <td>2001</td>\n",
       "      <td>2.5</td>\n",
       "    </tr>\n",
       "    <tr>\n",
       "      <th>2</th>\n",
       "      <td>台北</td>\n",
       "      <td>2002</td>\n",
       "      <td>2.7</td>\n",
       "    </tr>\n",
       "    <tr>\n",
       "      <th>3</th>\n",
       "      <td>新竹</td>\n",
       "      <td>2001</td>\n",
       "      <td>1.1</td>\n",
       "    </tr>\n",
       "    <tr>\n",
       "      <th>4</th>\n",
       "      <td>新竹</td>\n",
       "      <td>2002</td>\n",
       "      <td>1.5</td>\n",
       "    </tr>\n",
       "    <tr>\n",
       "      <th>5</th>\n",
       "      <td>新竹</td>\n",
       "      <td>2003</td>\n",
       "      <td>2.0</td>\n",
       "    </tr>\n",
       "  </tbody>\n",
       "</table>\n",
       "</div>"
      ],
      "text/plain": [
       "   縣市    年份   人口\n",
       "0  台北  2000  2.2\n",
       "1  台北  2001  2.5\n",
       "2  台北  2002  2.7\n",
       "3  新竹  2001  1.1\n",
       "4  新竹  2002  1.5\n",
       "5  新竹  2003  2.0"
      ]
     },
     "execution_count": 27,
     "metadata": {},
     "output_type": "execute_result"
    }
   ],
   "source": [
    "#DataFrame\n",
    "data = {\n",
    "    '縣市':['台北','台北','台北', '新竹', '新竹', '新竹'],\n",
    "    '年份': [2000, 2001, 2002, 2001, 2002, 2003],\n",
    "    '人口': [2.2, 2.5, 2.7, 1.1, 1.5, 2.0]\n",
    "}\n",
    "\n",
    "frame=pd.DataFrame(data)\n",
    "frame"
   ]
  },
  {
   "cell_type": "code",
   "execution_count": 28,
   "id": "1b748fae",
   "metadata": {},
   "outputs": [
    {
     "data": {
      "text/html": [
       "<div>\n",
       "<style scoped>\n",
       "    .dataframe tbody tr th:only-of-type {\n",
       "        vertical-align: middle;\n",
       "    }\n",
       "\n",
       "    .dataframe tbody tr th {\n",
       "        vertical-align: top;\n",
       "    }\n",
       "\n",
       "    .dataframe thead th {\n",
       "        text-align: right;\n",
       "    }\n",
       "</style>\n",
       "<table border=\"1\" class=\"dataframe\">\n",
       "  <thead>\n",
       "    <tr style=\"text-align: right;\">\n",
       "      <th></th>\n",
       "      <th>縣市</th>\n",
       "      <th>年份</th>\n",
       "      <th>人口</th>\n",
       "    </tr>\n",
       "  </thead>\n",
       "  <tbody>\n",
       "    <tr>\n",
       "      <th>0</th>\n",
       "      <td>台北</td>\n",
       "      <td>2000</td>\n",
       "      <td>2.2</td>\n",
       "    </tr>\n",
       "    <tr>\n",
       "      <th>1</th>\n",
       "      <td>台北</td>\n",
       "      <td>2001</td>\n",
       "      <td>2.5</td>\n",
       "    </tr>\n",
       "    <tr>\n",
       "      <th>2</th>\n",
       "      <td>台北</td>\n",
       "      <td>2002</td>\n",
       "      <td>2.7</td>\n",
       "    </tr>\n",
       "    <tr>\n",
       "      <th>3</th>\n",
       "      <td>新竹</td>\n",
       "      <td>2001</td>\n",
       "      <td>1.1</td>\n",
       "    </tr>\n",
       "    <tr>\n",
       "      <th>4</th>\n",
       "      <td>新竹</td>\n",
       "      <td>2002</td>\n",
       "      <td>1.5</td>\n",
       "    </tr>\n",
       "  </tbody>\n",
       "</table>\n",
       "</div>"
      ],
      "text/plain": [
       "   縣市    年份   人口\n",
       "0  台北  2000  2.2\n",
       "1  台北  2001  2.5\n",
       "2  台北  2002  2.7\n",
       "3  新竹  2001  1.1\n",
       "4  新竹  2002  1.5"
      ]
     },
     "execution_count": 28,
     "metadata": {},
     "output_type": "execute_result"
    }
   ],
   "source": [
    "#head(),檢視前面幾筆\n",
    "frame.head()"
   ]
  },
  {
   "cell_type": "code",
   "execution_count": 30,
   "id": "12e8024e",
   "metadata": {},
   "outputs": [
    {
     "data": {
      "text/html": [
       "<div>\n",
       "<style scoped>\n",
       "    .dataframe tbody tr th:only-of-type {\n",
       "        vertical-align: middle;\n",
       "    }\n",
       "\n",
       "    .dataframe tbody tr th {\n",
       "        vertical-align: top;\n",
       "    }\n",
       "\n",
       "    .dataframe thead th {\n",
       "        text-align: right;\n",
       "    }\n",
       "</style>\n",
       "<table border=\"1\" class=\"dataframe\">\n",
       "  <thead>\n",
       "    <tr style=\"text-align: right;\">\n",
       "      <th></th>\n",
       "      <th>縣市</th>\n",
       "      <th>年份</th>\n",
       "      <th>人口</th>\n",
       "    </tr>\n",
       "  </thead>\n",
       "  <tbody>\n",
       "    <tr>\n",
       "      <th>1</th>\n",
       "      <td>台北</td>\n",
       "      <td>2001</td>\n",
       "      <td>2.5</td>\n",
       "    </tr>\n",
       "    <tr>\n",
       "      <th>2</th>\n",
       "      <td>台北</td>\n",
       "      <td>2002</td>\n",
       "      <td>2.7</td>\n",
       "    </tr>\n",
       "    <tr>\n",
       "      <th>3</th>\n",
       "      <td>新竹</td>\n",
       "      <td>2001</td>\n",
       "      <td>1.1</td>\n",
       "    </tr>\n",
       "    <tr>\n",
       "      <th>4</th>\n",
       "      <td>新竹</td>\n",
       "      <td>2002</td>\n",
       "      <td>1.5</td>\n",
       "    </tr>\n",
       "    <tr>\n",
       "      <th>5</th>\n",
       "      <td>新竹</td>\n",
       "      <td>2003</td>\n",
       "      <td>2.0</td>\n",
       "    </tr>\n",
       "  </tbody>\n",
       "</table>\n",
       "</div>"
      ],
      "text/plain": [
       "   縣市    年份   人口\n",
       "1  台北  2001  2.5\n",
       "2  台北  2002  2.7\n",
       "3  新竹  2001  1.1\n",
       "4  新竹  2002  1.5\n",
       "5  新竹  2003  2.0"
      ]
     },
     "execution_count": 30,
     "metadata": {},
     "output_type": "execute_result"
    }
   ],
   "source": [
    "frame.tail()"
   ]
  },
  {
   "cell_type": "code",
   "execution_count": 35,
   "id": "b4ace547",
   "metadata": {},
   "outputs": [
    {
     "data": {
      "text/html": [
       "<div>\n",
       "<style scoped>\n",
       "    .dataframe tbody tr th:only-of-type {\n",
       "        vertical-align: middle;\n",
       "    }\n",
       "\n",
       "    .dataframe tbody tr th {\n",
       "        vertical-align: top;\n",
       "    }\n",
       "\n",
       "    .dataframe thead th {\n",
       "        text-align: right;\n",
       "    }\n",
       "</style>\n",
       "<table border=\"1\" class=\"dataframe\">\n",
       "  <thead>\n",
       "    <tr style=\"text-align: right;\">\n",
       "      <th>欄位</th>\n",
       "      <th>年份</th>\n",
       "      <th>縣市</th>\n",
       "      <th>人口</th>\n",
       "    </tr>\n",
       "    <tr>\n",
       "      <th>索引</th>\n",
       "      <th></th>\n",
       "      <th></th>\n",
       "      <th></th>\n",
       "    </tr>\n",
       "  </thead>\n",
       "  <tbody>\n",
       "    <tr>\n",
       "      <th>one</th>\n",
       "      <td>2000</td>\n",
       "      <td>台北</td>\n",
       "      <td>2.2</td>\n",
       "    </tr>\n",
       "    <tr>\n",
       "      <th>two</th>\n",
       "      <td>2001</td>\n",
       "      <td>台北</td>\n",
       "      <td>2.5</td>\n",
       "    </tr>\n",
       "    <tr>\n",
       "      <th>three</th>\n",
       "      <td>2002</td>\n",
       "      <td>台北</td>\n",
       "      <td>2.7</td>\n",
       "    </tr>\n",
       "    <tr>\n",
       "      <th>four</th>\n",
       "      <td>2001</td>\n",
       "      <td>新竹</td>\n",
       "      <td>1.1</td>\n",
       "    </tr>\n",
       "    <tr>\n",
       "      <th>five</th>\n",
       "      <td>2002</td>\n",
       "      <td>新竹</td>\n",
       "      <td>1.5</td>\n",
       "    </tr>\n",
       "    <tr>\n",
       "      <th>six</th>\n",
       "      <td>2003</td>\n",
       "      <td>新竹</td>\n",
       "      <td>2.0</td>\n",
       "    </tr>\n",
       "  </tbody>\n",
       "</table>\n",
       "</div>"
      ],
      "text/plain": [
       "欄位       年份  縣市   人口\n",
       "索引                  \n",
       "one    2000  台北  2.2\n",
       "two    2001  台北  2.5\n",
       "three  2002  台北  2.7\n",
       "four   2001  新竹  1.1\n",
       "five   2002  新竹  1.5\n",
       "six    2003  新竹  2.0"
      ]
     },
     "execution_count": 35,
     "metadata": {},
     "output_type": "execute_result"
    }
   ],
   "source": [
    "data = {\n",
    "    '縣市':['台北','台北','台北', '新竹', '新竹', '新竹'],\n",
    "    '年份': [2000, 2001, 2002, 2001, 2002, 2003],\n",
    "    '人口': [2.2, 2.5, 2.7, 1.1, 1.5, 2.0]\n",
    "}\n",
    "frame1=pd.DataFrame(data,columns=['年份','縣市','人口'],\n",
    "                   index=['one','two','three','four','five','six'])\n",
    "frame1.index.name=\"索引\"\n",
    "frame1.columns.name=\"欄位\"\n",
    "frame1"
   ]
  },
  {
   "cell_type": "code",
   "execution_count": 36,
   "id": "9db629fd",
   "metadata": {},
   "outputs": [
    {
     "data": {
      "text/plain": [
       "索引\n",
       "one      台北\n",
       "two      台北\n",
       "three    台北\n",
       "four     新竹\n",
       "five     新竹\n",
       "six      新竹\n",
       "Name: 縣市, dtype: object"
      ]
     },
     "execution_count": 36,
     "metadata": {},
     "output_type": "execute_result"
    }
   ],
   "source": [
    "frame1['縣市']"
   ]
  },
  {
   "cell_type": "code",
   "execution_count": 37,
   "id": "69439bbf",
   "metadata": {},
   "outputs": [
    {
     "data": {
      "text/html": [
       "<div>\n",
       "<style scoped>\n",
       "    .dataframe tbody tr th:only-of-type {\n",
       "        vertical-align: middle;\n",
       "    }\n",
       "\n",
       "    .dataframe tbody tr th {\n",
       "        vertical-align: top;\n",
       "    }\n",
       "\n",
       "    .dataframe thead th {\n",
       "        text-align: right;\n",
       "    }\n",
       "</style>\n",
       "<table border=\"1\" class=\"dataframe\">\n",
       "  <thead>\n",
       "    <tr style=\"text-align: right;\">\n",
       "      <th>欄位</th>\n",
       "      <th>縣市</th>\n",
       "      <th>人口</th>\n",
       "    </tr>\n",
       "    <tr>\n",
       "      <th>索引</th>\n",
       "      <th></th>\n",
       "      <th></th>\n",
       "    </tr>\n",
       "  </thead>\n",
       "  <tbody>\n",
       "    <tr>\n",
       "      <th>one</th>\n",
       "      <td>台北</td>\n",
       "      <td>2.2</td>\n",
       "    </tr>\n",
       "    <tr>\n",
       "      <th>two</th>\n",
       "      <td>台北</td>\n",
       "      <td>2.5</td>\n",
       "    </tr>\n",
       "    <tr>\n",
       "      <th>three</th>\n",
       "      <td>台北</td>\n",
       "      <td>2.7</td>\n",
       "    </tr>\n",
       "    <tr>\n",
       "      <th>four</th>\n",
       "      <td>新竹</td>\n",
       "      <td>1.1</td>\n",
       "    </tr>\n",
       "    <tr>\n",
       "      <th>five</th>\n",
       "      <td>新竹</td>\n",
       "      <td>1.5</td>\n",
       "    </tr>\n",
       "    <tr>\n",
       "      <th>six</th>\n",
       "      <td>新竹</td>\n",
       "      <td>2.0</td>\n",
       "    </tr>\n",
       "  </tbody>\n",
       "</table>\n",
       "</div>"
      ],
      "text/plain": [
       "欄位     縣市   人口\n",
       "索引            \n",
       "one    台北  2.2\n",
       "two    台北  2.5\n",
       "three  台北  2.7\n",
       "four   新竹  1.1\n",
       "five   新竹  1.5\n",
       "six    新竹  2.0"
      ]
     },
     "execution_count": 37,
     "metadata": {},
     "output_type": "execute_result"
    }
   ],
   "source": [
    "frame1[['縣市','人口']]"
   ]
  },
  {
   "cell_type": "code",
   "execution_count": 39,
   "id": "c1124651",
   "metadata": {},
   "outputs": [
    {
     "data": {
      "text/html": [
       "<div>\n",
       "<style scoped>\n",
       "    .dataframe tbody tr th:only-of-type {\n",
       "        vertical-align: middle;\n",
       "    }\n",
       "\n",
       "    .dataframe tbody tr th {\n",
       "        vertical-align: top;\n",
       "    }\n",
       "\n",
       "    .dataframe thead th {\n",
       "        text-align: right;\n",
       "    }\n",
       "</style>\n",
       "<table border=\"1\" class=\"dataframe\">\n",
       "  <thead>\n",
       "    <tr style=\"text-align: right;\">\n",
       "      <th>欄位</th>\n",
       "      <th>年份</th>\n",
       "      <th>縣市</th>\n",
       "      <th>人口</th>\n",
       "    </tr>\n",
       "    <tr>\n",
       "      <th>索引</th>\n",
       "      <th></th>\n",
       "      <th></th>\n",
       "      <th></th>\n",
       "    </tr>\n",
       "  </thead>\n",
       "  <tbody>\n",
       "    <tr>\n",
       "      <th>one</th>\n",
       "      <td>2000</td>\n",
       "      <td>台北</td>\n",
       "      <td>2.2</td>\n",
       "    </tr>\n",
       "    <tr>\n",
       "      <th>two</th>\n",
       "      <td>2001</td>\n",
       "      <td>台北</td>\n",
       "      <td>2.5</td>\n",
       "    </tr>\n",
       "    <tr>\n",
       "      <th>three</th>\n",
       "      <td>2002</td>\n",
       "      <td>台北</td>\n",
       "      <td>2.7</td>\n",
       "    </tr>\n",
       "    <tr>\n",
       "      <th>four</th>\n",
       "      <td>2001</td>\n",
       "      <td>新竹</td>\n",
       "      <td>1.1</td>\n",
       "    </tr>\n",
       "    <tr>\n",
       "      <th>five</th>\n",
       "      <td>2002</td>\n",
       "      <td>新竹</td>\n",
       "      <td>1.5</td>\n",
       "    </tr>\n",
       "    <tr>\n",
       "      <th>six</th>\n",
       "      <td>2003</td>\n",
       "      <td>新竹</td>\n",
       "      <td>2.0</td>\n",
       "    </tr>\n",
       "  </tbody>\n",
       "</table>\n",
       "</div>"
      ],
      "text/plain": [
       "欄位       年份  縣市   人口\n",
       "索引                  \n",
       "one    2000  台北  2.2\n",
       "two    2001  台北  2.5\n",
       "three  2002  台北  2.7\n",
       "four   2001  新竹  1.1\n",
       "five   2002  新竹  1.5\n",
       "six    2003  新竹  2.0"
      ]
     },
     "execution_count": 39,
     "metadata": {},
     "output_type": "execute_result"
    }
   ],
   "source": [
    "frame1"
   ]
  },
  {
   "cell_type": "code",
   "execution_count": 44,
   "id": "143467ad",
   "metadata": {},
   "outputs": [
    {
     "data": {
      "text/html": [
       "<div>\n",
       "<style scoped>\n",
       "    .dataframe tbody tr th:only-of-type {\n",
       "        vertical-align: middle;\n",
       "    }\n",
       "\n",
       "    .dataframe tbody tr th {\n",
       "        vertical-align: top;\n",
       "    }\n",
       "\n",
       "    .dataframe thead th {\n",
       "        text-align: right;\n",
       "    }\n",
       "</style>\n",
       "<table border=\"1\" class=\"dataframe\">\n",
       "  <thead>\n",
       "    <tr style=\"text-align: right;\">\n",
       "      <th>欄位</th>\n",
       "      <th>年份</th>\n",
       "      <th>縣市</th>\n",
       "      <th>人口</th>\n",
       "    </tr>\n",
       "    <tr>\n",
       "      <th>索引</th>\n",
       "      <th></th>\n",
       "      <th></th>\n",
       "      <th></th>\n",
       "    </tr>\n",
       "  </thead>\n",
       "  <tbody>\n",
       "    <tr>\n",
       "      <th>one</th>\n",
       "      <td>2000</td>\n",
       "      <td>台北</td>\n",
       "      <td>2.2</td>\n",
       "    </tr>\n",
       "    <tr>\n",
       "      <th>two</th>\n",
       "      <td>2001</td>\n",
       "      <td>台北</td>\n",
       "      <td>2.5</td>\n",
       "    </tr>\n",
       "    <tr>\n",
       "      <th>three</th>\n",
       "      <td>2002</td>\n",
       "      <td>台北</td>\n",
       "      <td>2.7</td>\n",
       "    </tr>\n",
       "    <tr>\n",
       "      <th>four</th>\n",
       "      <td>2001</td>\n",
       "      <td>新竹</td>\n",
       "      <td>1.1</td>\n",
       "    </tr>\n",
       "    <tr>\n",
       "      <th>five</th>\n",
       "      <td>2002</td>\n",
       "      <td>新竹</td>\n",
       "      <td>1.5</td>\n",
       "    </tr>\n",
       "  </tbody>\n",
       "</table>\n",
       "</div>"
      ],
      "text/plain": [
       "欄位       年份  縣市   人口\n",
       "索引                  \n",
       "one    2000  台北  2.2\n",
       "two    2001  台北  2.5\n",
       "three  2002  台北  2.7\n",
       "four   2001  新竹  1.1\n",
       "five   2002  新竹  1.5"
      ]
     },
     "execution_count": 44,
     "metadata": {},
     "output_type": "execute_result"
    }
   ],
   "source": [
    "frame1.iloc[0:5]"
   ]
  },
  {
   "cell_type": "code",
   "execution_count": 45,
   "id": "5629a40b",
   "metadata": {},
   "outputs": [
    {
     "data": {
      "text/plain": [
       "欄位\n",
       "年份    2000\n",
       "縣市      台北\n",
       "人口     2.2\n",
       "Name: one, dtype: object"
      ]
     },
     "execution_count": 45,
     "metadata": {},
     "output_type": "execute_result"
    }
   ],
   "source": [
    "frame1.loc['one']"
   ]
  },
  {
   "cell_type": "code",
   "execution_count": 46,
   "id": "4d7d25a2",
   "metadata": {},
   "outputs": [
    {
     "data": {
      "text/html": [
       "<div>\n",
       "<style scoped>\n",
       "    .dataframe tbody tr th:only-of-type {\n",
       "        vertical-align: middle;\n",
       "    }\n",
       "\n",
       "    .dataframe tbody tr th {\n",
       "        vertical-align: top;\n",
       "    }\n",
       "\n",
       "    .dataframe thead th {\n",
       "        text-align: right;\n",
       "    }\n",
       "</style>\n",
       "<table border=\"1\" class=\"dataframe\">\n",
       "  <thead>\n",
       "    <tr style=\"text-align: right;\">\n",
       "      <th>欄位</th>\n",
       "      <th>年份</th>\n",
       "      <th>縣市</th>\n",
       "      <th>人口</th>\n",
       "    </tr>\n",
       "    <tr>\n",
       "      <th>索引</th>\n",
       "      <th></th>\n",
       "      <th></th>\n",
       "      <th></th>\n",
       "    </tr>\n",
       "  </thead>\n",
       "  <tbody>\n",
       "    <tr>\n",
       "      <th>one</th>\n",
       "      <td>2000</td>\n",
       "      <td>台北</td>\n",
       "      <td>2.2</td>\n",
       "    </tr>\n",
       "    <tr>\n",
       "      <th>three</th>\n",
       "      <td>2002</td>\n",
       "      <td>台北</td>\n",
       "      <td>2.7</td>\n",
       "    </tr>\n",
       "    <tr>\n",
       "      <th>five</th>\n",
       "      <td>2002</td>\n",
       "      <td>新竹</td>\n",
       "      <td>1.5</td>\n",
       "    </tr>\n",
       "  </tbody>\n",
       "</table>\n",
       "</div>"
      ],
      "text/plain": [
       "欄位       年份  縣市   人口\n",
       "索引                  \n",
       "one    2000  台北  2.2\n",
       "three  2002  台北  2.7\n",
       "five   2002  新竹  1.5"
      ]
     },
     "execution_count": 46,
     "metadata": {},
     "output_type": "execute_result"
    }
   ],
   "source": [
    "frame1.loc[['one','three','five']]"
   ]
  },
  {
   "cell_type": "code",
   "execution_count": 49,
   "id": "739101aa",
   "metadata": {},
   "outputs": [
    {
     "data": {
      "text/html": [
       "<div>\n",
       "<style scoped>\n",
       "    .dataframe tbody tr th:only-of-type {\n",
       "        vertical-align: middle;\n",
       "    }\n",
       "\n",
       "    .dataframe tbody tr th {\n",
       "        vertical-align: top;\n",
       "    }\n",
       "\n",
       "    .dataframe thead th {\n",
       "        text-align: right;\n",
       "    }\n",
       "</style>\n",
       "<table border=\"1\" class=\"dataframe\">\n",
       "  <thead>\n",
       "    <tr style=\"text-align: right;\">\n",
       "      <th>欄位</th>\n",
       "      <th>年份</th>\n",
       "      <th>縣市</th>\n",
       "      <th>人口</th>\n",
       "    </tr>\n",
       "    <tr>\n",
       "      <th>索引</th>\n",
       "      <th></th>\n",
       "      <th></th>\n",
       "      <th></th>\n",
       "    </tr>\n",
       "  </thead>\n",
       "  <tbody>\n",
       "    <tr>\n",
       "      <th>one</th>\n",
       "      <td>2000</td>\n",
       "      <td>台北</td>\n",
       "      <td>22.2</td>\n",
       "    </tr>\n",
       "    <tr>\n",
       "      <th>two</th>\n",
       "      <td>2001</td>\n",
       "      <td>台北</td>\n",
       "      <td>2.5</td>\n",
       "    </tr>\n",
       "    <tr>\n",
       "      <th>three</th>\n",
       "      <td>2002</td>\n",
       "      <td>台北</td>\n",
       "      <td>2.7</td>\n",
       "    </tr>\n",
       "    <tr>\n",
       "      <th>four</th>\n",
       "      <td>2001</td>\n",
       "      <td>新竹</td>\n",
       "      <td>1.1</td>\n",
       "    </tr>\n",
       "    <tr>\n",
       "      <th>five</th>\n",
       "      <td>2002</td>\n",
       "      <td>新竹</td>\n",
       "      <td>1.5</td>\n",
       "    </tr>\n",
       "    <tr>\n",
       "      <th>six</th>\n",
       "      <td>2003</td>\n",
       "      <td>新竹</td>\n",
       "      <td>2.0</td>\n",
       "    </tr>\n",
       "  </tbody>\n",
       "</table>\n",
       "</div>"
      ],
      "text/plain": [
       "欄位       年份  縣市    人口\n",
       "索引                   \n",
       "one    2000  台北  22.2\n",
       "two    2001  台北   2.5\n",
       "three  2002  台北   2.7\n",
       "four   2001  新竹   1.1\n",
       "five   2002  新竹   1.5\n",
       "six    2003  新竹   2.0"
      ]
     },
     "execution_count": 49,
     "metadata": {},
     "output_type": "execute_result"
    }
   ],
   "source": [
    "frame1.loc['one','人口'] = 22.2\n",
    "frame1"
   ]
  },
  {
   "cell_type": "code",
   "execution_count": null,
   "id": "1ad438aa",
   "metadata": {},
   "outputs": [],
   "source": []
  }
 ],
 "metadata": {
  "kernelspec": {
   "display_name": "Python 3 (ipykernel)",
   "language": "python",
   "name": "python3"
  },
  "language_info": {
   "codemirror_mode": {
    "name": "ipython",
    "version": 3
   },
   "file_extension": ".py",
   "mimetype": "text/x-python",
   "name": "python",
   "nbconvert_exporter": "python",
   "pygments_lexer": "ipython3",
   "version": "3.10.6"
  }
 },
 "nbformat": 4,
 "nbformat_minor": 5
}
