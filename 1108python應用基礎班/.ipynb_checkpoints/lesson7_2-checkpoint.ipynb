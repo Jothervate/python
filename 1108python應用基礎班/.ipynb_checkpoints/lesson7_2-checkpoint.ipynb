{
 "cells": [
  {
   "cell_type": "code",
   "execution_count": 4,
   "id": "903ddf60",
   "metadata": {},
   "outputs": [
    {
     "name": "stdout",
     "output_type": "stream",
     "text": [
      "<class 'pandas.core.series.Series'>\n",
      "int64\n",
      "4\n"
     ]
    }
   ],
   "source": [
    "import pandas as pd\n",
    "ser = pd.Series([4, 7, -5, 3],index=[\"d\", 'b', 'a', \"c\"])\n",
    "print(type(ser))\n",
    "print(ser.dtype)\n",
    "print(ser.count())"
   ]
  },
  {
   "cell_type": "code",
   "execution_count": 5,
   "id": "6849b1a0",
   "metadata": {},
   "outputs": [
    {
     "data": {
      "text/plain": [
       "Index(['d', 'b', 'a', 'c'], dtype='object')"
      ]
     },
     "execution_count": 5,
     "metadata": {},
     "output_type": "execute_result"
    }
   ],
   "source": [
    "#透過索引取出值,更改值\n",
    "ser.index"
   ]
  },
  {
   "cell_type": "code",
   "execution_count": 6,
   "id": "5143ee6e",
   "metadata": {},
   "outputs": [
    {
     "data": {
      "text/plain": [
       "-5"
      ]
     },
     "execution_count": 6,
     "metadata": {},
     "output_type": "execute_result"
    }
   ],
   "source": [
    "ser['a']"
   ]
  },
  {
   "cell_type": "code",
   "execution_count": 7,
   "id": "b7fffe2b",
   "metadata": {},
   "outputs": [
    {
     "data": {
      "text/plain": [
       "d    10\n",
       "b     7\n",
       "a    -5\n",
       "c     3\n",
       "dtype: int64"
      ]
     },
     "execution_count": 7,
     "metadata": {},
     "output_type": "execute_result"
    }
   ],
   "source": [
    "ser['d'] = 10\n",
    "ser"
   ]
  },
  {
   "cell_type": "code",
   "execution_count": 8,
   "id": "4c0cc918",
   "metadata": {},
   "outputs": [
    {
     "data": {
      "text/plain": [
       "d    10\n",
       "b     7\n",
       "a    -5\n",
       "dtype: int64"
      ]
     },
     "execution_count": 8,
     "metadata": {},
     "output_type": "execute_result"
    }
   ],
   "source": [
    "ser[['d','b','a']]"
   ]
  },
  {
   "cell_type": "code",
   "execution_count": 9,
   "id": "861511fb",
   "metadata": {},
   "outputs": [
    {
     "data": {
      "text/plain": [
       "chiness    80\n",
       "engilis    90\n",
       "math       75\n",
       "history    65\n",
       "dtype: int64"
      ]
     },
     "execution_count": 9,
     "metadata": {},
     "output_type": "execute_result"
    }
   ],
   "source": [
    "obj2 = pd.Series([80, 90, 75, 65], index=['chiness','engilis', 'math', 'history' ])\n",
    "obj2"
   ]
  },
  {
   "cell_type": "code",
   "execution_count": 10,
   "id": "5f03840f",
   "metadata": {},
   "outputs": [
    {
     "data": {
      "text/plain": [
       "chiness    88.0\n",
       "engilis    99.0\n",
       "math       82.5\n",
       "history    71.5\n",
       "dtype: float64"
      ]
     },
     "execution_count": 10,
     "metadata": {},
     "output_type": "execute_result"
    }
   ],
   "source": [
    "#和純值運算\n",
    "obj2*1.1"
   ]
  },
  {
   "cell_type": "code",
   "execution_count": 11,
   "id": "cca93d97",
   "metadata": {},
   "outputs": [
    {
     "data": {
      "text/plain": [
       "25"
      ]
     },
     "execution_count": 11,
     "metadata": {},
     "output_type": "execute_result"
    }
   ],
   "source": [
    "\n",
    "import numpy as np\n",
    "#使用numpy內的統計\n",
    "np.ptp(obj2)"
   ]
  },
  {
   "cell_type": "code",
   "execution_count": 12,
   "id": "8b6befcb",
   "metadata": {},
   "outputs": [
    {
     "data": {
      "text/plain": [
       "77.5"
      ]
     },
     "execution_count": 12,
     "metadata": {},
     "output_type": "execute_result"
    }
   ],
   "source": [
    "np.median(obj2)"
   ]
  },
  {
   "cell_type": "code",
   "execution_count": 13,
   "id": "1f5c88b7",
   "metadata": {},
   "outputs": [
    {
     "data": {
      "text/plain": [
       "77.5"
      ]
     },
     "execution_count": 13,
     "metadata": {},
     "output_type": "execute_result"
    }
   ],
   "source": [
    "np.mean(obj2)"
   ]
  },
  {
   "cell_type": "code",
   "execution_count": 15,
   "id": "ad1fc1af",
   "metadata": {},
   "outputs": [
    {
     "data": {
      "text/plain": [
       "chiness    80\n",
       "engilis    90\n",
       "dtype: int64"
      ]
     },
     "execution_count": 15,
     "metadata": {},
     "output_type": "execute_result"
    }
   ],
   "source": [
    "#篩選\n",
    "obj2[obj2 >= 80]"
   ]
  },
  {
   "cell_type": "code",
   "execution_count": 17,
   "id": "32632bcb",
   "metadata": {},
   "outputs": [
    {
     "data": {
      "text/plain": [
       "True"
      ]
     },
     "execution_count": 17,
     "metadata": {},
     "output_type": "execute_result"
    }
   ],
   "source": [
    "#in運算子\n",
    "'chiness' in obj2"
   ]
  },
  {
   "cell_type": "code",
   "execution_count": 19,
   "id": "e8b74704",
   "metadata": {},
   "outputs": [
    {
     "data": {
      "text/plain": [
       "花蓮        NaN\n",
       "高雄     5000.0\n",
       "台中    16000.0\n",
       "台北     3500.0\n",
       "dtype: float64"
      ]
     },
     "execution_count": 19,
     "metadata": {},
     "output_type": "execute_result"
    }
   ],
   "source": [
    "sdata = {'台北':3500, '桃園':71000,'台中':16000, '高雄':5000}\n",
    "obj3 = pd.Series(sdata,index=['花蓮','高雄','台中','台北'])\n",
    "obj3"
   ]
  },
  {
   "cell_type": "code",
   "execution_count": 20,
   "id": "0bc00813",
   "metadata": {},
   "outputs": [
    {
     "data": {
      "text/plain": [
       "花蓮     True\n",
       "高雄    False\n",
       "台中    False\n",
       "台北    False\n",
       "dtype: bool"
      ]
     },
     "execution_count": 20,
     "metadata": {},
     "output_type": "execute_result"
    }
   ],
   "source": [
    "obj3.isnull()"
   ]
  },
  {
   "cell_type": "code",
   "execution_count": 21,
   "id": "aa519b67",
   "metadata": {},
   "outputs": [
    {
     "data": {
      "text/plain": [
       "花蓮    False\n",
       "高雄     True\n",
       "台中     True\n",
       "台北     True\n",
       "dtype: bool"
      ]
     },
     "execution_count": 21,
     "metadata": {},
     "output_type": "execute_result"
    }
   ],
   "source": [
    "obj3.notnull()"
   ]
  },
  {
   "cell_type": "code",
   "execution_count": 22,
   "id": "fd10b812",
   "metadata": {},
   "outputs": [
    {
     "data": {
      "text/plain": [
       "高雄     5000.0\n",
       "台中    16000.0\n",
       "台北     3500.0\n",
       "dtype: float64"
      ]
     },
     "execution_count": 22,
     "metadata": {},
     "output_type": "execute_result"
    }
   ],
   "source": [
    "#不要空的\n",
    "obj3[obj3.notnull()]"
   ]
  },
  {
   "cell_type": "code",
   "execution_count": null,
   "id": "5fcb39b3",
   "metadata": {},
   "outputs": [],
   "source": []
  }
 ],
 "metadata": {
  "kernelspec": {
   "display_name": "Python 3 (ipykernel)",
   "language": "python",
   "name": "python3"
  },
  "language_info": {
   "codemirror_mode": {
    "name": "ipython",
    "version": 3
   },
   "file_extension": ".py",
   "mimetype": "text/x-python",
   "name": "python",
   "nbconvert_exporter": "python",
   "pygments_lexer": "ipython3",
   "version": "3.10.6"
  }
 },
 "nbformat": 4,
 "nbformat_minor": 5
}
