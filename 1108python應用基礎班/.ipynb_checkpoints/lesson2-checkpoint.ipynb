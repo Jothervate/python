{
 "cells": [
  {
   "cell_type": "code",
   "execution_count": 3,
   "id": "8be40c34",
   "metadata": {},
   "outputs": [
    {
     "data": {
      "text/plain": [
       "15"
      ]
     },
     "execution_count": 3,
     "metadata": {},
     "output_type": "execute_result"
    }
   ],
   "source": [
    "n = 10\n",
    "n = n + 5\n",
    "m"
   ]
  },
  {
   "cell_type": "code",
   "execution_count": 4,
   "id": "da2ef4e2",
   "metadata": {},
   "outputs": [
    {
     "data": {
      "text/plain": [
       "15"
      ]
     },
     "execution_count": 4,
     "metadata": {},
     "output_type": "execute_result"
    }
   ],
   "source": [
    "m = 10\n",
    "m += 5\n",
    "m"
   ]
  },
  {
   "cell_type": "code",
   "execution_count": 5,
   "id": "8661ae89",
   "metadata": {},
   "outputs": [
    {
     "data": {
      "text/plain": [
       "100"
      ]
     },
     "execution_count": 5,
     "metadata": {},
     "output_type": "execute_result"
    }
   ],
   "source": [
    "x = 10 \n",
    "x *= 10\n",
    "x"
   ]
  },
  {
   "cell_type": "code",
   "execution_count": 6,
   "id": "96492e1a",
   "metadata": {},
   "outputs": [
    {
     "name": "stdout",
     "output_type": "stream",
     "text": [
      "請輸入第一個數:56\n",
      "請輸入第二個數:87\n",
      "請輸入第三個數:32\n",
      "3數相加後175\n"
     ]
    }
   ],
   "source": [
    "#複合指定運算子\n",
    "total = 0\n",
    "n = eval(input('請輸入第一個數:'))\n",
    "total += n\n",
    "\n",
    "n = eval(input('請輸入第二個數:'))\n",
    "total += n\n",
    "\n",
    "n = eval(input('請輸入第三個數:'))\n",
    "total += n\n",
    "\n",
    "print(f\"3數相加後{total}\")"
   ]
  },
  {
   "cell_type": "code",
   "execution_count": 9,
   "id": "2115b0fb",
   "metadata": {},
   "outputs": [
    {
     "name": "stdout",
     "output_type": "stream",
     "text": [
      "請輸入一個數值50\n",
      "您的數值>80 或者<60\n"
     ]
    }
   ],
   "source": [
    "#2個條件\n",
    "#60~80\n",
    "value = eval(input(\"請輸入一個數值\"))\n",
    "if value >= 60 and value <= 80:\n",
    "    print(f\"您輸入的數值是{value}\")\n",
    "    print(\"60~80\")\n",
    "else:\n",
    "    print(\"您的數值>80 或者<60\")"
   ]
  },
  {
   "cell_type": "code",
   "execution_count": 12,
   "id": "426455a1",
   "metadata": {},
   "outputs": [
    {
     "name": "stdout",
     "output_type": "stream",
     "text": [
      "請輸入國文分數:99\n",
      "請輸入數學分數:99\n",
      "獎金:0\n"
     ]
    }
   ],
   "source": [
    "chinese = eval(input(\"請輸入國文分數:\"))\n",
    "math = eval(input(\"請輸入數學分數:\"))\n",
    "\n",
    "if chinese == 100 and math == 100:\n",
    "    bonus = 1000\n",
    "elif chinese == 100 or math == 100:\n",
    "    bonus = 500\n",
    "else:\n",
    "    bonus = 0\n",
    "\n",
    "print(f\"獎金:{bonus}\")    "
   ]
  },
  {
   "cell_type": "code",
   "execution_count": null,
   "id": "633a5931",
   "metadata": {},
   "outputs": [],
   "source": []
  },
  {
   "cell_type": "code",
   "execution_count": null,
   "id": "640adc27",
   "metadata": {},
   "outputs": [],
   "source": []
  }
 ],
 "metadata": {
  "kernelspec": {
   "display_name": "Python 3 (ipykernel)",
   "language": "python",
   "name": "python3"
  },
  "language_info": {
   "codemirror_mode": {
    "name": "ipython",
    "version": 3
   },
   "file_extension": ".py",
   "mimetype": "text/x-python",
   "name": "python",
   "nbconvert_exporter": "python",
   "pygments_lexer": "ipython3",
   "version": "3.10.2"
  }
 },
 "nbformat": 4,
 "nbformat_minor": 5
}
