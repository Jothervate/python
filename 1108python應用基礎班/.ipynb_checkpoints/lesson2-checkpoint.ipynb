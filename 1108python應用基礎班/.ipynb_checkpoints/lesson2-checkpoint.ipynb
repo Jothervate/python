{
 "cells": [
  {
   "cell_type": "code",
   "execution_count": 3,
   "id": "f79f838c",
   "metadata": {},
   "outputs": [
    {
     "data": {
      "text/plain": [
       "15"
      ]
     },
     "execution_count": 3,
     "metadata": {},
     "output_type": "execute_result"
    }
   ],
   "source": [
    "n = 10\n",
    "n = n + 5\n",
    "m"
   ]
  },
  {
   "cell_type": "code",
   "execution_count": 4,
   "id": "535fa93a",
   "metadata": {},
   "outputs": [
    {
     "data": {
      "text/plain": [
       "15"
      ]
     },
     "execution_count": 4,
     "metadata": {},
     "output_type": "execute_result"
    }
   ],
   "source": [
    "m = 10\n",
    "m += 5\n",
    "m"
   ]
  },
  {
   "cell_type": "code",
   "execution_count": 5,
   "id": "bb0a0751",
   "metadata": {},
   "outputs": [
    {
     "data": {
      "text/plain": [
       "100"
      ]
     },
     "execution_count": 5,
     "metadata": {},
     "output_type": "execute_result"
    }
   ],
   "source": [
    "x = 10 \n",
    "x *= 10\n",
    "x"
   ]
  },
  {
   "cell_type": "code",
   "execution_count": 6,
   "id": "7d745c15",
   "metadata": {},
   "outputs": [
    {
     "name": "stdout",
     "output_type": "stream",
     "text": [
      "請輸入第一個數:56\n",
      "請輸入第二個數:87\n",
      "請輸入第三個數:32\n",
      "3數相加後175\n"
     ]
    }
   ],
   "source": [
    "#複合指定運算子\n",
    "total = 0\n",
    "n = eval(input('請輸入第一個數:'))\n",
    "total += n\n",
    "\n",
    "n = eval(input('請輸入第二個數:'))\n",
    "total += n\n",
    "\n",
    "n = eval(input('請輸入第三個數:'))\n",
    "total += n\n",
    "\n",
    "print(f\"3數相加後{total}\")"
   ]
  },
  {
   "cell_type": "code",
   "execution_count": 9,
   "id": "399f32e1",
   "metadata": {},
   "outputs": [
    {
     "name": "stdout",
     "output_type": "stream",
     "text": [
      "請輸入一個數值50\n",
      "您的數值>80 或者<60\n"
     ]
    }
   ],
   "source": [
    "#2個條件\n",
    "#60~80\n",
    "value = eval(input(\"請輸入一個數值\"))\n",
    "if value >= 60 and value <= 80:\n",
    "    print(f\"您輸入的數值是{value}\")\n",
    "    print(\"60~80\")\n",
    "else:\n",
    "    print(\"您的數值>80 或者<60\")"
   ]
  },
  {
   "cell_type": "code",
   "execution_count": 12,
   "id": "8be89a19",
   "metadata": {},
   "outputs": [
    {
     "name": "stdout",
     "output_type": "stream",
     "text": [
      "請輸入國文分數:99\n",
      "請輸入數學分數:99\n",
      "獎金:0\n"
     ]
    }
   ],
   "source": [
    "chinese = eval(input(\"請輸入國文分數:\"))\n",
    "math = eval(input(\"請輸入數學分數:\"))\n",
    "\n",
    "if chinese == 100 and math == 100:\n",
    "    bonus = 1000\n",
    "elif chinese == 100 or math == 100:\n",
    "    bonus = 500\n",
    "else:\n",
    "    bonus = 0\n",
    "\n",
    "print(f\"獎金:{bonus}\")    "
   ]
  },
  {
   "cell_type": "code",
   "execution_count": null,
   "id": "d2b0506a",
   "metadata": {},
   "outputs": [],
   "source": [
    "#巢狀的if\n",
    "chinese = eval(input(\"請輸入國文分數:\"))\n",
    "math = eval(input(\"請輸入數學分數:\"))\n",
    "\n",
    "if chinese == 100:\n",
    "    #國文100\n",
    "    if math == 100:\n",
    "        bonus = 1000\n",
    "    else:\n",
    "        bonus = 500 \n",
    "else:\n",
    "    #國文沒有100\n",
    "    if math == 100:\n",
    "        bonus = 500\n",
    "    else:\n",
    "        bonus = 0\n",
    "\n",
    "print(f\"獎金:{bonus}\")    "
   ]
  },
  {
   "cell_type": "code",
   "execution_count": 16,
   "id": "46dcf0a1",
   "metadata": {},
   "outputs": [
    {
     "name": "stdout",
     "output_type": "stream",
     "text": [
      "請輸入第1個值678\n",
      "請輸入第2個值789\n",
      "請輸入第3個值123\n",
      "請輸入第4個值876\n",
      "請輸入第5個值345\n",
      "加總的值是2811\n"
     ]
    }
   ],
   "source": [
    "total = 0\n",
    "for i in range(5):\n",
    "    n = eval(input(f\"請輸入第{i+1}個值\"))\n",
    "    total += n\n",
    "print(f\"加總的值是{total}\")"
   ]
  },
  {
   "cell_type": "code",
   "execution_count": null,
   "id": "12af4a5a",
   "metadata": {},
   "outputs": [],
   "source": []
  }
 ],
 "metadata": {
  "kernelspec": {
   "display_name": "Python 3 (ipykernel)",
   "language": "python",
   "name": "python3"
  },
  "language_info": {
   "codemirror_mode": {
    "name": "ipython",
    "version": 3
   },
   "file_extension": ".py",
   "mimetype": "text/x-python",
   "name": "python",
   "nbconvert_exporter": "python",
   "pygments_lexer": "ipython3",
   "version": "3.10.2"
  }
 },
 "nbformat": 4,
 "nbformat_minor": 5
}
