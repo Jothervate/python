{
 "cells": [
  {
   "cell_type": "code",
   "execution_count": 1,
   "id": "604bcbee",
   "metadata": {},
   "outputs": [
    {
     "name": "stdout",
     "output_type": "stream",
     "text": [
      "[] [] [1, 2, 3, 4]\n"
     ]
    }
   ],
   "source": [
    "#建立list\n",
    "a1 = []\n",
    "a2 = list()\n",
    "a3 = [1, 2, 3, 4]\n",
    "print(a1, a2, a3)"
   ]
  },
  {
   "cell_type": "code",
   "execution_count": 2,
   "id": "2b5982cc",
   "metadata": {},
   "outputs": [
    {
     "data": {
      "text/plain": [
       "[0, 1, 2, 3, 4, 5, 6, 7, 8, 9]"
      ]
     },
     "execution_count": 2,
     "metadata": {},
     "output_type": "execute_result"
    }
   ],
   "source": [
    "#快速建立list的方法comprehension\n",
    "a4 = [n for n in range(10)]\n",
    "a4"
   ]
  },
  {
   "cell_type": "code",
   "execution_count": 7,
   "id": "24f03b06",
   "metadata": {},
   "outputs": [
    {
     "data": {
      "text/plain": [
       "[0, 0, 0, 0, 0, 0, 0, 0, 0, 0]"
      ]
     },
     "execution_count": 7,
     "metadata": {},
     "output_type": "execute_result"
    }
   ],
   "source": [
    "#快速建立list的方法comprehension\n",
    "a5 = [0 for _ in range(10)]\n",
    "a5"
   ]
  },
  {
   "cell_type": "code",
   "execution_count": 12,
   "id": "6f8db5da",
   "metadata": {},
   "outputs": [
    {
     "data": {
      "text/plain": [
       "[159,\n",
       " 145,\n",
       " 152,\n",
       " 159,\n",
       " 127,\n",
       " 166,\n",
       " 121,\n",
       " 128,\n",
       " 182,\n",
       " 129,\n",
       " 140,\n",
       " 130,\n",
       " 106,\n",
       " 158,\n",
       " 122,\n",
       " 175,\n",
       " 134,\n",
       " 150,\n",
       " 115,\n",
       " 135,\n",
       " 154,\n",
       " 119,\n",
       " 154,\n",
       " 163,\n",
       " 177,\n",
       " 166,\n",
       " 152,\n",
       " 104,\n",
       " 144,\n",
       " 163,\n",
       " 158,\n",
       " 152,\n",
       " 147,\n",
       " 146,\n",
       " 192,\n",
       " 112,\n",
       " 158,\n",
       " 141,\n",
       " 121,\n",
       " 104,\n",
       " 119,\n",
       " 151,\n",
       " 121,\n",
       " 142,\n",
       " 117,\n",
       " 164,\n",
       " 124,\n",
       " 146,\n",
       " 141,\n",
       " 151]"
      ]
     },
     "execution_count": 12,
     "metadata": {},
     "output_type": "execute_result"
    }
   ],
   "source": [
    "import random\n",
    "chineses = [random.randint(50,100) for _ in range(50)]\n",
    "englishs = [random.randint(50,100) for _ in range(50)]\n",
    "total = [0 for _ in range(50)]\n",
    "for i in range(50):\n",
    "    total[i] = chineses[i] + englishs[i]\n",
    "total"
   ]
  },
  {
   "cell_type": "code",
   "execution_count": null,
   "id": "37e153d3",
   "metadata": {},
   "outputs": [],
   "source": []
  }
 ],
 "metadata": {
  "kernelspec": {
   "display_name": "Python 3 (ipykernel)",
   "language": "python",
   "name": "python3"
  },
  "language_info": {
   "codemirror_mode": {
    "name": "ipython",
    "version": 3
   },
   "file_extension": ".py",
   "mimetype": "text/x-python",
   "name": "python",
   "nbconvert_exporter": "python",
   "pygments_lexer": "ipython3",
   "version": "3.10.6"
  }
 },
 "nbformat": 4,
 "nbformat_minor": 5
}
