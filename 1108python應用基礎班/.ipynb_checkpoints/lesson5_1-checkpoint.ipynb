{
 "cells": [
  {
   "cell_type": "code",
   "execution_count": 1,
   "id": "b591706f",
   "metadata": {},
   "outputs": [
    {
     "name": "stdout",
     "output_type": "stream",
     "text": [
      "[] [] [1, 2, 3, 4]\n"
     ]
    }
   ],
   "source": [
    "#建立list\n",
    "a1 = []\n",
    "a2 = list()\n",
    "a3 = [1, 2, 3, 4]\n",
    "print(a1, a2, a3)"
   ]
  },
  {
   "cell_type": "code",
   "execution_count": 2,
   "id": "c6e7c3b3",
   "metadata": {},
   "outputs": [
    {
     "data": {
      "text/plain": [
       "[0, 1, 2, 3, 4, 5, 6, 7, 8, 9]"
      ]
     },
     "execution_count": 2,
     "metadata": {},
     "output_type": "execute_result"
    }
   ],
   "source": [
    "#快速建立list的方法comprehension\n",
    "a4 = [n for n in range(10)]\n",
    "a4"
   ]
  },
  {
   "cell_type": "code",
   "execution_count": 7,
   "id": "06411dd3",
   "metadata": {},
   "outputs": [
    {
     "data": {
      "text/plain": [
       "[0, 0, 0, 0, 0, 0, 0, 0, 0, 0]"
      ]
     },
     "execution_count": 7,
     "metadata": {},
     "output_type": "execute_result"
    }
   ],
   "source": [
    "#快速建立list的方法comprehension\n",
    "a5 = [0 for _ in range(10)]\n",
    "a5"
   ]
  },
  {
   "cell_type": "code",
   "execution_count": 12,
   "id": "047c61c1",
   "metadata": {},
   "outputs": [
    {
     "data": {
      "text/plain": [
       "[159,\n",
       " 145,\n",
       " 152,\n",
       " 159,\n",
       " 127,\n",
       " 166,\n",
       " 121,\n",
       " 128,\n",
       " 182,\n",
       " 129,\n",
       " 140,\n",
       " 130,\n",
       " 106,\n",
       " 158,\n",
       " 122,\n",
       " 175,\n",
       " 134,\n",
       " 150,\n",
       " 115,\n",
       " 135,\n",
       " 154,\n",
       " 119,\n",
       " 154,\n",
       " 163,\n",
       " 177,\n",
       " 166,\n",
       " 152,\n",
       " 104,\n",
       " 144,\n",
       " 163,\n",
       " 158,\n",
       " 152,\n",
       " 147,\n",
       " 146,\n",
       " 192,\n",
       " 112,\n",
       " 158,\n",
       " 141,\n",
       " 121,\n",
       " 104,\n",
       " 119,\n",
       " 151,\n",
       " 121,\n",
       " 142,\n",
       " 117,\n",
       " 164,\n",
       " 124,\n",
       " 146,\n",
       " 141,\n",
       " 151]"
      ]
     },
     "execution_count": 12,
     "metadata": {},
     "output_type": "execute_result"
    }
   ],
   "source": [
    "import random\n",
    "chineses = [random.randint(50,100) for _ in range(50)]\n",
    "englishs = [random.randint(50,100) for _ in range(50)]\n",
    "total = [0 for _ in range(50)]\n",
    "for i in range(50):\n",
    "    total[i] = chineses[i] + englishs[i]\n",
    "total"
   ]
  },
  {
   "cell_type": "code",
   "execution_count": 13,
   "id": "dbb82cf6",
   "metadata": {},
   "outputs": [
    {
     "data": {
      "text/plain": [
       "[94,\n",
       " 77,\n",
       " 73,\n",
       " 100,\n",
       " 68,\n",
       " 81,\n",
       " 64,\n",
       " 77,\n",
       " 96,\n",
       " 68,\n",
       " 86,\n",
       " 76,\n",
       " 52,\n",
       " 59,\n",
       " 54,\n",
       " 90,\n",
       " 51,\n",
       " 57,\n",
       " 53,\n",
       " 71,\n",
       " 86,\n",
       " 53,\n",
       " 97,\n",
       " 88,\n",
       " 98,\n",
       " 99,\n",
       " 53,\n",
       " 52,\n",
       " 84,\n",
       " 83,\n",
       " 95,\n",
       " 67,\n",
       " 62,\n",
       " 81,\n",
       " 92,\n",
       " 52,\n",
       " 58,\n",
       " 79,\n",
       " 60,\n",
       " 52,\n",
       " 52,\n",
       " 98,\n",
       " 59,\n",
       " 56,\n",
       " 60,\n",
       " 72,\n",
       " 50,\n",
       " 72,\n",
       " 54,\n",
       " 82,\n",
       " 65,\n",
       " 68,\n",
       " 79,\n",
       " 59,\n",
       " 59,\n",
       " 85,\n",
       " 57,\n",
       " 51,\n",
       " 86,\n",
       " 61,\n",
       " 54,\n",
       " 54,\n",
       " 54,\n",
       " 99,\n",
       " 68,\n",
       " 85,\n",
       " 83,\n",
       " 93,\n",
       " 62,\n",
       " 64,\n",
       " 68,\n",
       " 66,\n",
       " 57,\n",
       " 75,\n",
       " 79,\n",
       " 67,\n",
       " 99,\n",
       " 52,\n",
       " 60,\n",
       " 80,\n",
       " 63,\n",
       " 85,\n",
       " 85,\n",
       " 65,\n",
       " 100,\n",
       " 60,\n",
       " 100,\n",
       " 62,\n",
       " 61,\n",
       " 52,\n",
       " 67,\n",
       " 53,\n",
       " 62,\n",
       " 86,\n",
       " 57,\n",
       " 92,\n",
       " 74,\n",
       " 74,\n",
       " 87,\n",
       " 69]"
      ]
     },
     "execution_count": 13,
     "metadata": {},
     "output_type": "execute_result"
    }
   ],
   "source": [
    "chineses + englishs"
   ]
  },
  {
   "cell_type": "code",
   "execution_count": 16,
   "id": "23b6a310",
   "metadata": {},
   "outputs": [
    {
     "data": {
      "text/plain": [
       "array([159, 145, 152, 159, 127, 166, 121, 128, 182, 129, 140, 130, 106,\n",
       "       158, 122, 175, 134, 150, 115, 135, 154, 119, 154, 163, 177, 166,\n",
       "       152, 104, 144, 163, 158, 152, 147, 146, 192, 112, 158, 141, 121,\n",
       "       104, 119, 151, 121, 142, 117, 164, 124, 146, 141, 151])"
      ]
     },
     "execution_count": 16,
     "metadata": {},
     "output_type": "execute_result"
    }
   ],
   "source": [
    "#以組為單位的的運算\n",
    "#array的運算\n",
    "#numpy\n",
    "import numpy as np\n",
    "chinese_np = np.array(chineses)\n",
    "english_np = np.array(englishs)\n",
    "total_np = chinese_np + english_np\n",
    "total_np"
   ]
  },
  {
   "cell_type": "code",
   "execution_count": 21,
   "id": "e1b91f83",
   "metadata": {},
   "outputs": [
    {
     "name": "stdout",
     "output_type": "stream",
     "text": [
      "1\n",
      "(50,)\n",
      "50\n",
      "int64\n"
     ]
    }
   ],
   "source": [
    "print(total_np.ndim)\n",
    "print(total_np.shape)\n",
    "print(total_np.size)\n",
    "print(total_np.dtype)"
   ]
  },
  {
   "cell_type": "code",
   "execution_count": 24,
   "id": "d17e53a7",
   "metadata": {},
   "outputs": [
    {
     "name": "stdout",
     "output_type": "stream",
     "text": [
      "[-0.47608722  1.35800854  0.08851402 -0.66286383 -0.46545643 -0.34016356\n",
      " -0.44526887  0.22181921 -1.19435129 -1.20100077]\n",
      "[[-0.19170868  0.73037362 -0.57283202]\n",
      " [ 1.19102783 -1.44584291  0.47330015]]\n"
     ]
    }
   ],
   "source": [
    "import numpy as np\n",
    "print(np.random.randn(10))\n",
    "print(np.random.randn(2, 3))"
   ]
  },
  {
   "cell_type": "code",
   "execution_count": 36,
   "id": "517c89d4",
   "metadata": {},
   "outputs": [
    {
     "data": {
      "text/plain": [
       "array([[ 78.,  56.,  81.,  99.,  94.],\n",
       "       [ 94.,  99.,  16.,  86.,  42.],\n",
       "       [ 44.,  15.,  35.,  58.,  98.],\n",
       "       [ 43.,  50.,  64.,  51.,  73.],\n",
       "       [ 51.,  28.,  53.,  89.,  35.],\n",
       "       [ 89.,  36.,   1.,  88.,  37.],\n",
       "       [ 41.,  44.,   3.,  98.,  73.],\n",
       "       [ 85.,  94.,  40.,  32.,  56.],\n",
       "       [ 37.,   3.,  12.,   0.,  73.],\n",
       "       [ 77.,  89.,  71.,  42.,  25.],\n",
       "       [ 98.,  12.,  40.,  28.,  97.],\n",
       "       [ 62.,  32.,  47.,  25.,  60.],\n",
       "       [ 53.,  33.,  16.,  97.,  97.],\n",
       "       [ 16.,  14.,  18.,  67.,  26.],\n",
       "       [ 91.,   6.,  65.,  73.,  76.],\n",
       "       [  4.,  90.,  66.,  35.,  77.],\n",
       "       [ 29.,  84.,  83., 100.,  62.],\n",
       "       [ 61.,  77.,  11.,  62.,  74.],\n",
       "       [ 93.,  99.,  57.,  70.,  51.],\n",
       "       [ 33.,  13.,   9.,   2.,  36.],\n",
       "       [ 99.,  70.,  80.,  65.,  66.],\n",
       "       [ 11.,  72.,  52.,  99.,  52.],\n",
       "       [  3.,  27.,  33.,  64.,  17.],\n",
       "       [ 12.,  88.,  37.,  65.,  97.],\n",
       "       [ 21.,  65.,  84.,  55.,   8.],\n",
       "       [ 33.,  17.,  81.,  92.,  77.],\n",
       "       [  9.,  78.,  54.,  72.,  99.],\n",
       "       [ 61.,  20.,  53.,  33.,  88.],\n",
       "       [ 37.,  14.,  38.,  10.,  43.],\n",
       "       [ 14.,  81.,  18.,  26.,  21.],\n",
       "       [ 31.,  70.,  18.,  31.,  59.],\n",
       "       [ 45.,  64.,   6.,  86.,  85.],\n",
       "       [ 99.,  50.,  34.,  67.,  81.],\n",
       "       [ 28.,  13.,  40.,  26.,  69.],\n",
       "       [ 45.,  72.,  72.,  47.,  80.],\n",
       "       [ 36.,   6.,  72.,  87.,   7.],\n",
       "       [ 92.,  71.,  35.,  48.,  29.],\n",
       "       [ 56.,  76.,  54.,  40.,  58.],\n",
       "       [ 20.,  75.,  36.,  77.,  65.],\n",
       "       [ 81.,  33.,  33.,  20.,  42.],\n",
       "       [ 72.,  68.,  27.,  96.,  97.],\n",
       "       [ 62.,  91.,  97.,  50.,  76.],\n",
       "       [ 13.,  67.,  13.,  96.,  15.],\n",
       "       [  9.,   8.,  22.,  64.,  63.],\n",
       "       [ 12.,  43.,  32.,  26.,  66.],\n",
       "       [ 31.,  77.,  21.,  62.,  59.],\n",
       "       [ 54.,  84.,  92.,  33.,  91.],\n",
       "       [ 74.,  46.,  53.,  19.,  88.],\n",
       "       [ 61.,  65.,  47.,  41.,  93.],\n",
       "       [  5.,  88.,  93.,  73.,  73.]])"
      ]
     },
     "execution_count": 36,
     "metadata": {},
     "output_type": "execute_result"
    }
   ],
   "source": [
    "students = np.random.rand(50,5)\n",
    "np.round(students*100)"
   ]
  },
  {
   "cell_type": "code",
   "execution_count": 37,
   "id": "027429c9",
   "metadata": {},
   "outputs": [
    {
     "data": {
      "text/plain": [
       "array([5, 6, 7, 8, 9])"
      ]
     },
     "execution_count": 37,
     "metadata": {},
     "output_type": "execute_result"
    }
   ],
   "source": [
    "np.arange(5,10)"
   ]
  },
  {
   "cell_type": "code",
   "execution_count": 39,
   "id": "679e7bd4",
   "metadata": {},
   "outputs": [
    {
     "data": {
      "text/plain": [
       "array([ 5.        ,  5.55555556,  6.11111111,  6.66666667,  7.22222222,\n",
       "        7.77777778,  8.33333333,  8.88888889,  9.44444444, 10.        ])"
      ]
     },
     "execution_count": 39,
     "metadata": {},
     "output_type": "execute_result"
    }
   ],
   "source": [
    "np.linspace(5,10,10)"
   ]
  },
  {
   "cell_type": "code",
   "execution_count": 40,
   "id": "0dbef5eb",
   "metadata": {},
   "outputs": [
    {
     "data": {
      "text/plain": [
       "array([-3.        , -2.87755102, -2.75510204, -2.63265306, -2.51020408,\n",
       "       -2.3877551 , -2.26530612, -2.14285714, -2.02040816, -1.89795918,\n",
       "       -1.7755102 , -1.65306122, -1.53061224, -1.40816327, -1.28571429,\n",
       "       -1.16326531, -1.04081633, -0.91836735, -0.79591837, -0.67346939,\n",
       "       -0.55102041, -0.42857143, -0.30612245, -0.18367347, -0.06122449,\n",
       "        0.06122449,  0.18367347,  0.30612245,  0.42857143,  0.55102041,\n",
       "        0.67346939,  0.79591837,  0.91836735,  1.04081633,  1.16326531,\n",
       "        1.28571429,  1.40816327,  1.53061224,  1.65306122,  1.7755102 ,\n",
       "        1.89795918,  2.02040816,  2.14285714,  2.26530612,  2.3877551 ,\n",
       "        2.51020408,  2.63265306,  2.75510204,  2.87755102,  3.        ])"
      ]
     },
     "execution_count": 40,
     "metadata": {},
     "output_type": "execute_result"
    }
   ],
   "source": [
    "x = np.linspace(-3,3,50)\n",
    "x"
   ]
  },
  {
   "cell_type": "code",
   "execution_count": 42,
   "id": "cc0b8d03",
   "metadata": {},
   "outputs": [
    {
     "data": {
      "image/png": "[encoded data removed]",
      "text/plain": [
       "<Figure size 576x360 with 1 Axes>"
      ]
     },
     "metadata": {
      "needs_background": "light"
     },
     "output_type": "display_data"
    }
   ],
   "source": [
    "import matplotlib.pyplot as plt\n",
    "figure = plt.figure(figsize=(8,5))\n",
    "ax1 = figure.add_subplot(1,1,1)\n",
    "ax1.plot(x)\n",
    "plt.show()"
   ]
  },
  {
   "cell_type": "code",
   "execution_count": 46,
   "id": "7e554494",
   "metadata": {},
   "outputs": [
    {
     "data": {
      "image/png": "[encoded data removed]",
      "text/plain": [
       "<Figure size 576x360 with 1 Axes>"
      ]
     },
     "metadata": {
      "needs_background": "light"
     },
     "output_type": "display_data"
    }
   ],
   "source": [
    "y1 = 2 * x + 1\n",
    "figure = plt.figure(figsize=(8,5))\n",
    "ax2 = figure.add_subplot(1,1,1)\n",
    "ax2.plot(x,y1,'r-.')\n",
    "plt.show()"
   ]
  },
  {
   "cell_type": "code",
   "execution_count": 47,
   "id": "d076a775",
   "metadata": {},
   "outputs": [
    {
     "data": {
      "image/png": "[encoded data removed]",
      "text/plain": [
       "<Figure size 576x360 with 1 Axes>"
      ]
     },
     "metadata": {
      "needs_background": "light"
     },
     "output_type": "display_data"
    }
   ],
   "source": [
    "y2 = x ** 2 + 1\n",
    "figure = plt.figure(figsize=(8,5))\n",
    "ax3 = figure.add_subplot(1,1,1)\n",
    "ax3.plot(x,y2)\n",
    "plt.show()"
   ]
  },
  {
   "cell_type": "code",
   "execution_count": null,
   "id": "5762dec2",
   "metadata": {},
   "outputs": [],
   "source": []
  }
 ],
 "metadata": {
  "kernelspec": {
   "display_name": "Python 3 (ipykernel)",
   "language": "python",
   "name": "python3"
  },
  "language_info": {
   "codemirror_mode": {
    "name": "ipython",
    "version": 3
   },
   "file_extension": ".py",
   "mimetype": "text/x-python",
   "name": "python",
   "nbconvert_exporter": "python",
   "pygments_lexer": "ipython3",
   "version": "3.10.6"
  }
 },
 "nbformat": 4,
 "nbformat_minor": 5
}
