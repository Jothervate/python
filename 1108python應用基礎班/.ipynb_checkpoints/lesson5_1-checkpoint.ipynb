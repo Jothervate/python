{
 "cells": [
  {
   "cell_type": "code",
   "execution_count": 1,
   "id": "3fff4d96",
   "metadata": {},
   "outputs": [
    {
     "name": "stdout",
     "output_type": "stream",
     "text": [
      "[] [] [1, 2, 3, 4]\n"
     ]
    }
   ],
   "source": [
    "#建立list\n",
    "a1 = []\n",
    "a2 = list()\n",
    "a3 = [1, 2, 3, 4]\n",
    "print(a1, a2, a3)"
   ]
  },
  {
   "cell_type": "code",
   "execution_count": 2,
   "id": "3374ce40",
   "metadata": {},
   "outputs": [
    {
     "data": {
      "text/plain": [
       "[0, 1, 2, 3, 4, 5, 6, 7, 8, 9]"
      ]
     },
     "execution_count": 2,
     "metadata": {},
     "output_type": "execute_result"
    }
   ],
   "source": [
    "#快速建立list的方法comprehension\n",
    "a4 = [n for n in range(10)]\n",
    "a4"
   ]
  },
  {
   "cell_type": "code",
   "execution_count": 7,
   "id": "f0d851f9",
   "metadata": {},
   "outputs": [
    {
     "data": {
      "text/plain": [
       "[0, 0, 0, 0, 0, 0, 0, 0, 0, 0]"
      ]
     },
     "execution_count": 7,
     "metadata": {},
     "output_type": "execute_result"
    }
   ],
   "source": [
    "#快速建立list的方法comprehension\n",
    "a5 = [0 for _ in range(10)]\n",
    "a5"
   ]
  },
  {
   "cell_type": "code",
   "execution_count": 12,
   "id": "096155eb",
   "metadata": {},
   "outputs": [
    {
     "data": {
      "text/plain": [
       "[159,\n",
       " 145,\n",
       " 152,\n",
       " 159,\n",
       " 127,\n",
       " 166,\n",
       " 121,\n",
       " 128,\n",
       " 182,\n",
       " 129,\n",
       " 140,\n",
       " 130,\n",
       " 106,\n",
       " 158,\n",
       " 122,\n",
       " 175,\n",
       " 134,\n",
       " 150,\n",
       " 115,\n",
       " 135,\n",
       " 154,\n",
       " 119,\n",
       " 154,\n",
       " 163,\n",
       " 177,\n",
       " 166,\n",
       " 152,\n",
       " 104,\n",
       " 144,\n",
       " 163,\n",
       " 158,\n",
       " 152,\n",
       " 147,\n",
       " 146,\n",
       " 192,\n",
       " 112,\n",
       " 158,\n",
       " 141,\n",
       " 121,\n",
       " 104,\n",
       " 119,\n",
       " 151,\n",
       " 121,\n",
       " 142,\n",
       " 117,\n",
       " 164,\n",
       " 124,\n",
       " 146,\n",
       " 141,\n",
       " 151]"
      ]
     },
     "execution_count": 12,
     "metadata": {},
     "output_type": "execute_result"
    }
   ],
   "source": [
    "import random\n",
    "chineses = [random.randint(50,100) for _ in range(50)]\n",
    "englishs = [random.randint(50,100) for _ in range(50)]\n",
    "total = [0 for _ in range(50)]\n",
    "for i in range(50):\n",
    "    total[i] = chineses[i] + englishs[i]\n",
    "total"
   ]
  },
  {
   "cell_type": "code",
   "execution_count": 13,
   "id": "cbd5c97a",
   "metadata": {},
   "outputs": [
    {
     "data": {
      "text/plain": [
       "[94,\n",
       " 77,\n",
       " 73,\n",
       " 100,\n",
       " 68,\n",
       " 81,\n",
       " 64,\n",
       " 77,\n",
       " 96,\n",
       " 68,\n",
       " 86,\n",
       " 76,\n",
       " 52,\n",
       " 59,\n",
       " 54,\n",
       " 90,\n",
       " 51,\n",
       " 57,\n",
       " 53,\n",
       " 71,\n",
       " 86,\n",
       " 53,\n",
       " 97,\n",
       " 88,\n",
       " 98,\n",
       " 99,\n",
       " 53,\n",
       " 52,\n",
       " 84,\n",
       " 83,\n",
       " 95,\n",
       " 67,\n",
       " 62,\n",
       " 81,\n",
       " 92,\n",
       " 52,\n",
       " 58,\n",
       " 79,\n",
       " 60,\n",
       " 52,\n",
       " 52,\n",
       " 98,\n",
       " 59,\n",
       " 56,\n",
       " 60,\n",
       " 72,\n",
       " 50,\n",
       " 72,\n",
       " 54,\n",
       " 82,\n",
       " 65,\n",
       " 68,\n",
       " 79,\n",
       " 59,\n",
       " 59,\n",
       " 85,\n",
       " 57,\n",
       " 51,\n",
       " 86,\n",
       " 61,\n",
       " 54,\n",
       " 54,\n",
       " 54,\n",
       " 99,\n",
       " 68,\n",
       " 85,\n",
       " 83,\n",
       " 93,\n",
       " 62,\n",
       " 64,\n",
       " 68,\n",
       " 66,\n",
       " 57,\n",
       " 75,\n",
       " 79,\n",
       " 67,\n",
       " 99,\n",
       " 52,\n",
       " 60,\n",
       " 80,\n",
       " 63,\n",
       " 85,\n",
       " 85,\n",
       " 65,\n",
       " 100,\n",
       " 60,\n",
       " 100,\n",
       " 62,\n",
       " 61,\n",
       " 52,\n",
       " 67,\n",
       " 53,\n",
       " 62,\n",
       " 86,\n",
       " 57,\n",
       " 92,\n",
       " 74,\n",
       " 74,\n",
       " 87,\n",
       " 69]"
      ]
     },
     "execution_count": 13,
     "metadata": {},
     "output_type": "execute_result"
    }
   ],
   "source": [
    "chineses + englishs"
   ]
  },
  {
   "cell_type": "code",
   "execution_count": 16,
   "id": "af0184e5",
   "metadata": {},
   "outputs": [
    {
     "data": {
      "text/plain": [
       "array([159, 145, 152, 159, 127, 166, 121, 128, 182, 129, 140, 130, 106,\n",
       "       158, 122, 175, 134, 150, 115, 135, 154, 119, 154, 163, 177, 166,\n",
       "       152, 104, 144, 163, 158, 152, 147, 146, 192, 112, 158, 141, 121,\n",
       "       104, 119, 151, 121, 142, 117, 164, 124, 146, 141, 151])"
      ]
     },
     "execution_count": 16,
     "metadata": {},
     "output_type": "execute_result"
    }
   ],
   "source": [
    "#以組為單位的的運算\n",
    "#array的運算\n",
    "#numpy\n",
    "import numpy as np\n",
    "chinese_np = np.array(chineses)\n",
    "english_np = np.array(englishs)\n",
    "total_np = chinese_np + english_np\n",
    "total_np"
   ]
  },
  {
   "cell_type": "code",
   "execution_count": 21,
   "id": "97584ea1",
   "metadata": {},
   "outputs": [
    {
     "name": "stdout",
     "output_type": "stream",
     "text": [
      "1\n",
      "(50,)\n",
      "50\n",
      "int64\n"
     ]
    }
   ],
   "source": [
    "print(total_np.ndim)\n",
    "print(total_np.shape)\n",
    "print(total_np.size)\n",
    "print(total_np.dtype)"
   ]
  },
  {
   "cell_type": "code",
   "execution_count": null,
   "id": "3bcd34b8",
   "metadata": {},
   "outputs": [],
   "source": []
  }
 ],
 "metadata": {
  "kernelspec": {
   "display_name": "Python 3 (ipykernel)",
   "language": "python",
   "name": "python3"
  },
  "language_info": {
   "codemirror_mode": {
    "name": "ipython",
    "version": 3
   },
   "file_extension": ".py",
   "mimetype": "text/x-python",
   "name": "python",
   "nbconvert_exporter": "python",
   "pygments_lexer": "ipython3",
   "version": "3.10.6"
  }
 },
 "nbformat": 4,
 "nbformat_minor": 5
}
