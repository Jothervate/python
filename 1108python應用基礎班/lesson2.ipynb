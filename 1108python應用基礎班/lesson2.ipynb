{
 "cells": [
  {
   "cell_type": "code",
   "execution_count": 3,
   "id": "8a39fa65",
   "metadata": {},
   "outputs": [
    {
     "data": {
      "text/plain": [
       "15"
      ]
     },
     "execution_count": 3,
     "metadata": {},
     "output_type": "execute_result"
    }
   ],
   "source": [
    "n = 10\n",
    "n = n + 5\n",
    "m"
   ]
  },
  {
   "cell_type": "code",
   "execution_count": 4,
   "id": "541c3f90",
   "metadata": {},
   "outputs": [
    {
     "data": {
      "text/plain": [
       "15"
      ]
     },
     "execution_count": 4,
     "metadata": {},
     "output_type": "execute_result"
    }
   ],
   "source": [
    "m = 10\n",
    "m += 5\n",
    "m"
   ]
  },
  {
   "cell_type": "code",
   "execution_count": 5,
   "id": "dcdb274f",
   "metadata": {},
   "outputs": [
    {
     "data": {
      "text/plain": [
       "100"
      ]
     },
     "execution_count": 5,
     "metadata": {},
     "output_type": "execute_result"
    }
   ],
   "source": [
    "x = 10 \n",
    "x *= 10\n",
    "x"
   ]
  },
  {
   "cell_type": "code",
   "execution_count": 6,
   "id": "6d615792",
   "metadata": {},
   "outputs": [
    {
     "name": "stdout",
     "output_type": "stream",
     "text": [
      "請輸入第一個數:56\n",
      "請輸入第二個數:87\n",
      "請輸入第三個數:32\n",
      "3數相加後175\n"
     ]
    }
   ],
   "source": [
    "#複合指定運算子\n",
    "total = 0\n",
    "n = eval(input('請輸入第一個數:'))\n",
    "total += n\n",
    "\n",
    "n = eval(input('請輸入第二個數:'))\n",
    "total += n\n",
    "\n",
    "n = eval(input('請輸入第三個數:'))\n",
    "total += n\n",
    "\n",
    "print(f\"3數相加後{total}\")"
   ]
  },
  {
   "cell_type": "code",
   "execution_count": 9,
   "id": "9a6de4ab",
   "metadata": {},
   "outputs": [
    {
     "name": "stdout",
     "output_type": "stream",
     "text": [
      "請輸入一個數值50\n",
      "您的數值>80 或者<60\n"
     ]
    }
   ],
   "source": [
    "#2個條件\n",
    "#60~80\n",
    "value = eval(input(\"請輸入一個數值\"))\n",
    "if value >= 60 and value <= 80:\n",
    "    print(f\"您輸入的數值是{value}\")\n",
    "    print(\"60~80\")\n",
    "else:\n",
    "    print(\"您的數值>80 或者<60\")"
   ]
  },
  {
   "cell_type": "code",
   "execution_count": 12,
   "id": "751f1e30",
   "metadata": {},
   "outputs": [
    {
     "name": "stdout",
     "output_type": "stream",
     "text": [
      "請輸入國文分數:99\n",
      "請輸入數學分數:99\n",
      "獎金:0\n"
     ]
    }
   ],
   "source": [
    "chinese = eval(input(\"請輸入國文分數:\"))\n",
    "math = eval(input(\"請輸入數學分數:\"))\n",
    "\n",
    "if chinese == 100 and math == 100:\n",
    "    bonus = 1000\n",
    "elif chinese == 100 or math == 100:\n",
    "    bonus = 500\n",
    "else:\n",
    "    bonus = 0\n",
    "\n",
    "print(f\"獎金:{bonus}\")    "
   ]
  },
  {
   "cell_type": "code",
   "execution_count": null,
   "id": "6ed90440",
   "metadata": {},
   "outputs": [],
   "source": [
    "#巢狀的if\n",
    "chinese = eval(input(\"請輸入國文分數:\"))\n",
    "math = eval(input(\"請輸入數學分數:\"))\n",
    "\n",
    "if chinese == 100:\n",
    "    #國文100\n",
    "    if math == 100:\n",
    "        bonus = 1000\n",
    "    else:\n",
    "        bonus = 500 \n",
    "else:\n",
    "    #國文沒有100\n",
    "    if math == 100:\n",
    "        bonus = 500\n",
    "    else:\n",
    "        bonus = 0\n",
    "\n",
    "print(f\"獎金:{bonus}\")    "
   ]
  },
  {
   "cell_type": "code",
   "execution_count": 16,
   "id": "74df8f7c",
   "metadata": {},
   "outputs": [
    {
     "name": "stdout",
     "output_type": "stream",
     "text": [
      "請輸入第1個值678\n",
      "請輸入第2個值789\n",
      "請輸入第3個值123\n",
      "請輸入第4個值876\n",
      "請輸入第5個值345\n",
      "加總的值是2811\n"
     ]
    }
   ],
   "source": [
    "total = 0\n",
    "for i in range(5):\n",
    "    n = eval(input(f\"請輸入第{i+1}個值\"))\n",
    "    total += n\n",
    "print(f\"加總的值是{total}\")"
   ]
  },
  {
   "cell_type": "code",
   "execution_count": 17,
   "id": "6349e61b",
   "metadata": {},
   "outputs": [
    {
     "name": "stdout",
     "output_type": "stream",
     "text": [
      "1\n",
      "2\n",
      "3\n",
      "4\n"
     ]
    }
   ],
   "source": [
    "for i in range(1,5):\n",
    "    print(i)"
   ]
  },
  {
   "cell_type": "code",
   "execution_count": 18,
   "id": "94076f77",
   "metadata": {},
   "outputs": [
    {
     "name": "stdout",
     "output_type": "stream",
     "text": [
      "1\n",
      "3\n",
      "5\n",
      "7\n",
      "9\n"
     ]
    }
   ],
   "source": [
    "for i in range(1,10,2):\n",
    "    print(i)"
   ]
  },
  {
   "cell_type": "code",
   "execution_count": 20,
   "id": "1ab58755",
   "metadata": {},
   "outputs": [
    {
     "name": "stdout",
     "output_type": "stream",
     "text": [
      "請輸入第1月份的存款:4567\n",
      "請輸入第2月份的存款:5678\n",
      "請輸入第3月份的存款:6789\n",
      "請輸入第4月份的存款:7890\n",
      "請輸入第5月份的存款:6789\n",
      "已經了5個月存款已可以買機車,目前存款為31713\n"
     ]
    }
   ],
   "source": [
    "#小明想要存錢買一輛機車,機車每輛30000元，他將每月存的錢輸入，當存款足夠買機車時，就顯示提示訊息告知\n",
    "deposit = 0\n",
    "months = 0\n",
    "while deposit < 30000:\n",
    "    months += 1\n",
    "    value = eval(input(f\"請輸入第{months}月份的存款:\"))\n",
    "    deposit += value\n",
    "print(f\"已經了{months}個月存款已可以買機車,目前存款為{deposit}\")"
   ]
  },
  {
   "cell_type": "code",
   "execution_count": 21,
   "id": "70556d41",
   "metadata": {},
   "outputs": [
    {
     "name": "stdout",
     "output_type": "stream",
     "text": [
      "請輸入第1月份的存款:4567\n",
      "請輸入第2月份的存款:5678\n",
      "請輸入第3月份的存款:6789\n",
      "請輸入第4月份的存款:9876\n",
      "請輸入第5月份的存款:5678\n",
      "已經了5個月存款已可以買機車,目前存款為32588\n"
     ]
    }
   ],
   "source": [
    "#小明想要存錢買一輛機車,機車每輛30000元，他將每月存的錢輸入，當存款足夠買機車時，就顯示提示訊息告知\n",
    "deposit = 0\n",
    "months = 0\n",
    "while True:\n",
    "    months += 1\n",
    "    value = eval(input(f\"請輸入第{months}月份的存款:\"))\n",
    "    deposit += value\n",
    "    if deposit >= 30000:\n",
    "        break\n",
    "print(f\"已經了{months}個月存款已可以買機車,目前存款為{deposit}\")"
   ]
  },
  {
   "cell_type": "code",
   "execution_count": 26,
   "id": "802f9d0a",
   "metadata": {},
   "outputs": [
    {
     "name": "stdout",
     "output_type": "stream",
     "text": [
      "請輸入第1位學生的成績:80\n",
      "請輸入第2位學生的成績:80\n",
      "請輸入第3位學生的成績:80\n",
      "請輸入第4位學生的成績:-1\n",
      "學生總分為240,平均為80.00\n"
     ]
    }
   ],
   "source": [
    "#小美是一位教師，請你以while迴圈方式為小美設計一個輸入成績的程式，\n",
    "#如果輸入負數表示成績輸入結束，在輸入成績結束後顯示班上總成績及平均成績。\n",
    "\n",
    "sum = 0\n",
    "num = 0\n",
    "while True:\n",
    "    score = eval(input(f\"請輸入第{num+1}位學生的成績:\"))    \n",
    "    if score < 0:\n",
    "        break\n",
    "    num += 1\n",
    "    sum += score\n",
    "print(f\"學生總分為{sum},平均為{sum/num:.2f}\")"
   ]
  },
  {
   "cell_type": "code",
   "execution_count": null,
   "id": "7106f67f",
   "metadata": {},
   "outputs": [],
   "source": []
  }
 ],
 "metadata": {
  "kernelspec": {
   "display_name": "Python 3 (ipykernel)",
   "language": "python",
   "name": "python3"
  },
  "language_info": {
   "codemirror_mode": {
    "name": "ipython",
    "version": 3
   },
   "file_extension": ".py",
   "mimetype": "text/x-python",
   "name": "python",
   "nbconvert_exporter": "python",
   "pygments_lexer": "ipython3",
   "version": "3.10.2"
  }
 },
 "nbformat": 4,
 "nbformat_minor": 5
}
