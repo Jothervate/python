{
 "cells": [
  {
   "cell_type": "code",
   "execution_count": 2,
   "id": "1753f6e9",
   "metadata": {},
   "outputs": [
    {
     "data": {
      "text/plain": [
       "{}"
      ]
     },
     "execution_count": 2,
     "metadata": {},
     "output_type": "execute_result"
    }
   ],
   "source": [
    "#建立空的dictionary\n",
    "empyt_dict = {}\n",
    "empyt_dict"
   ]
  },
  {
   "cell_type": "code",
   "execution_count": 3,
   "id": "a37f68c7",
   "metadata": {},
   "outputs": [
    {
     "data": {
      "text/plain": [
       "{'tw': 'Taiwan', 'jp': 'Japan', 'hk': 'Hong Kong'}"
      ]
     },
     "execution_count": 3,
     "metadata": {},
     "output_type": "execute_result"
    }
   ],
   "source": [
    "codes = {\n",
    "    \"tw\":\"Taiwan\",\n",
    "    \"jp\":\"Japan\",\n",
    "    \"hk\":\"Hong Kong\"\n",
    "}\n",
    "\n",
    "codes"
   ]
  },
  {
   "cell_type": "code",
   "execution_count": 4,
   "id": "bf065503",
   "metadata": {},
   "outputs": [
    {
     "data": {
      "text/plain": [
       "'Taiwan'"
      ]
     },
     "execution_count": 4,
     "metadata": {},
     "output_type": "execute_result"
    }
   ],
   "source": [
    "codes[\"tw\"]"
   ]
  },
  {
   "cell_type": "code",
   "execution_count": 5,
   "id": "c656c829",
   "metadata": {},
   "outputs": [
    {
     "data": {
      "text/plain": [
       "{'tw': 'Taiwan', 'jp': 'Japan', 'hk': 'Hong Kong', 'cn': 'China'}"
      ]
     },
     "execution_count": 5,
     "metadata": {},
     "output_type": "execute_result"
    }
   ],
   "source": [
    "codes[\"cn\"] = \"China\"\n",
    "codes"
   ]
  },
  {
   "cell_type": "code",
   "execution_count": 6,
   "id": "e87ece8f",
   "metadata": {},
   "outputs": [
    {
     "data": {
      "text/plain": [
       "{'tw': 'Taiwan', 'jp': 'Japan', 'hk': 'Hong Kong'}"
      ]
     },
     "execution_count": 6,
     "metadata": {},
     "output_type": "execute_result"
    }
   ],
   "source": [
    "del codes[\"cn\"]\n",
    "codes"
   ]
  },
  {
   "cell_type": "code",
   "execution_count": 9,
   "id": "9dbf72cb",
   "metadata": {},
   "outputs": [
    {
     "name": "stdout",
     "output_type": "stream",
     "text": [
      "tw:Taiwan\n",
      "jp:Japan\n",
      "hk:Hong Kong\n"
     ]
    }
   ],
   "source": [
    "for key in codes:\n",
    "    print(f\"{key}:{codes[key]}\")"
   ]
  },
  {
   "cell_type": "code",
   "execution_count": 10,
   "id": "7f97e84b",
   "metadata": {},
   "outputs": [
    {
     "name": "stdout",
     "output_type": "stream",
     "text": [
      "tw:Taiwan\n",
      "jp:Japan\n",
      "hk:Hong Kong\n"
     ]
    }
   ],
   "source": [
    "for key,value in codes.items():\n",
    "    print(f\"{key}:{value}\")"
   ]
  },
  {
   "cell_type": "code",
   "execution_count": 11,
   "id": "4358253c",
   "metadata": {},
   "outputs": [
    {
     "data": {
      "text/plain": [
       "True"
      ]
     },
     "execution_count": 11,
     "metadata": {},
     "output_type": "execute_result"
    }
   ],
   "source": [
    "\"tw\" in codes"
   ]
  },
  {
   "cell_type": "code",
   "execution_count": 12,
   "id": "c514f4a7",
   "metadata": {},
   "outputs": [
    {
     "data": {
      "text/plain": [
       "False"
      ]
     },
     "execution_count": 12,
     "metadata": {},
     "output_type": "execute_result"
    }
   ],
   "source": [
    "\"co\" in codes"
   ]
  },
  {
   "cell_type": "code",
   "execution_count": 13,
   "id": "cfc77e13",
   "metadata": {},
   "outputs": [
    {
     "data": {
      "text/plain": [
       "{1, 2, 3, 4, 5}"
      ]
     },
     "execution_count": 13,
     "metadata": {},
     "output_type": "execute_result"
    }
   ],
   "source": [
    "num_set = {1, 2, 3, 4, 5, 1, 2, 3, 4, 5}\n",
    "num_set"
   ]
  },
  {
   "cell_type": "code",
   "execution_count": null,
   "id": "ae9a29d2",
   "metadata": {},
   "outputs": [],
   "source": []
  }
 ],
 "metadata": {
  "kernelspec": {
   "display_name": "Python 3 (ipykernel)",
   "language": "python",
   "name": "python3"
  },
  "language_info": {
   "codemirror_mode": {
    "name": "ipython",
    "version": 3
   },
   "file_extension": ".py",
   "mimetype": "text/x-python",
   "name": "python",
   "nbconvert_exporter": "python",
   "pygments_lexer": "ipython3",
   "version": "3.10.2"
  }
 },
 "nbformat": 4,
 "nbformat_minor": 5
}
