{
 "cells": [
  {
   "cell_type": "code",
   "execution_count": 4,
   "id": "870f2547",
   "metadata": {},
   "outputs": [
    {
     "name": "stdout",
     "output_type": "stream",
     "text": [
      "<class 'pandas.core.series.Series'>\n",
      "int64\n",
      "4\n"
     ]
    }
   ],
   "source": [
    "import pandas as pd\n",
    "ser = pd.Series([4, 7, -5, 3],index=[\"d\", 'b', 'a', \"c\"])\n",
    "print(type(ser))\n",
    "print(ser.dtype)\n",
    "print(ser.count())"
   ]
  },
  {
   "cell_type": "code",
   "execution_count": 5,
   "id": "e9023842",
   "metadata": {},
   "outputs": [
    {
     "data": {
      "text/plain": [
       "Index(['d', 'b', 'a', 'c'], dtype='object')"
      ]
     },
     "execution_count": 5,
     "metadata": {},
     "output_type": "execute_result"
    }
   ],
   "source": [
    "#透過索引取出值,更改值\n",
    "ser.index"
   ]
  },
  {
   "cell_type": "code",
   "execution_count": 6,
   "id": "70f1e2e4",
   "metadata": {},
   "outputs": [
    {
     "data": {
      "text/plain": [
       "-5"
      ]
     },
     "execution_count": 6,
     "metadata": {},
     "output_type": "execute_result"
    }
   ],
   "source": [
    "ser['a']"
   ]
  },
  {
   "cell_type": "code",
   "execution_count": 7,
   "id": "770575df",
   "metadata": {},
   "outputs": [
    {
     "data": {
      "text/plain": [
       "d    10\n",
       "b     7\n",
       "a    -5\n",
       "c     3\n",
       "dtype: int64"
      ]
     },
     "execution_count": 7,
     "metadata": {},
     "output_type": "execute_result"
    }
   ],
   "source": [
    "ser['d'] = 10\n",
    "ser"
   ]
  },
  {
   "cell_type": "code",
   "execution_count": 8,
   "id": "f0bfac52",
   "metadata": {},
   "outputs": [
    {
     "data": {
      "text/plain": [
       "d    10\n",
       "b     7\n",
       "a    -5\n",
       "dtype: int64"
      ]
     },
     "execution_count": 8,
     "metadata": {},
     "output_type": "execute_result"
    }
   ],
   "source": [
    "ser[['d','b','a']]"
   ]
  },
  {
   "cell_type": "code",
   "execution_count": 9,
   "id": "754ca06e",
   "metadata": {},
   "outputs": [
    {
     "data": {
      "text/plain": [
       "chiness    80\n",
       "engilis    90\n",
       "math       75\n",
       "history    65\n",
       "dtype: int64"
      ]
     },
     "execution_count": 9,
     "metadata": {},
     "output_type": "execute_result"
    }
   ],
   "source": [
    "obj2 = pd.Series([80, 90, 75, 65], index=['chiness','engilis', 'math', 'history' ])\n",
    "obj2"
   ]
  },
  {
   "cell_type": "code",
   "execution_count": 10,
   "id": "c7cba8dd",
   "metadata": {},
   "outputs": [
    {
     "data": {
      "text/plain": [
       "chiness    88.0\n",
       "engilis    99.0\n",
       "math       82.5\n",
       "history    71.5\n",
       "dtype: float64"
      ]
     },
     "execution_count": 10,
     "metadata": {},
     "output_type": "execute_result"
    }
   ],
   "source": [
    "#和純值運算\n",
    "obj2*1.1"
   ]
  },
  {
   "cell_type": "code",
   "execution_count": 11,
   "id": "64b67c1b",
   "metadata": {},
   "outputs": [
    {
     "data": {
      "text/plain": [
       "25"
      ]
     },
     "execution_count": 11,
     "metadata": {},
     "output_type": "execute_result"
    }
   ],
   "source": [
    "\n",
    "import numpy as np\n",
    "#使用numpy內的統計\n",
    "np.ptp(obj2)"
   ]
  },
  {
   "cell_type": "code",
   "execution_count": 12,
   "id": "c2f37a49",
   "metadata": {},
   "outputs": [
    {
     "data": {
      "text/plain": [
       "77.5"
      ]
     },
     "execution_count": 12,
     "metadata": {},
     "output_type": "execute_result"
    }
   ],
   "source": [
    "np.median(obj2)"
   ]
  },
  {
   "cell_type": "code",
   "execution_count": 13,
   "id": "3e27255b",
   "metadata": {},
   "outputs": [
    {
     "data": {
      "text/plain": [
       "77.5"
      ]
     },
     "execution_count": 13,
     "metadata": {},
     "output_type": "execute_result"
    }
   ],
   "source": [
    "np.mean(obj2)"
   ]
  },
  {
   "cell_type": "code",
   "execution_count": 15,
   "id": "5d9f93c8",
   "metadata": {},
   "outputs": [
    {
     "data": {
      "text/plain": [
       "chiness    80\n",
       "engilis    90\n",
       "dtype: int64"
      ]
     },
     "execution_count": 15,
     "metadata": {},
     "output_type": "execute_result"
    }
   ],
   "source": [
    "#篩選\n",
    "obj2[obj2 >= 80]"
   ]
  },
  {
   "cell_type": "code",
   "execution_count": 17,
   "id": "8d754058",
   "metadata": {},
   "outputs": [
    {
     "data": {
      "text/plain": [
       "True"
      ]
     },
     "execution_count": 17,
     "metadata": {},
     "output_type": "execute_result"
    }
   ],
   "source": [
    "#in運算子\n",
    "'chiness' in obj2"
   ]
  },
  {
   "cell_type": "code",
   "execution_count": 19,
   "id": "f93aa66c",
   "metadata": {},
   "outputs": [
    {
     "data": {
      "text/plain": [
       "花蓮        NaN\n",
       "高雄     5000.0\n",
       "台中    16000.0\n",
       "台北     3500.0\n",
       "dtype: float64"
      ]
     },
     "execution_count": 19,
     "metadata": {},
     "output_type": "execute_result"
    }
   ],
   "source": [
    "sdata = {'台北':3500, '桃園':71000,'台中':16000, '高雄':5000}\n",
    "obj3 = pd.Series(sdata,index=['花蓮','高雄','台中','台北'])\n",
    "obj3"
   ]
  },
  {
   "cell_type": "code",
   "execution_count": 20,
   "id": "e3f2b923",
   "metadata": {},
   "outputs": [
    {
     "data": {
      "text/plain": [
       "花蓮     True\n",
       "高雄    False\n",
       "台中    False\n",
       "台北    False\n",
       "dtype: bool"
      ]
     },
     "execution_count": 20,
     "metadata": {},
     "output_type": "execute_result"
    }
   ],
   "source": [
    "obj3.isnull()"
   ]
  },
  {
   "cell_type": "code",
   "execution_count": 21,
   "id": "767cd5b5",
   "metadata": {},
   "outputs": [
    {
     "data": {
      "text/plain": [
       "花蓮    False\n",
       "高雄     True\n",
       "台中     True\n",
       "台北     True\n",
       "dtype: bool"
      ]
     },
     "execution_count": 21,
     "metadata": {},
     "output_type": "execute_result"
    }
   ],
   "source": [
    "obj3.notnull()"
   ]
  },
  {
   "cell_type": "code",
   "execution_count": 22,
   "id": "44169ba6",
   "metadata": {},
   "outputs": [
    {
     "data": {
      "text/plain": [
       "高雄     5000.0\n",
       "台中    16000.0\n",
       "台北     3500.0\n",
       "dtype: float64"
      ]
     },
     "execution_count": 22,
     "metadata": {},
     "output_type": "execute_result"
    }
   ],
   "source": [
    "#不要空的\n",
    "obj3[obj3.notnull()]"
   ]
  },
  {
   "cell_type": "code",
   "execution_count": 23,
   "id": "5e9481b2",
   "metadata": {},
   "outputs": [
    {
     "data": {
      "text/plain": [
       "花蓮        NaN\n",
       "高雄     5000.0\n",
       "台中    16000.0\n",
       "台北     3500.0\n",
       "dtype: float64"
      ]
     },
     "execution_count": 23,
     "metadata": {},
     "output_type": "execute_result"
    }
   ],
   "source": [
    "obj3"
   ]
  },
  {
   "cell_type": "code",
   "execution_count": 25,
   "id": "67a744ed",
   "metadata": {},
   "outputs": [],
   "source": [
    "obj3.index.name=\"縣市\""
   ]
  },
  {
   "cell_type": "code",
   "execution_count": 26,
   "id": "353f458b",
   "metadata": {},
   "outputs": [
    {
     "data": {
      "text/plain": [
       "縣市\n",
       "花蓮        NaN\n",
       "高雄     5000.0\n",
       "台中    16000.0\n",
       "台北     3500.0\n",
       "dtype: float64"
      ]
     },
     "execution_count": 26,
     "metadata": {},
     "output_type": "execute_result"
    }
   ],
   "source": [
    "obj3"
   ]
  },
  {
   "cell_type": "code",
   "execution_count": null,
   "id": "f55a6f5e",
   "metadata": {},
   "outputs": [],
   "source": []
  }
 ],
 "metadata": {
  "kernelspec": {
   "display_name": "Python 3 (ipykernel)",
   "language": "python",
   "name": "python3"
  },
  "language_info": {
   "codemirror_mode": {
    "name": "ipython",
    "version": 3
   },
   "file_extension": ".py",
   "mimetype": "text/x-python",
   "name": "python",
   "nbconvert_exporter": "python",
   "pygments_lexer": "ipython3",
   "version": "3.10.6"
  }
 },
 "nbformat": 4,
 "nbformat_minor": 5
}
