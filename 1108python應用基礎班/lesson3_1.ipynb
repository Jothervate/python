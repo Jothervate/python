{
 "cells": [
  {
   "cell_type": "code",
   "execution_count": 5,
   "id": "00d3cea8",
   "metadata": {},
   "outputs": [
    {
     "ename": "TypeError",
     "evalue": "'tuple' object does not support item assignment",
     "output_type": "error",
     "traceback": [
      "\u001b[0;31m---------------------------------------------------------------------------\u001b[0m",
      "\u001b[0;31mTypeError\u001b[0m                                 Traceback (most recent call last)",
      "Input \u001b[0;32mIn [5]\u001b[0m, in \u001b[0;36m<cell line: 5>\u001b[0;34m()\u001b[0m\n\u001b[1;32m      3\u001b[0m oneTuple\n\u001b[1;32m      4\u001b[0m oneTuple[\u001b[38;5;241m0\u001b[39m]\n\u001b[0;32m----> 5\u001b[0m \u001b[43moneTuple\u001b[49m\u001b[43m[\u001b[49m\u001b[38;5;241;43m0\u001b[39;49m\u001b[43m]\u001b[49m \u001b[38;5;241m=\u001b[39m \u001b[38;5;241m100\u001b[39m\n",
      "\u001b[0;31mTypeError\u001b[0m: 'tuple' object does not support item assignment"
     ]
    }
   ],
   "source": [
    "#tuple\n",
    "oneTuple = (10, 20, 30, 40, 50)\n",
    "oneTuple\n",
    "oneTuple[0]\n",
    "oneTuple[0] = 100 #tuple被建立後,不可修改和增加元素"
   ]
  },
  {
   "cell_type": "code",
   "execution_count": 7,
   "id": "e3fb7e97",
   "metadata": {},
   "outputs": [
    {
     "data": {
      "text/plain": [
       "[100, 20, 30, 40, 50]"
      ]
     },
     "execution_count": 7,
     "metadata": {},
     "output_type": "execute_result"
    }
   ],
   "source": [
    "#list\n",
    "oneList = [10, 20, 30, 40, 50]\n",
    "oneList\n",
    "oneList[0]\n",
    "oneList[0] = 100\n",
    "oneList"
   ]
  },
  {
   "cell_type": "code",
   "execution_count": 8,
   "id": "25c99374",
   "metadata": {},
   "outputs": [
    {
     "data": {
      "text/plain": [
       "['張xx', 78, 93, 65, 74, 83]"
      ]
     },
     "execution_count": 8,
     "metadata": {},
     "output_type": "execute_result"
    }
   ],
   "source": [
    "stu1 = [\"張xx\",78, 93, 65, 74, 83]\n",
    "stu1"
   ]
  },
  {
   "cell_type": "code",
   "execution_count": 9,
   "id": "badb5585",
   "metadata": {},
   "outputs": [
    {
     "name": "stdout",
     "output_type": "stream",
     "text": [
      "張xx\n",
      "78\n",
      "93\n",
      "65\n",
      "74\n",
      "83\n"
     ]
    }
   ],
   "source": [
    "#for in,配合list\n",
    "for item in stu1:\n",
    "    print(item)"
   ]
  },
  {
   "cell_type": "code",
   "execution_count": 10,
   "id": "3cf3622c",
   "metadata": {},
   "outputs": [
    {
     "data": {
      "text/plain": [
       "'張xx'"
      ]
     },
     "execution_count": 10,
     "metadata": {},
     "output_type": "execute_result"
    }
   ],
   "source": [
    "stu1[0]"
   ]
  },
  {
   "cell_type": "code",
   "execution_count": 11,
   "id": "2f88d732",
   "metadata": {},
   "outputs": [
    {
     "data": {
      "text/plain": [
       "[78, 93, 65, 74, 83]"
      ]
     },
     "execution_count": 11,
     "metadata": {},
     "output_type": "execute_result"
    }
   ],
   "source": [
    "stu1[1:6]"
   ]
  },
  {
   "cell_type": "code",
   "execution_count": 14,
   "id": "9e437d04",
   "metadata": {},
   "outputs": [
    {
     "name": "stdout",
     "output_type": "stream",
     "text": [
      "總分為:393\n"
     ]
    }
   ],
   "source": [
    "total = 0\n",
    "for item in stu1[1:6]:\n",
    "    total += item\n",
    "print(f\"總分為:{total}\")"
   ]
  },
  {
   "cell_type": "code",
   "execution_count": null,
   "id": "f25794c9",
   "metadata": {},
   "outputs": [],
   "source": []
  }
 ],
 "metadata": {
  "kernelspec": {
   "display_name": "Python 3 (ipykernel)",
   "language": "python",
   "name": "python3"
  },
  "language_info": {
   "codemirror_mode": {
    "name": "ipython",
    "version": 3
   },
   "file_extension": ".py",
   "mimetype": "text/x-python",
   "name": "python",
   "nbconvert_exporter": "python",
   "pygments_lexer": "ipython3",
   "version": "3.10.2"
  }
 },
 "nbformat": 4,
 "nbformat_minor": 5
}
