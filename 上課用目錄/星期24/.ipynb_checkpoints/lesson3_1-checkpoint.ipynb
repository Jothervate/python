{
 "cells": [
  {
   "cell_type": "code",
   "execution_count": 4,
   "id": "274dfb26",
   "metadata": {},
   "outputs": [
    {
     "name": "stdout",
     "output_type": "stream",
     "text": [
      "Hello-5-3.05-World\n",
      "\n",
      "Hello World\n"
     ]
    }
   ],
   "source": [
    "print(\"Hello\", 5, 3.05, \"World\",sep=\"-\",end=\"\\n\\n\")\n",
    "print(\"Hello\", \"World\")"
   ]
  },
  {
   "cell_type": "code",
   "execution_count": null,
   "id": "a58b0d8a",
   "metadata": {},
   "outputs": [],
   "source": [
    "print(\"Hello,\" + \"World\")"
   ]
  },
  {
   "cell_type": "code",
   "execution_count": 5,
   "id": "63eb93fa",
   "metadata": {},
   "outputs": [
    {
     "name": "stdout",
     "output_type": "stream",
     "text": [
      "100 * 5 = 500\n"
     ]
    }
   ],
   "source": [
    "#輸出字串和變數整合在一起\n",
    "n = 100\n",
    "m = 5\n",
    "print(n,\"*\",m, \"=\", n*m)"
   ]
  },
  {
   "cell_type": "code",
   "execution_count": 6,
   "id": "558446e6",
   "metadata": {},
   "outputs": [
    {
     "name": "stdout",
     "output_type": "stream",
     "text": [
      "100 * 5 = 500\n"
     ]
    }
   ],
   "source": [
    "#輸出字串和變數整合在一起,成為一個新的字串\n",
    "#字串插補\n",
    "#得到一個全新的字串\n",
    "n = 100\n",
    "m = 5\n",
    "print(f\"{n} * {m} = {n*m}\")"
   ]
  },
  {
   "cell_type": "code",
   "execution_count": 7,
   "id": "b8d57399",
   "metadata": {},
   "outputs": [
    {
     "data": {
      "text/plain": [
       "'100 * 5 = 500'"
      ]
     },
     "execution_count": 7,
     "metadata": {},
     "output_type": "execute_result"
    }
   ],
   "source": [
    "n = 100\n",
    "m = 5\n",
    "f\"{n} * {m} = {n*m}\""
   ]
  },
  {
   "cell_type": "code",
   "execution_count": 10,
   "id": "52234e2c",
   "metadata": {},
   "outputs": [
    {
     "name": "stdout",
     "output_type": "stream",
     "text": [
      "PI=3.1416\n"
     ]
    }
   ],
   "source": [
    "pi = 3.14159678\n",
    "print(f\"PI={pi:.4f}\")"
   ]
  },
  {
   "cell_type": "code",
   "execution_count": null,
   "id": "046f94c8",
   "metadata": {},
   "outputs": [],
   "source": []
  }
 ],
 "metadata": {
  "kernelspec": {
   "display_name": "Python 3 (ipykernel)",
   "language": "python",
   "name": "python3"
  },
  "language_info": {
   "codemirror_mode": {
    "name": "ipython",
    "version": 3
   },
   "file_extension": ".py",
   "mimetype": "text/x-python",
   "name": "python",
   "nbconvert_exporter": "python",
   "pygments_lexer": "ipython3",
   "version": "3.10.2"
  }
 },
 "nbformat": 4,
 "nbformat_minor": 5
}
