{
 "cells": [
  {
   "cell_type": "code",
   "execution_count": 1,
   "metadata": {},
   "outputs": [],
   "source": [
    "my_list = [1, 2, 3, 4, 5]\n",
    "my_dict = {\"tw\":\"Taiwan\",\"jp\":\"Japan\"}\n",
    "my_set = {2, 4, 6, 8}"
   ]
  },
  {
   "cell_type": "code",
   "execution_count": 2,
   "metadata": {},
   "outputs": [
    {
     "name": "stdout",
     "output_type": "stream",
     "text": [
      "<class 'list'>\n",
      "<class 'dict'>\n",
      "<class 'set'>\n"
     ]
    }
   ],
   "source": [
    "print(type(my_list))\n",
    "print(type(my_dict))\n",
    "print(type(my_set))"
   ]
  },
  {
   "cell_type": "code",
   "execution_count": 25,
   "metadata": {},
   "outputs": [],
   "source": [
    "class Person():\n",
    "    def __init__(self,n,age=18):\n",
    "        self.name = n\n",
    "        self.age = age\n",
    "        \n",
    "    \n",
    "    def description(self):\n",
    "        print(f\"我的名字是{self.name}\")\n",
    "        print(f\"我的age是{self.age}\")\n",
    "        "
   ]
  },
  {
   "cell_type": "code",
   "execution_count": 26,
   "metadata": {},
   "outputs": [
    {
     "name": "stdout",
     "output_type": "stream",
     "text": [
      "我的名字是robert\n",
      "我的age是25\n",
      "我的名字是tom\n",
      "我的age是18\n"
     ]
    }
   ],
   "source": [
    "p1 = Person(n=\"robert\",age=25)\n",
    "p2 = Person(n=\"tom\")\n",
    "\n",
    "p1.description()\n",
    "p2.description()\n"
   ]
  },
  {
   "cell_type": "code",
   "execution_count": 40,
   "metadata": {},
   "outputs": [],
   "source": [
    "#繼承\n",
    "class Student(Person):\n",
    "    def __init__(self,n,age=18,chinese=60,english=60):\n",
    "        super().__init__(n,age)\n",
    "        self.job=\"student\"\n",
    "        self.chinese = chinese\n",
    "        self.english = english\n",
    "\n",
    "    def description(self):\n",
    "        super().description()\n",
    "        print(f\"我的職業是{self.job}\")\n",
    "        print(f\"我的國文是{self.chinese}\")\n",
    "        print(f\"我的英文是{self.english}\")\n",
    "\n",
    "    @property\n",
    "    def sum(self):\n",
    "        return self.chinese + self.english\n",
    "\n"
   ]
  },
  {
   "cell_type": "code",
   "execution_count": 41,
   "metadata": {},
   "outputs": [
    {
     "name": "stdout",
     "output_type": "stream",
     "text": [
      "我的名字是jone\n",
      "我的age是18\n",
      "我的職業是student\n",
      "我的國文是85\n",
      "我的英文是60\n",
      "總分 145\n",
      "=============\n",
      "我的名字是peter\n",
      "我的age是21\n",
      "我的職業是student\n",
      "我的國文是60\n",
      "我的英文是92\n",
      "總分 152\n"
     ]
    }
   ],
   "source": [
    "s1 = Student(n=\"jone\",chinese=85)\n",
    "s2 = Student(n=\"peter\",age=21,english=92)\n",
    "\n",
    "s1.description()\n",
    "print(\"總分\",s1.sum)\n",
    "print(\"=============\")\n",
    "s2.description()\n",
    "print(\"總分\",s2.sum)\n"
   ]
  }
 ],
 "metadata": {
  "kernelspec": {
   "display_name": "Python 3.10.6 ('venv14')",
   "language": "python",
   "name": "python3"
  },
  "language_info": {
   "codemirror_mode": {
    "name": "ipython",
    "version": 3
   },
   "file_extension": ".py",
   "mimetype": "text/x-python",
   "name": "python",
   "nbconvert_exporter": "python",
   "pygments_lexer": "ipython3",
   "version": "3.10.6"
  },
  "orig_nbformat": 4,
  "vscode": {
   "interpreter": {
    "hash": "a58913c66b98dddfc964ba6f5302e4f760ac5e6f18107696cc385ae346a09ab8"
   }
  }
 },
 "nbformat": 4,
 "nbformat_minor": 2
}
