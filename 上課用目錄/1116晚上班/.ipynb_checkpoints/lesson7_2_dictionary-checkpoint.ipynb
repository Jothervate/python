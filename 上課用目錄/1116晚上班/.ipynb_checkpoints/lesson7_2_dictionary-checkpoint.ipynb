{
 "cells": [
  {
   "cell_type": "code",
   "execution_count": 1,
   "id": "992bd9ed",
   "metadata": {},
   "outputs": [
    {
     "data": {
      "text/plain": [
       "{'tw': 'Taiwan', 'jp': 'Japan', 'fr': 'Frence'}"
      ]
     },
     "execution_count": 1,
     "metadata": {},
     "output_type": "execute_result"
    }
   ],
   "source": [
    "#建立dictionary\n",
    "codes = {\"tw\":\"Taiwan\",\n",
    "         \"jp\":\"Japan\",\n",
    "         \"fr\":\"Frence\"}\n",
    "codes"
   ]
  },
  {
   "cell_type": "code",
   "execution_count": 2,
   "id": "845111ae",
   "metadata": {},
   "outputs": [
    {
     "name": "stdout",
     "output_type": "stream",
     "text": [
      "Taiwan\n"
     ]
    }
   ],
   "source": [
    "#最得dictionary的值\n",
    "print(codes[\"tw\"])"
   ]
  },
  {
   "cell_type": "code",
   "execution_count": 4,
   "id": "b7702b31",
   "metadata": {},
   "outputs": [
    {
     "data": {
      "text/plain": [
       "{'tw': 'Taiwan', 'jp': 'Japan', 'fr': 'Frence', 'us': 'Unite state'}"
      ]
     },
     "execution_count": 4,
     "metadata": {},
     "output_type": "execute_result"
    }
   ],
   "source": [
    "#新增\n",
    "codes[\"us\"] = \"Unite state\"\n",
    "codes"
   ]
  },
  {
   "cell_type": "code",
   "execution_count": 5,
   "id": "631d4fd8",
   "metadata": {},
   "outputs": [],
   "source": [
    "#刪除\n",
    "del codes[\"us\"]"
   ]
  },
  {
   "cell_type": "code",
   "execution_count": 6,
   "id": "226fe27d",
   "metadata": {},
   "outputs": [
    {
     "data": {
      "text/plain": [
       "{'tw': 'Taiwan', 'jp': 'Japan', 'fr': 'Frence'}"
      ]
     },
     "execution_count": 6,
     "metadata": {},
     "output_type": "execute_result"
    }
   ],
   "source": [
    "codes"
   ]
  },
  {
   "cell_type": "code",
   "execution_count": 7,
   "id": "0e1cf524",
   "metadata": {},
   "outputs": [
    {
     "name": "stdout",
     "output_type": "stream",
     "text": [
      "<class 'dict'>\n"
     ]
    }
   ],
   "source": [
    "print(type(codes))"
   ]
  },
  {
   "cell_type": "code",
   "execution_count": 9,
   "id": "a0ae3133",
   "metadata": {},
   "outputs": [
    {
     "data": {
      "text/plain": [
       "['tw', 'jp', 'fr']"
      ]
     },
     "execution_count": 9,
     "metadata": {},
     "output_type": "execute_result"
    }
   ],
   "source": [
    "list(codes.keys())"
   ]
  },
  {
   "cell_type": "code",
   "execution_count": 11,
   "id": "6a512042",
   "metadata": {},
   "outputs": [
    {
     "data": {
      "text/plain": [
       "['Taiwan', 'Japan', 'Frence']"
      ]
     },
     "execution_count": 11,
     "metadata": {},
     "output_type": "execute_result"
    }
   ],
   "source": [
    "list(codes.values())"
   ]
  },
  {
   "cell_type": "code",
   "execution_count": 13,
   "id": "f1111ef2",
   "metadata": {},
   "outputs": [
    {
     "name": "stdout",
     "output_type": "stream",
     "text": [
      "tw\n",
      "Taiwan\n",
      "==========\n",
      "jp\n",
      "Japan\n",
      "==========\n",
      "fr\n",
      "Frence\n",
      "==========\n"
     ]
    }
   ],
   "source": [
    "for key,value in codes.items():\n",
    "    print(key)\n",
    "    print(value)\n",
    "    print(\"==========\")"
   ]
  },
  {
   "cell_type": "code",
   "execution_count": null,
   "id": "217c85af",
   "metadata": {},
   "outputs": [],
   "source": []
  }
 ],
 "metadata": {
  "kernelspec": {
   "display_name": "Python 3 (ipykernel)",
   "language": "python",
   "name": "python3"
  },
  "language_info": {
   "codemirror_mode": {
    "name": "ipython",
    "version": 3
   },
   "file_extension": ".py",
   "mimetype": "text/x-python",
   "name": "python",
   "nbconvert_exporter": "python",
   "pygments_lexer": "ipython3",
   "version": "3.10.6"
  }
 },
 "nbformat": 4,
 "nbformat_minor": 5
}
