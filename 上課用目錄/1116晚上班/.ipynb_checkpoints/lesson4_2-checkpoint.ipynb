{
 "cells": [
  {
   "cell_type": "code",
   "execution_count": 1,
   "id": "25699be7",
   "metadata": {},
   "outputs": [
    {
     "data": {
      "text/plain": [
       "range(0, 5)"
      ]
     },
     "execution_count": 1,
     "metadata": {},
     "output_type": "execute_result"
    }
   ],
   "source": [
    "range(5)"
   ]
  },
  {
   "cell_type": "code",
   "execution_count": 2,
   "id": "a84c5010",
   "metadata": {},
   "outputs": [
    {
     "name": "stdout",
     "output_type": "stream",
     "text": [
      "0\n",
      "1\n",
      "2\n",
      "3\n",
      "4\n"
     ]
    }
   ],
   "source": [
    "#明確知道執行次數\n",
    "for i in range(5):\n",
    "    print(i)"
   ]
  },
  {
   "cell_type": "code",
   "execution_count": 3,
   "id": "6bc3aa9d",
   "metadata": {},
   "outputs": [
    {
     "name": "stdout",
     "output_type": "stream",
     "text": [
      "1\n",
      "2\n",
      "3\n",
      "4\n"
     ]
    }
   ],
   "source": [
    "for i in range(1,5):\n",
    "    print(i)"
   ]
  },
  {
   "cell_type": "code",
   "execution_count": 4,
   "id": "0a8fd3d6",
   "metadata": {},
   "outputs": [
    {
     "name": "stdout",
     "output_type": "stream",
     "text": [
      "1\n",
      "3\n",
      "5\n",
      "7\n",
      "9\n"
     ]
    }
   ],
   "source": [
    "for i in range(1,10,2):\n",
    "    print(i)"
   ]
  },
  {
   "cell_type": "code",
   "execution_count": 6,
   "id": "79c54cad",
   "metadata": {},
   "outputs": [
    {
     "name": "stdout",
     "output_type": "stream",
     "text": [
      " 1* 1= 1  1* 2= 2  1* 3= 3  1* 4= 4  1* 5= 5  1* 6= 6  1* 7= 7  1* 8= 8  1* 9= 9 \n",
      " 2* 1= 2  2* 2= 4  2* 3= 6  2* 4= 8  2* 5=10  2* 6=12  2* 7=14  2* 8=16  2* 9=18 \n",
      " 3* 1= 3  3* 2= 6  3* 3= 9  3* 4=12  3* 5=15  3* 6=18  3* 7=21  3* 8=24  3* 9=27 \n",
      " 4* 1= 4  4* 2= 8  4* 3=12  4* 4=16  4* 5=20  4* 6=24  4* 7=28  4* 8=32  4* 9=36 \n",
      " 5* 1= 5  5* 2=10  5* 3=15  5* 4=20  5* 5=25  5* 6=30  5* 7=35  5* 8=40  5* 9=45 \n",
      " 6* 1= 6  6* 2=12  6* 3=18  6* 4=24  6* 5=30  6* 6=36  6* 7=42  6* 8=48  6* 9=54 \n",
      " 7* 1= 7  7* 2=14  7* 3=21  7* 4=28  7* 5=35  7* 6=42  7* 7=49  7* 8=56  7* 9=63 \n",
      " 8* 1= 8  8* 2=16  8* 3=24  8* 4=32  8* 5=40  8* 6=48  8* 7=56  8* 8=64  8* 9=72 \n",
      " 9* 1= 9  9* 2=18  9* 3=27  9* 4=36  9* 5=45  9* 6=54  9* 7=63  9* 8=72  9* 9=81 \n"
     ]
    }
   ],
   "source": [
    "for i in range(1,10):\n",
    "    for j in range(1,10):\n",
    "        print(f\"{i:2d}*{j:2d}={i*j:2d}\",end=\" \")\n",
    "    print()"
   ]
  },
  {
   "cell_type": "code",
   "execution_count": 8,
   "id": "3321c5bd",
   "metadata": {},
   "outputs": [
    {
     "name": "stdout",
     "output_type": "stream",
     "text": [
      "請輸入第1月份儲存的金額:5678\n",
      "請輸入第2月份儲存的金額:5678\n",
      "請輸入第3月份儲存的金額:5678\n",
      "請輸入第4月份儲存的金額:5678\n",
      "請輸入第5月份儲存的金額:5678\n",
      "請輸入第6月份儲存的金額:5678\n",
      "已經存夠了,存了6個月,共存了34068元\n"
     ]
    }
   ],
   "source": [
    "#小明想要存錢買一輛機車,機車每輛30000元，他將每月存的錢輸入，當存款足夠買機車時，就顯示提示訊息告知。\n",
    "deposit = 0\n",
    "num = 0\n",
    "while deposit < 30000:\n",
    "    num += 1\n",
    "    money = eval(input(f\"請輸入第{num}月份儲存的金額:\"))\n",
    "    deposit += money\n",
    "print(f\"已經存夠了,存了{num}個月,共存了{deposit}元\")"
   ]
  },
  {
   "cell_type": "code",
   "execution_count": 9,
   "id": "e39aee2b",
   "metadata": {},
   "outputs": [
    {
     "name": "stdout",
     "output_type": "stream",
     "text": [
      "請輸入學生的成績:100\n",
      "請輸入學生的成績:100\n",
      "請輸入學生的成績:100\n",
      "請輸入學生的成績:-1\n",
      "學生總分為:300,平均為:100.00\n"
     ]
    }
   ],
   "source": [
    "#小美是一位教師，請你以while迴圈方式為小美設計一個輸入成績的程式，如果輸入負數表示成績輸入結束\n",
    "#在輸入成績結束後顯示班上總成績及平均成績。\n",
    "sum = 0\n",
    "num = 0\n",
    "score = eval(input(\"請輸入學生的成績:\"))\n",
    "while score > 0:\n",
    "    sum += score\n",
    "    num += 1\n",
    "    score = eval(input(\"請輸入學生的成績:\"))\n",
    "\n",
    "print(f\"學生總分為:{sum},平均為:{sum/num:.2f}\")"
   ]
  },
  {
   "cell_type": "code",
   "execution_count": 10,
   "id": "eb8a3985",
   "metadata": {},
   "outputs": [
    {
     "name": "stdout",
     "output_type": "stream",
     "text": [
      "請輸入學生的成績:100\n",
      "請輸入學生的成績:100\n",
      "請輸入學生的成績:100\n",
      "請輸入學生的成績:-1\n",
      "學生總分為:300,平均為:100.00\n"
     ]
    }
   ],
   "source": [
    "#小美是一位教師，請你以while迴圈方式為小美設計一個輸入成績的程式，如果輸入負數表示成績輸入結束\n",
    "#在輸入成績結束後顯示班上總成績及平均成績。\n",
    "sum = 0\n",
    "num = 0\n",
    "while True:\n",
    "    score = eval(input(\"請輸入學生的成績:\"))\n",
    "    if score < 0:\n",
    "        break\n",
    "    sum += score\n",
    "    num += 1\n",
    "    \n",
    "\n",
    "print(f\"學生總分為:{sum},平均為:{sum/num:.2f}\")"
   ]
  },
  {
   "cell_type": "code",
   "execution_count": 11,
   "id": "dcd73a27",
   "metadata": {},
   "outputs": [
    {
     "name": "stdout",
     "output_type": "stream",
     "text": [
      "請輸入1數值2\n",
      "請輸入2數值4\n",
      "請輸入3數值6\n",
      "請輸入4數值8\n",
      "請輸入5數值1\n",
      "請輸入6數值3\n",
      "請輸入7數值5\n",
      "請輸入8數值7\n",
      "請輸入9數值9\n",
      "請輸入10數值-1\n",
      "所有正偶數的加總是:20\n"
     ]
    }
   ],
   "source": [
    "#請設計一個程式，讓使用者輸入數值，只有加總正偶數值，不加總正奇數值，如果輸入負數，結束程式。\n",
    "num = 0\n",
    "sum = 0\n",
    "while True:\n",
    "    num += 1\n",
    "    input_value = eval(input(f\"請輸入{num}數值\"))\n",
    "    if input_value < 0:\n",
    "        break\n",
    "    elif input_value % 2 == 1:\n",
    "        continue\n",
    "    else:\n",
    "        sum += input_value\n",
    "\n",
    "print(f\"所有正偶數的加總是:{sum}\")"
   ]
  },
  {
   "cell_type": "code",
   "execution_count": 19,
   "id": "b9304ca8",
   "metadata": {},
   "outputs": [
    {
     "data": {
      "text/plain": [
       "5"
      ]
     },
     "execution_count": 19,
     "metadata": {},
     "output_type": "execute_result"
    }
   ],
   "source": [
    "import random\n",
    "random.randint(1,5)"
   ]
  },
  {
   "cell_type": "code",
   "execution_count": 21,
   "id": "359341fa",
   "metadata": {},
   "outputs": [
    {
     "name": "stdout",
     "output_type": "stream",
     "text": [
      "============猜數字遊戲=============\n",
      "\n",
      "\n",
      "猜數字範圍1~100:50\n",
      "再小一點\n",
      "您已經猜了1次\n",
      "猜數字範圍1~49:30\n",
      "再小一點\n",
      "您已經猜了2次\n",
      "猜數字範圍1~29:15\n",
      "再大一點\n",
      "您已經猜了3次\n",
      "猜數字範圍16~29:22\n",
      "再小一點\n",
      "您已經猜了4次\n",
      "猜數字範圍16~21:18\n",
      "您猜對了,您猜了5次\n",
      "遊戲結束\n"
     ]
    }
   ],
   "source": [
    "#猜數字遊戲\n",
    "import random\n",
    "min = 1\n",
    "max = 100\n",
    "guess = random.randint(min, max)\n",
    "print(\"============猜數字遊戲=============\\n\\n\")\n",
    "num = 0\n",
    "while True:\n",
    "    answer = int(input(f\"猜數字範圍{min}~{max}:\"))\n",
    "    num += 1\n",
    "    if answer == guess:\n",
    "        print(f\"您猜對了,您猜了{num}次\")\n",
    "        break\n",
    "    elif answer > guess:\n",
    "        print(\"再小一點\")\n",
    "        max = answer-1 \n",
    "    elif answer < guess:\n",
    "        print(\"再大一點\")\n",
    "        min = answer + 1\n",
    "    print(f\"您已經猜了{num}次\")\n",
    "print(\"遊戲結束\")        "
   ]
  },
  {
   "cell_type": "code",
   "execution_count": 24,
   "id": "1f640d0a",
   "metadata": {},
   "outputs": [
    {
     "data": {
      "text/plain": [
       "(76, 84, 92, 64, 75)"
      ]
     },
     "execution_count": 24,
     "metadata": {},
     "output_type": "execute_result"
    }
   ],
   "source": [
    "#list\n",
    "stu1 = [76, 84, 92, 64, 75]\n",
    "stu1[0], stu1[1], stu1[2], stu1[3], stu1[4]"
   ]
  },
  {
   "cell_type": "code",
   "execution_count": null,
   "id": "ede758bb",
   "metadata": {},
   "outputs": [],
   "source": []
  }
 ],
 "metadata": {
  "kernelspec": {
   "display_name": "Python 3 (ipykernel)",
   "language": "python",
   "name": "python3"
  },
  "language_info": {
   "codemirror_mode": {
    "name": "ipython",
    "version": 3
   },
   "file_extension": ".py",
   "mimetype": "text/x-python",
   "name": "python",
   "nbconvert_exporter": "python",
   "pygments_lexer": "ipython3",
   "version": "3.10.6"
  }
 },
 "nbformat": 4,
 "nbformat_minor": 5
}
