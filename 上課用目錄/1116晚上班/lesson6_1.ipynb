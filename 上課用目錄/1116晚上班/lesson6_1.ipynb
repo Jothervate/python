{
 "cells": [
  {
   "cell_type": "code",
   "execution_count": 1,
   "id": "6c73fb4a",
   "metadata": {},
   "outputs": [
    {
     "data": {
      "text/plain": [
       "[['stu1', 79, 99, 69, 70, 58],\n",
       " ['stu2', 70, 78, 59, 76, 74],\n",
       " ['stu3', 76, 56, 51, 75, 74],\n",
       " ['stu4', 77, 54, 90, 53, 85],\n",
       " ['stu5', 84, 74, 90, 94, 56],\n",
       " ['stu6', 83, 90, 80, 97, 71],\n",
       " ['stu7', 98, 75, 68, 51, 55],\n",
       " ['stu8', 51, 60, 81, 76, 61],\n",
       " ['stu9', 78, 61, 81, 72, 58],\n",
       " ['stu10', 51, 78, 69, 56, 80],\n",
       " ['stu11', 100, 77, 76, 77, 82],\n",
       " ['stu12', 90, 52, 97, 71, 89],\n",
       " ['stu13', 51, 64, 78, 87, 54],\n",
       " ['stu14', 82, 62, 79, 87, 57],\n",
       " ['stu15', 79, 77, 55, 66, 69],\n",
       " ['stu16', 62, 77, 87, 75, 79],\n",
       " ['stu17', 99, 53, 96, 74, 55],\n",
       " ['stu18', 77, 80, 85, 88, 65],\n",
       " ['stu19', 91, 99, 82, 98, 74],\n",
       " ['stu20', 79, 91, 68, 85, 57],\n",
       " ['stu21', 75, 55, 78, 99, 94],\n",
       " ['stu22', 69, 98, 97, 68, 78],\n",
       " ['stu23', 99, 72, 99, 84, 90],\n",
       " ['stu24', 62, 97, 96, 86, 81],\n",
       " ['stu25', 86, 71, 53, 84, 72],\n",
       " ['stu26', 82, 62, 80, 71, 52],\n",
       " ['stu27', 84, 77, 62, 68, 75],\n",
       " ['stu28', 62, 54, 98, 76, 89],\n",
       " ['stu29', 58, 98, 55, 73, 53],\n",
       " ['stu30', 75, 72, 67, 86, 73],\n",
       " ['stu31', 100, 50, 91, 62, 55],\n",
       " ['stu32', 53, 87, 88, 50, 89],\n",
       " ['stu33', 70, 83, 68, 51, 54],\n",
       " ['stu34', 91, 58, 89, 50, 79],\n",
       " ['stu35', 51, 51, 85, 65, 98],\n",
       " ['stu36', 65, 83, 71, 61, 66],\n",
       " ['stu37', 91, 75, 92, 91, 100],\n",
       " ['stu38', 54, 76, 98, 84, 55],\n",
       " ['stu39', 72, 80, 57, 65, 65],\n",
       " ['stu40', 87, 80, 100, 100, 60],\n",
       " ['stu41', 80, 68, 77, 50, 90],\n",
       " ['stu42', 68, 96, 54, 98, 63],\n",
       " ['stu43', 99, 56, 76, 98, 89],\n",
       " ['stu44', 71, 85, 93, 51, 76],\n",
       " ['stu45', 61, 85, 50, 73, 85],\n",
       " ['stu46', 56, 95, 81, 52, 57],\n",
       " ['stu47', 61, 75, 77, 54, 93],\n",
       " ['stu48', 64, 93, 67, 80, 91],\n",
       " ['stu49', 87, 65, 73, 76, 74],\n",
       " ['stu50', 73, 52, 96, 68, 66]]"
      ]
     },
     "execution_count": 1,
     "metadata": {},
     "output_type": "execute_result"
    }
   ],
   "source": [
    "import random as rd\n",
    "students = []\n",
    "for i in range(50):\n",
    "    students.append([f\"stu{i+1}\"]+[rd.randint(50,100) for _ in range(5)])\n",
    "students"
   ]
  },
  {
   "cell_type": "code",
   "execution_count": 2,
   "id": "294e4ee7",
   "metadata": {},
   "outputs": [],
   "source": [
    "#使用file.write()寫入文字\n",
    "file = open(\"students1.txt\",mode=\"w\",encoding=\"utf-8\")\n",
    "file.write(str(students))\n",
    "file.close()"
   ]
  },
  {
   "cell_type": "code",
   "execution_count": 3,
   "id": "47a4c572",
   "metadata": {},
   "outputs": [],
   "source": [
    "#使用with...as語法,自動關閉檔案\n",
    "with open(\"students2.txt\",mode=\"w\",encoding=\"utf-8\") as file:\n",
    "    file.write(str(students))\n"
   ]
  },
  {
   "cell_type": "code",
   "execution_count": 5,
   "id": "b5894973",
   "metadata": {},
   "outputs": [
    {
     "name": "stdout",
     "output_type": "stream",
     "text": [
      "儲存完成\n"
     ]
    }
   ],
   "source": [
    "#儲存為csv格式\n",
    "import csv\n",
    "with open(\"students.csv\",mode=\"w\",encoding=\"utf-8\",newline=\"\") as file:\n",
    "    csv_writer = csv.writer(file)\n",
    "    csv_writer.writerow(['姓名','國文','英文','數學','社會','地理'])\n",
    "    csv_writer.writerows(students)\n",
    "print(\"儲存完成\")"
   ]
  },
  {
   "cell_type": "code",
   "execution_count": 14,
   "id": "9eed993c",
   "metadata": {},
   "outputs": [
    {
     "data": {
      "text/plain": [
       "[['2021',\n",
       "  '其他',\n",
       "  '-',\n",
       "  '潭雅神綠園道',\n",
       "  '臺中市',\n",
       "  '296840',\n",
       "  '405427',\n",
       "  '359029',\n",
       "  '599560',\n",
       "  '217254',\n",
       "  '0',\n",
       "  '267140',\n",
       "  '361479',\n",
       "  '389770',\n",
       "  '408215',\n",
       "  '',\n",
       "  '',\n",
       "  '3304714']]"
      ]
     },
     "execution_count": 14,
     "metadata": {},
     "output_type": "execute_result"
    }
   ],
   "source": [
    "#讀取csv格式檔案\n",
    "import csv\n",
    "\n",
    "with open('歷年國內主要觀光遊憩據點遊客人數月別統計.csv',encoding=\"utf-8\",newline=\"\") as file:\n",
    "    csv_reader = csv.reader(file)\n",
    "    all_list = list(csv_reader)\n",
    "all_list[-1:]"
   ]
  },
  {
   "cell_type": "code",
   "execution_count": null,
   "id": "ff936f4b",
   "metadata": {},
   "outputs": [],
   "source": []
  }
 ],
 "metadata": {
  "kernelspec": {
   "display_name": "Python 3 (ipykernel)",
   "language": "python",
   "name": "python3"
  },
  "language_info": {
   "codemirror_mode": {
    "name": "ipython",
    "version": 3
   },
   "file_extension": ".py",
   "mimetype": "text/x-python",
   "name": "python",
   "nbconvert_exporter": "python",
   "pygments_lexer": "ipython3",
   "version": "3.10.6"
  }
 },
 "nbformat": 4,
 "nbformat_minor": 5
}
