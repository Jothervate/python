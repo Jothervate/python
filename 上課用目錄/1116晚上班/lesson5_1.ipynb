{
 "cells": [
  {
   "cell_type": "code",
   "execution_count": 1,
   "id": "cf26ee5d",
   "metadata": {},
   "outputs": [
    {
     "data": {
      "text/plain": [
       "[94, 75, 83, 69, 91]"
      ]
     },
     "execution_count": 1,
     "metadata": {},
     "output_type": "execute_result"
    }
   ],
   "source": [
    "stu1 = [94, 75, 83, 69, 91]\n",
    "stu1"
   ]
  },
  {
   "cell_type": "code",
   "execution_count": 2,
   "id": "9649c0c8",
   "metadata": {},
   "outputs": [
    {
     "name": "stdout",
     "output_type": "stream",
     "text": [
      "<class 'list'>\n"
     ]
    }
   ],
   "source": [
    "print(type(stu1))"
   ]
  },
  {
   "cell_type": "code",
   "execution_count": 4,
   "id": "9d4b48ef",
   "metadata": {},
   "outputs": [
    {
     "name": "stdout",
     "output_type": "stream",
     "text": [
      "[]\n",
      "[]\n"
     ]
    }
   ],
   "source": [
    "#建立list的方法有那些?\n",
    "#建立空的list\n",
    "list1 = []\n",
    "print(list1)\n",
    "\n",
    "list2 = list()\n",
    "print(list2)"
   ]
  },
  {
   "cell_type": "code",
   "execution_count": 7,
   "id": "46883acb",
   "metadata": {},
   "outputs": [
    {
     "name": "stdout",
     "output_type": "stream",
     "text": [
      "[35, 89, 59]\n",
      "[0, 1, 2, 3, 4]\n",
      "['c', 'a', 't']\n"
     ]
    }
   ],
   "source": [
    "#建立有值的list\n",
    "list3 = [35, 89, 59]\n",
    "print(list3)\n",
    "\n",
    "list4 = list(range(5))\n",
    "print(list4)\n",
    "\n",
    "list5 = list(\"cat\")\n",
    "print(list5)"
   ]
  },
  {
   "cell_type": "code",
   "execution_count": 8,
   "id": "6a11998f",
   "metadata": {},
   "outputs": [
    {
     "name": "stdout",
     "output_type": "stream",
     "text": [
      "[0, 1, 2, 3, 4]\n"
     ]
    }
   ],
   "source": [
    "list4 = list(range(5))\n",
    "print(list4)"
   ]
  },
  {
   "cell_type": "code",
   "execution_count": 15,
   "id": "01c9caa8",
   "metadata": {},
   "outputs": [
    {
     "name": "stdout",
     "output_type": "stream",
     "text": [
      "94\n",
      "[94, 100, 83, 69, 91]\n",
      "91\n",
      "94 100 83 69 91 "
     ]
    }
   ],
   "source": [
    "#取出元素的值\n",
    "#透過索引編號取出值\n",
    "stu1 = [94, 75, 83, 69, 91]\n",
    "print(stu1[0])\n",
    "#改變元素值\n",
    "stu1[1] = 100\n",
    "print(stu1)\n",
    "print(stu1[4])\n",
    "\n",
    "#透過for..in,一個一個取出值\n",
    "for i in stu1:\n",
    "    print(i,end=' ')"
   ]
  },
  {
   "cell_type": "code",
   "execution_count": null,
   "id": "6b385787",
   "metadata": {},
   "outputs": [],
   "source": []
  }
 ],
 "metadata": {
  "kernelspec": {
   "display_name": "Python 3 (ipykernel)",
   "language": "python",
   "name": "python3"
  },
  "language_info": {
   "codemirror_mode": {
    "name": "ipython",
    "version": 3
   },
   "file_extension": ".py",
   "mimetype": "text/x-python",
   "name": "python",
   "nbconvert_exporter": "python",
   "pygments_lexer": "ipython3",
   "version": "3.10.6"
  }
 },
 "nbformat": 4,
 "nbformat_minor": 5
}
