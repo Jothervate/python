{
 "cells": [
  {
   "cell_type": "code",
   "execution_count": 1,
   "id": "eca8bb58",
   "metadata": {},
   "outputs": [
    {
     "data": {
      "text/plain": [
       "[94, 75, 83, 69, 91]"
      ]
     },
     "execution_count": 1,
     "metadata": {},
     "output_type": "execute_result"
    }
   ],
   "source": [
    "stu1 = [94, 75, 83, 69, 91]\n",
    "stu1"
   ]
  },
  {
   "cell_type": "code",
   "execution_count": 2,
   "id": "df2165e2",
   "metadata": {},
   "outputs": [
    {
     "name": "stdout",
     "output_type": "stream",
     "text": [
      "<class 'list'>\n"
     ]
    }
   ],
   "source": [
    "print(type(stu1))"
   ]
  },
  {
   "cell_type": "code",
   "execution_count": 4,
   "id": "e215254d",
   "metadata": {},
   "outputs": [
    {
     "name": "stdout",
     "output_type": "stream",
     "text": [
      "[]\n",
      "[]\n"
     ]
    }
   ],
   "source": [
    "#建立list的方法有那些?\n",
    "#建立空的list\n",
    "list1 = []\n",
    "print(list1)\n",
    "\n",
    "list2 = list()\n",
    "print(list2)"
   ]
  },
  {
   "cell_type": "code",
   "execution_count": 7,
   "id": "83436d72",
   "metadata": {},
   "outputs": [
    {
     "name": "stdout",
     "output_type": "stream",
     "text": [
      "[35, 89, 59]\n",
      "[0, 1, 2, 3, 4]\n",
      "['c', 'a', 't']\n"
     ]
    }
   ],
   "source": [
    "#建立有值的list\n",
    "list3 = [35, 89, 59]\n",
    "print(list3)\n",
    "\n",
    "list4 = list(range(5))\n",
    "print(list4)\n",
    "\n",
    "list5 = list(\"cat\")\n",
    "print(list5)"
   ]
  },
  {
   "cell_type": "code",
   "execution_count": 8,
   "id": "f8f6a3cc",
   "metadata": {},
   "outputs": [
    {
     "name": "stdout",
     "output_type": "stream",
     "text": [
      "[0, 1, 2, 3, 4]\n"
     ]
    }
   ],
   "source": [
    "list4 = list(range(5))\n",
    "print(list4)"
   ]
  },
  {
   "cell_type": "code",
   "execution_count": 15,
   "id": "68b0d77d",
   "metadata": {},
   "outputs": [
    {
     "name": "stdout",
     "output_type": "stream",
     "text": [
      "94\n",
      "[94, 100, 83, 69, 91]\n",
      "91\n",
      "94 100 83 69 91 "
     ]
    }
   ],
   "source": [
    "#取出元素的值\n",
    "#透過索引編號取出值\n",
    "stu1 = [94, 75, 83, 69, 91]\n",
    "print(stu1[0])\n",
    "#改變元素值\n",
    "stu1[1] = 100\n",
    "print(stu1)\n",
    "print(stu1[4])\n",
    "\n",
    "#透過for..in,一個一個取出值\n",
    "for i in stu1:\n",
    "    print(i,end=' ')"
   ]
  },
  {
   "cell_type": "code",
   "execution_count": 21,
   "id": "98b95f06",
   "metadata": {},
   "outputs": [
    {
     "name": "stdout",
     "output_type": "stream",
     "text": [
      "['H', 'e', 'l', 'l', 'o', 'W', 'o', 'r', 'l', 'd']\n"
     ]
    }
   ],
   "source": [
    "#切割slice [:]\n",
    "strlist = list(\"HelloWorld\")\n",
    "print(strlist)"
   ]
  },
  {
   "cell_type": "code",
   "execution_count": 22,
   "id": "aceab078",
   "metadata": {},
   "outputs": [
    {
     "data": {
      "text/plain": [
       "['H', 'e', 'l', 'l', 'o']"
      ]
     },
     "execution_count": 22,
     "metadata": {},
     "output_type": "execute_result"
    }
   ],
   "source": [
    "strlist[0:5]"
   ]
  },
  {
   "cell_type": "code",
   "execution_count": 23,
   "id": "a1e3247e",
   "metadata": {},
   "outputs": [
    {
     "data": {
      "text/plain": [
       "['W', 'o', 'r', 'l']"
      ]
     },
     "execution_count": 23,
     "metadata": {},
     "output_type": "execute_result"
    }
   ],
   "source": [
    "strlist[5:9]"
   ]
  },
  {
   "cell_type": "code",
   "execution_count": 24,
   "id": "41c6aa00",
   "metadata": {},
   "outputs": [
    {
     "data": {
      "text/plain": [
       "['W', 'o', 'r', 'l', 'd']"
      ]
     },
     "execution_count": 24,
     "metadata": {},
     "output_type": "execute_result"
    }
   ],
   "source": [
    "strlist[5:] #後面不寫代表到最後\n"
   ]
  },
  {
   "cell_type": "code",
   "execution_count": 25,
   "id": "0b0f8069",
   "metadata": {},
   "outputs": [
    {
     "data": {
      "text/plain": [
       "['H', 'e', 'l', 'l', 'o']"
      ]
     },
     "execution_count": 25,
     "metadata": {},
     "output_type": "execute_result"
    }
   ],
   "source": [
    "strlist[:5]#前面不寫,代表由0開始"
   ]
  },
  {
   "cell_type": "code",
   "execution_count": 26,
   "id": "1ef030ff",
   "metadata": {},
   "outputs": [
    {
     "data": {
      "text/plain": [
       "['H', 'e', 'l', 'l', 'o']"
      ]
     },
     "execution_count": 26,
     "metadata": {},
     "output_type": "execute_result"
    }
   ],
   "source": [
    "#最常使用的\n",
    "#slice前面5個元素\n",
    "strlist[:5]"
   ]
  },
  {
   "cell_type": "code",
   "execution_count": 27,
   "id": "d2711e91",
   "metadata": {},
   "outputs": [
    {
     "data": {
      "text/plain": [
       "['W', 'o', 'r', 'l', 'd']"
      ]
     },
     "execution_count": 27,
     "metadata": {},
     "output_type": "execute_result"
    }
   ],
   "source": [
    "#最常使用的\n",
    "#slice後面5個元素\n",
    "strlist[-5:]"
   ]
  },
  {
   "cell_type": "code",
   "execution_count": 28,
   "id": "c5ad0423",
   "metadata": {},
   "outputs": [
    {
     "name": "stdout",
     "output_type": "stream",
     "text": [
      "<class 'int'>\n"
     ]
    }
   ],
   "source": [
    "x = 5\n",
    "print(type(x))"
   ]
  },
  {
   "cell_type": "code",
   "execution_count": 29,
   "id": "b8288d1d",
   "metadata": {},
   "outputs": [
    {
     "name": "stdout",
     "output_type": "stream",
     "text": [
      "<class 'float'>\n"
     ]
    }
   ],
   "source": [
    "y = 5.0\n",
    "print(type(y))"
   ]
  },
  {
   "cell_type": "code",
   "execution_count": 30,
   "id": "d92f7187",
   "metadata": {},
   "outputs": [
    {
     "name": "stdout",
     "output_type": "stream",
     "text": [
      "<class 'str'>\n"
     ]
    }
   ],
   "source": [
    "name = \"robert\"\n",
    "print(type(name))"
   ]
  },
  {
   "cell_type": "code",
   "execution_count": 31,
   "id": "34da90a9",
   "metadata": {},
   "outputs": [
    {
     "name": "stdout",
     "output_type": "stream",
     "text": [
      "<class 'list'>\n"
     ]
    }
   ],
   "source": [
    "stu1 = [94, 75, 83, 69, 91]\n",
    "print(type(stu1))"
   ]
  },
  {
   "cell_type": "code",
   "execution_count": 35,
   "id": "454b3108",
   "metadata": {},
   "outputs": [
    {
     "data": {
      "text/plain": [
       "[78, 98, 65, 83, 94]"
      ]
     },
     "execution_count": 35,
     "metadata": {},
     "output_type": "execute_result"
    }
   ],
   "source": [
    "#使用list的實體方法append\n",
    "stu2 = []\n",
    "stu2.append(78)\n",
    "stu2.append(98)\n",
    "stu2.append(65)\n",
    "stu2.append(83)\n",
    "stu2.append(94)\n",
    "stu2"
   ]
  },
  {
   "cell_type": "code",
   "execution_count": 45,
   "id": "d1755933",
   "metadata": {},
   "outputs": [
    {
     "data": {
      "text/plain": [
       "[]"
      ]
     },
     "execution_count": 45,
     "metadata": {},
     "output_type": "execute_result"
    }
   ],
   "source": [
    "stu3 = []\n",
    "stu3.append(78)\n",
    "stu3.extend([70,92])\n",
    "stu3.insert(0,100)\n",
    "stu3.pop(0)\n",
    "stu3.pop()\n",
    "stu3.clear()\n",
    "stu3"
   ]
  },
  {
   "cell_type": "code",
   "execution_count": null,
   "id": "b07f9ce6",
   "metadata": {},
   "outputs": [],
   "source": []
  }
 ],
 "metadata": {
  "kernelspec": {
   "display_name": "Python 3 (ipykernel)",
   "language": "python",
   "name": "python3"
  },
  "language_info": {
   "codemirror_mode": {
    "name": "ipython",
    "version": 3
   },
   "file_extension": ".py",
   "mimetype": "text/x-python",
   "name": "python",
   "nbconvert_exporter": "python",
   "pygments_lexer": "ipython3",
   "version": "3.10.6"
  }
 },
 "nbformat": 4,
 "nbformat_minor": 5
}
