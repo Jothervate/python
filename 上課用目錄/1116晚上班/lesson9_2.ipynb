{
 "cells": [
  {
   "cell_type": "code",
   "execution_count": 1,
   "metadata": {},
   "outputs": [],
   "source": [
    "def sayHello():\n",
    "    print(\"Hello!\")\n",
    "    print(\"my name is robert\")\n"
   ]
  },
  {
   "cell_type": "code",
   "execution_count": 2,
   "metadata": {},
   "outputs": [
    {
     "name": "stdout",
     "output_type": "stream",
     "text": [
      "Hello!\n",
      "my name is robert\n"
     ]
    }
   ],
   "source": [
    "sayHello()"
   ]
  },
  {
   "cell_type": "code",
   "execution_count": 3,
   "metadata": {},
   "outputs": [],
   "source": [
    "def add(a,b):\n",
    "    return a + b"
   ]
  },
  {
   "cell_type": "code",
   "execution_count": 4,
   "metadata": {},
   "outputs": [
    {
     "data": {
      "text/plain": [
       "60"
      ]
     },
     "execution_count": 4,
     "metadata": {},
     "output_type": "execute_result"
    }
   ],
   "source": [
    "add(10,50)"
   ]
  },
  {
   "cell_type": "code",
   "execution_count": 5,
   "metadata": {},
   "outputs": [],
   "source": [
    "def divition(a,b):\n",
    "    return a/b"
   ]
  },
  {
   "cell_type": "code",
   "execution_count": 7,
   "metadata": {},
   "outputs": [
    {
     "data": {
      "text/plain": [
       "0.5714285714285714"
      ]
     },
     "execution_count": 7,
     "metadata": {},
     "output_type": "execute_result"
    }
   ],
   "source": [
    "divition(4,7)"
   ]
  },
  {
   "cell_type": "code",
   "execution_count": 11,
   "metadata": {},
   "outputs": [],
   "source": [
    "#撰寫一個大樂透電腦自動選號程式，程式執行會以亂數的方式顯示1-49之間七個不重複的大樂透號碼。\n",
    "import random\n",
    "def generate_lott(i):\n",
    "    lott = set()\n",
    "    while len(lott) < 7:\n",
    "        lott.add(random.randint(1,49))\n",
    "\n",
    "    lott_list = list(lott)\n",
    "    print(f\"第{i}組\")\n",
    "    for num in lott_list[:6]:\n",
    "        print(num,end=\"  \")\n",
    "\n",
    "    print(f\"特別號是:{lott_list[-1]}\")"
   ]
  },
  {
   "cell_type": "code",
   "execution_count": 12,
   "metadata": {},
   "outputs": [
    {
     "name": "stdout",
     "output_type": "stream",
     "text": [
      "第1組\n",
      "1  34  3  6  40  10  特別號是:13\n",
      "第2組\n",
      "37  9  11  44  48  23  特別號是:28\n",
      "第3組\n",
      "1  2  3  37  40  43  特別號是:11\n",
      "第4組\n",
      "32  1  8  44  14  48  特別號是:17\n",
      "第5組\n",
      "4  6  9  11  12  15  特別號是:28\n",
      "第6組\n",
      "39  40  13  14  16  17  特別號是:29\n",
      "第7組\n",
      "34  2  5  6  45  46  特別號是:49\n"
     ]
    }
   ],
   "source": [
    "nums = int(input(\"請輸入要產生的大樂透組數:\"))\n",
    "for i in range(nums):\n",
    "    generate_lott(i+1)"
   ]
  }
 ],
 "metadata": {
  "kernelspec": {
   "display_name": "Python 3.10.6 ('venv14')",
   "language": "python",
   "name": "python3"
  },
  "language_info": {
   "codemirror_mode": {
    "name": "ipython",
    "version": 3
   },
   "file_extension": ".py",
   "mimetype": "text/x-python",
   "name": "python",
   "nbconvert_exporter": "python",
   "pygments_lexer": "ipython3",
   "version": "3.10.6"
  },
  "orig_nbformat": 4,
  "vscode": {
   "interpreter": {
    "hash": "a58913c66b98dddfc964ba6f5302e4f760ac5e6f18107696cc385ae346a09ab8"
   }
  }
 },
 "nbformat": 4,
 "nbformat_minor": 2
}
