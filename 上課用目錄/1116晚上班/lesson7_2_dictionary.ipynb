{
 "cells": [
  {
   "cell_type": "code",
   "execution_count": 1,
   "id": "27260481",
   "metadata": {},
   "outputs": [
    {
     "data": {
      "text/plain": [
       "{'tw': 'Taiwan', 'jp': 'Japan', 'fr': 'Frence'}"
      ]
     },
     "execution_count": 1,
     "metadata": {},
     "output_type": "execute_result"
    }
   ],
   "source": [
    "#建立dictionary\n",
    "codes = {\"tw\":\"Taiwan\",\n",
    "         \"jp\":\"Japan\",\n",
    "         \"fr\":\"Frence\"}\n",
    "codes"
   ]
  },
  {
   "cell_type": "code",
   "execution_count": 2,
   "id": "b98cca4d",
   "metadata": {},
   "outputs": [
    {
     "name": "stdout",
     "output_type": "stream",
     "text": [
      "Taiwan\n"
     ]
    }
   ],
   "source": [
    "#最得dictionary的值\n",
    "print(codes[\"tw\"])"
   ]
  },
  {
   "cell_type": "code",
   "execution_count": 4,
   "id": "3a1d5090",
   "metadata": {},
   "outputs": [
    {
     "data": {
      "text/plain": [
       "{'tw': 'Taiwan', 'jp': 'Japan', 'fr': 'Frence', 'us': 'Unite state'}"
      ]
     },
     "execution_count": 4,
     "metadata": {},
     "output_type": "execute_result"
    }
   ],
   "source": [
    "#新增\n",
    "codes[\"us\"] = \"Unite state\"\n",
    "codes"
   ]
  },
  {
   "cell_type": "code",
   "execution_count": 5,
   "id": "18ecc6be",
   "metadata": {},
   "outputs": [],
   "source": [
    "#刪除\n",
    "del codes[\"us\"]"
   ]
  },
  {
   "cell_type": "code",
   "execution_count": 6,
   "id": "0580421a",
   "metadata": {},
   "outputs": [
    {
     "data": {
      "text/plain": [
       "{'tw': 'Taiwan', 'jp': 'Japan', 'fr': 'Frence'}"
      ]
     },
     "execution_count": 6,
     "metadata": {},
     "output_type": "execute_result"
    }
   ],
   "source": [
    "codes"
   ]
  },
  {
   "cell_type": "code",
   "execution_count": null,
   "id": "934a9d51",
   "metadata": {},
   "outputs": [],
   "source": []
  }
 ],
 "metadata": {
  "kernelspec": {
   "display_name": "Python 3 (ipykernel)",
   "language": "python",
   "name": "python3"
  },
  "language_info": {
   "codemirror_mode": {
    "name": "ipython",
    "version": 3
   },
   "file_extension": ".py",
   "mimetype": "text/x-python",
   "name": "python",
   "nbconvert_exporter": "python",
   "pygments_lexer": "ipython3",
   "version": "3.10.6"
  }
 },
 "nbformat": 4,
 "nbformat_minor": 5
}
