{
 "cells": [
  {
   "cell_type": "code",
   "execution_count": 9,
   "metadata": {},
   "outputs": [
    {
     "name": "stdout",
     "output_type": "stream",
     "text": [
      "utf-8\n"
     ]
    }
   ],
   "source": [
    "import requests\n",
    "url = \"http://api.openweathermap.org/data/2.5/group?id=1668341,1668399,1670481&units=metric&appid=29c4f184354b9889e87f7b494ac86aed\"\n",
    "res = requests.get(url)\n",
    "print(res.encoding)\n"
   ]
  },
  {
   "cell_type": "code",
   "execution_count": 12,
   "metadata": {},
   "outputs": [
    {
     "name": "stdout",
     "output_type": "stream",
     "text": [
      "下載成功\n"
     ]
    }
   ],
   "source": [
    "if res.ok:\n",
    "    print(\"下載成功\")\n",
    "    jsonText = res.text\n",
    "else:\n",
    "    print(\"下載失敗\")"
   ]
  },
  {
   "cell_type": "code",
   "execution_count": 13,
   "metadata": {},
   "outputs": [
    {
     "name": "stdout",
     "output_type": "stream",
     "text": [
      "{\"cnt\":3,\"list\":[{\"coord\":{\"lon\":121.5319,\"lat\":25.0478},\"sys\":{\"country\":\"TW\",\"timezone\":28800,\"sunrise\":1662586637,\"sunset\":1662631595},\"weather\":[{\"id\":801,\"main\":\"Clouds\",\"description\":\"few clouds\",\"icon\":\"02n\"}],\"main\":{\"temp\":27.27,\"feels_like\":27.96,\"temp_min\":26.42,\"temp_max\":27.8,\"pressure\":1013,\"humidity\":54},\"visibility\":10000,\"wind\":{\"speed\":4.63,\"deg\":80},\"clouds\":{\"all\":20},\"dt\":1662635399,\"id\":1668341,\"name\":\"Taipei\"},{\"coord\":{\"lon\":120.6839,\"lat\":24.1469},\"sys\":{\"country\":\"TW\",\"timezone\":28800,\"sunrise\":1662586869,\"sunset\":1662631769},\"weather\":[{\"id\":803,\"main\":\"Clouds\",\"description\":\"broken clouds\",\"icon\":\"04n\"}],\"main\":{\"temp\":29.44,\"feels_like\":31.13,\"temp_min\":27.8,\"temp_max\":29.5,\"pressure\":994,\"humidity\":56},\"visibility\":10000,\"wind\":{\"speed\":1.79,\"deg\":350},\"clouds\":{\"all\":58},\"dt\":1662635398,\"id\":1668399,\"name\":\"Taichung\"},{\"coord\":{\"lon\":120.4881,\"lat\":22.6714},\"sys\":{\"country\":\"TW\",\"timezone\":28800,\"sunrise\":1662586961,\"sunset\":1662631771},\"weather\":[{\"id\":803,\"main\":\"Clouds\",\"description\":\"broken clouds\",\"icon\":\"04n\"}],\"main\":{\"temp\":27.68,\"feels_like\":32.75,\"temp_min\":27.68,\"temp_max\":27.85,\"pressure\":1011,\"humidity\":90},\"visibility\":10000,\"wind\":{\"speed\":2.57,\"deg\":70},\"clouds\":{\"all\":75},\"dt\":1662635560,\"id\":1670481,\"name\":\"Pingtung City\"}]}\n"
     ]
    }
   ],
   "source": [
    "print(jsonText)"
   ]
  }
 ],
 "metadata": {
  "kernelspec": {
   "display_name": "Python 3.10.6 ('venv14')",
   "language": "python",
   "name": "python3"
  },
  "language_info": {
   "codemirror_mode": {
    "name": "ipython",
    "version": 3
   },
   "file_extension": ".py",
   "mimetype": "text/x-python",
   "name": "python",
   "nbconvert_exporter": "python",
   "pygments_lexer": "ipython3",
   "version": "3.10.6"
  },
  "orig_nbformat": 4,
  "vscode": {
   "interpreter": {
    "hash": "a58913c66b98dddfc964ba6f5302e4f760ac5e6f18107696cc385ae346a09ab8"
   }
  }
 },
 "nbformat": 4,
 "nbformat_minor": 2
}
