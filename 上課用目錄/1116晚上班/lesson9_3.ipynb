{
 "cells": [
  {
   "cell_type": "code",
   "execution_count": 5,
   "metadata": {},
   "outputs": [],
   "source": [
    "#function呼叫方法\n",
    "#3個參數\n",
    "def menu(wine, entree, dessert):\n",
    "    return {'wine':wine, 'entree':entree, 'dessert':dessert}"
   ]
  },
  {
   "cell_type": "code",
   "execution_count": 2,
   "metadata": {},
   "outputs": [
    {
     "data": {
      "text/plain": [
       "{'wine': '白酒', 'entree': '牛排', 'dessert': '蛋糕'}"
      ]
     },
     "execution_count": 2,
     "metadata": {},
     "output_type": "execute_result"
    }
   ],
   "source": [
    "#引數位置的呼叫\n",
    "menu('白酒','牛排','蛋糕')"
   ]
  },
  {
   "cell_type": "code",
   "execution_count": 3,
   "metadata": {},
   "outputs": [
    {
     "data": {
      "text/plain": [
       "{'wine': '紅酒', 'entree': '雞排', 'dessert': '冰淇淋'}"
      ]
     },
     "execution_count": 3,
     "metadata": {},
     "output_type": "execute_result"
    }
   ],
   "source": [
    "#引數位置的呼叫\n",
    "menu('紅酒','雞排','冰淇淋')"
   ]
  },
  {
   "cell_type": "code",
   "execution_count": 8,
   "metadata": {},
   "outputs": [
    {
     "data": {
      "text/plain": [
       "{'wine': '白酒', 'entree': '牛排', 'dessert': '蛋糕'}"
      ]
     },
     "execution_count": 8,
     "metadata": {},
     "output_type": "execute_result"
    }
   ],
   "source": [
    "#引數名稱的呼叫\n",
    "#引數名稱呼叫可以不依照順序\n",
    "menu(dessert='蛋糕',wine='白酒',entree=\"牛排\")"
   ]
  },
  {
   "cell_type": "code",
   "execution_count": 9,
   "metadata": {},
   "outputs": [
    {
     "data": {
      "text/plain": [
       "{'wine': '白酒', 'entree': '牛排', 'dessert': '蛋糕'}"
      ]
     },
     "execution_count": 9,
     "metadata": {},
     "output_type": "execute_result"
    }
   ],
   "source": [
    "#混合呼叫\n",
    "#前面一定要用引數位置的呼叫\n",
    "#後面要用引數名稱的呼叫\n",
    "#使用引數名稱的呼叫後，後面全部要用引數名稱的呼叫\n",
    "menu('白酒',dessert='蛋糕',entree='牛排')"
   ]
  },
  {
   "cell_type": "code",
   "execution_count": 10,
   "metadata": {},
   "outputs": [],
   "source": [
    "#定義參數時,有預設的值\n",
    "def menu(wine, entree, dessert='奶昔'):\n",
    "    return {'wine':wine, 'entree':entree, 'dessert':dessert}"
   ]
  },
  {
   "cell_type": "code",
   "execution_count": 11,
   "metadata": {},
   "outputs": [
    {
     "data": {
      "text/plain": [
       "{'wine': '白酒', 'entree': '牛排', 'dessert': '奶昔'}"
      ]
     },
     "execution_count": 11,
     "metadata": {},
     "output_type": "execute_result"
    }
   ],
   "source": [
    "menu('白酒','牛排')"
   ]
  },
  {
   "cell_type": "code",
   "execution_count": 12,
   "metadata": {},
   "outputs": [
    {
     "data": {
      "text/plain": [
       "{'wine': '白酒', 'entree': '牛排', 'dessert': '蛋糕'}"
      ]
     },
     "execution_count": 12,
     "metadata": {},
     "output_type": "execute_result"
    }
   ],
   "source": [
    "menu('白酒','牛排',dessert=\"蛋糕\")"
   ]
  }
 ],
 "metadata": {
  "kernelspec": {
   "display_name": "Python 3.10.6 ('venv14')",
   "language": "python",
   "name": "python3"
  },
  "language_info": {
   "codemirror_mode": {
    "name": "ipython",
    "version": 3
   },
   "file_extension": ".py",
   "mimetype": "text/x-python",
   "name": "python",
   "nbconvert_exporter": "python",
   "pygments_lexer": "ipython3",
   "version": "3.10.6"
  },
  "orig_nbformat": 4,
  "vscode": {
   "interpreter": {
    "hash": "a58913c66b98dddfc964ba6f5302e4f760ac5e6f18107696cc385ae346a09ab8"
   }
  }
 },
 "nbformat": 4,
 "nbformat_minor": 2
}
