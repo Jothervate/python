{
 "cells": [
  {
   "cell_type": "code",
   "execution_count": 12,
   "id": "91dd26ac",
   "metadata": {},
   "outputs": [],
   "source": [
    "#自訂一個類別\n",
    "class Person():\n",
    "    def __init__(self,name): #自訂初始化\n",
    "        self.name = name #name attribute\n",
    "        \n",
    "    def about_me(self): #實體方法\n",
    "        print(\"我是Person\")\n",
    "        print(f\"我的名字是{self.name}\")\n",
    "\n",
    "class Student(Person):\n",
    "    pass\n"
   ]
  },
  {
   "cell_type": "code",
   "execution_count": 11,
   "id": "79d95e02",
   "metadata": {},
   "outputs": [
    {
     "name": "stdout",
     "output_type": "stream",
     "text": [
      "我是Person\n",
      "我的名字是robert\n",
      "我是Person\n",
      "我的名字是David\n"
     ]
    }
   ],
   "source": [
    "p1 =  Person(\"robert\")\n",
    "p1.about_me()\n",
    "\n",
    "p2 = Person(\"David\")\n",
    "p2.about_me()"
   ]
  },
  {
   "cell_type": "code",
   "execution_count": 13,
   "id": "5575df49",
   "metadata": {},
   "outputs": [
    {
     "name": "stdout",
     "output_type": "stream",
     "text": [
      "我是Person\n",
      "我的名字是Eva\n",
      "我是Person\n",
      "我的名字是Petter\n"
     ]
    }
   ],
   "source": [
    "stu1 = Student(name=\"Eva\")\n",
    "stu1.about_me()\n",
    "\n",
    "stu2 = Student(name=\"Petter\")\n",
    "stu2.about_me()"
   ]
  },
  {
   "cell_type": "code",
   "execution_count": null,
   "id": "75083da3",
   "metadata": {},
   "outputs": [],
   "source": []
  }
 ],
 "metadata": {
  "kernelspec": {
   "display_name": "Python 3 (ipykernel)",
   "language": "python",
   "name": "python3"
  },
  "language_info": {
   "codemirror_mode": {
    "name": "ipython",
    "version": 3
   },
   "file_extension": ".py",
   "mimetype": "text/x-python",
   "name": "python",
   "nbconvert_exporter": "python",
   "pygments_lexer": "ipython3",
   "version": "3.10.6"
  }
 },
 "nbformat": 4,
 "nbformat_minor": 5
}
