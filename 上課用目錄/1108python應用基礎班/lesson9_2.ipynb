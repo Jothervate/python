{
 "cells": [
  {
   "cell_type": "code",
   "execution_count": 46,
   "id": "2124c95b",
   "metadata": {},
   "outputs": [],
   "source": [
    "#自訂一個類別\n",
    "class Person():\n",
    "    def __init__(self,name): #自訂初始化\n",
    "        self.name = name #name attribute\n",
    "        \n",
    "    def about_me(self): #實體方法\n",
    "        print(\"我是Person\")\n",
    "        print(f\"我的名字是{self.name}\")\n",
    "\n",
    "class Student(Person):\n",
    "    def __init__(self,name,student_id,chinese=0,english=0,math=0):\n",
    "        super().__init__(name)\n",
    "        self.__id = student_id\n",
    "        self.chinese=chinese\n",
    "        self.english=english\n",
    "        self.math=math\n",
    "    \n",
    "    def about_me(self): #覆寫父類別實體方法\n",
    "        print(\"我是Student\")\n",
    "        print(f\"我的名字是{self.name}\")\n",
    "        \n",
    "    @property\n",
    "    def id(self):\n",
    "        return self.__id\n",
    "    \n",
    "    @property\n",
    "    def sum(self):\n",
    "        return self.chinese + self.english + self.math\n",
    "    \n",
    "    @property\n",
    "    def average(self):\n",
    "        return self.sum / 3.0\n"
   ]
  },
  {
   "cell_type": "code",
   "execution_count": 27,
   "id": "1bea5b4f",
   "metadata": {},
   "outputs": [
    {
     "name": "stdout",
     "output_type": "stream",
     "text": [
      "我是Person\n",
      "我的名字是robert\n",
      "我是Person\n",
      "我的名字是David\n"
     ]
    }
   ],
   "source": [
    "p1 =  Person(\"robert\")\n",
    "p1.about_me()\n",
    "\n",
    "\n",
    "p2 = Person(\"David\")\n",
    "p2.about_me()\n"
   ]
  },
  {
   "cell_type": "code",
   "execution_count": 48,
   "id": "004a7f8d",
   "metadata": {},
   "outputs": [
    {
     "name": "stdout",
     "output_type": "stream",
     "text": [
      "我是Student\n",
      "我的名字是Eva\n",
      "Eva123\n",
      "235\n",
      "78.33\n",
      "我是Student\n",
      "我的名字是Petter\n",
      "Petter123\n",
      "260\n",
      "86.67\n"
     ]
    }
   ],
   "source": [
    "stu1 = Student(name=\"Eva\",student_id=\"Eva123\",english=75,chinese=92,math=68)\n",
    "stu1.about_me()\n",
    "print(stu1.id)\n",
    "print(stu1.sum)\n",
    "print(f\"{stu1.average:.2f}\")\n",
    "\n",
    "stu2 = Student(name=\"Petter\",student_id=\"Petter123\",english=95,chinese=87,math=78)\n",
    "stu2.about_me()\n",
    "print(stu2.id)\n",
    "print(stu2.sum)\n",
    "print(f\"{stu2.average:.2f}\")"
   ]
  },
  {
   "cell_type": "code",
   "execution_count": null,
   "id": "511bf9c9",
   "metadata": {},
   "outputs": [],
   "source": []
  }
 ],
 "metadata": {
  "kernelspec": {
   "display_name": "Python 3 (ipykernel)",
   "language": "python",
   "name": "python3"
  },
  "language_info": {
   "codemirror_mode": {
    "name": "ipython",
    "version": 3
   },
   "file_extension": ".py",
   "mimetype": "text/x-python",
   "name": "python",
   "nbconvert_exporter": "python",
   "pygments_lexer": "ipython3",
   "version": "3.10.6"
  }
 },
 "nbformat": 4,
 "nbformat_minor": 5
}
