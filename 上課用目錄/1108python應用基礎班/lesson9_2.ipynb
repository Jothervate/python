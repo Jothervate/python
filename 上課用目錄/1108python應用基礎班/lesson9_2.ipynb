{
 "cells": [
  {
   "cell_type": "code",
   "execution_count": 36,
   "id": "ac0df546",
   "metadata": {},
   "outputs": [],
   "source": [
    "#自訂一個類別\n",
    "class Person():\n",
    "    def __init__(self,name): #自訂初始化\n",
    "        self.name = name #name attribute\n",
    "        \n",
    "    def about_me(self): #實體方法\n",
    "        print(\"我是Person\")\n",
    "        print(f\"我的名字是{self.name}\")\n",
    "\n",
    "class Student(Person):\n",
    "    def __init__(self,name,student_id):\n",
    "        super().__init__(name)\n",
    "        self.__id = student_id\n",
    "    \n",
    "    def about_me(self): #覆寫父類別實體方法\n",
    "        print(\"我是Student\")\n",
    "        print(f\"我的名字是{self.name}\")\n",
    "        \n",
    "    @property\n",
    "    def id(self):\n",
    "        return self.__id\n"
   ]
  },
  {
   "cell_type": "code",
   "execution_count": 27,
   "id": "80794a31",
   "metadata": {},
   "outputs": [
    {
     "name": "stdout",
     "output_type": "stream",
     "text": [
      "我是Person\n",
      "我的名字是robert\n",
      "我是Person\n",
      "我的名字是David\n"
     ]
    }
   ],
   "source": [
    "p1 =  Person(\"robert\")\n",
    "p1.about_me()\n",
    "\n",
    "\n",
    "p2 = Person(\"David\")\n",
    "p2.about_me()\n"
   ]
  },
  {
   "cell_type": "code",
   "execution_count": 38,
   "id": "fa412887",
   "metadata": {},
   "outputs": [
    {
     "name": "stdout",
     "output_type": "stream",
     "text": [
      "我是Student\n",
      "我的名字是Eva\n"
     ]
    },
    {
     "ename": "AttributeError",
     "evalue": "can't set attribute 'id'",
     "output_type": "error",
     "traceback": [
      "\u001b[0;31m---------------------------------------------------------------------------\u001b[0m",
      "\u001b[0;31mAttributeError\u001b[0m                            Traceback (most recent call last)",
      "Input \u001b[0;32mIn [38]\u001b[0m, in \u001b[0;36m<cell line: 3>\u001b[0;34m()\u001b[0m\n\u001b[1;32m      1\u001b[0m stu1 \u001b[38;5;241m=\u001b[39m Student(name\u001b[38;5;241m=\u001b[39m\u001b[38;5;124m\"\u001b[39m\u001b[38;5;124mEva\u001b[39m\u001b[38;5;124m\"\u001b[39m,student_id\u001b[38;5;241m=\u001b[39m\u001b[38;5;124m\"\u001b[39m\u001b[38;5;124mEva123\u001b[39m\u001b[38;5;124m\"\u001b[39m)\n\u001b[1;32m      2\u001b[0m stu1\u001b[38;5;241m.\u001b[39mabout_me()\n\u001b[0;32m----> 3\u001b[0m \u001b[43mstu1\u001b[49m\u001b[38;5;241;43m.\u001b[39;49m\u001b[43mid\u001b[49m \u001b[38;5;241m=\u001b[39m \u001b[38;5;124m\"\u001b[39m\u001b[38;5;124mxxx\u001b[39m\u001b[38;5;124m\"\u001b[39m\n\u001b[1;32m      4\u001b[0m \u001b[38;5;28mprint\u001b[39m(stu1\u001b[38;5;241m.\u001b[39mid)\n\u001b[1;32m      6\u001b[0m stu2 \u001b[38;5;241m=\u001b[39m Student(name\u001b[38;5;241m=\u001b[39m\u001b[38;5;124m\"\u001b[39m\u001b[38;5;124mPetter\u001b[39m\u001b[38;5;124m\"\u001b[39m,student_id\u001b[38;5;241m=\u001b[39m\u001b[38;5;124m\"\u001b[39m\u001b[38;5;124mPetter123\u001b[39m\u001b[38;5;124m\"\u001b[39m)\n",
      "\u001b[0;31mAttributeError\u001b[0m: can't set attribute 'id'"
     ]
    }
   ],
   "source": [
    "stu1 = Student(name=\"Eva\",student_id=\"Eva123\")\n",
    "stu1.about_me()\n",
    "stu1.id = \"xxx\"\n",
    "print(stu1.id)\n",
    "\n",
    "stu2 = Student(name=\"Petter\",student_id=\"Petter123\")\n",
    "stu2.about_me()\n",
    "stu2.id = \"xxx\"\n",
    "print(stu2.id)"
   ]
  },
  {
   "cell_type": "code",
   "execution_count": null,
   "id": "f9c7c540",
   "metadata": {},
   "outputs": [],
   "source": []
  }
 ],
 "metadata": {
  "kernelspec": {
   "display_name": "Python 3 (ipykernel)",
   "language": "python",
   "name": "python3"
  },
  "language_info": {
   "codemirror_mode": {
    "name": "ipython",
    "version": 3
   },
   "file_extension": ".py",
   "mimetype": "text/x-python",
   "name": "python",
   "nbconvert_exporter": "python",
   "pygments_lexer": "ipython3",
   "version": "3.10.6"
  }
 },
 "nbformat": 4,
 "nbformat_minor": 5
}
