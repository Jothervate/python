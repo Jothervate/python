{
 "cells": [
  {
   "cell_type": "code",
   "execution_count": 1,
   "metadata": {},
   "outputs": [],
   "source": [
    "import json\n",
    "\n",
    "def get_pm25():\n",
    "    with open(\"空氣品質.json\",mode=\"r\",encoding=\"utf-8\") as file:\n",
    "        root = json.load(file)\n",
    "        data_list = root[\"records\"]\n",
    "    return data_list\n"
   ]
  },
  {
   "cell_type": "code",
   "execution_count": 2,
   "metadata": {},
   "outputs": [
    {
     "name": "stdout",
     "output_type": "stream",
     "text": [
      "   sitename county aqi pollutant status  so2    co    o3 o3_8hr pm10  ...  \\\n",
      "0        基隆    基隆市  46               良好  1.1  0.33  79.9   49.2   33  ...   \n",
      "1        汐止    新北市  42               良好  0.9  0.31  69.6   45.1   35  ...   \n",
      "2        萬里    新北市  43               良好                    46.7       ...   \n",
      "3        新店    新北市  48               良好  0.9   0.3  78.9   52.1   34  ...   \n",
      "4        土城    新北市  43               良好  1.3  0.31  72.3   46.9   31  ...   \n",
      "..      ...    ...  ..       ...    ...  ...   ...   ...    ...  ...  ...   \n",
      "81   屏東(琉球)    屏東縣  60     細懸浮微粒     普通  1.1   0.2  53.6   55.8   34  ...   \n",
      "82   桃園(三民)    桃園市  47               良好  0.5  0.54  63.2   48.1   45  ...   \n",
      "83   新北(樹林)    新北市  45               良好  0.6  0.28    64   48.3   33  ...   \n",
      "84   臺南(學甲)    臺南市  47               良好  0.4  0.23  57.9   49.2   27  ...   \n",
      "85   屏東(枋寮)    屏東縣  44               良好  0.2  0.15  53.7   48.7   21  ...   \n",
      "\n",
      "   wind_speed wind_direc          publishtime co_8hr pm2.5_avg pm10_avg  \\\n",
      "0         3.2        263  2022/09/05 14:00:00    0.3        14       24   \n",
      "1         2.9        253  2022/09/05 14:00:00    0.4        11       29   \n",
      "2         3.8        260  2022/09/05 14:00:00    0.2         7       20   \n",
      "3         2.6        278  2022/09/05 14:00:00    0.3        12       24   \n",
      "4         2.7        256  2022/09/05 14:00:00    0.3        10       25   \n",
      "..        ...        ...                  ...    ...       ...      ...   \n",
      "81        1.1        170  2022/09/05 14:00:00    0.2        19       38   \n",
      "82          1        260  2022/09/05 14:00:00    0.7        14       34   \n",
      "83        0.7         30  2022/09/05 14:00:00    0.3        14       25   \n",
      "84        2.6        233  2022/09/05 14:00:00    0.2        14       27   \n",
      "85          1        278  2022/09/05 14:00:00    0.2        13       24   \n",
      "\n",
      "   so2_avg     longitude     latitude siteid  \n",
      "0        0    121.760056    25.129167      1  \n",
      "1        0      121.6423    25.067131      2  \n",
      "2        0    121.689881    25.179667      3  \n",
      "3        0    121.537778    24.977222      4  \n",
      "4        0    121.451861    24.982528      5  \n",
      "..     ...           ...          ...    ...  \n",
      "81       0     120.37722     22.35222    204  \n",
      "82       0  121.31820833  25.00121944    310  \n",
      "83       0  121.38352778  24.94902778    311  \n",
      "84       0  120.18339722  23.23688056    312  \n",
      "85       0  120.59036944  22.38474167    313  \n",
      "\n",
      "[86 rows x 24 columns]\n"
     ]
    }
   ],
   "source": [
    "import pandas as pd \n",
    "\n",
    "data_list = get_pm25()\n",
    "dataFrame = pd.DataFrame(data=data_list)\n",
    "print(dataFrame)"
   ]
  }
 ],
 "metadata": {
  "kernelspec": {
   "display_name": "Python 3.10.6 ('venv12')",
   "language": "python",
   "name": "python3"
  },
  "language_info": {
   "codemirror_mode": {
    "name": "ipython",
    "version": 3
   },
   "file_extension": ".py",
   "mimetype": "text/x-python",
   "name": "python",
   "nbconvert_exporter": "python",
   "pygments_lexer": "ipython3",
   "version": "3.10.6"
  },
  "orig_nbformat": 4,
  "vscode": {
   "interpreter": {
    "hash": "b8674bdaebc9ed0c2efa92b2d852905e3dc5a437c412d7aed936d42f4d577325"
   }
  }
 },
 "nbformat": 4,
 "nbformat_minor": 2
}
