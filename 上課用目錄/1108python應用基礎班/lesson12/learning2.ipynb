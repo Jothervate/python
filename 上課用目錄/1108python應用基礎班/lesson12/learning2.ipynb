{
 "cells": [
  {
   "cell_type": "code",
   "execution_count": 1,
   "metadata": {},
   "outputs": [],
   "source": [
    "import json\n",
    "\n",
    "def get_pm25():\n",
    "    with open(\"空氣品質.json\",mode=\"r\",encoding=\"utf-8\") as file:\n",
    "        root = json.load(file)\n",
    "        data_list = root[\"records\"]\n",
    "    return data_list\n"
   ]
  },
  {
   "cell_type": "code",
   "execution_count": 3,
   "metadata": {},
   "outputs": [
    {
     "name": "stdout",
     "output_type": "stream",
     "text": [
      "   sitename county aqi status pm2.5          publishtime\n",
      "0        基隆    基隆市  46     良好    24  2022/09/05 14:00:00\n",
      "1        汐止    新北市  42     良好    18  2022/09/05 14:00:00\n",
      "2        萬里    新北市  43     良好        2022/09/05 14:00:00\n",
      "3        新店    新北市  48     良好    15  2022/09/05 14:00:00\n",
      "4        土城    新北市  43     良好    13  2022/09/05 14:00:00\n",
      "..      ...    ...  ..    ...   ...                  ...\n",
      "81   屏東(琉球)    屏東縣  60     普通    16  2022/09/05 14:00:00\n",
      "82   桃園(三民)    桃園市  47     良好        2022/09/05 14:00:00\n",
      "83   新北(樹林)    新北市  45     良好    19  2022/09/05 14:00:00\n",
      "84   臺南(學甲)    臺南市  47     良好    12  2022/09/05 14:00:00\n",
      "85   屏東(枋寮)    屏東縣  44     良好        2022/09/05 14:00:00\n",
      "\n",
      "[86 rows x 6 columns]\n"
     ]
    }
   ],
   "source": [
    "import pandas as pd \n",
    "\n",
    "data_list = get_pm25()\n",
    "dataFrame = pd.DataFrame(data=data_list,columns=[\"sitename\",\"county\",\"aqi\",\"status\",\"pm2.5\",\"publishtime\"])\n",
    "print(dataFrame)"
   ]
  }
 ],
 "metadata": {
  "kernelspec": {
   "display_name": "Python 3.10.6 ('venv12')",
   "language": "python",
   "name": "python3"
  },
  "language_info": {
   "codemirror_mode": {
    "name": "ipython",
    "version": 3
   },
   "file_extension": ".py",
   "mimetype": "text/x-python",
   "name": "python",
   "nbconvert_exporter": "python",
   "pygments_lexer": "ipython3",
   "version": "3.10.6"
  },
  "orig_nbformat": 4,
  "vscode": {
   "interpreter": {
    "hash": "b8674bdaebc9ed0c2efa92b2d852905e3dc5a437c412d7aed936d42f4d577325"
   }
  }
 },
 "nbformat": 4,
 "nbformat_minor": 2
}
