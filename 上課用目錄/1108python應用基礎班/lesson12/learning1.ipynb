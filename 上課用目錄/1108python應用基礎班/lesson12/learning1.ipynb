{
 "cells": [
  {
   "cell_type": "code",
   "execution_count": 3,
   "metadata": {},
   "outputs": [
    {
     "name": "stdout",
     "output_type": "stream",
     "text": [
      "存檔成功\n"
     ]
    }
   ],
   "source": [
    "\n",
    "import requests\n",
    "def download_pm25():\n",
    "    url = \"https://data.epa.gov.tw/api/v2/aqx_p_432?api_key=e8dd42e6-9b8b-43f8-991e-b3dee723a52d&limit=1000&sort=ImportDate%20desc&format=json\"\n",
    "\n",
    "    response = requests.get(url,stream=True)\n",
    "    if response.status_code == 200:\n",
    "        with open(\"空氣品質.json\", 'wb') as file:\n",
    "            for chunk in response.iter_content(chunk_size=128):\n",
    "                file.write(chunk)\n",
    "        \n",
    "        print(\"存檔成功\")\n",
    "\n",
    "download_pm25()\n"
   ]
  }
 ],
 "metadata": {
  "kernelspec": {
   "display_name": "Python 3.10.6 ('venv12')",
   "language": "python",
   "name": "python3"
  },
  "language_info": {
   "codemirror_mode": {
    "name": "ipython",
    "version": 3
   },
   "file_extension": ".py",
   "mimetype": "text/x-python",
   "name": "python",
   "nbconvert_exporter": "python",
   "pygments_lexer": "ipython3",
   "version": "3.10.6"
  },
  "orig_nbformat": 4,
  "vscode": {
   "interpreter": {
    "hash": "b8674bdaebc9ed0c2efa92b2d852905e3dc5a437c412d7aed936d42f4d577325"
   }
  }
 },
 "nbformat": 4,
 "nbformat_minor": 2
}
