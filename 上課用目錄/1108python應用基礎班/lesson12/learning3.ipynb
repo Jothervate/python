{
 "cells": [
  {
   "cell_type": "code",
   "execution_count": 1,
   "metadata": {},
   "outputs": [],
   "source": [
    "import json\n",
    "\n",
    "def get_pm25():\n",
    "    with open(\"空氣品質.json\",mode=\"r\",encoding=\"utf-8\") as file:\n",
    "        root = json.load(file)\n",
    "        data_list = root[\"records\"]\n",
    "    return data_list\n"
   ]
  },
  {
   "cell_type": "code",
   "execution_count": 2,
   "metadata": {},
   "outputs": [
    {
     "data": {
      "text/html": [
       "<div>\n",
       "<style scoped>\n",
       "    .dataframe tbody tr th:only-of-type {\n",
       "        vertical-align: middle;\n",
       "    }\n",
       "\n",
       "    .dataframe tbody tr th {\n",
       "        vertical-align: top;\n",
       "    }\n",
       "\n",
       "    .dataframe thead th {\n",
       "        text-align: right;\n",
       "    }\n",
       "</style>\n",
       "<table border=\"1\" class=\"dataframe\">\n",
       "  <thead>\n",
       "    <tr style=\"text-align: right;\">\n",
       "      <th></th>\n",
       "      <th>sitename</th>\n",
       "      <th>county</th>\n",
       "      <th>aqi</th>\n",
       "      <th>status</th>\n",
       "      <th>pm2.5</th>\n",
       "      <th>publishtime</th>\n",
       "    </tr>\n",
       "  </thead>\n",
       "  <tbody>\n",
       "    <tr>\n",
       "      <th>0</th>\n",
       "      <td>基隆</td>\n",
       "      <td>基隆市</td>\n",
       "      <td>33</td>\n",
       "      <td>良好</td>\n",
       "      <td>8</td>\n",
       "      <td>2022/09/07 13:00:00</td>\n",
       "    </tr>\n",
       "    <tr>\n",
       "      <th>1</th>\n",
       "      <td>汐止</td>\n",
       "      <td>新北市</td>\n",
       "      <td>29</td>\n",
       "      <td>良好</td>\n",
       "      <td>8</td>\n",
       "      <td>2022/09/07 13:00:00</td>\n",
       "    </tr>\n",
       "    <tr>\n",
       "      <th>2</th>\n",
       "      <td>萬里</td>\n",
       "      <td>新北市</td>\n",
       "      <td>72</td>\n",
       "      <td>普通</td>\n",
       "      <td>10</td>\n",
       "      <td>2022/09/07 13:00:00</td>\n",
       "    </tr>\n",
       "    <tr>\n",
       "      <th>3</th>\n",
       "      <td>新店</td>\n",
       "      <td>新北市</td>\n",
       "      <td>26</td>\n",
       "      <td>良好</td>\n",
       "      <td>7</td>\n",
       "      <td>2022/09/07 13:00:00</td>\n",
       "    </tr>\n",
       "    <tr>\n",
       "      <th>4</th>\n",
       "      <td>土城</td>\n",
       "      <td>新北市</td>\n",
       "      <td>27</td>\n",
       "      <td>良好</td>\n",
       "      <td>5</td>\n",
       "      <td>2022/09/07 13:00:00</td>\n",
       "    </tr>\n",
       "    <tr>\n",
       "      <th>...</th>\n",
       "      <td>...</td>\n",
       "      <td>...</td>\n",
       "      <td>...</td>\n",
       "      <td>...</td>\n",
       "      <td>...</td>\n",
       "      <td>...</td>\n",
       "    </tr>\n",
       "    <tr>\n",
       "      <th>81</th>\n",
       "      <td>屏東(琉球)</td>\n",
       "      <td>屏東縣</td>\n",
       "      <td>51</td>\n",
       "      <td>普通</td>\n",
       "      <td>15</td>\n",
       "      <td>2022/09/07 13:00:00</td>\n",
       "    </tr>\n",
       "    <tr>\n",
       "      <th>82</th>\n",
       "      <td>桃園(三民)</td>\n",
       "      <td>桃園市</td>\n",
       "      <td>32</td>\n",
       "      <td>良好</td>\n",
       "      <td>7</td>\n",
       "      <td>2022/09/07 13:00:00</td>\n",
       "    </tr>\n",
       "    <tr>\n",
       "      <th>83</th>\n",
       "      <td>新北(樹林)</td>\n",
       "      <td>新北市</td>\n",
       "      <td>37</td>\n",
       "      <td>良好</td>\n",
       "      <td>12</td>\n",
       "      <td>2022/09/07 13:00:00</td>\n",
       "    </tr>\n",
       "    <tr>\n",
       "      <th>84</th>\n",
       "      <td>臺南(學甲)</td>\n",
       "      <td>臺南市</td>\n",
       "      <td>64</td>\n",
       "      <td>普通</td>\n",
       "      <td>19</td>\n",
       "      <td>2022/09/07 13:00:00</td>\n",
       "    </tr>\n",
       "    <tr>\n",
       "      <th>85</th>\n",
       "      <td>屏東(枋寮)</td>\n",
       "      <td>屏東縣</td>\n",
       "      <td>32</td>\n",
       "      <td>良好</td>\n",
       "      <td>10</td>\n",
       "      <td>2022/09/07 13:00:00</td>\n",
       "    </tr>\n",
       "  </tbody>\n",
       "</table>\n",
       "<p>86 rows × 6 columns</p>\n",
       "</div>"
      ],
      "text/plain": [
       "   sitename county aqi status pm2.5          publishtime\n",
       "0        基隆    基隆市  33     良好     8  2022/09/07 13:00:00\n",
       "1        汐止    新北市  29     良好     8  2022/09/07 13:00:00\n",
       "2        萬里    新北市  72     普通    10  2022/09/07 13:00:00\n",
       "3        新店    新北市  26     良好     7  2022/09/07 13:00:00\n",
       "4        土城    新北市  27     良好     5  2022/09/07 13:00:00\n",
       "..      ...    ...  ..    ...   ...                  ...\n",
       "81   屏東(琉球)    屏東縣  51     普通    15  2022/09/07 13:00:00\n",
       "82   桃園(三民)    桃園市  32     良好     7  2022/09/07 13:00:00\n",
       "83   新北(樹林)    新北市  37     良好    12  2022/09/07 13:00:00\n",
       "84   臺南(學甲)    臺南市  64     普通    19  2022/09/07 13:00:00\n",
       "85   屏東(枋寮)    屏東縣  32     良好    10  2022/09/07 13:00:00\n",
       "\n",
       "[86 rows x 6 columns]"
      ]
     },
     "execution_count": 2,
     "metadata": {},
     "output_type": "execute_result"
    }
   ],
   "source": [
    "import pandas as pd \n",
    "\n",
    "data_list = get_pm25()\n",
    "dataFrame = pd.DataFrame(data=data_list,columns=[\"sitename\",\"county\",\"aqi\",\"status\",\"pm2.5\",\"publishtime\"])\n",
    "dataFrame"
   ]
  },
  {
   "cell_type": "code",
   "execution_count": 3,
   "metadata": {},
   "outputs": [
    {
     "data": {
      "text/plain": [
       "sitename       object\n",
       "county         object\n",
       "aqi            object\n",
       "status         object\n",
       "pm2.5          object\n",
       "publishtime    object\n",
       "dtype: object"
      ]
     },
     "execution_count": 3,
     "metadata": {},
     "output_type": "execute_result"
    }
   ],
   "source": [
    "#檢查所有的欄位的資料類型\n",
    "dataFrame.dtypes"
   ]
  },
  {
   "cell_type": "code",
   "execution_count": 4,
   "metadata": {},
   "outputs": [
    {
     "data": {
      "text/plain": [
       "sitename       0\n",
       "county         0\n",
       "aqi            0\n",
       "status         0\n",
       "pm2.5          0\n",
       "publishtime    0\n",
       "dtype: int64"
      ]
     },
     "execution_count": 4,
     "metadata": {},
     "output_type": "execute_result"
    }
   ],
   "source": [
    "#檢查是否有空資料的儲存格\n",
    "dataFrame.isnull().sum()"
   ]
  },
  {
   "cell_type": "code",
   "execution_count": 5,
   "metadata": {},
   "outputs": [
    {
     "data": {
      "text/html": [
       "<div>\n",
       "<style scoped>\n",
       "    .dataframe tbody tr th:only-of-type {\n",
       "        vertical-align: middle;\n",
       "    }\n",
       "\n",
       "    .dataframe tbody tr th {\n",
       "        vertical-align: top;\n",
       "    }\n",
       "\n",
       "    .dataframe thead th {\n",
       "        text-align: right;\n",
       "    }\n",
       "</style>\n",
       "<table border=\"1\" class=\"dataframe\">\n",
       "  <thead>\n",
       "    <tr style=\"text-align: right;\">\n",
       "      <th></th>\n",
       "      <th>sitename</th>\n",
       "      <th>county</th>\n",
       "      <th>aqi</th>\n",
       "      <th>status</th>\n",
       "      <th>pm2.5</th>\n",
       "      <th>publishtime</th>\n",
       "    </tr>\n",
       "  </thead>\n",
       "  <tbody>\n",
       "    <tr>\n",
       "      <th>45</th>\n",
       "      <td>臺南</td>\n",
       "      <td>臺南市</td>\n",
       "      <td></td>\n",
       "      <td></td>\n",
       "      <td></td>\n",
       "      <td>2022/09/07 13:00:00</td>\n",
       "    </tr>\n",
       "  </tbody>\n",
       "</table>\n",
       "</div>"
      ],
      "text/plain": [
       "   sitename county aqi status pm2.5          publishtime\n",
       "45       臺南    臺南市                   2022/09/07 13:00:00"
      ]
     },
     "execution_count": 5,
     "metadata": {},
     "output_type": "execute_result"
    }
   ],
   "source": [
    "#將aqi和pm25轉換為整數\n",
    "#轉換過程發現空字串\n",
    "#dataFrame[\"aqi\"] = dataFrame[\"aqi\"].astype(int)\n",
    "#dataFrame[dataFrame[\"aqi\"] == \"\"]\n",
    "dataFrame.query(\"aqi == ''\")\n",
    "\n"
   ]
  },
  {
   "cell_type": "code",
   "execution_count": 6,
   "metadata": {},
   "outputs": [],
   "source": [
    "#將空字串轉換為0\n",
    "def doSomething(inputString):\n",
    "    if inputString == '':\n",
    "        return 0\n",
    "    else:\n",
    "        return int(inputString)\n",
    "\n",
    "#new_series = dataFrame[\"aqi\"].map(doSomething)\n",
    "#new_series[new_series == 0]\n",
    "dataFrame[\"aqi\"] = dataFrame[\"aqi\"].map(doSomething)"
   ]
  },
  {
   "cell_type": "code",
   "execution_count": 7,
   "metadata": {},
   "outputs": [
    {
     "data": {
      "text/plain": [
       "sitename       object\n",
       "county         object\n",
       "aqi             int64\n",
       "status         object\n",
       "pm2.5          object\n",
       "publishtime    object\n",
       "dtype: object"
      ]
     },
     "execution_count": 7,
     "metadata": {},
     "output_type": "execute_result"
    }
   ],
   "source": [
    "dataFrame.dtypes"
   ]
  },
  {
   "cell_type": "code",
   "execution_count": 8,
   "metadata": {},
   "outputs": [
    {
     "name": "stdout",
     "output_type": "stream",
     "text": [
      "Int64Index([45], dtype='int64')\n"
     ]
    }
   ],
   "source": [
    "#刪除aqi為0的欄位\n",
    "new_series = dataFrame[\"aqi\"]\n",
    "zero_index = new_series[new_series==0].index\n",
    "print(zero_index)\n",
    "dataFrame.drop(index=zero_index,inplace=True)\n"
   ]
  },
  {
   "cell_type": "code",
   "execution_count": 9,
   "metadata": {},
   "outputs": [],
   "source": [
    "delete_index = dataFrame[dataFrame[\"pm2.5\"] == \"\"].index\n",
    "dataFrame.drop(index=delete_index,inplace=True)"
   ]
  },
  {
   "cell_type": "code",
   "execution_count": 10,
   "metadata": {},
   "outputs": [],
   "source": [
    "dataFrame['pm2.5'] = dataFrame['pm2.5'].astype(int)"
   ]
  },
  {
   "cell_type": "code",
   "execution_count": 11,
   "metadata": {},
   "outputs": [
    {
     "data": {
      "text/html": [
       "<div>\n",
       "<style scoped>\n",
       "    .dataframe tbody tr th:only-of-type {\n",
       "        vertical-align: middle;\n",
       "    }\n",
       "\n",
       "    .dataframe tbody tr th {\n",
       "        vertical-align: top;\n",
       "    }\n",
       "\n",
       "    .dataframe thead th {\n",
       "        text-align: right;\n",
       "    }\n",
       "</style>\n",
       "<table border=\"1\" class=\"dataframe\">\n",
       "  <thead>\n",
       "    <tr style=\"text-align: right;\">\n",
       "      <th></th>\n",
       "      <th>sitename</th>\n",
       "      <th>county</th>\n",
       "      <th>aqi</th>\n",
       "      <th>status</th>\n",
       "      <th>pm2.5</th>\n",
       "      <th>publishtime</th>\n",
       "    </tr>\n",
       "  </thead>\n",
       "  <tbody>\n",
       "    <tr>\n",
       "      <th>0</th>\n",
       "      <td>基隆</td>\n",
       "      <td>基隆市</td>\n",
       "      <td>33</td>\n",
       "      <td>良好</td>\n",
       "      <td>8</td>\n",
       "      <td>2022/09/07 13:00:00</td>\n",
       "    </tr>\n",
       "    <tr>\n",
       "      <th>1</th>\n",
       "      <td>汐止</td>\n",
       "      <td>新北市</td>\n",
       "      <td>29</td>\n",
       "      <td>良好</td>\n",
       "      <td>8</td>\n",
       "      <td>2022/09/07 13:00:00</td>\n",
       "    </tr>\n",
       "    <tr>\n",
       "      <th>2</th>\n",
       "      <td>萬里</td>\n",
       "      <td>新北市</td>\n",
       "      <td>72</td>\n",
       "      <td>普通</td>\n",
       "      <td>10</td>\n",
       "      <td>2022/09/07 13:00:00</td>\n",
       "    </tr>\n",
       "    <tr>\n",
       "      <th>3</th>\n",
       "      <td>新店</td>\n",
       "      <td>新北市</td>\n",
       "      <td>26</td>\n",
       "      <td>良好</td>\n",
       "      <td>7</td>\n",
       "      <td>2022/09/07 13:00:00</td>\n",
       "    </tr>\n",
       "    <tr>\n",
       "      <th>4</th>\n",
       "      <td>土城</td>\n",
       "      <td>新北市</td>\n",
       "      <td>27</td>\n",
       "      <td>良好</td>\n",
       "      <td>5</td>\n",
       "      <td>2022/09/07 13:00:00</td>\n",
       "    </tr>\n",
       "    <tr>\n",
       "      <th>...</th>\n",
       "      <td>...</td>\n",
       "      <td>...</td>\n",
       "      <td>...</td>\n",
       "      <td>...</td>\n",
       "      <td>...</td>\n",
       "      <td>...</td>\n",
       "    </tr>\n",
       "    <tr>\n",
       "      <th>81</th>\n",
       "      <td>屏東(琉球)</td>\n",
       "      <td>屏東縣</td>\n",
       "      <td>51</td>\n",
       "      <td>普通</td>\n",
       "      <td>15</td>\n",
       "      <td>2022/09/07 13:00:00</td>\n",
       "    </tr>\n",
       "    <tr>\n",
       "      <th>82</th>\n",
       "      <td>桃園(三民)</td>\n",
       "      <td>桃園市</td>\n",
       "      <td>32</td>\n",
       "      <td>良好</td>\n",
       "      <td>7</td>\n",
       "      <td>2022/09/07 13:00:00</td>\n",
       "    </tr>\n",
       "    <tr>\n",
       "      <th>83</th>\n",
       "      <td>新北(樹林)</td>\n",
       "      <td>新北市</td>\n",
       "      <td>37</td>\n",
       "      <td>良好</td>\n",
       "      <td>12</td>\n",
       "      <td>2022/09/07 13:00:00</td>\n",
       "    </tr>\n",
       "    <tr>\n",
       "      <th>84</th>\n",
       "      <td>臺南(學甲)</td>\n",
       "      <td>臺南市</td>\n",
       "      <td>64</td>\n",
       "      <td>普通</td>\n",
       "      <td>19</td>\n",
       "      <td>2022/09/07 13:00:00</td>\n",
       "    </tr>\n",
       "    <tr>\n",
       "      <th>85</th>\n",
       "      <td>屏東(枋寮)</td>\n",
       "      <td>屏東縣</td>\n",
       "      <td>32</td>\n",
       "      <td>良好</td>\n",
       "      <td>10</td>\n",
       "      <td>2022/09/07 13:00:00</td>\n",
       "    </tr>\n",
       "  </tbody>\n",
       "</table>\n",
       "<p>84 rows × 6 columns</p>\n",
       "</div>"
      ],
      "text/plain": [
       "   sitename county  aqi status  pm2.5          publishtime\n",
       "0        基隆    基隆市   33     良好      8  2022/09/07 13:00:00\n",
       "1        汐止    新北市   29     良好      8  2022/09/07 13:00:00\n",
       "2        萬里    新北市   72     普通     10  2022/09/07 13:00:00\n",
       "3        新店    新北市   26     良好      7  2022/09/07 13:00:00\n",
       "4        土城    新北市   27     良好      5  2022/09/07 13:00:00\n",
       "..      ...    ...  ...    ...    ...                  ...\n",
       "81   屏東(琉球)    屏東縣   51     普通     15  2022/09/07 13:00:00\n",
       "82   桃園(三民)    桃園市   32     良好      7  2022/09/07 13:00:00\n",
       "83   新北(樹林)    新北市   37     良好     12  2022/09/07 13:00:00\n",
       "84   臺南(學甲)    臺南市   64     普通     19  2022/09/07 13:00:00\n",
       "85   屏東(枋寮)    屏東縣   32     良好     10  2022/09/07 13:00:00\n",
       "\n",
       "[84 rows x 6 columns]"
      ]
     },
     "execution_count": 11,
     "metadata": {},
     "output_type": "execute_result"
    }
   ],
   "source": [
    "dataFrame.dtypes\n",
    "dataFrame"
   ]
  }
 ],
 "metadata": {
  "kernelspec": {
   "display_name": "Python 3.10.6 ('venv12')",
   "language": "python",
   "name": "python3"
  },
  "language_info": {
   "codemirror_mode": {
    "name": "ipython",
    "version": 3
   },
   "file_extension": ".py",
   "mimetype": "text/x-python",
   "name": "python",
   "nbconvert_exporter": "python",
   "pygments_lexer": "ipython3",
   "version": "3.10.6"
  },
  "orig_nbformat": 4,
  "vscode": {
   "interpreter": {
    "hash": "b8674bdaebc9ed0c2efa92b2d852905e3dc5a437c412d7aed936d42f4d577325"
   }
  }
 },
 "nbformat": 4,
 "nbformat_minor": 2
}
