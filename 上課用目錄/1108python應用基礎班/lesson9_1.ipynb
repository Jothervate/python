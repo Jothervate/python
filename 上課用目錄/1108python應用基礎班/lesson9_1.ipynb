{
 "cells": [
  {
   "cell_type": "code",
   "execution_count": 13,
   "id": "19304f7b",
   "metadata": {},
   "outputs": [
    {
     "name": "stdout",
     "output_type": "stream",
     "text": [
      "下載成功\n",
      "                                country        確診       死亡       死亡比例\n",
      "國家                                                                   \n",
      "美國                        United States  93438471  1064408   1.139154\n",
      "印度                                India  44398696   527597   1.188316\n",
      "法國                               France  34464687   153857   0.446419\n",
      "巴西                               Brazil  34368909   683397   1.988416\n",
      "德國                              Germany  32041348   147104   0.459107\n",
      "...                                 ...       ...      ...        ...\n",
      "國際運輸工具(鑽石公主號)  Int'l conveyance (Japan)       741       13   1.754386\n",
      "紐埃                                 Niue        60        0   0.000000\n",
      "教廷                             Holy See        29        0   0.000000\n",
      "吐瓦魯                              Tuvalu        20        0   0.000000\n",
      "北韓                          North Korea         2        1  50.000000\n",
      "\n",
      "[202 rows x 4 columns]\n",
      "美國,印度,法國,巴西,德國,英國,韓國,義大利,俄羅斯,日本,土耳其,西班牙,越南,澳洲,阿根廷,荷蘭,伊朗,墨西哥,印尼,哥倫比亞,波蘭,葡萄牙,臺灣,烏克蘭,奧地利,馬來西亞,希臘,泰國,以色列,智利,比利時,加拿大,秘魯,捷克,瑞士,南非,菲律賓,羅馬尼亞,丹麥,瑞典,伊拉克,塞爾維亞,匈牙利,孟加拉,斯洛伐克,新加坡,喬治亞,約旦,紐西蘭,愛爾蘭,巴基斯坦,香港,挪威,哈薩克,摩洛哥,芬蘭,保加利亞,克羅埃西亞,黎巴嫩,突尼西亞,斯洛維尼亞,古巴,立陶宛,玻利維亞,瓜地馬拉,哥斯大黎加,阿拉伯聯合大公國,尼泊爾,白俄羅斯,厄瓜多,烏拉圭,巴拿馬,拉脫維亞,沙烏地阿拉伯,亞塞拜然,巴拉圭,巴勒斯坦,巴林,斯里蘭卡,科威特,多明尼加,緬甸,愛沙尼亞,賽普勒斯,摩爾多瓦,委內瑞拉,蒙古,埃及,利比亞,衣索比亞,宏都拉斯,亞美尼亞,卡達,阿曼,波士尼亞與赫塞哥維納,北馬其頓,肯亞,尚比亞,阿爾巴尼亞,波札那,盧森堡,蒙特內哥羅,科索沃,阿爾及利亞,奈及利亞,辛巴威,模里西斯,烏茲別克,中國大陸,莫三比克,汶萊,寮國,吉爾吉斯,冰島,阿富汗,薩爾瓦多,馬爾地夫,千里達及托巴哥,烏干達,納米比亞,迦納,牙買加,柬埔寨,盧安達,喀麥隆,馬爾他,安哥拉,巴貝多,剛果民主共和國,塞內加爾,馬拉威,象牙海岸,蘇利南,史瓦帝尼,蓋亞那,貝里斯,斐濟,馬達加斯加,蘇丹,茅利塔尼亞,維德角,不丹,敘利亞,蒲隆地,加彭,安道爾,塞席爾,巴布亞紐幾內亞,坦尚尼亞,多哥,幾內亞,巴哈馬,賴索托,海地,馬利,聖露西亞,貝南,剛果共和國,東帝汶,索羅門群島,布吉納法索,聖馬利諾,格瑞那達,列支敦斯登,索馬利亞,南蘇丹,塔吉克,赤道幾內亞,薩摩亞,吉布地,尼加拉瓜,中非,多米尼克,馬紹爾群島,摩納哥,東加,甘比亞,葉門,萬那杜,索馬利蘭,厄利垂亞,尼日,安地卡及巴布達,幾內亞比索,葛摩,獅子山,賴比瑞亞,查德,密克羅尼西亞聯邦,聖文森及格瑞那丁,聖克里斯多福及尼維斯,庫克群島,聖多美普林西比,帛琉,諾魯,吉里巴斯,澳門,國際運輸工具(鑽石公主號),紐埃,教廷,吐瓦魯,北韓,\n",
      "請輸入國家:範例(xxx,xxxx,xxx):臺灣,烏克蘭,奧地利\n",
      "     country       確診      死亡      死亡比例\n",
      "國家                                     \n",
      "臺灣    Taiwan  5194850    9813  0.188899\n",
      "烏克蘭  Ukraine  5044941  108803  2.156675\n",
      "奧地利  Austria  4891721   19393  0.396445\n"
     ]
    }
   ],
   "source": [
    "import requests\n",
    "import csv\n",
    "import pandas as pd\n",
    "\n",
    "url = 'https://od.cdc.gov.tw/eic/covid19/covid19_global_cases_and_deaths.csv'\n",
    "response = requests.get(url)\n",
    "if response.ok:\n",
    "    print(\"下載成功\")\n",
    "\n",
    "response.encoding = \"utf-8\"\n",
    "csv_reader = csv.reader(response.text.splitlines())\n",
    "df = pd.DataFrame(csv_reader)\n",
    "df=df.iloc[1:]\n",
    "df.columns = ['國家','country', '確診', '死亡']\n",
    "df.set_index('國家',inplace=True)\n",
    "df['確診']=df['確診'].str.replace(\",\",\"\")\n",
    "df['死亡']=df['死亡'].str.replace(\",\",\"\")\n",
    "df['確診'] = df['確診'].astype(int)\n",
    "df['死亡'] = df['死亡'].astype(int)\n",
    "df[\"死亡比例\"] = df[\"死亡\"] / df[\"確診\"] * 100\n",
    "print(df)\n",
    "for code in df.index:\n",
    "    print(code,end=',')\n",
    "print()\n",
    "countries_str = input(\"請輸入國家:範例(xxx,xxxx,xxx):\")\n",
    "countries_list = countries_str.split(\",\")\n",
    "print(df.loc[countries_list])"
   ]
  },
  {
   "cell_type": "code",
   "execution_count": 6,
   "id": "fb4eb7e2",
   "metadata": {},
   "outputs": [
    {
     "data": {
      "text/plain": [
       "['英國', '韓國', '義大利']"
      ]
     },
     "execution_count": 6,
     "metadata": {},
     "output_type": "execute_result"
    }
   ],
   "source": [
    "list((\"英國\",\"韓國\",\"義大利\"))"
   ]
  },
  {
   "cell_type": "code",
   "execution_count": null,
   "id": "b45ca60b",
   "metadata": {},
   "outputs": [],
   "source": []
  }
 ],
 "metadata": {
  "kernelspec": {
   "display_name": "Python 3 (ipykernel)",
   "language": "python",
   "name": "python3"
  },
  "language_info": {
   "codemirror_mode": {
    "name": "ipython",
    "version": 3
   },
   "file_extension": ".py",
   "mimetype": "text/x-python",
   "name": "python",
   "nbconvert_exporter": "python",
   "pygments_lexer": "ipython3",
   "version": "3.10.6"
  }
 },
 "nbformat": 4,
 "nbformat_minor": 5
}
