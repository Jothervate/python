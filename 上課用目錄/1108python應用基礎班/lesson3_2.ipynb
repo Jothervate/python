{
 "cells": [
  {
   "cell_type": "code",
   "execution_count": 1,
   "id": "4c4d6802",
   "metadata": {},
   "outputs": [
    {
     "data": {
      "text/plain": [
       "['姓名', '國文', '英文', '數學', '社會', '自然']"
      ]
     },
     "execution_count": 1,
     "metadata": {},
     "output_type": "execute_result"
    }
   ],
   "source": [
    "['姓名', '國文', '英文', '數學', '社會', '自然']"
   ]
  },
  {
   "cell_type": "code",
   "execution_count": 2,
   "id": "0f3bc48e",
   "metadata": {},
   "outputs": [
    {
     "data": {
      "text/plain": [
       "[['姓名', '國文', '英文', '數學', '社會', '自然'],\n",
       " ['張xx', 87, 94, 74, 83, 92],\n",
       " ['李xx', 87, 65, 92, 73, 92],\n",
       " ['黃xx', 77, 95, 82, 63, 72]]"
      ]
     },
     "execution_count": 2,
     "metadata": {},
     "output_type": "execute_result"
    }
   ],
   "source": [
    "students = [['姓名', '國文', '英文', '數學', '社會', '自然'],['張xx', 87, 94, 74, 83, 92],['李xx', 87, 65, 92, 73, 92],['黃xx', 77, 95, 82, 63, 72]]\n",
    "students"
   ]
  },
  {
   "cell_type": "code",
   "execution_count": 3,
   "id": "4f04ab5e",
   "metadata": {},
   "outputs": [
    {
     "name": "stdout",
     "output_type": "stream",
     "text": [
      "['張xx', 87, 94, 74, 83, 92]\n",
      "['李xx', 87, 65, 92, 73, 92]\n",
      "['黃xx', 77, 95, 82, 63, 72]\n"
     ]
    }
   ],
   "source": [
    "print(students[1])\n",
    "print(students[2])\n",
    "print(students[3])"
   ]
  },
  {
   "cell_type": "code",
   "execution_count": 4,
   "id": "e4964abb",
   "metadata": {},
   "outputs": [
    {
     "name": "stdout",
     "output_type": "stream",
     "text": [
      "學生姓名:張xx\n",
      "學生分數:[87, 94, 74, 83, 92]\n",
      "學生姓名:李xx\n",
      "學生分數:[87, 65, 92, 73, 92]\n",
      "學生姓名:黃xx\n",
      "學生分數:[77, 95, 82, 63, 72]\n"
     ]
    }
   ],
   "source": [
    "for student in students[1:4]:\n",
    "    print(f'學生姓名:{student[0]}')\n",
    "    print(f'學生分數:{student[1:6]}')"
   ]
  },
  {
   "cell_type": "code",
   "execution_count": 5,
   "id": "ea4a9084",
   "metadata": {},
   "outputs": [],
   "source": [
    "#存檔和讀檔\n",
    "#open()\n",
    "file = open('student.csv',mode='w',encoding='utf8')\n",
    "file.write(\n",
    "\"\"\"\n",
    "姓名, 國文, 英文, 數學, 社會, 自然\n",
    "張xx,87, 94, 74, 83, 92\n",
    "李xx,87, 65, 92, 73, 92\n",
    "黃xx,77, 95, 82, 63, 72\n",
    "\"\"\"\n",
    ")\n",
    "file.close()"
   ]
  },
  {
   "cell_type": "code",
   "execution_count": 6,
   "id": "8a084ea9",
   "metadata": {},
   "outputs": [],
   "source": [
    "import csv\n",
    "file = open('student1.csv',mode='w',encoding='utf8')\n",
    "csv_writer = csv.writer(file)\n",
    "csv_writer.writerows(students)\n",
    "file.close()"
   ]
  },
  {
   "cell_type": "code",
   "execution_count": 7,
   "id": "186e8110",
   "metadata": {},
   "outputs": [
    {
     "data": {
      "text/plain": [
       "[['姓名', '國文', '英文', '數學', '社會', '自然'],\n",
       " ['張xx', 87, 94, 74, 83, 92],\n",
       " ['李xx', 87, 65, 92, 73, 92],\n",
       " ['黃xx', 77, 95, 82, 63, 72]]"
      ]
     },
     "execution_count": 7,
     "metadata": {},
     "output_type": "execute_result"
    }
   ],
   "source": [
    "students = list()\n",
    "students.append(['姓名', '國文', '英文', '數學', '社會', '自然'])\n",
    "students.append(['張xx', 87, 94, 74, 83, 92])\n",
    "students.append(['李xx', 87, 65, 92, 73, 92])\n",
    "students.append(['黃xx', 77, 95, 82, 63, 72])\n",
    "students"
   ]
  },
  {
   "cell_type": "code",
   "execution_count": 8,
   "id": "b1330dae",
   "metadata": {},
   "outputs": [
    {
     "data": {
      "text/plain": [
       "[['姓名', '國文', '英文', '數學', '社會', '自然'],\n",
       " ['stu1', 54, 95, 50, 67, 58],\n",
       " ['stu2', 59, 80, 54, 75, 97],\n",
       " ['stu3', 98, 69, 75, 84, 75],\n",
       " ['stu4', 82, 75, 76, 96, 56],\n",
       " ['stu5', 86, 88, 68, 90, 64],\n",
       " ['stu6', 59, 57, 96, 80, 93],\n",
       " ['stu7', 88, 87, 86, 99, 58],\n",
       " ['stu8', 83, 88, 84, 93, 86],\n",
       " ['stu9', 63, 81, 95, 63, 56],\n",
       " ['stu10', 63, 96, 99, 52, 92],\n",
       " ['stu11', 97, 82, 99, 84, 52],\n",
       " ['stu12', 81, 97, 61, 68, 82],\n",
       " ['stu13', 87, 84, 87, 52, 77],\n",
       " ['stu14', 59, 76, 85, 74, 75],\n",
       " ['stu15', 89, 91, 77, 55, 83],\n",
       " ['stu16', 89, 90, 53, 63, 86],\n",
       " ['stu17', 62, 74, 88, 56, 85],\n",
       " ['stu18', 80, 85, 53, 67, 62],\n",
       " ['stu19', 60, 93, 82, 86, 96],\n",
       " ['stu20', 96, 61, 89, 69, 100],\n",
       " ['stu21', 55, 72, 100, 60, 94],\n",
       " ['stu22', 57, 97, 61, 68, 95],\n",
       " ['stu23', 80, 56, 54, 79, 83],\n",
       " ['stu24', 65, 62, 59, 92, 94],\n",
       " ['stu25', 81, 55, 88, 84, 92],\n",
       " ['stu26', 71, 79, 58, 83, 94],\n",
       " ['stu27', 64, 79, 91, 74, 82],\n",
       " ['stu28', 81, 74, 66, 89, 90],\n",
       " ['stu29', 57, 88, 96, 69, 60],\n",
       " ['stu30', 93, 88, 72, 91, 58],\n",
       " ['stu31', 84, 69, 72, 87, 64],\n",
       " ['stu32', 89, 60, 86, 87, 82],\n",
       " ['stu33', 90, 89, 86, 97, 79],\n",
       " ['stu34', 67, 67, 91, 71, 87],\n",
       " ['stu35', 56, 76, 86, 89, 81],\n",
       " ['stu36', 90, 51, 86, 97, 54],\n",
       " ['stu37', 80, 55, 98, 77, 95],\n",
       " ['stu38', 99, 95, 58, 94, 84],\n",
       " ['stu39', 95, 78, 70, 63, 96],\n",
       " ['stu40', 62, 93, 83, 98, 99],\n",
       " ['stu41', 72, 77, 53, 97, 53],\n",
       " ['stu42', 72, 98, 81, 93, 69],\n",
       " ['stu43', 98, 94, 65, 81, 55],\n",
       " ['stu44', 66, 68, 63, 95, 96],\n",
       " ['stu45', 56, 68, 98, 82, 90],\n",
       " ['stu46', 66, 61, 77, 51, 86],\n",
       " ['stu47', 98, 91, 61, 55, 90],\n",
       " ['stu48', 54, 54, 51, 98, 75],\n",
       " ['stu49', 89, 76, 75, 90, 85],\n",
       " ['stu50', 74, 61, 65, 81, 100]]"
      ]
     },
     "execution_count": 8,
     "metadata": {},
     "output_type": "execute_result"
    }
   ],
   "source": [
    "import random\n",
    "students = list()\n",
    "students.append(['姓名', '國文', '英文', '數學', '社會', '自然'])\n",
    "for i in range(1,51):\n",
    "    students.append([f'stu{i}',random.randint(50,100),random.randint(50,100),random.randint(50,100),random.randint(50,100),random.randint(50,100)])\n",
    "students"
   ]
  },
  {
   "cell_type": "code",
   "execution_count": 9,
   "id": "ad9e0a14",
   "metadata": {},
   "outputs": [],
   "source": [
    "import csv\n",
    "\n",
    "file=open('all_students.csv',mode='w',encoding='utf-8',newline='')\n",
    "csv_writer = csv.writer(file)\n",
    "csv_writer.writerows(students)\n",
    "file.close()"
   ]
  },
  {
   "cell_type": "code",
   "execution_count": 10,
   "id": "5648839c",
   "metadata": {},
   "outputs": [],
   "source": [
    "import pandas as pd\n",
    "read_file = pd.read_csv('all_students.csv')\n",
    "read_file.to_excel('all_students.xlsx',index=None,header=True)"
   ]
  },
  {
   "cell_type": "code",
   "execution_count": null,
   "id": "2e45739b",
   "metadata": {},
   "outputs": [],
   "source": []
  }
 ],
 "metadata": {
  "kernelspec": {
   "display_name": "Python 3 (ipykernel)",
   "language": "python",
   "name": "python3"
  },
  "language_info": {
   "codemirror_mode": {
    "name": "ipython",
    "version": 3
   },
   "file_extension": ".py",
   "mimetype": "text/x-python",
   "name": "python",
   "nbconvert_exporter": "python",
   "pygments_lexer": "ipython3",
   "version": "3.10.2"
  }
 },
 "nbformat": 4,
 "nbformat_minor": 5
}
