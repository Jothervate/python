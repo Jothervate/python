{
 "cells": [
  {
   "cell_type": "code",
   "execution_count": 1,
   "metadata": {},
   "outputs": [
    {
     "data": {
      "text/plain": [
       "set"
      ]
     },
     "execution_count": 1,
     "metadata": {},
     "output_type": "execute_result"
    }
   ],
   "source": [
    "nums_set = set()\n",
    "type(nums_set)"
   ]
  },
  {
   "cell_type": "code",
   "execution_count": 4,
   "metadata": {},
   "outputs": [
    {
     "name": "stdout",
     "output_type": "stream",
     "text": [
      "{8, 2, 4, 6}\n"
     ]
    },
    {
     "data": {
      "text/plain": [
       "[8, 2, 4, 6]"
      ]
     },
     "execution_count": 4,
     "metadata": {},
     "output_type": "execute_result"
    }
   ],
   "source": [
    "num1_set = {2, 4, 6, 8, 2, 4, 6, 8}\n",
    "len(num1_set)\n",
    "print(num1_set)\n",
    "\n",
    "num1_list = list(num1_set)\n",
    "num1_list"
   ]
  },
  {
   "cell_type": "code",
   "execution_count": 10,
   "metadata": {},
   "outputs": [
    {
     "name": "stdout",
     "output_type": "stream",
     "text": [
      "[6, 37, 45, 2, 42, 4, 4]\n"
     ]
    }
   ],
   "source": [
    "import random\n",
    "lotts = []\n",
    "for i in range(7):\n",
    "    lotts.append(random.randint(1,49))\n",
    "print(lotts)"
   ]
  },
  {
   "cell_type": "code",
   "execution_count": 18,
   "metadata": {},
   "outputs": [
    {
     "name": "stdout",
     "output_type": "stream",
     "text": [
      "本期大樂透號碼為:\n",
      "1,38,42,45,23,26,特別號:29\n"
     ]
    }
   ],
   "source": [
    "import random\n",
    "lotts_set = set()\n",
    "while len(lotts_set) < 7:\n",
    "    lotts_set.add(random.randint(1,49))\n",
    "lotts_list = list(lotts_set)\n",
    "\n",
    "print(\"本期大樂透號碼為:\")\n",
    "for i in lotts_list[:6]:\n",
    "    print(i,end=\",\")\n",
    "print(f\"特別號:{lotts_list[-1]}\")\n"
   ]
  }
 ],
 "metadata": {
  "kernelspec": {
   "display_name": "Python 3.10.6 ('venv13')",
   "language": "python",
   "name": "python3"
  },
  "language_info": {
   "codemirror_mode": {
    "name": "ipython",
    "version": 3
   },
   "file_extension": ".py",
   "mimetype": "text/x-python",
   "name": "python",
   "nbconvert_exporter": "python",
   "pygments_lexer": "ipython3",
   "version": "3.10.6"
  },
  "orig_nbformat": 4,
  "vscode": {
   "interpreter": {
    "hash": "17ed27cbaed3f823c7631bed1c0890997a49efc733bc3561cfae9bfe19f678ce"
   }
  }
 },
 "nbformat": 4,
 "nbformat_minor": 2
}
