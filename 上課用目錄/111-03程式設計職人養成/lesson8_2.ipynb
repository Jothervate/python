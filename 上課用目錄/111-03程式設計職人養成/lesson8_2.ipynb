{
 "cells": [
  {
   "cell_type": "code",
   "execution_count": 1,
   "metadata": {},
   "outputs": [
    {
     "data": {
      "text/plain": [
       "set"
      ]
     },
     "execution_count": 1,
     "metadata": {},
     "output_type": "execute_result"
    }
   ],
   "source": [
    "nums_set = set()\n",
    "type(nums_set)"
   ]
  },
  {
   "cell_type": "code",
   "execution_count": 4,
   "metadata": {},
   "outputs": [
    {
     "name": "stdout",
     "output_type": "stream",
     "text": [
      "{8, 2, 4, 6}\n"
     ]
    },
    {
     "data": {
      "text/plain": [
       "[8, 2, 4, 6]"
      ]
     },
     "execution_count": 4,
     "metadata": {},
     "output_type": "execute_result"
    }
   ],
   "source": [
    "num1_set = {2, 4, 6, 8, 2, 4, 6, 8}\n",
    "len(num1_set)\n",
    "print(num1_set)\n",
    "\n",
    "num1_list = list(num1_set)\n",
    "num1_list"
   ]
  },
  {
   "cell_type": "code",
   "execution_count": 10,
   "metadata": {},
   "outputs": [
    {
     "name": "stdout",
     "output_type": "stream",
     "text": [
      "[6, 37, 45, 2, 42, 4, 4]\n"
     ]
    }
   ],
   "source": [
    "import random\n",
    "lotts = []\n",
    "for i in range(7):\n",
    "    lotts.append(random.randint(1,49))\n",
    "print(lotts)"
   ]
  },
  {
   "cell_type": "code",
   "execution_count": 22,
   "metadata": {},
   "outputs": [],
   "source": [
    "import random\n",
    "\n",
    "def generate_lott(group_id):\n",
    "    lotts_set = set()\n",
    "    while len(lotts_set) < 7:\n",
    "        lotts_set.add(random.randint(1,49))\n",
    "    lotts_list = list(lotts_set)\n",
    "\n",
    "    print(f\"第{group_id}組大樂透號碼:\")\n",
    "    for i in lotts_list[:6]:\n",
    "        print(i,end=\",\")\n",
    "    print(f\"特別號:{lotts_list[-1]}\")\n"
   ]
  },
  {
   "cell_type": "code",
   "execution_count": 25,
   "metadata": {},
   "outputs": [
    {
     "name": "stdout",
     "output_type": "stream",
     "text": [
      "第1組大樂透號碼:\n",
      "3,6,38,21,22,28,特別號:29\n",
      "第2組大樂透號碼:\n",
      "1,43,11,13,48,18,特別號:28\n",
      "第3組大樂透號碼:\n",
      "2,37,6,43,14,21,特別號:30\n",
      "第4組大樂透號碼:\n",
      "40,9,44,17,18,20,特別號:27\n",
      "第5組大樂透號碼:\n",
      "36,4,41,11,46,24,特別號:29\n",
      "第6組大樂透號碼:\n",
      "36,4,7,41,10,49,特別號:30\n",
      "第7組大樂透號碼:\n",
      "3,7,43,15,22,29,特別號:30\n",
      "第8組大樂透號碼:\n",
      "32,35,45,48,23,26,特別號:30\n",
      "第9組大樂透號碼:\n",
      "3,18,19,24,26,28,特別號:31\n",
      "第10組大樂透號碼:\n",
      "34,5,7,13,47,21,特別號:27\n"
     ]
    }
   ],
   "source": [
    "nums = int(input(\"請問需要幾組樂透:\"))\n",
    "for i in range(nums):\n",
    "    generate_lott(i+1)"
   ]
  }
 ],
 "metadata": {
  "kernelspec": {
   "display_name": "Python 3.10.6 ('venv13')",
   "language": "python",
   "name": "python3"
  },
  "language_info": {
   "codemirror_mode": {
    "name": "ipython",
    "version": 3
   },
   "file_extension": ".py",
   "mimetype": "text/x-python",
   "name": "python",
   "nbconvert_exporter": "python",
   "pygments_lexer": "ipython3",
   "version": "3.10.6"
  },
  "orig_nbformat": 4,
  "vscode": {
   "interpreter": {
    "hash": "17ed27cbaed3f823c7631bed1c0890997a49efc733bc3561cfae9bfe19f678ce"
   }
  }
 },
 "nbformat": 4,
 "nbformat_minor": 2
}
