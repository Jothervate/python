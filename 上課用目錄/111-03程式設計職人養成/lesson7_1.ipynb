{
 "cells": [
  {
   "cell_type": "code",
   "execution_count": null,
   "metadata": {},
   "outputs": [],
   "source": [
    "import requests\n",
    "url = \"https://data.epa.gov.tw/api/v2/stat_p_115?api_key=e8dd42e6-9b8b-43f8-991e-b3dee723a52d&limit=1000&sort=ImportDate desc&format=CSV\"\n",
    "response = requests.get(url)\n",
    "response.encoding = \"utf-8\"\n",
    "print(response.text)"
   ]
  },
  {
   "cell_type": "code",
   "execution_count": 7,
   "metadata": {},
   "outputs": [],
   "source": [
    "with open(\"pm25.csv\",mode=\"w\",encoding=\"utf-8\",newline=\"\") as file:\n",
    "    file.write(response.text)\n",
    "\n"
   ]
  },
  {
   "cell_type": "code",
   "execution_count": null,
   "metadata": {},
   "outputs": [],
   "source": [
    "\n",
    "from io import StringIO\n",
    "import csv\n",
    "with StringIO(response.text) as like_file:\n",
    "    csv_reader = csv.reader(like_file)\n",
    "    csv_list = list(csv_reader)\n"
   ]
  },
  {
   "cell_type": "code",
   "execution_count": 11,
   "metadata": {},
   "outputs": [],
   "source": [
    "data = []\n",
    "for item in csv_list:\n",
    "    if item[1] == '連江縣':\n",
    "        data.append(item)"
   ]
  },
  {
   "cell_type": "code",
   "execution_count": 15,
   "metadata": {},
   "outputs": [
    {
     "data": {
      "text/plain": [
       "['嘉義市',\n",
       " '苗栗縣',\n",
       " '臺中市',\n",
       " '基隆市',\n",
       " '花蓮縣',\n",
       " '新竹縣',\n",
       " '新竹市',\n",
       " '新北市',\n",
       " '金門縣',\n",
       " '臺北市',\n",
       " '臺南市',\n",
       " '屏東縣',\n",
       " '彰化縣',\n",
       " '高雄市',\n",
       " '南投縣',\n",
       " '連江縣',\n",
       " '嘉義縣',\n",
       " '宜蘭縣',\n",
       " '臺東縣',\n",
       " '雲林縣',\n",
       " '澎湖縣',\n",
       " '桃園市']"
      ]
     },
     "execution_count": 15,
     "metadata": {},
     "output_type": "execute_result"
    }
   ],
   "source": [
    "county_set = set()\n",
    "for item in csv_list:\n",
    "    county_set.add(item[1])\n",
    "county_set.remove(\"item2\")\n",
    "county_set.remove(\"總計\")\n",
    "county = list(county_set)\n",
    "county"
   ]
  }
 ],
 "metadata": {
  "kernelspec": {
   "display_name": "Python 3.10.6 ('venv13')",
   "language": "python",
   "name": "python3"
  },
  "language_info": {
   "codemirror_mode": {
    "name": "ipython",
    "version": 3
   },
   "file_extension": ".py",
   "mimetype": "text/x-python",
   "name": "python",
   "nbconvert_exporter": "python",
   "pygments_lexer": "ipython3",
   "version": "3.10.6"
  },
  "orig_nbformat": 4,
  "vscode": {
   "interpreter": {
    "hash": "17ed27cbaed3f823c7631bed1c0890997a49efc733bc3561cfae9bfe19f678ce"
   }
  }
 },
 "nbformat": 4,
 "nbformat_minor": 2
}
