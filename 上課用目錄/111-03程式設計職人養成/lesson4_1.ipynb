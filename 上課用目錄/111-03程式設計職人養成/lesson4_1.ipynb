{
 "cells": [
  {
   "cell_type": "code",
   "execution_count": 1,
   "metadata": {},
   "outputs": [
    {
     "name": "stdout",
     "output_type": "stream",
     "text": [
      "<class 'list'>\n"
     ]
    }
   ],
   "source": [
    "list1 = [1, 2, 3, 4, 5, 6]\n",
    "print(type(list1))"
   ]
  },
  {
   "cell_type": "code",
   "execution_count": 2,
   "metadata": {},
   "outputs": [
    {
     "data": {
      "text/plain": [
       "[10, 1, 2, 3, 4, 5, 6]"
      ]
     },
     "execution_count": 2,
     "metadata": {},
     "output_type": "execute_result"
    }
   ],
   "source": [
    "list1.insert(0,10)\n",
    "list1"
   ]
  },
  {
   "cell_type": "code",
   "execution_count": 8,
   "metadata": {},
   "outputs": [
    {
     "name": "stdout",
     "output_type": "stream",
     "text": [
      "initialization\n",
      "my name is robert\n",
      "initialization\n",
      "my name is david\n"
     ]
    }
   ],
   "source": [
    "class Person():\n",
    "    def __init__(self,n):\n",
    "        print('initialization')\n",
    "        self.name = n\n",
    "\n",
    "    def description(self):\n",
    "        print(f\"my name is {self.name}\")\n",
    "\n",
    "p1 = Person(\"robert\")\n",
    "p1.description()\n",
    "\n",
    "p2 = Person(\"david\")\n",
    "p2.description()"
   ]
  },
  {
   "cell_type": "code",
   "execution_count": 13,
   "metadata": {},
   "outputs": [
    {
     "name": "stdout",
     "output_type": "stream",
     "text": [
      "initialization\n",
      "my name is Tom\n",
      "a1234\n"
     ]
    }
   ],
   "source": [
    "class Student(Person):\n",
    "    def __init__(self,n,id):\n",
    "        super().__init__(n)\n",
    "        self.id = id\n",
    "\n",
    "stu1 = Student(\"Tom\",\"a1234\")\n",
    "stu1.description()\n",
    "print(stu1.id)"
   ]
  }
 ],
 "metadata": {
  "kernelspec": {
   "display_name": "Python 3.9.2 ('venv01')",
   "language": "python",
   "name": "python3"
  },
  "language_info": {
   "codemirror_mode": {
    "name": "ipython",
    "version": 3
   },
   "file_extension": ".py",
   "mimetype": "text/x-python",
   "name": "python",
   "nbconvert_exporter": "python",
   "pygments_lexer": "ipython3",
   "version": "3.9.2"
  },
  "orig_nbformat": 4,
  "vscode": {
   "interpreter": {
    "hash": "5c2f9b673ea091161c6880045a57388fc1f3f8b1d82ef8a10b70ca6517fa8caf"
   }
  }
 },
 "nbformat": 4,
 "nbformat_minor": 2
}
