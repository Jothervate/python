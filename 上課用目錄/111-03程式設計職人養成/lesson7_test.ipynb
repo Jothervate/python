{
 "cells": [
  {
   "cell_type": "code",
   "execution_count": null,
   "metadata": {},
   "outputs": [],
   "source": [
    "import requests\n",
    "url = \"http://opendataap2.e-land.gov.tw/./resource/files/2021-03-11/132147d68273721d057a4e0247d83995.csv\"\n",
    "response = requests.get(url)\n",
    "response.encoding = \"utf-8\"\n",
    "print(response.text)"
   ]
  },
  {
   "cell_type": "code",
   "execution_count": null,
   "metadata": {},
   "outputs": [],
   "source": [
    "from io import StringIO\n",
    "import csv\n",
    "with StringIO(response.text) as like_file:\n",
    "    csv_reader = csv.reader(like_file)\n",
    "    csv_list = list(csv_reader)\n",
    "\n",
    "print(csv_list)"
   ]
  },
  {
   "cell_type": "code",
   "execution_count": null,
   "metadata": {},
   "outputs": [],
   "source": [
    "#下載的文字,儲存檔案"
   ]
  }
 ],
 "metadata": {
  "kernelspec": {
   "display_name": "Python 3.10.6 ('venv13')",
   "language": "python",
   "name": "python3"
  },
  "language_info": {
   "codemirror_mode": {
    "name": "ipython",
    "version": 3
   },
   "file_extension": ".py",
   "mimetype": "text/x-python",
   "name": "python",
   "nbconvert_exporter": "python",
   "pygments_lexer": "ipython3",
   "version": "3.10.6"
  },
  "orig_nbformat": 4,
  "vscode": {
   "interpreter": {
    "hash": "17ed27cbaed3f823c7631bed1c0890997a49efc733bc3561cfae9bfe19f678ce"
   }
  }
 },
 "nbformat": 4,
 "nbformat_minor": 2
}
