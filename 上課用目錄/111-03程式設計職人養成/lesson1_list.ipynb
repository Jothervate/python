{
 "cells": [
  {
   "cell_type": "code",
   "execution_count": 1,
   "metadata": {},
   "outputs": [
    {
     "name": "stdout",
     "output_type": "stream",
     "text": [
      "[98, 78, 65, 92, 65]\n",
      "98\n",
      "65\n"
     ]
    }
   ],
   "source": [
    "stu1 = [98, 78, 65, 92, 65]\n",
    "print(stu1)\n",
    "print(stu1[0])\n",
    "print(stu1[4])"
   ]
  },
  {
   "cell_type": "code",
   "execution_count": 6,
   "metadata": {},
   "outputs": [
    {
     "name": "stdout",
     "output_type": "stream",
     "text": [
      "<class 'list'>\n",
      "65\n"
     ]
    },
    {
     "ename": "IndexError",
     "evalue": "list index out of range",
     "output_type": "error",
     "traceback": [
      "\u001b[0;31m---------------------------------------------------------------------------\u001b[0m",
      "\u001b[0;31mIndexError\u001b[0m                                Traceback (most recent call last)",
      "\u001b[0;32m<ipython-input-6-a17a9e125b1b>\u001b[0m in \u001b[0;36m<module>\u001b[0;34m\u001b[0m\n\u001b[1;32m      1\u001b[0m \u001b[0mprint\u001b[0m\u001b[0;34m(\u001b[0m\u001b[0mtype\u001b[0m\u001b[0;34m(\u001b[0m\u001b[0mstu1\u001b[0m\u001b[0;34m)\u001b[0m\u001b[0;34m)\u001b[0m\u001b[0;34m\u001b[0m\u001b[0;34m\u001b[0m\u001b[0m\n\u001b[1;32m      2\u001b[0m \u001b[0mprint\u001b[0m\u001b[0;34m(\u001b[0m\u001b[0mstu1\u001b[0m\u001b[0;34m[\u001b[0m\u001b[0;36m4\u001b[0m\u001b[0;34m]\u001b[0m\u001b[0;34m)\u001b[0m\u001b[0;34m\u001b[0m\u001b[0;34m\u001b[0m\u001b[0m\n\u001b[0;32m----> 3\u001b[0;31m \u001b[0mprint\u001b[0m\u001b[0;34m(\u001b[0m\u001b[0mstu1\u001b[0m\u001b[0;34m[\u001b[0m\u001b[0;36m5\u001b[0m\u001b[0;34m]\u001b[0m\u001b[0;34m)\u001b[0m\u001b[0;34m\u001b[0m\u001b[0;34m\u001b[0m\u001b[0m\n\u001b[0m",
      "\u001b[0;31mIndexError\u001b[0m: list index out of range"
     ]
    }
   ],
   "source": [
    "print(type(stu1))\n",
    "print(stu1[4])\n",
    "#print(stu1[5])"
   ]
  },
  {
   "cell_type": "code",
   "execution_count": 8,
   "metadata": {},
   "outputs": [
    {
     "name": "stdout",
     "output_type": "stream",
     "text": [
      "98\n",
      "78\n",
      "65\n",
      "92\n",
      "65\n"
     ]
    }
   ],
   "source": [
    "for item in stu1:\n",
    "    print(item)"
   ]
  },
  {
   "cell_type": "code",
   "execution_count": 11,
   "metadata": {},
   "outputs": [
    {
     "data": {
      "text/plain": [
       "[98, 78, 76, 98, 65]"
      ]
     },
     "execution_count": 11,
     "metadata": {},
     "output_type": "execute_result"
    }
   ],
   "source": [
    "stu2 = []\n",
    "stu2.append(98)\n",
    "stu2.append(78)\n",
    "stu2.append(76)\n",
    "stu2.append(98)\n",
    "stu2.append(65)\n",
    "stu2"
   ]
  },
  {
   "cell_type": "code",
   "execution_count": 14,
   "metadata": {},
   "outputs": [
    {
     "data": {
      "text/plain": [
       "[85, 99, 73, 77, 96]"
      ]
     },
     "execution_count": 14,
     "metadata": {},
     "output_type": "execute_result"
    }
   ],
   "source": [
    "import random\n",
    "stu3 = []\n",
    "for i in range(5):\n",
    "    stu3.append(random.randint(50,100))\n",
    "\n",
    "stu3"
   ]
  },
  {
   "cell_type": "code",
   "execution_count": 19,
   "metadata": {},
   "outputs": [
    {
     "data": {
      "text/plain": [
       "[[81, 56, 80, 54, 90],\n",
       " [64, 86, 67, 53, 65],\n",
       " [93, 69, 59, 86, 60],\n",
       " [54, 99, 65, 77, 74],\n",
       " [50, 92, 78, 82, 72],\n",
       " [90, 80, 92, 90, 69],\n",
       " [62, 91, 99, 60, 79],\n",
       " [51, 50, 52, 88, 79],\n",
       " [56, 66, 82, 63, 79],\n",
       " [56, 69, 94, 82, 88],\n",
       " [98, 63, 89, 92, 54],\n",
       " [65, 94, 95, 69, 70],\n",
       " [72, 98, 57, 66, 55],\n",
       " [95, 95, 100, 96, 62],\n",
       " [63, 53, 96, 51, 93],\n",
       " [98, 84, 85, 72, 93],\n",
       " [81, 61, 89, 53, 67],\n",
       " [70, 63, 50, 97, 87],\n",
       " [96, 80, 70, 69, 56],\n",
       " [81, 88, 68, 64, 76],\n",
       " [80, 80, 87, 92, 64],\n",
       " [100, 79, 59, 69, 91],\n",
       " [71, 59, 99, 56, 78],\n",
       " [67, 90, 65, 54, 57],\n",
       " [77, 56, 52, 50, 63],\n",
       " [53, 79, 66, 100, 73],\n",
       " [59, 81, 66, 90, 86],\n",
       " [73, 93, 67, 73, 62],\n",
       " [72, 65, 84, 54, 71],\n",
       " [89, 55, 95, 90, 81],\n",
       " [53, 69, 72, 76, 94],\n",
       " [69, 75, 69, 70, 72],\n",
       " [81, 67, 100, 68, 83],\n",
       " [91, 79, 88, 70, 57],\n",
       " [71, 96, 54, 62, 53],\n",
       " [63, 66, 71, 67, 74],\n",
       " [78, 78, 72, 65, 85],\n",
       " [54, 59, 97, 75, 63],\n",
       " [81, 69, 80, 98, 62],\n",
       " [73, 73, 77, 82, 99],\n",
       " [64, 89, 85, 83, 99],\n",
       " [84, 56, 72, 52, 99],\n",
       " [98, 90, 52, 61, 65],\n",
       " [85, 72, 88, 100, 84],\n",
       " [51, 94, 68, 58, 85],\n",
       " [69, 52, 64, 54, 75],\n",
       " [56, 85, 51, 76, 83],\n",
       " [83, 66, 94, 85, 73],\n",
       " [52, 95, 63, 59, 95],\n",
       " [98, 68, 53, 55, 57]]"
      ]
     },
     "execution_count": 19,
     "metadata": {},
     "output_type": "execute_result"
    }
   ],
   "source": [
    "import random as rd\n",
    "students  = []\n",
    "for i in range(50):\n",
    "    students.append([rd.randint(50,100),rd.randint(50,100), rd.randint(50,100), rd.randint(50,100), rd.randint(50,100)])\n",
    "\n",
    "students"
   ]
  }
 ],
 "metadata": {
  "kernelspec": {
   "display_name": "Python 3.9.2 32-bit",
   "language": "python",
   "name": "python3"
  },
  "language_info": {
   "codemirror_mode": {
    "name": "ipython",
    "version": 3
   },
   "file_extension": ".py",
   "mimetype": "text/x-python",
   "name": "python",
   "nbconvert_exporter": "python",
   "pygments_lexer": "ipython3",
   "version": "3.9.2"
  },
  "orig_nbformat": 4,
  "vscode": {
   "interpreter": {
    "hash": "e7370f93d1d0cde622a1f8e1c04877d8463912d04d973331ad4851f04de6915a"
   }
  }
 },
 "nbformat": 4,
 "nbformat_minor": 2
}
