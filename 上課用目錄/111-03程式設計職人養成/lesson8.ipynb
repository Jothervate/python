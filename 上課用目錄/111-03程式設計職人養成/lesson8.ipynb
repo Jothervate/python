{
 "cells": [
  {
   "cell_type": "code",
   "execution_count": 2,
   "metadata": {},
   "outputs": [
    {
     "data": {
      "text/plain": [
       "'Taiwan'"
      ]
     },
     "execution_count": 2,
     "metadata": {},
     "output_type": "execute_result"
    }
   ],
   "source": [
    "#建立dictionary\n",
    "codes = {\"tw\":\"Taiwan\",\n",
    "         \"us\":\"United State\",\n",
    "         \"jp\":\"Japan\"}\n",
    "\n",
    "#取出\n",
    "codes[\"tw\"]"
   ]
  },
  {
   "cell_type": "code",
   "execution_count": 3,
   "metadata": {},
   "outputs": [
    {
     "data": {
      "text/plain": [
       "{'tw': 'Taiwan number1', 'us': 'United State', 'jp': 'Japan', 'fr': 'frence'}"
      ]
     },
     "execution_count": 3,
     "metadata": {},
     "output_type": "execute_result"
    }
   ],
   "source": [
    "#新增\n",
    "codes[\"fr\"] = \"frence\"\n",
    "\n",
    "#修改\n",
    "codes[\"tw\"] = \"Taiwan number1\"\n",
    "\n",
    "codes"
   ]
  },
  {
   "cell_type": "code",
   "execution_count": 5,
   "metadata": {},
   "outputs": [
    {
     "name": "stdout",
     "output_type": "stream",
     "text": [
      "tw\n",
      "us\n",
      "jp\n",
      "fr\n"
     ]
    }
   ],
   "source": [
    "codes.keys()\n",
    "for key in codes.keys():\n",
    "    print(key)"
   ]
  },
  {
   "cell_type": "code",
   "execution_count": 9,
   "metadata": {},
   "outputs": [
    {
     "name": "stdout",
     "output_type": "stream",
     "text": [
      "tw\n",
      "Taiwan number1\n",
      "us\n",
      "United State\n",
      "jp\n",
      "Japan\n",
      "fr\n",
      "frence\n",
      "<class 'dict_items'>\n"
     ]
    }
   ],
   "source": [
    "codes.items()\n",
    "for (key, value) in codes.items():\n",
    "    print(key)\n",
    "    print(value)\n",
    "print(type(codes.items()))"
   ]
  }
 ],
 "metadata": {
  "kernelspec": {
   "display_name": "Python 3.10.6 ('venv13')",
   "language": "python",
   "name": "python3"
  },
  "language_info": {
   "codemirror_mode": {
    "name": "ipython",
    "version": 3
   },
   "file_extension": ".py",
   "mimetype": "text/x-python",
   "name": "python",
   "nbconvert_exporter": "python",
   "pygments_lexer": "ipython3",
   "version": "3.10.6"
  },
  "orig_nbformat": 4,
  "vscode": {
   "interpreter": {
    "hash": "17ed27cbaed3f823c7631bed1c0890997a49efc733bc3561cfae9bfe19f678ce"
   }
  }
 },
 "nbformat": 4,
 "nbformat_minor": 2
}
