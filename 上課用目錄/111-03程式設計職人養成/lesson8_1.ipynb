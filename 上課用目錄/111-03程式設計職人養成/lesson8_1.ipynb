{
 "cells": [
  {
   "cell_type": "code",
   "execution_count": 1,
   "metadata": {},
   "outputs": [
    {
     "data": {
      "text/plain": [
       "{'台北': 'Taipei',\n",
       " '台中': 'Taichung',\n",
       " '基隆': 'Keelung',\n",
       " '台南': 'Tainan',\n",
       " '高雄': 'Kaohsiung',\n",
       " '新北': 'New Taipei',\n",
       " '宜蘭': 'Yilan',\n",
       " '桃園': 'Taoyuan',\n",
       " '嘉義': 'Chiayi',\n",
       " '新竹': 'Hsinchu',\n",
       " '苗栗': 'Miaoli',\n",
       " '南投': 'Nantou',\n",
       " '彰化': 'Changhua',\n",
       " '雲林': 'Yunlin',\n",
       " '屏東': 'Pingtung',\n",
       " '花蓮': 'Hualien',\n",
       " '台東': 'Taitung',\n",
       " '澎湖': 'Penghu'}"
      ]
     },
     "execution_count": 1,
     "metadata": {},
     "output_type": "execute_result"
    }
   ],
   "source": [
    "tw_county_names = {\"台北\":\"Taipei\",\n",
    "                   \"台中\":\"Taichung\",\n",
    "                   \"基隆\":\"Keelung\",\n",
    "                   \"台南\":\"Tainan\",\n",
    "                   \"高雄\":\"Kaohsiung\",\n",
    "                   \"新北\":\"New Taipei\",\n",
    "                   \"宜蘭\":\"Yilan\",\n",
    "                   \"桃園\":\"Taoyuan\",\n",
    "                   \"嘉義\":\"Chiayi\",\n",
    "                   \"新竹\":\"Hsinchu\",\n",
    "                   \"苗栗\":\"Miaoli\",\n",
    "                   \"南投\":\"Nantou\",\n",
    "                   \"彰化\":\"Changhua\",\n",
    "                   \"雲林\":\"Yunlin\",\n",
    "                   \"屏東\":\"Pingtung\",\n",
    "                   \"花蓮\":\"Hualien\",\n",
    "                   \"台東\":\"Taitung\",\n",
    "                   \"澎湖\":\"Penghu\"\n",
    "                   }\n",
    "tw_county_names"
   ]
  },
  {
   "cell_type": "code",
   "execution_count": null,
   "metadata": {},
   "outputs": [],
   "source": [
    "#城市天氣4天預測\n",
    "url = \"https://api.openweathermap.org/data/2.5/forecast?q=Hualien,tw&APPID=29c4f184354b9889e87f7b494ac86aed&lang=zh_tw&units=metric\""
   ]
  },
  {
   "cell_type": "code",
   "execution_count": 10,
   "metadata": {},
   "outputs": [
    {
     "name": "stdout",
     "output_type": "stream",
     "text": [
      "下載成功\n"
     ]
    },
    {
     "data": {
      "text/plain": [
       "[['2022-09-14 06:00:00', 30.35, '多雲', 56],\n",
       " ['2022-09-14 09:00:00', 29.48, '小雨', 63],\n",
       " ['2022-09-14 12:00:00', 26.5, '陰，多雲', 78],\n",
       " ['2022-09-14 15:00:00', 25.77, '陰，多雲', 78],\n",
       " ['2022-09-14 18:00:00', 25.34, '陰，多雲', 77],\n",
       " ['2022-09-14 21:00:00', 25.04, '晴，少雲', 76],\n",
       " ['2022-09-15 00:00:00', 28.16, '多雲', 67],\n",
       " ['2022-09-15 03:00:00', 31.68, '多雲', 53],\n",
       " ['2022-09-15 06:00:00', 31.77, '小雨', 53],\n",
       " ['2022-09-15 09:00:00', 29.26, '小雨', 67],\n",
       " ['2022-09-15 12:00:00', 26.59, '小雨', 78],\n",
       " ['2022-09-15 15:00:00', 25.72, '晴，少雲', 79],\n",
       " ['2022-09-15 18:00:00', 25.09, '晴，少雲', 78],\n",
       " ['2022-09-15 21:00:00', 24.82, '晴', 77],\n",
       " ['2022-09-16 00:00:00', 27.93, '晴', 67],\n",
       " ['2022-09-16 03:00:00', 31.25, '晴', 53],\n",
       " ['2022-09-16 06:00:00', 31.36, '晴', 52],\n",
       " ['2022-09-16 09:00:00', 28.73, '晴', 64],\n",
       " ['2022-09-16 12:00:00', 26.38, '晴', 78],\n",
       " ['2022-09-16 15:00:00', 25.27, '多雲', 84],\n",
       " ['2022-09-16 18:00:00', 24.53, '多雲', 87],\n",
       " ['2022-09-16 21:00:00', 23.96, '多雲', 86],\n",
       " ['2022-09-17 00:00:00', 26.84, '小雨', 77],\n",
       " ['2022-09-17 03:00:00', 30.28, '晴', 56],\n",
       " ['2022-09-17 06:00:00', 30.21, '晴', 55],\n",
       " ['2022-09-17 09:00:00', 28.17, '晴', 65],\n",
       " ['2022-09-17 12:00:00', 26.02, '多雲', 75],\n",
       " ['2022-09-17 15:00:00', 25.42, '陰，多雲', 76],\n",
       " ['2022-09-17 18:00:00', 24.83, '陰，多雲', 78],\n",
       " ['2022-09-17 21:00:00', 24.4, '小雨', 80],\n",
       " ['2022-09-18 00:00:00', 26.97, '陰，多雲', 73],\n",
       " ['2022-09-18 03:00:00', 31.04, '多雲', 55],\n",
       " ['2022-09-18 06:00:00', 31.26, '陰，多雲', 53],\n",
       " ['2022-09-18 09:00:00', 28.59, '陰，多雲', 64],\n",
       " ['2022-09-18 12:00:00', 26.84, '陰，多雲', 71],\n",
       " ['2022-09-18 15:00:00', 26.19, '陰，多雲', 73],\n",
       " ['2022-09-18 18:00:00', 25.66, '陰，多雲', 73],\n",
       " ['2022-09-18 21:00:00', 25.07, '陰，多雲', 73],\n",
       " ['2022-09-19 00:00:00', 27.99, '陰，多雲', 63],\n",
       " ['2022-09-19 03:00:00', 30.88, '多雲', 54]]"
      ]
     },
     "execution_count": 10,
     "metadata": {},
     "output_type": "execute_result"
    }
   ],
   "source": [
    "import requests\n",
    "\n",
    "url = \"https://api.openweathermap.org/data/2.5/forecast?q=Taipei,tw&APPID=29c4f184354b9889e87f7b494ac86aed&lang=zh_tw&units=metric\"\n",
    "\n",
    "response = requests.get(url)\n",
    "if response.ok == True:\n",
    "    print(\"下載成功\")    \n",
    "    all_data = response.json()\n",
    "list_data = all_data['list']\n",
    "\n",
    "county_forcase = []\n",
    "for item in list_data:\n",
    "    county_forcase.append([item['dt_txt'],item['main']['temp'],item['weather'][0]['description'],item['main']['humidity']])\n",
    "\n",
    "county_forcase"
   ]
  }
 ],
 "metadata": {
  "kernelspec": {
   "display_name": "Python 3.10.6 ('venv13')",
   "language": "python",
   "name": "python3"
  },
  "language_info": {
   "codemirror_mode": {
    "name": "ipython",
    "version": 3
   },
   "file_extension": ".py",
   "mimetype": "text/x-python",
   "name": "python",
   "nbconvert_exporter": "python",
   "pygments_lexer": "ipython3",
   "version": "3.10.6"
  },
  "orig_nbformat": 4,
  "vscode": {
   "interpreter": {
    "hash": "17ed27cbaed3f823c7631bed1c0890997a49efc733bc3561cfae9bfe19f678ce"
   }
  }
 },
 "nbformat": 4,
 "nbformat_minor": 2
}
