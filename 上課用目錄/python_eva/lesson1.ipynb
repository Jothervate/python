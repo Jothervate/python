{
 "cells": [
  {
   "cell_type": "code",
   "execution_count": 4,
   "id": "687343c0",
   "metadata": {},
   "outputs": [
    {
     "name": "stdout",
     "output_type": "stream",
     "text": [
      "robert的bmi是22.40\n",
      "eva的bmi是17.53\n"
     ]
    }
   ],
   "source": [
    "#自訂的class\n",
    "class  Student():\n",
    "    def __init__(self):\n",
    "        self.name = None\n",
    "        self.height = 0\n",
    "        self.weight = 0\n",
    "    \n",
    "    def bmi(self):\n",
    "        return self.weight / (self.height/100) ** 2\n",
    "\n",
    "stu1 = Student()\n",
    "stu1.name=\"robert\"\n",
    "stu1.height = 183\n",
    "stu1.weight = 75\n",
    "print(f\"{stu1.name}的bmi是{stu1.bmi():.2f}\")\n",
    "\n",
    "stu2 = Student()\n",
    "stu2.name=\"eva\"\n",
    "stu2.height = 162\n",
    "stu2.weight = 46\n",
    "print(f\"{stu2.name}的bmi是{stu2.bmi():.2f}\")\n"
   ]
  },
  {
   "cell_type": "code",
   "execution_count": null,
   "id": "1b7b4065",
   "metadata": {},
   "outputs": [],
   "source": []
  }
 ],
 "metadata": {
  "kernelspec": {
   "display_name": "Python 3 (ipykernel)",
   "language": "python",
   "name": "python3"
  },
  "language_info": {
   "codemirror_mode": {
    "name": "ipython",
    "version": 3
   },
   "file_extension": ".py",
   "mimetype": "text/x-python",
   "name": "python",
   "nbconvert_exporter": "python",
   "pygments_lexer": "ipython3",
   "version": "3.10.6"
  }
 },
 "nbformat": 4,
 "nbformat_minor": 5
}
