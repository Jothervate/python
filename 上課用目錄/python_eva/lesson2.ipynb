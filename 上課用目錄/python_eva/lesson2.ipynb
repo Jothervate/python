{
 "cells": [
  {
   "cell_type": "code",
   "execution_count": 13,
   "metadata": {},
   "outputs": [
    {
     "name": "stdout",
     "output_type": "stream",
     "text": [
      "下載成功\n",
      "時間:20221010144922\n",
      "站點:捷運七張站(1號出口)\n",
      "總腳踏車數:22\n",
      "可借:8\n",
      "可還:14\n"
     ]
    }
   ],
   "source": [
    "import requests\n",
    "\n",
    "url = 'https://data.ntpc.gov.tw/api/datasets/71CD1490-A2DF-4198-BEF1-318479775E8A/json?page=0&size=1000'\n",
    "\n",
    "response = requests.get(url)\n",
    "if response.status_code == 200:\n",
    "    print(\"下載成功\")\n",
    "else:\n",
    "    print(\"下載失敗\")\n",
    "\n",
    "allSites = response.json()\n",
    "\n",
    "for site in allSites:\n",
    "    if \"七張\" in site[\"sna\"]:\n",
    "        print(f\"時間:{site['mday']}\")\n",
    "        print(f\"站點:{site['sna']}\")\n",
    "        print(f\"總腳踏車數:{site['tot']}\")\n",
    "        print(f\"可借:{site['sbi']}\")\n",
    "        print(f\"可還:{site['bemp']}\")\n",
    "\n",
    "\n"
   ]
  },
  {
   "cell_type": "code",
   "execution_count": 12,
   "metadata": {},
   "outputs": [
    {
     "name": "stdout",
     "output_type": "stream",
     "text": [
      "大鵬華城\n",
      "捷運大坪林站(5號出口)\n",
      "忠誠里(北新路2段97巷)\n",
      "小金門友誼公園\n",
      "中興寶橋路口\n",
      "台北慈濟醫院\n",
      "崇光女中\n",
      "新店高中\n",
      "新店公有中央市場\n",
      "惠國市場\n",
      "陽光橋\n",
      "中興寶慶街口\n",
      "中正國小\n",
      "捷運小碧潭站(1號出口)\n",
      "建國民權路口\n",
      "捷運七張站(1號出口)\n",
      "北新國小\n",
      "柴埕市民活動中心\n",
      "青潭國小\n",
      "捷運新店站\n",
      "安和市民活動中心\n",
      "安成安德街口\n",
      "新北市立圖書館新店分館\n",
      "安和公園\n",
      "新店新和國小\n",
      "捷運大坪林站(1號出口)\n",
      "中興路二段100巷口\n",
      "安光公園\n",
      "碧潭西岸\n",
      "捷運新店區公所站(1號出口)\n",
      "新和活動中心\n",
      "文山國中\n",
      "碧潭渡船頭\n",
      "中興中正路口\n",
      "安康高中\n",
      "中正路284巷\n",
      "光明街\n",
      "中正民權路口\n",
      "五峰國中\n",
      "中印青潭廠\n",
      "寶橋路235巷口\n",
      "安康立體停車場\n",
      "青潭河濱公園\n",
      "陽光Park社區\n",
      "捷運十四張站\n",
      "寶橋路78巷口\n",
      "新店高中(中央路)\n",
      "新店行政園區\n",
      "綠湖公園\n",
      "安居公教住宅\n",
      "民生路156巷\n",
      "順德街(御中央3社區)\n",
      "央北青年社會住宅\n",
      "十四張央北二路口(波爾多社區)\n",
      "寶高智慧產業園區\n"
     ]
    }
   ],
   "source": [
    "for site in allSites:\n",
    "    if site[\"sarea\"] == \"新店區\":\n",
    "        print(site['sna'])"
   ]
  }
 ],
 "metadata": {
  "kernelspec": {
   "display_name": "Python 3.10.6 ('venv14')",
   "language": "python",
   "name": "python3"
  },
  "language_info": {
   "codemirror_mode": {
    "name": "ipython",
    "version": 3
   },
   "file_extension": ".py",
   "mimetype": "text/x-python",
   "name": "python",
   "nbconvert_exporter": "python",
   "pygments_lexer": "ipython3",
   "version": "3.10.6"
  },
  "orig_nbformat": 4,
  "vscode": {
   "interpreter": {
    "hash": "a58913c66b98dddfc964ba6f5302e4f760ac5e6f18107696cc385ae346a09ab8"
   }
  }
 },
 "nbformat": 4,
 "nbformat_minor": 2
}
