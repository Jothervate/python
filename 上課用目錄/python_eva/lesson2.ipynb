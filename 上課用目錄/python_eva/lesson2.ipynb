{
 "cells": [
  {
   "cell_type": "code",
   "execution_count": 13,
   "metadata": {},
   "outputs": [
    {
     "name": "stdout",
     "output_type": "stream",
     "text": [
      "下載成功\n",
      "時間:20221010144922\n",
      "站點:捷運七張站(1號出口)\n",
      "總腳踏車數:22\n",
      "可借:8\n",
      "可還:14\n"
     ]
    }
   ],
   "source": [
    "import requests\n",
    "\n",
    "url = 'https://data.ntpc.gov.tw/api/datasets/71CD1490-A2DF-4198-BEF1-318479775E8A/json?page=0&size=1000'\n",
    "\n",
    "response = requests.get(url)\n",
    "if response.status_code == 200:\n",
    "    print(\"下載成功\")\n",
    "else:\n",
    "    print(\"下載失敗\")\n",
    "\n",
    "allSites = response.json()\n",
    "\n",
    "for site in allSites:\n",
    "    if \"七張\" in site[\"sna\"]:\n",
    "        print(f\"時間:{site['mday']}\")\n",
    "        print(f\"站點:{site['sna']}\")\n",
    "        print(f\"總腳踏車數:{site['tot']}\")\n",
    "        print(f\"可借:{site['sbi']}\")\n",
    "        print(f\"可還:{site['bemp']}\")\n",
    "\n",
    "\n"
   ]
  },
  {
   "cell_type": "code",
   "execution_count": 20,
   "metadata": {},
   "outputs": [
    {
     "name": "stdout",
     "output_type": "stream",
     "text": [
      "下載成功\n",
      "新店區可借車數量最多的站點:\n",
      "站名:捷運十四張站,可借:38\n",
      "新店區可還車數量最多的站點:\n",
      "站名:中正民權路口,可還:62\n",
      "{'sno': '1624', 'sna': '中正民權路口', 'tot': '70', 'sbi': '8', 'sarea': '新店區', 'mday': '20221010155426', 'lat': '24.982630', 'lng': '121.533600', 'ar': '中正路489號(旁)', 'sareaen': 'Xindian Dist.', 'snaen': 'Zhongzheng & Minquan Intersection', 'aren': 'No. 489, Zhongzheng Rd., Xindian Dist.', 'bemp': '62', 'act': '1'}\n"
     ]
    }
   ],
   "source": [
    "import requests\n",
    "\n",
    "url = 'https://data.ntpc.gov.tw/api/datasets/71CD1490-A2DF-4198-BEF1-318479775E8A/json?page=0&size=1000'\n",
    "\n",
    "response = requests.get(url)\n",
    "if response.status_code == 200:\n",
    "    print(\"下載成功\")\n",
    "else:\n",
    "    print(\"下載失敗\")\n",
    "\n",
    "allSites = response.json()\n",
    "\n",
    "sbi_max = 0\n",
    "for site in allSites:\n",
    "    if site[\"sarea\"] == \"新店區\":\n",
    "        if int(site[\"sbi\"]) > sbi_max:\n",
    "            sbi_max = int(site[\"sbi\"])\n",
    "\n",
    "max_sites = []\n",
    "for site in allSites:\n",
    "    if site[\"sarea\"] == \"新店區\":\n",
    "        if int(site[\"sbi\"]) == sbi_max:\n",
    "            max_sites.append(site)\n",
    "\n",
    "bemp_max = 0\n",
    "for site in allSites:\n",
    "    if site[\"sarea\"] == \"新店區\":\n",
    "        if int(site[\"bemp\"]) > bemp_max:\n",
    "            bemp_max = int(site[\"bemp\"])\n",
    "\n",
    "max_bemp_sites = []\n",
    "for site in allSites:\n",
    "    if site[\"sarea\"] == \"新店區\":\n",
    "        if int(site[\"bemp\"]) == bemp_max:\n",
    "            max_bemp_sites.append(site)\n",
    "\n",
    "print(\"新店區可借車數量最多的站點:\")\n",
    "for site in max_sites:\n",
    "    print(f\"站名:{site['sna']},可借:{site['sbi']}\")\n",
    "\n",
    "print(\"新店區可還車數量最多的站點:\")\n",
    "for site in max_bemp_sites:\n",
    "    print(f\"站名:{site['sna']},可還:{site['bemp']}\")\n",
    "    \n",
    "\n"
   ]
  }
 ],
 "metadata": {
  "kernelspec": {
   "display_name": "Python 3.10.6 ('venv14')",
   "language": "python",
   "name": "python3"
  },
  "language_info": {
   "codemirror_mode": {
    "name": "ipython",
    "version": 3
   },
   "file_extension": ".py",
   "mimetype": "text/x-python",
   "name": "python",
   "nbconvert_exporter": "python",
   "pygments_lexer": "ipython3",
   "version": "3.10.6"
  },
  "orig_nbformat": 4,
  "vscode": {
   "interpreter": {
    "hash": "a58913c66b98dddfc964ba6f5302e4f760ac5e6f18107696cc385ae346a09ab8"
   }
  }
 },
 "nbformat": 4,
 "nbformat_minor": 2
}
