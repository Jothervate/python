{
 "cells": [
  {
   "cell_type": "code",
   "execution_count": 3,
   "metadata": {},
   "outputs": [],
   "source": [
    "#讀取students.csv的文字\n",
    "#open(file, mode='r', buffering=- 1, encoding=None, errors=None, newline=None, closefd=True, opener=None)\n",
    "file = open('students.csv',mode='r',encoding=\"utf-8\",newline='')\n",
    "scores_str = file.read()\n",
    "file.close()"
   ]
  },
  {
   "cell_type": "code",
   "execution_count": 4,
   "metadata": {},
   "outputs": [
    {
     "name": "stdout",
     "output_type": "stream",
     "text": [
      "姓名,國文,英文,數學,社會,地理\n",
      "徐國堂,90,80,70,60,50\n",
      "陳國華,85,75,65,55,45\n",
      "林國禎,80,70,60,50,40\n",
      "張國榮,75,65,55,45,35\n",
      "黃國書,70,60,50,40,30\n"
     ]
    }
   ],
   "source": [
    "print(scores_str)"
   ]
  },
  {
   "cell_type": "code",
   "execution_count": 8,
   "metadata": {},
   "outputs": [
    {
     "name": "stdout",
     "output_type": "stream",
     "text": [
      "['林國禎', '80', '70', '60', '50', '40']\n"
     ]
    }
   ],
   "source": [
    "import csv\n",
    "file = open('students.csv',mode='r',encoding=\"utf-8\",newline='')\n",
    "csv_reader = csv.reader(file)\n",
    "csv_list = list(csv_reader)\n",
    "for item in csv_list:\n",
    "    if item[0] == '林國禎':\n",
    "        print(item)\n",
    "file.close()"
   ]
  }
 ],
 "metadata": {
  "kernelspec": {
   "display_name": "Python 3",
   "language": "python",
   "name": "python3"
  },
  "language_info": {
   "codemirror_mode": {
    "name": "ipython",
    "version": 3
   },
   "file_extension": ".py",
   "mimetype": "text/x-python",
   "name": "python",
   "nbconvert_exporter": "python",
   "pygments_lexer": "ipython3",
   "version": "3.10.6"
  },
  "orig_nbformat": 4
 },
 "nbformat": 4,
 "nbformat_minor": 2
}
