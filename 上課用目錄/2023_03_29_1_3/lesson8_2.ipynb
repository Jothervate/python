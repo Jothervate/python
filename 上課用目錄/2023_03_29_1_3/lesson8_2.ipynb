{
 "cells": [
  {
   "cell_type": "code",
   "execution_count": 10,
   "metadata": {},
   "outputs": [
    {
     "name": "stdout",
     "output_type": "stream",
     "text": [
      "--------野餐項目--------\n",
      "三明志............   4份\n",
      "蘋果.............  20顆\n",
      "果汁.............   3瓶\n",
      "餅乾.............  10包\n"
     ]
    }
   ],
   "source": [
    "picnic_items = \"野餐項目\"\n",
    "print(picnic_items.center(20,\"-\"))\n",
    "print(\"三明志\".ljust(15,\".\") + \"4份\".rjust(5,\" \"))\n",
    "print(\"蘋果\".ljust(15,\".\") + \"20顆\".rjust(5,\" \"))\n",
    "print(\"果汁\".ljust(15,\".\") + \"3瓶\".rjust(5,\" \"))\n",
    "print(\"餅乾\".ljust(15,\".\") + \"10包\".rjust(5,\" \"))"
   ]
  }
 ],
 "metadata": {
  "kernelspec": {
   "display_name": "Python 3",
   "language": "python",
   "name": "python3"
  },
  "language_info": {
   "codemirror_mode": {
    "name": "ipython",
    "version": 3
   },
   "file_extension": ".py",
   "mimetype": "text/x-python",
   "name": "python",
   "nbconvert_exporter": "python",
   "pygments_lexer": "ipython3",
   "version": "3.10.6"
  },
  "orig_nbformat": 4
 },
 "nbformat": 4,
 "nbformat_minor": 2
}
