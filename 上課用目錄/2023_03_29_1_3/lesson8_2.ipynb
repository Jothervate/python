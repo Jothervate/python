{
 "cells": [
  {
   "cell_type": "code",
   "execution_count": 10,
   "metadata": {},
   "outputs": [
    {
     "name": "stdout",
     "output_type": "stream",
     "text": [
      "--------野餐項目--------\n",
      "三明志............   4份\n",
      "蘋果.............  20顆\n",
      "果汁.............   3瓶\n",
      "餅乾.............  10包\n"
     ]
    }
   ],
   "source": [
    "picnic_items = \"野餐項目\"\n",
    "print(picnic_items.center(20,\"-\"))\n",
    "print(\"三明志\".ljust(15,\".\") + \"4份\".rjust(5,\" \"))\n",
    "print(\"蘋果\".ljust(15,\".\") + \"20顆\".rjust(5,\" \"))\n",
    "print(\"果汁\".ljust(15,\".\") + \"3瓶\".rjust(5,\" \"))\n",
    "print(\"餅乾\".ljust(15,\".\") + \"10包\".rjust(5,\" \"))"
   ]
  },
  {
   "cell_type": "code",
   "execution_count": 18,
   "metadata": {},
   "outputs": [
    {
     "name": "stdout",
     "output_type": "stream",
     "text": [
      "--------野餐項目--------\n",
      "三明志.......        4份\n",
      "蘋果........       20顆\n",
      "果汁........        3瓶\n",
      "餅乾........       10包\n"
     ]
    }
   ],
   "source": [
    "#function增加參數,會讓function更加靈活\n",
    "def print_picnic(leftwidth,rightwidth) -> None:\n",
    "    picnic_items = \"野餐項目\"\n",
    "    print(picnic_items.center(leftwidth+rightwidth,\"-\"))\n",
    "    print(\"三明志\".ljust(leftwidth,\".\") + \"4份\".rjust(rightwidth,\" \"))\n",
    "    print(\"蘋果\".ljust(leftwidth,\".\") + \"20顆\".rjust(rightwidth,\" \"))\n",
    "    print(\"果汁\".ljust(leftwidth,\".\") + \"3瓶\".rjust(rightwidth,\" \"))\n",
    "    print(\"餅乾\".ljust(leftwidth,\".\") + \"10包\".rjust(rightwidth,\" \"))\n",
    "\n",
    "print_picnic(10,10)"
   ]
  },
  {
   "cell_type": "code",
   "execution_count": 24,
   "metadata": {},
   "outputs": [
    {
     "name": "stdout",
     "output_type": "stream",
     "text": [
      "--------野餐項目--------\n",
      "三明志............   7份\n",
      "蘋果.............  10顆\n",
      "果汁.............   3瓶\n",
      "餅乾.............  10包\n"
     ]
    }
   ],
   "source": [
    "#function增加參數,會讓function更加靈活\n",
    "def print_picnic(itemsDict,leftwidth,rightwidth) -> None:\n",
    "    picnic_items = \"野餐項目\"\n",
    "    print(picnic_items.center(leftwidth+rightwidth,\"-\"))\n",
    "    for k,v in itemsDict.items():        \n",
    "        print(k.ljust(leftwidth,\".\") + v.rjust(rightwidth,\" \"))\n",
    "    \n",
    "\n",
    "items = {\"三明志\":\"7份\",\"蘋果\":\"10顆\",\"果汁\":\"3瓶\",\"餅乾\":\"10包\"}\n",
    "print_picnic(items,15,5)"
   ]
  },
  {
   "cell_type": "code",
   "execution_count": 27,
   "metadata": {},
   "outputs": [
    {
     "name": "stdout",
     "output_type": "stream",
     "text": [
      "手機號碼格式不正確\n"
     ]
    }
   ],
   "source": [
    "# 檢查台灣手機號碼輸入格式(xxxx-xxx-xxx)\n",
    "def is_phone_numbers(text) -> bool:\n",
    "    if len(text) != 12:\n",
    "        return False\n",
    "    elif not text[:4].isdecimal():\n",
    "        return False\n",
    "    elif text[4] != \"-\":\n",
    "        return False\n",
    "    elif not text[5:8].isdecimal():\n",
    "        return False\n",
    "    elif text[8] != \"-\":\n",
    "        return False\n",
    "    elif not text[-3:].isdecimal():\n",
    "        return False\n",
    "    else:\n",
    "        return True\n",
    "\n",
    "phone_num = input(\"請輸入手機號碼xxxx-xxx-xxx:\")\n",
    "if is_phone_numbers(phone_num):\n",
    "    print(f\"您的手機號碼是:{phone_num}\")\n",
    "else:\n",
    "    print(\"手機號碼格式不正確\")"
   ]
  },
  {
   "cell_type": "code",
   "execution_count": 30,
   "metadata": {},
   "outputs": [
    {
     "name": "stdout",
     "output_type": "stream",
     "text": [
      "手機號碼格式不正確\n"
     ]
    }
   ],
   "source": [
    "import re\n",
    "phone_num = input(\"請輸入手機號碼xxxx-xxx-xxx:\")\n",
    "phone_regex = re.compile(r\"\\d\\d\\d\\d-\\d\\d\\d-\\d\\d\\d\")\n",
    "if re.match(phone_regex,phone_num) is None:\n",
    "    print(\"手機號碼格式不正確\")\n",
    "else:\n",
    "    print(f\"您的手機號碼是:{phone_num}\")"
   ]
  },
  {
   "cell_type": "code",
   "execution_count": null,
   "metadata": {},
   "outputs": [],
   "source": [
    "email_regex = re.compile(r\"[a-z0-9]+@[a-z]+\\.[a-z]{2,3}\")"
   ]
  },
  {
   "cell_type": "code",
   "execution_count": null,
   "metadata": {},
   "outputs": [],
   "source": [
    "#MM/DD/YYYY\n",
    "date_regex = re.compile(r\"^((0?[1-9]|1[012])[- /.](0?[1-9]|[12][0-9]|3[01])[- /.](19|20)?[0-9]{2})*$\")"
   ]
  }
 ],
 "metadata": {
  "kernelspec": {
   "display_name": "Python 3",
   "language": "python",
   "name": "python3"
  },
  "language_info": {
   "codemirror_mode": {
    "name": "ipython",
    "version": 3
   },
   "file_extension": ".py",
   "mimetype": "text/x-python",
   "name": "python",
   "nbconvert_exporter": "python",
   "pygments_lexer": "ipython3",
   "version": "3.10.6"
  },
  "orig_nbformat": 4
 },
 "nbformat": 4,
 "nbformat_minor": 2
}
