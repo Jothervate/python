{
 "cells": [
  {
   "cell_type": "code",
   "execution_count": 4,
   "metadata": {},
   "outputs": [
    {
     "name": "stdout",
     "output_type": "stream",
     "text": [
      "輸出數字:\n",
      "1\n",
      "2\n",
      "3\n",
      "4\n",
      "5\n",
      "6\n",
      "7\n",
      "8\n",
      "9\n",
      "輸出英文單字:\n",
      "a\n",
      "b\n",
      "c\n",
      "d\n",
      "e\n",
      "f\n",
      "g\n",
      "h\n",
      "i\n",
      "再輸出數字:\n",
      "1\n",
      "2\n",
      "3\n",
      "4\n",
      "5\n",
      "6\n",
      "7\n",
      "8\n",
      "9\n",
      "輸出英文單字:\n",
      "a\n",
      "b\n",
      "c\n",
      "d\n",
      "e\n",
      "f\n",
      "g\n",
      "h\n",
      "i\n"
     ]
    }
   ],
   "source": [
    "#自訂function\n",
    "def outputDigits() -> None:\n",
    "    print(1)\n",
    "    print(2)\n",
    "    print(3)\n",
    "    print(4)\n",
    "    print(5)\n",
    "    print(6)\n",
    "    print(7)\n",
    "    print(8)\n",
    "    print(9)\n",
    "\n",
    "#自訂function\n",
    "def outputLetters() -> None:\n",
    "    print('a')\n",
    "    print('b')\n",
    "    print('c')\n",
    "    print('d')\n",
    "    print('e')\n",
    "    print('f')\n",
    "    print('g')\n",
    "    print('h')\n",
    "    print('i')\n",
    "\n",
    "print(\"輸出數字:\")\n",
    "outputDigits() #呼叫function\n",
    "print(\"輸出英文單字:\")\n",
    "outputLetters()\n",
    "print(\"再輸出數字:\")\n",
    "outputDigits() #function可重覆呼叫\n",
    "print(\"輸出英文單字:\")\n",
    "outputLetters() #function可重覆呼叫"
   ]
  }
 ],
 "metadata": {
  "kernelspec": {
   "display_name": "Python 3",
   "language": "python",
   "name": "python3"
  },
  "language_info": {
   "codemirror_mode": {
    "name": "ipython",
    "version": 3
   },
   "file_extension": ".py",
   "mimetype": "text/x-python",
   "name": "python",
   "nbconvert_exporter": "python",
   "pygments_lexer": "ipython3",
   "version": "3.10.6"
  },
  "orig_nbformat": 4
 },
 "nbformat": 4,
 "nbformat_minor": 2
}
