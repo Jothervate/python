{
 "cells": [
  {
   "cell_type": "code",
   "execution_count": null,
   "metadata": {},
   "outputs": [],
   "source": [
    "#自訂function\n",
    "def outputDigits() -> None:\n",
    "    print(1)\n",
    "    print(2)\n",
    "    print(3)\n",
    "    print(4)\n",
    "    print(5)\n",
    "    print(6)\n",
    "    print(7)\n",
    "    print(8)\n",
    "    print(9)\n",
    "\n",
    "#自訂function\n",
    "def outputLetters() -> None:\n",
    "    print('a')\n",
    "    print('b')\n",
    "    print('c')\n",
    "    print('d')\n",
    "    print('e')\n",
    "    print('f')\n",
    "    print('g')\n",
    "    print('h')\n",
    "    print('i')\n",
    "\n",
    "print(\"輸出數字:\")\n",
    "outputDigits() #呼叫function\n",
    "print(\"輸出英文單字:\")\n",
    "outputLetters()\n",
    "print(\"再輸出數字:\")\n",
    "outputDigits() #function可重覆呼叫\n",
    "print(\"輸出英文單字:\")\n",
    "outputLetters() #function可重覆呼叫"
   ]
  },
  {
   "cell_type": "code",
   "execution_count": 8,
   "metadata": {},
   "outputs": [
    {
     "name": "stdout",
     "output_type": "stream",
     "text": [
      "100的因數是:\n",
      "1,2,4,5,10,20,25,50,100,\n",
      "150的因數是:\n",
      "1,2,3,5,6,10,15,25,30,50,75,150,\n",
      "200的因數是:\n",
      "1,2,4,5,8,10,20,25,40,50,100,200,\n"
     ]
    }
   ],
   "source": [
    "#定義function\n",
    "def get_factor(number) -> None:\n",
    "    for i in range(1,number+1):\n",
    "        #num可否整除i\n",
    "        if number % i == 0:\n",
    "            print(i,end=\",\")\n",
    "    print()\n",
    "\n",
    "#呼叫function\n",
    "print(\"100的因數是:\")\n",
    "get_factor(100)\n",
    "\n",
    "#呼叫function\n",
    "print(\"150的因數是:\")\n",
    "get_factor(150)\n",
    "\n",
    "#呼叫function\n",
    "print(\"200的因數是:\")\n",
    "get_factor(200)\n"
   ]
  },
  {
   "cell_type": "code",
   "execution_count": 9,
   "metadata": {},
   "outputs": [
    {
     "name": "stdout",
     "output_type": "stream",
     "text": [
      "100的因數是:\n",
      "1,2,4,5,10,20,25,50,100,\n",
      "150的因數是:\n",
      "1,2,3,5,6,10,15,25,30,50,75,150,\n",
      "200的因數是:\n",
      "1,2,4,5,8,10,20,25,40,50,100,200,\n"
     ]
    }
   ],
   "source": [
    "for num in range(100,201,50):\n",
    "    print(f\"{num}的因數是:\")\n",
    "    get_factor(num)"
   ]
  },
  {
   "cell_type": "code",
   "execution_count": 13,
   "metadata": {},
   "outputs": [
    {
     "name": "stdout",
     "output_type": "stream",
     "text": [
      "35和105的公因數是:\n",
      "1,5,7,35,\n",
      "24和96的公因數是:\n",
      "1,2,3,4,6,8,12,24,\n"
     ]
    }
   ],
   "source": [
    "def common_factor(num1, num2) -> None:\n",
    "    if num1 >= num2:\n",
    "        num = num2\n",
    "    else:\n",
    "        num = num1\n",
    "\n",
    "    print(f\"{num1}和{num2}的公因數是:\")\n",
    "    for i in range(1,num+1):\n",
    "        #n可以整除i同時m可以整除i,就是公因數\n",
    "        if (num1 % i == 0) and (num2 % i == 0):\n",
    "            print(i,end=\",\")\n",
    "    print()\n",
    "\n",
    "common_factor(35,105)\n",
    "common_factor(24,96)"
   ]
  }
 ],
 "metadata": {
  "kernelspec": {
   "display_name": "Python 3",
   "language": "python",
   "name": "python3"
  },
  "language_info": {
   "codemirror_mode": {
    "name": "ipython",
    "version": 3
   },
   "file_extension": ".py",
   "mimetype": "text/x-python",
   "name": "python",
   "nbconvert_exporter": "python",
   "pygments_lexer": "ipython3",
   "version": "3.10.6"
  },
  "orig_nbformat": 4
 },
 "nbformat": 4,
 "nbformat_minor": 2
}
