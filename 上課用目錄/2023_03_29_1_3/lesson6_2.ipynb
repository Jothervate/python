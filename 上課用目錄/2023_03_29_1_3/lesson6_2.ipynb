{
 "cells": [
  {
   "cell_type": "code",
   "execution_count": 2,
   "metadata": {},
   "outputs": [],
   "source": [
    "import random\n",
    "def play_game() -> None:\n",
    "    min = 1\n",
    "    max = 100\n",
    "    count = 0\n",
    "    target = random.randint(min, max)\n",
    "    print(\"=============猜數字遊戲================\\n\")\n",
    "    print(target)\n",
    "    while(True):    \n",
    "        keyin = int(input(f\"猜數字範圍{min}~{max}:\"))\n",
    "        count += 1\n",
    "        #檢查使用者輸入是否在範圍內\n",
    "        if(keyin >= min and keyin <=max):\n",
    "            if(keyin == target):\n",
    "                print(f\"賓果!猜對了, 答案是:{target}\")\n",
    "                print(f\"您猜了{count}次\")\n",
    "                break\n",
    "            elif keyin > target:\n",
    "                print(\"再小一點\")\n",
    "                max = keyin - 1\n",
    "            elif keyin < target:\n",
    "                print(\"再大一點\")\n",
    "                min = keyin + 1\n",
    "            print(f\"您已經猜了{count}次\")\n",
    "\n",
    "        else:\n",
    "            print(\"請輸入提示範圍內的數字\")\n",
    "            continue\n",
    "\n",
    "    print(\"遊戲結束\")"
   ]
  },
  {
   "cell_type": "code",
   "execution_count": 4,
   "metadata": {},
   "outputs": [
    {
     "name": "stdout",
     "output_type": "stream",
     "text": [
      "=============猜數字遊戲================\n",
      "\n",
      "27\n",
      "賓果!猜對了, 答案是:27\n",
      "您猜了1次\n",
      "遊戲結束\n",
      "=============猜數字遊戲================\n",
      "\n",
      "79\n",
      "賓果!猜對了, 答案是:79\n",
      "您猜了1次\n",
      "遊戲結束\n"
     ]
    }
   ],
   "source": [
    "while(True):\n",
    "    play_game()\n",
    "    is_play = input(\"請問還要繼續嗎?(y,n)\")\n",
    "    if is_play == 'n':\n",
    "        break"
   ]
  }
 ],
 "metadata": {
  "kernelspec": {
   "display_name": "Python 3",
   "language": "python",
   "name": "python3"
  },
  "language_info": {
   "codemirror_mode": {
    "name": "ipython",
    "version": 3
   },
   "file_extension": ".py",
   "mimetype": "text/x-python",
   "name": "python",
   "nbconvert_exporter": "python",
   "pygments_lexer": "ipython3",
   "version": "3.10.6"
  },
  "orig_nbformat": 4
 },
 "nbformat": 4,
 "nbformat_minor": 2
}
