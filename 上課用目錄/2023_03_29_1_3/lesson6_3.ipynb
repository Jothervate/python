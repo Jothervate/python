{
 "cells": [
  {
   "cell_type": "code",
   "execution_count": 2,
   "metadata": {},
   "outputs": [
    {
     "name": "stdout",
     "output_type": "stream",
     "text": [
      "That is Alice's cat.\n"
     ]
    }
   ],
   "source": [
    "#字串的處理\n",
    "\n",
    "words = \"That is Alice's cat.\"\n",
    "print(words)"
   ]
  },
  {
   "cell_type": "code",
   "execution_count": 3,
   "metadata": {},
   "outputs": [
    {
     "name": "stdout",
     "output_type": "stream",
     "text": [
      "That is Alice's cat.\n"
     ]
    }
   ],
   "source": [
    "words1 = 'That is Alice\\'s cat.'\n",
    "print(words1)"
   ]
  },
  {
   "cell_type": "code",
   "execution_count": 4,
   "metadata": {},
   "outputs": [
    {
     "name": "stdout",
     "output_type": "stream",
     "text": [
      "That is Alice\\'s cat.\n"
     ]
    }
   ],
   "source": [
    "#原生字串\n",
    "words2 = r'That is Alice\\'s cat.'\n",
    "print(words2)"
   ]
  },
  {
   "cell_type": "code",
   "execution_count": 5,
   "metadata": {},
   "outputs": [
    {
     "data": {
      "text/plain": [
       "\"Dear Alice,Eve's cat has been arrested for catnapping, cat burglary, and extortion.\""
      ]
     },
     "execution_count": 5,
     "metadata": {},
     "output_type": "execute_result"
    }
   ],
   "source": [
    "#單行文字\n",
    "sentens = \"Dear Alice,Eve's cat has been arrested for catnapping, cat burglary, and extortion.\"\n",
    "sentens"
   ]
  },
  {
   "cell_type": "code",
   "execution_count": 6,
   "metadata": {},
   "outputs": [
    {
     "data": {
      "text/plain": [
       "\"Dear Alice,Eve's cat has been arrested for catnapping,cat burglary, and extortion.\""
      ]
     },
     "execution_count": 6,
     "metadata": {},
     "output_type": "execute_result"
    }
   ],
   "source": [
    "#單行文字\n",
    "sentens = \"Dear Alice,Eve's cat has been arrested for catnapping,\\\n",
    "cat burglary, and extortion.\"\n",
    "sentens"
   ]
  },
  {
   "cell_type": "code",
   "execution_count": 10,
   "metadata": {},
   "outputs": [
    {
     "name": "stdout",
     "output_type": "stream",
     "text": [
      "Dear Alice,Eve's cat has \n",
      "\n",
      "been arrested for catnapping,\n",
      "\n",
      "cat burglary, and extortion.\n"
     ]
    }
   ],
   "source": [
    "#多行文字\n",
    "multi_sentens = \"Dear Alice,Eve's cat has \\n\\nbeen arrested for catnapping,\\n\\ncat burglary, and extortion.\"\n",
    "print(multi_sentens)"
   ]
  },
  {
   "cell_type": "code",
   "execution_count": 12,
   "metadata": {},
   "outputs": [
    {
     "name": "stdout",
     "output_type": "stream",
     "text": [
      "Dear Alice,Eve's cat has \n",
      "\n",
      "been arrested for catnapping,\n",
      "\n",
      "cat burglary, and extortion.\n",
      "\n"
     ]
    }
   ],
   "source": [
    "multi_sentens = '''Dear Alice,Eve's cat has \n",
    "\n",
    "been arrested for catnapping,\n",
    "\n",
    "cat burglary, and extortion.\n",
    "'''\n",
    "print(multi_sentens)"
   ]
  },
  {
   "cell_type": "code",
   "execution_count": 14,
   "metadata": {},
   "outputs": [
    {
     "data": {
      "text/plain": [
       "'Henny'"
      ]
     },
     "execution_count": 14,
     "metadata": {},
     "output_type": "execute_result"
    }
   ],
   "source": [
    "\n",
    "name = \"henny\"\n",
    "name.capitalize() #str的實體方法"
   ]
  },
  {
   "cell_type": "code",
   "execution_count": 16,
   "metadata": {},
   "outputs": [
    {
     "data": {
      "text/plain": [
       "'HENNY'"
      ]
     },
     "execution_count": 16,
     "metadata": {},
     "output_type": "execute_result"
    }
   ],
   "source": [
    "name.upper() #str的實體方法"
   ]
  }
 ],
 "metadata": {
  "kernelspec": {
   "display_name": "Python 3",
   "language": "python",
   "name": "python3"
  },
  "language_info": {
   "codemirror_mode": {
    "name": "ipython",
    "version": 3
   },
   "file_extension": ".py",
   "mimetype": "text/x-python",
   "name": "python",
   "nbconvert_exporter": "python",
   "pygments_lexer": "ipython3",
   "version": "3.10.6"
  },
  "orig_nbformat": 4
 },
 "nbformat": 4,
 "nbformat_minor": 2
}
