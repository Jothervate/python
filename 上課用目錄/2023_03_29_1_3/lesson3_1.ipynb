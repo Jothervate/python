{
 "cells": [
  {
   "cell_type": "code",
   "execution_count": 4,
   "metadata": {},
   "outputs": [
    {
     "name": "stdout",
     "output_type": "stream",
     "text": [
      "<class 'float'>\n",
      "<class 'int'>\n"
     ]
    }
   ],
   "source": [
    "width = eval(input(\"請輸入寬:\"))\n",
    "height = eval(input(\"請輸入高:\"))\n",
    "print(type(width))\n",
    "print(type(height))"
   ]
  },
  {
   "cell_type": "code",
   "execution_count": 6,
   "metadata": {},
   "outputs": [
    {
     "data": {
      "text/plain": [
       "'由位於洛杉磯的開發商'"
      ]
     },
     "execution_count": 6,
     "metadata": {},
     "output_type": "execute_result"
    }
   ],
   "source": [
    "words = '由位於洛杉磯的開發商'\n",
    "words"
   ]
  },
  {
   "cell_type": "code",
   "execution_count": 7,
   "metadata": {},
   "outputs": [
    {
     "data": {
      "text/plain": [
       "'由位於洛杉磯的開發商'"
      ]
     },
     "execution_count": 7,
     "metadata": {},
     "output_type": "execute_result"
    }
   ],
   "source": [
    "words1 = \"由位於洛杉磯的開發商\"\n",
    "words1"
   ]
  },
  {
   "cell_type": "code",
   "execution_count": 9,
   "metadata": {},
   "outputs": [
    {
     "data": {
      "text/plain": [
       "'由位於洛杉磯的開發商'"
      ]
     },
     "execution_count": 9,
     "metadata": {},
     "output_type": "execute_result"
    }
   ],
   "source": [
    "#\\ 連結下一行的字串\n",
    "words1 = \"由位於洛杉磯\\\n",
    "的開發商\"\n",
    "words1"
   ]
  },
  {
   "cell_type": "code",
   "execution_count": 12,
   "metadata": {},
   "outputs": [
    {
     "name": "stdout",
     "output_type": "stream",
     "text": [
      "Apple Arcade 推出的最新遊戲《Next Stop Nowhere》，\n",
      "\n",
      "由位於洛杉磯的開發商 Night School Studio 出品。\n",
      "\n",
      "這款遊戲是太空公路之旅的夥伴冒險，其中不同角色間展開了一些精彩的劇情。\n",
      "\n",
      "在銀河系的外圍，每個人和所有事物之間都有充分\n",
      "\n",
      "的空間，Night School 希望這款遊戲可為近來可能感到孤立的玩家提供一些慰藉。\n"
     ]
    }
   ],
   "source": [
    "#多行文字\n",
    "poem = \"\"\"Apple Arcade 推出的最新遊戲《Next Stop Nowhere》，\n",
    "\n",
    "由位於洛杉磯的開發商 Night School Studio 出品。\n",
    "\n",
    "這款遊戲是太空公路之旅的夥伴冒險，其中不同角色間展開了一些精彩的劇情。\n",
    "\n",
    "在銀河系的外圍，每個人和所有事物之間都有充分\n",
    "\n",
    "的空間，Night School 希望這款遊戲可為近來可能感到孤立的玩家提供一些慰藉。\"\"\"\n",
    "\n",
    "print(poem)"
   ]
  },
  {
   "cell_type": "code",
   "execution_count": 16,
   "metadata": {},
   "outputs": [
    {
     "name": "stdout",
     "output_type": "stream",
     "text": [
      "a=50, b=40\n",
      "a=50, b=40\n"
     ]
    }
   ],
   "source": [
    "a = eval(input(\"請輸入a:的值\"))\n",
    "b = eval(input(\"請輸入b:的值\"))\n",
    "#字串加法運算\n",
    "print(\"a=\" + str(a) + \", b=\" + str(b))\n",
    "\n",
    "#字串插補\n",
    "print(f\"a={a}, b={b}\")\n"
   ]
  },
  {
   "cell_type": "code",
   "execution_count": 17,
   "metadata": {},
   "outputs": [
    {
     "name": "stdout",
     "output_type": "stream",
     "text": [
      "商:3,餘數:1\n"
     ]
    }
   ],
   "source": [
    "#讓使用者輸入被除數(整數)及除數(整數，不可以是零)\n",
    "#程式會顯示兩數相除的商及餘數。\n",
    "#商 11 餘數: 1\n",
    "\n",
    "m = int(input('請輸入被除數(整數):'))\n",
    "n = int(input('請輸入除數(整數,不可以為0)'))\n",
    "\n",
    "print(f\"商:{m//n},餘數:{m%n}\")"
   ]
  },
  {
   "cell_type": "code",
   "execution_count": null,
   "metadata": {},
   "outputs": [],
   "source": [
    "#請輸入梯形的上底(公分):5\n",
    "#請輸入梯形的下底(公分):10\n",
    "#請輸入梯形的高(公分):2\n",
    "#梯形的面積:15平方公分"
   ]
  },
  {
   "cell_type": "code",
   "execution_count": null,
   "metadata": {},
   "outputs": [],
   "source": [
    "#請輸入圓柱體的半徑(公分):10\n",
    "#請輸入圓柱體的高(公分):5\n",
    "#圓柱體的體積:xxxx立方公分"
   ]
  },
  {
   "cell_type": "code",
   "execution_count": 19,
   "metadata": {},
   "outputs": [
    {
     "data": {
      "text/plain": [
       "14"
      ]
     },
     "execution_count": 19,
     "metadata": {},
     "output_type": "execute_result"
    }
   ],
   "source": [
    "import math\n",
    "math.ceil(13.1)"
   ]
  },
  {
   "cell_type": "code",
   "execution_count": null,
   "metadata": {},
   "outputs": [],
   "source": [
    "#高中數學\n",
    "#讓使用者輸入直角三角形的對邊\n",
    "#讓使用者輸入直角三角形的斜邊\n",
    "#計算角度\n",
    "#sin(x) = 對邊 / 斜邊\n",
    "#x是radian(弧度)\n",
    "import math\n",
    "x = eval(input(\"請輸入對邊:\"))\n",
    "y = eval(input(\"請輸入斜邊:\"))\n",
    "radian = math.asin(x/y)\n",
    "agree = math.degrees(radian)\n",
    "\n",
    "print(f\"直角三角形的角度為:{round(agree)}\")"
   ]
  }
 ],
 "metadata": {
  "kernelspec": {
   "display_name": "Python 3",
   "language": "python",
   "name": "python3"
  },
  "language_info": {
   "codemirror_mode": {
    "name": "ipython",
    "version": 3
   },
   "file_extension": ".py",
   "mimetype": "text/x-python",
   "name": "python",
   "nbconvert_exporter": "python",
   "pygments_lexer": "ipython3",
   "version": "3.10.6"
  },
  "orig_nbformat": 4
 },
 "nbformat": 4,
 "nbformat_minor": 2
}
