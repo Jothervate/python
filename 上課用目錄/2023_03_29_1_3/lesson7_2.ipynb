{
 "cells": [
  {
   "cell_type": "code",
   "execution_count": 2,
   "metadata": {},
   "outputs": [
    {
     "data": {
      "text/plain": [
       "(404, '找不到網頁', 505)"
      ]
     },
     "execution_count": 2,
     "metadata": {},
     "output_type": "execute_result"
    }
   ],
   "source": [
    "#tuple\n",
    "(404,'找不到網頁')\n",
    "(404,'找不到網頁',505)\n"
   ]
  },
  {
   "cell_type": "code",
   "execution_count": 3,
   "metadata": {},
   "outputs": [
    {
     "name": "stdout",
     "output_type": "stream",
     "text": [
      "404\n",
      "找不到網頁\n"
     ]
    }
   ],
   "source": [
    "#折解tuple的值儲存進入到變數\n",
    "\n",
    "(code,message) = (404,'找不到網頁')\n",
    "print(code)\n",
    "print(message)"
   ]
  },
  {
   "cell_type": "code",
   "execution_count": 4,
   "metadata": {},
   "outputs": [
    {
     "name": "stdout",
     "output_type": "stream",
     "text": [
      "404\n",
      "找不到網頁\n"
     ]
    }
   ],
   "source": [
    "#tuple簡寫法\n",
    "code,message = 404,'找不到網頁'\n",
    "print(code)\n",
    "print(message)"
   ]
  },
  {
   "cell_type": "code",
   "execution_count": 5,
   "metadata": {},
   "outputs": [
    {
     "name": "stdout",
     "output_type": "stream",
     "text": [
      "[]\n",
      "[]\n"
     ]
    }
   ],
   "source": [
    "#list\n",
    "#可排序\n",
    "#使用索引編號取出或修改值\n",
    "\n",
    "#建立空的list\n",
    "empty_list = []\n",
    "empty_list1 = list()\n",
    "print(empty_list)\n",
    "print(empty_list1)"
   ]
  },
  {
   "cell_type": "code",
   "execution_count": 7,
   "metadata": {},
   "outputs": [
    {
     "name": "stdout",
     "output_type": "stream",
     "text": [
      "<class 'list'>\n"
     ]
    }
   ],
   "source": [
    "#檢查變數的type\n",
    "weekdays = ['星期一', '星期二', '星期三', '星期四', '星期五', '星期六', '星期日']\n",
    "print(type(weekdays))"
   ]
  },
  {
   "cell_type": "code",
   "execution_count": 9,
   "metadata": {},
   "outputs": [
    {
     "name": "stdout",
     "output_type": "stream",
     "text": [
      "星期一\n",
      "星期二\n",
      "星期三\n",
      "星期四\n",
      "星期五\n",
      "星期六\n",
      "星期日\n"
     ]
    }
   ],
   "source": [
    "#list是iterable\n",
    "for item in weekdays:\n",
    "    print(item)"
   ]
  },
  {
   "cell_type": "code",
   "execution_count": 10,
   "metadata": {},
   "outputs": [
    {
     "data": {
      "text/plain": [
       "['c', 'a', 't']"
      ]
     },
     "execution_count": 10,
     "metadata": {},
     "output_type": "execute_result"
    }
   ],
   "source": [
    "list('cat')"
   ]
  },
  {
   "cell_type": "code",
   "execution_count": 12,
   "metadata": {},
   "outputs": [
    {
     "data": {
      "text/plain": [
       "[0, 1, 2, 3, 4, 5, 6, 7, 8, 9]"
      ]
     },
     "execution_count": 12,
     "metadata": {},
     "output_type": "execute_result"
    }
   ],
   "source": [
    "list(range(10))"
   ]
  },
  {
   "cell_type": "code",
   "execution_count": 13,
   "metadata": {},
   "outputs": [
    {
     "data": {
      "text/plain": [
       "['1', '6', '2023']"
      ]
     },
     "execution_count": 13,
     "metadata": {},
     "output_type": "execute_result"
    }
   ],
   "source": [
    "birthday = '1/6/2023'\n",
    "birthday.split('/')\n"
   ]
  },
  {
   "cell_type": "code",
   "execution_count": 16,
   "metadata": {},
   "outputs": [
    {
     "name": "stdout",
     "output_type": "stream",
     "text": [
      "台北\n",
      "台中\n",
      "高雄\n",
      "高雄\n",
      "台中\n",
      "台北\n"
     ]
    },
    {
     "ename": "IndexError",
     "evalue": "list index out of range",
     "output_type": "error",
     "traceback": [
      "\u001b[0;31m---------------------------------------------------------------------------\u001b[0m",
      "\u001b[0;31mIndexError\u001b[0m                                Traceback (most recent call last)",
      "\u001b[1;32m/Users/roberthsu/Documents/GitHub/python/上課用目錄/2023_03_29_1_3/lesson7_2.ipynb 儲存格 10\u001b[0m in \u001b[0;36m<cell line: 8>\u001b[0;34m()\u001b[0m\n\u001b[1;32m      <a href='vscode-notebook-cell:/Users/roberthsu/Documents/GitHub/python/%E4%B8%8A%E8%AA%B2%E7%94%A8%E7%9B%AE%E9%8C%84/2023_03_29_1_3/lesson7_2.ipynb#X12sZmlsZQ%3D%3D?line=5'>6</a>\u001b[0m \u001b[39mprint\u001b[39m(cities[\u001b[39m-\u001b[39m\u001b[39m2\u001b[39m])\n\u001b[1;32m      <a href='vscode-notebook-cell:/Users/roberthsu/Documents/GitHub/python/%E4%B8%8A%E8%AA%B2%E7%94%A8%E7%9B%AE%E9%8C%84/2023_03_29_1_3/lesson7_2.ipynb#X12sZmlsZQ%3D%3D?line=6'>7</a>\u001b[0m \u001b[39mprint\u001b[39m(cities[\u001b[39m-\u001b[39m\u001b[39m3\u001b[39m])\n\u001b[0;32m----> <a href='vscode-notebook-cell:/Users/roberthsu/Documents/GitHub/python/%E4%B8%8A%E8%AA%B2%E7%94%A8%E7%9B%AE%E9%8C%84/2023_03_29_1_3/lesson7_2.ipynb#X12sZmlsZQ%3D%3D?line=7'>8</a>\u001b[0m \u001b[39mprint\u001b[39m(cities[\u001b[39m3\u001b[39;49m])\n",
      "\u001b[0;31mIndexError\u001b[0m: list index out of range"
     ]
    }
   ],
   "source": [
    "cities = ['台北', '台中', '高雄']\n",
    "print(cities[0])\n",
    "print(cities[1])\n",
    "print(cities[2])\n",
    "print(cities[-1])\n",
    "print(cities[-2])\n",
    "print(cities[-3])\n",
    "print(cities[3])"
   ]
  },
  {
   "cell_type": "code",
   "execution_count": 26,
   "metadata": {},
   "outputs": [
    {
     "name": "stdout",
     "output_type": "stream",
     "text": [
      "['星期一']\n",
      "['星期一', '星期三']\n",
      "['星期一', '星期二', '星期三']\n",
      "['星期一', '星期三']\n",
      "['星期一']\n",
      "[]\n"
     ]
    }
   ],
   "source": [
    "weekdays = []\n",
    "weekdays.append('星期一')\n",
    "print(weekdays)\n",
    "weekdays.append('星期三')\n",
    "print(weekdays)\n",
    "weekdays.insert(1,'星期二')\n",
    "print(weekdays)\n",
    "weekdays.remove('星期二')\n",
    "print(weekdays)\n",
    "weekdays.pop()\n",
    "print(weekdays)\n",
    "weekdays.clear()\n",
    "print(weekdays)"
   ]
  },
  {
   "cell_type": "code",
   "execution_count": 29,
   "metadata": {},
   "outputs": [
    {
     "data": {
      "text/plain": [
       "[62, 65, 66, 74, 78]"
      ]
     },
     "execution_count": 29,
     "metadata": {},
     "output_type": "execute_result"
    }
   ],
   "source": [
    "#建立一個學生的5個分數\n",
    "#random module\n",
    "import random\n",
    "\n",
    "stu1 = [random.randint(50,100),random.randint(50,100),random.randint(50,100),random.randint(50,100),random.randint(50,100)] #建立5個分數\n",
    "stu1"
   ]
  },
  {
   "cell_type": "code",
   "execution_count": 30,
   "metadata": {},
   "outputs": [
    {
     "data": {
      "text/plain": [
       "[89, 93, 62, 56, 86]"
      ]
     },
     "execution_count": 30,
     "metadata": {},
     "output_type": "execute_result"
    }
   ],
   "source": [
    "import random\n",
    "stu1 = []\n",
    "for i in range(5):\n",
    "    stu1.append(random.randint(50,100))\n",
    "stu1"
   ]
  },
  {
   "cell_type": "code",
   "execution_count": 31,
   "metadata": {},
   "outputs": [
    {
     "data": {
      "text/plain": [
       "[['筆記電腦', '商用筆電'], ['APPLE', 'ASUS', 'HTC'], [3, '冰箱', 2, '洗衣機']]"
      ]
     },
     "execution_count": 31,
     "metadata": {},
     "output_type": "execute_result"
    }
   ],
   "source": [
    "#2維的list\n",
    "nb = ['筆記電腦', '商用筆電']\n",
    "mobile = ['APPLE', 'ASUS', 'HTC'] \n",
    "home = [3, '冰箱', 2, '洗衣機']\n",
    "\n",
    "#list內可以有list\n",
    "all3c = [nb, mobile, home]\n",
    "all3c"
   ]
  },
  {
   "cell_type": "code",
   "execution_count": 37,
   "metadata": {},
   "outputs": [
    {
     "data": {
      "text/plain": [
       "'洗衣機'"
      ]
     },
     "execution_count": 37,
     "metadata": {},
     "output_type": "execute_result"
    }
   ],
   "source": [
    "all3c[0][1]\n",
    "all3c[1][2]\n",
    "all3c[2][3]"
   ]
  },
  {
   "cell_type": "code",
   "execution_count": 40,
   "metadata": {},
   "outputs": [
    {
     "name": "stdout",
     "output_type": "stream",
     "text": [
      "筆記電腦\n",
      "商用筆電\n",
      "===============\n",
      "APPLE\n",
      "ASUS\n",
      "HTC\n",
      "===============\n",
      "3\n",
      "冰箱\n",
      "2\n",
      "洗衣機\n",
      "===============\n"
     ]
    }
   ],
   "source": [
    "for items in all3c:\n",
    "    for item in items:\n",
    "        print(item)\n",
    "    print(\"===============\")"
   ]
  },
  {
   "cell_type": "code",
   "execution_count": 44,
   "metadata": {},
   "outputs": [
    {
     "data": {
      "text/plain": [
       "[[73, 85, 70, 83, 92],\n",
       " [52, 53, 73, 60, 76],\n",
       " [57, 87, 68, 77, 90],\n",
       " [91, 93, 76, 54, 84],\n",
       " [87, 87, 93, 56, 81],\n",
       " [94, 59, 95, 86, 88],\n",
       " [100, 88, 65, 69, 57],\n",
       " [88, 98, 63, 71, 55],\n",
       " [81, 55, 71, 97, 90],\n",
       " [99, 58, 93, 60, 64],\n",
       " [94, 82, 60, 96, 79],\n",
       " [71, 53, 79, 91, 55],\n",
       " [90, 85, 74, 77, 86],\n",
       " [97, 96, 91, 99, 52],\n",
       " [52, 65, 99, 59, 87],\n",
       " [57, 97, 70, 85, 99],\n",
       " [95, 50, 99, 91, 75],\n",
       " [65, 93, 98, 99, 62],\n",
       " [52, 53, 65, 72, 80],\n",
       " [83, 63, 58, 78, 97],\n",
       " [97, 98, 85, 54, 61],\n",
       " [100, 76, 60, 72, 72],\n",
       " [55, 56, 93, 78, 67],\n",
       " [85, 79, 100, 72, 52],\n",
       " [59, 59, 70, 100, 99],\n",
       " [72, 60, 61, 99, 99],\n",
       " [94, 77, 91, 86, 97],\n",
       " [80, 97, 71, 78, 71],\n",
       " [60, 100, 76, 78, 98],\n",
       " [92, 50, 71, 85, 94],\n",
       " [56, 84, 68, 60, 67],\n",
       " [86, 70, 77, 78, 83],\n",
       " [57, 75, 93, 78, 94],\n",
       " [91, 97, 55, 86, 95],\n",
       " [65, 57, 68, 69, 77],\n",
       " [53, 98, 80, 52, 79],\n",
       " [62, 72, 62, 69, 89],\n",
       " [55, 88, 75, 85, 97],\n",
       " [58, 64, 87, 91, 95],\n",
       " [72, 52, 92, 94, 87],\n",
       " [96, 50, 86, 98, 68],\n",
       " [51, 70, 50, 59, 91],\n",
       " [80, 80, 64, 50, 87],\n",
       " [83, 96, 69, 79, 79],\n",
       " [63, 66, 80, 91, 78],\n",
       " [81, 74, 79, 69, 67],\n",
       " [65, 89, 67, 76, 50],\n",
       " [97, 70, 66, 91, 85],\n",
       " [80, 53, 98, 83, 75],\n",
       " [52, 68, 84, 62, 51]]"
      ]
     },
     "execution_count": 44,
     "metadata": {},
     "output_type": "execute_result"
    }
   ],
   "source": [
    "import random\n",
    "students = []\n",
    "for _ in range(50):\n",
    "    stu = []\n",
    "    for _ in range(5):\n",
    "        stu.append(random.randint(50,100))\n",
    "    students.append(stu)\n",
    "\n",
    "students"
   ]
  }
 ],
 "metadata": {
  "kernelspec": {
   "display_name": "Python 3",
   "language": "python",
   "name": "python3"
  },
  "language_info": {
   "codemirror_mode": {
    "name": "ipython",
    "version": 3
   },
   "file_extension": ".py",
   "mimetype": "text/x-python",
   "name": "python",
   "nbconvert_exporter": "python",
   "pygments_lexer": "ipython3",
   "version": "3.10.6"
  },
  "orig_nbformat": 4
 },
 "nbformat": 4,
 "nbformat_minor": 2
}
