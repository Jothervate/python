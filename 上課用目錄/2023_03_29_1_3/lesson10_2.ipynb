{
 "cells": [
  {
   "cell_type": "code",
   "execution_count": 2,
   "metadata": {},
   "outputs": [],
   "source": [
    "class Person():\n",
    "    def __init__(self,name,weight=70,height=165):\n",
    "        #attribtu name\n",
    "        self.name = name\n",
    "        self.weight = weight\n",
    "        self.height = height\n",
    "\n",
    "    #建立property\n",
    "    #只可以傳出值,不可以更改\n",
    "    @property\n",
    "    def bmi(self):\n",
    "        my_bmi = self.weight / (self.height/100) ** 2\n",
    "        return round(my_bmi,ndigits=2)\n",
    "\n",
    "    #自訂的method\n",
    "    def description(self):\n",
    "        print(f\"姓名:{self.name}\")\n",
    "        print(f\"體重:{self.weight}\")\n",
    "        print(f\"身高:{self.height}\")\n",
    "        "
   ]
  },
  {
   "cell_type": "code",
   "execution_count": 4,
   "metadata": {},
   "outputs": [
    {
     "name": "stdout",
     "output_type": "stream",
     "text": [
      "<class '__main__.Person'>\n",
      "姓名:jenny\n",
      "體重:55\n",
      "身高:169\n",
      "19.26\n"
     ]
    }
   ],
   "source": [
    "#定義function可以傳Person的實體\n",
    "def get_person(name,weight=70,height=165)->Person:\n",
    "    return Person(name,weight=weight,height=height)\n",
    "\n",
    "p1 = get_person(\"jenny\",weight=55,height=169)\n",
    "print(p1.__class__)\n",
    "p1.description()\n",
    "print(p1.bmi)\n"
   ]
  }
 ],
 "metadata": {
  "kernelspec": {
   "display_name": "Python 3",
   "language": "python",
   "name": "python3"
  },
  "language_info": {
   "codemirror_mode": {
    "name": "ipython",
    "version": 3
   },
   "file_extension": ".py",
   "mimetype": "text/x-python",
   "name": "python",
   "nbconvert_exporter": "python",
   "pygments_lexer": "ipython3",
   "version": "3.10.6"
  },
  "orig_nbformat": 4
 },
 "nbformat": 4,
 "nbformat_minor": 2
}
