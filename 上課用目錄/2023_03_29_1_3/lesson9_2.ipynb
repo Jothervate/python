{
 "cells": [
  {
   "cell_type": "code",
   "execution_count": 1,
   "metadata": {},
   "outputs": [],
   "source": [
    "#檔案的存取\n",
    "#open(file, mode='r', buffering=- 1, encoding=None, errors=None, newline=None, closefd=True, opener=None)\n",
    "\n",
    "text = '''python與中文\n",
    "1. 我們來試試看中文儲存能力。\n",
    "2. 許這個字會有編碼衝突風險。\n",
    "3. 犇這個字必須是utf8編碼才有。'''\n",
    "\n",
    "file = open('data.txt',mode='w', encoding='utf-8')\n",
    "file.write(text)\n",
    "file.close()"
   ]
  }
 ],
 "metadata": {
  "kernelspec": {
   "display_name": "Python 3",
   "language": "python",
   "name": "python3"
  },
  "language_info": {
   "codemirror_mode": {
    "name": "ipython",
    "version": 3
   },
   "file_extension": ".py",
   "mimetype": "text/x-python",
   "name": "python",
   "nbconvert_exporter": "python",
   "pygments_lexer": "ipython3",
   "version": "3.10.6"
  },
  "orig_nbformat": 4
 },
 "nbformat": 4,
 "nbformat_minor": 2
}
