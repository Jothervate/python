{
 "cells": [
  {
   "cell_type": "code",
   "execution_count": 6,
   "metadata": {},
   "outputs": [
    {
     "name": "stdout",
     "output_type": "stream",
     "text": [
      "300\n"
     ]
    }
   ],
   "source": [
    "#學生總分為300\n",
    "#有些學生可以加分5%\n",
    "#如果加分超過300,就以300分為準\n",
    "\n",
    "scores = int(input(\"請輸入學生分數(最高300分):\"))\n",
    "is_add = input(\"學生是否符合加分條件?(y,n)\")\n",
    "if is_add == \"y\": #單項選擇\n",
    "    scores *= 1.05\n",
    "    if scores > 300: #單項選擇,巢狀的判斷\n",
    "        scores = 300\n",
    "    \n",
    "\n",
    "\n",
    "print(round(scores))"
   ]
  },
  {
   "cell_type": "code",
   "execution_count": 9,
   "metadata": {},
   "outputs": [
    {
     "name": "stdout",
     "output_type": "stream",
     "text": [
      "優\n"
     ]
    }
   ],
   "source": [
    "scores = int(input(\"請輸入學生分數\"))\n",
    "if scores < 60:\n",
    "    print(\"不及格\")\n",
    "else:    \n",
    "    if scores < 80:\n",
    "        print(\"及格\")\n",
    "    else:\n",
    "        print(\"優\")"
   ]
  },
  {
   "cell_type": "code",
   "execution_count": 13,
   "metadata": {},
   "outputs": [
    {
     "name": "stdout",
     "output_type": "stream",
     "text": [
      "優\n"
     ]
    }
   ],
   "source": [
    "#多項選擇\n",
    "scores = int(input(\"請輸入學生分數\"))\n",
    "if scores < 60:\n",
    "    print(\"不及格\")\n",
    "elif scores < 80:\n",
    "    print(\"及格\")\n",
    "else:\n",
    "    print(\"優\")"
   ]
  },
  {
   "cell_type": "code",
   "execution_count": 18,
   "metadata": {},
   "outputs": [
    {
     "name": "stdout",
     "output_type": "stream",
     "text": [
      "丁\n"
     ]
    }
   ],
   "source": [
    "#下列為換算成績等級的程式碼，換算的規則如下：\n",
    "\n",
    "# 90(含)~100分為「優」\n",
    "# 80(含)~89分為「甲」\n",
    "# 70(含)~79分為「乙」\n",
    "# 60(含)~69分為「丙」\n",
    "# 0(含)~59分為「丁」\n",
    "\n",
    "scores = int(input(\"請輸入學生分數\"))\n",
    "if scores >= 90:\n",
    "    print(\"優\")\n",
    "elif scores >= 80:\n",
    "    print(\"甲\")\n",
    "elif scores >= 70:\n",
    "    print(\"乙\")\n",
    "elif scores >= 60:\n",
    "    print(\"丙\")\n",
    "else:\n",
    "    print(\"丁\")"
   ]
  },
  {
   "cell_type": "code",
   "execution_count": 19,
   "metadata": {},
   "outputs": [
    {
     "name": "stdout",
     "output_type": "stream",
     "text": [
      "實付金額是:104000元\n"
     ]
    }
   ],
   "source": [
    "#輸入顧客購買金額，若金額在\n",
    "#100000元打8折. \n",
    "#50000打85折. \n",
    "#30000打9折. \n",
    "#10000打95折. \n",
    "\n",
    "#請輸入購買金額:130000\n",
    "#實付金額是: 104000.0 元\n",
    "\n",
    "money = int(input(\"請輸入購買金額:\"))\n",
    "if money >= 100000:\n",
    "    paymoney = money * 0.8\n",
    "elif money >= 50000:\n",
    "    paymoney = money * 0.85\n",
    "elif money >= 30000:\n",
    "    paymoney = money * 0.9\n",
    "elif money >= 10000:\n",
    "    paymoney = money * 0.95\n",
    "else:\n",
    "    paymoney = money\n",
    "print(f\"實付金額是:{round(paymoney)}元\")"
   ]
  },
  {
   "cell_type": "code",
   "execution_count": 22,
   "metadata": {},
   "outputs": [
    {
     "name": "stdout",
     "output_type": "stream",
     "text": [
      "血壓不正常\n"
     ]
    }
   ],
   "source": [
    "#2個條件\n",
    "s_press = int(input(\"請輸入收縮壓:\"))\n",
    "o_press = int(input(\"請輸入舒張壓:\"))\n",
    "\n",
    "if s_press <= 120:\n",
    "    if o_press <= 80:\n",
    "        print(\"血壓正常\")\n",
    "    else:\n",
    "        print(\"血壓不正常\")\n",
    "else:\n",
    "    print(\"血壓不正常\")\n"
   ]
  },
  {
   "cell_type": "code",
   "execution_count": 24,
   "metadata": {},
   "outputs": [
    {
     "name": "stdout",
     "output_type": "stream",
     "text": [
      "血壓不正常\n"
     ]
    }
   ],
   "source": [
    "#2個條件\n",
    "s_press = int(input(\"請輸入收縮壓:\"))\n",
    "o_press = int(input(\"請輸入舒張壓:\"))\n",
    "\n",
    "if s_press <= 120 and o_press <= 80:    \n",
    "    print(\"血壓正常\")    \n",
    "else:\n",
    "    print(\"血壓不正常\")"
   ]
  },
  {
   "cell_type": "code",
   "execution_count": 27,
   "metadata": {},
   "outputs": [
    {
     "name": "stdout",
     "output_type": "stream",
     "text": [
      "獎金0\n"
     ]
    }
   ],
   "source": [
    "#國文100 同時 數學100 獎金1000\n",
    "#國文100 或者 數學100 獎金500\n",
    "\n",
    "chinese = int(input(\"請輸入國文分數:\"))\n",
    "math = int(input(\"請輸入數學分數:\"))\n",
    "\n",
    "if chinese == 100 and math == 100:\n",
    "    bonus = 1000\n",
    "elif chinese == 100 or math == 100:\n",
    "    bonus = 500\n",
    "else:\n",
    "    bonus = 0\n",
    "\n",
    "print(f\"獎金{bonus}\")"
   ]
  }
 ],
 "metadata": {
  "kernelspec": {
   "display_name": "Python 3",
   "language": "python",
   "name": "python3"
  },
  "language_info": {
   "codemirror_mode": {
    "name": "ipython",
    "version": 3
   },
   "file_extension": ".py",
   "mimetype": "text/x-python",
   "name": "python",
   "nbconvert_exporter": "python",
   "pygments_lexer": "ipython3",
   "version": "3.10.6"
  },
  "orig_nbformat": 4
 },
 "nbformat": 4,
 "nbformat_minor": 2
}
