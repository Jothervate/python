{
 "cells": [
  {
   "cell_type": "code",
   "execution_count": 1,
   "metadata": {},
   "outputs": [
    {
     "name": "stdout",
     "output_type": "stream",
     "text": [
      "<class 'list'>\n"
     ]
    }
   ],
   "source": [
    "list1 = [10, 20, 30]\n",
    "print(type(list1))"
   ]
  },
  {
   "cell_type": "code",
   "execution_count": 3,
   "metadata": {},
   "outputs": [
    {
     "name": "stdout",
     "output_type": "stream",
     "text": [
      "<class 'dict'>\n"
     ]
    }
   ],
   "source": [
    "dict1 = {'one':1, 'two':2, 'three':3}\n",
    "#print(type(dict1))\n",
    "print(dict1.__class__)"
   ]
  },
  {
   "cell_type": "code",
   "execution_count": 4,
   "metadata": {},
   "outputs": [
    {
     "name": "stdout",
     "output_type": "stream",
     "text": [
      "<class '__main__.Person'>\n",
      "<class '__main__.Person'>\n"
     ]
    }
   ],
   "source": [
    "#自訂的類別Person\n",
    "class Person():\n",
    "    pass\n",
    "\n",
    "p1 = Person()\n",
    "print(type(p1))\n",
    "print(p1.__class__)"
   ]
  },
  {
   "cell_type": "code",
   "execution_count": 6,
   "metadata": {},
   "outputs": [
    {
     "name": "stdout",
     "output_type": "stream",
     "text": [
      "robert\n",
      "robert\n"
     ]
    }
   ],
   "source": [
    "#自訂的初始化\n",
    "class Person():\n",
    "    def __init__(self):\n",
    "        #attribtu name\n",
    "        self.name = \"robert\"\n",
    "\n",
    "p1 = Person()\n",
    "print(p1.name)\n",
    "\n",
    "p2 = Person()\n",
    "print(p2.name)"
   ]
  },
  {
   "cell_type": "code",
   "execution_count": 7,
   "metadata": {},
   "outputs": [
    {
     "name": "stdout",
     "output_type": "stream",
     "text": [
      "徐國堂\n",
      "周建全\n"
     ]
    }
   ],
   "source": [
    "#自訂的初始化\n",
    "class Person():\n",
    "    def __init__(self,name):\n",
    "        #attribtu name\n",
    "        self.name = name\n",
    "\n",
    "p1 = Person(\"徐國堂\")\n",
    "print(p1.name)\n",
    "\n",
    "p2 = Person(\"周建全\")\n",
    "print(p2.name)"
   ]
  }
 ],
 "metadata": {
  "kernelspec": {
   "display_name": "Python 3",
   "language": "python",
   "name": "python3"
  },
  "language_info": {
   "codemirror_mode": {
    "name": "ipython",
    "version": 3
   },
   "file_extension": ".py",
   "mimetype": "text/x-python",
   "name": "python",
   "nbconvert_exporter": "python",
   "pygments_lexer": "ipython3",
   "version": "3.10.6"
  },
  "orig_nbformat": 4
 },
 "nbformat": 4,
 "nbformat_minor": 2
}
