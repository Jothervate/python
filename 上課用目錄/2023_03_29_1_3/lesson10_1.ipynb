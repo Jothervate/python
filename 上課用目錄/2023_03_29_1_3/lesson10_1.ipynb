{
 "cells": [
  {
   "cell_type": "code",
   "execution_count": 1,
   "metadata": {},
   "outputs": [
    {
     "name": "stdout",
     "output_type": "stream",
     "text": [
      "<class 'list'>\n"
     ]
    }
   ],
   "source": [
    "list1 = [10, 20, 30]\n",
    "print(type(list1))"
   ]
  },
  {
   "cell_type": "code",
   "execution_count": 3,
   "metadata": {},
   "outputs": [
    {
     "name": "stdout",
     "output_type": "stream",
     "text": [
      "<class 'dict'>\n"
     ]
    }
   ],
   "source": [
    "dict1 = {'one':1, 'two':2, 'three':3}\n",
    "#print(type(dict1))\n",
    "print(dict1.__class__)"
   ]
  },
  {
   "cell_type": "code",
   "execution_count": 4,
   "metadata": {},
   "outputs": [
    {
     "name": "stdout",
     "output_type": "stream",
     "text": [
      "<class '__main__.Person'>\n",
      "<class '__main__.Person'>\n"
     ]
    }
   ],
   "source": [
    "#自訂的類別Person\n",
    "class Person():\n",
    "    pass\n",
    "\n",
    "p1 = Person()\n",
    "print(type(p1))\n",
    "print(p1.__class__)"
   ]
  },
  {
   "cell_type": "code",
   "execution_count": 6,
   "metadata": {},
   "outputs": [
    {
     "name": "stdout",
     "output_type": "stream",
     "text": [
      "robert\n",
      "robert\n"
     ]
    }
   ],
   "source": [
    "#自訂的初始化\n",
    "class Person():\n",
    "    def __init__(self):\n",
    "        #attribtu name\n",
    "        self.name = \"robert\"\n",
    "\n",
    "p1 = Person()\n",
    "print(p1.name)\n",
    "\n",
    "p2 = Person()\n",
    "print(p2.name)"
   ]
  },
  {
   "cell_type": "code",
   "execution_count": 9,
   "metadata": {},
   "outputs": [
    {
     "name": "stdout",
     "output_type": "stream",
     "text": [
      "姓名:徐國堂\n",
      "體重:70\n",
      "身高:165\n",
      "==================\n",
      "姓名:周建全\n",
      "體重:75\n",
      "身高:168\n"
     ]
    }
   ],
   "source": [
    "#自訂的初始化\n",
    "class Person():\n",
    "    def __init__(self,name,weight=70,height=165):\n",
    "        #attribtu name\n",
    "        self.name = name\n",
    "        self.weight = weight\n",
    "        self.height = height\n",
    "\n",
    "p1 = Person(\"徐國堂\")\n",
    "print(f\"姓名:{p1.name}\")\n",
    "print(f\"體重:{p1.weight}\")\n",
    "print(f\"身高:{p1.height}\")\n",
    "\n",
    "print(\"==================\")\n",
    "\n",
    "p2 = Person(\"周建全\",weight=75,height=168)\n",
    "print(f\"姓名:{p2.name}\")\n",
    "print(f\"體重:{p2.weight}\")\n",
    "print(f\"身高:{p2.height}\")"
   ]
  }
 ],
 "metadata": {
  "kernelspec": {
   "display_name": "Python 3",
   "language": "python",
   "name": "python3"
  },
  "language_info": {
   "codemirror_mode": {
    "name": "ipython",
    "version": 3
   },
   "file_extension": ".py",
   "mimetype": "text/x-python",
   "name": "python",
   "nbconvert_exporter": "python",
   "pygments_lexer": "ipython3",
   "version": "3.10.6"
  },
  "orig_nbformat": 4
 },
 "nbformat": 4,
 "nbformat_minor": 2
}
