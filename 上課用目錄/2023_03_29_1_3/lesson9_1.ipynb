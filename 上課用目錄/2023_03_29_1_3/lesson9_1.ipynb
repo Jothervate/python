{
 "cells": [
  {
   "cell_type": "code",
   "execution_count": 2,
   "metadata": {},
   "outputs": [
    {
     "name": "stdout",
     "output_type": "stream",
     "text": [
      "{'酒類': '白酒', '主餐': '牛排', '甜點': '蛋糕'}\n",
      "{'酒類': '紅酒', '主餐': '雞排', '甜點': '冰淇淋'}\n"
     ]
    }
   ],
   "source": [
    "def menu(wine, entree, dessert) -> dict:\n",
    "    return {'酒類':wine,'主餐':entree,'甜點':dessert}\n",
    "\n",
    "#引數位置的呼叫(依參數順序)\n",
    "print(menu('白酒','牛排','蛋糕'))\n",
    "\n",
    "print(menu('紅酒','雞排','冰淇淋'))"
   ]
  },
  {
   "cell_type": "code",
   "execution_count": 7,
   "metadata": {},
   "outputs": [
    {
     "name": "stdout",
     "output_type": "stream",
     "text": [
      "{'酒類': '白酒', '主餐': '牛排', '甜點': '蛋糕'}\n",
      "{'酒類': '白酒', '主餐': '牛排', '甜點': '蛋糕'}\n",
      "{'酒類': '白酒', '主餐': '牛排', '甜點': '蛋糕'}\n"
     ]
    }
   ],
   "source": [
    "#引數名稱的呼叫\n",
    "#引數名稱的呼叫可以不依照參數的順序\n",
    "print(menu(wine='白酒',entree='牛排',dessert='蛋糕'))\n",
    "print(menu(entree='牛排',dessert='蛋糕',wine='白酒'))\n",
    "print(menu(dessert='蛋糕',wine='白酒',entree='牛排'))"
   ]
  },
  {
   "cell_type": "code",
   "execution_count": 9,
   "metadata": {},
   "outputs": [
    {
     "name": "stdout",
     "output_type": "stream",
     "text": [
      "{'酒類': '白酒', '主餐': '牛排', '甜點': '蛋糕'}\n",
      "{'酒類': '白酒', '主餐': '牛排', '甜點': '蛋糕'}\n"
     ]
    }
   ],
   "source": [
    "#混合呼叫\n",
    "#前面必需用引數位置呼叫\n",
    "#後面引數名稱呼叫\n",
    "#使用引數名稱呼叫後,後面全部都要使用引數名稱呼叫\n",
    "def menu(wine, entree, dessert) -> dict:\n",
    "    return {'酒類':wine,'主餐':entree,'甜點':dessert}\n",
    "\n",
    "print(menu('白酒','牛排',dessert='蛋糕'))\n",
    "print(menu('白酒',dessert='蛋糕',entree='牛排'))"
   ]
  },
  {
   "cell_type": "code",
   "execution_count": 11,
   "metadata": {},
   "outputs": [
    {
     "name": "stdout",
     "output_type": "stream",
     "text": [
      "{'酒類': '白酒', '主餐': '牛排', '甜點': '奶昔'}\n"
     ]
    },
    {
     "data": {
      "text/plain": [
       "{'酒類': '白酒', '主餐': '牛排', '甜點': '蛋糕'}"
      ]
     },
     "execution_count": 11,
     "metadata": {},
     "output_type": "execute_result"
    }
   ],
   "source": [
    "#定前function的參數,可以有預設的引數值\n",
    "#如果參數有預設的引數值,必需定義在最後面\n",
    "\n",
    "#如果有預設計,叫呼時可以省略有預設引數值的參數\n",
    "\n",
    "def menu(wine, entree, dessert='奶昔'): #最少需要2個引數值\n",
    "    return {'酒類':wine,'主餐':entree,'甜點':dessert} \n",
    "\n",
    "\n",
    "print(menu('白酒','牛排'))\n",
    "menu('白酒','牛排',dessert='蛋糕')"
   ]
  },
  {
   "cell_type": "code",
   "execution_count": 13,
   "metadata": {},
   "outputs": [
    {
     "name": "stdout",
     "output_type": "stream",
     "text": [
      "{'酒類': '白酒', '主餐': '牛排', '甜點': '奶昔'}\n",
      "{'酒類': '白酒', '主餐': '牛排', '甜點': '蛋糕'}\n"
     ]
    }
   ],
   "source": [
    "def menu(wine, entree='牛排', dessert='奶昔'): #最少需要1個引數值\n",
    "    return {'酒類':wine,'主餐':entree,'甜點':dessert} \n",
    "\n",
    "print(menu('白酒'))\n",
    "print(menu('白酒',dessert='蛋糕'))"
   ]
  },
  {
   "cell_type": "code",
   "execution_count": 15,
   "metadata": {},
   "outputs": [
    {
     "name": "stdout",
     "output_type": "stream",
     "text": [
      "{'酒類': '白酒', '主餐': '牛排', '甜點': '奶昔'}\n",
      "{'酒類': '白酒', '主餐': '牛排', '甜點': '蛋糕'}\n"
     ]
    }
   ],
   "source": [
    "def menu(wine='白酒', entree='牛排', dessert='奶昔'): #最少完全不需要引數值\n",
    "    return {'酒類':wine,'主餐':entree,'甜點':dessert} \n",
    "\n",
    "print(menu())\n",
    "print(menu(dessert='蛋糕'))"
   ]
  }
 ],
 "metadata": {
  "kernelspec": {
   "display_name": "Python 3",
   "language": "python",
   "name": "python3"
  },
  "language_info": {
   "codemirror_mode": {
    "name": "ipython",
    "version": 3
   },
   "file_extension": ".py",
   "mimetype": "text/x-python",
   "name": "python",
   "nbconvert_exporter": "python",
   "pygments_lexer": "ipython3",
   "version": "3.10.6"
  },
  "orig_nbformat": 4
 },
 "nbformat": 4,
 "nbformat_minor": 2
}
