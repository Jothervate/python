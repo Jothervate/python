{
 "cells": [
  {
   "cell_type": "code",
   "execution_count": 2,
   "metadata": {},
   "outputs": [
    {
     "name": "stdout",
     "output_type": "stream",
     "text": [
      "{'酒類': '白酒', '主餐': '牛排', '甜點': '蛋糕'}\n",
      "{'酒類': '紅酒', '主餐': '雞排', '甜點': '冰淇淋'}\n"
     ]
    }
   ],
   "source": [
    "def menu(wine, entree, dessert) -> dict:\n",
    "    return {'酒類':wine,'主餐':entree,'甜點':dessert}\n",
    "\n",
    "#引數位置的呼叫(依參數順序)\n",
    "print(menu('白酒','牛排','蛋糕'))\n",
    "\n",
    "print(menu('紅酒','雞排','冰淇淋'))"
   ]
  },
  {
   "cell_type": "code",
   "execution_count": 7,
   "metadata": {},
   "outputs": [
    {
     "name": "stdout",
     "output_type": "stream",
     "text": [
      "{'酒類': '白酒', '主餐': '牛排', '甜點': '蛋糕'}\n",
      "{'酒類': '白酒', '主餐': '牛排', '甜點': '蛋糕'}\n",
      "{'酒類': '白酒', '主餐': '牛排', '甜點': '蛋糕'}\n"
     ]
    }
   ],
   "source": [
    "#引數名稱的呼叫\n",
    "#引數名稱的呼叫可以不依照參數的順序\n",
    "print(menu(wine='白酒',entree='牛排',dessert='蛋糕'))\n",
    "print(menu(entree='牛排',dessert='蛋糕',wine='白酒'))\n",
    "print(menu(dessert='蛋糕',wine='白酒',entree='牛排'))"
   ]
  }
 ],
 "metadata": {
  "kernelspec": {
   "display_name": "Python 3",
   "language": "python",
   "name": "python3"
  },
  "language_info": {
   "codemirror_mode": {
    "name": "ipython",
    "version": 3
   },
   "file_extension": ".py",
   "mimetype": "text/x-python",
   "name": "python",
   "nbconvert_exporter": "python",
   "pygments_lexer": "ipython3",
   "version": "3.10.6"
  },
  "orig_nbformat": 4
 },
 "nbformat": 4,
 "nbformat_minor": 2
}
