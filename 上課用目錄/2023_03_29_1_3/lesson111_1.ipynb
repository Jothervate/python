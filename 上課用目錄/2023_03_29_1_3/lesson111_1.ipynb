{
 "cells": [
  {
   "cell_type": "code",
   "execution_count": 23,
   "metadata": {},
   "outputs": [],
   "source": [
    "import csv\n",
    "with open('個股日成交資訊.csv',mode='r',encoding='utf-8',newline='') as file:\n",
    "    csv_reader = csv.reader(file)\n",
    "    next(csv_reader)    \n",
    "    csv_list = list(csv_reader)"
   ]
  },
  {
   "cell_type": "code",
   "execution_count": 26,
   "metadata": {},
   "outputs": [
    {
     "name": "stdout",
     "output_type": "stream",
     "text": [
      "['0052', '富邦科技', '161,425', '9,156,750', '57.60', '57.60', '55.35', '55.35', '-2.35', '67']\n",
      "['006205', '富邦上証', '2,176,076', '61,949,579', '28.38', '28.58', '28.18', '28.22', '-0.13', '301']\n",
      "['006208', '富邦台50', '1,366,482', '58,018,386', '43.80', '43.80', '41.55', '41.55', '-1.48', '867']\n"
     ]
    }
   ],
   "source": [
    "for item in csv_list:\n",
    "    for name in ['富邦科技','富邦上証','富邦台50']:\n",
    "        if item[1] == name:\n",
    "            print(item)"
   ]
  }
 ],
 "metadata": {
  "kernelspec": {
   "display_name": "Python 3",
   "language": "python",
   "name": "python3"
  },
  "language_info": {
   "codemirror_mode": {
    "name": "ipython",
    "version": 3
   },
   "file_extension": ".py",
   "mimetype": "text/x-python",
   "name": "python",
   "nbconvert_exporter": "python",
   "pygments_lexer": "ipython3",
   "version": "3.10.6"
  },
  "orig_nbformat": 4
 },
 "nbformat": 4,
 "nbformat_minor": 2
}
