{
 "cells": [
  {
   "cell_type": "code",
   "execution_count": 2,
   "metadata": {},
   "outputs": [
    {
     "name": "stdout",
     "output_type": "stream",
     "text": [
      "恭喜!已經存夠了,存了7個月,總存款為31969\n"
     ]
    }
   ],
   "source": [
    "#小明想要存錢買一輛機車,機車每輛30000元，他將每月存的錢輸入，當存款足夠買機車時，就顯示提示訊息告知。\n",
    "deposit = 0\n",
    "month = 0\n",
    "while(deposit < 30000):\n",
    "    month += 1\n",
    "    value = int(input(f\"請輸入第{month}月份的存款:\"))\n",
    "    deposit += value\n",
    "\n",
    "print(f\"恭喜!已經存夠了,存了{month}個月,總存款為{deposit}\")"
   ]
  },
  {
   "cell_type": "code",
   "execution_count": 3,
   "metadata": {},
   "outputs": [
    {
     "name": "stdout",
     "output_type": "stream",
     "text": [
      "TAIPEI\n",
      "JAPAN\n",
      "程式結束\n"
     ]
    }
   ],
   "source": [
    "#做用者輸入q,就離開迴圈\n",
    "stuff = input(\"請輸入小寫英文字[按q會離開]:\")\n",
    "while(stuff != \"q\"):\n",
    "    print(stuff.upper())\n",
    "    stuff = input(\"請輸入小寫英文字[按q會離開]:\")\n",
    "print(\"程式結束\")\n"
   ]
  },
  {
   "cell_type": "code",
   "execution_count": 4,
   "metadata": {},
   "outputs": [
    {
     "name": "stdout",
     "output_type": "stream",
     "text": [
      "TAIPEI\n",
      "JAPAN\n",
      "程式結束\n"
     ]
    }
   ],
   "source": [
    "#做用者輸入q,就離開迴圈\n",
    "while(True):\n",
    "    stuff = input(\"請輸入小寫英文字[按q會離開]:\")\n",
    "    if stuff == 'q':\n",
    "        break\n",
    "    print(stuff.upper())\n",
    "    \n",
    "print(\"程式結束\")"
   ]
  },
  {
   "cell_type": "code",
   "execution_count": 5,
   "metadata": {},
   "outputs": [
    {
     "name": "stdout",
     "output_type": "stream",
     "text": [
      "恭喜!已經存夠了,存了7個月,總存款為31969\n"
     ]
    }
   ],
   "source": [
    "#小明想要存錢買一輛機車,機車每輛30000元，他將每月存的錢輸入，當存款足夠買機車時，就顯示提示訊息告知。\n",
    "deposit = 0\n",
    "month = 0\n",
    "while(True):\n",
    "    month += 1\n",
    "    value = int(input(f\"請輸入第{month}月份的存款:\"))\n",
    "    deposit += value\n",
    "    if deposit >= 30000:\n",
    "        break\n",
    "\n",
    "print(f\"恭喜!已經存夠了,存了{month}個月,總存款為{deposit}\")"
   ]
  },
  {
   "cell_type": "code",
   "execution_count": 6,
   "metadata": {},
   "outputs": [
    {
     "name": "stdout",
     "output_type": "stream",
     "text": [
      "所有輸入的正偶數的加總是:30\n"
     ]
    }
   ],
   "source": [
    "#請設計一個程式，讓使用者輸入數值，只有加總正偶數值，不加總正奇數值，如果輸入負數，結束程式。\n",
    "sum = 0\n",
    "while(True):\n",
    "    inputValue = int(input(\"請輸入數值:\"))\n",
    "    if inputValue<0:\n",
    "        break\n",
    "    elif inputValue % 2 == 1:\n",
    "        continue\n",
    "    sum += inputValue\n",
    "\n",
    "print(f\"所有輸入的正偶數的加總是:{sum}\")\n"
   ]
  },
  {
   "cell_type": "code",
   "execution_count": null,
   "metadata": {},
   "outputs": [],
   "source": [
    "#請設計一個程式，讓使用者輸入數值，如果輸入負數，結束程式，如果是奇數輸出奇數的平方值，如果果是偶數不作用\n",
    "#請輸入整數,輸入[q]離開:3\n",
    "#3的平方是9\n",
    "#請輸入整數,輸入[q]離開:5\n",
    "#5的平方是25\n",
    "#請輸入整數,輸入[q]離開:4\n",
    "#請輸入整數,輸入[q]離開:6\n",
    "#請輸入整數,輸入[q]離開:q\n",
    "#程式結束\n",
    "while(True):\n",
    "    value = input(\"請輸入整數,輸入[q]離開:\")\n",
    "    #如果是q,離開程式,break\n",
    "    #必需將字串轉成數值,如果是偶數,不作用continue\n",
    "    #如果不是q,也不是偶數,輸出奇數的平方值"
   ]
  }
 ],
 "metadata": {
  "kernelspec": {
   "display_name": "Python 3",
   "language": "python",
   "name": "python3"
  },
  "language_info": {
   "codemirror_mode": {
    "name": "ipython",
    "version": 3
   },
   "file_extension": ".py",
   "mimetype": "text/x-python",
   "name": "python",
   "nbconvert_exporter": "python",
   "pygments_lexer": "ipython3",
   "version": "3.10.6"
  },
  "orig_nbformat": 4
 },
 "nbformat": 4,
 "nbformat_minor": 2
}
