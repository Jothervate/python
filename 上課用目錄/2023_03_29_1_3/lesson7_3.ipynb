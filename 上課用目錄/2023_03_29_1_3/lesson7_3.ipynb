{
 "cells": [
  {
   "cell_type": "code",
   "execution_count": 2,
   "metadata": {},
   "outputs": [
    {
     "name": "stdout",
     "output_type": "stream",
     "text": [
      "<class 'dict'>\n",
      "{'tw': 'taiwan', 'jp': 'japan'}\n"
     ]
    }
   ],
   "source": [
    "#dictionary\n",
    "codes = {'tw':'taiwan','jp':'japan'}\n",
    "print(type(codes))\n",
    "print(codes)"
   ]
  },
  {
   "cell_type": "code",
   "execution_count": 4,
   "metadata": {},
   "outputs": [
    {
     "ename": "KeyError",
     "evalue": "'hk'",
     "output_type": "error",
     "traceback": [
      "\u001b[0;31m---------------------------------------------------------------------------\u001b[0m",
      "\u001b[0;31mKeyError\u001b[0m                                  Traceback (most recent call last)",
      "\u001b[1;32m/Users/roberthsu/Documents/GitHub/python/上課用目錄/2023_03_29_1_3/lesson7_3.ipynb 儲存格 2\u001b[0m in \u001b[0;36m<cell line: 3>\u001b[0;34m()\u001b[0m\n\u001b[1;32m      <a href='vscode-notebook-cell:/Users/roberthsu/Documents/GitHub/python/%E4%B8%8A%E8%AA%B2%E7%94%A8%E7%9B%AE%E9%8C%84/2023_03_29_1_3/lesson7_3.ipynb#W1sZmlsZQ%3D%3D?line=0'>1</a>\u001b[0m \u001b[39m#透過key取出值\u001b[39;00m\n\u001b[1;32m      <a href='vscode-notebook-cell:/Users/roberthsu/Documents/GitHub/python/%E4%B8%8A%E8%AA%B2%E7%94%A8%E7%9B%AE%E9%8C%84/2023_03_29_1_3/lesson7_3.ipynb#W1sZmlsZQ%3D%3D?line=1'>2</a>\u001b[0m codes[\u001b[39m'\u001b[39m\u001b[39mtw\u001b[39m\u001b[39m'\u001b[39m]\n\u001b[0;32m----> <a href='vscode-notebook-cell:/Users/roberthsu/Documents/GitHub/python/%E4%B8%8A%E8%AA%B2%E7%94%A8%E7%9B%AE%E9%8C%84/2023_03_29_1_3/lesson7_3.ipynb#W1sZmlsZQ%3D%3D?line=2'>3</a>\u001b[0m codes[\u001b[39m'\u001b[39;49m\u001b[39mhk\u001b[39;49m\u001b[39m'\u001b[39;49m]\n",
      "\u001b[0;31mKeyError\u001b[0m: 'hk'"
     ]
    }
   ],
   "source": [
    "#透過key取出值\n",
    "codes['tw']\n",
    "codes['hk']"
   ]
  },
  {
   "cell_type": "code",
   "execution_count": 5,
   "metadata": {},
   "outputs": [
    {
     "data": {
      "text/plain": [
       "{'tw': 'taiwan', 'jp': 'japan', 'hk': 'Hong Kong'}"
      ]
     },
     "execution_count": 5,
     "metadata": {},
     "output_type": "execute_result"
    }
   ],
   "source": [
    "#新增\n",
    "codes['hk'] = \"Hong Kong\"\n",
    "codes"
   ]
  },
  {
   "cell_type": "code",
   "execution_count": 7,
   "metadata": {},
   "outputs": [
    {
     "data": {
      "text/plain": [
       "{'tw': 'taiwan', 'jp': 'japan'}"
      ]
     },
     "execution_count": 7,
     "metadata": {},
     "output_type": "execute_result"
    }
   ],
   "source": [
    "#刪除\n",
    "del codes['hk']\n",
    "codes"
   ]
  },
  {
   "cell_type": "code",
   "execution_count": 10,
   "metadata": {},
   "outputs": [
    {
     "name": "stdout",
     "output_type": "stream",
     "text": [
      "tw\n",
      "taiwan\n",
      "============\n",
      "jp\n",
      "japan\n",
      "============\n"
     ]
    }
   ],
   "source": [
    "for key in codes:\n",
    "    print(key)\n",
    "    print(codes[key])\n",
    "    print(\"============\")"
   ]
  },
  {
   "cell_type": "code",
   "execution_count": 11,
   "metadata": {},
   "outputs": [
    {
     "name": "stdout",
     "output_type": "stream",
     "text": [
      "('tw', 'taiwan')\n",
      "('jp', 'japan')\n"
     ]
    }
   ],
   "source": [
    "for item in codes.items():\n",
    "    print(item)"
   ]
  },
  {
   "cell_type": "code",
   "execution_count": 12,
   "metadata": {},
   "outputs": [
    {
     "name": "stdout",
     "output_type": "stream",
     "text": [
      "tw\n",
      "taiwan\n",
      "=========\n",
      "jp\n",
      "japan\n",
      "=========\n"
     ]
    }
   ],
   "source": [
    "for (key,value) in codes.items():\n",
    "    print(key)\n",
    "    print(value)\n",
    "    print(\"=========\")"
   ]
  },
  {
   "cell_type": "code",
   "execution_count": 13,
   "metadata": {},
   "outputs": [
    {
     "name": "stdout",
     "output_type": "stream",
     "text": [
      "tw\n",
      "taiwan\n",
      "=========\n",
      "jp\n",
      "japan\n",
      "=========\n"
     ]
    }
   ],
   "source": [
    "for key,value in codes.items():\n",
    "    print(key)\n",
    "    print(value)\n",
    "    print(\"=========\")"
   ]
  },
  {
   "cell_type": "code",
   "execution_count": 14,
   "metadata": {},
   "outputs": [
    {
     "data": {
      "text/plain": [
       "[{'國文': 66, '英文': 87, '數學': 69, '歷史': 97, '物理': 59},\n",
       " {'國文': 97, '英文': 99, '數學': 51, '歷史': 89, '物理': 59},\n",
       " {'國文': 77, '英文': 76, '數學': 64, '歷史': 59, '物理': 50},\n",
       " {'國文': 57, '英文': 76, '數學': 71, '歷史': 56, '物理': 58},\n",
       " {'國文': 58, '英文': 52, '數學': 81, '歷史': 68, '物理': 56},\n",
       " {'國文': 65, '英文': 77, '數學': 79, '歷史': 97, '物理': 73},\n",
       " {'國文': 60, '英文': 91, '數學': 98, '歷史': 94, '物理': 82},\n",
       " {'國文': 74, '英文': 54, '數學': 69, '歷史': 51, '物理': 60},\n",
       " {'國文': 62, '英文': 54, '數學': 82, '歷史': 50, '物理': 69},\n",
       " {'國文': 80, '英文': 55, '數學': 63, '歷史': 82, '物理': 77},\n",
       " {'國文': 59, '英文': 63, '數學': 97, '歷史': 66, '物理': 91},\n",
       " {'國文': 81, '英文': 89, '數學': 89, '歷史': 62, '物理': 58},\n",
       " {'國文': 64, '英文': 78, '數學': 59, '歷史': 54, '物理': 92},\n",
       " {'國文': 51, '英文': 100, '數學': 76, '歷史': 73, '物理': 53},\n",
       " {'國文': 65, '英文': 60, '數學': 87, '歷史': 84, '物理': 79},\n",
       " {'國文': 89, '英文': 82, '數學': 50, '歷史': 89, '物理': 62},\n",
       " {'國文': 86, '英文': 93, '數學': 82, '歷史': 61, '物理': 96},\n",
       " {'國文': 80, '英文': 55, '數學': 67, '歷史': 50, '物理': 50},\n",
       " {'國文': 76, '英文': 81, '數學': 92, '歷史': 99, '物理': 82},\n",
       " {'國文': 64, '英文': 55, '數學': 59, '歷史': 82, '物理': 68},\n",
       " {'國文': 68, '英文': 77, '數學': 90, '歷史': 92, '物理': 91},\n",
       " {'國文': 65, '英文': 83, '數學': 84, '歷史': 83, '物理': 78},\n",
       " {'國文': 86, '英文': 91, '數學': 59, '歷史': 60, '物理': 91},\n",
       " {'國文': 61, '英文': 88, '數學': 92, '歷史': 76, '物理': 77},\n",
       " {'國文': 77, '英文': 67, '數學': 80, '歷史': 69, '物理': 94},\n",
       " {'國文': 81, '英文': 78, '數學': 50, '歷史': 80, '物理': 55},\n",
       " {'國文': 92, '英文': 91, '數學': 63, '歷史': 81, '物理': 59},\n",
       " {'國文': 58, '英文': 66, '數學': 91, '歷史': 97, '物理': 87},\n",
       " {'國文': 73, '英文': 71, '數學': 57, '歷史': 76, '物理': 75},\n",
       " {'國文': 77, '英文': 53, '數學': 55, '歷史': 79, '物理': 70},\n",
       " {'國文': 67, '英文': 57, '數學': 81, '歷史': 91, '物理': 81},\n",
       " {'國文': 85, '英文': 60, '數學': 80, '歷史': 80, '物理': 99},\n",
       " {'國文': 53, '英文': 82, '數學': 84, '歷史': 76, '物理': 51},\n",
       " {'國文': 66, '英文': 70, '數學': 75, '歷史': 60, '物理': 50},\n",
       " {'國文': 68, '英文': 72, '數學': 92, '歷史': 71, '物理': 75},\n",
       " {'國文': 97, '英文': 51, '數學': 82, '歷史': 64, '物理': 99},\n",
       " {'國文': 72, '英文': 70, '數學': 100, '歷史': 56, '物理': 98},\n",
       " {'國文': 80, '英文': 83, '數學': 80, '歷史': 85, '物理': 84},\n",
       " {'國文': 80, '英文': 56, '數學': 78, '歷史': 91, '物理': 60},\n",
       " {'國文': 98, '英文': 61, '數學': 54, '歷史': 79, '物理': 59},\n",
       " {'國文': 61, '英文': 88, '數學': 65, '歷史': 97, '物理': 50},\n",
       " {'國文': 93, '英文': 64, '數學': 88, '歷史': 94, '物理': 94},\n",
       " {'國文': 70, '英文': 86, '數學': 91, '歷史': 56, '物理': 66},\n",
       " {'國文': 85, '英文': 96, '數學': 98, '歷史': 62, '物理': 86},\n",
       " {'國文': 77, '英文': 92, '數學': 86, '歷史': 67, '物理': 84},\n",
       " {'國文': 81, '英文': 95, '數學': 58, '歷史': 52, '物理': 99},\n",
       " {'國文': 58, '英文': 77, '數學': 62, '歷史': 52, '物理': 99},\n",
       " {'國文': 68, '英文': 100, '數學': 99, '歷史': 76, '物理': 83},\n",
       " {'國文': 70, '英文': 61, '數學': 91, '歷史': 72, '物理': 64},\n",
       " {'國文': 77, '英文': 93, '數學': 62, '歷史': 52, '物理': 79}]"
      ]
     },
     "execution_count": 14,
     "metadata": {},
     "output_type": "execute_result"
    }
   ],
   "source": [
    "import random\n",
    "students = []\n",
    "for _ in range(50):\n",
    "    stu = {'國文':random.randint(50,100),\n",
    "           '英文':random.randint(50,100),\n",
    "           '數學':random.randint(50,100),\n",
    "           '歷史':random.randint(50,100),\n",
    "           '物理':random.randint(50,100),\n",
    "           }\n",
    "    students.append(stu)\n",
    "\n",
    "students"
   ]
  }
 ],
 "metadata": {
  "kernelspec": {
   "display_name": "Python 3",
   "language": "python",
   "name": "python3"
  },
  "language_info": {
   "codemirror_mode": {
    "name": "ipython",
    "version": 3
   },
   "file_extension": ".py",
   "mimetype": "text/x-python",
   "name": "python",
   "nbconvert_exporter": "python",
   "pygments_lexer": "ipython3",
   "version": "3.10.6"
  },
  "orig_nbformat": 4
 },
 "nbformat": 4,
 "nbformat_minor": 2
}
