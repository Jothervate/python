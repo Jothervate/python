{
 "cells": [
  {
   "cell_type": "code",
   "execution_count": 4,
   "metadata": {},
   "outputs": [
    {
     "data": {
      "text/plain": [
       "10"
      ]
     },
     "execution_count": 4,
     "metadata": {},
     "output_type": "execute_result"
    }
   ],
   "source": [
    "n = 5 + 5 #建立變數n\n",
    "n #傳出n的值"
   ]
  },
  {
   "cell_type": "code",
   "execution_count": 14,
   "metadata": {},
   "outputs": [
    {
     "name": "stdout",
     "output_type": "stream",
     "text": [
      "三角型的面積是711.4499999999999\n",
      "<class 'float'>\n"
     ]
    }
   ],
   "source": [
    "#求3角型面積\n",
    "bottom = 45.9\n",
    "height = 31\n",
    "triangle_area = bottom * height / 2\n",
    "print(\"三角型的面積是\" + str(triangle_area))\n",
    "print(type(triangle_area))\n"
   ]
  },
  {
   "cell_type": "code",
   "execution_count": 17,
   "metadata": {},
   "outputs": [
    {
     "data": {
      "text/plain": [
       "135.0"
      ]
     },
     "execution_count": 17,
     "metadata": {},
     "output_type": "execute_result"
    }
   ],
   "source": [
    "n = int(input(\"請輸入數字:\"))\n",
    "m = float(input(\"請輸入浮點數:\"))\n",
    "n + m"
   ]
  },
  {
   "cell_type": "code",
   "execution_count": 18,
   "metadata": {},
   "outputs": [
    {
     "name": "stdout",
     "output_type": "stream",
     "text": [
      "三角型的面積是3.0\n",
      "<class 'float'>\n"
     ]
    }
   ],
   "source": [
    "#求3角型面積\n",
    "bottom = float(input(\"請輸入三角型的底:\"))\n",
    "height = float(input(\"請輸入三角型的高\"))\n",
    "triangle_area = bottom * height / 2\n",
    "print(\"三角型的面積是\" + str(triangle_area))\n",
    "print(type(triangle_area))"
   ]
  }
 ],
 "metadata": {
  "kernelspec": {
   "display_name": "Python 3",
   "language": "python",
   "name": "python3"
  },
  "language_info": {
   "codemirror_mode": {
    "name": "ipython",
    "version": 3
   },
   "file_extension": ".py",
   "mimetype": "text/x-python",
   "name": "python",
   "nbconvert_exporter": "python",
   "pygments_lexer": "ipython3",
   "version": "3.10.6"
  },
  "orig_nbformat": 4
 },
 "nbformat": 4,
 "nbformat_minor": 2
}
