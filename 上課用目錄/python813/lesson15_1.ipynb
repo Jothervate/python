{
 "cells": [
  {
   "cell_type": "code",
   "execution_count": 3,
   "metadata": {},
   "outputs": [
    {
     "data": {
      "text/plain": [
       "numpy.ndarray"
      ]
     },
     "execution_count": 3,
     "metadata": {},
     "output_type": "execute_result"
    }
   ],
   "source": [
    "#建立ndArray\n",
    "import numpy\n",
    "arr1 = numpy.array([1,2,3,4,5])\n",
    "type(arr1)"
   ]
  },
  {
   "cell_type": "code",
   "execution_count": 5,
   "metadata": {},
   "outputs": [
    {
     "data": {
      "text/plain": [
       "[8, 10, 12, 14, 16]"
      ]
     },
     "execution_count": 5,
     "metadata": {},
     "output_type": "execute_result"
    }
   ],
   "source": [
    "#list和ndArray的差別\n",
    "#資料集內容要*2\n",
    "#list必需使用for...in存取元素\n",
    "#ndArray使用陣列運算\n",
    "\n",
    "list1 = [4,5,6,7,8]\n",
    "result = []\n",
    "for value in list1:\n",
    "    result.append(value * 2)\n",
    "result\n"
   ]
  },
  {
   "cell_type": "code",
   "execution_count": 6,
   "metadata": {},
   "outputs": [
    {
     "data": {
      "text/plain": [
       "[8, 10, 12, 14, 16]"
      ]
     },
     "execution_count": 6,
     "metadata": {},
     "output_type": "execute_result"
    }
   ],
   "source": [
    "#comprehension\n",
    "\n",
    "list1 = [4,5,6,7,8]\n",
    "\n",
    "result = [value*2 for value in list1]\n",
    "result"
   ]
  },
  {
   "cell_type": "code",
   "execution_count": 9,
   "metadata": {},
   "outputs": [
    {
     "data": {
      "text/plain": [
       "array([ 8, 10, 12, 14, 16])"
      ]
     },
     "execution_count": 9,
     "metadata": {},
     "output_type": "execute_result"
    }
   ],
   "source": [
    "#numpy整體的陣列運算\n",
    "\n",
    "import numpy as np\n",
    "array = np.array([4, 5, 6, 7, 8])\n",
    "array * 2"
   ]
  },
  {
   "cell_type": "code",
   "execution_count": 11,
   "metadata": {},
   "outputs": [
    {
     "data": {
      "text/plain": [
       "array([[ 71,  64,  69, 102, 102],\n",
       "       [ 81,  65,  93,  74,  62],\n",
       "       [ 98, 100,  66, 101,  97],\n",
       "       [ 65,  89,  87,  90,  90],\n",
       "       [ 71,  89,  99,  77,  87],\n",
       "       [ 97,  82,  66,  78,  98],\n",
       "       [101,  71,  72,  64,  62],\n",
       "       [ 66,  83,  70,  74,  78],\n",
       "       [ 77,  88,  86,  99,  65],\n",
       "       [ 70,  91,  86,  99,  95],\n",
       "       [ 77,  65,  77,  97,  96],\n",
       "       [ 62,  72,  76,  90,  72],\n",
       "       [ 97,  98,  95,  72,  69],\n",
       "       [ 91,  70,  94,  80,  91],\n",
       "       [ 97, 101,  67,  76,  70],\n",
       "       [ 80,  89,  73,  67,  67],\n",
       "       [ 74,  85,  78,  81,  79],\n",
       "       [ 63,  95,  75,  75,  83],\n",
       "       [ 91,  86,  86,  79,  70],\n",
       "       [ 86,  93,  93,  83,  88],\n",
       "       [ 70,  96,  72,  63,  66],\n",
       "       [100,  77,  96,  81,  67],\n",
       "       [ 84,  74,  93,  64, 101],\n",
       "       [ 80,  75,  63,  62,  74],\n",
       "       [ 80,  78, 102,  90,  99],\n",
       "       [102,  90,  93,  68,  70],\n",
       "       [ 70,  68,  90,  75,  66],\n",
       "       [ 86,  73,  92,  75,  84],\n",
       "       [ 62,  94,  93,  88,  81],\n",
       "       [ 67,  92,  79,  73,  80],\n",
       "       [ 76,  70,  99,  82,  81],\n",
       "       [ 93,  71,  99,  80,  84],\n",
       "       [ 72,  80,  75,  87,  70],\n",
       "       [101,  91,  83,  67,  93],\n",
       "       [ 90,  88,  87,  77,  86],\n",
       "       [ 97,  77,  78,  77,  72],\n",
       "       [ 85,  68,  77,  79,  83],\n",
       "       [ 69,  76,  80,  88,  94],\n",
       "       [ 74,  88,  96,  87, 101],\n",
       "       [ 75,  81,  88,  75,  66],\n",
       "       [ 84,  86,  77,  97,  85],\n",
       "       [ 75,  75,  92,  70,  95],\n",
       "       [ 76,  99,  81, 102,  97],\n",
       "       [ 70,  81,  79,  67,  91],\n",
       "       [ 69,  87,  66,  93,  93],\n",
       "       [ 77,  97,  82,  86,  79],\n",
       "       [ 69,  62,  98,  63,  70],\n",
       "       [ 83,  96,  90,  67,  62],\n",
       "       [ 77, 102, 100,  92, 101],\n",
       "       [ 72,  69,  74,  97,  91]])"
      ]
     },
     "execution_count": 11,
     "metadata": {},
     "output_type": "execute_result"
    }
   ],
   "source": [
    "import numpy as np\n",
    "scores_arr = np.random.randint(60,101,size=(50,5))\n",
    "scores_arr"
   ]
  },
  {
   "cell_type": "code",
   "execution_count": 12,
   "metadata": {},
   "outputs": [
    {
     "name": "stdout",
     "output_type": "stream",
     "text": [
      "[ 69  62  67 100 100]\n",
      "[79 63 91 72 60]\n",
      "[96 98 64 99 95]\n",
      "[63 87 85 88 88]\n",
      "[69 87 97 75 85]\n",
      "[95 80 64 76 96]\n",
      "[99 69 70 62 60]\n",
      "[64 81 68 72 76]\n",
      "[75 86 84 97 63]\n",
      "[68 89 84 97 93]\n",
      "[75 63 75 95 94]\n",
      "[60 70 74 88 70]\n",
      "[95 96 93 70 67]\n",
      "[89 68 92 78 89]\n",
      "[95 99 65 74 68]\n",
      "[78 87 71 65 65]\n",
      "[72 83 76 79 77]\n",
      "[61 93 73 73 81]\n",
      "[89 84 84 77 68]\n",
      "[84 91 91 81 86]\n",
      "[68 94 70 61 64]\n",
      "[98 75 94 79 65]\n",
      "[82 72 91 62 99]\n",
      "[78 73 61 60 72]\n",
      "[ 78  76 100  88  97]\n",
      "[100  88  91  66  68]\n",
      "[68 66 88 73 64]\n",
      "[84 71 90 73 82]\n",
      "[60 92 91 86 79]\n",
      "[65 90 77 71 78]\n",
      "[74 68 97 80 79]\n",
      "[91 69 97 78 82]\n",
      "[70 78 73 85 68]\n",
      "[99 89 81 65 91]\n",
      "[88 86 85 75 84]\n",
      "[95 75 76 75 70]\n",
      "[83 66 75 77 81]\n",
      "[67 74 78 86 92]\n",
      "[72 86 94 85 99]\n",
      "[73 79 86 73 64]\n",
      "[82 84 75 95 83]\n",
      "[73 73 90 68 93]\n",
      "[ 74  97  79 100  95]\n",
      "[68 79 77 65 89]\n",
      "[67 85 64 91 91]\n",
      "[75 95 80 84 77]\n",
      "[67 60 96 61 68]\n",
      "[81 94 88 65 60]\n",
      "[ 75 100  98  90  99]\n",
      "[70 67 72 95 89]\n"
     ]
    }
   ],
   "source": [
    "#for in ndarray\n",
    "\n",
    "for item in scores_arr:\n",
    "    print(item)"
   ]
  },
  {
   "cell_type": "code",
   "execution_count": 14,
   "metadata": {},
   "outputs": [
    {
     "data": {
      "text/plain": [
       "array([0.000e+00, 5.000e-01, 1.000e+00, ..., 9.985e+02, 9.990e+02,\n",
       "       9.995e+02])"
      ]
     },
     "execution_count": 14,
     "metadata": {},
     "output_type": "execute_result"
    }
   ],
   "source": [
    "np.arange(0,1000,0.5)"
   ]
  },
  {
   "cell_type": "code",
   "execution_count": 16,
   "metadata": {},
   "outputs": [
    {
     "data": {
      "text/plain": [
       "50"
      ]
     },
     "execution_count": 16,
     "metadata": {},
     "output_type": "execute_result"
    }
   ],
   "source": [
    "x=np.linspace(-3,3,50)\n",
    "len(x)"
   ]
  },
  {
   "cell_type": "code",
   "execution_count": 17,
   "metadata": {},
   "outputs": [
    {
     "data": {
      "text/plain": [
       "(50,)"
      ]
     },
     "execution_count": 17,
     "metadata": {},
     "output_type": "execute_result"
    }
   ],
   "source": [
    "#檢查形狀\n",
    "x.shape"
   ]
  },
  {
   "cell_type": "code",
   "execution_count": 18,
   "metadata": {},
   "outputs": [
    {
     "data": {
      "text/plain": [
       "1"
      ]
     },
     "execution_count": 18,
     "metadata": {},
     "output_type": "execute_result"
    }
   ],
   "source": [
    "#檢查維度\n",
    "x.ndim"
   ]
  },
  {
   "cell_type": "code",
   "execution_count": 19,
   "metadata": {},
   "outputs": [
    {
     "data": {
      "text/plain": [
       "50"
      ]
     },
     "execution_count": 19,
     "metadata": {},
     "output_type": "execute_result"
    }
   ],
   "source": [
    "#檢查元素數量\n",
    "x.size"
   ]
  },
  {
   "cell_type": "code",
   "execution_count": 20,
   "metadata": {},
   "outputs": [
    {
     "data": {
      "text/plain": [
       "dtype('float64')"
      ]
     },
     "execution_count": 20,
     "metadata": {},
     "output_type": "execute_result"
    }
   ],
   "source": [
    "#檢查資料類形\n",
    "x.dtype"
   ]
  },
  {
   "cell_type": "code",
   "execution_count": 25,
   "metadata": {},
   "outputs": [
    {
     "data": {
      "text/plain": [
       "array([9.00000000e+00, 8.28029988e+00, 7.59058726e+00, 6.93086214e+00,\n",
       "       6.30112453e+00, 5.70137443e+00, 5.13161183e+00, 4.59183673e+00,\n",
       "       4.08204915e+00, 3.60224906e+00, 3.15243648e+00, 2.73261141e+00,\n",
       "       2.34277384e+00, 1.98292378e+00, 1.65306122e+00, 1.35318617e+00,\n",
       "       1.08329863e+00, 8.43398584e-01, 6.33486047e-01, 4.53561016e-01,\n",
       "       3.03623490e-01, 1.83673469e-01, 9.37109538e-02, 3.37359434e-02,\n",
       "       3.74843815e-03, 3.74843815e-03, 3.37359434e-02, 9.37109538e-02,\n",
       "       1.83673469e-01, 3.03623490e-01, 4.53561016e-01, 6.33486047e-01,\n",
       "       8.43398584e-01, 1.08329863e+00, 1.35318617e+00, 1.65306122e+00,\n",
       "       1.98292378e+00, 2.34277384e+00, 2.73261141e+00, 3.15243648e+00,\n",
       "       3.60224906e+00, 4.08204915e+00, 4.59183673e+00, 5.13161183e+00,\n",
       "       5.70137443e+00, 6.30112453e+00, 6.93086214e+00, 7.59058726e+00,\n",
       "       8.28029988e+00, 9.00000000e+00])"
      ]
     },
     "execution_count": 25,
     "metadata": {},
     "output_type": "execute_result"
    }
   ],
   "source": [
    "import xdrlib\n",
    "\n",
    "\n",
    "x = np.linspace(-3,3,50)\n",
    "y1 = x * 2 + 1\n",
    "y1\n",
    "y2 = x ** 2\n",
    "y2"
   ]
  },
  {
   "cell_type": "code",
   "execution_count": 26,
   "metadata": {},
   "outputs": [
    {
     "data": {
      "image/png": "[encoded data removed]",
      "text/plain": [
       "<Figure size 800x500 with 1 Axes>"
      ]
     },
     "metadata": {},
     "output_type": "display_data"
    }
   ],
   "source": [
    "import matplotlib.pyplot as plt\n",
    "figure = plt.figure(figsize=(8,5))\n",
    "axes = figure.add_subplot(1,1,1)\n",
    "axes.plot(x,y1,'r--')\n",
    "axes.plot(x,y2,'b--')\n",
    "axes.set_xlabel(\"x\")\n",
    "axes.set_ylabel(\"y\")\n",
    "axes.set_title(\"x,y\")\n",
    "plt.show()"
   ]
  },
  {
   "cell_type": "code",
   "execution_count": 30,
   "metadata": {},
   "outputs": [
    {
     "data": {
      "text/plain": [
       "國文    78\n",
       "英文    92\n",
       "數學    67\n",
       "地理    63\n",
       "社會    92\n",
       "Name: 1個學生分數, dtype: int64"
      ]
     },
     "execution_count": 30,
     "metadata": {},
     "output_type": "execute_result"
    }
   ],
   "source": [
    "import pandas as pd\n",
    "\n",
    "scores_arr = np.array([78, 92, 67, 63, 92])\n",
    "scores_ser= pd.Series(scores_arr,index=['國文','英文','數學','地理','社會'],name=\"1個學生分數\")\n",
    "scores_ser"
   ]
  }
 ],
 "metadata": {
  "kernelspec": {
   "display_name": "Python 3.10.6 ('venv14')",
   "language": "python",
   "name": "python3"
  },
  "language_info": {
   "codemirror_mode": {
    "name": "ipython",
    "version": 3
   },
   "file_extension": ".py",
   "mimetype": "text/x-python",
   "name": "python",
   "nbconvert_exporter": "python",
   "pygments_lexer": "ipython3",
   "version": "3.10.6"
  },
  "orig_nbformat": 4,
  "vscode": {
   "interpreter": {
    "hash": "a58913c66b98dddfc964ba6f5302e4f760ac5e6f18107696cc385ae346a09ab8"
   }
  }
 },
 "nbformat": 4,
 "nbformat_minor": 2
}
