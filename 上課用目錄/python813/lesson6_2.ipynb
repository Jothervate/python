{
 "cells": [
  {
   "cell_type": "code",
   "execution_count": 7,
   "id": "bc0a9ff1",
   "metadata": {},
   "outputs": [
    {
     "data": {
      "text/plain": [
       "'python與中文\\n1. 我們來試試看中文儲存能力。\\n2. 許這個字會有編碼衝突風險。\\n3. 犇這個字必須是utf8編碼才有。'"
      ]
     },
     "execution_count": 7,
     "metadata": {},
     "output_type": "execute_result"
    }
   ],
   "source": [
    "text = \"\"\"python與中文\n",
    "1. 我們來試試看中文儲存能力。\n",
    "2. 許這個字會有編碼衝突風險。\n",
    "3. 犇這個字必須是utf8編碼才有。\"\"\"\n",
    "text"
   ]
  },
  {
   "cell_type": "code",
   "execution_count": 8,
   "id": "f6d1e125",
   "metadata": {},
   "outputs": [],
   "source": [
    "file = open(\"data.txt\",mode=\"w\",encoding=\"utf-8\")\n",
    "print(text,file=file)"
   ]
  },
  {
   "cell_type": "code",
   "execution_count": null,
   "id": "20c7455d",
   "metadata": {},
   "outputs": [],
   "source": []
  }
 ],
 "metadata": {
  "kernelspec": {
   "display_name": "Python 3 (ipykernel)",
   "language": "python",
   "name": "python3"
  },
  "language_info": {
   "codemirror_mode": {
    "name": "ipython",
    "version": 3
   },
   "file_extension": ".py",
   "mimetype": "text/x-python",
   "name": "python",
   "nbconvert_exporter": "python",
   "pygments_lexer": "ipython3",
   "version": "3.10.6"
  }
 },
 "nbformat": 4,
 "nbformat_minor": 5
}
