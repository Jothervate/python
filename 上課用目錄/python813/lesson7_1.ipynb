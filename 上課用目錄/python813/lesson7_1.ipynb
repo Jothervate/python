{
 "cells": [
  {
   "cell_type": "code",
   "execution_count": 1,
   "id": "57b41f1f",
   "metadata": {},
   "outputs": [
    {
     "data": {
      "text/plain": [
       "{}"
      ]
     },
     "execution_count": 1,
     "metadata": {},
     "output_type": "execute_result"
    }
   ],
   "source": [
    "#Dictionary\n",
    "empty_dict = {}\n",
    "empty_dict"
   ]
  },
  {
   "cell_type": "code",
   "execution_count": 2,
   "id": "166fe2aa",
   "metadata": {},
   "outputs": [
    {
     "data": {
      "text/plain": [
       "{'tw': 'Taiwan', 'jp': 'Japan', 'hk': 'Hong Kong'}"
      ]
     },
     "execution_count": 2,
     "metadata": {},
     "output_type": "execute_result"
    }
   ],
   "source": [
    "codes = {\"tw\": \"Taiwan\",\n",
    "         \"jp\": \"Japan\",\n",
    "         \"hk\":\"Hong Kong\"}\n",
    "codes"
   ]
  },
  {
   "cell_type": "code",
   "execution_count": 4,
   "id": "72a2e00c",
   "metadata": {},
   "outputs": [
    {
     "data": {
      "text/plain": [
       "('Taiwan', 'Japan', 'Hong Kong')"
      ]
     },
     "execution_count": 4,
     "metadata": {},
     "output_type": "execute_result"
    }
   ],
   "source": [
    "codes[\"tw\"],codes[\"jp\"],codes[\"hk\"]"
   ]
  },
  {
   "cell_type": "code",
   "execution_count": null,
   "id": "976ed3a0",
   "metadata": {},
   "outputs": [],
   "source": []
  }
 ],
 "metadata": {
  "kernelspec": {
   "display_name": "Python 3 (ipykernel)",
   "language": "python",
   "name": "python3"
  },
  "language_info": {
   "codemirror_mode": {
    "name": "ipython",
    "version": 3
   },
   "file_extension": ".py",
   "mimetype": "text/x-python",
   "name": "python",
   "nbconvert_exporter": "python",
   "pygments_lexer": "ipython3",
   "version": "3.10.6"
  }
 },
 "nbformat": 4,
 "nbformat_minor": 5
}
