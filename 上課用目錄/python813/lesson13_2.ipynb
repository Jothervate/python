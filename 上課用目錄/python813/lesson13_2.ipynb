{
 "cells": [
  {
   "cell_type": "code",
   "execution_count": 1,
   "metadata": {},
   "outputs": [
    {
     "name": "stdout",
     "output_type": "stream",
     "text": [
      "下載成功\n",
      "{'cnt': 3, 'list': [{'coord': {'lon': 121.5319, 'lat': 25.0478}, 'sys': {'country': 'TW', 'timezone': 28800, 'sunrise': 1664574338, 'sunset': 1664617297}, 'weather': [{'id': 801, 'main': 'Clouds', 'description': 'few clouds', 'icon': '02d'}], 'main': {'temp': 32.56, 'feels_like': 34.18, 'temp_min': 30.03, 'temp_max': 33.93, 'pressure': 1013, 'humidity': 45}, 'visibility': 10000, 'wind': {'speed': 7.2, 'deg': 90}, 'clouds': {'all': 20}, 'dt': 1664608175, 'id': 1668341, 'name': 'Taipei'}, {'coord': {'lon': 120.6839, 'lat': 24.1469}, 'sys': {'country': 'TW', 'timezone': 28800, 'sunrise': 1664574529, 'sunset': 1664617513}, 'weather': [{'id': 802, 'main': 'Clouds', 'description': 'scattered clouds', 'icon': '03d'}], 'main': {'temp': 32.56, 'feels_like': 38.42, 'temp_min': 30.58, 'temp_max': 34.16, 'pressure': 998, 'humidity': 60}, 'visibility': 8000, 'wind': {'speed': 3.09, 'deg': 350}, 'clouds': {'all': 40}, 'dt': 1664608175, 'id': 1668399, 'name': 'Taichung'}, {'coord': {'lon': 120.4881, 'lat': 22.6714}, 'sys': {'country': 'TW', 'timezone': 28800, 'sunrise': 1664574556, 'sunset': 1664617580}, 'weather': [{'id': 802, 'main': 'Clouds', 'description': 'scattered clouds', 'icon': '03d'}], 'main': {'temp': 30.65, 'feels_like': 36.4, 'temp_min': 30.46, 'temp_max': 30.92, 'pressure': 1011, 'humidity': 69}, 'visibility': 10000, 'wind': {'speed': 5.14, 'deg': 280}, 'clouds': {'all': 40}, 'dt': 1664608248, 'id': 1670481, 'name': 'Pingtung City'}]}\n"
     ]
    }
   ],
   "source": [
    "import requests\n",
    "\n",
    "url = 'http://api.openweathermap.org/data/2.5/group?id=1668341,1668399,1670481&units=metric&appid=29c4f184354b9889e87f7b494ac86aed'\n",
    "\n",
    "response = requests.get(url)\n",
    "if response.status_code == 200:\n",
    "    print(\"下載成功\")\n",
    "\n",
    "allData = response.json()\n",
    "print(allData)"
   ]
  }
 ],
 "metadata": {
  "kernelspec": {
   "display_name": "Python 3.10.6 ('venv14')",
   "language": "python",
   "name": "python3"
  },
  "language_info": {
   "codemirror_mode": {
    "name": "ipython",
    "version": 3
   },
   "file_extension": ".py",
   "mimetype": "text/x-python",
   "name": "python",
   "nbconvert_exporter": "python",
   "pygments_lexer": "ipython3",
   "version": "3.10.6"
  },
  "orig_nbformat": 4,
  "vscode": {
   "interpreter": {
    "hash": "a58913c66b98dddfc964ba6f5302e4f760ac5e6f18107696cc385ae346a09ab8"
   }
  }
 },
 "nbformat": 4,
 "nbformat_minor": 2
}
