{
 "cells": [
  {
   "cell_type": "code",
   "execution_count": 1,
   "metadata": {},
   "outputs": [
    {
     "name": "stdout",
     "output_type": "stream",
     "text": [
      "下載成功\n",
      "{'cnt': 3, 'list': [{'coord': {'lon': 121.5319, 'lat': 25.0478}, 'sys': {'country': 'TW', 'timezone': 28800, 'sunrise': 1664574338, 'sunset': 1664617297}, 'weather': [{'id': 801, 'main': 'Clouds', 'description': 'few clouds', 'icon': '02d'}], 'main': {'temp': 32.56, 'feels_like': 34.18, 'temp_min': 30.03, 'temp_max': 33.93, 'pressure': 1013, 'humidity': 45}, 'visibility': 10000, 'wind': {'speed': 7.2, 'deg': 90}, 'clouds': {'all': 20}, 'dt': 1664608175, 'id': 1668341, 'name': 'Taipei'}, {'coord': {'lon': 120.6839, 'lat': 24.1469}, 'sys': {'country': 'TW', 'timezone': 28800, 'sunrise': 1664574529, 'sunset': 1664617513}, 'weather': [{'id': 802, 'main': 'Clouds', 'description': 'scattered clouds', 'icon': '03d'}], 'main': {'temp': 32.56, 'feels_like': 38.42, 'temp_min': 30.58, 'temp_max': 34.16, 'pressure': 998, 'humidity': 60}, 'visibility': 8000, 'wind': {'speed': 3.09, 'deg': 350}, 'clouds': {'all': 40}, 'dt': 1664608175, 'id': 1668399, 'name': 'Taichung'}, {'coord': {'lon': 120.4881, 'lat': 22.6714}, 'sys': {'country': 'TW', 'timezone': 28800, 'sunrise': 1664574556, 'sunset': 1664617580}, 'weather': [{'id': 802, 'main': 'Clouds', 'description': 'scattered clouds', 'icon': '03d'}], 'main': {'temp': 30.65, 'feels_like': 36.4, 'temp_min': 30.46, 'temp_max': 30.92, 'pressure': 1011, 'humidity': 69}, 'visibility': 10000, 'wind': {'speed': 5.14, 'deg': 280}, 'clouds': {'all': 40}, 'dt': 1664608248, 'id': 1670481, 'name': 'Pingtung City'}]}\n"
     ]
    }
   ],
   "source": [
    "import requests\n",
    "\n",
    "url = 'http://api.openweathermap.org/data/2.5/group?id=1668341,1668399,1670481&units=metric&appid=29c4f184354b9889e87f7b494ac86aed'\n",
    "\n",
    "response = requests.get(url)\n",
    "if response.status_code == 200:\n",
    "    print(\"下載成功\")\n",
    "\n",
    "allData = response.json()\n",
    "print(allData)"
   ]
  },
  {
   "cell_type": "code",
   "execution_count": 3,
   "metadata": {},
   "outputs": [
    {
     "name": "stdout",
     "output_type": "stream",
     "text": [
      "Taipei\n",
      "32.56\n",
      "===============\n",
      "Taichung\n",
      "32.56\n",
      "===============\n",
      "Pingtung City\n",
      "30.65\n",
      "===============\n"
     ]
    },
    {
     "data": {
      "text/plain": [
       "{'Taipei': 32.56, 'Taichung': 32.56, 'Pingtung City': 30.65}"
      ]
     },
     "execution_count": 3,
     "metadata": {},
     "output_type": "execute_result"
    }
   ],
   "source": [
    "cities_dic = {}\n",
    "for city in allData['list']:\n",
    "    print(city['name'])\n",
    "    print(city['main']['temp'])\n",
    "    print(\"===============\")\n",
    "    cities_dic[city['name']] =  city['main']['temp']\n",
    "\n",
    "cities_dic"
   ]
  },
  {
   "cell_type": "code",
   "execution_count": 5,
   "metadata": {},
   "outputs": [
    {
     "ename": "ValueError",
     "evalue": "Taipei is not a valid column name",
     "output_type": "error",
     "traceback": [
      "\u001b[0;31m---------------------------------------------------------------------------\u001b[0m",
      "\u001b[0;31mKeyError\u001b[0m                                  Traceback (most recent call last)",
      "File \u001b[0;32m~/Documents/virtualEnv/venv14/lib/python3.10/site-packages/openpyxl/utils/cell.py:121\u001b[0m, in \u001b[0;36mcolumn_index_from_string\u001b[0;34m(str_col)\u001b[0m\n\u001b[1;32m    120\u001b[0m \u001b[39mtry\u001b[39;00m:\n\u001b[0;32m--> 121\u001b[0m     \u001b[39mreturn\u001b[39;00m _COL_STRING_CACHE[str_col\u001b[39m.\u001b[39;49mupper()]\n\u001b[1;32m    122\u001b[0m \u001b[39mexcept\u001b[39;00m \u001b[39mKeyError\u001b[39;00m:\n",
      "\u001b[0;31mKeyError\u001b[0m: 'TAIPEI'",
      "\nDuring handling of the above exception, another exception occurred:\n",
      "\u001b[0;31mValueError\u001b[0m                                Traceback (most recent call last)",
      "Cell \u001b[0;32mIn [5], line 5\u001b[0m\n\u001b[1;32m      3\u001b[0m wb \u001b[38;5;241m=\u001b[39m Workbook()\n\u001b[1;32m      4\u001b[0m ws \u001b[38;5;241m=\u001b[39m wb\u001b[38;5;241m.\u001b[39mactive\n\u001b[0;32m----> 5\u001b[0m \u001b[43mws\u001b[49m\u001b[38;5;241;43m.\u001b[39;49m\u001b[43mappend\u001b[49m\u001b[43m(\u001b[49m\u001b[43mcities_dic\u001b[49m\u001b[43m)\u001b[49m\n\u001b[1;32m      6\u001b[0m wb\u001b[38;5;241m.\u001b[39msave(\u001b[38;5;124m\"\u001b[39m\u001b[38;5;124m目前天氣.xlsx\u001b[39m\u001b[38;5;124m\"\u001b[39m)\n",
      "File \u001b[0;32m~/Documents/virtualEnv/venv14/lib/python3.10/site-packages/openpyxl/worksheet/worksheet.py:671\u001b[0m, in \u001b[0;36mWorksheet.append\u001b[0;34m(self, iterable)\u001b[0m\n\u001b[1;32m    669\u001b[0m \u001b[39mfor\u001b[39;00m col_idx, content \u001b[39min\u001b[39;00m iterable\u001b[39m.\u001b[39mitems():\n\u001b[1;32m    670\u001b[0m     \u001b[39mif\u001b[39;00m \u001b[39misinstance\u001b[39m(col_idx, \u001b[39mstr\u001b[39m):\n\u001b[0;32m--> 671\u001b[0m         col_idx \u001b[39m=\u001b[39m column_index_from_string(col_idx)\n\u001b[1;32m    672\u001b[0m     cell \u001b[39m=\u001b[39m Cell(\u001b[39mself\u001b[39m, row\u001b[39m=\u001b[39mrow_idx, column\u001b[39m=\u001b[39mcol_idx, value\u001b[39m=\u001b[39mcontent)\n\u001b[1;32m    673\u001b[0m     \u001b[39mself\u001b[39m\u001b[39m.\u001b[39m_cells[(row_idx, col_idx)] \u001b[39m=\u001b[39m cell\n",
      "File \u001b[0;32m~/Documents/virtualEnv/venv14/lib/python3.10/site-packages/openpyxl/utils/cell.py:123\u001b[0m, in \u001b[0;36mcolumn_index_from_string\u001b[0;34m(str_col)\u001b[0m\n\u001b[1;32m    121\u001b[0m     \u001b[39mreturn\u001b[39;00m _COL_STRING_CACHE[str_col\u001b[39m.\u001b[39mupper()]\n\u001b[1;32m    122\u001b[0m \u001b[39mexcept\u001b[39;00m \u001b[39mKeyError\u001b[39;00m:\n\u001b[0;32m--> 123\u001b[0m     \u001b[39mraise\u001b[39;00m \u001b[39mValueError\u001b[39;00m(\u001b[39m\"\u001b[39m\u001b[39m{0}\u001b[39;00m\u001b[39m is not a valid column name\u001b[39m\u001b[39m\"\u001b[39m\u001b[39m.\u001b[39mformat(str_col))\n",
      "\u001b[0;31mValueError\u001b[0m: Taipei is not a valid column name"
     ]
    }
   ],
   "source": [
    "#儲存為excel\n",
    "from openpyxl import Workbook\n",
    "wb = Workbook()\n",
    "ws = wb.active\n",
    "ws.append(cities_dic)\n",
    "wb.save(\"目前天氣.xlsx\")"
   ]
  }
 ],
 "metadata": {
  "kernelspec": {
   "display_name": "Python 3.10.6 ('venv14')",
   "language": "python",
   "name": "python3"
  },
  "language_info": {
   "codemirror_mode": {
    "name": "ipython",
    "version": 3
   },
   "file_extension": ".py",
   "mimetype": "text/x-python",
   "name": "python",
   "nbconvert_exporter": "python",
   "pygments_lexer": "ipython3",
   "version": "3.10.6"
  },
  "orig_nbformat": 4,
  "vscode": {
   "interpreter": {
    "hash": "a58913c66b98dddfc964ba6f5302e4f760ac5e6f18107696cc385ae346a09ab8"
   }
  }
 },
 "nbformat": 4,
 "nbformat_minor": 2
}
