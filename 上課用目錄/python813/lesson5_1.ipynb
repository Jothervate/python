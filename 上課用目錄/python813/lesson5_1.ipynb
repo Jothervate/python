{
 "cells": [
  {
   "cell_type": "code",
   "execution_count": 1,
   "id": "e1059049",
   "metadata": {},
   "outputs": [
    {
     "name": "stdout",
     "output_type": "stream",
     "text": [
      "請輸入第1個數值2\n",
      "請輸入第2個數值4\n",
      "請輸入第3個數值6\n",
      "請輸入第4個數值8\n",
      "請輸入第5個數值1\n",
      "請輸入第6個數值3\n",
      "請輸入第7個數值5\n",
      "請輸入第8個數值7\n",
      "請輸入第9個數值9\n",
      "請輸入第10個數值-1\n",
      "所有輸入的正偶數的加總是:20\n"
     ]
    }
   ],
   "source": [
    "#break\n",
    "#continue\n",
    "#請設計一個程式，讓使用者輸入數值，只有加總正偶數值，不加總正奇數值，如果輸入負數，結束程式。\n",
    "\n",
    "sum = 0\n",
    "num = 0\n",
    "while True:\n",
    "    num += 1\n",
    "    value = int(input(f\"請輸入第{num}個數值\"))\n",
    "    if value < 0:\n",
    "        break\n",
    "    elif value % 2 == 1:\n",
    "        continue\n",
    "    else:\n",
    "        sum += value\n",
    "\n",
    "print(f\"所有輸入的正偶數的加總是:{sum}\")"
   ]
  },
  {
   "cell_type": "code",
   "execution_count": 15,
   "id": "24877b1a",
   "metadata": {},
   "outputs": [
    {
     "name": "stdout",
     "output_type": "stream",
     "text": [
      "5\n",
      "8\n",
      "989\n",
      "4.650416332753807\n"
     ]
    }
   ],
   "source": [
    "#亂數\n",
    "import random\n",
    "print(random.randrange(10))\n",
    "print(random.randint(5,8))\n",
    "print(random.getrandbits(10))\n",
    "print(random.uniform(1, 5.3))"
   ]
  },
  {
   "cell_type": "code",
   "execution_count": null,
   "id": "66d065fc",
   "metadata": {},
   "outputs": [],
   "source": []
  },
  {
   "cell_type": "code",
   "execution_count": null,
   "id": "ca465aef",
   "metadata": {},
   "outputs": [],
   "source": []
  }
 ],
 "metadata": {
  "kernelspec": {
   "display_name": "Python 3 (ipykernel)",
   "language": "python",
   "name": "python3"
  },
  "language_info": {
   "codemirror_mode": {
    "name": "ipython",
    "version": 3
   },
   "file_extension": ".py",
   "mimetype": "text/x-python",
   "name": "python",
   "nbconvert_exporter": "python",
   "pygments_lexer": "ipython3",
   "version": "3.10.6"
  }
 },
 "nbformat": 4,
 "nbformat_minor": 5
}
