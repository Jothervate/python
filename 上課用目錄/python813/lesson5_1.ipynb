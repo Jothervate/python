{
 "cells": [
  {
   "cell_type": "code",
   "execution_count": 1,
   "id": "d82be8da",
   "metadata": {},
   "outputs": [
    {
     "name": "stdout",
     "output_type": "stream",
     "text": [
      "請輸入第1個數值2\n",
      "請輸入第2個數值4\n",
      "請輸入第3個數值6\n",
      "請輸入第4個數值8\n",
      "請輸入第5個數值1\n",
      "請輸入第6個數值3\n",
      "請輸入第7個數值5\n",
      "請輸入第8個數值7\n",
      "請輸入第9個數值9\n",
      "請輸入第10個數值-1\n",
      "所有輸入的正偶數的加總是:20\n"
     ]
    }
   ],
   "source": [
    "#break\n",
    "#continue\n",
    "#請設計一個程式，讓使用者輸入數值，只有加總正偶數值，不加總正奇數值，如果輸入負數，結束程式。\n",
    "\n",
    "sum = 0\n",
    "num = 0\n",
    "while True:\n",
    "    num += 1\n",
    "    value = int(input(f\"請輸入第{num}個數值\"))\n",
    "    if value < 0:\n",
    "        break\n",
    "    elif value % 2 == 1:\n",
    "        continue\n",
    "    else:\n",
    "        sum += value\n",
    "\n",
    "print(f\"所有輸入的正偶數的加總是:{sum}\")"
   ]
  },
  {
   "cell_type": "code",
   "execution_count": 15,
   "id": "1a7aa8f2",
   "metadata": {},
   "outputs": [
    {
     "name": "stdout",
     "output_type": "stream",
     "text": [
      "5\n",
      "8\n",
      "989\n",
      "4.650416332753807\n"
     ]
    }
   ],
   "source": [
    "#亂數\n",
    "import random\n",
    "print(random.randrange(10))\n",
    "print(random.randint(5,8))\n",
    "print(random.getrandbits(10))\n",
    "print(random.uniform(1, 5.3))"
   ]
  },
  {
   "cell_type": "code",
   "execution_count": 24,
   "id": "96b738be",
   "metadata": {},
   "outputs": [
    {
     "name": "stdout",
     "output_type": "stream",
     "text": [
      "===========猜數字遊戲==============\n",
      "\n",
      "猜數字範圍1~100:50\n",
      "再大一點\n",
      "您已經猜了1次\n",
      "猜數字範圍51~100:75\n",
      "再小一點\n",
      "您已經猜了2次\n",
      "猜數字範圍51~74:63\n",
      "再小一點\n",
      "您已經猜了3次\n",
      "猜數字範圍51~62:55\n",
      "再小一點\n",
      "您已經猜了4次\n",
      "猜數字範圍51~54:52\n",
      "猜中了!答案是52\n",
      "總共猜了5次\n",
      "遊戲結束\n"
     ]
    }
   ],
   "source": [
    "import random\n",
    "min = 1\n",
    "max = 100\n",
    "target = random.randint(min,max)\n",
    "num = 0\n",
    "print(\"===========猜數字遊戲==============\\n\")\n",
    "\n",
    "while True:\n",
    "    answer = int(input(f\"猜數字範圍{min}~{max}:\"))\n",
    "    num += 1\n",
    "    if min <= answer <= max:\n",
    "        if target == answer:\n",
    "            print(f\"猜中了!答案是{target}\")\n",
    "            print(f\"總共猜了{num}次\")\n",
    "            break\n",
    "        elif answer > target:\n",
    "            print(\"再小一點\")\n",
    "            max = answer - 1\n",
    "        elif answer < target:\n",
    "            print(\"再大一點\")\n",
    "            min = answer + 1\n",
    "            \n",
    "    else:\n",
    "        print(\"超出範圍,請重新輸入\") \n",
    "    print(f\"您已經猜了{num}次\")\n",
    "        \n",
    "print(\"遊戲結束\")        \n"
   ]
  },
  {
   "cell_type": "code",
   "execution_count": null,
   "id": "eecbc277",
   "metadata": {},
   "outputs": [],
   "source": []
  },
  {
   "cell_type": "code",
   "execution_count": null,
   "id": "eab7b8fa",
   "metadata": {},
   "outputs": [],
   "source": []
  }
 ],
 "metadata": {
  "kernelspec": {
   "display_name": "Python 3 (ipykernel)",
   "language": "python",
   "name": "python3"
  },
  "language_info": {
   "codemirror_mode": {
    "name": "ipython",
    "version": 3
   },
   "file_extension": ".py",
   "mimetype": "text/x-python",
   "name": "python",
   "nbconvert_exporter": "python",
   "pygments_lexer": "ipython3",
   "version": "3.10.6"
  }
 },
 "nbformat": 4,
 "nbformat_minor": 5
}
