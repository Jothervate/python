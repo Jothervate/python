{
 "cells": [
  {
   "cell_type": "code",
   "execution_count": 1,
   "id": "6486f0d3",
   "metadata": {},
   "outputs": [
    {
     "data": {
      "text/plain": [
       "[76, 85, 92, 45, 71]"
      ]
     },
     "execution_count": 1,
     "metadata": {},
     "output_type": "execute_result"
    }
   ],
   "source": [
    "stu1 = [76, 85, 92, 45, 71]\n",
    "stu1"
   ]
  },
  {
   "cell_type": "code",
   "execution_count": 2,
   "id": "65b01162",
   "metadata": {},
   "outputs": [
    {
     "data": {
      "text/plain": [
       "[98, 90, 78, 59, 52]"
      ]
     },
     "execution_count": 2,
     "metadata": {},
     "output_type": "execute_result"
    }
   ],
   "source": [
    "import random\n",
    "stu1 = [random.randint(50,100), random.randint(50,100), random.randint(50,100), random.randint(50,100), random.randint(50,100)]\n",
    "stu1"
   ]
  },
  {
   "cell_type": "code",
   "execution_count": 4,
   "id": "221b9760",
   "metadata": {},
   "outputs": [
    {
     "data": {
      "text/plain": [
       "[98, 76, 53, 53, 83]"
      ]
     },
     "execution_count": 4,
     "metadata": {},
     "output_type": "execute_result"
    }
   ],
   "source": [
    "import random\n",
    "stu1 = list()\n",
    "for _ in range(5):\n",
    "    stu1.append(random.randint(50,100))\n",
    "stu1"
   ]
  },
  {
   "cell_type": "code",
   "execution_count": 6,
   "id": "abf2497e",
   "metadata": {},
   "outputs": [
    {
     "data": {
      "text/plain": [
       "[54, 67, 85, 59, 95]"
      ]
     },
     "execution_count": 6,
     "metadata": {},
     "output_type": "execute_result"
    }
   ],
   "source": [
    "import random\n",
    "stu1 = [random.randint(50,100) for _ in range(5)]\n",
    "stu1"
   ]
  },
  {
   "cell_type": "code",
   "execution_count": null,
   "id": "9d645760",
   "metadata": {},
   "outputs": [],
   "source": []
  }
 ],
 "metadata": {
  "kernelspec": {
   "display_name": "Python 3 (ipykernel)",
   "language": "python",
   "name": "python3"
  },
  "language_info": {
   "codemirror_mode": {
    "name": "ipython",
    "version": 3
   },
   "file_extension": ".py",
   "mimetype": "text/x-python",
   "name": "python",
   "nbconvert_exporter": "python",
   "pygments_lexer": "ipython3",
   "version": "3.10.6"
  }
 },
 "nbformat": 4,
 "nbformat_minor": 5
}
