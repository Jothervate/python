{
 "cells": [
  {
   "cell_type": "code",
   "execution_count": 1,
   "id": "135b8c7e",
   "metadata": {},
   "outputs": [
    {
     "data": {
      "text/plain": [
       "[76, 85, 92, 45, 71]"
      ]
     },
     "execution_count": 1,
     "metadata": {},
     "output_type": "execute_result"
    }
   ],
   "source": [
    "stu1 = [76, 85, 92, 45, 71]\n",
    "stu1"
   ]
  },
  {
   "cell_type": "code",
   "execution_count": 2,
   "id": "0a801fa1",
   "metadata": {},
   "outputs": [
    {
     "data": {
      "text/plain": [
       "[98, 90, 78, 59, 52]"
      ]
     },
     "execution_count": 2,
     "metadata": {},
     "output_type": "execute_result"
    }
   ],
   "source": [
    "import random\n",
    "stu1 = [random.randint(50,100), random.randint(50,100), random.randint(50,100), random.randint(50,100), random.randint(50,100)]\n",
    "stu1"
   ]
  },
  {
   "cell_type": "code",
   "execution_count": 4,
   "id": "6d6a54d2",
   "metadata": {},
   "outputs": [
    {
     "data": {
      "text/plain": [
       "[98, 76, 53, 53, 83]"
      ]
     },
     "execution_count": 4,
     "metadata": {},
     "output_type": "execute_result"
    }
   ],
   "source": [
    "import random\n",
    "stu1 = list()\n",
    "for _ in range(5):\n",
    "    stu1.append(random.randint(50,100))\n",
    "stu1"
   ]
  },
  {
   "cell_type": "code",
   "execution_count": 6,
   "id": "f212674d",
   "metadata": {},
   "outputs": [
    {
     "data": {
      "text/plain": [
       "[54, 67, 85, 59, 95]"
      ]
     },
     "execution_count": 6,
     "metadata": {},
     "output_type": "execute_result"
    }
   ],
   "source": [
    "import random\n",
    "stu1 = [random.randint(50,100) for _ in range(5)]\n",
    "stu1"
   ]
  },
  {
   "cell_type": "code",
   "execution_count": 8,
   "id": "754be7d5",
   "metadata": {},
   "outputs": [
    {
     "data": {
      "text/plain": [
       "[[69, 59, 100, 59, 73],\n",
       " [78, 60, 72, 53, 57],\n",
       " [93, 98, 70, 63, 60],\n",
       " [78, 71, 85, 87, 100],\n",
       " [50, 85, 87, 59, 72],\n",
       " [56, 86, 51, 72, 58],\n",
       " [97, 61, 57, 53, 54],\n",
       " [54, 52, 86, 93, 90],\n",
       " [69, 98, 57, 67, 100],\n",
       " [85, 89, 79, 72, 87],\n",
       " [63, 55, 69, 80, 86],\n",
       " [88, 67, 90, 82, 83],\n",
       " [84, 72, 95, 95, 79],\n",
       " [50, 94, 67, 66, 59],\n",
       " [92, 70, 50, 79, 86],\n",
       " [83, 74, 82, 79, 74],\n",
       " [97, 81, 90, 86, 85],\n",
       " [82, 82, 60, 94, 50],\n",
       " [72, 74, 56, 70, 70],\n",
       " [100, 80, 81, 93, 52],\n",
       " [97, 61, 99, 52, 87],\n",
       " [85, 60, 50, 85, 79],\n",
       " [93, 71, 71, 58, 94],\n",
       " [69, 55, 75, 64, 75],\n",
       " [56, 99, 62, 95, 69],\n",
       " [71, 100, 93, 74, 76],\n",
       " [73, 89, 61, 82, 57],\n",
       " [54, 78, 90, 81, 98],\n",
       " [68, 87, 63, 65, 85],\n",
       " [71, 67, 82, 77, 53],\n",
       " [90, 67, 64, 60, 71],\n",
       " [83, 83, 93, 100, 67],\n",
       " [67, 98, 87, 75, 91],\n",
       " [55, 67, 83, 90, 54],\n",
       " [65, 59, 93, 92, 69],\n",
       " [99, 89, 59, 93, 77],\n",
       " [75, 64, 71, 54, 65],\n",
       " [60, 99, 92, 73, 98],\n",
       " [74, 54, 61, 93, 98],\n",
       " [71, 97, 86, 61, 95],\n",
       " [86, 80, 74, 69, 89],\n",
       " [70, 85, 83, 73, 89],\n",
       " [80, 76, 84, 66, 72],\n",
       " [88, 92, 60, 87, 59],\n",
       " [91, 76, 50, 50, 96],\n",
       " [60, 93, 97, 62, 67],\n",
       " [50, 69, 77, 64, 57],\n",
       " [54, 80, 81, 69, 75],\n",
       " [54, 83, 83, 82, 87],\n",
       " [56, 62, 57, 60, 87]]"
      ]
     },
     "execution_count": 8,
     "metadata": {},
     "output_type": "execute_result"
    }
   ],
   "source": [
    "import random\n",
    "students = list()\n",
    "for _ in range(50):\n",
    "    students.append([random.randint(50,100) for _ in range(5)])\n",
    "students"
   ]
  },
  {
   "cell_type": "code",
   "execution_count": null,
   "id": "1db4eb5d",
   "metadata": {},
   "outputs": [],
   "source": []
  }
 ],
 "metadata": {
  "kernelspec": {
   "display_name": "Python 3 (ipykernel)",
   "language": "python",
   "name": "python3"
  },
  "language_info": {
   "codemirror_mode": {
    "name": "ipython",
    "version": 3
   },
   "file_extension": ".py",
   "mimetype": "text/x-python",
   "name": "python",
   "nbconvert_exporter": "python",
   "pygments_lexer": "ipython3",
   "version": "3.10.6"
  }
 },
 "nbformat": 4,
 "nbformat_minor": 5
}
