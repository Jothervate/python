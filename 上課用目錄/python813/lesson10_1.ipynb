{
 "cells": [
  {
   "cell_type": "code",
   "execution_count": null,
   "metadata": {},
   "outputs": [],
   "source": [
    "my_list = [10, 20, 30, 40]\n",
    "print(type(my_list))"
   ]
  },
  {
   "cell_type": "code",
   "execution_count": null,
   "metadata": {},
   "outputs": [],
   "source": [
    "import requests\n",
    "youbike_taipei = \"https://tcgbusfs.blob.core.windows.net/dotapp/youbike/v2/youbike_immediate.json\"\n",
    "response = requests.get(youbike_taipei)"
   ]
  },
  {
   "cell_type": "code",
   "execution_count": null,
   "metadata": {},
   "outputs": [],
   "source": [
    "print(type(response))"
   ]
  },
  {
   "cell_type": "code",
   "execution_count": null,
   "metadata": {},
   "outputs": [],
   "source": [
    "class Person():\n",
    "    def __init__(self,n,a):\n",
    "        self.name = n\n",
    "        self.age = a\n",
    "        print(\"初始化實體\")\n",
    "    \n",
    "    def description(self):\n",
    "        print(f\"我的名字叫{self.name}\")\n",
    "        print(f\"我的年紀:{self.age}\")"
   ]
  },
  {
   "cell_type": "code",
   "execution_count": null,
   "metadata": {},
   "outputs": [],
   "source": [
    "p1 = Person(\"Robert\",32)\n",
    "p1.description()\n",
    "print(\"==============\")\n",
    "p2 = Person(\"John\",25)\n",
    "p2.description()\n"
   ]
  },
  {
   "cell_type": "code",
   "execution_count": 40,
   "metadata": {},
   "outputs": [],
   "source": [
    "class Student(Person):\n",
    "    def __init__(self,name,age,chinese=60,english=60):\n",
    "        super().__init__(name,age)\n",
    "        self.chinese = chinese\n",
    "        self.english = english\n",
    "\n",
    "    def description(self):\n",
    "        super().description()\n",
    "        print(f\"chinese:{self.chinese}\")\n",
    "        print(f\"english:{self.english}\")\n",
    "        \n",
    "\n",
    "    @property\n",
    "    def sum(self):\n",
    "        return self.chinese + self.english "
   ]
  },
  {
   "cell_type": "code",
   "execution_count": 42,
   "metadata": {},
   "outputs": [
    {
     "name": "stdout",
     "output_type": "stream",
     "text": [
      "初始化實體\n",
      "<class '__main__.Student'>\n",
      "我的名字叫Tom\n",
      "我的年紀:20\n",
      "chinese:83\n",
      "english:92\n"
     ]
    },
    {
     "ename": "AttributeError",
     "evalue": "can't set attribute 'sum'",
     "output_type": "error",
     "traceback": [
      "\u001b[0;31m---------------------------------------------------------------------------\u001b[0m",
      "\u001b[0;31mAttributeError\u001b[0m                            Traceback (most recent call last)",
      "Cell \u001b[0;32mIn [42], line 4\u001b[0m\n\u001b[1;32m      2\u001b[0m \u001b[38;5;28mprint\u001b[39m(\u001b[38;5;28mtype\u001b[39m(stu1))\n\u001b[1;32m      3\u001b[0m stu1\u001b[38;5;241m.\u001b[39mdescription()\n\u001b[0;32m----> 4\u001b[0m \u001b[43mstu1\u001b[49m\u001b[38;5;241;43m.\u001b[39;49m\u001b[43msum\u001b[49m \u001b[38;5;241m=\u001b[39m \u001b[38;5;241m123\u001b[39m\n\u001b[1;32m      5\u001b[0m \u001b[38;5;28mprint\u001b[39m(\u001b[38;5;124mf\u001b[39m\u001b[38;5;124m\"\u001b[39m\u001b[38;5;124m總分為\u001b[39m\u001b[38;5;132;01m{\u001b[39;00mstu1\u001b[38;5;241m.\u001b[39msum\u001b[38;5;132;01m}\u001b[39;00m\u001b[38;5;124m\"\u001b[39m)\n\u001b[1;32m      8\u001b[0m stu2 \u001b[38;5;241m=\u001b[39m Student(\u001b[38;5;124m\"\u001b[39m\u001b[38;5;124mPeter\u001b[39m\u001b[38;5;124m\"\u001b[39m,\u001b[38;5;241m35\u001b[39m,english\u001b[38;5;241m=\u001b[39m\u001b[38;5;241m81\u001b[39m,chinese\u001b[38;5;241m=\u001b[39m\u001b[38;5;241m63\u001b[39m)\n",
      "\u001b[0;31mAttributeError\u001b[0m: can't set attribute 'sum'"
     ]
    }
   ],
   "source": [
    "stu1 = Student(\"Tom\",20,chinese=83,english=92)\n",
    "print(type(stu1))\n",
    "stu1.description()\n",
    "print(f\"總分為{stu1.sum}\")\n",
    "\n",
    "\n",
    "stu2 = Student(\"Peter\",35,english=81,chinese=63)\n",
    "print(type(stu2))\n",
    "stu2.description()\n",
    "print(f\"總分為{stu2.sum}\")\n",
    "\n"
   ]
  }
 ],
 "metadata": {
  "kernelspec": {
   "display_name": "Python 3.10.6 ('venv14')",
   "language": "python",
   "name": "python3"
  },
  "language_info": {
   "codemirror_mode": {
    "name": "ipython",
    "version": 3
   },
   "file_extension": ".py",
   "mimetype": "text/x-python",
   "name": "python",
   "nbconvert_exporter": "python",
   "pygments_lexer": "ipython3",
   "version": "3.10.6"
  },
  "orig_nbformat": 4,
  "vscode": {
   "interpreter": {
    "hash": "a58913c66b98dddfc964ba6f5302e4f760ac5e6f18107696cc385ae346a09ab8"
   }
  }
 },
 "nbformat": 4,
 "nbformat_minor": 2
}
