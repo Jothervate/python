{
 "cells": [
  {
   "cell_type": "code",
   "execution_count": null,
   "metadata": {},
   "outputs": [],
   "source": [
    "my_list = [10, 20, 30, 40]\n",
    "print(type(my_list))"
   ]
  },
  {
   "cell_type": "code",
   "execution_count": null,
   "metadata": {},
   "outputs": [],
   "source": [
    "import requests\n",
    "youbike_taipei = \"https://tcgbusfs.blob.core.windows.net/dotapp/youbike/v2/youbike_immediate.json\"\n",
    "response = requests.get(youbike_taipei)"
   ]
  },
  {
   "cell_type": "code",
   "execution_count": null,
   "metadata": {},
   "outputs": [],
   "source": [
    "print(type(response))"
   ]
  },
  {
   "cell_type": "code",
   "execution_count": null,
   "metadata": {},
   "outputs": [],
   "source": [
    "class Person():\n",
    "    def __init__(self,n,a):\n",
    "        self.name = n\n",
    "        self.age = a\n",
    "        print(\"初始化實體\")\n",
    "    \n",
    "    def description(self):\n",
    "        print(f\"我的名字叫{self.name}\")\n",
    "        print(f\"我的年紀:{self.age}\")"
   ]
  },
  {
   "cell_type": "code",
   "execution_count": null,
   "metadata": {},
   "outputs": [],
   "source": [
    "p1 = Person(\"Robert\",32)\n",
    "p1.description()\n",
    "print(\"==============\")\n",
    "p2 = Person(\"John\",25)\n",
    "p2.description()\n"
   ]
  },
  {
   "cell_type": "code",
   "execution_count": null,
   "metadata": {},
   "outputs": [],
   "source": [
    "class Student(Person):\n",
    "    def __init__(self,name,age,chinese=60,english=60):\n",
    "        super().__init__(name,age)\n",
    "        self.chinese = chinese\n",
    "        self.english = english\n",
    "\n",
    "    def description(self):\n",
    "        super().description()\n",
    "        print(f\"chinese:{self.chinese}\")\n",
    "        print(f\"english:{self.english}\")\n",
    "        \n",
    "\n",
    "    @property\n",
    "    def sum(self):\n",
    "        return self.chinese + self.english "
   ]
  },
  {
   "cell_type": "code",
   "execution_count": null,
   "metadata": {},
   "outputs": [],
   "source": [
    "stu1 = Student(\"Tom\",20,chinese=83,english=92)\n",
    "print(type(stu1))\n",
    "stu1.description()\n",
    "print(f\"總分為{stu1.sum}\")\n",
    "\n",
    "\n",
    "stu2 = Student(\"Peter\",35,english=81,chinese=63)\n",
    "print(type(stu2))\n",
    "stu2.description()\n",
    "print(f\"總分為{stu2.sum}\")\n",
    "\n"
   ]
  },
  {
   "cell_type": "code",
   "execution_count": 47,
   "metadata": {},
   "outputs": [],
   "source": [
    "class BMI(Person):\n",
    "    def __init__(self,name,age,height,weight):\n",
    "        super().__init__(name,age)\n",
    "        self.__height = height\n",
    "        self.__weight = weight"
   ]
  },
  {
   "cell_type": "code",
   "execution_count": 48,
   "metadata": {},
   "outputs": [
    {
     "name": "stdout",
     "output_type": "stream",
     "text": [
      "初始化實體\n",
      "<class '__main__.BMI'>\n"
     ]
    }
   ],
   "source": [
    "alice = BMI(\"Alice\",age=23,height=169,weight=50)\n",
    "print(type(alice))\n"
   ]
  }
 ],
 "metadata": {
  "kernelspec": {
   "display_name": "Python 3.10.6 ('venv14')",
   "language": "python",
   "name": "python3"
  },
  "language_info": {
   "codemirror_mode": {
    "name": "ipython",
    "version": 3
   },
   "file_extension": ".py",
   "mimetype": "text/x-python",
   "name": "python",
   "nbconvert_exporter": "python",
   "pygments_lexer": "ipython3",
   "version": "3.10.6"
  },
  "orig_nbformat": 4,
  "vscode": {
   "interpreter": {
    "hash": "a58913c66b98dddfc964ba6f5302e4f760ac5e6f18107696cc385ae346a09ab8"
   }
  }
 },
 "nbformat": 4,
 "nbformat_minor": 2
}
