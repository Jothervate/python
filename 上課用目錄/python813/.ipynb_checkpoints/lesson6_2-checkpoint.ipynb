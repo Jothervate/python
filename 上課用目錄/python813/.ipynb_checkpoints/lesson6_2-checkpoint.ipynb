{
 "cells": [
  {
   "cell_type": "code",
   "execution_count": 7,
   "id": "1836a9f6",
   "metadata": {},
   "outputs": [
    {
     "data": {
      "text/plain": [
       "'python與中文\\n1. 我們來試試看中文儲存能力。\\n2. 許這個字會有編碼衝突風險。\\n3. 犇這個字必須是utf8編碼才有。'"
      ]
     },
     "execution_count": 7,
     "metadata": {},
     "output_type": "execute_result"
    }
   ],
   "source": [
    "text = \"\"\"python與中文\n",
    "1. 我們來試試看中文儲存能力。\n",
    "2. 許這個字會有編碼衝突風險。\n",
    "3. 犇這個字必須是utf8編碼才有。\"\"\"\n",
    "text"
   ]
  },
  {
   "cell_type": "code",
   "execution_count": 8,
   "id": "29deb796",
   "metadata": {},
   "outputs": [],
   "source": [
    "file = open(\"data.txt\",mode=\"w\",encoding=\"utf-8\")\n",
    "print(text,file=file)\n",
    "file.close()"
   ]
  },
  {
   "cell_type": "code",
   "execution_count": 9,
   "id": "a7a1db4e",
   "metadata": {},
   "outputs": [
    {
     "data": {
      "text/plain": [
       "[['stu1', 71, 87, 91, 56, 73],\n",
       " ['stu2', 64, 100, 81, 88, 98],\n",
       " ['stu3', 81, 65, 58, 96, 84],\n",
       " ['stu4', 75, 53, 71, 50, 86],\n",
       " ['stu5', 91, 94, 51, 99, 81],\n",
       " ['stu6', 56, 82, 55, 94, 62],\n",
       " ['stu7', 64, 80, 74, 62, 83],\n",
       " ['stu8', 58, 61, 55, 94, 52],\n",
       " ['stu9', 58, 56, 54, 52, 91],\n",
       " ['stu10', 94, 64, 69, 85, 61],\n",
       " ['stu11', 55, 77, 66, 51, 95],\n",
       " ['stu12', 95, 83, 78, 76, 68],\n",
       " ['stu13', 98, 70, 78, 100, 81],\n",
       " ['stu14', 51, 91, 97, 82, 70],\n",
       " ['stu15', 91, 74, 67, 78, 55],\n",
       " ['stu16', 86, 76, 83, 52, 91],\n",
       " ['stu17', 81, 56, 87, 66, 78],\n",
       " ['stu18', 55, 84, 61, 76, 97],\n",
       " ['stu19', 54, 64, 98, 68, 57],\n",
       " ['stu20', 56, 85, 50, 92, 90],\n",
       " ['stu21', 70, 89, 70, 89, 62],\n",
       " ['stu22', 51, 79, 80, 84, 67],\n",
       " ['stu23', 86, 70, 60, 72, 79],\n",
       " ['stu24', 68, 76, 92, 53, 91],\n",
       " ['stu25', 66, 89, 70, 87, 96],\n",
       " ['stu26', 81, 56, 58, 90, 87],\n",
       " ['stu27', 61, 100, 93, 52, 61],\n",
       " ['stu28', 58, 85, 95, 75, 75],\n",
       " ['stu29', 97, 79, 59, 51, 73],\n",
       " ['stu30', 71, 61, 57, 92, 95],\n",
       " ['stu31', 84, 93, 73, 89, 78],\n",
       " ['stu32', 55, 74, 51, 90, 83],\n",
       " ['stu33', 87, 97, 89, 65, 51],\n",
       " ['stu34', 55, 60, 61, 50, 71],\n",
       " ['stu35', 79, 100, 56, 54, 53],\n",
       " ['stu36', 65, 62, 69, 96, 70],\n",
       " ['stu37', 52, 76, 79, 95, 81],\n",
       " ['stu38', 89, 57, 65, 93, 54],\n",
       " ['stu39', 80, 59, 81, 90, 92],\n",
       " ['stu40', 63, 89, 54, 63, 94],\n",
       " ['stu41', 68, 66, 51, 77, 75],\n",
       " ['stu42', 85, 94, 96, 55, 93],\n",
       " ['stu43', 79, 61, 83, 86, 54],\n",
       " ['stu44', 83, 81, 53, 64, 58],\n",
       " ['stu45', 57, 77, 83, 66, 61],\n",
       " ['stu46', 88, 55, 79, 53, 60],\n",
       " ['stu47', 91, 91, 98, 76, 67],\n",
       " ['stu48', 83, 94, 59, 55, 69],\n",
       " ['stu49', 97, 77, 87, 87, 52],\n",
       " ['stu50', 85, 58, 59, 52, 85]]"
      ]
     },
     "execution_count": 9,
     "metadata": {},
     "output_type": "execute_result"
    }
   ],
   "source": [
    "import random\n",
    "students = list()\n",
    "for i in range(50):\n",
    "    students.append([f\"stu{i+1}\"]+[random.randint(50,100) for _ in range(5)])\n",
    "students"
   ]
  },
  {
   "cell_type": "code",
   "execution_count": 12,
   "id": "0309ec44",
   "metadata": {},
   "outputs": [],
   "source": [
    "file = open(\"students.txt\",mode=\"w\",encoding=\"utf-8\")\n",
    "file.write(str(students))\n",
    "file.close()"
   ]
  },
  {
   "cell_type": "code",
   "execution_count": 13,
   "id": "f9a3c59a",
   "metadata": {},
   "outputs": [],
   "source": [
    "with open(\"students.txt\",mode=\"w\",encoding=\"utf-8\") as file:\n",
    "    file.write(str(students))"
   ]
  },
  {
   "cell_type": "code",
   "execution_count": 16,
   "id": "1d166654",
   "metadata": {},
   "outputs": [],
   "source": [
    "#建立CSV檔\n",
    "import csv\n",
    "with open(\"students.csv\",mode=\"w\",encoding=\"utf-8\",newline=\"\") as file:\n",
    "    csv_writer = csv.writer(file)\n",
    "    csv_writer.writerow([\"姓名\",\"國文\",\"英文\",\"數學\",\"歷史\",\"社會\"])\n",
    "    csv_writer.writerows(students)\n"
   ]
  },
  {
   "cell_type": "code",
   "execution_count": null,
   "id": "d5fd7023",
   "metadata": {},
   "outputs": [],
   "source": []
  }
 ],
 "metadata": {
  "kernelspec": {
   "display_name": "Python 3 (ipykernel)",
   "language": "python",
   "name": "python3"
  },
  "language_info": {
   "codemirror_mode": {
    "name": "ipython",
    "version": 3
   },
   "file_extension": ".py",
   "mimetype": "text/x-python",
   "name": "python",
   "nbconvert_exporter": "python",
   "pygments_lexer": "ipython3",
   "version": "3.10.6"
  }
 },
 "nbformat": 4,
 "nbformat_minor": 5
}
