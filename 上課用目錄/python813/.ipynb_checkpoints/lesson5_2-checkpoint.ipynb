{
 "cells": [
  {
   "cell_type": "code",
   "execution_count": 2,
   "id": "1e681b5a",
   "metadata": {},
   "outputs": [
    {
     "name": "stdout",
     "output_type": "stream",
     "text": [
      "67\n",
      "97\n",
      "82\n",
      "73\n",
      "59\n"
     ]
    }
   ],
   "source": [
    "#建立tuple\n",
    "(chinese,english,math,history,geography)= (67, 97, 82, 73, 59)\n",
    "print(chinese)\n",
    "print(english)\n",
    "print(math)\n",
    "print(history)\n",
    "print(geography)"
   ]
  },
  {
   "cell_type": "code",
   "execution_count": 3,
   "id": "9ea22fcf",
   "metadata": {},
   "outputs": [
    {
     "name": "stdout",
     "output_type": "stream",
     "text": [
      "67\n",
      "97\n",
      "82\n",
      "73\n",
      "59\n"
     ]
    }
   ],
   "source": [
    "#簡寫tuple\n",
    "chinese,english,math,history,geography = 67, 97, 82, 73, 59\n",
    "print(chinese)\n",
    "print(english)\n",
    "print(math)\n",
    "print(history)\n",
    "print(geography)"
   ]
  },
  {
   "cell_type": "code",
   "execution_count": 6,
   "id": "e3515a14",
   "metadata": {},
   "outputs": [
    {
     "name": "stdout",
     "output_type": "stream",
     "text": [
      "請輸入國文,英文,數學成績:78,96,65\n",
      "國文:78\n",
      "英文:96\n",
      "數學:65\n"
     ]
    }
   ],
   "source": [
    "chinese, english, math = eval(input(\"請輸入國文,英文,數學成績:\"))\n",
    "print(f\"國文:{chinese}\")\n",
    "print(f\"英文:{english}\")\n",
    "print(f\"數學:{math}\")"
   ]
  },
  {
   "cell_type": "code",
   "execution_count": 7,
   "id": "282121fb",
   "metadata": {},
   "outputs": [
    {
     "name": "stdout",
     "output_type": "stream",
     "text": [
      "[]\n",
      "[]\n"
     ]
    }
   ],
   "source": [
    "#建立list\n",
    "#空的list\n",
    "\n",
    "list1 = []\n",
    "list2 = list()\n",
    "print(list1)\n",
    "print(list2)"
   ]
  },
  {
   "cell_type": "code",
   "execution_count": 9,
   "id": "66d28825",
   "metadata": {},
   "outputs": [
    {
     "name": "stdout",
     "output_type": "stream",
     "text": [
      "[56, 78, 39]\n",
      "[56, 78, 39]\n"
     ]
    }
   ],
   "source": [
    "#有值的的list\n",
    "list3 = [56, 78, 39]\n",
    "list4 = list((56, 78, 39))\n",
    "print(list3)\n",
    "print(list4)"
   ]
  },
  {
   "cell_type": "code",
   "execution_count": 10,
   "id": "1a26a2d3",
   "metadata": {},
   "outputs": [
    {
     "name": "stdout",
     "output_type": "stream",
     "text": [
      "76\n",
      "92\n",
      "45\n",
      "96\n",
      "41\n"
     ]
    }
   ],
   "source": [
    "list5 = [76, 92, 45, 96, 41]\n",
    "print(list5[0])\n",
    "print(list5[1])\n",
    "print(list5[2])\n",
    "print(list5[3])\n",
    "print(list5[4])"
   ]
  },
  {
   "cell_type": "code",
   "execution_count": 11,
   "id": "79a47793",
   "metadata": {},
   "outputs": [
    {
     "name": "stdout",
     "output_type": "stream",
     "text": [
      "100\n"
     ]
    }
   ],
   "source": [
    "list6 = [76, 92, 45, 96, 41]\n",
    "list6[4] = 100\n",
    "print(list6[4])"
   ]
  },
  {
   "cell_type": "code",
   "execution_count": 12,
   "id": "5a5efd80",
   "metadata": {},
   "outputs": [
    {
     "name": "stdout",
     "output_type": "stream",
     "text": [
      "76\n",
      "92\n",
      "45\n",
      "96\n",
      "100\n"
     ]
    }
   ],
   "source": [
    "for i in list6:\n",
    "    print(i)"
   ]
  },
  {
   "cell_type": "code",
   "execution_count": null,
   "id": "d25846b0",
   "metadata": {},
   "outputs": [],
   "source": []
  }
 ],
 "metadata": {
  "kernelspec": {
   "display_name": "Python 3 (ipykernel)",
   "language": "python",
   "name": "python3"
  },
  "language_info": {
   "codemirror_mode": {
    "name": "ipython",
    "version": 3
   },
   "file_extension": ".py",
   "mimetype": "text/x-python",
   "name": "python",
   "nbconvert_exporter": "python",
   "pygments_lexer": "ipython3",
   "version": "3.10.6"
  }
 },
 "nbformat": 4,
 "nbformat_minor": 5
}
