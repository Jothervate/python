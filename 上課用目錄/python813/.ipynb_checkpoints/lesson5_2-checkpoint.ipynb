{
 "cells": [
  {
   "cell_type": "code",
   "execution_count": 2,
   "id": "38e9d485",
   "metadata": {},
   "outputs": [
    {
     "name": "stdout",
     "output_type": "stream",
     "text": [
      "67\n",
      "97\n",
      "82\n",
      "73\n",
      "59\n"
     ]
    }
   ],
   "source": [
    "#建立tuple\n",
    "(chinese,english,math,history,geography)= (67, 97, 82, 73, 59)\n",
    "print(chinese)\n",
    "print(english)\n",
    "print(math)\n",
    "print(history)\n",
    "print(geography)"
   ]
  },
  {
   "cell_type": "code",
   "execution_count": 3,
   "id": "6370c348",
   "metadata": {},
   "outputs": [
    {
     "name": "stdout",
     "output_type": "stream",
     "text": [
      "67\n",
      "97\n",
      "82\n",
      "73\n",
      "59\n"
     ]
    }
   ],
   "source": [
    "#簡寫tuple\n",
    "chinese,english,math,history,geography = 67, 97, 82, 73, 59\n",
    "print(chinese)\n",
    "print(english)\n",
    "print(math)\n",
    "print(history)\n",
    "print(geography)"
   ]
  },
  {
   "cell_type": "code",
   "execution_count": 6,
   "id": "d87f3d4d",
   "metadata": {},
   "outputs": [
    {
     "name": "stdout",
     "output_type": "stream",
     "text": [
      "請輸入國文,英文,數學成績:78,96,65\n",
      "國文:78\n",
      "英文:96\n",
      "數學:65\n"
     ]
    }
   ],
   "source": [
    "chinese, english, math = eval(input(\"請輸入國文,英文,數學成績:\"))\n",
    "print(f\"國文:{chinese}\")\n",
    "print(f\"英文:{english}\")\n",
    "print(f\"數學:{math}\")"
   ]
  },
  {
   "cell_type": "code",
   "execution_count": 7,
   "id": "1f014c9d",
   "metadata": {},
   "outputs": [
    {
     "name": "stdout",
     "output_type": "stream",
     "text": [
      "[]\n",
      "[]\n"
     ]
    }
   ],
   "source": [
    "#建立list\n",
    "#空的list\n",
    "\n",
    "list1 = []\n",
    "list2 = list()\n",
    "print(list1)\n",
    "print(list2)"
   ]
  },
  {
   "cell_type": "code",
   "execution_count": 9,
   "id": "1fffaef2",
   "metadata": {},
   "outputs": [
    {
     "name": "stdout",
     "output_type": "stream",
     "text": [
      "[56, 78, 39]\n",
      "[56, 78, 39]\n"
     ]
    }
   ],
   "source": [
    "#有值的的list\n",
    "list3 = [56, 78, 39]\n",
    "list4 = list((56, 78, 39))\n",
    "print(list3)\n",
    "print(list4)"
   ]
  },
  {
   "cell_type": "code",
   "execution_count": 10,
   "id": "2cf21088",
   "metadata": {},
   "outputs": [
    {
     "name": "stdout",
     "output_type": "stream",
     "text": [
      "76\n",
      "92\n",
      "45\n",
      "96\n",
      "41\n"
     ]
    }
   ],
   "source": [
    "list5 = [76, 92, 45, 96, 41]\n",
    "print(list5[0])\n",
    "print(list5[1])\n",
    "print(list5[2])\n",
    "print(list5[3])\n",
    "print(list5[4])"
   ]
  },
  {
   "cell_type": "code",
   "execution_count": 11,
   "id": "6c2fd403",
   "metadata": {},
   "outputs": [
    {
     "name": "stdout",
     "output_type": "stream",
     "text": [
      "100\n"
     ]
    }
   ],
   "source": [
    "list6 = [76, 92, 45, 96, 41]\n",
    "list6[4] = 100\n",
    "print(list6[4])"
   ]
  },
  {
   "cell_type": "code",
   "execution_count": 12,
   "id": "fa109d0c",
   "metadata": {},
   "outputs": [
    {
     "name": "stdout",
     "output_type": "stream",
     "text": [
      "76\n",
      "92\n",
      "45\n",
      "96\n",
      "100\n"
     ]
    }
   ],
   "source": [
    "for i in list6:\n",
    "    print(i)"
   ]
  },
  {
   "cell_type": "code",
   "execution_count": 13,
   "id": "d06d57b3",
   "metadata": {},
   "outputs": [
    {
     "data": {
      "text/plain": [
       "['H', 'e', 'l', 'l', 'o', 'W', 'o', 'r', 'l', 'd']"
      ]
     },
     "execution_count": 13,
     "metadata": {},
     "output_type": "execute_result"
    }
   ],
   "source": [
    "list7 = list(\"HelloWorld\")\n",
    "list7"
   ]
  },
  {
   "cell_type": "code",
   "execution_count": 15,
   "id": "d1b167e2",
   "metadata": {},
   "outputs": [
    {
     "data": {
      "text/plain": [
       "'W'"
      ]
     },
     "execution_count": 15,
     "metadata": {},
     "output_type": "execute_result"
    }
   ],
   "source": [
    "#[數字] 取出元素值\n",
    "list7[5]"
   ]
  },
  {
   "cell_type": "code",
   "execution_count": 16,
   "id": "7d717714",
   "metadata": {},
   "outputs": [
    {
     "data": {
      "text/plain": [
       "['H', 'e', 'l', 'l', 'o']"
      ]
     },
     "execution_count": 16,
     "metadata": {},
     "output_type": "execute_result"
    }
   ],
   "source": [
    "#[數字:數字] slice\n",
    "list7[0:5]"
   ]
  },
  {
   "cell_type": "code",
   "execution_count": 18,
   "id": "c2fce748",
   "metadata": {},
   "outputs": [
    {
     "data": {
      "text/plain": [
       "['W', 'o', 'r', 'l']"
      ]
     },
     "execution_count": 18,
     "metadata": {},
     "output_type": "execute_result"
    }
   ],
   "source": [
    "#不包含9\n",
    "list7[5:9]"
   ]
  },
  {
   "cell_type": "code",
   "execution_count": 19,
   "id": "4d5559e5",
   "metadata": {},
   "outputs": [
    {
     "data": {
      "text/plain": [
       "['W', 'o', 'r', 'l', 'd']"
      ]
     },
     "execution_count": 19,
     "metadata": {},
     "output_type": "execute_result"
    }
   ],
   "source": [
    "#到最後[5:]\n",
    "list7[5:]"
   ]
  },
  {
   "cell_type": "code",
   "execution_count": 20,
   "id": "69072af0",
   "metadata": {},
   "outputs": [
    {
     "data": {
      "text/plain": [
       "['W', 'o', 'r', 'l', 'd']"
      ]
     },
     "execution_count": 20,
     "metadata": {},
     "output_type": "execute_result"
    }
   ],
   "source": [
    "#後5個\n",
    "list7[-5:]"
   ]
  },
  {
   "cell_type": "code",
   "execution_count": 21,
   "id": "d989ead5",
   "metadata": {},
   "outputs": [
    {
     "data": {
      "text/plain": [
       "['H', 'e', 'l', 'l', 'o']"
      ]
     },
     "execution_count": 21,
     "metadata": {},
     "output_type": "execute_result"
    }
   ],
   "source": [
    "#前5個\n",
    "list7[:5]"
   ]
  },
  {
   "cell_type": "code",
   "execution_count": 22,
   "id": "bc6902f1",
   "metadata": {},
   "outputs": [
    {
     "data": {
      "text/plain": [
       "['l', 'o', 'W', 'o', 'r', 'l', 'd']"
      ]
     },
     "execution_count": 22,
     "metadata": {},
     "output_type": "execute_result"
    }
   ],
   "source": [
    "#後7個\n",
    "list7[-7:]"
   ]
  },
  {
   "cell_type": "code",
   "execution_count": 23,
   "id": "2f25b95a",
   "metadata": {},
   "outputs": [
    {
     "data": {
      "text/plain": [
       "['H', 'e', 'l', 'l', 'o', 'W', 'o']"
      ]
     },
     "execution_count": 23,
     "metadata": {},
     "output_type": "execute_result"
    }
   ],
   "source": [
    "#前7個\n",
    "list7[:7]"
   ]
  },
  {
   "cell_type": "code",
   "execution_count": null,
   "id": "130f62d8",
   "metadata": {},
   "outputs": [],
   "source": []
  }
 ],
 "metadata": {
  "kernelspec": {
   "display_name": "Python 3 (ipykernel)",
   "language": "python",
   "name": "python3"
  },
  "language_info": {
   "codemirror_mode": {
    "name": "ipython",
    "version": 3
   },
   "file_extension": ".py",
   "mimetype": "text/x-python",
   "name": "python",
   "nbconvert_exporter": "python",
   "pygments_lexer": "ipython3",
   "version": "3.10.6"
  }
 },
 "nbformat": 4,
 "nbformat_minor": 5
}
