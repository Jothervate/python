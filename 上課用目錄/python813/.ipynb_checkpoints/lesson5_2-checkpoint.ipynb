{
 "cells": [
  {
   "cell_type": "code",
   "execution_count": 2,
   "id": "594a2411",
   "metadata": {},
   "outputs": [
    {
     "name": "stdout",
     "output_type": "stream",
     "text": [
      "67\n",
      "97\n",
      "82\n",
      "73\n",
      "59\n"
     ]
    }
   ],
   "source": [
    "#建立tuple\n",
    "(chinese,english,math,history,geography)= (67, 97, 82, 73, 59)\n",
    "print(chinese)\n",
    "print(english)\n",
    "print(math)\n",
    "print(history)\n",
    "print(geography)"
   ]
  },
  {
   "cell_type": "code",
   "execution_count": 3,
   "id": "2a85e724",
   "metadata": {},
   "outputs": [
    {
     "name": "stdout",
     "output_type": "stream",
     "text": [
      "67\n",
      "97\n",
      "82\n",
      "73\n",
      "59\n"
     ]
    }
   ],
   "source": [
    "#簡寫tuple\n",
    "chinese,english,math,history,geography = 67, 97, 82, 73, 59\n",
    "print(chinese)\n",
    "print(english)\n",
    "print(math)\n",
    "print(history)\n",
    "print(geography)"
   ]
  },
  {
   "cell_type": "code",
   "execution_count": 6,
   "id": "438717ce",
   "metadata": {},
   "outputs": [
    {
     "name": "stdout",
     "output_type": "stream",
     "text": [
      "請輸入國文,英文,數學成績:78,96,65\n",
      "國文:78\n",
      "英文:96\n",
      "數學:65\n"
     ]
    }
   ],
   "source": [
    "chinese, english, math = eval(input(\"請輸入國文,英文,數學成績:\"))\n",
    "print(f\"國文:{chinese}\")\n",
    "print(f\"英文:{english}\")\n",
    "print(f\"數學:{math}\")"
   ]
  },
  {
   "cell_type": "code",
   "execution_count": null,
   "id": "70e2389d",
   "metadata": {},
   "outputs": [],
   "source": []
  }
 ],
 "metadata": {
  "kernelspec": {
   "display_name": "Python 3 (ipykernel)",
   "language": "python",
   "name": "python3"
  },
  "language_info": {
   "codemirror_mode": {
    "name": "ipython",
    "version": 3
   },
   "file_extension": ".py",
   "mimetype": "text/x-python",
   "name": "python",
   "nbconvert_exporter": "python",
   "pygments_lexer": "ipython3",
   "version": "3.10.6"
  }
 },
 "nbformat": 4,
 "nbformat_minor": 5
}
