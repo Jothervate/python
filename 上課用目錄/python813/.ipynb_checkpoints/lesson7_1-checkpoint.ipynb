{
 "cells": [
  {
   "cell_type": "code",
   "execution_count": 1,
   "id": "82fb36a6",
   "metadata": {},
   "outputs": [
    {
     "data": {
      "text/plain": [
       "{}"
      ]
     },
     "execution_count": 1,
     "metadata": {},
     "output_type": "execute_result"
    }
   ],
   "source": [
    "#Dictionary\n",
    "empty_dict = {}\n",
    "empty_dict"
   ]
  },
  {
   "cell_type": "code",
   "execution_count": 2,
   "id": "fc89b23c",
   "metadata": {},
   "outputs": [
    {
     "data": {
      "text/plain": [
       "{'tw': 'Taiwan', 'jp': 'Japan', 'hk': 'Hong Kong'}"
      ]
     },
     "execution_count": 2,
     "metadata": {},
     "output_type": "execute_result"
    }
   ],
   "source": [
    "codes = {\"tw\": \"Taiwan\",\n",
    "         \"jp\": \"Japan\",\n",
    "         \"hk\":\"Hong Kong\"}\n",
    "codes"
   ]
  },
  {
   "cell_type": "code",
   "execution_count": 5,
   "id": "41297ab5",
   "metadata": {},
   "outputs": [],
   "source": [
    "myTuple = codes[\"tw\"],codes[\"jp\"],codes[\"hk\"]"
   ]
  },
  {
   "cell_type": "code",
   "execution_count": 7,
   "id": "f716566d",
   "metadata": {},
   "outputs": [],
   "source": [
    "#tuple的拆解法\n",
    "country1, country2, country3 = myTuple"
   ]
  },
  {
   "cell_type": "code",
   "execution_count": 8,
   "id": "c9f589ff",
   "metadata": {},
   "outputs": [
    {
     "data": {
      "text/plain": [
       "'Taiwan'"
      ]
     },
     "execution_count": 8,
     "metadata": {},
     "output_type": "execute_result"
    }
   ],
   "source": [
    "country1"
   ]
  },
  {
   "cell_type": "code",
   "execution_count": 9,
   "id": "b676a95a",
   "metadata": {},
   "outputs": [
    {
     "data": {
      "text/plain": [
       "'Japan'"
      ]
     },
     "execution_count": 9,
     "metadata": {},
     "output_type": "execute_result"
    }
   ],
   "source": [
    "country2"
   ]
  },
  {
   "cell_type": "code",
   "execution_count": 10,
   "id": "ccf344bd",
   "metadata": {},
   "outputs": [
    {
     "data": {
      "text/plain": [
       "'Hong Kong'"
      ]
     },
     "execution_count": 10,
     "metadata": {},
     "output_type": "execute_result"
    }
   ],
   "source": [
    "country3"
   ]
  },
  {
   "cell_type": "code",
   "execution_count": 11,
   "id": "55551116",
   "metadata": {},
   "outputs": [
    {
     "name": "stdout",
     "output_type": "stream",
     "text": [
      "<class 'dict'>\n"
     ]
    }
   ],
   "source": [
    "print(type(codes))"
   ]
  },
  {
   "cell_type": "code",
   "execution_count": 15,
   "id": "d26e1a0b",
   "metadata": {},
   "outputs": [
    {
     "name": "stdout",
     "output_type": "stream",
     "text": [
      "tw\n",
      "jp\n",
      "hk\n"
     ]
    }
   ],
   "source": [
    "#取出所有的key\n",
    "for key in codes.keys():\n",
    "    print(key)"
   ]
  },
  {
   "cell_type": "code",
   "execution_count": 16,
   "id": "4edb7369",
   "metadata": {},
   "outputs": [
    {
     "name": "stdout",
     "output_type": "stream",
     "text": [
      "Taiwan\n",
      "Japan\n",
      "Hong Kong\n"
     ]
    }
   ],
   "source": [
    "#取出所有的value\n",
    "for value in codes.values():\n",
    "    print(value)"
   ]
  },
  {
   "cell_type": "code",
   "execution_count": 18,
   "id": "8421d124",
   "metadata": {},
   "outputs": [
    {
     "name": "stdout",
     "output_type": "stream",
     "text": [
      "tw\n",
      "Taiwan\n",
      "==========\n",
      "jp\n",
      "Japan\n",
      "==========\n",
      "hk\n",
      "Hong Kong\n",
      "==========\n"
     ]
    }
   ],
   "source": [
    "#取出所有的一組資料\n",
    "for key,value in codes.items():\n",
    "    print(key)\n",
    "    print(value)\n",
    "    print(\"==========\")\n"
   ]
  },
  {
   "cell_type": "code",
   "execution_count": null,
   "id": "87c43740",
   "metadata": {},
   "outputs": [],
   "source": []
  }
 ],
 "metadata": {
  "kernelspec": {
   "display_name": "Python 3 (ipykernel)",
   "language": "python",
   "name": "python3"
  },
  "language_info": {
   "codemirror_mode": {
    "name": "ipython",
    "version": 3
   },
   "file_extension": ".py",
   "mimetype": "text/x-python",
   "name": "python",
   "nbconvert_exporter": "python",
   "pygments_lexer": "ipython3",
   "version": "3.10.6"
  }
 },
 "nbformat": 4,
 "nbformat_minor": 5
}
