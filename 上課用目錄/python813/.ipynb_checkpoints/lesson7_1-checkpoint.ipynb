{
 "cells": [
  {
   "cell_type": "code",
   "execution_count": 1,
   "id": "0a42dfb3",
   "metadata": {},
   "outputs": [
    {
     "data": {
      "text/plain": [
       "{}"
      ]
     },
     "execution_count": 1,
     "metadata": {},
     "output_type": "execute_result"
    }
   ],
   "source": [
    "#Dictionary\n",
    "empty_dict = {}\n",
    "empty_dict"
   ]
  },
  {
   "cell_type": "code",
   "execution_count": 2,
   "id": "06953016",
   "metadata": {},
   "outputs": [
    {
     "data": {
      "text/plain": [
       "{'tw': 'Taiwan', 'jp': 'Japan', 'hk': 'Hong Kong'}"
      ]
     },
     "execution_count": 2,
     "metadata": {},
     "output_type": "execute_result"
    }
   ],
   "source": [
    "codes = {\"tw\": \"Taiwan\",\n",
    "         \"jp\": \"Japan\",\n",
    "         \"hk\":\"Hong Kong\"}\n",
    "codes"
   ]
  },
  {
   "cell_type": "code",
   "execution_count": 5,
   "id": "03ef16b1",
   "metadata": {},
   "outputs": [],
   "source": [
    "myTuple = codes[\"tw\"],codes[\"jp\"],codes[\"hk\"]"
   ]
  },
  {
   "cell_type": "code",
   "execution_count": 7,
   "id": "ad1cf3ea",
   "metadata": {},
   "outputs": [],
   "source": [
    "#tuple的拆解法\n",
    "country1, country2, country3 = myTuple"
   ]
  },
  {
   "cell_type": "code",
   "execution_count": 8,
   "id": "00f7a2a6",
   "metadata": {},
   "outputs": [
    {
     "data": {
      "text/plain": [
       "'Taiwan'"
      ]
     },
     "execution_count": 8,
     "metadata": {},
     "output_type": "execute_result"
    }
   ],
   "source": [
    "country1"
   ]
  },
  {
   "cell_type": "code",
   "execution_count": 9,
   "id": "8d6f1f40",
   "metadata": {},
   "outputs": [
    {
     "data": {
      "text/plain": [
       "'Japan'"
      ]
     },
     "execution_count": 9,
     "metadata": {},
     "output_type": "execute_result"
    }
   ],
   "source": [
    "country2"
   ]
  },
  {
   "cell_type": "code",
   "execution_count": 10,
   "id": "cf29f6e8",
   "metadata": {},
   "outputs": [
    {
     "data": {
      "text/plain": [
       "'Hong Kong'"
      ]
     },
     "execution_count": 10,
     "metadata": {},
     "output_type": "execute_result"
    }
   ],
   "source": [
    "country3"
   ]
  },
  {
   "cell_type": "code",
   "execution_count": null,
   "id": "aa6ce821",
   "metadata": {},
   "outputs": [],
   "source": []
  }
 ],
 "metadata": {
  "kernelspec": {
   "display_name": "Python 3 (ipykernel)",
   "language": "python",
   "name": "python3"
  },
  "language_info": {
   "codemirror_mode": {
    "name": "ipython",
    "version": 3
   },
   "file_extension": ".py",
   "mimetype": "text/x-python",
   "name": "python",
   "nbconvert_exporter": "python",
   "pygments_lexer": "ipython3",
   "version": "3.10.6"
  }
 },
 "nbformat": 4,
 "nbformat_minor": 5
}
