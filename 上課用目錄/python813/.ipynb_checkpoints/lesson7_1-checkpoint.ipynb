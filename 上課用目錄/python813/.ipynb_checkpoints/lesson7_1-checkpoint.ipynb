{
 "cells": [
  {
   "cell_type": "code",
   "execution_count": 1,
   "id": "c688932a",
   "metadata": {},
   "outputs": [
    {
     "data": {
      "text/plain": [
       "{}"
      ]
     },
     "execution_count": 1,
     "metadata": {},
     "output_type": "execute_result"
    }
   ],
   "source": [
    "#Dictionary\n",
    "empty_dict = {}\n",
    "empty_dict"
   ]
  },
  {
   "cell_type": "code",
   "execution_count": 2,
   "id": "9d7a8e2e",
   "metadata": {},
   "outputs": [
    {
     "data": {
      "text/plain": [
       "{'tw': 'Taiwan', 'jp': 'Japan', 'hk': 'Hong Kong'}"
      ]
     },
     "execution_count": 2,
     "metadata": {},
     "output_type": "execute_result"
    }
   ],
   "source": [
    "codes = {\"tw\": \"Taiwan\",\n",
    "         \"jp\": \"Japan\",\n",
    "         \"hk\":\"Hong Kong\"}\n",
    "codes"
   ]
  },
  {
   "cell_type": "code",
   "execution_count": 5,
   "id": "9737147b",
   "metadata": {},
   "outputs": [],
   "source": [
    "myTuple = codes[\"tw\"],codes[\"jp\"],codes[\"hk\"]"
   ]
  },
  {
   "cell_type": "code",
   "execution_count": 7,
   "id": "84680713",
   "metadata": {},
   "outputs": [],
   "source": [
    "#tuple的拆解法\n",
    "country1, country2, country3 = myTuple"
   ]
  },
  {
   "cell_type": "code",
   "execution_count": 8,
   "id": "f8c31ac2",
   "metadata": {},
   "outputs": [
    {
     "data": {
      "text/plain": [
       "'Taiwan'"
      ]
     },
     "execution_count": 8,
     "metadata": {},
     "output_type": "execute_result"
    }
   ],
   "source": [
    "country1"
   ]
  },
  {
   "cell_type": "code",
   "execution_count": 9,
   "id": "4a0b9e07",
   "metadata": {},
   "outputs": [
    {
     "data": {
      "text/plain": [
       "'Japan'"
      ]
     },
     "execution_count": 9,
     "metadata": {},
     "output_type": "execute_result"
    }
   ],
   "source": [
    "country2"
   ]
  },
  {
   "cell_type": "code",
   "execution_count": 10,
   "id": "8947b019",
   "metadata": {},
   "outputs": [
    {
     "data": {
      "text/plain": [
       "'Hong Kong'"
      ]
     },
     "execution_count": 10,
     "metadata": {},
     "output_type": "execute_result"
    }
   ],
   "source": [
    "country3"
   ]
  },
  {
   "cell_type": "code",
   "execution_count": 11,
   "id": "62eb6329",
   "metadata": {},
   "outputs": [
    {
     "name": "stdout",
     "output_type": "stream",
     "text": [
      "<class 'dict'>\n"
     ]
    }
   ],
   "source": [
    "print(type(codes))"
   ]
  },
  {
   "cell_type": "code",
   "execution_count": 15,
   "id": "a47b97b5",
   "metadata": {},
   "outputs": [
    {
     "name": "stdout",
     "output_type": "stream",
     "text": [
      "tw\n",
      "jp\n",
      "hk\n"
     ]
    }
   ],
   "source": [
    "#取出所有的key\n",
    "for key in codes.keys():\n",
    "    print(key)"
   ]
  },
  {
   "cell_type": "code",
   "execution_count": 16,
   "id": "ee4b5572",
   "metadata": {},
   "outputs": [
    {
     "name": "stdout",
     "output_type": "stream",
     "text": [
      "Taiwan\n",
      "Japan\n",
      "Hong Kong\n"
     ]
    }
   ],
   "source": [
    "#取出所有的value\n",
    "for value in codes.values():\n",
    "    print(value)"
   ]
  },
  {
   "cell_type": "code",
   "execution_count": 18,
   "id": "2863eed5",
   "metadata": {},
   "outputs": [
    {
     "name": "stdout",
     "output_type": "stream",
     "text": [
      "tw\n",
      "Taiwan\n",
      "==========\n",
      "jp\n",
      "Japan\n",
      "==========\n",
      "hk\n",
      "Hong Kong\n",
      "==========\n"
     ]
    }
   ],
   "source": [
    "#取出所有的一組資料\n",
    "for key,value in codes.items():\n",
    "    print(key)\n",
    "    print(value)\n",
    "    print(\"==========\")\n"
   ]
  },
  {
   "cell_type": "code",
   "execution_count": 19,
   "id": "4ccb9fda",
   "metadata": {},
   "outputs": [
    {
     "data": {
      "text/plain": [
       "{'tw': 'Taiwan', 'jp': 'Japan', 'hk': 'Hong Kong'}"
      ]
     },
     "execution_count": 19,
     "metadata": {},
     "output_type": "execute_result"
    }
   ],
   "source": [
    "codes"
   ]
  },
  {
   "cell_type": "code",
   "execution_count": 20,
   "id": "1440ba3d",
   "metadata": {},
   "outputs": [
    {
     "data": {
      "text/plain": [
       "{'tw': 'Taiwan', 'jp': 'Japan', 'hk': 'Hong Kong', 'fr': 'French'}"
      ]
     },
     "execution_count": 20,
     "metadata": {},
     "output_type": "execute_result"
    }
   ],
   "source": [
    "#新增\n",
    "codes[\"fr\"] = \"French\"\n",
    "codes"
   ]
  },
  {
   "cell_type": "code",
   "execution_count": 21,
   "id": "0238a400",
   "metadata": {},
   "outputs": [
    {
     "data": {
      "text/plain": [
       "{'tw': 'Taiwan number1', 'jp': 'Japan', 'hk': 'Hong Kong', 'fr': 'French'}"
      ]
     },
     "execution_count": 21,
     "metadata": {},
     "output_type": "execute_result"
    }
   ],
   "source": [
    "#修改\n",
    "codes[\"tw\"] = \"Taiwan number1\"\n",
    "codes"
   ]
  },
  {
   "cell_type": "code",
   "execution_count": 23,
   "id": "ad79b7c2",
   "metadata": {},
   "outputs": [
    {
     "data": {
      "text/plain": [
       "{'tw': 'Taiwan number1', 'jp': 'Japan', 'fr': 'French'}"
      ]
     },
     "execution_count": 23,
     "metadata": {},
     "output_type": "execute_result"
    }
   ],
   "source": [
    "#刪除\n",
    "del codes[\"hk\"]\n",
    "codes"
   ]
  },
  {
   "cell_type": "code",
   "execution_count": 24,
   "id": "38260a7a",
   "metadata": {},
   "outputs": [
    {
     "data": {
      "text/plain": [
       "{'3年5班': [['stu1', 76, 57, 92], ['stu2', 76, 57, 92]],\n",
       " '3年6班': [['stu1', 84, 67, 82], ['stu2', 85, 97, 52]]}"
      ]
     },
     "execution_count": 24,
     "metadata": {},
     "output_type": "execute_result"
    }
   ],
   "source": [
    "#複雜的表格資料\n",
    "#三維的資料\n",
    "三洋國小 = {\n",
    "    \"3年5班\":[[\"stu1\",76,57,92],[\"stu2\",76,57,92]],\n",
    "    \"3年6班\":[[\"stu1\",84,67,82],[\"stu2\",85,97,52]]\n",
    "}\n",
    "三洋國小"
   ]
  },
  {
   "cell_type": "code",
   "execution_count": 25,
   "id": "9f604d65",
   "metadata": {},
   "outputs": [
    {
     "data": {
      "text/plain": [
       "[['stu1', 76, 57, 92], ['stu2', 76, 57, 92]]"
      ]
     },
     "execution_count": 25,
     "metadata": {},
     "output_type": "execute_result"
    }
   ],
   "source": [
    "三洋國小['3年5班']"
   ]
  },
  {
   "cell_type": "code",
   "execution_count": null,
   "id": "d09b4faa",
   "metadata": {},
   "outputs": [],
   "source": []
  }
 ],
 "metadata": {
  "kernelspec": {
   "display_name": "Python 3 (ipykernel)",
   "language": "python",
   "name": "python3"
  },
  "language_info": {
   "codemirror_mode": {
    "name": "ipython",
    "version": 3
   },
   "file_extension": ".py",
   "mimetype": "text/x-python",
   "name": "python",
   "nbconvert_exporter": "python",
   "pygments_lexer": "ipython3",
   "version": "3.10.6"
  }
 },
 "nbformat": 4,
 "nbformat_minor": 5
}
