{
 "cells": [
  {
   "cell_type": "code",
   "execution_count": 1,
   "id": "4b2cd1ca",
   "metadata": {},
   "outputs": [
    {
     "data": {
      "text/plain": [
       "[76, 85, 92, 45, 71]"
      ]
     },
     "execution_count": 1,
     "metadata": {},
     "output_type": "execute_result"
    }
   ],
   "source": [
    "stu1 = [76, 85, 92, 45, 71]\n",
    "stu1"
   ]
  },
  {
   "cell_type": "code",
   "execution_count": 2,
   "id": "465b24b1",
   "metadata": {},
   "outputs": [
    {
     "data": {
      "text/plain": [
       "[98, 90, 78, 59, 52]"
      ]
     },
     "execution_count": 2,
     "metadata": {},
     "output_type": "execute_result"
    }
   ],
   "source": [
    "import random\n",
    "stu1 = [random.randint(50,100), random.randint(50,100), random.randint(50,100), random.randint(50,100), random.randint(50,100)]\n",
    "stu1"
   ]
  },
  {
   "cell_type": "code",
   "execution_count": 4,
   "id": "ade95768",
   "metadata": {},
   "outputs": [
    {
     "data": {
      "text/plain": [
       "[98, 76, 53, 53, 83]"
      ]
     },
     "execution_count": 4,
     "metadata": {},
     "output_type": "execute_result"
    }
   ],
   "source": [
    "import random\n",
    "stu1 = list()\n",
    "for _ in range(5):\n",
    "    stu1.append(random.randint(50,100))\n",
    "stu1"
   ]
  },
  {
   "cell_type": "code",
   "execution_count": 6,
   "id": "7c37bba0",
   "metadata": {},
   "outputs": [
    {
     "data": {
      "text/plain": [
       "[54, 67, 85, 59, 95]"
      ]
     },
     "execution_count": 6,
     "metadata": {},
     "output_type": "execute_result"
    }
   ],
   "source": [
    "import random\n",
    "stu1 = [random.randint(50,100) for _ in range(5)]\n",
    "stu1"
   ]
  },
  {
   "cell_type": "code",
   "execution_count": 11,
   "id": "c3c9dde1",
   "metadata": {},
   "outputs": [
    {
     "data": {
      "text/plain": [
       "[['stu1', 72, 64, 75, 56, 51],\n",
       " ['stu2', 86, 65, 86, 51, 98],\n",
       " ['stu3', 100, 84, 52, 83, 51],\n",
       " ['stu4', 82, 80, 89, 100, 89],\n",
       " ['stu5', 81, 54, 54, 51, 77],\n",
       " ['stu6', 69, 97, 77, 76, 57],\n",
       " ['stu7', 91, 80, 79, 84, 58],\n",
       " ['stu8', 60, 53, 87, 55, 81],\n",
       " ['stu9', 76, 58, 86, 76, 51],\n",
       " ['stu10', 56, 90, 72, 97, 95],\n",
       " ['stu11', 65, 98, 69, 65, 70],\n",
       " ['stu12', 82, 74, 60, 51, 66],\n",
       " ['stu13', 97, 61, 84, 100, 83],\n",
       " ['stu14', 86, 82, 95, 54, 63],\n",
       " ['stu15', 68, 82, 77, 88, 71],\n",
       " ['stu16', 99, 79, 78, 78, 68],\n",
       " ['stu17', 72, 67, 69, 70, 75],\n",
       " ['stu18', 92, 83, 82, 65, 88],\n",
       " ['stu19', 94, 51, 91, 98, 71],\n",
       " ['stu20', 77, 90, 97, 62, 50],\n",
       " ['stu21', 75, 99, 50, 90, 86],\n",
       " ['stu22', 55, 89, 58, 90, 52],\n",
       " ['stu23', 67, 57, 75, 82, 74],\n",
       " ['stu24', 51, 50, 55, 63, 60],\n",
       " ['stu25', 66, 84, 76, 98, 88],\n",
       " ['stu26', 83, 99, 63, 69, 89],\n",
       " ['stu27', 83, 63, 69, 92, 76],\n",
       " ['stu28', 92, 78, 61, 60, 77],\n",
       " ['stu29', 87, 68, 80, 57, 69],\n",
       " ['stu30', 87, 91, 100, 78, 100],\n",
       " ['stu31', 68, 78, 90, 94, 91],\n",
       " ['stu32', 57, 96, 84, 62, 92],\n",
       " ['stu33', 81, 85, 87, 83, 95],\n",
       " ['stu34', 97, 78, 67, 99, 79],\n",
       " ['stu35', 75, 85, 97, 86, 78],\n",
       " ['stu36', 91, 84, 71, 57, 68],\n",
       " ['stu37', 98, 53, 70, 78, 88],\n",
       " ['stu38', 79, 55, 82, 52, 51],\n",
       " ['stu39', 94, 68, 55, 80, 77],\n",
       " ['stu40', 88, 97, 75, 93, 82],\n",
       " ['stu41', 80, 64, 100, 78, 86],\n",
       " ['stu42', 94, 94, 84, 97, 86],\n",
       " ['stu43', 100, 92, 50, 71, 93],\n",
       " ['stu44', 82, 64, 63, 94, 66],\n",
       " ['stu45', 74, 53, 78, 82, 95],\n",
       " ['stu46', 77, 97, 57, 58, 91],\n",
       " ['stu47', 56, 52, 97, 66, 56],\n",
       " ['stu48', 61, 55, 82, 70, 72],\n",
       " ['stu49', 64, 96, 99, 62, 94],\n",
       " ['stu50', 89, 90, 81, 88, 88]]"
      ]
     },
     "execution_count": 11,
     "metadata": {},
     "output_type": "execute_result"
    }
   ],
   "source": [
    "import random\n",
    "students = list()\n",
    "for i in range(50):\n",
    "    students.append([f'stu{i+1}'] + [random.randint(50,100) for _ in range(5)])\n",
    "students"
   ]
  },
  {
   "cell_type": "code",
   "execution_count": 9,
   "id": "5728e618",
   "metadata": {},
   "outputs": [
    {
     "data": {
      "text/plain": [
       "['stu1', 78, 97, 65, 82, 90]"
      ]
     },
     "execution_count": 9,
     "metadata": {},
     "output_type": "execute_result"
    }
   ],
   "source": [
    "['stu1'] + [78, 97, 65, 82, 90]"
   ]
  },
  {
   "cell_type": "code",
   "execution_count": 12,
   "id": "c064206e",
   "metadata": {},
   "outputs": [
    {
     "data": {
      "text/plain": [
       "[['stu1', 93, 83, 80, 96, 64],\n",
       " ['stu2', 73, 63, 63, 87, 100],\n",
       " ['stu3', 100, 93, 88, 92, 71],\n",
       " ['stu4', 86, 54, 69, 85, 72],\n",
       " ['stu5', 91, 60, 63, 59, 89],\n",
       " ['stu6', 85, 87, 96, 56, 56],\n",
       " ['stu7', 53, 53, 78, 97, 76],\n",
       " ['stu8', 94, 97, 69, 63, 92],\n",
       " ['stu9', 54, 66, 93, 59, 98],\n",
       " ['stu10', 66, 94, 80, 65, 53],\n",
       " ['stu11', 96, 75, 92, 90, 84],\n",
       " ['stu12', 64, 96, 66, 95, 60],\n",
       " ['stu13', 69, 54, 83, 94, 61],\n",
       " ['stu14', 89, 94, 82, 74, 52],\n",
       " ['stu15', 91, 79, 87, 78, 72],\n",
       " ['stu16', 79, 68, 93, 55, 96],\n",
       " ['stu17', 73, 92, 89, 96, 73],\n",
       " ['stu18', 80, 61, 66, 99, 69],\n",
       " ['stu19', 95, 77, 88, 87, 69],\n",
       " ['stu20', 96, 80, 88, 67, 58],\n",
       " ['stu21', 90, 60, 91, 84, 99],\n",
       " ['stu22', 91, 53, 90, 96, 62],\n",
       " ['stu23', 84, 50, 93, 55, 88],\n",
       " ['stu24', 53, 80, 87, 75, 55],\n",
       " ['stu25', 90, 77, 52, 81, 57],\n",
       " ['stu26', 66, 57, 55, 98, 50],\n",
       " ['stu27', 84, 51, 65, 88, 62],\n",
       " ['stu28', 64, 98, 51, 75, 90],\n",
       " ['stu29', 70, 62, 97, 89, 81],\n",
       " ['stu30', 59, 85, 59, 100, 86],\n",
       " ['stu31', 75, 50, 81, 66, 59],\n",
       " ['stu32', 95, 74, 86, 75, 55],\n",
       " ['stu33', 96, 64, 93, 66, 75],\n",
       " ['stu34', 76, 90, 51, 86, 88],\n",
       " ['stu35', 67, 62, 51, 100, 58],\n",
       " ['stu36', 62, 59, 93, 69, 67],\n",
       " ['stu37', 81, 61, 94, 62, 64],\n",
       " ['stu38', 97, 53, 77, 68, 56],\n",
       " ['stu39', 87, 74, 83, 85, 50],\n",
       " ['stu40', 94, 67, 55, 53, 55],\n",
       " ['stu41', 64, 61, 67, 90, 91],\n",
       " ['stu42', 68, 73, 52, 96, 59],\n",
       " ['stu43', 59, 79, 98, 50, 82],\n",
       " ['stu44', 92, 77, 58, 59, 66],\n",
       " ['stu45', 83, 75, 71, 68, 58],\n",
       " ['stu46', 77, 85, 78, 59, 58],\n",
       " ['stu47', 70, 85, 53, 75, 55],\n",
       " ['stu48', 87, 67, 69, 53, 52],\n",
       " ['stu49', 76, 60, 91, 93, 93],\n",
       " ['stu50', 53, 81, 50, 62, 86]]"
      ]
     },
     "execution_count": 12,
     "metadata": {},
     "output_type": "execute_result"
    }
   ],
   "source": [
    "students = [[f'stu{i+1}'] + [random.randint(50,100) for _ in range(5)] for i in range(50)]\n",
    "students"
   ]
  },
  {
   "cell_type": "code",
   "execution_count": 15,
   "id": "64ba51fb",
   "metadata": {},
   "outputs": [
    {
     "name": "stdout",
     "output_type": "stream",
     "text": [
      "姓名\t國文\t英文\t數學\t地理\t社會\n",
      "stu1\t93\t83\t80\t96\t64\t\n",
      "stu2\t73\t63\t63\t87\t100\t\n",
      "stu3\t100\t93\t88\t92\t71\t\n",
      "stu4\t86\t54\t69\t85\t72\t\n",
      "stu5\t91\t60\t63\t59\t89\t\n",
      "stu6\t85\t87\t96\t56\t56\t\n",
      "stu7\t53\t53\t78\t97\t76\t\n",
      "stu8\t94\t97\t69\t63\t92\t\n",
      "stu9\t54\t66\t93\t59\t98\t\n",
      "stu10\t66\t94\t80\t65\t53\t\n",
      "stu11\t96\t75\t92\t90\t84\t\n",
      "stu12\t64\t96\t66\t95\t60\t\n",
      "stu13\t69\t54\t83\t94\t61\t\n",
      "stu14\t89\t94\t82\t74\t52\t\n",
      "stu15\t91\t79\t87\t78\t72\t\n",
      "stu16\t79\t68\t93\t55\t96\t\n",
      "stu17\t73\t92\t89\t96\t73\t\n",
      "stu18\t80\t61\t66\t99\t69\t\n",
      "stu19\t95\t77\t88\t87\t69\t\n",
      "stu20\t96\t80\t88\t67\t58\t\n",
      "stu21\t90\t60\t91\t84\t99\t\n",
      "stu22\t91\t53\t90\t96\t62\t\n",
      "stu23\t84\t50\t93\t55\t88\t\n",
      "stu24\t53\t80\t87\t75\t55\t\n",
      "stu25\t90\t77\t52\t81\t57\t\n",
      "stu26\t66\t57\t55\t98\t50\t\n",
      "stu27\t84\t51\t65\t88\t62\t\n",
      "stu28\t64\t98\t51\t75\t90\t\n",
      "stu29\t70\t62\t97\t89\t81\t\n",
      "stu30\t59\t85\t59\t100\t86\t\n",
      "stu31\t75\t50\t81\t66\t59\t\n",
      "stu32\t95\t74\t86\t75\t55\t\n",
      "stu33\t96\t64\t93\t66\t75\t\n",
      "stu34\t76\t90\t51\t86\t88\t\n",
      "stu35\t67\t62\t51\t100\t58\t\n",
      "stu36\t62\t59\t93\t69\t67\t\n",
      "stu37\t81\t61\t94\t62\t64\t\n",
      "stu38\t97\t53\t77\t68\t56\t\n",
      "stu39\t87\t74\t83\t85\t50\t\n",
      "stu40\t94\t67\t55\t53\t55\t\n",
      "stu41\t64\t61\t67\t90\t91\t\n",
      "stu42\t68\t73\t52\t96\t59\t\n",
      "stu43\t59\t79\t98\t50\t82\t\n",
      "stu44\t92\t77\t58\t59\t66\t\n",
      "stu45\t83\t75\t71\t68\t58\t\n",
      "stu46\t77\t85\t78\t59\t58\t\n",
      "stu47\t70\t85\t53\t75\t55\t\n",
      "stu48\t87\t67\t69\t53\t52\t\n",
      "stu49\t76\t60\t91\t93\t93\t\n",
      "stu50\t53\t81\t50\t62\t86\t\n"
     ]
    }
   ],
   "source": [
    "print(\"姓名\\t國文\\t英文\\t數學\\t地理\\t社會\")\n",
    "for student in students:\n",
    "    for item in student:\n",
    "        print(f\"{item}\",end=\"\\t\")\n",
    "    print()"
   ]
  },
  {
   "cell_type": "code",
   "execution_count": null,
   "id": "3cbde263",
   "metadata": {},
   "outputs": [],
   "source": []
  }
 ],
 "metadata": {
  "kernelspec": {
   "display_name": "Python 3 (ipykernel)",
   "language": "python",
   "name": "python3"
  },
  "language_info": {
   "codemirror_mode": {
    "name": "ipython",
    "version": 3
   },
   "file_extension": ".py",
   "mimetype": "text/x-python",
   "name": "python",
   "nbconvert_exporter": "python",
   "pygments_lexer": "ipython3",
   "version": "3.10.6"
  }
 },
 "nbformat": 4,
 "nbformat_minor": 5
}
