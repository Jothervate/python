{
 "cells": [
  {
   "cell_type": "code",
   "execution_count": 1,
   "id": "2d5a4a8f",
   "metadata": {},
   "outputs": [
    {
     "data": {
      "text/plain": [
       "[76, 85, 92, 45, 71]"
      ]
     },
     "execution_count": 1,
     "metadata": {},
     "output_type": "execute_result"
    }
   ],
   "source": [
    "stu1 = [76, 85, 92, 45, 71]\n",
    "stu1"
   ]
  },
  {
   "cell_type": "code",
   "execution_count": 2,
   "id": "68f5d15d",
   "metadata": {},
   "outputs": [
    {
     "data": {
      "text/plain": [
       "[98, 90, 78, 59, 52]"
      ]
     },
     "execution_count": 2,
     "metadata": {},
     "output_type": "execute_result"
    }
   ],
   "source": [
    "import random\n",
    "stu1 = [random.randint(50,100), random.randint(50,100), random.randint(50,100), random.randint(50,100), random.randint(50,100)]\n",
    "stu1"
   ]
  },
  {
   "cell_type": "code",
   "execution_count": 4,
   "id": "1f6f68be",
   "metadata": {},
   "outputs": [
    {
     "data": {
      "text/plain": [
       "[98, 76, 53, 53, 83]"
      ]
     },
     "execution_count": 4,
     "metadata": {},
     "output_type": "execute_result"
    }
   ],
   "source": [
    "import random\n",
    "stu1 = list()\n",
    "for _ in range(5):\n",
    "    stu1.append(random.randint(50,100))\n",
    "stu1"
   ]
  },
  {
   "cell_type": "code",
   "execution_count": 6,
   "id": "042534fa",
   "metadata": {},
   "outputs": [
    {
     "data": {
      "text/plain": [
       "[54, 67, 85, 59, 95]"
      ]
     },
     "execution_count": 6,
     "metadata": {},
     "output_type": "execute_result"
    }
   ],
   "source": [
    "import random\n",
    "stu1 = [random.randint(50,100) for _ in range(5)]\n",
    "stu1"
   ]
  },
  {
   "cell_type": "code",
   "execution_count": 11,
   "id": "bcc8ffb7",
   "metadata": {},
   "outputs": [
    {
     "data": {
      "text/plain": [
       "[['stu1', 72, 64, 75, 56, 51],\n",
       " ['stu2', 86, 65, 86, 51, 98],\n",
       " ['stu3', 100, 84, 52, 83, 51],\n",
       " ['stu4', 82, 80, 89, 100, 89],\n",
       " ['stu5', 81, 54, 54, 51, 77],\n",
       " ['stu6', 69, 97, 77, 76, 57],\n",
       " ['stu7', 91, 80, 79, 84, 58],\n",
       " ['stu8', 60, 53, 87, 55, 81],\n",
       " ['stu9', 76, 58, 86, 76, 51],\n",
       " ['stu10', 56, 90, 72, 97, 95],\n",
       " ['stu11', 65, 98, 69, 65, 70],\n",
       " ['stu12', 82, 74, 60, 51, 66],\n",
       " ['stu13', 97, 61, 84, 100, 83],\n",
       " ['stu14', 86, 82, 95, 54, 63],\n",
       " ['stu15', 68, 82, 77, 88, 71],\n",
       " ['stu16', 99, 79, 78, 78, 68],\n",
       " ['stu17', 72, 67, 69, 70, 75],\n",
       " ['stu18', 92, 83, 82, 65, 88],\n",
       " ['stu19', 94, 51, 91, 98, 71],\n",
       " ['stu20', 77, 90, 97, 62, 50],\n",
       " ['stu21', 75, 99, 50, 90, 86],\n",
       " ['stu22', 55, 89, 58, 90, 52],\n",
       " ['stu23', 67, 57, 75, 82, 74],\n",
       " ['stu24', 51, 50, 55, 63, 60],\n",
       " ['stu25', 66, 84, 76, 98, 88],\n",
       " ['stu26', 83, 99, 63, 69, 89],\n",
       " ['stu27', 83, 63, 69, 92, 76],\n",
       " ['stu28', 92, 78, 61, 60, 77],\n",
       " ['stu29', 87, 68, 80, 57, 69],\n",
       " ['stu30', 87, 91, 100, 78, 100],\n",
       " ['stu31', 68, 78, 90, 94, 91],\n",
       " ['stu32', 57, 96, 84, 62, 92],\n",
       " ['stu33', 81, 85, 87, 83, 95],\n",
       " ['stu34', 97, 78, 67, 99, 79],\n",
       " ['stu35', 75, 85, 97, 86, 78],\n",
       " ['stu36', 91, 84, 71, 57, 68],\n",
       " ['stu37', 98, 53, 70, 78, 88],\n",
       " ['stu38', 79, 55, 82, 52, 51],\n",
       " ['stu39', 94, 68, 55, 80, 77],\n",
       " ['stu40', 88, 97, 75, 93, 82],\n",
       " ['stu41', 80, 64, 100, 78, 86],\n",
       " ['stu42', 94, 94, 84, 97, 86],\n",
       " ['stu43', 100, 92, 50, 71, 93],\n",
       " ['stu44', 82, 64, 63, 94, 66],\n",
       " ['stu45', 74, 53, 78, 82, 95],\n",
       " ['stu46', 77, 97, 57, 58, 91],\n",
       " ['stu47', 56, 52, 97, 66, 56],\n",
       " ['stu48', 61, 55, 82, 70, 72],\n",
       " ['stu49', 64, 96, 99, 62, 94],\n",
       " ['stu50', 89, 90, 81, 88, 88]]"
      ]
     },
     "execution_count": 11,
     "metadata": {},
     "output_type": "execute_result"
    }
   ],
   "source": [
    "import random\n",
    "students = list()\n",
    "for i in range(50):\n",
    "    students.append([f'stu{i+1}'] + [random.randint(50,100) for _ in range(5)])\n",
    "students"
   ]
  },
  {
   "cell_type": "code",
   "execution_count": 9,
   "id": "db6cd0cd",
   "metadata": {},
   "outputs": [
    {
     "data": {
      "text/plain": [
       "['stu1', 78, 97, 65, 82, 90]"
      ]
     },
     "execution_count": 9,
     "metadata": {},
     "output_type": "execute_result"
    }
   ],
   "source": [
    "['stu1'] + [78, 97, 65, 82, 90]"
   ]
  },
  {
   "cell_type": "code",
   "execution_count": null,
   "id": "39fea44f",
   "metadata": {},
   "outputs": [],
   "source": []
  }
 ],
 "metadata": {
  "kernelspec": {
   "display_name": "Python 3 (ipykernel)",
   "language": "python",
   "name": "python3"
  },
  "language_info": {
   "codemirror_mode": {
    "name": "ipython",
    "version": 3
   },
   "file_extension": ".py",
   "mimetype": "text/x-python",
   "name": "python",
   "nbconvert_exporter": "python",
   "pygments_lexer": "ipython3",
   "version": "3.10.6"
  }
 },
 "nbformat": 4,
 "nbformat_minor": 5
}
