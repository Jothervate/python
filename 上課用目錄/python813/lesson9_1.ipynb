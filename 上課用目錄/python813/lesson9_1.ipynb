{
 "cells": [
  {
   "cell_type": "code",
   "execution_count": null,
   "metadata": {},
   "outputs": [],
   "source": [
    "my_list = [10, 20, 30, 40]\n",
    "print(type(my_list))\n",
    "\n",
    "my_dict = {\"tw\":\"Taiwan\", \"jp\":\"Japan\"}\n",
    "print(type(my_dict))\n",
    "\n",
    "my_set = set()\n",
    "print(my_set)\n",
    "print(type(my_set))"
   ]
  },
  {
   "cell_type": "code",
   "execution_count": 6,
   "metadata": {},
   "outputs": [
    {
     "data": {
      "text/plain": [
       "{2, 4, 6, 8, 10}"
      ]
     },
     "execution_count": 6,
     "metadata": {},
     "output_type": "execute_result"
    }
   ],
   "source": [
    "#做用符號建立set\n",
    "nums = {2, 4, 6, 8, 10, 2, 4, 6, 8, 10}\n",
    "len(nums)\n",
    "nums"
   ]
  },
  {
   "cell_type": "code",
   "execution_count": 10,
   "metadata": {},
   "outputs": [
    {
     "name": "stdout",
     "output_type": "stream",
     "text": [
      "<class 'str'>\n"
     ]
    },
    {
     "data": {
      "text/plain": [
       "['r', 'l', 't', 's', 'e']"
      ]
     },
     "execution_count": 10,
     "metadata": {},
     "output_type": "execute_result"
    }
   ],
   "source": [
    "#set()建立set\n",
    "words = \"lessters\"\n",
    "print(type(words))\n",
    "words_set = set(words)\n",
    "len(words_set)\n",
    "words_list = list(words_set)\n",
    "words_list"
   ]
  },
  {
   "cell_type": "code",
   "execution_count": 16,
   "metadata": {},
   "outputs": [
    {
     "data": {
      "text/plain": [
       "[30, 4, 13, 13, 36, 28, 48]"
      ]
     },
     "execution_count": 16,
     "metadata": {},
     "output_type": "execute_result"
    }
   ],
   "source": [
    "#大樂透電腦選號\n",
    "#亂數,random\n",
    "import random\n",
    "\n",
    "lotts = []\n",
    "for i in range(7):\n",
    "    lotts.append(random.randint(1, 49))\n",
    "\n",
    "lotts\n"
   ]
  },
  {
   "cell_type": "code",
   "execution_count": 29,
   "metadata": {},
   "outputs": [
    {
     "name": "stdout",
     "output_type": "stream",
     "text": [
      "大樂透電腦選號:\n",
      "38 40 42 43 13 48 特別號:30\n"
     ]
    }
   ],
   "source": [
    "#大樂透電腦選號\n",
    "#亂數,random\n",
    "import random\n",
    "\n",
    "lotts_set = set()\n",
    "while len(lotts_set) < 7:\n",
    "    lotts_set.add(random.randint(1, 49))\n",
    "\n",
    "lotts_list = list(lotts_set)\n",
    "#成為list就可以使用slice\n",
    "\n",
    "print(\"大樂透電腦選號:\")\n",
    "for i in lotts_list[:6]:\n",
    "    print(i,end=\" \")\n",
    "\n",
    "print(f\"特別號:{lotts_list[-1]}\")\n"
   ]
  },
  {
   "cell_type": "code",
   "execution_count": 30,
   "metadata": {},
   "outputs": [
    {
     "name": "stdout",
     "output_type": "stream",
     "text": [
      "大樂透電腦選號:\n",
      "8 46 14 15 18 22 特別號:28\n",
      "大樂透電腦選號:\n",
      "36 38 39 10 19 29 特別號:31\n",
      "大樂透電腦選號:\n",
      "36 39 9 10 43 24 特別號:31\n",
      "大樂透電腦選號:\n",
      "1 39 40 44 17 18 特別號:28\n",
      "大樂透電腦選號:\n",
      "32 8 46 16 49 17 特別號:23\n"
     ]
    }
   ],
   "source": [
    "import random\n",
    "\n",
    "for i in range(5):\n",
    "    lotts_set = set()\n",
    "    while len(lotts_set) < 7:\n",
    "        lotts_set.add(random.randint(1, 49))\n",
    "\n",
    "    lotts_list = list(lotts_set)\n",
    "    #成為list就可以使用slice\n",
    "\n",
    "    print(\"大樂透電腦選號:\")\n",
    "    for i in lotts_list[:6]:\n",
    "        print(i,end=\" \")\n",
    "\n",
    "    print(f\"特別號:{lotts_list[-1]}\")"
   ]
  },
  {
   "cell_type": "code",
   "execution_count": 33,
   "metadata": {},
   "outputs": [
    {
     "name": "stdout",
     "output_type": "stream",
     "text": [
      "Hello!\n"
     ]
    }
   ],
   "source": [
    "#自訂function,沒有參數,沒有傳出值\n",
    "def sayHello():\n",
    "    print(\"Hello!\")\n",
    "\n",
    "sayHello()"
   ]
  }
 ],
 "metadata": {
  "kernelspec": {
   "display_name": "Python 3.10.6 ('venv14')",
   "language": "python",
   "name": "python3"
  },
  "language_info": {
   "codemirror_mode": {
    "name": "ipython",
    "version": 3
   },
   "file_extension": ".py",
   "mimetype": "text/x-python",
   "name": "python",
   "nbconvert_exporter": "python",
   "pygments_lexer": "ipython3",
   "version": "3.10.6"
  },
  "orig_nbformat": 4,
  "vscode": {
   "interpreter": {
    "hash": "a58913c66b98dddfc964ba6f5302e4f760ac5e6f18107696cc385ae346a09ab8"
   }
  }
 },
 "nbformat": 4,
 "nbformat_minor": 2
}
