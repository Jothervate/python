{
 "cells": [
  {
   "cell_type": "code",
   "execution_count": null,
   "metadata": {},
   "outputs": [],
   "source": [
    "my_list = [10, 20, 30, 40]\n",
    "print(type(my_list))\n",
    "\n",
    "my_dict = {\"tw\":\"Taiwan\", \"jp\":\"Japan\"}\n",
    "print(type(my_dict))\n",
    "\n",
    "my_set = set()\n",
    "print(my_set)\n",
    "print(type(my_set))"
   ]
  },
  {
   "cell_type": "code",
   "execution_count": 6,
   "metadata": {},
   "outputs": [
    {
     "data": {
      "text/plain": [
       "{2, 4, 6, 8, 10}"
      ]
     },
     "execution_count": 6,
     "metadata": {},
     "output_type": "execute_result"
    }
   ],
   "source": [
    "#做用符號建立set\n",
    "nums = {2, 4, 6, 8, 10, 2, 4, 6, 8, 10}\n",
    "len(nums)\n",
    "nums"
   ]
  },
  {
   "cell_type": "code",
   "execution_count": 10,
   "metadata": {},
   "outputs": [
    {
     "name": "stdout",
     "output_type": "stream",
     "text": [
      "<class 'str'>\n"
     ]
    },
    {
     "data": {
      "text/plain": [
       "['r', 'l', 't', 's', 'e']"
      ]
     },
     "execution_count": 10,
     "metadata": {},
     "output_type": "execute_result"
    }
   ],
   "source": [
    "#set()建立set\n",
    "words = \"lessters\"\n",
    "print(type(words))\n",
    "words_set = set(words)\n",
    "len(words_set)\n",
    "words_list = list(words_set)\n",
    "words_list"
   ]
  },
  {
   "cell_type": "code",
   "execution_count": 16,
   "metadata": {},
   "outputs": [
    {
     "data": {
      "text/plain": [
       "[30, 4, 13, 13, 36, 28, 48]"
      ]
     },
     "execution_count": 16,
     "metadata": {},
     "output_type": "execute_result"
    }
   ],
   "source": [
    "#大樂透電腦選號\n",
    "#亂數,random\n",
    "import random\n",
    "\n",
    "lotts = []\n",
    "for i in range(7):\n",
    "    lotts.append(random.randint(1, 49))\n",
    "\n",
    "lotts\n"
   ]
  },
  {
   "cell_type": "code",
   "execution_count": 29,
   "metadata": {},
   "outputs": [
    {
     "name": "stdout",
     "output_type": "stream",
     "text": [
      "大樂透電腦選號:\n",
      "38 40 42 43 13 48 特別號:30\n"
     ]
    }
   ],
   "source": [
    "#大樂透電腦選號\n",
    "#亂數,random\n",
    "import random\n",
    "\n",
    "lotts_set = set()\n",
    "while len(lotts_set) < 7:\n",
    "    lotts_set.add(random.randint(1, 49))\n",
    "\n",
    "lotts_list = list(lotts_set)\n",
    "#成為list就可以使用slice\n",
    "\n",
    "print(\"大樂透電腦選號:\")\n",
    "for i in lotts_list[:6]:\n",
    "    print(i,end=\" \")\n",
    "\n",
    "print(f\"特別號:{lotts_list[-1]}\")\n"
   ]
  },
  {
   "cell_type": "code",
   "execution_count": 30,
   "metadata": {},
   "outputs": [
    {
     "name": "stdout",
     "output_type": "stream",
     "text": [
      "大樂透電腦選號:\n",
      "8 46 14 15 18 22 特別號:28\n",
      "大樂透電腦選號:\n",
      "36 38 39 10 19 29 特別號:31\n",
      "大樂透電腦選號:\n",
      "36 39 9 10 43 24 特別號:31\n",
      "大樂透電腦選號:\n",
      "1 39 40 44 17 18 特別號:28\n",
      "大樂透電腦選號:\n",
      "32 8 46 16 49 17 特別號:23\n"
     ]
    }
   ],
   "source": [
    "import random\n",
    "\n",
    "for i in range(5):\n",
    "    lotts_set = set()\n",
    "    while len(lotts_set) < 7:\n",
    "        lotts_set.add(random.randint(1, 49))\n",
    "\n",
    "    lotts_list = list(lotts_set)\n",
    "    #成為list就可以使用slice\n",
    "\n",
    "    print(\"大樂透電腦選號:\")\n",
    "    for i in lotts_list[:6]:\n",
    "        print(i,end=\" \")\n",
    "\n",
    "    print(f\"特別號:{lotts_list[-1]}\")"
   ]
  },
  {
   "cell_type": "code",
   "execution_count": 34,
   "metadata": {},
   "outputs": [
    {
     "name": "stdout",
     "output_type": "stream",
     "text": [
      "Hello!\n"
     ]
    }
   ],
   "source": [
    "#自訂function,沒有參數,沒有傳出值\n",
    "def sayHello():\n",
    "    print(\"Hello!\")\n",
    "    return None\n",
    "\n",
    "sayHello()"
   ]
  },
  {
   "cell_type": "code",
   "execution_count": 39,
   "metadata": {},
   "outputs": [],
   "source": [
    "#參數,類似暫時的變數\n",
    "def add(a,b):\n",
    "    return a + b\n",
    "\n",
    "def sub(a,b):\n",
    "    return a - b"
   ]
  },
  {
   "cell_type": "code",
   "execution_count": 40,
   "metadata": {},
   "outputs": [
    {
     "name": "stdout",
     "output_type": "stream",
     "text": [
      "12221\n",
      "2220\n"
     ]
    }
   ],
   "source": [
    "#引數,真正的值\n",
    "print(add(5678,6543))\n",
    "print(sub(8765,6545))\n"
   ]
  },
  {
   "cell_type": "code",
   "execution_count": 46,
   "metadata": {},
   "outputs": [],
   "source": [
    "#大樂透電腦選號\n",
    "#亂數,random\n",
    "import random\n",
    "\n",
    "def get_lotts(groups):\n",
    "    lotts_set = set()\n",
    "    while len(lotts_set) < 7:\n",
    "        lotts_set.add(random.randint(1, 49))\n",
    "\n",
    "    lotts_list = list(lotts_set)\n",
    "    #成為list就可以使用slice\n",
    "\n",
    "    print(f\"第{groups}組:\")\n",
    "    for i in lotts_list[:6]:\n",
    "        print(i,end=\" \")\n",
    "\n",
    "    print(f\"特別號:{lotts_list[-1]}\")"
   ]
  },
  {
   "cell_type": "code",
   "execution_count": 49,
   "metadata": {},
   "outputs": [
    {
     "name": "stdout",
     "output_type": "stream",
     "text": [
      "大樂透電腦選號\n",
      "第1組:\n",
      "1 3 10 11 17 21 特別號:27\n",
      "第2組:\n",
      "35 38 39 42 45 28 特別號:29\n",
      "第3組:\n",
      "6 8 11 43 47 16 特別號:24\n",
      "第4組:\n",
      "1 33 39 40 45 18 特別號:25\n",
      "第5組:\n",
      "14 15 16 47 18 28 特別號:29\n",
      "第6組:\n",
      "1 35 44 17 18 25 特別號:28\n",
      "第7組:\n",
      "32 2 37 38 6 15 特別號:23\n",
      "第8組:\n",
      "33 3 4 6 8 19 特別號:21\n",
      "第9組:\n",
      "37 10 43 17 18 24 特別號:27\n",
      "第10組:\n",
      "32 7 9 10 28 29 特別號:30\n"
     ]
    }
   ],
   "source": [
    "groups = int(input(\"請輸入大樂透需要的組數:\"))\n",
    "print(\"大樂透電腦選號\")\n",
    "for i in range(groups):\n",
    "    get_lotts(i+1)"
   ]
  }
 ],
 "metadata": {
  "kernelspec": {
   "display_name": "Python 3.10.6 ('venv14')",
   "language": "python",
   "name": "python3"
  },
  "language_info": {
   "codemirror_mode": {
    "name": "ipython",
    "version": 3
   },
   "file_extension": ".py",
   "mimetype": "text/x-python",
   "name": "python",
   "nbconvert_exporter": "python",
   "pygments_lexer": "ipython3",
   "version": "3.10.6"
  },
  "orig_nbformat": 4,
  "vscode": {
   "interpreter": {
    "hash": "a58913c66b98dddfc964ba6f5302e4f760ac5e6f18107696cc385ae346a09ab8"
   }
  }
 },
 "nbformat": 4,
 "nbformat_minor": 2
}
