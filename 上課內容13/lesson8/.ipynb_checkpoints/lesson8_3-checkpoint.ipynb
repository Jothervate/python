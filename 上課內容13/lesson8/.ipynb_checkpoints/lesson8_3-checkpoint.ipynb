{
 "cells": [
  {
   "cell_type": "code",
   "execution_count": 1,
   "id": "bda8fe82",
   "metadata": {},
   "outputs": [],
   "source": [
    "import requests\n",
    "csv_url = 'http://www.taisugar.com.tw/Upload/UserFiles/台糖休閒遊憩事業部各據點簡介.csv'\n",
    "response=requests.get(csv_url, stream=True)\n",
    "#type(response.raw)\n",
    "#response.raw.read(10)"
   ]
  },
  {
   "cell_type": "code",
   "execution_count": 2,
   "id": "f7c5d46f",
   "metadata": {},
   "outputs": [],
   "source": [
    "with open('station.csv','wb') as file:\n",
    "    for chunk in response.iter_content(chunk_size=128):\n",
    "        file.write(chunk)"
   ]
  },
  {
   "cell_type": "code",
   "execution_count": null,
   "id": "39a1e13e",
   "metadata": {},
   "outputs": [],
   "source": []
  }
 ],
 "metadata": {
  "kernelspec": {
   "display_name": "Python 3 (ipykernel)",
   "language": "python",
   "name": "python3"
  },
  "language_info": {
   "codemirror_mode": {
    "name": "ipython",
    "version": 3
   },
   "file_extension": ".py",
   "mimetype": "text/x-python",
   "name": "python",
   "nbconvert_exporter": "python",
   "pygments_lexer": "ipython3",
   "version": "3.8.7"
  }
 },
 "nbformat": 4,
 "nbformat_minor": 5
}
