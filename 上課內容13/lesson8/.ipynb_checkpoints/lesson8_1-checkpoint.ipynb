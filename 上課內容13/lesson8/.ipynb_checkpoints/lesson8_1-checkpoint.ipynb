{
 "cells": [
  {
   "cell_type": "code",
   "execution_count": 3,
   "id": "6349de73",
   "metadata": {},
   "outputs": [],
   "source": [
    "text = '''\n",
    "python與中文\n",
    "1. 我們來試試看中文儲存能力。\n",
    "2. 許這個字會有編碼衝突風險。\n",
    "3. 犇這個字必須是utf8編碼才有。\n",
    "'''\n",
    "\n",
    "print(text,file=open('data.txt',encoding='utf-8',mode='w'))"
   ]
  },
  {
   "cell_type": "code",
   "execution_count": 5,
   "id": "dbc0d2a2",
   "metadata": {},
   "outputs": [
    {
     "name": "stdout",
     "output_type": "stream",
     "text": [
      "65\n"
     ]
    }
   ],
   "source": [
    "#python file\n",
    "text = '''\n",
    "python與中文\n",
    "1. 我們來試試看中文儲存能力。\n",
    "2. 許這個字會有編碼衝突風險。\n",
    "3. 犇這個字必須是utf8編碼才有。\n",
    "'''\n",
    "file = open('sample.txt',encoding='utf-8',mode='w')\n",
    "print(file.write(text))\n",
    "file.close()"
   ]
  },
  {
   "cell_type": "code",
   "execution_count": 9,
   "id": "5b349b9a",
   "metadata": {},
   "outputs": [
    {
     "name": "stdout",
     "output_type": "stream",
     "text": [
      "1111\n"
     ]
    }
   ],
   "source": [
    "import random\n",
    "\n",
    "students = [[random.randint(50,100) for _ in range(5)] for _ in range(50)]\n",
    "students_str = str(students)\n",
    "file=open('students.txt','w',encoding='utf-8')\n",
    "print(file.write(students_str))\n",
    "file.close()"
   ]
  },
  {
   "cell_type": "code",
   "execution_count": 15,
   "id": "a8de3e79",
   "metadata": {},
   "outputs": [
    {
     "data": {
      "text/plain": [
       "[[100, 58, 84, 55, 72],\n",
       " [52, 72, 78, 87, 81],\n",
       " [85, 65, 61, 97, 77],\n",
       " [56, 63, 62, 70, 53],\n",
       " [71, 65, 89, 90, 97],\n",
       " [91, 78, 94, 74, 52],\n",
       " [94, 94, 75, 96, 90],\n",
       " [69, 70, 69, 71, 52],\n",
       " [98, 71, 53, 65, 75],\n",
       " [64, 75, 90, 79, 63],\n",
       " [57, 71, 85, 61, 64],\n",
       " [71, 75, 87, 86, 99],\n",
       " [51, 84, 53, 61, 96],\n",
       " [65, 54, 81, 73, 64],\n",
       " [65, 56, 72, 63, 87],\n",
       " [92, 73, 82, 78, 71],\n",
       " [66, 51, 92, 62, 90],\n",
       " [100, 72, 79, 95, 58],\n",
       " [54, 55, 69, 61, 60],\n",
       " [73, 85, 53, 55, 66],\n",
       " [58, 86, 67, 100, 83],\n",
       " [93, 69, 77, 92, 91],\n",
       " [96, 60, 100, 80, 77],\n",
       " [66, 67, 74, 69, 100],\n",
       " [70, 76, 50, 62, 60],\n",
       " [50, 85, 58, 99, 86],\n",
       " [56, 85, 73, 57, 91],\n",
       " [87, 86, 53, 83, 83],\n",
       " [62, 62, 65, 100, 100],\n",
       " [53, 63, 79, 77, 59],\n",
       " [68, 77, 75, 65, 85],\n",
       " [68, 84, 100, 83, 63],\n",
       " [50, 98, 62, 100, 98],\n",
       " [54, 88, 53, 74, 64],\n",
       " [60, 77, 90, 50, 66],\n",
       " [92, 85, 68, 71, 65],\n",
       " [84, 54, 62, 83, 94],\n",
       " [57, 76, 97, 61, 91],\n",
       " [96, 99, 72, 65, 87],\n",
       " [68, 86, 83, 73, 60],\n",
       " [95, 73, 57, 83, 61],\n",
       " [71, 88, 54, 97, 93],\n",
       " [74, 97, 90, 80, 58],\n",
       " [69, 92, 100, 67, 93],\n",
       " [64, 50, 82, 86, 80],\n",
       " [54, 94, 100, 90, 72],\n",
       " [64, 59, 66, 66, 66],\n",
       " [67, 53, 82, 84, 65],\n",
       " [71, 68, 79, 57, 60],\n",
       " [71, 94, 99, 68, 78]]"
      ]
     },
     "execution_count": 15,
     "metadata": {},
     "output_type": "execute_result"
    }
   ],
   "source": [
    "students"
   ]
  },
  {
   "cell_type": "code",
   "execution_count": 16,
   "id": "017128fa",
   "metadata": {},
   "outputs": [],
   "source": [
    "import csv\n",
    "file = open('students.csv','w',newline='',encoding='utf-8')\n",
    "writer = csv.writer(file)\n",
    "writer.writerow(['國文','英文','數學','自然','社會'])\n",
    "for student in students:\n",
    "    writer.writerow(student)\n",
    "file.close()"
   ]
  },
  {
   "cell_type": "code",
   "execution_count": null,
   "id": "2d381a41",
   "metadata": {},
   "outputs": [],
   "source": []
  }
 ],
 "metadata": {
  "kernelspec": {
   "display_name": "Python 3 (ipykernel)",
   "language": "python",
   "name": "python3"
  },
  "language_info": {
   "codemirror_mode": {
    "name": "ipython",
    "version": 3
   },
   "file_extension": ".py",
   "mimetype": "text/x-python",
   "name": "python",
   "nbconvert_exporter": "python",
   "pygments_lexer": "ipython3",
   "version": "3.8.7"
  }
 },
 "nbformat": 4,
 "nbformat_minor": 5
}
