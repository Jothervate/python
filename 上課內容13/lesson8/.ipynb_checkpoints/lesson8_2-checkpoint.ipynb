{
 "cells": [
  {
   "cell_type": "code",
   "execution_count": 3,
   "id": "ec542b18",
   "metadata": {},
   "outputs": [
    {
     "name": "stdout",
     "output_type": "stream",
     "text": [
      "['國文', '英文', '數學', '自然', '社會']\n",
      "['76', '87', '94', '75', '61']\n",
      "['54', '68', '86', '62', '60']\n",
      "['94', '95', '88', '78', '70']\n",
      "['64', '74', '95', '53', '85']\n",
      "['65', '73', '84', '76', '86']\n",
      "['63', '75', '99', '72', '60']\n",
      "['79', '84', '64', '55', '87']\n",
      "['80', '66', '69', '80', '61']\n",
      "['98', '90', '99', '96', '56']\n",
      "['99', '100', '100', '74', '63']\n",
      "['76', '84', '68', '59', '53']\n",
      "['52', '68', '82', '83', '72']\n",
      "['52', '69', '99', '55', '57']\n",
      "['74', '93', '66', '100', '92']\n",
      "['75', '66', '97', '91', '56']\n",
      "['84', '84', '86', '87', '82']\n",
      "['70', '55', '73', '57', '68']\n",
      "['69', '50', '92', '77', '73']\n",
      "['96', '83', '66', '69', '94']\n",
      "['52', '82', '72', '72', '97']\n",
      "['57', '94', '99', '75', '70']\n",
      "['61', '72', '85', '73', '91']\n",
      "['89', '82', '79', '89', '71']\n",
      "['84', '72', '77', '63', '81']\n",
      "['89', '63', '87', '58', '98']\n",
      "['52', '80', '53', '62', '52']\n",
      "['63', '67', '86', '70', '90']\n",
      "['100', '62', '78', '62', '100']\n",
      "['60', '79', '86', '71', '59']\n",
      "['74', '73', '67', '64', '90']\n",
      "['100', '80', '83', '95', '77']\n",
      "['57', '63', '54', '67', '94']\n",
      "['67', '98', '70', '58', '69']\n",
      "['54', '91', '77', '72', '59']\n",
      "['70', '63', '63', '94', '81']\n",
      "['85', '92', '60', '82', '50']\n",
      "['94', '51', '75', '72', '85']\n",
      "['96', '87', '56', '68', '64']\n",
      "['60', '100', '51', '94', '80']\n",
      "['97', '70', '87', '69', '52']\n",
      "['92', '78', '87', '90', '67']\n",
      "['76', '50', '91', '67', '86']\n",
      "['80', '91', '65', '60', '89']\n",
      "['79', '67', '51', '97', '79']\n",
      "['57', '54', '59', '94', '60']\n",
      "['50', '69', '53', '66', '84']\n",
      "['77', '59', '84', '73', '57']\n",
      "['95', '75', '73', '64', '74']\n",
      "['100', '53', '56', '70', '94']\n",
      "['100', '88', '81', '91', '78']\n"
     ]
    }
   ],
   "source": [
    "#讀取csvfile\n",
    "import csv\n",
    "file = open('students.csv','r',encoding='utf-8')\n",
    "reader=csv.reader(file)\n",
    "readerlist = list(reader)\n",
    "for item in readerlist:\n",
    "    print(item)"
   ]
  },
  {
   "cell_type": "code",
   "execution_count": 7,
   "id": "e18129f2",
   "metadata": {},
   "outputs": [
    {
     "name": "stdout",
     "output_type": "stream",
     "text": [
      "{\"python\": \"good\", \"gjun\": 100, \"python-class\": true, \"ICQ\": null}\n",
      "json檔案存檔完成\n"
     ]
    }
   ],
   "source": [
    "import json\n",
    "#把python的資料結構轉為python字串\n",
    "pyDic = {'python': 'good', 'gjun': 100, 'python-class':True,'ICQ': None}\n",
    "json_str = json.dumps(pyDic)\n",
    "type(json_str)\n",
    "print(json_str)\n",
    "\n",
    "#把json字串存檔\n",
    "file = open('gjun.json','w')\n",
    "file.write(json_str)\n",
    "file.close()\n",
    "print(\"json檔案存檔完成\")"
   ]
  },
  {
   "cell_type": "code",
   "execution_count": 11,
   "id": "0c04af41",
   "metadata": {},
   "outputs": [
    {
     "data": {
      "text/plain": [
       "{'python': 'good', 'gjun': 100, 'python-class': True, 'ICQ': None}"
      ]
     },
     "execution_count": 11,
     "metadata": {},
     "output_type": "execute_result"
    }
   ],
   "source": [
    "#讀取json檔\n",
    "import json\n",
    "with open('gjun.json','r') as file:\n",
    "    students = json.load(file)\n",
    "students"
   ]
  },
  {
   "cell_type": "code",
   "execution_count": null,
   "id": "0db681f7",
   "metadata": {},
   "outputs": [],
   "source": []
  }
 ],
 "metadata": {
  "kernelspec": {
   "display_name": "Python 3 (ipykernel)",
   "language": "python",
   "name": "python3"
  },
  "language_info": {
   "codemirror_mode": {
    "name": "ipython",
    "version": 3
   },
   "file_extension": ".py",
   "mimetype": "text/x-python",
   "name": "python",
   "nbconvert_exporter": "python",
   "pygments_lexer": "ipython3",
   "version": "3.8.7"
  }
 },
 "nbformat": 4,
 "nbformat_minor": 5
}
