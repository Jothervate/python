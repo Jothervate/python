{
 "cells": [
  {
   "cell_type": "code",
   "execution_count": 2,
   "id": "ebb430e4",
   "metadata": {},
   "outputs": [
    {
     "data": {
      "text/plain": [
       "True"
      ]
     },
     "execution_count": 2,
     "metadata": {},
     "output_type": "execute_result"
    }
   ],
   "source": [
    "list1 = [10, 9, 8 ,7]\n",
    "8 in list1"
   ]
  },
  {
   "cell_type": "code",
   "execution_count": 3,
   "id": "81579122",
   "metadata": {},
   "outputs": [
    {
     "data": {
      "text/plain": [
       "True"
      ]
     },
     "execution_count": 3,
     "metadata": {},
     "output_type": "execute_result"
    }
   ],
   "source": [
    "dict1 = {'a':100, 'b':200, 'c':300}\n",
    "'a' in dict1"
   ]
  },
  {
   "cell_type": "code",
   "execution_count": 5,
   "id": "45449df8",
   "metadata": {},
   "outputs": [
    {
     "data": {
      "text/plain": [
       "False"
      ]
     },
     "execution_count": 5,
     "metadata": {},
     "output_type": "execute_result"
    }
   ],
   "source": [
    "del dict1['a']\n",
    "'a' in dict1"
   ]
  },
  {
   "cell_type": "code",
   "execution_count": 6,
   "id": "6a1358a4",
   "metadata": {},
   "outputs": [
    {
     "data": {
      "text/plain": [
       "dict_items([('綠燈', '走'), ('黃燈', '走快些'), ('紅燈', '停等')])"
      ]
     },
     "execution_count": 6,
     "metadata": {},
     "output_type": "execute_result"
    }
   ],
   "source": [
    "signals = {'綠燈': '走', '黃燈': '走快些', '紅燈': '停等'}\n",
    "signals.items()"
   ]
  },
  {
   "cell_type": "code",
   "execution_count": 7,
   "id": "b238bdf2",
   "metadata": {},
   "outputs": [
    {
     "data": {
      "text/plain": [
       "dict_keys(['綠燈', '黃燈', '紅燈'])"
      ]
     },
     "execution_count": 7,
     "metadata": {},
     "output_type": "execute_result"
    }
   ],
   "source": [
    "signals.keys()"
   ]
  },
  {
   "cell_type": "code",
   "execution_count": 8,
   "id": "32d684ff",
   "metadata": {},
   "outputs": [
    {
     "data": {
      "text/plain": [
       "dict_values(['走', '走快些', '停等'])"
      ]
     },
     "execution_count": 8,
     "metadata": {},
     "output_type": "execute_result"
    }
   ],
   "source": [
    "signals.values()"
   ]
  },
  {
   "cell_type": "code",
   "execution_count": 10,
   "id": "45b73262",
   "metadata": {},
   "outputs": [
    {
     "name": "stdout",
     "output_type": "stream",
     "text": [
      "顏色:綠燈,行為:走\n",
      "顏色:黃燈,行為:走快些\n",
      "顏色:紅燈,行為:停等\n"
     ]
    }
   ],
   "source": [
    "for color,action in signals.items():\n",
    "    print(f'顏色:{color},行為:{action}')"
   ]
  },
  {
   "cell_type": "code",
   "execution_count": 11,
   "id": "b5df6970",
   "metadata": {},
   "outputs": [
    {
     "data": {
      "text/plain": [
       "set()"
      ]
     },
     "execution_count": 11,
     "metadata": {},
     "output_type": "execute_result"
    }
   ],
   "source": [
    "#set\n",
    "empty_set = set()\n",
    "empty_set"
   ]
  },
  {
   "cell_type": "code",
   "execution_count": 12,
   "id": "b1bad2b4",
   "metadata": {},
   "outputs": [
    {
     "data": {
      "text/plain": [
       "{0, 2, 4, 6, 8}"
      ]
     },
     "execution_count": 12,
     "metadata": {},
     "output_type": "execute_result"
    }
   ],
   "source": [
    "even_numbers = {0, 2, 4, 6, 8, 8, 8, 8}\n",
    "even_numbers"
   ]
  },
  {
   "cell_type": "code",
   "execution_count": 13,
   "id": "eb8d9c7e",
   "metadata": {},
   "outputs": [
    {
     "data": {
      "text/plain": [
       "{'e', 'l', 'r', 's', 't'}"
      ]
     },
     "execution_count": 13,
     "metadata": {},
     "output_type": "execute_result"
    }
   ],
   "source": [
    "set('letters')"
   ]
  },
  {
   "cell_type": "code",
   "execution_count": 20,
   "id": "14ac58e6",
   "metadata": {},
   "outputs": [
    {
     "name": "stdout",
     "output_type": "stream",
     "text": [
      "本期大樂透電腦選號號碼如下:\n",
      "35  7  41  45  18  20  \n",
      "特別號是:24\n"
     ]
    }
   ],
   "source": [
    "import random\n",
    "lot = set()\n",
    "while(len(lot) < 7):\n",
    "    randomValue = random.randint(1, 49)\n",
    "    lot.add(randomValue)\n",
    "\n",
    "print('本期大樂透電腦選號號碼如下:')\n",
    "lotList = list(lot)\n",
    "for num in lotList[:-1]:\n",
    "    print(num, end=\"  \")\n",
    "print()\n",
    "print(f'特別號是:{lotList[-1]}')\n"
   ]
  },
  {
   "cell_type": "code",
   "execution_count": 22,
   "id": "bb3310e3",
   "metadata": {},
   "outputs": [
    {
     "name": "stdout",
     "output_type": "stream",
     "text": [
      "本期大樂透電腦選號號碼如下:\n",
      "38  8  48  16  21  23  \n",
      "特別號是:30\n"
     ]
    }
   ],
   "source": [
    "def lotGenerator():\n",
    "    import random\n",
    "    lot = set()\n",
    "    while(len(lot) < 7):\n",
    "        randomValue = random.randint(1, 49)\n",
    "        lot.add(randomValue)\n",
    "\n",
    "    print('本期大樂透電腦選號號碼如下:')\n",
    "    lotList = list(lot)\n",
    "    for num in lotList[:-1]:\n",
    "        print(num, end=\"  \")\n",
    "    print()\n",
    "    print(f'特別號是:{lotList[-1]}')\n",
    "\n",
    "lotGenerator()\n"
   ]
  },
  {
   "cell_type": "code",
   "execution_count": 26,
   "id": "fe0c967a",
   "metadata": {},
   "outputs": [
    {
     "name": "stdout",
     "output_type": "stream",
     "text": [
      "請輸入要產生的組數:10\n",
      "第1組:\n",
      "本期大樂透電腦選號號碼如下:\n",
      "42  43  12  14  15  16  \n",
      "特別號是:24\n",
      "\n",
      "第2組:\n",
      "本期大樂透電腦選號號碼如下:\n",
      "2  3  7  40  13  18  \n",
      "特別號是:26\n",
      "\n",
      "第3組:\n",
      "本期大樂透電腦選號號碼如下:\n",
      "36  37  39  47  49  24  \n",
      "特別號是:28\n",
      "\n",
      "第4組:\n",
      "本期大樂透電腦選號號碼如下:\n",
      "2  37  6  7  10  49  \n",
      "特別號是:30\n",
      "\n",
      "第5組:\n",
      "本期大樂透電腦選號號碼如下:\n",
      "4  39  40  45  26  28  \n",
      "特別號是:31\n",
      "\n",
      "第6組:\n",
      "本期大樂透電腦選號號碼如下:\n",
      "39  10  11  44  15  16  \n",
      "特別號是:20\n",
      "\n",
      "第7組:\n",
      "本期大樂透電腦選號號碼如下:\n",
      "1  33  4  48  20  25  \n",
      "特別號是:31\n",
      "\n",
      "第8組:\n",
      "本期大樂透電腦選號號碼如下:\n",
      "33  11  13  48  49  23  \n",
      "特別號是:30\n",
      "\n",
      "第9組:\n",
      "本期大樂透電腦選號號碼如下:\n",
      "37  39  40  41  45  48  \n",
      "特別號是:16\n",
      "\n",
      "第10組:\n",
      "本期大樂透電腦選號號碼如下:\n",
      "32  1  5  7  11  26  \n",
      "特別號是:28\n",
      "\n"
     ]
    }
   ],
   "source": [
    "nums = int(input('請輸入要產生的組數:'))\n",
    "\n",
    "for n in range(nums):\n",
    "    print(f\"第{n+1}組:\")\n",
    "    lotGenerator()\n",
    "    print()"
   ]
  },
  {
   "cell_type": "code",
   "execution_count": 29,
   "id": "e993ef42",
   "metadata": {},
   "outputs": [
    {
     "name": "stdout",
     "output_type": "stream",
     "text": [
      "本期大樂透電腦選號號碼如下:\n",
      "33  35  6  7  40  8  10  23  24  \n",
      "特別號是:30\n"
     ]
    }
   ],
   "source": [
    "def lotGenerator(n):\n",
    "    import random\n",
    "    lot = set()\n",
    "    while(len(lot) < n):\n",
    "        randomValue = random.randint(1, 49)\n",
    "        lot.add(randomValue)\n",
    "\n",
    "    print('本期大樂透電腦選號號碼如下:')\n",
    "    lotList = list(lot)\n",
    "    for num in lotList[:-1]:\n",
    "        print(num, end=\"  \")\n",
    "    print()\n",
    "    print(f'特別號是:{lotList[-1]}')\n",
    "\n",
    "lotGenerator(10)"
   ]
  },
  {
   "cell_type": "code",
   "execution_count": null,
   "id": "7191bb91",
   "metadata": {},
   "outputs": [],
   "source": []
  }
 ],
 "metadata": {
  "kernelspec": {
   "display_name": "Python 3 (ipykernel)",
   "language": "python",
   "name": "python3"
  },
  "language_info": {
   "codemirror_mode": {
    "name": "ipython",
    "version": 3
   },
   "file_extension": ".py",
   "mimetype": "text/x-python",
   "name": "python",
   "nbconvert_exporter": "python",
   "pygments_lexer": "ipython3",
   "version": "3.8.7"
  }
 },
 "nbformat": 4,
 "nbformat_minor": 5
}
