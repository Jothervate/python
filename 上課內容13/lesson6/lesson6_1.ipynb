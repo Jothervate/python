{
 "cells": [
  {
   "cell_type": "code",
   "execution_count": 2,
   "id": "ba64e1e4",
   "metadata": {},
   "outputs": [
    {
     "data": {
      "text/plain": [
       "True"
      ]
     },
     "execution_count": 2,
     "metadata": {},
     "output_type": "execute_result"
    }
   ],
   "source": [
    "list1 = [10, 9, 8 ,7]\n",
    "8 in list1"
   ]
  },
  {
   "cell_type": "code",
   "execution_count": 3,
   "id": "a90c9861",
   "metadata": {},
   "outputs": [
    {
     "data": {
      "text/plain": [
       "True"
      ]
     },
     "execution_count": 3,
     "metadata": {},
     "output_type": "execute_result"
    }
   ],
   "source": [
    "dict1 = {'a':100, 'b':200, 'c':300}\n",
    "'a' in dict1"
   ]
  },
  {
   "cell_type": "code",
   "execution_count": 5,
   "id": "24b499b0",
   "metadata": {},
   "outputs": [
    {
     "data": {
      "text/plain": [
       "False"
      ]
     },
     "execution_count": 5,
     "metadata": {},
     "output_type": "execute_result"
    }
   ],
   "source": [
    "del dict1['a']\n",
    "'a' in dict1"
   ]
  },
  {
   "cell_type": "code",
   "execution_count": 6,
   "id": "887bb3e3",
   "metadata": {},
   "outputs": [
    {
     "data": {
      "text/plain": [
       "dict_items([('綠燈', '走'), ('黃燈', '走快些'), ('紅燈', '停等')])"
      ]
     },
     "execution_count": 6,
     "metadata": {},
     "output_type": "execute_result"
    }
   ],
   "source": [
    "signals = {'綠燈': '走', '黃燈': '走快些', '紅燈': '停等'}\n",
    "signals.items()"
   ]
  },
  {
   "cell_type": "code",
   "execution_count": 7,
   "id": "55999944",
   "metadata": {},
   "outputs": [
    {
     "data": {
      "text/plain": [
       "dict_keys(['綠燈', '黃燈', '紅燈'])"
      ]
     },
     "execution_count": 7,
     "metadata": {},
     "output_type": "execute_result"
    }
   ],
   "source": [
    "signals.keys()"
   ]
  },
  {
   "cell_type": "code",
   "execution_count": 8,
   "id": "d6be9db4",
   "metadata": {},
   "outputs": [
    {
     "data": {
      "text/plain": [
       "dict_values(['走', '走快些', '停等'])"
      ]
     },
     "execution_count": 8,
     "metadata": {},
     "output_type": "execute_result"
    }
   ],
   "source": [
    "signals.values()"
   ]
  },
  {
   "cell_type": "code",
   "execution_count": 10,
   "id": "b00cee15",
   "metadata": {},
   "outputs": [
    {
     "name": "stdout",
     "output_type": "stream",
     "text": [
      "顏色:綠燈,行為:走\n",
      "顏色:黃燈,行為:走快些\n",
      "顏色:紅燈,行為:停等\n"
     ]
    }
   ],
   "source": [
    "for color,action in signals.items():\n",
    "    print(f'顏色:{color},行為:{action}')"
   ]
  },
  {
   "cell_type": "code",
   "execution_count": null,
   "id": "4041ff38",
   "metadata": {},
   "outputs": [],
   "source": []
  }
 ],
 "metadata": {
  "kernelspec": {
   "display_name": "Python 3 (ipykernel)",
   "language": "python",
   "name": "python3"
  },
  "language_info": {
   "codemirror_mode": {
    "name": "ipython",
    "version": 3
   },
   "file_extension": ".py",
   "mimetype": "text/x-python",
   "name": "python",
   "nbconvert_exporter": "python",
   "pygments_lexer": "ipython3",
   "version": "3.8.7"
  }
 },
 "nbformat": 4,
 "nbformat_minor": 5
}
