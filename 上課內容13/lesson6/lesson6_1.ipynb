{
 "cells": [
  {
   "cell_type": "code",
   "execution_count": 2,
   "id": "18282123",
   "metadata": {},
   "outputs": [
    {
     "data": {
      "text/plain": [
       "True"
      ]
     },
     "execution_count": 2,
     "metadata": {},
     "output_type": "execute_result"
    }
   ],
   "source": [
    "list1 = [10, 9, 8 ,7]\n",
    "8 in list1"
   ]
  },
  {
   "cell_type": "code",
   "execution_count": 3,
   "id": "501a7825",
   "metadata": {},
   "outputs": [
    {
     "data": {
      "text/plain": [
       "True"
      ]
     },
     "execution_count": 3,
     "metadata": {},
     "output_type": "execute_result"
    }
   ],
   "source": [
    "dict1 = {'a':100, 'b':200, 'c':300}\n",
    "'a' in dict1"
   ]
  },
  {
   "cell_type": "code",
   "execution_count": 5,
   "id": "9567b861",
   "metadata": {},
   "outputs": [
    {
     "data": {
      "text/plain": [
       "False"
      ]
     },
     "execution_count": 5,
     "metadata": {},
     "output_type": "execute_result"
    }
   ],
   "source": [
    "del dict1['a']\n",
    "'a' in dict1"
   ]
  },
  {
   "cell_type": "code",
   "execution_count": 6,
   "id": "9bee5dc8",
   "metadata": {},
   "outputs": [
    {
     "data": {
      "text/plain": [
       "dict_items([('綠燈', '走'), ('黃燈', '走快些'), ('紅燈', '停等')])"
      ]
     },
     "execution_count": 6,
     "metadata": {},
     "output_type": "execute_result"
    }
   ],
   "source": [
    "signals = {'綠燈': '走', '黃燈': '走快些', '紅燈': '停等'}\n",
    "signals.items()"
   ]
  },
  {
   "cell_type": "code",
   "execution_count": 7,
   "id": "c3b30cea",
   "metadata": {},
   "outputs": [
    {
     "data": {
      "text/plain": [
       "dict_keys(['綠燈', '黃燈', '紅燈'])"
      ]
     },
     "execution_count": 7,
     "metadata": {},
     "output_type": "execute_result"
    }
   ],
   "source": [
    "signals.keys()"
   ]
  },
  {
   "cell_type": "code",
   "execution_count": 8,
   "id": "e78f6210",
   "metadata": {},
   "outputs": [
    {
     "data": {
      "text/plain": [
       "dict_values(['走', '走快些', '停等'])"
      ]
     },
     "execution_count": 8,
     "metadata": {},
     "output_type": "execute_result"
    }
   ],
   "source": [
    "signals.values()"
   ]
  },
  {
   "cell_type": "code",
   "execution_count": 10,
   "id": "a2540589",
   "metadata": {},
   "outputs": [
    {
     "name": "stdout",
     "output_type": "stream",
     "text": [
      "顏色:綠燈,行為:走\n",
      "顏色:黃燈,行為:走快些\n",
      "顏色:紅燈,行為:停等\n"
     ]
    }
   ],
   "source": [
    "for color,action in signals.items():\n",
    "    print(f'顏色:{color},行為:{action}')"
   ]
  },
  {
   "cell_type": "code",
   "execution_count": 11,
   "id": "ce86d92d",
   "metadata": {},
   "outputs": [
    {
     "data": {
      "text/plain": [
       "set()"
      ]
     },
     "execution_count": 11,
     "metadata": {},
     "output_type": "execute_result"
    }
   ],
   "source": [
    "#set\n",
    "empty_set = set()\n",
    "empty_set"
   ]
  },
  {
   "cell_type": "code",
   "execution_count": 12,
   "id": "761aa9ff",
   "metadata": {},
   "outputs": [
    {
     "data": {
      "text/plain": [
       "{0, 2, 4, 6, 8}"
      ]
     },
     "execution_count": 12,
     "metadata": {},
     "output_type": "execute_result"
    }
   ],
   "source": [
    "even_numbers = {0, 2, 4, 6, 8, 8, 8, 8}\n",
    "even_numbers"
   ]
  },
  {
   "cell_type": "code",
   "execution_count": 13,
   "id": "1da7b0ce",
   "metadata": {},
   "outputs": [
    {
     "data": {
      "text/plain": [
       "{'e', 'l', 'r', 's', 't'}"
      ]
     },
     "execution_count": 13,
     "metadata": {},
     "output_type": "execute_result"
    }
   ],
   "source": [
    "set('letters')"
   ]
  },
  {
   "cell_type": "code",
   "execution_count": 20,
   "id": "bdd2e6d7",
   "metadata": {},
   "outputs": [
    {
     "name": "stdout",
     "output_type": "stream",
     "text": [
      "本期大樂透電腦選號號碼如下:\n",
      "35  7  41  45  18  20  \n",
      "特別號是:24\n"
     ]
    }
   ],
   "source": [
    "import random\n",
    "lot = set()\n",
    "while(len(lot) < 7):\n",
    "    randomValue = random.randint(1, 49)\n",
    "    lot.add(randomValue)\n",
    "\n",
    "print('本期大樂透電腦選號號碼如下:')\n",
    "lotList = list(lot)\n",
    "for num in lotList[:-1]:\n",
    "    print(num, end=\"  \")\n",
    "print()\n",
    "print(f'特別號是:{lotList[-1]}')\n"
   ]
  },
  {
   "cell_type": "code",
   "execution_count": null,
   "id": "bdffeed8",
   "metadata": {},
   "outputs": [],
   "source": []
  }
 ],
 "metadata": {
  "kernelspec": {
   "display_name": "Python 3 (ipykernel)",
   "language": "python",
   "name": "python3"
  },
  "language_info": {
   "codemirror_mode": {
    "name": "ipython",
    "version": 3
   },
   "file_extension": ".py",
   "mimetype": "text/x-python",
   "name": "python",
   "nbconvert_exporter": "python",
   "pygments_lexer": "ipython3",
   "version": "3.8.7"
  }
 },
 "nbformat": 4,
 "nbformat_minor": 5
}
