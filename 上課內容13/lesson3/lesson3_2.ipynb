{
 "cells": [
  {
   "cell_type": "code",
   "execution_count": 2,
   "id": "bdc64637",
   "metadata": {},
   "outputs": [
    {
     "name": "stdout",
     "output_type": "stream",
     "text": [
      "這是python 課程\n"
     ]
    }
   ],
   "source": [
    "print(\"這是python\",\"課程\")"
   ]
  },
  {
   "cell_type": "code",
   "execution_count": 5,
   "id": "9a45d19f",
   "metadata": {},
   "outputs": [
    {
     "name": "stdout",
     "output_type": "stream",
     "text": [
      "請輸入國文分數:87\n"
     ]
    },
    {
     "data": {
      "text/plain": [
       "int"
      ]
     },
     "execution_count": 5,
     "metadata": {},
     "output_type": "execute_result"
    }
   ],
   "source": [
    "chinese = int(input(\"請輸入國文分數:\"))\n",
    "type(chinese)"
   ]
  },
  {
   "cell_type": "code",
   "execution_count": 6,
   "id": "f8349c40",
   "metadata": {},
   "outputs": [
    {
     "name": "stdout",
     "output_type": "stream",
     "text": [
      "請輸入被除數(整數):10\n",
      "請輸入除數(整數,不可以為0):3\n",
      "商 3 餘數: 1\n"
     ]
    }
   ],
   "source": [
    "n = int(input(\"請輸入被除數(整數):\"))\n",
    "m = int(input(\"請輸入除數(整數,不可以為0):\"))\n",
    "print(\"商\",n // m,\"餘數:\", n%m)"
   ]
  },
  {
   "cell_type": "code",
   "execution_count": 7,
   "id": "2e8f8d9d",
   "metadata": {},
   "outputs": [
    {
     "data": {
      "text/plain": [
       "150"
      ]
     },
     "execution_count": 7,
     "metadata": {},
     "output_type": "execute_result"
    }
   ],
   "source": [
    "x = 100\n",
    "x = x + 50\n",
    "x"
   ]
  },
  {
   "cell_type": "code",
   "execution_count": 8,
   "id": "25d7f1ae",
   "metadata": {},
   "outputs": [
    {
     "data": {
      "text/plain": [
       "200"
      ]
     },
     "execution_count": 8,
     "metadata": {},
     "output_type": "execute_result"
    }
   ],
   "source": [
    "y = 100\n",
    "#複合指定運算子\n",
    "y += 100\n",
    "y"
   ]
  },
  {
   "cell_type": "code",
   "execution_count": 9,
   "id": "95562b39",
   "metadata": {},
   "outputs": [
    {
     "name": "stdout",
     "output_type": "stream",
     "text": [
      "請輸入第一個數67.5\n",
      "請輸入第二個數78.9\n",
      "請輸入第三個數45.3\n",
      "3個數的總和為:191.7\n"
     ]
    }
   ],
   "source": [
    "#請以(複合指定運算子)設計程式,讓用者輸入三個任意數，程式會顯示3數相加的總和(float)\n",
    "\n",
    "sum = 0\n",
    "x = float(input('請輸入第一個數'))\n",
    "sum += x\n",
    "\n",
    "x = float(input('請輸入第二個數'))\n",
    "sum += x\n",
    "\n",
    "x = float(input('請輸入第三個數'))\n",
    "sum += x\n",
    "\n",
    "print(\"3個數的總和為:\"+str(sum));"
   ]
  },
  {
   "cell_type": "code",
   "execution_count": null,
   "id": "879d670a",
   "metadata": {},
   "outputs": [],
   "source": []
  }
 ],
 "metadata": {
  "kernelspec": {
   "display_name": "Python 3 (ipykernel)",
   "language": "python",
   "name": "python3"
  },
  "language_info": {
   "codemirror_mode": {
    "name": "ipython",
    "version": 3
   },
   "file_extension": ".py",
   "mimetype": "text/x-python",
   "name": "python",
   "nbconvert_exporter": "python",
   "pygments_lexer": "ipython3",
   "version": "3.8.7"
  }
 },
 "nbformat": 4,
 "nbformat_minor": 5
}
