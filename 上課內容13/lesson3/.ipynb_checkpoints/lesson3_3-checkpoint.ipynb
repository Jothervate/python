{
 "cells": [
  {
   "cell_type": "code",
   "execution_count": 3,
   "id": "fd751d68",
   "metadata": {},
   "outputs": [
    {
     "name": "stdout",
     "output_type": "stream",
     "text": [
      "程式結束\n"
     ]
    }
   ],
   "source": [
    "#單向選擇\n",
    "a = 18\n",
    "if a > 18:\n",
    "    print(\"a大於18\")\n",
    "    print(\"True程式\")\n",
    "print(\"程式結束\")"
   ]
  },
  {
   "cell_type": "code",
   "execution_count": 5,
   "id": "9bb8f628",
   "metadata": {},
   "outputs": [
    {
     "name": "stdout",
     "output_type": "stream",
     "text": [
      "請輸入年紀?12\n",
      "沒有投票權\n",
      "程式結束\n"
     ]
    }
   ],
   "source": [
    "#雙向選擇\n",
    "age = int(input(\"請輸入年紀?\"))\n",
    "if age >= 18:\n",
    "    print(\"有投票權\")\n",
    "else:\n",
    "    print(\"沒有投票權\")\n",
    "\n",
    "print(\"程式結束\")"
   ]
  },
  {
   "cell_type": "code",
   "execution_count": 9,
   "id": "4ffa9428",
   "metadata": {},
   "outputs": [
    {
     "name": "stdout",
     "output_type": "stream",
     "text": [
      "請輸入年紀?11\n",
      "少年\n"
     ]
    }
   ],
   "source": [
    "age = int(input(\"請輸入年紀?\"))\n",
    "if age > 18:\n",
    "    print(\"青年\")\n",
    "elif age >= 12:\n",
    "    print(\"青少年\")\n",
    "else:\n",
    "    print(\"少年\")"
   ]
  },
  {
   "cell_type": "code",
   "execution_count": 12,
   "id": "2e87400a",
   "metadata": {},
   "outputs": [
    {
     "name": "stdout",
     "output_type": "stream",
     "text": [
      "請輸入年紀?19\n",
      "青年\n"
     ]
    }
   ],
   "source": [
    "age = int(input(\"請輸入年紀?\"))\n",
    "if age < 12:\n",
    "    print(\"少年\")\n",
    "elif age <= 18:\n",
    "    print(\"青少年\")\n",
    "else:\n",
    "    print(\"青年\")"
   ]
  },
  {
   "cell_type": "code",
   "execution_count": null,
   "id": "4458ed65",
   "metadata": {},
   "outputs": [],
   "source": [
    "#有問題的設計,錯誤\n",
    "age = int(input(\"請輸入年紀?\"))\n",
    "if age >= 12:\n",
    "    print(\"青少年\")\n",
    "elif age > 18:\n",
    "    print(\"青年\")\n",
    "else:\n",
    "    print(\"少年\")"
   ]
  }
 ],
 "metadata": {
  "kernelspec": {
   "display_name": "Python 3 (ipykernel)",
   "language": "python",
   "name": "python3"
  },
  "language_info": {
   "codemirror_mode": {
    "name": "ipython",
    "version": 3
   },
   "file_extension": ".py",
   "mimetype": "text/x-python",
   "name": "python",
   "nbconvert_exporter": "python",
   "pygments_lexer": "ipython3",
   "version": "3.8.7"
  }
 },
 "nbformat": 4,
 "nbformat_minor": 5
}
