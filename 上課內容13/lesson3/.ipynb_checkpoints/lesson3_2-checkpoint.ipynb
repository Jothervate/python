{
 "cells": [
  {
   "cell_type": "code",
   "execution_count": 2,
   "id": "74f89dd8",
   "metadata": {},
   "outputs": [
    {
     "name": "stdout",
     "output_type": "stream",
     "text": [
      "這是python 課程\n"
     ]
    }
   ],
   "source": [
    "print(\"這是python\",\"課程\")"
   ]
  },
  {
   "cell_type": "code",
   "execution_count": 5,
   "id": "4e98684f",
   "metadata": {},
   "outputs": [
    {
     "name": "stdout",
     "output_type": "stream",
     "text": [
      "請輸入國文分數:87\n"
     ]
    },
    {
     "data": {
      "text/plain": [
       "int"
      ]
     },
     "execution_count": 5,
     "metadata": {},
     "output_type": "execute_result"
    }
   ],
   "source": [
    "chinese=int(input(\"請輸入國文分數:\"))\n",
    "type(chinese)"
   ]
  },
  {
   "cell_type": "code",
   "execution_count": 6,
   "id": "f6716b07",
   "metadata": {},
   "outputs": [
    {
     "name": "stdout",
     "output_type": "stream",
     "text": [
      "請輸入被除數(整數):10\n",
      "請輸入除數(整數,不可以為0):3\n",
      "商 3 餘數: 1\n"
     ]
    }
   ],
   "source": [
    "n = int(input(\"請輸入被除數(整數):\"))\n",
    "m = int(input(\"請輸入除數(整數,不可以為0):\"))\n",
    "print(\"商\",n // m,\"餘數:\", n%m)"
   ]
  },
  {
   "cell_type": "code",
   "execution_count": null,
   "id": "bc235828",
   "metadata": {},
   "outputs": [],
   "source": []
  }
 ],
 "metadata": {
  "kernelspec": {
   "display_name": "Python 3 (ipykernel)",
   "language": "python",
   "name": "python3"
  },
  "language_info": {
   "codemirror_mode": {
    "name": "ipython",
    "version": 3
   },
   "file_extension": ".py",
   "mimetype": "text/x-python",
   "name": "python",
   "nbconvert_exporter": "python",
   "pygments_lexer": "ipython3",
   "version": "3.8.7"
  }
 },
 "nbformat": 4,
 "nbformat_minor": 5
}
