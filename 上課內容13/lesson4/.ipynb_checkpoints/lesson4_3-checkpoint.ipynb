{
 "cells": [
  {
   "cell_type": "code",
   "execution_count": 1,
   "id": "75f04478",
   "metadata": {},
   "outputs": [
    {
     "name": "stdout",
     "output_type": "stream",
     "text": [
      "0\n",
      "1\n",
      "2\n",
      "3\n",
      "4\n"
     ]
    }
   ],
   "source": [
    "for i in range(5):\n",
    "    print(i)\n"
   ]
  },
  {
   "cell_type": "code",
   "execution_count": 2,
   "id": "d6a8afd4",
   "metadata": {},
   "outputs": [
    {
     "name": "stdout",
     "output_type": "stream",
     "text": [
      "5\n",
      "6\n",
      "7\n",
      "8\n",
      "9\n"
     ]
    }
   ],
   "source": [
    "for i in range(5,10):\n",
    "    print(i)"
   ]
  },
  {
   "cell_type": "code",
   "execution_count": 3,
   "id": "55d2a151",
   "metadata": {},
   "outputs": [
    {
     "name": "stdout",
     "output_type": "stream",
     "text": [
      "0\n",
      "2\n",
      "4\n",
      "6\n",
      "8\n"
     ]
    }
   ],
   "source": [
    "for i in range(0,10,2):\n",
    "    print(i)\n",
    "    "
   ]
  },
  {
   "cell_type": "code",
   "execution_count": 5,
   "id": "1d1d9331",
   "metadata": {},
   "outputs": [],
   "source": [
    "chinese = 80\n",
    "english = 95\n",
    "math = 93"
   ]
  },
  {
   "cell_type": "code",
   "execution_count": 7,
   "id": "9c7dfb5c",
   "metadata": {},
   "outputs": [
    {
     "data": {
      "text/plain": [
       "'國文:80,英文:95,數學:93'"
      ]
     },
     "execution_count": 7,
     "metadata": {},
     "output_type": "execute_result"
    }
   ],
   "source": [
    "\"國文:\" + str(chinese) + \",英文:\" + str(english) + \",數學:\" + str(math) "
   ]
  },
  {
   "cell_type": "code",
   "execution_count": 8,
   "id": "7d8eb082",
   "metadata": {},
   "outputs": [
    {
     "data": {
      "text/plain": [
       "'國文:80,英文:95,數學:93'"
      ]
     },
     "execution_count": 8,
     "metadata": {},
     "output_type": "execute_result"
    }
   ],
   "source": [
    "#字串插補 f''\n",
    "f'國文:{chinese},英文:{english},數學:{math}'"
   ]
  },
  {
   "cell_type": "code",
   "execution_count": 10,
   "id": "56d836b1",
   "metadata": {},
   "outputs": [],
   "source": [
    "chinese = 80.00003\n",
    "english = 95.12345\n",
    "math = 93.876549"
   ]
  },
  {
   "cell_type": "code",
   "execution_count": 13,
   "id": "e5ef4361",
   "metadata": {},
   "outputs": [
    {
     "data": {
      "text/plain": [
       "'國文:80.00,英文:95.123,數學:93.88'"
      ]
     },
     "execution_count": 13,
     "metadata": {},
     "output_type": "execute_result"
    }
   ],
   "source": [
    "#使用字串的方法format() #新的寫法\n",
    "'國文:{0:.2f},英文:{1:.3f},數學:{2:.2f}'.format(chinese,english,math)"
   ]
  },
  {
   "cell_type": "code",
   "execution_count": 14,
   "id": "78c1b113",
   "metadata": {},
   "outputs": [
    {
     "data": {
      "text/plain": [
       "'國文:80,英文:95.12,數學:93.88'"
      ]
     },
     "execution_count": 14,
     "metadata": {},
     "output_type": "execute_result"
    }
   ],
   "source": [
    "#舊的語法 %\n",
    "'國文:%d,英文:%.2f,數學:%.2f' % (chinese, english, math)"
   ]
  },
  {
   "cell_type": "code",
   "execution_count": 16,
   "id": "abab2b8f",
   "metadata": {},
   "outputs": [
    {
     "name": "stdout",
     "output_type": "stream",
     "text": [
      "1*1=1\t1*2=2\t1*3=3\t1*4=4\t1*5=5\t1*6=6\t1*7=7\t1*8=8\t1*9=9\t\n",
      "2*1=2\t2*2=4\t2*3=6\t2*4=8\t2*5=10\t2*6=12\t2*7=14\t2*8=16\t2*9=18\t\n",
      "3*1=3\t3*2=6\t3*3=9\t3*4=12\t3*5=15\t3*6=18\t3*7=21\t3*8=24\t3*9=27\t\n",
      "4*1=4\t4*2=8\t4*3=12\t4*4=16\t4*5=20\t4*6=24\t4*7=28\t4*8=32\t4*9=36\t\n",
      "5*1=5\t5*2=10\t5*3=15\t5*4=20\t5*5=25\t5*6=30\t5*7=35\t5*8=40\t5*9=45\t\n",
      "6*1=6\t6*2=12\t6*3=18\t6*4=24\t6*5=30\t6*6=36\t6*7=42\t6*8=48\t6*9=54\t\n",
      "7*1=7\t7*2=14\t7*3=21\t7*4=28\t7*5=35\t7*6=42\t7*7=49\t7*8=56\t7*9=63\t\n",
      "8*1=8\t8*2=16\t8*3=24\t8*4=32\t8*5=40\t8*6=48\t8*7=56\t8*8=64\t8*9=72\t\n",
      "9*1=9\t9*2=18\t9*3=27\t9*4=36\t9*5=45\t9*6=54\t9*7=63\t9*8=72\t9*9=81\t\n"
     ]
    }
   ],
   "source": [
    "#巢狀迴圈\n",
    "for i in range(1,10):\n",
    "    for j in range(1,10):\n",
    "        print(f'{i}*{j}={i*j}',end='\\t')\n",
    "    print()\n"
   ]
  },
  {
   "cell_type": "code",
   "execution_count": null,
   "id": "5476bd09",
   "metadata": {},
   "outputs": [],
   "source": []
  }
 ],
 "metadata": {
  "kernelspec": {
   "display_name": "Python 3 (ipykernel)",
   "language": "python",
   "name": "python3"
  },
  "language_info": {
   "codemirror_mode": {
    "name": "ipython",
    "version": 3
   },
   "file_extension": ".py",
   "mimetype": "text/x-python",
   "name": "python",
   "nbconvert_exporter": "python",
   "pygments_lexer": "ipython3",
   "version": "3.8.7"
  }
 },
 "nbformat": 4,
 "nbformat_minor": 5
}
