{
 "cells": [
  {
   "cell_type": "code",
   "execution_count": 1,
   "id": "5bb0015c",
   "metadata": {},
   "outputs": [
    {
     "name": "stdout",
     "output_type": "stream",
     "text": [
      "0\n",
      "1\n",
      "2\n",
      "3\n",
      "4\n"
     ]
    }
   ],
   "source": [
    "for i in range(5):\n",
    "    print(i)\n"
   ]
  },
  {
   "cell_type": "code",
   "execution_count": 2,
   "id": "d7d38f19",
   "metadata": {},
   "outputs": [
    {
     "name": "stdout",
     "output_type": "stream",
     "text": [
      "5\n",
      "6\n",
      "7\n",
      "8\n",
      "9\n"
     ]
    }
   ],
   "source": [
    "for i in range(5,10):\n",
    "    print(i)"
   ]
  },
  {
   "cell_type": "code",
   "execution_count": 3,
   "id": "468f80b9",
   "metadata": {},
   "outputs": [
    {
     "name": "stdout",
     "output_type": "stream",
     "text": [
      "0\n",
      "2\n",
      "4\n",
      "6\n",
      "8\n"
     ]
    }
   ],
   "source": [
    "for i in range(0,10,2):\n",
    "    print(i)\n",
    "    "
   ]
  },
  {
   "cell_type": "code",
   "execution_count": 5,
   "id": "e6928695",
   "metadata": {},
   "outputs": [],
   "source": [
    "chinese = 80\n",
    "english = 95\n",
    "math = 93"
   ]
  },
  {
   "cell_type": "code",
   "execution_count": 7,
   "id": "40a12a78",
   "metadata": {},
   "outputs": [
    {
     "data": {
      "text/plain": [
       "'國文:80,英文:95,數學:93'"
      ]
     },
     "execution_count": 7,
     "metadata": {},
     "output_type": "execute_result"
    }
   ],
   "source": [
    "\"國文:\" + str(chinese) + \",英文:\" + str(english) + \",數學:\" + str(math) "
   ]
  },
  {
   "cell_type": "code",
   "execution_count": 8,
   "id": "b28ab61f",
   "metadata": {},
   "outputs": [
    {
     "data": {
      "text/plain": [
       "'國文:80,英文:95,數學:93'"
      ]
     },
     "execution_count": 8,
     "metadata": {},
     "output_type": "execute_result"
    }
   ],
   "source": [
    "#字串插補 f''\n",
    "f'國文:{chinese},英文:{english},數學:{math}'"
   ]
  },
  {
   "cell_type": "code",
   "execution_count": 10,
   "id": "51c274f2",
   "metadata": {},
   "outputs": [],
   "source": [
    "chinese = 80.00003\n",
    "english = 95.12345\n",
    "math = 93.876549"
   ]
  },
  {
   "cell_type": "code",
   "execution_count": 13,
   "id": "20b68e0e",
   "metadata": {},
   "outputs": [
    {
     "data": {
      "text/plain": [
       "'國文:80.00,英文:95.123,數學:93.88'"
      ]
     },
     "execution_count": 13,
     "metadata": {},
     "output_type": "execute_result"
    }
   ],
   "source": [
    "#使用字串的方法format() #新的寫法\n",
    "'國文:{0:.2f},英文:{1:.3f},數學:{2:.2f}'.format(chinese,english,math)"
   ]
  },
  {
   "cell_type": "code",
   "execution_count": 14,
   "id": "ffb24694",
   "metadata": {},
   "outputs": [
    {
     "data": {
      "text/plain": [
       "'國文:80,英文:95.12,數學:93.88'"
      ]
     },
     "execution_count": 14,
     "metadata": {},
     "output_type": "execute_result"
    }
   ],
   "source": [
    "#舊的語法 %\n",
    "'國文:%d,英文:%.2f,數學:%.2f' % (chinese, english, math)"
   ]
  },
  {
   "cell_type": "code",
   "execution_count": null,
   "id": "3fb1c946",
   "metadata": {},
   "outputs": [],
   "source": []
  }
 ],
 "metadata": {
  "kernelspec": {
   "display_name": "Python 3 (ipykernel)",
   "language": "python",
   "name": "python3"
  },
  "language_info": {
   "codemirror_mode": {
    "name": "ipython",
    "version": 3
   },
   "file_extension": ".py",
   "mimetype": "text/x-python",
   "name": "python",
   "nbconvert_exporter": "python",
   "pygments_lexer": "ipython3",
   "version": "3.8.7"
  }
 },
 "nbformat": 4,
 "nbformat_minor": 5
}
