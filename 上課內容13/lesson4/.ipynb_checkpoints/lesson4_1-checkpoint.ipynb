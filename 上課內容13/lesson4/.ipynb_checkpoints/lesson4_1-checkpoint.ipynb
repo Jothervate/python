{
 "cells": [
  {
   "cell_type": "code",
   "execution_count": 1,
   "id": "61c678f0",
   "metadata": {},
   "outputs": [
    {
     "name": "stdout",
     "output_type": "stream",
     "text": [
      "6\n",
      "5\n",
      "4\n",
      "3\n",
      "2\n",
      "1\n"
     ]
    }
   ],
   "source": [
    "a = 6\n",
    "while a > 0:\n",
    "    print(a)\n",
    "    a -= 1\n"
   ]
  },
  {
   "cell_type": "code",
   "execution_count": 2,
   "id": "b5d76536",
   "metadata": {},
   "outputs": [
    {
     "name": "stdout",
     "output_type": "stream",
     "text": [
      "請輸入第1個月份的存款:5678\n",
      "請輸入第2個月份的存款:6789\n",
      "請輸入第3個月份的存款:6789\n",
      "請輸入第4個月份的存款:3456\n",
      "請輸入第5個月份的存款:7654\n",
      "恭喜!已經存夠了，存了 5 個月的總存款為: 30366 元\n"
     ]
    }
   ],
   "source": [
    "deposit = 0\n",
    "num = 0\n",
    "while(deposit<30000):\n",
    "    num += 1\n",
    "    inputNum = int(input('請輸入第' + str(num) + \"個月份的存款:\"))\n",
    "    deposit += inputNum\n",
    "print(\"恭喜!已經存夠了，存了\", num, \"個月的總存款為:\", deposit, \"元\")"
   ]
  },
  {
   "cell_type": "code",
   "execution_count": 2,
   "id": "0cf7238d",
   "metadata": {},
   "outputs": [
    {
     "name": "stdout",
     "output_type": "stream",
     "text": [
      "請輸入第1學生的成績:78\n",
      "請輸入第2學生的成績:89\n",
      "請輸入第3學生的成績:93\n",
      "請輸入第4學生的成績:65\n",
      "請輸入第5學生的成績:-1\n",
      "全班總成績為: 325 平均分數為: 81.25\n"
     ]
    }
   ],
   "source": [
    "sum = 0\n",
    "num = 0\n",
    "while(True):\n",
    "    num += 1\n",
    "    score = int(input(\"請輸入第\"+str(num)+\"學生的成績:\"))    \n",
    "    if(score < 0):\n",
    "        break\n",
    "    sum += score\n",
    "print('全班總成績為:',sum,\"平均分數為:\", sum/(num-1))"
   ]
  }
 ],
 "metadata": {
  "kernelspec": {
   "display_name": "Python 3 (ipykernel)",
   "language": "python",
   "name": "python3"
  },
  "language_info": {
   "codemirror_mode": {
    "name": "ipython",
    "version": 3
   },
   "file_extension": ".py",
   "mimetype": "text/x-python",
   "name": "python",
   "nbconvert_exporter": "python",
   "pygments_lexer": "ipython3",
   "version": "3.8.7"
  }
 },
 "nbformat": 4,
 "nbformat_minor": 5
}
