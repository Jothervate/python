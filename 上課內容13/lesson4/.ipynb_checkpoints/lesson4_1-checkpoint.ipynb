{
 "cells": [
  {
   "cell_type": "code",
   "execution_count": 1,
   "id": "03a2d4f8",
   "metadata": {},
   "outputs": [
    {
     "name": "stdout",
     "output_type": "stream",
     "text": [
      "6\n",
      "5\n",
      "4\n",
      "3\n",
      "2\n",
      "1\n"
     ]
    }
   ],
   "source": [
    "a = 6\n",
    "while a > 0:\n",
    "    print(a)\n",
    "    a -= 1\n"
   ]
  },
  {
   "cell_type": "code",
   "execution_count": 2,
   "id": "1b2fadc7",
   "metadata": {},
   "outputs": [
    {
     "name": "stdout",
     "output_type": "stream",
     "text": [
      "請輸入第1個月份的存款:5678\n",
      "請輸入第2個月份的存款:6789\n",
      "請輸入第3個月份的存款:6789\n",
      "請輸入第4個月份的存款:3456\n",
      "請輸入第5個月份的存款:7654\n",
      "恭喜!已經存夠了，存了 5 個月的總存款為: 30366 元\n"
     ]
    }
   ],
   "source": [
    "deposit = 0\n",
    "num = 0\n",
    "while(deposit<30000):\n",
    "    num += 1\n",
    "    inputNum = int(input('請輸入第' + str(num) + \"個月份的存款:\"))\n",
    "    deposit += inputNum\n",
    "print(\"恭喜!已經存夠了，存了\", num, \"個月的總存款為:\", deposit, \"元\")"
   ]
  },
  {
   "cell_type": "code",
   "execution_count": 2,
   "id": "900639b1",
   "metadata": {},
   "outputs": [
    {
     "name": "stdout",
     "output_type": "stream",
     "text": [
      "請輸入第1學生的成績:78\n",
      "請輸入第2學生的成績:89\n",
      "請輸入第3學生的成績:93\n",
      "請輸入第4學生的成績:65\n",
      "請輸入第5學生的成績:-1\n",
      "全班總成績為: 325 平均分數為: 81.25\n"
     ]
    }
   ],
   "source": [
    "sum = 0\n",
    "num = 1\n",
    "while(True):    \n",
    "    score = int(input(\"請輸入第\"+str(num)+\"學生的成績:\"))    \n",
    "    if(score < 0):\n",
    "        break\n",
    "    num += 1\n",
    "    sum += score\n",
    "print('全班總成績為:',sum,\"平均分數為:\", sum/(num))"
   ]
  },
  {
   "cell_type": "code",
   "execution_count": 3,
   "id": "f4e17168",
   "metadata": {},
   "outputs": [
    {
     "name": "stdout",
     "output_type": "stream",
     "text": [
      "請輸入第1個數值:2\n",
      "請輸入第2個數值:4\n",
      "請輸入第3個數值:6\n",
      "請輸入第4個數值:8\n",
      "請輸入第5個數值:2\n",
      "請輸入第6個數值:1\n",
      "請輸入第7個數值:3\n",
      "請輸入第8個數值:5\n",
      "請輸入第9個數值:7\n",
      "請輸入第10個數值:9\n",
      "請輸入第11個數值:11\n",
      "請輸入第12個數值:-5\n",
      "所有輸入的正偶數的加總是: 22\n"
     ]
    }
   ],
   "source": [
    "sum = 0\n",
    "num = 0\n",
    "while(True):\n",
    "    num += 1\n",
    "    inputNum = int(input(\"請輸入第\"+ str(num) + \"個數值:\"))\n",
    "    if(inputNum < 0):\n",
    "        break\n",
    "    elif(inputNum % 2 == 1):\n",
    "        continue\n",
    "    sum += inputNum\n",
    "\n",
    "print(\"所有輸入的正偶數的加總是:\",sum)"
   ]
  },
  {
   "cell_type": "code",
   "execution_count": null,
   "id": "7c651758",
   "metadata": {},
   "outputs": [],
   "source": []
  }
 ],
 "metadata": {
  "kernelspec": {
   "display_name": "Python 3 (ipykernel)",
   "language": "python",
   "name": "python3"
  },
  "language_info": {
   "codemirror_mode": {
    "name": "ipython",
    "version": 3
   },
   "file_extension": ".py",
   "mimetype": "text/x-python",
   "name": "python",
   "nbconvert_exporter": "python",
   "pygments_lexer": "ipython3",
   "version": "3.8.7"
  }
 },
 "nbformat": 4,
 "nbformat_minor": 5
}
