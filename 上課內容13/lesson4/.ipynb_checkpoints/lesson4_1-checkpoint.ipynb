{
 "cells": [
  {
   "cell_type": "code",
   "execution_count": 1,
   "id": "0ea97135",
   "metadata": {},
   "outputs": [
    {
     "name": "stdout",
     "output_type": "stream",
     "text": [
      "6\n",
      "5\n",
      "4\n",
      "3\n",
      "2\n",
      "1\n"
     ]
    }
   ],
   "source": [
    "a = 6\n",
    "while a > 0:\n",
    "    print(a)\n",
    "    a -= 1\n"
   ]
  },
  {
   "cell_type": "code",
   "execution_count": 2,
   "id": "eb4f7f29",
   "metadata": {},
   "outputs": [
    {
     "name": "stdout",
     "output_type": "stream",
     "text": [
      "請輸入第1個月份的存款:5678\n",
      "請輸入第2個月份的存款:6789\n",
      "請輸入第3個月份的存款:6789\n",
      "請輸入第4個月份的存款:3456\n",
      "請輸入第5個月份的存款:7654\n",
      "恭喜!已經存夠了，存了 5 個月的總存款為: 30366 元\n"
     ]
    }
   ],
   "source": [
    "deposit = 0\n",
    "num = 0\n",
    "while(deposit<30000):\n",
    "    num += 1\n",
    "    inputNum = int(input('請輸入第' + str(num) + \"個月份的存款:\"))\n",
    "    deposit += inputNum\n",
    "print(\"恭喜!已經存夠了，存了\", num, \"個月的總存款為:\", deposit, \"元\")"
   ]
  },
  {
   "cell_type": "code",
   "execution_count": null,
   "id": "4f97f24e",
   "metadata": {},
   "outputs": [],
   "source": []
  }
 ],
 "metadata": {
  "kernelspec": {
   "display_name": "Python 3 (ipykernel)",
   "language": "python",
   "name": "python3"
  },
  "language_info": {
   "codemirror_mode": {
    "name": "ipython",
    "version": 3
   },
   "file_extension": ".py",
   "mimetype": "text/x-python",
   "name": "python",
   "nbconvert_exporter": "python",
   "pygments_lexer": "ipython3",
   "version": "3.8.7"
  }
 },
 "nbformat": 4,
 "nbformat_minor": 5
}
