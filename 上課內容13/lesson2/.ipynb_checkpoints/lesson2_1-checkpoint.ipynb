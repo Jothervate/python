{
 "cells": [
  {
   "cell_type": "code",
   "execution_count": 1,
   "id": "0921358b",
   "metadata": {},
   "outputs": [
    {
     "name": "stdout",
     "output_type": "stream",
     "text": [
      "Hello! Python\n"
     ]
    }
   ],
   "source": [
    "print(\"Hello! Python\")"
   ]
  },
  {
   "cell_type": "code",
   "execution_count": 2,
   "id": "56565349",
   "metadata": {},
   "outputs": [
    {
     "data": {
      "text/plain": [
       "30"
      ]
     },
     "execution_count": 2,
     "metadata": {},
     "output_type": "execute_result"
    }
   ],
   "source": [
    "a = 10\n",
    "b = 20\n",
    "a+b"
   ]
  },
  {
   "cell_type": "code",
   "execution_count": 3,
   "id": "5a88a316",
   "metadata": {},
   "outputs": [
    {
     "name": "stdout",
     "output_type": "stream",
     "text": [
      "444\n"
     ]
    }
   ],
   "source": [
    "c = 567\n",
    "d = 123\n",
    "print(c-d)"
   ]
  },
  {
   "cell_type": "code",
   "execution_count": 6,
   "id": "abb7dd32",
   "metadata": {},
   "outputs": [
    {
     "name": "stdout",
     "output_type": "stream",
     "text": [
      "50\n"
     ]
    },
    {
     "data": {
      "text/plain": [
       "50"
      ]
     },
     "execution_count": 6,
     "metadata": {},
     "output_type": "execute_result"
    }
   ],
   "source": [
    "a = 50\n",
    "print(a)\n",
    "a"
   ]
  },
  {
   "cell_type": "code",
   "execution_count": 12,
   "id": "c670f88f",
   "metadata": {},
   "outputs": [
    {
     "data": {
      "text/plain": [
       "100"
      ]
     },
     "execution_count": 12,
     "metadata": {},
     "output_type": "execute_result"
    }
   ],
   "source": [
    "a = 100\n",
    "a"
   ]
  },
  {
   "cell_type": "code",
   "execution_count": 8,
   "id": "a8c45776",
   "metadata": {},
   "outputs": [],
   "source": [
    "del a"
   ]
  },
  {
   "cell_type": "code",
   "execution_count": 10,
   "id": "50499142",
   "metadata": {},
   "outputs": [
    {
     "data": {
      "text/plain": [
       "1000"
      ]
     },
     "execution_count": 10,
     "metadata": {},
     "output_type": "execute_result"
    }
   ],
   "source": [
    "a = 1000\n",
    "a"
   ]
  },
  {
   "cell_type": "code",
   "execution_count": 13,
   "id": "02f94530",
   "metadata": {},
   "outputs": [
    {
     "data": {
      "text/plain": [
       "100"
      ]
     },
     "execution_count": 13,
     "metadata": {},
     "output_type": "execute_result"
    }
   ],
   "source": [
    "a"
   ]
  },
  {
   "cell_type": "code",
   "execution_count": 14,
   "id": "4d14f217",
   "metadata": {},
   "outputs": [
    {
     "data": {
      "text/plain": [
       "5"
      ]
     },
     "execution_count": 14,
     "metadata": {},
     "output_type": "execute_result"
    }
   ],
   "source": [
    "_a = 5\n",
    "_a"
   ]
  },
  {
   "cell_type": "code",
   "execution_count": 18,
   "id": "220d6c3c",
   "metadata": {},
   "outputs": [
    {
     "data": {
      "text/plain": [
       "100"
      ]
     },
     "execution_count": 18,
     "metadata": {},
     "output_type": "execute_result"
    }
   ],
   "source": [
    "school = 100 #嘗試存取某個變數會發生變數未定義的錯誤\n",
    "school"
   ]
  },
  {
   "cell_type": "code",
   "execution_count": 19,
   "id": "92fde4a7",
   "metadata": {},
   "outputs": [
    {
     "name": "stdout",
     "output_type": "stream",
     "text": [
      "3\n",
      "3.12\n",
      "Hello!\n",
      "7\n"
     ]
    }
   ],
   "source": [
    "print(3)\n",
    "print(3.12)\n",
    "print('Hello!')\n",
    "print(3+4)"
   ]
  },
  {
   "cell_type": "code",
   "execution_count": 24,
   "id": "c30ed321",
   "metadata": {},
   "outputs": [
    {
     "name": "stdout",
     "output_type": "stream",
     "text": [
      "3 3.12 Hello 7\n"
     ]
    }
   ],
   "source": [
    "print(3, 3.12, 'Hello', 3+4)\n"
   ]
  },
  {
   "cell_type": "code",
   "execution_count": 25,
   "id": "8c68d886",
   "metadata": {},
   "outputs": [
    {
     "name": "stdout",
     "output_type": "stream",
     "text": [
      "a= 100\n",
      "b= 50\n",
      "a+b= 150\n"
     ]
    }
   ],
   "source": [
    "a=100\n",
    "print('a=', a)\n",
    "b=50\n",
    "print('b=', b)\n",
    "print(\"a+b=\", a+b)"
   ]
  },
  {
   "cell_type": "code",
   "execution_count": 30,
   "id": "269126a2",
   "metadata": {},
   "outputs": [
    {
     "name": "stdout",
     "output_type": "stream",
     "text": [
      "<class 'int'>\n",
      "<class 'float'>\n",
      "<class 'str'>\n",
      "<class 'bool'>\n"
     ]
    }
   ],
   "source": [
    "#python的4個基本資料類型\n",
    "#變數的資料類型是依據儲存的內容來決定\n",
    "a = 100\n",
    "print(type(a))\n",
    "\n",
    "a = 10.2\n",
    "print(type(a))\n",
    "\n",
    "a = \"Hello\"\n",
    "print(type(a))\n",
    "\n",
    "a = True\n",
    "print(type(a))"
   ]
  },
  {
   "cell_type": "code",
   "execution_count": 31,
   "id": "a5acb7dc",
   "metadata": {},
   "outputs": [
    {
     "data": {
      "text/plain": [
       "95"
      ]
     },
     "execution_count": 31,
     "metadata": {},
     "output_type": "execute_result"
    }
   ],
   "source": [
    "a = 95\n",
    "a - 3\n",
    "a"
   ]
  },
  {
   "cell_type": "code",
   "execution_count": 32,
   "id": "96c07722",
   "metadata": {},
   "outputs": [
    {
     "data": {
      "text/plain": [
       "92"
      ]
     },
     "execution_count": 32,
     "metadata": {},
     "output_type": "execute_result"
    }
   ],
   "source": [
    "a = 95\n",
    "a = a - 3\n",
    "a"
   ]
  },
  {
   "cell_type": "code",
   "execution_count": 33,
   "id": "4019e676",
   "metadata": {},
   "outputs": [
    {
     "data": {
      "text/plain": [
       "92"
      ]
     },
     "execution_count": 33,
     "metadata": {},
     "output_type": "execute_result"
    }
   ],
   "source": [
    "#複合指定運算子\n",
    "a = 95\n",
    "a -= 3\n",
    "a"
   ]
  },
  {
   "cell_type": "code",
   "execution_count": 34,
   "id": "151a6c50",
   "metadata": {},
   "outputs": [
    {
     "data": {
      "text/plain": [
       "15"
      ]
     },
     "execution_count": 34,
     "metadata": {},
     "output_type": "execute_result"
    }
   ],
   "source": [
    "a = 5\n",
    "a += 10\n",
    "a"
   ]
  },
  {
   "cell_type": "code",
   "execution_count": 35,
   "id": "b7e6e19d",
   "metadata": {},
   "outputs": [
    {
     "data": {
      "text/plain": [
       "25"
      ]
     },
     "execution_count": 35,
     "metadata": {},
     "output_type": "execute_result"
    }
   ],
   "source": [
    "a = 5\n",
    "a **=2\n",
    "a"
   ]
  },
  {
   "cell_type": "code",
   "execution_count": 36,
   "id": "dffd19ed",
   "metadata": {},
   "outputs": [
    {
     "data": {
      "text/plain": [
       "14"
      ]
     },
     "execution_count": 36,
     "metadata": {},
     "output_type": "execute_result"
    }
   ],
   "source": [
    "2 + 3 * 4"
   ]
  },
  {
   "cell_type": "code",
   "execution_count": 37,
   "id": "5a413285",
   "metadata": {},
   "outputs": [
    {
     "data": {
      "text/plain": [
       "20"
      ]
     },
     "execution_count": 37,
     "metadata": {},
     "output_type": "execute_result"
    }
   ],
   "source": [
    "(2+3) * 4"
   ]
  },
  {
   "cell_type": "code",
   "execution_count": 38,
   "id": "657656c1",
   "metadata": {},
   "outputs": [
    {
     "data": {
      "text/plain": [
       "10"
      ]
     },
     "execution_count": 38,
     "metadata": {},
     "output_type": "execute_result"
    }
   ],
   "source": [
    "a=2 * (1+2) ** 2 - 2 ** 2 * 2\n",
    "a"
   ]
  },
  {
   "cell_type": "code",
   "execution_count": 39,
   "id": "0f16f67d",
   "metadata": {},
   "outputs": [
    {
     "data": {
      "text/plain": [
       "1"
      ]
     },
     "execution_count": 39,
     "metadata": {},
     "output_type": "execute_result"
    }
   ],
   "source": [
    "int(True)"
   ]
  },
  {
   "cell_type": "code",
   "execution_count": 40,
   "id": "a3495f92",
   "metadata": {},
   "outputs": [
    {
     "data": {
      "text/plain": [
       "0"
      ]
     },
     "execution_count": 40,
     "metadata": {},
     "output_type": "execute_result"
    }
   ],
   "source": [
    "int(False)"
   ]
  },
  {
   "cell_type": "code",
   "execution_count": 41,
   "id": "4f832668",
   "metadata": {},
   "outputs": [
    {
     "data": {
      "text/plain": [
       "98"
      ]
     },
     "execution_count": 41,
     "metadata": {},
     "output_type": "execute_result"
    }
   ],
   "source": [
    "int(98.6)"
   ]
  },
  {
   "cell_type": "code",
   "execution_count": 42,
   "id": "c3a30f07",
   "metadata": {},
   "outputs": [
    {
     "data": {
      "text/plain": [
       "99"
      ]
     },
     "execution_count": 42,
     "metadata": {},
     "output_type": "execute_result"
    }
   ],
   "source": [
    "int('99')"
   ]
  },
  {
   "cell_type": "code",
   "execution_count": 43,
   "id": "ed9fba7f",
   "metadata": {},
   "outputs": [
    {
     "data": {
      "text/plain": [
       "-23"
      ]
     },
     "execution_count": 43,
     "metadata": {},
     "output_type": "execute_result"
    }
   ],
   "source": [
    "int('-23')"
   ]
  },
  {
   "cell_type": "code",
   "execution_count": 44,
   "id": "a8e1b18d",
   "metadata": {},
   "outputs": [
    {
     "ename": "ValueError",
     "evalue": "invalid literal for int() with base 10: 'abc'",
     "output_type": "error",
     "traceback": [
      "\u001b[0;31m---------------------------------------------------------------------------\u001b[0m",
      "\u001b[0;31mValueError\u001b[0m                                Traceback (most recent call last)",
      "\u001b[0;32m/var/folders/sc/qdlfmrjj53d2nb74qg378bq00000gn/T/ipykernel_2131/186767990.py\u001b[0m in \u001b[0;36m<module>\u001b[0;34m\u001b[0m\n\u001b[0;32m----> 1\u001b[0;31m \u001b[0mint\u001b[0m\u001b[0;34m(\u001b[0m\u001b[0;34m'abc'\u001b[0m\u001b[0;34m)\u001b[0m\u001b[0;34m\u001b[0m\u001b[0;34m\u001b[0m\u001b[0m\n\u001b[0m",
      "\u001b[0;31mValueError\u001b[0m: invalid literal for int() with base 10: 'abc'"
     ]
    }
   ],
   "source": [
    "int('abc')"
   ]
  },
  {
   "cell_type": "code",
   "execution_count": 45,
   "id": "ffe0c3cf",
   "metadata": {},
   "outputs": [
    {
     "data": {
      "text/plain": [
       "99.9"
      ]
     },
     "execution_count": 45,
     "metadata": {},
     "output_type": "execute_result"
    }
   ],
   "source": [
    "float('99.9')"
   ]
  },
  {
   "cell_type": "code",
   "execution_count": 46,
   "id": "216ae01b",
   "metadata": {},
   "outputs": [
    {
     "data": {
      "text/plain": [
       "10000000000000000000000000000000000000000000000000000000000000000000000000000000000000000000000000000"
      ]
     },
     "execution_count": 46,
     "metadata": {},
     "output_type": "execute_result"
    }
   ],
   "source": [
    "googol = 10 ** 100\n",
    "googol"
   ]
  },
  {
   "cell_type": "code",
   "execution_count": 47,
   "id": "f29b56a6",
   "metadata": {},
   "outputs": [
    {
     "data": {
      "text/plain": [
       "100000000000000000000000000000000000000000000000000000000000000000000000000000000000000000000000000000000000000000000000000000000000000000000000000000000000000000000000000000000000000000000000000000000"
      ]
     },
     "execution_count": 47,
     "metadata": {},
     "output_type": "execute_result"
    }
   ],
   "source": [
    "googol * googol"
   ]
  },
  {
   "cell_type": "code",
   "execution_count": 48,
   "id": "a435c221",
   "metadata": {},
   "outputs": [
    {
     "data": {
      "text/plain": [
       "'snap'"
      ]
     },
     "execution_count": 48,
     "metadata": {},
     "output_type": "execute_result"
    }
   ],
   "source": [
    "\"snap\""
   ]
  },
  {
   "cell_type": "code",
   "execution_count": 49,
   "id": "e2ebc5af",
   "metadata": {},
   "outputs": [
    {
     "data": {
      "text/plain": [
       "'snap'"
      ]
     },
     "execution_count": 49,
     "metadata": {},
     "output_type": "execute_result"
    }
   ],
   "source": [
    "'snap'"
   ]
  },
  {
   "cell_type": "code",
   "execution_count": 50,
   "id": "f2284533",
   "metadata": {},
   "outputs": [
    {
     "data": {
      "text/plain": [
       "'Apple Arcade 推出的最新遊戲《Next Stop Nowhere》，由位於洛杉磯的開發商 Night School Studio 出品。這款遊戲是太空公路之旅的夥伴冒險，其中不同角色間展開了一些精彩的劇情。在銀河系的外圍，每個人和所有事物之間都有充分的空間，Night School 希望這款遊戲可為近來可能感到孤立的玩家提供一些慰藉。'"
      ]
     },
     "execution_count": 50,
     "metadata": {},
     "output_type": "execute_result"
    }
   ],
   "source": [
    "#單行文字\n",
    "poem = \"Apple Arcade 推出的最新遊戲《Next Stop Nowhere》，由位於洛杉\\\n",
    "磯的開發商 Night School Studio 出品。這款遊戲\\\n",
    "是太空公路之旅的夥伴冒險，其中不同角色間展開了一些精彩的劇情。在銀河系\\\n",
    "的外圍，每個人和所有事物之間都有充分的空\\\n",
    "間，Night School 希望這款遊戲可為近來可能感到孤立的玩家提供一些慰藉。\"\n",
    "\n",
    "poem"
   ]
  },
  {
   "cell_type": "code",
   "execution_count": 52,
   "id": "89c83aaf",
   "metadata": {},
   "outputs": [
    {
     "name": "stdout",
     "output_type": "stream",
     "text": [
      "Apple Arcade 推出的最新遊戲《Next Stop Nowhere》，由位於洛杉磯的開發商 Night School Studio 出品。\n",
      "\n",
      "這款遊戲是太空公路之旅的夥伴冒險，其中不同角色間展開了一些精彩的劇情。\n",
      "\n",
      "在銀河系的外圍，每個人和所有事物之間都有充分的空間，Night School 希望這款遊戲可為近來可能感到孤立的玩家提供一些慰藉。\n"
     ]
    }
   ],
   "source": [
    "#多行文字\n",
    "poem = '''Apple Arcade 推出的最新遊戲《Next Stop Nowhere》，由位於洛杉磯的開發商 Night School Studio 出品。\n",
    "\n",
    "這款遊戲是太空公路之旅的夥伴冒險，其中不同角色間展開了一些精彩的劇情。\n",
    "\n",
    "在銀河系的外圍，每個人和所有事物之間都有充分的空間，Night School 希望這款遊戲可為近來可能感到孤立的玩家提供一些慰藉。'''\n",
    "print(poem)"
   ]
  },
  {
   "cell_type": "code",
   "execution_count": null,
   "id": "cef38fdf",
   "metadata": {},
   "outputs": [],
   "source": []
  }
 ],
 "metadata": {
  "kernelspec": {
   "display_name": "Python 3 (ipykernel)",
   "language": "python",
   "name": "python3"
  },
  "language_info": {
   "codemirror_mode": {
    "name": "ipython",
    "version": 3
   },
   "file_extension": ".py",
   "mimetype": "text/x-python",
   "name": "python",
   "nbconvert_exporter": "python",
   "pygments_lexer": "ipython3",
   "version": "3.8.7"
  }
 },
 "nbformat": 4,
 "nbformat_minor": 5
}
