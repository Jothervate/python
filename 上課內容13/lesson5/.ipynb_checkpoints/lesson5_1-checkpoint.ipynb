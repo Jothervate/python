{
 "cells": [
  {
   "cell_type": "code",
   "execution_count": 3,
   "id": "99cef0e8",
   "metadata": {},
   "outputs": [
    {
     "name": "stdout",
     "output_type": "stream",
     "text": [
      "[]\n"
     ]
    }
   ],
   "source": [
    "empty_list = []\n",
    "weekdays = ['星期一', '星期二', '星期三', '星期四', '星期五', '星期六', '星期日']\n",
    "big_birds = ['emu', 'ostrich', 'cassowary']\n",
    "another_empty_list = list()\n",
    "print(another_empty_list)"
   ]
  },
  {
   "cell_type": "code",
   "execution_count": 6,
   "id": "d4eec947",
   "metadata": {},
   "outputs": [
    {
     "data": {
      "text/plain": [
       "[1, 2, 3, 4]"
      ]
     },
     "execution_count": 6,
     "metadata": {},
     "output_type": "execute_result"
    }
   ],
   "source": [
    "list('cat')\n",
    "list(range(1,5))"
   ]
  },
  {
   "cell_type": "code",
   "execution_count": 13,
   "id": "a91d812f",
   "metadata": {},
   "outputs": [
    {
     "data": {
      "text/plain": [
       "'台北'"
      ]
     },
     "execution_count": 13,
     "metadata": {},
     "output_type": "execute_result"
    }
   ],
   "source": [
    "citys = ['台北', '台中', '高雄']\n",
    "citys[-3]"
   ]
  },
  {
   "cell_type": "code",
   "execution_count": 19,
   "id": "a82800c4",
   "metadata": {},
   "outputs": [
    {
     "name": "stdout",
     "output_type": "stream",
     "text": [
      "['H', 'i']\n",
      "('H', 'i')\n",
      "['H', 'I']\n"
     ]
    },
    {
     "ename": "TypeError",
     "evalue": "'tuple' object does not support item assignment",
     "output_type": "error",
     "traceback": [
      "\u001b[0;31m---------------------------------------------------------------------------\u001b[0m",
      "\u001b[0;31mTypeError\u001b[0m                                 Traceback (most recent call last)",
      "\u001b[0;32m/var/folders/sc/qdlfmrjj53d2nb74qg378bq00000gn/T/ipykernel_1126/3611846307.py\u001b[0m in \u001b[0;36m<module>\u001b[0;34m\u001b[0m\n\u001b[1;32m      5\u001b[0m \u001b[0mlist1\u001b[0m\u001b[0;34m[\u001b[0m\u001b[0;36m1\u001b[0m\u001b[0;34m]\u001b[0m \u001b[0;34m=\u001b[0m \u001b[0;34m'I'\u001b[0m\u001b[0;34m\u001b[0m\u001b[0;34m\u001b[0m\u001b[0m\n\u001b[1;32m      6\u001b[0m \u001b[0mprint\u001b[0m\u001b[0;34m(\u001b[0m\u001b[0mlist1\u001b[0m\u001b[0;34m)\u001b[0m\u001b[0;34m\u001b[0m\u001b[0;34m\u001b[0m\u001b[0m\n\u001b[0;32m----> 7\u001b[0;31m \u001b[0mtuple1\u001b[0m\u001b[0;34m[\u001b[0m\u001b[0;36m1\u001b[0m\u001b[0;34m]\u001b[0m \u001b[0;34m=\u001b[0m \u001b[0;34m'I'\u001b[0m\u001b[0;34m\u001b[0m\u001b[0;34m\u001b[0m\u001b[0m\n\u001b[0m",
      "\u001b[0;31mTypeError\u001b[0m: 'tuple' object does not support item assignment"
     ]
    }
   ],
   "source": [
    "list1 = ['H', 'i']\n",
    "tuple1 = ('H','i')\n",
    "print(list1)\n",
    "print(tuple1)\n",
    "list1[1] = 'I'\n",
    "print(list1)\n",
    "#tuple1[1] = 'I'"
   ]
  },
  {
   "cell_type": "code",
   "execution_count": 21,
   "id": "a7605053",
   "metadata": {},
   "outputs": [
    {
     "name": "stdout",
     "output_type": "stream",
     "text": [
      "5\n",
      "6\n",
      "7\n"
     ]
    }
   ],
   "source": [
    "a = 1\n",
    "b = 2\n",
    "c = 3\n",
    "\n",
    "a,b,c = (5, 6, 7)\n",
    "print(a)\n",
    "print(b)\n",
    "print(c)"
   ]
  },
  {
   "cell_type": "code",
   "execution_count": 25,
   "id": "7cc535a4",
   "metadata": {},
   "outputs": [
    {
     "name": "stdout",
     "output_type": "stream",
     "text": [
      "['l', 'o']\n",
      "['l', 'l', 'o', 'W', 'o', 'r', 'l', 'd']\n",
      "['H', 'e', 'l']\n"
     ]
    }
   ],
   "source": [
    "list1=['H','e','l','l','o', 'W','o','r','l','d']\n",
    "list1[0]\n",
    "print(list1[3:5])\n",
    "print(list1[2:])\n",
    "print(list1[:3])"
   ]
  },
  {
   "cell_type": "code",
   "execution_count": 31,
   "id": "34ccb00b",
   "metadata": {},
   "outputs": [
    {
     "data": {
      "text/plain": [
       "[['筆記電腦', '商用筆電'], ['APPLE', 'ASUS', 'HTC'], [3, '冰箱', 2, '洗衣機']]"
      ]
     },
     "execution_count": 31,
     "metadata": {},
     "output_type": "execute_result"
    }
   ],
   "source": [
    "nb = ['筆記電腦', '商用筆電']\n",
    "mobile = ['APPLE', 'ASUS', 'HTC']\n",
    "home = [3, '冰箱', 2, '洗衣機']\n",
    "all3c = [nb, mobile, home]\n"
   ]
  },
  {
   "cell_type": "code",
   "execution_count": 27,
   "id": "27d0cb36",
   "metadata": {},
   "outputs": [
    {
     "data": {
      "text/plain": [
       "[['筆記電腦', '商用筆電'], ['APPLE', 'ASUS', 'HTC'], [3, '冰箱', 2, '洗衣機']]"
      ]
     },
     "execution_count": 27,
     "metadata": {},
     "output_type": "execute_result"
    }
   ],
   "source": [
    "all3c"
   ]
  },
  {
   "cell_type": "code",
   "execution_count": 28,
   "id": "ef5f5a0d",
   "metadata": {},
   "outputs": [
    {
     "data": {
      "text/plain": [
       "['筆記電腦', '商用筆電']"
      ]
     },
     "execution_count": 28,
     "metadata": {},
     "output_type": "execute_result"
    }
   ],
   "source": [
    "all3c[0]"
   ]
  },
  {
   "cell_type": "code",
   "execution_count": 29,
   "id": "b544b0e0",
   "metadata": {},
   "outputs": [
    {
     "data": {
      "text/plain": [
       "['APPLE', 'ASUS', 'HTC']"
      ]
     },
     "execution_count": 29,
     "metadata": {},
     "output_type": "execute_result"
    }
   ],
   "source": [
    "all3c[1]"
   ]
  },
  {
   "cell_type": "code",
   "execution_count": 30,
   "id": "96edf3df",
   "metadata": {},
   "outputs": [
    {
     "data": {
      "text/plain": [
       "'洗衣機'"
      ]
     },
     "execution_count": 30,
     "metadata": {},
     "output_type": "execute_result"
    }
   ],
   "source": [
    "all3c[2][3]"
   ]
  },
  {
   "cell_type": "code",
   "execution_count": 33,
   "id": "d88e773d",
   "metadata": {},
   "outputs": [],
   "source": [
    "list1 = ['a' , 'b', 'c']\n",
    "#使用實體方法\n",
    "list1.append('d')\n",
    "list1.append('e')"
   ]
  },
  {
   "cell_type": "code",
   "execution_count": 34,
   "id": "384a8008",
   "metadata": {},
   "outputs": [
    {
     "data": {
      "text/plain": [
       "['a', 'b', 'c', 'd', 'e']"
      ]
     },
     "execution_count": 34,
     "metadata": {},
     "output_type": "execute_result"
    }
   ],
   "source": [
    "list1"
   ]
  },
  {
   "cell_type": "code",
   "execution_count": 35,
   "id": "cecdd6ff",
   "metadata": {},
   "outputs": [
    {
     "data": {
      "text/plain": [
       "5"
      ]
     },
     "execution_count": 35,
     "metadata": {},
     "output_type": "execute_result"
    }
   ],
   "source": [
    "len(list1)"
   ]
  },
  {
   "cell_type": "code",
   "execution_count": 37,
   "id": "97b7a18b",
   "metadata": {},
   "outputs": [
    {
     "name": "stdout",
     "output_type": "stream",
     "text": [
      "請輸入第1位學生的資料:76\n",
      "請輸入第2位學生的資料:84\n",
      "請輸入第3位學生的資料:92\n",
      "請輸入第4位學生的資料:69\n",
      "請輸入第5位學生的資料:93\n",
      "全班總成績為414分,平均為82.80分\n"
     ]
    }
   ],
   "source": [
    "nums = 5\n",
    "scores = []\n",
    "sum = 0\n",
    "\n",
    "for i in range(nums):\n",
    "    inputValue = int(input(f\"請輸入第{i+1}位學生的資料:\"))\n",
    "    scores.append(inputValue)\n",
    "\n",
    "for score in scores:\n",
    "    sum += score\n",
    "    \n",
    "ave = sum / nums\n",
    "print(\"全班總成績為{0:d}分,平均為{1:.2f}分\".format(sum,ave))"
   ]
  },
  {
   "cell_type": "code",
   "execution_count": 38,
   "id": "2929216a",
   "metadata": {},
   "outputs": [
    {
     "data": {
      "text/plain": [
       "[[61, 75, 95, 88, 78],\n",
       " [53, 87, 73, 56, 51],\n",
       " [89, 75, 55, 96, 53],\n",
       " [82, 76, 68, 58, 58],\n",
       " [92, 85, 85, 50, 69],\n",
       " [85, 64, 53, 65, 88],\n",
       " [57, 76, 81, 75, 67],\n",
       " [76, 99, 96, 100, 64],\n",
       " [91, 83, 53, 86, 56],\n",
       " [57, 87, 62, 87, 88],\n",
       " [72, 79, 96, 52, 93],\n",
       " [94, 55, 90, 73, 82],\n",
       " [66, 68, 90, 73, 67],\n",
       " [69, 78, 84, 92, 61],\n",
       " [81, 74, 89, 61, 82],\n",
       " [84, 70, 54, 82, 86],\n",
       " [88, 54, 65, 71, 62],\n",
       " [70, 84, 74, 92, 56],\n",
       " [76, 77, 78, 55, 51],\n",
       " [83, 92, 84, 89, 71],\n",
       " [99, 84, 56, 79, 93],\n",
       " [66, 64, 86, 95, 97],\n",
       " [89, 87, 91, 84, 90],\n",
       " [62, 98, 51, 59, 81],\n",
       " [73, 77, 98, 99, 94],\n",
       " [96, 64, 50, 90, 77],\n",
       " [79, 53, 50, 94, 84],\n",
       " [75, 72, 75, 67, 89],\n",
       " [92, 52, 95, 71, 60],\n",
       " [77, 66, 94, 65, 92],\n",
       " [55, 88, 74, 85, 88],\n",
       " [63, 88, 73, 94, 96],\n",
       " [80, 50, 54, 99, 55],\n",
       " [68, 72, 92, 78, 99],\n",
       " [79, 90, 67, 78, 92],\n",
       " [54, 70, 96, 68, 66],\n",
       " [97, 50, 71, 82, 93],\n",
       " [93, 99, 54, 86, 91],\n",
       " [72, 87, 77, 91, 84],\n",
       " [84, 90, 80, 84, 83],\n",
       " [90, 54, 92, 93, 84],\n",
       " [72, 64, 77, 54, 50],\n",
       " [90, 96, 61, 83, 67],\n",
       " [88, 86, 80, 85, 97],\n",
       " [62, 78, 95, 91, 69],\n",
       " [53, 85, 88, 61, 59],\n",
       " [64, 58, 62, 54, 81],\n",
       " [99, 54, 84, 96, 57],\n",
       " [75, 66, 50, 64, 87],\n",
       " [66, 83, 78, 95, 77]]"
      ]
     },
     "execution_count": 38,
     "metadata": {},
     "output_type": "execute_result"
    }
   ],
   "source": [
    "import random\n",
    "\n",
    "students = []\n",
    "for _ in range(50):\n",
    "    scores = []\n",
    "    for _ in range(5):\n",
    "        scores.append(random.randint(50,100))\n",
    "    students.append(scores)\n",
    "students"
   ]
  },
  {
   "cell_type": "code",
   "execution_count": null,
   "id": "3abc181c",
   "metadata": {},
   "outputs": [],
   "source": []
  }
 ],
 "metadata": {
  "kernelspec": {
   "display_name": "Python 3 (ipykernel)",
   "language": "python",
   "name": "python3"
  },
  "language_info": {
   "codemirror_mode": {
    "name": "ipython",
    "version": 3
   },
   "file_extension": ".py",
   "mimetype": "text/x-python",
   "name": "python",
   "nbconvert_exporter": "python",
   "pygments_lexer": "ipython3",
   "version": "3.8.7"
  }
 },
 "nbformat": 4,
 "nbformat_minor": 5
}
