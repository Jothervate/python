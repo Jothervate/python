{
 "cells": [
  {
   "cell_type": "code",
   "execution_count": 3,
   "id": "5bfe9aaa",
   "metadata": {},
   "outputs": [
    {
     "name": "stdout",
     "output_type": "stream",
     "text": [
      "[]\n"
     ]
    }
   ],
   "source": [
    "empty_list = []\n",
    "weekdays = ['星期一', '星期二', '星期三', '星期四', '星期五', '星期六', '星期日']\n",
    "big_birds = ['emu', 'ostrich', 'cassowary']\n",
    "another_empty_list = list()\n",
    "print(another_empty_list)"
   ]
  },
  {
   "cell_type": "code",
   "execution_count": 6,
   "id": "8a26775a",
   "metadata": {},
   "outputs": [
    {
     "data": {
      "text/plain": [
       "[1, 2, 3, 4]"
      ]
     },
     "execution_count": 6,
     "metadata": {},
     "output_type": "execute_result"
    }
   ],
   "source": [
    "list('cat')\n",
    "list(range(1,5))"
   ]
  },
  {
   "cell_type": "code",
   "execution_count": 13,
   "id": "56ef6ac7",
   "metadata": {},
   "outputs": [
    {
     "data": {
      "text/plain": [
       "'台北'"
      ]
     },
     "execution_count": 13,
     "metadata": {},
     "output_type": "execute_result"
    }
   ],
   "source": [
    "citys = ['台北', '台中', '高雄']\n",
    "citys[-3]"
   ]
  },
  {
   "cell_type": "code",
   "execution_count": 19,
   "id": "d50619b3",
   "metadata": {},
   "outputs": [
    {
     "name": "stdout",
     "output_type": "stream",
     "text": [
      "['H', 'i']\n",
      "('H', 'i')\n",
      "['H', 'I']\n"
     ]
    },
    {
     "ename": "TypeError",
     "evalue": "'tuple' object does not support item assignment",
     "output_type": "error",
     "traceback": [
      "\u001b[0;31m---------------------------------------------------------------------------\u001b[0m",
      "\u001b[0;31mTypeError\u001b[0m                                 Traceback (most recent call last)",
      "\u001b[0;32m/var/folders/sc/qdlfmrjj53d2nb74qg378bq00000gn/T/ipykernel_1126/3611846307.py\u001b[0m in \u001b[0;36m<module>\u001b[0;34m\u001b[0m\n\u001b[1;32m      5\u001b[0m \u001b[0mlist1\u001b[0m\u001b[0;34m[\u001b[0m\u001b[0;36m1\u001b[0m\u001b[0;34m]\u001b[0m \u001b[0;34m=\u001b[0m \u001b[0;34m'I'\u001b[0m\u001b[0;34m\u001b[0m\u001b[0;34m\u001b[0m\u001b[0m\n\u001b[1;32m      6\u001b[0m \u001b[0mprint\u001b[0m\u001b[0;34m(\u001b[0m\u001b[0mlist1\u001b[0m\u001b[0;34m)\u001b[0m\u001b[0;34m\u001b[0m\u001b[0;34m\u001b[0m\u001b[0m\n\u001b[0;32m----> 7\u001b[0;31m \u001b[0mtuple1\u001b[0m\u001b[0;34m[\u001b[0m\u001b[0;36m1\u001b[0m\u001b[0;34m]\u001b[0m \u001b[0;34m=\u001b[0m \u001b[0;34m'I'\u001b[0m\u001b[0;34m\u001b[0m\u001b[0;34m\u001b[0m\u001b[0m\n\u001b[0m",
      "\u001b[0;31mTypeError\u001b[0m: 'tuple' object does not support item assignment"
     ]
    }
   ],
   "source": [
    "list1 = ['H', 'i']\n",
    "tuple1 = ('H','i')\n",
    "print(list1)\n",
    "print(tuple1)\n",
    "list1[1] = 'I'\n",
    "print(list1)\n",
    "#tuple1[1] = 'I'"
   ]
  },
  {
   "cell_type": "code",
   "execution_count": 21,
   "id": "f570c1de",
   "metadata": {},
   "outputs": [
    {
     "name": "stdout",
     "output_type": "stream",
     "text": [
      "5\n",
      "6\n",
      "7\n"
     ]
    }
   ],
   "source": [
    "a = 1\n",
    "b = 2\n",
    "c = 3\n",
    "\n",
    "a,b,c = (5, 6, 7)\n",
    "print(a)\n",
    "print(b)\n",
    "print(c)"
   ]
  },
  {
   "cell_type": "code",
   "execution_count": 25,
   "id": "3662737f",
   "metadata": {},
   "outputs": [
    {
     "name": "stdout",
     "output_type": "stream",
     "text": [
      "['l', 'o']\n",
      "['l', 'l', 'o', 'W', 'o', 'r', 'l', 'd']\n",
      "['H', 'e', 'l']\n"
     ]
    }
   ],
   "source": [
    "list1=['H','e','l','l','o', 'W','o','r','l','d']\n",
    "list1[0]\n",
    "print(list1[3:5])\n",
    "print(list1[2:])\n",
    "print(list1[:3])"
   ]
  },
  {
   "cell_type": "code",
   "execution_count": 31,
   "id": "df7243d6",
   "metadata": {},
   "outputs": [
    {
     "data": {
      "text/plain": [
       "[['筆記電腦', '商用筆電'], ['APPLE', 'ASUS', 'HTC'], [3, '冰箱', 2, '洗衣機']]"
      ]
     },
     "execution_count": 31,
     "metadata": {},
     "output_type": "execute_result"
    }
   ],
   "source": [
    "nb = ['筆記電腦', '商用筆電']\n",
    "mobile = ['APPLE', 'ASUS', 'HTC']\n",
    "home = [3, '冰箱', 2, '洗衣機']\n",
    "all3c = [nb, mobile, home]\n"
   ]
  },
  {
   "cell_type": "code",
   "execution_count": 27,
   "id": "2cd0a25a",
   "metadata": {},
   "outputs": [
    {
     "data": {
      "text/plain": [
       "[['筆記電腦', '商用筆電'], ['APPLE', 'ASUS', 'HTC'], [3, '冰箱', 2, '洗衣機']]"
      ]
     },
     "execution_count": 27,
     "metadata": {},
     "output_type": "execute_result"
    }
   ],
   "source": [
    "all3c"
   ]
  },
  {
   "cell_type": "code",
   "execution_count": 28,
   "id": "b2c7ac56",
   "metadata": {},
   "outputs": [
    {
     "data": {
      "text/plain": [
       "['筆記電腦', '商用筆電']"
      ]
     },
     "execution_count": 28,
     "metadata": {},
     "output_type": "execute_result"
    }
   ],
   "source": [
    "all3c[0]"
   ]
  },
  {
   "cell_type": "code",
   "execution_count": 29,
   "id": "6df87292",
   "metadata": {},
   "outputs": [
    {
     "data": {
      "text/plain": [
       "['APPLE', 'ASUS', 'HTC']"
      ]
     },
     "execution_count": 29,
     "metadata": {},
     "output_type": "execute_result"
    }
   ],
   "source": [
    "all3c[1]"
   ]
  },
  {
   "cell_type": "code",
   "execution_count": 30,
   "id": "ec9b7948",
   "metadata": {},
   "outputs": [
    {
     "data": {
      "text/plain": [
       "'洗衣機'"
      ]
     },
     "execution_count": 30,
     "metadata": {},
     "output_type": "execute_result"
    }
   ],
   "source": [
    "all3c[2][3]"
   ]
  },
  {
   "cell_type": "code",
   "execution_count": 33,
   "id": "cd62ee9a",
   "metadata": {},
   "outputs": [],
   "source": [
    "list1 = ['a' , 'b', 'c']\n",
    "#使用實體方法\n",
    "list1.append('d')\n",
    "list1.append('e')"
   ]
  },
  {
   "cell_type": "code",
   "execution_count": 34,
   "id": "e8ddf787",
   "metadata": {},
   "outputs": [
    {
     "data": {
      "text/plain": [
       "['a', 'b', 'c', 'd', 'e']"
      ]
     },
     "execution_count": 34,
     "metadata": {},
     "output_type": "execute_result"
    }
   ],
   "source": [
    "list1"
   ]
  },
  {
   "cell_type": "code",
   "execution_count": 35,
   "id": "6fc8a386",
   "metadata": {},
   "outputs": [
    {
     "data": {
      "text/plain": [
       "5"
      ]
     },
     "execution_count": 35,
     "metadata": {},
     "output_type": "execute_result"
    }
   ],
   "source": [
    "len(list1)"
   ]
  },
  {
   "cell_type": "code",
   "execution_count": 37,
   "id": "6456b7df",
   "metadata": {},
   "outputs": [
    {
     "name": "stdout",
     "output_type": "stream",
     "text": [
      "請輸入第1位學生的資料:76\n",
      "請輸入第2位學生的資料:84\n",
      "請輸入第3位學生的資料:92\n",
      "請輸入第4位學生的資料:69\n",
      "請輸入第5位學生的資料:93\n",
      "全班總成績為414分,平均為82.80分\n"
     ]
    }
   ],
   "source": [
    "nums = 5\n",
    "scores = []\n",
    "sum = 0\n",
    "\n",
    "for i in range(nums):\n",
    "    inputValue = int(input(f\"請輸入第{i+1}位學生的資料:\"))\n",
    "    scores.append(inputValue)\n",
    "\n",
    "for score in scores:\n",
    "    sum += score\n",
    "ave = sum / nums\n",
    "print(\"全班總成績為{0:d}分,平均為{1:.2f}分\".format(sum,ave))"
   ]
  },
  {
   "cell_type": "code",
   "execution_count": null,
   "id": "0484469f",
   "metadata": {},
   "outputs": [],
   "source": []
  }
 ],
 "metadata": {
  "kernelspec": {
   "display_name": "Python 3 (ipykernel)",
   "language": "python",
   "name": "python3"
  },
  "language_info": {
   "codemirror_mode": {
    "name": "ipython",
    "version": 3
   },
   "file_extension": ".py",
   "mimetype": "text/x-python",
   "name": "python",
   "nbconvert_exporter": "python",
   "pygments_lexer": "ipython3",
   "version": "3.8.7"
  }
 },
 "nbformat": 4,
 "nbformat_minor": 5
}
