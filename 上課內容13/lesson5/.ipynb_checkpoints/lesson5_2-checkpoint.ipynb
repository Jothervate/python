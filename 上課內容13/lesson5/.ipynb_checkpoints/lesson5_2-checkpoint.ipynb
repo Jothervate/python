{
 "cells": [
  {
   "cell_type": "code",
   "execution_count": 1,
   "id": "186ffcc9",
   "metadata": {},
   "outputs": [
    {
     "data": {
      "text/plain": [
       "['台北', '台中', '高雄', '台南']"
      ]
     },
     "execution_count": 1,
     "metadata": {},
     "output_type": "execute_result"
    }
   ],
   "source": [
    "cities = ['台北', '台中', '高雄']\n",
    "cities.append('台南')\n",
    "cities"
   ]
  },
  {
   "cell_type": "code",
   "execution_count": 2,
   "id": "ee804947",
   "metadata": {},
   "outputs": [
    {
     "data": {
      "text/plain": [
       "['台北', '台中', '高雄', '台南', '花蓮', '台東']"
      ]
     },
     "execution_count": 2,
     "metadata": {},
     "output_type": "execute_result"
    }
   ],
   "source": [
    "cities = ['台北', '台中', '高雄', '台南']\n",
    "others = ['花蓮', '台東']\n",
    "cities.extend(others)\n",
    "cities"
   ]
  },
  {
   "cell_type": "code",
   "execution_count": 3,
   "id": "1aef5ea8",
   "metadata": {},
   "outputs": [
    {
     "data": {
      "text/plain": [
       "['台北', '台中', '高雄', '台南', '花蓮', '台東']"
      ]
     },
     "execution_count": 3,
     "metadata": {},
     "output_type": "execute_result"
    }
   ],
   "source": [
    "cities = ['台北', '台中', '高雄', '台南']\n",
    "others = ['花蓮', '台東']\n",
    "cities += others\n",
    "cities"
   ]
  },
  {
   "cell_type": "code",
   "execution_count": 4,
   "id": "f2dd9c37",
   "metadata": {},
   "outputs": [
    {
     "data": {
      "text/plain": [
       "['台南', '台北', '台中', '高雄']"
      ]
     },
     "execution_count": 4,
     "metadata": {},
     "output_type": "execute_result"
    }
   ],
   "source": [
    "#實體方法insert()\n",
    "\n",
    "citys = ['台北', '台中', '高雄']\n",
    "citys.insert(0,'台南')\n",
    "citys"
   ]
  },
  {
   "cell_type": "code",
   "execution_count": 5,
   "id": "8b16a823",
   "metadata": {},
   "outputs": [
    {
     "data": {
      "text/plain": [
       "['台北', '台中', '高雄', '台南']"
      ]
     },
     "execution_count": 5,
     "metadata": {},
     "output_type": "execute_result"
    }
   ],
   "source": [
    "#實體方法pop()\n",
    "citys = ['台北', '台中', '高雄', '台南', '花蓮']\n",
    "citys.pop()\n",
    "citys"
   ]
  },
  {
   "cell_type": "code",
   "execution_count": 6,
   "id": "a298649a",
   "metadata": {},
   "outputs": [
    {
     "data": {
      "text/plain": [
       "['台中', '高雄', '台南', '花蓮']"
      ]
     },
     "execution_count": 6,
     "metadata": {},
     "output_type": "execute_result"
    }
   ],
   "source": [
    "citys = ['台北', '台中', '高雄', '台南', '花蓮']\n",
    "citys.pop(0)\n",
    "citys"
   ]
  },
  {
   "cell_type": "code",
   "execution_count": 7,
   "id": "d74ddab8",
   "metadata": {},
   "outputs": [
    {
     "data": {
      "text/plain": [
       "['台北', '台中', '高雄', '台南']"
      ]
     },
     "execution_count": 7,
     "metadata": {},
     "output_type": "execute_result"
    }
   ],
   "source": [
    "#del \n",
    "citys = ['台北', '台中', '高雄', '台南', '花蓮']\n",
    "del citys[4]\n",
    "citys"
   ]
  },
  {
   "cell_type": "code",
   "execution_count": 8,
   "id": "036e9d6b",
   "metadata": {},
   "outputs": [
    {
     "data": {
      "text/plain": [
       "['筆記電腦', '商用筆電', 'ASUS', 'HTC']"
      ]
     },
     "execution_count": 8,
     "metadata": {},
     "output_type": "execute_result"
    }
   ],
   "source": [
    "#remove()\n",
    "all3c = ['筆記電腦', '商用筆電', 'APPLE', 'ASUS', 'HTC'] \n",
    "all3c.remove('APPLE')\n",
    "all3c"
   ]
  },
  {
   "cell_type": "code",
   "execution_count": 10,
   "id": "5c1668e4",
   "metadata": {},
   "outputs": [
    {
     "data": {
      "text/plain": [
       "['Chico', 'Groucho', 'Harpo']"
      ]
     },
     "execution_count": 10,
     "metadata": {},
     "output_type": "execute_result"
    }
   ],
   "source": [
    "marxes =  ['Groucho', 'Chico', 'Harpo'] \n",
    "sorted_marxes = sorted(marxes)\n",
    "sorted_marxes"
   ]
  },
  {
   "cell_type": "code",
   "execution_count": 11,
   "id": "95c0f987",
   "metadata": {},
   "outputs": [
    {
     "data": {
      "text/plain": [
       "['Chico', 'Groucho', 'Harpo']"
      ]
     },
     "execution_count": 11,
     "metadata": {},
     "output_type": "execute_result"
    }
   ],
   "source": [
    "marxes =  ['Groucho', 'Chico', 'Harpo']\n",
    "marxes.sort()\n",
    "marxes"
   ]
  },
  {
   "cell_type": "code",
   "execution_count": 13,
   "id": "5a11d33e",
   "metadata": {},
   "outputs": [
    {
     "data": {
      "text/plain": [
       "[11, 9, 8, 7, 5, 3]"
      ]
     },
     "execution_count": 13,
     "metadata": {},
     "output_type": "execute_result"
    }
   ],
   "source": [
    "num2 = [3, 8, 11, 7, 9 , 5]\n",
    "sorted(num2,reverse=True)"
   ]
  },
  {
   "cell_type": "code",
   "execution_count": 14,
   "id": "e4491359",
   "metadata": {},
   "outputs": [
    {
     "name": "stdout",
     "output_type": "stream",
     "text": [
      "請輸入數值:5\n",
      "請輸入第1數值:78\n",
      "請輸入第2數值:45\n",
      "請輸入第3數值:92\n",
      "請輸入第4數值:34\n",
      "請輸入第5數值:67\n",
      "34  45  67  78  92  "
     ]
    }
   ],
   "source": [
    "integers = list()\n",
    "nums = int(input(\"請輸入數值:\"))\n",
    "for i in range(nums):\n",
    "    inputNum = int(input(f'請輸入第{i+1}數值:'))\n",
    "    integers.append(inputNum)\n",
    "#排序\n",
    "integers.sort()\n",
    "\n",
    "#顯示\n",
    "for item in integers:\n",
    "    print(item,end='  ')\n"
   ]
  },
  {
   "cell_type": "code",
   "execution_count": 15,
   "id": "86426620",
   "metadata": {},
   "outputs": [
    {
     "data": {
      "text/plain": [
       "{}"
      ]
     },
     "execution_count": 15,
     "metadata": {},
     "output_type": "execute_result"
    }
   ],
   "source": [
    "empty_dict = {}\n",
    "empty_dict"
   ]
  },
  {
   "cell_type": "code",
   "execution_count": 16,
   "id": "4d48c57d",
   "metadata": {},
   "outputs": [
    {
     "data": {
      "text/plain": [
       "{'tw': 'Taiwan', 'jp': 'Japan', 'hk': 'Hong Kong'}"
      ]
     },
     "execution_count": 16,
     "metadata": {},
     "output_type": "execute_result"
    }
   ],
   "source": [
    "codes = {\n",
    "    'tw':'Taiwan',\n",
    "    'jp':'Japan',\n",
    "    'hk':'Hong Kong'}\n",
    "codes"
   ]
  },
  {
   "cell_type": "code",
   "execution_count": 17,
   "id": "e8098307",
   "metadata": {},
   "outputs": [
    {
     "data": {
      "text/plain": [
       "'Taiwan'"
      ]
     },
     "execution_count": 17,
     "metadata": {},
     "output_type": "execute_result"
    }
   ],
   "source": [
    "codes['tw']"
   ]
  },
  {
   "cell_type": "code",
   "execution_count": 18,
   "id": "bdf7f92a",
   "metadata": {},
   "outputs": [
    {
     "data": {
      "text/plain": [
       "'Japan'"
      ]
     },
     "execution_count": 18,
     "metadata": {},
     "output_type": "execute_result"
    }
   ],
   "source": [
    "codes['jp']"
   ]
  },
  {
   "cell_type": "code",
   "execution_count": 19,
   "id": "d00d2274",
   "metadata": {},
   "outputs": [
    {
     "data": {
      "text/plain": [
       "'Hong Kong'"
      ]
     },
     "execution_count": 19,
     "metadata": {},
     "output_type": "execute_result"
    }
   ],
   "source": [
    "codes['hk']"
   ]
  },
  {
   "cell_type": "code",
   "execution_count": 20,
   "id": "ba44b27c",
   "metadata": {},
   "outputs": [
    {
     "ename": "KeyError",
     "evalue": "'us'",
     "output_type": "error",
     "traceback": [
      "\u001b[0;31m---------------------------------------------------------------------------\u001b[0m",
      "\u001b[0;31mKeyError\u001b[0m                                  Traceback (most recent call last)",
      "\u001b[0;32m/var/folders/sc/qdlfmrjj53d2nb74qg378bq00000gn/T/ipykernel_1951/425905863.py\u001b[0m in \u001b[0;36m<module>\u001b[0;34m\u001b[0m\n\u001b[0;32m----> 1\u001b[0;31m \u001b[0mcodes\u001b[0m\u001b[0;34m[\u001b[0m\u001b[0;34m'us'\u001b[0m\u001b[0;34m]\u001b[0m\u001b[0;34m\u001b[0m\u001b[0;34m\u001b[0m\u001b[0m\n\u001b[0m",
      "\u001b[0;31mKeyError\u001b[0m: 'us'"
     ]
    }
   ],
   "source": [
    "codes['us']"
   ]
  },
  {
   "cell_type": "code",
   "execution_count": 21,
   "id": "b9a7befa",
   "metadata": {},
   "outputs": [
    {
     "data": {
      "text/plain": [
       "[{'國文': 85, '英文': 84, '數學': 65, '社會': 85, '自然': 71},\n",
       " {'國文': 50, '英文': 92, '數學': 93, '社會': 54, '自然': 67},\n",
       " {'國文': 63, '英文': 76, '數學': 70, '社會': 82, '自然': 69},\n",
       " {'國文': 60, '英文': 71, '數學': 51, '社會': 73, '自然': 84},\n",
       " {'國文': 93, '英文': 54, '數學': 73, '社會': 69, '自然': 89},\n",
       " {'國文': 97, '英文': 96, '數學': 55, '社會': 73, '自然': 90},\n",
       " {'國文': 82, '英文': 57, '數學': 87, '社會': 66, '自然': 80},\n",
       " {'國文': 51, '英文': 56, '數學': 55, '社會': 98, '自然': 70},\n",
       " {'國文': 70, '英文': 97, '數學': 87, '社會': 89, '自然': 88},\n",
       " {'國文': 75, '英文': 92, '數學': 89, '社會': 86, '自然': 52},\n",
       " {'國文': 97, '英文': 88, '數學': 86, '社會': 87, '自然': 74},\n",
       " {'國文': 58, '英文': 60, '數學': 67, '社會': 65, '自然': 83},\n",
       " {'國文': 60, '英文': 96, '數學': 84, '社會': 60, '自然': 52},\n",
       " {'國文': 72, '英文': 96, '數學': 99, '社會': 70, '自然': 52},\n",
       " {'國文': 77, '英文': 99, '數學': 56, '社會': 53, '自然': 92},\n",
       " {'國文': 76, '英文': 50, '數學': 82, '社會': 74, '自然': 84},\n",
       " {'國文': 68, '英文': 85, '數學': 60, '社會': 50, '自然': 93},\n",
       " {'國文': 84, '英文': 50, '數學': 63, '社會': 61, '自然': 97},\n",
       " {'國文': 62, '英文': 80, '數學': 80, '社會': 87, '自然': 90},\n",
       " {'國文': 71, '英文': 61, '數學': 83, '社會': 87, '自然': 73},\n",
       " {'國文': 53, '英文': 74, '數學': 73, '社會': 87, '自然': 88},\n",
       " {'國文': 68, '英文': 98, '數學': 76, '社會': 66, '自然': 56},\n",
       " {'國文': 52, '英文': 63, '數學': 67, '社會': 60, '自然': 63},\n",
       " {'國文': 68, '英文': 100, '數學': 57, '社會': 55, '自然': 69},\n",
       " {'國文': 59, '英文': 91, '數學': 92, '社會': 66, '自然': 92},\n",
       " {'國文': 82, '英文': 58, '數學': 53, '社會': 71, '自然': 76},\n",
       " {'國文': 76, '英文': 96, '數學': 72, '社會': 82, '自然': 89},\n",
       " {'國文': 68, '英文': 97, '數學': 84, '社會': 65, '自然': 70},\n",
       " {'國文': 65, '英文': 67, '數學': 80, '社會': 87, '自然': 95},\n",
       " {'國文': 56, '英文': 91, '數學': 75, '社會': 52, '自然': 90},\n",
       " {'國文': 91, '英文': 76, '數學': 84, '社會': 62, '自然': 100},\n",
       " {'國文': 68, '英文': 73, '數學': 64, '社會': 52, '自然': 100},\n",
       " {'國文': 91, '英文': 68, '數學': 73, '社會': 58, '自然': 97},\n",
       " {'國文': 93, '英文': 71, '數學': 68, '社會': 95, '自然': 72},\n",
       " {'國文': 93, '英文': 93, '數學': 89, '社會': 98, '自然': 71},\n",
       " {'國文': 99, '英文': 96, '數學': 96, '社會': 67, '自然': 66},\n",
       " {'國文': 77, '英文': 82, '數學': 99, '社會': 71, '自然': 88},\n",
       " {'國文': 70, '英文': 87, '數學': 94, '社會': 83, '自然': 60},\n",
       " {'國文': 86, '英文': 74, '數學': 75, '社會': 75, '自然': 70},\n",
       " {'國文': 65, '英文': 81, '數學': 56, '社會': 93, '自然': 60},\n",
       " {'國文': 71, '英文': 66, '數學': 58, '社會': 79, '自然': 63},\n",
       " {'國文': 89, '英文': 63, '數學': 94, '社會': 80, '自然': 65},\n",
       " {'國文': 62, '英文': 72, '數學': 87, '社會': 60, '自然': 68},\n",
       " {'國文': 57, '英文': 93, '數學': 54, '社會': 79, '自然': 95},\n",
       " {'國文': 71, '英文': 83, '數學': 84, '社會': 60, '自然': 92},\n",
       " {'國文': 62, '英文': 84, '數學': 86, '社會': 73, '自然': 56},\n",
       " {'國文': 70, '英文': 98, '數學': 98, '社會': 56, '自然': 91},\n",
       " {'國文': 59, '英文': 82, '數學': 62, '社會': 100, '自然': 53},\n",
       " {'國文': 77, '英文': 85, '數學': 57, '社會': 87, '自然': 65},\n",
       " {'國文': 64, '英文': 91, '數學': 57, '社會': 98, '自然': 94}]"
      ]
     },
     "execution_count": 21,
     "metadata": {},
     "output_type": "execute_result"
    }
   ],
   "source": [
    "import random\n",
    "students = list()\n",
    "for _ in range(50):\n",
    "    scores = {}\n",
    "    subjects =  [\"國文\",\"英文\",\"數學\",\"社會\",\"自然\"]\n",
    "    for subject in subjects:\n",
    "        scores[subject] = random.randint(50,100)\n",
    "    \n",
    "    students.append(scores)\n",
    "students"
   ]
  },
  {
   "cell_type": "code",
   "execution_count": null,
   "id": "79478ae9",
   "metadata": {},
   "outputs": [],
   "source": []
  }
 ],
 "metadata": {
  "kernelspec": {
   "display_name": "Python 3 (ipykernel)",
   "language": "python",
   "name": "python3"
  },
  "language_info": {
   "codemirror_mode": {
    "name": "ipython",
    "version": 3
   },
   "file_extension": ".py",
   "mimetype": "text/x-python",
   "name": "python",
   "nbconvert_exporter": "python",
   "pygments_lexer": "ipython3",
   "version": "3.8.7"
  }
 },
 "nbformat": 4,
 "nbformat_minor": 5
}
