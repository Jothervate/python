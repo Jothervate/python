{
 "cells": [
  {
   "cell_type": "code",
   "execution_count": null,
   "id": "eccb17f7",
   "metadata": {},
   "outputs": [],
   "source": [
    "import requests\n",
    "url = \"https://tcgbusfs.blob.core.windows.net/blobyoubike/YouBikeTP.json\"\n",
    "response=requests.get(url)\n",
    "if response.status_code == 200:\n",
    "    print(\"下載成功\")\n",
    "    print(response.text)"
   ]
  },
  {
   "cell_type": "code",
   "execution_count": null,
   "id": "dac2781e",
   "metadata": {},
   "outputs": [],
   "source": [
    "type(response.json())"
   ]
  },
  {
   "cell_type": "code",
   "execution_count": null,
   "id": "bb5e5447",
   "metadata": {},
   "outputs": [],
   "source": [
    "allData = response.json()\n",
    "allData[\"retCode\"]"
   ]
  },
  {
   "cell_type": "code",
   "execution_count": null,
   "id": "2f711553",
   "metadata": {},
   "outputs": [],
   "source": [
    "allData[\"retVal\"]['0002']"
   ]
  },
  {
   "cell_type": "code",
   "execution_count": null,
   "id": "5131e176",
   "metadata": {},
   "outputs": [],
   "source": []
  }
 ],
 "metadata": {
  "kernelspec": {
   "display_name": "Python 3 (ipykernel)",
   "language": "python",
   "name": "python3"
  },
  "language_info": {
   "codemirror_mode": {
    "name": "ipython",
    "version": 3
   },
   "file_extension": ".py",
   "mimetype": "text/x-python",
   "name": "python",
   "nbconvert_exporter": "python",
   "pygments_lexer": "ipython3",
   "version": "3.8.7"
  }
 },
 "nbformat": 4,
 "nbformat_minor": 5
}
