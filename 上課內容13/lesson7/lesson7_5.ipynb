{
 "cells": [
  {
   "cell_type": "code",
   "execution_count": null,
   "id": "b11cad3c",
   "metadata": {},
   "outputs": [],
   "source": [
    "import requests\n",
    "url = 'http://www.taisugar.com.tw/Upload/UserFiles/%E5%8F%B0%E7%B3%96%E4%BC%91%E9%96%92%E9%81%8A%E6%86%A9%E4%BA%8B%E6%A5%AD%E9%83%A8%E5%90%84%E6%93%9A%E9%BB%9E%E7%B0%A1%E4%BB%8B.csv'\n",
    "response = requests.get(url)\n",
    "if response.status_code == 200:\n",
    "    print(\"下載成功\")\n",
    "    print(\"內容如下:\")\n",
    "    print(response.text)"
   ]
  }
 ],
 "metadata": {
  "kernelspec": {
   "display_name": "Python 3 (ipykernel)",
   "language": "python",
   "name": "python3"
  },
  "language_info": {
   "codemirror_mode": {
    "name": "ipython",
    "version": 3
   },
   "file_extension": ".py",
   "mimetype": "text/x-python",
   "name": "python",
   "nbconvert_exporter": "python",
   "pygments_lexer": "ipython3",
   "version": "3.8.7"
  }
 },
 "nbformat": 4,
 "nbformat_minor": 5
}
