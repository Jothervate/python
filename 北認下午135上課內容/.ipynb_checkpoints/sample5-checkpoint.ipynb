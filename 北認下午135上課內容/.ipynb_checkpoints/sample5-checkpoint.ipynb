{
 "cells": [
  {
   "cell_type": "code",
   "execution_count": 1,
   "metadata": {},
   "outputs": [
    {
     "name": "stdout",
     "output_type": "stream",
     "text": [
      "Flopsy\n",
      "Mopsy\n",
      "Cottontail\n",
      "Peter\n"
     ]
    }
   ],
   "source": [
    "rabbits = ['Flopsy', 'Mopsy', 'Cottontail', 'Peter']\n",
    "current = 0\n",
    "while current < len(rabbits):\n",
    "    print(rabbits[current])\n",
    "    current += 1\n"
   ]
  },
  {
   "cell_type": "code",
   "execution_count": 3,
   "metadata": {},
   "outputs": [
    {
     "name": "stdout",
     "output_type": "stream",
     "text": [
      "Flopsy\n",
      "Mopsy\n",
      "Cottontail\n",
      "Peter\n"
     ]
    }
   ],
   "source": [
    "for xt in rabbits:\n",
    "    print(xt)\n"
   ]
  },
  {
   "cell_type": "code",
   "execution_count": null,
   "metadata": {},
   "outputs": [],
   "source": []
  }
 ],
 "metadata": {
  "kernelspec": {
   "display_name": "Python 3",
   "language": "python",
   "name": "python3"
  },
  "language_info": {
   "codemirror_mode": {
    "name": "ipython",
    "version": 3
   },
   "file_extension": ".py",
   "mimetype": "text/x-python",
   "name": "python",
   "nbconvert_exporter": "python",
   "pygments_lexer": "ipython3",
   "version": "3.7.4"
  }
 },
 "nbformat": 4,
 "nbformat_minor": 2
}
