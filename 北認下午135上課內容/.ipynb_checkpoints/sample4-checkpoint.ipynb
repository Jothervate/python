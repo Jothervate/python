{
 "cells": [
  {
   "cell_type": "code",
   "execution_count": 7,
   "metadata": {},
   "outputs": [
    {
     "name": "stdout",
     "output_type": "stream",
     "text": [
      "偶數有:0\n",
      "偶數有:2\n",
      "偶數有:4\n",
      "偶數有:6\n",
      "偶數有:8\n",
      "程式結束\n"
     ]
    }
   ],
   "source": [
    "#for in執行10次\n",
    "for i in range(10):\n",
    "    if i % 2 == 0:\n",
    "        print(\"偶數有:%d\" % i)\n",
    "        \n",
    "print(\"程式結束\")"
   ]
  },
  {
   "cell_type": "code",
   "execution_count": 8,
   "metadata": {},
   "outputs": [
    {
     "name": "stdout",
     "output_type": "stream",
     "text": [
      "奇數有:1\n",
      "奇數有:3\n",
      "奇數有:5\n",
      "奇數有:7\n",
      "奇數有:9\n",
      "程式結束\n"
     ]
    }
   ],
   "source": [
    "i = 0\n",
    "while i<10:\n",
    "    if i % 2 == 1:\n",
    "        print(\"奇數有:%d\" % i)    \n",
    "    i += 1\n",
    "print(\"程式結束\")"
   ]
  },
  {
   "cell_type": "code",
   "execution_count": 6,
   "metadata": {},
   "outputs": [
    {
     "data": {
      "text/plain": [
       "1"
      ]
     },
     "execution_count": 6,
     "metadata": {},
     "output_type": "execute_result"
    }
   ],
   "source": [
    "i = 0\n",
    "i + 1"
   ]
  },
  {
   "cell_type": "code",
   "execution_count": 9,
   "metadata": {},
   "outputs": [
    {
     "name": "stdout",
     "output_type": "stream",
     "text": [
      "請輸入小寫英文字[按q會離開:]robert\n",
      "Robert\n",
      "請輸入小寫英文字[按q會離開:]city\n",
      "City\n",
      "請輸入小寫英文字[按q會離開:]dog\n",
      "Dog\n",
      "請輸入小寫英文字[按q會離開:]presend\n",
      "Presend\n",
      "請輸入小寫英文字[按q會離開:]q\n",
      "程式結束\n"
     ]
    }
   ],
   "source": [
    "while True:\n",
    "    stuff = input(\"請輸入小寫英文字[按q會離開:]\")\n",
    "    if stuff == 'q':\n",
    "        break\n",
    "    print(stuff.capitalize())\n",
    "print(\"程式結束\")\n",
    "    "
   ]
  },
  {
   "cell_type": "code",
   "execution_count": 15,
   "metadata": {},
   "outputs": [
    {
     "name": "stdout",
     "output_type": "stream",
     "text": [
      "請輸入第1位學生的成績:80\n",
      "請輸入第2位學生的成績:80\n",
      "請輸入第3位學生的成績:-3\n",
      "全班總成績為:160,平均分數為:80.00\n"
     ]
    }
   ],
   "source": [
    "#小美是一位教師，請你以while迴圈方式為小美設計一個輸入成績的程式，如果輸入負數表示成績輸入結束，在輸入成績結束後顯示班上總成績及平均成績。\n",
    "num = 0\n",
    "sum = 0\n",
    "while(True):\n",
    "    score=int(input('請輸入第'+ str(num+1) +'位學生的成績:'))\n",
    "    if score < 0:\n",
    "        break;\n",
    "    num += 1;\n",
    "    sum += score\n",
    "\n",
    "print('全班總成績為:%d,平均分數為:%.2f' % (sum, sum/num))\n",
    "    "
   ]
  },
  {
   "cell_type": "code",
   "execution_count": 17,
   "metadata": {},
   "outputs": [
    {
     "name": "stdout",
     "output_type": "stream",
     "text": [
      "整數, 輸入[q]離開:1\n",
      "1 平方是 1\n",
      "整數, 輸入[q]離開:3\n",
      "3 平方是 9\n",
      "整數, 輸入[q]離開:5\n",
      "5 平方是 25\n",
      "整數, 輸入[q]離開:7\n",
      "7 平方是 49\n",
      "整數, 輸入[q]離開:2\n",
      "整數, 輸入[q]離開:4\n",
      "整數, 輸入[q]離開:q\n"
     ]
    }
   ],
   "source": [
    "while(True):\n",
    "    value = input(\"整數, 輸入[q]離開:\")\n",
    "    if value == 'q':\n",
    "        break;\n",
    "    number=int(value)\n",
    "    if number % 2 == 0:\n",
    "        continue\n",
    "    print(number, \"平方是\", number * number)"
   ]
  },
  {
   "cell_type": "code",
   "execution_count": null,
   "metadata": {},
   "outputs": [],
   "source": []
  }
 ],
 "metadata": {
  "kernelspec": {
   "display_name": "Python 3",
   "language": "python",
   "name": "python3"
  },
  "language_info": {
   "codemirror_mode": {
    "name": "ipython",
    "version": 3
   },
   "file_extension": ".py",
   "mimetype": "text/x-python",
   "name": "python",
   "nbconvert_exporter": "python",
   "pygments_lexer": "ipython3",
   "version": "3.7.4"
  }
 },
 "nbformat": 4,
 "nbformat_minor": 2
}
