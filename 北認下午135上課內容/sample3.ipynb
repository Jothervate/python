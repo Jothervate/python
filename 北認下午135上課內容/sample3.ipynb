{
 "cells": [
  {
   "cell_type": "code",
   "execution_count": 2,
   "metadata": {},
   "outputs": [
    {
     "name": "stdout",
     "output_type": "stream",
     "text": [
      "請輸入age:17\n",
      "您再等幾年\n",
      "報告完畢\n"
     ]
    }
   ],
   "source": [
    "#判斷式\n",
    "\n",
    "age = int(input(\"請輸入age:\"))\n",
    "\n",
    "if age>=18:\n",
    "    print(\"您已經有投票權\")\n",
    "else:\n",
    "    print(\"您再等幾年\")\n",
    "    \n",
    "print(\"報告完畢\")\n"
   ]
  },
  {
   "cell_type": "code",
   "execution_count": null,
   "metadata": {},
   "outputs": [],
   "source": []
  }
 ],
 "metadata": {
  "kernelspec": {
   "display_name": "Python 3",
   "language": "python",
   "name": "python3"
  },
  "language_info": {
   "codemirror_mode": {
    "name": "ipython",
    "version": 3
   },
   "file_extension": ".py",
   "mimetype": "text/x-python",
   "name": "python",
   "nbconvert_exporter": "python",
   "pygments_lexer": "ipython3",
   "version": "3.7.4"
  }
 },
 "nbformat": 4,
 "nbformat_minor": 2
}
