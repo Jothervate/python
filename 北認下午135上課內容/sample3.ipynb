{
 "cells": [
  {
   "cell_type": "code",
   "execution_count": 2,
   "metadata": {},
   "outputs": [
    {
     "name": "stdout",
     "output_type": "stream",
     "text": [
      "請輸入age:17\n",
      "您再等幾年\n",
      "報告完畢\n"
     ]
    }
   ],
   "source": [
    "#判斷式\n",
    "\n",
    "age = int(input(\"請輸入age:\"))\n",
    "\n",
    "if age>=18:\n",
    "    print(\"您已經有投票權\")\n",
    "else:\n",
    "    print(\"您再等幾年\")\n",
    "    \n",
    "print(\"報告完畢\")\n"
   ]
  },
  {
   "cell_type": "code",
   "execution_count": 4,
   "metadata": {},
   "outputs": [
    {
     "name": "stdout",
     "output_type": "stream",
     "text": [
      "請輸入密碼:1234\n",
      "密碼正確!\n",
      "歡迎光臨!\n"
     ]
    }
   ],
   "source": [
    "#讓使用者輸入密碼,如果輸入的密碼正確(1234), 要顯示「密碼正確!歡迎光臨!」。\n",
    "#如果不正確就顯示密碼錯誤訊息\n",
    "\n",
    "password = input('請輸入密碼:')\n",
    "if password == '1234':\n",
    "    print(\"密碼正確!\\n歡迎光臨!\")\n",
    "else:\n",
    "    print('密碼錯誤!\\n請重新輸入')"
   ]
  },
  {
   "cell_type": "code",
   "execution_count": 7,
   "metadata": {},
   "outputs": [
    {
     "name": "stdout",
     "output_type": "stream",
     "text": [
      "請輸入購買金額:30000\n",
      "實付金額是: 27000.0 元\n"
     ]
    }
   ],
   "source": [
    "#輸入顧客購買金額\n",
    "money = int(input(\"請輸入購買金額:\"))\n",
    "if money >= 100000:\n",
    "    payMoney = money * 0.8\n",
    "elif money >= 50000:\n",
    "    payMoney = money * 0.85\n",
    "elif money >= 30000:\n",
    "    payMoney = money * 0.9\n",
    "elif money >= 10000:\n",
    "    payMoney = money * 0.95\n",
    "else:\n",
    "    payMoney = money\n",
    "\n",
    "print(\"實付金額是:\", payMoney, '元')"
   ]
  },
  {
   "cell_type": "code",
   "execution_count": 8,
   "metadata": {},
   "outputs": [
    {
     "name": "stdout",
     "output_type": "stream",
     "text": [
      "ok\n",
      "ok\n"
     ]
    }
   ],
   "source": [
    "a = 14\n",
    "if a>=12 and a<18:\n",
    "    print(\"ok\")\n",
    "else:\n",
    "    print(\"cancel\")\n",
    "    \n",
    "if 12<=a<18:\n",
    "    print(\"ok\")\n",
    "else:\n",
    "    print(\"cancel\")\n"
   ]
  },
  {
   "cell_type": "code",
   "execution_count": 11,
   "metadata": {},
   "outputs": [
    {
     "name": "stdout",
     "output_type": "stream",
     "text": [
      "3+5\n",
      "8\n"
     ]
    }
   ],
   "source": [
    "a = \"3+5\"\n",
    "print(a)\n",
    "a = eval(\"3+5\")\n",
    "print(a)"
   ]
  },
  {
   "cell_type": "code",
   "execution_count": 13,
   "metadata": {},
   "outputs": [
    {
     "name": "stdout",
     "output_type": "stream",
     "text": [
      "請輸入身高,單位為公分:159\n",
      "請輸入體重,單位為公斤:45\n",
      "您的BMI是 17.799928800284796\n",
      "您的體重太輕\n"
     ]
    }
   ],
   "source": [
    "'''\n",
    "請依據 BMI 值分析他人的身體狀況。\n",
    "BMI值\t< 18.5\t18.5-25\t25-30\t>30\n",
    "身體狀態\t 太輕\t 正常\t過重 \t肥胖\n",
    "'''\n",
    "\n",
    "height = eval(input('請輸入身高,單位為公分:'))\n",
    "weight = eval(input('請輸入體重,單位為公斤:'))\n",
    "bmi = weight / ((height/100) **2)\n",
    "\n",
    "if bmi < 18.5:\n",
    "    state = '太輕'\n",
    "elif 18.5<=bmi<25:\n",
    "    state = '正常'\n",
    "elif 25<=bmi<30:\n",
    "    state = '過重'\n",
    "else:\n",
    "    state = '肥胖'\n",
    "\n",
    "print(\"您的BMI是\",bmi)\n",
    "print(\"您的體重\"+state)"
   ]
  },
  {
   "cell_type": "code",
   "execution_count": null,
   "metadata": {},
   "outputs": [],
   "source": []
  }
 ],
 "metadata": {
  "kernelspec": {
   "display_name": "Python 3",
   "language": "python",
   "name": "python3"
  },
  "language_info": {
   "codemirror_mode": {
    "name": "ipython",
    "version": 3
   },
   "file_extension": ".py",
   "mimetype": "text/x-python",
   "name": "python",
   "nbconvert_exporter": "python",
   "pygments_lexer": "ipython3",
   "version": "3.7.4"
  }
 },
 "nbformat": 4,
 "nbformat_minor": 2
}
