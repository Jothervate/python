{
 "cells": [
  {
   "cell_type": "code",
   "execution_count": 2,
   "metadata": {},
   "outputs": [
    {
     "name": "stdout",
     "output_type": "stream",
     "text": [
      "請輸入age:17\n",
      "您再等幾年\n",
      "報告完畢\n"
     ]
    }
   ],
   "source": [
    "#判斷式\n",
    "\n",
    "age = int(input(\"請輸入age:\"))\n",
    "\n",
    "if age>=18:\n",
    "    print(\"您已經有投票權\")\n",
    "else:\n",
    "    print(\"您再等幾年\")\n",
    "    \n",
    "print(\"報告完畢\")\n"
   ]
  },
  {
   "cell_type": "code",
   "execution_count": 4,
   "metadata": {},
   "outputs": [
    {
     "name": "stdout",
     "output_type": "stream",
     "text": [
      "請輸入密碼:1234\n",
      "密碼正確!\n",
      "歡迎光臨!\n"
     ]
    }
   ],
   "source": [
    "#讓使用者輸入密碼,如果輸入的密碼正確(1234), 要顯示「密碼正確!歡迎光臨!」。\n",
    "#如果不正確就顯示密碼錯誤訊息\n",
    "\n",
    "password = input('請輸入密碼:')\n",
    "if password == '1234':\n",
    "    print(\"密碼正確!\\n歡迎光臨!\")\n",
    "else:\n",
    "    print('密碼錯誤!\\n請重新輸入')"
   ]
  },
  {
   "cell_type": "code",
   "execution_count": null,
   "metadata": {},
   "outputs": [],
   "source": []
  }
 ],
 "metadata": {
  "kernelspec": {
   "display_name": "Python 3",
   "language": "python",
   "name": "python3"
  },
  "language_info": {
   "codemirror_mode": {
    "name": "ipython",
    "version": 3
   },
   "file_extension": ".py",
   "mimetype": "text/x-python",
   "name": "python",
   "nbconvert_exporter": "python",
   "pygments_lexer": "ipython3",
   "version": "3.7.4"
  }
 },
 "nbformat": 4,
 "nbformat_minor": 2
}
