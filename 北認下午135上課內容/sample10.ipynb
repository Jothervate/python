{
 "cells": [
  {
   "cell_type": "code",
   "execution_count": 1,
   "metadata": {},
   "outputs": [
    {
     "name": "stdout",
     "output_type": "stream",
     "text": [
      "請輸入攝氏溫度:36\n",
      "華氏溫度=96.80\n",
      "程式還要繼續嗎?(輸入N...結束):a\n",
      "請輸入攝氏溫度:30\n",
      "華氏溫度=86.00\n",
      "程式還要繼續嗎?(輸入N...結束):Y\n",
      "請輸入攝氏溫度:29\n",
      "華氏溫度=84.20\n",
      "程式還要繼續嗎?(輸入N...結束):n\n",
      "程式結束\n"
     ]
    }
   ],
   "source": [
    "def temperature(value):\n",
    "    return 1.8 * value + 32\n",
    "\n",
    "while True:\n",
    "    value = eval(input('請輸入攝氏溫度:')) \n",
    "    result = temperature(value)\n",
    "    print('華氏溫度=%.2f' % result)\n",
    "    inputValue = input('程式還要繼續嗎?(輸入N...結束):')\n",
    "    if inputValue.upper() == 'N':\n",
    "        break;\n",
    "print(\"程式結束\")"
   ]
  },
  {
   "cell_type": "code",
   "execution_count": null,
   "metadata": {},
   "outputs": [],
   "source": []
  }
 ],
 "metadata": {
  "kernelspec": {
   "display_name": "Python 3",
   "language": "python",
   "name": "python3"
  },
  "language_info": {
   "codemirror_mode": {
    "name": "ipython",
    "version": 3
   },
   "file_extension": ".py",
   "mimetype": "text/x-python",
   "name": "python",
   "nbconvert_exporter": "python",
   "pygments_lexer": "ipython3",
   "version": "3.7.4"
  }
 },
 "nbformat": 4,
 "nbformat_minor": 2
}
