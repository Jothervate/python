{
 "cells": [
  {
   "cell_type": "code",
   "execution_count": 1,
   "metadata": {},
   "outputs": [
    {
     "name": "stdout",
     "output_type": "stream",
     "text": [
      "請輸入攝氏溫度:36\n",
      "華氏溫度=96.80\n",
      "程式還要繼續嗎?(輸入N...結束):a\n",
      "請輸入攝氏溫度:30\n",
      "華氏溫度=86.00\n",
      "程式還要繼續嗎?(輸入N...結束):Y\n",
      "請輸入攝氏溫度:29\n",
      "華氏溫度=84.20\n",
      "程式還要繼續嗎?(輸入N...結束):n\n",
      "程式結束\n"
     ]
    }
   ],
   "source": [
    "def temperature(value):\n",
    "    return 1.8 * value + 32\n",
    "\n",
    "while True:\n",
    "    value = eval(input('請輸入攝氏溫度:')) \n",
    "    result = temperature(value)\n",
    "    print('華氏溫度=%.2f' % result)\n",
    "    inputValue = input('程式還要繼續嗎?(輸入N...結束):')\n",
    "    if inputValue.upper() == 'N':\n",
    "        break;\n",
    "print(\"程式結束\")"
   ]
  },
  {
   "cell_type": "code",
   "execution_count": 3,
   "metadata": {},
   "outputs": [
    {
     "name": "stdout",
     "output_type": "stream",
     "text": [
      "1\n",
      "8\n",
      "15\n"
     ]
    }
   ],
   "source": [
    "def manyValue(a, b):\n",
    "    c = a * b\n",
    "    return (a-2, b+3, c)\n",
    "\n",
    "x, y, z= manyValue(3, 5)\n",
    "print(x)\n",
    "print(y)\n",
    "print(z)"
   ]
  },
  {
   "cell_type": "code",
   "execution_count": 4,
   "metadata": {},
   "outputs": [
    {
     "data": {
      "text/plain": [
       "{'wine': '白酒', 'entree': '牛排', 'dessert': '蛋糕'}"
      ]
     },
     "execution_count": 4,
     "metadata": {},
     "output_type": "execute_result"
    }
   ],
   "source": [
    "#引數位置呼叫\n",
    "def menu(wine, entree, dessert):\n",
    "    return {'wine': wine, 'entree':entree, 'dessert': dessert}\n",
    "menu('白酒', '牛排', '蛋糕')"
   ]
  },
  {
   "cell_type": "code",
   "execution_count": 5,
   "metadata": {},
   "outputs": [
    {
     "data": {
      "text/plain": [
       "{'wine': '紅酒', 'entree': '雞排', 'dessert': '冰淇淋'}"
      ]
     },
     "execution_count": 5,
     "metadata": {},
     "output_type": "execute_result"
    }
   ],
   "source": [
    "menu('紅酒', '雞排', '冰淇淋')"
   ]
  },
  {
   "cell_type": "code",
   "execution_count": null,
   "metadata": {},
   "outputs": [],
   "source": []
  }
 ],
 "metadata": {
  "kernelspec": {
   "display_name": "Python 3",
   "language": "python",
   "name": "python3"
  },
  "language_info": {
   "codemirror_mode": {
    "name": "ipython",
    "version": 3
   },
   "file_extension": ".py",
   "mimetype": "text/x-python",
   "name": "python",
   "nbconvert_exporter": "python",
   "pygments_lexer": "ipython3",
   "version": "3.7.4"
  }
 },
 "nbformat": 4,
 "nbformat_minor": 2
}
