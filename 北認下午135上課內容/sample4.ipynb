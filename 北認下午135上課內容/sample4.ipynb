{
 "cells": [
  {
   "cell_type": "code",
   "execution_count": 7,
   "metadata": {},
   "outputs": [
    {
     "name": "stdout",
     "output_type": "stream",
     "text": [
      "偶數有:0\n",
      "偶數有:2\n",
      "偶數有:4\n",
      "偶數有:6\n",
      "偶數有:8\n",
      "程式結束\n"
     ]
    }
   ],
   "source": [
    "#for in執行10次\n",
    "for i in range(10):\n",
    "    if i % 2 == 0:\n",
    "        print(\"偶數有:%d\" % i)\n",
    "        \n",
    "print(\"程式結束\")"
   ]
  },
  {
   "cell_type": "code",
   "execution_count": 8,
   "metadata": {},
   "outputs": [
    {
     "name": "stdout",
     "output_type": "stream",
     "text": [
      "奇數有:1\n",
      "奇數有:3\n",
      "奇數有:5\n",
      "奇數有:7\n",
      "奇數有:9\n",
      "程式結束\n"
     ]
    }
   ],
   "source": [
    "i = 0\n",
    "while i<10:\n",
    "    if i % 2 == 1:\n",
    "        print(\"奇數有:%d\" % i)    \n",
    "    i += 1\n",
    "print(\"程式結束\")"
   ]
  },
  {
   "cell_type": "code",
   "execution_count": 6,
   "metadata": {},
   "outputs": [
    {
     "data": {
      "text/plain": [
       "1"
      ]
     },
     "execution_count": 6,
     "metadata": {},
     "output_type": "execute_result"
    }
   ],
   "source": [
    "i = 0\n",
    "i + 1"
   ]
  },
  {
   "cell_type": "code",
   "execution_count": null,
   "metadata": {},
   "outputs": [],
   "source": []
  }
 ],
 "metadata": {
  "kernelspec": {
   "display_name": "Python 3",
   "language": "python",
   "name": "python3"
  },
  "language_info": {
   "codemirror_mode": {
    "name": "ipython",
    "version": 3
   },
   "file_extension": ".py",
   "mimetype": "text/x-python",
   "name": "python",
   "nbconvert_exporter": "python",
   "pygments_lexer": "ipython3",
   "version": "3.7.4"
  }
 },
 "nbformat": 4,
 "nbformat_minor": 2
}
