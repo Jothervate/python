{
 "cells": [
  {
   "cell_type": "code",
   "execution_count": 2,
   "metadata": {},
   "outputs": [
    {
     "name": "stdout",
     "output_type": "stream",
     "text": [
      "<class 'openpyxl.workbook.workbook.Workbook'>\n"
     ]
    }
   ],
   "source": [
    "#使用openpyxl開啟excel檔\n",
    "\n",
    "import openpyxl\n",
    "wb = openpyxl.load_workbook('example.xlsx')\n",
    "print(type(wb))"
   ]
  },
  {
   "cell_type": "code",
   "execution_count": 7,
   "metadata": {},
   "outputs": [
    {
     "name": "stdout",
     "output_type": "stream",
     "text": [
      "['Sheet1', 'Sheet2', 'Sheet3']\n",
      "<Worksheet \"Sheet3\">\n",
      "<class 'openpyxl.worksheet.worksheet.Worksheet'>\n",
      "Sheet3\n",
      "<Worksheet \"Sheet1\">\n"
     ]
    }
   ],
   "source": [
    "import openpyxl\n",
    "wb = openpyxl.load_workbook('example.xlsx')\n",
    "#取得目前sheetnames的資訊\n",
    "print(wb.sheetnames)\n",
    "\n",
    "#取得sheet\n",
    "sheet = wb['Sheet3']\n",
    "print(sheet)\n",
    "print(type(sheet))\n",
    "print(sheet.title)\n",
    "\n",
    "#打開excel檔,第一個顯示的sheet(active)\n",
    "anotherSheet = wb.active\n",
    "print(anotherSheet)\n"
   ]
  }
 ],
 "metadata": {
  "kernelspec": {
   "display_name": "venv05",
   "language": "python",
   "name": "python3"
  },
  "language_info": {
   "codemirror_mode": {
    "name": "ipython",
    "version": 3
   },
   "file_extension": ".py",
   "mimetype": "text/x-python",
   "name": "python",
   "nbconvert_exporter": "python",
   "pygments_lexer": "ipython3",
   "version": "3.10.6"
  },
  "orig_nbformat": 4,
  "vscode": {
   "interpreter": {
    "hash": "85c44cad9f5d14724dda7a6d7f0e4971d2a809ed59c2c40b9225ea77a670a3d5"
   }
  }
 },
 "nbformat": 4,
 "nbformat_minor": 2
}
