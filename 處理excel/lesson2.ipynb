{
 "cells": [
  {
   "cell_type": "code",
   "execution_count": 3,
   "metadata": {},
   "outputs": [
    {
     "name": "stdout",
     "output_type": "stream",
     "text": [
      "['Sheet']\n",
      "Sheet\n"
     ]
    },
    {
     "data": {
      "text/plain": [
       "['練習1']"
      ]
     },
     "execution_count": 3,
     "metadata": {},
     "output_type": "execute_result"
    }
   ],
   "source": [
    "import openpyxl\n",
    "\n",
    "wb = openpyxl.Workbook()\n",
    "print(wb.sheetnames)\n",
    "\n",
    "sheet = wb.active\n",
    "print(sheet.title)\n",
    "\n",
    "sheet.title = \"練習1\"\n",
    "wb.sheetnames"
   ]
  },
  {
   "cell_type": "code",
   "execution_count": 4,
   "metadata": {},
   "outputs": [],
   "source": [
    "import openpyxl\n",
    "wb = openpyxl.load_workbook('example.xlsx')\n",
    "sheet = wb.active\n",
    "sheet.title =  \"活頁1\"\n",
    "wb.save('example_copy.xlsx')"
   ]
  },
  {
   "cell_type": "code",
   "execution_count": 4,
   "metadata": {},
   "outputs": [
    {
     "name": "stdout",
     "output_type": "stream",
     "text": [
      "['Sheet']\n",
      "['Sheet', 'Sheet1']\n",
      "['First Sheet', 'Sheet', 'Sheet1']\n",
      "['First Sheet', 'Sheet', 'Middle Sheet', 'Sheet1']\n"
     ]
    }
   ],
   "source": [
    "import openpyxl\n",
    "\n",
    "wb = openpyxl.Workbook()\n",
    "print(wb.sheetnames)\n",
    "\n",
    "wb.create_sheet()\n",
    "print(wb.sheetnames)\n",
    "\n",
    "wb.create_sheet(index=0, title='First Sheet')\n",
    "print(wb.sheetnames)\n",
    "\n",
    "wb.create_sheet(index=2, title=\"Middle Sheet\")\n",
    "print(wb.sheetnames)"
   ]
  },
  {
   "cell_type": "code",
   "execution_count": 6,
   "metadata": {},
   "outputs": [
    {
     "name": "stdout",
     "output_type": "stream",
     "text": [
      "['First Sheet', 'Sheet', 'Middle Sheet', 'Sheet1']\n",
      "['First Sheet', 'Sheet']\n"
     ]
    }
   ],
   "source": [
    "print(wb.sheetnames)\n",
    "\n",
    "del wb['Middle Sheet']\n",
    "del wb['Sheet1']\n",
    "print(wb.sheetnames)"
   ]
  },
  {
   "cell_type": "code",
   "execution_count": 7,
   "metadata": {},
   "outputs": [
    {
     "name": "stdout",
     "output_type": "stream",
     "text": [
      "Hello, world!\n"
     ]
    }
   ],
   "source": [
    "import openpyxl\n",
    "wb = openpyxl.Workbook()\n",
    "sheet = wb['Sheet']\n",
    "sheet['A1'] = \"Hello, world!\"\n",
    "print(sheet['A1'].value)"
   ]
  },
  {
   "cell_type": "code",
   "execution_count": 8,
   "metadata": {},
   "outputs": [],
   "source": [
    "import openpyxl\n",
    "\n",
    "wb = openpyxl.load_workbook('produceSales.xlsx')\n",
    "sheet = wb['Sheet']\n",
    "\n",
    "#更新的資料\n",
    "PRICE_UPDATES ={\n",
    "    'Garlic':3.07,\n",
    "    'Celery':1.19,\n",
    "    'Lemon':1.27\n",
    "}\n",
    "\n",
    "for rowNum in range(2, sheet.max_row):\n",
    "    productName = sheet.cell(row=rowNum, column=1).value\n",
    "    if productName in PRICE_UPDATES:\n",
    "        sheet.cell(row=rowNum, column=2).value = PRICE_UPDATES[productName]\n",
    "\n",
    "wb.save('updateProduceSales.xlsx')"
   ]
  },
  {
   "cell_type": "code",
   "execution_count": 9,
   "metadata": {},
   "outputs": [],
   "source": [
    "import openpyxl\n",
    "from openpyxl.styles import Font\n",
    "wb = openpyxl.Workbook()\n",
    "\n",
    "sheet = wb['Sheet']\n",
    "italic24Font = Font(size=24, italic=True)\n",
    "sheet['A1'].font = italic24Font\n",
    "sheet['A1'] = 'Hello, world!'\n",
    "wb.save('styles.xlsx')"
   ]
  },
  {
   "cell_type": "code",
   "execution_count": 10,
   "metadata": {},
   "outputs": [],
   "source": [
    "import openpyxl\n",
    "from openpyxl.styles import Font\n",
    "wb = openpyxl.Workbook()\n",
    "sheet = wb['Sheet']\n",
    "\n",
    "fontObj1 = Font(name='Times New Roman', bold=True)\n",
    "sheet['A1'].font = fontObj1\n",
    "sheet['A1'] = 'Bold Times New Roman'\n",
    "\n",
    "fontObj2 = Font(size=24, italic=True)\n",
    "sheet['B3'].font = fontObj2\n",
    "sheet['B3'] = '24 pt Italic'\n",
    "\n",
    "wb.save('styles.xlsx')"
   ]
  },
  {
   "cell_type": "code",
   "execution_count": 11,
   "metadata": {},
   "outputs": [],
   "source": [
    "import openpyxl\n",
    "\n",
    "wb = openpyxl.Workbook()\n",
    "sheet = wb.active\n",
    "sheet['A1'] = 200\n",
    "sheet['A2'] = 300\n",
    "sheet['A3'] = \"=SUM(A1:A2)\"\n",
    "wb.save('writeFormula.xlsx')"
   ]
  },
  {
   "cell_type": "code",
   "execution_count": 12,
   "metadata": {},
   "outputs": [],
   "source": [
    "import openpyxl\n",
    "\n",
    "wb = openpyxl.Workbook()\n",
    "sheet = wb.active\n",
    "sheet['A1'] = 'Tall row'\n",
    "sheet['B2'] = 'Wide column'\n",
    "#設定高和寬\n",
    "\n",
    "sheet.row_dimensions[1].height = 70\n",
    "sheet.column_dimensions['B'].width = 20\n",
    "wb.save('dimensions.xlsx')"
   ]
  },
  {
   "cell_type": "code",
   "execution_count": 13,
   "metadata": {},
   "outputs": [],
   "source": [
    "import openpyxl\n",
    "\n",
    "wb = openpyxl.Workbook()\n",
    "sheet = wb.active\n",
    "sheet.merge_cells('A1:D3')\n",
    "sheet['A1'] = 'Twelve cells merged together.'\n",
    "sheet.merge_cells('C5:D5')\n",
    "sheet['C5'] = 'Two merged cells.'\n",
    "wb.save('merged.xlsx')"
   ]
  },
  {
   "cell_type": "code",
   "execution_count": 15,
   "metadata": {},
   "outputs": [
    {
     "ename": "ValueError",
     "evalue": "Cell range A1:D3 is not merged",
     "output_type": "error",
     "traceback": [
      "\u001b[0;31m---------------------------------------------------------------------------\u001b[0m",
      "\u001b[0;31mValueError\u001b[0m                                Traceback (most recent call last)",
      "Cell \u001b[0;32mIn[15], line 6\u001b[0m\n\u001b[1;32m      3\u001b[0m wb \u001b[39m=\u001b[39m openpyxl\u001b[39m.\u001b[39mload_workbook(\u001b[39m'\u001b[39m\u001b[39mmerged.xlsx\u001b[39m\u001b[39m'\u001b[39m)\n\u001b[1;32m      4\u001b[0m sheet \u001b[39m=\u001b[39m wb\u001b[39m.\u001b[39mactive\n\u001b[0;32m----> 6\u001b[0m sheet\u001b[39m.\u001b[39;49munmerge_cells(\u001b[39m'\u001b[39;49m\u001b[39mA1:D3\u001b[39;49m\u001b[39m'\u001b[39;49m)\n\u001b[1;32m      7\u001b[0m sheet\u001b[39m.\u001b[39munmerge_cells(\u001b[39m'\u001b[39m\u001b[39mC5:D5\u001b[39m\u001b[39m'\u001b[39m)\n\u001b[1;32m      8\u001b[0m wb\u001b[39m.\u001b[39msave(\u001b[39m'\u001b[39m\u001b[39mmerged.xlsx\u001b[39m\u001b[39m'\u001b[39m)\n",
      "File \u001b[0;32m~/Documents/virtualEnv/venv05/lib/python3.10/site-packages/openpyxl/worksheet/worksheet.py:623\u001b[0m, in \u001b[0;36mWorksheet.unmerge_cells\u001b[0;34m(self, range_string, start_row, start_column, end_row, end_column)\u001b[0m\n\u001b[1;32m    619\u001b[0m cr \u001b[39m=\u001b[39m CellRange(range_string\u001b[39m=\u001b[39mrange_string, min_col\u001b[39m=\u001b[39mstart_column, min_row\u001b[39m=\u001b[39mstart_row,\n\u001b[1;32m    620\u001b[0m               max_col\u001b[39m=\u001b[39mend_column, max_row\u001b[39m=\u001b[39mend_row)\n\u001b[1;32m    622\u001b[0m \u001b[39mif\u001b[39;00m cr\u001b[39m.\u001b[39mcoord \u001b[39mnot\u001b[39;00m \u001b[39min\u001b[39;00m \u001b[39mself\u001b[39m\u001b[39m.\u001b[39mmerged_cells:\n\u001b[0;32m--> 623\u001b[0m     \u001b[39mraise\u001b[39;00m \u001b[39mValueError\u001b[39;00m(\u001b[39m\"\u001b[39m\u001b[39mCell range \u001b[39m\u001b[39m{0}\u001b[39;00m\u001b[39m is not merged\u001b[39m\u001b[39m\"\u001b[39m\u001b[39m.\u001b[39mformat(cr\u001b[39m.\u001b[39mcoord))\n\u001b[1;32m    625\u001b[0m \u001b[39mself\u001b[39m\u001b[39m.\u001b[39mmerged_cells\u001b[39m.\u001b[39mremove(cr)\n\u001b[1;32m    627\u001b[0m cells \u001b[39m=\u001b[39m cr\u001b[39m.\u001b[39mcells\n",
      "\u001b[0;31mValueError\u001b[0m: Cell range A1:D3 is not merged"
     ]
    }
   ],
   "source": [
    "import openpyxl\n",
    "\n",
    "wb = openpyxl.load_workbook('merged.xlsx')\n",
    "sheet = wb.active\n",
    "\n",
    "sheet.unmerge_cells('A1:D3')\n",
    "sheet.unmerge_cells('C5:D5')\n",
    "wb.save('merged.xlsx')"
   ]
  },
  {
   "cell_type": "code",
   "execution_count": 16,
   "metadata": {},
   "outputs": [],
   "source": [
    "import openpyxl\n",
    "\n",
    "wb = openpyxl.load_workbook('produceSales.xlsx')\n",
    "sheet = wb.active\n",
    "sheet.freeze_panes = 'A2'\n",
    "wb.save('freezeExample.xlsx')"
   ]
  },
  {
   "cell_type": "code",
   "execution_count": 17,
   "metadata": {},
   "outputs": [],
   "source": [
    "import openpyxl\n",
    "\n",
    "wb = openpyxl.load_workbook('produceSales.xlsx')\n",
    "sheet = wb.active\n",
    "sheet.freeze_panes = 'A1'\n",
    "wb.save('freezeExample.xlsx')"
   ]
  },
  {
   "cell_type": "code",
   "execution_count": 18,
   "metadata": {},
   "outputs": [],
   "source": [
    "import openpyxl\n",
    "wb = openpyxl.Workbook()\n",
    "sheet = wb.active\n",
    "for i in range(1, 11):\n",
    "    sheet['A' + str(i)] = i\n",
    "\n",
    "refObj = openpyxl.chart.Reference(sheet, min_col=1, min_row=1, max_col=1, max_row=10)\n",
    "seriesObj = openpyxl.chart.Series(refObj, title='First series')\n",
    "\n",
    "chartObj = openpyxl.chart.BarChart()\n",
    "chartObj.title = \"My Chart\"\n",
    "chartObj.append(seriesObj)\n",
    "\n",
    "sheet.add_chart(chartObj, 'C5')\n",
    "wb.save('sampleChart.xlsx')"
   ]
  }
 ],
 "metadata": {
  "kernelspec": {
   "display_name": "venv05",
   "language": "python",
   "name": "python3"
  },
  "language_info": {
   "codemirror_mode": {
    "name": "ipython",
    "version": 3
   },
   "file_extension": ".py",
   "mimetype": "text/x-python",
   "name": "python",
   "nbconvert_exporter": "python",
   "pygments_lexer": "ipython3",
   "version": "3.10.6"
  },
  "orig_nbformat": 4,
  "vscode": {
   "interpreter": {
    "hash": "85c44cad9f5d14724dda7a6d7f0e4971d2a809ed59c2c40b9225ea77a670a3d5"
   }
  }
 },
 "nbformat": 4,
 "nbformat_minor": 2
}
