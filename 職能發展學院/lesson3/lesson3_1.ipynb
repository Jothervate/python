{
 "cells": [
  {
   "cell_type": "code",
   "execution_count": 1,
   "id": "a55b7e05",
   "metadata": {},
   "outputs": [],
   "source": [
    "#自訂Person類別\n",
    "class Person():\n",
    "    def __init__(self,name):  #建立自訂的初始化\n",
    "        self.name=name   #建立實體屬性name\n",
    "        \n",
    "    def sayHello(self):\n",
    "        print(\"Hello\", self.name)"
   ]
  },
  {
   "cell_type": "code",
   "execution_count": 2,
   "id": "0c4f9daf",
   "metadata": {},
   "outputs": [
    {
     "data": {
      "text/plain": [
       "__main__.Person"
      ]
     },
     "execution_count": 2,
     "metadata": {},
     "output_type": "execute_result"
    }
   ],
   "source": [
    "#初始化建立實體p1\n",
    "p1 = Person(\"robert\")\n",
    "type(p1)"
   ]
  },
  {
   "cell_type": "code",
   "execution_count": 9,
   "id": "6d9fb29c",
   "metadata": {},
   "outputs": [
    {
     "name": "stdout",
     "output_type": "stream",
     "text": [
      "robert\n",
      "Hello robert\n"
     ]
    }
   ],
   "source": [
    "print(p1.name)\n",
    "p1.sayHello()"
   ]
  },
  {
   "cell_type": "code",
   "execution_count": 11,
   "id": "554e7a86",
   "metadata": {},
   "outputs": [
    {
     "name": "stdout",
     "output_type": "stream",
     "text": [
      "alis\n",
      "Hello alis\n"
     ]
    }
   ],
   "source": [
    "p2 = Person(\"alis\")\n",
    "print(p2.name)\n",
    "p2.sayHello()"
   ]
  },
  {
   "cell_type": "code",
   "execution_count": 5,
   "id": "e4438a04",
   "metadata": {},
   "outputs": [],
   "source": [
    "class Soldier(Person):\n",
    "    def __init__(self,name,blood):\n",
    "        super().__init__(name);\n",
    "        self.blood = blood;"
   ]
  },
  {
   "cell_type": "code",
   "execution_count": 6,
   "id": "c50552a3",
   "metadata": {},
   "outputs": [],
   "source": [
    "s1 = Soldier(\"john\",100)"
   ]
  },
  {
   "cell_type": "code",
   "execution_count": 7,
   "id": "43feabf6",
   "metadata": {},
   "outputs": [
    {
     "data": {
      "text/plain": [
       "__main__.Soldier"
      ]
     },
     "execution_count": 7,
     "metadata": {},
     "output_type": "execute_result"
    }
   ],
   "source": [
    "type(s1)"
   ]
  },
  {
   "cell_type": "code",
   "execution_count": 12,
   "id": "0bb721f3",
   "metadata": {},
   "outputs": [
    {
     "name": "stdout",
     "output_type": "stream",
     "text": [
      "john\n",
      "100\n",
      "Hello john\n"
     ]
    }
   ],
   "source": [
    "print(s1.name)\n",
    "print(s1.blood)\n",
    "s1.sayHello()"
   ]
  },
  {
   "cell_type": "code",
   "execution_count": null,
   "id": "e75361ff",
   "metadata": {},
   "outputs": [],
   "source": []
  }
 ],
 "metadata": {
  "kernelspec": {
   "display_name": "Python 3 (ipykernel)",
   "language": "python",
   "name": "python3"
  },
  "language_info": {
   "codemirror_mode": {
    "name": "ipython",
    "version": 3
   },
   "file_extension": ".py",
   "mimetype": "text/x-python",
   "name": "python",
   "nbconvert_exporter": "python",
   "pygments_lexer": "ipython3",
   "version": "3.8.7"
  }
 },
 "nbformat": 4,
 "nbformat_minor": 5
}
