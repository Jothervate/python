{
 "cells": [
  {
   "cell_type": "code",
   "execution_count": 6,
   "id": "3feabd66",
   "metadata": {},
   "outputs": [],
   "source": [
    "#自訂Person類別\n",
    "class Person():\n",
    "    def __init__(self,name):  #建立自訂的初始化\n",
    "        self.name=name   #建立實體屬性name\n"
   ]
  },
  {
   "cell_type": "code",
   "execution_count": 8,
   "id": "bc4623cd",
   "metadata": {},
   "outputs": [
    {
     "data": {
      "text/plain": [
       "__main__.Person"
      ]
     },
     "execution_count": 8,
     "metadata": {},
     "output_type": "execute_result"
    }
   ],
   "source": [
    "#初始化建立實體p1\n",
    "p1 = Person(\"robert\")\n",
    "type(p1)"
   ]
  },
  {
   "cell_type": "code",
   "execution_count": 9,
   "id": "56b487f6",
   "metadata": {},
   "outputs": [
    {
     "data": {
      "text/plain": [
       "'robert'"
      ]
     },
     "execution_count": 9,
     "metadata": {},
     "output_type": "execute_result"
    }
   ],
   "source": [
    "p1.name"
   ]
  },
  {
   "cell_type": "code",
   "execution_count": 11,
   "id": "d8e0e4b6",
   "metadata": {},
   "outputs": [
    {
     "data": {
      "text/plain": [
       "'alis'"
      ]
     },
     "execution_count": 11,
     "metadata": {},
     "output_type": "execute_result"
    }
   ],
   "source": [
    "p2 = Person(\"alis\")\n",
    "p2.name"
   ]
  },
  {
   "cell_type": "code",
   "execution_count": 16,
   "id": "1b4480e5",
   "metadata": {},
   "outputs": [],
   "source": [
    "class Soldier(Person):\n",
    "    def __init__(self,name,blood):\n",
    "        super().__init__(name);\n",
    "        self.blood = blood;"
   ]
  },
  {
   "cell_type": "code",
   "execution_count": 19,
   "id": "cd26d712",
   "metadata": {},
   "outputs": [],
   "source": [
    "s1 = Soldier(\"john\",100)"
   ]
  },
  {
   "cell_type": "code",
   "execution_count": 20,
   "id": "b4c6c4c3",
   "metadata": {},
   "outputs": [
    {
     "data": {
      "text/plain": [
       "__main__.Soldier"
      ]
     },
     "execution_count": 20,
     "metadata": {},
     "output_type": "execute_result"
    }
   ],
   "source": [
    "type(s1)"
   ]
  },
  {
   "cell_type": "code",
   "execution_count": 21,
   "id": "18d3d855",
   "metadata": {},
   "outputs": [
    {
     "name": "stdout",
     "output_type": "stream",
     "text": [
      "john\n",
      "100\n"
     ]
    }
   ],
   "source": [
    "print(s1.name)\n",
    "print(s1.blood)"
   ]
  },
  {
   "cell_type": "code",
   "execution_count": null,
   "id": "25baae05",
   "metadata": {},
   "outputs": [],
   "source": []
  }
 ],
 "metadata": {
  "kernelspec": {
   "display_name": "Python 3 (ipykernel)",
   "language": "python",
   "name": "python3"
  },
  "language_info": {
   "codemirror_mode": {
    "name": "ipython",
    "version": 3
   },
   "file_extension": ".py",
   "mimetype": "text/x-python",
   "name": "python",
   "nbconvert_exporter": "python",
   "pygments_lexer": "ipython3",
   "version": "3.8.7"
  }
 },
 "nbformat": 4,
 "nbformat_minor": 5
}
