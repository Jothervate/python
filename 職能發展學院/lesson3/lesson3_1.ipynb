{
 "cells": [
  {
   "cell_type": "code",
   "execution_count": 1,
   "id": "05c3ed4f",
   "metadata": {},
   "outputs": [],
   "source": [
    "#自訂Person類別\n",
    "class Person():\n",
    "    def __init__(self,name):  #建立自訂的初始化\n",
    "        self.name=name   #建立實體屬性name\n",
    "        \n",
    "    def sayHello(self):\n",
    "        print(\"Hello\", self.name)"
   ]
  },
  {
   "cell_type": "code",
   "execution_count": 2,
   "id": "da77f25b",
   "metadata": {},
   "outputs": [
    {
     "data": {
      "text/plain": [
       "__main__.Person"
      ]
     },
     "execution_count": 2,
     "metadata": {},
     "output_type": "execute_result"
    }
   ],
   "source": [
    "#初始化建立實體p1\n",
    "p1 = Person(\"robert\")\n",
    "type(p1)"
   ]
  },
  {
   "cell_type": "code",
   "execution_count": 3,
   "id": "16242be0",
   "metadata": {},
   "outputs": [
    {
     "name": "stdout",
     "output_type": "stream",
     "text": [
      "robert\n",
      "Hello robert\n"
     ]
    }
   ],
   "source": [
    "print(p1.name)\n",
    "#print(p1.blood) blood只有子類別Soldier\n",
    "p1.sayHello()"
   ]
  },
  {
   "cell_type": "code",
   "execution_count": 4,
   "id": "c4de86b5",
   "metadata": {},
   "outputs": [
    {
     "name": "stdout",
     "output_type": "stream",
     "text": [
      "alis\n",
      "Hello alis\n"
     ]
    }
   ],
   "source": [
    "p2 = Person(\"alis\")\n",
    "print(p2.name)\n",
    "p2.sayHello()"
   ]
  },
  {
   "cell_type": "code",
   "execution_count": 5,
   "id": "a6f2bd60",
   "metadata": {},
   "outputs": [],
   "source": [
    "class Soldier(Person):\n",
    "    def __init__(self,name,blood):\n",
    "        super().__init__(name);\n",
    "        self.blood = blood;\n",
    "    \n",
    "    #override\n",
    "    def sayHello(self):\n",
    "        print(f\"Hello Soldier {self.name}\")"
   ]
  },
  {
   "cell_type": "code",
   "execution_count": 6,
   "id": "5e8d3624",
   "metadata": {},
   "outputs": [],
   "source": [
    "s1 = Soldier(\"john\",100)"
   ]
  },
  {
   "cell_type": "code",
   "execution_count": 7,
   "id": "426f59f7",
   "metadata": {},
   "outputs": [
    {
     "data": {
      "text/plain": [
       "__main__.Soldier"
      ]
     },
     "execution_count": 7,
     "metadata": {},
     "output_type": "execute_result"
    }
   ],
   "source": [
    "type(s1)"
   ]
  },
  {
   "cell_type": "code",
   "execution_count": 8,
   "id": "bbe86ecf",
   "metadata": {},
   "outputs": [
    {
     "name": "stdout",
     "output_type": "stream",
     "text": [
      "john\n",
      "100\n",
      "Hello Soldier john\n"
     ]
    }
   ],
   "source": [
    "print(s1.name)\n",
    "print(s1.blood)\n",
    "s1.sayHello()"
   ]
  },
  {
   "cell_type": "code",
   "execution_count": null,
   "id": "18d72ab8",
   "metadata": {},
   "outputs": [],
   "source": []
  }
 ],
 "metadata": {
  "kernelspec": {
   "display_name": "Python 3 (ipykernel)",
   "language": "python",
   "name": "python3"
  },
  "language_info": {
   "codemirror_mode": {
    "name": "ipython",
    "version": 3
   },
   "file_extension": ".py",
   "mimetype": "text/x-python",
   "name": "python",
   "nbconvert_exporter": "python",
   "pygments_lexer": "ipython3",
   "version": "3.8.7"
  }
 },
 "nbformat": 4,
 "nbformat_minor": 5
}
