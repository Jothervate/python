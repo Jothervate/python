{
 "cells": [
  {
   "cell_type": "code",
   "execution_count": 1,
   "id": "1fef312a",
   "metadata": {},
   "outputs": [],
   "source": [
    "import requests\n",
    "\n",
    "res = requests.get('https://flask-robert.herokuapp.com/youbike')"
   ]
  },
  {
   "cell_type": "code",
   "execution_count": 4,
   "id": "43150375",
   "metadata": {},
   "outputs": [
    {
     "name": "stdout",
     "output_type": "stream",
     "text": [
      "https://flask-robert.herokuapp.com/youbike/\n"
     ]
    },
    {
     "data": {
      "text/plain": [
       "'utf-8'"
      ]
     },
     "execution_count": 4,
     "metadata": {},
     "output_type": "execute_result"
    }
   ],
   "source": [
    "print(res.url)\n",
    "res.encoding"
   ]
  },
  {
   "cell_type": "code",
   "execution_count": 3,
   "id": "b78e59ed",
   "metadata": {},
   "outputs": [
    {
     "name": "stdout",
     "output_type": "stream",
     "text": [
      "<class 'str'>\n"
     ]
    },
    {
     "data": {
      "text/plain": [
       "'{\"areas\":[\"北投區\",\"南港區\",\"中山區\",\"松山區\",\"文山區\",\"萬華區\",\"大同區\",\"大安區\",\"信義區\",\"內湖區\",\"中正區\",\"士林區\"]}\\n'"
      ]
     },
     "execution_count": 3,
     "metadata": {},
     "output_type": "execute_result"
    }
   ],
   "source": [
    "content = res.text\n",
    "print(type(content))\n",
    "content"
   ]
  },
  {
   "cell_type": "code",
   "execution_count": 7,
   "id": "ad914cc6",
   "metadata": {},
   "outputs": [
    {
     "name": "stdout",
     "output_type": "stream",
     "text": [
      "<class 'dict'>\n",
      "北投區\n",
      "南港區\n",
      "中山區\n",
      "松山區\n",
      "文山區\n",
      "萬華區\n",
      "大同區\n",
      "大安區\n",
      "信義區\n",
      "內湖區\n",
      "中正區\n",
      "士林區\n"
     ]
    }
   ],
   "source": [
    "jsonObj = res.json()\n",
    "print(type(jsonObj))\n",
    "areas=jsonObj['areas']\n",
    "for area in areas:\n",
    "    print(area)"
   ]
  },
  {
   "cell_type": "code",
   "execution_count": 13,
   "id": "39263c0e",
   "metadata": {},
   "outputs": [
    {
     "name": "stdout",
     "output_type": "stream",
     "text": [
      "{'areas': ['北投區', '南港區', '中山區', '松山區', '文山區', '萬華區', '大同區', '大安區', '信義區', '內湖區', '中正區', '士林區']}\n"
     ]
    }
   ],
   "source": [
    "import requests\n",
    "\n",
    "res = requests.get('https://flask-robert.herokuapp.com/youbike')\n",
    "if res.status_code != 200:\n",
    "    print(\"沒有這個網頁\")\n",
    "else:\n",
    "    print(res.json())"
   ]
  },
  {
   "cell_type": "code",
   "execution_count": null,
   "id": "e75af59b",
   "metadata": {},
   "outputs": [],
   "source": []
  }
 ],
 "metadata": {
  "kernelspec": {
   "display_name": "Python 3",
   "language": "python",
   "name": "python3"
  },
  "language_info": {
   "codemirror_mode": {
    "name": "ipython",
    "version": 3
   },
   "file_extension": ".py",
   "mimetype": "text/x-python",
   "name": "python",
   "nbconvert_exporter": "python",
   "pygments_lexer": "ipython3",
   "version": "3.8.7"
  }
 },
 "nbformat": 4,
 "nbformat_minor": 5
}
