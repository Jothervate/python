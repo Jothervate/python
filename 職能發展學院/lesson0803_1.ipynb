{
 "cells": [
  {
   "cell_type": "code",
   "execution_count": 5,
   "id": "29f5ed7c",
   "metadata": {},
   "outputs": [
    {
     "name": "stdout",
     "output_type": "stream",
     "text": [
      "a\n",
      "b\n",
      "z\n",
      "y\n"
     ]
    }
   ],
   "source": [
    "letters = 'abcdefghijklmnopqrstuvwxyz'\n",
    "print(letters[0])\n",
    "print(letters[1])\n",
    "print(letters[-1])\n",
    "print(letters[-2])"
   ]
  },
  {
   "cell_type": "code",
   "execution_count": 11,
   "id": "3dabf7bf",
   "metadata": {},
   "outputs": [
    {
     "data": {
      "text/plain": [
       "'PENNY'"
      ]
     },
     "execution_count": 11,
     "metadata": {},
     "output_type": "execute_result"
    }
   ],
   "source": [
    "name = \"Henny\"\n",
    "#name = \"Penny\"\n",
    "name = \"P\" + name[1:]\n",
    "name.upper()"
   ]
  },
  {
   "cell_type": "code",
   "execution_count": 18,
   "id": "36be6866",
   "metadata": {},
   "outputs": [
    {
     "name": "stdout",
     "output_type": "stream",
     "text": [
      "H\n",
      "el\n",
      "ello World\n",
      "Hel\n",
      "World\n"
     ]
    }
   ],
   "source": [
    "myString1 = \"Hello World\"\n",
    "print(myString1[0])\n",
    "print(myString1[1:3])\n",
    "print(myString1[1:])\n",
    "print(myString1[:3])\n",
    "print(myString1[-5:])"
   ]
  },
  {
   "cell_type": "code",
   "execution_count": 19,
   "id": "bccfcd7a",
   "metadata": {},
   "outputs": [
    {
     "data": {
      "text/plain": [
       "'Penny'"
      ]
     },
     "execution_count": 19,
     "metadata": {},
     "output_type": "execute_result"
    }
   ],
   "source": [
    "#字串實體方法replace(old,new)\n",
    "name = \"Henny\"\n",
    "newName = name.replace('H','P')\n",
    "newName"
   ]
  },
  {
   "cell_type": "code",
   "execution_count": 20,
   "id": "1e6d8b0e",
   "metadata": {},
   "outputs": [
    {
     "name": "stdout",
     "output_type": "stream",
     "text": [
      "8\n"
     ]
    }
   ],
   "source": [
    "str1 = \"this is Python Tutorial, there\"\n",
    "search1 = \"Python\"\n",
    "if str1.find(search1) != -1:\n",
    "    print(str1.find(search1))"
   ]
  },
  {
   "cell_type": "code",
   "execution_count": null,
   "id": "914bd95c",
   "metadata": {},
   "outputs": [],
   "source": []
  }
 ],
 "metadata": {
  "kernelspec": {
   "display_name": "Python 3",
   "language": "python",
   "name": "python3"
  },
  "language_info": {
   "codemirror_mode": {
    "name": "ipython",
    "version": 3
   },
   "file_extension": ".py",
   "mimetype": "text/x-python",
   "name": "python",
   "nbconvert_exporter": "python",
   "pygments_lexer": "ipython3",
   "version": "3.8.7"
  }
 },
 "nbformat": 4,
 "nbformat_minor": 5
}
