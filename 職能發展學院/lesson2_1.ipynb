{
 "cells": [
  {
   "cell_type": "code",
   "execution_count": 1,
   "id": "eb3a1474",
   "metadata": {},
   "outputs": [],
   "source": [
    "class Person:\n",
    "    def __init__(self,name):\n",
    "        self.name = name\n",
    "\n"
   ]
  },
  {
   "cell_type": "code",
   "execution_count": 4,
   "id": "9bb5719c",
   "metadata": {},
   "outputs": [
    {
     "name": "stdout",
     "output_type": "stream",
     "text": [
      "Robert\n",
      "Jenny\n"
     ]
    }
   ],
   "source": [
    "p1 = Person(\"Robert\")\n",
    "p2 = Person(\"Jenny\")\n",
    "print(p1.name)\n",
    "print(p2.name)"
   ]
  },
  {
   "cell_type": "code",
   "execution_count": 5,
   "id": "690b88f5",
   "metadata": {},
   "outputs": [
    {
     "name": "stdout",
     "output_type": "stream",
     "text": [
      "我是車子\n"
     ]
    }
   ],
   "source": [
    "class Car:\n",
    "    def exclaim(self):\n",
    "        print(\"我是車子\")\n",
    "\n",
    "giveMeCar = Car()\n",
    "giveMeCar.exclaim()"
   ]
  },
  {
   "cell_type": "code",
   "execution_count": 7,
   "id": "4ed278c9",
   "metadata": {},
   "outputs": [
    {
     "name": "stdout",
     "output_type": "stream",
     "text": [
      "我是Yugo\n"
     ]
    }
   ],
   "source": [
    "class Yugo(Car):\n",
    "    def exclaim(self):\n",
    "        print(\"我是Yugo\")\n",
    "\n",
    "giveMeYugo = Yugo()\n",
    "giveMeYugo.exclaim()\n"
   ]
  },
  {
   "cell_type": "code",
   "execution_count": null,
   "id": "e611bc3c",
   "metadata": {},
   "outputs": [],
   "source": []
  }
 ],
 "metadata": {
  "kernelspec": {
   "display_name": "Python 3",
   "language": "python",
   "name": "python3"
  },
  "language_info": {
   "codemirror_mode": {
    "name": "ipython",
    "version": 3
   },
   "file_extension": ".py",
   "mimetype": "text/x-python",
   "name": "python",
   "nbconvert_exporter": "python",
   "pygments_lexer": "ipython3",
   "version": "3.8.7"
  }
 },
 "nbformat": 4,
 "nbformat_minor": 5
}
