{
 "cells": [
  {
   "cell_type": "code",
   "execution_count": 1,
   "id": "8dbe90df",
   "metadata": {},
   "outputs": [],
   "source": [
    "class Person:\n",
    "    def __init__(self,name):\n",
    "        self.name = name\n",
    "\n"
   ]
  },
  {
   "cell_type": "code",
   "execution_count": 4,
   "id": "e210eb2e",
   "metadata": {},
   "outputs": [
    {
     "name": "stdout",
     "output_type": "stream",
     "text": [
      "Robert\n",
      "Jenny\n"
     ]
    }
   ],
   "source": [
    "p1 = Person(\"Robert\")\n",
    "p2 = Person(\"Jenny\")\n",
    "print(p1.name)\n",
    "print(p2.name)"
   ]
  },
  {
   "cell_type": "code",
   "execution_count": 5,
   "id": "da5b1c86",
   "metadata": {},
   "outputs": [
    {
     "name": "stdout",
     "output_type": "stream",
     "text": [
      "我是車子\n"
     ]
    }
   ],
   "source": [
    "class Car:\n",
    "    def exclaim(self):\n",
    "        print(\"我是車子\")\n",
    "\n",
    "giveMeCar = Car()\n",
    "giveMeCar.exclaim()"
   ]
  },
  {
   "cell_type": "code",
   "execution_count": 7,
   "id": "793cf413",
   "metadata": {},
   "outputs": [
    {
     "name": "stdout",
     "output_type": "stream",
     "text": [
      "我是Yugo\n"
     ]
    }
   ],
   "source": [
    "class Yugo(Car):\n",
    "    def exclaim(self):\n",
    "        print(\"我是Yugo\")\n",
    "\n",
    "giveMeYugo = Yugo()\n",
    "giveMeYugo.exclaim()\n"
   ]
  },
  {
   "cell_type": "code",
   "execution_count": 10,
   "id": "974fd3b8",
   "metadata": {},
   "outputs": [
    {
     "name": "stdout",
     "output_type": "stream",
     "text": [
      "robert\n",
      "robert@gmail.com\n"
     ]
    }
   ],
   "source": [
    "class Person:\n",
    "    def __init__(self,name):\n",
    "        self.name = name\n",
    "\n",
    "class EmailPerson(Person):\n",
    "    def __init__(self,name,email):\n",
    "        super().__init__(name)\n",
    "        self.email = email\n",
    "\n",
    "emailP = EmailPerson(\"robert\",\"robert@gmail.com\")\n",
    "print(emailP.name)\n",
    "print(emailP.email)"
   ]
  },
  {
   "cell_type": "code",
   "execution_count": null,
   "id": "378ee55d",
   "metadata": {},
   "outputs": [],
   "source": []
  }
 ],
 "metadata": {
  "kernelspec": {
   "display_name": "Python 3",
   "language": "python",
   "name": "python3"
  },
  "language_info": {
   "codemirror_mode": {
    "name": "ipython",
    "version": 3
   },
   "file_extension": ".py",
   "mimetype": "text/x-python",
   "name": "python",
   "nbconvert_exporter": "python",
   "pygments_lexer": "ipython3",
   "version": "3.8.7"
  }
 },
 "nbformat": 4,
 "nbformat_minor": 5
}
