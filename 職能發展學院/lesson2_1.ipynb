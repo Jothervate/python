{
 "cells": [
  {
   "cell_type": "code",
   "execution_count": 1,
   "id": "3a3a2a0f",
   "metadata": {},
   "outputs": [],
   "source": [
    "class Person:\n",
    "    def __init__(self,name):\n",
    "        self.name = name\n",
    "\n"
   ]
  },
  {
   "cell_type": "code",
   "execution_count": 4,
   "id": "308c9e35",
   "metadata": {},
   "outputs": [
    {
     "name": "stdout",
     "output_type": "stream",
     "text": [
      "Robert\n",
      "Jenny\n"
     ]
    }
   ],
   "source": [
    "p1 = Person(\"Robert\")\n",
    "p2 = Person(\"Jenny\")\n",
    "print(p1.name)\n",
    "print(p2.name)"
   ]
  },
  {
   "cell_type": "code",
   "execution_count": 5,
   "id": "f5da2dcc",
   "metadata": {},
   "outputs": [
    {
     "name": "stdout",
     "output_type": "stream",
     "text": [
      "我是車子\n"
     ]
    }
   ],
   "source": [
    "class Car:\n",
    "    def exclaim(self):\n",
    "        print(\"我是車子\")\n",
    "\n",
    "giveMeCar = Car()\n",
    "giveMeCar.exclaim()"
   ]
  },
  {
   "cell_type": "code",
   "execution_count": 7,
   "id": "5c8ff0cc",
   "metadata": {},
   "outputs": [
    {
     "name": "stdout",
     "output_type": "stream",
     "text": [
      "我是Yugo\n"
     ]
    }
   ],
   "source": [
    "class Yugo(Car):\n",
    "    def exclaim(self):\n",
    "        print(\"我是Yugo\")\n",
    "\n",
    "giveMeYugo = Yugo()\n",
    "giveMeYugo.exclaim()\n"
   ]
  },
  {
   "cell_type": "code",
   "execution_count": 10,
   "id": "3cbcfde3",
   "metadata": {},
   "outputs": [
    {
     "name": "stdout",
     "output_type": "stream",
     "text": [
      "robert\n",
      "robert@gmail.com\n"
     ]
    }
   ],
   "source": [
    "class Person:\n",
    "    def __init__(self,name):\n",
    "        self.name = name\n",
    "\n",
    "class EmailPerson(Person):\n",
    "    def __init__(self,name,email):\n",
    "        super().__init__(name)\n",
    "        self.email = email\n",
    "\n",
    "emailP = EmailPerson(\"robert\",\"robert@gmail.com\")\n",
    "print(emailP.name)\n",
    "print(emailP.email)"
   ]
  },
  {
   "cell_type": "code",
   "execution_count": 15,
   "id": "17743c4a",
   "metadata": {},
   "outputs": [
    {
     "name": "stdout",
     "output_type": "stream",
     "text": [
      "Alice\n",
      "100\n"
     ]
    }
   ],
   "source": [
    "class Student:\n",
    "    def __init__(self,name):\n",
    "        self.__name = name\n",
    "        self.__chinese = 0\n",
    "        \n",
    "    @property\n",
    "    def name(self):\n",
    "        return self.__name\n",
    "    \n",
    "    @property\n",
    "    def chinese(self):\n",
    "        return self.__chinese\n",
    "    \n",
    "    @chinese.setter\n",
    "    def chinese(self, input_chinese):\n",
    "        if input_chinese < 0:\n",
    "            self.__chinese = 0\n",
    "        elif input_chinese > 100:\n",
    "            self.__chinese = 100\n",
    "        else:\n",
    "            self.__chinese = input_chinese\n",
    "    \n",
    "stu1 = Student(\"Alice\")\n",
    "print(stu1.name)\n",
    "stu1.chinese = -10\n",
    "print(stu1.chinese)"
   ]
  },
  {
   "cell_type": "code",
   "execution_count": 16,
   "id": "f64d5f8b",
   "metadata": {},
   "outputs": [
    {
     "name": "stdout",
     "output_type": "stream",
     "text": [
      "__main__\n"
     ]
    }
   ],
   "source": [
    "print(__name__)"
   ]
  },
  {
   "cell_type": "code",
   "execution_count": null,
   "id": "139d1211",
   "metadata": {},
   "outputs": [],
   "source": []
  }
 ],
 "metadata": {
  "kernelspec": {
   "display_name": "Python 3",
   "language": "python",
   "name": "python3"
  },
  "language_info": {
   "codemirror_mode": {
    "name": "ipython",
    "version": 3
   },
   "file_extension": ".py",
   "mimetype": "text/x-python",
   "name": "python",
   "nbconvert_exporter": "python",
   "pygments_lexer": "ipython3",
   "version": "3.8.7"
  }
 },
 "nbformat": 4,
 "nbformat_minor": 5
}
