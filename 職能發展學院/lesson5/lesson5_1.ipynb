{
 "cells": [
  {
   "cell_type": "code",
   "execution_count": 2,
   "id": "2f814197",
   "metadata": {},
   "outputs": [
    {
     "data": {
      "text/plain": [
       "datetime.date(2018, 10, 9)"
      ]
     },
     "execution_count": 2,
     "metadata": {},
     "output_type": "execute_result"
    }
   ],
   "source": [
    "from datetime import date\n",
    "#建立自訂的日期\n",
    "halloween = date(2018, 10, 9)\n",
    "halloween"
   ]
  },
  {
   "cell_type": "code",
   "execution_count": 6,
   "id": "b74b5c13",
   "metadata": {},
   "outputs": [
    {
     "name": "stdout",
     "output_type": "stream",
     "text": [
      "2018\n",
      "10\n",
      "9\n",
      "2018-10-09\n"
     ]
    }
   ],
   "source": [
    "print(halloween.year)\n",
    "print(halloween.month)\n",
    "print(halloween.day)\n",
    "print(halloween.isoformat())"
   ]
  },
  {
   "cell_type": "code",
   "execution_count": 9,
   "id": "3eff2e29",
   "metadata": {},
   "outputs": [
    {
     "name": "stdout",
     "output_type": "stream",
     "text": [
      "今天是2021,10月,28日\n",
      "2021-10-28\n"
     ]
    }
   ],
   "source": [
    "#建立今日\n",
    "now = date.today()\n",
    "print(f\"今天是{now.year},{now.month}月,{now.day}日\")\n",
    "print(now.isoformat())"
   ]
  },
  {
   "cell_type": "code",
   "execution_count": 12,
   "id": "2961f422",
   "metadata": {},
   "outputs": [
    {
     "data": {
      "text/plain": [
       "'2021-10-29'"
      ]
     },
     "execution_count": 12,
     "metadata": {},
     "output_type": "execute_result"
    }
   ],
   "source": [
    "#timedelta\n",
    "from datetime import date\n",
    "from datetime import timedelta\n",
    "\n",
    "now = date.today()\n",
    "one_day = timedelta(days=1)\n",
    "tomorrow = now + one_day\n",
    "tomorrow.isoformat()"
   ]
  },
  {
   "cell_type": "code",
   "execution_count": 15,
   "id": "77fb8c17",
   "metadata": {},
   "outputs": [
    {
     "name": "stdout",
     "output_type": "stream",
     "text": [
      "12\n",
      "0\n",
      "0\n"
     ]
    },
    {
     "data": {
      "text/plain": [
       "'12:00:00'"
      ]
     },
     "execution_count": 15,
     "metadata": {},
     "output_type": "execute_result"
    }
   ],
   "source": [
    "#time\n",
    "from datetime import time\n",
    "noon=time(12, 0, 0)\n",
    "print(noon.hour)\n",
    "print(noon.minute)\n",
    "print(noon.second)\n",
    "noon.isoformat()"
   ]
  },
  {
   "cell_type": "code",
   "execution_count": null,
   "id": "517bbe8f",
   "metadata": {},
   "outputs": [],
   "source": []
  }
 ],
 "metadata": {
  "kernelspec": {
   "display_name": "Python 3 (ipykernel)",
   "language": "python",
   "name": "python3"
  },
  "language_info": {
   "codemirror_mode": {
    "name": "ipython",
    "version": 3
   },
   "file_extension": ".py",
   "mimetype": "text/x-python",
   "name": "python",
   "nbconvert_exporter": "python",
   "pygments_lexer": "ipython3",
   "version": "3.8.7"
  }
 },
 "nbformat": 4,
 "nbformat_minor": 5
}
