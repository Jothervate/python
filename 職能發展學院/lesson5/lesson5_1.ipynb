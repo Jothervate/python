{
 "cells": [
  {
   "cell_type": "code",
   "execution_count": 2,
   "id": "cba1ce4c",
   "metadata": {},
   "outputs": [
    {
     "data": {
      "text/plain": [
       "datetime.date(2018, 10, 9)"
      ]
     },
     "execution_count": 2,
     "metadata": {},
     "output_type": "execute_result"
    }
   ],
   "source": [
    "from datetime import date\n",
    "#建立自訂的日期\n",
    "halloween = date(2018, 10, 9)\n",
    "halloween"
   ]
  },
  {
   "cell_type": "code",
   "execution_count": 6,
   "id": "17b0fe8a",
   "metadata": {},
   "outputs": [
    {
     "name": "stdout",
     "output_type": "stream",
     "text": [
      "2018\n",
      "10\n",
      "9\n",
      "2018-10-09\n"
     ]
    }
   ],
   "source": [
    "print(halloween.year)\n",
    "print(halloween.month)\n",
    "print(halloween.day)\n",
    "print(halloween.isoformat())"
   ]
  },
  {
   "cell_type": "code",
   "execution_count": 9,
   "id": "7e9d7124",
   "metadata": {},
   "outputs": [
    {
     "name": "stdout",
     "output_type": "stream",
     "text": [
      "今天是2021,10月,28日\n",
      "2021-10-28\n"
     ]
    }
   ],
   "source": [
    "#建立今日\n",
    "now = date.today()\n",
    "print(f\"今天是{now.year},{now.month}月,{now.day}日\")\n",
    "print(now.isoformat())"
   ]
  },
  {
   "cell_type": "code",
   "execution_count": null,
   "id": "c06cf647",
   "metadata": {},
   "outputs": [],
   "source": []
  }
 ],
 "metadata": {
  "kernelspec": {
   "display_name": "Python 3 (ipykernel)",
   "language": "python",
   "name": "python3"
  },
  "language_info": {
   "codemirror_mode": {
    "name": "ipython",
    "version": 3
   },
   "file_extension": ".py",
   "mimetype": "text/x-python",
   "name": "python",
   "nbconvert_exporter": "python",
   "pygments_lexer": "ipython3",
   "version": "3.8.7"
  }
 },
 "nbformat": 4,
 "nbformat_minor": 5
}
