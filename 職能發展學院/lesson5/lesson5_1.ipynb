{
 "cells": [
  {
   "cell_type": "code",
   "execution_count": 2,
   "id": "c6e55e8f",
   "metadata": {},
   "outputs": [
    {
     "data": {
      "text/plain": [
       "datetime.date(2018, 10, 9)"
      ]
     },
     "execution_count": 2,
     "metadata": {},
     "output_type": "execute_result"
    }
   ],
   "source": [
    "from datetime import date\n",
    "#建立自訂的日期\n",
    "halloween = date(2018, 10, 9)\n",
    "halloween"
   ]
  },
  {
   "cell_type": "code",
   "execution_count": 6,
   "id": "50de96c8",
   "metadata": {},
   "outputs": [
    {
     "name": "stdout",
     "output_type": "stream",
     "text": [
      "2018\n",
      "10\n",
      "9\n",
      "2018-10-09\n"
     ]
    }
   ],
   "source": [
    "print(halloween.year)\n",
    "print(halloween.month)\n",
    "print(halloween.day)\n",
    "print(halloween.isoformat())"
   ]
  },
  {
   "cell_type": "code",
   "execution_count": 9,
   "id": "cd6001f9",
   "metadata": {},
   "outputs": [
    {
     "name": "stdout",
     "output_type": "stream",
     "text": [
      "今天是2021,10月,28日\n",
      "2021-10-28\n"
     ]
    }
   ],
   "source": [
    "#建立今日\n",
    "now = date.today()\n",
    "print(f\"今天是{now.year},{now.month}月,{now.day}日\")\n",
    "print(now.isoformat())"
   ]
  },
  {
   "cell_type": "code",
   "execution_count": 12,
   "id": "bd31c940",
   "metadata": {},
   "outputs": [
    {
     "data": {
      "text/plain": [
       "'2021-10-29'"
      ]
     },
     "execution_count": 12,
     "metadata": {},
     "output_type": "execute_result"
    }
   ],
   "source": [
    "#timedelta\n",
    "from datetime import date\n",
    "from datetime import timedelta\n",
    "\n",
    "now = date.today()\n",
    "one_day = timedelta(days=1)\n",
    "tomorrow = now + one_day\n",
    "tomorrow.isoformat()"
   ]
  },
  {
   "cell_type": "code",
   "execution_count": 15,
   "id": "9b61adbb",
   "metadata": {},
   "outputs": [
    {
     "name": "stdout",
     "output_type": "stream",
     "text": [
      "12\n",
      "0\n",
      "0\n"
     ]
    },
    {
     "data": {
      "text/plain": [
       "'12:00:00'"
      ]
     },
     "execution_count": 15,
     "metadata": {},
     "output_type": "execute_result"
    }
   ],
   "source": [
    "#time\n",
    "from datetime import time\n",
    "noon=time(12, 0, 0)\n",
    "print(noon.hour)\n",
    "print(noon.minute)\n",
    "print(noon.second)\n",
    "noon.isoformat()"
   ]
  },
  {
   "cell_type": "code",
   "execution_count": 17,
   "id": "0d209ada",
   "metadata": {},
   "outputs": [
    {
     "data": {
      "text/plain": [
       "'2021-10-10T10:20:30.045678'"
      ]
     },
     "execution_count": 17,
     "metadata": {},
     "output_type": "execute_result"
    }
   ],
   "source": [
    "#datetime\n",
    "from datetime import datetime\n",
    "some_day = datetime(2021,10,10,10,20,30,45678)\n",
    "some_day.isoformat()"
   ]
  },
  {
   "cell_type": "code",
   "execution_count": 23,
   "id": "77cd539c",
   "metadata": {},
   "outputs": [
    {
     "name": "stdout",
     "output_type": "stream",
     "text": [
      "2021\n",
      "10\n",
      "28\n",
      "9\n",
      "17\n",
      "22\n"
     ]
    },
    {
     "data": {
      "text/plain": [
       "'2021-10-28T09:17:22.462023'"
      ]
     },
     "execution_count": 23,
     "metadata": {},
     "output_type": "execute_result"
    }
   ],
   "source": [
    "now = datetime.now()\n",
    "now\n",
    "print(now.year)\n",
    "print(now.month)\n",
    "print(now.day)\n",
    "print(now.hour)\n",
    "print(now.minute)\n",
    "print(now.second)\n",
    "now.isoformat()"
   ]
  },
  {
   "cell_type": "code",
   "execution_count": 21,
   "id": "a6de57ac",
   "metadata": {},
   "outputs": [
    {
     "name": "stdout",
     "output_type": "stream",
     "text": [
      "<class 'datetime.date'>\n"
     ]
    }
   ],
   "source": [
    "date = now.date()\n",
    "print(date.__class__)"
   ]
  },
  {
   "cell_type": "code",
   "execution_count": 22,
   "id": "85c9d4dc",
   "metadata": {},
   "outputs": [
    {
     "name": "stdout",
     "output_type": "stream",
     "text": [
      "<class 'datetime.time'>\n"
     ]
    }
   ],
   "source": [
    "time = now.time()\n",
    "print(time.__class__)"
   ]
  },
  {
   "cell_type": "code",
   "execution_count": 25,
   "id": "b01e368d",
   "metadata": {},
   "outputs": [
    {
     "data": {
      "text/plain": [
       "1635384365.671377"
      ]
     },
     "execution_count": 25,
     "metadata": {},
     "output_type": "execute_result"
    }
   ],
   "source": [
    "#time module\n",
    "\n",
    "import time\n",
    "now = time.time()\n",
    "now"
   ]
  },
  {
   "cell_type": "code",
   "execution_count": 26,
   "id": "2208d118",
   "metadata": {},
   "outputs": [
    {
     "data": {
      "text/plain": [
       "'Thu Oct 28 09:26:05 2021'"
      ]
     },
     "execution_count": 26,
     "metadata": {},
     "output_type": "execute_result"
    }
   ],
   "source": [
    "time.ctime(now)"
   ]
  },
  {
   "cell_type": "code",
   "execution_count": 29,
   "id": "ce43697e",
   "metadata": {},
   "outputs": [
    {
     "name": "stdout",
     "output_type": "stream",
     "text": [
      "2021\n"
     ]
    }
   ],
   "source": [
    "structTime = time.localtime(now)\n",
    "print(structTime.tm_year)"
   ]
  },
  {
   "cell_type": "code",
   "execution_count": 32,
   "id": "4a807818",
   "metadata": {},
   "outputs": [
    {
     "data": {
      "text/plain": [
       "time.struct_time(tm_year=2012, tm_mon=1, tm_mday=29, tm_hour=0, tm_min=0, tm_sec=0, tm_wday=6, tm_yday=29, tm_isdst=-1)"
      ]
     },
     "execution_count": 32,
     "metadata": {},
     "output_type": "execute_result"
    }
   ],
   "source": [
    "import time\n",
    "fmt = \"%Y-%m-%d\"\n",
    "structTime = time.strptime(\"2012-01-29\",fmt)\n",
    "structTime"
   ]
  },
  {
   "cell_type": "code",
   "execution_count": 33,
   "id": "f7888db4",
   "metadata": {},
   "outputs": [
    {
     "data": {
      "text/plain": [
       "'這個日期是2012年01月29日'"
      ]
     },
     "execution_count": 33,
     "metadata": {},
     "output_type": "execute_result"
    }
   ],
   "source": [
    "time.strftime(\"這個日期是%Y年%m月%d日\",structTime)"
   ]
  },
  {
   "cell_type": "code",
   "execution_count": 37,
   "id": "971deec2",
   "metadata": {},
   "outputs": [
    {
     "name": "stdout",
     "output_type": "stream",
     "text": [
      "2021年09月30日\n",
      "13:46:37\n"
     ]
    }
   ],
   "source": [
    "datatime_string = \"2021-09-30 13:46:37\"\n",
    "fmt = \"%Y-%m-%d %H:%M:%S\"\n",
    "structTime = time.strptime(datatime_string,fmt)\n",
    "print(time.strftime(\"%Y年%m月%d日\\n%H:%M:%S\",structTime))"
   ]
  },
  {
   "cell_type": "code",
   "execution_count": null,
   "id": "59934a77",
   "metadata": {},
   "outputs": [],
   "source": []
  }
 ],
 "metadata": {
  "kernelspec": {
   "display_name": "Python 3 (ipykernel)",
   "language": "python",
   "name": "python3"
  },
  "language_info": {
   "codemirror_mode": {
    "name": "ipython",
    "version": 3
   },
   "file_extension": ".py",
   "mimetype": "text/x-python",
   "name": "python",
   "nbconvert_exporter": "python",
   "pygments_lexer": "ipython3",
   "version": "3.8.7"
  }
 },
 "nbformat": 4,
 "nbformat_minor": 5
}
