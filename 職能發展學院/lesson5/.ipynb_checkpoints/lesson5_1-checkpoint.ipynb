{
 "cells": [
  {
   "cell_type": "code",
   "execution_count": 2,
   "id": "af39a198",
   "metadata": {},
   "outputs": [
    {
     "data": {
      "text/plain": [
       "datetime.date(2018, 10, 9)"
      ]
     },
     "execution_count": 2,
     "metadata": {},
     "output_type": "execute_result"
    }
   ],
   "source": [
    "from datetime import date\n",
    "#建立自訂的日期\n",
    "halloween = date(2018, 10, 9)\n",
    "halloween"
   ]
  },
  {
   "cell_type": "code",
   "execution_count": 6,
   "id": "5ccd00c5",
   "metadata": {},
   "outputs": [
    {
     "name": "stdout",
     "output_type": "stream",
     "text": [
      "2018\n",
      "10\n",
      "9\n",
      "2018-10-09\n"
     ]
    }
   ],
   "source": [
    "print(halloween.year)\n",
    "print(halloween.month)\n",
    "print(halloween.day)\n",
    "print(halloween.isoformat())"
   ]
  },
  {
   "cell_type": "code",
   "execution_count": 9,
   "id": "d34af80d",
   "metadata": {},
   "outputs": [
    {
     "name": "stdout",
     "output_type": "stream",
     "text": [
      "今天是2021,10月,28日\n",
      "2021-10-28\n"
     ]
    }
   ],
   "source": [
    "#建立今日\n",
    "now = date.today()\n",
    "print(f\"今天是{now.year},{now.month}月,{now.day}日\")\n",
    "print(now.isoformat())"
   ]
  },
  {
   "cell_type": "code",
   "execution_count": 12,
   "id": "f4c7baaf",
   "metadata": {},
   "outputs": [
    {
     "data": {
      "text/plain": [
       "'2021-10-29'"
      ]
     },
     "execution_count": 12,
     "metadata": {},
     "output_type": "execute_result"
    }
   ],
   "source": [
    "#timedelta\n",
    "from datetime import date\n",
    "from datetime import timedelta\n",
    "\n",
    "now = date.today()\n",
    "one_day = timedelta(days=1)\n",
    "tomorrow = now + one_day\n",
    "tomorrow.isoformat()"
   ]
  },
  {
   "cell_type": "code",
   "execution_count": 15,
   "id": "1cd5c24c",
   "metadata": {},
   "outputs": [
    {
     "name": "stdout",
     "output_type": "stream",
     "text": [
      "12\n",
      "0\n",
      "0\n"
     ]
    },
    {
     "data": {
      "text/plain": [
       "'12:00:00'"
      ]
     },
     "execution_count": 15,
     "metadata": {},
     "output_type": "execute_result"
    }
   ],
   "source": [
    "#time\n",
    "from datetime import time\n",
    "noon=time(12, 0, 0)\n",
    "print(noon.hour)\n",
    "print(noon.minute)\n",
    "print(noon.second)\n",
    "noon.isoformat()"
   ]
  },
  {
   "cell_type": "code",
   "execution_count": 17,
   "id": "1052118d",
   "metadata": {},
   "outputs": [
    {
     "data": {
      "text/plain": [
       "'2021-10-10T10:20:30.045678'"
      ]
     },
     "execution_count": 17,
     "metadata": {},
     "output_type": "execute_result"
    }
   ],
   "source": [
    "#datetime\n",
    "from datetime import datetime\n",
    "some_day = datetime(2021,10,10,10,20,30,45678)\n",
    "some_day.isoformat()"
   ]
  },
  {
   "cell_type": "code",
   "execution_count": 23,
   "id": "9499f835",
   "metadata": {},
   "outputs": [
    {
     "name": "stdout",
     "output_type": "stream",
     "text": [
      "2021\n",
      "10\n",
      "28\n",
      "9\n",
      "17\n",
      "22\n"
     ]
    },
    {
     "data": {
      "text/plain": [
       "'2021-10-28T09:17:22.462023'"
      ]
     },
     "execution_count": 23,
     "metadata": {},
     "output_type": "execute_result"
    }
   ],
   "source": [
    "now = datetime.now()\n",
    "now\n",
    "print(now.year)\n",
    "print(now.month)\n",
    "print(now.day)\n",
    "print(now.hour)\n",
    "print(now.minute)\n",
    "print(now.second)\n",
    "now.isoformat()"
   ]
  },
  {
   "cell_type": "code",
   "execution_count": 21,
   "id": "30ae66ab",
   "metadata": {},
   "outputs": [
    {
     "name": "stdout",
     "output_type": "stream",
     "text": [
      "<class 'datetime.date'>\n"
     ]
    }
   ],
   "source": [
    "date = now.date()\n",
    "print(date.__class__)"
   ]
  },
  {
   "cell_type": "code",
   "execution_count": 22,
   "id": "96cf2dbc",
   "metadata": {},
   "outputs": [
    {
     "name": "stdout",
     "output_type": "stream",
     "text": [
      "<class 'datetime.time'>\n"
     ]
    }
   ],
   "source": [
    "time = now.time()\n",
    "print(time.__class__)"
   ]
  },
  {
   "cell_type": "code",
   "execution_count": null,
   "id": "71fca89d",
   "metadata": {},
   "outputs": [],
   "source": []
  }
 ],
 "metadata": {
  "kernelspec": {
   "display_name": "Python 3 (ipykernel)",
   "language": "python",
   "name": "python3"
  },
  "language_info": {
   "codemirror_mode": {
    "name": "ipython",
    "version": 3
   },
   "file_extension": ".py",
   "mimetype": "text/x-python",
   "name": "python",
   "nbconvert_exporter": "python",
   "pygments_lexer": "ipython3",
   "version": "3.8.7"
  }
 },
 "nbformat": 4,
 "nbformat_minor": 5
}
