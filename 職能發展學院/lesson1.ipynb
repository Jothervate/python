{
 "cells": [
  {
   "cell_type": "code",
   "execution_count": 1,
   "id": "3c857727",
   "metadata": {},
   "outputs": [
    {
     "name": "stdout",
     "output_type": "stream",
     "text": [
      "Hello!Python!\n"
     ]
    }
   ],
   "source": [
    "print(\"Hello!Python!\")"
   ]
  },
  {
   "cell_type": "code",
   "execution_count": 2,
   "id": "8e04d5d9",
   "metadata": {},
   "outputs": [
    {
     "name": "stdout",
     "output_type": "stream",
     "text": [
      "<__main__.Person object at 0x7fbf4a3a6130>\n"
     ]
    }
   ],
   "source": [
    "#建立一個自訂類別\n",
    "class Person:\n",
    "    pass\n",
    "someone = Person()\n",
    "print(someone)\n",
    "sometwo = Person()\n",
    "someThree = Person()"
   ]
  },
  {
   "cell_type": "code",
   "execution_count": 10,
   "id": "99ea4fa9",
   "metadata": {},
   "outputs": [
    {
     "name": "stdout",
     "output_type": "stream",
     "text": [
      "robert\n",
      "Alice\n",
      "Jenny\n"
     ]
    }
   ],
   "source": [
    "class Person:\n",
    "    #自訂初始化init\n",
    "    def __init__(self,n,year):\n",
    "        self.name = n\n",
    "        self.age = year\n",
    "\n",
    "someone = Person(\"robert\",25)\n",
    "print(someone.name)\n",
    "print(\"age=\",someone.age)\n",
    "\n",
    "sometwo = Person(\"Alice\",31)\n",
    "print(sometwo.name)\n",
    "\n",
    "somethree = Person(\"Jenny\",34)\n",
    "print(somethree.name)"
   ]
  },
  {
   "cell_type": "code",
   "execution_count": null,
   "id": "595e29d8",
   "metadata": {},
   "outputs": [],
   "source": []
  }
 ],
 "metadata": {
  "kernelspec": {
   "display_name": "Python 3",
   "language": "python",
   "name": "python3"
  },
  "language_info": {
   "codemirror_mode": {
    "name": "ipython",
    "version": 3
   },
   "file_extension": ".py",
   "mimetype": "text/x-python",
   "name": "python",
   "nbconvert_exporter": "python",
   "pygments_lexer": "ipython3",
   "version": "3.8.7"
  }
 },
 "nbformat": 4,
 "nbformat_minor": 5
}
