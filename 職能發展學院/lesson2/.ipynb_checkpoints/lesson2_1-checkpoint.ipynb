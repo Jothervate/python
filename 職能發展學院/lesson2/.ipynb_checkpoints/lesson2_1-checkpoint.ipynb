{
 "cells": [
  {
   "cell_type": "code",
   "execution_count": 1,
   "id": "51eb49fa",
   "metadata": {},
   "outputs": [
    {
     "name": "stdout",
     "output_type": "stream",
     "text": [
      "hello! Window!\n"
     ]
    }
   ],
   "source": [
    "print(\"hello! Window!\")"
   ]
  },
  {
   "cell_type": "code",
   "execution_count": null,
   "id": "3aa7b805",
   "metadata": {},
   "outputs": [],
   "source": [
    "import csv\n",
    "import json\n",
    "import requests\n",
    "\n",
    "youbikeURL = 'https://tcgbusfs.blob.core.windows.net/blobyoubike/YouBikeTP.json'\n",
    "res = requests.get(youbikeURL)\n",
    "res.status_code\n",
    "res.text"
   ]
  },
  {
   "cell_type": "code",
   "execution_count": null,
   "id": "7b14a255",
   "metadata": {},
   "outputs": [],
   "source": []
  }
 ],
 "metadata": {
  "kernelspec": {
   "display_name": "Python 3 (ipykernel)",
   "language": "python",
   "name": "python3"
  },
  "language_info": {
   "codemirror_mode": {
    "name": "ipython",
    "version": 3
   },
   "file_extension": ".py",
   "mimetype": "text/x-python",
   "name": "python",
   "nbconvert_exporter": "python",
   "pygments_lexer": "ipython3",
   "version": "3.8.7"
  }
 },
 "nbformat": 4,
 "nbformat_minor": 5
}
