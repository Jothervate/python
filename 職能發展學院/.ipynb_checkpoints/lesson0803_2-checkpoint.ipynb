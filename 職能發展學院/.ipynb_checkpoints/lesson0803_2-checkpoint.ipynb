{
 "cells": [
  {
   "cell_type": "code",
   "execution_count": 3,
   "id": "1ab1bfa3",
   "metadata": {},
   "outputs": [
    {
     "name": "stdout",
     "output_type": "stream",
     "text": [
      "文字最前面搜尋到Hello\n"
     ]
    }
   ],
   "source": [
    "#正規則表達式\n",
    "#match()\n",
    "import re\n",
    "\n",
    "strText = \"Hello Python Programming\"\n",
    "matchObject = re.match(r\"hello\", strText, re.I)\n",
    "if matchObject is None:\n",
    "    print(\"文字最前面沒有搜尋到\")\n",
    "else:\n",
    "    print(f\"文字最前面搜尋到{matchObject.group()}\")\n"
   ]
  },
  {
   "cell_type": "code",
   "execution_count": null,
   "id": "56798846",
   "metadata": {},
   "outputs": [],
   "source": []
  }
 ],
 "metadata": {
  "kernelspec": {
   "display_name": "Python 3",
   "language": "python",
   "name": "python3"
  },
  "language_info": {
   "codemirror_mode": {
    "name": "ipython",
    "version": 3
   },
   "file_extension": ".py",
   "mimetype": "text/x-python",
   "name": "python",
   "nbconvert_exporter": "python",
   "pygments_lexer": "ipython3",
   "version": "3.8.7"
  }
 },
 "nbformat": 4,
 "nbformat_minor": 5
}
