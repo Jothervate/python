{
 "cells": [
  {
   "cell_type": "code",
   "execution_count": 3,
   "id": "46667a90",
   "metadata": {},
   "outputs": [
    {
     "name": "stdout",
     "output_type": "stream",
     "text": [
      "文字最前面搜尋到Hello\n"
     ]
    }
   ],
   "source": [
    "#正規則表達式\n",
    "#match()\n",
    "import re\n",
    "\n",
    "strText = \"Hello Python Programming\"\n",
    "matchObject = re.match(r\"hello\", strText, re.I)\n",
    "if matchObject is None:\n",
    "    print(\"文字最前面沒有搜尋到\")\n",
    "else:\n",
    "    print(f\"文字最前面搜尋到{matchObject.group()}\")\n"
   ]
  },
  {
   "cell_type": "code",
   "execution_count": 10,
   "id": "65698869",
   "metadata": {},
   "outputs": [
    {
     "name": "stdout",
     "output_type": "stream",
     "text": [
      "符合格式\n"
     ]
    }
   ],
   "source": [
    "import re\n",
    "line = \"roberthsu2003@gmail.com\"\n",
    "pattern = r\"(^[a-zA-Z0-9_.+-]+@[a-zA-Z0-9-]+\\.[a-zA-Z0-9-.]+$)\"\n",
    "matchObj = re.match(pattern, line)\n",
    "if matchObj:\n",
    "    print(\"符合格式\")\n",
    "else:\n",
    "    print(\"沒有匹配\")"
   ]
  },
  {
   "cell_type": "code",
   "execution_count": 12,
   "id": "8f6db4e1",
   "metadata": {},
   "outputs": [
    {
     "name": "stdout",
     "output_type": "stream",
     "text": [
      "沒有搜尋到\n"
     ]
    }
   ],
   "source": [
    "import re\n",
    "str = \"Hello Python Programming\"\n",
    "searchObject = re.search(r'programming',str, re.I)\n",
    "if searchObject:\n",
    "    print(\"有搜尋到\")\n",
    "else:\n",
    "    print(\"沒有搜尋到\")"
   ]
  },
  {
   "cell_type": "code",
   "execution_count": 24,
   "id": "e77a76ae",
   "metadata": {},
   "outputs": [
    {
     "name": "stdout",
     "output_type": "stream",
     "text": [
      "['65', '4']\n"
     ]
    }
   ],
   "source": [
    "#findall\n",
    "import re\n",
    "str1 = \"Working 65 hours a day. Studying 4 hours a day.\"\n",
    "mobj = re.findall(r\"\\d+\",str1)\n",
    "print(mobj)"
   ]
  },
  {
   "cell_type": "code",
   "execution_count": 27,
   "id": "befcd79b",
   "metadata": {},
   "outputs": [
    {
     "data": {
      "text/plain": [
       "'Birds fly high in the sky for ever'"
      ]
     },
     "execution_count": 27,
     "metadata": {},
     "output_type": "execute_result"
    }
   ],
   "source": [
    "#split()\n",
    "import re\n",
    "str1 = \"Birds   fly  high in    the   sky for ever\"\n",
    "splitList = re.split(r'\\s+',str1)\n",
    "\" \".join(splitList)"
   ]
  },
  {
   "cell_type": "code",
   "execution_count": 32,
   "id": "c9ac07ab",
   "metadata": {},
   "outputs": [
    {
     "name": "stdout",
     "output_type": "stream",
     "text": [
      "請輸入身份證字號:A1234567890\n",
      "A1234567890 不符合格式\n"
     ]
    }
   ],
   "source": [
    "#驗證身份證字號\n",
    "import re\n",
    "taiwanID = input(\"請輸入身份證字號:\")\n",
    "matchObj=re.match(r\"[A-Z]\\d{9}$\",taiwanID,re.I)\n",
    "if matchObj:\n",
    "    print(matchObj.group(), \":正確\")\n",
    "else:\n",
    "    print(taiwanID,\"不符合格式\")"
   ]
  },
  {
   "cell_type": "code",
   "execution_count": 36,
   "id": "4dcd6576",
   "metadata": {},
   "outputs": [
    {
     "name": "stdout",
     "output_type": "stream",
     "text": [
      "請輸入多筆email:內政部公開New eID換發系統建置及維護案，規定業bogusemail123@sillymail.com者須在明年6月10日前完成相關系統開發，包括New eID管理系統、戶役政資訊系統軟硬robert@gmail.com擴充、維護、人員訓練等。LINE GrayLab資安研究roberthsu2003@gmail.com室負責人公布他們在企業內部與產品發布的資安防護作法，同時也透露他們最新的諸多進展\n",
      "['bogusemail123@sillymail.com', 'robert@gmail.com', 'roberthsu2003@gmail.com']\n",
      "bogusemail123@sillymail.com\n",
      "robert@gmail.com\n",
      "roberthsu2003@gmail.com\n"
     ]
    }
   ],
   "source": [
    "#取出所有的email\n",
    "import re\n",
    "emails = input('請輸入多筆email:')\n",
    "emailPattern = r\"([a-zA-Z0-9_.+-]+@[a-zA-Z0-9-]+\\.[a-zA-Z0-9-.]+)\"\n",
    "getEmails = re.findall(emailPattern, emails)\n",
    "print(getEmails)\n",
    "for email in getEmails:\n",
    "    print(email)"
   ]
  },
  {
   "cell_type": "code",
   "execution_count": null,
   "id": "d4557f93",
   "metadata": {},
   "outputs": [],
   "source": []
  }
 ],
 "metadata": {
  "kernelspec": {
   "display_name": "Python 3",
   "language": "python",
   "name": "python3"
  },
  "language_info": {
   "codemirror_mode": {
    "name": "ipython",
    "version": 3
   },
   "file_extension": ".py",
   "mimetype": "text/x-python",
   "name": "python",
   "nbconvert_exporter": "python",
   "pygments_lexer": "ipython3",
   "version": "3.8.7"
  }
 },
 "nbformat": 4,
 "nbformat_minor": 5
}
