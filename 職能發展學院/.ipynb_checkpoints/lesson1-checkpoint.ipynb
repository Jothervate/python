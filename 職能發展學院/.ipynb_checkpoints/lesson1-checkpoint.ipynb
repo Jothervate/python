{
 "cells": [
  {
   "cell_type": "code",
   "execution_count": 1,
   "id": "115eacc6",
   "metadata": {},
   "outputs": [
    {
     "name": "stdout",
     "output_type": "stream",
     "text": [
      "Hello!Python!\n"
     ]
    }
   ],
   "source": [
    "print(\"Hello!Python!\")"
   ]
  },
  {
   "cell_type": "code",
   "execution_count": 2,
   "id": "077861a9",
   "metadata": {},
   "outputs": [
    {
     "name": "stdout",
     "output_type": "stream",
     "text": [
      "<__main__.Person object at 0x7ffa1e38f970>\n"
     ]
    }
   ],
   "source": [
    "#建立一個自訂類別\n",
    "class Person:\n",
    "    pass\n",
    "someone = Person()\n",
    "print(someone)"
   ]
  },
  {
   "cell_type": "code",
   "execution_count": null,
   "id": "4a0902a2",
   "metadata": {},
   "outputs": [],
   "source": []
  }
 ],
 "metadata": {
  "kernelspec": {
   "display_name": "Python 3",
   "language": "python",
   "name": "python3"
  },
  "language_info": {
   "codemirror_mode": {
    "name": "ipython",
    "version": 3
   },
   "file_extension": ".py",
   "mimetype": "text/x-python",
   "name": "python",
   "nbconvert_exporter": "python",
   "pygments_lexer": "ipython3",
   "version": "3.8.7"
  }
 },
 "nbformat": 4,
 "nbformat_minor": 5
}
