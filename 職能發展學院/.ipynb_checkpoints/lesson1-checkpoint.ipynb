{
 "cells": [
  {
   "cell_type": "code",
   "execution_count": 1,
   "id": "3c857727",
   "metadata": {},
   "outputs": [
    {
     "name": "stdout",
     "output_type": "stream",
     "text": [
      "Hello!Python!\n"
     ]
    }
   ],
   "source": [
    "print(\"Hello!Python!\")"
   ]
  },
  {
   "cell_type": "code",
   "execution_count": 2,
   "id": "8e04d5d9",
   "metadata": {},
   "outputs": [
    {
     "name": "stdout",
     "output_type": "stream",
     "text": [
      "<__main__.Person object at 0x7fbf4a3a6130>\n"
     ]
    }
   ],
   "source": [
    "#建立一個自訂類別\n",
    "class Person:\n",
    "    pass\n",
    "someone = Person()\n",
    "print(someone)\n",
    "sometwo = Person()\n",
    "someThree = Person()"
   ]
  },
  {
   "cell_type": "code",
   "execution_count": 8,
   "id": "99ea4fa9",
   "metadata": {},
   "outputs": [
    {
     "name": "stdout",
     "output_type": "stream",
     "text": [
      "執行初始化\n",
      "執行初始化\n",
      "執行初始化\n"
     ]
    }
   ],
   "source": [
    "class Person:\n",
    "    #自訂初始化init\n",
    "    def __init__(self):\n",
    "        print(\"執行初始化\")\n",
    "\n",
    "someone = Person()\n",
    "sometwo = Person()\n",
    "somethree = Person()"
   ]
  },
  {
   "cell_type": "code",
   "execution_count": null,
   "id": "7d262f1d",
   "metadata": {},
   "outputs": [],
   "source": []
  }
 ],
 "metadata": {
  "kernelspec": {
   "display_name": "Python 3",
   "language": "python",
   "name": "python3"
  },
  "language_info": {
   "codemirror_mode": {
    "name": "ipython",
    "version": 3
   },
   "file_extension": ".py",
   "mimetype": "text/x-python",
   "name": "python",
   "nbconvert_exporter": "python",
   "pygments_lexer": "ipython3",
   "version": "3.8.7"
  }
 },
 "nbformat": 4,
 "nbformat_minor": 5
}
