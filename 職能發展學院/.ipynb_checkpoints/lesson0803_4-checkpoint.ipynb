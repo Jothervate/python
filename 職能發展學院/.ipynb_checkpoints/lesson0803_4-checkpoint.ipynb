{
 "cells": [
  {
   "cell_type": "code",
   "execution_count": 2,
   "id": "cd786c30",
   "metadata": {},
   "outputs": [
    {
     "name": "stdout",
     "output_type": "stream",
     "text": [
      "<meta http-equiv=\"Content-Type\" content=\"text/html; charset=utf-8\">請勿透過網站內容下載軟體查詢本網站\n"
     ]
    }
   ],
   "source": [
    "import requests\n",
    "url = \"https://goodinfo.tw/StockInfo/StockBzPerformance.asp?STOCK_ID=2330\"\n",
    "response = requests.get(url)\n",
    "response.encoding=\"utf-8\"\n",
    "print(response.text)"
   ]
  },
  {
   "cell_type": "code",
   "execution_count": null,
   "id": "24787d0d",
   "metadata": {},
   "outputs": [],
   "source": []
  }
 ],
 "metadata": {
  "kernelspec": {
   "display_name": "Python 3",
   "language": "python",
   "name": "python3"
  },
  "language_info": {
   "codemirror_mode": {
    "name": "ipython",
    "version": 3
   },
   "file_extension": ".py",
   "mimetype": "text/x-python",
   "name": "python",
   "nbconvert_exporter": "python",
   "pygments_lexer": "ipython3",
   "version": "3.8.7"
  }
 },
 "nbformat": 4,
 "nbformat_minor": 5
}
