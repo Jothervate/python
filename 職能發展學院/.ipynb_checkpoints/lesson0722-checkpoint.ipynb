{
 "cells": [
  {
   "cell_type": "code",
   "execution_count": 1,
   "id": "888ded8d",
   "metadata": {},
   "outputs": [
    {
     "data": {
      "text/plain": [
       "False"
      ]
     },
     "execution_count": 1,
     "metadata": {},
     "output_type": "execute_result"
    }
   ],
   "source": [
    "import calendar\n",
    "calendar.isleap(1900)"
   ]
  },
  {
   "cell_type": "code",
   "execution_count": 3,
   "id": "b9b48fcd",
   "metadata": {},
   "outputs": [
    {
     "data": {
      "text/plain": [
       "True"
      ]
     },
     "execution_count": 3,
     "metadata": {},
     "output_type": "execute_result"
    }
   ],
   "source": [
    "calendar.isleap(2000)"
   ]
  },
  {
   "cell_type": "code",
   "execution_count": 6,
   "id": "ff196502",
   "metadata": {},
   "outputs": [
    {
     "data": {
      "text/plain": [
       "datetime.date(2018, 10, 9)"
      ]
     },
     "execution_count": 6,
     "metadata": {},
     "output_type": "execute_result"
    }
   ],
   "source": [
    "from datetime import date\n",
    "halloween = date(2018, 10, 9)\n",
    "halloween"
   ]
  },
  {
   "cell_type": "code",
   "execution_count": 7,
   "id": "4e235aec",
   "metadata": {},
   "outputs": [
    {
     "data": {
      "text/plain": [
       "'2018-10-09'"
      ]
     },
     "execution_count": 7,
     "metadata": {},
     "output_type": "execute_result"
    }
   ],
   "source": [
    "halloween.isoformat()"
   ]
  },
  {
   "cell_type": "code",
   "execution_count": 11,
   "id": "aa803271",
   "metadata": {},
   "outputs": [],
   "source": [
    "halloween.day"
   ]
  },
  {
   "cell_type": "code",
   "execution_count": 12,
   "id": "6b0aa6ce",
   "metadata": {},
   "outputs": [],
   "source": [
    "halloween"
   ]
  },
  {
   "cell_type": "code",
   "execution_count": 16,
   "id": "1e31f1c2",
   "metadata": {},
   "outputs": [
    {
     "name": "stdout",
     "output_type": "stream",
     "text": [
      "2021\n",
      "7\n",
      "22\n"
     ]
    },
    {
     "data": {
      "text/plain": [
       "'今天是2021年7月22日'"
      ]
     },
     "execution_count": 16,
     "metadata": {},
     "output_type": "execute_result"
    }
   ],
   "source": [
    "#取得今天的日期\n",
    "now = date.today()\n",
    "print(now.year)\n",
    "print(now.month)\n",
    "print(now.day)\n",
    "\"今天是{0:d}年{1:d}月{2:d}日\".format(now.year,now.month,now.day)"
   ]
  },
  {
   "cell_type": "code",
   "execution_count": 19,
   "id": "c308a565",
   "metadata": {},
   "outputs": [
    {
     "name": "stdout",
     "output_type": "stream",
     "text": [
      "2021-07-23\n",
      "2021-07-21\n",
      "2021-08-21\n"
     ]
    }
   ],
   "source": [
    "from datetime import date\n",
    "from datetime import timedelta\n",
    "now = date.today()\n",
    "one_day = timedelta(days=1)\n",
    "tomorrow = now + one_day\n",
    "print(tomorrow)\n",
    "yesterday = now - one_day\n",
    "print(yesterday)\n",
    "after30 = now + one_day * 30\n",
    "print(after30)"
   ]
  },
  {
   "cell_type": "code",
   "execution_count": null,
   "id": "12866ae8",
   "metadata": {},
   "outputs": [],
   "source": []
  }
 ],
 "metadata": {
  "kernelspec": {
   "display_name": "Python 3",
   "language": "python",
   "name": "python3"
  },
  "language_info": {
   "codemirror_mode": {
    "name": "ipython",
    "version": 3
   },
   "file_extension": ".py",
   "mimetype": "text/x-python",
   "name": "python",
   "nbconvert_exporter": "python",
   "pygments_lexer": "ipython3",
   "version": "3.8.7"
  }
 },
 "nbformat": 4,
 "nbformat_minor": 5
}
