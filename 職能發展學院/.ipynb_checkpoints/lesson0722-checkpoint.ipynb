{
 "cells": [
  {
   "cell_type": "code",
   "execution_count": 1,
   "id": "f5de2b52",
   "metadata": {},
   "outputs": [
    {
     "data": {
      "text/plain": [
       "False"
      ]
     },
     "execution_count": 1,
     "metadata": {},
     "output_type": "execute_result"
    }
   ],
   "source": [
    "import calendar\n",
    "calendar.isleap(1900)"
   ]
  },
  {
   "cell_type": "code",
   "execution_count": 3,
   "id": "dab60548",
   "metadata": {},
   "outputs": [
    {
     "data": {
      "text/plain": [
       "True"
      ]
     },
     "execution_count": 3,
     "metadata": {},
     "output_type": "execute_result"
    }
   ],
   "source": [
    "calendar.isleap(2000)"
   ]
  },
  {
   "cell_type": "code",
   "execution_count": 6,
   "id": "0769ce1e",
   "metadata": {},
   "outputs": [
    {
     "data": {
      "text/plain": [
       "datetime.date(2018, 10, 9)"
      ]
     },
     "execution_count": 6,
     "metadata": {},
     "output_type": "execute_result"
    }
   ],
   "source": [
    "from datetime import date\n",
    "halloween = date(2018, 10, 9)\n",
    "halloween"
   ]
  },
  {
   "cell_type": "code",
   "execution_count": 7,
   "id": "8390eee0",
   "metadata": {},
   "outputs": [
    {
     "data": {
      "text/plain": [
       "'2018-10-09'"
      ]
     },
     "execution_count": 7,
     "metadata": {},
     "output_type": "execute_result"
    }
   ],
   "source": [
    "halloween.isoformat()"
   ]
  },
  {
   "cell_type": "code",
   "execution_count": 11,
   "id": "94e6398c",
   "metadata": {},
   "outputs": [],
   "source": [
    "halloween.day"
   ]
  },
  {
   "cell_type": "code",
   "execution_count": 10,
   "id": "1847699a",
   "metadata": {},
   "outputs": [],
   "source": [
    "halloween?"
   ]
  },
  {
   "cell_type": "code",
   "execution_count": null,
   "id": "d9c0ad32",
   "metadata": {},
   "outputs": [],
   "source": []
  }
 ],
 "metadata": {
  "kernelspec": {
   "display_name": "Python 3",
   "language": "python",
   "name": "python3"
  },
  "language_info": {
   "codemirror_mode": {
    "name": "ipython",
    "version": 3
   },
   "file_extension": ".py",
   "mimetype": "text/x-python",
   "name": "python",
   "nbconvert_exporter": "python",
   "pygments_lexer": "ipython3",
   "version": "3.8.7"
  }
 },
 "nbformat": 4,
 "nbformat_minor": 5
}
