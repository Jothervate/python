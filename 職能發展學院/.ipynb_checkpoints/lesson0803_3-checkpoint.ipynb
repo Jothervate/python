{
 "cells": [
  {
   "cell_type": "code",
   "execution_count": 3,
   "id": "f9626517",
   "metadata": {},
   "outputs": [],
   "source": [
    "html_doc = \"\"\"\n",
    " <html>\n",
    "  <head>\n",
    "   <title>\n",
    "    The Dormouse's story\n",
    "   </title>\n",
    "  </head>\n",
    "  <body>\n",
    "  <p class=\"title\">\n",
    "    <b>\n",
    "    The Dormouse's story\n",
    "    </b>\n",
    "   </p>\n",
    "   <p class=\"story\">\n",
    "    Once upon a time there were three little sisters; and their names were\n",
    "    <a class=\"sister\" href=\"http://example.com/elsie\" id=\"link1\">\n",
    "     Elsie\n",
    "   </a>\n",
    "    ,\n",
    "    <a class=\"sister\" href=\"http://example.com/lacie\" id=\"link2\">\n",
    "     Lacie\n",
    "   </a>\n",
    "    and\n",
    "    <a class=\"sister\" href=\"http://example.com/tillie\" id=\"link3\">\n",
    "     Tillie\n",
    "    </a>\n",
    "    ; and they lived at the bottom of a well.\n",
    "   </p>\n",
    "   <p class=\"story\">\n",
    "    ...\n",
    "   </p>\n",
    "  </body>\n",
    " </html>\n",
    "\"\"\"\n"
   ]
  },
  {
   "cell_type": "code",
   "execution_count": 14,
   "id": "30389eab",
   "metadata": {},
   "outputs": [
    {
     "name": "stdout",
     "output_type": "stream",
     "text": [
      "<title>\n",
      "    The Dormouse's story\n",
      "   </title>\n",
      "title\n",
      "\n",
      "    The Dormouse's story\n",
      "   \n",
      "head\n",
      "None\n"
     ]
    }
   ],
   "source": [
    "from bs4 import BeautifulSoup\n",
    "soup = BeautifulSoup(html_doc,'html.parser')\n",
    "soup.prettify()\n",
    "title=soup.title\n",
    "print(title)\n",
    "print(title.name)\n",
    "print(title.string)\n",
    "print(title.parent.name)\n",
    "print(title.parent.string)"
   ]
  },
  {
   "cell_type": "code",
   "execution_count": 23,
   "id": "1faf9c09",
   "metadata": {},
   "outputs": [
    {
     "name": "stdout",
     "output_type": "stream",
     "text": [
      "<p class=\"title\">\n",
      "<b>\n",
      "    The Dormouse's story\n",
      "    </b>\n",
      "</p>\n",
      "p\n",
      "\n",
      "    The Dormouse's story\n",
      "    \n",
      "['title']\n"
     ]
    }
   ],
   "source": [
    "print(soup.p)\n",
    "print(soup.p.name)\n",
    "print(soup.p.b.string)\n",
    "print(soup.p[\"class\"])"
   ]
  },
  {
   "cell_type": "code",
   "execution_count": 22,
   "id": "c2f70a30",
   "metadata": {},
   "outputs": [
    {
     "name": "stdout",
     "output_type": "stream",
     "text": [
      "<p class=\"title\">\n",
      "<b>\n",
      "    The Dormouse's story\n",
      "    </b>\n",
      "</p>\n",
      "<p class=\"story\">\n",
      "    Once upon a time there were three little sisters; and their names were\n",
      "    <a class=\"sister\" href=\"http://example.com/elsie\" id=\"link1\">\n",
      "     Elsie\n",
      "   </a>\n",
      "    ,\n",
      "    <a class=\"sister\" href=\"http://example.com/lacie\" id=\"link2\">\n",
      "     Lacie\n",
      "   </a>\n",
      "    and\n",
      "    <a class=\"sister\" href=\"http://example.com/tillie\" id=\"link3\">\n",
      "     Tillie\n",
      "    </a>\n",
      "    ; and they lived at the bottom of a well.\n",
      "   </p>\n",
      "<p class=\"story\">\n",
      "    ...\n",
      "   </p>\n"
     ]
    }
   ],
   "source": [
    "plist=soup.find_all('p')\n",
    "for p in plist:\n",
    "    print(p)"
   ]
  },
  {
   "cell_type": "code",
   "execution_count": 25,
   "id": "2bfe75ac",
   "metadata": {},
   "outputs": [
    {
     "name": "stdout",
     "output_type": "stream",
     "text": [
      "http://example.com/elsie\n",
      "http://example.com/lacie\n",
      "http://example.com/tillie\n"
     ]
    }
   ],
   "source": [
    "aResultSet = soup.find_all('a')\n",
    "for a in aResultSet:\n",
    "    print(a[\"href\"])"
   ]
  },
  {
   "cell_type": "code",
   "execution_count": null,
   "id": "38ea51dc",
   "metadata": {},
   "outputs": [],
   "source": []
  }
 ],
 "metadata": {
  "kernelspec": {
   "display_name": "Python 3",
   "language": "python",
   "name": "python3"
  },
  "language_info": {
   "codemirror_mode": {
    "name": "ipython",
    "version": 3
   },
   "file_extension": ".py",
   "mimetype": "text/x-python",
   "name": "python",
   "nbconvert_exporter": "python",
   "pygments_lexer": "ipython3",
   "version": "3.8.7"
  }
 },
 "nbformat": 4,
 "nbformat_minor": 5
}
