{
 "cells": [
  {
   "cell_type": "code",
   "execution_count": 5,
   "id": "8165a6e8",
   "metadata": {},
   "outputs": [],
   "source": [
    "#空氣品質AQI的csv檔,線上下載\n",
    "import requests\n",
    "\n",
    "downloadURL = \"https://data.epa.gov.tw/api/v1/aqx_p_432?limit=1000&api_key=9be7b239-557b-4c10-9775-78cadfc555e9&sort=ImportDate%20desc&format=csv\"\n",
    "response = requests.get(downloadURL,stream=True)\n",
    "with open('aqi.csv','wb') as fileObject:\n",
    "    #寫入檔案\n",
    "    for chunk in response.iter_content(chunk_size=128):\n",
    "        fileObject.write(chunk)\n",
    "    \n"
   ]
  },
  {
   "cell_type": "code",
   "execution_count": null,
   "id": "96bc3424",
   "metadata": {},
   "outputs": [],
   "source": []
  }
 ],
 "metadata": {
  "kernelspec": {
   "display_name": "Python 3",
   "language": "python",
   "name": "python3"
  },
  "language_info": {
   "codemirror_mode": {
    "name": "ipython",
    "version": 3
   },
   "file_extension": ".py",
   "mimetype": "text/x-python",
   "name": "python",
   "nbconvert_exporter": "python",
   "pygments_lexer": "ipython3",
   "version": "3.8.7"
  }
 },
 "nbformat": 4,
 "nbformat_minor": 5
}
