{
 "cells": [
  {
   "cell_type": "code",
   "execution_count": 1,
   "id": "f9c2119f",
   "metadata": {},
   "outputs": [
    {
     "data": {
      "text/plain": [
       "False"
      ]
     },
     "execution_count": 1,
     "metadata": {},
     "output_type": "execute_result"
    }
   ],
   "source": [
    "import calendar\n",
    "calendar.isleap(1900)"
   ]
  },
  {
   "cell_type": "code",
   "execution_count": 3,
   "id": "b65959e3",
   "metadata": {},
   "outputs": [
    {
     "data": {
      "text/plain": [
       "True"
      ]
     },
     "execution_count": 3,
     "metadata": {},
     "output_type": "execute_result"
    }
   ],
   "source": [
    "calendar.isleap(2000)"
   ]
  },
  {
   "cell_type": "code",
   "execution_count": 6,
   "id": "c3d48505",
   "metadata": {},
   "outputs": [
    {
     "data": {
      "text/plain": [
       "datetime.date(2018, 10, 9)"
      ]
     },
     "execution_count": 6,
     "metadata": {},
     "output_type": "execute_result"
    }
   ],
   "source": [
    "from datetime import date\n",
    "halloween = date(2018, 10, 9)\n",
    "halloween"
   ]
  },
  {
   "cell_type": "code",
   "execution_count": 7,
   "id": "4a92bf78",
   "metadata": {},
   "outputs": [
    {
     "data": {
      "text/plain": [
       "'2018-10-09'"
      ]
     },
     "execution_count": 7,
     "metadata": {},
     "output_type": "execute_result"
    }
   ],
   "source": [
    "halloween.isoformat()"
   ]
  },
  {
   "cell_type": "code",
   "execution_count": 11,
   "id": "07c54132",
   "metadata": {},
   "outputs": [],
   "source": [
    "halloween.day"
   ]
  },
  {
   "cell_type": "code",
   "execution_count": 12,
   "id": "a360e189",
   "metadata": {},
   "outputs": [],
   "source": [
    "halloween"
   ]
  },
  {
   "cell_type": "code",
   "execution_count": 14,
   "id": "69702f53",
   "metadata": {},
   "outputs": [
    {
     "name": "stdout",
     "output_type": "stream",
     "text": [
      "2021\n",
      "7\n",
      "22\n"
     ]
    }
   ],
   "source": [
    "#取得今天的日期\n",
    "now = date.today()\n",
    "print(now.year)\n",
    "print(now.month)\n",
    "print(now.day)\n",
    "\"今天是{0:s}年{1:s}月{2:s}日\".format(now.year,n)"
   ]
  },
  {
   "cell_type": "code",
   "execution_count": null,
   "id": "63a91cba",
   "metadata": {},
   "outputs": [],
   "source": []
  }
 ],
 "metadata": {
  "kernelspec": {
   "display_name": "Python 3",
   "language": "python",
   "name": "python3"
  },
  "language_info": {
   "codemirror_mode": {
    "name": "ipython",
    "version": 3
   },
   "file_extension": ".py",
   "mimetype": "text/x-python",
   "name": "python",
   "nbconvert_exporter": "python",
   "pygments_lexer": "ipython3",
   "version": "3.8.7"
  }
 },
 "nbformat": 4,
 "nbformat_minor": 5
}
