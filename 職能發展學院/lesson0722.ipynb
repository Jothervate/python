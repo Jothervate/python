{
 "cells": [
  {
   "cell_type": "code",
   "execution_count": 1,
   "id": "56a1068f",
   "metadata": {},
   "outputs": [
    {
     "data": {
      "text/plain": [
       "False"
      ]
     },
     "execution_count": 1,
     "metadata": {},
     "output_type": "execute_result"
    }
   ],
   "source": [
    "import calendar\n",
    "calendar.isleap(1900)"
   ]
  },
  {
   "cell_type": "code",
   "execution_count": 3,
   "id": "71504d1a",
   "metadata": {},
   "outputs": [
    {
     "data": {
      "text/plain": [
       "True"
      ]
     },
     "execution_count": 3,
     "metadata": {},
     "output_type": "execute_result"
    }
   ],
   "source": [
    "calendar.isleap(2000)"
   ]
  },
  {
   "cell_type": "code",
   "execution_count": 6,
   "id": "f4734e49",
   "metadata": {},
   "outputs": [
    {
     "data": {
      "text/plain": [
       "datetime.date(2018, 10, 9)"
      ]
     },
     "execution_count": 6,
     "metadata": {},
     "output_type": "execute_result"
    }
   ],
   "source": [
    "from datetime import date\n",
    "halloween = date(2018, 10, 9)\n",
    "halloween"
   ]
  },
  {
   "cell_type": "code",
   "execution_count": 7,
   "id": "b3ddc39c",
   "metadata": {},
   "outputs": [
    {
     "data": {
      "text/plain": [
       "'2018-10-09'"
      ]
     },
     "execution_count": 7,
     "metadata": {},
     "output_type": "execute_result"
    }
   ],
   "source": [
    "halloween.isoformat()"
   ]
  },
  {
   "cell_type": "code",
   "execution_count": 11,
   "id": "ac2fec78",
   "metadata": {},
   "outputs": [],
   "source": [
    "halloween.day"
   ]
  },
  {
   "cell_type": "code",
   "execution_count": 12,
   "id": "1575a395",
   "metadata": {},
   "outputs": [],
   "source": [
    "halloween"
   ]
  },
  {
   "cell_type": "code",
   "execution_count": 16,
   "id": "ef80e7a0",
   "metadata": {},
   "outputs": [
    {
     "name": "stdout",
     "output_type": "stream",
     "text": [
      "2021\n",
      "7\n",
      "22\n"
     ]
    },
    {
     "data": {
      "text/plain": [
       "'今天是2021年7月22日'"
      ]
     },
     "execution_count": 16,
     "metadata": {},
     "output_type": "execute_result"
    }
   ],
   "source": [
    "#取得今天的日期\n",
    "now = date.today()\n",
    "print(now.year)\n",
    "print(now.month)\n",
    "print(now.day)\n",
    "\"今天是{0:d}年{1:d}月{2:d}日\".format(now.year,now.month,now.day)"
   ]
  },
  {
   "cell_type": "code",
   "execution_count": 19,
   "id": "b8b16d79",
   "metadata": {},
   "outputs": [
    {
     "name": "stdout",
     "output_type": "stream",
     "text": [
      "2021-07-23\n",
      "2021-07-21\n",
      "2021-08-21\n"
     ]
    }
   ],
   "source": [
    "from datetime import date\n",
    "from datetime import timedelta\n",
    "now = date.today()\n",
    "one_day = timedelta(days=1)\n",
    "tomorrow = now + one_day\n",
    "print(tomorrow)\n",
    "yesterday = now - one_day\n",
    "print(yesterday)\n",
    "after30 = now + one_day * 30\n",
    "print(after30)"
   ]
  },
  {
   "cell_type": "code",
   "execution_count": 22,
   "id": "c4b46bbd",
   "metadata": {},
   "outputs": [
    {
     "name": "stdout",
     "output_type": "stream",
     "text": [
      "12:00:00\n",
      "12\n",
      "0\n",
      "0\n",
      "0\n"
     ]
    }
   ],
   "source": [
    "from datetime import time\n",
    "noon = time(12, 0, 0)\n",
    "print(noon)\n",
    "print(noon.hour)\n",
    "print(noon.minute)\n",
    "print(noon.second)\n",
    "print(noon.microsecond)"
   ]
  },
  {
   "cell_type": "code",
   "execution_count": 24,
   "id": "0d8612ba",
   "metadata": {},
   "outputs": [
    {
     "name": "stdout",
     "output_type": "stream",
     "text": [
      "2022-07-22 11:50:30\n"
     ]
    },
    {
     "data": {
      "text/plain": [
       "'2022-07-22T11:50:30'"
      ]
     },
     "execution_count": 24,
     "metadata": {},
     "output_type": "execute_result"
    }
   ],
   "source": [
    "from datetime import datetime\n",
    "some_day = datetime(2022,7,22,11,50,30)\n",
    "print(some_day)\n",
    "some_day.isoformat()"
   ]
  },
  {
   "cell_type": "code",
   "execution_count": 26,
   "id": "89c5016d",
   "metadata": {},
   "outputs": [
    {
     "name": "stdout",
     "output_type": "stream",
     "text": [
      "2021-07-22 11:01:10.564799\n",
      "22\n",
      "11\n",
      "1\n",
      "10\n",
      "564799\n"
     ]
    }
   ],
   "source": [
    "now = datetime.now()\n",
    "print(now)\n",
    "print(now.day)\n",
    "print(now.hour)\n",
    "print(now.minute)\n",
    "print(now.second)\n",
    "print(now.microsecond)"
   ]
  },
  {
   "cell_type": "code",
   "execution_count": 29,
   "id": "92742b00",
   "metadata": {},
   "outputs": [
    {
     "name": "stdout",
     "output_type": "stream",
     "text": [
      "1626923459.6933062\n",
      "Thu Jul 22 11:10:59 2021\n"
     ]
    }
   ],
   "source": [
    "from time import time\n",
    "from time import ctime\n",
    "now = time()\n",
    "print(now)\n",
    "print(ctime(now))\n"
   ]
  },
  {
   "cell_type": "code",
   "execution_count": 31,
   "id": "2d2da63b",
   "metadata": {},
   "outputs": [
    {
     "data": {
      "text/plain": [
       "'現在日期是 Thursday July 22, 2021,時間是 11:24:26'"
      ]
     },
     "execution_count": 31,
     "metadata": {},
     "output_type": "execute_result"
    }
   ],
   "source": [
    "import time\n",
    "t=time.localtime()\n",
    "time.strftime(\"現在日期是 %A %B %d, %Y,時間是 %I:%M:%S\",t)"
   ]
  },
  {
   "cell_type": "code",
   "execution_count": 36,
   "id": "e59ac6b3",
   "metadata": {},
   "outputs": [
    {
     "data": {
      "text/plain": [
       "time.struct_time(tm_year=2012, tm_mon=1, tm_mday=29, tm_hour=0, tm_min=0, tm_sec=0, tm_wday=6, tm_yday=29, tm_isdst=-1)"
      ]
     },
     "execution_count": 36,
     "metadata": {},
     "output_type": "execute_result"
    }
   ],
   "source": [
    "import time\n",
    "t=time.strptime(\"2012-01-29\", \"%Y-%m-%d\")\n",
    "t"
   ]
  },
  {
   "cell_type": "code",
   "execution_count": null,
   "id": "4cbad0d3",
   "metadata": {},
   "outputs": [],
   "source": []
  }
 ],
 "metadata": {
  "kernelspec": {
   "display_name": "Python 3",
   "language": "python",
   "name": "python3"
  },
  "language_info": {
   "codemirror_mode": {
    "name": "ipython",
    "version": 3
   },
   "file_extension": ".py",
   "mimetype": "text/x-python",
   "name": "python",
   "nbconvert_exporter": "python",
   "pygments_lexer": "ipython3",
   "version": "3.8.7"
  }
 },
 "nbformat": 4,
 "nbformat_minor": 5
}
