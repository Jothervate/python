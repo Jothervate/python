{
 "cells": [
  {
   "cell_type": "code",
   "execution_count": 1,
   "id": "f219bef8",
   "metadata": {},
   "outputs": [],
   "source": [
    "import requests\n",
    "from stockInfo import StockInfo\n",
    "from requests import  HTTPError,ConnectionError,Timeout\n",
    "\n",
    "def getData(stock):\n",
    "    stockInfo = StockInfo()\n",
    "    stockInfo.id = stock\n",
    "    url = \"https://www.wantgoo.com/investrue/\"+stock+\"/daily-candlestick\"\n",
    "    header = {\"user-agent\":\"Mozilla/5.0 (Macintosh; Intel Mac OS X 10_15_7) AppleWebKit/537.36 (KHTML, like Gecko) Chrome/92.0.4515.131 Safari/537.36\"}\n",
    "    try:\n",
    "        response=requests.get(url,headers=header)\n",
    "        response.raise_for_status()\n",
    "    except HTTPError as e:\n",
    "        print(\"伺服器錯誤\")\n",
    "        print(f\"錯誤:{e}\")\n",
    "        stockInfo.error = e\n",
    "    except ConnectionError as e:\n",
    "        print(\"連線錯誤\")\n",
    "        print(f\"錯誤:{e}\")\n",
    "        stockInfo.error = e\n",
    "    except Timeout as e:\n",
    "        print(\"伺服器忙錄\")\n",
    "        print(f\"錯誤:{e}\")\n",
    "        stockInfo.error = e\n",
    "    else:\n",
    "        try:\n",
    "            json=response.json()\n",
    "            stockInfo.time=json[\"time\"]\n",
    "            stockInfo.open=json[\"open\"]\n",
    "            stockInfo.close = json[\"close\"]\n",
    "            stockInfo.volume = json[\"volume\"]\n",
    "            stockInfo.millionAmount = json[\"millionAmount\"]\n",
    "            stockInfo.high = json[\"high\"]\n",
    "            stockInfo.low = json[\"low\"]\n",
    "        except requests.exceptions.JSONDecodeError as e:\n",
    "            print(\"json解析錯誤\")\n",
    "            stockInfo.error = \"json解析錯誤\"\n",
    "    \n",
    "    infoURL = \"https://www.wantgoo.com/stock/\"+stock+\"/company-profile-data\"\n",
    "    infoResponse=requests.get(infoURL, headers=header)\n",
    "    infoJson=infoResponse.json()\n",
    "    stockInfo.name = infoJson[\"name\"]\n",
    "    \n",
    "    return stockInfo"
   ]
  },
  {
   "cell_type": "code",
   "execution_count": 2,
   "id": "4fd68ff7",
   "metadata": {},
   "outputs": [
    {
     "name": "stdout",
     "output_type": "stream",
     "text": [
      "請輸入股票代號:2330\n",
      "股票代號:2330\n",
      "股票名稱:台灣積體電路製造股份有限公司\n",
      "收盤價:596.0\n"
     ]
    }
   ],
   "source": [
    "stockID=input(\"請輸入股票代號:\")\n",
    "data = getData(stockID)\n",
    "if not data.error:\n",
    "    #沒有錯誤\n",
    "    \n",
    "    print(f\"股票代號:{data.id}\")\n",
    "    print(f\"股票名稱:{data.name}\")\n",
    "    print(f\"收盤價:{data.close}\")\n",
    "else:\n",
    "    print(\"資類取得錯誤\",data.error)"
   ]
  }
 ],
 "metadata": {
  "kernelspec": {
   "display_name": "Python 3",
   "language": "python",
   "name": "python3"
  },
  "language_info": {
   "codemirror_mode": {
    "name": "ipython",
    "version": 3
   },
   "file_extension": ".py",
   "mimetype": "text/x-python",
   "name": "python",
   "nbconvert_exporter": "python",
   "pygments_lexer": "ipython3",
   "version": "3.8.7"
  }
 },
 "nbformat": 4,
 "nbformat_minor": 5
}
