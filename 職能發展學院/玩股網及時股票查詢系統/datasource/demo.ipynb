{
 "cells": [
  {
   "cell_type": "code",
   "execution_count": 16,
   "id": "c3b06c5f",
   "metadata": {},
   "outputs": [],
   "source": [
    "import requests\n",
    "from requests import  HTTPError,ConnectionError,Timeout\n",
    "def getData(stock):\n",
    "    url = \"https://www.wantgoo.com/investrue/\"+stock+\"/daily-candlestick\"\n",
    "    header = {\"user-agent\":\"Mozilla/5.0 (Macintosh; Intel Mac OS X 10_15_7) AppleWebKit/537.36 (KHTML, like Gecko) Chrome/92.0.4515.131 Safari/537.36\"}\n",
    "    try:\n",
    "        response=requests.get(url,headers=header)\n",
    "        response.raise_for_status()\n",
    "    except HTTPError as e:\n",
    "        print(\"伺服器錯誤\")\n",
    "        print(f\"錯誤:{e}\")\n",
    "    except ConnectionError as e:\n",
    "        print(\"連線錯誤\")\n",
    "        print(f\"錯誤:{e}\")\n",
    "    except Timeout as e:\n",
    "        print(\"伺服器忙錄\")\n",
    "        print(f\"錯誤:{e}\")\n",
    "    else:\n",
    "        try:\n",
    "            json=response.json()\n",
    "            return json\n",
    "        except requests.exceptions.JSONDecodeError as e:\n",
    "            print(\"json解析錯誤\")"
   ]
  },
  {
   "cell_type": "code",
   "execution_count": 17,
   "id": "8beed21c",
   "metadata": {},
   "outputs": [
    {
     "name": "stdout",
     "output_type": "stream",
     "text": [
      "請輸入股票代號:2454\n",
      "{'time': 1628092800000, 'tradeDate': 1628092800000, 'open': 960.0, 'high': 964.0, 'low': 952.0, 'close': 963.0, 'volume': 3449, 'millionAmount': 3308.74}\n"
     ]
    }
   ],
   "source": [
    "stockID=input(\"請輸入股票代號:\")\n",
    "json = getData(stockID)\n",
    "print(json)"
   ]
  },
  {
   "cell_type": "code",
   "execution_count": 18,
   "id": "80656986",
   "metadata": {},
   "outputs": [
    {
     "data": {
      "text/plain": [
       "963.0"
      ]
     },
     "execution_count": 18,
     "metadata": {},
     "output_type": "execute_result"
    }
   ],
   "source": [
    "json[\"close\"]"
   ]
  },
  {
   "cell_type": "code",
   "execution_count": null,
   "id": "aa759613",
   "metadata": {},
   "outputs": [],
   "source": []
  }
 ],
 "metadata": {
  "kernelspec": {
   "display_name": "Python 3",
   "language": "python",
   "name": "python3"
  },
  "language_info": {
   "codemirror_mode": {
    "name": "ipython",
    "version": 3
   },
   "file_extension": ".py",
   "mimetype": "text/x-python",
   "name": "python",
   "nbconvert_exporter": "python",
   "pygments_lexer": "ipython3",
   "version": "3.8.7"
  }
 },
 "nbformat": 4,
 "nbformat_minor": 5
}
