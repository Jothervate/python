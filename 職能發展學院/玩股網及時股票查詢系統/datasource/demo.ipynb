{
 "cells": [
  {
   "cell_type": "code",
   "execution_count": 7,
   "id": "de2ca86c",
   "metadata": {},
   "outputs": [],
   "source": [
    "import requests\n",
    "from requests import  HTTPError,ConnectionError,Timeout\n",
    "url = \"https://www.wantgoo.com/investrue/2330/daily-candlestick\"\n",
    "header = {\"user-agent\":\"Mozilla/5.0 (Macintosh; Intel Mac OS X 10_15_7) AppleWebKit/537.36 (KHTML, like Gecko) Chrome/92.0.4515.131 Safari/537.36\"}\n",
    "try:\n",
    "    response=requests.get(url,headers=header)\n",
    "    response.raise_for_status()\n",
    "except HTTPError as e:\n",
    "    print(\"伺服器錯誤\")\n",
    "    print(f\"錯誤:{e}\")\n",
    "except ConnectionError as e:\n",
    "    print(\"連線錯誤\")\n",
    "    print(f\"錯誤:{e}\")\n",
    "except Timeout as e:\n",
    "    print(\"伺服器忙錄\")\n",
    "    print(f\"錯誤:{e}\")\n",
    "else:\n",
    "    json2330=response.json()"
   ]
  },
  {
   "cell_type": "code",
   "execution_count": 8,
   "id": "9068f329",
   "metadata": {},
   "outputs": [
    {
     "data": {
      "text/plain": [
       "{'time': 1628092800000,\n",
       " 'tradeDate': 1628092800000,\n",
       " 'open': 598.0,\n",
       " 'high': 598.0,\n",
       " 'low': 594.0,\n",
       " 'close': 595.0,\n",
       " 'volume': 4522,\n",
       " 'millionAmount': 2697.21}"
      ]
     },
     "execution_count": 8,
     "metadata": {},
     "output_type": "execute_result"
    }
   ],
   "source": [
    "json2330"
   ]
  },
  {
   "cell_type": "code",
   "execution_count": 9,
   "id": "05d48ca7",
   "metadata": {},
   "outputs": [
    {
     "data": {
      "text/plain": [
       "595.0"
      ]
     },
     "execution_count": 9,
     "metadata": {},
     "output_type": "execute_result"
    }
   ],
   "source": [
    "json2330[\"close\"]"
   ]
  },
  {
   "cell_type": "code",
   "execution_count": null,
   "id": "e7e5f2a9",
   "metadata": {},
   "outputs": [],
   "source": []
  }
 ],
 "metadata": {
  "kernelspec": {
   "display_name": "Python 3",
   "language": "python",
   "name": "python3"
  },
  "language_info": {
   "codemirror_mode": {
    "name": "ipython",
    "version": 3
   },
   "file_extension": ".py",
   "mimetype": "text/x-python",
   "name": "python",
   "nbconvert_exporter": "python",
   "pygments_lexer": "ipython3",
   "version": "3.8.7"
  }
 },
 "nbformat": 4,
 "nbformat_minor": 5
}
