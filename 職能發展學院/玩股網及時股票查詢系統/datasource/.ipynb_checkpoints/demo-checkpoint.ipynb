{
 "cells": [
  {
   "cell_type": "code",
   "execution_count": 2,
   "id": "a1c01077",
   "metadata": {},
   "outputs": [],
   "source": [
    "import requests\n",
    "url = \"https://www.wantgoo.com/investrue/2330/daily-candlestick\"\n",
    "header = {\"user-agent\":\"Mozilla/5.0 (Macintosh; Intel Mac OS X 10_15_7) AppleWebKit/537.36 (KHTML, like Gecko) Chrome/92.0.4515.131 Safari/537.36\"}\n",
    "response=requests.get(url,headers=header)\n",
    "json2330=response.json()"
   ]
  },
  {
   "cell_type": "code",
   "execution_count": 3,
   "id": "02478e6c",
   "metadata": {},
   "outputs": [
    {
     "data": {
      "text/plain": [
       "{'time': 1628092800000,\n",
       " 'tradeDate': 1628092800000,\n",
       " 'open': 598.0,\n",
       " 'high': 598.0,\n",
       " 'low': 594.0,\n",
       " 'close': 595.0,\n",
       " 'volume': 4227,\n",
       " 'millionAmount': 2521.65}"
      ]
     },
     "execution_count": 3,
     "metadata": {},
     "output_type": "execute_result"
    }
   ],
   "source": [
    "json2330"
   ]
  },
  {
   "cell_type": "code",
   "execution_count": 4,
   "id": "8fd2dc33",
   "metadata": {},
   "outputs": [
    {
     "data": {
      "text/plain": [
       "595.0"
      ]
     },
     "execution_count": 4,
     "metadata": {},
     "output_type": "execute_result"
    }
   ],
   "source": [
    "json2330[\"close\"]"
   ]
  },
  {
   "cell_type": "code",
   "execution_count": null,
   "id": "a97eeec0",
   "metadata": {},
   "outputs": [],
   "source": []
  }
 ],
 "metadata": {
  "kernelspec": {
   "display_name": "Python 3",
   "language": "python",
   "name": "python3"
  },
  "language_info": {
   "codemirror_mode": {
    "name": "ipython",
    "version": 3
   },
   "file_extension": ".py",
   "mimetype": "text/x-python",
   "name": "python",
   "nbconvert_exporter": "python",
   "pygments_lexer": "ipython3",
   "version": "3.8.7"
  }
 },
 "nbformat": 4,
 "nbformat_minor": 5
}
