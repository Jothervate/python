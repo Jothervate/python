{
 "cells": [
  {
   "cell_type": "code",
   "execution_count": 1,
   "id": "f219bef8",
   "metadata": {},
   "outputs": [],
   "source": [
    "import requests\n",
    "from stockInfo import StockInfo\n",
    "from requests import  HTTPError,ConnectionError,Timeout\n",
    "\n",
    "def getData(stock):\n",
    "    stockInfo = StockInfo()\n",
    "    stockInfo.id = stock\n",
    "    url = \"https://www.wantgoo.com/investrue/\"+stock+\"/daily-candlestick\"\n",
    "    header = {\"user-agent\":\"Mozilla/5.0 (Macintosh; Intel Mac OS X 10_15_7) AppleWebKit/537.36 (KHTML, like Gecko) Chrome/92.0.4515.131 Safari/537.36\"}\n",
    "    try:\n",
    "        response=requests.get(url,headers=header)\n",
    "        response.raise_for_status()\n",
    "    except HTTPError as e:\n",
    "        print(\"伺服器錯誤\")\n",
    "        print(f\"錯誤:{e}\")\n",
    "        stockInfo.error = e\n",
    "    except ConnectionError as e:\n",
    "        print(\"連線錯誤\")\n",
    "        print(f\"錯誤:{e}\")\n",
    "        stockInfo.error = e\n",
    "    except Timeout as e:\n",
    "        print(\"伺服器忙錄\")\n",
    "        print(f\"錯誤:{e}\")\n",
    "        stockInfo.error = e\n",
    "    else:\n",
    "        try:\n",
    "            json=response.json()\n",
    "            stockInfo.time=json[\"time\"]\n",
    "            stockInfo.open=json[\"open\"]\n",
    "            stockInfo.close = json[\"close\"]\n",
    "            stockInfo.volume = json[\"volume\"]\n",
    "            stockInfo.millionAmount = json[\"millionAmount\"]\n",
    "            stockInfo.high = json[\"high\"]\n",
    "            stockInfo.low = json[\"low\"]\n",
    "        except requests.exceptions.JSONDecodeError as e:\n",
    "            print(\"json解析錯誤\")\n",
    "            stockInfo.error = \"json解析錯誤\"\n",
    "    \n",
    "    infoURL = \"https://www.wantgoo.com/stock/\"+stock+\"/company-profile-data\"\n",
    "    infoResponse=requests.get(infoURL, headers=header)\n",
    "    infoJson=infoResponse.json()\n",
    "    stockInfo.name = infoJson[\"name\"]\n",
    "    \n",
    "    return stockInfo"
   ]
  },
  {
   "cell_type": "code",
   "execution_count": 2,
   "id": "4fd68ff7",
   "metadata": {},
   "outputs": [
    {
     "name": "stdout",
     "output_type": "stream",
     "text": [
      "請輸入股票代號:2330\n",
      "股票代號:2330\n",
      "股票名稱:台灣積體電路製造股份有限公司\n",
      "收盤價:596.0\n"
     ]
    }
   ],
   "source": [
    "stockID=input(\"請輸入股票代號:\")\n",
    "data = getData(stockID)\n",
    "if not data.error:\n",
    "    #沒有錯誤\n",
    "    \n",
    "    print(f\"股票代號:{data.id}\")\n",
    "    print(f\"股票名稱:{data.name}\")\n",
    "    print(f\"收盤價:{data.close}\")\n",
    "else:\n",
    "    print(\"資類取得錯誤\",data.error)"
   ]
  },
  {
   "cell_type": "code",
   "execution_count": 12,
   "id": "a2f8952d",
   "metadata": {},
   "outputs": [
    {
     "name": "stdout",
     "output_type": "stream",
     "text": [
      "<table id=\"hor-minimalist-a\" style=\"border-collapse: collapse;\" width=\"100%\">\n",
      "<thead>\n",
      "<tr style=\"vertical-align: top; text-align: center;\">\n",
      "<th id=\"currentTime\" style=\"display: none;\">成交時間</th>\n",
      "<th id=\"latestTradePrice\" style=\"display: none;\">成交價</th>\n",
      "<th id=\"priceChange\" style=\"display: none;\">漲跌價差<br/>(百分比)</th>\n",
      "<th id=\"preTradeVolume\" style=\"display: none;\">當盤<br/>成交量</th>\n",
      "<th>累積<br/>成交量</th>\n",
      "<th id=\"refPrice\">試算參考<br/>成交價</th>\n",
      "<th id=\"refVolume\">試算參考<br/>成交量</th>\n",
      "<!-- \n",
      "                    <th id='bidPrice' style='display: none;'>揭示<BR>買價</th>\n",
      "                    <th id='bidVolume' style='display: none;'>揭示<BR>買量</th>\n",
      "                    <th id='askPrice' style='display: none;'>揭示<BR>賣價</th>\n",
      "                    <th id='askVolume' style='display: none;'>揭示<BR>賣量</th>\n",
      "                    -->\n",
      "<th id=\"thOpenPrice\">開盤</th>\n",
      "<th id=\"thHightPrice\">當日最高</th>\n",
      "<th id=\"thLowestPrice\">當日最低</th>\n",
      "<th>說明</th>\n",
      "</tr>\n",
      "</thead>\n",
      "<tbody>\n",
      "<tr id=\"fibestrow\" style=\"background-color: rgb(255, 255, 255);\">\n",
      "<td align=\"center\" class=\"oddObj\" id=\"2330_t_odd\" style=\"display: none;\" width=\"6%\">-</td>\n",
      "<td align=\"center\" class=\"oddObj\" id=\"2330_z_odd\" style=\"display: none;\" width=\"8%\">-</td>\n",
      "<td align=\"center\" id=\"2330_diff_pre\" style=\"display: none;\" width=\"10%\">\n",
      "<label class=\"oddObj\" id=\"2330_diff_odd\">-</label>\n",
      "<label class=\"oddObj\" id=\"2330_pre_odd\">-</label>\n",
      "</td>\n",
      "<td align=\"center\" class=\"oddObj\" id=\"2330_tv_odd\" style=\"display: none;\" width=\"6%\">-</td>\n",
      "<td align=\"center\" class=\"oddObj\" id=\"2330_v\" width=\"6%\">11034</td>\n",
      "<td align=\"center\" class=\"oddObj\" id=\"2330_Reference_price\" width=\"6%\">-</td>\n",
      "<td align=\"center\" class=\"oddObj\" id=\"2330_Reference_volume\" width=\"6%\">-</td>\n",
      "<!-- \n",
      "                    <td width=\"6%\" class='oddObj' id=\"2330_b\" align=\"center\" style='display: none;'>-</td>\n",
      "                    <td width=\"6%\" class='oddObj' id=\"2330_g\" align=\"center\" style='display: none;'>-</td>\n",
      "                    <td width=\"6%\" class='oddObj' id=\"2330_a\" align=\"center\" style='display: none;'>-</td>\n",
      "                    <td width=\"6%\" class='oddObj' id=\"2330_f\" align=\"center\" style='display: none;'>-</td>\n",
      "                    -->\n",
      "<td align=\"center\" class=\"oddObj\" id=\"2330_o\" width=\"6%\">580.00</td>\n",
      "<td align=\"center\" class=\"oddObj\" id=\"2330_h\" width=\"6%\">582.00</td>\n",
      "<td align=\"center\" class=\"oddObj\" id=\"2330_l\" width=\"6%\">578.00</td>\n",
      "<td align=\"center\" class=\"oddObj\" id=\"2330_comment\" width=\"6%\"></td>\n",
      "</tr>\n",
      "</tbody>\n",
      "</table>\n"
     ]
    }
   ],
   "source": [
    "from selenium import webdriver\n",
    "from bs4 import BeautifulSoup\n",
    "import time\n",
    "url='https://mis.twse.com.tw/stock/fibest.jsp?stock=2330'\n",
    "driver = webdriver.Chrome('/Users/roberthsu2003/Downloads/chromedriver')\n",
    "driver.get(url)\n",
    "time.sleep(5)\n",
    "soup = BeautifulSoup(driver.page_source,'html.parser')\n",
    "tableNode=soup.find(id=\"hor-minimalist-a\")\n",
    "print(tableNode)\n",
    "driver.close()\n"
   ]
  },
  {
   "cell_type": "code",
   "execution_count": null,
   "id": "55705275",
   "metadata": {},
   "outputs": [],
   "source": []
  }
 ],
 "metadata": {
  "kernelspec": {
   "display_name": "Python 3",
   "language": "python",
   "name": "python3"
  },
  "language_info": {
   "codemirror_mode": {
    "name": "ipython",
    "version": 3
   },
   "file_extension": ".py",
   "mimetype": "text/x-python",
   "name": "python",
   "nbconvert_exporter": "python",
   "pygments_lexer": "ipython3",
   "version": "3.8.7"
  }
 },
 "nbformat": 4,
 "nbformat_minor": 5
}
