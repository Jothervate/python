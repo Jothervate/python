{
 "cells": [
  {
   "cell_type": "code",
   "execution_count": 3,
   "id": "c57133b9",
   "metadata": {},
   "outputs": [
    {
     "name": "stdout",
     "output_type": "stream",
     "text": [
      "文字最前面搜尋到Hello\n"
     ]
    }
   ],
   "source": [
    "#正規則表達式\n",
    "#match()\n",
    "import re\n",
    "\n",
    "strText = \"Hello Python Programming\"\n",
    "matchObject = re.match(r\"hello\", strText, re.I)\n",
    "if matchObject is None:\n",
    "    print(\"文字最前面沒有搜尋到\")\n",
    "else:\n",
    "    print(f\"文字最前面搜尋到{matchObject.group()}\")\n"
   ]
  },
  {
   "cell_type": "code",
   "execution_count": 10,
   "id": "f8a2febc",
   "metadata": {},
   "outputs": [
    {
     "name": "stdout",
     "output_type": "stream",
     "text": [
      "符合格式\n"
     ]
    }
   ],
   "source": [
    "import re\n",
    "line = \"roberthsu2003@gmail.com\"\n",
    "pattern = r\"(^[a-zA-Z0-9_.+-]+@[a-zA-Z0-9-]+\\.[a-zA-Z0-9-.]+$)\"\n",
    "matchObj = re.match(pattern, line)\n",
    "if matchObj:\n",
    "    print(\"符合格式\")\n",
    "else:\n",
    "    print(\"沒有匹配\")"
   ]
  },
  {
   "cell_type": "code",
   "execution_count": 12,
   "id": "0522c357",
   "metadata": {},
   "outputs": [
    {
     "name": "stdout",
     "output_type": "stream",
     "text": [
      "沒有搜尋到\n"
     ]
    }
   ],
   "source": [
    "import re\n",
    "str = \"Hello Python Programming\"\n",
    "searchObject = re.search(r'programming',str, re.I)\n",
    "if searchObject:\n",
    "    print(\"有搜尋到\")\n",
    "else:\n",
    "    print(\"沒有搜尋到\")"
   ]
  },
  {
   "cell_type": "code",
   "execution_count": 24,
   "id": "7c0555fa",
   "metadata": {},
   "outputs": [
    {
     "name": "stdout",
     "output_type": "stream",
     "text": [
      "['65', '4']\n"
     ]
    }
   ],
   "source": [
    "#findall\n",
    "import re\n",
    "str1 = \"Working 65 hours a day. Studying 4 hours a day.\"\n",
    "mobj = re.findall(r\"\\d+\",str1)\n",
    "print(mobj)"
   ]
  },
  {
   "cell_type": "code",
   "execution_count": 27,
   "id": "d8cf6eb8",
   "metadata": {},
   "outputs": [
    {
     "data": {
      "text/plain": [
       "'Birds fly high in the sky for ever'"
      ]
     },
     "execution_count": 27,
     "metadata": {},
     "output_type": "execute_result"
    }
   ],
   "source": [
    "#split()\n",
    "import re\n",
    "str1 = \"Birds   fly  high in    the   sky for ever\"\n",
    "splitList = re.split(r'\\s+',str1)\n",
    "\" \".join(splitList)"
   ]
  },
  {
   "cell_type": "code",
   "execution_count": 30,
   "id": "64ae164e",
   "metadata": {},
   "outputs": [
    {
     "name": "stdout",
     "output_type": "stream",
     "text": [
      "請輸入身份證字號:A121357\n",
      "A121357 不符合格式\n"
     ]
    }
   ],
   "source": [
    "#驗證身份證字號\n",
    "import re\n",
    "taiwanID = input(\"請輸入身份證字號:\")\n",
    "matchObj=re.match(r\"[A-Z]\\d{9}\",taiwanID,re.I)\n",
    "if matchObj:\n",
    "    print(matchObj.group(), \":正確\")\n",
    "else:\n",
    "    print(taiwanID,\"不符合格式\")"
   ]
  },
  {
   "cell_type": "code",
   "execution_count": null,
   "id": "733131f6",
   "metadata": {},
   "outputs": [],
   "source": []
  }
 ],
 "metadata": {
  "kernelspec": {
   "display_name": "Python 3",
   "language": "python",
   "name": "python3"
  },
  "language_info": {
   "codemirror_mode": {
    "name": "ipython",
    "version": 3
   },
   "file_extension": ".py",
   "mimetype": "text/x-python",
   "name": "python",
   "nbconvert_exporter": "python",
   "pygments_lexer": "ipython3",
   "version": "3.8.7"
  }
 },
 "nbformat": 4,
 "nbformat_minor": 5
}
