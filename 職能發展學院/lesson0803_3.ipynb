{
 "cells": [
  {
   "cell_type": "code",
   "execution_count": 3,
   "id": "6fd95194",
   "metadata": {},
   "outputs": [],
   "source": [
    "html_doc = \"\"\"\n",
    " <html>\n",
    "  <head>\n",
    "   <title>\n",
    "    The Dormouse's story\n",
    "   </title>\n",
    "  </head>\n",
    "  <body>\n",
    "  <p class=\"title\">\n",
    "    <b>\n",
    "    The Dormouse's story\n",
    "    </b>\n",
    "   </p>\n",
    "   <p class=\"story\">\n",
    "    Once upon a time there were three little sisters; and their names were\n",
    "    <a class=\"sister\" href=\"http://example.com/elsie\" id=\"link1\">\n",
    "     Elsie\n",
    "   </a>\n",
    "    ,\n",
    "    <a class=\"sister\" href=\"http://example.com/lacie\" id=\"link2\">\n",
    "     Lacie\n",
    "   </a>\n",
    "    and\n",
    "    <a class=\"sister\" href=\"http://example.com/tillie\" id=\"link3\">\n",
    "     Tillie\n",
    "    </a>\n",
    "    ; and they lived at the bottom of a well.\n",
    "   </p>\n",
    "   <p class=\"story\">\n",
    "    ...\n",
    "   </p>\n",
    "  </body>\n",
    " </html>\n",
    "\"\"\"\n"
   ]
  },
  {
   "cell_type": "code",
   "execution_count": 14,
   "id": "175cf108",
   "metadata": {},
   "outputs": [
    {
     "name": "stdout",
     "output_type": "stream",
     "text": [
      "<title>\n",
      "    The Dormouse's story\n",
      "   </title>\n",
      "title\n",
      "\n",
      "    The Dormouse's story\n",
      "   \n",
      "head\n",
      "None\n"
     ]
    }
   ],
   "source": [
    "from bs4 import BeautifulSoup\n",
    "soup = BeautifulSoup(html_doc,'html.parser')\n",
    "soup.prettify()\n",
    "title=soup.title\n",
    "print(title)\n",
    "print(title.name)\n",
    "print(title.string)\n",
    "print(title.parent.name)\n",
    "print(title.parent.string)"
   ]
  },
  {
   "cell_type": "code",
   "execution_count": null,
   "id": "4436bbc4",
   "metadata": {},
   "outputs": [],
   "source": []
  }
 ],
 "metadata": {
  "kernelspec": {
   "display_name": "Python 3",
   "language": "python",
   "name": "python3"
  },
  "language_info": {
   "codemirror_mode": {
    "name": "ipython",
    "version": 3
   },
   "file_extension": ".py",
   "mimetype": "text/x-python",
   "name": "python",
   "nbconvert_exporter": "python",
   "pygments_lexer": "ipython3",
   "version": "3.8.7"
  }
 },
 "nbformat": 4,
 "nbformat_minor": 5
}
