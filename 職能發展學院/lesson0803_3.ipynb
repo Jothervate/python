{
 "cells": [
  {
   "cell_type": "code",
   "execution_count": 3,
   "id": "13e9c8d8",
   "metadata": {},
   "outputs": [],
   "source": [
    "html_doc = \"\"\"\n",
    " <html>\n",
    "  <head>\n",
    "   <title>\n",
    "    The Dormouse's story\n",
    "   </title>\n",
    "  </head>\n",
    "  <body>\n",
    "  <p class=\"title\">\n",
    "    <b>\n",
    "    The Dormouse's story\n",
    "    </b>\n",
    "   </p>\n",
    "   <p class=\"story\">\n",
    "    Once upon a time there were three little sisters; and their names were\n",
    "    <a class=\"sister\" href=\"http://example.com/elsie\" id=\"link1\">\n",
    "     Elsie\n",
    "   </a>\n",
    "    ,\n",
    "    <a class=\"sister\" href=\"http://example.com/lacie\" id=\"link2\">\n",
    "     Lacie\n",
    "   </a>\n",
    "    and\n",
    "    <a class=\"sister\" href=\"http://example.com/tillie\" id=\"link3\">\n",
    "     Tillie\n",
    "    </a>\n",
    "    ; and they lived at the bottom of a well.\n",
    "   </p>\n",
    "   <p class=\"story\">\n",
    "    ...\n",
    "   </p>\n",
    "  </body>\n",
    " </html>\n",
    "\"\"\"\n"
   ]
  },
  {
   "cell_type": "code",
   "execution_count": 14,
   "id": "5040d358",
   "metadata": {},
   "outputs": [
    {
     "name": "stdout",
     "output_type": "stream",
     "text": [
      "<title>\n",
      "    The Dormouse's story\n",
      "   </title>\n",
      "title\n",
      "\n",
      "    The Dormouse's story\n",
      "   \n",
      "head\n",
      "None\n"
     ]
    }
   ],
   "source": [
    "from bs4 import BeautifulSoup\n",
    "soup = BeautifulSoup(html_doc,'html.parser')\n",
    "soup.prettify()\n",
    "title=soup.title\n",
    "print(title)\n",
    "print(title.name)\n",
    "print(title.string)\n",
    "print(title.parent.name)\n",
    "print(title.parent.string)"
   ]
  },
  {
   "cell_type": "code",
   "execution_count": 23,
   "id": "c4f024c6",
   "metadata": {},
   "outputs": [
    {
     "name": "stdout",
     "output_type": "stream",
     "text": [
      "<p class=\"title\">\n",
      "<b>\n",
      "    The Dormouse's story\n",
      "    </b>\n",
      "</p>\n",
      "p\n",
      "\n",
      "    The Dormouse's story\n",
      "    \n",
      "['title']\n"
     ]
    }
   ],
   "source": [
    "print(soup.p)\n",
    "print(soup.p.name)\n",
    "print(soup.p.b.string)\n",
    "print(soup.p[\"class\"])"
   ]
  },
  {
   "cell_type": "code",
   "execution_count": 22,
   "id": "6d4f0970",
   "metadata": {},
   "outputs": [
    {
     "name": "stdout",
     "output_type": "stream",
     "text": [
      "<p class=\"title\">\n",
      "<b>\n",
      "    The Dormouse's story\n",
      "    </b>\n",
      "</p>\n",
      "<p class=\"story\">\n",
      "    Once upon a time there were three little sisters; and their names were\n",
      "    <a class=\"sister\" href=\"http://example.com/elsie\" id=\"link1\">\n",
      "     Elsie\n",
      "   </a>\n",
      "    ,\n",
      "    <a class=\"sister\" href=\"http://example.com/lacie\" id=\"link2\">\n",
      "     Lacie\n",
      "   </a>\n",
      "    and\n",
      "    <a class=\"sister\" href=\"http://example.com/tillie\" id=\"link3\">\n",
      "     Tillie\n",
      "    </a>\n",
      "    ; and they lived at the bottom of a well.\n",
      "   </p>\n",
      "<p class=\"story\">\n",
      "    ...\n",
      "   </p>\n"
     ]
    }
   ],
   "source": [
    "plist=soup.find_all('p')\n",
    "for p in plist:\n",
    "    print(p)"
   ]
  },
  {
   "cell_type": "code",
   "execution_count": 25,
   "id": "9212663a",
   "metadata": {},
   "outputs": [
    {
     "name": "stdout",
     "output_type": "stream",
     "text": [
      "http://example.com/elsie\n",
      "http://example.com/lacie\n",
      "http://example.com/tillie\n"
     ]
    }
   ],
   "source": [
    "aResultSet = soup.find_all('a')\n",
    "for a in aResultSet:\n",
    "    print(a[\"href\"])"
   ]
  },
  {
   "cell_type": "code",
   "execution_count": 27,
   "id": "7d1f23b2",
   "metadata": {},
   "outputs": [],
   "source": [
    "import requests\n",
    "res=requests.get('http://pythonscraping.com/pages/page1.html')\n",
    "if res.status_code == 200:\n",
    "    html_doc=res.text"
   ]
  },
  {
   "cell_type": "code",
   "execution_count": 29,
   "id": "3b323e02",
   "metadata": {},
   "outputs": [
    {
     "name": "stdout",
     "output_type": "stream",
     "text": [
      "<html>\n",
      "<head>\n",
      "<title>A Useful Page</title>\n",
      "</head>\n",
      "<body>\n",
      "<h1>An Interesting Title</h1>\n",
      "<div>\n",
      "Lorem ipsum dolor sit amet, consectetur adipisicing elit, sed do eiusmod tempor incididunt ut labore et dolore magna aliqua. Ut enim ad minim veniam, quis nostrud exercitation ullamco laboris nisi ut aliquip ex ea commodo consequat. Duis aute irure dolor in reprehenderit in voluptate velit esse cillum dolore eu fugiat nulla pariatur. Excepteur sint occaecat cupidatat non proident, sunt in culpa qui officia deserunt mollit anim id est laborum.\n",
      "</div>\n",
      "</body>\n",
      "</html>\n",
      "\n"
     ]
    }
   ],
   "source": [
    "print(html_doc)"
   ]
  },
  {
   "cell_type": "code",
   "execution_count": 30,
   "id": "766aa9ac",
   "metadata": {},
   "outputs": [
    {
     "name": "stdout",
     "output_type": "stream",
     "text": [
      "<html>\n",
      " <head>\n",
      "  <title>\n",
      "   A Useful Page\n",
      "  </title>\n",
      " </head>\n",
      " <body>\n",
      "  <h1>\n",
      "   An Interesting Title\n",
      "  </h1>\n",
      "  <div>\n",
      "   Lorem ipsum dolor sit amet, consectetur adipisicing elit, sed do eiusmod tempor incididunt ut labore et dolore magna aliqua. Ut enim ad minim veniam, quis nostrud exercitation ullamco laboris nisi ut aliquip ex ea commodo consequat. Duis aute irure dolor in reprehenderit in voluptate velit esse cillum dolore eu fugiat nulla pariatur. Excepteur sint occaecat cupidatat non proident, sunt in culpa qui officia deserunt mollit anim id est laborum.\n",
      "  </div>\n",
      " </body>\n",
      "</html>\n",
      "\n"
     ]
    }
   ],
   "source": [
    "from bs4 import BeautifulSoup\n",
    "bs = BeautifulSoup(html_doc,'html.parser')\n",
    "print(bs.prettify())"
   ]
  },
  {
   "cell_type": "code",
   "execution_count": 35,
   "id": "842acd7e",
   "metadata": {},
   "outputs": [
    {
     "name": "stdout",
     "output_type": "stream",
     "text": [
      "<title>A Useful Page</title>\n",
      "<title>A Useful Page</title>\n",
      "<title>A Useful Page</title>\n",
      "<h1>An Interesting Title</h1>\n",
      "\n",
      "Lorem ipsum dolor sit amet, consectetur adipisicing elit, sed do eiusmod tempor incididunt ut labore et dolore magna aliqua. Ut enim ad minim veniam, quis nostrud exercitation ullamco laboris nisi ut aliquip ex ea commodo consequat. Duis aute irure dolor in reprehenderit in voluptate velit esse cillum dolore eu fugiat nulla pariatur. Excepteur sint occaecat cupidatat non proident, sunt in culpa qui officia deserunt mollit anim id est laborum.\n",
      "\n"
     ]
    }
   ],
   "source": [
    "print(bs.html.head.title)\n",
    "print(bs.head.title)\n",
    "print(bs.title)\n",
    "print(bs.h1)\n",
    "print(bs.div.string)"
   ]
  },
  {
   "cell_type": "code",
   "execution_count": 40,
   "id": "06c7186b",
   "metadata": {},
   "outputs": [
    {
     "name": "stdout",
     "output_type": "stream",
     "text": [
      "找不到主機\n",
      "HTTPConnectionPool(host='pythonscraping1.com', port=80): Max retries exceeded with url: /pages/page1.html (Caused by NewConnectionError('<urllib3.connection.HTTPConnection object at 0x7fd8fe093040>: Failed to establish a new connection: [Errno 8] nodename nor servname provided, or not known'))\n"
     ]
    }
   ],
   "source": [
    "import requests\n",
    "from requests import HTTPError,ConnectionError\n",
    "try:\n",
    "    res=requests.get('http://pythonscraping.com/pages/page1.html')\n",
    "    res.raise_for_status()\n",
    "except HTTPError as e:\n",
    "    print(\"伺服器傳出錯誤訊息\")\n",
    "    print(e)\n",
    "except ConnectionError as e:\n",
    "    print(\"找不到主機\")\n",
    "    print(e)\n",
    "except:\n",
    "    print(\"出現錯誤\")\n",
    "else:\n",
    "    print(\"沒有出錯\")\n"
   ]
  },
  {
   "cell_type": "code",
   "execution_count": null,
   "id": "13a029cb",
   "metadata": {},
   "outputs": [],
   "source": []
  }
 ],
 "metadata": {
  "kernelspec": {
   "display_name": "Python 3",
   "language": "python",
   "name": "python3"
  },
  "language_info": {
   "codemirror_mode": {
    "name": "ipython",
    "version": 3
   },
   "file_extension": ".py",
   "mimetype": "text/x-python",
   "name": "python",
   "nbconvert_exporter": "python",
   "pygments_lexer": "ipython3",
   "version": "3.8.7"
  }
 },
 "nbformat": 4,
 "nbformat_minor": 5
}
