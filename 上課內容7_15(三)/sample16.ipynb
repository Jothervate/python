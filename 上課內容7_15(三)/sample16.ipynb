{
 "cells": [
  {
   "cell_type": "code",
   "execution_count": 2,
   "metadata": {},
   "outputs": [
    {
     "name": "stdout",
     "output_type": "stream",
     "text": [
      "猜 1 到 20 的整數，猜錯4次結束程式！\n",
      "請輸入1 ~ 20的整數：3\n",
      "太小了\n",
      "請輸入1 ~ 20的整數：7\n",
      "太小了\n",
      "請輸入1 ~ 20的整數：17\n",
      "太大了\n",
      "請輸入1 ~ 20的整數：12\n",
      "太小了\n",
      "程式結束\n"
     ]
    }
   ],
   "source": [
    "from random import randint\n",
    "ans = randint(1, 20)\n",
    "times=1\n",
    "print(\"猜 1 到 20 的整數，猜錯4次結束程式！\")\n",
    "while times <= 4:\n",
    "    guess = int(input(\"請輸入1 ~ 20的整數：\"))\n",
    "    if guess > ans:\n",
    "        print('太大了')\n",
    "    elif guess < ans:\n",
    "        print('太小了')\n",
    "    else:\n",
    "        print('答對了')\n",
    "        break\n",
    "    times += 1\n",
    "print('程式結束')"
   ]
  },
  {
   "cell_type": "code",
   "execution_count": null,
   "metadata": {},
   "outputs": [],
   "source": []
  }
 ],
 "metadata": {
  "kernelspec": {
   "display_name": "Python 3",
   "language": "python",
   "name": "python3"
  },
  "language_info": {
   "codemirror_mode": {
    "name": "ipython",
    "version": 3
   },
   "file_extension": ".py",
   "mimetype": "text/x-python",
   "name": "python",
   "nbconvert_exporter": "python",
   "pygments_lexer": "ipython3",
   "version": "3.7.4"
  }
 },
 "nbformat": 4,
 "nbformat_minor": 2
}
