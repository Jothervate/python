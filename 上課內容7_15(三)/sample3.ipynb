{
 "cells": [
  {
   "cell_type": "code",
   "execution_count": 1,
   "metadata": {},
   "outputs": [
    {
     "name": "stdout",
     "output_type": "stream",
     "text": [
      "Hello! World!\n"
     ]
    }
   ],
   "source": [
    "print(\"Hello! World!\")"
   ]
  },
  {
   "cell_type": "code",
   "execution_count": 8,
   "metadata": {
    "scrolled": true
   },
   "outputs": [
    {
     "name": "stdout",
     "output_type": "stream",
     "text": [
      "請輸入姓名徐國堂\n"
     ]
    },
    {
     "data": {
      "text/plain": [
       "'徐國堂'"
      ]
     },
     "execution_count": 8,
     "metadata": {},
     "output_type": "execute_result"
    }
   ],
   "source": [
    "name = input(\"請輸入姓名\")\n",
    "name"
   ]
  },
  {
   "cell_type": "code",
   "execution_count": 9,
   "metadata": {},
   "outputs": [
    {
     "name": "stdout",
     "output_type": "stream",
     "text": [
      "請輸入第一個整數30\n",
      "請輸入第二個整數50\n"
     ]
    },
    {
     "data": {
      "text/plain": [
       "'3050'"
      ]
     },
     "execution_count": 9,
     "metadata": {},
     "output_type": "execute_result"
    }
   ],
   "source": [
    "a = input('請輸入第一個整數')\n",
    "b = input('請輸入第二個整數')\n",
    "a+b"
   ]
  },
  {
   "cell_type": "code",
   "execution_count": 10,
   "metadata": {},
   "outputs": [
    {
     "name": "stdout",
     "output_type": "stream",
     "text": [
      "請輸入第一個整數30\n",
      "請輸入第二個整數50\n"
     ]
    },
    {
     "data": {
      "text/plain": [
       "80"
      ]
     },
     "execution_count": 10,
     "metadata": {},
     "output_type": "execute_result"
    }
   ],
   "source": [
    "c = int(input('請輸入第一個整數'))\n",
    "d = int(input('請輸入第二個整數'))\n",
    "c+d"
   ]
  },
  {
   "cell_type": "code",
   "execution_count": 11,
   "metadata": {},
   "outputs": [
    {
     "name": "stdout",
     "output_type": "stream",
     "text": [
      "請輸入第一個整數30\n",
      "請輸入第二個整數50\n"
     ]
    },
    {
     "data": {
      "text/plain": [
       "80"
      ]
     },
     "execution_count": 11,
     "metadata": {},
     "output_type": "execute_result"
    }
   ],
   "source": [
    "a = input('請輸入第一個整數')\n",
    "b = input('請輸入第二個整數')\n",
    "a = int(a)\n",
    "b = int(b)\n",
    "a+b"
   ]
  },
  {
   "cell_type": "code",
   "execution_count": 12,
   "metadata": {},
   "outputs": [
    {
     "name": "stdout",
     "output_type": "stream",
     "text": [
      "請輸入第一個整數30\n",
      "請輸入第二個整數50\n"
     ]
    },
    {
     "data": {
      "text/plain": [
       "80"
      ]
     },
     "execution_count": 12,
     "metadata": {},
     "output_type": "execute_result"
    }
   ],
   "source": [
    "a = input('請輸入第一個整數')\n",
    "b = input('請輸入第二個整數')\n",
    "int(a) + int(b)"
   ]
  },
  {
   "cell_type": "code",
   "execution_count": 13,
   "metadata": {},
   "outputs": [
    {
     "name": "stdout",
     "output_type": "stream",
     "text": [
      "請輸入被除數(整數):45\n",
      "請輸入除數(整數,不可以為0):4\n",
      "商 11 餘數: 1\n"
     ]
    }
   ],
   "source": [
    "n = int(input('請輸入被除數(整數):'))\n",
    "m = int(input('請輸入除數(整數,不可以為0):'))\n",
    "print('商',n//m,'餘數:',n%m)"
   ]
  },
  {
   "cell_type": "code",
   "execution_count": 14,
   "metadata": {},
   "outputs": [
    {
     "name": "stdout",
     "output_type": "stream",
     "text": [
      "請輸入第一個數值:45.67\n",
      "請輸入第二個數值:67.47\n",
      "兩個數的和是 113.14\n"
     ]
    }
   ],
   "source": [
    "f = float(input('請輸入第一個數值:'))\n",
    "anotherF = float(input('請輸入第二個數值:'))\n",
    "print('兩個數的和是', f+anotherF)"
   ]
  },
  {
   "cell_type": "code",
   "execution_count": 15,
   "metadata": {},
   "outputs": [
    {
     "data": {
      "text/plain": [
       "4000"
      ]
     },
     "execution_count": 15,
     "metadata": {},
     "output_type": "execute_result"
    }
   ],
   "source": [
    "money = 5000\n",
    "money = money - 1000\n",
    "money"
   ]
  },
  {
   "cell_type": "code",
   "execution_count": 16,
   "metadata": {},
   "outputs": [
    {
     "data": {
      "text/plain": [
       "4000"
      ]
     },
     "execution_count": 16,
     "metadata": {},
     "output_type": "execute_result"
    }
   ],
   "source": [
    "money = 5000\n",
    "money -= 1000\n",
    "money"
   ]
  },
  {
   "cell_type": "code",
   "execution_count": 18,
   "metadata": {},
   "outputs": [
    {
     "name": "stdout",
     "output_type": "stream",
     "text": [
      "請輸入手機金額:2345\n",
      "剩餘款為:2655\n"
     ]
    }
   ],
   "source": [
    "money = 5000\n",
    "cell = int(input(\"請輸入手機金額:\"))\n",
    "money -= cell\n",
    "print(\"剩餘款為:\" + str(money))"
   ]
  },
  {
   "cell_type": "code",
   "execution_count": 19,
   "metadata": {},
   "outputs": [
    {
     "name": "stdout",
     "output_type": "stream",
     "text": [
      "請輸入任意數:25.2\n",
      "此數的平方是:635.04\n",
      "此數的立方是:16003.007999999998\n"
     ]
    }
   ],
   "source": [
    "#請使用者輸入一個任意數，程式會顯示此數的平方值及立方值(使用複合指定運算子的方式)\n",
    "num = float(input('請輸入任意數:'))\n",
    "result = num\n",
    "result *= num\n",
    "print('此數的平方是:' + str(result))\n",
    "result *= num\n",
    "print('此數的立方是:' + str(result))"
   ]
  },
  {
   "cell_type": "code",
   "execution_count": 20,
   "metadata": {},
   "outputs": [
    {
     "name": "stdout",
     "output_type": "stream",
     "text": [
      "請輸入第1個數:87.9\n",
      "請輸入第2個數:45.0\n",
      "請輸入第3個數:87.5\n",
      "三個數的總和為:220.4\n"
     ]
    }
   ],
   "source": [
    "#請以(複合指定運算子)設計程式,讓用者輸入三個任意數，程式會顯示3數相加的總和(float)\n",
    "'''\n",
    "請輸入第一個數:87.9\n",
    "請輸入第二個數:45\n",
    "請輸入等三個數:87.5\n",
    "三個數的總和為:220.4\n",
    "'''\n",
    "\n",
    "total = 0;\n",
    "num1 = float(input('請輸入第1個數:'))\n",
    "total += num1\n",
    "num2 = float(input('請輸入第2個數:'))\n",
    "total += num2\n",
    "num3 = float(input('請輸入第3個數:'))\n",
    "total += num3\n",
    "\n",
    "print(\"三個數的總和為:\" + str(total))"
   ]
  },
  {
   "cell_type": "code",
   "execution_count": 21,
   "metadata": {},
   "outputs": [
    {
     "name": "stdout",
     "output_type": "stream",
     "text": [
      "請輸入梯形的上底(公分):23.5\n",
      "請輸入梯形的下底(公分):12.6\n",
      "請輸入梯形的高(公分):5.4\n",
      "梯形的面積: 97.47000000000001 平方公分\n"
     ]
    }
   ],
   "source": [
    "#讓使用者輸入梯形的上底、下底及高，程式會計算梯形的面積(上底加下底乘以高除以2)\n",
    "top = float(input('請輸入梯形的上底(公分):'))\n",
    "bottom = float(input('請輸入梯形的下底(公分):'))\n",
    "height = float(input('請輸入梯形的高(公分):'))\n",
    "area = (top + bottom) * height / 2\n",
    "print('梯形的面積:', area, '平方公分')"
   ]
  },
  {
   "cell_type": "code",
   "execution_count": null,
   "metadata": {},
   "outputs": [],
   "source": []
  }
 ],
 "metadata": {
  "kernelspec": {
   "display_name": "Python 3",
   "language": "python",
   "name": "python3"
  },
  "language_info": {
   "codemirror_mode": {
    "name": "ipython",
    "version": 3
   },
   "file_extension": ".py",
   "mimetype": "text/x-python",
   "name": "python",
   "nbconvert_exporter": "python",
   "pygments_lexer": "ipython3",
   "version": "3.7.4"
  }
 },
 "nbformat": 4,
 "nbformat_minor": 2
}
