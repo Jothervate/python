{
 "cells": [
  {
   "cell_type": "code",
   "execution_count": 1,
   "metadata": {},
   "outputs": [
    {
     "name": "stdout",
     "output_type": "stream",
     "text": [
      "請輸入姓名：robert\n",
      "robert請輸入一天喝幾杯珍珠奶茶？5\n",
      "robert 你攝取了 800 大卡\n"
     ]
    }
   ],
   "source": [
    "def input_name():\n",
    "    name = input(\"請輸入姓名：\")\n",
    "    return name\n",
    "\n",
    "def calc(num, calories):\n",
    "    total_cal = num * calories\n",
    "    return total_cal\n",
    "\n",
    "user = input_name()\n",
    "cups = int(input(user + \"請輸入一天喝幾杯珍珠奶茶？\"))\n",
    "print(user + \" 你攝取了\", calc(cups, 160), \"大卡\")"
   ]
  },
  {
   "cell_type": "code",
   "execution_count": null,
   "metadata": {},
   "outputs": [],
   "source": [
    "'''\n",
    "5下列為計算學生加分的程式碼，其中add_score函式的功能如下：\n",
    "\n",
    "• 函式傳回值是原始分數(score)加上加分(add)。\n",
    "• 如果rest為False，表學生全勤加分加倍。\n",
    "• 如果函式沒有傳入add變數時，預設值為 1。\n",
    "\n",
    "關於程式碼敘述的說明是否正確\n",
    "請填入 是 、 否\n",
    "\n",
    "'''\n",
    "def add_score(score, rest, add=1):\n",
    "    if rest == False:\n",
    "        add *= 2\n",
    "    return score + add\n",
    "\n",
    "stuScore = 75\n",
    "addScore = 2\n",
    "isRest = True\n",
    "newScore = add_score(stuScore, isRest, addScore)\n",
    "print(newScore)"
   ]
  }
 ],
 "metadata": {
  "kernelspec": {
   "display_name": "Python 3",
   "language": "python",
   "name": "python3"
  },
  "language_info": {
   "codemirror_mode": {
    "name": "ipython",
    "version": 3
   },
   "file_extension": ".py",
   "mimetype": "text/x-python",
   "name": "python",
   "nbconvert_exporter": "python",
   "pygments_lexer": "ipython3",
   "version": "3.7.4"
  }
 },
 "nbformat": 4,
 "nbformat_minor": 2
}
