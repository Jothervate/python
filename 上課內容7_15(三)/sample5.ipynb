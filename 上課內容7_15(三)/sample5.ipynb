{
 "cells": [
  {
   "cell_type": "code",
   "execution_count": null,
   "metadata": {},
   "outputs": [],
   "source": [
    "#請輸出偶數\n",
    "i = 0\n",
    "while i<10:\n",
    "    if i % 2 == 0:\n",
    "        print(i)\n",
    "    i += 1\n",
    "print(\"程式結束\")"
   ]
  },
  {
   "cell_type": "code",
   "execution_count": null,
   "metadata": {},
   "outputs": [],
   "source": [
    "#請輸出奇數\n",
    "for i in range(10):\n",
    "    if i % 2 == 1:\n",
    "        print(i)\n",
    "print(\"程式結束\")"
   ]
  },
  {
   "cell_type": "code",
   "execution_count": 2,
   "metadata": {},
   "outputs": [
    {
     "name": "stdout",
     "output_type": "stream",
     "text": [
      "請輸入星期1的支出:1\n",
      "請輸入星期2的支出:1\n",
      "請輸入星期3的支出:1\n",
      "請輸入星期4的支出:1\n",
      "請輸入星期5的支出:1\n",
      "請輸入星期6的支出:1\n",
      "請輸入星期日的支出:1\n",
      "本星期的支出為: 7 元\n"
     ]
    }
   ],
   "source": [
    "sum = 0\n",
    "\n",
    "for i in range(1,8):    \n",
    "    if i == 7:\n",
    "        n = int(input(\"請輸入星期日的支出:\"))\n",
    "    else:\n",
    "        n = int(input(\"請輸入星期\" + str(i) + \"的支出:\"))\n",
    "    \n",
    "    sum += n\n",
    "    \n",
    "print(\"本星期的支出為:\", sum ,\"元\")"
   ]
  },
  {
   "cell_type": "code",
   "execution_count": 3,
   "metadata": {},
   "outputs": [
    {
     "name": "stdout",
     "output_type": "stream",
     "text": [
      "請輸入星期1的支出:1\n",
      "請輸入星期2的支出:2\n",
      "請輸入星期3的支出:3\n",
      "請輸入星期4的支出:4\n",
      "請輸入星期5的支出:5\n",
      "請輸入星期6的支出:6\n",
      "請輸入星期日的支出:7\n",
      "本星期的支出為: 28 元\n"
     ]
    }
   ],
   "source": [
    "sum = 0\n",
    "i=1\n",
    "while(i<=7):    \n",
    "    if i == 7:\n",
    "        n = int(input(\"請輸入星期日的支出:\"))\n",
    "    else:\n",
    "        n = int(input(\"請輸入星期\" + str(i) + \"的支出:\"))\n",
    "    \n",
    "    sum += n\n",
    "    i += 1\n",
    "    \n",
    "print(\"本星期的支出為:\", sum ,\"元\")"
   ]
  },
  {
   "cell_type": "code",
   "execution_count": 4,
   "metadata": {},
   "outputs": [
    {
     "name": "stdout",
     "output_type": "stream",
     "text": [
      "請輸入星期1的支出:1\n",
      "請輸入星期2的支出:1\n",
      "請輸入星期3的支出:1\n",
      "請輸入星期4的支出:1\n",
      "請輸入星期5的支出:1\n",
      "請輸入星期6的支出:1\n",
      "請輸入星期日的支出:1\n",
      "本星期的支出為: 7 元\n"
     ]
    }
   ],
   "source": [
    "sum = 0\n",
    "i=1\n",
    "while(True):    \n",
    "    if i == 7:\n",
    "        n = int(input(\"請輸入星期日的支出:\"))\n",
    "        sum += n\n",
    "        break\n",
    "    else:\n",
    "        n = int(input(\"請輸入星期\" + str(i) + \"的支出:\"))\n",
    "    \n",
    "    sum += n\n",
    "    i += 1\n",
    "    \n",
    "print(\"本星期的支出為:\", sum ,\"元\")"
   ]
  },
  {
   "cell_type": "code",
   "execution_count": 6,
   "metadata": {},
   "outputs": [
    {
     "name": "stdout",
     "output_type": "stream",
     "text": [
      "請輸入這個1月的存款3445\n",
      "請輸入這個2月的存款7890\n",
      "請輸入這個3月的存款7890\n",
      "請輸入這個4月的存款6789\n",
      "請輸入這個5月的存款7890\n",
      "恭喜!已經存了 5 個月,總存款為: 33904 元\n"
     ]
    }
   ],
   "source": [
    "#小明想要存錢買一輛機車,機車每輛30000元，他將每月存的錢輸入，當存款足夠買機車時，就顯示提示訊息告知。\n",
    "i = 0\n",
    "deposit = 0\n",
    "while(deposit < 30000):\n",
    "    inputNum = int(input('請輸入這個' + str(i+1) + '月的存款'))\n",
    "    deposit += inputNum\n",
    "    i += 1\n",
    "print(\"恭喜!已經存了\",i,\"個月,總存款為:\", deposit,'元')"
   ]
  },
  {
   "cell_type": "code",
   "execution_count": null,
   "metadata": {},
   "outputs": [],
   "source": []
  }
 ],
 "metadata": {
  "kernelspec": {
   "display_name": "Python 3",
   "language": "python",
   "name": "python3"
  },
  "language_info": {
   "codemirror_mode": {
    "name": "ipython",
    "version": 3
   },
   "file_extension": ".py",
   "mimetype": "text/x-python",
   "name": "python",
   "nbconvert_exporter": "python",
   "pygments_lexer": "ipython3",
   "version": "3.7.4"
  }
 },
 "nbformat": 4,
 "nbformat_minor": 2
}
