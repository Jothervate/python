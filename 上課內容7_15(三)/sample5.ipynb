{
 "cells": [
  {
   "cell_type": "code",
   "execution_count": null,
   "metadata": {},
   "outputs": [],
   "source": [
    "#請輸出偶數\n",
    "i = 0\n",
    "while i<10:\n",
    "    if i % 2 == 0:\n",
    "        print(i)\n",
    "    i += 1\n",
    "print(\"程式結束\")"
   ]
  },
  {
   "cell_type": "code",
   "execution_count": null,
   "metadata": {},
   "outputs": [],
   "source": [
    "#請輸出奇數\n",
    "for i in range(10):\n",
    "    if i % 2 == 1:\n",
    "        print(i)\n",
    "print(\"程式結束\")"
   ]
  },
  {
   "cell_type": "code",
   "execution_count": 2,
   "metadata": {},
   "outputs": [
    {
     "name": "stdout",
     "output_type": "stream",
     "text": [
      "請輸入星期1的支出:1\n",
      "請輸入星期2的支出:1\n",
      "請輸入星期3的支出:1\n",
      "請輸入星期4的支出:1\n",
      "請輸入星期5的支出:1\n",
      "請輸入星期6的支出:1\n",
      "請輸入星期日的支出:1\n",
      "本星期的支出為: 7 元\n"
     ]
    }
   ],
   "source": [
    "sum = 0\n",
    "\n",
    "for i in range(1,8):    \n",
    "    if i == 7:\n",
    "        n = int(input(\"請輸入星期日的支出:\"))\n",
    "    else:\n",
    "        n = int(input(\"請輸入星期\" + str(i) + \"的支出:\"))\n",
    "    \n",
    "    sum += n\n",
    "    \n",
    "print(\"本星期的支出為:\", sum ,\"元\")"
   ]
  },
  {
   "cell_type": "code",
   "execution_count": null,
   "metadata": {},
   "outputs": [],
   "source": [
    "sum = 0\n",
    "i=1\n",
    "while(i<=7):    \n",
    "    if i == 7:\n",
    "        n = int(input(\"請輸入星期日的支出:\"))\n",
    "    else:\n",
    "        n = int(input(\"請輸入星期\" + str(i) + \"的支出:\"))\n",
    "    \n",
    "    sum += n\n",
    "    i += 1\n",
    "    \n",
    "print(\"本星期的支出為:\", sum ,\"元\")"
   ]
  }
 ],
 "metadata": {
  "kernelspec": {
   "display_name": "Python 3",
   "language": "python",
   "name": "python3"
  },
  "language_info": {
   "codemirror_mode": {
    "name": "ipython",
    "version": 3
   },
   "file_extension": ".py",
   "mimetype": "text/x-python",
   "name": "python",
   "nbconvert_exporter": "python",
   "pygments_lexer": "ipython3",
   "version": "3.7.4"
  }
 },
 "nbformat": 4,
 "nbformat_minor": 2
}
