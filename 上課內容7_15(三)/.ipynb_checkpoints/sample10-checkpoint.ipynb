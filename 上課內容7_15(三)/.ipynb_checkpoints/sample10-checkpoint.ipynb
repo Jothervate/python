{
 "cells": [
  {
   "cell_type": "code",
   "execution_count": 3,
   "metadata": {},
   "outputs": [
    {
     "name": "stdout",
     "output_type": "stream",
     "text": [
      "請輸入要加入的次數:5\n",
      "請輸入第1個數值67\n",
      "請輸入第2個數值56\n",
      "請輸入第3個數值98\n",
      "請輸入第4個數值34\n",
      "請輸入第5個數值24\n",
      "24 34 56 67 98 最小值是 24\n"
     ]
    }
   ],
   "source": [
    "list1 = []\n",
    "nums = int(input('請輸入要加入的次數:'))\n",
    "for i in range(nums):\n",
    "    number = int(input('請輸入第%d個數值' % (i+1)))\n",
    "    list1.append(number)\n",
    "    \n",
    "list1.sort()\n",
    "\n",
    "for item in list1:\n",
    "    print(item, end=' ')\n",
    "\n",
    "print('最小值是',list1[0])"
   ]
  },
  {
   "cell_type": "code",
   "execution_count": null,
   "metadata": {},
   "outputs": [],
   "source": []
  }
 ],
 "metadata": {
  "kernelspec": {
   "display_name": "Python 3",
   "language": "python",
   "name": "python3"
  },
  "language_info": {
   "codemirror_mode": {
    "name": "ipython",
    "version": 3
   },
   "file_extension": ".py",
   "mimetype": "text/x-python",
   "name": "python",
   "nbconvert_exporter": "python",
   "pygments_lexer": "ipython3",
   "version": "3.7.4"
  }
 },
 "nbformat": 4,
 "nbformat_minor": 2
}
