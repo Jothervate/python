{
 "cells": [
  {
   "cell_type": "code",
   "execution_count": 2,
   "metadata": {},
   "outputs": [
    {
     "name": "stdout",
     "output_type": "stream",
     "text": [
      "猜 1 到 20 的整數，猜錯4次結束程式！\n",
      "請輸入1 ~ 20的整數：3\n",
      "太小了\n",
      "請輸入1 ~ 20的整數：7\n",
      "太小了\n",
      "請輸入1 ~ 20的整數：17\n",
      "太大了\n",
      "請輸入1 ~ 20的整數：12\n",
      "太小了\n",
      "程式結束\n"
     ]
    }
   ],
   "source": [
    "#下列為猜1到20亂數整數的程式碼，猜對就結束程式, 猜錯就顯示訊息最多可以猜4次。\n",
    "#請用代碼填入以下問題來完成程式：\n",
    "\n",
    "from random import randint\n",
    "ans = randint(1, 20)\n",
    "times=1\n",
    "print(\"猜 1 到 20 的整數，猜錯4次結束程式！\")\n",
    "while times <= 4:\n",
    "    guess = int(input(\"請輸入1 ~ 20的整數：\"))\n",
    "    if guess > ans:\n",
    "        print('太大了')\n",
    "    elif guess < ans:\n",
    "        print('太小了')\n",
    "    else:\n",
    "        print('答對了')\n",
    "        break\n",
    "    times += 1\n",
    "print('程式結束')"
   ]
  },
  {
   "cell_type": "code",
   "execution_count": 3,
   "metadata": {},
   "outputs": [
    {
     "name": "stdout",
     "output_type": "stream",
     "text": [
      "兩個串列的值不相同\n"
     ]
    }
   ],
   "source": [
    "#請用代碼填入以下問題來完成程式：\n",
    "\n",
    "list1 = [1, 2, 3, 4]\n",
    "list2 = [\"1\", \"2\", \"3\", \"4\"]\n",
    "if list1 == list2:\n",
    "    print(\"兩個串列的值相同\")\n",
    "else:\n",
    "    print(\"兩個串列的值不相同\")"
   ]
  },
  {
   "cell_type": "code",
   "execution_count": 6,
   "metadata": {},
   "outputs": [
    {
     "name": "stdout",
     "output_type": "stream",
     "text": [
      "請輸入英文單字：Robert\n",
      "Robert 有大、小寫字母\n"
     ]
    }
   ],
   "source": [
    "#請利用下列中的四個敘述區段，組合成一個檢查輸入字串中字母大小寫的程式\n",
    "\n",
    "word = input(\"請輸入英文單字：\")\n",
    "if word.lower() == word:\n",
    "    print(word, \"全部小寫字母\")\n",
    "elif word.upper() == word:\n",
    "    print(word, \"全部大寫字母\")\n",
    "else:\n",
    "    print(word, \"有大、小寫字母\")"
   ]
  },
  {
   "cell_type": "code",
   "execution_count": null,
   "metadata": {},
   "outputs": [],
   "source": []
  }
 ],
 "metadata": {
  "kernelspec": {
   "display_name": "Python 3",
   "language": "python",
   "name": "python3"
  },
  "language_info": {
   "codemirror_mode": {
    "name": "ipython",
    "version": 3
   },
   "file_extension": ".py",
   "mimetype": "text/x-python",
   "name": "python",
   "nbconvert_exporter": "python",
   "pygments_lexer": "ipython3",
   "version": "3.7.4"
  }
 },
 "nbformat": 4,
 "nbformat_minor": 2
}
