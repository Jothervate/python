{
 "cells": [
  {
   "cell_type": "code",
   "execution_count": 2,
   "metadata": {},
   "outputs": [
    {
     "name": "stdout",
     "output_type": "stream",
     "text": [
      "猜 1 到 20 的整數，猜錯4次結束程式！\n",
      "請輸入1 ~ 20的整數：3\n",
      "太小了\n",
      "請輸入1 ~ 20的整數：7\n",
      "太小了\n",
      "請輸入1 ~ 20的整數：17\n",
      "太大了\n",
      "請輸入1 ~ 20的整數：12\n",
      "太小了\n",
      "程式結束\n"
     ]
    }
   ],
   "source": [
    "#下列為猜1到20亂數整數的程式碼，猜對就結束程式, 猜錯就顯示訊息最多可以猜4次。\n",
    "#請用代碼填入以下問題來完成程式：\n",
    "\n",
    "from random import randint\n",
    "ans = randint(1, 20)\n",
    "times=1\n",
    "print(\"猜 1 到 20 的整數，猜錯4次結束程式！\")\n",
    "while times <= 4:\n",
    "    guess = int(input(\"請輸入1 ~ 20的整數：\"))\n",
    "    if guess > ans:\n",
    "        print('太大了')\n",
    "    elif guess < ans:\n",
    "        print('太小了')\n",
    "    else:\n",
    "        print('答對了')\n",
    "        break\n",
    "    times += 1\n",
    "print('程式結束')"
   ]
  },
  {
   "cell_type": "code",
   "execution_count": 3,
   "metadata": {},
   "outputs": [
    {
     "name": "stdout",
     "output_type": "stream",
     "text": [
      "兩個串列的值不相同\n"
     ]
    }
   ],
   "source": [
    "#請用代碼填入以下問題來完成程式：\n",
    "\n",
    "list1 = [1, 2, 3, 4]\n",
    "list2 = [\"1\", \"2\", \"3\", \"4\"]\n",
    "if list1 == list2:\n",
    "    print(\"兩個串列的值相同\")\n",
    "else:\n",
    "    print(\"兩個串列的值不相同\")"
   ]
  },
  {
   "cell_type": "code",
   "execution_count": 6,
   "metadata": {},
   "outputs": [
    {
     "name": "stdout",
     "output_type": "stream",
     "text": [
      "請輸入英文單字：Robert\n",
      "Robert 有大、小寫字母\n"
     ]
    }
   ],
   "source": [
    "#請利用下列中的四個敘述區段，組合成一個檢查輸入字串中字母大小寫的程式\n",
    "\n",
    "word = input(\"請輸入英文單字：\")\n",
    "if word.lower() == word:\n",
    "    print(word, \"全部小寫字母\")\n",
    "elif word.upper() == word:\n",
    "    print(word, \"全部大寫字母\")\n",
    "else:\n",
    "    print(word, \"有大、小寫字母\")"
   ]
  },
  {
   "cell_type": "code",
   "execution_count": 7,
   "metadata": {},
   "outputs": [
    {
     "data": {
      "text/plain": [
       "[53, 36, 69, 42, 82, 26, 36, 57, 83, 14]"
      ]
     },
     "execution_count": 7,
     "metadata": {},
     "output_type": "execute_result"
    }
   ],
   "source": [
    "#下列為由score串列讀取成績，並調整成績的程式碼。調整成績的規則如下：\n",
    "\n",
    "from random import randint \n",
    "score = [randint(1,100) for _ in range(10)]"
   ]
  },
  {
   "cell_type": "code",
   "execution_count": 15,
   "metadata": {},
   "outputs": [
    {
     "name": "stdout",
     "output_type": "stream",
     "text": [
      "53\n",
      "36\n",
      "69\n",
      "42\n",
      "82\n",
      "26\n",
      "36\n",
      "57\n",
      "83\n",
      "14\n"
     ]
    },
    {
     "data": {
      "text/plain": [
       "[60, 41, 69, 48, 82, 30, 41, 64, 83, 17]"
      ]
     },
     "execution_count": 15,
     "metadata": {},
     "output_type": "execute_result"
    }
   ],
   "source": [
    "for i in range(len(score)):\n",
    "    print(score[i])\n",
    "    if score[i] >= 60:\n",
    "        continue\n",
    "    score[i]= int(score[i] * 1.1) + 2\n",
    "score"
   ]
  },
  {
   "cell_type": "code",
   "execution_count": 17,
   "metadata": {},
   "outputs": [
    {
     "name": "stdout",
     "output_type": "stream",
     "text": [
      "3 X 3 = 9  3 X 4 = 12  3 X 5 = 15  3 X 6 = 18  3 X 7 = 21  3 X 8 = 24  3 X 9 = 27  3 X 10 = 30  \n",
      "4 X 3 = 12  4 X 4 = 16  4 X 5 = 20  4 X 6 = 24  4 X 7 = 28  4 X 8 = 32  4 X 9 = 36  4 X 10 = 40  \n",
      "5 X 3 = 15  5 X 4 = 20  5 X 5 = 25  5 X 6 = 30  5 X 7 = 35  5 X 8 = 40  5 X 9 = 45  5 X 10 = 50  \n",
      "6 X 3 = 18  6 X 4 = 24  6 X 5 = 30  6 X 6 = 36  6 X 7 = 42  6 X 8 = 48  6 X 9 = 54  6 X 10 = 60  \n",
      "7 X 3 = 21  7 X 4 = 28  7 X 5 = 35  7 X 6 = 42  7 X 7 = 49  7 X 8 = 56  7 X 9 = 63  7 X 10 = 70  \n",
      "8 X 3 = 24  8 X 4 = 32  8 X 5 = 40  8 X 6 = 48  8 X 7 = 56  8 X 8 = 64  8 X 9 = 72  8 X 10 = 80  \n",
      "9 X 3 = 27  9 X 4 = 36  9 X 5 = 45  9 X 6 = 54  9 X 7 = 63  9 X 8 = 72  9 X 9 = 81  9 X 10 = 90  \n",
      "10 X 3 = 30  10 X 4 = 40  10 X 5 = 50  10 X 6 = 60  10 X 7 = 70  10 X 8 = 80  10 X 9 = 90  10 X 10 = 100  \n"
     ]
    }
   ],
   "source": [
    "#下列為顯示3 ~ 10乘法表函式的程式碼，請回答以下問題來完成程式：\n",
    "\n",
    "def print_tables():\n",
    "    for x in range(3, 11):\n",
    "        for y in range(3, 11):\n",
    "            print(x, 'X', y, '=', x*y, end='  ')\n",
    "        print()\n",
    "print_tables()"
   ]
  },
  {
   "cell_type": "code",
   "execution_count": null,
   "metadata": {},
   "outputs": [],
   "source": []
  }
 ],
 "metadata": {
  "kernelspec": {
   "display_name": "Python 3",
   "language": "python",
   "name": "python3"
  },
  "language_info": {
   "codemirror_mode": {
    "name": "ipython",
    "version": 3
   },
   "file_extension": ".py",
   "mimetype": "text/x-python",
   "name": "python",
   "nbconvert_exporter": "python",
   "pygments_lexer": "ipython3",
   "version": "3.7.4"
  }
 },
 "nbformat": 4,
 "nbformat_minor": 2
}
