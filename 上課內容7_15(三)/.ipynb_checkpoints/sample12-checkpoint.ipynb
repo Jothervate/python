{
 "cells": [
  {
   "cell_type": "code",
   "execution_count": 2,
   "metadata": {},
   "outputs": [
    {
     "name": "stdout",
     "output_type": "stream",
     "text": [
      "1\n",
      "8\n",
      "15\n"
     ]
    }
   ],
   "source": [
    "#函數傳回多值\n",
    "\n",
    "def manyValue(a, b):\n",
    "    c = a * b #區域變數,只可以使用在這function的程式區塊內\n",
    "    return (a-2, b+3, c)\n",
    "\n",
    "x, y, z = manyValue(3,5)\n",
    "print(x)\n",
    "print(y)\n",
    "print(z)"
   ]
  },
  {
   "cell_type": "code",
   "execution_count": 10,
   "metadata": {},
   "outputs": [
    {
     "name": "stdout",
     "output_type": "stream",
     "text": [
      "請輸入數字 n:5\n",
      "1 2 3 4 5 "
     ]
    }
   ],
   "source": [
    "def showNum(n):\n",
    "    for x in range(1,n+1):\n",
    "        print(x,end=' ')\n",
    "\n",
    "inputNum = int(input('請輸入數字 n:'))\n",
    "showNum(inputNum)\n"
   ]
  },
  {
   "cell_type": "code",
   "execution_count": 8,
   "metadata": {},
   "outputs": [
    {
     "name": "stdout",
     "output_type": "stream",
     "text": [
      "3-Hello-5\n"
     ]
    }
   ],
   "source": [
    "print(3, \"Hello\" , 5,sep='-')"
   ]
  },
  {
   "cell_type": "code",
   "execution_count": 13,
   "metadata": {},
   "outputs": [
    {
     "name": "stdout",
     "output_type": "stream",
     "text": [
      "請輸入初始速度:50\n",
      "加速前速度 50\n",
      "加速後速度 60\n",
      "s= 50\n"
     ]
    }
   ],
   "source": [
    "#call function by vaule\n",
    "\n",
    "def turbo(speed):\n",
    "    print('加速前速度',speed)\n",
    "    speed += 10\n",
    "    return speed\n",
    "\n",
    "s = int(input('請輸入初始速度:'))\n",
    "newS = turbo(s)\n",
    "print('加速後速度',newS)\n",
    "print(\"s=\", s);"
   ]
  },
  {
   "cell_type": "code",
   "execution_count": 14,
   "metadata": {},
   "outputs": [
    {
     "name": "stdout",
     "output_type": "stream",
     "text": [
      "請輸入初始速度:50\n",
      "加速前速度 50\n",
      "加速後速度 60\n"
     ]
    }
   ],
   "source": [
    "#call by Reference(參考)\n",
    "\n",
    "def turbo(listSpeed):\n",
    "    print('加速前速度',listSpeed[0])\n",
    "    listSpeed[0] += 10\n",
    "\n",
    "s = int(input('請輸入初始速度:'))\n",
    "listS = [s]\n",
    "turbo(listS)\n",
    "print('加速後速度',listS[0])"
   ]
  },
  {
   "cell_type": "code",
   "execution_count": 19,
   "metadata": {},
   "outputs": [
    {
     "name": "stdout",
     "output_type": "stream",
     "text": [
      "函數內: 10\n",
      "主程式區塊的a= 5\n"
     ]
    }
   ],
   "source": [
    "def func_sum():\n",
    "    a = 10\n",
    "    print(\"函數內:\",a)\n",
    "\n",
    "a = 5\n",
    "func_sum()\n",
    "print('主程式區塊的a=', a)"
   ]
  },
  {
   "cell_type": "code",
   "execution_count": 28,
   "metadata": {},
   "outputs": [
    {
     "name": "stdout",
     "output_type": "stream",
     "text": [
      "函數外1: 5\n",
      "函數內: 5\n",
      "函數外2: 5\n"
     ]
    }
   ],
   "source": [
    "a=5\n",
    "def func_sum( ):    \n",
    "    a = a + 1 \n",
    "    print(\"函數內:\",a) \n",
    "    return( )\n",
    "\n",
    "print(\"函數外1:\", a) \n",
    "func_sum( ) \n",
    "print(\"函數外2:\", a)"
   ]
  },
  {
   "cell_type": "code",
   "execution_count": 29,
   "metadata": {},
   "outputs": [
    {
     "name": "stdout",
     "output_type": "stream",
     "text": [
      "13\n"
     ]
    },
    {
     "data": {
      "text/plain": [
       "()"
      ]
     },
     "execution_count": 29,
     "metadata": {},
     "output_type": "execute_result"
    }
   ],
   "source": [
    "a=3\n",
    "def func_sum( ):\n",
    "\ta=7 \n",
    "\ta=a+6 \n",
    "\tprint(a) \n",
    "\treturn( )\n",
    "\t\n",
    "a += 6 \n",
    "func_sum( )"
   ]
  },
  {
   "cell_type": "code",
   "execution_count": 30,
   "metadata": {},
   "outputs": [
    {
     "name": "stdout",
     "output_type": "stream",
     "text": [
      "9\n"
     ]
    }
   ],
   "source": [
    "a=3\n",
    "def func_sum( ):\n",
    "\ta=7 \n",
    "\ta=a+6 \n",
    "\treturn( )\n",
    "a += 6 \n",
    "func_sum( ) \n",
    "print(a)"
   ]
  },
  {
   "cell_type": "code",
   "execution_count": 32,
   "metadata": {},
   "outputs": [
    {
     "ename": "IndexError",
     "evalue": "list index out of range",
     "output_type": "error",
     "traceback": [
      "\u001b[0;31m---------------------------------------------------------------------------\u001b[0m",
      "\u001b[0;31mIndexError\u001b[0m                                Traceback (most recent call last)",
      "\u001b[0;32m<ipython-input-32-bca299dfeec8>\u001b[0m in \u001b[0;36m<module>\u001b[0;34m\u001b[0m\n\u001b[1;32m      2\u001b[0m \u001b[0mshort_list\u001b[0m \u001b[0;34m=\u001b[0m \u001b[0;34m[\u001b[0m\u001b[0;36m1\u001b[0m\u001b[0;34m,\u001b[0m \u001b[0;36m2\u001b[0m\u001b[0;34m,\u001b[0m \u001b[0;36m3\u001b[0m\u001b[0;34m]\u001b[0m\u001b[0;34m\u001b[0m\u001b[0;34m\u001b[0m\u001b[0m\n\u001b[1;32m      3\u001b[0m \u001b[0mposition\u001b[0m \u001b[0;34m=\u001b[0m \u001b[0;36m5\u001b[0m\u001b[0;34m\u001b[0m\u001b[0;34m\u001b[0m\u001b[0m\n\u001b[0;32m----> 4\u001b[0;31m \u001b[0mshort_list\u001b[0m\u001b[0;34m[\u001b[0m\u001b[0mposition\u001b[0m\u001b[0;34m]\u001b[0m\u001b[0;34m\u001b[0m\u001b[0;34m\u001b[0m\u001b[0m\n\u001b[0m",
      "\u001b[0;31mIndexError\u001b[0m: list index out of range"
     ]
    }
   ],
   "source": [
    "#try...except處理錯誤\n",
    "short_list = [1, 2, 3]\n",
    "position = 5\n",
    "short_list[position]"
   ]
  },
  {
   "cell_type": "code",
   "execution_count": 37,
   "metadata": {},
   "outputs": [
    {
     "name": "stdout",
     "output_type": "stream",
     "text": [
      "發生錯誤\n",
      "程式結束\n"
     ]
    }
   ],
   "source": [
    "#try...except處理錯誤\n",
    "\n",
    "try:\n",
    "    short_list = [1, 2, 3]\n",
    "    position = 5\n",
    "    print(short_list[position])\n",
    "except:\n",
    "    print(\"發生錯誤\")\n",
    "\n",
    "print(\"程式結束\")"
   ]
  },
  {
   "cell_type": "code",
   "execution_count": null,
   "metadata": {},
   "outputs": [],
   "source": [
    "#try...except處理錯誤\n",
    "\n",
    "try:\n",
    "    short_list = [1, 2, 3]\n",
    "    position = 5\n",
    "    print(short_list[position])\n",
    "except IndexError:\n",
    "    print(\"發生IndexError錯誤\")\n",
    "except:\n",
    "    print(\"發生其它錯誤\")\n",
    "\n",
    "print(\"程式結束\")"
   ]
  }
 ],
 "metadata": {
  "kernelspec": {
   "display_name": "Python 3",
   "language": "python",
   "name": "python3"
  },
  "language_info": {
   "codemirror_mode": {
    "name": "ipython",
    "version": 3
   },
   "file_extension": ".py",
   "mimetype": "text/x-python",
   "name": "python",
   "nbconvert_exporter": "python",
   "pygments_lexer": "ipython3",
   "version": "3.7.4"
  }
 },
 "nbformat": 4,
 "nbformat_minor": 2
}
