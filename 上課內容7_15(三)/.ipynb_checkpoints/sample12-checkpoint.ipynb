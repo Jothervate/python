{
 "cells": [
  {
   "cell_type": "code",
   "execution_count": 2,
   "metadata": {},
   "outputs": [
    {
     "name": "stdout",
     "output_type": "stream",
     "text": [
      "1\n",
      "8\n",
      "15\n"
     ]
    }
   ],
   "source": [
    "#函數傳回多值\n",
    "\n",
    "def manyValue(a, b):\n",
    "    c = a * b #區域變數,只可以使用在這function的程式區塊內\n",
    "    return (a-2, b+3, c)\n",
    "\n",
    "x, y, z = manyValue(3,5)\n",
    "print(x)\n",
    "print(y)\n",
    "print(z)"
   ]
  },
  {
   "cell_type": "code",
   "execution_count": 10,
   "metadata": {},
   "outputs": [
    {
     "name": "stdout",
     "output_type": "stream",
     "text": [
      "請輸入數字 n:5\n",
      "1 2 3 4 5 "
     ]
    }
   ],
   "source": [
    "def showNum(n):\n",
    "    for x in range(1,n+1):\n",
    "        print(x,end=' ')\n",
    "\n",
    "inputNum = int(input('請輸入數字 n:'))\n",
    "showNum(inputNum)\n"
   ]
  },
  {
   "cell_type": "code",
   "execution_count": 8,
   "metadata": {},
   "outputs": [
    {
     "name": "stdout",
     "output_type": "stream",
     "text": [
      "3-Hello-5\n"
     ]
    }
   ],
   "source": [
    "print(3, \"Hello\" , 5,sep='-')"
   ]
  },
  {
   "cell_type": "code",
   "execution_count": null,
   "metadata": {},
   "outputs": [],
   "source": []
  }
 ],
 "metadata": {
  "kernelspec": {
   "display_name": "Python 3",
   "language": "python",
   "name": "python3"
  },
  "language_info": {
   "codemirror_mode": {
    "name": "ipython",
    "version": 3
   },
   "file_extension": ".py",
   "mimetype": "text/x-python",
   "name": "python",
   "nbconvert_exporter": "python",
   "pygments_lexer": "ipython3",
   "version": "3.7.4"
  }
 },
 "nbformat": 4,
 "nbformat_minor": 2
}
