{
 "cells": [
  {
   "cell_type": "code",
   "execution_count": 1,
   "metadata": {},
   "outputs": [
    {
     "data": {
      "text/plain": [
       "'DEFGHIJKLMNO'"
      ]
     },
     "execution_count": 1,
     "metadata": {},
     "output_type": "execute_result"
    }
   ],
   "source": [
    "word = 'ABCDEFGHIJKLMNOPQRSTUVWXYZ'\n",
    "word[3:15]"
   ]
  },
  {
   "cell_type": "code",
   "execution_count": 2,
   "metadata": {},
   "outputs": [
    {
     "data": {
      "text/plain": [
       "'DGJM'"
      ]
     },
     "execution_count": 2,
     "metadata": {},
     "output_type": "execute_result"
    }
   ],
   "source": [
    "word[3:15:3]"
   ]
  },
  {
   "cell_type": "code",
   "execution_count": 3,
   "metadata": {},
   "outputs": [
    {
     "data": {
      "text/plain": [
       "''"
      ]
     },
     "execution_count": 3,
     "metadata": {},
     "output_type": "execute_result"
    }
   ],
   "source": [
    "word[3:15:-3]"
   ]
  },
  {
   "cell_type": "code",
   "execution_count": 4,
   "metadata": {},
   "outputs": [
    {
     "data": {
      "text/plain": [
       "'PMJG'"
      ]
     },
     "execution_count": 4,
     "metadata": {},
     "output_type": "execute_result"
    }
   ],
   "source": [
    "word[15:3:-3]"
   ]
  },
  {
   "cell_type": "code",
   "execution_count": 9,
   "metadata": {},
   "outputs": [
    {
     "data": {
      "text/plain": [
       "'PONMLKJIHGFE'"
      ]
     },
     "execution_count": 9,
     "metadata": {},
     "output_type": "execute_result"
    }
   ],
   "source": [
    "word[15:3]"
   ]
  },
  {
   "cell_type": "code",
   "execution_count": 7,
   "metadata": {},
   "outputs": [
    {
     "data": {
      "text/plain": [
       "'ZWTQNKHEB'"
      ]
     },
     "execution_count": 7,
     "metadata": {},
     "output_type": "execute_result"
    }
   ],
   "source": [
    "word[::-3]"
   ]
  },
  {
   "cell_type": "code",
   "execution_count": 19,
   "metadata": {},
   "outputs": [
    {
     "data": {
      "text/plain": [
       "['stu2',\n",
       " 'stu4',\n",
       " 'stu6',\n",
       " 'stu8',\n",
       " 'stu10',\n",
       " 'stu12',\n",
       " 'stu14',\n",
       " 'stu16',\n",
       " 'stu18',\n",
       " 'stu20',\n",
       " 'stu22',\n",
       " 'stu24',\n",
       " 'stu26',\n",
       " 'stu28',\n",
       " 'stu30',\n",
       " 'stu32',\n",
       " 'stu34',\n",
       " 'stu36',\n",
       " 'stu38',\n",
       " 'stu40',\n",
       " 'stu42',\n",
       " 'stu44',\n",
       " 'stu46',\n",
       " 'stu48',\n",
       " 'stu50',\n",
       " 'stu52',\n",
       " 'stu54',\n",
       " 'stu56',\n",
       " 'stu58',\n",
       " 'stu60',\n",
       " 'stu62',\n",
       " 'stu64',\n",
       " 'stu66',\n",
       " 'stu68',\n",
       " 'stu70',\n",
       " 'stu72',\n",
       " 'stu74',\n",
       " 'stu76',\n",
       " 'stu78',\n",
       " 'stu80',\n",
       " 'stu82',\n",
       " 'stu84',\n",
       " 'stu86',\n",
       " 'stu88',\n",
       " 'stu90',\n",
       " 'stu92',\n",
       " 'stu94',\n",
       " 'stu96',\n",
       " 'stu98',\n",
       " 'stu100']"
      ]
     },
     "execution_count": 19,
     "metadata": {},
     "output_type": "execute_result"
    }
   ],
   "source": [
    "'''\n",
    "students = []\n",
    "for i in range(1,101):\n",
    "    name = 'stu%d' % i\n",
    "    students.append(name)\n",
    "'''\n",
    "#comprehension(快速建立串列資料)\n",
    "students = ['stu%d'%i for i in range(1,101)]   \n",
    "students[:10]\n",
    "students[-10:]\n",
    "students[:-15]\n",
    "students[1::2]"
   ]
  },
  {
   "cell_type": "code",
   "execution_count": 26,
   "metadata": {},
   "outputs": [
    {
     "name": "stdout",
     "output_type": "stream",
     "text": [
      "請輸入一個整數:3\n",
      "9\n"
     ]
    }
   ],
   "source": [
    "x = eval(input(\"請輸入一個整數:\"))\n",
    "y = (-x) ** 2\n",
    "print(y)"
   ]
  },
  {
   "cell_type": "code",
   "execution_count": 39,
   "metadata": {},
   "outputs": [
    {
     "name": "stdout",
     "output_type": "stream",
     "text": [
      "0.05\n"
     ]
    }
   ],
   "source": [
    "def get_off(female, kid):\n",
    "    off = 0.05\n",
    "    if not(female or kid):\n",
    "        off = 0\n",
    "    return off\n",
    "\n",
    "def get_off1(female, kid):\n",
    "    off = 0.05\n",
    "    if female==False and kid==False:\n",
    "        off = 0\n",
    "    return off\n",
    "\n",
    "print(get_off(female=True, kid=False))"
   ]
  },
  {
   "cell_type": "code",
   "execution_count": null,
   "metadata": {},
   "outputs": [],
   "source": []
  }
 ],
 "metadata": {
  "kernelspec": {
   "display_name": "Python 3",
   "language": "python",
   "name": "python3"
  },
  "language_info": {
   "codemirror_mode": {
    "name": "ipython",
    "version": 3
   },
   "file_extension": ".py",
   "mimetype": "text/x-python",
   "name": "python",
   "nbconvert_exporter": "python",
   "pygments_lexer": "ipython3",
   "version": "3.7.4"
  }
 },
 "nbformat": 4,
 "nbformat_minor": 2
}
