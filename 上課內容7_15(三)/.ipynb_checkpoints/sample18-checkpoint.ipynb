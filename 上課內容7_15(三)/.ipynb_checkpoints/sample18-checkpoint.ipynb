{
 "cells": [
  {
   "cell_type": "code",
   "execution_count": null,
   "metadata": {},
   "outputs": [],
   "source": [
    "def input_name():\n",
    "    name = input(\"請輸入姓名：\")\n",
    "    return name\n",
    "def calc(num, calories):\n",
    "    total_cal = num * calories\n",
    "    return total_cal\n",
    "user = input_name()\n",
    "cups = int(input(user + \"請輸入一天喝幾杯珍珠奶茶？\"))\n",
    "print(user + \" 你攝取了\", calc(cups, 160), \"大卡\")"
   ]
  }
 ],
 "metadata": {
  "kernelspec": {
   "display_name": "Python 3",
   "language": "python",
   "name": "python3"
  },
  "language_info": {
   "codemirror_mode": {
    "name": "ipython",
    "version": 3
   },
   "file_extension": ".py",
   "mimetype": "text/x-python",
   "name": "python",
   "nbconvert_exporter": "python",
   "pygments_lexer": "ipython3",
   "version": "3.7.4"
  }
 },
 "nbformat": 4,
 "nbformat_minor": 2
}
