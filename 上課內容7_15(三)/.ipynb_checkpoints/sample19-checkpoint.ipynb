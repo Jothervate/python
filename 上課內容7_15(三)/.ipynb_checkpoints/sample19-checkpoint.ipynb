{
 "cells": [
  {
   "cell_type": "code",
   "execution_count": 2,
   "metadata": {},
   "outputs": [
    {
     "name": "stdout",
     "output_type": "stream",
     "text": [
      "test61.txt檔案無法開啟!\n"
     ]
    }
   ],
   "source": [
    "#1如果test61.txt檔案不存在，請評估下列程式碼執行的情形？\n",
    "\n",
    "import sys\n",
    "\n",
    "try:\n",
    "    fName = 'test61.txt'\n",
    "    file = open(fName, 'r')\n",
    "except IOError:\n",
    "    print(fName + '檔案無法開啟!')\n",
    "else:\n",
    "    i = 1\n",
    "    for data in file:\n",
    "        print(data.rstrip())\n",
    "        i += 1\n",
    "        \n",
    "    file.close()"
   ]
  },
  {
   "cell_type": "code",
   "execution_count": null,
   "metadata": {},
   "outputs": [],
   "source": []
  }
 ],
 "metadata": {
  "kernelspec": {
   "display_name": "Python 3",
   "language": "python",
   "name": "python3"
  },
  "language_info": {
   "codemirror_mode": {
    "name": "ipython",
    "version": 3
   },
   "file_extension": ".py",
   "mimetype": "text/x-python",
   "name": "python",
   "nbconvert_exporter": "python",
   "pygments_lexer": "ipython3",
   "version": "3.7.4"
  }
 },
 "nbformat": 4,
 "nbformat_minor": 2
}
