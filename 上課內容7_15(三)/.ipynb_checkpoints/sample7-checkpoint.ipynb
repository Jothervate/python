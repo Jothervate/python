{
 "cells": [
  {
   "cell_type": "code",
   "execution_count": 1,
   "metadata": {},
   "outputs": [
    {
     "data": {
      "text/plain": [
       "'Snap'"
      ]
     },
     "execution_count": 1,
     "metadata": {},
     "output_type": "execute_result"
    }
   ],
   "source": [
    "'Snap'"
   ]
  },
  {
   "cell_type": "code",
   "execution_count": 2,
   "metadata": {},
   "outputs": [
    {
     "data": {
      "text/plain": [
       "'Snap'"
      ]
     },
     "execution_count": 2,
     "metadata": {},
     "output_type": "execute_result"
    }
   ],
   "source": [
    "\"Snap\""
   ]
  },
  {
   "cell_type": "code",
   "execution_count": 5,
   "metadata": {},
   "outputs": [
    {
     "name": "stdout",
     "output_type": "stream",
     "text": [
      "這是\"國文\"\n"
     ]
    }
   ],
   "source": [
    "print('這是\"國文\"')"
   ]
  },
  {
   "cell_type": "code",
   "execution_count": 6,
   "metadata": {},
   "outputs": [
    {
     "name": "stdout",
     "output_type": "stream",
     "text": [
      "這是'python'\n"
     ]
    }
   ],
   "source": [
    "print(\"這是'python'\")"
   ]
  },
  {
   "cell_type": "code",
   "execution_count": 7,
   "metadata": {},
   "outputs": [
    {
     "name": "stdout",
     "output_type": "stream",
     "text": [
      "這是\"python\"\n"
     ]
    }
   ],
   "source": [
    "#跳脫字元\n",
    "print(\"這是\\\"python\\\"\")"
   ]
  },
  {
   "cell_type": "code",
   "execution_count": 8,
   "metadata": {},
   "outputs": [
    {
     "name": "stdout",
     "output_type": "stream",
     "text": [
      "這是'國文'\n"
     ]
    }
   ],
   "source": [
    "print('這是\\'國文\\'')"
   ]
  },
  {
   "cell_type": "code",
   "execution_count": 10,
   "metadata": {},
   "outputs": [
    {
     "name": "stdout",
     "output_type": "stream",
     "text": [
      "這是國文\\英文\n"
     ]
    }
   ],
   "source": [
    "print('這是國文\\\\英文')"
   ]
  },
  {
   "cell_type": "code",
   "execution_count": 15,
   "metadata": {},
   "outputs": [
    {
     "name": "stdout",
     "output_type": "stream",
     "text": [
      "此外，也有不同的聲音，台積電的客戶，但是是英特爾的對\n",
      "手超微 AMD，每個月跟台積電預訂了 2 萬片 5 奈米的產能\n",
      "，所以無法容忍台積電挪出產能去伺候\n",
      "英特爾這樣的一個對手客戶。另外，台積電\n",
      "的產能也擠爆，可能也挪不出新的產能來給英特爾。\n"
     ]
    }
   ],
   "source": [
    "#多行文字\n",
    "words = \"\"\"此外，也有不同的聲音，台積電的客戶，但是是英特爾的對\n",
    "手超微 AMD，每個月跟台積電預訂了 2 萬片 5 奈米的產能\n",
    "，所以無法容忍台積電挪出產能去伺候\n",
    "英特爾這樣的一個對手客戶。另外，台積電\n",
    "的產能也擠爆，可能也挪不出新的產能來給英特爾。\"\"\"\n",
    "print(words)\n"
   ]
  },
  {
   "cell_type": "code",
   "execution_count": 24,
   "metadata": {},
   "outputs": [
    {
     "name": "stdout",
     "output_type": "stream",
     "text": [
      "此外，也有不同的聲音，台積電的客戶，但是是英特爾的對手超微 AMD，每個月跟台積電預訂了 2 萬片 5 奈米的產能，所以無法容忍台積電挪出產能去伺候英特爾這樣的一個對手客戶。另外，台積電的產能也擠爆，可能也挪不出新的產能來給英特爾。\n"
     ]
    }
   ],
   "source": [
    "#單一行\n",
    "words=\"此外，也有不同的聲音，台積電的客戶，但是是英特爾的對\\\n",
    "手超微 AMD，每個月跟台積電預訂了 2 萬片 5 奈米的產能\\\n",
    "，所以無法容忍台積電挪出產能去伺候\\\n",
    "英特爾這樣的一個對手客戶。另外，台積電\\\n",
    "的產能也擠爆，可能也挪不出新的產能來給英特爾。\"\n",
    "print(words)"
   ]
  },
  {
   "cell_type": "code",
   "execution_count": 25,
   "metadata": {},
   "outputs": [
    {
     "name": "stdout",
     "output_type": "stream",
     "text": [
      "此外，也有不同的聲音，台積電的客戶，但是是英特爾的對手超微 AMD，每個月跟台積電預訂了 2 萬片 5 奈米的產能，所以無法容忍台積電挪出產能去伺候英特爾這樣的一個對手客戶。另外，台積電的產能也擠爆，可能也挪不出新的產能來給英特爾。\n"
     ]
    }
   ],
   "source": [
    "#單一行\n",
    "words = '';\n",
    "words += \"此外，也有不同的聲音，台積電的客戶，但是是英特爾的對\"\n",
    "words += \"手超微 AMD，每個月跟台積電預訂了 2 萬片 5 奈米的產能\"\n",
    "words += \"，所以無法容忍台積電挪出產能去伺候\"\n",
    "words += \"英特爾這樣的一個對手客戶。另外，台積電\"\n",
    "words += \"的產能也擠爆，可能也挪不出新的產能來給英特爾。\"\n",
    "print(words)"
   ]
  },
  {
   "cell_type": "code",
   "execution_count": 26,
   "metadata": {},
   "outputs": [
    {
     "data": {
      "text/plain": [
       "'此外，也有不同的聲音，台積電的客戶，但是是英特爾的對手超微 AMD，每個月跟台積電預訂了 2 萬片 5 奈米的產能，所以無法容忍台積電挪出產能去伺候英特爾這樣的一個對手客戶。另外，台積電的產能也擠爆，可能也挪不出新的產能來給英特爾。'"
      ]
     },
     "execution_count": 26,
     "metadata": {},
     "output_type": "execute_result"
    }
   ],
   "source": [
    "words"
   ]
  },
  {
   "cell_type": "code",
   "execution_count": 27,
   "metadata": {},
   "outputs": [
    {
     "data": {
      "text/plain": [
       "116"
      ]
     },
     "execution_count": 27,
     "metadata": {},
     "output_type": "execute_result"
    }
   ],
   "source": [
    "len(words)"
   ]
  },
  {
   "cell_type": "code",
   "execution_count": 32,
   "metadata": {},
   "outputs": [
    {
     "name": "stdout",
     "output_type": "stream",
     "text": [
      "H\n",
      "l\n",
      "d\n",
      "l\n",
      "ell\n"
     ]
    }
   ],
   "source": [
    "myString1 = \"Hello World\"\n",
    "print(myString1[0])\n",
    "print(myString1[2])\n",
    "print(myString1[-1])\n",
    "print(myString1[-2])\n",
    "print(myString1[1:4])\n",
    "print(myString1[2:])"
   ]
  },
  {
   "cell_type": "code",
   "execution_count": null,
   "metadata": {},
   "outputs": [],
   "source": []
  }
 ],
 "metadata": {
  "kernelspec": {
   "display_name": "Python 3",
   "language": "python",
   "name": "python3"
  },
  "language_info": {
   "codemirror_mode": {
    "name": "ipython",
    "version": 3
   },
   "file_extension": ".py",
   "mimetype": "text/x-python",
   "name": "python",
   "nbconvert_exporter": "python",
   "pygments_lexer": "ipython3",
   "version": "3.7.4"
  }
 },
 "nbformat": 4,
 "nbformat_minor": 2
}
