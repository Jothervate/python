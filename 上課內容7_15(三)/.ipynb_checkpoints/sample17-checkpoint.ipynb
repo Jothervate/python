{
 "cells": [
  {
   "cell_type": "code",
   "execution_count": 2,
   "metadata": {},
   "outputs": [
    {
     "name": "stdout",
     "output_type": "stream",
     "text": [
      "請輸入成績(0 ~ 100)，停止時請輸入-1：78\n",
      "請輸入成績(0 ~ 100)，停止時請輸入-1：97\n",
      "請輸入成績(0 ~ 100)，停止時請輸入-1：78\n",
      "請輸入成績(0 ~ 100)，停止時請輸入-1：65\n",
      "請輸入成績(0 ~ 100)，停止時請輸入-1：91\n",
      "請輸入成績(0 ~ 100)，停止時請輸入-1：-1\n",
      "平均成績： 81.800\n"
     ]
    }
   ],
   "source": [
    "'''\n",
    "5下列為計算平均分數的程式碼，程式功能如下:\n",
    "• 可以接受任意筆輸入的含小數分數。\n",
    "• 結束輸入分數後，就顯示平均分數，分數要四捨五入到小數第二位。\n",
    "'''\n",
    "sum, num = 0, 0\n",
    "avg = 0.0\n",
    "\n",
    "while (num != -1):\n",
    "    score = float(input('請輸入成績(0 ~ 100)，停止時請輸入-1：') )\n",
    "    if score == -1:\n",
    "        break\n",
    "    sum += score\n",
    "    num += 1\n",
    "avg = float(sum / num)\n",
    "print('平均成績： ' + format(avg, '.2f'))"
   ]
  },
  {
   "cell_type": "code",
   "execution_count": null,
   "metadata": {},
   "outputs": [],
   "source": []
  }
 ],
 "metadata": {
  "kernelspec": {
   "display_name": "Python 3",
   "language": "python",
   "name": "python3"
  },
  "language_info": {
   "codemirror_mode": {
    "name": "ipython",
    "version": 3
   },
   "file_extension": ".py",
   "mimetype": "text/x-python",
   "name": "python",
   "nbconvert_exporter": "python",
   "pygments_lexer": "ipython3",
   "version": "3.7.4"
  }
 },
 "nbformat": 4,
 "nbformat_minor": 2
}
