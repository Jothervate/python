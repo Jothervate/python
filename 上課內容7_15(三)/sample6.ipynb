{
 "cells": [
  {
   "cell_type": "code",
   "execution_count": 1,
   "metadata": {},
   "outputs": [
    {
     "name": "stdout",
     "output_type": "stream",
     "text": [
      "Flopsy\n",
      "Mopsy\n",
      "Cottontail\n",
      "Peter\n"
     ]
    }
   ],
   "source": [
    "#使用forin方式,讀取list內的每一個元素\n",
    "rabbits = ['Flopsy', 'Mopsy', 'Cottontail', 'Peter']\n",
    "for rab in rabbits:\n",
    "    print(rab)\n"
   ]
  },
  {
   "cell_type": "code",
   "execution_count": 2,
   "metadata": {},
   "outputs": [
    {
     "name": "stdout",
     "output_type": "stream",
     "text": [
      "Flopsy\n",
      "Mopsy\n",
      "Cottontail\n",
      "Peter\n"
     ]
    }
   ],
   "source": [
    "#使用傳統方式,讀取list內的每一個元素\n",
    "rabbits = ['Flopsy', 'Mopsy', 'Cottontail', 'Peter']\n",
    "\n",
    "current = 0\n",
    "while current < len(rabbits):\n",
    "    print(rabbits[current])\n",
    "    current += 1\n"
   ]
  },
  {
   "cell_type": "code",
   "execution_count": 3,
   "metadata": {},
   "outputs": [
    {
     "name": "stdout",
     "output_type": "stream",
     "text": [
      "c\n",
      "a\n",
      "t\n"
     ]
    }
   ],
   "source": [
    "word = 'cat'\n",
    "for letter in word:\n",
    "    print(letter)\n"
   ]
  },
  {
   "cell_type": "code",
   "execution_count": 9,
   "metadata": {},
   "outputs": [
    {
     "name": "stdout",
     "output_type": "stream",
     "text": [
      "5\n",
      "7\n",
      "9\n",
      "11\n",
      "13\n",
      "15\n",
      "17\n",
      "19\n"
     ]
    }
   ],
   "source": [
    "for x in range(5,20,2):\n",
    "    print(x)"
   ]
  },
  {
   "cell_type": "code",
   "execution_count": 10,
   "metadata": {},
   "outputs": [
    {
     "name": "stdout",
     "output_type": "stream",
     "text": [
      "請輸入第1位學生的成績:78\n",
      "請輸入第2位學生的成績:98\n",
      "請輸入第3位學生的成績:67\n",
      "請輸入第4位學生的成績:87\n",
      "請輸入第5位學生的成績:95\n",
      "全班總成績為:425分,平均分數為85.00分\n"
     ]
    }
   ],
   "source": [
    "#小王班上有五位學生，請您為小王設計一個輸入成績的程式，並且在輸入成績後顯示班上總成績及平均成績。\n",
    "students = 5\n",
    "sum = 0\n",
    "for i in range(students):\n",
    "    studentScore = int(input('請輸入第' + str(i+1) + '位學生的成績:'))\n",
    "    sum += studentScore\n",
    "\n",
    "print(\"全班總成績為:%d分,平均分數為%.2f分\" % (sum, sum/students))"
   ]
  },
  {
   "cell_type": "code",
   "execution_count": 13,
   "metadata": {},
   "outputs": [
    {
     "name": "stdout",
     "output_type": "stream",
     "text": [
      "#\n",
      "##\n",
      "###\n",
      "####\n"
     ]
    }
   ],
   "source": [
    "for i in range(1,5):\n",
    "    for j in range(i):\n",
    "        print(\"#\",end='')\n",
    "    print()\n"
   ]
  },
  {
   "cell_type": "code",
   "execution_count": 25,
   "metadata": {},
   "outputs": [
    {
     "name": "stdout",
     "output_type": "stream",
     "text": [
      " 1 * 1= 1\n",
      " 1 * 2= 2\n",
      " 1 * 3= 3\n",
      " 1 * 4= 4\n",
      " 1 * 5= 5\n",
      " 1 * 6= 6\n",
      " 1 * 7= 7\n",
      " 1 * 8= 8\n",
      " 1 * 9= 9\n",
      "\n",
      " 2 * 1= 2\n",
      " 2 * 2= 4\n",
      " 2 * 3= 6\n",
      " 2 * 4= 8\n",
      " 2 * 5=10\n",
      " 2 * 6=12\n",
      " 2 * 7=14\n",
      " 2 * 8=16\n",
      " 2 * 9=18\n",
      "\n",
      " 3 * 1= 3\n",
      " 3 * 2= 6\n",
      " 3 * 3= 9\n",
      " 3 * 4=12\n",
      " 3 * 5=15\n",
      " 3 * 6=18\n",
      " 3 * 7=21\n",
      " 3 * 8=24\n",
      " 3 * 9=27\n",
      "\n",
      " 4 * 1= 4\n",
      " 4 * 2= 8\n",
      " 4 * 3=12\n",
      " 4 * 4=16\n",
      " 4 * 5=20\n",
      " 4 * 6=24\n",
      " 4 * 7=28\n",
      " 4 * 8=32\n",
      " 4 * 9=36\n",
      "\n",
      " 5 * 1= 5\n",
      " 5 * 2=10\n",
      " 5 * 3=15\n",
      " 5 * 4=20\n",
      " 5 * 5=25\n",
      " 5 * 6=30\n",
      " 5 * 7=35\n",
      " 5 * 8=40\n",
      " 5 * 9=45\n",
      "\n",
      " 6 * 1= 6\n",
      " 6 * 2=12\n",
      " 6 * 3=18\n",
      " 6 * 4=24\n",
      " 6 * 5=30\n",
      " 6 * 6=36\n",
      " 6 * 7=42\n",
      " 6 * 8=48\n",
      " 6 * 9=54\n",
      "\n",
      " 7 * 1= 7\n",
      " 7 * 2=14\n",
      " 7 * 3=21\n",
      " 7 * 4=28\n",
      " 7 * 5=35\n",
      " 7 * 6=42\n",
      " 7 * 7=49\n",
      " 7 * 8=56\n",
      " 7 * 9=63\n",
      "\n",
      " 8 * 1= 8\n",
      " 8 * 2=16\n",
      " 8 * 3=24\n",
      " 8 * 4=32\n",
      " 8 * 5=40\n",
      " 8 * 6=48\n",
      " 8 * 7=56\n",
      " 8 * 8=64\n",
      " 8 * 9=72\n",
      "\n",
      " 9 * 1= 9\n",
      " 9 * 2=18\n",
      " 9 * 3=27\n",
      " 9 * 4=36\n",
      " 9 * 5=45\n",
      " 9 * 6=54\n",
      " 9 * 7=63\n",
      " 9 * 8=72\n",
      " 9 * 9=81\n",
      "\n"
     ]
    }
   ],
   "source": [
    "for i in range(1,10):\n",
    "    for j in range(1,10):\n",
    "        print('%2d *%2d=%2d' % (i, j , i*j),end='\\n')\n",
    "    print()"
   ]
  },
  {
   "cell_type": "code",
   "execution_count": null,
   "metadata": {},
   "outputs": [],
   "source": []
  }
 ],
 "metadata": {
  "kernelspec": {
   "display_name": "Python 3",
   "language": "python",
   "name": "python3"
  },
  "language_info": {
   "codemirror_mode": {
    "name": "ipython",
    "version": 3
   },
   "file_extension": ".py",
   "mimetype": "text/x-python",
   "name": "python",
   "nbconvert_exporter": "python",
   "pygments_lexer": "ipython3",
   "version": "3.7.4"
  }
 },
 "nbformat": 4,
 "nbformat_minor": 2
}
