{
 "cells": [
  {
   "cell_type": "code",
   "execution_count": 4,
   "metadata": {},
   "outputs": [
    {
     "name": "stdout",
     "output_type": "stream",
     "text": [
      "test61.txt檔案無法開啟!\n"
     ]
    }
   ],
   "source": [
    "#1如果test61.txt檔案不存在，請評估下列程式碼執行的情形？\n",
    "\n",
    "import sys\n",
    "\n",
    "try:\n",
    "    fName = 'test61.txt'\n",
    "    file = open(fName, 'r')\n",
    "except IOError:\n",
    "    print(fName + '檔案無法開啟!')\n",
    "else:\n",
    "    i = 1\n",
    "    for data in file:\n",
    "        print(data.rstrip())\n",
    "        i += 1\n",
    "    file.close()    \n"
   ]
  },
  {
   "cell_type": "code",
   "execution_count": 5,
   "metadata": {},
   "outputs": [
    {
     "ename": "ZeroDivisionError",
     "evalue": "division by zero",
     "output_type": "error",
     "traceback": [
      "\u001b[0;31m---------------------------------------------------------------------------\u001b[0m",
      "\u001b[0;31mZeroDivisionError\u001b[0m                         Traceback (most recent call last)",
      "\u001b[0;32m<ipython-input-5-11ba7fcf8897>\u001b[0m in \u001b[0;36m<module>\u001b[0;34m\u001b[0m\n\u001b[1;32m      6\u001b[0m \u001b[0;32mwhile\u001b[0m\u001b[0;34m(\u001b[0m\u001b[0mok\u001b[0m\u001b[0;34m)\u001b[0m\u001b[0;34m:\u001b[0m\u001b[0;34m\u001b[0m\u001b[0;34m\u001b[0m\u001b[0m\n\u001b[1;32m      7\u001b[0m     \u001b[0;32mif\u001b[0m \u001b[0mi\u001b[0m \u001b[0;34m<=\u001b[0m \u001b[0;36m8\u001b[0m\u001b[0;34m:\u001b[0m\u001b[0;34m\u001b[0m\u001b[0;34m\u001b[0m\u001b[0m\n\u001b[0;32m----> 8\u001b[0;31m         \u001b[0mnum\u001b[0m \u001b[0;34m=\u001b[0m \u001b[0mnum\u001b[0m \u001b[0;34m/\u001b[0m \u001b[0mi\u001b[0m\u001b[0;34m\u001b[0m\u001b[0;34m\u001b[0m\u001b[0m\n\u001b[0m\u001b[1;32m      9\u001b[0m         \u001b[0mi\u001b[0m \u001b[0;34m+=\u001b[0m \u001b[0;36m1\u001b[0m\u001b[0;34m\u001b[0m\u001b[0;34m\u001b[0m\u001b[0m\n\u001b[1;32m     10\u001b[0m     \u001b[0;32melse\u001b[0m\u001b[0;34m:\u001b[0m\u001b[0;34m\u001b[0m\u001b[0;34m\u001b[0m\u001b[0m\n",
      "\u001b[0;31mZeroDivisionError\u001b[0m: division by zero"
     ]
    }
   ],
   "source": [
    "#下列程式碼是計算num連除遞增整數的值，請問執行的結果為何？\n",
    "ok = True\n",
    "i = 0\n",
    "num = 15000\n",
    "\n",
    "while(ok):\n",
    "    if i <= 8:\n",
    "        num = num / i\n",
    "        i += 1\n",
    "    else:\n",
    "        ok =False\n",
    "print(num)\n"
   ]
  },
  {
   "cell_type": "code",
   "execution_count": 8,
   "metadata": {},
   "outputs": [
    {
     "name": "stdout",
     "output_type": "stream",
     "text": [
      "成績總分為： 360\n",
      "平均成績為： 72.0\n"
     ]
    }
   ],
   "source": [
    "#3下列為計算學生成績的程式碼，程式執行後發現計算結果不正確，請回答下列問題來修改程式碼：\n",
    "\n",
    "stuScore = [85, 72, 65, 45, 93]\n",
    "num = 0\n",
    "total = 0\n",
    "for i in range(len(stuScore)):\n",
    "    num += 1\n",
    "    total += stuScore[i]\n",
    "    \n",
    "avg = total / num\n",
    "print('成績總分為：', total)\n",
    "print('平均成績為：', avg)\n"
   ]
  },
  {
   "cell_type": "code",
   "execution_count": 9,
   "metadata": {},
   "outputs": [],
   "source": [
    "#下列為讀取資料檔案，並且列印檔案中的每一字的函式。\n",
    "#為使萬一檔案不存在，程式碼也能正確執行，請問下列哪三行敘述必須增加縮排？\n",
    "\n",
    "import os\n",
    "def read_file(fileName):\n",
    "    cap = None\n",
    "    if os.path.isfile(fileName):\n",
    "        file = open(fileName, 'r')\n",
    "        while cap != '':\n",
    "            cap = file.read(1)\n",
    "            print(cap)\n"
   ]
  },
  {
   "cell_type": "code",
   "execution_count": 10,
   "metadata": {},
   "outputs": [
    {
     "name": "stdout",
     "output_type": "stream",
     "text": [
      "A\n",
      "B\n",
      "C\n",
      "D\n"
     ]
    }
   ],
   "source": [
    "#5下列為讀取串列元素內容，並且讀到指定元素內容時結束的程式碼。\n",
    "#但是執行有錯誤產生，請回答下列問題來修改程式碼。\n",
    "\n",
    "datas = ['A', 'B', 'C', 'D', 'E', 'F', 'G', 'H', 'I', 'J']\n",
    "i = 0\n",
    "while (i < 10):\n",
    "    print(datas[i])\n",
    "    if datas[i] == 'D':\n",
    "        break\n",
    "    else:\n",
    "        i += 1"
   ]
  },
  {
   "cell_type": "code",
   "execution_count": null,
   "metadata": {},
   "outputs": [],
   "source": []
  }
 ],
 "metadata": {
  "kernelspec": {
   "display_name": "Python 3",
   "language": "python",
   "name": "python3"
  },
  "language_info": {
   "codemirror_mode": {
    "name": "ipython",
    "version": 3
   },
   "file_extension": ".py",
   "mimetype": "text/x-python",
   "name": "python",
   "nbconvert_exporter": "python",
   "pygments_lexer": "ipython3",
   "version": "3.7.4"
  }
 },
 "nbformat": 4,
 "nbformat_minor": 2
}
