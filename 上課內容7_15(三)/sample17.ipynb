{
 "cells": [
  {
   "cell_type": "code",
   "execution_count": 2,
   "metadata": {},
   "outputs": [
    {
     "name": "stdout",
     "output_type": "stream",
     "text": [
      "請輸入成績(0 ~ 100)，停止時請輸入-1：78\n",
      "請輸入成績(0 ~ 100)，停止時請輸入-1：97\n",
      "請輸入成績(0 ~ 100)，停止時請輸入-1：78\n",
      "請輸入成績(0 ~ 100)，停止時請輸入-1：65\n",
      "請輸入成績(0 ~ 100)，停止時請輸入-1：91\n",
      "請輸入成績(0 ~ 100)，停止時請輸入-1：-1\n",
      "平均成績： 81.800\n"
     ]
    }
   ],
   "source": [
    "'''\n",
    "5下列為計算平均分數的程式碼，程式功能如下:\n",
    "• 可以接受任意筆輸入的含小數分數。\n",
    "• 結束輸入分數後，就顯示平均分數，分數要四捨五入到小數第二位。\n",
    "'''\n",
    "sum, num = 0, 0\n",
    "avg = 0.0\n",
    "\n",
    "while (num != -1):\n",
    "    score = float(input('請輸入成績(0 ~ 100)，停止時請輸入-1：') )\n",
    "    if score == -1:\n",
    "        break\n",
    "    sum += score\n",
    "    num += 1\n",
    "avg = float(sum / num)\n",
    "print('平均成績： ' + format(avg, '.2f'))"
   ]
  },
  {
   "cell_type": "code",
   "execution_count": 3,
   "metadata": {},
   "outputs": [
    {
     "name": "stdout",
     "output_type": "stream",
     "text": [
      "April-01-02\n",
      "123,456.7890\n"
     ]
    }
   ],
   "source": [
    "import datetime\n",
    "d = datetime.datetime(2002, 4, 1)\n",
    "print('{:%B-%d-%y}'.format(d))\n",
    "n = 123456.789\n",
    "print('{:,.4f}'.format(n))"
   ]
  },
  {
   "cell_type": "code",
   "execution_count": 5,
   "metadata": {},
   "outputs": [
    {
     "name": "stdout",
     "output_type": "stream",
     "text": [
      "請輸入姓名：Robert\n",
      "請輸入成績：(停止時請輸入-1)78\n",
      "請輸入成績：(停止時請輸入-1)89\n",
      "請輸入成績：(停止時請輸入-1)67\n",
      "請輸入成績：(停止時請輸入-1)89\n",
      "請輸入成績：(停止時請輸入-1)-1\n",
      "Robert    ：平均分數 =  80.8\n"
     ]
    }
   ],
   "source": [
    "'''\n",
    "• 可以接受輸入的使用者姓名。\n",
    "• 可以接受任意筆輸入的整數分數，輸入-1可以結束程式並顯示訊息。\n",
    "• 顯示姓名時會靠左對齊，當姓名少於10個字元會保留空格。\n",
    "• 顯示平均分數時，要在小數點左邊保留三個位置，小數點右邊保留一個位置。\n",
    "\n",
    "'''\n",
    "name = input(\"請輸入姓名：\")\n",
    "score, num ,sum = 0, 0, 0\n",
    "while (score != -1):\n",
    "    score = int(input(\"請輸入成績：(停止時請輸入-1)\"))\n",
    "    if score == -1:\n",
    "        break\n",
    "    sum += score\n",
    "    num += 1\n",
    "    avg = sum / num\n",
    "print(\"%-10s：平均分數 = %5.1f\"%(name, avg))"
   ]
  },
  {
   "cell_type": "code",
   "execution_count": null,
   "metadata": {},
   "outputs": [],
   "source": []
  }
 ],
 "metadata": {
  "kernelspec": {
   "display_name": "Python 3",
   "language": "python",
   "name": "python3"
  },
  "language_info": {
   "codemirror_mode": {
    "name": "ipython",
    "version": 3
   },
   "file_extension": ".py",
   "mimetype": "text/x-python",
   "name": "python",
   "nbconvert_exporter": "python",
   "pygments_lexer": "ipython3",
   "version": "3.7.4"
  }
 },
 "nbformat": 4,
 "nbformat_minor": 2
}
