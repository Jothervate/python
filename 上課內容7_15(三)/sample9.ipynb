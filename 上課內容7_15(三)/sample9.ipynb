{
 "cells": [
  {
   "cell_type": "code",
   "execution_count": null,
   "metadata": {},
   "outputs": [],
   "source": [
    "list1 = ['a', 'b', 'c']\n",
    "print('擴展之前', list1)\n",
    "print('擴展之前長度 =',len(list1))\n",
    "\n",
    "list1.extend(['d','e'])\n",
    "print('擴展之後', list1)\n",
    "print('擴展之後長度 =',len(list1))\n",
    "list1[0]"
   ]
  },
  {
   "cell_type": "code",
   "execution_count": null,
   "metadata": {},
   "outputs": [],
   "source": [
    "citys = ['台北', '台中', '高雄']\n",
    "citys.append('台南')\n",
    "citys"
   ]
  },
  {
   "cell_type": "code",
   "execution_count": null,
   "metadata": {},
   "outputs": [],
   "source": [
    "citys = ['台北', '台中', '高雄', '台南']\n",
    "others = ['花蓮', '台東']\n",
    "citys.extend(others)\n",
    "citys += ['宜蘭', '新竹']\n",
    "citys"
   ]
  },
  {
   "cell_type": "code",
   "execution_count": null,
   "metadata": {},
   "outputs": [],
   "source": [
    "list1 = ['this', 'is', 'list']\n",
    "print(list1)\n",
    "list1.insert(1, 'item')\n",
    "print(list1)\n",
    "list1.insert(88, '88')\n",
    "print(list1)"
   ]
  },
  {
   "cell_type": "code",
   "execution_count": null,
   "metadata": {},
   "outputs": [],
   "source": [
    "citys = ['台北', '台中', '高雄']\n",
    "citys.insert(3, '台南')\n",
    "citys\n",
    "citys.insert(10, '花蓮')\n",
    "citys"
   ]
  },
  {
   "cell_type": "code",
   "execution_count": null,
   "metadata": {},
   "outputs": [],
   "source": [
    "list1 = ['1', 'x', '2', 'x', '3'] \n",
    "list1.remove('x') \n",
    "print(list1)\n"
   ]
  },
  {
   "cell_type": "code",
   "execution_count": null,
   "metadata": {},
   "outputs": [],
   "source": [
    "list1 = ['1', 'x', '2', 'x', '3']\n",
    "list1.pop( ) \n",
    "print(list1)"
   ]
  },
  {
   "cell_type": "code",
   "execution_count": null,
   "metadata": {},
   "outputs": [],
   "source": [
    "list1 = ['1', 'x', '2', 'x', '3']\n",
    "list1.pop(1) \n",
    "print(list1)"
   ]
  },
  {
   "cell_type": "code",
   "execution_count": null,
   "metadata": {},
   "outputs": [],
   "source": [
    "list1 = ['1', 'x', '2', 'x', '3']\n",
    "del list1[:1] \n",
    "print(list1)"
   ]
  },
  {
   "cell_type": "code",
   "execution_count": null,
   "metadata": {},
   "outputs": [],
   "source": [
    "list1 = ['1', 'x', '2', 'x', '3']\n",
    "del list1[2:4] \n",
    "print(list1)"
   ]
  },
  {
   "cell_type": "code",
   "execution_count": null,
   "metadata": {},
   "outputs": [],
   "source": [
    "citys = ['台北', '台中', '高雄', '台南', '花蓮']\n",
    "del citys[-1]\n",
    "citys"
   ]
  },
  {
   "cell_type": "code",
   "execution_count": null,
   "metadata": {},
   "outputs": [],
   "source": [
    "citys = ['台北', '台中', '高雄', '台南', '花蓮'] \n",
    "print(citys[2])\n",
    "del citys[2]\n",
    "print(citys[2])"
   ]
  },
  {
   "cell_type": "code",
   "execution_count": null,
   "metadata": {},
   "outputs": [],
   "source": [
    "citys = ['台北', '台中', '高雄', '台南', '花蓮']\n",
    "citys.index('台中')"
   ]
  },
  {
   "cell_type": "code",
   "execution_count": null,
   "metadata": {},
   "outputs": [],
   "source": [
    "citys = ['台北', '台中', '高雄', '台南', '花蓮']\n",
    "'高雄' in citys"
   ]
  },
  {
   "cell_type": "code",
   "execution_count": null,
   "metadata": {},
   "outputs": [],
   "source": [
    "citys = ['台北', '台中', '高雄', '台南', '花蓮']\n",
    "if '新竹' in citys:\n",
    "    citys.remove('新竹')\n",
    "citys"
   ]
  },
  {
   "cell_type": "code",
   "execution_count": null,
   "metadata": {},
   "outputs": [],
   "source": [
    "citys = ['台北', '台中', '高雄', '台南', '花蓮']\n",
    "print(citys.count('台北'))\n",
    "print(citys.count('新竹'))"
   ]
  },
  {
   "cell_type": "code",
   "execution_count": null,
   "metadata": {},
   "outputs": [],
   "source": [
    "snack = ['蛋糕', '蛋糕', '蛋糕'] \n",
    "snack.count('蛋糕')"
   ]
  },
  {
   "cell_type": "code",
   "execution_count": null,
   "metadata": {},
   "outputs": [],
   "source": [
    "marxes = ['Groucho', 'Chicoo', 'Harpo']\n",
    "marxes = sorted(marxes,reverse=True)\n",
    "marxes"
   ]
  },
  {
   "cell_type": "code",
   "execution_count": null,
   "metadata": {},
   "outputs": [],
   "source": [
    "marxes = ['Groucho', 'Chico', 'Harpo']\n",
    "marxes.sort(reverse=True)\n",
    "marxes"
   ]
  },
  {
   "cell_type": "code",
   "execution_count": null,
   "metadata": {},
   "outputs": [],
   "source": [
    "a = [5, 2, 1, 9, 6] \n",
    "print(sorted(a))\n",
    "print(a)\n",
    "print(sorted(a, reverse=True) ) \n",
    "print(a)\n",
    "a.sort(reverse=True) \n",
    "print(a)"
   ]
  },
  {
   "cell_type": "code",
   "execution_count": null,
   "metadata": {},
   "outputs": [],
   "source": [
    "numbers = [2, 1, 4.0, 3]\n",
    "numbers.sort()\n",
    "numbers"
   ]
  },
  {
   "cell_type": "code",
   "execution_count": 2,
   "metadata": {},
   "outputs": [
    {
     "name": "stdout",
     "output_type": "stream",
     "text": [
      "請輸入數值:5\n",
      "請輸入第1個數值1\n",
      "請輸入第2個數值1\n",
      "請輸入第3個數值1\n",
      "請輸入第4個數值1\n",
      "請輸入第5個數值1\n",
      "1 , 1 , 1 , 1 , 1 , 最小值是: 1\n"
     ]
    }
   ],
   "source": [
    "integers = []\n",
    "nums=int(input('請輸入數值:'))\n",
    "for i in range(nums):\n",
    "    inputNum = int(input('請輸入第%d個數值' % (i+1)))\n",
    "    integers.append(inputNum)\n",
    "\n",
    "integers.sort()\n",
    "\n",
    "for item in integers:\n",
    "    print(item, end=' , ')\n",
    "\n",
    "print(\"最小值是:\", integers[0])"
   ]
  },
  {
   "cell_type": "code",
   "execution_count": 5,
   "metadata": {},
   "outputs": [
    {
     "data": {
      "text/plain": [
       "'surprise'"
      ]
     },
     "execution_count": 5,
     "metadata": {},
     "output_type": "execute_result"
    }
   ],
   "source": [
    "#copy()\n",
    "a=[1,2,3]\n",
    "a\n",
    "b=a\n",
    "a[0] = 'surprise'\n",
    "b[0]"
   ]
  },
  {
   "cell_type": "code",
   "execution_count": 6,
   "metadata": {},
   "outputs": [
    {
     "data": {
      "text/plain": [
       "1"
      ]
     },
     "execution_count": 6,
     "metadata": {},
     "output_type": "execute_result"
    }
   ],
   "source": [
    "a=[1,2,3]\n",
    "b = a.copy()\n",
    "a[0] = 'surprise'\n",
    "b[0]"
   ]
  },
  {
   "cell_type": "code",
   "execution_count": 7,
   "metadata": {},
   "outputs": [
    {
     "data": {
      "text/plain": [
       "()"
      ]
     },
     "execution_count": 7,
     "metadata": {},
     "output_type": "execute_result"
    }
   ],
   "source": [
    "#tuple\n",
    "empty_tuple = ()\n",
    "empty_tuple"
   ]
  },
  {
   "cell_type": "code",
   "execution_count": 11,
   "metadata": {},
   "outputs": [
    {
     "data": {
      "text/plain": [
       "('Groucho',)"
      ]
     },
     "execution_count": 11,
     "metadata": {},
     "output_type": "execute_result"
    }
   ],
   "source": [
    "one_marx = ('Groucho',)\n",
    "one_marx"
   ]
  },
  {
   "cell_type": "code",
   "execution_count": 12,
   "metadata": {},
   "outputs": [
    {
     "data": {
      "text/plain": [
       "('Groucho', 'Chico', 'Harpo')"
      ]
     },
     "execution_count": 12,
     "metadata": {},
     "output_type": "execute_result"
    }
   ],
   "source": [
    "marx_tuple = ('Groucho', 'Chico', 'Harpo')\n",
    "marx_tuple"
   ]
  },
  {
   "cell_type": "code",
   "execution_count": 14,
   "metadata": {},
   "outputs": [
    {
     "name": "stdout",
     "output_type": "stream",
     "text": [
      "Groucho\n",
      "Chico\n",
      "Harpo\n"
     ]
    }
   ],
   "source": [
    "#把tuple的值, 折解至變數內\n",
    "marx_tuple = ('Groucho', 'Chico', 'Harpo')\n",
    "a , b, c = marx_tuple\n",
    "print(a)\n",
    "print(b)\n",
    "print(c)"
   ]
  },
  {
   "cell_type": "code",
   "execution_count": null,
   "metadata": {},
   "outputs": [],
   "source": []
  }
 ],
 "metadata": {
  "kernelspec": {
   "display_name": "Python 3",
   "language": "python",
   "name": "python3"
  },
  "language_info": {
   "codemirror_mode": {
    "name": "ipython",
    "version": 3
   },
   "file_extension": ".py",
   "mimetype": "text/x-python",
   "name": "python",
   "nbconvert_exporter": "python",
   "pygments_lexer": "ipython3",
   "version": "3.7.4"
  }
 },
 "nbformat": 4,
 "nbformat_minor": 2
}
