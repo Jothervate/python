{
 "cells": [
  {
   "cell_type": "code",
   "execution_count": 3,
   "metadata": {},
   "outputs": [
    {
     "name": "stdout",
     "output_type": "stream",
     "text": [
      "需要兩個數值\n"
     ]
    }
   ],
   "source": [
    "def divide(num1, num2):\n",
    "    if num1 is None or num2 is None :\n",
    "        print(\"需要兩個數值\")\n",
    "    elif num2 == 0:\n",
    "        print(\"分母不能為零\")\n",
    "    else:\n",
    "        return num1 / num2\n",
    "    \n",
    "divide(5,None)"
   ]
  },
  {
   "cell_type": "code",
   "execution_count": 5,
   "metadata": {},
   "outputs": [
    {
     "name": "stdout",
     "output_type": "stream",
     "text": [
      "PBBC"
     ]
    }
   ],
   "source": [
    "a = 4\n",
    "while a >= 1:\n",
    "    if a % 4 == 0:\n",
    "        print(\"P\",end='')\n",
    "    elif a - 2 < 0:\n",
    "        print(\"C\", end='')\n",
    "    elif a / 3 == 0:\n",
    "        print(\"G\", end='')\n",
    "    else:\n",
    "        print(\"B\", end='')\n",
    "    a = a-1"
   ]
  },
  {
   "cell_type": "code",
   "execution_count": null,
   "metadata": {},
   "outputs": [],
   "source": []
  }
 ],
 "metadata": {
  "kernelspec": {
   "display_name": "Python 3",
   "language": "python",
   "name": "python3"
  },
  "language_info": {
   "codemirror_mode": {
    "name": "ipython",
    "version": 3
   },
   "file_extension": ".py",
   "mimetype": "text/x-python",
   "name": "python",
   "nbconvert_exporter": "python",
   "pygments_lexer": "ipython3",
   "version": "3.7.4"
  }
 },
 "nbformat": 4,
 "nbformat_minor": 2
}
