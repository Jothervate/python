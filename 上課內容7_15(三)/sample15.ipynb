{
 "cells": [
  {
   "cell_type": "code",
   "execution_count": 3,
   "metadata": {},
   "outputs": [
    {
     "name": "stdout",
     "output_type": "stream",
     "text": [
      "需要兩個數值\n"
     ]
    }
   ],
   "source": [
    "def divide(num1, num2):\n",
    "    if num1 is None or num2 is None :\n",
    "        print(\"需要兩個數值\")\n",
    "    elif num2 == 0:\n",
    "        print(\"分母不能為零\")\n",
    "    else:\n",
    "        return num1 / num2\n",
    "    \n",
    "divide(5,None)"
   ]
  },
  {
   "cell_type": "code",
   "execution_count": 5,
   "metadata": {},
   "outputs": [
    {
     "name": "stdout",
     "output_type": "stream",
     "text": [
      "PBBC"
     ]
    }
   ],
   "source": [
    "a = 4\n",
    "while a >= 1:\n",
    "    if a % 4 == 0:\n",
    "        print(\"P\",end='')\n",
    "    elif a - 2 < 0:\n",
    "        print(\"C\", end='')\n",
    "    elif a / 3 == 0:\n",
    "        print(\"G\", end='')\n",
    "    else:\n",
    "        print(\"B\", end='')\n",
    "    a = a-1"
   ]
  },
  {
   "cell_type": "code",
   "execution_count": 8,
   "metadata": {},
   "outputs": [
    {
     "data": {
      "text/plain": [
       "True"
      ]
     },
     "execution_count": 8,
     "metadata": {},
     "output_type": "execute_result"
    }
   ],
   "source": [
    "list1 = ['a', 'b', 'c']\n",
    "list2 = ['a', 'b', 'c']\n",
    "list1 is list2\n",
    "list1 == list2"
   ]
  },
  {
   "cell_type": "code",
   "execution_count": 7,
   "metadata": {},
   "outputs": [
    {
     "data": {
      "text/plain": [
       "True"
      ]
     },
     "execution_count": 7,
     "metadata": {},
     "output_type": "execute_result"
    }
   ],
   "source": [
    "list1 = ['a', 'b', 'c']\n",
    "list2 = list1\n",
    "list1 is list2"
   ]
  },
  {
   "cell_type": "code",
   "execution_count": 12,
   "metadata": {},
   "outputs": [
    {
     "name": "stdout",
     "output_type": "stream",
     "text": [
      "False\n",
      "False\n",
      "True\n",
      "True\n"
     ]
    }
   ],
   "source": [
    "list1 = ['a', 'b', 'c', 'd']\n",
    "list2 = ['A', 'B', 'C', 'D']\n",
    "print(list1 is list2)\n",
    "print(list1 == list2)\n",
    "list1 = list2\n",
    "print(list1 is list2)\n",
    "print(list1 == list2)"
   ]
  },
  {
   "cell_type": "code",
   "execution_count": 17,
   "metadata": {},
   "outputs": [
    {
     "name": "stdout",
     "output_type": "stream",
     "text": [
      "請輸入分數52\n",
      "成績等級為： 丁\n"
     ]
    }
   ],
   "source": [
    "score = int(input(\"請輸入分數\"))\n",
    "if score >= 90:\n",
    "    grade = '優'\n",
    "elif score >= 80:\n",
    "    grade = '甲'\n",
    "elif score >= 70:\n",
    "    grade = '乙'\n",
    "elif score >=60:\n",
    "    grade = '丙'\n",
    "else:\n",
    "    grade = '丁'\n",
    "print(\"成績等級為：\",grade)\n"
   ]
  },
  {
   "cell_type": "code",
   "execution_count": 21,
   "metadata": {},
   "outputs": [
    {
     "data": {
      "text/plain": [
       "'輔導級'"
      ]
     },
     "execution_count": 21,
     "metadata": {},
     "output_type": "execute_result"
    }
   ],
   "source": [
    "def movie(age = None):\n",
    "    rating = \"\"\n",
    "    if age == None: rating = \"普遍級\"\n",
    "    elif age < 13: rating = \"普遍級\"\n",
    "    elif age < 18: rating = \"輔導級\"\n",
    "    else: rating = \"限制級\"\n",
    "    return rating\n",
    "\n",
    "movie(16)"
   ]
  },
  {
   "cell_type": "code",
   "execution_count": 25,
   "metadata": {},
   "outputs": [
    {
     "data": {
      "text/plain": [
       "-1.4422495703074083"
      ]
     },
     "execution_count": 25,
     "metadata": {},
     "output_type": "execute_result"
    }
   ],
   "source": [
    "def get_root(x, y):\n",
    "    if x >= 0:\n",
    "        root = x ** (1/y)\n",
    "    else:\n",
    "        if x % 2 == 0:\n",
    "            root = \"虛數\"\n",
    "        else:\n",
    "            root = -(-x) ** (1/y)\n",
    "    return root\n",
    "\n",
    "get_root(-3, 3)"
   ]
  },
  {
   "cell_type": "code",
   "execution_count": 30,
   "metadata": {},
   "outputs": [
    {
     "name": "stdout",
     "output_type": "stream",
     "text": [
      "0\n",
      "100\n",
      "200\n",
      "300\n"
     ]
    }
   ],
   "source": [
    "'''\n",
    "4下列為遊樂場門票費用的函式，門票費用的規則如下：\n",
    "\n",
    "• 5(不含)歲以下免費入場。\n",
    "• 5(含)歲以上的當地居民門票為100元。\n",
    "• 5 ~ 17歲的非當地居民門票為200元。\n",
    "• 18(含)歲的非當地居民門票為300元。\n",
    "'''\n",
    "\n",
    "def price(age, locate):\n",
    "    money = 0\n",
    "    if age >=5 and locate == True:\n",
    "        money = 100\n",
    "    elif age >=5 and locate == False:\n",
    "        if age <= 17:\n",
    "            money = 200\n",
    "        else:\n",
    "            money = 300\n",
    "    return money\n",
    "\n",
    "print(price(4,locate=True))\n",
    "print(price(5,locate=True))\n",
    "print(price(5,locate=False))\n",
    "print(price(18,locate=False))"
   ]
  },
  {
   "cell_type": "code",
   "execution_count": 32,
   "metadata": {},
   "outputs": [
    {
     "name": "stdout",
     "output_type": "stream",
     "text": [
      "請輸入整數：-3\n",
      "-3 是 一位數\n"
     ]
    }
   ],
   "source": [
    "'''\n",
    "下列為檢查輸入整數位數的程式碼，請回答以下問題來完成程式：\n",
    "'''\n",
    "\n",
    "n = int(input('請輸入整數：'))\n",
    "if n > -10 and n < 10:\n",
    "    digit = \"一\"\n",
    "elif n > -100 and n < 100:\n",
    "    digit = \"二\"\n",
    "else:\n",
    "    digit = \"大於二\"\n",
    "\n",
    "print(n, \"是\", digit + \"位數\")"
   ]
  },
  {
   "cell_type": "code",
   "execution_count": null,
   "metadata": {},
   "outputs": [],
   "source": []
  }
 ],
 "metadata": {
  "kernelspec": {
   "display_name": "Python 3",
   "language": "python",
   "name": "python3"
  },
  "language_info": {
   "codemirror_mode": {
    "name": "ipython",
    "version": 3
   },
   "file_extension": ".py",
   "mimetype": "text/x-python",
   "name": "python",
   "nbconvert_exporter": "python",
   "pygments_lexer": "ipython3",
   "version": "3.7.4"
  }
 },
 "nbformat": 4,
 "nbformat_minor": 2
}
