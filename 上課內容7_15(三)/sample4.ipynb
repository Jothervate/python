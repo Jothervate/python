{
 "cells": [
  {
   "cell_type": "code",
   "execution_count": 2,
   "metadata": {},
   "outputs": [
    {
     "name": "stdout",
     "output_type": "stream",
     "text": [
      "請輸入您的age:17\n",
      "您的age是17,所有您沒有投票權\n",
      "程式執行完畢\n"
     ]
    }
   ],
   "source": [
    "age = int(input(\"請輸入您的age:\"))\n",
    "if age >= 18:\n",
    "    print(\"您的age是%d,所有您有投票權\" % age)\n",
    "else:\n",
    "    print(\"您的age是%d,所有您沒有投票權\" % age)\n",
    "    \n",
    "print(\"程式執行完畢\")"
   ]
  },
  {
   "cell_type": "code",
   "execution_count": 2,
   "metadata": {},
   "outputs": [
    {
     "name": "stdout",
     "output_type": "stream",
     "text": [
      "請輸入密碼:1234\n",
      "密碼正確!\n",
      "歡迎光臨\n",
      "程式執行完畢\n"
     ]
    }
   ],
   "source": [
    "password = input('請輸入密碼:')\n",
    "if password == '1234':\n",
    "    print('密碼正確!\\n歡迎光臨')\n",
    "else:\n",
    "    print('密碼錯誤!\\n請重新輸入')\n",
    "    \n",
    "print(\"程式執行完畢\")"
   ]
  },
  {
   "cell_type": "code",
   "execution_count": 4,
   "metadata": {},
   "outputs": [
    {
     "name": "stdout",
     "output_type": "stream",
     "text": [
      "請輸入購買金額:130000\n",
      "實付金額是:104000.00元\n"
     ]
    }
   ],
   "source": [
    "money = int(input('請輸入購買金額:'))\n",
    "if money >= 100000:\n",
    "    payMoney = money * 0.8\n",
    "elif money >= 50000:\n",
    "    payMoney = money * 0.85\n",
    "elif money >= 30000:\n",
    "    payMoney = money * 0.9\n",
    "elif money >= 10000:\n",
    "    payMoney = money * 0.95\n",
    "else:\n",
    "    payMoney = money * 1.0\n",
    "\n",
    "print(\"實付金額是:%.2f元\" % payMoney)\n"
   ]
  },
  {
   "cell_type": "code",
   "execution_count": 7,
   "metadata": {},
   "outputs": [
    {
     "name": "stdout",
     "output_type": "stream",
     "text": [
      "請輸入12~18之間的數值:17\n",
      "輸入範圍正確\n"
     ]
    }
   ],
   "source": [
    "a = int(input('請輸入12~18之間的數值:'))\n",
    "if a>=12 and a<=18:\n",
    "    print(\"輸入範圍正確\")\n",
    "else:\n",
    "    print(\"輸入範圍不正確\")\n"
   ]
  },
  {
   "cell_type": "code",
   "execution_count": 9,
   "metadata": {},
   "outputs": [
    {
     "name": "stdout",
     "output_type": "stream",
     "text": [
      "請輸入小於12 大於18的數值:17\n",
      "輸入範圍不正確\n"
     ]
    }
   ],
   "source": [
    "b = int(input('請輸入小於12 大於18的數值:'))\n",
    "if b<12 or b>18:\n",
    "    print(\"輸入範圍正確\")\n",
    "else:\n",
    "    print(\"輸入範圍不正確\")"
   ]
  },
  {
   "cell_type": "code",
   "execution_count": null,
   "metadata": {},
   "outputs": [],
   "source": []
  }
 ],
 "metadata": {
  "kernelspec": {
   "display_name": "Python 3",
   "language": "python",
   "name": "python3"
  },
  "language_info": {
   "codemirror_mode": {
    "name": "ipython",
    "version": 3
   },
   "file_extension": ".py",
   "mimetype": "text/x-python",
   "name": "python",
   "nbconvert_exporter": "python",
   "pygments_lexer": "ipython3",
   "version": "3.7.4"
  }
 },
 "nbformat": 4,
 "nbformat_minor": 2
}
