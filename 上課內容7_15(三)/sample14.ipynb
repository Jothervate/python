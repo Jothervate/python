{
 "cells": [
  {
   "cell_type": "code",
   "execution_count": 1,
   "metadata": {},
   "outputs": [
    {
     "data": {
      "text/plain": [
       "'DEFGHIJKLMNO'"
      ]
     },
     "execution_count": 1,
     "metadata": {},
     "output_type": "execute_result"
    }
   ],
   "source": [
    "word = 'ABCDEFGHIJKLMNOPQRSTUVWXYZ'\n",
    "word[3:15]"
   ]
  },
  {
   "cell_type": "code",
   "execution_count": 2,
   "metadata": {},
   "outputs": [
    {
     "data": {
      "text/plain": [
       "'DGJM'"
      ]
     },
     "execution_count": 2,
     "metadata": {},
     "output_type": "execute_result"
    }
   ],
   "source": [
    "word[3:15:3]"
   ]
  },
  {
   "cell_type": "code",
   "execution_count": 3,
   "metadata": {},
   "outputs": [
    {
     "data": {
      "text/plain": [
       "''"
      ]
     },
     "execution_count": 3,
     "metadata": {},
     "output_type": "execute_result"
    }
   ],
   "source": [
    "word[3:15:-3]"
   ]
  },
  {
   "cell_type": "code",
   "execution_count": 4,
   "metadata": {},
   "outputs": [
    {
     "data": {
      "text/plain": [
       "'PMJG'"
      ]
     },
     "execution_count": 4,
     "metadata": {},
     "output_type": "execute_result"
    }
   ],
   "source": [
    "word[15:3:-3]"
   ]
  },
  {
   "cell_type": "code",
   "execution_count": 9,
   "metadata": {},
   "outputs": [
    {
     "data": {
      "text/plain": [
       "'PONMLKJIHGFE'"
      ]
     },
     "execution_count": 9,
     "metadata": {},
     "output_type": "execute_result"
    }
   ],
   "source": [
    "word[15:3]"
   ]
  },
  {
   "cell_type": "code",
   "execution_count": 7,
   "metadata": {},
   "outputs": [
    {
     "data": {
      "text/plain": [
       "'ZWTQNKHEB'"
      ]
     },
     "execution_count": 7,
     "metadata": {},
     "output_type": "execute_result"
    }
   ],
   "source": [
    "word[::-3]"
   ]
  },
  {
   "cell_type": "code",
   "execution_count": 18,
   "metadata": {},
   "outputs": [
    {
     "data": {
      "text/plain": [
       "['stu1',\n",
       " 'stu2',\n",
       " 'stu3',\n",
       " 'stu4',\n",
       " 'stu5',\n",
       " 'stu6',\n",
       " 'stu7',\n",
       " 'stu8',\n",
       " 'stu9',\n",
       " 'stu10',\n",
       " 'stu11',\n",
       " 'stu12',\n",
       " 'stu13',\n",
       " 'stu14',\n",
       " 'stu15',\n",
       " 'stu16',\n",
       " 'stu17',\n",
       " 'stu18',\n",
       " 'stu19',\n",
       " 'stu20',\n",
       " 'stu21',\n",
       " 'stu22',\n",
       " 'stu23',\n",
       " 'stu24',\n",
       " 'stu25',\n",
       " 'stu26',\n",
       " 'stu27',\n",
       " 'stu28',\n",
       " 'stu29',\n",
       " 'stu30',\n",
       " 'stu31',\n",
       " 'stu32',\n",
       " 'stu33',\n",
       " 'stu34',\n",
       " 'stu35',\n",
       " 'stu36',\n",
       " 'stu37',\n",
       " 'stu38',\n",
       " 'stu39',\n",
       " 'stu40',\n",
       " 'stu41',\n",
       " 'stu42',\n",
       " 'stu43',\n",
       " 'stu44',\n",
       " 'stu45',\n",
       " 'stu46',\n",
       " 'stu47',\n",
       " 'stu48',\n",
       " 'stu49',\n",
       " 'stu50',\n",
       " 'stu51',\n",
       " 'stu52',\n",
       " 'stu53',\n",
       " 'stu54',\n",
       " 'stu55',\n",
       " 'stu56',\n",
       " 'stu57',\n",
       " 'stu58',\n",
       " 'stu59',\n",
       " 'stu60',\n",
       " 'stu61',\n",
       " 'stu62',\n",
       " 'stu63',\n",
       " 'stu64',\n",
       " 'stu65',\n",
       " 'stu66',\n",
       " 'stu67',\n",
       " 'stu68',\n",
       " 'stu69',\n",
       " 'stu70',\n",
       " 'stu71',\n",
       " 'stu72',\n",
       " 'stu73',\n",
       " 'stu74',\n",
       " 'stu75',\n",
       " 'stu76',\n",
       " 'stu77',\n",
       " 'stu78',\n",
       " 'stu79',\n",
       " 'stu80',\n",
       " 'stu81',\n",
       " 'stu82',\n",
       " 'stu83',\n",
       " 'stu84',\n",
       " 'stu85']"
      ]
     },
     "execution_count": 18,
     "metadata": {},
     "output_type": "execute_result"
    }
   ],
   "source": [
    "'''\n",
    "students = []\n",
    "for i in range(1,101):\n",
    "    name = 'stu%d' % i\n",
    "    students.append(name)\n",
    "'''\n",
    "#comprehension(快速建立串列資料)\n",
    "students = ['stu%d'%i for i in range(1,101)]   \n",
    "students[:10]\n",
    "students[-10:]\n",
    "students[:-15]"
   ]
  },
  {
   "cell_type": "code",
   "execution_count": null,
   "metadata": {},
   "outputs": [],
   "source": []
  }
 ],
 "metadata": {
  "kernelspec": {
   "display_name": "Python 3",
   "language": "python",
   "name": "python3"
  },
  "language_info": {
   "codemirror_mode": {
    "name": "ipython",
    "version": 3
   },
   "file_extension": ".py",
   "mimetype": "text/x-python",
   "name": "python",
   "nbconvert_exporter": "python",
   "pygments_lexer": "ipython3",
   "version": "3.7.4"
  }
 },
 "nbformat": 4,
 "nbformat_minor": 2
}
